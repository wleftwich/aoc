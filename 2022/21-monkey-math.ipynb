{
 "cells": [
  {
   "cell_type": "markdown",
   "source": [
    "https://adventofcode.com/2022/day/21\n",
    "\n",
    "Does using networkx make it too easy? Nah."
   ],
   "metadata": {
    "collapsed": false
   }
  },
  {
   "cell_type": "code",
   "execution_count": 20,
   "outputs": [],
   "source": [
    "import operator\n",
    "from math import isnan\n",
    "\n",
    "import networkx as nx\n",
    "\n",
    "NaN = float(\"NaN\")"
   ],
   "metadata": {
    "collapsed": false
   }
  },
  {
   "cell_type": "code",
   "execution_count": 2,
   "outputs": [],
   "source": [
    "with open(\"data/21.txt\") as fh:\n",
    "    data = fh.read()"
   ],
   "metadata": {
    "collapsed": false
   }
  },
  {
   "cell_type": "code",
   "execution_count": 3,
   "outputs": [],
   "source": [
    "testdata = \"\"\"\\\n",
    "root: pppw + sjmn\n",
    "dbpl: 5\n",
    "cczh: sllz + lgvd\n",
    "zczc: 2\n",
    "ptdq: humn - dvpt\n",
    "dvpt: 3\n",
    "lfqf: 4\n",
    "humn: 5\n",
    "ljgn: 2\n",
    "sjmn: drzm * dbpl\n",
    "sllz: 4\n",
    "pppw: cczh / lfqf\n",
    "lgvd: ljgn * ptdq\n",
    "drzm: hmdt - zczc\n",
    "hmdt: 32\n",
    "\"\"\""
   ],
   "metadata": {
    "collapsed": false
   }
  },
  {
   "cell_type": "code",
   "execution_count": 68,
   "outputs": [],
   "source": [
    "ops = {\n",
    "    \"+\": operator.add,\n",
    "    \"-\": operator.sub,\n",
    "    \"*\": operator.mul,\n",
    "    \"/\": operator.truediv,\n",
    "    \"=\": operator.eq,\n",
    "}\n",
    "\n",
    "\n",
    "def load_graph(data):\n",
    "    g = nx.DiGraph()\n",
    "    for line in data.strip().splitlines():\n",
    "        node, rest = line.split(\": \")\n",
    "        remainder = rest.split()\n",
    "        if len(remainder) == 1:\n",
    "            g.add_node(node, value=int(remainder[0]))\n",
    "        elif len(remainder) == 3:\n",
    "            p1, op, p2 = remainder\n",
    "            g.add_node(node, value=NaN, formula=(op, p1, p2))\n",
    "            g.add_edge(p1, node)\n",
    "            g.add_edge(p2, node)\n",
    "        else:\n",
    "            raise ValueError(remainder)\n",
    "    return g"
   ],
   "metadata": {
    "collapsed": false
   }
  },
  {
   "cell_type": "code",
   "execution_count": 69,
   "outputs": [
    {
     "name": "stdout",
     "output_type": "stream",
     "text": [
      "CPU times: user 369 µs, sys: 0 ns, total: 369 µs\n",
      "Wall time: 384 µs\n"
     ]
    },
    {
     "data": {
      "text/plain": "152.0"
     },
     "execution_count": 69,
     "metadata": {},
     "output_type": "execute_result"
    }
   ],
   "source": [
    "%%time\n",
    "g = load_graph(testdata)\n",
    "nodes = nx.nodes(g)\n",
    "for n in nx.topological_sort(g):\n",
    "    node = nodes[n]\n",
    "    if isnan(node[\"value\"]):\n",
    "        op, p1, p2 = node[\"formula\"]\n",
    "        node[\"value\"] = ops[op](nodes[p1][\"value\"], nodes[p2][\"value\"])\n",
    "nodes[\"root\"][\"value\"]"
   ],
   "metadata": {
    "collapsed": false
   }
  },
  {
   "cell_type": "code",
   "execution_count": 71,
   "outputs": [
    {
     "name": "stdout",
     "output_type": "stream",
     "text": [
      "CPU times: user 19.5 ms, sys: 0 ns, total: 19.5 ms\n",
      "Wall time: 18.9 ms\n"
     ]
    },
    {
     "data": {
      "text/plain": "38731621732448.0"
     },
     "execution_count": 71,
     "metadata": {},
     "output_type": "execute_result"
    }
   ],
   "source": [
    "%%time\n",
    "g = load_graph(data)\n",
    "nodes = nx.nodes(g)\n",
    "for n in nx.topological_sort(g):\n",
    "    node = nodes[n]\n",
    "    if isnan(node[\"value\"]):\n",
    "        op, p1, p2 = node[\"formula\"]\n",
    "        node[\"value\"] = ops[op](nodes[p1][\"value\"], nodes[p2][\"value\"])\n",
    "nodes[\"root\"][\"value\"]"
   ],
   "metadata": {
    "collapsed": false
   }
  },
  {
   "cell_type": "markdown",
   "source": [
    "Part 2"
   ],
   "metadata": {
    "collapsed": false
   }
  },
  {
   "cell_type": "code",
   "execution_count": 162,
   "outputs": [],
   "source": [
    "def make_solvers():\n",
    "    def add(a, b, c):\n",
    "        \"\"\"a + b = c\"\"\"\n",
    "        if isnan(a):\n",
    "            return c - b, b\n",
    "        else:\n",
    "            return a, c - a\n",
    "\n",
    "    def sub(a, b, c):\n",
    "        \"\"\"a - b = c\"\"\"\n",
    "        if isnan(a):\n",
    "            return b + c, b\n",
    "        else:\n",
    "            return a, a - c\n",
    "\n",
    "    def mul(a, b, c):\n",
    "        \"\"\"a * b = c\"\"\"\n",
    "        if isnan(a):\n",
    "            return c / b, b\n",
    "        else:\n",
    "            return a, c / a\n",
    "\n",
    "    def div(a, b, c):\n",
    "        \"\"\"a / b = c\"\"\"\n",
    "        if isnan(a):\n",
    "            return b * c, b\n",
    "        else:\n",
    "            return a, a / c\n",
    "\n",
    "    def eq(a, b, c):\n",
    "        if isnan(a):\n",
    "            return b, b, b == b\n",
    "        else:\n",
    "            return a, a, a == a\n",
    "\n",
    "    return {\n",
    "        \"+\": add,\n",
    "        \"-\": sub,\n",
    "        \"*\": mul,\n",
    "        \"/\": div,\n",
    "        \"=\": eq,\n",
    "    }\n",
    "\n",
    "\n",
    "solvers = make_solvers()"
   ],
   "metadata": {
    "collapsed": false
   }
  },
  {
   "cell_type": "code",
   "execution_count": 189,
   "outputs": [
    {
     "name": "stdout",
     "output_type": "stream",
     "text": [
      "CPU times: user 77 µs, sys: 11 µs, total: 88 µs\n",
      "Wall time: 93 µs\n"
     ]
    }
   ],
   "source": [
    "%%time\n",
    "g = load_graph(testdata)\n",
    "nodes = nx.nodes(g)"
   ],
   "metadata": {
    "collapsed": false
   }
  },
  {
   "cell_type": "code",
   "execution_count": 190,
   "outputs": [],
   "source": [
    "nodes[\"humn\"][\"value\"] = NaN"
   ],
   "metadata": {
    "collapsed": false
   }
  },
  {
   "cell_type": "code",
   "execution_count": 191,
   "outputs": [],
   "source": [
    "root = nodes[\"root\"]\n",
    "oldop, p1, p2 = root[\"formula\"]\n",
    "root[\"formula\"] = (\"=\", p1, p2)"
   ],
   "metadata": {
    "collapsed": false
   }
  },
  {
   "cell_type": "code",
   "execution_count": 192,
   "outputs": [],
   "source": [
    "for n in nx.topological_sort(g):\n",
    "    node = nodes[n]\n",
    "    if isnan(node[\"value\"]):\n",
    "        try:\n",
    "            op, p1, p2 = node[\"formula\"]\n",
    "        except KeyError:\n",
    "            pass\n",
    "        else:\n",
    "            node[\"value\"] = ops[op](nodes[p1][\"value\"], nodes[p2][\"value\"])"
   ],
   "metadata": {
    "collapsed": false
   }
  },
  {
   "cell_type": "code",
   "execution_count": 194,
   "outputs": [
    {
     "data": {
      "text/plain": "['pppw', 'sjmn']"
     },
     "execution_count": 194,
     "metadata": {},
     "output_type": "execute_result"
    }
   ],
   "source": [
    "list(g.predecessors(\"root\"))"
   ],
   "metadata": {
    "collapsed": false
   }
  },
  {
   "cell_type": "code",
   "execution_count": 195,
   "outputs": [
    {
     "data": {
      "text/plain": "({'value': nan, 'formula': ('/', 'cczh', 'lfqf')},\n {'value': 150, 'formula': ('*', 'drzm', 'dbpl')})"
     },
     "execution_count": 195,
     "metadata": {},
     "output_type": "execute_result"
    }
   ],
   "source": [
    "nodes[\"pppw\"], nodes[\"sjmn\"]"
   ],
   "metadata": {
    "collapsed": false
   }
  },
  {
   "cell_type": "code",
   "execution_count": 196,
   "outputs": [],
   "source": [
    "starter = \"pppw\"\n",
    "nodes[starter][\"value\"] = 150"
   ],
   "metadata": {
    "collapsed": false
   }
  },
  {
   "cell_type": "code",
   "execution_count": 207,
   "outputs": [
    {
     "name": "stdout",
     "output_type": "stream",
     "text": [
      "humn = 301.0\n"
     ]
    }
   ],
   "source": [
    "L = []\n",
    "it = nx.bfs_successors(g.reverse(copy=False), starter)\n",
    "for n, *_ in it:\n",
    "    node = nodes[n]\n",
    "    c = node[\"value\"]\n",
    "    if isnan(c):\n",
    "        L.append(n)\n",
    "        continue\n",
    "    op, p1, p2 = node[\"formula\"]\n",
    "    pa = nodes[p1]\n",
    "    a = pa[\"value\"]\n",
    "    pb = nodes[p2]\n",
    "    b = pb[\"value\"]\n",
    "    if not (isnan(a) or isnan(b)):\n",
    "        continue\n",
    "    if isnan(a) and isnan(b):\n",
    "        L.append(n)\n",
    "        continue\n",
    "    a1, b1 = solvers[op](a, b, c)\n",
    "    pa[\"value\"] = a1\n",
    "    pb[\"value\"] = b1\n",
    "\n",
    "print(f\"humn = {nodes['humn']['value']}\")"
   ],
   "metadata": {
    "collapsed": false
   }
  },
  {
   "cell_type": "code",
   "execution_count": 216,
   "outputs": [
    {
     "name": "stdout",
     "output_type": "stream",
     "text": [
      "CPU times: user 14.4 ms, sys: 0 ns, total: 14.4 ms\n",
      "Wall time: 13.3 ms\n"
     ]
    }
   ],
   "source": [
    "%%time\n",
    "g = load_graph(data)\n",
    "nodes = nx.nodes(g)"
   ],
   "metadata": {
    "collapsed": false
   }
  },
  {
   "cell_type": "code",
   "execution_count": 217,
   "outputs": [],
   "source": [
    "nodes[\"humn\"][\"value\"] = NaN"
   ],
   "metadata": {
    "collapsed": false
   }
  },
  {
   "cell_type": "code",
   "execution_count": 218,
   "outputs": [],
   "source": [
    "root = nodes[\"root\"]\n",
    "oldop, p1, p2 = root[\"formula\"]\n",
    "root[\"formula\"] = (\"=\", p1, p2)"
   ],
   "metadata": {
    "collapsed": false
   }
  },
  {
   "cell_type": "code",
   "execution_count": 219,
   "outputs": [],
   "source": [
    "for n in nx.topological_sort(g):\n",
    "    node = nodes[n]\n",
    "    if isnan(node[\"value\"]):\n",
    "        try:\n",
    "            op, p1, p2 = node[\"formula\"]\n",
    "        except KeyError:\n",
    "            pass\n",
    "        else:\n",
    "            node[\"value\"] = ops[op](nodes[p1][\"value\"], nodes[p2][\"value\"])"
   ],
   "metadata": {
    "collapsed": false
   }
  },
  {
   "cell_type": "code",
   "execution_count": 220,
   "outputs": [
    {
     "data": {
      "text/plain": "['lsbv', 'bsgz']"
     },
     "execution_count": 220,
     "metadata": {},
     "output_type": "execute_result"
    }
   ],
   "source": [
    "list(g.predecessors(\"root\"))"
   ],
   "metadata": {
    "collapsed": false
   }
  },
  {
   "cell_type": "code",
   "execution_count": 221,
   "outputs": [
    {
     "data": {
      "text/plain": "({'value': nan, 'formula': ('*', 'mgtt', 'lvcj')},\n {'value': 2228768553328.0, 'formula': ('*', 'dsbn', 'mmwh')})"
     },
     "execution_count": 221,
     "metadata": {},
     "output_type": "execute_result"
    }
   ],
   "source": [
    "nodes[\"lsbv\"], nodes[\"bsgz\"]"
   ],
   "metadata": {
    "collapsed": false
   }
  },
  {
   "cell_type": "code",
   "execution_count": 222,
   "outputs": [],
   "source": [
    "starter = \"lsbv\"\n",
    "nodes[starter][\"value\"] = 2228768553328"
   ],
   "metadata": {
    "collapsed": false
   }
  },
  {
   "cell_type": "code",
   "execution_count": 229,
   "outputs": [
    {
     "name": "stdout",
     "output_type": "stream",
     "text": [
      "humn = 3848301405790.0\n",
      "0 nodes could not be solved\n",
      "CPU times: user 5.21 ms, sys: 127 µs, total: 5.33 ms\n",
      "Wall time: 4.99 ms\n"
     ]
    }
   ],
   "source": [
    "%%time\n",
    "L = []\n",
    "it = nx.bfs_successors(g.reverse(copy=False), starter)\n",
    "for n, *_ in it:\n",
    "    node = nodes[n]\n",
    "    c = node[\"value\"]\n",
    "    if isnan(c):\n",
    "        L.append(n)\n",
    "        continue\n",
    "    op, p1, p2 = node[\"formula\"]\n",
    "    pa = nodes[p1]\n",
    "    a = pa[\"value\"]\n",
    "    pb = nodes[p2]\n",
    "    b = pb[\"value\"]\n",
    "    if not (isnan(a) or isnan(b)):\n",
    "        continue\n",
    "    if isnan(a) and isnan(b):\n",
    "        L.append(n)\n",
    "        continue\n",
    "    a1, b1 = solvers[op](a, b, c)\n",
    "    pa[\"value\"] = a1\n",
    "    pb[\"value\"] = b1\n",
    "\n",
    "print(f\"humn = {nodes['humn']['value']}\")\n",
    "print(f\"{len(L)} nodes could not be solved\")"
   ],
   "metadata": {
    "collapsed": false
   }
  }
 ],
 "metadata": {
  "kernelspec": {
   "display_name": "Python 3",
   "language": "python",
   "name": "python3"
  },
  "language_info": {
   "codemirror_mode": {
    "name": "ipython",
    "version": 2
   },
   "file_extension": ".py",
   "mimetype": "text/x-python",
   "name": "python",
   "nbconvert_exporter": "python",
   "pygments_lexer": "ipython2",
   "version": "2.7.6"
  }
 },
 "nbformat": 4,
 "nbformat_minor": 0
}
