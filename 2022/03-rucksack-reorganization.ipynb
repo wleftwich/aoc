{
 "cells": [
  {
   "cell_type": "markdown",
   "source": [
    "https://adventofcode.com/2022/day/3"
   ],
   "metadata": {
    "collapsed": false
   }
  },
  {
   "cell_type": "code",
   "execution_count": 1,
   "outputs": [],
   "source": [
    "import string\n",
    "\n",
    "from toolz import reduce, partition_all"
   ],
   "metadata": {
    "collapsed": false
   }
  },
  {
   "cell_type": "code",
   "execution_count": 2,
   "outputs": [],
   "source": [
    "with open(\"data/03.txt\") as fh:\n",
    "    rucksacks = [y for y in (x.strip() for x in fh) if y]"
   ],
   "metadata": {
    "collapsed": false
   }
  },
  {
   "cell_type": "code",
   "execution_count": 3,
   "outputs": [
    {
     "data": {
      "text/plain": "(300,\n ['jVTBgVbgJQVrTLRRsLvRzWcZvnDs',\n  'dhtmhfdfNlNNldfqmPCflqGbNZDHsDWcRzvczWsczZNzHz',\n  'tmwwwCCfbJSMbwMb'],\n ['NGWdQgDDHGJgQLznzzsJFFzvzB',\n  'twRCpZVjVWqVSqVwwjtZfrrfntfvznBssBncfLrc',\n  'jRRwCqwCZhlhZRpSZpjSqWwqmDMQdMmHPQQMHGdlHdTldNGd'])"
     },
     "execution_count": 3,
     "metadata": {},
     "output_type": "execute_result"
    }
   ],
   "source": [
    "len(rucksacks), rucksacks[:3], rucksacks[-3:]"
   ],
   "metadata": {
    "collapsed": false
   }
  },
  {
   "cell_type": "code",
   "execution_count": 4,
   "outputs": [],
   "source": [
    "compartments = []\n",
    "for sack in rucksacks:\n",
    "    mid = len(sack) // 2\n",
    "    compartments.append((sack[:mid], sack[mid:]))"
   ],
   "metadata": {
    "collapsed": false
   }
  },
  {
   "cell_type": "code",
   "execution_count": 5,
   "outputs": [
    {
     "data": {
      "text/plain": "(300,\n [('jVTBgVbgJQVrTL', 'RRsLvRzWcZvnDs'),\n  ('dhtmhfdfNlNNldfqmPCflqG', 'bNZDHsDWcRzvczWsczZNzHz'),\n  ('tmwwwCCf', 'bJSMbwMb')],\n [('NGWdQgDDHGJgQ', 'LznzzsJFFzvzB'),\n  ('twRCpZVjVWqVSqVwwjtZ', 'frrfntfvznBssBncfLrc'),\n  ('jRRwCqwCZhlhZRpSZpjSqWwq', 'mDMQdMmHPQQMHGdlHdTldNGd')])"
     },
     "execution_count": 5,
     "metadata": {},
     "output_type": "execute_result"
    }
   ],
   "source": [
    "len(compartments), compartments[:3], compartments[-3:]"
   ],
   "metadata": {
    "collapsed": false
   }
  },
  {
   "cell_type": "code",
   "execution_count": 6,
   "outputs": [],
   "source": [
    "priorities = {c: i for (i, c) in enumerate(string.ascii_letters, 1)}"
   ],
   "metadata": {
    "collapsed": false
   }
  },
  {
   "cell_type": "code",
   "execution_count": 7,
   "outputs": [],
   "source": [
    "def intersect_pop_single(*seqs):\n",
    "    inter = reduce(set.intersection, (set(s) for s in seqs))\n",
    "    if len(inter) != 1:\n",
    "        raise ValueError(\"Intersection does not have exactly one element\")\n",
    "    return inter.pop()"
   ],
   "metadata": {
    "collapsed": false
   }
  },
  {
   "cell_type": "markdown",
   "source": [
    "Part 1"
   ],
   "metadata": {
    "collapsed": false
   }
  },
  {
   "cell_type": "code",
   "execution_count": 8,
   "outputs": [
    {
     "data": {
      "text/plain": "8109"
     },
     "execution_count": 8,
     "metadata": {},
     "output_type": "execute_result"
    }
   ],
   "source": [
    "sum(priorities[intersect_pop_single(x, y)] for (x, y) in compartments)"
   ],
   "metadata": {
    "collapsed": false
   }
  },
  {
   "cell_type": "markdown",
   "source": [
    "Part 2"
   ],
   "metadata": {
    "collapsed": false
   }
  },
  {
   "cell_type": "code",
   "execution_count": 9,
   "outputs": [
    {
     "data": {
      "text/plain": "2738"
     },
     "execution_count": 9,
     "metadata": {},
     "output_type": "execute_result"
    }
   ],
   "source": [
    "sum(priorities[intersect_pop_single(x, y, z)] for (x, y, z) in partition_all(3, rucksacks))"
   ],
   "metadata": {
    "collapsed": false
   }
  },
  {
   "cell_type": "code",
   "execution_count": 9,
   "outputs": [],
   "source": [],
   "metadata": {
    "collapsed": false
   }
  }
 ],
 "metadata": {
  "kernelspec": {
   "display_name": "Python 3",
   "language": "python",
   "name": "python3"
  },
  "language_info": {
   "codemirror_mode": {
    "name": "ipython",
    "version": 2
   },
   "file_extension": ".py",
   "mimetype": "text/x-python",
   "name": "python",
   "nbconvert_exporter": "python",
   "pygments_lexer": "ipython2",
   "version": "2.7.6"
  }
 },
 "nbformat": 4,
 "nbformat_minor": 0
}
