{
 "cells": [
  {
   "cell_type": "markdown",
   "metadata": {},
   "source": [
    "https://adventofcode.com/2022/day/19"
   ]
  },
  {
   "cell_type": "code",
   "execution_count": 11,
   "metadata": {},
   "outputs": [],
   "source": [
    "import re\n",
    "import time\n",
    "from copy import deepcopy\n",
    "from concurrent import futures"
   ]
  },
  {
   "cell_type": "code",
   "execution_count": 2,
   "metadata": {},
   "outputs": [],
   "source": [
    "with open(\"data/19.txt\") as fh:\n",
    "    data = fh.read()"
   ]
  },
  {
   "cell_type": "code",
   "execution_count": 3,
   "metadata": {},
   "outputs": [],
   "source": [
    "testdata = \"\"\"\\\n",
    "Blueprint 1: Each ore robot costs 4 ore. Each clay robot costs 2 ore. Each obsidian robot costs 3 ore and 14 clay. Each geode robot costs 2 ore and 7 obsidian.\n",
    "Blueprint 2: Each ore robot costs 2 ore. Each clay robot costs 3 ore. Each obsidian robot costs 3 ore and 8 clay. Each geode robot costs 3 ore and 12 obsidian\n",
    "\"\"\""
   ]
  },
  {
   "cell_type": "code",
   "execution_count": 4,
   "metadata": {},
   "outputs": [
    {
     "data": {
      "text/plain": "[{'bp': 1,\n  'robots': {'ore': {'ore': 4},\n   'clay': {'ore': 2},\n   'obs': {'ore': 3, 'clay': 14},\n   'geode': {'ore': 2, 'obs': 7}}},\n {'bp': 2,\n  'robots': {'ore': {'ore': 2},\n   'clay': {'ore': 3},\n   'obs': {'ore': 3, 'clay': 8},\n   'geode': {'ore': 3, 'obs': 12}}}]"
     },
     "execution_count": 4,
     "metadata": {},
     "output_type": "execute_result"
    }
   ],
   "source": [
    "def load_data(data):\n",
    "    L = []\n",
    "    for line in data.strip().splitlines():\n",
    "        bp, ore_ore, clay_ore, obs_ore, obs_clay, geode_ore, geode_obs = (\n",
    "            int(i) for i in re.findall(r\"[+-]?\\d+\", line)\n",
    "        )\n",
    "        D = {\n",
    "            \"bp\": bp,\n",
    "            \"robots\": {\n",
    "                \"ore\": {\"ore\": ore_ore},\n",
    "                \"clay\": {\"ore\": clay_ore},\n",
    "                \"obs\": {\"ore\": obs_ore, \"clay\": obs_clay},\n",
    "                \"geode\": {\"ore\": geode_ore, \"obs\": geode_obs},\n",
    "            },\n",
    "        }\n",
    "        L.append(D)\n",
    "    return L\n",
    "\n",
    "\n",
    "load_data(testdata)"
   ]
  },
  {
   "cell_type": "code",
   "execution_count": 5,
   "metadata": {},
   "outputs": [
    {
     "data": {
      "text/plain": "[{'bp': 1,\n  'robots': {'ore': {'ore': 4},\n   'clay': {'ore': 2},\n   'obs': {'ore': 3, 'clay': 14},\n   'geode': {'ore': 2, 'obs': 7}}},\n {'bp': 2,\n  'robots': {'ore': {'ore': 2},\n   'clay': {'ore': 3},\n   'obs': {'ore': 3, 'clay': 8},\n   'geode': {'ore': 3, 'obs': 12}}}]"
     },
     "execution_count": 5,
     "metadata": {},
     "output_type": "execute_result"
    }
   ],
   "source": [
    "bps = load_data(testdata)\n",
    "bps"
   ]
  },
  {
   "cell_type": "code",
   "execution_count": 6,
   "metadata": {},
   "outputs": [
    {
     "data": {
      "text/plain": "{'ore': {'ore': 4},\n 'clay': {'ore': 2},\n 'obs': {'ore': 3, 'clay': 14},\n 'geode': {'ore': 2, 'obs': 7}}"
     },
     "execution_count": 6,
     "metadata": {},
     "output_type": "execute_result"
    }
   ],
   "source": [
    "bps[0]['robots']"
   ]
  },
  {
   "cell_type": "code",
   "execution_count": 7,
   "outputs": [],
   "source": [
    "def collect_geodes_dfs(bp, initial_state=None, max_et=24):\n",
    "    if initial_state is None:\n",
    "        initial_state = {\"et\": 0, \"robots\": {\"ore\": 1}, \"minerals\": {}}\n",
    "    stack = [initial_state]\n",
    "    best_count = 0\n",
    "    best_fv = 0\n",
    "\n",
    "    while stack:\n",
    "        state = stack.pop()\n",
    "        if max_future_value(state, max_et) < best_fv:\n",
    "            continue\n",
    "\n",
    "        geode_count = get_geode_count(state)\n",
    "        if geode_count > best_count:\n",
    "            best_count = geode_count\n",
    "            fv = min_future_value(state, max_et)\n",
    "            best_fv = max(fv, best_fv)\n",
    "\n",
    "        et = state.get(\"et\", 0)\n",
    "        if et == max_et:\n",
    "            continue\n",
    "        et += 1\n",
    "\n",
    "        robots = state.get(\"robots\", {})\n",
    "        minerals = state.get(\"minerals\", {})\n",
    "\n",
    "        # let it ride\n",
    "        new_state = {\"et\": et, \"robots\": robots.copy(), \"minerals\": minerals.copy()}\n",
    "        bots_work(new_state)\n",
    "        stack.append(new_state)\n",
    "\n",
    "        for bot in [\"ore\", \"clay\", \"obs\", \"geode\"]:\n",
    "            new_state = {\"et\": et, \"robots\": robots.copy(), \"minerals\": minerals.copy()}\n",
    "            requirements = bp[\"robots\"][bot]\n",
    "            diff = dict_subtract(new_state[\"minerals\"], requirements)\n",
    "            if all(v >= 0 for v in diff.values()):\n",
    "                new_state[\"minerals\"] = diff\n",
    "                bots_work(new_state)\n",
    "                new_state[\"robots\"][bot] = new_state[\"robots\"].get(bot, 0) + 1\n",
    "                stack.append(new_state)\n",
    "\n",
    "    return bp[\"bp\"], best_count\n",
    "\n",
    "\n",
    "def bots_work(state):\n",
    "    for bot, botcount in state[\"robots\"].items():\n",
    "        state[\"minerals\"][bot] = state[\"minerals\"].get(bot, 0) + botcount\n",
    "\n",
    "\n",
    "def dict_subtract(a, b):\n",
    "    c = deepcopy(a)\n",
    "    for k, v in b.items():\n",
    "        c[k] = c.get(k, 0) - v\n",
    "    return c\n",
    "\n",
    "\n",
    "def get_geode_count(state):\n",
    "    return state.get(\"minerals\", {}).get(\"geode\", 0)\n",
    "\n",
    "\n",
    "def max_future_value(state, max_et=24):\n",
    "    geodes = state[\"minerals\"].get(\"geode\", 0)\n",
    "    geode_bots = state[\"robots\"].get(\"geode\", 0)\n",
    "    for _ in range(state[\"et\"], max_et):\n",
    "        geodes += geode_bots\n",
    "        geode_bots += 1\n",
    "    return geodes\n",
    "\n",
    "\n",
    "def min_future_value(state, max_et=24):\n",
    "    geodes = state[\"minerals\"].get(\"geode\", 0)\n",
    "    geode_bots = state[\"robots\"].get(\"geode\", 0)\n",
    "    for _ in range(state[\"et\"], max_et):\n",
    "        geodes += geode_bots\n",
    "    return geodes"
   ],
   "metadata": {
    "collapsed": false
   }
  },
  {
   "cell_type": "code",
   "execution_count": 8,
   "metadata": {},
   "outputs": [
    {
     "name": "stdout",
     "output_type": "stream",
     "text": [
      "CPU times: user 3min 32s, sys: 11.1 ms, total: 3min 32s\n",
      "Wall time: 3min 32s\n"
     ]
    },
    {
     "data": {
      "text/plain": "(1, 9)"
     },
     "execution_count": 8,
     "metadata": {},
     "output_type": "execute_result"
    }
   ],
   "source": [
    "%%time\n",
    "collect_geodes_dfs(bps[0])"
   ]
  },
  {
   "cell_type": "code",
   "execution_count": 12,
   "outputs": [
    {
     "name": "stdout",
     "output_type": "stream",
     "text": [
      "Tue Dec 27 11:30:23 2022\n",
      "Tue Dec 27 11:34:10 2022 (1, 9)\n",
      "Tue Dec 27 11:52:34 2022 (2, 12)\n",
      "CPU times: user 31.8 ms, sys: 13.8 ms, total: 45.6 ms\n",
      "Wall time: 22min 10s\n"
     ]
    },
    {
     "data": {
      "text/plain": "[(1, 9), (2, 12)]"
     },
     "execution_count": 12,
     "metadata": {},
     "output_type": "execute_result"
    }
   ],
   "source": [
    "%%time\n",
    "L = []\n",
    "print(time.ctime())\n",
    "with futures.ProcessPoolExecutor(4) as ex:\n",
    "    todos = (ex.submit(collect_geodes_dfs, bp) for bp in bps)\n",
    "    for done in futures.as_completed(todos):\n",
    "        r = done.result()\n",
    "        print(time.ctime(), r)\n",
    "        L.append(r)\n",
    "L"
   ],
   "metadata": {
    "collapsed": false
   }
  },
  {
   "cell_type": "code",
   "execution_count": 13,
   "outputs": [
    {
     "name": "stdout",
     "output_type": "stream",
     "text": [
      "Tue Dec 27 11:55:57 2022\n",
      "Tue Dec 27 12:20:33 2022 (4, 5)\n",
      "Tue Dec 27 12:24:52 2022 (3, 1)\n",
      "Tue Dec 27 12:25:13 2022 (5, 3)\n",
      "Tue Dec 27 12:45:32 2022 (1, 0)\n",
      "Tue Dec 27 12:50:18 2022 (6, 2)\n",
      "Tue Dec 27 13:14:51 2022 (8, 1)\n",
      "Tue Dec 27 13:15:01 2022 (7, 0)\n",
      "Tue Dec 27 13:28:00 2022 (11, 1)\n",
      "Tue Dec 27 13:28:57 2022 (9, 14)\n",
      "Tue Dec 27 13:49:42 2022 (13, 5)\n",
      "Tue Dec 27 13:52:25 2022 (14, 6)\n",
      "Tue Dec 27 14:10:14 2022 (12, 0)\n",
      "Tue Dec 27 14:55:18 2022 (16, 0)\n",
      "Tue Dec 27 15:29:35 2022 (17, 1)\n"
     ]
    },
    {
     "ename": "KeyboardInterrupt",
     "evalue": "",
     "output_type": "error",
     "traceback": [
      "\u001B[0;31m---------------------------------------------------------------------------\u001B[0m",
      "\u001B[0;31mKeyboardInterrupt\u001B[0m                         Traceback (most recent call last)",
      "File \u001B[0;32m<timed exec>:6\u001B[0m\n",
      "File \u001B[0;32m~/.pyenv/versions/3.11.0/lib/python3.11/concurrent/futures/_base.py:243\u001B[0m, in \u001B[0;36mas_completed\u001B[0;34m(fs, timeout)\u001B[0m\n\u001B[1;32m    239\u001B[0m         \u001B[38;5;28;01mraise\u001B[39;00m \u001B[38;5;167;01mTimeoutError\u001B[39;00m(\n\u001B[1;32m    240\u001B[0m                 \u001B[38;5;124m'\u001B[39m\u001B[38;5;132;01m%d\u001B[39;00m\u001B[38;5;124m (of \u001B[39m\u001B[38;5;132;01m%d\u001B[39;00m\u001B[38;5;124m) futures unfinished\u001B[39m\u001B[38;5;124m'\u001B[39m \u001B[38;5;241m%\u001B[39m (\n\u001B[1;32m    241\u001B[0m                 \u001B[38;5;28mlen\u001B[39m(pending), total_futures))\n\u001B[0;32m--> 243\u001B[0m \u001B[43mwaiter\u001B[49m\u001B[38;5;241;43m.\u001B[39;49m\u001B[43mevent\u001B[49m\u001B[38;5;241;43m.\u001B[39;49m\u001B[43mwait\u001B[49m\u001B[43m(\u001B[49m\u001B[43mwait_timeout\u001B[49m\u001B[43m)\u001B[49m\n\u001B[1;32m    245\u001B[0m \u001B[38;5;28;01mwith\u001B[39;00m waiter\u001B[38;5;241m.\u001B[39mlock:\n",
      "File \u001B[0;32m~/.pyenv/versions/3.11.0/lib/python3.11/threading.py:622\u001B[0m, in \u001B[0;36mEvent.wait\u001B[0;34m(self, timeout)\u001B[0m\n\u001B[1;32m    621\u001B[0m \u001B[38;5;28;01mif\u001B[39;00m \u001B[38;5;129;01mnot\u001B[39;00m signaled:\n\u001B[0;32m--> 622\u001B[0m     signaled \u001B[38;5;241m=\u001B[39m \u001B[38;5;28;43mself\u001B[39;49m\u001B[38;5;241;43m.\u001B[39;49m\u001B[43m_cond\u001B[49m\u001B[38;5;241;43m.\u001B[39;49m\u001B[43mwait\u001B[49m\u001B[43m(\u001B[49m\u001B[43mtimeout\u001B[49m\u001B[43m)\u001B[49m\n\u001B[1;32m    623\u001B[0m \u001B[38;5;28;01mreturn\u001B[39;00m signaled\n",
      "File \u001B[0;32m~/.pyenv/versions/3.11.0/lib/python3.11/threading.py:320\u001B[0m, in \u001B[0;36mCondition.wait\u001B[0;34m(self, timeout)\u001B[0m\n\u001B[1;32m    319\u001B[0m \u001B[38;5;28;01mif\u001B[39;00m timeout \u001B[38;5;129;01mis\u001B[39;00m \u001B[38;5;28;01mNone\u001B[39;00m:\n\u001B[0;32m--> 320\u001B[0m     \u001B[43mwaiter\u001B[49m\u001B[38;5;241;43m.\u001B[39;49m\u001B[43macquire\u001B[49m\u001B[43m(\u001B[49m\u001B[43m)\u001B[49m\n\u001B[1;32m    321\u001B[0m     gotit \u001B[38;5;241m=\u001B[39m \u001B[38;5;28;01mTrue\u001B[39;00m\n",
      "\u001B[0;31mKeyboardInterrupt\u001B[0m: ",
      "\nDuring handling of the above exception, another exception occurred:\n",
      "\u001B[0;31mKeyboardInterrupt\u001B[0m                         Traceback (most recent call last)",
      "File \u001B[0;32m<timed exec>:4\u001B[0m\n",
      "File \u001B[0;32m~/.pyenv/versions/3.11.0/lib/python3.11/concurrent/futures/_base.py:647\u001B[0m, in \u001B[0;36mExecutor.__exit__\u001B[0;34m(self, exc_type, exc_val, exc_tb)\u001B[0m\n\u001B[1;32m    646\u001B[0m \u001B[38;5;28;01mdef\u001B[39;00m \u001B[38;5;21m__exit__\u001B[39m(\u001B[38;5;28mself\u001B[39m, exc_type, exc_val, exc_tb):\n\u001B[0;32m--> 647\u001B[0m     \u001B[38;5;28;43mself\u001B[39;49m\u001B[38;5;241;43m.\u001B[39;49m\u001B[43mshutdown\u001B[49m\u001B[43m(\u001B[49m\u001B[43mwait\u001B[49m\u001B[38;5;241;43m=\u001B[39;49m\u001B[38;5;28;43;01mTrue\u001B[39;49;00m\u001B[43m)\u001B[49m\n\u001B[1;32m    648\u001B[0m     \u001B[38;5;28;01mreturn\u001B[39;00m \u001B[38;5;28;01mFalse\u001B[39;00m\n",
      "File \u001B[0;32m~/.pyenv/versions/3.11.0/lib/python3.11/concurrent/futures/process.py:825\u001B[0m, in \u001B[0;36mProcessPoolExecutor.shutdown\u001B[0;34m(self, wait, cancel_futures)\u001B[0m\n\u001B[1;32m    822\u001B[0m         \u001B[38;5;28mself\u001B[39m\u001B[38;5;241m.\u001B[39m_executor_manager_thread_wakeup\u001B[38;5;241m.\u001B[39mwakeup()\n\u001B[1;32m    824\u001B[0m \u001B[38;5;28;01mif\u001B[39;00m \u001B[38;5;28mself\u001B[39m\u001B[38;5;241m.\u001B[39m_executor_manager_thread \u001B[38;5;129;01mis\u001B[39;00m \u001B[38;5;129;01mnot\u001B[39;00m \u001B[38;5;28;01mNone\u001B[39;00m \u001B[38;5;129;01mand\u001B[39;00m wait:\n\u001B[0;32m--> 825\u001B[0m     \u001B[38;5;28;43mself\u001B[39;49m\u001B[38;5;241;43m.\u001B[39;49m\u001B[43m_executor_manager_thread\u001B[49m\u001B[38;5;241;43m.\u001B[39;49m\u001B[43mjoin\u001B[49m\u001B[43m(\u001B[49m\u001B[43m)\u001B[49m\n\u001B[1;32m    826\u001B[0m \u001B[38;5;66;03m# To reduce the risk of opening too many files, remove references to\u001B[39;00m\n\u001B[1;32m    827\u001B[0m \u001B[38;5;66;03m# objects that use file descriptors.\u001B[39;00m\n\u001B[1;32m    828\u001B[0m \u001B[38;5;28mself\u001B[39m\u001B[38;5;241m.\u001B[39m_executor_manager_thread \u001B[38;5;241m=\u001B[39m \u001B[38;5;28;01mNone\u001B[39;00m\n",
      "File \u001B[0;32m~/.pyenv/versions/3.11.0/lib/python3.11/threading.py:1112\u001B[0m, in \u001B[0;36mThread.join\u001B[0;34m(self, timeout)\u001B[0m\n\u001B[1;32m   1109\u001B[0m     \u001B[38;5;28;01mraise\u001B[39;00m \u001B[38;5;167;01mRuntimeError\u001B[39;00m(\u001B[38;5;124m\"\u001B[39m\u001B[38;5;124mcannot join current thread\u001B[39m\u001B[38;5;124m\"\u001B[39m)\n\u001B[1;32m   1111\u001B[0m \u001B[38;5;28;01mif\u001B[39;00m timeout \u001B[38;5;129;01mis\u001B[39;00m \u001B[38;5;28;01mNone\u001B[39;00m:\n\u001B[0;32m-> 1112\u001B[0m     \u001B[38;5;28;43mself\u001B[39;49m\u001B[38;5;241;43m.\u001B[39;49m\u001B[43m_wait_for_tstate_lock\u001B[49m\u001B[43m(\u001B[49m\u001B[43m)\u001B[49m\n\u001B[1;32m   1113\u001B[0m \u001B[38;5;28;01melse\u001B[39;00m:\n\u001B[1;32m   1114\u001B[0m     \u001B[38;5;66;03m# the behavior of a negative timeout isn't documented, but\u001B[39;00m\n\u001B[1;32m   1115\u001B[0m     \u001B[38;5;66;03m# historically .join(timeout=x) for x<0 has acted as if timeout=0\u001B[39;00m\n\u001B[1;32m   1116\u001B[0m     \u001B[38;5;28mself\u001B[39m\u001B[38;5;241m.\u001B[39m_wait_for_tstate_lock(timeout\u001B[38;5;241m=\u001B[39m\u001B[38;5;28mmax\u001B[39m(timeout, \u001B[38;5;241m0\u001B[39m))\n",
      "File \u001B[0;32m~/.pyenv/versions/3.11.0/lib/python3.11/threading.py:1132\u001B[0m, in \u001B[0;36mThread._wait_for_tstate_lock\u001B[0;34m(self, block, timeout)\u001B[0m\n\u001B[1;32m   1129\u001B[0m     \u001B[38;5;28;01mreturn\u001B[39;00m\n\u001B[1;32m   1131\u001B[0m \u001B[38;5;28;01mtry\u001B[39;00m:\n\u001B[0;32m-> 1132\u001B[0m     \u001B[38;5;28;01mif\u001B[39;00m \u001B[43mlock\u001B[49m\u001B[38;5;241;43m.\u001B[39;49m\u001B[43macquire\u001B[49m\u001B[43m(\u001B[49m\u001B[43mblock\u001B[49m\u001B[43m,\u001B[49m\u001B[43m \u001B[49m\u001B[43mtimeout\u001B[49m\u001B[43m)\u001B[49m:\n\u001B[1;32m   1133\u001B[0m         lock\u001B[38;5;241m.\u001B[39mrelease()\n\u001B[1;32m   1134\u001B[0m         \u001B[38;5;28mself\u001B[39m\u001B[38;5;241m.\u001B[39m_stop()\n",
      "\u001B[0;31mKeyboardInterrupt\u001B[0m: "
     ]
    }
   ],
   "source": [
    "%%time\n",
    "bps = load_data(data)\n",
    "L = []\n",
    "print(time.ctime())\n",
    "with futures.ProcessPoolExecutor(4) as ex:\n",
    "    todos = (ex.submit(collect_geodes_dfs, bp) for bp in bps)\n",
    "    for done in futures.as_completed(todos):\n",
    "        r = done.result()\n",
    "        print(time.ctime(), r)\n",
    "        L.append(r)\n",
    "L"
   ],
   "metadata": {
    "collapsed": false
   }
  }
 ],
 "metadata": {
  "kernelspec": {
   "display_name": "Python 3 (ipykernel)",
   "language": "python",
   "name": "python3"
  },
  "language_info": {
   "codemirror_mode": {
    "name": "ipython",
    "version": 3
   },
   "file_extension": ".py",
   "mimetype": "text/x-python",
   "name": "python",
   "nbconvert_exporter": "python",
   "pygments_lexer": "ipython3",
   "version": "3.11.0"
  }
 },
 "nbformat": 4,
 "nbformat_minor": 1
}
