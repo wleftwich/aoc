{
 "cells": [
  {
   "cell_type": "code",
   "execution_count": 65,
   "outputs": [],
   "source": [
    "import re"
   ],
   "metadata": {
    "collapsed": false
   }
  },
  {
   "cell_type": "markdown",
   "source": [
    "https://adventofcode.com/2022/day/5"
   ],
   "metadata": {
    "collapsed": false
   }
  },
  {
   "cell_type": "code",
   "execution_count": 1,
   "outputs": [],
   "source": [
    "with open(\"data/05.txt\") as fh:\n",
    "    data = fh.read()"
   ],
   "metadata": {
    "collapsed": false
   }
  },
  {
   "cell_type": "code",
   "execution_count": 106,
   "outputs": [],
   "source": [
    "def getmoves(data):\n",
    "    return [tuple(int(c) for c in re.findall(r\"\\d+\", line)) for line in data.split(\"\\n\\n\")[1].splitlines()]"
   ],
   "metadata": {
    "collapsed": false
   }
  },
  {
   "cell_type": "code",
   "execution_count": 107,
   "outputs": [
    {
     "data": {
      "text/plain": "(501, [(6, 6, 5), (2, 5, 9), (8, 9, 1)], [(10, 3, 4), (2, 3, 5), (1, 3, 1)])"
     },
     "execution_count": 107,
     "metadata": {},
     "output_type": "execute_result"
    }
   ],
   "source": [
    "# moves = [tuple(int(c) for c in re.findall(r\"\\d+\", line)) for line in movestxt.splitlines()]\n",
    "moves = getmoves(data)\n",
    "len(moves), moves[:3], moves[-3:]"
   ],
   "metadata": {
    "collapsed": false
   }
  },
  {
   "cell_type": "code",
   "execution_count": 100,
   "outputs": [
    {
     "name": "stdout",
     "output_type": "stream",
     "text": [
      "        [J]         [B]     [T]    \n",
      "        [M] [L]     [Q] [L] [R]    \n",
      "        [G] [Q]     [W] [S] [B] [L]\n",
      "[D]     [D] [T]     [M] [G] [V] [P]\n",
      "[T]     [N] [N] [N] [D] [J] [G] [N]\n",
      "[W] [H] [H] [S] [C] [N] [R] [W] [D]\n",
      "[N] [P] [P] [W] [H] [H] [B] [N] [G]\n",
      "[L] [C] [W] [C] [P] [T] [M] [Z] [W]\n",
      " 1   2   3   4   5   6   7   8   9 \n"
     ]
    }
   ],
   "source": [
    "print(data.split(\"\\n\\n\")[0])"
   ],
   "metadata": {
    "collapsed": false
   }
  },
  {
   "cell_type": "code",
   "execution_count": 109,
   "outputs": [],
   "source": [
    "def makestacks(data):\n",
    "    L = data.split(\"\\n\\n\")[0].splitlines()\n",
    "    posmap = [(i, int(c)) for (i, c) in enumerate(L[-1]) if c != \" \"]\n",
    "    stacks = [[] for _ in range(10)]\n",
    "    for line in L[-2::-1]:\n",
    "        for k, v in posmap:\n",
    "            if line[k] != \" \":\n",
    "                stacks[v].append(line[k])\n",
    "    return stacks"
   ],
   "metadata": {
    "collapsed": false
   }
  },
  {
   "cell_type": "code",
   "execution_count": 110,
   "outputs": [
    {
     "data": {
      "text/plain": "[[],\n ['L', 'N', 'W', 'T', 'D'],\n ['C', 'P', 'H'],\n ['W', 'P', 'H', 'N', 'D', 'G', 'M', 'J'],\n ['C', 'W', 'S', 'N', 'T', 'Q', 'L'],\n ['P', 'H', 'C', 'N'],\n ['T', 'H', 'N', 'D', 'M', 'W', 'Q', 'B'],\n ['M', 'B', 'R', 'J', 'G', 'S', 'L'],\n ['Z', 'N', 'W', 'G', 'V', 'B', 'R', 'T'],\n ['W', 'G', 'D', 'N', 'P', 'L']]"
     },
     "execution_count": 110,
     "metadata": {},
     "output_type": "execute_result"
    }
   ],
   "source": [
    "makestacks(data)"
   ],
   "metadata": {
    "collapsed": false
   }
  },
  {
   "cell_type": "markdown",
   "source": [
    "Part 1"
   ],
   "metadata": {
    "collapsed": false
   }
  },
  {
   "cell_type": "code",
   "execution_count": 111,
   "outputs": [
    {
     "data": {
      "text/plain": "'TWSGQHNHL'"
     },
     "execution_count": 111,
     "metadata": {},
     "output_type": "execute_result"
    }
   ],
   "source": [
    "stacks1 = makestacks(data)\n",
    "for n, f, t in moves:\n",
    "   stacks1[t].extend([stacks1[f].pop() for _ in range(n)])\n",
    "\"\".join(s[-1] for s in stacks1[1:])"
   ],
   "metadata": {
    "collapsed": false
   }
  },
  {
   "cell_type": "markdown",
   "source": [
    "Part 2"
   ],
   "metadata": {
    "collapsed": false
   }
  },
  {
   "cell_type": "code",
   "execution_count": 112,
   "outputs": [
    {
     "data": {
      "text/plain": "'JNRSCDWPP'"
     },
     "execution_count": 112,
     "metadata": {},
     "output_type": "execute_result"
    }
   ],
   "source": [
    "stacks2 = makestacks(data)\n",
    "for n, f, t in moves:\n",
    "    stacks2[t].extend(reversed([stacks2[f].pop() for _ in range(n)]))\n",
    "\"\".join(s[-1] for s in stacks2[1:])"
   ],
   "metadata": {
    "collapsed": false
   }
  },
  {
   "cell_type": "code",
   "execution_count": null,
   "outputs": [],
   "source": [],
   "metadata": {
    "collapsed": false
   }
  }
 ],
 "metadata": {
  "kernelspec": {
   "display_name": "Python 3",
   "language": "python",
   "name": "python3"
  },
  "language_info": {
   "codemirror_mode": {
    "name": "ipython",
    "version": 2
   },
   "file_extension": ".py",
   "mimetype": "text/x-python",
   "name": "python",
   "nbconvert_exporter": "python",
   "pygments_lexer": "ipython2",
   "version": "2.7.6"
  }
 },
 "nbformat": 4,
 "nbformat_minor": 0
}
