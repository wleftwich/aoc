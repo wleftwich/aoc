{
 "cells": [
  {
   "cell_type": "markdown",
   "source": [
    "https://adventofcode.com/2022/day/10"
   ],
   "metadata": {
    "collapsed": false
   }
  },
  {
   "cell_type": "code",
   "execution_count": 1,
   "outputs": [],
   "source": [
    "with open(\"data/10.txt\") as fh:\n",
    "    data = fh.read()"
   ],
   "metadata": {
    "collapsed": false
   }
  },
  {
   "cell_type": "code",
   "execution_count": 2,
   "outputs": [
    {
     "name": "stdout",
     "output_type": "stream",
     "text": [
      "['addx 1', 'noop', 'addx 2', 'addx 5', 'addx 2', 'noop', 'noop', 'noop', 'addx 5', 'noop']\n"
     ]
    }
   ],
   "source": [
    "print(data.splitlines()[:10])"
   ],
   "metadata": {
    "collapsed": false
   }
  },
  {
   "cell_type": "code",
   "execution_count": 13,
   "outputs": [],
   "source": [
    "testdata = \"\"\"\\\n",
    "addx 15\n",
    "addx -11\n",
    "addx 6\n",
    "addx -3\n",
    "addx 5\n",
    "addx -1\n",
    "addx -8\n",
    "addx 13\n",
    "addx 4\n",
    "noop\n",
    "addx -1\n",
    "addx 5\n",
    "addx -1\n",
    "addx 5\n",
    "addx -1\n",
    "addx 5\n",
    "addx -1\n",
    "addx 5\n",
    "addx -1\n",
    "addx -35\n",
    "addx 1\n",
    "addx 24\n",
    "addx -19\n",
    "addx 1\n",
    "addx 16\n",
    "addx -11\n",
    "noop\n",
    "noop\n",
    "addx 21\n",
    "addx -15\n",
    "noop\n",
    "noop\n",
    "addx -3\n",
    "addx 9\n",
    "addx 1\n",
    "addx -3\n",
    "addx 8\n",
    "addx 1\n",
    "addx 5\n",
    "noop\n",
    "noop\n",
    "noop\n",
    "noop\n",
    "noop\n",
    "addx -36\n",
    "noop\n",
    "addx 1\n",
    "addx 7\n",
    "noop\n",
    "noop\n",
    "noop\n",
    "addx 2\n",
    "addx 6\n",
    "noop\n",
    "noop\n",
    "noop\n",
    "noop\n",
    "noop\n",
    "addx 1\n",
    "noop\n",
    "noop\n",
    "addx 7\n",
    "addx 1\n",
    "noop\n",
    "addx -13\n",
    "addx 13\n",
    "addx 7\n",
    "noop\n",
    "addx 1\n",
    "addx -33\n",
    "noop\n",
    "noop\n",
    "noop\n",
    "addx 2\n",
    "noop\n",
    "noop\n",
    "noop\n",
    "addx 8\n",
    "noop\n",
    "addx -1\n",
    "addx 2\n",
    "addx 1\n",
    "noop\n",
    "addx 17\n",
    "addx -9\n",
    "addx 1\n",
    "addx 1\n",
    "addx -3\n",
    "addx 11\n",
    "noop\n",
    "noop\n",
    "addx 1\n",
    "noop\n",
    "addx 1\n",
    "noop\n",
    "noop\n",
    "addx -13\n",
    "addx -19\n",
    "addx 1\n",
    "addx 3\n",
    "addx 26\n",
    "addx -30\n",
    "addx 12\n",
    "addx -1\n",
    "addx 3\n",
    "addx 1\n",
    "noop\n",
    "noop\n",
    "noop\n",
    "addx -9\n",
    "addx 18\n",
    "addx 1\n",
    "addx 2\n",
    "noop\n",
    "noop\n",
    "addx 9\n",
    "noop\n",
    "noop\n",
    "noop\n",
    "addx -1\n",
    "addx 2\n",
    "addx -37\n",
    "addx 1\n",
    "addx 3\n",
    "noop\n",
    "addx 15\n",
    "addx -21\n",
    "addx 22\n",
    "addx -6\n",
    "addx 1\n",
    "noop\n",
    "addx 2\n",
    "addx 1\n",
    "noop\n",
    "addx -10\n",
    "noop\n",
    "noop\n",
    "addx 20\n",
    "addx 1\n",
    "addx 2\n",
    "addx 2\n",
    "addx -6\n",
    "addx -11\n",
    "noop\n",
    "noop\n",
    "noop\n",
    "\"\"\""
   ],
   "metadata": {
    "collapsed": false
   }
  },
  {
   "cell_type": "code",
   "execution_count": 14,
   "outputs": [
    {
     "name": "stdout",
     "output_type": "stream",
     "text": [
      "['addx 15', 'addx -11', 'addx 6', 'addx -3', 'addx 5', 'addx -1', 'addx -8', 'addx 13', 'addx 4', 'noop']\n"
     ]
    }
   ],
   "source": [
    "print(testdata.splitlines()[:10])"
   ],
   "metadata": {
    "collapsed": false
   }
  },
  {
   "cell_type": "code",
   "execution_count": 19,
   "outputs": [
    {
     "name": "stdout",
     "output_type": "stream",
     "text": [
      "12 addx 20 17 340 340\n",
      "34 addx 60 17 1020 1360\n",
      "57 addx 100 21 2100 3460\n",
      "80 addx 140 21 2940 6400\n",
      "102 addx 180 9 1620 8020\n",
      "123 addx 220 21 4620 12640\n"
     ]
    },
    {
     "data": {
      "text/plain": "12640"
     },
     "execution_count": 19,
     "metadata": {},
     "output_type": "execute_result"
    }
   ],
   "source": [
    "X = 1\n",
    "cycle = 1\n",
    "strength = 0\n",
    "interesting_cycles = {20, 60, 100, 140, 180, 220}\n",
    "for i, line in enumerate(data.strip().splitlines()):\n",
    "    if cycle > 220:\n",
    "        break\n",
    "    cmd, *args = line.split()\n",
    "    if cmd == \"noop\":\n",
    "        if cycle in interesting_cycles:\n",
    "            strength += cycle * X\n",
    "            print(i, cmd, cycle, X, cycle * X, strength)\n",
    "        cycle += 1\n",
    "    elif cmd == \"addx\":\n",
    "        if cycle in interesting_cycles:\n",
    "            strength += cycle * X\n",
    "            print(i, cmd, cycle, X, cycle * X, strength)\n",
    "        cycle += 1\n",
    "        if cycle in interesting_cycles:\n",
    "            strength += cycle * X\n",
    "            print(i, cmd, cycle, X, cycle * X, strength)\n",
    "        cycle += 1\n",
    "        X += int(args[0])\n",
    "    else:\n",
    "        raise ValueError(f\"Can't happen: {line}\")\n",
    "strength"
   ],
   "metadata": {
    "collapsed": false
   }
  },
  {
   "cell_type": "code",
   "execution_count": 79,
   "outputs": [],
   "source": [
    "X = 1\n",
    "cycle = 1\n",
    "L = []\n",
    "for line in data.strip().splitlines():\n",
    "    if cycle > 241:\n",
    "        break\n",
    "    cmd, *args = line.split()\n",
    "    if cmd == \"noop\":\n",
    "        L.append((cycle, X))\n",
    "        cycle += 1\n",
    "    elif cmd == \"addx\":\n",
    "        L.append((cycle, X))\n",
    "        cycle += 1\n",
    "        L.append((cycle, X))\n",
    "        cycle += 1\n",
    "        X += int(args[0])\n",
    "    else:\n",
    "        raise ValueError(f\"Can't happen: {line}\")"
   ],
   "metadata": {
    "collapsed": false
   }
  },
  {
   "cell_type": "code",
   "execution_count": 86,
   "outputs": [
    {
     "name": "stdout",
     "output_type": "stream",
     "text": [
      "XXXX X  X XXX  XXXX X    XXX    XX XXX  \n",
      "X    X  X X  X    X X    X  X    X X  X \n",
      "XXX  XXXX XXX    X  X    X  X    X X  X \n",
      "X    X  X X  X  X   X    XXX     X XXX  \n",
      "X    X  X X  X X    X    X X  X  X X X  \n",
      "XXXX X  X XXX  XXXX XXXX X  X  XX  X  X \n"
     ]
    }
   ],
   "source": [
    "for cycle, X in L:\n",
    "    p = cycle % 40\n",
    "    # if p-1 in sprite:\n",
    "    if p and X in (p-2, p-1, p):\n",
    "        print(\"X\", end=\"\")\n",
    "    else:\n",
    "        print(\" \", end=\"\")\n",
    "    if not p:\n",
    "        print()"
   ],
   "metadata": {
    "collapsed": false
   }
  }
 ],
 "metadata": {
  "kernelspec": {
   "display_name": "Python 3",
   "language": "python",
   "name": "python3"
  },
  "language_info": {
   "codemirror_mode": {
    "name": "ipython",
    "version": 2
   },
   "file_extension": ".py",
   "mimetype": "text/x-python",
   "name": "python",
   "nbconvert_exporter": "python",
   "pygments_lexer": "ipython2",
   "version": "2.7.6"
  }
 },
 "nbformat": 4,
 "nbformat_minor": 0
}
