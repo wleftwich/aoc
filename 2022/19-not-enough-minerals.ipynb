{
 "cells": [
  {
   "cell_type": "markdown",
   "metadata": {},
   "source": [
    "https://adventofcode.com/2022/day/19"
   ]
  },
  {
   "cell_type": "code",
   "execution_count": 30,
   "metadata": {},
   "outputs": [],
   "source": [
    "import re\n",
    "import operator\n",
    "from functools import reduce"
   ]
  },
  {
   "cell_type": "code",
   "execution_count": 2,
   "metadata": {},
   "outputs": [],
   "source": [
    "with open(\"data/19.txt\") as fh:\n",
    "    data = fh.read()"
   ]
  },
  {
   "cell_type": "code",
   "execution_count": 3,
   "metadata": {},
   "outputs": [],
   "source": [
    "testdata = \"\"\"\\\n",
    "Blueprint 1: Each ore robot costs 4 ore. Each clay robot costs 2 ore. Each obsidian robot costs 3 ore and 14 clay. Each geode robot costs 2 ore and 7 obsidian.\n",
    "Blueprint 2: Each ore robot costs 2 ore. Each clay robot costs 3 ore. Each obsidian robot costs 3 ore and 8 clay. Each geode robot costs 3 ore and 12 obsidian\n",
    "\"\"\""
   ]
  },
  {
   "cell_type": "code",
   "execution_count": 4,
   "metadata": {},
   "outputs": [],
   "source": [
    "def load_data(data):\n",
    "    ORE, CLY, OBS, GEO = [0, 1, 2, 3]\n",
    "    L = []\n",
    "    for line in data.strip().splitlines():\n",
    "        bp = [[0, 0, 0, 0] for _ in range(4)]\n",
    "        _, bp[ORE][ORE], bp[CLY][ORE], bp[OBS][ORE], bp[OBS][CLY], bp[GEO][ORE], bp[GEO][OBS] = (int(x) for x in re.findall(r\"\\d+\", line))\n",
    "        L.append(bp)\n",
    "\n",
    "    return L"
   ]
  },
  {
   "cell_type": "code",
   "execution_count": 34,
   "metadata": {},
   "outputs": [
    {
     "data": {
      "text/plain": "[[4, 0, 0, 0], [2, 0, 0, 0], [3, 14, 0, 0], [2, 0, 7, 0]]"
     },
     "execution_count": 34,
     "metadata": {},
     "output_type": "execute_result"
    }
   ],
   "source": [
    "bps = load_data(testdata)\n",
    "bps[0]"
   ]
  },
  {
   "cell_type": "code",
   "execution_count": 36,
   "outputs": [],
   "source": [
    "def dfs(bp, max_time=24):\n",
    "    inds = ORE, CLY, OBS, GEO = [0, 1, 2, 3]\n",
    "    max_minerals = [0, 0, 0, 0]\n",
    "    for bot in inds:\n",
    "        max_minerals[bot] = max(req[bot] for req in bp)\n",
    "\n",
    "    visited = {}\n",
    "    stack = [((1,), max_time, [1, 0, 0, 0], [0, 0, 0, 0])]\n",
    "    max_geo = 0\n",
    "    while stack:\n",
    "        pth, tr, bs, ms = stack.pop()\n",
    "        if tr <= 0:\n",
    "            continue\n",
    "        max_geo = max(max_geo, ms[GEO] + bs[GEO] * tr)\n",
    "        if pth in visited:\n",
    "            continue\n",
    "        visited[pth] = (tr, bs, ms)\n",
    "        for bi in inds:\n",
    "            # do we need this bot?\n",
    "            if bi != GEO and max_minerals[bi] * tr <= ms[bi] + bs[bi] * tr:\n",
    "                visited[pth + (bi,)] = -1\n",
    "                continue\n",
    "\n",
    "            # Do precursor bots exist yet?\n",
    "            reqs = bp[bi]\n",
    "            if not all(x for x,y in zip(bs, reqs) if y):\n",
    "                visited[pth + (bi,)] = -2\n",
    "                continue\n",
    "\n",
    "            tr1, bs1, ms1 = tr, bs.copy(), ms.copy()\n",
    "            # If not all required minerals are present, wait for them to be produced\n",
    "            while any(a-b < 0 for a,b in zip(ms1, reqs)):\n",
    "                tr1 -= 1\n",
    "                ms1 = [a+b for a,b in zip(bs1, ms1)]\n",
    "            ms1 = [a-b for a,b in zip(ms1, reqs)]\n",
    "            tr1 -= 1\n",
    "            ms1 = [a+b for a,b in zip(bs1, ms1)]\n",
    "            bs1[bi] += 1\n",
    "            stack.append((pth+(bi,), tr1, bs1, ms1))\n",
    "\n",
    "    return max_geo\n"
   ],
   "metadata": {
    "collapsed": false
   }
  },
  {
   "cell_type": "code",
   "execution_count": 37,
   "outputs": [
    {
     "name": "stdout",
     "output_type": "stream",
     "text": [
      "CPU times: user 1.34 s, sys: 0 ns, total: 1.34 s\n",
      "Wall time: 1.34 s\n"
     ]
    },
    {
     "data": {
      "text/plain": "9"
     },
     "execution_count": 37,
     "metadata": {},
     "output_type": "execute_result"
    }
   ],
   "source": [
    "%%time\n",
    "dfs(bps[0])"
   ],
   "metadata": {
    "collapsed": false
   }
  },
  {
   "cell_type": "code",
   "execution_count": 38,
   "outputs": [
    {
     "name": "stdout",
     "output_type": "stream",
     "text": [
      "CPU times: user 763 ms, sys: 24 µs, total: 763 ms\n",
      "Wall time: 761 ms\n"
     ]
    },
    {
     "data": {
      "text/plain": "12"
     },
     "execution_count": 38,
     "metadata": {},
     "output_type": "execute_result"
    }
   ],
   "source": [
    "%%time\n",
    "dfs(bps[1])"
   ],
   "metadata": {
    "collapsed": false
   }
  },
  {
   "cell_type": "code",
   "execution_count": 39,
   "outputs": [
    {
     "name": "stdout",
     "output_type": "stream",
     "text": [
      "1389\n",
      "CPU times: user 6.24 s, sys: 3.89 ms, total: 6.24 s\n",
      "Wall time: 6.24 s\n"
     ]
    }
   ],
   "source": [
    "%%time\n",
    "bps = load_data(data)\n",
    "ttl = 0\n",
    "for bpid, bp in enumerate(bps, 1):\n",
    "    geodes = dfs(bp)\n",
    "    ttl += bpid * geodes\n",
    "print(ttl)"
   ],
   "metadata": {
    "collapsed": false
   }
  },
  {
   "cell_type": "code",
   "execution_count": 40,
   "outputs": [
    {
     "name": "stdout",
     "output_type": "stream",
     "text": [
      "11\n",
      "13\n",
      "21\n",
      "CPU times: user 2min 14s, sys: 5.01 s, total: 2min 19s\n",
      "Wall time: 2min 19s\n"
     ]
    }
   ],
   "source": [
    "%%time\n",
    "L = []\n",
    "for bp in bps[:3]:\n",
    "    geodes = dfs(bp, max_time=32)\n",
    "    print(geodes)\n",
    "    L.append(geodes)"
   ],
   "metadata": {
    "collapsed": false
   }
  },
  {
   "cell_type": "code",
   "execution_count": 41,
   "outputs": [
    {
     "data": {
      "text/plain": "3003"
     },
     "execution_count": 41,
     "metadata": {},
     "output_type": "execute_result"
    }
   ],
   "source": [
    "reduce(operator.mul, L)"
   ],
   "metadata": {
    "collapsed": false
   }
  }
 ],
 "metadata": {
  "kernelspec": {
   "display_name": "Python 3 (ipykernel)",
   "language": "python",
   "name": "python3"
  },
  "language_info": {
   "codemirror_mode": {
    "name": "ipython",
    "version": 3
   },
   "file_extension": ".py",
   "mimetype": "text/x-python",
   "name": "python",
   "nbconvert_exporter": "python",
   "pygments_lexer": "ipython3",
   "version": "3.11.0"
  }
 },
 "nbformat": 4,
 "nbformat_minor": 1
}
