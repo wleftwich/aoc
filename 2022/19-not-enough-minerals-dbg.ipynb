{
 "cells": [
  {
   "cell_type": "markdown",
   "metadata": {},
   "source": [
    "https://adventofcode.com/2022/day/19"
   ]
  },
  {
   "cell_type": "code",
   "execution_count": 6,
   "metadata": {},
   "outputs": [],
   "source": [
    "import re\n",
    "from collections import Counter"
   ]
  },
  {
   "cell_type": "code",
   "execution_count": 2,
   "metadata": {},
   "outputs": [],
   "source": [
    "with open(\"data/19.txt\") as fh:\n",
    "    data = fh.read()"
   ]
  },
  {
   "cell_type": "code",
   "execution_count": 3,
   "metadata": {},
   "outputs": [],
   "source": [
    "testdata = \"\"\"\\\n",
    "Blueprint 1: Each ore robot costs 4 ore. Each clay robot costs 2 ore. Each obsidian robot costs 3 ore and 14 clay. Each geode robot costs 2 ore and 7 obsidian.\n",
    "Blueprint 2: Each ore robot costs 2 ore. Each clay robot costs 3 ore. Each obsidian robot costs 3 ore and 8 clay. Each geode robot costs 3 ore and 12 obsidian\n",
    "\"\"\""
   ]
  },
  {
   "cell_type": "code",
   "execution_count": 4,
   "metadata": {},
   "outputs": [],
   "source": [
    "def load_data(data):\n",
    "    ORE, CLY, OBS, GEO = [0, 1, 2, 3]\n",
    "    L = []\n",
    "    for line in data.strip().splitlines():\n",
    "        bp = [[0, 0, 0, 0] for _ in range(4)]\n",
    "        _, bp[ORE][ORE], bp[CLY][ORE], bp[OBS][ORE], bp[OBS][CLY], bp[GEO][ORE], bp[GEO][OBS] = (int(x) for x in re.findall(r\"\\d+\", line))\n",
    "        L.append(bp)\n",
    "\n",
    "    return L"
   ]
  },
  {
   "cell_type": "code",
   "execution_count": 5,
   "metadata": {},
   "outputs": [
    {
     "data": {
      "text/plain": "[[4, 0, 0, 0], [2, 0, 0, 0], [3, 14, 0, 0], [2, 0, 7, 0]]"
     },
     "execution_count": 5,
     "metadata": {},
     "output_type": "execute_result"
    }
   ],
   "source": [
    "bps = load_data(testdata)\n",
    "bps[0]"
   ]
  },
  {
   "cell_type": "code",
   "execution_count": 11,
   "outputs": [],
   "source": [
    "def dfs(bp, max_time=24):\n",
    "    inds = ORE, CLY, OBS, GEO = [0, 1, 2, 3]\n",
    "    max_minerals = [0, 0, 0, 0]\n",
    "    for bot in inds:\n",
    "        max_minerals[bot] = max(req[bot] for req in bp)\n",
    "\n",
    "    visited = {}\n",
    "    stack = [((1,), max_time, [1, 0, 0, 0], [0, 0, 0, 0])]\n",
    "    max_geo = 0\n",
    "    while stack:\n",
    "        pth, tr, bs, ms = stack.pop()\n",
    "        if tr <= 0:\n",
    "            continue\n",
    "\n",
    "        max_geo = max(max_geo, ms[GEO] + bs[GEO] * tr)\n",
    "        if pth in visited:\n",
    "            continue\n",
    "        visited[pth] = (tr, bs, ms)\n",
    "\n",
    "        # Can we beat best so far even if we make a new geode bot every minute going forward?\n",
    "        max_poss_geo = ms[GEO] + bs[GEO] * tr + sum(range(tr))\n",
    "        if max_poss_geo < max_geo:\n",
    "            visited[pth] = -1\n",
    "            continue\n",
    "\n",
    "        for bi in inds:\n",
    "            # Do we need this bot?\n",
    "            if bi != GEO and max_minerals[bi] * tr <= ms[bi] + bs[bi] * tr:\n",
    "                visited[pth + (bi,)] = -2\n",
    "                continue\n",
    "\n",
    "            # Do precursor bots exist yet?\n",
    "            reqs = bp[bi]\n",
    "            if not all(x for x,y in zip(bs, reqs) if y):\n",
    "                visited[pth + (bi,)] = -3\n",
    "                continue\n",
    "\n",
    "            tr1, bs1, ms1 = tr, bs.copy(), ms.copy()\n",
    "            # If not all required minerals are present, wait for them to be produced\n",
    "            while any(a-b < 0 for a,b in zip(ms1, reqs)):\n",
    "                tr1 -= 1\n",
    "                ms1 = [a+b for a,b in zip(bs1, ms1)]\n",
    "            ms1 = [a-b for a,b in zip(ms1, reqs)]\n",
    "            tr1 -= 1\n",
    "            ms1 = [a+b for a,b in zip(bs1, ms1)]\n",
    "            bs1[bi] += 1\n",
    "            stack.append((pth+(bi,), tr1, bs1, ms1))\n",
    "\n",
    "    print(max_geo, len(visited), Counter(v for v in visited.values() if v in [-1, -2, -3]))\n",
    "\n",
    "    return max_geo\n"
   ],
   "metadata": {
    "collapsed": false
   }
  },
  {
   "cell_type": "code",
   "execution_count": 12,
   "outputs": [
    {
     "name": "stdout",
     "output_type": "stream",
     "text": [
      "9 36712 Counter({-1: 16944, -2: 9352, -3: 592})\n",
      "CPU times: user 225 ms, sys: 0 ns, total: 225 ms\n",
      "Wall time: 223 ms\n"
     ]
    },
    {
     "data": {
      "text/plain": "9"
     },
     "execution_count": 12,
     "metadata": {},
     "output_type": "execute_result"
    }
   ],
   "source": [
    "%%time\n",
    "bps = load_data(testdata)\n",
    "dfs(bps[0])"
   ],
   "metadata": {
    "collapsed": false
   }
  },
  {
   "cell_type": "code",
   "execution_count": 13,
   "outputs": [
    {
     "name": "stdout",
     "output_type": "stream",
     "text": [
      "12 64341 Counter({-2: 31375, -1: 15015, -3: 110})\n",
      "CPU times: user 269 ms, sys: 0 ns, total: 269 ms\n",
      "Wall time: 272 ms\n"
     ]
    },
    {
     "data": {
      "text/plain": "12"
     },
     "execution_count": 13,
     "metadata": {},
     "output_type": "execute_result"
    }
   ],
   "source": [
    "%%time\n",
    "dfs(bps[1])"
   ],
   "metadata": {
    "collapsed": false
   }
  },
  {
   "cell_type": "code",
   "execution_count": 14,
   "outputs": [
    {
     "name": "stdout",
     "output_type": "stream",
     "text": [
      "0 9838 Counter({-2: 5606, -3: 298})\n",
      "0 15895 Counter({-2: 9488, -3: 216})\n",
      "1 19206 Counter({-2: 8270, -1: 3495, -3: 568})\n",
      "5 22453 Counter({-2: 9463, -1: 6326, -3: 147})\n",
      "3 11451 Counter({-2: 4445, -1: 3381, -3: 236})\n",
      "2 20883 Counter({-2: 10824, -1: 2370, -3: 429})\n",
      "0 11352 Counter({-2: 6518, -3: 298})\n",
      "1 16347 Counter({-2: 8627, -1: 1880, -3: 159})\n",
      "14 45585 Counter({-2: 21583, -1: 11675, -3: 47})\n",
      "0 38672 Counter({-2: 23467, -3: 444})\n",
      "1 8444 Counter({-2: 3745, -1: 1439, -3: 298})\n",
      "0 8236 Counter({-2: 4569, -3: 324})\n",
      "5 35712 Counter({-2: 18405, -1: 6511, -3: 158})\n",
      "6 14788 Counter({-2: 6480, -1: 4004, -3: 108})\n",
      "0 15025 Counter({-2: 8826, -3: 220})\n",
      "0 7577 Counter({-2: 4151, -3: 336})\n",
      "1 15469 Counter({-2: 9015, -1: 861, -3: 159})\n",
      "0 19380 Counter({-2: 11604, -3: 444})\n",
      "15 22641 Counter({-1: 8731, -2: 7792, -3: 120})\n",
      "6 64055 Counter({-2: 30809, -1: 13289, -3: 450})\n",
      "0 21605 Counter({-2: 13176, -3: 190})\n",
      "5 15856 Counter({-1: 6249, -2: 4703, -3: 418})\n",
      "0 21868 Counter({-2: 12335, -3: 595})\n",
      "0 35155 Counter({-2: 20777, -3: 580})\n",
      "6 34308 Counter({-2: 15187, -1: 9117, -3: 269})\n",
      "4 10379 Counter({-2: 3670, -1: 3561, -3: 178})\n",
      "1 26929 Counter({-2: 15397, -1: 1252, -3: 393})\n",
      "0 9211 Counter({-2: 5192, -3: 311})\n",
      "8 38090 Counter({-2: 17733, -1: 9506, -3: 156})\n",
      "0 14808 Counter({-2: 8609, -3: 220})\n",
      "1389\n",
      "CPU times: user 4.07 s, sys: 10.8 ms, total: 4.08 s\n",
      "Wall time: 4.13 s\n"
     ]
    }
   ],
   "source": [
    "%%time\n",
    "bps = load_data(data)\n",
    "ttl = 0\n",
    "for bpid, bp in enumerate(bps, 1):\n",
    "    geodes = dfs(bp)\n",
    "    ttl += bpid * geodes\n",
    "print(ttl)"
   ],
   "metadata": {
    "collapsed": false
   }
  },
  {
   "cell_type": "code",
   "execution_count": 15,
   "outputs": [
    {
     "name": "stdout",
     "output_type": "stream",
     "text": [
      "11 800000 Counter({-2: 341957, -1: 235126, -3: 619})\n",
      "11\n",
      "13 1236825 Counter({-2: 529785, -1: 364099, -3: 364})\n",
      "13\n",
      "21 1243611 Counter({-1: 561191, -2: 363900, -3: 1255})\n",
      "21\n",
      "CPU times: user 14.9 s, sys: 312 ms, total: 15.2 s\n",
      "Wall time: 15.2 s\n"
     ]
    }
   ],
   "source": [
    "%%time\n",
    "L = []\n",
    "for bp in bps[:3]:\n",
    "    geodes = dfs(bp, max_time=32)\n",
    "    print(geodes)\n",
    "    L.append(geodes)"
   ],
   "metadata": {
    "collapsed": false
   }
  },
  {
   "cell_type": "code",
   "execution_count": 11,
   "outputs": [
    {
     "data": {
      "text/plain": "3003"
     },
     "execution_count": 11,
     "metadata": {},
     "output_type": "execute_result"
    }
   ],
   "source": [
    "L[0] * L[1] * L[2]"
   ],
   "metadata": {
    "collapsed": false
   }
  }
 ],
 "metadata": {
  "kernelspec": {
   "display_name": "Python 3 (ipykernel)",
   "language": "python",
   "name": "python3"
  },
  "language_info": {
   "codemirror_mode": {
    "name": "ipython",
    "version": 3
   },
   "file_extension": ".py",
   "mimetype": "text/x-python",
   "name": "python",
   "nbconvert_exporter": "python",
   "pygments_lexer": "ipython3",
   "version": "3.11.0"
  }
 },
 "nbformat": 4,
 "nbformat_minor": 1
}
