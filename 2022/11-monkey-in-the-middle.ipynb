{
 "cells": [
  {
   "cell_type": "markdown",
   "source": [
    "https://adventofcode.com/2022/day/11"
   ],
   "metadata": {
    "collapsed": false
   }
  },
  {
   "cell_type": "code",
   "execution_count": 1,
   "outputs": [],
   "source": [
    "import re\n",
    "import operator\n",
    "from collections import deque\n",
    "from functools import reduce\n",
    "from math import lcm"
   ],
   "metadata": {
    "collapsed": false
   }
  },
  {
   "cell_type": "code",
   "execution_count": 2,
   "outputs": [],
   "source": [
    "with open(\"data/11.txt\") as fh:\n",
    "    data = fh.read()"
   ],
   "metadata": {
    "collapsed": false
   }
  },
  {
   "cell_type": "code",
   "execution_count": 3,
   "outputs": [],
   "source": [
    "def parse_monkey(s):\n",
    "    L = s.strip().splitlines()\n",
    "    return dict(\n",
    "        id=int(re.search(r\"\\d+\", L[0]).group()),\n",
    "        items=tuple(int(x) for x in re.findall(r\"\\d+\", L[1])),\n",
    "        operation=L[2].split()[-2:],\n",
    "        modulus=int(re.search(r\"\\d+\", L[3]).group()),\n",
    "        true_target=int(re.search(r\"\\d+\", L[4]).group()),\n",
    "        false_target=int(re.search(r\"\\d+\", L[5]).group()),\n",
    "    )"
   ],
   "metadata": {
    "collapsed": false
   }
  },
  {
   "cell_type": "code",
   "execution_count": 4,
   "outputs": [],
   "source": [
    "class Monkey:\n",
    "    def __init__(self, id, items, operation, modulus, true_target, false_target, barrel=None):\n",
    "        self.id = id\n",
    "        self.items = deque(items)\n",
    "        self.modulus = modulus\n",
    "        self.true_target = true_target\n",
    "        self.false_target = false_target\n",
    "        self.barrel = barrel\n",
    "        self.counter = 0\n",
    "\n",
    "        self.opfunc = {\"+\": operator.add, \"*\": operator.mul}[operation[0]]\n",
    "        try:\n",
    "            self.oparg = int(operation[1])\n",
    "        except ValueError:\n",
    "            self.oparg = None\n",
    "\n",
    "    def throw(self, item, target):\n",
    "        self.barrel[target].catch(item)\n",
    "\n",
    "    def catch(self, item):\n",
    "        self.items.append(item)\n",
    "\n",
    "    def manage_worry(self, item):\n",
    "        return item // 3\n",
    "\n",
    "    def op(self, item):\n",
    "        arg = item if self.oparg is None else self.oparg\n",
    "        return self.opfunc(item, arg)\n",
    "\n",
    "    def turn(self):\n",
    "        while self.items:\n",
    "            self.counter += 1\n",
    "            item = self.items.popleft()\n",
    "            item = self.op(item)\n",
    "            item = self.manage_worry(item)\n",
    "            target = self.true_target if not item % self.modulus else self.false_target\n",
    "            self.throw(item, target)\n",
    "\n",
    "    def __repr__(self):\n",
    "        return f\"<Monkey {self.id} {self.counter} {list(self.items)}>\""
   ],
   "metadata": {
    "collapsed": false
   }
  },
  {
   "cell_type": "code",
   "execution_count": 5,
   "outputs": [
    {
     "name": "stdout",
     "output_type": "stream",
     "text": [
      "58322\n",
      "CPU times: user 639 µs, sys: 117 µs, total: 756 µs\n",
      "Wall time: 760 µs\n"
     ]
    }
   ],
   "source": [
    "%%time\n",
    "barrel = [Monkey(**parse_monkey(s)) for s in data.split(\"\\n\\n\")]\n",
    "for monkey in barrel:\n",
    "    monkey.barrel = barrel\n",
    "for _ in range(20):\n",
    "    for monkey in barrel:\n",
    "        monkey.turn()\n",
    "print(reduce(operator.mul, list(reversed(sorted(x.counter for x in barrel)))[:2]))"
   ],
   "metadata": {
    "collapsed": false
   }
  },
  {
   "cell_type": "code",
   "execution_count": 6,
   "outputs": [],
   "source": [
    "class Monkey2(Monkey):\n",
    "    def __init__(self, *args, **kwargs):\n",
    "        self.barrel_modulus = 1\n",
    "        super().__init__(*args, **kwargs)\n",
    "\n",
    "    def manage_worry(self, item):\n",
    "        return item % self.barrel_modulus"
   ],
   "metadata": {
    "collapsed": false
   }
  },
  {
   "cell_type": "code",
   "execution_count": 7,
   "outputs": [
    {
     "name": "stdout",
     "output_type": "stream",
     "text": [
      "13937702909\n",
      "CPU times: user 242 ms, sys: 0 ns, total: 242 ms\n",
      "Wall time: 241 ms\n"
     ]
    }
   ],
   "source": [
    "%%time\n",
    "barrel = [Monkey2(**parse_monkey(s)) for s in data.split(\"\\n\\n\")]\n",
    "barrel_modulus = lcm(*[x.modulus for x in barrel])\n",
    "for monkey in barrel:\n",
    "    monkey.barrel = barrel\n",
    "    monkey.barrel_modulus = barrel_modulus\n",
    "for _ in range(10_000):\n",
    "    for monkey in barrel:\n",
    "        monkey.turn()\n",
    "print(reduce(operator.mul, list(reversed(sorted(x.counter for x in barrel)))[:2]))"
   ],
   "metadata": {
    "collapsed": false
   }
  },
  {
   "cell_type": "code",
   "execution_count": 7,
   "outputs": [],
   "source": [],
   "metadata": {
    "collapsed": false
   }
  }
 ],
 "metadata": {
  "kernelspec": {
   "display_name": "Python 3",
   "language": "python",
   "name": "python3"
  },
  "language_info": {
   "codemirror_mode": {
    "name": "ipython",
    "version": 2
   },
   "file_extension": ".py",
   "mimetype": "text/x-python",
   "name": "python",
   "nbconvert_exporter": "python",
   "pygments_lexer": "ipython2",
   "version": "2.7.6"
  }
 },
 "nbformat": 4,
 "nbformat_minor": 0
}
