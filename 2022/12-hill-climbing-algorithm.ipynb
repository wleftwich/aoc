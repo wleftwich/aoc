{
 "cells": [
  {
   "cell_type": "markdown",
   "source": [
    "https://adventofcode.com/2022/day/12"
   ],
   "metadata": {
    "collapsed": false
   }
  },
  {
   "cell_type": "code",
   "execution_count": 78,
   "outputs": [],
   "source": [
    "import string\n",
    "from heapq import heappush, heappop"
   ],
   "metadata": {
    "collapsed": false
   }
  },
  {
   "cell_type": "code",
   "execution_count": 79,
   "outputs": [],
   "source": [
    "with open(\"data/12.txt\") as fh:\n",
    "    data = fh.read()"
   ],
   "metadata": {
    "collapsed": false
   }
  },
  {
   "cell_type": "code",
   "execution_count": 80,
   "outputs": [],
   "source": [
    "testdata = \"\"\"\\\n",
    "Sabqponm\n",
    "abcryxxl\n",
    "accszExk\n",
    "acctuvwj\n",
    "abdefghi\n",
    "\"\"\""
   ],
   "metadata": {
    "collapsed": false
   }
  },
  {
   "cell_type": "code",
   "execution_count": 81,
   "outputs": [],
   "source": [
    "def load_data(data):\n",
    "    height_lookup = {c: i for (i, c) in enumerate(string.ascii_lowercase)} | {\"S\": 0, \"E\": 25}\n",
    "    S = E = None\n",
    "    D = {}\n",
    "    for y, line in enumerate(data.strip().splitlines()):\n",
    "        for x, c in enumerate(line):\n",
    "            p = (x, y)\n",
    "            v = height_lookup[c]\n",
    "            D[p] = v\n",
    "            if c == \"S\":\n",
    "                S = p\n",
    "            elif c == \"E\":\n",
    "                E = p\n",
    "    return D, S, E"
   ],
   "metadata": {
    "collapsed": false
   }
  },
  {
   "cell_type": "code",
   "execution_count": 82,
   "outputs": [],
   "source": [
    "def neighbors(p):\n",
    "    x, y = p\n",
    "    return [\n",
    "        (x+1, y),\n",
    "        (x, y+1),\n",
    "        (x-1, y),\n",
    "        (x, y-1)\n",
    "    ]"
   ],
   "metadata": {
    "collapsed": false
   }
  },
  {
   "cell_type": "code",
   "execution_count": 83,
   "outputs": [],
   "source": [
    "t_grid, t_start, t_finish = load_data(testdata)"
   ],
   "metadata": {
    "collapsed": false
   }
  },
  {
   "cell_type": "markdown",
   "source": [
    "Length of shortest path from start to finish."
   ],
   "metadata": {
    "collapsed": false
   }
  },
  {
   "cell_type": "code",
   "execution_count": 100,
   "outputs": [],
   "source": [
    "def dijkstra_1(grid, start, finish):\n",
    "    visited = {start: (0, None)}\n",
    "    pq = []\n",
    "    heappush(pq, (0, start))\n",
    "    while pq:\n",
    "        d, p = heappop(pq)\n",
    "        if p == finish:\n",
    "            return d\n",
    "        for nabe in neighbors(p):\n",
    "            if nabe in grid and grid[nabe] - grid[p] < 2:\n",
    "                v = visited.get(nabe)\n",
    "                if v is None or v[0] > d+1:\n",
    "                    visited[nabe] = (d+1, p)\n",
    "                    heappush(pq, (d+1, nabe))"
   ],
   "metadata": {
    "collapsed": false
   }
  },
  {
   "cell_type": "code",
   "execution_count": 101,
   "outputs": [
    {
     "data": {
      "text/plain": "31"
     },
     "execution_count": 101,
     "metadata": {},
     "output_type": "execute_result"
    }
   ],
   "source": [
    "dijkstra_1(t_grid, t_start, t_finish)"
   ],
   "metadata": {
    "collapsed": false
   }
  },
  {
   "cell_type": "markdown",
   "source": [
    "Part 1"
   ],
   "metadata": {
    "collapsed": false
   }
  },
  {
   "cell_type": "code",
   "execution_count": 102,
   "outputs": [
    {
     "data": {
      "text/plain": "423"
     },
     "execution_count": 102,
     "metadata": {},
     "output_type": "execute_result"
    }
   ],
   "source": [
    "grid, start, finish = load_data(data)\n",
    "dijkstra_1(grid, start, finish)"
   ],
   "metadata": {
    "collapsed": false
   }
  },
  {
   "cell_type": "markdown",
   "source": [
    "Length of shortest reversed path from finish to any starting point at elevation \"a\"."
   ],
   "metadata": {
    "collapsed": false
   }
  },
  {
   "cell_type": "code",
   "execution_count": 103,
   "outputs": [],
   "source": [
    "def dijkstra_2(grid, finish):\n",
    "    visited = {finish: (0, None)}\n",
    "    pq = []\n",
    "    heappush(pq, (0, finish))\n",
    "    while pq:\n",
    "        d, p = heappop(pq)\n",
    "        if grid[p] == 0:\n",
    "            return d\n",
    "        for nabe in neighbors(p):\n",
    "            if nabe in grid and grid[p] - grid[nabe] < 2: # Notice elevation delta reversed from dijkstra_1\n",
    "                v = visited.get(nabe)\n",
    "                if v is None or v[0] > d+1:\n",
    "                    visited[nabe] = (d+1, p)\n",
    "                    heappush(pq, (d+1, nabe))"
   ],
   "metadata": {
    "collapsed": false
   }
  },
  {
   "cell_type": "code",
   "execution_count": 104,
   "outputs": [
    {
     "data": {
      "text/plain": "29"
     },
     "execution_count": 104,
     "metadata": {},
     "output_type": "execute_result"
    }
   ],
   "source": [
    "dijkstra_2(t_grid, t_finish)"
   ],
   "metadata": {
    "collapsed": false
   }
  },
  {
   "cell_type": "markdown",
   "source": [
    "Part 2"
   ],
   "metadata": {
    "collapsed": false
   }
  },
  {
   "cell_type": "code",
   "execution_count": 105,
   "outputs": [
    {
     "data": {
      "text/plain": "416"
     },
     "execution_count": 105,
     "metadata": {},
     "output_type": "execute_result"
    }
   ],
   "source": [
    "dijkstra_2 (grid, finish)"
   ],
   "metadata": {
    "collapsed": false
   }
  }
 ],
 "metadata": {
  "kernelspec": {
   "display_name": "Python 3",
   "language": "python",
   "name": "python3"
  },
  "language_info": {
   "codemirror_mode": {
    "name": "ipython",
    "version": 2
   },
   "file_extension": ".py",
   "mimetype": "text/x-python",
   "name": "python",
   "nbconvert_exporter": "python",
   "pygments_lexer": "ipython2",
   "version": "2.7.6"
  }
 },
 "nbformat": 4,
 "nbformat_minor": 0
}
