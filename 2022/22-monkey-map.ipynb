{
 "cells": [
  {
   "cell_type": "markdown",
   "source": [
    "https://adventofcode.com/2022/day/22"
   ],
   "metadata": {
    "collapsed": false
   }
  },
  {
   "cell_type": "code",
   "execution_count": 3,
   "outputs": [],
   "source": [
    "import re\n",
    "import logging\n",
    "\n",
    "logging.basicConfig()\n",
    "logger = logging.getLogger()"
   ],
   "metadata": {
    "collapsed": false
   }
  },
  {
   "cell_type": "code",
   "execution_count": 4,
   "outputs": [],
   "source": [
    "with open(\"data/22.txt\")as fh:\n",
    "    data = fh.read()"
   ],
   "metadata": {
    "collapsed": false
   }
  },
  {
   "cell_type": "code",
   "execution_count": 5,
   "outputs": [],
   "source": [
    "testdata = \"\"\"\\\n",
    "        ...#\n",
    "        .#..\n",
    "        #...\n",
    "        ....\n",
    "...#.......#\n",
    "........#...\n",
    "..#....#....\n",
    "..........#.\n",
    "        ...#....\n",
    "        .....#..\n",
    "        .#......\n",
    "        ......#.\n",
    "\n",
    "10R5L5R10L4R5L5\n",
    "\"\"\""
   ],
   "metadata": {
    "collapsed": false
   }
  },
  {
   "cell_type": "code",
   "execution_count": 6,
   "outputs": [],
   "source": [
    "def load_data(data):\n",
    "    boardstr, guidestr = data.split(\"\\n\\n\")\n",
    "    guide = [int(x) if x.isdigit() else x for x in re.findall(r\"[RL]|\\d+\", guidestr)]\n",
    "    board = {}\n",
    "    edges = {1: {}, -1: {}, 0+1j: {}, 0-1j: {}}\n",
    "    for minusy, line in enumerate(boardstr.splitlines(), 1):\n",
    "        for x, c in enumerate(line, 1):\n",
    "            if c in (\".\", \"#\"):\n",
    "                y = -minusy\n",
    "                board[complex(x, y)] = {\".\": 0, \"#\": 1}[c]\n",
    "                edges[1][y] = max(edges[1].get(y, x), x)\n",
    "                edges[-1][y] = min(edges[-1].get(y, x), x)\n",
    "                edges[0+1j][x] = max(edges[0+1j].get(x, y), y)\n",
    "                edges[0-1j][x] = min(edges[0-1j].get(x, y), y)\n",
    "    extrema = {}\n",
    "    for y, xmax in edges[1].items():\n",
    "        xmin = edges[-1][y]\n",
    "        right = complex(xmax, y)\n",
    "        left = complex(xmin, y)\n",
    "        extrema[(1, right)] = left\n",
    "        extrema[(-1, left)] = right\n",
    "    for x, ymax in edges[0+1j].items():\n",
    "        ymin = edges[0-1j][x]\n",
    "        top = complex(x, ymax)\n",
    "        bottom = complex(x, ymin)\n",
    "        extrema[(0+1j, top)] = bottom\n",
    "        extrema[(0-1j, bottom)] = top\n",
    "\n",
    "    return guide, board, extrema"
   ],
   "metadata": {
    "collapsed": false
   }
  },
  {
   "cell_type": "code",
   "execution_count": 7,
   "outputs": [],
   "source": [
    "def traverse(guide, board, extrema):\n",
    "    starty = max(p.imag for p in board)\n",
    "    startx = min(p.real for p in board if p.imag == starty)\n",
    "    pos = complex(startx, starty)\n",
    "    # print(\"start\", pos)\n",
    "    drxn = 1\n",
    "    for step in guide:\n",
    "        turn = {\"R\": 0-1j, \"L\": 0+1j}.get(step)\n",
    "        if turn is not None:\n",
    "            drxn *= turn\n",
    "            # print(pos, drxn)\n",
    "            continue\n",
    "        for _ in range(step):\n",
    "            nxt = pos + drxn\n",
    "            try:\n",
    "                tile = board[nxt]\n",
    "            except KeyError:\n",
    "                nxt = extrema[(drxn, pos)]\n",
    "                tile = board[nxt]\n",
    "            if tile:\n",
    "                # hit the wall\n",
    "                break\n",
    "            else:\n",
    "                pos = nxt\n",
    "    password = -1000 * pos.imag + 4 * pos.real + {1: 0, 0-1j: 1, -1: 2, 0+1j: 3}[drxn]\n",
    "    return pos, drxn, password"
   ],
   "metadata": {
    "collapsed": false
   }
  },
  {
   "cell_type": "code",
   "execution_count": 8,
   "outputs": [
    {
     "data": {
      "text/plain": "((8-6j), (1+0j), 6032.0)"
     },
     "execution_count": 8,
     "metadata": {},
     "output_type": "execute_result"
    }
   ],
   "source": [
    "traverse(*load_data(testdata))"
   ],
   "metadata": {
    "collapsed": false
   }
  },
  {
   "cell_type": "code",
   "execution_count": 9,
   "outputs": [
    {
     "name": "stdout",
     "output_type": "stream",
     "text": [
      "CPU times: user 35.3 ms, sys: 0 ns, total: 35.3 ms\n",
      "Wall time: 34.9 ms\n"
     ]
    },
    {
     "data": {
      "text/plain": "((35-189j), (1+0j), 189140.0)"
     },
     "execution_count": 9,
     "metadata": {},
     "output_type": "execute_result"
    }
   ],
   "source": [
    "%%time\n",
    "traverse(*load_data(data))"
   ],
   "metadata": {
    "collapsed": false
   }
  },
  {
   "cell_type": "markdown",
   "source": [
    "Part 2\n",
    "\n",
    "<img src=\"22-cube.jpg\" width=\"300\" height=\"400\"/>"
   ],
   "metadata": {
    "collapsed": false
   }
  },
  {
   "cell_type": "code",
   "execution_count": 75,
   "outputs": [],
   "source": [
    "def transition(face_point, from_drxn, to_drxn, side=50):\n",
    "    xmin, xmax = 0, side-1\n",
    "    ymin, ymax = 1-side, 0\n",
    "\n",
    "    def up_up(p):\n",
    "        return complex(p.real, ymin)\n",
    "\n",
    "    def up_right(p):\n",
    "        return complex(xmin, ymax - p.real)\n",
    "\n",
    "    def up_down(p):\n",
    "        return complex(xmax - p.real, ymax)\n",
    "\n",
    "    def up_left(p):\n",
    "        return complex(xmax, ymin + p.real)\n",
    "\n",
    "    def right_right(p):\n",
    "        return complex(xmin, p.imag)\n",
    "\n",
    "    def right_down(p):\n",
    "        return complex(p.imag - ymin, ymax)\n",
    "\n",
    "    def right_left(p):\n",
    "        return  complex(xmax, ymin - p.imag)\n",
    "\n",
    "    def right_up(p):\n",
    "        return complex(ymax - p.imag, ymin)\n",
    "\n",
    "    def down_down(p):\n",
    "        return complex(p.real, ymax)\n",
    "\n",
    "    def down_left(p):\n",
    "        return complex(xmax, -p.real)\n",
    "\n",
    "    def down_up(p):\n",
    "        return complex(xmax - p.real, ymin)\n",
    "\n",
    "    def down_right(p):\n",
    "        return complex(xmin, ymin + p.real)\n",
    "\n",
    "    def left_left(p):\n",
    "        return complex(xmax, p.imag)\n",
    "\n",
    "    def left_up(p):\n",
    "        return complex(p.imag - ymin, ymin)\n",
    "\n",
    "    def left_right(p):\n",
    "        return complex(xmin, ymin - p.imag)\n",
    "\n",
    "    def left_down(p):\n",
    "        return complex(ymax - p.imag, ymax)\n",
    "\n",
    "    D = {\n",
    "        (0+1j, 0+1j): up_up,\n",
    "        (0+1j, 1): up_right,\n",
    "        (0+1j, 0-1j): up_down,\n",
    "        (0+1j, -1): up_left,\n",
    "\n",
    "        (1, 1): right_right,\n",
    "        (1, 0-1j): right_down,\n",
    "        (1, -1): right_left,\n",
    "        (1, 0+1j): right_up,\n",
    "\n",
    "        (0-1j, 0-1j): down_down,\n",
    "        (0-1j, -1): down_left,\n",
    "        (0-1j, 0+1j): down_up,\n",
    "        (0-1j, 1): down_right,\n",
    "\n",
    "        (-1, -1): left_left,\n",
    "        (-1, 0+1j): left_up,\n",
    "        (-1, 1): left_right,\n",
    "        (-1, 0-1j): left_down,\n",
    "    }\n",
    "\n",
    "    new_pos = D[(from_drxn, to_drxn)](face_point)\n",
    "    return new_pos"
   ],
   "metadata": {
    "collapsed": false
   }
  },
  {
   "cell_type": "code",
   "execution_count": 73,
   "outputs": [],
   "source": [
    "class Cube:\n",
    "    side = 4\n",
    "    face_offsets = {\n",
    "        1: 0,\n",
    "        2: complex(-2 * side, -side),\n",
    "        3: complex(-side, -side),\n",
    "        4: complex(0, -side),\n",
    "        5: complex(0, -2 * side),\n",
    "        6: complex(side, -2 * side)\n",
    "    }\n",
    "    neighbors = {\n",
    "        1: {\n",
    "            0+1j: 2,\n",
    "            1: 6,\n",
    "            0-1j: 4,\n",
    "            -1: 3,\n",
    "        },\n",
    "        2: {\n",
    "            0+1j: 1,\n",
    "            1: 3,\n",
    "            0-1j: 5,\n",
    "            -1: 6,\n",
    "        },\n",
    "        3: {\n",
    "            0+1j: 1,\n",
    "            1: 4,\n",
    "            0-1j: 5,\n",
    "            -1: 2,\n",
    "        },\n",
    "        4: {\n",
    "            0+1j: 1,\n",
    "            1: 6,\n",
    "            0-1j: 5,\n",
    "            -1: 3,\n",
    "        },\n",
    "        5: {\n",
    "            0+1j: 4,\n",
    "            1: 6,\n",
    "            0-1j: 2,\n",
    "            -1: 3,\n",
    "        },\n",
    "        6: {\n",
    "            0+1j: 4,\n",
    "            1: 1,\n",
    "            0-1j: 2,\n",
    "            -1: 5,\n",
    "        },\n",
    "    }\n",
    "\n",
    "    def __init__(self, board):\n",
    "        self.board = board\n",
    "        self.set_transition_drxn()\n",
    "        self.set_faces()\n",
    "\n",
    "    def set_transition_drxn(self):\n",
    "        transition_drxn = {}\n",
    "        for face_id, nabes in self.neighbors.items():\n",
    "            transition_drxn[face_id] = {v: -k for (k, v) in nabes.items()}\n",
    "        self.transition_drxn = transition_drxn\n",
    "\n",
    "    def set_faces(self):\n",
    "        o_y = max(p.imag for p in self.board)\n",
    "        o_x = min(p.real for p in self.board if p.imag == o_y)\n",
    "        origin = self.origin = complex(o_x, o_y)\n",
    "        s = self.side\n",
    "        logger.debug(\"origin %s\", origin)\n",
    "\n",
    "        def extract_face(offset):\n",
    "            face_origin = origin + offset\n",
    "            logger.debug(\"offset %s, face_origin %s\"), offset, face_origin\n",
    "            keys = (complex(x, -y) for x in range(s) for y in range(s))\n",
    "            return {k: self.board[k + face_origin] for k in keys}\n",
    "\n",
    "        self.faces = {k: extract_face(v) for k, v in self.face_offsets.items()}\n",
    "\n",
    "    def explore(self, guide):\n",
    "        # L = []\n",
    "        faces = self.faces\n",
    "        face_id = 1\n",
    "        face = faces[face_id]\n",
    "        pos = 0\n",
    "        drxn = 1\n",
    "\n",
    "        for step in guide:\n",
    "            turn = {\"R\": 0-1j, \"L\": 0+1j}.get(step)\n",
    "            if turn is not None:\n",
    "                drxn *= turn\n",
    "                continue\n",
    "            for _ in range(step):\n",
    "                nxt = pos + drxn\n",
    "                try:\n",
    "                    nxt_val = face[nxt]\n",
    "                except KeyError:\n",
    "                    new_face_id, new_face, new_pos, new_drxn = self.next_face(pos, face_id, drxn)\n",
    "                    if new_face_id is None:\n",
    "                        break\n",
    "                    else:\n",
    "                        face_id, face, nxt, drxn =  new_face_id, new_face, new_pos, new_drxn\n",
    "                        nxt_val = face[nxt]\n",
    "                if nxt_val:\n",
    "                    break\n",
    "                pos = nxt\n",
    "\n",
    "        board_pos = self.face_to_board_pos(face_id, pos)\n",
    "        password = -1000 * board_pos.imag + 4 * board_pos.real + {1: 0, 0-1j: 1, -1: 2, 0+1j: 3}[drxn]\n",
    "        return face_id, pos, board_pos, drxn, password\n",
    "\n",
    "    def face_to_board_pos(self, face_id, p):\n",
    "        return p + self.face_offsets[face_id] + self.origin\n",
    "\n",
    "    def next_face(self, pos, face_id, drxn):\n",
    "        new_face_id = self.neighbors[face_id][drxn]\n",
    "        new_face = self.faces[new_face_id]\n",
    "        new_drxn = self.transition_drxn[new_face_id][face_id]\n",
    "        new_pos = transition(pos, drxn, new_drxn, side=self.side)\n",
    "        try:\n",
    "            new_val = new_face[new_pos]\n",
    "        except:\n",
    "            logger.exception(\"pos %s, face_id %s, drxn %s, new_pos %s, new_face_id %s, new_drxn %s\", pos, face_id, drxn, new_pos, new_face_id, new_drxn)\n",
    "            raise\n",
    "        if new_val:  # hit the wall\n",
    "            return None, None, None, None\n",
    "        else:\n",
    "            return new_face_id, new_face, new_pos, new_drxn\n"
   ],
   "metadata": {
    "collapsed": false
   }
  },
  {
   "cell_type": "code",
   "execution_count": 65,
   "outputs": [],
   "source": [
    "test_guide, test_board, test_extrema = load_data(testdata)"
   ],
   "metadata": {
    "collapsed": false
   }
  },
  {
   "cell_type": "code",
   "execution_count": 74,
   "outputs": [
    {
     "name": "stdout",
     "output_type": "stream",
     "text": [
      "3 (2+0j) (7-5j) 1j 5031.0\n"
     ]
    }
   ],
   "source": [
    "logger.setLevel(\"INFO\")\n",
    "c = Cube(test_board)\n",
    "face_id, pos, board_pos, drxn, password = c.explore(test_guide)\n",
    "print(face_id, pos, board_pos, drxn, password)"
   ],
   "metadata": {
    "collapsed": false
   }
  },
  {
   "cell_type": "code",
   "execution_count": 72,
   "outputs": [],
   "source": [
    "class PuzzleCube(Cube):\n",
    "    side = 50\n",
    "    face_offsets = {\n",
    "        1: 0,\n",
    "        2: complex(side, 0),\n",
    "        3: complex(0, -side),\n",
    "        4: complex(-side, -2 * side),\n",
    "        5: complex(0, -2 * side),\n",
    "        6: complex(-side, -3 * side)\n",
    "    }\n",
    "    neighbors = {\n",
    "        1: {\n",
    "            0+1j: 6,\n",
    "            1: 2,\n",
    "            0-1j: 3,\n",
    "            -1: 4,\n",
    "        },\n",
    "        2: {\n",
    "            0+1j: 6,\n",
    "            1: 5,\n",
    "            0-1j: 3,\n",
    "            -1: 1,\n",
    "        },\n",
    "        3: {\n",
    "            0+1j: 1,\n",
    "            1: 2,\n",
    "            0-1j: 5,\n",
    "            -1: 4,\n",
    "        },\n",
    "        4: {\n",
    "            0+1j: 3,\n",
    "            1: 5,\n",
    "            0-1j: 6,\n",
    "            -1: 1,\n",
    "        },\n",
    "        5: {\n",
    "            0+1j: 3,\n",
    "            1: 2,\n",
    "            0-1j: 6,\n",
    "            -1: 4,\n",
    "        },\n",
    "        6: {\n",
    "            0+1j: 4,\n",
    "            1: 5,\n",
    "            0-1j: 2,\n",
    "            -1: 1,\n",
    "        },\n",
    "    }\n"
   ],
   "metadata": {
    "collapsed": false
   }
  },
  {
   "cell_type": "code",
   "execution_count": 67,
   "outputs": [],
   "source": [
    "guide, board, extrema = load_data(data)"
   ],
   "metadata": {
    "collapsed": false
   }
  },
  {
   "cell_type": "code",
   "execution_count": 70,
   "outputs": [
    {
     "name": "stdout",
     "output_type": "stream",
     "text": [
      "4 (14-14j) (15-115j) (-0+1j) 115063.0\n",
      "CPU times: user 13.8 ms, sys: 123 µs, total: 13.9 ms\n",
      "Wall time: 13.3 ms\n"
     ]
    }
   ],
   "source": [
    "%%time\n",
    "logger.setLevel(\"INFO\")\n",
    "c = PuzzleCube(board)\n",
    "face_id, pos, board_pos, drxn, password = c.explore(guide)\n",
    "\n",
    "print(face_id, pos, board_pos, drxn, password)"
   ],
   "metadata": {
    "collapsed": false
   }
  }
 ],
 "metadata": {
  "kernelspec": {
   "display_name": "Python 3",
   "language": "python",
   "name": "python3"
  },
  "language_info": {
   "codemirror_mode": {
    "name": "ipython",
    "version": 2
   },
   "file_extension": ".py",
   "mimetype": "text/x-python",
   "name": "python",
   "nbconvert_exporter": "python",
   "pygments_lexer": "ipython2",
   "version": "2.7.6"
  }
 },
 "nbformat": 4,
 "nbformat_minor": 0
}
