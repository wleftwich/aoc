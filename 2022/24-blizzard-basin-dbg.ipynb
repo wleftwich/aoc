{
 "cells": [
  {
   "cell_type": "markdown",
   "source": [
    "https://adventofcode.com/2022/day/24"
   ],
   "metadata": {
    "collapsed": false
   }
  },
  {
   "cell_type": "code",
   "execution_count": 7,
   "outputs": [],
   "source": [
    "import numpy as np\n",
    "import math\n",
    "from functools import reduce\n",
    "from heapq import heappush, heappop"
   ],
   "metadata": {
    "collapsed": false
   }
  },
  {
   "cell_type": "code",
   "execution_count": 8,
   "outputs": [],
   "source": [
    "with open(\"data/24.txt\") as fh:\n",
    "    data = fh.read()"
   ],
   "metadata": {
    "collapsed": false
   }
  },
  {
   "cell_type": "code",
   "execution_count": 16,
   "outputs": [],
   "source": [
    "testdata = \"\"\"\\\n",
    "#.######\n",
    "#>>.<^<#\n",
    "#.<..<<#\n",
    "#>v.><>#\n",
    "#<^v^^>#\n",
    "######.#\n",
    "\"\"\""
   ],
   "metadata": {
    "collapsed": false
   }
  },
  {
   "cell_type": "code",
   "execution_count": 26,
   "outputs": [],
   "source": [
    "def blizzard_builder(data):\n",
    "    lines = data.strip().splitlines()\n",
    "    h, w = len(lines) - 2, len(lines[0]) - 2\n",
    "    north, south, east, west, empty = [np.zeros((h, w), dtype=bool) for _ in range(5)]\n",
    "    drxnmap = {\n",
    "        \"^\": north,\n",
    "        \"v\": south,\n",
    "        \">\": east,\n",
    "        \"<\": west,\n",
    "        \".\": empty,\n",
    "    }\n",
    "    for row, line in enumerate(lines[1:-1]):\n",
    "        for col, char in enumerate(line[1:-1]):\n",
    "            drxnmap[char][row, col] = True\n",
    "    del empty\n",
    "\n",
    "    header = np.ones((1, w), dtype=bool)\n",
    "    header[0, 0] = False\n",
    "    footer = np.ones((1, w), dtype=bool)\n",
    "    footer[0, -1] = False\n",
    "\n",
    "    L = []\n",
    "    for _ in range(math.lcm(h, w)):\n",
    "        bliz = reduce(np.logical_or, [north, south, east, west])\n",
    "        L.append(np.vstack([header, bliz, footer]))\n",
    "\n",
    "        north = np.vstack([north[1:], north[:1]])\n",
    "        south = np.vstack([south[-1:], south[:-1]])\n",
    "        east = np.hstack([east[:, -1:], east[:, :-1]])\n",
    "        west = np.hstack([west[:, 1:], west[:, :1]])\n",
    "\n",
    "    return L\n",
    "\n",
    "\n",
    "def open_spots(coords, ar):\n",
    "    r0, c0 = coords\n",
    "    L = []\n",
    "    for (r, c) in [(r0, c0), (r0+1, c0), (r0-1, c0), (r0, c0+1), (r0, c0-1)]:\n",
    "        if r < 0 or c < 0:\n",
    "            continue\n",
    "        try:\n",
    "            v = ar[r, c]\n",
    "        except IndexError:\n",
    "            pass\n",
    "        else:\n",
    "            if not v:\n",
    "                L.append((r, c))\n",
    "    return L\n",
    "\n",
    "\n",
    "def dijkstra(data, start=(0, 0), finish=None, initial_state=0):\n",
    "    states = blizzard_builder(data)\n",
    "    h, w = states[0].shape\n",
    "    mod = math.lcm(h-2, w)\n",
    "    if finish is None:\n",
    "        finish = (h-1, w-1)\n",
    "    visited = {(start, initial_state): 0}\n",
    "    pq = []\n",
    "    heappush(pq, (0, (start, initial_state)))\n",
    "    visited_skip_count = 0\n",
    "    finishers = []\n",
    "    while pq:\n",
    "        (d, (p, s)) = heappop(pq)\n",
    "        if p == finish:\n",
    "            finishers.append((d, (p, s)))\n",
    "            continue\n",
    "        next_s = (s + 1) % mod\n",
    "        possibles = open_spots(p, states[next_s])\n",
    "        if not possibles: # don't ever return to this node\n",
    "            visited[(p, s)] = 0\n",
    "            continue\n",
    "        for poss in possibles:\n",
    "            v = visited.get((poss, next_s))\n",
    "            if v is None or v > d+1:\n",
    "                visited[(poss, next_s)] = d+1\n",
    "                heappush(pq, (d+1, (poss, next_s)))\n",
    "            else:\n",
    "                visited_skip_count += 1\n",
    "    return finishers"
   ],
   "metadata": {
    "collapsed": false
   }
  },
  {
   "cell_type": "code",
   "execution_count": 27,
   "outputs": [
    {
     "name": "stdout",
     "output_type": "stream",
     "text": [
      "CPU times: user 6.54 ms, sys: 394 µs, total: 6.93 ms\n",
      "Wall time: 5.16 ms\n"
     ]
    },
    {
     "data": {
      "text/plain": "[(18, ((5, 5), 6)),\n (21, ((5, 5), 9)),\n (22, ((5, 5), 10)),\n (23, ((5, 5), 11)),\n (24, ((5, 5), 0)),\n (29, ((5, 5), 5))]"
     },
     "execution_count": 27,
     "metadata": {},
     "output_type": "execute_result"
    }
   ],
   "source": [
    "%%time\n",
    "dijkstra(testdata)"
   ],
   "metadata": {
    "collapsed": false
   }
  },
  {
   "cell_type": "markdown",
   "source": [
    "Part 1"
   ],
   "metadata": {
    "collapsed": false
   }
  },
  {
   "cell_type": "code",
   "execution_count": 28,
   "outputs": [
    {
     "name": "stdout",
     "output_type": "stream",
     "text": [
      "CPU times: user 3.81 s, sys: 117 ms, total: 3.93 s\n",
      "Wall time: 3.93 s\n"
     ]
    },
    {
     "data": {
      "text/plain": "[(225, ((36, 99), 225)),\n (227, ((36, 99), 227)),\n (229, ((36, 99), 229)),\n (231, ((36, 99), 231)),\n (233, ((36, 99), 233)),\n (234, ((36, 99), 234)),\n (237, ((36, 99), 237)),\n (238, ((36, 99), 238)),\n (242, ((36, 99), 242)),\n (246, ((36, 99), 246)),\n (247, ((36, 99), 247)),\n (250, ((36, 99), 250)),\n (251, ((36, 99), 251)),\n (253, ((36, 99), 253)),\n (254, ((36, 99), 254)),\n (255, ((36, 99), 255)),\n (257, ((36, 99), 257)),\n (258, ((36, 99), 258)),\n (259, ((36, 99), 259)),\n (261, ((36, 99), 261)),\n (270, ((36, 99), 270)),\n (271, ((36, 99), 271)),\n (272, ((36, 99), 272)),\n (273, ((36, 99), 273)),\n (275, ((36, 99), 275)),\n (276, ((36, 99), 276)),\n (278, ((36, 99), 278)),\n (282, ((36, 99), 282)),\n (283, ((36, 99), 283)),\n (284, ((36, 99), 284)),\n (285, ((36, 99), 285)),\n (286, ((36, 99), 286)),\n (287, ((36, 99), 287)),\n (288, ((36, 99), 288)),\n (291, ((36, 99), 291)),\n (292, ((36, 99), 292)),\n (293, ((36, 99), 293)),\n (295, ((36, 99), 295)),\n (296, ((36, 99), 296)),\n (303, ((36, 99), 303)),\n (305, ((36, 99), 305)),\n (311, ((36, 99), 311)),\n (312, ((36, 99), 312)),\n (313, ((36, 99), 313)),\n (314, ((36, 99), 314)),\n (315, ((36, 99), 315)),\n (317, ((36, 99), 317)),\n (320, ((36, 99), 320)),\n (322, ((36, 99), 322)),\n (325, ((36, 99), 325)),\n (327, ((36, 99), 327)),\n (329, ((36, 99), 329)),\n (331, ((36, 99), 331)),\n (342, ((36, 99), 342)),\n (346, ((36, 99), 346)),\n (347, ((36, 99), 347)),\n (350, ((36, 99), 350)),\n (351, ((36, 99), 351)),\n (353, ((36, 99), 353)),\n (354, ((36, 99), 354)),\n (355, ((36, 99), 355)),\n (357, ((36, 99), 357)),\n (358, ((36, 99), 358)),\n (359, ((36, 99), 359)),\n (361, ((36, 99), 361)),\n (366, ((36, 99), 366)),\n (367, ((36, 99), 367)),\n (368, ((36, 99), 368)),\n (369, ((36, 99), 369)),\n (370, ((36, 99), 370)),\n (371, ((36, 99), 371)),\n (372, ((36, 99), 372)),\n (373, ((36, 99), 373)),\n (375, ((36, 99), 375)),\n (376, ((36, 99), 376)),\n (383, ((36, 99), 383)),\n (384, ((36, 99), 384)),\n (385, ((36, 99), 385)),\n (386, ((36, 99), 386)),\n (387, ((36, 99), 387)),\n (388, ((36, 99), 388)),\n (391, ((36, 99), 391)),\n (392, ((36, 99), 392)),\n (393, ((36, 99), 393)),\n (395, ((36, 99), 395)),\n (396, ((36, 99), 396)),\n (408, ((36, 99), 408)),\n (410, ((36, 99), 410)),\n (411, ((36, 99), 411)),\n (412, ((36, 99), 412)),\n (413, ((36, 99), 413)),\n (414, ((36, 99), 414)),\n (415, ((36, 99), 415)),\n (417, ((36, 99), 417)),\n (420, ((36, 99), 420)),\n (422, ((36, 99), 422)),\n (425, ((36, 99), 425)),\n (427, ((36, 99), 427)),\n (429, ((36, 99), 429)),\n (431, ((36, 99), 431)),\n (442, ((36, 99), 442)),\n (446, ((36, 99), 446)),\n (447, ((36, 99), 447)),\n (450, ((36, 99), 450)),\n (451, ((36, 99), 451)),\n (453, ((36, 99), 453)),\n (454, ((36, 99), 454)),\n (455, ((36, 99), 455)),\n (457, ((36, 99), 457)),\n (458, ((36, 99), 458)),\n (459, ((36, 99), 459)),\n (461, ((36, 99), 461)),\n (466, ((36, 99), 466)),\n (467, ((36, 99), 467)),\n (468, ((36, 99), 468)),\n (469, ((36, 99), 469)),\n (470, ((36, 99), 470)),\n (471, ((36, 99), 471)),\n (472, ((36, 99), 472)),\n (473, ((36, 99), 473)),\n (475, ((36, 99), 475)),\n (476, ((36, 99), 476)),\n (478, ((36, 99), 478)),\n (482, ((36, 99), 482)),\n (483, ((36, 99), 483)),\n (484, ((36, 99), 484)),\n (485, ((36, 99), 485)),\n (486, ((36, 99), 486)),\n (487, ((36, 99), 487)),\n (488, ((36, 99), 488)),\n (491, ((36, 99), 491)),\n (492, ((36, 99), 492)),\n (493, ((36, 99), 493)),\n (495, ((36, 99), 495)),\n (496, ((36, 99), 496)),\n (500, ((36, 99), 500)),\n (511, ((36, 99), 511)),\n (512, ((36, 99), 512)),\n (513, ((36, 99), 513)),\n (514, ((36, 99), 514)),\n (515, ((36, 99), 515)),\n (517, ((36, 99), 517)),\n (520, ((36, 99), 520)),\n (531, ((36, 99), 531)),\n (534, ((36, 99), 534)),\n (537, ((36, 99), 537)),\n (538, ((36, 99), 538)),\n (542, ((36, 99), 542)),\n (546, ((36, 99), 546)),\n (547, ((36, 99), 547)),\n (549, ((36, 99), 549)),\n (550, ((36, 99), 550)),\n (551, ((36, 99), 551)),\n (553, ((36, 99), 553)),\n (554, ((36, 99), 554)),\n (555, ((36, 99), 555)),\n (558, ((36, 99), 558)),\n (559, ((36, 99), 559)),\n (561, ((36, 99), 561)),\n (566, ((36, 99), 566)),\n (567, ((36, 99), 567)),\n (568, ((36, 99), 568)),\n (569, ((36, 99), 569)),\n (570, ((36, 99), 570)),\n (571, ((36, 99), 571)),\n (572, ((36, 99), 572)),\n (573, ((36, 99), 573)),\n (575, ((36, 99), 575)),\n (576, ((36, 99), 576)),\n (582, ((36, 99), 582)),\n (583, ((36, 99), 583)),\n (584, ((36, 99), 584)),\n (585, ((36, 99), 585)),\n (586, ((36, 99), 586)),\n (587, ((36, 99), 587)),\n (588, ((36, 99), 588)),\n (591, ((36, 99), 591)),\n (592, ((36, 99), 592)),\n (593, ((36, 99), 593)),\n (595, ((36, 99), 595)),\n (596, ((36, 99), 596)),\n (605, ((36, 99), 605)),\n (611, ((36, 99), 611)),\n (612, ((36, 99), 612)),\n (613, ((36, 99), 613)),\n (614, ((36, 99), 614)),\n (615, ((36, 99), 615)),\n (617, ((36, 99), 617)),\n (620, ((36, 99), 620)),\n (622, ((36, 99), 622)),\n (625, ((36, 99), 625)),\n (631, ((36, 99), 631)),\n (633, ((36, 99), 633)),\n (634, ((36, 99), 634)),\n (642, ((36, 99), 642)),\n (646, ((36, 99), 646)),\n (647, ((36, 99), 647)),\n (650, ((36, 99), 650)),\n (651, ((36, 99), 651)),\n (653, ((36, 99), 653)),\n (654, ((36, 99), 654)),\n (655, ((36, 99), 655)),\n (657, ((36, 99), 657)),\n (658, ((36, 99), 658)),\n (659, ((36, 99), 659)),\n (670, ((36, 99), 670)),\n (671, ((36, 99), 671)),\n (672, ((36, 99), 672)),\n (673, ((36, 99), 673)),\n (675, ((36, 99), 675)),\n (676, ((36, 99), 676)),\n (682, ((36, 99), 682)),\n (683, ((36, 99), 683)),\n (684, ((36, 99), 684)),\n (685, ((36, 99), 685)),\n (686, ((36, 99), 686)),\n (687, ((36, 99), 687)),\n (688, ((36, 99), 688)),\n (691, ((36, 99), 691)),\n (692, ((36, 99), 692)),\n (693, ((36, 99), 693)),\n (695, ((36, 99), 695)),\n (696, ((36, 99), 696)),\n (711, ((36, 99), 11)),\n (712, ((36, 99), 12)),\n (713, ((36, 99), 13)),\n (714, ((36, 99), 14)),\n (715, ((36, 99), 15)),\n (717, ((36, 99), 17)),\n (720, ((36, 99), 20)),\n (722, ((36, 99), 22)),\n (725, ((36, 99), 25)),\n (727, ((36, 99), 27)),\n (729, ((36, 99), 29)),\n (731, ((36, 99), 31)),\n (733, ((36, 99), 33)),\n (734, ((36, 99), 34)),\n (737, ((36, 99), 37)),\n (738, ((36, 99), 38)),\n (742, ((36, 99), 42)),\n (746, ((36, 99), 46)),\n (747, ((36, 99), 47)),\n (750, ((36, 99), 50)),\n (751, ((36, 99), 51)),\n (753, ((36, 99), 53)),\n (754, ((36, 99), 54)),\n (755, ((36, 99), 55)),\n (757, ((36, 99), 57)),\n (758, ((36, 99), 58)),\n (759, ((36, 99), 59)),\n (761, ((36, 99), 61)),\n (770, ((36, 99), 70)),\n (771, ((36, 99), 71)),\n (772, ((36, 99), 72)),\n (773, ((36, 99), 73)),\n (775, ((36, 99), 75)),\n (776, ((36, 99), 76)),\n (782, ((36, 99), 82)),\n (783, ((36, 99), 83)),\n (784, ((36, 99), 84)),\n (785, ((36, 99), 85)),\n (786, ((36, 99), 86)),\n (787, ((36, 99), 87)),\n (788, ((36, 99), 88)),\n (791, ((36, 99), 91)),\n (792, ((36, 99), 92)),\n (793, ((36, 99), 93)),\n (795, ((36, 99), 95)),\n (796, ((36, 99), 96)),\n (808, ((36, 99), 108)),\n (811, ((36, 99), 111)),\n (812, ((36, 99), 112)),\n (813, ((36, 99), 113)),\n (814, ((36, 99), 114)),\n (815, ((36, 99), 115)),\n (817, ((36, 99), 117)),\n (820, ((36, 99), 120)),\n (822, ((36, 99), 122)),\n (825, ((36, 99), 125)),\n (827, ((36, 99), 127)),\n (829, ((36, 99), 129)),\n (831, ((36, 99), 131)),\n (842, ((36, 99), 142)),\n (846, ((36, 99), 146)),\n (847, ((36, 99), 147)),\n (849, ((36, 99), 149)),\n (850, ((36, 99), 150)),\n (851, ((36, 99), 151)),\n (853, ((36, 99), 153)),\n (854, ((36, 99), 154)),\n (855, ((36, 99), 155)),\n (857, ((36, 99), 157)),\n (858, ((36, 99), 158)),\n (859, ((36, 99), 159)),\n (869, ((36, 99), 169)),\n (870, ((36, 99), 170)),\n (871, ((36, 99), 171)),\n (872, ((36, 99), 172)),\n (873, ((36, 99), 173)),\n (875, ((36, 99), 175)),\n (876, ((36, 99), 176)),\n (878, ((36, 99), 178)),\n (882, ((36, 99), 182)),\n (883, ((36, 99), 183)),\n (884, ((36, 99), 184)),\n (885, ((36, 99), 185)),\n (886, ((36, 99), 186)),\n (887, ((36, 99), 187)),\n (888, ((36, 99), 188)),\n (891, ((36, 99), 191)),\n (892, ((36, 99), 192)),\n (893, ((36, 99), 193)),\n (895, ((36, 99), 195)),\n (896, ((36, 99), 196)),\n (900, ((36, 99), 200)),\n (908, ((36, 99), 208)),\n (911, ((36, 99), 211)),\n (912, ((36, 99), 212)),\n (913, ((36, 99), 213)),\n (914, ((36, 99), 214)),\n (915, ((36, 99), 215)),\n (917, ((36, 99), 217)),\n (920, ((36, 99), 220)),\n (922, ((36, 99), 222))]"
     },
     "execution_count": 28,
     "metadata": {},
     "output_type": "execute_result"
    }
   ],
   "source": [
    "%%time\n",
    "dijkstra(data)"
   ],
   "metadata": {
    "collapsed": false
   }
  },
  {
   "cell_type": "markdown",
   "source": [
    "Part 2"
   ],
   "metadata": {
    "collapsed": false
   }
  },
  {
   "cell_type": "code",
   "execution_count": 24,
   "outputs": [
    {
     "data": {
      "text/plain": "(12, (5, 5))"
     },
     "execution_count": 24,
     "metadata": {},
     "output_type": "execute_result"
    }
   ],
   "source": [
    "test_state = blizzard_builder(testdata)[0]\n",
    "h, w = test_state.shape\n",
    "mod = math.lcm(h-2, w)\n",
    "finish = (h-1, w-1)\n",
    "mod, finish"
   ],
   "metadata": {
    "collapsed": false
   }
  },
  {
   "cell_type": "code",
   "execution_count": 8,
   "outputs": [
    {
     "data": {
      "text/plain": "23"
     },
     "execution_count": 8,
     "metadata": {},
     "output_type": "execute_result"
    }
   ],
   "source": [
    "first_leg = 18  # from part 1\n",
    "initial_state = first_leg % mod\n",
    "dijkstra(testdata, start=finish, finish=(0, 0), initial_state=initial_state)"
   ],
   "metadata": {
    "collapsed": false
   }
  },
  {
   "cell_type": "code",
   "execution_count": 9,
   "outputs": [
    {
     "data": {
      "text/plain": "13"
     },
     "execution_count": 9,
     "metadata": {},
     "output_type": "execute_result"
    }
   ],
   "source": [
    "two_legs = 18 + 23\n",
    "initial_state = two_legs % mod\n",
    "dijkstra(testdata, start=(0,0), finish=finish, initial_state=initial_state)"
   ],
   "metadata": {
    "collapsed": false
   }
  },
  {
   "cell_type": "code",
   "execution_count": 10,
   "outputs": [
    {
     "data": {
      "text/plain": "54"
     },
     "execution_count": 10,
     "metadata": {},
     "output_type": "execute_result"
    }
   ],
   "source": [
    "18 + 23 + 13"
   ],
   "metadata": {
    "collapsed": false
   }
  },
  {
   "cell_type": "code",
   "execution_count": 11,
   "outputs": [
    {
     "data": {
      "text/plain": "(700, (36, 99))"
     },
     "execution_count": 11,
     "metadata": {},
     "output_type": "execute_result"
    }
   ],
   "source": [
    "state = blizzard_builder(data)[0]\n",
    "h, w = state.shape\n",
    "mod = math.lcm(h-2, w)\n",
    "finish = (h-1, w-1)\n",
    "mod, finish"
   ],
   "metadata": {
    "collapsed": false
   }
  },
  {
   "cell_type": "code",
   "execution_count": 12,
   "outputs": [
    {
     "data": {
      "text/plain": "238"
     },
     "execution_count": 12,
     "metadata": {},
     "output_type": "execute_result"
    }
   ],
   "source": [
    "first_leg = 225  # from part 1\n",
    "initial_state = first_leg % mod\n",
    "dijkstra(data, start=finish, finish=(0, 0), initial_state=initial_state)"
   ],
   "metadata": {
    "collapsed": false
   }
  },
  {
   "cell_type": "code",
   "execution_count": 13,
   "outputs": [
    {
     "data": {
      "text/plain": "248"
     },
     "execution_count": 13,
     "metadata": {},
     "output_type": "execute_result"
    }
   ],
   "source": [
    "two_legs = 225 + 238\n",
    "initial_state = two_legs % mod\n",
    "dijkstra(data, start=(0,0), finish=finish, initial_state=initial_state)"
   ],
   "metadata": {
    "collapsed": false
   }
  },
  {
   "cell_type": "code",
   "execution_count": 14,
   "outputs": [
    {
     "data": {
      "text/plain": "711"
     },
     "execution_count": 14,
     "metadata": {},
     "output_type": "execute_result"
    }
   ],
   "source": [
    "225 + 238 + 248"
   ],
   "metadata": {
    "collapsed": false
   }
  }
 ],
 "metadata": {
  "kernelspec": {
   "display_name": "Python 3",
   "language": "python",
   "name": "python3"
  },
  "language_info": {
   "codemirror_mode": {
    "name": "ipython",
    "version": 2
   },
   "file_extension": ".py",
   "mimetype": "text/x-python",
   "name": "python",
   "nbconvert_exporter": "python",
   "pygments_lexer": "ipython2",
   "version": "2.7.6"
  }
 },
 "nbformat": 4,
 "nbformat_minor": 0
}
