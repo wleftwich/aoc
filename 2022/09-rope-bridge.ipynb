{
 "cells": [
  {
   "cell_type": "markdown",
   "source": [
    "https://adventofcode.com/2022/day/9"
   ],
   "metadata": {
    "collapsed": false
   }
  },
  {
   "cell_type": "code",
   "execution_count": 1,
   "outputs": [],
   "source": [
    "with open(\"data/09.txt\") as fh:\n",
    "    data = fh.read()"
   ],
   "metadata": {
    "collapsed": false
   }
  },
  {
   "cell_type": "code",
   "execution_count": 2,
   "outputs": [
    {
     "name": "stdout",
     "output_type": "stream",
     "text": [
      "U 1\n",
      "D 1\n",
      "R 1\n",
      "L 2\n",
      "D 2\n",
      "\n"
     ]
    }
   ],
   "source": [
    "print(data[:20])"
   ],
   "metadata": {
    "collapsed": false
   }
  },
  {
   "cell_type": "code",
   "execution_count": 6,
   "outputs": [],
   "source": [
    "def sgn(x):\n",
    "    if x > 0:\n",
    "        return 1\n",
    "    elif x < 0:\n",
    "        return -1\n",
    "    else:\n",
    "        return 0\n",
    "\n",
    "def knotfollow(h, t):\n",
    "    return t if abs(d := h - t) < 1.5 else t + complex(sgn(d.real), sgn(d.imag))\n",
    "\n",
    "def ropestep(rope, drxn):\n",
    "    head, *remainder = rope\n",
    "    newrope = [head + drxn]\n",
    "    for k in remainder:\n",
    "        newrope.append(knotfollow(newrope[-1], k))\n",
    "    return newrope\n",
    "\n",
    "def ropemove(cmd, rope, tset):\n",
    "    heading, n = cmd.split()\n",
    "    drxn = {\"R\": 1, \"U\": 1j, \"L\": -1, \"D\": -1j}[heading]\n",
    "    steps = int(n)\n",
    "    for _ in range(steps):\n",
    "        rope = ropestep(rope, drxn)\n",
    "        tset.add(rope[-1])\n",
    "    return rope"
   ],
   "metadata": {
    "collapsed": false
   }
  },
  {
   "cell_type": "markdown",
   "source": [
    "Part 1"
   ],
   "metadata": {
    "collapsed": false
   }
  },
  {
   "cell_type": "code",
   "execution_count": 7,
   "outputs": [
    {
     "name": "stdout",
     "output_type": "stream",
     "text": [
      "CPU times: user 38 ms, sys: 3.78 ms, total: 41.7 ms\n",
      "Wall time: 39.4 ms\n"
     ]
    },
    {
     "data": {
      "text/plain": "6332"
     },
     "execution_count": 7,
     "metadata": {},
     "output_type": "execute_result"
    }
   ],
   "source": [
    "%%time\n",
    "rope = [0] * 2\n",
    "tset = set()\n",
    "for cmd in data.strip().splitlines():\n",
    "    rope = ropemove(cmd, rope, tset)\n",
    "len(tset)"
   ],
   "metadata": {
    "collapsed": false
   }
  },
  {
   "cell_type": "markdown",
   "source": [
    "Part 2"
   ],
   "metadata": {
    "collapsed": false
   }
  },
  {
   "cell_type": "code",
   "execution_count": 8,
   "outputs": [
    {
     "name": "stdout",
     "output_type": "stream",
     "text": [
      "CPU times: user 43.4 ms, sys: 0 ns, total: 43.4 ms\n",
      "Wall time: 42.5 ms\n"
     ]
    },
    {
     "data": {
      "text/plain": "2511"
     },
     "execution_count": 8,
     "metadata": {},
     "output_type": "execute_result"
    }
   ],
   "source": [
    "%%time\n",
    "rope = [0] * 10\n",
    "tset = set()\n",
    "for cmd in data.strip().splitlines():\n",
    "    rope = ropemove(cmd, rope, tset)\n",
    "len(tset)"
   ],
   "metadata": {
    "collapsed": false
   }
  }
 ],
 "metadata": {
  "kernelspec": {
   "display_name": "Python 3",
   "language": "python",
   "name": "python3"
  },
  "language_info": {
   "codemirror_mode": {
    "name": "ipython",
    "version": 2
   },
   "file_extension": ".py",
   "mimetype": "text/x-python",
   "name": "python",
   "nbconvert_exporter": "python",
   "pygments_lexer": "ipython2",
   "version": "2.7.6"
  }
 },
 "nbformat": 4,
 "nbformat_minor": 0
}
