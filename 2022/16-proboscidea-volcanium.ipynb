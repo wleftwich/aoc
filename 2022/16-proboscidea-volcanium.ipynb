{
 "cells": [
  {
   "cell_type": "markdown",
   "source": [
    "https://adventofcode.com/2022/day/16"
   ],
   "metadata": {
    "collapsed": false
   }
  },
  {
   "cell_type": "code",
   "execution_count": 1,
   "outputs": [],
   "source": [
    "import re\n",
    "from collections import deque, defaultdict\n",
    "from itertools import combinations\n",
    "\n",
    "import networkx as nx"
   ],
   "metadata": {
    "collapsed": false
   }
  },
  {
   "cell_type": "code",
   "execution_count": 2,
   "outputs": [],
   "source": [
    "with open(\"data/16.txt\") as fh:\n",
    "    data = fh.read()"
   ],
   "metadata": {
    "collapsed": false
   }
  },
  {
   "cell_type": "code",
   "execution_count": 3,
   "outputs": [],
   "source": [
    "testdata = \"\"\"\\\n",
    "Valve AA has flow rate=0; tunnels lead to valves DD, II, BB\n",
    "Valve BB has flow rate=13; tunnels lead to valves CC, AA\n",
    "Valve CC has flow rate=2; tunnels lead to valves DD, BB\n",
    "Valve DD has flow rate=20; tunnels lead to valves CC, AA, EE\n",
    "Valve EE has flow rate=3; tunnels lead to valves FF, DD\n",
    "Valve FF has flow rate=0; tunnels lead to valves EE, GG\n",
    "Valve GG has flow rate=0; tunnels lead to valves FF, HH\n",
    "Valve HH has flow rate=22; tunnel leads to valve GG\n",
    "Valve II has flow rate=0; tunnels lead to valves AA, JJ\n",
    "Valve JJ has flow rate=21; tunnel leads to valve II\n",
    "\"\"\""
   ],
   "metadata": {
    "collapsed": false
   }
  },
  {
   "cell_type": "code",
   "execution_count": 4,
   "outputs": [],
   "source": [
    "def load_data(data):\n",
    "    D = {}\n",
    "    for line in data.strip().splitlines():\n",
    "        fr = int(re.search(r\"[+-]?\\d+\", line).group())\n",
    "        valves = re.findall(r\"[A-Z][A-Z]\", line)\n",
    "        D[valves[0]] = (fr, valves[1:])\n",
    "    return D"
   ],
   "metadata": {
    "collapsed": false
   }
  },
  {
   "cell_type": "code",
   "execution_count": 5,
   "outputs": [
    {
     "data": {
      "text/plain": "{'AA': (0, ['DD', 'II', 'BB']),\n 'BB': (13, ['CC', 'AA']),\n 'CC': (2, ['DD', 'BB']),\n 'DD': (20, ['CC', 'AA', 'EE']),\n 'EE': (3, ['FF', 'DD']),\n 'FF': (0, ['EE', 'GG']),\n 'GG': (0, ['FF', 'HH']),\n 'HH': (22, ['GG']),\n 'II': (0, ['AA', 'JJ']),\n 'JJ': (21, ['II'])}"
     },
     "execution_count": 5,
     "metadata": {},
     "output_type": "execute_result"
    }
   ],
   "source": [
    "testcave = load_data(testdata)\n",
    "testcave"
   ],
   "metadata": {
    "collapsed": false
   }
  },
  {
   "cell_type": "code",
   "execution_count": 36,
   "outputs": [],
   "source": [
    "def open_valves(data, timelimit=30, start=\"AA\"):\n",
    "    cave = load_data(data)\n",
    "    flowrates = get_flowrates(cave, start)\n",
    "    distances = get_distances(cave, flowrates)\n",
    "    high_score = 0\n",
    "    high_score_path = None\n",
    "    q = deque([([start], 0, timelimit)])\n",
    "    while q:\n",
    "        pth, score, time_remaining = q.popleft()\n",
    "        if score > high_score:\n",
    "            high_score = score\n",
    "            high_score_path = pth\n",
    "        for node in extend_path(pth, flowrates, distances, time_remaining, score):\n",
    "            q.append(node)\n",
    "    return high_score, high_score_path\n",
    "\n",
    "def extend_path(pth, flowrates, distances, time_remaining, score):\n",
    "    for v in set(flowrates).difference(pth):\n",
    "        dist = distances[frozenset((v, pth[-1]))]\n",
    "        if dist < time_remaining:\n",
    "            new_pth = pth + [v]\n",
    "            new_time_remaining = time_remaining - dist\n",
    "            new_score = score + new_time_remaining * flowrates[v]\n",
    "            yield new_pth, new_score, new_time_remaining\n",
    "\n",
    "def get_flowrates(cave, start=\"AA\"):\n",
    "    return {valve: flowrate for (valve, (flowrate, neighbors)) in cave.items() if flowrate or valve == start}\n",
    "\n",
    "def get_distances(cave, flowrates=None):\n",
    "    if flowrates is None:\n",
    "        flowrates = get_flowrates(cave)\n",
    "    g = nx.Graph()\n",
    "    for (valve, (_, neighbors)) in cave.items():\n",
    "        for nabe in neighbors:\n",
    "            g.add_edge(valve, nabe)\n",
    "    distances = {}\n",
    "    for a, b in combinations(flowrates, 2):\n",
    "        distances[frozenset((a, b))] = nx.shortest_path_length(g, a, b) + 1\n",
    "    return distances"
   ],
   "metadata": {
    "collapsed": false
   }
  },
  {
   "cell_type": "code",
   "execution_count": 37,
   "outputs": [
    {
     "name": "stdout",
     "output_type": "stream",
     "text": [
      "CPU times: user 2.56 ms, sys: 180 µs, total: 2.74 ms\n",
      "Wall time: 2.74 ms\n"
     ]
    },
    {
     "data": {
      "text/plain": "(1651, ['AA', 'DD', 'BB', 'JJ', 'HH', 'EE', 'CC'])"
     },
     "execution_count": 37,
     "metadata": {},
     "output_type": "execute_result"
    }
   ],
   "source": [
    "%%time\n",
    "open_valves(testdata)"
   ],
   "metadata": {
    "collapsed": false
   }
  },
  {
   "cell_type": "markdown",
   "source": [
    "Part 1"
   ],
   "metadata": {
    "collapsed": false
   }
  },
  {
   "cell_type": "code",
   "execution_count": 38,
   "outputs": [
    {
     "name": "stdout",
     "output_type": "stream",
     "text": [
      "CPU times: user 606 ms, sys: 0 ns, total: 606 ms\n",
      "Wall time: 616 ms\n"
     ]
    },
    {
     "data": {
      "text/plain": "(1559, ['AA', 'KM', 'IC', 'GB', 'OE', 'KT', 'AK'])"
     },
     "execution_count": 38,
     "metadata": {},
     "output_type": "execute_result"
    }
   ],
   "source": [
    "%%time\n",
    "open_valves(data)"
   ],
   "metadata": {
    "collapsed": false
   }
  },
  {
   "cell_type": "markdown",
   "source": [
    "Part 2"
   ],
   "metadata": {
    "collapsed": false
   }
  },
  {
   "cell_type": "code",
   "execution_count": 48,
   "outputs": [],
   "source": [
    "def open_valves_two_player(data, timelimit=26, start=\"AA\"):\n",
    "    cave = load_data(data)\n",
    "    flowrates = get_flowrates(cave, start)\n",
    "    distances = get_distances(cave, flowrates)\n",
    "    subset_scores = defaultdict(int)\n",
    "    q = deque([([start], 0, timelimit)])\n",
    "    while q:\n",
    "        pth, score, time_remaining = q.popleft()\n",
    "        pathset = frozenset(pth)\n",
    "        subset_scores[pathset] = max(subset_scores[pathset], score)\n",
    "        for node in extend_path(pth, flowrates, distances, time_remaining, score):\n",
    "            q.append(node)\n",
    "    return max(subset_scores[a] + subset_scores[b] for a, b in combinations(subset_scores, 2) if len(a & b) == 1)"
   ],
   "metadata": {
    "collapsed": false
   }
  },
  {
   "cell_type": "code",
   "execution_count": 49,
   "outputs": [
    {
     "name": "stdout",
     "output_type": "stream",
     "text": [
      "CPU times: user 4.75 ms, sys: 39 µs, total: 4.79 ms\n",
      "Wall time: 4.7 ms\n"
     ]
    },
    {
     "data": {
      "text/plain": "1707"
     },
     "execution_count": 49,
     "metadata": {},
     "output_type": "execute_result"
    }
   ],
   "source": [
    "%%time\n",
    "open_valves_two_player(testdata)"
   ],
   "metadata": {
    "collapsed": false
   }
  },
  {
   "cell_type": "code",
   "execution_count": 50,
   "outputs": [
    {
     "name": "stdout",
     "output_type": "stream",
     "text": [
      "CPU times: user 962 ms, sys: 0 ns, total: 962 ms\n",
      "Wall time: 965 ms\n"
     ]
    },
    {
     "data": {
      "text/plain": "2191"
     },
     "execution_count": 50,
     "metadata": {},
     "output_type": "execute_result"
    }
   ],
   "source": [
    "%%time\n",
    "open_valves_two_player(data)"
   ],
   "metadata": {
    "collapsed": false
   }
  },
  {
   "cell_type": "markdown",
   "source": [
    "Intellectual honesty note: After spending hours trying to make the two player version work with both players running at the same time, I went to the Reddit forum and found the hint that the two players could run separately, then their scores could be combined if their paths did not overlap."
   ],
   "metadata": {
    "collapsed": false
   }
  }
 ],
 "metadata": {
  "kernelspec": {
   "display_name": "Python 3",
   "language": "python",
   "name": "python3"
  },
  "language_info": {
   "codemirror_mode": {
    "name": "ipython",
    "version": 2
   },
   "file_extension": ".py",
   "mimetype": "text/x-python",
   "name": "python",
   "nbconvert_exporter": "python",
   "pygments_lexer": "ipython2",
   "version": "2.7.6"
  }
 },
 "nbformat": 4,
 "nbformat_minor": 0
}
