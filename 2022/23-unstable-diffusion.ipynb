{
 "cells": [
  {
   "cell_type": "markdown",
   "source": [
    "https://adventofcode.com/2022/day/23"
   ],
   "metadata": {
    "collapsed": false
   }
  },
  {
   "cell_type": "code",
   "execution_count": 1,
   "outputs": [],
   "source": [
    "from collections import deque, defaultdict\n",
    "from itertools import product"
   ],
   "metadata": {
    "collapsed": false
   }
  },
  {
   "cell_type": "code",
   "execution_count": 2,
   "outputs": [],
   "source": [
    "with open(\"data/23.txt\") as fh:\n",
    "    data = fh.read()"
   ],
   "metadata": {
    "collapsed": false
   }
  },
  {
   "cell_type": "code",
   "execution_count": 3,
   "outputs": [],
   "source": [
    "def load_data(data):\n",
    "    D = {}\n",
    "    for yminus, line in enumerate(data.strip().splitlines()):\n",
    "        for x, c in enumerate(line):\n",
    "            if c == \"#\":\n",
    "                D[complex(x, -yminus)] = None\n",
    "    return D"
   ],
   "metadata": {
    "collapsed": false
   }
  },
  {
   "cell_type": "code",
   "execution_count": 4,
   "outputs": [],
   "source": [
    "testdata = \"\"\"\\\n",
    "....#..\n",
    "..###.#\n",
    "#...#.#\n",
    ".#...##\n",
    "#.###..\n",
    "##.#.##\n",
    ".#..#..\n",
    "\"\"\""
   ],
   "metadata": {
    "collapsed": false
   }
  },
  {
   "cell_type": "code",
   "execution_count": 5,
   "outputs": [
    {
     "data": {
      "text/plain": "22"
     },
     "execution_count": 5,
     "metadata": {},
     "output_type": "execute_result"
    }
   ],
   "source": [
    "test_crater = load_data(testdata)\n",
    "len(test_crater)"
   ],
   "metadata": {
    "collapsed": false
   }
  },
  {
   "cell_type": "code",
   "execution_count": 6,
   "outputs": [],
   "source": [
    "sectors_tpl = (\n",
    "    (0+1j, 1+1j, -1+1j),\n",
    "    (0-1j, 1-1j, -1-1j),\n",
    "    (-1, -1+1j, -1-1j),\n",
    "    (1, 1+1j, 1-1j)\n",
    ")"
   ],
   "metadata": {
    "collapsed": false
   }
  },
  {
   "cell_type": "code",
   "execution_count": 7,
   "outputs": [],
   "source": [
    "drxns = [\n",
    "    1j,\n",
    "    1+1j,\n",
    "    1,\n",
    "    1-1j,\n",
    "    -1j,\n",
    "    -1-1j,\n",
    "    -1,\n",
    "    -1+1j\n",
    "]"
   ],
   "metadata": {
    "collapsed": false
   }
  },
  {
   "cell_type": "code",
   "execution_count": 8,
   "outputs": [],
   "source": [
    "def diffuse(crater, rounds):\n",
    "    sectors = deque(list(sectors_tpl))\n",
    "    for i in range(rounds):\n",
    "        step(crater, sectors)\n",
    "        sectors.append(sectors.popleft())\n",
    "        # print(i+1)\n",
    "        # print_crater(crater)\n",
    "        # print()\n",
    "\n",
    "\n",
    "def step(D, sectors):\n",
    "    for elf in D:\n",
    "        if not any((elf + drxn in D) for drxn in drxns):\n",
    "            continue\n",
    "        for sec in sectors:\n",
    "            if not any((elf + drxn in D) for drxn in sec):\n",
    "                D[elf] = sec[0]\n",
    "                break\n",
    "    targets = defaultdict(list)\n",
    "    for k, v in D.items():\n",
    "        if v is not None:\n",
    "            targets[k+v].append(k)\n",
    "    for k, v in targets.items():\n",
    "        if len(v) == 1:\n",
    "            del D[v[0]]\n",
    "            D[k] = None\n",
    "    for k in D:\n",
    "        D[k] = None\n",
    "\n",
    "\n",
    "def count_empty(D):\n",
    "    xmin = int(min(p.real for p in D))\n",
    "    xmax = int(max(p.real for p in D))\n",
    "    ymin = int(min(p.imag for p in D))\n",
    "    ymax = int(max(p.imag for p in D))\n",
    "    return sum(complex(x, y) not in D for x in range(xmin, xmax+1) for y in range(ymin, ymax+1))\n",
    "\n",
    "\n",
    "def print_crater(D):\n",
    "    for y in range(int(max(p.imag for p in D)), int(min(p.imag for p in D)) - 1, -1):\n",
    "        print(\"\".join('#' if complex(x, y) in D else '.' for x in\n",
    "                      range(int(min(p.real for p in D)), int(max(p.real for p in D)) + 1)))"
   ],
   "metadata": {
    "collapsed": false
   }
  },
  {
   "cell_type": "code",
   "execution_count": 9,
   "outputs": [
    {
     "data": {
      "text/plain": "110"
     },
     "execution_count": 9,
     "metadata": {},
     "output_type": "execute_result"
    }
   ],
   "source": [
    "test_crater = load_data(testdata)\n",
    "diffuse(test_crater, 10)\n",
    "count_empty(test_crater)"
   ],
   "metadata": {
    "collapsed": false
   }
  },
  {
   "cell_type": "code",
   "execution_count": 10,
   "outputs": [
    {
     "name": "stdout",
     "output_type": "stream",
     "text": [
      "CPU times: user 107 ms, sys: 0 ns, total: 107 ms\n",
      "Wall time: 106 ms\n"
     ]
    },
    {
     "data": {
      "text/plain": "3925"
     },
     "execution_count": 10,
     "metadata": {},
     "output_type": "execute_result"
    }
   ],
   "source": [
    "%%time\n",
    "crater = load_data(data)\n",
    "diffuse(crater, 10)\n",
    "count_empty(crater)"
   ],
   "metadata": {
    "collapsed": false
   }
  },
  {
   "cell_type": "markdown",
   "source": [],
   "metadata": {
    "collapsed": false
   }
  },
  {
   "cell_type": "markdown",
   "source": [
    "Part 2"
   ],
   "metadata": {
    "collapsed": false
   }
  },
  {
   "cell_type": "code",
   "execution_count": 11,
   "outputs": [],
   "source": [
    "def diffuse2(crater, maxrounds=1000):\n",
    "    sectors = deque(list(sectors_tpl))\n",
    "    for i in range(1, maxrounds):\n",
    "        moved = step2(crater, sectors)\n",
    "        if not moved:\n",
    "            break\n",
    "        sectors.append(sectors.popleft())\n",
    "    return i, moved\n",
    "\n",
    "\n",
    "def step2(D, sectors):\n",
    "    for elf in D:\n",
    "        if not any((elf + drxn in D) for drxn in drxns):\n",
    "            continue\n",
    "        for sec in sectors:\n",
    "            if not any((elf + drxn in D) for drxn in sec):\n",
    "                D[elf] = sec[0]\n",
    "                break\n",
    "    targets = defaultdict(list)\n",
    "    for k, v in D.items():\n",
    "        if v is not None:\n",
    "            targets[k+v].append(k)\n",
    "    moved = 0\n",
    "    for k, v in targets.items():\n",
    "        if len(v) == 1:\n",
    "            del D[v[0]]\n",
    "            D[k] = None\n",
    "            moved += 1\n",
    "    for k in D:\n",
    "        D[k] = None\n",
    "    return moved\n",
    "\n"
   ],
   "metadata": {
    "collapsed": false
   }
  },
  {
   "cell_type": "code",
   "execution_count": 12,
   "outputs": [
    {
     "name": "stdout",
     "output_type": "stream",
     "text": [
      "CPU times: user 1.18 ms, sys: 0 ns, total: 1.18 ms\n",
      "Wall time: 1.18 ms\n"
     ]
    },
    {
     "data": {
      "text/plain": "(20, 0)"
     },
     "execution_count": 12,
     "metadata": {},
     "output_type": "execute_result"
    }
   ],
   "source": [
    "%%time\n",
    "test_crater = load_data(testdata)\n",
    "diffuse2(test_crater)"
   ],
   "metadata": {
    "collapsed": false
   }
  },
  {
   "cell_type": "code",
   "execution_count": 13,
   "outputs": [
    {
     "name": "stdout",
     "output_type": "stream",
     "text": [
      "CPU times: user 4.7 s, sys: 0 ns, total: 4.7 s\n",
      "Wall time: 4.73 s\n"
     ]
    },
    {
     "data": {
      "text/plain": "(903, 0)"
     },
     "execution_count": 13,
     "metadata": {},
     "output_type": "execute_result"
    }
   ],
   "source": [
    "%%time\n",
    "crater = load_data(data)\n",
    "diffuse2(crater)"
   ],
   "metadata": {
    "collapsed": false
   }
  },
  {
   "cell_type": "code",
   "execution_count": 13,
   "outputs": [],
   "source": [],
   "metadata": {
    "collapsed": false
   }
  },
  {
   "cell_type": "code",
   "execution_count": 13,
   "outputs": [],
   "source": [],
   "metadata": {
    "collapsed": false
   }
  },
  {
   "cell_type": "code",
   "execution_count": 13,
   "outputs": [],
   "source": [],
   "metadata": {
    "collapsed": false
   }
  },
  {
   "cell_type": "code",
   "execution_count": 13,
   "outputs": [],
   "source": [],
   "metadata": {
    "collapsed": false
   }
  }
 ],
 "metadata": {
  "kernelspec": {
   "display_name": "Python 3",
   "language": "python",
   "name": "python3"
  },
  "language_info": {
   "codemirror_mode": {
    "name": "ipython",
    "version": 2
   },
   "file_extension": ".py",
   "mimetype": "text/x-python",
   "name": "python",
   "nbconvert_exporter": "python",
   "pygments_lexer": "ipython2",
   "version": "2.7.6"
  }
 },
 "nbformat": 4,
 "nbformat_minor": 0
}
