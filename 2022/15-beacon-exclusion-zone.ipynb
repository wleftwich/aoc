{
 "cells": [
  {
   "cell_type": "markdown",
   "source": [
    "https://adventofcode.com/2022/day/15"
   ],
   "metadata": {
    "collapsed": false
   }
  },
  {
   "cell_type": "code",
   "execution_count": 1,
   "outputs": [],
   "source": [
    "import re\n",
    "from itertools import product\n",
    "\n",
    "import numpy as np\n",
    "from toolz import concat\n",
    "from intervaltree import Interval, IntervalTree"
   ],
   "metadata": {
    "collapsed": false
   }
  },
  {
   "cell_type": "code",
   "execution_count": 2,
   "outputs": [],
   "source": [
    "with open(\"data/15.txt\") as fh:\n",
    "    data = fh.read()"
   ],
   "metadata": {
    "collapsed": false
   }
  },
  {
   "cell_type": "code",
   "execution_count": 3,
   "outputs": [],
   "source": [
    "testdata = \"\"\"\\\n",
    "Sensor at x=2, y=18: closest beacon is at x=-2, y=15\n",
    "Sensor at x=9, y=16: closest beacon is at x=10, y=16\n",
    "Sensor at x=13, y=2: closest beacon is at x=15, y=3\n",
    "Sensor at x=12, y=14: closest beacon is at x=10, y=16\n",
    "Sensor at x=10, y=20: closest beacon is at x=10, y=16\n",
    "Sensor at x=14, y=17: closest beacon is at x=10, y=16\n",
    "Sensor at x=8, y=7: closest beacon is at x=2, y=10\n",
    "Sensor at x=2, y=0: closest beacon is at x=2, y=10\n",
    "Sensor at x=0, y=11: closest beacon is at x=2, y=10\n",
    "Sensor at x=20, y=14: closest beacon is at x=25, y=17\n",
    "Sensor at x=17, y=20: closest beacon is at x=21, y=22\n",
    "Sensor at x=16, y=7: closest beacon is at x=15, y=3\n",
    "Sensor at x=14, y=3: closest beacon is at x=15, y=3\n",
    "Sensor at x=20, y=1: closest beacon is at x=15, y=3\"\"\""
   ],
   "metadata": {
    "collapsed": false
   }
  },
  {
   "cell_type": "code",
   "execution_count": 4,
   "outputs": [],
   "source": [
    "class Sensor:\n",
    "    def __init__(self, x, y, bx, by):\n",
    "        self.x, self.y, self.bx, self.by = x, y, bx, by\n",
    "        mnhtn = self.mnhtn = abs(x - bx) + abs(y - by)\n",
    "        self.top = (x, y - mnhtn)\n",
    "        self.bottom = (x, y + mnhtn)\n",
    "        self.left = (x - mnhtn, y)\n",
    "        self.right = (x + mnhtn, y)\n",
    "\n",
    "    def contains(self, x, y):\n",
    "        return abs(x - self.x) + abs(y - self.y) <= self.mnhtn\n",
    "\n",
    "    def x_interval_at_y(self, y):\n",
    "        if self.top[1] <= y <= self.bottom[1]:\n",
    "            d = self.mnhtn - abs(y - self.y)\n",
    "            return Interval(self.x - d, self.x + d + 1)\n",
    "\n",
    "    def __repr__(self):\n",
    "        return f\"<Sensor ({self.x}, {self.y}) ({self.bx, self.by})>\""
   ],
   "metadata": {
    "collapsed": false
   }
  },
  {
   "cell_type": "code",
   "execution_count": 5,
   "outputs": [],
   "source": [
    "def load_data(data, cls=Sensor):\n",
    "    return [\n",
    "        cls(*[int(n) for n in re.findall(r\"[+-]?\\d+\", line)])\n",
    "        for line in data.strip().splitlines()\n",
    "    ]"
   ],
   "metadata": {
    "collapsed": false
   }
  },
  {
   "cell_type": "code",
   "execution_count": 6,
   "outputs": [
    {
     "data": {
      "text/plain": "26"
     },
     "execution_count": 6,
     "metadata": {},
     "output_type": "execute_result"
    }
   ],
   "source": [
    "sensors = load_data(testdata)\n",
    "y_to_check = 10\n",
    "\n",
    "itree = IntervalTree(\n",
    "    iv for iv in (s.x_interval_at_y(y_to_check) for s in sensors) if iv is not None\n",
    ")\n",
    "itree.merge_overlaps()\n",
    "covered_point_count = sum(x.length() for x in itree)\n",
    "beacon_xs = {s.bx for s in sensors if s.by == y_to_check}\n",
    "beacon_count = sum(1 for b in beacon_xs if any(iv.contains_point(b) for iv in itree))\n",
    "covered_point_count - beacon_count"
   ],
   "metadata": {
    "collapsed": false
   }
  },
  {
   "cell_type": "markdown",
   "source": [
    "Part 1"
   ],
   "metadata": {
    "collapsed": false
   }
  },
  {
   "cell_type": "code",
   "execution_count": 7,
   "outputs": [
    {
     "name": "stdout",
     "output_type": "stream",
     "text": [
      "CPU times: user 758 µs, sys: 0 ns, total: 758 µs\n",
      "Wall time: 767 µs\n"
     ]
    },
    {
     "data": {
      "text/plain": "5564017"
     },
     "execution_count": 7,
     "metadata": {},
     "output_type": "execute_result"
    }
   ],
   "source": [
    "%%time\n",
    "sensors = load_data(data)\n",
    "y_to_check = 2_000_000\n",
    "\n",
    "itree = IntervalTree(\n",
    "    iv for iv in (s.x_interval_at_y(y_to_check) for s in sensors) if iv is not None\n",
    ")\n",
    "itree.merge_overlaps()\n",
    "covered_point_count = sum(x.length() for x in itree)\n",
    "beacon_xs = {s.bx for s in sensors if s.by == y_to_check}\n",
    "beacon_count = sum(1 for b in beacon_xs if any(iv.contains_point(b) for iv in itree))\n",
    "covered_point_count - beacon_count"
   ],
   "metadata": {
    "collapsed": false
   }
  },
  {
   "cell_type": "markdown",
   "source": [
    "Part 2"
   ],
   "metadata": {
    "collapsed": false
   }
  },
  {
   "cell_type": "code",
   "execution_count": 8,
   "outputs": [],
   "source": [
    "class Sensor2(Sensor):\n",
    "    def x_interval_at_y_clipped(self, y, clipmin=0, clipmax=4_000_000):\n",
    "        if not self.top[1] <= y <= self.bottom[1]:\n",
    "            return None\n",
    "        if self.right[0] < clipmin or self.left[0] > clipmax:\n",
    "            return None\n",
    "        d = self.mnhtn - abs(y - self.y)\n",
    "        return Interval(max(clipmin, self.x - d), min(clipmax + 1, self.x + d + 1))"
   ],
   "metadata": {
    "collapsed": false
   }
  },
  {
   "cell_type": "markdown",
   "source": [
    "Any point not covered must be near an intersection of exclusion zones -- within a couple of rows either way.\n",
    "So instead of 4 million y values, we will only look at those for intersections += 2"
   ],
   "metadata": {
    "collapsed": false
   }
  },
  {
   "cell_type": "code",
   "execution_count": 22,
   "outputs": [],
   "source": [
    "def segment_intersection(s1, s2):\n",
    "    a1, b1, c1 = linear_equation_coefficients(*s1)\n",
    "    a2, b2, c2 = linear_equation_coefficients(*s2)\n",
    "    try:\n",
    "        x, y = np.linalg.solve([[a1, b1], [a2, b2]], [c1, c2])\n",
    "    except np.linalg.LinAlgError:\n",
    "        return\n",
    "    ((s1x1, s1y1), (s1x2, s1y2)) = s1\n",
    "    ((s2x1, s2y1), (s2x2, s2y2)) = s1\n",
    "    if (\n",
    "        between(x, s1x1, s1x2)\n",
    "        and between(x, s2x1, s2x2)\n",
    "        and between(y, s1y1, s1y2)\n",
    "        and between(y, s2y1, s2y2)\n",
    "    ):\n",
    "        return (x, y)\n",
    "\n",
    "\n",
    "def linear_equation_coefficients(a, b):\n",
    "    ((x1, y1), (x2, y2)) = (a, b)\n",
    "    m = (y2 - y1) / (x2 - x1)\n",
    "    return m, -1, (m * x1) - y1\n",
    "\n",
    "\n",
    "def between(a, b, c):\n",
    "    if b > c:\n",
    "        (b, c) = (c, b)\n",
    "    return b <= a <= c"
   ],
   "metadata": {
    "collapsed": false
   }
  },
  {
   "cell_type": "code",
   "execution_count": 24,
   "outputs": [
    {
     "name": "stdout",
     "output_type": "stream",
     "text": [
      "3398893 2 4000000 IntervalTree([Interval(0, 2889605), Interval(2889606, 4000001)])\n",
      "CPU times: user 265 ms, sys: 0 ns, total: 265 ms\n",
      "Wall time: 268 ms\n"
     ]
    }
   ],
   "source": [
    "%%time\n",
    "sensors = load_data(data, cls=Sensor2)\n",
    "pos_segs = concat(((s.left, s.top), (s.bottom, s.right)) for s in sensors)\n",
    "neg_segs = concat(((s.top, s.right), (s.left, s.bottom)) for s in sensors)\n",
    "segprod = product(pos_segs, neg_segs)\n",
    "intersections = (\n",
    "    x for x in (segment_intersection(s1, s2) for (s1, s2) in segprod) if x is not None\n",
    ")\n",
    "ys = concat(\n",
    "    range(int(y - 2), int(y + 2)) for x, y in intersections if 2 <= y <= 3_999_999\n",
    ")\n",
    "\n",
    "for y in ys:\n",
    "    itree = IntervalTree(\n",
    "        iv\n",
    "        for iv in (s.x_interval_at_y_clipped(y, clipmax=4_000_000) for s in sensors)\n",
    "        if iv is not None\n",
    "    )\n",
    "    itree.merge_overlaps()\n",
    "    covered_count = sum(iv.length() for iv in itree)\n",
    "    if covered_count < 4_000_001:\n",
    "        print(y, len(itree), covered_count, itree)\n",
    "        break"
   ],
   "metadata": {
    "collapsed": false
   }
  },
  {
   "cell_type": "code",
   "execution_count": 11,
   "outputs": [
    {
     "data": {
      "text/plain": "11558423398893"
     },
     "execution_count": 11,
     "metadata": {},
     "output_type": "execute_result"
    }
   ],
   "source": [
    "(2889605 * 4_000_000) + 3398893"
   ],
   "metadata": {
    "collapsed": false
   }
  }
 ],
 "metadata": {
  "kernelspec": {
   "display_name": "Python 3",
   "language": "python",
   "name": "python3"
  },
  "language_info": {
   "codemirror_mode": {
    "name": "ipython",
    "version": 2
   },
   "file_extension": ".py",
   "mimetype": "text/x-python",
   "name": "python",
   "nbconvert_exporter": "python",
   "pygments_lexer": "ipython2",
   "version": "2.7.6"
  }
 },
 "nbformat": 4,
 "nbformat_minor": 0
}
