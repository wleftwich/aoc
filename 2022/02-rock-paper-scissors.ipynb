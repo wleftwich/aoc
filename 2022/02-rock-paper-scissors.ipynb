{
 "cells": [
  {
   "cell_type": "markdown",
   "source": [
    "https://adventofcode.com/2022/day/2"
   ],
   "metadata": {
    "collapsed": false
   }
  },
  {
   "cell_type": "code",
   "execution_count": 30,
   "outputs": [],
   "source": [
    "from collections import Counter"
   ],
   "metadata": {
    "collapsed": false
   }
  },
  {
   "cell_type": "code",
   "execution_count": 31,
   "outputs": [],
   "source": [
    "with open(\"data/02.txt\") as fh:\n",
    "    data = [tuple(x.split()) for x in fh if x.strip()]"
   ],
   "metadata": {
    "collapsed": false
   }
  },
  {
   "cell_type": "code",
   "execution_count": 32,
   "outputs": [
    {
     "data": {
      "text/plain": "(2500,\n [('A', 'Y'), ('B', 'Y'), ('B', 'Z')],\n [('C', 'Y'), ('B', 'Y'), ('A', 'Y')])"
     },
     "execution_count": 32,
     "metadata": {},
     "output_type": "execute_result"
    }
   ],
   "source": [
    "len(data), data[:3], data[-3:]"
   ],
   "metadata": {
    "collapsed": false
   }
  },
  {
   "cell_type": "code",
   "execution_count": 33,
   "outputs": [],
   "source": [
    "scores = {\n",
    "    (\"A\", \"X\"): 4,\n",
    "    (\"B\", \"X\"): 1,\n",
    "    (\"C\", \"X\"): 7,\n",
    "    (\"A\", \"Y\"): 8,\n",
    "    (\"B\", \"Y\"): 5,\n",
    "    (\"C\", \"Y\"): 2,\n",
    "    (\"A\", \"Z\"): 3,\n",
    "    (\"B\", \"Z\"): 9,\n",
    "    (\"C\", \"Z\"): 6,\n",
    "}"
   ],
   "metadata": {
    "collapsed": false
   }
  },
  {
   "cell_type": "markdown",
   "source": [
    "Part 1"
   ],
   "metadata": {
    "collapsed": false
   }
  },
  {
   "cell_type": "code",
   "execution_count": 34,
   "outputs": [
    {
     "data": {
      "text/plain": "13565"
     },
     "execution_count": 34,
     "metadata": {},
     "output_type": "execute_result"
    }
   ],
   "source": [
    "sum(scores[x] for x in data)"
   ],
   "metadata": {
    "collapsed": false
   }
  },
  {
   "cell_type": "code",
   "execution_count": 35,
   "outputs": [],
   "source": [
    "ldw = {\n",
    "    (\"A\", \"X\"): \"C\",\n",
    "    (\"B\", \"X\"): \"A\",\n",
    "    (\"C\", \"X\"): \"B\",\n",
    "    (\"A\", \"Y\"): \"A\",\n",
    "    (\"B\", \"Y\"): \"B\",\n",
    "    (\"C\", \"Y\"): \"C\",\n",
    "    (\"A\", \"Z\"): \"B\",\n",
    "    (\"B\", \"Z\"): \"C\",\n",
    "    (\"C\", \"Z\"): \"A\",\n",
    "}"
   ],
   "metadata": {
    "collapsed": false
   }
  },
  {
   "cell_type": "code",
   "execution_count": 36,
   "outputs": [],
   "source": [
    "scores_2 = {\n",
    "    (\"A\", \"A\"): 4,\n",
    "    (\"B\", \"A\"): 1,\n",
    "    (\"C\", \"A\"): 7,\n",
    "    (\"A\", \"B\"): 8,\n",
    "    (\"B\", \"B\"): 5,\n",
    "    (\"C\", \"B\"): 2,\n",
    "    (\"A\", \"C\"): 3,\n",
    "    (\"B\", \"C\"): 9,\n",
    "    (\"C\", \"C\"): 6,\n",
    "}"
   ],
   "metadata": {
    "collapsed": false
   }
  },
  {
   "cell_type": "markdown",
   "source": [
    "Part 2"
   ],
   "metadata": {
    "collapsed": false
   }
  },
  {
   "cell_type": "code",
   "execution_count": 37,
   "outputs": [
    {
     "data": {
      "text/plain": "12424"
     },
     "execution_count": 37,
     "metadata": {},
     "output_type": "execute_result"
    }
   ],
   "source": [
    "sum(scores_2[x, ldw[(x, y)]] for (x, y) in data)"
   ],
   "metadata": {
    "collapsed": false
   }
  }
 ],
 "metadata": {
  "kernelspec": {
   "display_name": "Python 3",
   "language": "python",
   "name": "python3"
  },
  "language_info": {
   "codemirror_mode": {
    "name": "ipython",
    "version": 2
   },
   "file_extension": ".py",
   "mimetype": "text/x-python",
   "name": "python",
   "nbconvert_exporter": "python",
   "pygments_lexer": "ipython2",
   "version": "2.7.6"
  }
 },
 "nbformat": 4,
 "nbformat_minor": 0
}
