{
 "cells": [
  {
   "cell_type": "markdown",
   "source": [
    "https://adventofcode.com/2022/day/2"
   ],
   "metadata": {
    "collapsed": false
   }
  },
  {
   "cell_type": "code",
   "execution_count": 38,
   "outputs": [],
   "source": [
    "with open(\"data/02.txt\") as fh:\n",
    "    data = [tuple(x.split()) for x in fh if x.strip()]"
   ],
   "metadata": {
    "collapsed": false
   }
  },
  {
   "cell_type": "code",
   "execution_count": 39,
   "outputs": [
    {
     "data": {
      "text/plain": "(2500,\n [('A', 'Y'), ('B', 'Y'), ('B', 'Z')],\n [('C', 'Y'), ('B', 'Y'), ('A', 'Y')])"
     },
     "execution_count": 39,
     "metadata": {},
     "output_type": "execute_result"
    }
   ],
   "source": [
    "len(data), data[:3], data[-3:]"
   ],
   "metadata": {
    "collapsed": false
   }
  },
  {
   "cell_type": "code",
   "execution_count": 42,
   "outputs": [],
   "source": [
    "scores = {\n",
    "    # (them, us): our_score\n",
    "    (\"A\", \"A\"): 4,\n",
    "    (\"B\", \"A\"): 1,\n",
    "    (\"C\", \"A\"): 7,\n",
    "    (\"A\", \"B\"): 8,\n",
    "    (\"B\", \"B\"): 5,\n",
    "    (\"C\", \"B\"): 2,\n",
    "    (\"A\", \"C\"): 3,\n",
    "    (\"B\", \"C\"): 9,\n",
    "    (\"C\", \"C\"): 6,\n",
    "}"
   ],
   "metadata": {
    "collapsed": false
   }
  },
  {
   "cell_type": "code",
   "execution_count": 45,
   "outputs": [],
   "source": [
    "lookup_1 = {\n",
    "    \"X\": \"A\",\n",
    "    \"Y\": \"B\",\n",
    "    \"Z\": \"C\",\n",
    "}"
   ],
   "metadata": {
    "collapsed": false
   }
  },
  {
   "cell_type": "markdown",
   "source": [
    "Part 1"
   ],
   "metadata": {
    "collapsed": false
   }
  },
  {
   "cell_type": "code",
   "execution_count": 46,
   "outputs": [
    {
     "data": {
      "text/plain": "13565"
     },
     "execution_count": 46,
     "metadata": {},
     "output_type": "execute_result"
    }
   ],
   "source": [
    "sum(scores[x, lookup_1[y]] for (x, y) in data)"
   ],
   "metadata": {
    "collapsed": false
   }
  },
  {
   "cell_type": "code",
   "execution_count": 47,
   "outputs": [],
   "source": [
    "lookup_2 = {\n",
    "    (\"A\", \"X\"): \"C\",\n",
    "    (\"B\", \"X\"): \"A\",\n",
    "    (\"C\", \"X\"): \"B\",\n",
    "    (\"A\", \"Y\"): \"A\",\n",
    "    (\"B\", \"Y\"): \"B\",\n",
    "    (\"C\", \"Y\"): \"C\",\n",
    "    (\"A\", \"Z\"): \"B\",\n",
    "    (\"B\", \"Z\"): \"C\",\n",
    "    (\"C\", \"Z\"): \"A\",\n",
    "}"
   ],
   "metadata": {
    "collapsed": false
   }
  },
  {
   "cell_type": "markdown",
   "source": [
    "Part 2"
   ],
   "metadata": {
    "collapsed": false
   }
  },
  {
   "cell_type": "code",
   "execution_count": 48,
   "outputs": [
    {
     "data": {
      "text/plain": "12424"
     },
     "execution_count": 48,
     "metadata": {},
     "output_type": "execute_result"
    }
   ],
   "source": [
    "sum(scores[x, lookup_2[(x, y)]] for (x, y) in data)"
   ],
   "metadata": {
    "collapsed": false
   }
  }
 ],
 "metadata": {
  "kernelspec": {
   "display_name": "Python 3",
   "language": "python",
   "name": "python3"
  },
  "language_info": {
   "codemirror_mode": {
    "name": "ipython",
    "version": 2
   },
   "file_extension": ".py",
   "mimetype": "text/x-python",
   "name": "python",
   "nbconvert_exporter": "python",
   "pygments_lexer": "ipython2",
   "version": "2.7.6"
  }
 },
 "nbformat": 4,
 "nbformat_minor": 0
}
