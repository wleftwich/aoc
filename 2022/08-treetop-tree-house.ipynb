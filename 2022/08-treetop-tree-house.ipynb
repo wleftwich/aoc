{
 "cells": [
  {
   "cell_type": "markdown",
   "source": [
    "https://adventofcode.com/2022/day/8"
   ],
   "metadata": {
    "collapsed": false
   }
  },
  {
   "cell_type": "code",
   "execution_count": 56,
   "outputs": [],
   "source": [
    "import numpy as np"
   ],
   "metadata": {
    "collapsed": false
   }
  },
  {
   "cell_type": "code",
   "execution_count": 57,
   "outputs": [],
   "source": [
    "with open(\"data/08.txt\") as fh:\n",
    "    data = fh.read()"
   ],
   "metadata": {
    "collapsed": false
   }
  },
  {
   "cell_type": "code",
   "execution_count": 58,
   "outputs": [],
   "source": [
    "testdata = \"\"\"\\\n",
    "30373\n",
    "25512\n",
    "65332\n",
    "33549\n",
    "35390\n",
    "\"\"\""
   ],
   "metadata": {
    "collapsed": false
   }
  },
  {
   "cell_type": "code",
   "execution_count": 65,
   "outputs": [],
   "source": [
    "def load_grid(data):\n",
    "    return np.array([[int(c) for c in l] for l in data.strip().splitlines()])"
   ],
   "metadata": {
    "collapsed": false
   }
  },
  {
   "cell_type": "code",
   "execution_count": 66,
   "outputs": [
    {
     "name": "stdout",
     "output_type": "stream",
     "text": [
      "[[3 0 3 7 3]\n",
      " [2 5 5 1 2]\n",
      " [6 5 3 3 2]\n",
      " [3 3 5 4 9]\n",
      " [3 5 3 9 0]]\n"
     ]
    }
   ],
   "source": [
    "forest = load_grid(testdata)\n",
    "print(forest)"
   ],
   "metadata": {
    "collapsed": false
   }
  },
  {
   "cell_type": "markdown",
   "source": [
    "Part 1"
   ],
   "metadata": {
    "collapsed": false
   }
  },
  {
   "cell_type": "code",
   "execution_count": 67,
   "outputs": [
    {
     "name": "stdout",
     "output_type": "stream",
     "text": [
      "1829\n",
      "CPU times: user 27.4 ms, sys: 2.89 ms, total: 30.3 ms\n",
      "Wall time: 29.4 ms\n"
     ]
    }
   ],
   "source": [
    "%%time\n",
    "\n",
    "forest = load_grid(data)\n",
    "h, w = forest.shape\n",
    "visibles = np.zeros_like(forest)\n",
    "\n",
    "for i in range(h):\n",
    "    tallest = -1\n",
    "    for j in range(w):\n",
    "        t = forest[i, j]\n",
    "        if t > tallest:\n",
    "            visibles[i, j] += 1\n",
    "            tallest = t\n",
    "    tallest = -1\n",
    "    for j in range(w-1, -1, -1):\n",
    "        t = forest[i, j]\n",
    "        if t > tallest:\n",
    "            visibles[i, j] += 1\n",
    "            tallest = t\n",
    "for j in range(w):\n",
    "    tallest = -1\n",
    "    for i in range(h):\n",
    "        t = forest[i, j]\n",
    "        if t > tallest:\n",
    "            visibles[i, j] += 1\n",
    "            tallest = t\n",
    "    tallest = -1\n",
    "    for i in range(h-1, -1, -1):\n",
    "        t = forest[i, j]\n",
    "        if t > tallest:\n",
    "            visibles[i, j] += 1\n",
    "            tallest = t\n",
    "\n",
    "print((visibles > 0).sum())"
   ],
   "metadata": {
    "collapsed": false
   }
  },
  {
   "cell_type": "markdown",
   "source": [
    "Part 2"
   ],
   "metadata": {
    "collapsed": false
   }
  },
  {
   "cell_type": "code",
   "execution_count": 68,
   "outputs": [
    {
     "name": "stdout",
     "output_type": "stream",
     "text": [
      "291840\n",
      "CPU times: user 76.2 ms, sys: 0 ns, total: 76.2 ms\n",
      "Wall time: 74.6 ms\n"
     ]
    }
   ],
   "source": [
    "%%time\n",
    "forest = load_grid(data)\n",
    "h, w = forest.shape\n",
    "scores = np.ones_like(forest)\n",
    "\n",
    "for i, j in ((i, j) for i in range(h) for j in range(w)):\n",
    "    t = forest[i, j]\n",
    "\n",
    "    score = h - i - 1\n",
    "    for ii in range(i+1, h):\n",
    "        if forest[ii, j] >= t:\n",
    "            score = ii - i\n",
    "            break\n",
    "    scores[i, j] *= score\n",
    "\n",
    "    score = i\n",
    "    for ii in range(i-1, -1, -1):\n",
    "        if forest[ii, j] >= t:\n",
    "            score = i - ii\n",
    "            break\n",
    "    scores[i, j] *= score\n",
    "\n",
    "    score = w - j - 1\n",
    "    for jj in range(j+1, w):\n",
    "        if forest[i, jj] >= t:\n",
    "            score = jj - j\n",
    "            break\n",
    "    scores[i, j] *= score\n",
    "\n",
    "    score = j\n",
    "    for jj in range(j-1, -1, -1):\n",
    "        if forest[i, jj] >= t:\n",
    "            score = j - jj\n",
    "            break\n",
    "    scores[i, j] *= score\n",
    "\n",
    "print(scores.max())"
   ],
   "metadata": {
    "collapsed": false
   }
  }
 ],
 "metadata": {
  "kernelspec": {
   "display_name": "Python 3",
   "language": "python",
   "name": "python3"
  },
  "language_info": {
   "codemirror_mode": {
    "name": "ipython",
    "version": 2
   },
   "file_extension": ".py",
   "mimetype": "text/x-python",
   "name": "python",
   "nbconvert_exporter": "python",
   "pygments_lexer": "ipython2",
   "version": "2.7.6"
  }
 },
 "nbformat": 4,
 "nbformat_minor": 0
}
