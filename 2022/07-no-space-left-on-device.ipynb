{
 "cells": [
  {
   "cell_type": "markdown",
   "source": [
    "https://adventofcode.com/2022/day/7"
   ],
   "metadata": {
    "collapsed": false
   }
  },
  {
   "cell_type": "code",
   "execution_count": 3,
   "outputs": [],
   "source": [
    "with open(\"data/07.txt\")as fh:\n",
    "    data = fh.read()"
   ],
   "metadata": {
    "collapsed": false
   }
  },
  {
   "cell_type": "code",
   "execution_count": 80,
   "outputs": [],
   "source": [
    "class Directory:\n",
    "    def __init__(self, name, parent):\n",
    "        self.name = name\n",
    "        self.parent = parent\n",
    "        self.subdirs = {}\n",
    "        self.files = {}\n",
    "        self.subtree_size = 0\n",
    "\n",
    "    def cd(self, subdir):\n",
    "        if subdir == \"..\":\n",
    "            if self.parent is None:\n",
    "                raise IndexError(\"Can't 'cd ..' from root\")\n",
    "            return self.parent\n",
    "        return self.subdirs[subdir]\n",
    "\n",
    "    def add_subdir(self, name):\n",
    "        if name in self.subdirs:\n",
    "            raise KeyError(f\"subdir {name} already exists\")\n",
    "        self.subdirs[name] = Directory(name, self)\n",
    "\n",
    "    def add_file(self, name, size):\n",
    "        if name in self.files:\n",
    "            raise KeyError(f\"file {name} already exists\")\n",
    "        self.files[name] = File(name, size)\n",
    "\n",
    "    @property\n",
    "    def size(self):\n",
    "        return sum(x.size for x in self.files.values())\n",
    "\n",
    "    def __repr__(self):\n",
    "        return f\"<d {self.name} {len(self.subdirs)} {len(self.files)}>\"\n",
    "\n",
    "\n",
    "class File:\n",
    "    def __init__(self, name, size):\n",
    "        self.name = name\n",
    "        self.size = size\n",
    "\n",
    "    def __repr__(self):\n",
    "        return f\"<f {self.name} {self.size}> \"\n"
   ],
   "metadata": {
    "collapsed": false
   }
  },
  {
   "cell_type": "code",
   "execution_count": 42,
   "outputs": [],
   "source": [
    "def load_fs(data):\n",
    "    fs = wd = Directory(\"fs\", parent=None)\n",
    "    wd.add_subdir(\"/\")\n",
    "    for line in data.splitlines():\n",
    "        tokens = line.split()\n",
    "        try:\n",
    "            a, b = tokens[:2]\n",
    "        except IndexError:\n",
    "            continue\n",
    "        if a == \"$\" and b == \"cd\":\n",
    "            wd = wd.cd(tokens[2])\n",
    "        elif a == \"dir\":\n",
    "            wd.add_subdir(b)\n",
    "        elif a.isnumeric():\n",
    "            wd.add_file(b, int(a))\n",
    "    return fs\n"
   ],
   "metadata": {
    "collapsed": false
   }
  },
  {
   "cell_type": "markdown",
   "source": [
    "Compute each directory's tree size"
   ],
   "metadata": {
    "collapsed": false
   }
  },
  {
   "cell_type": "code",
   "execution_count": 87,
   "outputs": [
    {
     "name": "stdout",
     "output_type": "stream",
     "text": [
      "CPU times: user 3.64 ms, sys: 0 ns, total: 3.64 ms\n",
      "Wall time: 3.58 ms\n"
     ]
    }
   ],
   "source": [
    "%%time\n",
    "# dfs\n",
    "fs = load_fs(data)\n",
    "stack = []\n",
    "dirs = []\n",
    "stack.append(fs)\n",
    "while stack:\n",
    "    d = stack.pop()\n",
    "    dirs.append(d)\n",
    "    for subd in d.subdirs.values():\n",
    "        stack.append(subd)\n",
    "for d in reversed(dirs):\n",
    "    d.subtree_size += d.size\n",
    "    if d.parent is not None:\n",
    "        d.parent.subtree_size += d.subtree_size"
   ],
   "metadata": {
    "collapsed": false
   }
  },
  {
   "cell_type": "markdown",
   "source": [
    "Part 1"
   ],
   "metadata": {
    "collapsed": false
   }
  },
  {
   "cell_type": "code",
   "execution_count": 88,
   "outputs": [
    {
     "data": {
      "text/plain": "1844187"
     },
     "execution_count": 88,
     "metadata": {},
     "output_type": "execute_result"
    }
   ],
   "source": [
    "sum(d.subtree_size for d in dirs if d.subtree_size <= 100_000)"
   ],
   "metadata": {
    "collapsed": false
   }
  },
  {
   "cell_type": "code",
   "execution_count": 89,
   "outputs": [
    {
     "data": {
      "text/plain": "43441553"
     },
     "execution_count": 89,
     "metadata": {},
     "output_type": "execute_result"
    }
   ],
   "source": [
    "fs.subtree_size"
   ],
   "metadata": {
    "collapsed": false
   }
  },
  {
   "cell_type": "code",
   "execution_count": 90,
   "outputs": [
    {
     "data": {
      "text/plain": "26558447"
     },
     "execution_count": 90,
     "metadata": {},
     "output_type": "execute_result"
    }
   ],
   "source": [
    "total_space = 70_000_000\n",
    "update_required_space = 30_000_000\n",
    "current_free_space = total_space - fs.subtree_size\n",
    "current_free_space"
   ],
   "metadata": {
    "collapsed": false
   }
  },
  {
   "cell_type": "code",
   "execution_count": 91,
   "outputs": [
    {
     "data": {
      "text/plain": "3441553"
     },
     "execution_count": 91,
     "metadata": {},
     "output_type": "execute_result"
    }
   ],
   "source": [
    "space_to_free = update_required_space - current_free_space\n",
    "space_to_free"
   ],
   "metadata": {
    "collapsed": false
   }
  },
  {
   "cell_type": "markdown",
   "source": [
    "Part 2"
   ],
   "metadata": {
    "collapsed": false
   }
  },
  {
   "cell_type": "code",
   "execution_count": 92,
   "outputs": [
    {
     "data": {
      "text/plain": "4978279"
     },
     "execution_count": 92,
     "metadata": {},
     "output_type": "execute_result"
    }
   ],
   "source": [
    "min(d.subtree_size for d in dirs if d.subtree_size >= space_to_free)"
   ],
   "metadata": {
    "collapsed": false
   }
  },
  {
   "cell_type": "code",
   "execution_count": null,
   "outputs": [],
   "source": [],
   "metadata": {
    "collapsed": false
   }
  }
 ],
 "metadata": {
  "kernelspec": {
   "display_name": "Python 3",
   "language": "python",
   "name": "python3"
  },
  "language_info": {
   "codemirror_mode": {
    "name": "ipython",
    "version": 2
   },
   "file_extension": ".py",
   "mimetype": "text/x-python",
   "name": "python",
   "nbconvert_exporter": "python",
   "pygments_lexer": "ipython2",
   "version": "2.7.6"
  }
 },
 "nbformat": 4,
 "nbformat_minor": 0
}
