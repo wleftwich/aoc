{
 "cells": [
  {
   "cell_type": "markdown",
   "metadata": {},
   "source": [
    "https://adventofcode.com/2022/day/20"
   ]
  },
  {
   "cell_type": "code",
   "execution_count": 1,
   "metadata": {},
   "outputs": [],
   "source": [
    "with open(\"data/20.txt\") as fh:\n",
    "    data = fh.read()"
   ]
  },
  {
   "cell_type": "code",
   "execution_count": 2,
   "metadata": {},
   "outputs": [],
   "source": [
    "def load_data(data):\n",
    "    return [int(x) for x in data.split()]"
   ]
  },
  {
   "cell_type": "code",
   "execution_count": 3,
   "metadata": {},
   "outputs": [],
   "source": [
    "testdata = \"\"\"\\\n",
    "1\n",
    "2\n",
    "-3\n",
    "3\n",
    "-2\n",
    "0\n",
    "4\n",
    "\"\"\""
   ]
  },
  {
   "cell_type": "code",
   "execution_count": 4,
   "metadata": {},
   "outputs": [
    {
     "data": {
      "text/plain": "[1, 2, -3, 3, -2, 0, 4]"
     },
     "execution_count": 4,
     "metadata": {},
     "output_type": "execute_result"
    }
   ],
   "source": [
    "load_data(testdata)"
   ]
  },
  {
   "cell_type": "code",
   "execution_count": 5,
   "metadata": {},
   "outputs": [],
   "source": [
    "class Circle:\n",
    "    def __init__(self, L):\n",
    "        self.L = L\n",
    "        length = self.length = len(L)\n",
    "        self.nxts = [(i + 1) % length for i in range(length)]\n",
    "        self.prvs = [(i - 1) % length for i in range(length)]\n",
    "        self.ns = [n % (length - 1) for n in L]\n",
    "\n",
    "    def move(self, i):\n",
    "        n = self.ns[i]\n",
    "        if n == 0:\n",
    "            return\n",
    "        nxt_new = nxt_save = self.nxts[i]\n",
    "        prv_save = self.prvs[i]\n",
    "        for _ in range(n):\n",
    "            nxt_new = self.nxts[nxt_new]\n",
    "        prv_new = self.prvs[nxt_new]\n",
    "        self.prvs[i] = prv_new\n",
    "        self.nxts[prv_new] = i\n",
    "        self.nxts[i] = nxt_new\n",
    "        self.prvs[nxt_new] = i\n",
    "        self.nxts[prv_save] = nxt_save\n",
    "        self.prvs[nxt_save] = prv_save\n",
    "\n",
    "    def mix(self):\n",
    "        for i in range(self.length):\n",
    "            self.move(i)\n",
    "\n",
    "    @property\n",
    "    def ordered(self):\n",
    "        nxt = self.nxts[self.L.index(0)]\n",
    "        nodes = [self.L[nxt]]\n",
    "        for _ in range(self.length - 1):\n",
    "            nxt = self.nxts[nxt]\n",
    "            nodes.append(self.L[nxt])\n",
    "        return nodes"
   ]
  },
  {
   "cell_type": "code",
   "execution_count": 6,
   "metadata": {},
   "outputs": [
    {
     "name": "stdout",
     "output_type": "stream",
     "text": [
      "4\n",
      "-3\n",
      "2\n",
      "3\n"
     ]
    }
   ],
   "source": [
    "c = Circle(load_data(testdata))\n",
    "c.mix()\n",
    "\n",
    "ttl = 0\n",
    "z = c.L.index(0)\n",
    "\n",
    "i = z\n",
    "for _ in range(1000 % c.length):\n",
    "    i = c.nxts[i]\n",
    "print(c.L[i])\n",
    "ttl += c.L[i]\n",
    "\n",
    "i = z\n",
    "for _ in range(2000 % c.length):\n",
    "    i = c.nxts[i]\n",
    "print(c.L[i])\n",
    "ttl += c.L[i]\n",
    "\n",
    "i = z\n",
    "for _ in range(3000 % c.length):\n",
    "    i = c.nxts[i]\n",
    "print(c.L[i])\n",
    "ttl += c.L[i]\n",
    "\n",
    "print(ttl)"
   ]
  },
  {
   "cell_type": "code",
   "execution_count": 7,
   "metadata": {},
   "outputs": [
    {
     "name": "stdout",
     "output_type": "stream",
     "text": [
      "9346\n",
      "-2771\n",
      "5041\n",
      "11616\n",
      "CPU times: user 372 ms, sys: 333 µs, total: 372 ms\n",
      "Wall time: 376 ms\n"
     ]
    }
   ],
   "source": [
    "%%time\n",
    "\n",
    "c = Circle(load_data(data))\n",
    "c.mix()\n",
    "z = c.L.index(0)\n",
    "\n",
    "ttl = 0\n",
    "\n",
    "i = z\n",
    "for _ in range(1000):\n",
    "    i = c.nxts[i]\n",
    "print(c.L[i])\n",
    "ttl += c.L[i]\n",
    "\n",
    "i = z\n",
    "for _ in range(2000):\n",
    "    i = c.nxts[i]\n",
    "print(c.L[i])\n",
    "ttl += c.L[i]\n",
    "\n",
    "i = z\n",
    "for _ in range(3000):\n",
    "    i = c.nxts[i]\n",
    "print(c.L[i])\n",
    "ttl += c.L[i]\n",
    "\n",
    "print(ttl)"
   ]
  },
  {
   "cell_type": "markdown",
   "metadata": {},
   "source": [
    "Part 2"
   ]
  },
  {
   "cell_type": "code",
   "execution_count": 8,
   "metadata": {},
   "outputs": [],
   "source": [
    "decryption_key = 811589153"
   ]
  },
  {
   "cell_type": "code",
   "execution_count": 9,
   "metadata": {},
   "outputs": [
    {
     "name": "stdout",
     "output_type": "stream",
     "text": [
      "811589153\n",
      "2434767459\n",
      "-1623178306\n",
      "1623178306\n",
      "CPU times: user 557 µs, sys: 44 µs, total: 601 µs\n",
      "Wall time: 562 µs\n"
     ]
    }
   ],
   "source": [
    "%%time\n",
    "c = Circle([decryption_key * n for n in load_data(testdata)])\n",
    "\n",
    "for _ in range(10):\n",
    "    c.mix()\n",
    "\n",
    "ttl = 0\n",
    "z = c.L.index(0)\n",
    "\n",
    "i = z\n",
    "for _ in range(1000 % c.length):\n",
    "    i = c.nxts[i]\n",
    "print(c.L[i])\n",
    "ttl += c.L[i]\n",
    "\n",
    "i = z\n",
    "for _ in range(2000 % c.length):\n",
    "    i = c.nxts[i]\n",
    "print(c.L[i])\n",
    "ttl += c.L[i]\n",
    "\n",
    "i = z\n",
    "for _ in range(3000 % c.length):\n",
    "    i = c.nxts[i]\n",
    "print(c.L[i])\n",
    "ttl += c.L[i]\n",
    "\n",
    "print(ttl)"
   ]
  },
  {
   "cell_type": "code",
   "execution_count": 11,
   "metadata": {},
   "outputs": [
    {
     "name": "stdout",
     "output_type": "stream",
     "text": [
      "5139794105949\n",
      "2028161293347\n",
      "2769953779189\n",
      "9937909178485\n",
      "CPU times: user 3.4 s, sys: 0 ns, total: 3.4 s\n",
      "Wall time: 3.41 s\n"
     ]
    }
   ],
   "source": [
    "%%time\n",
    "c = Circle([decryption_key * n for n in load_data(data)])\n",
    "\n",
    "for _ in range(10):\n",
    "    c.mix()\n",
    "\n",
    "ttl = 0\n",
    "z = c.L.index(0)\n",
    "\n",
    "i = z\n",
    "for _ in range(1000):\n",
    "    i = c.nxts[i]\n",
    "print(c.L[i])\n",
    "ttl += c.L[i]\n",
    "\n",
    "i = z\n",
    "for _ in range(2000):\n",
    "    i = c.nxts[i]\n",
    "print(c.L[i])\n",
    "ttl += c.L[i]\n",
    "\n",
    "i = z\n",
    "for _ in range(3000):\n",
    "    i = c.nxts[i]\n",
    "print(c.L[i])\n",
    "ttl += c.L[i]\n",
    "\n",
    "print(ttl)"
   ]
  }
 ],
 "metadata": {
  "kernelspec": {
   "display_name": "Python 3 (ipykernel)",
   "language": "python",
   "name": "python3"
  },
  "language_info": {
   "codemirror_mode": {
    "name": "ipython",
    "version": 3
   },
   "file_extension": ".py",
   "mimetype": "text/x-python",
   "name": "python",
   "nbconvert_exporter": "python",
   "pygments_lexer": "ipython3",
   "version": "3.11.0"
  }
 },
 "nbformat": 4,
 "nbformat_minor": 1
}
