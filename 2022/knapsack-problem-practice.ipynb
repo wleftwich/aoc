{
 "cells": [
  {
   "cell_type": "code",
   "execution_count": 1,
   "metadata": {
    "collapsed": true
   },
   "outputs": [],
   "source": [
    "import numpy as np"
   ]
  },
  {
   "cell_type": "markdown",
   "source": [
    "0-1 knapsack problem"
   ],
   "metadata": {
    "collapsed": false
   }
  },
  {
   "cell_type": "code",
   "execution_count": 38,
   "outputs": [],
   "source": [
    "def knapsack(items, capacity):\n",
    "    table = np.zeros((len(items)+1, capacity+1))\n",
    "    for i, item in enumerate(items):\n",
    "        _, weight, value = item\n",
    "        for j in range(1, capacity+1):\n",
    "            previous_items_value = table[i, j]\n",
    "            if j >= weight:\n",
    "                value_freeing_weight_for_item = table[i, j-weight]\n",
    "                table[i+1, j] = max(value_freeing_weight_for_item + value, previous_items_value)\n",
    "            else:\n",
    "                table[i+1, j] = previous_items_value\n",
    "        print(table)\n",
    "    solution = []\n",
    "    j = capacity\n",
    "    for i in range(len(items), 0, -1):\n",
    "        if table[i-1, j] != table[i, j]:\n",
    "            solution.append(items[i-1])\n",
    "            j -= items[i-1][1]\n",
    "    return solution"
   ],
   "metadata": {
    "collapsed": false
   }
  },
  {
   "cell_type": "code",
   "execution_count": 35,
   "outputs": [],
   "source": [
    "items = [(\"m\", 1, 5), (\"f\", 2, 10), (\"b\", 1, 15)]\n",
    "capacity = 3"
   ],
   "metadata": {
    "collapsed": false
   }
  },
  {
   "cell_type": "code",
   "execution_count": 39,
   "outputs": [
    {
     "name": "stdout",
     "output_type": "stream",
     "text": [
      "[[0. 0. 0. 0.]\n",
      " [0. 5. 5. 5.]\n",
      " [0. 0. 0. 0.]\n",
      " [0. 0. 0. 0.]]\n",
      "[[ 0.  0.  0.  0.]\n",
      " [ 0.  5.  5.  5.]\n",
      " [ 0.  5. 10. 15.]\n",
      " [ 0.  0.  0.  0.]]\n",
      "[[ 0.  0.  0.  0.]\n",
      " [ 0.  5.  5.  5.]\n",
      " [ 0.  5. 10. 15.]\n",
      " [ 0. 15. 20. 25.]]\n"
     ]
    },
    {
     "data": {
      "text/plain": "[('b', 1, 15), ('f', 2, 10)]"
     },
     "execution_count": 39,
     "metadata": {},
     "output_type": "execute_result"
    }
   ],
   "source": [
    "knapsack(items, capacity)"
   ],
   "metadata": {
    "collapsed": false
   }
  },
  {
   "cell_type": "code",
   "execution_count": 4,
   "outputs": [],
   "source": [],
   "metadata": {
    "collapsed": false
   }
  }
 ],
 "metadata": {
  "kernelspec": {
   "display_name": "Python 3",
   "language": "python",
   "name": "python3"
  },
  "language_info": {
   "codemirror_mode": {
    "name": "ipython",
    "version": 2
   },
   "file_extension": ".py",
   "mimetype": "text/x-python",
   "name": "python",
   "nbconvert_exporter": "python",
   "pygments_lexer": "ipython2",
   "version": "2.7.6"
  }
 },
 "nbformat": 4,
 "nbformat_minor": 0
}
