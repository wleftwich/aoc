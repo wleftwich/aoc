{
 "cells": [
  {
   "cell_type": "markdown",
   "source": [
    "https://adventofcode.com/2022/day/25"
   ],
   "metadata": {
    "collapsed": false
   }
  },
  {
   "cell_type": "code",
   "execution_count": 17,
   "outputs": [],
   "source": [
    "import math\n",
    "from functools import lru_cache\n"
   ],
   "metadata": {
    "collapsed": false
   }
  },
  {
   "cell_type": "code",
   "execution_count": 1,
   "outputs": [],
   "source": [
    "with open(\"data/25.txt\") as fh:\n",
    "    data = fh.read()"
   ],
   "metadata": {
    "collapsed": false
   }
  },
  {
   "cell_type": "code",
   "execution_count": 3,
   "outputs": [],
   "source": [
    "slookup = {\n",
    "    \"2\": 2,\n",
    "    \"1\": 1,\n",
    "    \"0\": 0,\n",
    "    \"-\": -1,\n",
    "    \"=\": -2,\n",
    "}\n",
    "\n",
    "dlookup = {v: k for k, v in slookup.items()}"
   ],
   "metadata": {
    "collapsed": false
   }
  },
  {
   "cell_type": "code",
   "execution_count": 4,
   "outputs": [
    {
     "data": {
      "text/plain": "{2: '2', 1: '1', 0: '0', -1: '-', -2: '='}"
     },
     "execution_count": 4,
     "metadata": {},
     "output_type": "execute_result"
    }
   ],
   "source": [
    "dlookup"
   ],
   "metadata": {
    "collapsed": false
   }
  },
  {
   "cell_type": "code",
   "execution_count": 220,
   "outputs": [],
   "source": [
    "def snafu2int(s):\n",
    "    ttl = 0\n",
    "    for i, c in enumerate(reversed(s)):\n",
    "        ttl += slookup[c] * math.pow(5, i)\n",
    "    return ttl\n"
   ],
   "metadata": {
    "collapsed": false
   }
  },
  {
   "cell_type": "code",
   "execution_count": 8,
   "outputs": [],
   "source": [
    "testdata = \"\"\"\\\n",
    "1=-0-2\n",
    "12111\n",
    "2=0=\n",
    "21\n",
    "2=01\n",
    "111\n",
    "20012\n",
    "112\n",
    "1=-1=\n",
    "1-12\n",
    "12\n",
    "1=\n",
    "122\n",
    "\"\"\""
   ],
   "metadata": {
    "collapsed": false
   }
  },
  {
   "cell_type": "code",
   "execution_count": 221,
   "outputs": [
    {
     "data": {
      "text/plain": "4890.0"
     },
     "execution_count": 221,
     "metadata": {},
     "output_type": "execute_result"
    }
   ],
   "source": [
    "sum(snafu2int(s) for s in testdata.strip().splitlines())"
   ],
   "metadata": {
    "collapsed": false
   }
  },
  {
   "cell_type": "code",
   "execution_count": 222,
   "outputs": [
    {
     "data": {
      "text/plain": "4890.0"
     },
     "execution_count": 222,
     "metadata": {},
     "output_type": "execute_result"
    }
   ],
   "source": [
    "snafu2int(\"2=-1=0\")"
   ],
   "metadata": {
    "collapsed": false
   }
  },
  {
   "cell_type": "code",
   "execution_count": 231,
   "outputs": [
    {
     "name": "stdout",
     "output_type": "stream",
     "text": [
      "36966761092496\n",
      "CPU times: user 3.19 ms, sys: 41 µs, total: 3.23 ms\n",
      "Wall time: 2.94 ms\n"
     ]
    },
    {
     "data": {
      "text/plain": "'20=212=1-12=200=00-1'"
     },
     "execution_count": 231,
     "metadata": {},
     "output_type": "execute_result"
    }
   ],
   "source": [
    "%%time\n",
    "thenumber = int(sum(snafu2int(s) for s in data.strip().splitlines()))\n",
    "print(thenumber)\n",
    "ttl = 0\n",
    "for i in range(100):\n",
    "    ttl += 2 * pow(5, i)\n",
    "    if ttl >= thenumber:\n",
    "        break\n",
    "else:\n",
    "    print(\"not enough digits\")\n",
    "snafudigits = i + 1\n",
    "\n",
    "L = [2 for _ in range(snafudigits)]\n",
    "target = thenumber\n",
    "for i in range(len(L)-1, -1, -1):\n",
    "    if ttl == target:\n",
    "        print(\"done\")\n",
    "        break\n",
    "    for j in range(4):\n",
    "        L[i] -= 1\n",
    "        ttl = sum(n * pow(5, i) for i, n in enumerate(L))\n",
    "        if ttl == target:\n",
    "            break\n",
    "        if ttl < target:\n",
    "            L[i] += 1\n",
    "            break\n",
    "\"\".join(dlookup[n] for n in reversed(L))\n"
   ],
   "metadata": {
    "collapsed": false
   }
  },
  {
   "cell_type": "code",
   "execution_count": 230,
   "outputs": [
    {
     "data": {
      "text/plain": "True"
     },
     "execution_count": 230,
     "metadata": {},
     "output_type": "execute_result"
    }
   ],
   "source": [
    "snafu2int('20=212=1-12=200=00-1') == thenumber"
   ],
   "metadata": {
    "collapsed": false
   }
  }
 ],
 "metadata": {
  "kernelspec": {
   "display_name": "Python 3",
   "language": "python",
   "name": "python3"
  },
  "language_info": {
   "codemirror_mode": {
    "name": "ipython",
    "version": 2
   },
   "file_extension": ".py",
   "mimetype": "text/x-python",
   "name": "python",
   "nbconvert_exporter": "python",
   "pygments_lexer": "ipython2",
   "version": "2.7.6"
  }
 },
 "nbformat": 4,
 "nbformat_minor": 0
}
