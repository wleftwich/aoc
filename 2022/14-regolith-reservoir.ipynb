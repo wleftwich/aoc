{
 "cells": [
  {
   "cell_type": "markdown",
   "source": [
    "https://adventofcode.com/2022/day/14"
   ],
   "metadata": {
    "collapsed": false
   }
  },
  {
   "cell_type": "code",
   "execution_count": 5,
   "outputs": [],
   "source": [
    "import re\n",
    "\n",
    "from toolz import partition"
   ],
   "metadata": {
    "collapsed": false
   }
  },
  {
   "cell_type": "code",
   "execution_count": 1,
   "outputs": [],
   "source": [
    "with open(\"data/14.txt\") as fh:\n",
    "    data = fh.read()"
   ],
   "metadata": {
    "collapsed": false
   }
  },
  {
   "cell_type": "code",
   "execution_count": 118,
   "outputs": [],
   "source": [
    "def load_data(data):\n",
    "    D = {}\n",
    "    for line in data.strip().splitlines():\n",
    "        points = list(partition(2, (int(s) for s in re.findall(r\"\\d+\", line))))\n",
    "        pairs = zip(points, points[1:])\n",
    "        for ((x1, y1), (x2, y2)) in pairs:\n",
    "            for x in between(x1, x2):\n",
    "                for y in between(y1, y2):\n",
    "                    D[complex(x, -y)] = 0\n",
    "    return D\n",
    "\n",
    "def between(a, b):\n",
    "    if a <= b:\n",
    "        return range(a, b+1)\n",
    "    else:\n",
    "        return range(a, b-1, -1)"
   ],
   "metadata": {
    "collapsed": false
   }
  },
  {
   "cell_type": "code",
   "execution_count": 119,
   "outputs": [],
   "source": [
    "testdata = \"\"\"\\\n",
    "498,4 -> 498,6 -> 496,6\n",
    "503,4 -> 502,4 -> 502,9 -> 494,9\n",
    "\"\"\""
   ],
   "metadata": {
    "collapsed": false
   }
  },
  {
   "cell_type": "code",
   "execution_count": 120,
   "outputs": [
    {
     "data": {
      "text/plain": "{(498-4j): 0,\n (498-5j): 0,\n (498-6j): 0,\n (497-6j): 0,\n (496-6j): 0,\n (503-4j): 0,\n (502-4j): 0,\n (502-5j): 0,\n (502-6j): 0,\n (502-7j): 0,\n (502-8j): 0,\n (502-9j): 0,\n (501-9j): 0,\n (500-9j): 0,\n (499-9j): 0,\n (498-9j): 0,\n (497-9j): 0,\n (496-9j): 0,\n (495-9j): 0,\n (494-9j): 0}"
     },
     "execution_count": 120,
     "metadata": {},
     "output_type": "execute_result"
    }
   ],
   "source": [
    "testcave = load_data(testdata)\n",
    "testcave"
   ],
   "metadata": {
    "collapsed": false
   }
  },
  {
   "cell_type": "code",
   "execution_count": 121,
   "outputs": [],
   "source": [
    "class TheAbyss(Exception):\n",
    "    pass\n",
    "\n",
    "def grainfall(start, cave, ymin=None):\n",
    "    if ymin is None:\n",
    "        ymin = min(p.imag for p in cave)\n",
    "    p = start\n",
    "    while True:\n",
    "        if p.imag == ymin:\n",
    "            raise TheAbyss\n",
    "        for step in (-1j, -1-1j, 1-1j):\n",
    "            if p+step not in cave:\n",
    "                p = p+step\n",
    "                break\n",
    "        else:\n",
    "            cave[p] = 1\n",
    "            return"
   ],
   "metadata": {
    "collapsed": false
   }
  },
  {
   "cell_type": "markdown",
   "source": [
    "Part 1"
   ],
   "metadata": {
    "collapsed": false
   }
  },
  {
   "cell_type": "code",
   "execution_count": 122,
   "outputs": [
    {
     "data": {
      "text/plain": "961"
     },
     "execution_count": 122,
     "metadata": {},
     "output_type": "execute_result"
    }
   ],
   "source": [
    "cave = load_data(data)\n",
    "ymin = min(p.imag for p in cave)\n",
    "start = 500\n",
    "while True:\n",
    "    try:\n",
    "        grainfall(start, cave, ymin)\n",
    "    except TheAbyss:\n",
    "        break\n",
    "sum(cave.values())"
   ],
   "metadata": {
    "collapsed": false
   }
  },
  {
   "cell_type": "markdown",
   "source": [
    "Part 2"
   ],
   "metadata": {
    "collapsed": false
   }
  },
  {
   "cell_type": "code",
   "execution_count": 123,
   "outputs": [],
   "source": [
    "class Full(Exception):\n",
    "    pass\n",
    "\n",
    "def grainfall2(start, cave, floor_level):\n",
    "    p = start\n",
    "    while True:\n",
    "        for step in (-1j, -1-1j, 1-1j):\n",
    "            p1 = p+step\n",
    "            if p1 not in cave and p1.imag > floor_level:\n",
    "                p = p1\n",
    "                break\n",
    "        else:\n",
    "            cave[p] = 1\n",
    "            if p.imag == 0:\n",
    "                raise Full\n",
    "            return"
   ],
   "metadata": {
    "collapsed": false
   }
  },
  {
   "cell_type": "code",
   "execution_count": 124,
   "outputs": [
    {
     "data": {
      "text/plain": "93"
     },
     "execution_count": 124,
     "metadata": {},
     "output_type": "execute_result"
    }
   ],
   "source": [
    "testcave = load_data(testdata)\n",
    "floor_level = min(p.imag for p in testcave) - 2\n",
    "start = 500\n",
    "while True:\n",
    "    try:\n",
    "        grainfall2(start, testcave, floor_level)\n",
    "    except Full:\n",
    "        break\n",
    "sum(testcave.values())"
   ],
   "metadata": {
    "collapsed": false
   }
  },
  {
   "cell_type": "code",
   "execution_count": 125,
   "outputs": [
    {
     "name": "stdout",
     "output_type": "stream",
     "text": [
      "CPU times: user 1.03 s, sys: 3.34 ms, total: 1.04 s\n",
      "Wall time: 1.04 s\n"
     ]
    },
    {
     "data": {
      "text/plain": "26375"
     },
     "execution_count": 125,
     "metadata": {},
     "output_type": "execute_result"
    }
   ],
   "source": [
    "%%time\n",
    "cave = load_data(data)\n",
    "floor_level = min(p.imag for p in cave) - 2\n",
    "start = 500\n",
    "while True:\n",
    "    try:\n",
    "        grainfall2(start, cave, floor_level)\n",
    "    except Full:\n",
    "        break\n",
    "sum(cave.values())"
   ],
   "metadata": {
    "collapsed": false
   }
  },
  {
   "cell_type": "code",
   "execution_count": null,
   "outputs": [],
   "source": [],
   "metadata": {
    "collapsed": false
   }
  }
 ],
 "metadata": {
  "kernelspec": {
   "display_name": "Python 3",
   "language": "python",
   "name": "python3"
  },
  "language_info": {
   "codemirror_mode": {
    "name": "ipython",
    "version": 2
   },
   "file_extension": ".py",
   "mimetype": "text/x-python",
   "name": "python",
   "nbconvert_exporter": "python",
   "pygments_lexer": "ipython2",
   "version": "2.7.6"
  }
 },
 "nbformat": 4,
 "nbformat_minor": 0
}
