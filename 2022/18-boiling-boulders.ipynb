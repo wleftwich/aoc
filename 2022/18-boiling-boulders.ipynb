{
 "cells": [
  {
   "cell_type": "markdown",
   "source": [
    "https://adventofcode.com/2022/day/18"
   ],
   "metadata": {
    "collapsed": false
   }
  },
  {
   "cell_type": "code",
   "execution_count": 41,
   "outputs": [],
   "source": [
    "from collections import defaultdict\n",
    "\n",
    "from itertools import chain\n",
    "import networkx as nx"
   ],
   "metadata": {
    "collapsed": false
   }
  },
  {
   "cell_type": "code",
   "execution_count": 1,
   "outputs": [],
   "source": [
    "with open(\"data/18.txt\") as fh:\n",
    "    data = fh.read()"
   ],
   "metadata": {
    "collapsed": false
   }
  },
  {
   "cell_type": "code",
   "execution_count": 2,
   "outputs": [],
   "source": [
    "testdata = \"\"\"\\\n",
    "2,2,2\n",
    "1,2,2\n",
    "3,2,2\n",
    "2,1,2\n",
    "2,3,2\n",
    "2,2,1\n",
    "2,2,3\n",
    "2,2,4\n",
    "2,2,6\n",
    "1,2,5\n",
    "3,2,5\n",
    "2,1,5\n",
    "2,3,5\n",
    "\"\"\""
   ],
   "metadata": {
    "collapsed": false
   }
  },
  {
   "cell_type": "code",
   "execution_count": 5,
   "outputs": [],
   "source": [
    "def load_data(data):\n",
    "    S = set()\n",
    "    for line in data.strip().split():\n",
    "        p = tuple(map(int, line.split(\",\")))\n",
    "        S.add(p)\n",
    "    return S"
   ],
   "metadata": {
    "collapsed": false
   }
  },
  {
   "cell_type": "code",
   "execution_count": 6,
   "outputs": [
    {
     "data": {
      "text/plain": "{(1, 2, 2),\n (1, 2, 5),\n (2, 1, 2),\n (2, 1, 5),\n (2, 2, 1),\n (2, 2, 2),\n (2, 2, 3),\n (2, 2, 4),\n (2, 2, 6),\n (2, 3, 2),\n (2, 3, 5),\n (3, 2, 2),\n (3, 2, 5)}"
     },
     "execution_count": 6,
     "metadata": {},
     "output_type": "execute_result"
    }
   ],
   "source": [
    "load_data(testdata)"
   ],
   "metadata": {
    "collapsed": false
   }
  },
  {
   "cell_type": "code",
   "execution_count": 7,
   "outputs": [],
   "source": [
    "def find_neighbors(p, grid):\n",
    "    x, y, z = p\n",
    "    for nabe in [\n",
    "        (x+1, y, z),\n",
    "        (x-1, y, z),\n",
    "        (x, y+1, z),\n",
    "        (x, y-1, z),\n",
    "        (x, y, z+1),\n",
    "        (x, y, z-1)\n",
    "    ]:\n",
    "        if nabe in grid:\n",
    "            yield nabe\n"
   ],
   "metadata": {
    "collapsed": false
   }
  },
  {
   "cell_type": "code",
   "execution_count": 45,
   "outputs": [],
   "source": [
    "def free_faces(p, grid):\n",
    "    x, y, z = p\n",
    "    for nabe in [\n",
    "        (x+1, y, z),\n",
    "        (x-1, y, z),\n",
    "        (x, y+1, z),\n",
    "        (x, y-1, z),\n",
    "        (x, y, z+1),\n",
    "        (x, y, z-1)\n",
    "    ]:\n",
    "        if nabe not in grid:\n",
    "            yield nabe\n"
   ],
   "metadata": {
    "collapsed": false
   }
  },
  {
   "cell_type": "code",
   "execution_count": 23,
   "outputs": [],
   "source": [
    "def surface_area(grid):\n",
    "    return sum(sum(1 for _ in free_faces(p, grid)) for p in grid)"
   ],
   "metadata": {
    "collapsed": false
   }
  },
  {
   "cell_type": "code",
   "execution_count": 24,
   "outputs": [
    {
     "data": {
      "text/plain": "64"
     },
     "execution_count": 24,
     "metadata": {},
     "output_type": "execute_result"
    }
   ],
   "source": [
    "grid = load_data(testdata)\n",
    "surface_area(grid)"
   ],
   "metadata": {
    "collapsed": false
   }
  },
  {
   "cell_type": "markdown",
   "source": [
    "Part 1"
   ],
   "metadata": {
    "collapsed": false
   }
  },
  {
   "cell_type": "code",
   "execution_count": 26,
   "outputs": [
    {
     "data": {
      "text/plain": "3412"
     },
     "execution_count": 26,
     "metadata": {},
     "output_type": "execute_result"
    }
   ],
   "source": [
    "grid = load_data(data)\n",
    "surface_area(grid)"
   ],
   "metadata": {
    "collapsed": false
   }
  },
  {
   "cell_type": "markdown",
   "source": [
    "Part 2\n",
    "Find open faces connected to outside."
   ],
   "metadata": {
    "collapsed": false
   }
  },
  {
   "cell_type": "code",
   "execution_count": 70,
   "outputs": [
    {
     "name": "stdout",
     "output_type": "stream",
     "text": [
      "CPU times: user 106 ms, sys: 7.81 ms, total: 114 ms\n",
      "Wall time: 113 ms\n"
     ]
    },
    {
     "data": {
      "text/plain": "2018"
     },
     "execution_count": 70,
     "metadata": {},
     "output_type": "execute_result"
    }
   ],
   "source": [
    "%%time\n",
    "lava = load_data(data)\n",
    "xmax = max(x for (x, y, z) in lava)\n",
    "xmin = min(x for (x, y, z) in lava)\n",
    "ymax = max(y for (x, y, z) in lava)\n",
    "ymin = min(y for (x, y, z) in lava)\n",
    "zmax = max(z for (x, y, z) in lava)\n",
    "zmin = min(z for (x, y, z) in lava)\n",
    "\n",
    "spaces = set()\n",
    "for p in ((x,y,z) for x in range(xmin-1, xmax+2) for y in range(ymin-1, ymax+2) for z in range(zmin-1, zmax+2)):\n",
    "    if p not in lava:\n",
    "        spaces.add(p)\n",
    "G = nx.Graph()\n",
    "for sp in spaces:\n",
    "    for nabe in find_neighbors(sp, spaces):\n",
    "        G.add_edge(sp, nabe)\n",
    "    x, y, z = sp\n",
    "    if not all([xmin-1 < x < xmax+1, ymin-1 < y < ymax+1, zmin-1 < z < zmax+1]):\n",
    "        G.add_edge(sp, \"outside\")\n",
    "\n",
    "outside_component = nx.node_connected_component(G, \"outside\")\n",
    "surface_area = 0\n",
    "for p in lava:\n",
    "    for sp in free_faces(p, lava):\n",
    "        if sp in outside_component:\n",
    "            surface_area += 1\n",
    "surface_area"
   ],
   "metadata": {
    "collapsed": false
   }
  }
 ],
 "metadata": {
  "kernelspec": {
   "display_name": "Python 3",
   "language": "python",
   "name": "python3"
  },
  "language_info": {
   "codemirror_mode": {
    "name": "ipython",
    "version": 2
   },
   "file_extension": ".py",
   "mimetype": "text/x-python",
   "name": "python",
   "nbconvert_exporter": "python",
   "pygments_lexer": "ipython2",
   "version": "2.7.6"
  }
 },
 "nbformat": 4,
 "nbformat_minor": 0
}
