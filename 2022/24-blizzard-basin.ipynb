{
 "cells": [
  {
   "cell_type": "markdown",
   "source": [
    "https://adventofcode.com/2022/day/24"
   ],
   "metadata": {
    "collapsed": false
   }
  },
  {
   "cell_type": "code",
   "execution_count": 1,
   "outputs": [],
   "source": [
    "import numpy as np\n",
    "import math\n",
    "from functools import reduce\n",
    "from heapq import heappush, heappop"
   ],
   "metadata": {
    "collapsed": false
   }
  },
  {
   "cell_type": "code",
   "execution_count": 2,
   "outputs": [],
   "source": [
    "with open(\"data/24.txt\") as fh:\n",
    "    data = fh.read()"
   ],
   "metadata": {
    "collapsed": false
   }
  },
  {
   "cell_type": "code",
   "execution_count": 3,
   "outputs": [],
   "source": [
    "testdata = \"\"\"\\\n",
    "#.######\n",
    "#>>.<^<#\n",
    "#.<..<<#\n",
    "#>v.><>#\n",
    "#<^v^^>#\n",
    "######.#\n",
    "\"\"\""
   ],
   "metadata": {
    "collapsed": false
   }
  },
  {
   "cell_type": "code",
   "execution_count": 34,
   "outputs": [],
   "source": [
    "def blizzard_list(data):\n",
    "    lines = data.strip().splitlines()\n",
    "    h, w = len(lines) - 2, len(lines[0]) - 2\n",
    "    north, south, east, west, empty = [np.zeros((h, w), dtype=bool) for _ in range(5)]\n",
    "    drxnmap = {\n",
    "        \"^\": north,\n",
    "        \"v\": south,\n",
    "        \">\": east,\n",
    "        \"<\": west,\n",
    "        \".\": empty,\n",
    "    }\n",
    "    for row, line in enumerate(lines[1:-1]):\n",
    "        for col, char in enumerate(line[1:-1]):\n",
    "            drxnmap[char][row, col] = True\n",
    "    del empty\n",
    "\n",
    "    header = np.ones((1, w), dtype=bool)\n",
    "    header[0, 0] = False\n",
    "    footer = np.ones((1, w), dtype=bool)\n",
    "    footer[0, -1] = False\n",
    "\n",
    "    L = []\n",
    "    for _ in range(math.lcm(h, w)):\n",
    "        bliz = reduce(np.logical_or, [north, south, east, west])\n",
    "        L.append(np.vstack([header, bliz, footer]))\n",
    "\n",
    "        north = np.vstack([north[1:], north[:1]])\n",
    "        south = np.vstack([south[-1:], south[:-1]])\n",
    "        east = np.hstack([east[:, -1:], east[:, :-1]])\n",
    "        west = np.hstack([west[:, 1:], west[:, :1]])\n",
    "\n",
    "    return L\n",
    "\n",
    "\n",
    "def open_spots(coords, ar):\n",
    "    r0, c0 = coords\n",
    "    L = []\n",
    "    for (r, c) in [(r0, c0), (r0+1, c0), (r0-1, c0), (r0, c0+1), (r0, c0-1)]:\n",
    "        if r < 0 or c < 0:\n",
    "            continue\n",
    "        try:\n",
    "            v = ar[r, c]\n",
    "        except IndexError:\n",
    "            pass\n",
    "        else:\n",
    "            if not v:\n",
    "                L.append((r, c))\n",
    "    return L\n",
    "\n",
    "\n",
    "def dijkstra(data, start=(0, 0), finish=None, initial_state=0):\n",
    "    states = blizzard_list(data)\n",
    "    if finish is None:\n",
    "        h, w = states[0].shape\n",
    "        finish = (h-1, w-1)\n",
    "    visited = {(start, initial_state): 0}\n",
    "    pq = []\n",
    "    heappush(pq, (0, start, initial_state))\n",
    "    while pq:\n",
    "        (d, p, s) = heappop(pq)\n",
    "        if p == finish:\n",
    "            return d\n",
    "        next_s = (s + 1) % len(states)\n",
    "        next_d = d + 1\n",
    "        possibles = open_spots(p, states[next_s])\n",
    "        if not possibles: # don't ever return to this node\n",
    "            visited[(p, s)] = 0\n",
    "            continue\n",
    "        for poss in possibles:\n",
    "            v = visited.get((poss, next_s))\n",
    "            if v is None or v > next_d:\n",
    "                visited[(poss, next_s)] = next_d\n",
    "                heappush(pq, (next_d, poss, next_s))"
   ],
   "metadata": {
    "collapsed": false
   }
  },
  {
   "cell_type": "code",
   "execution_count": 36,
   "outputs": [
    {
     "name": "stdout",
     "output_type": "stream",
     "text": [
      "CPU times: user 4.52 ms, sys: 277 µs, total: 4.8 ms\n",
      "Wall time: 3.33 ms\n"
     ]
    },
    {
     "data": {
      "text/plain": "18"
     },
     "execution_count": 36,
     "metadata": {},
     "output_type": "execute_result"
    }
   ],
   "source": [
    "%%time\n",
    "dijkstra(testdata)"
   ],
   "metadata": {
    "collapsed": false
   }
  },
  {
   "cell_type": "markdown",
   "source": [
    "Part 1"
   ],
   "metadata": {
    "collapsed": false
   }
  },
  {
   "cell_type": "code",
   "execution_count": 37,
   "outputs": [
    {
     "name": "stdout",
     "output_type": "stream",
     "text": [
      "CPU times: user 476 ms, sys: 3.85 ms, total: 480 ms\n",
      "Wall time: 479 ms\n"
     ]
    },
    {
     "data": {
      "text/plain": "225"
     },
     "execution_count": 37,
     "metadata": {},
     "output_type": "execute_result"
    }
   ],
   "source": [
    "%%time\n",
    "dijkstra(data)"
   ],
   "metadata": {
    "collapsed": false
   }
  },
  {
   "cell_type": "markdown",
   "source": [
    "Part 2"
   ],
   "metadata": {
    "collapsed": false
   }
  },
  {
   "cell_type": "code",
   "execution_count": 38,
   "outputs": [
    {
     "data": {
      "text/plain": "(12, (5, 5))"
     },
     "execution_count": 38,
     "metadata": {},
     "output_type": "execute_result"
    }
   ],
   "source": [
    "test_state = blizzard_list(testdata)[0]\n",
    "h, w = test_state.shape\n",
    "mod = math.lcm(h-2, w)\n",
    "finish = (h-1, w-1)\n",
    "mod, finish"
   ],
   "metadata": {
    "collapsed": false
   }
  },
  {
   "cell_type": "code",
   "execution_count": 39,
   "outputs": [
    {
     "data": {
      "text/plain": "23"
     },
     "execution_count": 39,
     "metadata": {},
     "output_type": "execute_result"
    }
   ],
   "source": [
    "first_leg = 18  # from part 1\n",
    "initial_state = first_leg % mod\n",
    "dijkstra(testdata, start=finish, finish=(0, 0), initial_state=initial_state)"
   ],
   "metadata": {
    "collapsed": false
   }
  },
  {
   "cell_type": "code",
   "execution_count": 40,
   "outputs": [
    {
     "data": {
      "text/plain": "13"
     },
     "execution_count": 40,
     "metadata": {},
     "output_type": "execute_result"
    }
   ],
   "source": [
    "two_legs = 18 + 23\n",
    "initial_state = two_legs % mod\n",
    "dijkstra(testdata, start=(0,0), finish=finish, initial_state=initial_state)"
   ],
   "metadata": {
    "collapsed": false
   }
  },
  {
   "cell_type": "code",
   "execution_count": 41,
   "outputs": [
    {
     "data": {
      "text/plain": "54"
     },
     "execution_count": 41,
     "metadata": {},
     "output_type": "execute_result"
    }
   ],
   "source": [
    "18 + 23 + 13"
   ],
   "metadata": {
    "collapsed": false
   }
  },
  {
   "cell_type": "code",
   "execution_count": 42,
   "outputs": [
    {
     "data": {
      "text/plain": "(700, (36, 99))"
     },
     "execution_count": 42,
     "metadata": {},
     "output_type": "execute_result"
    }
   ],
   "source": [
    "state = blizzard_list(data)[0]\n",
    "h, w = state.shape\n",
    "mod = math.lcm(h-2, w)\n",
    "finish = (h-1, w-1)\n",
    "mod, finish"
   ],
   "metadata": {
    "collapsed": false
   }
  },
  {
   "cell_type": "code",
   "execution_count": 43,
   "outputs": [
    {
     "data": {
      "text/plain": "238"
     },
     "execution_count": 43,
     "metadata": {},
     "output_type": "execute_result"
    }
   ],
   "source": [
    "first_leg = 225  # from part 1\n",
    "initial_state = first_leg % mod\n",
    "dijkstra(data, start=finish, finish=(0, 0), initial_state=initial_state)"
   ],
   "metadata": {
    "collapsed": false
   }
  },
  {
   "cell_type": "code",
   "execution_count": 44,
   "outputs": [
    {
     "data": {
      "text/plain": "248"
     },
     "execution_count": 44,
     "metadata": {},
     "output_type": "execute_result"
    }
   ],
   "source": [
    "two_legs = 225 + 238\n",
    "initial_state = two_legs % mod\n",
    "dijkstra(data, start=(0,0), finish=finish, initial_state=initial_state)"
   ],
   "metadata": {
    "collapsed": false
   }
  },
  {
   "cell_type": "code",
   "execution_count": 45,
   "outputs": [
    {
     "data": {
      "text/plain": "711"
     },
     "execution_count": 45,
     "metadata": {},
     "output_type": "execute_result"
    }
   ],
   "source": [
    "225 + 238 + 248"
   ],
   "metadata": {
    "collapsed": false
   }
  },
  {
   "cell_type": "code",
   "execution_count": null,
   "outputs": [],
   "source": [],
   "metadata": {
    "collapsed": false
   }
  }
 ],
 "metadata": {
  "kernelspec": {
   "display_name": "Python 3",
   "language": "python",
   "name": "python3"
  },
  "language_info": {
   "codemirror_mode": {
    "name": "ipython",
    "version": 2
   },
   "file_extension": ".py",
   "mimetype": "text/x-python",
   "name": "python",
   "nbconvert_exporter": "python",
   "pygments_lexer": "ipython2",
   "version": "2.7.6"
  }
 },
 "nbformat": 4,
 "nbformat_minor": 0
}
