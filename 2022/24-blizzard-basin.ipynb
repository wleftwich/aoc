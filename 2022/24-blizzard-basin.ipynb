{
 "cells": [
  {
   "cell_type": "markdown",
   "source": [
    "https://adventofcode.com/2022/day/24"
   ],
   "metadata": {
    "collapsed": false
   }
  },
  {
   "cell_type": "code",
   "execution_count": 221,
   "outputs": [],
   "source": [
    "import numpy as np\n",
    "import math\n",
    "from functools import reduce\n",
    "from heapq import heappush, heappop"
   ],
   "metadata": {
    "collapsed": false
   }
  },
  {
   "cell_type": "code",
   "execution_count": 1,
   "outputs": [],
   "source": [
    "with open(\"data/24.txt\") as fh:\n",
    "    data = fh.read()"
   ],
   "metadata": {
    "collapsed": false
   }
  },
  {
   "cell_type": "code",
   "execution_count": 2,
   "outputs": [],
   "source": [
    "testdata = \"\"\"\\\n",
    "#.######\n",
    "#>>.<^<#\n",
    "#.<..<<#\n",
    "#>v.><>#\n",
    "#<^v^^>#\n",
    "######.#\n",
    "\"\"\""
   ],
   "metadata": {
    "collapsed": false
   }
  },
  {
   "cell_type": "code",
   "execution_count": 244,
   "outputs": [],
   "source": [
    "def blizzard_generator(data):\n",
    "    lines = data.strip().splitlines()\n",
    "    h, w = len(lines) - 2, len(lines[0]) - 2\n",
    "    north, south, east, west, empty = [np.zeros((h, w), dtype=bool) for _ in range(5)]\n",
    "    drxnmap = {\n",
    "        \"^\": north,\n",
    "        \"v\": south,\n",
    "        \">\": east,\n",
    "        \"<\": west,\n",
    "        \".\": empty,\n",
    "    }\n",
    "    for row, line in enumerate(lines[1:-1]):\n",
    "        for col, char in enumerate(line[1:-1]):\n",
    "            drxnmap[char][row, col] = True\n",
    "    del empty\n",
    "\n",
    "    header = np.ones((1, w), dtype=bool)\n",
    "    header[0, 0] = False\n",
    "    footer = np.ones((1, w), dtype=bool)\n",
    "    footer[0, -1] = False\n",
    "\n",
    "    for _ in range(math.lcm(h, w)):\n",
    "        bliz = reduce(np.logical_or, [north, south, east, west])\n",
    "        yield np.vstack([header, bliz, footer])\n",
    "\n",
    "        north = np.vstack([north[1:], north[:1]])\n",
    "        south = np.vstack([south[-1:], south[:-1]])\n",
    "        east = np.hstack([east[:, -1:], east[:, :-1]])\n",
    "        west = np.hstack([west[:, 1:], west[:, :1]])\n",
    "\n",
    "\n",
    "def open_spots(coords, ar):\n",
    "    r0, c0 = coords\n",
    "    L = []\n",
    "    for (r, c) in [(r0, c0), (r0+1, c0), (r0-1, c0), (r0, c0+1), (r0, c0-1)]:\n",
    "        if r < 0 or c < 0:\n",
    "            continue\n",
    "        try:\n",
    "            v = ar[r, c]\n",
    "        except IndexError:\n",
    "            pass\n",
    "        else:\n",
    "            if not v:\n",
    "                L.append((r, c))\n",
    "    return L\n",
    "\n",
    "\n",
    "def dijkstra(data, start=(0, 0), finish=None, initial_state=0):\n",
    "    states = list(blizzard_generator(data))\n",
    "    h, w = states[0].shape\n",
    "    mod = math.lcm(h-2, w)\n",
    "    if finish is None:\n",
    "        finish = (h-1, w-1)\n",
    "    visited = {(start, initial_state): 0}\n",
    "    pq = []\n",
    "    heappush(pq, (0, (start, initial_state)))\n",
    "    while pq:\n",
    "        (d, (p, s)) = heappop(pq)\n",
    "        if p == finish:\n",
    "            return d\n",
    "        next_s = (s + 1) % mod\n",
    "        possibles = open_spots(p, states[next_s])\n",
    "        if not possibles: # don't ever return to this node\n",
    "            visited[(p, s)] = 0\n",
    "            continue\n",
    "        for poss in possibles:\n",
    "            v = visited.get((poss, next_s))\n",
    "            if v is None or v > d+1:\n",
    "                visited[(poss, next_s)] = d+1\n",
    "                heappush(pq, (d+1, (poss, next_s)))"
   ],
   "metadata": {
    "collapsed": false
   }
  },
  {
   "cell_type": "code",
   "execution_count": 245,
   "outputs": [
    {
     "name": "stdout",
     "output_type": "stream",
     "text": [
      "CPU times: user 2.72 ms, sys: 251 µs, total: 2.97 ms\n",
      "Wall time: 1.75 ms\n"
     ]
    },
    {
     "data": {
      "text/plain": "18"
     },
     "execution_count": 245,
     "metadata": {},
     "output_type": "execute_result"
    }
   ],
   "source": [
    "%%time\n",
    "dijkstra(testdata)"
   ],
   "metadata": {
    "collapsed": false
   }
  },
  {
   "cell_type": "markdown",
   "source": [
    "Part 1"
   ],
   "metadata": {
    "collapsed": false
   }
  },
  {
   "cell_type": "code",
   "execution_count": 246,
   "outputs": [
    {
     "name": "stdout",
     "output_type": "stream",
     "text": [
      "CPU times: user 424 ms, sys: 6.23 ms, total: 430 ms\n",
      "Wall time: 428 ms\n"
     ]
    },
    {
     "data": {
      "text/plain": "225"
     },
     "execution_count": 246,
     "metadata": {},
     "output_type": "execute_result"
    }
   ],
   "source": [
    "%%time\n",
    "dijkstra(data)"
   ],
   "metadata": {
    "collapsed": false
   }
  },
  {
   "cell_type": "markdown",
   "source": [
    "Part 2"
   ],
   "metadata": {
    "collapsed": false
   }
  },
  {
   "cell_type": "code",
   "execution_count": 247,
   "outputs": [
    {
     "data": {
      "text/plain": "(12, (5, 5))"
     },
     "execution_count": 247,
     "metadata": {},
     "output_type": "execute_result"
    }
   ],
   "source": [
    "test_state = next(blizzard_generator(testdata))\n",
    "h, w = test_state.shape\n",
    "mod = math.lcm(h-2, w)\n",
    "finish = (h-1, w-1)\n",
    "mod, finish"
   ],
   "metadata": {
    "collapsed": false
   }
  },
  {
   "cell_type": "code",
   "execution_count": 248,
   "outputs": [
    {
     "data": {
      "text/plain": "23"
     },
     "execution_count": 248,
     "metadata": {},
     "output_type": "execute_result"
    }
   ],
   "source": [
    "first_leg = 18  # from part 1\n",
    "initial_state = first_leg % mod\n",
    "dijkstra(testdata, start=finish, finish=(0, 0), initial_state=initial_state)"
   ],
   "metadata": {
    "collapsed": false
   }
  },
  {
   "cell_type": "code",
   "execution_count": 249,
   "outputs": [
    {
     "data": {
      "text/plain": "13"
     },
     "execution_count": 249,
     "metadata": {},
     "output_type": "execute_result"
    }
   ],
   "source": [
    "two_legs = 18 + 23\n",
    "initial_state = two_legs % mod\n",
    "dijkstra(testdata, start=(0,0), finish=finish, initial_state=initial_state)"
   ],
   "metadata": {
    "collapsed": false
   }
  },
  {
   "cell_type": "code",
   "execution_count": 250,
   "outputs": [
    {
     "data": {
      "text/plain": "54"
     },
     "execution_count": 250,
     "metadata": {},
     "output_type": "execute_result"
    }
   ],
   "source": [
    "18 + 23 + 13"
   ],
   "metadata": {
    "collapsed": false
   }
  },
  {
   "cell_type": "code",
   "execution_count": 251,
   "outputs": [
    {
     "data": {
      "text/plain": "(700, (36, 99))"
     },
     "execution_count": 251,
     "metadata": {},
     "output_type": "execute_result"
    }
   ],
   "source": [
    "state = next(blizzard_generator(data))\n",
    "h, w = state.shape\n",
    "mod = math.lcm(h-2, w)\n",
    "finish = (h-1, w-1)\n",
    "mod, finish"
   ],
   "metadata": {
    "collapsed": false
   }
  },
  {
   "cell_type": "code",
   "execution_count": 256,
   "outputs": [
    {
     "data": {
      "text/plain": "238"
     },
     "execution_count": 256,
     "metadata": {},
     "output_type": "execute_result"
    }
   ],
   "source": [
    "first_leg = 225  # from part 1\n",
    "initial_state = first_leg % mod\n",
    "dijkstra(data, start=finish, finish=(0, 0), initial_state=initial_state)"
   ],
   "metadata": {
    "collapsed": false
   }
  },
  {
   "cell_type": "code",
   "execution_count": 254,
   "outputs": [
    {
     "data": {
      "text/plain": "248"
     },
     "execution_count": 254,
     "metadata": {},
     "output_type": "execute_result"
    }
   ],
   "source": [
    "two_legs = 225 + 238\n",
    "initial_state = two_legs % mod\n",
    "dijkstra(data, start=(0,0), finish=finish, initial_state=initial_state)"
   ],
   "metadata": {
    "collapsed": false
   }
  },
  {
   "cell_type": "code",
   "execution_count": 255,
   "outputs": [
    {
     "data": {
      "text/plain": "711"
     },
     "execution_count": 255,
     "metadata": {},
     "output_type": "execute_result"
    }
   ],
   "source": [
    "225 + 238 + 248"
   ],
   "metadata": {
    "collapsed": false
   }
  }
 ],
 "metadata": {
  "kernelspec": {
   "display_name": "Python 3",
   "language": "python",
   "name": "python3"
  },
  "language_info": {
   "codemirror_mode": {
    "name": "ipython",
    "version": 2
   },
   "file_extension": ".py",
   "mimetype": "text/x-python",
   "name": "python",
   "nbconvert_exporter": "python",
   "pygments_lexer": "ipython2",
   "version": "2.7.6"
  }
 },
 "nbformat": 4,
 "nbformat_minor": 0
}
