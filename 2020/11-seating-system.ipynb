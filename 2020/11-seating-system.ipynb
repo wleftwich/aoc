{
 "cells": [
  {
   "cell_type": "markdown",
   "metadata": {},
   "source": [
    "https://adventofcode.com/2020/day/11"
   ]
  },
  {
   "cell_type": "code",
   "execution_count": 1,
   "metadata": {},
   "outputs": [],
   "source": [
    "datafile = 'data/11-1.txt'"
   ]
  },
  {
   "cell_type": "code",
   "execution_count": 2,
   "metadata": {},
   "outputs": [],
   "source": [
    "with open(datafile) as fh:\n",
    "    empty_chart_text = fh.read()"
   ]
  },
  {
   "cell_type": "code",
   "execution_count": 3,
   "metadata": {},
   "outputs": [],
   "source": [
    "testchart_text = \"\"\"\\\n",
    "L.LL.LL.LL\n",
    "LLLLLLL.LL\n",
    "L.L.L..L..\n",
    "LLLL.LL.LL\n",
    "L.LL.LL.LL\n",
    "L.LLLLL.LL\n",
    "..L.L.....\n",
    "LLLLLLLLLL\n",
    "L.LLLLLL.L\n",
    "L.LLLLL.LL\n",
    "\"\"\""
   ]
  },
  {
   "cell_type": "code",
   "execution_count": 4,
   "metadata": {},
   "outputs": [],
   "source": [
    "def text2chart(txt):\n",
    "    D = {}\n",
    "    for i, row in enumerate(txt.split()):\n",
    "        for  j, val in enumerate(row):\n",
    "            D[complex(i, j)] = val\n",
    "    return D\n",
    "\n",
    "def chart2text(chart):\n",
    "    nrows = int(max(c.real for c in chart.keys())) + 1\n",
    "    ncols = int(max(c.imag for c in chart.keys())) + 1\n",
    "    ar = [[None for x in range(ncols)] for y in range(nrows)]\n",
    "    for k, v in chart.items():\n",
    "        ar[int(k.real)][int(k.imag)] = v\n",
    "    return '\\n'.join(''.join(row) for row in ar)"
   ]
  },
  {
   "cell_type": "code",
   "execution_count": 5,
   "metadata": {},
   "outputs": [],
   "source": [
    "def changeseat(chart, seatkey):\n",
    "    seat = chart[seatkey]\n",
    "    if seat == '.':\n",
    "        return seat\n",
    "    occupied = 0\n",
    "    for drxn in [-1, -1+1j, 1j, 1+1j, 1, 1-1j, -1j, -1-1j]:\n",
    "        if chart.get(seatkey + drxn) == '#':\n",
    "            occupied += 1\n",
    "    if seat == 'L' and occupied == 0:\n",
    "        return '#'\n",
    "    if seat == '#' and occupied > 3:\n",
    "        return 'L'\n",
    "    return seat"
   ]
  },
  {
   "cell_type": "code",
   "execution_count": 6,
   "metadata": {},
   "outputs": [],
   "source": [
    "def newchart(chart):\n",
    "    return {key: changeseat(chart, key) for key in chart.keys()}"
   ]
  },
  {
   "cell_type": "code",
   "execution_count": 7,
   "metadata": {},
   "outputs": [],
   "source": [
    "def count_occupied(chart):\n",
    "    return sum(v == '#' for v in chart.values())"
   ]
  },
  {
   "cell_type": "code",
   "execution_count": 8,
   "metadata": {},
   "outputs": [],
   "source": [
    "def run_till_stabilized(chart):\n",
    "    nc = newchart(chart)\n",
    "    while nc != chart:\n",
    "        chart, nc = nc, newchart(nc)\n",
    "    return nc"
   ]
  },
  {
   "cell_type": "code",
   "execution_count": 9,
   "metadata": {},
   "outputs": [],
   "source": [
    "testchart = text2chart(testchart_text)"
   ]
  },
  {
   "cell_type": "code",
   "execution_count": 10,
   "metadata": {},
   "outputs": [
    {
     "name": "stdout",
     "output_type": "stream",
     "text": [
      "L.LL.LL.LL\n",
      "LLLLLLL.LL\n",
      "L.L.L..L..\n",
      "LLLL.LL.LL\n",
      "L.LL.LL.LL\n",
      "L.LLLLL.LL\n",
      "..L.L.....\n",
      "LLLLLLLLLL\n",
      "L.LLLLLL.L\n",
      "L.LLLLL.LL\n"
     ]
    }
   ],
   "source": [
    "print(chart2text(testchart))"
   ]
  },
  {
   "cell_type": "code",
   "execution_count": 11,
   "metadata": {},
   "outputs": [],
   "source": [
    "nc = run_till_stabilized(testchart)"
   ]
  },
  {
   "cell_type": "code",
   "execution_count": 12,
   "metadata": {},
   "outputs": [
    {
     "name": "stdout",
     "output_type": "stream",
     "text": [
      "#.#L.L#.##\n",
      "#LLL#LL.L#\n",
      "L.#.L..#..\n",
      "#L##.##.L#\n",
      "#.#L.LL.LL\n",
      "#.#L#L#.##\n",
      "..L.L.....\n",
      "#L#L##L#L#\n",
      "#.LLLLLL.L\n",
      "#.#L#L#.##\n"
     ]
    }
   ],
   "source": [
    "print(chart2text(nc))"
   ]
  },
  {
   "cell_type": "code",
   "execution_count": 13,
   "metadata": {},
   "outputs": [
    {
     "data": {
      "text/plain": [
       "37"
      ]
     },
     "execution_count": 13,
     "metadata": {},
     "output_type": "execute_result"
    }
   ],
   "source": [
    "count_occupied(nc)"
   ]
  },
  {
   "cell_type": "code",
   "execution_count": 14,
   "metadata": {},
   "outputs": [
    {
     "data": {
      "text/plain": [
       "0"
      ]
     },
     "execution_count": 14,
     "metadata": {},
     "output_type": "execute_result"
    }
   ],
   "source": [
    "empty_chart = text2chart(empty_chart_text)\n",
    "count_occupied(empty_chart)"
   ]
  },
  {
   "cell_type": "code",
   "execution_count": 15,
   "metadata": {},
   "outputs": [
    {
     "data": {
      "text/plain": [
       "2108"
      ]
     },
     "execution_count": 15,
     "metadata": {},
     "output_type": "execute_result"
    }
   ],
   "source": [
    "stabilized = run_till_stabilized(empty_chart)\n",
    "count_occupied(stabilized)"
   ]
  },
  {
   "cell_type": "markdown",
   "metadata": {},
   "source": [
    "# 2"
   ]
  },
  {
   "cell_type": "code",
   "execution_count": 16,
   "metadata": {},
   "outputs": [],
   "source": [
    "def changeseat2(chart, seatkey):\n",
    "    seat = chart[seatkey]\n",
    "    if seat == '.':\n",
    "        return seat\n",
    "    occupied = 0\n",
    "    for drxn in [-1, -1+1j, 1j, 1+1j, 1, 1-1j, -1j, -1-1j]:\n",
    "        scale = 0\n",
    "        while True:\n",
    "            scale += 1\n",
    "            nkey = (drxn * scale) + seatkey\n",
    "            if nkey not in chart:\n",
    "                break\n",
    "            neighbor = chart[nkey]\n",
    "            if neighbor == '.':\n",
    "                pass\n",
    "            else:\n",
    "                if neighbor == '#':\n",
    "                    occupied += 1\n",
    "                break\n",
    "    if seat == 'L' and occupied == 0:\n",
    "        return '#'\n",
    "    if seat == '#' and occupied > 4:\n",
    "        return 'L'\n",
    "    return seat"
   ]
  },
  {
   "cell_type": "code",
   "execution_count": 17,
   "metadata": {},
   "outputs": [],
   "source": [
    "def newchart2(chart):\n",
    "    return {key: changeseat2(chart, key) for key in chart.keys()}"
   ]
  },
  {
   "cell_type": "code",
   "execution_count": 18,
   "metadata": {},
   "outputs": [],
   "source": [
    "def run_till_stabilized2(chart):\n",
    "    nc = newchart2(chart)\n",
    "    while nc != chart:\n",
    "        chart, nc = nc, newchart2(nc)\n",
    "    return nc"
   ]
  },
  {
   "cell_type": "code",
   "execution_count": 19,
   "metadata": {},
   "outputs": [
    {
     "name": "stdout",
     "output_type": "stream",
     "text": [
      "#.L#.L#.L#\n",
      "#LLLLLL.LL\n",
      "L.L.L..#..\n",
      "##L#.#L.L#\n",
      "L.L#.LL.L#\n",
      "#.LLLL#.LL\n",
      "..#.L.....\n",
      "LLL###LLL#\n",
      "#.LLLLL#.L\n",
      "#.L#LL#.L#\n"
     ]
    }
   ],
   "source": [
    "nc = run_till_stabilized2(testchart)\n",
    "print(chart2text(nc))"
   ]
  },
  {
   "cell_type": "code",
   "execution_count": 20,
   "metadata": {},
   "outputs": [
    {
     "data": {
      "text/plain": [
       "26"
      ]
     },
     "execution_count": 20,
     "metadata": {},
     "output_type": "execute_result"
    }
   ],
   "source": [
    "count_occupied(nc)"
   ]
  },
  {
   "cell_type": "code",
   "execution_count": 21,
   "metadata": {},
   "outputs": [
    {
     "name": "stdout",
     "output_type": "stream",
     "text": [
      "#.L#.L#.L#\n",
      "#LLLLLL.LL\n",
      "L.L.L..#..\n",
      "##L#.#L.L#\n",
      "L.L#.LL.L#\n",
      "#.LLLL#.LL\n",
      "..#.L.....\n",
      "LLL###LLL#\n",
      "#.LLLLL#.L\n",
      "#.L#LL#.L#\n"
     ]
    }
   ],
   "source": [
    "nc = newchart2(nc)\n",
    "print(chart2text(nc))"
   ]
  },
  {
   "cell_type": "code",
   "execution_count": 22,
   "metadata": {},
   "outputs": [
    {
     "data": {
      "text/plain": [
       "26"
      ]
     },
     "execution_count": 22,
     "metadata": {},
     "output_type": "execute_result"
    }
   ],
   "source": [
    "count_occupied(nc)"
   ]
  },
  {
   "cell_type": "code",
   "execution_count": 23,
   "metadata": {},
   "outputs": [
    {
     "data": {
      "text/plain": [
       "0"
      ]
     },
     "execution_count": 23,
     "metadata": {},
     "output_type": "execute_result"
    }
   ],
   "source": [
    "empty_chart = text2chart(empty_chart_text)\n",
    "count_occupied(empty_chart)"
   ]
  },
  {
   "cell_type": "code",
   "execution_count": 24,
   "metadata": {},
   "outputs": [
    {
     "data": {
      "text/plain": [
       "1897"
      ]
     },
     "execution_count": 24,
     "metadata": {},
     "output_type": "execute_result"
    }
   ],
   "source": [
    "stabilized = run_till_stabilized2(empty_chart)\n",
    "count_occupied(stabilized)"
   ]
  },
  {
   "cell_type": "markdown",
   "metadata": {},
   "source": [
    "## reddit"
   ]
  },
  {
   "cell_type": "code",
   "execution_count": 43,
   "metadata": {},
   "outputs": [],
   "source": [
    "with open(datafile) as fh:\n",
    "    empty_chart_text = fh.read()\n",
    "    \n",
    "\n",
    "def text2chart(txt):\n",
    "    D = {}\n",
    "    for i, row in enumerate(txt.split()):\n",
    "        for  j, val in enumerate(row):\n",
    "            D[complex(i, j)] = val\n",
    "    return D\n",
    "\n",
    "# Part 1\n",
    "\n",
    "def changeseat(chart, seatkey):\n",
    "    seat = chart[seatkey]\n",
    "    if seat == '.':\n",
    "        return seat\n",
    "    occupied = 0\n",
    "    for drxn in [-1, -1+1j, 1j, 1+1j, 1, 1-1j, -1j, -1-1j]:\n",
    "        if chart.get(seatkey + drxn) == '#':\n",
    "            occupied += 1\n",
    "    if seat == 'L' and occupied == 0:\n",
    "        return '#'\n",
    "    if seat == '#' and occupied > 3:\n",
    "        return 'L'\n",
    "    return seat\n",
    "\n",
    "\n",
    "def nextchart(chart):\n",
    "    return {key: changeseat(chart, key) for key in chart}\n",
    "\n",
    "\n",
    "def run_till_stabilized(chart):\n",
    "    nc = nextchart(chart)\n",
    "    while nc != chart:\n",
    "        chart, nc = nc, nextchart(nc)\n",
    "    return nc\n",
    "\n",
    "\n",
    "def count_occupied(chart):\n",
    "    return sum(v == '#' for v in chart.values())\n",
    "\n",
    "\n",
    "empty_chart = text2chart(empty_chart_text)\n",
    "stabilized = run_till_stabilized(empty_chart)\n",
    "part_1 = count_occupied(stabilized)\n",
    "\n",
    "# Part 2\n",
    "\n",
    "\n",
    "def changeseat2(chart, seatkey):\n",
    "    seat = chart[seatkey]\n",
    "    if seat == '.':\n",
    "        return seat\n",
    "    occupied = 0\n",
    "    for drxn in [-1, -1+1j, 1j, 1+1j, 1, 1-1j, -1j, -1-1j]:\n",
    "        neighbor = '.'\n",
    "        scale = 0\n",
    "        while neighbor == '.':\n",
    "            scale += 1\n",
    "            neighbor = chart.get((scale * drxn) + seatkey)\n",
    "        if neighbor == '#':\n",
    "            occupied += 1\n",
    "    if seat == 'L' and occupied == 0:\n",
    "        return '#'\n",
    "    if seat == '#' and occupied > 4:\n",
    "        return 'L'\n",
    "    return seat\n",
    "\n",
    "\n",
    "def nextchart2(chart):\n",
    "    return {key: changeseat2(chart, key) for key in chart}\n",
    "\n",
    "\n",
    "def run_till_stabilized2(chart):\n",
    "    nc = nextchart2(chart)\n",
    "    while nc != chart:\n",
    "        chart, nc = nc, nextchart2(nc)\n",
    "    return nc\n",
    "\n",
    "\n",
    "stabilized2 = run_till_stabilized2(empty_chart)\n",
    "part_2 = count_occupied(stabilized2)\n"
   ]
  },
  {
   "cell_type": "code",
   "execution_count": 44,
   "metadata": {},
   "outputs": [
    {
     "data": {
      "text/plain": [
       "(2108, 1897)"
      ]
     },
     "execution_count": 44,
     "metadata": {},
     "output_type": "execute_result"
    }
   ],
   "source": [
    "part_1, part_2"
   ]
  }
 ],
 "metadata": {
  "kernelspec": {
   "display_name": "Python 3",
   "language": "python",
   "name": "python3"
  },
  "language_info": {
   "codemirror_mode": {
    "name": "ipython",
    "version": 3
   },
   "file_extension": ".py",
   "mimetype": "text/x-python",
   "name": "python",
   "nbconvert_exporter": "python",
   "pygments_lexer": "ipython3",
   "version": "3.8.5"
  }
 },
 "nbformat": 4,
 "nbformat_minor": 4
}
