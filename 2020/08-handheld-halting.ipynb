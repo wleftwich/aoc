{
 "cells": [
  {
   "cell_type": "markdown",
   "metadata": {},
   "source": [
    "https://adventofcode.com/2020/day/8"
   ]
  },
  {
   "cell_type": "code",
   "execution_count": 63,
   "metadata": {},
   "outputs": [],
   "source": [
    "datafile = 'data/08-1.txt'"
   ]
  },
  {
   "cell_type": "code",
   "execution_count": 64,
   "metadata": {},
   "outputs": [],
   "source": [
    "with open(datafile) as fh:\n",
    "    data = [x.strip() for x in fh]"
   ]
  },
  {
   "cell_type": "code",
   "execution_count": 65,
   "metadata": {},
   "outputs": [
    {
     "data": {
      "text/plain": [
       "(644, ['acc +17', 'jmp +1', 'acc +16'])"
      ]
     },
     "execution_count": 65,
     "metadata": {},
     "output_type": "execute_result"
    }
   ],
   "source": [
    "len(data), data[:3]"
   ]
  },
  {
   "cell_type": "code",
   "execution_count": 66,
   "metadata": {},
   "outputs": [],
   "source": [
    "class Gameboy:\n",
    "    def __init__(self, prg):\n",
    "        self.prg = prg.copy()\n",
    "        self.restart()\n",
    "    \n",
    "    def restart(self):\n",
    "        self.counter = 0\n",
    "        self.accum = 0\n",
    "        self.p = 0\n",
    "        self.visited = set()\n",
    "    \n",
    "    def step(self):\n",
    "        inst = self.prg[self.p]\n",
    "        cmd, arg = inst.split()\n",
    "        arg = int(arg)\n",
    "        if cmd == 'nop':\n",
    "            nextp = self.p + 1\n",
    "        elif cmd == 'acc':\n",
    "            self.accum += arg\n",
    "            nextp = self.p + 1\n",
    "        elif cmd == 'jmp':\n",
    "            nextp = self.p + arg\n",
    "        else:\n",
    "            raise ValueError('Unknown command: %s' % cmd)\n",
    "        \n",
    "        if nextp in self.visited:\n",
    "            raise ProgramError(\"Infinite loop! counter=%s, p=%s, nextp=%s, accum=%s\" %\n",
    "                               (self.counter, self.p, nextp, self.accum))\n",
    "        \n",
    "        self.visited.add(self.p)\n",
    "        self.p = nextp\n",
    "        self.counter += 1\n",
    "    \n",
    "    def run(self):\n",
    "        halting_pos = len(self.prg)\n",
    "        while self.p != halting_pos:\n",
    "            self.step()\n",
    "        return self.accum\n",
    "       \n",
    "            \n",
    "class ProgramError(Exception):\n",
    "    pass"
   ]
  },
  {
   "cell_type": "code",
   "execution_count": 67,
   "metadata": {},
   "outputs": [],
   "source": [
    "gb = Gameboy(data)"
   ]
  },
  {
   "cell_type": "code",
   "execution_count": 68,
   "metadata": {},
   "outputs": [
    {
     "name": "stdout",
     "output_type": "stream",
     "text": [
      "Infinite loop! counter=212, p=367, nextp=520, accum=1867\n",
      "part1:  1867\n"
     ]
    }
   ],
   "source": [
    "try:\n",
    "    gb.run()\n",
    "except ProgramError as e:\n",
    "    print(e)\n",
    "    print(\"part1: \", gb.accum)"
   ]
  },
  {
   "cell_type": "code",
   "execution_count": 73,
   "metadata": {},
   "outputs": [],
   "source": [
    "class GameboyDebugger:\n",
    "    def __init__(self, gameboy):\n",
    "        self.gb = gameboy\n",
    "    \n",
    "    def setup(self):\n",
    "        try:\n",
    "            self.gb.run()\n",
    "        except ProgramError as e:\n",
    "            print(\"Gameboy error: \", e)\n",
    "            print(\"Run debug to repair\")\n",
    "        else:\n",
    "            print(\"Gameboy ran to completion, nothing to debug\")\n",
    "            return False\n",
    "        self.gb_prg_indices = sorted(x for x in self.gb.visited\n",
    "                                     if self.gb.prg[x].startswith(('nop', 'jmp')))\n",
    "        return True\n",
    "    \n",
    "    def debug(self):\n",
    "        for gbi in self.gb_prg_indices:\n",
    "            self.gb.restart()\n",
    "            inst = self.gb.prg[gbi]\n",
    "            cmd, arg = inst.split()\n",
    "            if cmd == 'nop':\n",
    "                newcmd = 'jmp'\n",
    "            else:\n",
    "                newcmd = 'nop'\n",
    "            self.gb.prg[gbi] = newcmd + ' ' + arg\n",
    "            try:\n",
    "                self.gb.run()\n",
    "            except ProgramError:\n",
    "                self.gb.prg[gbi] = inst\n",
    "            else:\n",
    "                print(\"Debug complete, your Gameboy is fine now\")\n",
    "                self.gb.restart()\n",
    "                return True\n",
    "        print(\"Sorry, couldn't fix your Gameboy\")\n",
    "        return False\n",
    "                \n",
    "\n",
    "    "
   ]
  },
  {
   "cell_type": "code",
   "execution_count": 74,
   "metadata": {},
   "outputs": [
    {
     "name": "stdout",
     "output_type": "stream",
     "text": [
      "Gameboy error:  Infinite loop! counter=212, p=367, nextp=520, accum=1867\n",
      "Run debug to repair\n"
     ]
    },
    {
     "data": {
      "text/plain": [
       "True"
      ]
     },
     "execution_count": 74,
     "metadata": {},
     "output_type": "execute_result"
    }
   ],
   "source": [
    "gb = Gameboy(data)\n",
    "gbdb = GameboyDebugger(gb)\n",
    "gbdb.setup()"
   ]
  },
  {
   "cell_type": "code",
   "execution_count": 75,
   "metadata": {},
   "outputs": [
    {
     "name": "stdout",
     "output_type": "stream",
     "text": [
      "Debug complete, your Gameboy is fine now\n"
     ]
    }
   ],
   "source": [
    "gbdb.debug()"
   ]
  },
  {
   "cell_type": "code",
   "execution_count": 76,
   "metadata": {},
   "outputs": [
    {
     "data": {
      "text/plain": [
       "1303"
      ]
     },
     "execution_count": 76,
     "metadata": {},
     "output_type": "execute_result"
    }
   ],
   "source": [
    "gb.run()"
   ]
  },
  {
   "cell_type": "markdown",
   "metadata": {},
   "source": [
    "## reddit"
   ]
  },
  {
   "cell_type": "code",
   "execution_count": 81,
   "metadata": {},
   "outputs": [
    {
     "name": "stdout",
     "output_type": "stream",
     "text": [
      "Gameboy error:  Infinite loop! counter=212, p=367, nextp=520, accum=1867\n",
      "Run debug to repair\n",
      "Debug complete, your Gameboy is fine now\n"
     ]
    }
   ],
   "source": [
    "with open(datafile) as fh:\n",
    "    data = [x.strip() for x in fh]\n",
    "\n",
    "    \n",
    "class Gameboy:\n",
    "    def __init__(self, prg):\n",
    "        self.prg = prg.copy()\n",
    "        self.restart()\n",
    "    \n",
    "    def restart(self):\n",
    "        self.counter = 0\n",
    "        self.accum = 0\n",
    "        self.p = 0\n",
    "        self.visited = set()\n",
    "    \n",
    "    def step(self):\n",
    "        inst = self.prg[self.p]\n",
    "        cmd, arg = inst.split()\n",
    "        arg = int(arg)\n",
    "        if cmd == 'nop':\n",
    "            nextp = self.p + 1\n",
    "        elif cmd == 'acc':\n",
    "            self.accum += arg\n",
    "            nextp = self.p + 1\n",
    "        elif cmd == 'jmp':\n",
    "            nextp = self.p + arg\n",
    "        else:\n",
    "            raise ValueError('Unknown command: %s' % cmd)\n",
    "        \n",
    "        if nextp in self.visited:\n",
    "            raise ProgramError(\"Infinite loop! counter=%s, p=%s, nextp=%s, accum=%s\" %\n",
    "                               (self.counter, self.p, nextp, self.accum))\n",
    "        \n",
    "        self.visited.add(self.p)\n",
    "        self.p = nextp\n",
    "        self.counter += 1\n",
    "    \n",
    "    def run(self):\n",
    "        halting_pos = len(self.prg)\n",
    "        while self.p != halting_pos:\n",
    "            self.step()\n",
    "        return self.accum\n",
    "       \n",
    "            \n",
    "class ProgramError(Exception):\n",
    "    pass\n",
    "\n",
    "\n",
    "gb = Gameboy(data)\n",
    "try:\n",
    "    gb.run()\n",
    "except ProgramError as e:\n",
    "    part_1 = gb.accum\n",
    "else:\n",
    "    print(\"Nothing wrong with this Gameboy\")\n",
    "    part_1 = None\n",
    "\n",
    "\n",
    "class GameboyDebugger:\n",
    "    def __init__(self, gameboy):\n",
    "        self.gb = gameboy\n",
    "\n",
    "    def setup(self):\n",
    "        try:\n",
    "            self.gb.run()\n",
    "        except ProgramError as e:\n",
    "            print(\"Gameboy error: \", e)\n",
    "            print(\"Run debug to repair\")\n",
    "        else:\n",
    "            print(\"Gameboy ran to completion, nothing to debug\")\n",
    "            return False\n",
    "        self.gb_prg_indices = sorted(x for x in self.gb.visited\n",
    "                                     if self.gb.prg[x].startswith(('nop', 'jmp')))\n",
    "        return True\n",
    "\n",
    "    def debug(self):\n",
    "        for gbi in self.gb_prg_indices:\n",
    "            self.gb.restart()\n",
    "            inst = self.gb.prg[gbi]\n",
    "            cmd, arg = inst.split()\n",
    "            newcmd = 'nop' if cmd == 'jmp' else 'jmp'\n",
    "            self.gb.prg[gbi] = newcmd + ' ' + arg\n",
    "            try:\n",
    "                self.gb.run()\n",
    "            except ProgramError:\n",
    "                self.gb.prg[gbi] = inst\n",
    "            else:\n",
    "                print(\"Debug complete, your Gameboy is fine now\")\n",
    "                self.gb.restart()\n",
    "                return True\n",
    "        print(\"Sorry, couldn't fix your Gameboy\")\n",
    "        return False\n",
    "\n",
    "    \n",
    "gb = Gameboy(data)\n",
    "gbdb = GameboyDebugger(gb)\n",
    "gbdb.setup()\n",
    "gbdb.debug()\n",
    "part_2 = gb.run()"
   ]
  },
  {
   "cell_type": "code",
   "execution_count": 82,
   "metadata": {},
   "outputs": [
    {
     "data": {
      "text/plain": [
       "(1867, 1303)"
      ]
     },
     "execution_count": 82,
     "metadata": {},
     "output_type": "execute_result"
    }
   ],
   "source": [
    "part_1, part_2"
   ]
  }
 ],
 "metadata": {
  "kernelspec": {
   "display_name": "Python 3",
   "language": "python",
   "name": "python3"
  },
  "language_info": {
   "codemirror_mode": {
    "name": "ipython",
    "version": 3
   },
   "file_extension": ".py",
   "mimetype": "text/x-python",
   "name": "python",
   "nbconvert_exporter": "python",
   "pygments_lexer": "ipython3",
   "version": "3.8.5"
  }
 },
 "nbformat": 4,
 "nbformat_minor": 4
}
