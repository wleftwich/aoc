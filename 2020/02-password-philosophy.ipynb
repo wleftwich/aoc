{
 "cells": [
  {
   "cell_type": "markdown",
   "metadata": {},
   "source": [
    "https://adventofcode.com/2020/day/2"
   ]
  },
  {
   "cell_type": "code",
   "execution_count": 52,
   "metadata": {},
   "outputs": [],
   "source": [
    "import re"
   ]
  },
  {
   "cell_type": "markdown",
   "metadata": {},
   "source": [
    "# 1"
   ]
  },
  {
   "cell_type": "code",
   "execution_count": 33,
   "metadata": {},
   "outputs": [],
   "source": [
    "datafile = 'data/02-1.txt'\n",
    "with open(datafile) as fh:\n",
    "    data = [y for y in (x.strip() for x in fh) if y]"
   ]
  },
  {
   "cell_type": "code",
   "execution_count": 34,
   "metadata": {},
   "outputs": [
    {
     "data": {
      "text/plain": [
       "(1000, ['1-2 x: xpxc', '1-5 b: bwlbbbbcq', '3-5 v: qvjjdhvl'])"
      ]
     },
     "execution_count": 34,
     "metadata": {},
     "output_type": "execute_result"
    }
   ],
   "source": [
    "len(data), data[:3]"
   ]
  },
  {
   "cell_type": "code",
   "execution_count": 57,
   "metadata": {},
   "outputs": [
    {
     "data": {
      "text/plain": [
       "{'lo': '1', 'hi': '2', 'letter': 'x', 'password': 'xpxc'}"
      ]
     },
     "execution_count": 57,
     "metadata": {},
     "output_type": "execute_result"
    }
   ],
   "source": [
    "rec_re = re.compile(\n",
    "    r'''\n",
    "    (?P<lo>\\d+)\n",
    "    -\n",
    "    (?P<hi>\\d+)\n",
    "    \\s+\n",
    "    (?P<letter>[a-z])\n",
    "    :\\s+\n",
    "    (?P<password>[a-z]+)\n",
    "    ''', re.VERBOSE\n",
    ")\n",
    "\n",
    "def parse_rec(s):\n",
    "    m = rec_re.match(s)\n",
    "    if m is None:\n",
    "        raise ValueError('Failed to parse %s', s)\n",
    "    return m.groupdict()\n",
    "\n",
    "parse_rec(rawdata[0])"
   ]
  },
  {
   "cell_type": "code",
   "execution_count": 58,
   "metadata": {},
   "outputs": [],
   "source": [
    "passwords = [parse_rec(x) for x in rawdata]"
   ]
  },
  {
   "cell_type": "code",
   "execution_count": 59,
   "metadata": {},
   "outputs": [],
   "source": [
    "def isvalid(rec):\n",
    "    lo = int(rec['lo'])\n",
    "    hi = int(rec['hi'])\n",
    "    letter = rec['letter']\n",
    "    password = rec['password']\n",
    "    \n",
    "    return lo <= password.count(letter) <= hi"
   ]
  },
  {
   "cell_type": "code",
   "execution_count": 60,
   "metadata": {},
   "outputs": [
    {
     "data": {
      "text/plain": [
       "True"
      ]
     },
     "execution_count": 60,
     "metadata": {},
     "output_type": "execute_result"
    }
   ],
   "source": [
    "isvalid(parse_rec('1-3 a: abcde'))"
   ]
  },
  {
   "cell_type": "code",
   "execution_count": 61,
   "metadata": {},
   "outputs": [
    {
     "data": {
      "text/plain": [
       "False"
      ]
     },
     "execution_count": 61,
     "metadata": {},
     "output_type": "execute_result"
    }
   ],
   "source": [
    "isvalid(parse_rec('1-3 b: cdefg'))"
   ]
  },
  {
   "cell_type": "code",
   "execution_count": 62,
   "metadata": {},
   "outputs": [
    {
     "data": {
      "text/plain": [
       "True"
      ]
     },
     "execution_count": 62,
     "metadata": {},
     "output_type": "execute_result"
    }
   ],
   "source": [
    "isvalid(parse_rec('2-9 c: ccccccccc'))"
   ]
  },
  {
   "cell_type": "code",
   "execution_count": 65,
   "metadata": {},
   "outputs": [
    {
     "data": {
      "text/plain": [
       "556"
      ]
     },
     "execution_count": 65,
     "metadata": {},
     "output_type": "execute_result"
    }
   ],
   "source": [
    "sum(isvalid(x) for x in passwords)"
   ]
  },
  {
   "cell_type": "markdown",
   "metadata": {},
   "source": [
    "# 2"
   ]
  },
  {
   "cell_type": "code",
   "execution_count": 68,
   "metadata": {},
   "outputs": [],
   "source": [
    "def isvalid_2(rec):\n",
    "    p1 = int(rec['lo']) - 1\n",
    "    p2 = int(rec['hi']) - 1\n",
    "    letter = rec['letter']\n",
    "    password = rec['password']\n",
    "\n",
    "    return (password[p1] == letter) ^ (password[p2] == letter)"
   ]
  },
  {
   "cell_type": "code",
   "execution_count": 75,
   "metadata": {},
   "outputs": [
    {
     "data": {
      "text/plain": [
       "605"
      ]
     },
     "execution_count": 75,
     "metadata": {},
     "output_type": "execute_result"
    }
   ],
   "source": [
    "sum(isvalid_2(x) for x in passwords)"
   ]
  }
 ],
 "metadata": {
  "kernelspec": {
   "display_name": "Python 3",
   "language": "python",
   "name": "python3"
  },
  "language_info": {
   "codemirror_mode": {
    "name": "ipython",
    "version": 3
   },
   "file_extension": ".py",
   "mimetype": "text/x-python",
   "name": "python",
   "nbconvert_exporter": "python",
   "pygments_lexer": "ipython3",
   "version": "3.8.2"
  }
 },
 "nbformat": 4,
 "nbformat_minor": 2
}
