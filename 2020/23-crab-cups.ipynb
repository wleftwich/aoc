{
 "cells": [
  {
   "cell_type": "markdown",
   "metadata": {},
   "source": [
    "https://adventofcode.com/2020/day/23"
   ]
  },
  {
   "cell_type": "code",
   "execution_count": 1,
   "metadata": {},
   "outputs": [],
   "source": [
    "import numpy as np"
   ]
  },
  {
   "cell_type": "code",
   "execution_count": 100,
   "metadata": {},
   "outputs": [],
   "source": [
    "def move(head, cups):\n",
    "    n = len(cups) - 1\n",
    "    a = cups[head]\n",
    "    b = cups[a]\n",
    "    c = cups[b]\n",
    "    d = cups[c]\n",
    "#     print(a,b,c)\n",
    "    dest = head - 1 or n  # wrap around, skipping zero\n",
    "    while dest in (a, b, c):\n",
    "        dest = dest - 1 or n\n",
    "    cups[c] = cups[dest]\n",
    "    cups[dest] = a\n",
    "    cups[head] = d\n",
    "    return d\n",
    "\n",
    "def makecups0(L, nextras=0):\n",
    "    ar = np.empty(len(L) + nextras + 1, dtype=int)\n",
    "    ar[0] = 0\n",
    "    for a, b in zip(L, L[1:]):\n",
    "        ar[a] = b\n",
    "#         print(a, b)\n",
    "        if nextras:\n",
    "            ar[L[-1]] = L[-1]+ 1\n",
    "            for i in range(max(L)+1, len(L) + nextras):\n",
    "                ar[i] = i + 1\n",
    "            ar[-1] = L[0]\n",
    "        else:\n",
    "            ar[L[-1]] = L[0]\n",
    "    return ar\n",
    "\n",
    "def makecups(L, nextras=0):\n",
    "    ar = np.empty(len(L) + nextras + 1, dtype=int)\n",
    "    ar[0] = 0\n",
    "    for a, b in zip(L, L[1:]):\n",
    "        ar[a] = b\n",
    "#         print(a, b)\n",
    "        if nextras:\n",
    "            ar[L[-1]] = max(L) + 1\n",
    "            for i in range(max(L)+1, len(L) + nextras):\n",
    "                ar[i] = i + 1\n",
    "            ar[-1] = L[0]\n",
    "        else:\n",
    "            ar[L[-1]] = L[0]\n",
    "    return ar\n"
   ]
  },
  {
   "cell_type": "code",
   "execution_count": 97,
   "metadata": {},
   "outputs": [
    {
     "data": {
      "text/plain": [
       "[(0, 0),\n",
       " (1, 2),\n",
       " (2, 3),\n",
       " (3, 4),\n",
       " (4, 5),\n",
       " (5, 6),\n",
       " (6, 7),\n",
       " (7, 8),\n",
       " (8, 9),\n",
       " (9, 10),\n",
       " (10, 1)]"
      ]
     },
     "execution_count": 97,
     "metadata": {},
     "output_type": "execute_result"
    }
   ],
   "source": [
    "list(enumerate(makecups([1,2,3], nextras=7)))"
   ]
  },
  {
   "cell_type": "code",
   "execution_count": 62,
   "metadata": {},
   "outputs": [
    {
     "data": {
      "text/plain": [
       "[(0, 0),\n",
       " (1, 2),\n",
       " (2, 5),\n",
       " (3, 8),\n",
       " (4, 6),\n",
       " (5, 4),\n",
       " (6, 7),\n",
       " (7, 3),\n",
       " (8, 9),\n",
       " (9, 1)]"
      ]
     },
     "execution_count": 62,
     "metadata": {},
     "output_type": "execute_result"
    }
   ],
   "source": [
    "cups = makecups([3,8,9,1,2,5,4,6,7])\n",
    "head = 3\n",
    "list(enumerate(cups))"
   ]
  },
  {
   "cell_type": "code",
   "execution_count": 63,
   "metadata": {},
   "outputs": [
    {
     "name": "stdout",
     "output_type": "stream",
     "text": [
      "8 9 1\n"
     ]
    },
    {
     "data": {
      "text/plain": [
       "(2,\n",
       " [(0, 0),\n",
       "  (1, 5),\n",
       "  (2, 8),\n",
       "  (3, 2),\n",
       "  (4, 6),\n",
       "  (5, 4),\n",
       "  (6, 7),\n",
       "  (7, 3),\n",
       "  (8, 9),\n",
       "  (9, 1)])"
      ]
     },
     "execution_count": 63,
     "metadata": {},
     "output_type": "execute_result"
    }
   ],
   "source": [
    "head = move(head, cups)\n",
    "head, list(enumerate(cups))"
   ]
  },
  {
   "cell_type": "code",
   "execution_count": 69,
   "metadata": {},
   "outputs": [
    {
     "name": "stdout",
     "output_type": "stream",
     "text": [
      "3 6 7\n"
     ]
    },
    {
     "data": {
      "text/plain": [
       "(2,\n",
       " [(0, 0),\n",
       "  (1, 9),\n",
       "  (2, 5),\n",
       "  (3, 6),\n",
       "  (4, 1),\n",
       "  (5, 8),\n",
       "  (6, 7),\n",
       "  (7, 4),\n",
       "  (8, 3),\n",
       "  (9, 2)])"
      ]
     },
     "execution_count": 69,
     "metadata": {},
     "output_type": "execute_result"
    }
   ],
   "source": [
    "head = move(head, cups)\n",
    "head, list(enumerate(cups))"
   ]
  },
  {
   "cell_type": "code",
   "execution_count": 78,
   "metadata": {},
   "outputs": [],
   "source": [
    "cups = makecups([5,8,9,1,7,4,2,6,3])\n",
    "head = 5"
   ]
  },
  {
   "cell_type": "code",
   "execution_count": 79,
   "metadata": {},
   "outputs": [
    {
     "name": "stdout",
     "output_type": "stream",
     "text": [
      "CPU times: user 367 µs, sys: 45 µs, total: 412 µs\n",
      "Wall time: 419 µs\n"
     ]
    }
   ],
   "source": [
    "%%time\n",
    "for _ in range(100):\n",
    "    head = move(head, cups)"
   ]
  },
  {
   "cell_type": "code",
   "execution_count": 80,
   "metadata": {},
   "outputs": [
    {
     "data": {
      "text/plain": [
       "4"
      ]
     },
     "execution_count": 80,
     "metadata": {},
     "output_type": "execute_result"
    }
   ],
   "source": [
    "cups[1]"
   ]
  },
  {
   "cell_type": "code",
   "execution_count": 81,
   "metadata": {},
   "outputs": [],
   "source": [
    "n = 1"
   ]
  },
  {
   "cell_type": "code",
   "execution_count": 82,
   "metadata": {},
   "outputs": [
    {
     "name": "stdout",
     "output_type": "stream",
     "text": [
      "43896725"
     ]
    }
   ],
   "source": [
    "while True:\n",
    "    n = cups[n]\n",
    "    if n == 1:\n",
    "        break\n",
    "    print(n, end='')"
   ]
  },
  {
   "cell_type": "markdown",
   "metadata": {},
   "source": [
    "## Part 2"
   ]
  },
  {
   "cell_type": "code",
   "execution_count": 107,
   "metadata": {},
   "outputs": [
    {
     "name": "stdout",
     "output_type": "stream",
     "text": [
      "CPU times: user 17.5 s, sys: 0 ns, total: 17.5 s\n",
      "Wall time: 17.5 s\n"
     ]
    }
   ],
   "source": [
    "%%time\n",
    "L = [5,8,9,1,7,4,2,6,3]\n",
    "nextras = 1_000_000 - len(L)\n",
    "head = L[0]\n",
    "cups = makecups(L, nextras)\n",
    "\n",
    "for _ in range(10_000_000):\n",
    "    head = move(head, cups)"
   ]
  },
  {
   "cell_type": "code",
   "execution_count": 108,
   "metadata": {},
   "outputs": [
    {
     "data": {
      "text/plain": [
       "2911418906"
      ]
     },
     "execution_count": 108,
     "metadata": {},
     "output_type": "execute_result"
    }
   ],
   "source": [
    "cups[1] * cups[cups[1]]"
   ]
  }
 ],
 "metadata": {
  "kernelspec": {
   "display_name": "Python 3",
   "language": "python",
   "name": "python3"
  },
  "language_info": {
   "codemirror_mode": {
    "name": "ipython",
    "version": 3
   },
   "file_extension": ".py",
   "mimetype": "text/x-python",
   "name": "python",
   "nbconvert_exporter": "python",
   "pygments_lexer": "ipython3",
   "version": "3.8.5"
  }
 },
 "nbformat": 4,
 "nbformat_minor": 4
}
