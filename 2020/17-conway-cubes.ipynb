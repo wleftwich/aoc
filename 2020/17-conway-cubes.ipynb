{
 "cells": [
  {
   "cell_type": "markdown",
   "metadata": {},
   "source": [
    "https://adventofcode.com/2020/day/17"
   ]
  },
  {
   "cell_type": "code",
   "execution_count": 1,
   "metadata": {},
   "outputs": [],
   "source": [
    "from itertools import product"
   ]
  },
  {
   "cell_type": "code",
   "execution_count": 2,
   "metadata": {},
   "outputs": [],
   "source": [
    "datafile = 'data/17-1.txt'"
   ]
  },
  {
   "cell_type": "code",
   "execution_count": 3,
   "metadata": {},
   "outputs": [],
   "source": [
    "with open(datafile) as fh:\n",
    "    data = fh.read()"
   ]
  },
  {
   "cell_type": "code",
   "execution_count": 3,
   "metadata": {},
   "outputs": [
    {
     "name": "stdout",
     "output_type": "stream",
     "text": [
      ".#..####\n",
      ".#.#...#\n",
      "#..#.#.#\n",
      "###..##.\n",
      "..##...#\n",
      "..##.###\n",
      "#.....#.\n",
      "..##..##\n",
      "\n"
     ]
    }
   ],
   "source": [
    "print(data)"
   ]
  },
  {
   "cell_type": "code",
   "execution_count": 11,
   "metadata": {},
   "outputs": [],
   "source": [
    "def read_data(data):\n",
    "    \"\"\"Origin at sw corner\"\"\"\n",
    "    D = {}\n",
    "    for (y, row) in enumerate(reversed(data.split())):\n",
    "        for (x, val) in enumerate(row):\n",
    "            D[(x, y, 0)] = val\n",
    "    return D"
   ]
  },
  {
   "cell_type": "code",
   "execution_count": 29,
   "metadata": {},
   "outputs": [
    {
     "data": {
      "text/plain": [
       "(26, [(-1, -1, -1), (-1, -1, 0), (-1, -1, 1)])"
      ]
     },
     "execution_count": 29,
     "metadata": {},
     "output_type": "execute_result"
    }
   ],
   "source": [
    "DELTAS = [x for x in product((-1, 0, 1), repeat=3) if x != (0, 0, 0)]\n",
    "len(DELTAS), DELTAS[:3]"
   ]
  },
  {
   "cell_type": "code",
   "execution_count": 13,
   "metadata": {},
   "outputs": [],
   "source": [
    "def add_tuples(a, b):\n",
    "    return tuple(x + y for (x, y) in zip(a, b))\n",
    "\n",
    "def apply_deltas(p, deltas=DELTAS):\n",
    "    return (add_tuples(p, d) for d in deltas)"
   ]
  },
  {
   "cell_type": "code",
   "execution_count": 81,
   "metadata": {},
   "outputs": [],
   "source": [
    "def nextcoords(D):\n",
    "    ks = list(D.keys())\n",
    "    xmin = min(x for (x,y,z) in ks)\n",
    "    xmax = max(x for (x,y,z) in ks)\n",
    "    ymin = min(y for (x,y,z) in ks)\n",
    "    ymax = max(y for (x,y,z) in ks)    \n",
    "    zmin = min(z for (x,y,z) in ks)\n",
    "    zmax = max(z for (x,y,z) in ks)\n",
    "    for x in range(xmin-1, xmax+2):\n",
    "        for y in range(ymin-1, ymax+2):\n",
    "            for z in range(zmin-1, zmax+2):\n",
    "                yield (x,y,z)   "
   ]
  },
  {
   "cell_type": "code",
   "execution_count": 82,
   "metadata": {},
   "outputs": [],
   "source": [
    "def cycle(cubes):\n",
    "    D = {}\n",
    "    for k in nextcoords(cubes):\n",
    "        v = cubes.get(k, '.')\n",
    "        active_nabe_count = 0\n",
    "        for nk in apply_deltas(k):\n",
    "            nv = cubes.get(nk)\n",
    "            if nv == '#':\n",
    "                active_nabe_count += 1\n",
    "        if v == '#':\n",
    "            if active_nabe_count in [2, 3]:\n",
    "                D[k] = '#'\n",
    "            else:\n",
    "                D[k] = '.'\n",
    "        else:\n",
    "            if active_nabe_count == 3:\n",
    "                D[k] = '#'\n",
    "            else:\n",
    "                D[k] = '.'\n",
    "    return D"
   ]
  },
  {
   "cell_type": "code",
   "execution_count": 83,
   "metadata": {},
   "outputs": [
    {
     "data": {
      "text/plain": [
       "{(0, 0, 0): '#',\n",
       " (1, 0, 0): '#',\n",
       " (2, 0, 0): '#',\n",
       " (0, 1, 0): '.',\n",
       " (1, 1, 0): '.',\n",
       " (2, 1, 0): '#',\n",
       " (0, 2, 0): '.',\n",
       " (1, 2, 0): '#',\n",
       " (2, 2, 0): '.'}"
      ]
     },
     "execution_count": 83,
     "metadata": {},
     "output_type": "execute_result"
    }
   ],
   "source": [
    "testcubes = read_data(\"\"\"\\\n",
    ".#.\n",
    "..#\n",
    "###\n",
    "\"\"\")\n",
    "testcubes"
   ]
  },
  {
   "cell_type": "code",
   "execution_count": 84,
   "metadata": {},
   "outputs": [],
   "source": [
    "for _ in range(6):\n",
    "    testcubes = cycle(testcubes)"
   ]
  },
  {
   "cell_type": "code",
   "execution_count": 85,
   "metadata": {},
   "outputs": [
    {
     "data": {
      "text/plain": [
       "112"
      ]
     },
     "execution_count": 85,
     "metadata": {},
     "output_type": "execute_result"
    }
   ],
   "source": [
    "sum(v == '#' for v in testcubes.values())"
   ]
  },
  {
   "cell_type": "code",
   "execution_count": 86,
   "metadata": {},
   "outputs": [],
   "source": [
    "cubes = read_data(data)"
   ]
  },
  {
   "cell_type": "code",
   "execution_count": 87,
   "metadata": {},
   "outputs": [],
   "source": [
    "for _ in range(6):\n",
    "    cubes = cycle(cubes)"
   ]
  },
  {
   "cell_type": "code",
   "execution_count": 88,
   "metadata": {},
   "outputs": [
    {
     "data": {
      "text/plain": [
       "289"
      ]
     },
     "execution_count": 88,
     "metadata": {},
     "output_type": "execute_result"
    }
   ],
   "source": [
    "part_1 = sum(v == '#' for v in cubes.values())\n",
    "part_1"
   ]
  },
  {
   "cell_type": "markdown",
   "metadata": {},
   "source": [
    "## Part 4"
   ]
  },
  {
   "cell_type": "code",
   "execution_count": 93,
   "metadata": {},
   "outputs": [
    {
     "data": {
      "text/plain": [
       "(80, [(-1, -1, -1, -1), (-1, -1, -1, 0), (-1, -1, -1, 1)])"
      ]
     },
     "execution_count": 93,
     "metadata": {},
     "output_type": "execute_result"
    }
   ],
   "source": [
    "HYPERDELTAS = [x for x in product((-1, 0, 1), repeat=4) if x != (0, 0, 0, 0)]\n",
    "len(HYPERDELTAS), HYPERDELTAS[:3]"
   ]
  },
  {
   "cell_type": "code",
   "execution_count": 94,
   "metadata": {},
   "outputs": [],
   "source": [
    "def read_hyperdata(data):\n",
    "    \"\"\"Origin at sw corner\"\"\"\n",
    "    D = {}\n",
    "    for (y, row) in enumerate(reversed(data.split())):\n",
    "        for (x, val) in enumerate(row):\n",
    "            D[(x, y, 0, 0)] = val\n",
    "    return D"
   ]
  },
  {
   "cell_type": "code",
   "execution_count": 95,
   "metadata": {},
   "outputs": [],
   "source": [
    "def add_tuples(a, b):\n",
    "    return tuple(x + y for (x, y) in zip(a, b))"
   ]
  },
  {
   "cell_type": "code",
   "execution_count": 96,
   "metadata": {},
   "outputs": [],
   "source": [
    "def apply_hyperdeltas(p, deltas=HYPERDELTAS):\n",
    "    return (add_tuples(p, d) for d in deltas)"
   ]
  },
  {
   "cell_type": "code",
   "execution_count": 103,
   "metadata": {},
   "outputs": [
    {
     "data": {
      "text/plain": [
       "[(-1, -1, -1, -1),\n",
       " (-1, -1, -1, 0),\n",
       " (-1, -1, -1, 1),\n",
       " (-1, -1, 0, -1),\n",
       " (-1, -1, 0, 0),\n",
       " (-1, -1, 0, 1),\n",
       " (-1, -1, 1, -1),\n",
       " (-1, -1, 1, 0),\n",
       " (-1, -1, 1, 1),\n",
       " (-1, 0, -1, -1),\n",
       " (-1, 0, -1, 0),\n",
       " (-1, 0, -1, 1),\n",
       " (-1, 0, 0, -1),\n",
       " (-1, 0, 0, 0),\n",
       " (-1, 0, 0, 1),\n",
       " (-1, 0, 1, -1),\n",
       " (-1, 0, 1, 0),\n",
       " (-1, 0, 1, 1),\n",
       " (-1, 1, -1, -1),\n",
       " (-1, 1, -1, 0),\n",
       " (-1, 1, -1, 1),\n",
       " (-1, 1, 0, -1),\n",
       " (-1, 1, 0, 0),\n",
       " (-1, 1, 0, 1),\n",
       " (-1, 1, 1, -1),\n",
       " (-1, 1, 1, 0),\n",
       " (-1, 1, 1, 1),\n",
       " (0, -1, -1, -1),\n",
       " (0, -1, -1, 0),\n",
       " (0, -1, -1, 1),\n",
       " (0, -1, 0, -1),\n",
       " (0, -1, 0, 0),\n",
       " (0, -1, 0, 1),\n",
       " (0, -1, 1, -1),\n",
       " (0, -1, 1, 0),\n",
       " (0, -1, 1, 1),\n",
       " (0, 0, -1, -1),\n",
       " (0, 0, -1, 0),\n",
       " (0, 0, -1, 1),\n",
       " (0, 0, 0, -1),\n",
       " (0, 0, 0, 1),\n",
       " (0, 0, 1, -1),\n",
       " (0, 0, 1, 0),\n",
       " (0, 0, 1, 1),\n",
       " (0, 1, -1, -1),\n",
       " (0, 1, -1, 0),\n",
       " (0, 1, -1, 1),\n",
       " (0, 1, 0, -1),\n",
       " (0, 1, 0, 0),\n",
       " (0, 1, 0, 1),\n",
       " (0, 1, 1, -1),\n",
       " (0, 1, 1, 0),\n",
       " (0, 1, 1, 1),\n",
       " (1, -1, -1, -1),\n",
       " (1, -1, -1, 0),\n",
       " (1, -1, -1, 1),\n",
       " (1, -1, 0, -1),\n",
       " (1, -1, 0, 0),\n",
       " (1, -1, 0, 1),\n",
       " (1, -1, 1, -1),\n",
       " (1, -1, 1, 0),\n",
       " (1, -1, 1, 1),\n",
       " (1, 0, -1, -1),\n",
       " (1, 0, -1, 0),\n",
       " (1, 0, -1, 1),\n",
       " (1, 0, 0, -1),\n",
       " (1, 0, 0, 0),\n",
       " (1, 0, 0, 1),\n",
       " (1, 0, 1, -1),\n",
       " (1, 0, 1, 0),\n",
       " (1, 0, 1, 1),\n",
       " (1, 1, -1, -1),\n",
       " (1, 1, -1, 0),\n",
       " (1, 1, -1, 1),\n",
       " (1, 1, 0, -1),\n",
       " (1, 1, 0, 0),\n",
       " (1, 1, 0, 1),\n",
       " (1, 1, 1, -1),\n",
       " (1, 1, 1, 0),\n",
       " (1, 1, 1, 1)]"
      ]
     },
     "execution_count": 103,
     "metadata": {},
     "output_type": "execute_result"
    }
   ],
   "source": [
    "list(apply_hyperdeltas((0,0,0,0)))"
   ]
  },
  {
   "cell_type": "code",
   "execution_count": 97,
   "metadata": {},
   "outputs": [],
   "source": [
    "def nexthypercoords(D):\n",
    "    ks = list(D.keys())\n",
    "    xmin = min(x for (x,y,z,w) in ks)\n",
    "    xmax = max(x for (x,y,z,w) in ks)\n",
    "    ymin = min(y for (x,y,z,w) in ks)\n",
    "    ymax = max(y for (x,y,z,w) in ks)    \n",
    "    zmin = min(z for (x,y,z,w) in ks)\n",
    "    zmax = max(z for (x,y,z,w) in ks)\n",
    "    wmin = min(w for (x,y,z,w) in ks)\n",
    "    wmax = max(w for (x,y,z,w) in ks)\n",
    "   \n",
    "    for x in range(xmin-1, xmax+2):\n",
    "        for y in range(ymin-1, ymax+2):\n",
    "            for z in range(zmin-1, zmax+2):\n",
    "                for w in range(wmin-1, wmax+2):\n",
    "                    yield (x,y,z,w)"
   ]
  },
  {
   "cell_type": "code",
   "execution_count": 104,
   "metadata": {},
   "outputs": [
    {
     "data": {
      "text/plain": [
       "[(-1, -1, -1, -1),\n",
       " (-1, -1, -1, 0),\n",
       " (-1, -1, -1, 1),\n",
       " (-1, -1, 0, -1),\n",
       " (-1, -1, 0, 0),\n",
       " (-1, -1, 0, 1),\n",
       " (-1, -1, 1, -1),\n",
       " (-1, -1, 1, 0),\n",
       " (-1, -1, 1, 1),\n",
       " (-1, 0, -1, -1),\n",
       " (-1, 0, -1, 0),\n",
       " (-1, 0, -1, 1),\n",
       " (-1, 0, 0, -1),\n",
       " (-1, 0, 0, 0),\n",
       " (-1, 0, 0, 1),\n",
       " (-1, 0, 1, -1),\n",
       " (-1, 0, 1, 0),\n",
       " (-1, 0, 1, 1),\n",
       " (-1, 1, -1, -1),\n",
       " (-1, 1, -1, 0),\n",
       " (-1, 1, -1, 1),\n",
       " (-1, 1, 0, -1),\n",
       " (-1, 1, 0, 0),\n",
       " (-1, 1, 0, 1),\n",
       " (-1, 1, 1, -1),\n",
       " (-1, 1, 1, 0),\n",
       " (-1, 1, 1, 1),\n",
       " (0, -1, -1, -1),\n",
       " (0, -1, -1, 0),\n",
       " (0, -1, -1, 1),\n",
       " (0, -1, 0, -1),\n",
       " (0, -1, 0, 0),\n",
       " (0, -1, 0, 1),\n",
       " (0, -1, 1, -1),\n",
       " (0, -1, 1, 0),\n",
       " (0, -1, 1, 1),\n",
       " (0, 0, -1, -1),\n",
       " (0, 0, -1, 0),\n",
       " (0, 0, -1, 1),\n",
       " (0, 0, 0, -1),\n",
       " (0, 0, 0, 0),\n",
       " (0, 0, 0, 1),\n",
       " (0, 0, 1, -1),\n",
       " (0, 0, 1, 0),\n",
       " (0, 0, 1, 1),\n",
       " (0, 1, -1, -1),\n",
       " (0, 1, -1, 0),\n",
       " (0, 1, -1, 1),\n",
       " (0, 1, 0, -1),\n",
       " (0, 1, 0, 0),\n",
       " (0, 1, 0, 1),\n",
       " (0, 1, 1, -1),\n",
       " (0, 1, 1, 0),\n",
       " (0, 1, 1, 1),\n",
       " (1, -1, -1, -1),\n",
       " (1, -1, -1, 0),\n",
       " (1, -1, -1, 1),\n",
       " (1, -1, 0, -1),\n",
       " (1, -1, 0, 0),\n",
       " (1, -1, 0, 1),\n",
       " (1, -1, 1, -1),\n",
       " (1, -1, 1, 0),\n",
       " (1, -1, 1, 1),\n",
       " (1, 0, -1, -1),\n",
       " (1, 0, -1, 0),\n",
       " (1, 0, -1, 1),\n",
       " (1, 0, 0, -1),\n",
       " (1, 0, 0, 0),\n",
       " (1, 0, 0, 1),\n",
       " (1, 0, 1, -1),\n",
       " (1, 0, 1, 0),\n",
       " (1, 0, 1, 1),\n",
       " (1, 1, -1, -1),\n",
       " (1, 1, -1, 0),\n",
       " (1, 1, -1, 1),\n",
       " (1, 1, 0, -1),\n",
       " (1, 1, 0, 0),\n",
       " (1, 1, 0, 1),\n",
       " (1, 1, 1, -1),\n",
       " (1, 1, 1, 0),\n",
       " (1, 1, 1, 1)]"
      ]
     },
     "execution_count": 104,
     "metadata": {},
     "output_type": "execute_result"
    }
   ],
   "source": [
    "list(nexthypercoords({(0,0,0,0): None}))"
   ]
  },
  {
   "cell_type": "code",
   "execution_count": 98,
   "metadata": {},
   "outputs": [],
   "source": [
    "def hypercycle(hypercubes):\n",
    "    D = {}\n",
    "    for k in nexthypercoords(hypercubes):\n",
    "        v = hypercubes.get(k, '.')\n",
    "        active_nabe_count = 0\n",
    "        for nk in apply_hyperdeltas(k):\n",
    "            nv = hypercubes.get(nk)\n",
    "            if nv == '#':\n",
    "                active_nabe_count += 1\n",
    "        if v == '#':\n",
    "            if active_nabe_count in [2, 3]:\n",
    "                D[k] = '#'\n",
    "            else:\n",
    "                D[k] = '.'\n",
    "        else:\n",
    "            if active_nabe_count == 3:\n",
    "                D[k] = '#'\n",
    "            else:\n",
    "                D[k] = '.'\n",
    "    return D"
   ]
  },
  {
   "cell_type": "code",
   "execution_count": 106,
   "metadata": {},
   "outputs": [
    {
     "data": {
      "text/plain": [
       "{(0, 0, 0, 0): '#',\n",
       " (1, 0, 0, 0): '#',\n",
       " (2, 0, 0, 0): '#',\n",
       " (0, 1, 0, 0): '.',\n",
       " (1, 1, 0, 0): '.',\n",
       " (2, 1, 0, 0): '#',\n",
       " (0, 2, 0, 0): '.',\n",
       " (1, 2, 0, 0): '#',\n",
       " (2, 2, 0, 0): '.'}"
      ]
     },
     "execution_count": 106,
     "metadata": {},
     "output_type": "execute_result"
    }
   ],
   "source": [
    "testhypercubes = read_hyperdata(\"\"\"\\\n",
    ".#.\n",
    "..#\n",
    "###\n",
    "\"\"\")\n",
    "testhypercubes"
   ]
  },
  {
   "cell_type": "code",
   "execution_count": 107,
   "metadata": {},
   "outputs": [],
   "source": [
    "for _ in range(6):\n",
    "    testhypercubes = hypercycle(testhypercubes)"
   ]
  },
  {
   "cell_type": "code",
   "execution_count": 108,
   "metadata": {},
   "outputs": [
    {
     "data": {
      "text/plain": [
       "848"
      ]
     },
     "execution_count": 108,
     "metadata": {},
     "output_type": "execute_result"
    }
   ],
   "source": [
    "sum(v == '#' for v in testhypercubes.values())"
   ]
  },
  {
   "cell_type": "code",
   "execution_count": 109,
   "metadata": {},
   "outputs": [],
   "source": [
    "hypercubes = read_hyperdata(data)"
   ]
  },
  {
   "cell_type": "code",
   "execution_count": 110,
   "metadata": {},
   "outputs": [
    {
     "name": "stdout",
     "output_type": "stream",
     "text": [
      "CPU times: user 10.4 s, sys: 18.4 ms, total: 10.4 s\n",
      "Wall time: 10.4 s\n"
     ]
    }
   ],
   "source": [
    "%%time\n",
    "for _ in range(6):\n",
    "    hypercubes = hypercycle(hypercubes)"
   ]
  },
  {
   "cell_type": "code",
   "execution_count": 112,
   "metadata": {},
   "outputs": [
    {
     "data": {
      "text/plain": [
       "2084"
      ]
     },
     "execution_count": 112,
     "metadata": {},
     "output_type": "execute_result"
    }
   ],
   "source": [
    "part_2 = sum(v == '#' for v in hypercubes.values())\n",
    "part_2"
   ]
  },
  {
   "cell_type": "code",
   "execution_count": 60,
   "metadata": {},
   "outputs": [],
   "source": [
    "def read_data(data, dim):\n",
    "    \"\"\"Origin at sw corner\"\"\"\n",
    "    D = {}\n",
    "    for (y, row) in enumerate(reversed(data.split())):\n",
    "        for (x, val) in enumerate(row):\n",
    "            coords = [x, y] + [0] * (dim - 2)\n",
    "            D[tuple(coords)] = val\n",
    "    return D\n",
    "\n",
    "def make_deltas(dim):\n",
    "    origin = tuple([0] * dim)\n",
    "    return [x for x in product((-1, 0, 1), repeat=dim) if x != origin]\n",
    "\n",
    "def add_tuples(a, b):\n",
    "    return tuple(x + y for (x, y) in zip(a, b))\n",
    "\n",
    "def apply_deltas(p, deltas):\n",
    "    return (add_tuples(p, d) for d in deltas)\n",
    "\n",
    "def next_coords(D):\n",
    "    ks = list(D)\n",
    "    dim = len(ks[0])\n",
    "    ranges = []\n",
    "    for d in range(dim):\n",
    "        a = min(x[d] for x in ks) - 1\n",
    "        z = max(x[d] for x in ks) + 2\n",
    "        ranges.append(range(a, z))\n",
    "    return product(*ranges)\n",
    "\n",
    "def cycle(cube):\n",
    "    deltas = make_deltas(len(next(iter(cube))))\n",
    "    D = {}\n",
    "    for k in next_coords(cube):\n",
    "        v = cube.get(k, '.')\n",
    "        active_nabe_count = 0\n",
    "        for nk in apply_deltas(k, deltas):\n",
    "            nv = cube.get(nk)\n",
    "            if nv == '#':\n",
    "                active_nabe_count += 1\n",
    "        if v == '#':\n",
    "            if active_nabe_count in [2, 3]:\n",
    "                D[k] = '#'\n",
    "            else:\n",
    "                D[k] = '.'\n",
    "        else:\n",
    "            if active_nabe_count == 3:\n",
    "                D[k] = '#'\n",
    "            else:\n",
    "                D[k] = '.'\n",
    "    return D"
   ]
  },
  {
   "cell_type": "code",
   "execution_count": 54,
   "metadata": {},
   "outputs": [],
   "source": [
    "testdata = \"\"\"\\\n",
    ".#.\n",
    "..#\n",
    "###\n",
    "\"\"\""
   ]
  },
  {
   "cell_type": "code",
   "execution_count": 61,
   "metadata": {},
   "outputs": [
    {
     "name": "stdout",
     "output_type": "stream",
     "text": [
      "CPU times: user 179 ms, sys: 3 µs, total: 179 ms\n",
      "Wall time: 178 ms\n"
     ]
    },
    {
     "data": {
      "text/plain": [
       "112"
      ]
     },
     "execution_count": 61,
     "metadata": {},
     "output_type": "execute_result"
    }
   ],
   "source": [
    "%%time\n",
    "cube3 = read_data(testdata, 3)\n",
    "for _ in range(6):\n",
    "    cube3 = cycle(cube3)\n",
    "part_1 = sum(v == '#' for v in cube3.values())\n",
    "part_1"
   ]
  },
  {
   "cell_type": "code",
   "execution_count": 48,
   "metadata": {},
   "outputs": [
    {
     "name": "stdout",
     "output_type": "stream",
     "text": [
      "CPU times: user 5.53 s, sys: 0 ns, total: 5.53 s\n",
      "Wall time: 5.53 s\n"
     ]
    },
    {
     "data": {
      "text/plain": [
       "848"
      ]
     },
     "execution_count": 48,
     "metadata": {},
     "output_type": "execute_result"
    }
   ],
   "source": [
    "%%time\n",
    "cube4 = read_data(testdata, 4)\n",
    "for _ in range(6):\n",
    "    cube4 = cycle(cube4)\n",
    "part_2 = sum(v == '#' for v in cube4.values())\n",
    "part_2"
   ]
  },
  {
   "cell_type": "code",
   "execution_count": 42,
   "metadata": {},
   "outputs": [
    {
     "name": "stdout",
     "output_type": "stream",
     "text": [
      "CPU times: user 3min 13s, sys: 31.9 ms, total: 3min 13s\n",
      "Wall time: 3min 13s\n"
     ]
    },
    {
     "data": {
      "text/plain": [
       "5760"
      ]
     },
     "execution_count": 42,
     "metadata": {},
     "output_type": "execute_result"
    }
   ],
   "source": [
    "%%time\n",
    "cube5 = read_data(testdata, 5)\n",
    "for _ in range(6):\n",
    "    cube5 = cycle(cube5)\n",
    "bonus = sum(v == '#' for v in cube5.values())\n",
    "bonus"
   ]
  },
  {
   "cell_type": "code",
   "execution_count": 44,
   "metadata": {},
   "outputs": [
    {
     "name": "stdout",
     "output_type": "stream",
     "text": [
      "CPU times: user 6.73 ms, sys: 0 ns, total: 6.73 ms\n",
      "Wall time: 6.66 ms\n"
     ]
    },
    {
     "data": {
      "text/plain": [
       "5"
      ]
     },
     "execution_count": 44,
     "metadata": {},
     "output_type": "execute_result"
    }
   ],
   "source": [
    "%%time\n",
    "cube2 = read_data(testdata, 2)\n",
    "for _ in range(6):\n",
    "    cube2 = cycle(cube2)\n",
    "flatland = sum(v == '#' for v in cube2.values())\n",
    "flatland"
   ]
  },
  {
   "cell_type": "code",
   "execution_count": null,
   "metadata": {},
   "outputs": [],
   "source": []
  },
  {
   "cell_type": "code",
   "execution_count": null,
   "metadata": {},
   "outputs": [],
   "source": [
    "\n"
   ]
  },
  {
   "cell_type": "code",
   "execution_count": 35,
   "metadata": {},
   "outputs": [],
   "source": [
    "from itertools import product\n",
    "\n",
    "def read_data(data, dim):\n",
    "    \"\"\"Origin at sw corner\"\"\"\n",
    "    D = {}\n",
    "    for (i, row) in enumerate(reversed(data.split())):\n",
    "        for (j, val) in enumerate(row):\n",
    "            if val == '#':\n",
    "                coords = [i, j] + [0] * (dim - 2)\n",
    "                D[tuple(coords)] = 1\n",
    "    return D\n",
    "\n",
    "def make_deltas(dim):\n",
    "    origin = tuple([0] * dim)\n",
    "    return [x for x in product((-1, 0, 1), repeat=dim) if x != origin]\n",
    "\n",
    "def add_tuples(a, b):\n",
    "    return tuple(x + y for (x, y) in zip(a, b))\n",
    "\n",
    "def apply_deltas(p, deltas):\n",
    "    return (add_tuples(p, d) for d in deltas)\n",
    "\n",
    "def next_coords(D):\n",
    "    ks = list(D)\n",
    "    dim = len(ks[0])\n",
    "    ranges = []\n",
    "    for d in range(dim):\n",
    "        a = min(x[d] for x in ks) - 1\n",
    "        z = max(x[d] for x in ks) + 2\n",
    "        ranges.append(range(a, z))\n",
    "    return product(*ranges)\n",
    "\n",
    "def cycle(cube):\n",
    "    deltas = make_deltas(len(next(iter(cube))))\n",
    "    D = {}\n",
    "    for k in next_coords(cube):\n",
    "        v = cube.get(k)\n",
    "        active_nabe_count = 0\n",
    "        for nk in apply_deltas(k, deltas):\n",
    "            if cube.get(nk):\n",
    "                active_nabe_count += 1\n",
    "        if active_nabe_count == 3 or (v and active_nabe_count == 2):\n",
    "            D[k] = 1\n",
    "    return D"
   ]
  },
  {
   "cell_type": "code",
   "execution_count": 36,
   "metadata": {},
   "outputs": [],
   "source": [
    "testdata = \"\"\"\\\n",
    ".#.\n",
    "..#\n",
    "###\n",
    "\"\"\""
   ]
  },
  {
   "cell_type": "code",
   "execution_count": 37,
   "metadata": {},
   "outputs": [
    {
     "name": "stdout",
     "output_type": "stream",
     "text": [
      "CPU times: user 109 ms, sys: 0 ns, total: 109 ms\n",
      "Wall time: 108 ms\n"
     ]
    },
    {
     "data": {
      "text/plain": [
       "112"
      ]
     },
     "execution_count": 37,
     "metadata": {},
     "output_type": "execute_result"
    }
   ],
   "source": [
    "%%time\n",
    "cube3 = read_data(testdata, 3)\n",
    "for _ in range(6):\n",
    "    cube3 = cycle(cube3)\n",
    "part_1 = sum(cube3.values())\n",
    "part_1"
   ]
  },
  {
   "cell_type": "code",
   "execution_count": 38,
   "metadata": {},
   "outputs": [
    {
     "name": "stdout",
     "output_type": "stream",
     "text": [
      "CPU times: user 3.67 s, sys: 0 ns, total: 3.67 s\n",
      "Wall time: 3.67 s\n"
     ]
    },
    {
     "data": {
      "text/plain": [
       "848"
      ]
     },
     "execution_count": 38,
     "metadata": {},
     "output_type": "execute_result"
    }
   ],
   "source": [
    "%%time\n",
    "cube4 = read_data(testdata, 4)\n",
    "for _ in range(6):\n",
    "    cube4 = cycle(cube4)\n",
    "part_2 = sum(cube4.values())\n",
    "part_2"
   ]
  },
  {
   "cell_type": "code",
   "execution_count": 40,
   "metadata": {},
   "outputs": [
    {
     "name": "stdout",
     "output_type": "stream",
     "text": [
      "CPU times: user 2min 20s, sys: 0 ns, total: 2min 20s\n",
      "Wall time: 2min 20s\n"
     ]
    },
    {
     "data": {
      "text/plain": [
       "5760"
      ]
     },
     "execution_count": 40,
     "metadata": {},
     "output_type": "execute_result"
    }
   ],
   "source": [
    "%%time\n",
    "cube5 = read_data(testdata, 5)\n",
    "for _ in range(6):\n",
    "    cube5 = cycle(cube5)\n",
    "bonus = sum(cube5.values())\n",
    "bonus"
   ]
  },
  {
   "cell_type": "code",
   "execution_count": 39,
   "metadata": {},
   "outputs": [
    {
     "name": "stdout",
     "output_type": "stream",
     "text": [
      "CPU times: user 2.34 ms, sys: 0 ns, total: 2.34 ms\n",
      "Wall time: 2.35 ms\n"
     ]
    },
    {
     "data": {
      "text/plain": [
       "5"
      ]
     },
     "execution_count": 39,
     "metadata": {},
     "output_type": "execute_result"
    }
   ],
   "source": [
    "%%time\n",
    "cube2 = read_data(testdata, 2)\n",
    "for _ in range(6):\n",
    "    cube2 = cycle(cube2)\n",
    "flatland = sum(cube2.values())\n",
    "flatland"
   ]
  },
  {
   "cell_type": "code",
   "execution_count": null,
   "metadata": {},
   "outputs": [],
   "source": []
  },
  {
   "cell_type": "code",
   "execution_count": 54,
   "metadata": {},
   "outputs": [],
   "source": [
    "testdata = \"\"\"\\\n",
    ".#.\n",
    "..#\n",
    "###\n",
    "\"\"\""
   ]
  },
  {
   "cell_type": "code",
   "execution_count": 61,
   "metadata": {},
   "outputs": [
    {
     "name": "stdout",
     "output_type": "stream",
     "text": [
      "CPU times: user 179 ms, sys: 3 µs, total: 179 ms\n",
      "Wall time: 178 ms\n"
     ]
    },
    {
     "data": {
      "text/plain": [
       "112"
      ]
     },
     "execution_count": 61,
     "metadata": {},
     "output_type": "execute_result"
    }
   ],
   "source": [
    "%%time\n",
    "cube3 = read_data(testdata, 3)\n",
    "for _ in range(6):\n",
    "    cube3 = cycle(cube3)\n",
    "part_1 = sum(v == '#' for v in cube3.values())\n",
    "part_1"
   ]
  },
  {
   "cell_type": "code",
   "execution_count": 48,
   "metadata": {},
   "outputs": [
    {
     "name": "stdout",
     "output_type": "stream",
     "text": [
      "CPU times: user 5.53 s, sys: 0 ns, total: 5.53 s\n",
      "Wall time: 5.53 s\n"
     ]
    },
    {
     "data": {
      "text/plain": [
       "848"
      ]
     },
     "execution_count": 48,
     "metadata": {},
     "output_type": "execute_result"
    }
   ],
   "source": [
    "%%time\n",
    "cube4 = read_data(testdata, 4)\n",
    "for _ in range(6):\n",
    "    cube4 = cycle(cube4)\n",
    "part_2 = sum(v == '#' for v in cube4.values())\n",
    "part_2"
   ]
  },
  {
   "cell_type": "code",
   "execution_count": 42,
   "metadata": {},
   "outputs": [
    {
     "name": "stdout",
     "output_type": "stream",
     "text": [
      "CPU times: user 3min 13s, sys: 31.9 ms, total: 3min 13s\n",
      "Wall time: 3min 13s\n"
     ]
    },
    {
     "data": {
      "text/plain": [
       "5760"
      ]
     },
     "execution_count": 42,
     "metadata": {},
     "output_type": "execute_result"
    }
   ],
   "source": [
    "%%time\n",
    "cube5 = read_data(testdata, 5)\n",
    "for _ in range(6):\n",
    "    cube5 = cycle(cube5)\n",
    "bonus = sum(v == '#' for v in cube5.values())\n",
    "bonus"
   ]
  },
  {
   "cell_type": "code",
   "execution_count": 45,
   "metadata": {},
   "outputs": [],
   "source": [
    "from itertools import product\n",
    "\n",
    "def read_data(data, dim):\n",
    "    S = set()\n",
    "    for (i, row) in enumerate(reversed(data.split())):\n",
    "        for (j, val) in enumerate(row):\n",
    "            if val == '#':\n",
    "                coords = [i, j] + [0] * (dim - 2)\n",
    "                S.add(tuple(coords))\n",
    "    return S\n",
    "\n",
    "def make_deltas(dim):\n",
    "    origin = tuple([0] * dim)\n",
    "    return [x for x in product((-1, 0, 1), repeat=dim) if x != origin]\n",
    "\n",
    "def add_tuples(a, b):\n",
    "    return tuple(x + y for (x, y) in zip(a, b))\n",
    "\n",
    "def apply_deltas(p, deltas):\n",
    "    return (add_tuples(p, d) for d in deltas)\n",
    "\n",
    "def iter_coords(S):\n",
    "    ks = list(S)\n",
    "    dim = len(ks[0])\n",
    "    ranges = []\n",
    "    for d in range(dim):\n",
    "        a = min(x[d] for x in ks) - 1\n",
    "        z = max(x[d] for x in ks) + 2\n",
    "        ranges.append(range(a, z))\n",
    "    return product(*ranges)\n",
    "\n",
    "def cycle(cube):\n",
    "    deltas = make_deltas(len(next(iter(cube))))\n",
    "    S = set()\n",
    "    for k in iter_coords(cube):\n",
    "        active_nabe_count = 0\n",
    "        for nk in apply_deltas(k, deltas):\n",
    "            if nk in cube:\n",
    "                active_nabe_count += 1\n",
    "        if active_nabe_count == 3 or (k in cube and active_nabe_count == 2):\n",
    "            S.add(k)\n",
    "    return S"
   ]
  },
  {
   "cell_type": "code",
   "execution_count": 46,
   "metadata": {},
   "outputs": [],
   "source": [
    "testdata = \"\"\"\\\n",
    ".#.\n",
    "..#\n",
    "###\n",
    "\"\"\""
   ]
  },
  {
   "cell_type": "code",
   "execution_count": 48,
   "metadata": {},
   "outputs": [
    {
     "name": "stdout",
     "output_type": "stream",
     "text": [
      "CPU times: user 82.8 ms, sys: 1 µs, total: 82.8 ms\n",
      "Wall time: 82.1 ms\n"
     ]
    },
    {
     "data": {
      "text/plain": [
       "112"
      ]
     },
     "execution_count": 48,
     "metadata": {},
     "output_type": "execute_result"
    }
   ],
   "source": [
    "%%time\n",
    "cube3 = read_data(testdata, 3)\n",
    "for _ in range(6):\n",
    "    cube3 = cycle(cube3)\n",
    "part_1 = len(cube3)\n",
    "part_1"
   ]
  },
  {
   "cell_type": "code",
   "execution_count": 49,
   "metadata": {},
   "outputs": [
    {
     "name": "stdout",
     "output_type": "stream",
     "text": [
      "CPU times: user 3.44 s, sys: 0 ns, total: 3.44 s\n",
      "Wall time: 3.44 s\n"
     ]
    },
    {
     "data": {
      "text/plain": [
       "848"
      ]
     },
     "execution_count": 49,
     "metadata": {},
     "output_type": "execute_result"
    }
   ],
   "source": [
    "%%time\n",
    "cube4 = read_data(testdata, 4)\n",
    "for _ in range(6):\n",
    "    cube4 = cycle(cube4)\n",
    "part_2 = len(cube4)\n",
    "part_2"
   ]
  },
  {
   "cell_type": "code",
   "execution_count": 51,
   "metadata": {},
   "outputs": [
    {
     "name": "stdout",
     "output_type": "stream",
     "text": [
      "CPU times: user 2min 10s, sys: 20 ms, total: 2min 10s\n",
      "Wall time: 2min 10s\n"
     ]
    },
    {
     "data": {
      "text/plain": [
       "5760"
      ]
     },
     "execution_count": 51,
     "metadata": {},
     "output_type": "execute_result"
    }
   ],
   "source": [
    "%%time\n",
    "cube5 = read_data(testdata, 5)\n",
    "for _ in range(6):\n",
    "    cube5 = cycle(cube5)\n",
    "bonus = len(cube5)\n",
    "bonus"
   ]
  },
  {
   "cell_type": "code",
   "execution_count": 50,
   "metadata": {},
   "outputs": [
    {
     "name": "stdout",
     "output_type": "stream",
     "text": [
      "CPU times: user 1.05 ms, sys: 0 ns, total: 1.05 ms\n",
      "Wall time: 1.05 ms\n"
     ]
    },
    {
     "data": {
      "text/plain": [
       "5"
      ]
     },
     "execution_count": 50,
     "metadata": {},
     "output_type": "execute_result"
    }
   ],
   "source": [
    "%%time\n",
    "cube2 = read_data(testdata, 2)\n",
    "for _ in range(6):\n",
    "    cube2 = cycle(cube2)\n",
    "flatland = len(cube2)\n",
    "flatland"
   ]
  },
  {
   "cell_type": "markdown",
   "metadata": {},
   "source": [
    "## Simplified sets approach"
   ]
  },
  {
   "cell_type": "code",
   "execution_count": null,
   "metadata": {},
   "outputs": [],
   "source": []
  },
  {
   "cell_type": "code",
   "execution_count": 20,
   "metadata": {},
   "outputs": [],
   "source": [
    "from itertools import product\n",
    "\n",
    "def read_data(data, dim):\n",
    "    actives = set()\n",
    "    for (i, row) in enumerate(data.split()):\n",
    "        for (j, val) in enumerate(row):\n",
    "            if val == '#':\n",
    "                coords = [i, j] + [0] * (dim - 2)\n",
    "                actives.add(tuple(coords))\n",
    "    return actives\n",
    "\n",
    "\n",
    "def add_tuples(a, b):\n",
    "    return tuple(x + y for (x, y) in zip(a, b))\n",
    "\n",
    "\n",
    "def cycle(actives):\n",
    "    result = set()\n",
    "    inactives = set()\n",
    "    deltas = list(product((-1, 0, 1), repeat=len(next(iter(actives)))))\n",
    "    for cube in actives:\n",
    "        neighborhood = set(add_tuples(cube, d) for d in deltas)\n",
    "        if len(neighborhood.intersection(actives)) in [3, 4]:\n",
    "            result.add(cube)\n",
    "        inactives.update(neighborhood.difference(actives))\n",
    "    for cube in inactives:\n",
    "        neighborhood = set(add_tuples(cube, d) for d in deltas)\n",
    "        if len(neighborhood.intersection(actives)) == 3:\n",
    "            result.add(cube)\n",
    "    return result"
   ]
  },
  {
   "cell_type": "code",
   "execution_count": 8,
   "metadata": {},
   "outputs": [],
   "source": [
    "testdata = \"\"\"\\\n",
    ".#.\n",
    "..#\n",
    "###\n",
    "\"\"\""
   ]
  },
  {
   "cell_type": "code",
   "execution_count": 31,
   "metadata": {},
   "outputs": [
    {
     "name": "stdout",
     "output_type": "stream",
     "text": [
      "CPU times: user 57 ms, sys: 0 ns, total: 57 ms\n",
      "Wall time: 55.8 ms\n"
     ]
    },
    {
     "data": {
      "text/plain": [
       "112"
      ]
     },
     "execution_count": 31,
     "metadata": {},
     "output_type": "execute_result"
    }
   ],
   "source": [
    "%%time\n",
    "cube3 = read_data(testdata, 3)\n",
    "for _ in range(6):\n",
    "    cube3 = cycle(cube3)\n",
    "part_1 = len(cube3)\n",
    "part_1"
   ]
  },
  {
   "cell_type": "code",
   "execution_count": 29,
   "metadata": {},
   "outputs": [
    {
     "name": "stdout",
     "output_type": "stream",
     "text": [
      "CPU times: user 1.56 s, sys: 0 ns, total: 1.56 s\n",
      "Wall time: 1.56 s\n"
     ]
    },
    {
     "data": {
      "text/plain": [
       "848"
      ]
     },
     "execution_count": 29,
     "metadata": {},
     "output_type": "execute_result"
    }
   ],
   "source": [
    "%%time\n",
    "cube4 = read_data(testdata, 4)\n",
    "for _ in range(6):\n",
    "    cube4 = cycle(cube4)\n",
    "part_2 = len(cube4)\n",
    "part_2"
   ]
  },
  {
   "cell_type": "code",
   "execution_count": 28,
   "metadata": {},
   "outputs": [
    {
     "name": "stdout",
     "output_type": "stream",
     "text": [
      "CPU times: user 1min, sys: 13.4 ms, total: 1min\n",
      "Wall time: 1min\n"
     ]
    },
    {
     "data": {
      "text/plain": [
       "5760"
      ]
     },
     "execution_count": 28,
     "metadata": {},
     "output_type": "execute_result"
    }
   ],
   "source": [
    "%%time\n",
    "cube5 = read_data(testdata, 5)\n",
    "for _ in range(6):\n",
    "    cube5 = cycle(cube5)\n",
    "d5 = len(cube5)\n",
    "d5"
   ]
  },
  {
   "cell_type": "code",
   "execution_count": 27,
   "metadata": {},
   "outputs": [
    {
     "name": "stdout",
     "output_type": "stream",
     "text": [
      "CPU times: user 926 µs, sys: 29 µs, total: 955 µs\n",
      "Wall time: 957 µs\n"
     ]
    },
    {
     "data": {
      "text/plain": [
       "5"
      ]
     },
     "execution_count": 27,
     "metadata": {},
     "output_type": "execute_result"
    }
   ],
   "source": [
    "%%time\n",
    "cube2 = read_data(testdata, 2)\n",
    "for _ in range(6):\n",
    "    cube2 = cycle(cube2)\n",
    "flatland = len(cube2)\n",
    "flatland"
   ]
  },
  {
   "cell_type": "code",
   "execution_count": 33,
   "metadata": {},
   "outputs": [
    {
     "name": "stdout",
     "output_type": "stream",
     "text": [
      "245 1.339268684387207\n",
      "464 10.454355955123901\n",
      "15744 74.04311347007751\n"
     ]
    },
    {
     "ename": "KeyboardInterrupt",
     "evalue": "",
     "output_type": "error",
     "traceback": [
      "\u001b[0;31m---------------------------------------------------------------------------\u001b[0m",
      "\u001b[0;31mKeyboardInterrupt\u001b[0m                         Traceback (most recent call last)",
      "\u001b[0;32m<timed exec>\u001b[0m in \u001b[0;36m<module>\u001b[0;34m\u001b[0m\n",
      "\u001b[0;32m<ipython-input-20-24f9762a8b27>\u001b[0m in \u001b[0;36mcycle\u001b[0;34m(actives)\u001b[0m\n\u001b[1;32m     25\u001b[0m         \u001b[0minactives\u001b[0m\u001b[0;34m.\u001b[0m\u001b[0mupdate\u001b[0m\u001b[0;34m(\u001b[0m\u001b[0mneighborhood\u001b[0m\u001b[0;34m.\u001b[0m\u001b[0mdifference\u001b[0m\u001b[0;34m(\u001b[0m\u001b[0mactives\u001b[0m\u001b[0;34m)\u001b[0m\u001b[0;34m)\u001b[0m\u001b[0;34m\u001b[0m\u001b[0;34m\u001b[0m\u001b[0m\n\u001b[1;32m     26\u001b[0m     \u001b[0;32mfor\u001b[0m \u001b[0mcube\u001b[0m \u001b[0;32min\u001b[0m \u001b[0minactives\u001b[0m\u001b[0;34m:\u001b[0m\u001b[0;34m\u001b[0m\u001b[0;34m\u001b[0m\u001b[0m\n\u001b[0;32m---> 27\u001b[0;31m         \u001b[0mneighborhood\u001b[0m \u001b[0;34m=\u001b[0m \u001b[0mset\u001b[0m\u001b[0;34m(\u001b[0m\u001b[0madd_tuples\u001b[0m\u001b[0;34m(\u001b[0m\u001b[0mcube\u001b[0m\u001b[0;34m,\u001b[0m \u001b[0md\u001b[0m\u001b[0;34m)\u001b[0m \u001b[0;32mfor\u001b[0m \u001b[0md\u001b[0m \u001b[0;32min\u001b[0m \u001b[0mdeltas\u001b[0m\u001b[0;34m)\u001b[0m\u001b[0;34m\u001b[0m\u001b[0;34m\u001b[0m\u001b[0m\n\u001b[0m\u001b[1;32m     28\u001b[0m         \u001b[0;32mif\u001b[0m \u001b[0mlen\u001b[0m\u001b[0;34m(\u001b[0m\u001b[0mneighborhood\u001b[0m\u001b[0;34m.\u001b[0m\u001b[0mintersection\u001b[0m\u001b[0;34m(\u001b[0m\u001b[0mactives\u001b[0m\u001b[0;34m)\u001b[0m\u001b[0;34m)\u001b[0m \u001b[0;34m==\u001b[0m \u001b[0;36m3\u001b[0m\u001b[0;34m:\u001b[0m\u001b[0;34m\u001b[0m\u001b[0;34m\u001b[0m\u001b[0m\n\u001b[1;32m     29\u001b[0m             \u001b[0mresult\u001b[0m\u001b[0;34m.\u001b[0m\u001b[0madd\u001b[0m\u001b[0;34m(\u001b[0m\u001b[0mcube\u001b[0m\u001b[0;34m)\u001b[0m\u001b[0;34m\u001b[0m\u001b[0;34m\u001b[0m\u001b[0m\n",
      "\u001b[0;32m<ipython-input-20-24f9762a8b27>\u001b[0m in \u001b[0;36m<genexpr>\u001b[0;34m(.0)\u001b[0m\n\u001b[1;32m     25\u001b[0m         \u001b[0minactives\u001b[0m\u001b[0;34m.\u001b[0m\u001b[0mupdate\u001b[0m\u001b[0;34m(\u001b[0m\u001b[0mneighborhood\u001b[0m\u001b[0;34m.\u001b[0m\u001b[0mdifference\u001b[0m\u001b[0;34m(\u001b[0m\u001b[0mactives\u001b[0m\u001b[0;34m)\u001b[0m\u001b[0;34m)\u001b[0m\u001b[0;34m\u001b[0m\u001b[0;34m\u001b[0m\u001b[0m\n\u001b[1;32m     26\u001b[0m     \u001b[0;32mfor\u001b[0m \u001b[0mcube\u001b[0m \u001b[0;32min\u001b[0m \u001b[0minactives\u001b[0m\u001b[0;34m:\u001b[0m\u001b[0;34m\u001b[0m\u001b[0;34m\u001b[0m\u001b[0m\n\u001b[0;32m---> 27\u001b[0;31m         \u001b[0mneighborhood\u001b[0m \u001b[0;34m=\u001b[0m \u001b[0mset\u001b[0m\u001b[0;34m(\u001b[0m\u001b[0madd_tuples\u001b[0m\u001b[0;34m(\u001b[0m\u001b[0mcube\u001b[0m\u001b[0;34m,\u001b[0m \u001b[0md\u001b[0m\u001b[0;34m)\u001b[0m \u001b[0;32mfor\u001b[0m \u001b[0md\u001b[0m \u001b[0;32min\u001b[0m \u001b[0mdeltas\u001b[0m\u001b[0;34m)\u001b[0m\u001b[0;34m\u001b[0m\u001b[0;34m\u001b[0m\u001b[0m\n\u001b[0m\u001b[1;32m     28\u001b[0m         \u001b[0;32mif\u001b[0m \u001b[0mlen\u001b[0m\u001b[0;34m(\u001b[0m\u001b[0mneighborhood\u001b[0m\u001b[0;34m.\u001b[0m\u001b[0mintersection\u001b[0m\u001b[0;34m(\u001b[0m\u001b[0mactives\u001b[0m\u001b[0;34m)\u001b[0m\u001b[0;34m)\u001b[0m \u001b[0;34m==\u001b[0m \u001b[0;36m3\u001b[0m\u001b[0;34m:\u001b[0m\u001b[0;34m\u001b[0m\u001b[0;34m\u001b[0m\u001b[0m\n\u001b[1;32m     29\u001b[0m             \u001b[0mresult\u001b[0m\u001b[0;34m.\u001b[0m\u001b[0madd\u001b[0m\u001b[0;34m(\u001b[0m\u001b[0mcube\u001b[0m\u001b[0;34m)\u001b[0m\u001b[0;34m\u001b[0m\u001b[0;34m\u001b[0m\u001b[0m\n",
      "\u001b[0;32m<ipython-input-20-24f9762a8b27>\u001b[0m in \u001b[0;36madd_tuples\u001b[0;34m(a, b)\u001b[0m\n\u001b[1;32m     12\u001b[0m \u001b[0;34m\u001b[0m\u001b[0m\n\u001b[1;32m     13\u001b[0m \u001b[0;32mdef\u001b[0m \u001b[0madd_tuples\u001b[0m\u001b[0;34m(\u001b[0m\u001b[0ma\u001b[0m\u001b[0;34m,\u001b[0m \u001b[0mb\u001b[0m\u001b[0;34m)\u001b[0m\u001b[0;34m:\u001b[0m\u001b[0;34m\u001b[0m\u001b[0;34m\u001b[0m\u001b[0m\n\u001b[0;32m---> 14\u001b[0;31m     \u001b[0;32mreturn\u001b[0m \u001b[0mtuple\u001b[0m\u001b[0;34m(\u001b[0m\u001b[0mx\u001b[0m \u001b[0;34m+\u001b[0m \u001b[0my\u001b[0m \u001b[0;32mfor\u001b[0m \u001b[0;34m(\u001b[0m\u001b[0mx\u001b[0m\u001b[0;34m,\u001b[0m \u001b[0my\u001b[0m\u001b[0;34m)\u001b[0m \u001b[0;32min\u001b[0m \u001b[0mzip\u001b[0m\u001b[0;34m(\u001b[0m\u001b[0ma\u001b[0m\u001b[0;34m,\u001b[0m \u001b[0mb\u001b[0m\u001b[0;34m)\u001b[0m\u001b[0;34m)\u001b[0m\u001b[0;34m\u001b[0m\u001b[0;34m\u001b[0m\u001b[0m\n\u001b[0m\u001b[1;32m     15\u001b[0m \u001b[0;34m\u001b[0m\u001b[0m\n\u001b[1;32m     16\u001b[0m \u001b[0;34m\u001b[0m\u001b[0m\n",
      "\u001b[0;32m<ipython-input-20-24f9762a8b27>\u001b[0m in \u001b[0;36m<genexpr>\u001b[0;34m(.0)\u001b[0m\n\u001b[1;32m     12\u001b[0m \u001b[0;34m\u001b[0m\u001b[0m\n\u001b[1;32m     13\u001b[0m \u001b[0;32mdef\u001b[0m \u001b[0madd_tuples\u001b[0m\u001b[0;34m(\u001b[0m\u001b[0ma\u001b[0m\u001b[0;34m,\u001b[0m \u001b[0mb\u001b[0m\u001b[0;34m)\u001b[0m\u001b[0;34m:\u001b[0m\u001b[0;34m\u001b[0m\u001b[0;34m\u001b[0m\u001b[0m\n\u001b[0;32m---> 14\u001b[0;31m     \u001b[0;32mreturn\u001b[0m \u001b[0mtuple\u001b[0m\u001b[0;34m(\u001b[0m\u001b[0mx\u001b[0m \u001b[0;34m+\u001b[0m \u001b[0my\u001b[0m \u001b[0;32mfor\u001b[0m \u001b[0;34m(\u001b[0m\u001b[0mx\u001b[0m\u001b[0;34m,\u001b[0m \u001b[0my\u001b[0m\u001b[0;34m)\u001b[0m \u001b[0;32min\u001b[0m \u001b[0mzip\u001b[0m\u001b[0;34m(\u001b[0m\u001b[0ma\u001b[0m\u001b[0;34m,\u001b[0m \u001b[0mb\u001b[0m\u001b[0;34m)\u001b[0m\u001b[0;34m)\u001b[0m\u001b[0;34m\u001b[0m\u001b[0;34m\u001b[0m\u001b[0m\n\u001b[0m\u001b[1;32m     15\u001b[0m \u001b[0;34m\u001b[0m\u001b[0m\n\u001b[1;32m     16\u001b[0m \u001b[0;34m\u001b[0m\u001b[0m\n",
      "\u001b[0;31mKeyboardInterrupt\u001b[0m: "
     ]
    }
   ],
   "source": [
    "%%time\n",
    "import time\n",
    "t0 = time.time()\n",
    "cube6 = read_data(testdata, 6)\n",
    "for _ in range(6):\n",
    "    cube6 = cycle(cube6)\n",
    "    print(len(cube6), time.time() - t0)\n",
    "d6 = len(cube6)\n",
    "d6"
   ]
  },
  {
   "cell_type": "markdown",
   "metadata": {},
   "source": [
    "## Try a defaultdict  for inactives"
   ]
  },
  {
   "cell_type": "code",
   "execution_count": 10,
   "metadata": {},
   "outputs": [],
   "source": [
    "from collections import defaultdict\n",
    "from itertools import product\n",
    "\n",
    "def read_data(data, dim):\n",
    "    actives = set()\n",
    "    for (i, row) in enumerate(data.split()):\n",
    "        for (j, val) in enumerate(row):\n",
    "            if val == '#':\n",
    "                coords = [i, j] + [0] * (dim - 2)\n",
    "                actives.add(tuple(coords))\n",
    "    return actives\n",
    "\n",
    "\n",
    "def add_tuples(a, b):\n",
    "    return tuple(x + y for (x, y) in zip(a, b))\n",
    "\n",
    "\n",
    "def cycle(actives):\n",
    "    result = set()\n",
    "    inactives = defaultdict(int)\n",
    "    deltas = list(product((-1, 0, 1), repeat=len(next(iter(actives)))))\n",
    "    for cube in actives:\n",
    "        neighborhood = set(add_tuples(cube, d) for d in deltas)\n",
    "        if len(neighborhood.intersection(actives)) in (3, 4):\n",
    "            result.add(cube)\n",
    "        for inactive in neighborhood.difference(actives):\n",
    "            inactives[inactive] += 1\n",
    "    result.update(k for k, v in inactives.items() if v == 3)\n",
    "    return result"
   ]
  },
  {
   "cell_type": "code",
   "execution_count": 18,
   "metadata": {},
   "outputs": [
    {
     "name": "stdout",
     "output_type": "stream",
     "text": [
      "CPU times: user 35 ms, sys: 0 ns, total: 35 ms\n",
      "Wall time: 34.6 ms\n"
     ]
    },
    {
     "data": {
      "text/plain": [
       "289"
      ]
     },
     "execution_count": 18,
     "metadata": {},
     "output_type": "execute_result"
    }
   ],
   "source": [
    "%%time\n",
    "cube3 = read_data(data, 3)\n",
    "for _ in range(6):\n",
    "    cube3 = cycle(cube3)\n",
    "part_1 = len(cube3)\n",
    "part_1"
   ]
  },
  {
   "cell_type": "code",
   "execution_count": 19,
   "metadata": {},
   "outputs": [
    {
     "name": "stdout",
     "output_type": "stream",
     "text": [
      "CPU times: user 453 ms, sys: 2 µs, total: 453 ms\n",
      "Wall time: 452 ms\n"
     ]
    },
    {
     "data": {
      "text/plain": [
       "2084"
      ]
     },
     "execution_count": 19,
     "metadata": {},
     "output_type": "execute_result"
    }
   ],
   "source": [
    "%%time\n",
    "cube4 = read_data(data, 4)\n",
    "for _ in range(6):\n",
    "    cube4 = cycle(cube4)\n",
    "part_2 = len(cube4)\n",
    "part_2"
   ]
  },
  {
   "cell_type": "code",
   "execution_count": 21,
   "metadata": {},
   "outputs": [
    {
     "name": "stdout",
     "output_type": "stream",
     "text": [
      "CPU times: user 12.7 s, sys: 12 ms, total: 12.7 s\n",
      "Wall time: 12.7 s\n"
     ]
    },
    {
     "data": {
      "text/plain": [
       "13604"
      ]
     },
     "execution_count": 21,
     "metadata": {},
     "output_type": "execute_result"
    }
   ],
   "source": [
    "%%time\n",
    "cube5 = read_data(data, 5)\n",
    "for _ in range(6):\n",
    "    cube5 = cycle(cube5)\n",
    "d5 = len(cube5)\n",
    "d5"
   ]
  },
  {
   "cell_type": "code",
   "execution_count": 11,
   "metadata": {},
   "outputs": [],
   "source": [
    "testdata = \"\"\"\\\n",
    ".#.\n",
    "..#\n",
    "###\n",
    "\"\"\""
   ]
  },
  {
   "cell_type": "code",
   "execution_count": 12,
   "metadata": {},
   "outputs": [
    {
     "name": "stdout",
     "output_type": "stream",
     "text": [
      "CPU times: user 14.9 ms, sys: 114 µs, total: 15 ms\n",
      "Wall time: 15.1 ms\n"
     ]
    },
    {
     "data": {
      "text/plain": [
       "112"
      ]
     },
     "execution_count": 12,
     "metadata": {},
     "output_type": "execute_result"
    }
   ],
   "source": [
    "%%time\n",
    "cube3 = read_data(testdata, 3)\n",
    "for _ in range(6):\n",
    "    cube3 = cycle(cube3)\n",
    "part_1 = len(cube3)\n",
    "part_1"
   ]
  },
  {
   "cell_type": "code",
   "execution_count": 13,
   "metadata": {},
   "outputs": [
    {
     "name": "stdout",
     "output_type": "stream",
     "text": [
      "CPU times: user 165 ms, sys: 0 ns, total: 165 ms\n",
      "Wall time: 163 ms\n"
     ]
    },
    {
     "data": {
      "text/plain": [
       "848"
      ]
     },
     "execution_count": 13,
     "metadata": {},
     "output_type": "execute_result"
    }
   ],
   "source": [
    "%%time\n",
    "cube4 = read_data(testdata, 4)\n",
    "for _ in range(6):\n",
    "    cube4 = cycle(cube4)\n",
    "part_2 = len(cube4)\n",
    "part_2"
   ]
  },
  {
   "cell_type": "code",
   "execution_count": 14,
   "metadata": {},
   "outputs": [
    {
     "name": "stdout",
     "output_type": "stream",
     "text": [
      "CPU times: user 4.84 s, sys: 6.82 ms, total: 4.85 s\n",
      "Wall time: 4.85 s\n"
     ]
    },
    {
     "data": {
      "text/plain": [
       "5760"
      ]
     },
     "execution_count": 14,
     "metadata": {},
     "output_type": "execute_result"
    }
   ],
   "source": [
    "%%time\n",
    "cube5 = read_data(testdata, 5)\n",
    "for _ in range(6):\n",
    "    cube5 = cycle(cube5)\n",
    "d5 = len(cube5)\n",
    "d5"
   ]
  },
  {
   "cell_type": "code",
   "execution_count": 16,
   "metadata": {},
   "outputs": [
    {
     "name": "stdout",
     "output_type": "stream",
     "text": [
      "CPU times: user 834 µs, sys: 0 ns, total: 834 µs\n",
      "Wall time: 841 µs\n"
     ]
    },
    {
     "data": {
      "text/plain": [
       "5"
      ]
     },
     "execution_count": 16,
     "metadata": {},
     "output_type": "execute_result"
    }
   ],
   "source": [
    "%%time\n",
    "cube2 = read_data(testdata, 2)\n",
    "for _ in range(6):\n",
    "    cube2 = cycle(cube2)\n",
    "flatland = len(cube2)\n",
    "flatland"
   ]
  },
  {
   "cell_type": "code",
   "execution_count": 17,
   "metadata": {},
   "outputs": [
    {
     "name": "stdout",
     "output_type": "stream",
     "text": [
      "245 0.007897377014160156\n",
      "464 0.2726321220397949\n",
      "15744 0.8170702457427979\n",
      "2240 19.55064821243286\n",
      "103552 22.021578788757324\n",
      "35936 144.75871062278748\n",
      "CPU times: user 2min 24s, sys: 180 ms, total: 2min 24s\n",
      "Wall time: 2min 24s\n"
     ]
    },
    {
     "data": {
      "text/plain": [
       "35936"
      ]
     },
     "execution_count": 17,
     "metadata": {},
     "output_type": "execute_result"
    }
   ],
   "source": [
    "%%time\n",
    "import time\n",
    "t0 = time.time()\n",
    "cube6 = read_data(testdata, 6)\n",
    "for _ in range(6):\n",
    "    cube6 = cycle(cube6)\n",
    "    print(len(cube6), time.time() - t0)\n",
    "d6 = len(cube6)\n",
    "d6"
   ]
  }
 ],
 "metadata": {
  "kernelspec": {
   "display_name": "Python 3",
   "language": "python",
   "name": "python3"
  },
  "language_info": {
   "codemirror_mode": {
    "name": "ipython",
    "version": 3
   },
   "file_extension": ".py",
   "mimetype": "text/x-python",
   "name": "python",
   "nbconvert_exporter": "python",
   "pygments_lexer": "ipython3",
   "version": "3.8.5"
  }
 },
 "nbformat": 4,
 "nbformat_minor": 4
}
