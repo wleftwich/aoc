{
 "cells": [
  {
   "cell_type": "markdown",
   "metadata": {},
   "source": [
    "https://adventofcode.com/2020/day/14"
   ]
  },
  {
   "cell_type": "code",
   "execution_count": 1,
   "metadata": {},
   "outputs": [],
   "source": [
    "import re\n",
    "from itertools import product"
   ]
  },
  {
   "cell_type": "code",
   "execution_count": 2,
   "metadata": {},
   "outputs": [],
   "source": [
    "datafile = 'data/14-1.txt'"
   ]
  },
  {
   "cell_type": "code",
   "execution_count": 3,
   "metadata": {},
   "outputs": [],
   "source": [
    "with open(datafile) as fh:\n",
    "    data = [y for y in (x.strip() for x in fh) if y]"
   ]
  },
  {
   "cell_type": "code",
   "execution_count": 4,
   "metadata": {},
   "outputs": [
    {
     "data": {
      "text/plain": [
       "(536,\n",
       " ['mask = 1X01XXX001101X00001100X1010X10101101',\n",
       "  'mem[62085] = 231745',\n",
       "  'mem[14249] = 1252796'])"
      ]
     },
     "execution_count": 4,
     "metadata": {},
     "output_type": "execute_result"
    }
   ],
   "source": [
    "len(data), data[:3]"
   ]
  },
  {
   "cell_type": "code",
   "execution_count": 5,
   "metadata": {},
   "outputs": [],
   "source": [
    "def makemask(maskstr):\n",
    "    return {\n",
    "        'con': int(maskstr.replace('X', '1'), 2),\n",
    "        'dis': int(maskstr.replace('X', '0'), 2)\n",
    "    }\n",
    "    \n",
    "\n",
    "def applymask(mask, n):\n",
    "    for k, v in mask.items():\n",
    "        if k == 'dis':\n",
    "            n = n | v\n",
    "        elif k == 'con':\n",
    "            n = n & v\n",
    "        else:\n",
    "            raise ValueError(\"Unknown mask type: %s %s\" % (k, v))\n",
    "    return n"
   ]
  },
  {
   "cell_type": "code",
   "execution_count": 6,
   "metadata": {},
   "outputs": [
    {
     "name": "stdout",
     "output_type": "stream",
     "text": [
      "n =  165\n",
      "mask = {'con': 153, 'dis': 9}\n",
      "applied =  137\n"
     ]
    }
   ],
   "source": [
    "n = int('10100101', 2)\n",
    "print('n = ', n)\n",
    "mask = makemask('X00X1001')\n",
    "print('mask =', mask)\n",
    "print('applied = ', applymask(mask, n))"
   ]
  },
  {
   "cell_type": "code",
   "execution_count": 7,
   "metadata": {},
   "outputs": [],
   "source": [
    "def parse_data(line):\n",
    "    if line.startswith('mask'):\n",
    "        return ('mask', line[len('mask = '):])\n",
    "    elif line.startswith('mem'):\n",
    "        return ('mem', tuple(int(x) for x in re.findall(r'\\d+', line)))\n",
    "    else:\n",
    "        raise ValueError('Unknown data: %s' % line)"
   ]
  },
  {
   "cell_type": "code",
   "execution_count": 8,
   "metadata": {},
   "outputs": [
    {
     "data": {
      "text/plain": [
       "[('mask', '1X01XXX001101X00001100X1010X10101101'),\n",
       " ('mem', (62085, 231745)),\n",
       " ('mem', (14249, 1252796))]"
      ]
     },
     "execution_count": 8,
     "metadata": {},
     "output_type": "execute_result"
    }
   ],
   "source": [
    "[parse_data(line) for line in data[:3]]"
   ]
  },
  {
   "cell_type": "code",
   "execution_count": 9,
   "metadata": {},
   "outputs": [],
   "source": [
    "mask = None\n",
    "registers = {}\n",
    "for line in data:\n",
    "    cmd, arg = parse_data(line)\n",
    "    if cmd == 'mask':\n",
    "        mask = makemask(arg)\n",
    "    else:\n",
    "        k, v = arg\n",
    "        registers[k] = applymask(mask, v)"
   ]
  },
  {
   "cell_type": "code",
   "execution_count": 10,
   "metadata": {},
   "outputs": [
    {
     "data": {
      "text/plain": [
       "10050490168421"
      ]
     },
     "execution_count": 10,
     "metadata": {},
     "output_type": "execute_result"
    }
   ],
   "source": [
    "part_1 = sum(registers.values())\n",
    "part_1"
   ]
  },
  {
   "cell_type": "code",
   "execution_count": 19,
   "metadata": {},
   "outputs": [],
   "source": [
    "def make_floatmasks(maskstr):\n",
    "    basemask = makemask(maskstr)\n",
    "    del basemask['con']\n",
    "    D = {\n",
    "        'base': basemask,\n",
    "        'masks': []\n",
    "    }\n",
    "    xis = [i for (i, x) in enumerate(maskstr) if x == 'X']\n",
    "    for bits in product(['0', '1'], repeat=len(xis)):\n",
    "        L = ['X'] * 36\n",
    "        for i, b in zip(xis, bits):\n",
    "            L[i] = b\n",
    "        D['masks'].append(makemask(''.join(L)))\n",
    "    return D\n",
    "\n",
    "        \n",
    "def apply_floatmasks(floatmasks, n):\n",
    "    base = applymask(floatmasks['base'], n)\n",
    "    masks = floatmasks['masks']\n",
    "    if not masks:\n",
    "        yield base\n",
    "    for m in masks:\n",
    "        yield applymask(m, base)"
   ]
  },
  {
   "cell_type": "code",
   "execution_count": 20,
   "metadata": {},
   "outputs": [
    {
     "data": {
      "text/plain": [
       "[26, 27, 58, 59]"
      ]
     },
     "execution_count": 20,
     "metadata": {},
     "output_type": "execute_result"
    }
   ],
   "source": [
    "maskstr = '000000000000000000000000000000X1001X'\n",
    "addr = 42\n",
    "fm = make_floatmasks(maskstr)\n",
    "list(apply_floatmasks(fm, addr))"
   ]
  },
  {
   "cell_type": "code",
   "execution_count": 21,
   "metadata": {},
   "outputs": [
    {
     "data": {
      "text/plain": [
       "[16, 17, 18, 19, 24, 25, 26, 27]"
      ]
     },
     "execution_count": 21,
     "metadata": {},
     "output_type": "execute_result"
    }
   ],
   "source": [
    "maskstr = '00000000000000000000000000000000X0XX'\n",
    "addr = 26\n",
    "fm = make_floatmasks(maskstr)\n",
    "list(apply_floatmasks(fm, addr))"
   ]
  },
  {
   "cell_type": "code",
   "execution_count": 22,
   "metadata": {},
   "outputs": [],
   "source": [
    "floatmasks = None\n",
    "registers = {}\n",
    "for line in data:\n",
    "    cmd, arg = parse_data(line)\n",
    "    if cmd == 'mask':\n",
    "        floatmasks = make_floatmasks(arg)\n",
    "    else:\n",
    "        k, v = arg\n",
    "        for reg in apply_floatmasks(floatmasks, k):\n",
    "            registers[reg] = v"
   ]
  },
  {
   "cell_type": "code",
   "execution_count": 23,
   "metadata": {},
   "outputs": [
    {
     "data": {
      "text/plain": [
       "2173858456958"
      ]
     },
     "execution_count": 23,
     "metadata": {},
     "output_type": "execute_result"
    }
   ],
   "source": [
    "part_2 = sum(registers.values())\n",
    "part_2"
   ]
  },
  {
   "cell_type": "markdown",
   "metadata": {},
   "source": [
    "## post"
   ]
  },
  {
   "cell_type": "code",
   "execution_count": 31,
   "metadata": {},
   "outputs": [
    {
     "name": "stdout",
     "output_type": "stream",
     "text": [
      "CPU times: user 91.5 ms, sys: 0 ns, total: 91.5 ms\n",
      "Wall time: 90.4 ms\n"
     ]
    }
   ],
   "source": [
    "%%time\n",
    "\n",
    "import re\n",
    "from itertools import product\n",
    "\n",
    "with open(datafile) as fh:\n",
    "    data = [y for y in (x.strip() for x in fh) if y]\n",
    "\n",
    "    \n",
    "def parse_command(line):\n",
    "    if line.startswith('mask'):\n",
    "        return ('mask', line[len('mask = '):])\n",
    "    elif line.startswith('mem'):\n",
    "        return ('mem', tuple(int(x) for x in re.findall(r'\\d+', line)))\n",
    "    else:\n",
    "        raise ValueError('Unknown command: %s' % line)\n",
    "\n",
    "# Part 1\n",
    "        \n",
    "def make_mask(maskstr):\n",
    "    return {\n",
    "        'con': int(maskstr.replace('X', '1'), 2),\n",
    "        'dis': int(maskstr.replace('X', '0'), 2)\n",
    "    }\n",
    "    \n",
    "\n",
    "def apply_mask(mask, n):\n",
    "    for k, v in mask.items():\n",
    "        if k == 'dis':\n",
    "            n = n | v\n",
    "        elif k == 'con':\n",
    "            n = n & v\n",
    "        else:\n",
    "            raise ValueError(\"Unknown mask type: %s %s\" % (k, v))\n",
    "    return n\n",
    "\n",
    "mask = None\n",
    "registers = {}\n",
    "for line in data:\n",
    "    cmd, arg = parse_command(line)\n",
    "    if cmd == 'mask':\n",
    "        mask = make_mask(arg)\n",
    "    else:\n",
    "        k, v = arg\n",
    "        registers[k] = apply_mask(mask, v)\n",
    "\n",
    "part_1 = sum(registers.values())\n",
    "\n",
    "# Part 2\n",
    "\n",
    "def make_floatmasks(maskstr):\n",
    "    basemask = make_mask(maskstr)\n",
    "    del basemask['con']\n",
    "    D = {\n",
    "        'base': basemask,\n",
    "        'masks': []\n",
    "    }\n",
    "    xis = [i for (i, x) in enumerate(maskstr) if x == 'X']\n",
    "    for bits in product(['0', '1'], repeat=len(xis)):\n",
    "        L = ['X'] * 36\n",
    "        for i, b in zip(xis, bits):\n",
    "            L[i] = b\n",
    "        D['masks'].append(make_mask(''.join(L)))\n",
    "    return D\n",
    "\n",
    "        \n",
    "def apply_floatmasks(floatmasks, n):\n",
    "    base = apply_mask(floatmasks['base'], n)\n",
    "    masks = floatmasks['masks']\n",
    "    if not masks:\n",
    "        yield base\n",
    "    for m in masks:\n",
    "        yield apply_mask(m, base)\n",
    "\n",
    "\n",
    "floatmasks = None\n",
    "registers = {}\n",
    "for line in data:\n",
    "    cmd, arg = parse_command(line)\n",
    "    if cmd == 'mask':\n",
    "        floatmasks = make_floatmasks(arg)\n",
    "    else:\n",
    "        k, v = arg\n",
    "        for reg in apply_floatmasks(floatmasks, k):\n",
    "            registers[reg] = v\n",
    "\n",
    "part_2 = sum(registers.values())"
   ]
  },
  {
   "cell_type": "code",
   "execution_count": 30,
   "metadata": {},
   "outputs": [
    {
     "data": {
      "text/plain": [
       "(10050490168421, 2173858456958)"
      ]
     },
     "execution_count": 30,
     "metadata": {},
     "output_type": "execute_result"
    }
   ],
   "source": [
    "part_1, part_2"
   ]
  }
 ],
 "metadata": {
  "kernelspec": {
   "display_name": "Python 3",
   "language": "python",
   "name": "python3"
  },
  "language_info": {
   "codemirror_mode": {
    "name": "ipython",
    "version": 3
   },
   "file_extension": ".py",
   "mimetype": "text/x-python",
   "name": "python",
   "nbconvert_exporter": "python",
   "pygments_lexer": "ipython3",
   "version": "3.8.5"
  }
 },
 "nbformat": 4,
 "nbformat_minor": 4
}
