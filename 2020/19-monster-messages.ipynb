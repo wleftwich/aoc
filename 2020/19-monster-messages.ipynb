{
 "cells": [
  {
   "cell_type": "markdown",
   "metadata": {},
   "source": [
    "https://adventofcode.com/2020/day/19"
   ]
  },
  {
   "cell_type": "code",
   "execution_count": 8,
   "metadata": {},
   "outputs": [],
   "source": [
    "import re\n",
    "import copy\n",
    "\n",
    "datafile = 'data/19-1.txt'\n",
    "\n",
    "with open(datafile) as fh:\n",
    "    txt = fh.read()\n",
    "    rulestxt, datatxt = txt.split('\\n\\n')\n",
    "\n",
    "data = [y for y in (x.strip() for x in datatxt.split('\\n')) if y]\n",
    "\n",
    "def make_rules(lines):\n",
    "    D = {}\n",
    "    for line in lines:\n",
    "        if not line:\n",
    "            continue\n",
    "        k, v = line.strip().split(':')\n",
    "        v = v.replace('\"', '')\n",
    "        if '|' in v:\n",
    "            v = '(?: ' + v + ' )'\n",
    "        D[k] = v.split()\n",
    "    return D\n",
    "\n",
    "rules = make_rules(rulestxt.split('\\n'))\n",
    "\n",
    "def rules_to_re(rules):\n",
    "    L = rules['0'].copy()\n",
    "    while any(x.isdigit() for x in L):\n",
    "        i, k = next((i,x) for (i, x) in enumerate(L) if x.isdigit())\n",
    "        L[i:i+1] = rules[k].copy()\n",
    "    L.append('$')\n",
    "    return re.compile(''.join(L))\n",
    "\n",
    "rules_re_1 = rules_to_re(rules)\n",
    "part_1 = sum(bool(rules_re_1.match(x)) for x in data)\n",
    "\n",
    "rules_2 = copy.deepcopy(rules)\n",
    "rules_2['8'] = ['(?:', '42', ')+']\n",
    "rules_2['11'] = [\n",
    "    '(?:',\n",
    "    '(?:', '(?:', '42', ')', '{1}', '(?:', '31', ')', '{1}', ')', '|',\n",
    "    '(?:', '(?:', '42', ')', '{2}', '(?:', '31', ')', '{2}', ')', '|',\n",
    "    '(?:', '(?:', '42', ')', '{3}', '(?:', '31', ')', '{3}', ')', '|',\n",
    "    '(?:', '(?:', '42', ')', '{4}', '(?:', '31', ')', '{4}', ')', '|',\n",
    "    '(?:', '(?:', '42', ')', '{5}', '(?:', '31', ')', '{5}', ')', '|',\n",
    "    '(?:', '(?:', '42', ')', '{6}', '(?:', '31', ')', '{6}', ')', '|',\n",
    "    '(?:', '(?:', '42', ')', '{7}', '(?:', '31', ')', '{7}', ')', '|',\n",
    "    '(?:', '(?:', '42', ')', '{8}', '(?:', '31', ')', '{8}', ')', '|',\n",
    "    '(?:', '(?:', '42', ')', '{9}', '(?:', '31', ')', '{9}', ')',\n",
    "    ')'\n",
    "]\n",
    "\n",
    "rules_re_2 = rules_to_re(rules_2)\n",
    "part_2 = sum(bool(rules_re_2.match(x)) for x in data)\n"
   ]
  },
  {
   "cell_type": "code",
   "execution_count": 10,
   "metadata": {},
   "outputs": [
    {
     "data": {
      "text/plain": [
       "(216, 400)"
      ]
     },
     "execution_count": 10,
     "metadata": {},
     "output_type": "execute_result"
    }
   ],
   "source": [
    "part_1, part_2"
   ]
  }
 ],
 "metadata": {
  "kernelspec": {
   "display_name": "Python 3",
   "language": "python",
   "name": "python3"
  },
  "language_info": {
   "codemirror_mode": {
    "name": "ipython",
    "version": 3
   },
   "file_extension": ".py",
   "mimetype": "text/x-python",
   "name": "python",
   "nbconvert_exporter": "python",
   "pygments_lexer": "ipython3",
   "version": "3.8.5"
  }
 },
 "nbformat": 4,
 "nbformat_minor": 4
}
