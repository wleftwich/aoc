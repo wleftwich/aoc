{
 "cells": [
  {
   "cell_type": "code",
   "execution_count": 4,
   "metadata": {},
   "outputs": [
    {
     "name": "stdout",
     "output_type": "stream",
     "text": [
      "Slopes: [(1, 1), (3, 1), (5, 1), (7, 1), (1, 2)]\n",
      "Runs: [55, 250, 54, 55, 39]\n",
      "Product: 1592662500\n"
     ]
    }
   ],
   "source": [
    "import operator\n",
    "from functools import reduce\n",
    "\n",
    "datafile = 'data/03-1.txt'\n",
    "with open(datafile) as fh:\n",
    "    data = [y for y in (x.strip() for x in fh) if y]\n",
    "\n",
    "slopes = [(1, 1), (3, 1), (5, 1), (7, 1), (1, 2)]\n",
    "\n",
    "def slope_trees(r, d, data):\n",
    "    trees = 0\n",
    "    for y, row in enumerate(data):\n",
    "        x, rem = divmod(y * r, d)\n",
    "        if not rem and row[x % len(row)] == '#':\n",
    "            trees += 1\n",
    "    return trees\n",
    "\n",
    "runs = [slope_trees(r, d, data) for (r, d) in slopes]\n",
    "tree_prod = reduce(operator.mul, runs, 1)\n",
    "\n",
    "print(\"Slopes:\", slopes)\n",
    "print(\"Runs:\", runs)\n",
    "print(\"Product:\", tree_prod)"
   ]
  }
 ],
 "metadata": {
  "kernelspec": {
   "display_name": "Python 3",
   "language": "python",
   "name": "python3"
  },
  "language_info": {
   "codemirror_mode": {
    "name": "ipython",
    "version": 3
   },
   "file_extension": ".py",
   "mimetype": "text/x-python",
   "name": "python",
   "nbconvert_exporter": "python",
   "pygments_lexer": "ipython3",
   "version": "3.8.5"
  }
 },
 "nbformat": 4,
 "nbformat_minor": 4
}
