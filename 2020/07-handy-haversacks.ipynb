{
 "cells": [
  {
   "cell_type": "markdown",
   "metadata": {},
   "source": [
    "https://adventofcode.com/2020/day/7"
   ]
  },
  {
   "cell_type": "code",
   "execution_count": 47,
   "metadata": {},
   "outputs": [],
   "source": [
    "from collections import deque\n",
    "\n",
    "import networkx as nx\n",
    "from toolz import partition"
   ]
  },
  {
   "cell_type": "code",
   "execution_count": 48,
   "metadata": {},
   "outputs": [],
   "source": [
    "datafile = 'data/07-1.txt'"
   ]
  },
  {
   "cell_type": "code",
   "execution_count": 49,
   "metadata": {},
   "outputs": [],
   "source": [
    "def parse_line(s):\n",
    "    \"\"\"\n",
    "    'pale indigo bags contain 3 pale orange bags, 5 muted bronze bags, 2 pale tan bags, 3 posh fuchsia bags.'\n",
    "    ->\n",
    "    [('pale indigo', 'pale orange', 3),\n",
    "     ('pale indigo', 'muted bronze', 5),\n",
    "     ('pale indigo', 'pale tan', 2),\n",
    "     ('pale indigo', 'posh fuchsia', 3)]\n",
    "    \"\"\"\n",
    "    tokens = s.split()\n",
    "    if tokens[4] == 'no':\n",
    "        return []\n",
    "    outer = ' '.join(tokens[:2])\n",
    "    bags = []\n",
    "    for subtokens in partition(4, tokens[4:]):\n",
    "        count = int(subtokens[0])\n",
    "        inner = ' '.join(subtokens[1:3])\n",
    "        bags.append((outer, inner, count))\n",
    "    return bags"
   ]
  },
  {
   "cell_type": "code",
   "execution_count": 50,
   "metadata": {},
   "outputs": [
    {
     "data": {
      "text/plain": [
       "[('pale indigo', 'pale orange', 3),\n",
       " ('pale indigo', 'muted bronze', 5),\n",
       " ('pale indigo', 'pale tan', 2),\n",
       " ('pale indigo', 'posh fuchsia', 3)]"
      ]
     },
     "execution_count": 50,
     "metadata": {},
     "output_type": "execute_result"
    }
   ],
   "source": [
    "line = 'pale indigo bags contain 3 pale orange bags, 5 muted bronze bags, 2 pale tan bags, 3 posh fuchsia bags.'\n",
    "parse_line(line)"
   ]
  },
  {
   "cell_type": "code",
   "execution_count": 51,
   "metadata": {},
   "outputs": [],
   "source": [
    "def parse_data(lines):\n",
    "    data = []\n",
    "    for line in lines:\n",
    "        data.extend(parse_line(line))\n",
    "    return data"
   ]
  },
  {
   "cell_type": "code",
   "execution_count": 52,
   "metadata": {},
   "outputs": [],
   "source": [
    "with open(datafile) as fh:\n",
    "    data = parse_data(fh)"
   ]
  },
  {
   "cell_type": "code",
   "execution_count": 53,
   "metadata": {},
   "outputs": [
    {
     "data": {
      "text/plain": [
       "(1403,\n",
       " [('wavy green', 'posh black', 1),\n",
       "  ('wavy green', 'faded green', 1),\n",
       "  ('wavy green', 'wavy red', 4),\n",
       "  ('dotted chartreuse', 'light beige', 1),\n",
       "  ('dark white', 'dotted white', 2),\n",
       "  ('clear aqua', 'posh orange', 4),\n",
       "  ('clear aqua', 'pale blue', 4),\n",
       "  ('faded green', 'plaid orange', 2),\n",
       "  ('faded green', 'drab green', 4),\n",
       "  ('faded green', 'pale aqua', 4)])"
      ]
     },
     "execution_count": 53,
     "metadata": {},
     "output_type": "execute_result"
    }
   ],
   "source": [
    "len(data), data[:10]"
   ]
  },
  {
   "cell_type": "code",
   "execution_count": 8,
   "metadata": {},
   "outputs": [
    {
     "data": {
      "text/plain": [
       "[('clear silver', 'drab turquoise', 3),\n",
       " ('clear silver', 'drab purple', 4),\n",
       " ('vibrant cyan', 'vibrant plum', 5)]"
      ]
     },
     "execution_count": 8,
     "metadata": {},
     "output_type": "execute_result"
    }
   ],
   "source": [
    "data[-3:]"
   ]
  },
  {
   "cell_type": "code",
   "execution_count": 9,
   "metadata": {},
   "outputs": [],
   "source": [
    "DG = nx.DiGraph()\n",
    "DG.add_weighted_edges_from(data)"
   ]
  },
  {
   "cell_type": "code",
   "execution_count": 10,
   "metadata": {},
   "outputs": [
    {
     "data": {
      "text/plain": [
       "AtlasView({'dotted magenta': {'weight': 3}, 'shiny beige': {'weight': 2}, 'plaid brown': {'weight': 3}, 'clear indigo': {'weight': 5}})"
      ]
     },
     "execution_count": 10,
     "metadata": {},
     "output_type": "execute_result"
    }
   ],
   "source": [
    "DG['shiny gold']"
   ]
  },
  {
   "cell_type": "code",
   "execution_count": 11,
   "metadata": {},
   "outputs": [],
   "source": [
    "def count_outers(bag, g=DG):\n",
    "    tocheck = set(g.predecessors(bag))\n",
    "    preds = set()\n",
    "    while tocheck:\n",
    "        node = tocheck.pop()\n",
    "        preds.add(node)\n",
    "        tocheck.update(set(g.predecessors(node)).difference(preds))\n",
    "    return len(preds)"
   ]
  },
  {
   "cell_type": "markdown",
   "metadata": {},
   "source": [
    "# 1"
   ]
  },
  {
   "cell_type": "code",
   "execution_count": 12,
   "metadata": {},
   "outputs": [
    {
     "data": {
      "text/plain": [
       "169"
      ]
     },
     "execution_count": 12,
     "metadata": {},
     "output_type": "execute_result"
    }
   ],
   "source": [
    "count_outers('shiny gold')"
   ]
  },
  {
   "cell_type": "code",
   "execution_count": 13,
   "metadata": {},
   "outputs": [
    {
     "data": {
      "text/plain": [
       "AtlasView({'dotted magenta': {'weight': 3}, 'shiny beige': {'weight': 2}, 'plaid brown': {'weight': 3}, 'clear indigo': {'weight': 5}})"
      ]
     },
     "execution_count": 13,
     "metadata": {},
     "output_type": "execute_result"
    }
   ],
   "source": [
    "node = DG['shiny gold']\n",
    "node"
   ]
  },
  {
   "cell_type": "code",
   "execution_count": 14,
   "metadata": {},
   "outputs": [
    {
     "data": {
      "text/plain": [
       "[('dotted magenta', {'weight': 3}),\n",
       " ('shiny beige', {'weight': 2}),\n",
       " ('plaid brown', {'weight': 3}),\n",
       " ('clear indigo', {'weight': 5})]"
      ]
     },
     "execution_count": 14,
     "metadata": {},
     "output_type": "execute_result"
    }
   ],
   "source": [
    "list(node.items())"
   ]
  },
  {
   "cell_type": "code",
   "execution_count": 15,
   "metadata": {},
   "outputs": [],
   "source": [
    "def count_inners(bag, g=DG):\n",
    "    count = 0\n",
    "    q = deque()\n",
    "    for node, attrs in g[bag].items():\n",
    "        n = attrs['weight']\n",
    "        q.extend([node] * n)\n",
    "        count += n\n",
    "    while q:\n",
    "        bag = q.popleft()\n",
    "        for node, attrs in g[bag].items():\n",
    "            n = attrs['weight']\n",
    "            q.extend([node] * n)\n",
    "            count += n\n",
    "    return count"
   ]
  },
  {
   "cell_type": "markdown",
   "metadata": {},
   "source": [
    "# 2"
   ]
  },
  {
   "cell_type": "code",
   "execution_count": 16,
   "metadata": {},
   "outputs": [
    {
     "data": {
      "text/plain": [
       "82372"
      ]
     },
     "execution_count": 16,
     "metadata": {},
     "output_type": "execute_result"
    }
   ],
   "source": [
    "count_inners('shiny gold')"
   ]
  },
  {
   "cell_type": "markdown",
   "metadata": {},
   "source": [
    "## reddit"
   ]
  },
  {
   "cell_type": "code",
   "execution_count": 39,
   "metadata": {},
   "outputs": [],
   "source": [
    "from collections import deque\n",
    "\n",
    "import networkx as nx\n",
    "from toolz import partition_all\n",
    "\n",
    "def parse_data(lines):\n",
    "    data = []\n",
    "    for line in lines:\n",
    "        data.extend(parse_line(line))\n",
    "    return data\n",
    "\n",
    "def parse_line(s):\n",
    "    \"\"\"\n",
    "    'pale indigo bags contain 3 pale orange bags, 5 muted bronze bags, 2 pale tan bags, 3 posh fuchsia bags.'\n",
    "    ->\n",
    "    [('pale indigo', 'pale orange', 3),\n",
    "     ('pale indigo', 'muted bronze', 5),\n",
    "     ('pale indigo', 'pale tan', 2),\n",
    "     ('pale indigo', 'posh fuchsia', 3)]\n",
    "    \"\"\"\n",
    "    tokens = s.split()\n",
    "    if tokens[4] == 'no':\n",
    "        return []\n",
    "    outer = ' '.join(tokens[:2])\n",
    "    bags = []\n",
    "    for subtokens in partition_all(4, tokens[4:]):\n",
    "        count = int(subtokens[0])\n",
    "        inner = ' '.join(subtokens[1:3])\n",
    "        bags.append((outer, inner, count))\n",
    "    return bags\n",
    "\n",
    "with open(datafile) as fh:\n",
    "    data = parse_data(fh)\n",
    "\n",
    "DG = nx.DiGraph()\n",
    "DG.add_weighted_edges_from(data)\n",
    "\n",
    "def count_outers(bag, g=DG):\n",
    "    tocheck = set(g.predecessors(bag))\n",
    "    preds = set()\n",
    "    while tocheck:\n",
    "        node = tocheck.pop()\n",
    "        preds.add(node)\n",
    "        tocheck.update(set(g.predecessors(node)).difference(preds))\n",
    "    return len(preds)\n",
    "\n",
    "part_1 = count_outers('shiny gold')\n",
    "\n",
    "def count_inners(bag, g=DG):\n",
    "    count = 0\n",
    "    q = deque()\n",
    "    \n",
    "    def count_bag(b):\n",
    "        nonlocal count\n",
    "        for node, attrs in g[b].items():\n",
    "            n = attrs['weight']\n",
    "            q.extend([node] * n)\n",
    "            count += n\n",
    "\n",
    "    count_bag(bag)\n",
    "    while q:\n",
    "        count_bag(q.popleft())\n",
    "    return count\n",
    "\n",
    "part_2 = count_inners('shiny gold')"
   ]
  },
  {
   "cell_type": "code",
   "execution_count": 40,
   "metadata": {},
   "outputs": [
    {
     "data": {
      "text/plain": [
       "(169, 82372)"
      ]
     },
     "execution_count": 40,
     "metadata": {},
     "output_type": "execute_result"
    }
   ],
   "source": [
    "part_1, part_2"
   ]
  },
  {
   "cell_type": "code",
   "execution_count": 45,
   "metadata": {},
   "outputs": [
    {
     "data": {
      "text/plain": [
       "169"
      ]
     },
     "execution_count": 45,
     "metadata": {},
     "output_type": "execute_result"
    }
   ],
   "source": [
    "len(nx.ancestors(DG, 'shiny gold'))"
   ]
  },
  {
   "cell_type": "markdown",
   "metadata": {},
   "source": [
    "## improved"
   ]
  },
  {
   "cell_type": "code",
   "execution_count": 58,
   "metadata": {},
   "outputs": [
    {
     "name": "stdout",
     "output_type": "stream",
     "text": [
      "169\n",
      "82372\n"
     ]
    }
   ],
   "source": [
    "import networkx as nx\n",
    "from toolz import partition\n",
    "\n",
    "def parse_data(lines):\n",
    "    data = []\n",
    "    for line in lines:\n",
    "        data.extend(parse_line(line))\n",
    "    return data\n",
    "\n",
    "def parse_line(s):\n",
    "    \"\"\"\n",
    "    'pale indigo bags contain 3 pale orange bags, 5 muted bronze bags, 2 pale tan bags, 3 posh fuchsia bags.'\n",
    "    ->\n",
    "    [('pale indigo', 'pale orange', 3),\n",
    "     ('pale indigo', 'muted bronze', 5),\n",
    "     ('pale indigo', 'pale tan', 2),\n",
    "     ('pale indigo', 'posh fuchsia', 3)]\n",
    "    \"\"\"\n",
    "    tokens = s.split()\n",
    "    if tokens[4] == 'no':\n",
    "        return []\n",
    "    outer = ' '.join(tokens[:2])\n",
    "    bags = []\n",
    "    for subtokens in partition(4, tokens[4:]):\n",
    "        count = int(subtokens[0])\n",
    "        inner = ' '.join(subtokens[1:3])\n",
    "        bags.append((outer, inner, count))\n",
    "    return bags\n",
    "\n",
    "with open(datafile) as fh:\n",
    "    data = parse_data(fh)\n",
    "\n",
    "DG = nx.DiGraph()\n",
    "DG.add_weighted_edges_from(data)\n",
    "\n",
    "part_1 = len(nx.ancestors(DG, 'shiny gold'))\n",
    "\n",
    "def count_inners(bag, g=DG):\n",
    "    count = 0\n",
    "    stack = []\n",
    "    \n",
    "    def count_bag(b):\n",
    "        nonlocal count\n",
    "        for node, attrs in g[b].items():\n",
    "            n = attrs['weight']\n",
    "            stack.extend([node] * n)\n",
    "            count += n\n",
    "\n",
    "    count_bag(bag)\n",
    "    while stack:\n",
    "        count_bag(stack.pop())\n",
    "    return count\n",
    "\n",
    "part_2 = count_inners('shiny gold')\n",
    "\n",
    "print(part_1)\n",
    "print(part_2)"
   ]
  },
  {
   "cell_type": "code",
   "execution_count": null,
   "metadata": {},
   "outputs": [],
   "source": []
  }
 ],
 "metadata": {
  "kernelspec": {
   "display_name": "Python 3",
   "language": "python",
   "name": "python3"
  },
  "language_info": {
   "codemirror_mode": {
    "name": "ipython",
    "version": 3
   },
   "file_extension": ".py",
   "mimetype": "text/x-python",
   "name": "python",
   "nbconvert_exporter": "python",
   "pygments_lexer": "ipython3",
   "version": "3.8.5"
  }
 },
 "nbformat": 4,
 "nbformat_minor": 4
}
