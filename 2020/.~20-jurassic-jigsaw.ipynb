{
 "cells": [
  {
   "cell_type": "code",
   "execution_count": 1,
   "metadata": {},
   "outputs": [],
   "source": [
    "from collections import deque, defaultdict\n",
    "from itertools import combinations, product\n",
    "from toolz import concat, take\n",
    "import numpy as np\n",
    "import networkx as nx\n",
    "import math\n"
   ]
  },
  {
   "cell_type": "code",
   "execution_count": 2,
   "metadata": {},
   "outputs": [],
   "source": [
    "NESW = [0+1j, 1+0j, 0-1j, -1+0j]\n",
    "\n",
    "def parse_data(txt):\n",
    "    recs = txt.split('\\n\\n')\n",
    "    return [parse_rec(rec) for rec in recs]\n",
    "\n",
    "def parse_rec(rec):\n",
    "    lines = [y for y in (x.strip() for x in rec.split('\\n')) if y]\n",
    "    label = lines[0].split()[1][:-1]\n",
    "    edges = [\n",
    "        # N, E, S, W\n",
    "        lines[1],\n",
    "        ''.join(x[-1] for x in lines[1:]),\n",
    "        lines[-1],\n",
    "        ''.join(x[0] for x in lines[1:])\n",
    "    ]\n",
    "    return (label, edges)"
   ]
  },
  {
   "cell_type": "code",
   "execution_count": 3,
   "metadata": {},
   "outputs": [],
   "source": [
    "def encode_edges(edges):\n",
    "    return [int(e.replace('#', '1').replace('.', '0'), 2) for e in edges]"
   ]
  },
  {
   "cell_type": "code",
   "execution_count": 4,
   "metadata": {},
   "outputs": [
    {
     "data": {
      "text/plain": [
       "('2311', ['..##.#..#.', '...#.##..#', '..###..###', '.#####..#.'])"
      ]
     },
     "execution_count": 4,
     "metadata": {},
     "output_type": "execute_result"
    }
   ],
   "source": [
    "label, edges = parse_rec(\n",
    "\"\"\"\\\n",
    "Tile 2311:\n",
    "..##.#..#.\n",
    "##..#.....\n",
    "#...##..#.\n",
    "####.#...#\n",
    "##.##.###.\n",
    "##...#.###\n",
    ".#.#.#..##\n",
    "..#....#..\n",
    "###...#.#.\n",
    "..###..###\n",
    "\"\"\")\n",
    "label, edges"
   ]
  },
  {
   "cell_type": "code",
   "execution_count": 5,
   "metadata": {},
   "outputs": [
    {
     "data": {
      "text/plain": [
       "[210, 89, 231, 498]"
      ]
     },
     "execution_count": 5,
     "metadata": {},
     "output_type": "execute_result"
    }
   ],
   "source": [
    "encode_edges(edges)"
   ]
  },
  {
   "cell_type": "code",
   "execution_count": 6,
   "metadata": {},
   "outputs": [],
   "source": [
    "testtxt = \"\"\"\\\n",
    "Tile 2311:\n",
    "..##.#..#.\n",
    "##..#.....\n",
    "#...##..#.\n",
    "####.#...#\n",
    "##.##.###.\n",
    "##...#.###\n",
    ".#.#.#..##\n",
    "..#....#..\n",
    "###...#.#.\n",
    "..###..###\n",
    "\n",
    "Tile 1951:\n",
    "#.##...##.\n",
    "#.####...#\n",
    ".....#..##\n",
    "#...######\n",
    ".##.#....#\n",
    ".###.#####\n",
    "###.##.##.\n",
    ".###....#.\n",
    "..#.#..#.#\n",
    "#...##.#..\n",
    "\n",
    "Tile 1171:\n",
    "####...##.\n",
    "#..##.#..#\n",
    "##.#..#.#.\n",
    ".###.####.\n",
    "..###.####\n",
    ".##....##.\n",
    ".#...####.\n",
    "#.##.####.\n",
    "####..#...\n",
    ".....##...\n",
    "\n",
    "Tile 1427:\n",
    "###.##.#..\n",
    ".#..#.##..\n",
    ".#.##.#..#\n",
    "#.#.#.##.#\n",
    "....#...##\n",
    "...##..##.\n",
    "...#.#####\n",
    ".#.####.#.\n",
    "..#..###.#\n",
    "..##.#..#.\n",
    "\n",
    "Tile 1489:\n",
    "##.#.#....\n",
    "..##...#..\n",
    ".##..##...\n",
    "..#...#...\n",
    "#####...#.\n",
    "#..#.#.#.#\n",
    "...#.#.#..\n",
    "##.#...##.\n",
    "..##.##.##\n",
    "###.##.#..\n",
    "\n",
    "Tile 2473:\n",
    "#....####.\n",
    "#..#.##...\n",
    "#.##..#...\n",
    "######.#.#\n",
    ".#...#.#.#\n",
    ".#########\n",
    ".###.#..#.\n",
    "########.#\n",
    "##...##.#.\n",
    "..###.#.#.\n",
    "\n",
    "Tile 2971:\n",
    "..#.#....#\n",
    "#...###...\n",
    "#.#.###...\n",
    "##.##..#..\n",
    ".#####..##\n",
    ".#..####.#\n",
    "#..#.#..#.\n",
    "..####.###\n",
    "..#.#.###.\n",
    "...#.#.#.#\n",
    "\n",
    "Tile 2729:\n",
    "...#.#.#.#\n",
    "####.#....\n",
    "..#.#.....\n",
    "....#..#.#\n",
    ".##..##.#.\n",
    ".#.####...\n",
    "####.#.#..\n",
    "##.####...\n",
    "##..#.##..\n",
    "#.##...##.\n",
    "\n",
    "Tile 3079:\n",
    "#.#.#####.\n",
    ".#..######\n",
    "..#.......\n",
    "######....\n",
    "####.#..#.\n",
    ".#...#.##.\n",
    "#.#####.##\n",
    "..#.###...\n",
    "..#.......\n",
    "..#.###...\n",
    "\"\"\"\n",
    "testdata = parse_data(testtxt)"
   ]
  },
  {
   "cell_type": "code",
   "execution_count": 7,
   "metadata": {},
   "outputs": [],
   "source": [
    "def reflect_v(t):\n",
    "    t[0], t[2] = t[2], t[0]\n",
    "    t[1] = ''.join(reversed(t[1]))\n",
    "    t[3] = ''.join(reversed(t[3]))\n",
    "\n",
    "def reflect_h(t):\n",
    "    t[1], t[3] = t[3], t[1]\n",
    "    t[0] = ''.join(reversed(t[0]))\n",
    "    t[2] = ''.join(reversed(t[2]))\n",
    "\n",
    "def list_orientations(tile):\n",
    "    L = []\n",
    "    dq = deque(tile)\n",
    "    for _ in range(4):\n",
    "        L.append(tuple(dq)) # N, 1j\n",
    "        reflect_v(dq)\n",
    "        L.append(tuple(dq)) # E, 1\n",
    "        reflect_h(dq)\n",
    "        L.append(tuple(dq)) # S, -1j\n",
    "        reflect_v(dq)\n",
    "        L.append(tuple(dq)) # W, -1\n",
    "        dq.rotate()\n",
    "    return L\n",
    "\n",
    "def load_data(data):\n",
    "    tiles = np.empty((len(data), 16, 4), dtype=int)\n",
    "    labels = []\n",
    "    for i, rec in enumerate(data):\n",
    "        label, tile = rec\n",
    "        labels.append(label)\n",
    "        for j, orient in enumerate(list_orientations(tile)):\n",
    "            for k, side in enumerate(orient):\n",
    "                tiles[i, j, k] = int(side.replace('#', '1').replace('.', '0'), 2)\n",
    "    return tiles, labels"
   ]
  },
  {
   "cell_type": "code",
   "execution_count": 8,
   "metadata": {},
   "outputs": [],
   "source": [
    "tiles, labels = load_data(testdata)"
   ]
  },
  {
   "cell_type": "code",
   "execution_count": 9,
   "metadata": {},
   "outputs": [
    {
     "data": {
      "text/plain": [
       "array([[[210,  89, 231, 498],\n",
       "        [231, 616, 210, 318],\n",
       "        [924, 318, 300, 616],\n",
       "        [300, 498, 924,  89],\n",
       "        [ 89, 300, 498, 924],\n",
       "        [498, 210,  89, 231],\n",
       "        [318, 231, 616, 210],\n",
       "        [616, 924, 318, 300],\n",
       "        [300, 616, 924, 318],\n",
       "        [924,  89, 300, 498],\n",
       "        [231, 498, 210,  89],\n",
       "        [210, 318, 231, 616],\n",
       "        [616, 210, 318, 231],\n",
       "        [318, 300, 616, 924],\n",
       "        [498, 924,  89, 300],\n",
       "        [ 89, 231, 498, 210]],\n",
       "\n",
       "       [[710, 498, 564, 841],\n",
       "        [564, 318, 710, 587],\n",
       "        [177, 587, 397, 318],\n",
       "        [397, 841, 177, 498],\n",
       "        [498, 397, 841, 177],\n",
       "        [841, 710, 498, 564],\n",
       "        [587, 564, 318, 710],\n",
       "        [318, 177, 587, 397],\n",
       "        [397, 318, 177, 587],\n",
       "        [177, 498, 397, 841],\n",
       "        [564, 841, 710, 498],\n",
       "        [710, 587, 564, 318],\n",
       "        [318, 710, 587, 564],\n",
       "        [587, 397, 318, 177],\n",
       "        [841, 177, 498, 397],\n",
       "        [498, 564, 841, 710]],\n",
       "\n",
       "       [[966, 288,  24, 902],\n",
       "        [ 24,  18, 966, 391],\n",
       "        [ 96, 391, 399,  18],\n",
       "        [399, 902,  96, 288],\n",
       "        [288, 399, 902,  96],\n",
       "        [902, 966, 288,  24],\n",
       "        [391,  24,  18, 966],\n",
       "        [ 18,  96, 391, 399],\n",
       "        [399,  18,  96, 391],\n",
       "        [ 96, 288, 399, 902],\n",
       "        [ 24, 902, 966, 288],\n",
       "        [966, 391,  24,  18],\n",
       "        [ 18, 966, 391,  24],\n",
       "        [391, 399,  18,  96],\n",
       "        [902,  96, 288, 399],\n",
       "        [288,  24, 902, 966]],\n",
       "\n",
       "       [[948, 234, 210, 576],\n",
       "        [210, 348, 948,   9],\n",
       "        [300,   9, 183, 348],\n",
       "        [183, 576, 300, 234],\n",
       "        [234, 183, 576, 300],\n",
       "        [576, 948, 234, 210],\n",
       "        [  9, 210, 348, 948],\n",
       "        [348, 300,   9, 183],\n",
       "        [183, 348, 300,   9],\n",
       "        [300, 234, 183, 576],\n",
       "        [210, 576, 948, 234],\n",
       "        [948,   9, 210, 348],\n",
       "        [348, 948,   9, 210],\n",
       "        [  9, 183, 348, 300],\n",
       "        [576, 300, 234, 183],\n",
       "        [234, 210, 576, 948]],\n",
       "\n",
       "       [[848,  18, 948, 565],\n",
       "        [948, 288, 848, 689],\n",
       "        [183, 689,  43, 288],\n",
       "        [ 43, 565, 183,  18],\n",
       "        [ 18,  43, 565, 183],\n",
       "        [565, 848,  18, 948],\n",
       "        [689, 948, 288, 848],\n",
       "        [288, 183, 689,  43],\n",
       "        [ 43, 288, 183, 689],\n",
       "        [183,  18,  43, 565],\n",
       "        [948, 565, 848,  18],\n",
       "        [848, 689, 948, 288],\n",
       "        [288, 848, 689, 948],\n",
       "        [689,  43, 288, 183],\n",
       "        [565, 183,  18,  43],\n",
       "        [ 18, 948, 565, 848]],\n",
       "\n",
       "       [[542, 116, 234, 966],\n",
       "        [234, 184, 542, 399],\n",
       "        [348, 399, 481, 184],\n",
       "        [481, 966, 348, 116],\n",
       "        [116, 481, 966, 348],\n",
       "        [966, 542, 116, 234],\n",
       "        [399, 234, 184, 542],\n",
       "        [184, 348, 399, 481],\n",
       "        [481, 184, 348, 399],\n",
       "        [348, 116, 481, 966],\n",
       "        [234, 966, 542, 116],\n",
       "        [542, 399, 234, 184],\n",
       "        [184, 542, 399, 234],\n",
       "        [399, 481, 184, 348],\n",
       "        [966, 348, 116, 481],\n",
       "        [116, 234, 966, 542]],\n",
       "\n",
       "       [[161, 565,  85, 456],\n",
       "        [ 85, 689, 161,  78],\n",
       "        [680,  78, 532, 689],\n",
       "        [532, 456, 680, 565],\n",
       "        [565, 532, 456, 680],\n",
       "        [456, 161, 565,  85],\n",
       "        [ 78,  85, 689, 161],\n",
       "        [689, 680,  78, 532],\n",
       "        [532, 689, 680,  78],\n",
       "        [680, 565, 532, 456],\n",
       "        [ 85, 456, 161, 565],\n",
       "        [161,  78,  85, 689],\n",
       "        [689, 161,  78,  85],\n",
       "        [ 78, 532, 689, 680],\n",
       "        [456, 680, 565, 532],\n",
       "        [565,  85, 456, 161]],\n",
       "\n",
       "       [[ 85, 576, 710, 271],\n",
       "        [710,   9,  85, 962],\n",
       "        [397, 962, 680,   9],\n",
       "        [680, 271, 397, 576],\n",
       "        [576, 680, 271, 397],\n",
       "        [271,  85, 576, 710],\n",
       "        [962, 710,   9,  85],\n",
       "        [  9, 397, 962, 680],\n",
       "        [680,   9, 397, 962],\n",
       "        [397, 576, 680, 271],\n",
       "        [710, 271,  85, 576],\n",
       "        [ 85, 962, 710,   9],\n",
       "        [  9,  85, 962, 710],\n",
       "        [962, 680,   9, 397],\n",
       "        [271, 397, 576, 680],\n",
       "        [576, 710, 271,  85]],\n",
       "\n",
       "       [[702, 264, 184, 616],\n",
       "        [184,  66, 702,  89],\n",
       "        [116,  89, 501,  66],\n",
       "        [501, 616, 116, 264],\n",
       "        [264, 501, 616, 116],\n",
       "        [616, 702, 264, 184],\n",
       "        [ 89, 184,  66, 702],\n",
       "        [ 66, 116,  89, 501],\n",
       "        [501,  66, 116,  89],\n",
       "        [116, 264, 501, 616],\n",
       "        [184, 616, 702, 264],\n",
       "        [702,  89, 184,  66],\n",
       "        [ 66, 702,  89, 184],\n",
       "        [ 89, 501,  66, 116],\n",
       "        [616, 116, 264, 501],\n",
       "        [264, 184, 616, 702]]])"
      ]
     },
     "execution_count": 9,
     "metadata": {},
     "output_type": "execute_result"
    }
   ],
   "source": [
    "tiles"
   ]
  },
  {
   "cell_type": "code",
   "execution_count": 10,
   "metadata": {},
   "outputs": [
    {
     "data": {
      "text/plain": [
       "['2311', '1951', '1171', '1427', '1489', '2473', '2971', '2729', '3079']"
      ]
     },
     "execution_count": 10,
     "metadata": {},
     "output_type": "execute_result"
    }
   ],
   "source": [
    "labels"
   ]
  },
  {
   "cell_type": "code",
   "execution_count": 11,
   "metadata": {},
   "outputs": [],
   "source": [
    "grid = {}"
   ]
  },
  {
   "cell_type": "code",
   "execution_count": 12,
   "metadata": {},
   "outputs": [
    {
     "data": {
      "text/plain": [
       "[(3, 0, 2), (3, 11, 2)]"
      ]
     },
     "execution_count": 12,
     "metadata": {},
     "output_type": "execute_result"
    }
   ],
   "source": [
    "ijks = list((i,j,k) for (i,j,k) in zip(*np.where(tiles==210)) if i != 0 and k == 2)\n",
    "ijks"
   ]
  },
  {
   "cell_type": "code",
   "execution_count": 13,
   "metadata": {},
   "outputs": [
    {
     "data": {
      "text/plain": [
       "(210, 210, 210)"
      ]
     },
     "execution_count": 13,
     "metadata": {},
     "output_type": "execute_result"
    }
   ],
   "source": [
    "tiles[(3,0,2)], tiles[3,0,2], tiles[3][0][2]"
   ]
  },
  {
   "cell_type": "code",
   "execution_count": 14,
   "metadata": {},
   "outputs": [],
   "source": [
    "def add_tile(pos, i, j, grid, tiles):\n",
    "    sides = {c: v for (c, v) in zip(NESW, tiles[i, j])}\n",
    "    grid[pos] = (i, j, sides)"
   ]
  },
  {
   "cell_type": "code",
   "execution_count": 15,
   "metadata": {},
   "outputs": [],
   "source": [
    "grid = {}"
   ]
  },
  {
   "cell_type": "code",
   "execution_count": 16,
   "metadata": {},
   "outputs": [],
   "source": [
    "add_tile(0, 0, 0, grid, tiles)"
   ]
  },
  {
   "cell_type": "code",
   "execution_count": 17,
   "metadata": {},
   "outputs": [
    {
     "data": {
      "text/plain": [
       "{0: (0, 0, {1j: 210, (1+0j): 89, -1j: 231, (-1+0j): 498})}"
      ]
     },
     "execution_count": 17,
     "metadata": {},
     "output_type": "execute_result"
    }
   ],
   "source": [
    "grid"
   ]
  },
  {
   "cell_type": "code",
   "execution_count": 18,
   "metadata": {},
   "outputs": [
    {
     "data": {
      "text/plain": [
       "3.0"
      ]
     },
     "execution_count": 18,
     "metadata": {},
     "output_type": "execute_result"
    }
   ],
   "source": [
    "pow(9, 0.5)"
   ]
  },
  {
   "cell_type": "code",
   "execution_count": 19,
   "metadata": {},
   "outputs": [],
   "source": [
    "def open_positions(grid, n):\n",
    "    if not grid:\n",
    "        return []\n",
    "    \n",
    "    sidelen = math.sqrt(n)\n",
    "    xs = list(int(k.real) for k in grid)\n",
    "    ys = list(int(k.imag) for k in grid)\n",
    "    xmin, xmax = min(xs), max(xs)\n",
    "    ymin, ymax = min(ys), max(ys)\n",
    "   \n",
    "    openpos = defaultdict(set)\n",
    "    for k in grid:\n",
    "        for drxn in NESW:\n",
    "            newk = k + drxn\n",
    "            if newk in grid:\n",
    "                continue\n",
    "\n",
    "            # stay in bounds\n",
    "            x, y = newk.real, newk.imag\n",
    "            if max(x, xmax) - min(x, xmin) + 1 > sidelen:\n",
    "                continue\n",
    "            if max(y, ymax) - min(y, ymin) + 1 > sidelen:\n",
    "                continue\n",
    "            \n",
    "            for drxn2 in NESW:\n",
    "                nabe = newk + drxn2\n",
    "                if nabe in grid:\n",
    "                    openpos[newk].add(nabe)\n",
    "                    \n",
    "    ## Fill inside corners first\n",
    "    return [e for (e, v) in sorted(openpos.items(), key=lambda x: -len(x[1]))]"
   ]
  },
  {
   "cell_type": "code",
   "execution_count": 20,
   "metadata": {},
   "outputs": [],
   "source": [
    "def possible_tiles(pos, grid, tiles):\n",
    "    already_played = set(i for (i, j, s) in grid.values())\n",
    "    if not already_played:\n",
    "        return None\n",
    "\n",
    "    filters = []\n",
    "    for drxn in NESW:\n",
    "        nabe_pos = pos + drxn\n",
    "        nabe = grid.get(nabe_pos)\n",
    "        if nabe is None:\n",
    "            continue\n",
    "        ni, nj, nsides = nabe\n",
    "        filters.append((NESW.index(drxn), nsides[-drxn]))\n",
    "    if not filters:\n",
    "        return None\n",
    "\n",
    "    tilesets = (set((i, j) for (i, j, k) in zip(*np.where(tiles == val))\n",
    "                       if k == slot and i not in already_played)\n",
    "                for slot, val in filters)\n",
    "    try:\n",
    "        tileset_intersect = next(tilesets)\n",
    "    except StopIteration:\n",
    "        return None\n",
    "    for ts in tilesets:\n",
    "        tileset_intersect.intersection_update(ts)\n",
    "    \n",
    "    return tileset_intersect"
   ]
  },
  {
   "cell_type": "code",
   "execution_count": 21,
   "metadata": {},
   "outputs": [],
   "source": [
    "grid = {}\n",
    "add_tile(0,0,0, grid, tiles)"
   ]
  },
  {
   "cell_type": "code",
   "execution_count": 22,
   "metadata": {},
   "outputs": [
    {
     "data": {
      "text/plain": [
       "[1j, (1+0j), -1j, (-1+0j)]"
      ]
     },
     "execution_count": 22,
     "metadata": {},
     "output_type": "execute_result"
    }
   ],
   "source": [
    "open_positions(grid, 4)"
   ]
  },
  {
   "cell_type": "code",
   "execution_count": 23,
   "metadata": {},
   "outputs": [
    {
     "data": {
      "text/plain": [
       "set()"
      ]
     },
     "execution_count": 23,
     "metadata": {},
     "output_type": "execute_result"
    }
   ],
   "source": [
    "possible_tiles(-1j, grid, tiles)"
   ]
  },
  {
   "cell_type": "code",
   "execution_count": 24,
   "metadata": {},
   "outputs": [],
   "source": [
    "add_tile(-1-1j, 7, 9, grid, tiles)"
   ]
  },
  {
   "cell_type": "code",
   "execution_count": 25,
   "metadata": {},
   "outputs": [
    {
     "data": {
      "text/plain": [
       "{0: (0, 0, {1j: 210, (1+0j): 89, -1j: 231, (-1+0j): 498}),\n",
       " (-1-1j): (7, 9, {1j: 397, (1+0j): 576, -1j: 680, (-1+0j): 271})}"
      ]
     },
     "execution_count": 25,
     "metadata": {},
     "output_type": "execute_result"
    }
   ],
   "source": [
    "grid"
   ]
  },
  {
   "cell_type": "code",
   "execution_count": 26,
   "metadata": {},
   "outputs": [],
   "source": [
    "def solved(grid, n):\n",
    "    return len(grid) == n"
   ]
  },
  {
   "cell_type": "code",
   "execution_count": 27,
   "metadata": {},
   "outputs": [
    {
     "data": {
      "text/plain": [
       "False"
      ]
     },
     "execution_count": 27,
     "metadata": {},
     "output_type": "execute_result"
    }
   ],
   "source": [
    "solved(grid, 4)"
   ]
  },
  {
   "cell_type": "code",
   "execution_count": 28,
   "metadata": {},
   "outputs": [],
   "source": [
    "def save_grid(grid):\n",
    "    return frozenset((complex(k), a, b) for (k, (a, b, _)) in grid.items())"
   ]
  },
  {
   "cell_type": "code",
   "execution_count": 29,
   "metadata": {},
   "outputs": [
    {
     "data": {
      "text/plain": [
       "(frozenset({((-1-1j), 7, 9), (0j, 0, 0)}), 2)"
      ]
     },
     "execution_count": 29,
     "metadata": {},
     "output_type": "execute_result"
    }
   ],
   "source": [
    "state = save_grid(grid)\n",
    "state, len(state)"
   ]
  },
  {
   "cell_type": "code",
   "execution_count": 30,
   "metadata": {},
   "outputs": [],
   "source": [
    "def load_grid(state, tiles):\n",
    "    grid = {}\n",
    "    for pos, i, j in state:\n",
    "        add_tile(pos, i, j, grid, tiles)\n",
    "    return grid\n",
    "        "
   ]
  },
  {
   "cell_type": "code",
   "execution_count": 31,
   "metadata": {},
   "outputs": [
    {
     "data": {
      "text/plain": [
       "{0j: (0, 0, {1j: 210, (1+0j): 89, -1j: 231, (-1+0j): 498}),\n",
       " (-1-1j): (7, 9, {1j: 397, (1+0j): 576, -1j: 680, (-1+0j): 271})}"
      ]
     },
     "execution_count": 31,
     "metadata": {},
     "output_type": "execute_result"
    }
   ],
   "source": [
    "load_grid(state, tiles)"
   ]
  },
  {
   "cell_type": "code",
   "execution_count": 32,
   "metadata": {},
   "outputs": [
    {
     "data": {
      "text/plain": [
       "{0: (0, 0, {1j: 210, (1+0j): 89, -1j: 231, (-1+0j): 498})}"
      ]
     },
     "execution_count": 32,
     "metadata": {},
     "output_type": "execute_result"
    }
   ],
   "source": [
    "load_grid([(0,0,0)], tiles)"
   ]
  },
  {
   "cell_type": "code",
   "execution_count": 33,
   "metadata": {},
   "outputs": [],
   "source": [
    "def dfs(tiles, n, initial_state=[(0,0,0)]):\n",
    "    grid = load_grid(initial_state, tiles)\n",
    "    initial = save_grid(grid)\n",
    "    frontier = [initial]\n",
    "    explored = {initial}\n",
    "    \n",
    "    counter = 0\n",
    "    while frontier:\n",
    "        state = frontier.pop()\n",
    "        if len(state) == n:\n",
    "            print(\"counter =\", counter)\n",
    "            return state\n",
    "        grid = load_grid(state, tiles)\n",
    "        for pos in open_positions(grid, n):\n",
    "            for (i, j) in possible_tiles(pos, grid, tiles):\n",
    "                add_tile(pos, i, j, grid, tiles)\n",
    "                newstate = save_grid(grid)\n",
    "                del grid[pos]\n",
    "                if newstate in explored:\n",
    "                    continue\n",
    "                explored.add(newstate)\n",
    "                frontier.append(newstate)\n",
    "        counter += 1\n",
    "    print(\"counter =\", counter)"
   ]
  },
  {
   "cell_type": "code",
   "execution_count": 34,
   "metadata": {},
   "outputs": [
    {
     "name": "stdout",
     "output_type": "stream",
     "text": [
      "counter = 9\n"
     ]
    },
    {
     "data": {
      "text/plain": [
       "frozenset({((-1+0j), 1, 0), ((-1+1j), 7, 0), (0j, 0, 0), (1j, 3, 0)})"
      ]
     },
     "execution_count": 34,
     "metadata": {},
     "output_type": "execute_result"
    }
   ],
   "source": [
    "dfs(tiles, 4)"
   ]
  },
  {
   "cell_type": "code",
   "execution_count": 35,
   "metadata": {},
   "outputs": [
    {
     "name": "stdout",
     "output_type": "stream",
     "text": [
      "counter = 1223\n",
      "CPU times: user 227 ms, sys: 0 ns, total: 227 ms\n",
      "Wall time: 227 ms\n"
     ]
    }
   ],
   "source": [
    "%%time\n",
    "completed_puzzle = dfs(tiles, 9)\n",
    "completed_puzzle"
   ]
  },
  {
   "cell_type": "code",
   "execution_count": 36,
   "metadata": {},
   "outputs": [
    {
     "data": {
      "text/plain": [
       "9"
      ]
     },
     "execution_count": 36,
     "metadata": {},
     "output_type": "execute_result"
    }
   ],
   "source": [
    "len(labels)"
   ]
  },
  {
   "cell_type": "code",
   "execution_count": 37,
   "metadata": {},
   "outputs": [
    {
     "name": "stdout",
     "output_type": "stream",
     "text": [
      "counter = 1223\n",
      "counter = 1223\n",
      "counter = 1223\n",
      "counter = 1223\n",
      "counter = 1223\n",
      "counter = 1223\n",
      "counter = 1223\n",
      "counter = 1223\n",
      "counter = 1223\n",
      "counter = 1223\n",
      "counter = 1223\n",
      "counter = 1223\n",
      "counter = 1223\n",
      "counter = 1223\n",
      "counter = 1223\n",
      "counter = 1223\n",
      "CPU times: user 3.14 s, sys: 5.26 ms, total: 3.15 s\n",
      "Wall time: 3.14 s\n"
     ]
    }
   ],
   "source": [
    "%%time\n",
    "for i in range(16):\n",
    "    puzzle = dfs(tiles, 9, [(0, 0, i)])\n",
    "    if puzzle:\n",
    "        print(i)\n",
    "        print(puzzle)\n",
    "        break"
   ]
  },
  {
   "cell_type": "code",
   "execution_count": 38,
   "metadata": {},
   "outputs": [],
   "source": [
    "def bfs(tiles, n, initial_state=[(0,0,0)]):\n",
    "    grid = load_grid(initial_state, tiles)\n",
    "    initial = save_grid(grid)\n",
    "    frontier = deque([initial])\n",
    "    explored = {initial}\n",
    "    \n",
    "    ctr = 0\n",
    "    while frontier:\n",
    "        state = frontier.popleft()\n",
    "        if len(state) == n:\n",
    "            print(\"count =\", ctr)\n",
    "            return state\n",
    "        grid = load_grid(state, tiles)\n",
    "        for pos in open_positions(grid, n):\n",
    "            for (i, j) in possible_tiles(pos, grid, tiles):\n",
    "                add_tile(pos, i, j, grid, tiles)\n",
    "                newstate = save_grid(grid)\n",
    "                del grid[pos]\n",
    "                if newstate in explored:\n",
    "                    continue\n",
    "                explored.add(newstate)\n",
    "                frontier.append(newstate)\n",
    "        ctr += 1\n",
    "    print(\"count =\", ctr)"
   ]
  },
  {
   "cell_type": "code",
   "execution_count": 39,
   "metadata": {},
   "outputs": [
    {
     "name": "stdout",
     "output_type": "stream",
     "text": [
      "count = 31\n",
      "CPU times: user 3.59 ms, sys: 0 ns, total: 3.59 ms\n",
      "Wall time: 3.29 ms\n"
     ]
    },
    {
     "data": {
      "text/plain": [
       "frozenset({((-1+0j), 1, 0), ((-1+1j), 7, 0), (0j, 0, 0), (1j, 3, 0)})"
      ]
     },
     "execution_count": 39,
     "metadata": {},
     "output_type": "execute_result"
    }
   ],
   "source": [
    "%%time\n",
    "completed_puzzle = bfs(tiles, 4)\n",
    "completed_puzzle"
   ]
  },
  {
   "cell_type": "code",
   "execution_count": 40,
   "metadata": {},
   "outputs": [
    {
     "name": "stdout",
     "output_type": "stream",
     "text": [
      "count = 1223\n",
      "count = 1223\n",
      "count = 1223\n",
      "count = 1223\n",
      "count = 1223\n",
      "count = 1223\n",
      "count = 1223\n",
      "count = 1223\n",
      "count = 1223\n",
      "count = 1223\n",
      "count = 1223\n",
      "count = 1223\n",
      "count = 1223\n",
      "count = 1223\n",
      "count = 1223\n",
      "count = 1223\n",
      "CPU times: user 3.11 s, sys: 0 ns, total: 3.11 s\n",
      "Wall time: 3.1 s\n"
     ]
    }
   ],
   "source": [
    "%%time\n",
    "for i in range(16):\n",
    "    puzzle = bfs(tiles, 9, [(0, 0, i)])\n",
    "    if puzzle:\n",
    "        print(i)\n",
    "        print(puzzle)\n",
    "        break"
   ]
  },
  {
   "cell_type": "code",
   "execution_count": 41,
   "metadata": {},
   "outputs": [
    {
     "data": {
      "text/plain": [
       "1"
      ]
     },
     "execution_count": 41,
     "metadata": {},
     "output_type": "execute_result"
    }
   ],
   "source": [
    "labels.index('1951')"
   ]
  },
  {
   "cell_type": "code",
   "execution_count": 42,
   "metadata": {},
   "outputs": [],
   "source": [
    "tile1951_rec = \"\"\"\\\n",
    "Tile 1951:\n",
    "#.##...##.\n",
    "#.####...#\n",
    ".....#..##\n",
    "#...######\n",
    ".##.#....#\n",
    ".###.#####\n",
    "###.##.##.\n",
    ".###....#.\n",
    "..#.#..#.#\n",
    "#...##.#..\"\"\""
   ]
  },
  {
   "cell_type": "code",
   "execution_count": 43,
   "metadata": {},
   "outputs": [
    {
     "data": {
      "text/plain": [
       "('1951', ['#.##...##.', '.#####..#.', '#...##.#..', '##.#..#..#'])"
      ]
     },
     "execution_count": 43,
     "metadata": {},
     "output_type": "execute_result"
    }
   ],
   "source": [
    "label, edges = parse_rec(tile1951_rec)\n",
    "label, edges"
   ]
  },
  {
   "cell_type": "code",
   "execution_count": 44,
   "metadata": {},
   "outputs": [
    {
     "data": {
      "text/plain": [
       "[('#.##...##.', '.#####..#.', '#...##.#..', '##.#..#..#'),\n",
       " ('#...##.#..', '.#..#####.', '#.##...##.', '#..#..#.##'),\n",
       " ('..#.##...#', '#..#..#.##', '.##...##.#', '.#..#####.'),\n",
       " ('.##...##.#', '##.#..#..#', '..#.##...#', '.#####..#.'),\n",
       " ('.#####..#.', '.##...##.#', '##.#..#..#', '..#.##...#'),\n",
       " ('##.#..#..#', '#.##...##.', '.#####..#.', '#...##.#..'),\n",
       " ('#..#..#.##', '#...##.#..', '.#..#####.', '#.##...##.'),\n",
       " ('.#..#####.', '..#.##...#', '#..#..#.##', '.##...##.#'),\n",
       " ('.##...##.#', '.#..#####.', '..#.##...#', '#..#..#.##'),\n",
       " ('..#.##...#', '.#####..#.', '.##...##.#', '##.#..#..#'),\n",
       " ('#...##.#..', '##.#..#..#', '#.##...##.', '.#####..#.'),\n",
       " ('#.##...##.', '#..#..#.##', '#...##.#..', '.#..#####.'),\n",
       " ('.#..#####.', '#.##...##.', '#..#..#.##', '#...##.#..'),\n",
       " ('#..#..#.##', '.##...##.#', '.#..#####.', '..#.##...#'),\n",
       " ('##.#..#..#', '..#.##...#', '.#####..#.', '.##...##.#'),\n",
       " ('.#####..#.', '#...##.#..', '##.#..#..#', '#.##...##.')]"
      ]
     },
     "execution_count": 44,
     "metadata": {},
     "output_type": "execute_result"
    }
   ],
   "source": [
    "orientations_1951 = list_orientations(edges)\n",
    "orientations_1951"
   ]
  },
  {
   "cell_type": "code",
   "execution_count": 45,
   "metadata": {},
   "outputs": [
    {
     "data": {
      "text/plain": [
       "[[710, 498, 564, 841],\n",
       " [564, 318, 710, 587],\n",
       " [177, 587, 397, 318],\n",
       " [397, 841, 177, 498],\n",
       " [498, 397, 841, 177],\n",
       " [841, 710, 498, 564],\n",
       " [587, 564, 318, 710],\n",
       " [318, 177, 587, 397],\n",
       " [397, 318, 177, 587],\n",
       " [177, 498, 397, 841],\n",
       " [564, 841, 710, 498],\n",
       " [710, 587, 564, 318],\n",
       " [318, 710, 587, 564],\n",
       " [587, 397, 318, 177],\n",
       " [841, 177, 498, 397],\n",
       " [498, 564, 841, 710]]"
      ]
     },
     "execution_count": 45,
     "metadata": {},
     "output_type": "execute_result"
    }
   ],
   "source": [
    "[encode_edges(x) for x in orientations_1951]"
   ]
  },
  {
   "cell_type": "code",
   "execution_count": 46,
   "metadata": {},
   "outputs": [
    {
     "data": {
      "text/plain": [
       "[710, 498, 564, 841]"
      ]
     },
     "execution_count": 46,
     "metadata": {},
     "output_type": "execute_result"
    }
   ],
   "source": [
    "encode_edges(edges)"
   ]
  },
  {
   "cell_type": "code",
   "execution_count": 47,
   "metadata": {},
   "outputs": [
    {
     "name": "stdout",
     "output_type": "stream",
     "text": [
      "count = 1163\n",
      "CPU times: user 182 ms, sys: 0 ns, total: 182 ms\n",
      "Wall time: 182 ms\n"
     ]
    }
   ],
   "source": [
    "%%time\n",
    "bfs(tiles, 9, [(0+0j,1,1)])"
   ]
  },
  {
   "cell_type": "code",
   "execution_count": 48,
   "metadata": {},
   "outputs": [
    {
     "name": "stdout",
     "output_type": "stream",
     "text": [
      "counter = 1163\n",
      "CPU times: user 178 ms, sys: 0 ns, total: 178 ms\n",
      "Wall time: 177 ms\n"
     ]
    }
   ],
   "source": [
    "%%time\n",
    "dfs(tiles, 9, [(0,1,1)])"
   ]
  },
  {
   "cell_type": "code",
   "execution_count": 49,
   "metadata": {},
   "outputs": [],
   "source": [
    "grid = {}"
   ]
  },
  {
   "cell_type": "code",
   "execution_count": 50,
   "metadata": {},
   "outputs": [
    {
     "data": {
      "text/plain": [
       "{0: (1, 1, {1j: 564, (1+0j): 318, -1j: 710, (-1+0j): 587})}"
      ]
     },
     "execution_count": 50,
     "metadata": {},
     "output_type": "execute_result"
    }
   ],
   "source": [
    "add_tile(0, 1, 1, grid, tiles)\n",
    "grid"
   ]
  },
  {
   "cell_type": "code",
   "execution_count": 51,
   "metadata": {},
   "outputs": [
    {
     "data": {
      "text/plain": [
       "{(0, 1), (0, 8)}"
      ]
     },
     "execution_count": 51,
     "metadata": {},
     "output_type": "execute_result"
    }
   ],
   "source": [
    "possible_tiles(1, grid, tiles)"
   ]
  },
  {
   "cell_type": "code",
   "execution_count": 52,
   "metadata": {},
   "outputs": [
    {
     "data": {
      "text/plain": [
       "'2311'"
      ]
     },
     "execution_count": 52,
     "metadata": {},
     "output_type": "execute_result"
    }
   ],
   "source": [
    "labels[0]"
   ]
  },
  {
   "cell_type": "code",
   "execution_count": 53,
   "metadata": {},
   "outputs": [
    {
     "data": {
      "text/plain": [
       "('2311', ['..##.#..#.', '...#.##..#', '..###..###', '.#####..#.'])"
      ]
     },
     "execution_count": 53,
     "metadata": {},
     "output_type": "execute_result"
    }
   ],
   "source": [
    "testdata[0]"
   ]
  },
  {
   "cell_type": "code",
   "execution_count": 54,
   "metadata": {},
   "outputs": [],
   "source": [
    "tstrecs = testtxt.split('\\n\\n')"
   ]
  },
  {
   "cell_type": "code",
   "execution_count": 55,
   "metadata": {},
   "outputs": [
    {
     "data": {
      "text/plain": [
       "'Tile 2311:\\n..##.#..#.\\n##..#.....\\n#...##..#.\\n####.#...#\\n##.##.###.\\n##...#.###\\n.#.#.#..##\\n..#....#..\\n###...#.#.\\n..###..###'"
      ]
     },
     "execution_count": 55,
     "metadata": {},
     "output_type": "execute_result"
    }
   ],
   "source": [
    "tstrecs[0]"
   ]
  },
  {
   "cell_type": "code",
   "execution_count": 56,
   "metadata": {},
   "outputs": [],
   "source": [
    "label, edges = parse_rec(tstrecs[0])"
   ]
  },
  {
   "cell_type": "code",
   "execution_count": 57,
   "metadata": {},
   "outputs": [
    {
     "data": {
      "text/plain": [
       "['..##.#..#.', '...#.##..#', '..###..###', '.#####..#.']"
      ]
     },
     "execution_count": 57,
     "metadata": {},
     "output_type": "execute_result"
    }
   ],
   "source": [
    "edges"
   ]
  },
  {
   "cell_type": "code",
   "execution_count": 58,
   "metadata": {},
   "outputs": [
    {
     "data": {
      "text/plain": [
       "[(0, ('..##.#..#.', '...#.##..#', '..###..###', '.#####..#.')),\n",
       " (1, ('..###..###', '#..##.#...', '..##.#..#.', '.#..#####.')),\n",
       " (2, ('###..###..', '.#..#####.', '.#..#.##..', '#..##.#...')),\n",
       " (3, ('.#..#.##..', '.#####..#.', '###..###..', '...#.##..#')),\n",
       " (4, ('...#.##..#', '.#..#.##..', '.#####..#.', '###..###..')),\n",
       " (5, ('.#####..#.', '..##.#..#.', '...#.##..#', '..###..###')),\n",
       " (6, ('.#..#####.', '..###..###', '#..##.#...', '..##.#..#.')),\n",
       " (7, ('#..##.#...', '###..###..', '.#..#####.', '.#..#.##..')),\n",
       " (8, ('.#..#.##..', '#..##.#...', '###..###..', '.#..#####.')),\n",
       " (9, ('###..###..', '...#.##..#', '.#..#.##..', '.#####..#.')),\n",
       " (10, ('..###..###', '.#####..#.', '..##.#..#.', '...#.##..#')),\n",
       " (11, ('..##.#..#.', '.#..#####.', '..###..###', '#..##.#...')),\n",
       " (12, ('#..##.#...', '..##.#..#.', '.#..#####.', '..###..###')),\n",
       " (13, ('.#..#####.', '.#..#.##..', '#..##.#...', '###..###..')),\n",
       " (14, ('.#####..#.', '###..###..', '...#.##..#', '.#..#.##..')),\n",
       " (15, ('...#.##..#', '..###..###', '.#####..#.', '..##.#..#.'))]"
      ]
     },
     "execution_count": 58,
     "metadata": {},
     "output_type": "execute_result"
    }
   ],
   "source": [
    "list(enumerate(list_orientations(edges)))"
   ]
  },
  {
   "cell_type": "code",
   "execution_count": 59,
   "metadata": {},
   "outputs": [
    {
     "data": {
      "text/plain": [
       "{0: (1, 1, {1j: 564, (1+0j): 318, -1j: 710, (-1+0j): 587}),\n",
       " 1: (0, 1, {1j: 231, (1+0j): 616, -1j: 210, (-1+0j): 318})}"
      ]
     },
     "execution_count": 59,
     "metadata": {},
     "output_type": "execute_result"
    }
   ],
   "source": [
    "add_tile(1, 0, 1, grid, tiles)\n",
    "grid"
   ]
  },
  {
   "cell_type": "code",
   "execution_count": 60,
   "metadata": {},
   "outputs": [
    {
     "data": {
      "text/plain": [
       "[1j, -1j, (-1+0j), (1+1j), (2+0j), (1-1j)]"
      ]
     },
     "execution_count": 60,
     "metadata": {},
     "output_type": "execute_result"
    }
   ],
   "source": [
    "open_positions(grid, 9)"
   ]
  },
  {
   "cell_type": "code",
   "execution_count": 61,
   "metadata": {},
   "outputs": [
    {
     "data": {
      "text/plain": [
       "{(3, 1), (3, 10)}"
      ]
     },
     "execution_count": 61,
     "metadata": {},
     "output_type": "execute_result"
    }
   ],
   "source": [
    "possible_tiles(1-1j, grid, tiles)"
   ]
  },
  {
   "cell_type": "code",
   "execution_count": 62,
   "metadata": {},
   "outputs": [
    {
     "name": "stdout",
     "output_type": "stream",
     "text": [
      "Tile 1427:\n",
      "###.##.#..\n",
      ".#..#.##..\n",
      ".#.##.#..#\n",
      "#.#.#.##.#\n",
      "....#...##\n",
      "...##..##.\n",
      "...#.#####\n",
      ".#.####.#.\n",
      "..#..###.#\n",
      "..##.#..#.\n"
     ]
    }
   ],
   "source": [
    "print(tstrecs[3])"
   ]
  },
  {
   "cell_type": "code",
   "execution_count": 63,
   "metadata": {},
   "outputs": [],
   "source": [
    "label, edges = parse_rec(tstrecs[3])"
   ]
  },
  {
   "cell_type": "code",
   "execution_count": 64,
   "metadata": {},
   "outputs": [
    {
     "data": {
      "text/plain": [
       "['###.##.#..', '..###.#.#.', '..##.#..#.', '#..#......']"
      ]
     },
     "execution_count": 64,
     "metadata": {},
     "output_type": "execute_result"
    }
   ],
   "source": [
    "edges"
   ]
  },
  {
   "cell_type": "code",
   "execution_count": 65,
   "metadata": {},
   "outputs": [
    {
     "data": {
      "text/plain": [
       "[(0, ('###.##.#..', '..###.#.#.', '..##.#..#.', '#..#......')),\n",
       " (1, ('..##.#..#.', '.#.#.###..', '###.##.#..', '......#..#')),\n",
       " (2, ('.#..#.##..', '......#..#', '..#.##.###', '.#.#.###..')),\n",
       " (3, ('..#.##.###', '#..#......', '.#..#.##..', '..###.#.#.')),\n",
       " (4, ('..###.#.#.', '..#.##.###', '#..#......', '.#..#.##..')),\n",
       " (5, ('#..#......', '###.##.#..', '..###.#.#.', '..##.#..#.')),\n",
       " (6, ('......#..#', '..##.#..#.', '.#.#.###..', '###.##.#..')),\n",
       " (7, ('.#.#.###..', '.#..#.##..', '......#..#', '..#.##.###')),\n",
       " (8, ('..#.##.###', '.#.#.###..', '.#..#.##..', '......#..#')),\n",
       " (9, ('.#..#.##..', '..###.#.#.', '..#.##.###', '#..#......')),\n",
       " (10, ('..##.#..#.', '#..#......', '###.##.#..', '..###.#.#.')),\n",
       " (11, ('###.##.#..', '......#..#', '..##.#..#.', '.#.#.###..')),\n",
       " (12, ('.#.#.###..', '###.##.#..', '......#..#', '..##.#..#.')),\n",
       " (13, ('......#..#', '..#.##.###', '.#.#.###..', '.#..#.##..')),\n",
       " (14, ('#..#......', '.#..#.##..', '..###.#.#.', '..#.##.###')),\n",
       " (15, ('..###.#.#.', '..##.#..#.', '#..#......', '###.##.#..'))]"
      ]
     },
     "execution_count": 65,
     "metadata": {},
     "output_type": "execute_result"
    }
   ],
   "source": [
    "list(enumerate(list_orientations(edges)))"
   ]
  },
  {
   "cell_type": "code",
   "execution_count": 66,
   "metadata": {},
   "outputs": [
    {
     "data": {
      "text/plain": [
       "{0: (1, 1, {1j: 564, (1+0j): 318, -1j: 710, (-1+0j): 587}),\n",
       " 1: (0, 1, {1j: 231, (1+0j): 616, -1j: 210, (-1+0j): 318}),\n",
       " (1-1j): (3, 1, {1j: 210, (1+0j): 348, -1j: 948, (-1+0j): 9})}"
      ]
     },
     "execution_count": 66,
     "metadata": {},
     "output_type": "execute_result"
    }
   ],
   "source": [
    "add_tile(1-1j, 3, 1, grid, tiles)\n",
    "grid"
   ]
  },
  {
   "cell_type": "code",
   "execution_count": null,
   "metadata": {},
   "outputs": [],
   "source": []
  },
  {
   "cell_type": "code",
   "execution_count": 67,
   "metadata": {},
   "outputs": [
    {
     "data": {
      "text/plain": [
       "[-1j, 1j, (-1+0j), (1+1j), (2+0j), (2-1j), (1-2j)]"
      ]
     },
     "execution_count": 67,
     "metadata": {},
     "output_type": "execute_result"
    }
   ],
   "source": [
    "open_positions(grid, 9)"
   ]
  },
  {
   "cell_type": "code",
   "execution_count": 68,
   "metadata": {},
   "outputs": [
    {
     "data": {
      "text/plain": [
       "{(7, 1)}"
      ]
     },
     "execution_count": 68,
     "metadata": {},
     "output_type": "execute_result"
    }
   ],
   "source": [
    "possible_tiles(-1j, grid, tiles)"
   ]
  },
  {
   "cell_type": "code",
   "execution_count": 69,
   "metadata": {},
   "outputs": [
    {
     "name": "stdout",
     "output_type": "stream",
     "text": [
      "Tile 2729:\n",
      "...#.#.#.#\n",
      "####.#....\n",
      "..#.#.....\n",
      "....#..#.#\n",
      ".##..##.#.\n",
      ".#.####...\n",
      "####.#.#..\n",
      "##.####...\n",
      "##..#.##..\n",
      "#.##...##.\n"
     ]
    }
   ],
   "source": [
    "print(tstrecs[7])"
   ]
  },
  {
   "cell_type": "code",
   "execution_count": 70,
   "metadata": {},
   "outputs": [],
   "source": [
    "label, edges = parse_rec(tstrecs[7])"
   ]
  },
  {
   "cell_type": "code",
   "execution_count": 71,
   "metadata": {},
   "outputs": [
    {
     "data": {
      "text/plain": [
       "['...#.#.#.#', '#..#......', '#.##...##.', '.#....####']"
      ]
     },
     "execution_count": 71,
     "metadata": {},
     "output_type": "execute_result"
    }
   ],
   "source": [
    "edges"
   ]
  },
  {
   "cell_type": "code",
   "execution_count": 72,
   "metadata": {},
   "outputs": [
    {
     "data": {
      "text/plain": [
       "[(0, ('...#.#.#.#', '#..#......', '#.##...##.', '.#....####')),\n",
       " (1, ('#.##...##.', '......#..#', '...#.#.#.#', '####....#.')),\n",
       " (2, ('.##...##.#', '####....#.', '#.#.#.#...', '......#..#')),\n",
       " (3, ('#.#.#.#...', '.#....####', '.##...##.#', '#..#......')),\n",
       " (4, ('#..#......', '#.#.#.#...', '.#....####', '.##...##.#')),\n",
       " (5, ('.#....####', '...#.#.#.#', '#..#......', '#.##...##.')),\n",
       " (6, ('####....#.', '#.##...##.', '......#..#', '...#.#.#.#')),\n",
       " (7, ('......#..#', '.##...##.#', '####....#.', '#.#.#.#...')),\n",
       " (8, ('#.#.#.#...', '......#..#', '.##...##.#', '####....#.')),\n",
       " (9, ('.##...##.#', '#..#......', '#.#.#.#...', '.#....####')),\n",
       " (10, ('#.##...##.', '.#....####', '...#.#.#.#', '#..#......')),\n",
       " (11, ('...#.#.#.#', '####....#.', '#.##...##.', '......#..#')),\n",
       " (12, ('......#..#', '...#.#.#.#', '####....#.', '#.##...##.')),\n",
       " (13, ('####....#.', '#.#.#.#...', '......#..#', '.##...##.#')),\n",
       " (14, ('.#....####', '.##...##.#', '#..#......', '#.#.#.#...')),\n",
       " (15, ('#..#......', '#.##...##.', '.#....####', '...#.#.#.#'))]"
      ]
     },
     "execution_count": 72,
     "metadata": {},
     "output_type": "execute_result"
    }
   ],
   "source": [
    "list(enumerate(list_orientations(edges)))"
   ]
  },
  {
   "cell_type": "code",
   "execution_count": 73,
   "metadata": {},
   "outputs": [
    {
     "data": {
      "text/plain": [
       "{0: (1, 1, {1j: 564, (1+0j): 318, -1j: 710, (-1+0j): 587}),\n",
       " 1: (0, 1, {1j: 231, (1+0j): 616, -1j: 210, (-1+0j): 318}),\n",
       " (1-1j): (3, 1, {1j: 210, (1+0j): 348, -1j: 948, (-1+0j): 9}),\n",
       " -1j: (7, 1, {1j: 710, (1+0j): 9, -1j: 85, (-1+0j): 962})}"
      ]
     },
     "execution_count": 73,
     "metadata": {},
     "output_type": "execute_result"
    }
   ],
   "source": [
    "add_tile(0-1j, 7, 1, grid, tiles)\n",
    "grid"
   ]
  },
  {
   "cell_type": "code",
   "execution_count": 89,
   "metadata": {},
   "outputs": [],
   "source": [
    "def bfs(tiles, n, initial_state=[(0,0,0)]):\n",
    "    grid = load_grid(initial_state, tiles)\n",
    "    initial = save_grid(grid)\n",
    "    frontier = deque([initial])\n",
    "    explored = {initial}\n",
    "    log = []\n",
    "    \n",
    "    while frontier:\n",
    "        state = frontier.popleft()\n",
    "        log.append(state)\n",
    "        if len(state) == n:\n",
    "            break\n",
    "        grid = load_grid(state, tiles)\n",
    "        for pos in open_positions(grid, n):\n",
    "            for (i, j) in possible_tiles(pos, grid, tiles):\n",
    "                add_tile(pos, i, j, grid, tiles)\n",
    "                newstate = save_grid(grid)\n",
    "                del grid[pos]\n",
    "                if newstate in explored:\n",
    "                    continue\n",
    "                explored.add(newstate)\n",
    "                frontier.append(newstate)\n",
    "    else:\n",
    "        print('failed')\n",
    "    return (state, log)\n"
   ]
  },
  {
   "cell_type": "code",
   "execution_count": 90,
   "metadata": {},
   "outputs": [
    {
     "name": "stdout",
     "output_type": "stream",
     "text": [
      "failed\n",
      "CPU times: user 172 ms, sys: 0 ns, total: 172 ms\n",
      "Wall time: 171 ms\n"
     ]
    }
   ],
   "source": [
    "%%time\n",
    "state, log = bfs(tiles, 9, [(0, 1, 1)])"
   ]
  },
  {
   "cell_type": "code",
   "execution_count": 91,
   "metadata": {},
   "outputs": [
    {
     "data": {
      "text/plain": [
       "8"
      ]
     },
     "execution_count": 91,
     "metadata": {},
     "output_type": "execute_result"
    }
   ],
   "source": [
    "len(state)"
   ]
  },
  {
   "cell_type": "code",
   "execution_count": 92,
   "metadata": {},
   "outputs": [
    {
     "data": {
      "text/plain": [
       "frozenset({((1+0j), 0, 8),\n",
       "           ((1-2j), 4, 8),\n",
       "           ((2+0j), 8, 0),\n",
       "           ((2-1j), 5, 7),\n",
       "           ((2-2j), 2, 3),\n",
       "           (-1j, 7, 1),\n",
       "           (-2j, 6, 1),\n",
       "           (0j, 1, 1)})"
      ]
     },
     "execution_count": 92,
     "metadata": {},
     "output_type": "execute_result"
    }
   ],
   "source": [
    "state"
   ]
  },
  {
   "cell_type": "code",
   "execution_count": 96,
   "metadata": {},
   "outputs": [
    {
     "ename": "AttributeError",
     "evalue": "'frozenset' object has no attribute 'pop'",
     "output_type": "error",
     "traceback": [
      "\u001b[0;31m---------------------------------------------------------------------------\u001b[0m",
      "\u001b[0;31mAttributeError\u001b[0m                            Traceback (most recent call last)",
      "\u001b[0;32m<ipython-input-96-c62e65c7ae56>\u001b[0m in \u001b[0;36m<module>\u001b[0;34m\u001b[0m\n\u001b[0;32m----> 1\u001b[0;31m \u001b[0mstate\u001b[0m\u001b[0;34m.\u001b[0m\u001b[0mpop\u001b[0m\u001b[0;34m(\u001b[0m\u001b[0;34m)\u001b[0m\u001b[0;34m\u001b[0m\u001b[0;34m\u001b[0m\u001b[0m\n\u001b[0m",
      "\u001b[0;31mAttributeError\u001b[0m: 'frozenset' object has no attribute 'pop'"
     ]
    }
   ],
   "source": [
    "state.pop()"
   ]
  },
  {
   "cell_type": "code",
   "execution_count": 97,
   "metadata": {},
   "outputs": [
    {
     "data": {
      "text/plain": [
       "((2-1j), 5, 7)"
      ]
     },
     "execution_count": 97,
     "metadata": {},
     "output_type": "execute_result"
    }
   ],
   "source": [
    "set(state).pop()"
   ]
  },
  {
   "cell_type": "code",
   "execution_count": 98,
   "metadata": {},
   "outputs": [
    {
     "data": {
      "text/plain": [
       "[(0j, 1, 1),\n",
       " ((1+0j), 0, 8),\n",
       " ((2+0j), 8, 0),\n",
       " (-1j, 7, 1),\n",
       " ((2-1j), 5, 7),\n",
       " (-2j, 6, 1),\n",
       " ((1-2j), 4, 8),\n",
       " ((2-2j), 2, 3)]"
      ]
     },
     "execution_count": 98,
     "metadata": {},
     "output_type": "execute_result"
    }
   ],
   "source": [
    "sorted(state, key=lambda x: (-x[0].imag, x[0].real))"
   ]
  },
  {
   "cell_type": "code",
   "execution_count": 95,
   "metadata": {},
   "outputs": [
    {
     "data": {
      "text/plain": [
       "1163"
      ]
     },
     "execution_count": 95,
     "metadata": {},
     "output_type": "execute_result"
    }
   ],
   "source": [
    "len(log)"
   ]
  },
  {
   "cell_type": "code",
   "execution_count": 100,
   "metadata": {},
   "outputs": [
    {
     "data": {
      "text/plain": [
       "[[(0j, 1, 1),\n",
       "  ((1+0j), 0, 1),\n",
       "  ((2+0j), 8, 0),\n",
       "  (-1j, 7, 10),\n",
       "  ((2-1j), 5, 7),\n",
       "  (-2j, 6, 1),\n",
       "  ((1-2j), 4, 8),\n",
       "  ((2-2j), 2, 3)],\n",
       " [(0j, 1, 1),\n",
       "  ((1+0j), 0, 1),\n",
       "  ((2+0j), 8, 0),\n",
       "  (-1j, 7, 1),\n",
       "  ((2-1j), 5, 7),\n",
       "  (-2j, 6, 1),\n",
       "  ((1-2j), 4, 8),\n",
       "  ((2-2j), 2, 3)],\n",
       " [(0j, 1, 1),\n",
       "  ((1+0j), 0, 8),\n",
       "  ((2+0j), 8, 0),\n",
       "  (-1j, 7, 10),\n",
       "  ((2-1j), 5, 12),\n",
       "  (-2j, 6, 1),\n",
       "  ((1-2j), 4, 1),\n",
       "  ((2-2j), 2, 3)],\n",
       " [(0j, 1, 1),\n",
       "  ((1+0j), 0, 8),\n",
       "  ((2+0j), 8, 0),\n",
       "  (-1j, 7, 1),\n",
       "  ((2-1j), 5, 12),\n",
       "  (-2j, 6, 1),\n",
       "  ((1-2j), 4, 1),\n",
       "  ((2-2j), 2, 3)],\n",
       " [(0j, 1, 1),\n",
       "  ((1+0j), 0, 8),\n",
       "  ((2+0j), 8, 0),\n",
       "  (-1j, 7, 10),\n",
       "  ((2-1j), 5, 12),\n",
       "  (-2j, 6, 1),\n",
       "  ((1-2j), 4, 8),\n",
       "  ((2-2j), 2, 3)],\n",
       " [(0j, 1, 1),\n",
       "  ((1+0j), 0, 8),\n",
       "  ((2+0j), 8, 0),\n",
       "  (-1j, 7, 1),\n",
       "  ((2-1j), 5, 12),\n",
       "  (-2j, 6, 1),\n",
       "  ((1-2j), 4, 8),\n",
       "  ((2-2j), 2, 3)],\n",
       " [(0j, 1, 1),\n",
       "  ((1+0j), 0, 8),\n",
       "  ((2+0j), 8, 0),\n",
       "  (-1j, 7, 10),\n",
       "  ((2-1j), 5, 7),\n",
       "  (-2j, 6, 1),\n",
       "  ((1-2j), 4, 1),\n",
       "  ((2-2j), 2, 3)],\n",
       " [(0j, 1, 1),\n",
       "  ((1+0j), 0, 8),\n",
       "  ((2+0j), 8, 0),\n",
       "  (-1j, 7, 1),\n",
       "  ((2-1j), 5, 7),\n",
       "  (-2j, 6, 1),\n",
       "  ((1-2j), 4, 1),\n",
       "  ((2-2j), 2, 3)],\n",
       " [(0j, 1, 1),\n",
       "  ((1+0j), 0, 8),\n",
       "  ((2+0j), 8, 0),\n",
       "  (-1j, 7, 10),\n",
       "  ((2-1j), 5, 7),\n",
       "  (-2j, 6, 1),\n",
       "  ((1-2j), 4, 8),\n",
       "  ((2-2j), 2, 3)],\n",
       " [(0j, 1, 1),\n",
       "  ((1+0j), 0, 8),\n",
       "  ((2+0j), 8, 0),\n",
       "  (-1j, 7, 1),\n",
       "  ((2-1j), 5, 7),\n",
       "  (-2j, 6, 1),\n",
       "  ((1-2j), 4, 8),\n",
       "  ((2-2j), 2, 3)]]"
      ]
     },
     "execution_count": 100,
     "metadata": {},
     "output_type": "execute_result"
    }
   ],
   "source": [
    "[sorted(s, key=lambda x: (-x[0].imag, x[0].real)) for s in log[-10:]]"
   ]
  },
  {
   "cell_type": "code",
   "execution_count": 102,
   "metadata": {},
   "outputs": [
    {
     "data": {
      "text/plain": [
       "{(2-1j): (5, 7, {1j: 184, (1+0j): 348, -1j: 399, (-1+0j): 481}),\n",
       " -2j: (6, 1, {1j: 85, (1+0j): 689, -1j: 161, (-1+0j): 78}),\n",
       " -1j: (7, 1, {1j: 710, (1+0j): 9, -1j: 85, (-1+0j): 962}),\n",
       " (1-2j): (4, 8, {1j: 43, (1+0j): 288, -1j: 183, (-1+0j): 689}),\n",
       " (2-2j): (2, 3, {1j: 399, (1+0j): 902, -1j: 96, (-1+0j): 288}),\n",
       " (1+0j): (0, 8, {1j: 300, (1+0j): 616, -1j: 924, (-1+0j): 318}),\n",
       " (2+0j): (8, 0, {1j: 702, (1+0j): 264, -1j: 184, (-1+0j): 616}),\n",
       " 0j: (1, 1, {1j: 564, (1+0j): 318, -1j: 710, (-1+0j): 587})}"
      ]
     },
     "execution_count": 102,
     "metadata": {},
     "output_type": "execute_result"
    }
   ],
   "source": [
    "grid = load_grid(log[-1], tiles)\n",
    "grid"
   ]
  },
  {
   "cell_type": "code",
   "execution_count": 106,
   "metadata": {},
   "outputs": [],
   "source": [
    "def gsort(x):\n",
    "    return (-x[0].imag, x[0].real)"
   ]
  },
  {
   "cell_type": "code",
   "execution_count": 107,
   "metadata": {},
   "outputs": [
    {
     "data": {
      "text/plain": [
       "[(0j, (1, 1, {1j: 564, (1+0j): 318, -1j: 710, (-1+0j): 587})),\n",
       " ((1+0j), (0, 8, {1j: 300, (1+0j): 616, -1j: 924, (-1+0j): 318})),\n",
       " ((2+0j), (8, 0, {1j: 702, (1+0j): 264, -1j: 184, (-1+0j): 616})),\n",
       " (-1j, (7, 1, {1j: 710, (1+0j): 9, -1j: 85, (-1+0j): 962})),\n",
       " ((2-1j), (5, 7, {1j: 184, (1+0j): 348, -1j: 399, (-1+0j): 481})),\n",
       " (-2j, (6, 1, {1j: 85, (1+0j): 689, -1j: 161, (-1+0j): 78})),\n",
       " ((1-2j), (4, 8, {1j: 43, (1+0j): 288, -1j: 183, (-1+0j): 689})),\n",
       " ((2-2j), (2, 3, {1j: 399, (1+0j): 902, -1j: 96, (-1+0j): 288}))]"
      ]
     },
     "execution_count": 107,
     "metadata": {},
     "output_type": "execute_result"
    }
   ],
   "source": [
    "sorted(grid.items(), key=gsort)"
   ]
  },
  {
   "cell_type": "code",
   "execution_count": 109,
   "metadata": {},
   "outputs": [
    {
     "data": {
      "text/plain": [
       "[(1-1j)]"
      ]
     },
     "execution_count": 109,
     "metadata": {},
     "output_type": "execute_result"
    }
   ],
   "source": [
    "open_positions(grid, 9)"
   ]
  },
  {
   "cell_type": "code",
   "execution_count": 110,
   "metadata": {},
   "outputs": [
    {
     "data": {
      "text/plain": [
       "set()"
      ]
     },
     "execution_count": 110,
     "metadata": {},
     "output_type": "execute_result"
    }
   ],
   "source": [
    "possible_tiles(1-1j, grid, tiles)"
   ]
  },
  {
   "cell_type": "code",
   "execution_count": 112,
   "metadata": {},
   "outputs": [],
   "source": [
    "from collections import Counter"
   ]
  },
  {
   "cell_type": "code",
   "execution_count": 113,
   "metadata": {},
   "outputs": [
    {
     "data": {
      "text/plain": [
       "[(6, 409), (7, 338), (5, 282), (4, 89), (3, 20), (8, 20), (2, 4), (1, 1)]"
      ]
     },
     "execution_count": 113,
     "metadata": {},
     "output_type": "execute_result"
    }
   ],
   "source": [
    "Counter(len(x) for x in log).most_common()"
   ]
  },
  {
   "cell_type": "code",
   "execution_count": 117,
   "metadata": {},
   "outputs": [
    {
     "data": {
      "text/plain": [
       "[(0j, '1951'),\n",
       " ((1+0j), '2311'),\n",
       " ((2+0j), '3079'),\n",
       " (-1j, '2729'),\n",
       " ((2-1j), '2473'),\n",
       " (-2j, '2971'),\n",
       " ((1-2j), '1489'),\n",
       " ((2-2j), '1171')]"
      ]
     },
     "execution_count": 117,
     "metadata": {},
     "output_type": "execute_result"
    }
   ],
   "source": [
    "gridlabels ={x: labels[y[0]] for (x, y) in grid.items()}\n",
    "sorted(gridlabels.items(), key=gsort)"
   ]
  },
  {
   "cell_type": "code",
   "execution_count": 118,
   "metadata": {},
   "outputs": [],
   "source": [
    "def get_gridlabels(grid):\n",
    "    return {x: labels[y[0]] for (x, y) in grid.items()}"
   ]
  },
  {
   "cell_type": "code",
   "execution_count": 119,
   "metadata": {},
   "outputs": [
    {
     "data": {
      "text/plain": [
       "{(2-1j): '2473',\n",
       " -2j: '2971',\n",
       " -1j: '2729',\n",
       " (1-2j): '1489',\n",
       " (2-2j): '1171',\n",
       " (1+0j): '2311',\n",
       " (2+0j): '3079',\n",
       " 0j: '1951'}"
      ]
     },
     "execution_count": 119,
     "metadata": {},
     "output_type": "execute_result"
    }
   ],
   "source": [
    "get_gridlabels(grid)"
   ]
  },
  {
   "cell_type": "code",
   "execution_count": 120,
   "metadata": {},
   "outputs": [
    {
     "data": {
      "text/plain": [
       "frozenset({((1+0j), 0, 8),\n",
       "           ((1-2j), 4, 8),\n",
       "           ((2+0j), 8, 0),\n",
       "           ((2-1j), 5, 7),\n",
       "           ((2-2j), 2, 3),\n",
       "           (-1j, 7, 1),\n",
       "           (-2j, 6, 1),\n",
       "           (0j, 1, 1)})"
      ]
     },
     "execution_count": 120,
     "metadata": {},
     "output_type": "execute_result"
    }
   ],
   "source": [
    "log[-1]"
   ]
  },
  {
   "cell_type": "code",
   "execution_count": 121,
   "metadata": {},
   "outputs": [],
   "source": [
    "def get_loglabels(logentry):\n",
    "    return {x:y for (x,y,z) in logentry}"
   ]
  },
  {
   "cell_type": "code",
   "execution_count": 123,
   "metadata": {},
   "outputs": [
    {
     "data": {
      "text/plain": [
       "True"
      ]
     },
     "execution_count": 123,
     "metadata": {},
     "output_type": "execute_result"
    }
   ],
   "source": [
    "get_loglabels(log[-1]) == get_loglabels(log[-2])"
   ]
  },
  {
   "cell_type": "code",
   "execution_count": 124,
   "metadata": {},
   "outputs": [
    {
     "data": {
      "text/plain": [
       "{(2-1j): 5, -2j: 6, -1j: 7, (1-2j): 4, (2-2j): 2, (1+0j): 0, (2+0j): 8, 0j: 1}"
      ]
     },
     "execution_count": 124,
     "metadata": {},
     "output_type": "execute_result"
    }
   ],
   "source": [
    "lastloglabels = get_loglabels(log[-1])\n",
    "lastloglabels"
   ]
  },
  {
   "cell_type": "code",
   "execution_count": 125,
   "metadata": {},
   "outputs": [
    {
     "data": {
      "text/plain": [
       "16"
      ]
     },
     "execution_count": 125,
     "metadata": {},
     "output_type": "execute_result"
    }
   ],
   "source": [
    "sum(get_loglabels(x) == lastloglabels for x in log)"
   ]
  },
  {
   "cell_type": "code",
   "execution_count": 126,
   "metadata": {},
   "outputs": [
    {
     "data": {
      "text/plain": [
       "[frozenset({((1+0j), 0, 1),\n",
       "            ((1-2j), 4, 1),\n",
       "            ((2+0j), 8, 0),\n",
       "            ((2-1j), 5, 12),\n",
       "            ((2-2j), 2, 3),\n",
       "            (-1j, 7, 10),\n",
       "            (-2j, 6, 1),\n",
       "            (0j, 1, 1)}),\n",
       " frozenset({((1+0j), 0, 1),\n",
       "            ((1-2j), 4, 1),\n",
       "            ((2+0j), 8, 0),\n",
       "            ((2-1j), 5, 12),\n",
       "            ((2-2j), 2, 3),\n",
       "            (-1j, 7, 1),\n",
       "            (-2j, 6, 1),\n",
       "            (0j, 1, 1)}),\n",
       " frozenset({((1+0j), 0, 1),\n",
       "            ((1-2j), 4, 8),\n",
       "            ((2+0j), 8, 0),\n",
       "            ((2-1j), 5, 12),\n",
       "            ((2-2j), 2, 3),\n",
       "            (-1j, 7, 10),\n",
       "            (-2j, 6, 1),\n",
       "            (0j, 1, 1)}),\n",
       " frozenset({((1+0j), 0, 1),\n",
       "            ((1-2j), 4, 8),\n",
       "            ((2+0j), 8, 0),\n",
       "            ((2-1j), 5, 12),\n",
       "            ((2-2j), 2, 3),\n",
       "            (-1j, 7, 1),\n",
       "            (-2j, 6, 1),\n",
       "            (0j, 1, 1)}),\n",
       " frozenset({((1+0j), 0, 1),\n",
       "            ((1-2j), 4, 1),\n",
       "            ((2+0j), 8, 0),\n",
       "            ((2-1j), 5, 7),\n",
       "            ((2-2j), 2, 3),\n",
       "            (-1j, 7, 10),\n",
       "            (-2j, 6, 1),\n",
       "            (0j, 1, 1)}),\n",
       " frozenset({((1+0j), 0, 1),\n",
       "            ((1-2j), 4, 1),\n",
       "            ((2+0j), 8, 0),\n",
       "            ((2-1j), 5, 7),\n",
       "            ((2-2j), 2, 3),\n",
       "            (-1j, 7, 1),\n",
       "            (-2j, 6, 1),\n",
       "            (0j, 1, 1)}),\n",
       " frozenset({((1+0j), 0, 1),\n",
       "            ((1-2j), 4, 8),\n",
       "            ((2+0j), 8, 0),\n",
       "            ((2-1j), 5, 7),\n",
       "            ((2-2j), 2, 3),\n",
       "            (-1j, 7, 10),\n",
       "            (-2j, 6, 1),\n",
       "            (0j, 1, 1)}),\n",
       " frozenset({((1+0j), 0, 1),\n",
       "            ((1-2j), 4, 8),\n",
       "            ((2+0j), 8, 0),\n",
       "            ((2-1j), 5, 7),\n",
       "            ((2-2j), 2, 3),\n",
       "            (-1j, 7, 1),\n",
       "            (-2j, 6, 1),\n",
       "            (0j, 1, 1)}),\n",
       " frozenset({((1+0j), 0, 8),\n",
       "            ((1-2j), 4, 1),\n",
       "            ((2+0j), 8, 0),\n",
       "            ((2-1j), 5, 12),\n",
       "            ((2-2j), 2, 3),\n",
       "            (-1j, 7, 10),\n",
       "            (-2j, 6, 1),\n",
       "            (0j, 1, 1)}),\n",
       " frozenset({((1+0j), 0, 8),\n",
       "            ((1-2j), 4, 1),\n",
       "            ((2+0j), 8, 0),\n",
       "            ((2-1j), 5, 12),\n",
       "            ((2-2j), 2, 3),\n",
       "            (-1j, 7, 1),\n",
       "            (-2j, 6, 1),\n",
       "            (0j, 1, 1)}),\n",
       " frozenset({((1+0j), 0, 8),\n",
       "            ((1-2j), 4, 8),\n",
       "            ((2+0j), 8, 0),\n",
       "            ((2-1j), 5, 12),\n",
       "            ((2-2j), 2, 3),\n",
       "            (-1j, 7, 10),\n",
       "            (-2j, 6, 1),\n",
       "            (0j, 1, 1)}),\n",
       " frozenset({((1+0j), 0, 8),\n",
       "            ((1-2j), 4, 8),\n",
       "            ((2+0j), 8, 0),\n",
       "            ((2-1j), 5, 12),\n",
       "            ((2-2j), 2, 3),\n",
       "            (-1j, 7, 1),\n",
       "            (-2j, 6, 1),\n",
       "            (0j, 1, 1)}),\n",
       " frozenset({((1+0j), 0, 8),\n",
       "            ((1-2j), 4, 1),\n",
       "            ((2+0j), 8, 0),\n",
       "            ((2-1j), 5, 7),\n",
       "            ((2-2j), 2, 3),\n",
       "            (-1j, 7, 10),\n",
       "            (-2j, 6, 1),\n",
       "            (0j, 1, 1)}),\n",
       " frozenset({((1+0j), 0, 8),\n",
       "            ((1-2j), 4, 1),\n",
       "            ((2+0j), 8, 0),\n",
       "            ((2-1j), 5, 7),\n",
       "            ((2-2j), 2, 3),\n",
       "            (-1j, 7, 1),\n",
       "            (-2j, 6, 1),\n",
       "            (0j, 1, 1)}),\n",
       " frozenset({((1+0j), 0, 8),\n",
       "            ((1-2j), 4, 8),\n",
       "            ((2+0j), 8, 0),\n",
       "            ((2-1j), 5, 7),\n",
       "            ((2-2j), 2, 3),\n",
       "            (-1j, 7, 10),\n",
       "            (-2j, 6, 1),\n",
       "            (0j, 1, 1)}),\n",
       " frozenset({((1+0j), 0, 8),\n",
       "            ((1-2j), 4, 8),\n",
       "            ((2+0j), 8, 0),\n",
       "            ((2-1j), 5, 7),\n",
       "            ((2-2j), 2, 3),\n",
       "            (-1j, 7, 1),\n",
       "            (-2j, 6, 1),\n",
       "            (0j, 1, 1)})]"
      ]
     },
     "execution_count": 126,
     "metadata": {},
     "output_type": "execute_result"
    }
   ],
   "source": [
    "[x for x in log if get_loglabels(x) == lastloglabels]"
   ]
  },
  {
   "cell_type": "code",
   "execution_count": null,
   "metadata": {},
   "outputs": [],
   "source": []
  },
  {
   "cell_type": "code",
   "execution_count": 134,
   "metadata": {},
   "outputs": [],
   "source": [
    "def lookup_tile(txt, tiles=tiles, labels=labels):\n",
    "    label, edges = parse_rec(txt)\n",
    "    i = labels.index(label)\n",
    "    \n",
    "    return i, edges"
   ]
  },
  {
   "cell_type": "code",
   "execution_count": 132,
   "metadata": {},
   "outputs": [],
   "source": [
    "tiletxt = \"\"\"\\\n",
    " \n",
    "Tile 1951:\n",
    "#...##.#..\n",
    "..#.#..#.#\n",
    ".###....#.\n",
    "###.##.##.\n",
    ".###.#####\n",
    ".##.#....#\n",
    "#...######\n",
    ".....#..##\n",
    "#.####...#\n",
    "#.##...##.\n",
    "\n",
    "\n",
    "\"\"\""
   ]
  },
  {
   "cell_type": "code",
   "execution_count": 135,
   "metadata": {},
   "outputs": [
    {
     "data": {
      "text/plain": [
       "(1, ['#...##.#..', '.#..#####.', '#.##...##.', '#..#..#.##'])"
      ]
     },
     "execution_count": 135,
     "metadata": {},
     "output_type": "execute_result"
    }
   ],
   "source": [
    "lookup_tile(tiletxt)"
   ]
  }
 ],
 "metadata": {
  "kernelspec": {
   "display_name": "Python 3",
   "language": "python",
   "name": "python3"
  },
  "language_info": {
   "codemirror_mode": {
    "name": "ipython",
    "version": 3
   },
   "file_extension": ".py",
   "mimetype": "text/x-python",
   "name": "python",
   "nbconvert_exporter": "python",
   "pygments_lexer": "ipython3",
   "version": "3.8.5"
  }
 },
 "nbformat": 4,
 "nbformat_minor": 4
}
