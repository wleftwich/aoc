{
 "cells": [
  {
   "cell_type": "markdown",
   "metadata": {},
   "source": [
    "https://adventofcode.com/2020/day/10"
   ]
  },
  {
   "cell_type": "code",
   "execution_count": 8,
   "metadata": {},
   "outputs": [],
   "source": [
    "from collections import Counter, defaultdict"
   ]
  },
  {
   "cell_type": "code",
   "execution_count": 9,
   "metadata": {},
   "outputs": [],
   "source": [
    "datafile = 'data/10-1.txt'"
   ]
  },
  {
   "cell_type": "code",
   "execution_count": 10,
   "metadata": {},
   "outputs": [],
   "source": [
    "with open(datafile) as fh:\n",
    "    data = [int(y) for y in (x.strip() for x in fh) if y]"
   ]
  },
  {
   "cell_type": "code",
   "execution_count": 11,
   "metadata": {},
   "outputs": [
    {
     "data": {
      "text/plain": [
       "2574"
      ]
     },
     "execution_count": 11,
     "metadata": {},
     "output_type": "execute_result"
    }
   ],
   "source": [
    "adapters = [0] + sorted(data)\n",
    "adapters.append(adapters[-1] + 3)\n",
    "\n",
    "c = Counter((b - a) for (a, b) in zip(adapters, adapters[1:]))\n",
    "part_1 = c[1] * c[3]\n",
    "part_1"
   ]
  },
  {
   "cell_type": "code",
   "execution_count": 12,
   "metadata": {},
   "outputs": [],
   "source": [
    "def iter_adapter_pairs(L):\n",
    "    \"\"\"List of adapters is already sorted\"\"\"\n",
    "    for i, a in enumerate(L):\n",
    "        for b in L[i+1:]:\n",
    "            if b - a < 4:\n",
    "                yield (a, b)\n",
    "            else:\n",
    "                break           "
   ]
  },
  {
   "cell_type": "code",
   "execution_count": 13,
   "metadata": {},
   "outputs": [],
   "source": [
    "def adapter_path_counts(pairs):\n",
    "    D = defaultdict(int)\n",
    "    pairs = iter(pairs)\n",
    "    (a,b) = next(pairs)\n",
    "    D[a] = 1\n",
    "    D[b] = 1\n",
    "    for a, b in pairs:\n",
    "        D[b] += D[a]\n",
    "    return D"
   ]
  },
  {
   "cell_type": "code",
   "execution_count": 14,
   "metadata": {},
   "outputs": [
    {
     "name": "stdout",
     "output_type": "stream",
     "text": [
      "CPU times: user 90 µs, sys: 8 µs, total: 98 µs\n",
      "Wall time: 101 µs\n"
     ]
    },
    {
     "data": {
      "text/plain": [
       "2644613988352"
      ]
     },
     "execution_count": 14,
     "metadata": {},
     "output_type": "execute_result"
    }
   ],
   "source": [
    "%%time\n",
    "D = adapter_path_counts(iter_adapter_pairs(adapters))\n",
    "part_2 = D[max(D.keys())]\n",
    "part_2"
   ]
  },
  {
   "cell_type": "code",
   "execution_count": 19,
   "metadata": {},
   "outputs": [
    {
     "data": {
      "text/plain": [
       "54"
      ]
     },
     "execution_count": 19,
     "metadata": {},
     "output_type": "execute_result"
    }
   ],
   "source": [
    "adapters.index(90)"
   ]
  },
  {
   "cell_type": "markdown",
   "metadata": {},
   "source": [
    "## reddit"
   ]
  },
  {
   "cell_type": "code",
   "execution_count": 23,
   "metadata": {},
   "outputs": [],
   "source": [
    "from collections import Counter, defaultdict\n",
    "\n",
    "with open(datafile) as fh:\n",
    "    data = [int(y) for y in (x.strip() for x in fh) if y]\n",
    "\n",
    "adapters = [0] + sorted(data)\n",
    "adapters.append(adapters[-1] + 3)\n",
    "\n",
    "c = Counter((b - a) for (a, b) in zip(adapters, adapters[1:]))\n",
    "part_1 = c[1] * c[3]\n",
    "\n",
    "def iter_adapter_pairs(L):\n",
    "    for i, a in enumerate(sorted(L)):\n",
    "        for b in L[i+1:]:\n",
    "            if b - a < 4:\n",
    "                yield (a, b)\n",
    "            else:\n",
    "                break\n",
    "\n",
    "def adapter_path_counts(sorted_pairs):\n",
    "    D = defaultdict(int)\n",
    "    pairs = iter(sorted_pairs)\n",
    "    (a,b) = next(pairs)\n",
    "    D[a] = 1\n",
    "    D[b] = 1\n",
    "    for a, b in pairs:\n",
    "        D[b] += D[a]\n",
    "    return D\n",
    "\n",
    "D = adapter_path_counts(iter_adapter_pairs(adapters))\n",
    "part_2 = D[max(D.keys())]"
   ]
  },
  {
   "cell_type": "code",
   "execution_count": 24,
   "metadata": {},
   "outputs": [
    {
     "data": {
      "text/plain": [
       "(2574, 2644613988352)"
      ]
     },
     "execution_count": 24,
     "metadata": {},
     "output_type": "execute_result"
    }
   ],
   "source": [
    "part_1, part_2"
   ]
  }
 ],
 "metadata": {
  "kernelspec": {
   "display_name": "Python 3",
   "language": "python",
   "name": "python3"
  },
  "language_info": {
   "codemirror_mode": {
    "name": "ipython",
    "version": 3
   },
   "file_extension": ".py",
   "mimetype": "text/x-python",
   "name": "python",
   "nbconvert_exporter": "python",
   "pygments_lexer": "ipython3",
   "version": "3.8.5"
  }
 },
 "nbformat": 4,
 "nbformat_minor": 4
}
