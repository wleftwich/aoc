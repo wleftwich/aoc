{
 "cells": [
  {
   "cell_type": "markdown",
   "metadata": {},
   "source": [
    "https://adventofcode.com/2020/day/23"
   ]
  },
  {
   "cell_type": "code",
   "execution_count": 1,
   "metadata": {},
   "outputs": [],
   "source": [
    "from toolz import take\n",
    "from collections import Counter"
   ]
  },
  {
   "cell_type": "code",
   "execution_count": 2,
   "metadata": {},
   "outputs": [],
   "source": [
    "class Node:\n",
    "    def __init__(self, val, pos=0, prevnode=None, nextnode=None):\n",
    "        self.val = val\n",
    "        self.prev = prevnode\n",
    "        self.next = nextnode\n",
    "        if self.prev is not None:\n",
    "            self.prev.next = self\n",
    "        if self.next is not None:\n",
    "            self.next.prev = self\n",
    "            \n",
    "    def __repr__(self):\n",
    "        return '<Node %s>' % self.val\n",
    "\n",
    "        \n",
    "class LinkedList:\n",
    "    def __init__(self, head=None):\n",
    "        self.head = head\n",
    "    \n",
    "    @property\n",
    "    def tail(self):\n",
    "        if self.head is None:\n",
    "            raise ValueError(\"list is empty\")\n",
    "        current = self.head\n",
    "        while current.next is not None and current.next is not self.head:\n",
    "            current = current.next\n",
    "        return current\n",
    "    \n",
    "    def find(self, val):\n",
    "        if self.head is None:\n",
    "            raise ValueError(\"list is empty\")\n",
    "        current = self.head\n",
    "        while current.val != val:\n",
    "            current = current.next\n",
    "            if current is self.head or current is None:\n",
    "                return None\n",
    "        return current\n",
    "    \n",
    "    def __contains__(self, val):\n",
    "        return self.find(val) is not None\n",
    "    \n",
    "    def insert(self, other, insert_after=None):\n",
    "        if insert_after is None:\n",
    "            insert_after = self.head\n",
    "        else:\n",
    "            other_tail = other.tail\n",
    "            insert_before = insert_after.next\n",
    "            insert_after.next = other.head\n",
    "            other.head.prev = insert_after\n",
    "            insert_before.prev = other_tail\n",
    "            other_tail.next = insert_before\n",
    "    \n",
    "    def excise(self, begin, end):\n",
    "        before, after = begin.prev, end.next\n",
    "        before.next = after\n",
    "        after.prev = before\n",
    "        begin.prev = None\n",
    "        end.next = None\n",
    "        return LinkedList(begin)\n",
    "    \n",
    "    def make_circular(self):\n",
    "        tail = self.tail\n",
    "        tail.next = self.head\n",
    "        self.head.prev = tail\n",
    "\n",
    "    @classmethod\n",
    "    def from_list(cls, list):\n",
    "        it = iter(list)\n",
    "        head = node = Node(next(it))\n",
    "        for x in it:\n",
    "            nextnode = Node(x, prevnode=node)\n",
    "            node = nextnode\n",
    "        return cls(head)\n",
    "    \n",
    "    def __repr__(self):\n",
    "        L = []\n",
    "        node = self.head\n",
    "        L.append(node)\n",
    "        while True:\n",
    "            node = node.next\n",
    "            if node is None or node is self.head:\n",
    "                break\n",
    "            L.append(node)\n",
    "        return repr(L)\n",
    "    \n",
    "    def __iter__(self):\n",
    "        node = self.head\n",
    "        while True:\n",
    "            yield node\n",
    "            if node.next is self.head or node.next is None:\n",
    "                break\n",
    "            node = node.next"
   ]
  },
  {
   "cell_type": "code",
   "execution_count": null,
   "metadata": {},
   "outputs": [],
   "source": []
  },
  {
   "cell_type": "code",
   "execution_count": 3,
   "metadata": {},
   "outputs": [],
   "source": [
    "cups = LinkedList.from_list([3,2,4,1,5])"
   ]
  },
  {
   "cell_type": "code",
   "execution_count": 4,
   "metadata": {},
   "outputs": [],
   "source": [
    "cups.make_circular()"
   ]
  },
  {
   "cell_type": "code",
   "execution_count": 5,
   "metadata": {},
   "outputs": [
    {
     "data": {
      "text/plain": [
       "[<Node 3>, <Node 2>, <Node 4>, <Node 1>, <Node 5>]"
      ]
     },
     "execution_count": 5,
     "metadata": {},
     "output_type": "execute_result"
    }
   ],
   "source": [
    "cups"
   ]
  },
  {
   "cell_type": "code",
   "execution_count": 6,
   "metadata": {},
   "outputs": [
    {
     "data": {
      "text/plain": [
       "[<Node 1>, <Node 2>, <Node 3>, <Node 4>, <Node 5>]"
      ]
     },
     "execution_count": 6,
     "metadata": {},
     "output_type": "execute_result"
    }
   ],
   "source": [
    "labels = LinkedList.from_list([1,2,3,4,5])\n",
    "labels.make_circular()\n",
    "labels"
   ]
  },
  {
   "cell_type": "code",
   "execution_count": 7,
   "metadata": {},
   "outputs": [],
   "source": [
    "def countdown(i, mod, minval=1):\n",
    "    while True:\n",
    "        i -= 1\n",
    "        if i < minval:\n",
    "            i = minval + mod - 1\n",
    "        yield i"
   ]
  },
  {
   "cell_type": "code",
   "execution_count": 8,
   "metadata": {},
   "outputs": [],
   "source": [
    "cd = countdown(3, 10, 1)"
   ]
  },
  {
   "cell_type": "code",
   "execution_count": 9,
   "metadata": {},
   "outputs": [
    {
     "data": {
      "text/plain": [
       "2"
      ]
     },
     "execution_count": 9,
     "metadata": {},
     "output_type": "execute_result"
    }
   ],
   "source": [
    "next(cd)"
   ]
  },
  {
   "cell_type": "code",
   "execution_count": 10,
   "metadata": {},
   "outputs": [
    {
     "data": {
      "text/plain": [
       "5"
      ]
     },
     "execution_count": 10,
     "metadata": {},
     "output_type": "execute_result"
    }
   ],
   "source": [
    "next(countdown(0, 5))"
   ]
  },
  {
   "cell_type": "code",
   "execution_count": 11,
   "metadata": {},
   "outputs": [],
   "source": [
    "cd = countdown(4, 5)"
   ]
  },
  {
   "cell_type": "code",
   "execution_count": 12,
   "metadata": {},
   "outputs": [
    {
     "data": {
      "text/plain": [
       "3"
      ]
     },
     "execution_count": 12,
     "metadata": {},
     "output_type": "execute_result"
    }
   ],
   "source": [
    "next(cd)"
   ]
  },
  {
   "cell_type": "code",
   "execution_count": 13,
   "metadata": {},
   "outputs": [],
   "source": [
    "def move(cups, n, skip=3, minval=1, debug=False):\n",
    "    if not skip:\n",
    "        cups.head = cups.head.next\n",
    "        return\n",
    "    \n",
    "    begin = cups.head.next\n",
    "    end = begin\n",
    "    if skip:\n",
    "        for _ in range(skip-1):\n",
    "            end = end.next\n",
    "    frag = cups.excise(begin, end)\n",
    "    cd = countdown(cups.head.val, n, minval=minval)\n",
    "    dest_val = next(cd)\n",
    "    while dest_val in frag:\n",
    "        dest_val = next(cd)\n",
    "\n",
    "    destination = cups.find(dest_val)\n",
    "    cups.insert(frag, destination)\n",
    "    \n",
    "    cups.head = cups.head.next\n"
   ]
  },
  {
   "cell_type": "code",
   "execution_count": 14,
   "metadata": {},
   "outputs": [
    {
     "data": {
      "text/plain": [
       "[]"
      ]
     },
     "execution_count": 14,
     "metadata": {},
     "output_type": "execute_result"
    }
   ],
   "source": [
    "[i for i in range(0)]"
   ]
  },
  {
   "cell_type": "code",
   "execution_count": null,
   "metadata": {},
   "outputs": [],
   "source": []
  },
  {
   "cell_type": "code",
   "execution_count": 15,
   "metadata": {},
   "outputs": [
    {
     "data": {
      "text/plain": [
       "[<Node 3>, <Node 8>, <Node 9>, <Node 1>, <Node 2>, <Node 5>, <Node 4>, <Node 6>, <Node 7>]"
      ]
     },
     "execution_count": 15,
     "metadata": {},
     "output_type": "execute_result"
    }
   ],
   "source": [
    "vals = [3,8,9,1,2,5,4,6,7]\n",
    "cups = LinkedList.from_list(vals)\n",
    "cups.make_circular()\n",
    "# labels = LinkedList.from_list(sorted(vals))\n",
    "# labels.make_circular()\n",
    "cups"
   ]
  },
  {
   "cell_type": "code",
   "execution_count": 16,
   "metadata": {},
   "outputs": [
    {
     "data": {
      "text/plain": [
       "[<Node 1>, <Node 6>, <Node 7>, <Node 3>, <Node 8>, <Node 4>, <Node 5>, <Node 2>, <Node 9>]"
      ]
     },
     "execution_count": 16,
     "metadata": {},
     "output_type": "execute_result"
    }
   ],
   "source": [
    "for _ in range(100):\n",
    "    move(cups, 9)\n",
    "cups"
   ]
  },
  {
   "cell_type": "code",
   "execution_count": 17,
   "metadata": {},
   "outputs": [
    {
     "data": {
      "text/plain": [
       "[<Node 4>, <Node 3>, <Node 8>, <Node 9>, <Node 6>, <Node 7>, <Node 2>, <Node 5>, <Node 1>]"
      ]
     },
     "execution_count": 17,
     "metadata": {},
     "output_type": "execute_result"
    }
   ],
   "source": [
    "vals = [5,8,9,1,7,4,2,6,3]\n",
    "n = len(vals)\n",
    "cups = LinkedList.from_list(vals)\n",
    "cups.make_circular()\n",
    "# labels = LinkedList.from_list(sorted(vals))\n",
    "# labels.make_circular()\n",
    "for _ in range(100):\n",
    "    move(cups, n)\n",
    "cups"
   ]
  },
  {
   "cell_type": "markdown",
   "metadata": {},
   "source": [
    "## Part 2"
   ]
  },
  {
   "cell_type": "code",
   "execution_count": 27,
   "metadata": {},
   "outputs": [
    {
     "name": "stdout",
     "output_type": "stream",
     "text": [
      "CPU times: user 3.57 ms, sys: 3.95 ms, total: 7.52 ms\n",
      "Wall time: 7.44 ms\n"
     ]
    }
   ],
   "source": [
    "%%time\n",
    "skip = 3\n",
    "vals = [3,8,9,1,2,5,4,6,7]  # + list(range(10, 1001))\n",
    "n = len(vals)\n",
    "minval = min(vals)\n",
    "cups = LinkedList.from_list(vals)\n",
    "cups.make_circular()\n",
    "\n",
    "L = []\n",
    "for i in range(1_000):\n",
    "    current = [x.val for x in cups]\n",
    "    L.append(current)\n",
    "    move(cups, n, skip=skip, minval=minval)"
   ]
  },
  {
   "cell_type": "code",
   "execution_count": 28,
   "metadata": {},
   "outputs": [
    {
     "data": {
      "text/plain": [
       "[[3, 8, 9, 1, 2, 5, 4, 6, 7],\n",
       " [2, 8, 9, 1, 5, 4, 6, 7, 3],\n",
       " [5, 4, 6, 7, 8, 9, 1, 3, 2]]"
      ]
     },
     "execution_count": 28,
     "metadata": {},
     "output_type": "execute_result"
    }
   ],
   "source": [
    "L[:3]"
   ]
  },
  {
   "cell_type": "code",
   "execution_count": 29,
   "metadata": {},
   "outputs": [],
   "source": [
    "M = [x.index(1) for x in L]"
   ]
  },
  {
   "cell_type": "code",
   "execution_count": 30,
   "metadata": {},
   "outputs": [],
   "source": [
    "N = [i for (i,x) in enumerate(L) if x[0] == 1]"
   ]
  },
  {
   "cell_type": "code",
   "execution_count": 32,
   "metadata": {},
   "outputs": [
    {
     "data": {
      "text/plain": [
       "[5,\n",
       " 11,\n",
       " 17,\n",
       " 24,\n",
       " 38,\n",
       " 44,\n",
       " 51,\n",
       " 62,\n",
       " 78,\n",
       " 83,\n",
       " 97,\n",
       " 100,\n",
       " 119,\n",
       " 129,\n",
       " 135,\n",
       " 169,\n",
       " 180,\n",
       " 183,\n",
       " 195,\n",
       " 200]"
      ]
     },
     "execution_count": 32,
     "metadata": {},
     "output_type": "execute_result"
    }
   ],
   "source": [
    "N[:20]"
   ]
  }
 ],
 "metadata": {
  "kernelspec": {
   "display_name": "Python 3",
   "language": "python",
   "name": "python3"
  },
  "language_info": {
   "codemirror_mode": {
    "name": "ipython",
    "version": 3
   },
   "file_extension": ".py",
   "mimetype": "text/x-python",
   "name": "python",
   "nbconvert_exporter": "python",
   "pygments_lexer": "ipython3",
   "version": "3.8.5"
  }
 },
 "nbformat": 4,
 "nbformat_minor": 4
}
