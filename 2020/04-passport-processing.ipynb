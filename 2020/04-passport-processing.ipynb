{
 "cells": [
  {
   "cell_type": "markdown",
   "metadata": {},
   "source": [
    "https://adventofcode.com/2020/day/4"
   ]
  },
  {
   "cell_type": "code",
   "execution_count": 1,
   "metadata": {},
   "outputs": [],
   "source": [
    "import re"
   ]
  },
  {
   "cell_type": "markdown",
   "metadata": {},
   "source": [
    "# 1"
   ]
  },
  {
   "cell_type": "code",
   "execution_count": 2,
   "metadata": {},
   "outputs": [],
   "source": [
    "datafile = 'data/04-1.txt'\n",
    "with open(datafile) as fh:\n",
    "    txt = fh.read()"
   ]
  },
  {
   "cell_type": "code",
   "execution_count": 3,
   "metadata": {},
   "outputs": [],
   "source": [
    "def pp_str_2_rec(s):\n",
    "    items = (x for x in s.split() if x)\n",
    "    return dict(x.split(':') for x in items)\n",
    "\n",
    "def parse_data(txt):\n",
    "    pp_strs = txt.split('\\n\\n')\n",
    "    return [pp_str_2_rec(x) for x in pp_strs]"
   ]
  },
  {
   "cell_type": "code",
   "execution_count": 4,
   "metadata": {},
   "outputs": [
    {
     "data": {
      "text/plain": [
       "(251,\n",
       " [{'byr': '1971',\n",
       "   'iyr': '2017',\n",
       "   'hgt': '160cm',\n",
       "   'eyr': '2020',\n",
       "   'ecl': 'hzl',\n",
       "   'pid': '157096267'},\n",
       "  {'hgt': '183cm',\n",
       "   'pid': '368895060',\n",
       "   'ecl': 'oth',\n",
       "   'eyr': '2020',\n",
       "   'iyr': '2013',\n",
       "   'byr': '1966'},\n",
       "  {'ecl': 'lzr',\n",
       "   'cid': '279',\n",
       "   'pid': '192cm',\n",
       "   'hcl': '1f7352',\n",
       "   'iyr': '2014',\n",
       "   'hgt': '70cm',\n",
       "   'eyr': '1983',\n",
       "   'byr': '2004'}])"
      ]
     },
     "execution_count": 4,
     "metadata": {},
     "output_type": "execute_result"
    }
   ],
   "source": [
    "data = parse_data(txt)"
   ]
  },
  {
   "cell_type": "code",
   "execution_count": 5,
   "metadata": {},
   "outputs": [],
   "source": [
    "required = {'byr', 'iyr', 'eyr', 'hgt', 'hcl', 'ecl', 'pid'}"
   ]
  },
  {
   "cell_type": "code",
   "execution_count": 7,
   "metadata": {},
   "outputs": [
    {
     "data": {
      "text/plain": [
       "182"
      ]
     },
     "execution_count": 7,
     "metadata": {},
     "output_type": "execute_result"
    }
   ],
   "source": [
    "sum(1 for x in data if not required.difference(x))"
   ]
  },
  {
   "cell_type": "markdown",
   "metadata": {},
   "source": [
    "# 2"
   ]
  },
  {
   "cell_type": "code",
   "execution_count": 8,
   "metadata": {},
   "outputs": [],
   "source": [
    "four_digits_re = re.compile(r'^\\d{4,4}$')\n",
    "hgt_re = re.compile(r'^(\\d+)(cm|in)$')\n",
    "hcl_re = re.compile(r'^#[0-9a-f]{6,6}$')\n",
    "pid_re = re.compile(r'^\\d{9,9}$')\n",
    "\n",
    "def validate(pp, required=required):\n",
    "    \n",
    "    if required.difference(pp):\n",
    "        return False\n",
    "    \n",
    "    s = pp['byr']\n",
    "    if not (four_digits_re.match(s) and '1920' <= s <= '2002'):\n",
    "        return False\n",
    "    \n",
    "    s = pp['iyr']\n",
    "    if not (four_digits_re.match(s) and '2010' <= s <= '2020'):\n",
    "        return False\n",
    "    \n",
    "    s = pp['eyr']\n",
    "    if not (four_digits_re.match(s) and '2020' <= s <= '2030'):\n",
    "        return False\n",
    "    \n",
    "    s = pp['hgt']\n",
    "    m = hgt_re.match(s)\n",
    "    if m is None:\n",
    "        return False\n",
    "    height, units = m.groups()\n",
    "    if units == 'cm':\n",
    "        if not '150' <= height <= '193':\n",
    "            return False\n",
    "    else:\n",
    "        if not '59' <= height <= '76':\n",
    "            return False\n",
    "    \n",
    "    s = pp['hcl']\n",
    "    if not hcl_re.match(s):\n",
    "        return False\n",
    "    \n",
    "    if pp['ecl'] not in {'amb', 'blu', 'brn', 'gry', 'grn', 'hzl', 'oth'}:\n",
    "        return False\n",
    "\n",
    "    s = pp['pid']\n",
    "    if not pid_re.match(s):\n",
    "        return False\n",
    "    \n",
    "    return True\n"
   ]
  },
  {
   "cell_type": "code",
   "execution_count": 9,
   "metadata": {},
   "outputs": [
    {
     "data": {
      "text/plain": [
       "109"
      ]
     },
     "execution_count": 9,
     "metadata": {},
     "output_type": "execute_result"
    }
   ],
   "source": [
    "sum(validate(x) for x in data)"
   ]
  },
  {
   "cell_type": "code",
   "execution_count": 21,
   "metadata": {},
   "outputs": [],
   "source": [
    "import re\n",
    "\n",
    "def pp_str_2_rec(s):\n",
    "    items = (x for x in s.split() if x)\n",
    "    return dict(x.split(':') for x in items)\n",
    "\n",
    "def parse_data(txt):\n",
    "    pp_strs = txt.split('\\n\\n')\n",
    "    return [pp_str_2_rec(x) for x in pp_strs]\n",
    "\n",
    "data = parse_data(txt)\n",
    "\n",
    "required = {'byr', 'iyr', 'eyr', 'hgt', 'hcl', 'ecl', 'pid'}\n",
    "\n",
    "four_digits_re = re.compile(r'^\\d{4,4}$')\n",
    "hgt_re = re.compile(r'^(\\d+)(cm|in)$')\n",
    "hcl_re = re.compile(r'^#[0-9a-f]{6,6}$')\n",
    "pid_re = re.compile(r'^\\d{9,9}$')\n",
    "\n",
    "def validate(pp):\n",
    "    \n",
    "    if required.difference(pp):\n",
    "        return False\n",
    "    \n",
    "    s = pp['byr']\n",
    "    if not (four_digits_re.match(s) and 1920 <= int(s) <= 2002):\n",
    "        return False\n",
    "    \n",
    "    s = pp['iyr']\n",
    "    if not (four_digits_re.match(s) and 2010 <= int(s) <= 2020):\n",
    "        return False\n",
    "    \n",
    "    s = pp['eyr']\n",
    "    if not (four_digits_re.match(s) and 2020 <= int(s) <= 2030):\n",
    "        return False\n",
    "    \n",
    "    m = hgt_re.match(pp['hgt'])\n",
    "    if m is None:\n",
    "        return False\n",
    "    height, units = m.groups()\n",
    "    if units == 'cm':\n",
    "        if not 150 <= int(height) <= 193:\n",
    "            return False\n",
    "    else:\n",
    "        if not 59 <= int(height) <= 76:\n",
    "            return False\n",
    "    \n",
    "    if not hcl_re.match(pp['hcl']):\n",
    "        return False\n",
    "    \n",
    "    if pp['ecl'] not in {'amb', 'blu', 'brn', 'gry', 'grn', 'hzl', 'oth'}:\n",
    "        return False\n",
    "\n",
    "    if not pid_re.match(pp['pid']):\n",
    "        return False\n",
    "    \n",
    "    return True\n",
    "\n",
    "part_1 = sum(1 for x in data if not required.difference(x))\n",
    "part_2 = sum(validate(x) for x in data)"
   ]
  },
  {
   "cell_type": "code",
   "execution_count": 23,
   "metadata": {},
   "outputs": [
    {
     "data": {
      "text/plain": [
       "182"
      ]
     },
     "execution_count": 23,
     "metadata": {},
     "output_type": "execute_result"
    }
   ],
   "source": [
    "part_1"
   ]
  },
  {
   "cell_type": "code",
   "execution_count": 24,
   "metadata": {},
   "outputs": [
    {
     "data": {
      "text/plain": [
       "109"
      ]
     },
     "execution_count": 24,
     "metadata": {},
     "output_type": "execute_result"
    }
   ],
   "source": [
    "part_2"
   ]
  },
  {
   "cell_type": "code",
   "execution_count": null,
   "metadata": {},
   "outputs": [],
   "source": []
  }
 ],
 "metadata": {
  "kernelspec": {
   "display_name": "Python 3",
   "language": "python",
   "name": "python3"
  },
  "language_info": {
   "codemirror_mode": {
    "name": "ipython",
    "version": 3
   },
   "file_extension": ".py",
   "mimetype": "text/x-python",
   "name": "python",
   "nbconvert_exporter": "python",
   "pygments_lexer": "ipython3",
   "version": "3.8.5"
  }
 },
 "nbformat": 4,
 "nbformat_minor": 4
}
