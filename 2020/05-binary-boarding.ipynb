{
 "cells": [
  {
   "cell_type": "markdown",
   "metadata": {},
   "source": [
    "https://adventofcode.com/2020/day/5"
   ]
  },
  {
   "cell_type": "code",
   "execution_count": 14,
   "metadata": {},
   "outputs": [],
   "source": [
    "datafile = 'data/05-1.txt'\n",
    "with open(datafile) as fh:\n",
    "    data = [y for y in (x.strip() for x in fh) if y]"
   ]
  },
  {
   "cell_type": "code",
   "execution_count": 21,
   "metadata": {},
   "outputs": [],
   "source": [
    "transtbl = {\n",
    "    ord('F'): '0',\n",
    "    ord('B'): '1',\n",
    "    ord('L'): '0',\n",
    "    ord('R'): '1'\n",
    "}\n",
    "\n",
    "def seat2n(bsp):\n",
    "    return int(bsp.translate(transtbl), 2)"
   ]
  },
  {
   "cell_type": "code",
   "execution_count": 19,
   "metadata": {},
   "outputs": [
    {
     "data": {
      "text/plain": [
       "(567, (70, 7))"
      ]
     },
     "execution_count": 19,
     "metadata": {},
     "output_type": "execute_result"
    }
   ],
   "source": [
    "seat = 'BFFFBBFRRR'\n",
    "seat_id = seat2n(seat)\n",
    "rowcol = divmod(seat_id, 8)\n",
    "seat_id, rowcol"
   ]
  },
  {
   "cell_type": "code",
   "execution_count": 22,
   "metadata": {},
   "outputs": [
    {
     "data": {
      "text/plain": [
       "(119, (14, 7))"
      ]
     },
     "execution_count": 22,
     "metadata": {},
     "output_type": "execute_result"
    }
   ],
   "source": [
    "seat = 'FFFBBBFRRR'\n",
    "seat_id = seat2n(seat)\n",
    "rowcol = divmod(seat_id, 8)\n",
    "seat_id, rowcol"
   ]
  },
  {
   "cell_type": "code",
   "execution_count": 23,
   "metadata": {},
   "outputs": [
    {
     "data": {
      "text/plain": [
       "(820, (102, 4))"
      ]
     },
     "execution_count": 23,
     "metadata": {},
     "output_type": "execute_result"
    }
   ],
   "source": [
    "seat = 'BBFFBBFRLL'\n",
    "seat_id = seat2n(seat)\n",
    "rowcol = divmod(seat_id, 8)\n",
    "seat_id, rowcol"
   ]
  },
  {
   "cell_type": "markdown",
   "metadata": {},
   "source": [
    "# 1"
   ]
  },
  {
   "cell_type": "code",
   "execution_count": 15,
   "metadata": {},
   "outputs": [
    {
     "data": {
      "text/plain": [
       "987"
      ]
     },
     "execution_count": 15,
     "metadata": {},
     "output_type": "execute_result"
    }
   ],
   "source": [
    "max(seat2n(x) for x in data)"
   ]
  },
  {
   "cell_type": "markdown",
   "metadata": {},
   "source": [
    "# 2"
   ]
  },
  {
   "cell_type": "code",
   "execution_count": 24,
   "metadata": {},
   "outputs": [],
   "source": [
    "seatnums = [seat2n(x) for x in data]\n",
    "seatnums.sort()"
   ]
  },
  {
   "cell_type": "code",
   "execution_count": 25,
   "metadata": {},
   "outputs": [
    {
     "data": {
      "text/plain": [
       "([96, 97, 98], [985, 986, 987])"
      ]
     },
     "execution_count": 25,
     "metadata": {},
     "output_type": "execute_result"
    }
   ],
   "source": [
    "seatnums[:3], seatnums[-3:]"
   ]
  },
  {
   "cell_type": "code",
   "execution_count": 30,
   "metadata": {},
   "outputs": [
    {
     "name": "stdout",
     "output_type": "stream",
     "text": [
      "603\n"
     ]
    }
   ],
   "source": [
    "for (a, b) in zip(seatnums, seatnums[1:]):\n",
    "    if b - a > 1:\n",
    "        print(a + 1)\n",
    "        break"
   ]
  },
  {
   "cell_type": "markdown",
   "metadata": {},
   "source": [
    "## reddit"
   ]
  },
  {
   "cell_type": "code",
   "execution_count": 35,
   "metadata": {},
   "outputs": [
    {
     "name": "stdout",
     "output_type": "stream",
     "text": [
      "Part 1: 987\n",
      "Part 2: 603\n"
     ]
    }
   ],
   "source": [
    "with open(datafile) as fh:\n",
    "    data = [y for y in (x.strip() for x in fh) if y]\n",
    "\n",
    "transtbl = {\n",
    "    ord('F'): '0',\n",
    "    ord('B'): '1',\n",
    "    ord('L'): '0',\n",
    "    ord('R'): '1'\n",
    "}\n",
    "\n",
    "def seat2n(seatcode):\n",
    "    return int(seatcode.translate(transtbl), 2)\n",
    "\n",
    "seatnums = sorted(seat2n(x) for x in data)\n",
    "\n",
    "part_1 = max(seatnums)\n",
    "\n",
    "for (a, b) in zip(seatnums, seatnums[1:]):\n",
    "    if b - a > 1:\n",
    "        part_2 = a + 1\n",
    "        break\n",
    "\n",
    "print(\"Part 1:\", part_1)\n",
    "print(\"Part 2:\", part_2)"
   ]
  },
  {
   "cell_type": "markdown",
   "metadata": {},
   "source": [
    "## improved"
   ]
  },
  {
   "cell_type": "code",
   "execution_count": 38,
   "metadata": {},
   "outputs": [
    {
     "name": "stdout",
     "output_type": "stream",
     "text": [
      "Part 1: 987\n",
      "Part 2: 603\n"
     ]
    }
   ],
   "source": [
    "with open(datafile) as fh:\n",
    "    data = [y for y in (x.strip() for x in fh) if y]\n",
    "\n",
    "transtbl = str.maketrans('FBLR', '0101')\n",
    "\n",
    "def seat2n(seatcode):\n",
    "    return int(seatcode.translate(transtbl), 2)\n",
    "\n",
    "seatnums = set(seat2n(x) for x in data)\n",
    "\n",
    "part_1 = max(seatnums)\n",
    "\n",
    "part_2 = next(x for x in range(min(seatnums), max(seatnums)) if x not in seatnums)\n",
    "\n",
    "print(\"Part 1:\", part_1)\n",
    "print(\"Part 2:\", part_2)"
   ]
  }
 ],
 "metadata": {
  "kernelspec": {
   "display_name": "Python 3",
   "language": "python",
   "name": "python3"
  },
  "language_info": {
   "codemirror_mode": {
    "name": "ipython",
    "version": 3
   },
   "file_extension": ".py",
   "mimetype": "text/x-python",
   "name": "python",
   "nbconvert_exporter": "python",
   "pygments_lexer": "ipython3",
   "version": "3.8.5"
  }
 },
 "nbformat": 4,
 "nbformat_minor": 4
}
