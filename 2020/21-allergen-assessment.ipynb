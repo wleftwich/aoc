{
 "cells": [
  {
   "cell_type": "markdown",
   "metadata": {},
   "source": [
    "https://adventofcode.com/2020/day/21"
   ]
  },
  {
   "cell_type": "code",
   "execution_count": 67,
   "metadata": {},
   "outputs": [],
   "source": [
    "from collections import defaultdict, Counter"
   ]
  },
  {
   "cell_type": "code",
   "execution_count": 68,
   "metadata": {},
   "outputs": [],
   "source": [
    "datafile = 'data/21-1.txt'"
   ]
  },
  {
   "cell_type": "code",
   "execution_count": 71,
   "metadata": {},
   "outputs": [],
   "source": [
    "def parse_data(lines):\n",
    "    L = []\n",
    "    for line in lines:\n",
    "        line = line.strip()\n",
    "        if not line:\n",
    "            continue\n",
    "        ingredient_str, allergen_str = line.split('(contains')\n",
    "        ingredients = tuple(ingredient_str.split())\n",
    "        allergens = tuple(allergen_str.replace(',', ' ').replace(')', ' ').split())\n",
    "        L.append((ingredients, allergens))\n",
    "    return L"
   ]
  },
  {
   "cell_type": "code",
   "execution_count": 69,
   "metadata": {},
   "outputs": [],
   "source": [
    "testtxt = \"\"\"\\\n",
    "mxmxvkd kfcds sqjhc nhms (contains dairy, fish)\n",
    "trh fvjkl sbzzf mxmxvkd (contains dairy)\n",
    "sqjhc fvjkl (contains soy)\n",
    "sqjhc mxmxvkd sbzzf (contains fish)\n",
    "\"\"\""
   ]
  },
  {
   "cell_type": "code",
   "execution_count": 4,
   "metadata": {},
   "outputs": [],
   "source": [
    "testdata = parse_data(testtxt.split('\\n'))"
   ]
  },
  {
   "cell_type": "code",
   "execution_count": 5,
   "metadata": {},
   "outputs": [
    {
     "data": {
      "text/plain": [
       "[(('mxmxvkd', 'kfcds', 'sqjhc', 'nhms'), ('dairy', 'fish')),\n",
       " (('trh', 'fvjkl', 'sbzzf', 'mxmxvkd'), ('dairy',)),\n",
       " (('sqjhc', 'fvjkl'), ('soy',)),\n",
       " (('sqjhc', 'mxmxvkd', 'sbzzf'), ('fish',))]"
      ]
     },
     "execution_count": 5,
     "metadata": {},
     "output_type": "execute_result"
    }
   ],
   "source": [
    "testdata"
   ]
  },
  {
   "cell_type": "code",
   "execution_count": 72,
   "metadata": {},
   "outputs": [],
   "source": [
    "with open(datafile) as fh:\n",
    "    data = parse_data(fh)"
   ]
  },
  {
   "cell_type": "code",
   "execution_count": 73,
   "metadata": {},
   "outputs": [
    {
     "data": {
      "text/plain": [
       "(42,\n",
       " [(('rgt',\n",
       "    'lmpxcr',\n",
       "    'ssgkt',\n",
       "    'klfp',\n",
       "    'dfpqn',\n",
       "    'scqc',\n",
       "    'vzzxl',\n",
       "    'hphcb',\n",
       "    'pbmhl',\n",
       "    'xrlmvz',\n",
       "    'fvd',\n",
       "    'cpj',\n",
       "    'kxl',\n",
       "    'gpplt',\n",
       "    'jkrsn',\n",
       "    'bhlbm',\n",
       "    'dkxr',\n",
       "    'vrzkz',\n",
       "    'drpxzr',\n",
       "    'bxhsq',\n",
       "    'cvz',\n",
       "    'nvhnsg',\n",
       "    'jtzsqznl',\n",
       "    'fjbjj',\n",
       "    'slglnd',\n",
       "    'qdbq',\n",
       "    'gnrb',\n",
       "    'zpbbvvm',\n",
       "    'bqb',\n",
       "    'mbdksj',\n",
       "    'nlxh',\n",
       "    'gtzp',\n",
       "    'jrlvkz',\n",
       "    'ctmzsr',\n",
       "    'znjp',\n",
       "    'zvmnv',\n",
       "    'lhsgbq',\n",
       "    'pdxhgx',\n",
       "    'jrcczb',\n",
       "    'vrpzss',\n",
       "    'qdbj',\n",
       "    'lsc',\n",
       "    'jhrgz',\n",
       "    'hqlm',\n",
       "    'qlt',\n",
       "    'kh',\n",
       "    'grjf',\n",
       "    'brhfcbt',\n",
       "    'zjsh',\n",
       "    'pkmbk',\n",
       "    'rncjx',\n",
       "    'nmszz',\n",
       "    'fzpds',\n",
       "    'qglps',\n",
       "    'zjsz',\n",
       "    'qfnq',\n",
       "    'ftfx',\n",
       "    'bbkth',\n",
       "    'rkzqs',\n",
       "    'vgp'),\n",
       "   ('nuts', 'shellfish')),\n",
       "  (('slmjchql',\n",
       "    'qfnq',\n",
       "    'lqdpl',\n",
       "    'bgdq',\n",
       "    'tjxp',\n",
       "    'rkzqs',\n",
       "    'zjsh',\n",
       "    'znklc',\n",
       "    'qdbj',\n",
       "    'pbtns',\n",
       "    'cpsbgsh',\n",
       "    'qbtpnr',\n",
       "    'nmszz',\n",
       "    'vzzxl',\n",
       "    'vrzkz',\n",
       "    'vtrltkq',\n",
       "    'znfrgvc',\n",
       "    'dksfbk',\n",
       "    'cvz',\n",
       "    'qfvvf',\n",
       "    'cvtj',\n",
       "    'dmpl',\n",
       "    'qnt',\n",
       "    'hbbz',\n",
       "    'zmhnj',\n",
       "    'dfpqn',\n",
       "    'rncjx',\n",
       "    'scqc',\n",
       "    'bccz',\n",
       "    'hdnq',\n",
       "    'zpbbvvm',\n",
       "    'lnpbh',\n",
       "    'pdxhgx',\n",
       "    'nqstv',\n",
       "    'fhpxz',\n",
       "    'ftfx',\n",
       "    'rgt',\n",
       "    'ztrpkb',\n",
       "    'lqtnn',\n",
       "    'dqdn',\n",
       "    'vlqtzzl',\n",
       "    'msvgj',\n",
       "    'dkxr',\n",
       "    'fptpk',\n",
       "    'bbkth',\n",
       "    'jgkp',\n",
       "    'hmshx',\n",
       "    'xrlmvz',\n",
       "    'trlmqn',\n",
       "    'znjp',\n",
       "    'vgp',\n",
       "    'ztlbvp',\n",
       "    'klfp',\n",
       "    'slglnd',\n",
       "    'rmthpj',\n",
       "    'nfzczn',\n",
       "    'hdkc',\n",
       "    'nvhnsg',\n",
       "    'cntfbt',\n",
       "    'rmpnm',\n",
       "    'bqfqcjb',\n",
       "    'tkrr',\n",
       "    'jgxbzks',\n",
       "    'sks',\n",
       "    'pchhkp',\n",
       "    'qsrh',\n",
       "    'kh',\n",
       "    'mbdksj',\n",
       "    'ctmzsr',\n",
       "    'drpxzr',\n",
       "    'xlqj',\n",
       "    'bhlbm'),\n",
       "   ('soy', 'eggs', 'shellfish')),\n",
       "  (('zjdzx',\n",
       "    'cpj',\n",
       "    'bqfqcjb',\n",
       "    'bqb',\n",
       "    'ztlbvp',\n",
       "    'hdkc',\n",
       "    'hphcb',\n",
       "    'zjsh',\n",
       "    'pkgsf',\n",
       "    'qllxhr',\n",
       "    'grjf',\n",
       "    'rgt',\n",
       "    'vfnv',\n",
       "    'gtzp',\n",
       "    'sbsrk',\n",
       "    'hdnq',\n",
       "    'vzzxl',\n",
       "    'httx',\n",
       "    'vgp',\n",
       "    'cntfbt',\n",
       "    'ghfk',\n",
       "    'hmshx',\n",
       "    'rzjcs',\n",
       "    'dbfk',\n",
       "    'xfvtzq',\n",
       "    'nvhnsg',\n",
       "    'znfrgvc',\n",
       "    'bbkth',\n",
       "    'svrx',\n",
       "    'rcv',\n",
       "    'bgdq',\n",
       "    'hqjgzmt',\n",
       "    'rkzqs',\n",
       "    'nmq',\n",
       "    'lqdpl',\n",
       "    'zcxxdp',\n",
       "    'dxpdkp',\n",
       "    'nqstv',\n",
       "    'vrtfrj',\n",
       "    'zhvsdc',\n",
       "    'rsrgmkr',\n",
       "    'nlxh',\n",
       "    'lmpxcr',\n",
       "    'rmpnm',\n",
       "    'kxl',\n",
       "    'qzbzd',\n",
       "    'fzpds',\n",
       "    'sltl',\n",
       "    'cvtj',\n",
       "    'zvmnv',\n",
       "    'jgxbzks',\n",
       "    'vrzkz',\n",
       "    'cpsbgsh',\n",
       "    'zdrlf',\n",
       "    'cqbkj',\n",
       "    'nmszz',\n",
       "    'jrcczb',\n",
       "    'qvhdl',\n",
       "    'dlc',\n",
       "    'sks',\n",
       "    'lvjrbms',\n",
       "    'vfhvp',\n",
       "    'lhb',\n",
       "    'knhvxm',\n",
       "    'qlt',\n",
       "    'dqdn',\n",
       "    'ssgkt',\n",
       "    'slmjchql',\n",
       "    'nvbr',\n",
       "    'cgrcmp',\n",
       "    'pkmbk',\n",
       "    'vllxj',\n",
       "    'spzmvfl',\n",
       "    'rvnfn',\n",
       "    'ctmzsr',\n",
       "    'cvz',\n",
       "    'zqgzlr',\n",
       "    'zmhnj',\n",
       "    'fzgbq',\n",
       "    'bhlbm'),\n",
       "   ('shellfish',))])"
      ]
     },
     "execution_count": 73,
     "metadata": {},
     "output_type": "execute_result"
    }
   ],
   "source": [
    "len(data), data[:3]"
   ]
  },
  {
   "cell_type": "code",
   "execution_count": 87,
   "metadata": {},
   "outputs": [
    {
     "name": "stdout",
     "output_type": "stream",
     "text": [
      "CPU times: user 2.93 ms, sys: 221 µs, total: 3.15 ms\n",
      "Wall time: 3.16 ms\n"
     ]
    }
   ],
   "source": [
    "%%time\n",
    "foods = defaultdict(list)\n",
    "allergen_ingredients = defaultdict(set)\n",
    "ingredient_counts = Counter()\n",
    "for ingredients, allergens in data:\n",
    "    for ingredient in ingredients:\n",
    "        ingredient_counts[ingredient] += 1    \n",
    "    for allergen in allergens:\n",
    "        S = set()\n",
    "        foods[allergen].append(S)\n",
    "        for ingredient in ingredients:\n",
    "            S.add(ingredient)\n",
    "            allergen_ingredients[allergen].add(ingredient)"
   ]
  },
  {
   "cell_type": "code",
   "execution_count": 88,
   "metadata": {},
   "outputs": [
    {
     "name": "stdout",
     "output_type": "stream",
     "text": [
      "CPU times: user 181 µs, sys: 13 µs, total: 194 µs\n",
      "Wall time: 200 µs\n"
     ]
    }
   ],
   "source": [
    "%%time\n",
    "for k, v in foods.items():\n",
    "    allergen_ingredients[k].intersection_update(set.intersection(*v))\n",
    "#     intersect = set.intersection(*v)\n",
    "#     possible.intersection_update(intersect)"
   ]
  },
  {
   "cell_type": "code",
   "execution_count": 89,
   "metadata": {},
   "outputs": [
    {
     "data": {
      "text/plain": [
       "8"
      ]
     },
     "execution_count": 89,
     "metadata": {},
     "output_type": "execute_result"
    }
   ],
   "source": [
    "len(allergen_ingredients)"
   ]
  },
  {
   "cell_type": "code",
   "execution_count": 90,
   "metadata": {},
   "outputs": [],
   "source": [
    "ingredients_possibly_allergens = set.union(*allergen_ingredients.values())"
   ]
  },
  {
   "cell_type": "code",
   "execution_count": 84,
   "metadata": {},
   "outputs": [],
   "source": [
    "# ingredients_in_possibles = set()\n",
    "# for v in possibles.values():\n",
    "#     ingredients_in_possibles.update(v)"
   ]
  },
  {
   "cell_type": "code",
   "execution_count": 92,
   "metadata": {},
   "outputs": [],
   "source": [
    "inert_ingredients = set(ingredient_counts).difference(ingredients_possibly_allergens)"
   ]
  },
  {
   "cell_type": "code",
   "execution_count": 93,
   "metadata": {},
   "outputs": [
    {
     "data": {
      "text/plain": [
       "2282"
      ]
     },
     "execution_count": 93,
     "metadata": {},
     "output_type": "execute_result"
    }
   ],
   "source": [
    "sum(v for k, v in ingredient_counts.items() if k in inert_ingredients)"
   ]
  },
  {
   "cell_type": "markdown",
   "metadata": {},
   "source": [
    "## Part 2"
   ]
  },
  {
   "cell_type": "code",
   "execution_count": 94,
   "metadata": {},
   "outputs": [
    {
     "data": {
      "text/plain": [
       "defaultdict(set,\n",
       "            {'nuts': {'mbdksj', 'zjsh'},\n",
       "             'shellfish': {'rkzqs'},\n",
       "             'soy': {'ctmzsr', 'rkzqs', 'zmhnj'},\n",
       "             'eggs': {'ctmzsr', 'rkzqs', 'vzzxl', 'zjsh', 'zmhnj'},\n",
       "             'sesame': {'ctmzsr', 'rkzqs'},\n",
       "             'fish': {'hphcb', 'rkzqs'},\n",
       "             'dairy': {'rkzqs', 'vrzkz', 'zjsh', 'zmhnj'},\n",
       "             'peanuts': {'hphcb', 'rkzqs', 'vzzxl'}})"
      ]
     },
     "execution_count": 94,
     "metadata": {},
     "output_type": "execute_result"
    }
   ],
   "source": [
    "allergen_ingredients"
   ]
  },
  {
   "cell_type": "code",
   "execution_count": 95,
   "metadata": {},
   "outputs": [],
   "source": [
    "import copy"
   ]
  },
  {
   "cell_type": "code",
   "execution_count": 114,
   "metadata": {},
   "outputs": [
    {
     "data": {
      "text/plain": [
       "defaultdict(set,\n",
       "            {'nuts': {'mbdksj', 'zjsh'},\n",
       "             'shellfish': {'rkzqs'},\n",
       "             'soy': {'ctmzsr', 'rkzqs', 'zmhnj'},\n",
       "             'eggs': {'ctmzsr', 'rkzqs', 'vzzxl', 'zjsh', 'zmhnj'},\n",
       "             'sesame': {'ctmzsr', 'rkzqs'},\n",
       "             'fish': {'hphcb', 'rkzqs'},\n",
       "             'dairy': {'rkzqs', 'vrzkz', 'zjsh', 'zmhnj'},\n",
       "             'peanuts': {'hphcb', 'rkzqs', 'vzzxl'}})"
      ]
     },
     "execution_count": 114,
     "metadata": {},
     "output_type": "execute_result"
    }
   ],
   "source": [
    "allergens = copy.deepcopy(allergen_ingredients)\n",
    "allergens"
   ]
  },
  {
   "cell_type": "code",
   "execution_count": 115,
   "metadata": {},
   "outputs": [
    {
     "data": {
      "text/plain": [
       "1"
      ]
     },
     "execution_count": 115,
     "metadata": {},
     "output_type": "execute_result"
    }
   ],
   "source": [
    "singleton_count = sum(len(v) == 1 for v in allergens.values())\n",
    "singleton_count"
   ]
  },
  {
   "cell_type": "code",
   "execution_count": 117,
   "metadata": {},
   "outputs": [
    {
     "name": "stdout",
     "output_type": "stream",
     "text": [
      "all done\n"
     ]
    }
   ],
   "source": [
    "singletons = [(k, next(iter(v))) for (k, v) in allergens.items() if len(v) == 1]\n",
    "singletoncount = len(singletons)\n",
    "while True:\n",
    "    for (allergen, ingredient) in singletons:\n",
    "        for k, v in allergens.items():\n",
    "            if k != allergen:\n",
    "                v.discard(ingredient)\n",
    "    singletons = [(k, next(iter(v))) for (k, v) in allergens.items() if len(v) == 1]\n",
    "    new_singletoncount = len(singletons)\n",
    "    if new_singletoncount == singletoncount:\n",
    "        print ('all done')\n",
    "        break\n",
    "    singletoncount = new_singletoncount"
   ]
  },
  {
   "cell_type": "code",
   "execution_count": 118,
   "metadata": {},
   "outputs": [
    {
     "data": {
      "text/plain": [
       "defaultdict(set,\n",
       "            {'nuts': {'mbdksj'},\n",
       "             'shellfish': {'rkzqs'},\n",
       "             'soy': {'zmhnj'},\n",
       "             'eggs': {'zjsh'},\n",
       "             'sesame': {'ctmzsr'},\n",
       "             'fish': {'hphcb'},\n",
       "             'dairy': {'vrzkz'},\n",
       "             'peanuts': {'vzzxl'}})"
      ]
     },
     "execution_count": 118,
     "metadata": {},
     "output_type": "execute_result"
    }
   ],
   "source": [
    "allergens"
   ]
  },
  {
   "cell_type": "code",
   "execution_count": 119,
   "metadata": {},
   "outputs": [],
   "source": [
    "assert not any(len(v) > 1 for v in allergens.values())"
   ]
  },
  {
   "cell_type": "code",
   "execution_count": 120,
   "metadata": {},
   "outputs": [],
   "source": [
    "dangerous_ingredients = [next(iter(v)) for (k, v) in sorted(allergens.items(), key=lambda x: x[0])]"
   ]
  },
  {
   "cell_type": "code",
   "execution_count": 121,
   "metadata": {},
   "outputs": [
    {
     "data": {
      "text/plain": [
       "'vrzkz,zjsh,hphcb,mbdksj,vzzxl,ctmzsr,rkzqs,zmhnj'"
      ]
     },
     "execution_count": 121,
     "metadata": {},
     "output_type": "execute_result"
    }
   ],
   "source": [
    "part_2 = ','.join(dangerous_ingredients)\n",
    "part_2"
   ]
  },
  {
   "cell_type": "code",
   "execution_count": null,
   "metadata": {},
   "outputs": [],
   "source": [
    "# version for github"
   ]
  },
  {
   "cell_type": "code",
   "execution_count": null,
   "metadata": {},
   "outputs": [],
   "source": [
    "import copy\n",
    "from collections import defaultdict, Counter\n",
    "\n",
    "datafile = 'data/21-1.txt'\n",
    "\n",
    "def parse_data(lines):\n",
    "    L = []\n",
    "    for line in lines:\n",
    "        line = line.strip()\n",
    "        if not line:\n",
    "            continue\n",
    "        ingredient_str, allergen_str = line.split('(contains')\n",
    "        ingredients = tuple(ingredient_str.split())\n",
    "        allergens = tuple(allergen_str.replace(',', ' ').replace(')', ' ').split())\n",
    "        L.append((ingredients, allergens))\n",
    "    return L\n",
    "\n",
    "with open(datafile) as fh:\n",
    "    data = parse_data(fh)\n",
    "\n",
    "foods = defaultdict(list)\n",
    "allergen_ingredients = defaultdict(set)\n",
    "ingredient_counts = Counter()\n",
    "for ingredients, allergens in data:\n",
    "    for ingredient in ingredients:\n",
    "        ingredient_counts[ingredient] += 1    \n",
    "    for allergen in allergens:\n",
    "        S = set()\n",
    "        foods[allergen].append(S)\n",
    "        for ingredient in ingredients:\n",
    "            S.add(ingredient)\n",
    "            allergen_ingredients[allergen].add(ingredient)\n",
    "\n",
    "for k, v in foods.items():\n",
    "    allergen_ingredients[k].intersection_update(set.intersection(*v))\n",
    "\n",
    "ingredients_possibly_allergens = set.union(*allergen_ingredients.values())\n",
    "inert_ingredients = set(ingredient_counts).difference(ingredients_possibly_allergens)\n",
    "part_1 = sum(v for k, v in ingredient_counts.items() if k in inert_ingredients)\n",
    "\n",
    "# Part 2\n",
    "\n",
    "allergens = copy.deepcopy(allergen_ingredients)\n",
    "\n",
    "singletons = [(k, next(iter(v))) for (k, v) in allergens.items() if len(v) == 1]\n",
    "singletoncount = len(singletons)\n",
    "while True:\n",
    "    for (allergen, ingredient) in singletons:\n",
    "        for k, v in allergens.items():\n",
    "            if k != allergen:\n",
    "                v.discard(ingredient)\n",
    "    singletons = [(k, next(iter(v))) for (k, v) in allergens.items() if len(v) == 1]\n",
    "    new_singletoncount = len(singletons)\n",
    "    if new_singletoncount == singletoncount:\n",
    "        print ('all done')\n",
    "        break\n",
    "    singletoncount = new_singletoncount\n",
    "\n",
    "assert all(len(v) == 1 for v in allergens.values())\n",
    "\n",
    "dangerous_ingredients = [next(iter(v)) for (k, v) in sorted(allergens.items(), key=lambda x: x[0])]\n",
    "part_2 = ','.join(dangerous_ingredients)\n",
    "\n"
   ]
  }
 ],
 "metadata": {
  "kernelspec": {
   "display_name": "Python 3",
   "language": "python",
   "name": "python3"
  },
  "language_info": {
   "codemirror_mode": {
    "name": "ipython",
    "version": 3
   },
   "file_extension": ".py",
   "mimetype": "text/x-python",
   "name": "python",
   "nbconvert_exporter": "python",
   "pygments_lexer": "ipython3",
   "version": "3.8.5"
  }
 },
 "nbformat": 4,
 "nbformat_minor": 4
}
