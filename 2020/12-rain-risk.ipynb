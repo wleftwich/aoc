{
 "cells": [
  {
   "cell_type": "markdown",
   "metadata": {},
   "source": [
    "https://adventofcode.com/2020/day/12"
   ]
  },
  {
   "cell_type": "code",
   "execution_count": 13,
   "metadata": {},
   "outputs": [],
   "source": [
    "datafile = 'data/12-1.txt'"
   ]
  },
  {
   "cell_type": "code",
   "execution_count": 40,
   "metadata": {},
   "outputs": [],
   "source": [
    "with open(datafile) as fh:\n",
    "    data = [y for y in (x.strip() for x in fh) if y]"
   ]
  },
  {
   "cell_type": "code",
   "execution_count": 41,
   "metadata": {},
   "outputs": [
    {
     "data": {
      "text/plain": [
       "(762, ['L90', 'N5', 'L180'])"
      ]
     },
     "execution_count": 41,
     "metadata": {},
     "output_type": "execute_result"
    }
   ],
   "source": [
    "len(data), data[:3]"
   ]
  },
  {
   "cell_type": "code",
   "execution_count": 22,
   "metadata": {},
   "outputs": [
    {
     "data": {
      "text/plain": [
       "(-0-1j)"
      ]
     },
     "execution_count": 22,
     "metadata": {},
     "output_type": "execute_result"
    }
   ],
   "source": [
    "pow(1j, 3)"
   ]
  },
  {
   "cell_type": "code",
   "execution_count": 32,
   "metadata": {},
   "outputs": [],
   "source": [
    "class Navigate:\n",
    "    \n",
    "    def N(self, x, p, h):\n",
    "        return p + x * 1j, h\n",
    "    \n",
    "    def S(self, x, p, h):\n",
    "        return p + x * -1j, h\n",
    "    \n",
    "    def E(self, x, p, h):\n",
    "        return p + x, h\n",
    "    \n",
    "    def W(self, x, p, h):\n",
    "        return p + x * -1, h\n",
    "    \n",
    "    def L(self, x, p, h):\n",
    "        return p, h * pow(1j, (x % 360) // 90)\n",
    "\n",
    "    def R(self, x, p, h):\n",
    "        return p, h * pow(-1j, (x % 360) // 90)\n",
    "    \n",
    "    def F(self, x, p, h):\n",
    "        return p + x * h, h\n",
    "    \n",
    "    def __call__(self, cmd, p, h):\n",
    "        fun, arg = cmd[0], cmd[1:]\n",
    "        return getattr(self, fun)(int(arg), p, h)\n",
    "\n",
    "    \n",
    "navigate = Navigate()        "
   ]
  },
  {
   "cell_type": "code",
   "execution_count": 24,
   "metadata": {},
   "outputs": [
    {
     "data": {
      "text/plain": [
       "(0, 1j)"
      ]
     },
     "execution_count": 24,
     "metadata": {},
     "output_type": "execute_result"
    }
   ],
   "source": [
    "navigate('L90', 0, 1)"
   ]
  },
  {
   "cell_type": "code",
   "execution_count": 25,
   "metadata": {},
   "outputs": [
    {
     "data": {
      "text/plain": [
       "((-578+429j), (-0-1j))"
      ]
     },
     "execution_count": 25,
     "metadata": {},
     "output_type": "execute_result"
    }
   ],
   "source": [
    "position, heading = 0, 1\n",
    "for command in data:\n",
    "    position, heading = navigate(command, position, heading)\n",
    "position, heading"
   ]
  },
  {
   "cell_type": "code",
   "execution_count": 26,
   "metadata": {},
   "outputs": [
    {
     "data": {
      "text/plain": [
       "1007.0"
      ]
     },
     "execution_count": 26,
     "metadata": {},
     "output_type": "execute_result"
    }
   ],
   "source": [
    "part_1 = abs(position.real) + abs(position.imag)\n",
    "part_1"
   ]
  },
  {
   "cell_type": "code",
   "execution_count": 33,
   "metadata": {},
   "outputs": [],
   "source": [
    "class WaypointNavigate(Navigate):\n",
    "    \n",
    "    def N(self, x, p, h):\n",
    "        return p, h + x * 1j\n",
    "    \n",
    "    def S(self, x, p, h):\n",
    "        return p, h + x * -1j\n",
    "    \n",
    "    def E(self, x, p, h):\n",
    "        return p, h + x\n",
    "    \n",
    "    def W(self, x, p, h):\n",
    "        return p, h + x * -1\n",
    "    \n",
    "\n",
    "wpnavigate = WaypointNavigate()        "
   ]
  },
  {
   "cell_type": "code",
   "execution_count": 34,
   "metadata": {},
   "outputs": [],
   "source": [
    "pos, wp = 0, 10+1j\n",
    "for cmd in ['F10', 'N3', 'F7', 'R90', 'F11']:\n",
    "    pos, wp = wpnavigate(cmd, pos, wp)"
   ]
  },
  {
   "cell_type": "code",
   "execution_count": 35,
   "metadata": {},
   "outputs": [
    {
     "data": {
      "text/plain": [
       "((214-72j), (4-10j))"
      ]
     },
     "execution_count": 35,
     "metadata": {},
     "output_type": "execute_result"
    }
   ],
   "source": [
    "pos, wp"
   ]
  },
  {
   "cell_type": "code",
   "execution_count": 36,
   "metadata": {},
   "outputs": [
    {
     "data": {
      "text/plain": [
       "286.0"
      ]
     },
     "execution_count": 36,
     "metadata": {},
     "output_type": "execute_result"
    }
   ],
   "source": [
    "abs(pos.real) + abs(pos.imag)"
   ]
  },
  {
   "cell_type": "code",
   "execution_count": 37,
   "metadata": {},
   "outputs": [],
   "source": [
    "pos, wp = 0, 10+1j\n",
    "for cmd in data:\n",
    "    pos, wp = wpnavigate(cmd, pos, wp)"
   ]
  },
  {
   "cell_type": "code",
   "execution_count": 38,
   "metadata": {},
   "outputs": [
    {
     "data": {
      "text/plain": [
       "((-36653-4559j), (-25-46j))"
      ]
     },
     "execution_count": 38,
     "metadata": {},
     "output_type": "execute_result"
    }
   ],
   "source": [
    "pos, wp"
   ]
  },
  {
   "cell_type": "code",
   "execution_count": 39,
   "metadata": {},
   "outputs": [
    {
     "data": {
      "text/plain": [
       "41212.0"
      ]
     },
     "execution_count": 39,
     "metadata": {},
     "output_type": "execute_result"
    }
   ],
   "source": [
    "part_2 = abs(pos.real) + abs(pos.imag)\n",
    "part_2"
   ]
  },
  {
   "cell_type": "markdown",
   "metadata": {},
   "source": [
    "## reddit"
   ]
  },
  {
   "cell_type": "code",
   "execution_count": 48,
   "metadata": {},
   "outputs": [],
   "source": [
    "with open(datafile) as fh:\n",
    "    data = [y for y in (x.strip() for x in fh) if y]\n",
    "\n",
    "# Part 1\n",
    "\n",
    "class Navigate:\n",
    "    \n",
    "    def N(self, x, p, h):\n",
    "        return p + x * 1j, h\n",
    "    \n",
    "    def S(self, x, p, h):\n",
    "        return p + x * -1j, h\n",
    "    \n",
    "    def E(self, x, p, h):\n",
    "        return p + x, h\n",
    "    \n",
    "    def W(self, x, p, h):\n",
    "        return p + x * -1, h\n",
    "    \n",
    "    def L(self, x, p, h):\n",
    "        if x % 90:\n",
    "            raise ValueError(\"L command only defined for multiples of 90\")\n",
    "        return p, h * pow(1j, (x % 360) // 90)\n",
    "\n",
    "    def R(self, x, p, h):\n",
    "        if x % 90:\n",
    "            raise ValueError(\"R command only defined for multiples of 90\")\n",
    "        return p, h * pow(-1j, (x % 360) // 90)\n",
    "    \n",
    "    def F(self, x, p, h):\n",
    "        return p + x * h, h\n",
    "    \n",
    "    def __call__(self, cmd, p, h):\n",
    "        fun, arg = cmd[0], cmd[1:]\n",
    "        return getattr(self, fun)(int(arg), p, h)\n",
    "\n",
    "    \n",
    "navigate = Navigate()        \n",
    "position, heading = 0, 1\n",
    "for command in data:\n",
    "    position, heading = navigate(command, position, heading)\n",
    "part_1 = abs(position.real) + abs(position.imag)\n",
    "\n",
    "\n",
    "# Part 2\n",
    "\n",
    "class WaypointNavigate(Navigate):\n",
    "    \n",
    "    def N(self, x, p, h):\n",
    "        return p, h + x * 1j\n",
    "    \n",
    "    def S(self, x, p, h):\n",
    "        return p, h + x * -1j\n",
    "    \n",
    "    def E(self, x, p, h):\n",
    "        return p, h + x\n",
    "    \n",
    "    def W(self, x, p, h):\n",
    "        return p, h + x * -1\n",
    "    \n",
    "\n",
    "wpnavigate = WaypointNavigate()    \n",
    "position, waypoint = 0, 10+1j\n",
    "for command in data:\n",
    "    position, waypoint = wpnavigate(command, position, waypoint)\n",
    "part_2 = abs(position.real) + abs(position.imag)"
   ]
  },
  {
   "cell_type": "code",
   "execution_count": 49,
   "metadata": {},
   "outputs": [
    {
     "data": {
      "text/plain": [
       "(1007.0, 41212.0)"
      ]
     },
     "execution_count": 49,
     "metadata": {},
     "output_type": "execute_result"
    }
   ],
   "source": [
    "part_1, part_2"
   ]
  }
 ],
 "metadata": {
  "kernelspec": {
   "display_name": "Python 3",
   "language": "python",
   "name": "python3"
  },
  "language_info": {
   "codemirror_mode": {
    "name": "ipython",
    "version": 3
   },
   "file_extension": ".py",
   "mimetype": "text/x-python",
   "name": "python",
   "nbconvert_exporter": "python",
   "pygments_lexer": "ipython3",
   "version": "3.8.5"
  }
 },
 "nbformat": 4,
 "nbformat_minor": 4
}
