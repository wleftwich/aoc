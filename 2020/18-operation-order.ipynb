{
 "cells": [
  {
   "cell_type": "code",
   "execution_count": 9,
   "metadata": {},
   "outputs": [],
   "source": [
    "import operator\n",
    "from collections import deque"
   ]
  },
  {
   "cell_type": "code",
   "execution_count": 1,
   "metadata": {},
   "outputs": [],
   "source": [
    "datafile = 'data/18-1.txt'"
   ]
  },
  {
   "cell_type": "code",
   "execution_count": 2,
   "metadata": {},
   "outputs": [],
   "source": [
    "with open(datafile) as fh:\n",
    "    data = [x.strip() for x in fh]"
   ]
  },
  {
   "cell_type": "code",
   "execution_count": 10,
   "metadata": {},
   "outputs": [],
   "source": [
    "class Calculator:\n",
    "\n",
    "    def __init__(self):\n",
    "        self.stack = []\n",
    "        self.input = deque()\n",
    "    \n",
    "    def __call__(self, s):\n",
    "        self.__init__()\n",
    "        self.load(s)\n",
    "        return self.run()\n",
    "    \n",
    "    def tokenize(self, s):\n",
    "        cpbuf = []\n",
    "        for t in s.split():\n",
    "            while t.startswith('('):\n",
    "                yield '('\n",
    "                t = t[1:]\n",
    "            while t.endswith(')'):\n",
    "                cpbuf.append(')')\n",
    "                t = t[:-1]\n",
    "            yield t\n",
    "            while cpbuf:\n",
    "                yield cpbuf.pop()\n",
    "    \n",
    "    def load(self, s):\n",
    "        self.input.extend(self.tokenize(s))\n",
    "    \n",
    "    def run(self):\n",
    "        while self.input:\n",
    "            self.step()\n",
    "        return int(self.stack[-1])\n",
    "\n",
    "    def step(self):\n",
    "        try:\n",
    "            t = self.input.popleft()\n",
    "        except IndexError:\n",
    "            return int(self.stack[-1])\n",
    "        \n",
    "        if t == '(':\n",
    "            self.leftparen()\n",
    "        \n",
    "        elif t == ')':\n",
    "            self.rightparen()\n",
    "            \n",
    "        elif t.isdigit():\n",
    "            self.val(t)\n",
    "\n",
    "        elif t in ['+', '*']:\n",
    "            self.stack.append(t)\n",
    "\n",
    "        else:\n",
    "            raise ValueError(\"Unknown token: %s\", t)\n",
    "        \n",
    "    def leftparen(self):\n",
    "        self.stack.append('(')\n",
    "    \n",
    "    def rightparen(self):\n",
    "        t = self.stack.pop()\n",
    "        while t != '(':\n",
    "            self.input.appendleft(t)\n",
    "            t = self.stack.pop()\n",
    "\n",
    "    def val(self, t):\n",
    "        if not self.stack or self.stack[-1] == '(':\n",
    "            self.stack.append(t)\n",
    "            return\n",
    "        \n",
    "        op = self.stack.pop()\n",
    "        if op.isdigit():\n",
    "            raise ValueError(\"Two values without an intervening operator\")\n",
    "            \n",
    "        if op == '+':\n",
    "            self.add(t)\n",
    "            return\n",
    "        \n",
    "        if op == '*':\n",
    "            self.mul(t)\n",
    "            return\n",
    "        \n",
    "        raise ValueError(\"Can't happen\")\n",
    "\n",
    "    def add(self, t):\n",
    "        prev_val = self.stack.pop()\n",
    "        if not (prev_val.isdigit()):\n",
    "            raise ValueError(\"'+' preceded by non-value\")\n",
    "        self.stack.append(str(int(prev_val) + int(t)))\n",
    "    \n",
    "    def mul(self, t):\n",
    "        prev_val = self.stack.pop()\n",
    "        if not (prev_val.isdigit()):\n",
    "            raise ValueError(\"'+' preceded by non-value\")\n",
    "        self.stack.append(str(int(prev_val) * int(t)))\n"
   ]
  },
  {
   "cell_type": "code",
   "execution_count": 11,
   "metadata": {},
   "outputs": [
    {
     "data": {
      "text/plain": [
       "6640667297513"
      ]
     },
     "execution_count": 11,
     "metadata": {},
     "output_type": "execute_result"
    }
   ],
   "source": [
    "c = Calculator()\n",
    "part_1 = sum(c(x) for x in data)\n",
    "part_1"
   ]
  },
  {
   "cell_type": "code",
   "execution_count": 50,
   "metadata": {},
   "outputs": [],
   "source": [
    "OPERATORS = {\n",
    "    '+': 0,\n",
    "    '*': 0\n",
    "}"
   ]
  },
  {
   "cell_type": "code",
   "execution_count": 51,
   "metadata": {},
   "outputs": [],
   "source": [
    "def tokenize(s):\n",
    "    rpbuf = []\n",
    "    for t in s.split():\n",
    "        while t.startswith('('):\n",
    "            yield '('\n",
    "            t = t[1:]\n",
    "        while t.endswith(')'):\n",
    "            rpbuf.append(')')\n",
    "            t = t[:-1]\n",
    "        if t:\n",
    "            yield t\n",
    "        while rpbuf:\n",
    "            yield rpbuf.pop()"
   ]
  },
  {
   "cell_type": "code",
   "execution_count": 52,
   "metadata": {},
   "outputs": [],
   "source": [
    "def shuntingyard(tokens):\n",
    "    \"\"\"Infix -> RPN\"\"\"\n",
    "    stack = []\n",
    "    for t in tokens:\n",
    "        if t.isdigit():\n",
    "            yield t\n",
    "        elif t in OPERATORS:\n",
    "            while stack and stack[-1] in OPERATORS and OPERATORS[stack[-1]] >= OPERATORS[t]:\n",
    "                yield stack.pop()\n",
    "            stack.append(t)\n",
    "        elif t == '(':\n",
    "            stack.append(t)\n",
    "        elif t == ')':\n",
    "            while stack and stack[-1] != '(':\n",
    "                yield stack.pop()\n",
    "            _ = stack.pop()\n",
    "        else:\n",
    "            raise ValueError(\"Unknown token: %s\", t)\n",
    "    while stack:\n",
    "        yield stack.pop()     "
   ]
  },
  {
   "cell_type": "code",
   "execution_count": 53,
   "metadata": {},
   "outputs": [],
   "source": [
    "def evalrpn(tokens):\n",
    "    stack = []\n",
    "    for t in tokens:\n",
    "        if t.isdigit():\n",
    "            stack.append(int(t))\n",
    "        else:\n",
    "            if t == '*':\n",
    "                stack.append(stack.pop() * stack.pop())\n",
    "            elif t == '+':\n",
    "                stack.append(stack.pop() + stack.pop())\n",
    "            else:\n",
    "                raise ValueError('Undefined operator: %s' % t)\n",
    "    return stack.pop()"
   ]
  },
  {
   "cell_type": "code",
   "execution_count": 54,
   "metadata": {},
   "outputs": [],
   "source": [
    "def calculate(s):\n",
    "    return evalrpn(shuntingyard(tokenize(s)))"
   ]
  },
  {
   "cell_type": "code",
   "execution_count": 55,
   "metadata": {},
   "outputs": [],
   "source": [
    "s = '2 * 3 + (4 * 5)'"
   ]
  },
  {
   "cell_type": "code",
   "execution_count": 56,
   "metadata": {},
   "outputs": [
    {
     "data": {
      "text/plain": [
       "6640667297513"
      ]
     },
     "execution_count": 56,
     "metadata": {},
     "output_type": "execute_result"
    }
   ],
   "source": [
    "part_1 = sum(calculate(x) for x in data)\n",
    "part_1"
   ]
  },
  {
   "cell_type": "markdown",
   "metadata": {},
   "source": [
    "## part 2"
   ]
  },
  {
   "cell_type": "code",
   "execution_count": 57,
   "metadata": {},
   "outputs": [],
   "source": [
    "OPERATORS = {\n",
    "    '+': 1,\n",
    "    '*': 0\n",
    "}"
   ]
  },
  {
   "cell_type": "code",
   "execution_count": 58,
   "metadata": {},
   "outputs": [
    {
     "data": {
      "text/plain": [
       "451589894841552"
      ]
     },
     "execution_count": 58,
     "metadata": {},
     "output_type": "execute_result"
    }
   ],
   "source": [
    "part_2 = sum(calculate(x) for x in data)\n",
    "part_2"
   ]
  }
 ],
 "metadata": {
  "kernelspec": {
   "display_name": "Python 3",
   "language": "python",
   "name": "python3"
  },
  "language_info": {
   "codemirror_mode": {
    "name": "ipython",
    "version": 3
   },
   "file_extension": ".py",
   "mimetype": "text/x-python",
   "name": "python",
   "nbconvert_exporter": "python",
   "pygments_lexer": "ipython3",
   "version": "3.8.5"
  }
 },
 "nbformat": 4,
 "nbformat_minor": 4
}
