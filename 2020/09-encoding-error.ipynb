{
 "cells": [
  {
   "cell_type": "markdown",
   "metadata": {},
   "source": [
    "https://adventofcode.com/2020/day/9"
   ]
  },
  {
   "cell_type": "code",
   "execution_count": 1,
   "metadata": {},
   "outputs": [],
   "source": [
    "from itertools import combinations"
   ]
  },
  {
   "cell_type": "code",
   "execution_count": 2,
   "metadata": {},
   "outputs": [],
   "source": [
    "datafile = 'data/09-1.txt'"
   ]
  },
  {
   "cell_type": "code",
   "execution_count": 3,
   "metadata": {},
   "outputs": [],
   "source": [
    "with open(datafile) as fh:\n",
    "    data = [int(y) for y in (x.strip() for x in fh) if y]"
   ]
  },
  {
   "cell_type": "code",
   "execution_count": 4,
   "metadata": {},
   "outputs": [
    {
     "data": {
      "text/plain": [
       "(1000, [14, 9, 43])"
      ]
     },
     "execution_count": 4,
     "metadata": {},
     "output_type": "execute_result"
    }
   ],
   "source": [
    "len(data), data[:3]"
   ]
  },
  {
   "cell_type": "code",
   "execution_count": 5,
   "metadata": {},
   "outputs": [],
   "source": [
    "def iscombo(x, ns):\n",
    "    for (a, b) in combinations(ns, 2):\n",
    "        if x == a + b:\n",
    "            return True\n",
    "    return False"
   ]
  },
  {
   "cell_type": "code",
   "execution_count": 6,
   "metadata": {},
   "outputs": [],
   "source": [
    "testtxt = \"\"\"\\\n",
    "35\n",
    "20\n",
    "15\n",
    "25\n",
    "47\n",
    "40\n",
    "62\n",
    "55\n",
    "65\n",
    "95\n",
    "102\n",
    "117\n",
    "150\n",
    "182\n",
    "127\n",
    "219\n",
    "299\n",
    "277\n",
    "309\n",
    "576\n",
    "\"\"\"\n",
    "testdata = [int(x) for x in testtxt.split()]"
   ]
  },
  {
   "cell_type": "code",
   "execution_count": 8,
   "metadata": {},
   "outputs": [
    {
     "name": "stdout",
     "output_type": "stream",
     "text": [
      "5 40 [35, 20, 15, 25, 47]\n",
      "6 62 [20, 15, 25, 47, 40]\n",
      "7 55 [15, 25, 47, 40, 62]\n",
      "8 65 [25, 47, 40, 62, 55]\n",
      "9 95 [47, 40, 62, 55, 65]\n",
      "10 102 [40, 62, 55, 65, 95]\n",
      "11 117 [62, 55, 65, 95, 102]\n",
      "12 150 [55, 65, 95, 102, 117]\n",
      "13 182 [65, 95, 102, 117, 150]\n",
      "14 127 [95, 102, 117, 150, 182]\n",
      "15 219 [102, 117, 150, 182, 127]\n",
      "16 299 [117, 150, 182, 127, 219]\n",
      "17 277 [150, 182, 127, 219, 299]\n",
      "18 309 [182, 127, 219, 299, 277]\n",
      "19 576 [127, 219, 299, 277, 309]\n"
     ]
    }
   ],
   "source": [
    "for i, n in enumerate(testdata[5:], 5):\n",
    "    print(i, n, testdata[i-5:i])"
   ]
  },
  {
   "cell_type": "code",
   "execution_count": 9,
   "metadata": {},
   "outputs": [
    {
     "name": "stdout",
     "output_type": "stream",
     "text": [
      "5 40 [35, 20, 15, 25, 47]\n",
      "6 62 [20, 15, 25, 47, 40]\n",
      "7 55 [15, 25, 47, 40, 62]\n",
      "8 65 [25, 47, 40, 62, 55]\n",
      "9 95 [47, 40, 62, 55, 65]\n",
      "10 102 [40, 62, 55, 65, 95]\n",
      "11 117 [62, 55, 65, 95, 102]\n",
      "12 150 [55, 65, 95, 102, 117]\n",
      "13 182 [65, 95, 102, 117, 150]\n",
      "14 127 [95, 102, 117, 150, 182]\n",
      "!\n"
     ]
    }
   ],
   "source": [
    "for i, n in enumerate(testdata[5:], 5):\n",
    "    print(i, n, testdata[i-5:i])\n",
    "    if not iscombo(n, testdata[i-5:i]):\n",
    "        print('!')\n",
    "        break"
   ]
  },
  {
   "cell_type": "code",
   "execution_count": 11,
   "metadata": {},
   "outputs": [
    {
     "data": {
      "text/plain": [
       "25918798"
      ]
     },
     "execution_count": 11,
     "metadata": {},
     "output_type": "execute_result"
    }
   ],
   "source": [
    "part_1 = None\n",
    "for i, n in enumerate(data[25:], 25):\n",
    "    if not iscombo(n, data[i-25:i]):\n",
    "        part_1 = n\n",
    "        break\n",
    "part_1"
   ]
  },
  {
   "cell_type": "code",
   "execution_count": 15,
   "metadata": {},
   "outputs": [
    {
     "data": {
      "text/plain": [
       "0"
      ]
     },
     "execution_count": 15,
     "metadata": {},
     "output_type": "execute_result"
    }
   ],
   "source": [
    "sum([])"
   ]
  },
  {
   "cell_type": "code",
   "execution_count": 28,
   "metadata": {},
   "outputs": [],
   "source": [
    "def find_encryption_weakness(x, ns):\n",
    "    ttl = 0\n",
    "    for i, n in enumerate(ns):\n",
    "        ttl += n\n",
    "        if ttl > x:\n",
    "            return\n",
    "        if ttl == x:\n",
    "            return min(ns[:i+1]) + max(ns[:i+1])"
   ]
  },
  {
   "cell_type": "code",
   "execution_count": 17,
   "metadata": {},
   "outputs": [
    {
     "name": "stdout",
     "output_type": "stream",
     "text": [
      "62\n"
     ]
    }
   ],
   "source": [
    "for i in range(len(testdata)):\n",
    "    ew = find_encryption_weakness(127, testdata[i:])\n",
    "    if ew:\n",
    "        print(ew)\n",
    "        break"
   ]
  },
  {
   "cell_type": "code",
   "execution_count": 19,
   "metadata": {},
   "outputs": [
    {
     "name": "stdout",
     "output_type": "stream",
     "text": [
      "CPU times: user 11.5 ms, sys: 0 ns, total: 11.5 ms\n",
      "Wall time: 10.9 ms\n"
     ]
    },
    {
     "data": {
      "text/plain": [
       "3340942"
      ]
     },
     "execution_count": 19,
     "metadata": {},
     "output_type": "execute_result"
    }
   ],
   "source": [
    "%%time\n",
    "for i in range(len(data)):\n",
    "    ew = find_encryption_weakness(part_1, data[i:])\n",
    "    if ew:\n",
    "        part_2 = ew\n",
    "        break\n",
    "part_2"
   ]
  },
  {
   "cell_type": "markdown",
   "metadata": {},
   "source": [
    "## reddit"
   ]
  },
  {
   "cell_type": "code",
   "execution_count": 25,
   "metadata": {},
   "outputs": [],
   "source": [
    "from itertools import combinations\n",
    "\n",
    "with open(datafile) as fh:\n",
    "    data = [int(y) for y in (x.strip() for x in fh) if y]\n",
    "\n",
    "def iscombo(x, ns):\n",
    "    for (a, b) in combinations(ns, 2):\n",
    "        if x == a + b:\n",
    "            return True\n",
    "    return False\n",
    "\n",
    "for i, n in enumerate(data[25:], 25):\n",
    "    if not iscombo(n, data[i-25:i]):\n",
    "        part_1 = n\n",
    "        break\n",
    "\n",
    "def find_encryption_weakness(x, ns):\n",
    "    ttl = 0\n",
    "    for i, n in enumerate(ns):\n",
    "        ttl += n\n",
    "        if ttl > x:\n",
    "            return\n",
    "        if ttl == x:\n",
    "            return min(ns[:i+1]) + max(ns[:i+1])\n",
    "\n",
    "for i in range(len(data)):\n",
    "    ew = find_encryption_weakness(part_1, data[i:])\n",
    "    if ew:\n",
    "        part_2 = ew\n",
    "        break        "
   ]
  },
  {
   "cell_type": "code",
   "execution_count": 26,
   "metadata": {},
   "outputs": [
    {
     "data": {
      "text/plain": [
       "(25918798, 3340942)"
      ]
     },
     "execution_count": 26,
     "metadata": {},
     "output_type": "execute_result"
    }
   ],
   "source": [
    "part_1, part_2"
   ]
  },
  {
   "cell_type": "code",
   "execution_count": 23,
   "metadata": {},
   "outputs": [],
   "source": [
    "ns = [42]"
   ]
  },
  {
   "cell_type": "code",
   "execution_count": 27,
   "metadata": {},
   "outputs": [
    {
     "data": {
      "text/plain": [
       "42"
      ]
     },
     "execution_count": 27,
     "metadata": {},
     "output_type": "execute_result"
    }
   ],
   "source": [
    "min(ns[:1])"
   ]
  }
 ],
 "metadata": {
  "kernelspec": {
   "display_name": "Python 3",
   "language": "python",
   "name": "python3"
  },
  "language_info": {
   "codemirror_mode": {
    "name": "ipython",
    "version": 3
   },
   "file_extension": ".py",
   "mimetype": "text/x-python",
   "name": "python",
   "nbconvert_exporter": "python",
   "pygments_lexer": "ipython3",
   "version": "3.8.5"
  }
 },
 "nbformat": 4,
 "nbformat_minor": 4
}
