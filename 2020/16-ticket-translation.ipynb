{
 "cells": [
  {
   "cell_type": "markdown",
   "metadata": {},
   "source": [
    "https://adventofcode.com/2020/day/16"
   ]
  },
  {
   "cell_type": "code",
   "execution_count": 1,
   "metadata": {},
   "outputs": [],
   "source": [
    "import re"
   ]
  },
  {
   "cell_type": "code",
   "execution_count": 2,
   "metadata": {},
   "outputs": [],
   "source": [
    "datafile = 'data/16-1.txt'"
   ]
  },
  {
   "cell_type": "code",
   "execution_count": 3,
   "metadata": {},
   "outputs": [],
   "source": [
    "with open(datafile) as fh:\n",
    "    data_txt = fh.read()"
   ]
  },
  {
   "cell_type": "code",
   "execution_count": 4,
   "metadata": {},
   "outputs": [],
   "source": [
    "fd_txt, yt_txt, nt_txt = data_txt.split('\\n\\n')"
   ]
  },
  {
   "cell_type": "code",
   "execution_count": 5,
   "metadata": {},
   "outputs": [],
   "source": [
    "legit_ranges = []\n",
    "for line in fd_txt.strip().split('\\n'):\n",
    "    a1, z1, a2, z2 = (int(x) for x in re.findall(r'\\d+', line))\n",
    "    legit_ranges.extend([range(a1, z1+1), range(a2, z2+1)])"
   ]
  },
  {
   "cell_type": "code",
   "execution_count": 6,
   "metadata": {},
   "outputs": [],
   "source": [
    "nearby_tickets = []\n",
    "for line in nt_txt.strip().split('\\n')[1:]:\n",
    "    nearby_tickets.append([int(x) for x in line.split(',')])"
   ]
  },
  {
   "cell_type": "code",
   "execution_count": 7,
   "metadata": {},
   "outputs": [
    {
     "data": {
      "text/plain": [
       "'your ticket:\\n137,173,167,139,73,67,61,179,103,113,163,71,97,101,109,59,131,127,107,53'"
      ]
     },
     "execution_count": 7,
     "metadata": {},
     "output_type": "execute_result"
    }
   ],
   "source": [
    "yt_txt"
   ]
  },
  {
   "cell_type": "code",
   "execution_count": 8,
   "metadata": {},
   "outputs": [
    {
     "data": {
      "text/plain": [
       "[137,\n",
       " 173,\n",
       " 167,\n",
       " 139,\n",
       " 73,\n",
       " 67,\n",
       " 61,\n",
       " 179,\n",
       " 103,\n",
       " 113,\n",
       " 163,\n",
       " 71,\n",
       " 97,\n",
       " 101,\n",
       " 109,\n",
       " 59,\n",
       " 131,\n",
       " 127,\n",
       " 107,\n",
       " 53]"
      ]
     },
     "execution_count": 8,
     "metadata": {},
     "output_type": "execute_result"
    }
   ],
   "source": [
    "my_ticket = [int(x) for x in yt_txt.split('\\n')[1].split(',')]\n",
    "my_ticket"
   ]
  },
  {
   "cell_type": "code",
   "execution_count": null,
   "metadata": {},
   "outputs": [],
   "source": []
  },
  {
   "cell_type": "code",
   "execution_count": 9,
   "metadata": {},
   "outputs": [
    {
     "name": "stdout",
     "output_type": "stream",
     "text": [
      "CPU times: user 2.62 ms, sys: 0 ns, total: 2.62 ms\n",
      "Wall time: 2.63 ms\n"
     ]
    }
   ],
   "source": [
    "%%time\n",
    "error_rate = 0\n",
    "for nt in nearby_tickets:\n",
    "    for v in nt:\n",
    "        for r in legit_ranges:\n",
    "            if v in r:\n",
    "                break\n",
    "        else:\n",
    "            error_rate += v"
   ]
  },
  {
   "cell_type": "code",
   "execution_count": 10,
   "metadata": {},
   "outputs": [
    {
     "data": {
      "text/plain": [
       "26026"
      ]
     },
     "execution_count": 10,
     "metadata": {},
     "output_type": "execute_result"
    }
   ],
   "source": [
    "error_rate"
   ]
  },
  {
   "cell_type": "code",
   "execution_count": 11,
   "metadata": {},
   "outputs": [],
   "source": [
    "def is_valid(ticket, legit_ranges=legit_ranges):\n",
    "    for x in ticket:\n",
    "        for r in legit_ranges:\n",
    "            if x in r:\n",
    "                break\n",
    "        else:\n",
    "            return False\n",
    "    return True"
   ]
  },
  {
   "cell_type": "code",
   "execution_count": 12,
   "metadata": {},
   "outputs": [
    {
     "data": {
      "text/plain": [
       "True"
      ]
     },
     "execution_count": 12,
     "metadata": {},
     "output_type": "execute_result"
    }
   ],
   "source": [
    "is_valid(my_ticket)"
   ]
  },
  {
   "cell_type": "code",
   "execution_count": 13,
   "metadata": {},
   "outputs": [],
   "source": [
    "valid_tickets = [x for x in nearby_tickets if is_valid(x)]\n",
    "valid_tickets.append(my_ticket)"
   ]
  },
  {
   "cell_type": "code",
   "execution_count": 14,
   "metadata": {},
   "outputs": [
    {
     "data": {
      "text/plain": [
       "(245, 191)"
      ]
     },
     "execution_count": 14,
     "metadata": {},
     "output_type": "execute_result"
    }
   ],
   "source": [
    "len(nearby_tickets), len(valid_tickets)"
   ]
  },
  {
   "cell_type": "code",
   "execution_count": 15,
   "metadata": {},
   "outputs": [],
   "source": [
    "fields = []\n",
    "for line in fd_txt.strip().split('\\n'):\n",
    "    fieldname = line.split(':')[0]\n",
    "    a1, z1, a2, z2 = (int(x) for x in re.findall(r'\\d+', line))\n",
    "    fields.append((fieldname, range(a1, z1+1), range(a2, z2+1)))"
   ]
  },
  {
   "cell_type": "code",
   "execution_count": 16,
   "metadata": {},
   "outputs": [
    {
     "data": {
      "text/plain": [
       "(20,\n",
       " [('departure location', range(33, 431), range(456, 968)),\n",
       "  ('departure station', range(42, 865), range(875, 958)),\n",
       "  ('departure platform', range(42, 806), range(821, 969))])"
      ]
     },
     "execution_count": 16,
     "metadata": {},
     "output_type": "execute_result"
    }
   ],
   "source": [
    "len(fields), fields[:3]"
   ]
  },
  {
   "cell_type": "code",
   "execution_count": 17,
   "metadata": {},
   "outputs": [],
   "source": [
    "def is_in_field(v, field):\n",
    "    return v in field[1] or v in field[2]"
   ]
  },
  {
   "cell_type": "code",
   "execution_count": 18,
   "metadata": {},
   "outputs": [
    {
     "data": {
      "text/plain": [
       "('departure location', range(33, 431), range(456, 968))"
      ]
     },
     "execution_count": 18,
     "metadata": {},
     "output_type": "execute_result"
    }
   ],
   "source": [
    "fields[0]"
   ]
  },
  {
   "cell_type": "code",
   "execution_count": 19,
   "metadata": {},
   "outputs": [
    {
     "data": {
      "text/plain": [
       "True"
      ]
     },
     "execution_count": 19,
     "metadata": {},
     "output_type": "execute_result"
    }
   ],
   "source": [
    "is_in_field(457, fields[0])"
   ]
  },
  {
   "cell_type": "code",
   "execution_count": 45,
   "metadata": {},
   "outputs": [],
   "source": [
    "fieldsets = [{i for i in range(len(fields))} for _ in fields]\n",
    "for t in valid_tickets:\n",
    "    for i, v in enumerate(t):\n",
    "        for j, field in enumerate(fields):\n",
    "            if not is_in_field(v, field):\n",
    "                fieldsets[j].discard(i)\n",
    "\n",
    "visited = set()\n",
    "while any(len(x) > 1 for x in fieldsets):\n",
    "    single = next(y for y in (next(iter(x)) for x in fieldsets if len(x) == 1) if y not in visited)\n",
    "    visited.add(single)\n",
    "    for fieldset in fieldsets:\n",
    "        if len(fieldset) > 1:\n",
    "            fieldset.discard(single)"
   ]
  },
  {
   "cell_type": "code",
   "execution_count": 46,
   "metadata": {},
   "outputs": [],
   "source": [
    "field_indices = [x.pop() for x in fieldsets]"
   ]
  },
  {
   "cell_type": "code",
   "execution_count": 55,
   "metadata": {},
   "outputs": [
    {
     "data": {
      "text/plain": [
       "[1, 3, 10, 6, 8, 19, 5, 16, 12, 2, 11, 18, 4, 7, 13, 14, 9, 17, 15, 0]"
      ]
     },
     "execution_count": 55,
     "metadata": {},
     "output_type": "execute_result"
    }
   ],
   "source": [
    "field_indices"
   ]
  },
  {
   "cell_type": "code",
   "execution_count": 64,
   "metadata": {},
   "outputs": [],
   "source": [
    "properly_sorted_fields = [x[1] for x in sorted(zip(field_indices, fields))]"
   ]
  },
  {
   "cell_type": "code",
   "execution_count": 56,
   "metadata": {},
   "outputs": [],
   "source": [
    "# properly_sorted_fields = [None] * len(field_indices)"
   ]
  },
  {
   "cell_type": "code",
   "execution_count": 57,
   "metadata": {},
   "outputs": [],
   "source": [
    "# for i, j in enumerate(field_indices):\n",
    "#     properly_sorted_fields[j] = fields[i]"
   ]
  },
  {
   "cell_type": "code",
   "execution_count": 47,
   "metadata": {},
   "outputs": [],
   "source": [
    "# properly_sorted_fields = [fields[i] for i in field_indices]"
   ]
  },
  {
   "cell_type": "code",
   "execution_count": 65,
   "metadata": {},
   "outputs": [
    {
     "data": {
      "text/plain": [
       "[('zone', range(34, 189), range(212, 960)),\n",
       " ('departure location', range(33, 431), range(456, 968)),\n",
       " ('arrival track', range(28, 341), range(349, 969)),\n",
       " ('departure station', range(42, 865), range(875, 958)),\n",
       " ('price', range(48, 923), range(939, 952)),\n",
       " ('arrival location', range(50, 488), range(507, 955)),\n",
       " ('departure track', range(34, 75), range(93, 968)),\n",
       " ('route', range(33, 643), range(666, 961)),\n",
       " ('departure date', range(40, 400), range(417, 956)),\n",
       " ('train', range(50, 605), range(630, 972)),\n",
       " ('departure platform', range(42, 806), range(821, 969)),\n",
       " ('class', range(49, 525), range(543, 952)),\n",
       " ('arrival platform', range(42, 730), range(751, 960)),\n",
       " ('row', range(39, 239), range(255, 974)),\n",
       " ('seat', range(48, 149), range(161, 974)),\n",
       " ('wagon', range(45, 899), range(921, 967)),\n",
       " ('arrival station', range(34, 694), range(718, 957)),\n",
       " ('type', range(29, 300), range(316, 953)),\n",
       " ('duration', range(40, 373), range(397, 952)),\n",
       " ('departure time', range(30, 775), range(797, 951))]"
      ]
     },
     "execution_count": 65,
     "metadata": {},
     "output_type": "execute_result"
    }
   ],
   "source": [
    "properly_sorted_fields"
   ]
  },
  {
   "cell_type": "code",
   "execution_count": 66,
   "metadata": {},
   "outputs": [],
   "source": [
    "for t in valid_tickets:\n",
    "    for v, f in zip(t, properly_sorted_fields):\n",
    "        if not is_in_field(v, f):\n",
    "            print(v, f)    "
   ]
  },
  {
   "cell_type": "code",
   "execution_count": 68,
   "metadata": {},
   "outputs": [
    {
     "data": {
      "text/plain": [
       "[('zone', 137),\n",
       " ('departure location', 173),\n",
       " ('arrival track', 167),\n",
       " ('departure station', 139),\n",
       " ('price', 73),\n",
       " ('arrival location', 67),\n",
       " ('departure track', 61),\n",
       " ('route', 179),\n",
       " ('departure date', 103),\n",
       " ('train', 113),\n",
       " ('departure platform', 163),\n",
       " ('class', 71),\n",
       " ('arrival platform', 97),\n",
       " ('row', 101),\n",
       " ('seat', 109),\n",
       " ('wagon', 59),\n",
       " ('arrival station', 131),\n",
       " ('type', 127),\n",
       " ('duration', 107),\n",
       " ('departure time', 53)]"
      ]
     },
     "execution_count": 68,
     "metadata": {},
     "output_type": "execute_result"
    }
   ],
   "source": [
    "my_ticket_fields = list(zip((x[0] for x in properly_sorted_fields), my_ticket))\n",
    "my_ticket_fields"
   ]
  },
  {
   "cell_type": "code",
   "execution_count": 61,
   "metadata": {},
   "outputs": [
    {
     "data": {
      "text/plain": [
       "[173, 139, 61, 103, 163, 53]"
      ]
     },
     "execution_count": 61,
     "metadata": {},
     "output_type": "execute_result"
    }
   ],
   "source": [
    "departure_fields = [y for (x, y) in my_ticket_fields if x.startswith('departure')]\n",
    "departure_fields"
   ]
  },
  {
   "cell_type": "code",
   "execution_count": 70,
   "metadata": {},
   "outputs": [
    {
     "data": {
      "text/plain": [
       "1305243193339"
      ]
     },
     "execution_count": 70,
     "metadata": {},
     "output_type": "execute_result"
    }
   ],
   "source": [
    "part_2 = 1\n",
    "for name, val in my_ticket_fields:\n",
    "    if name.startswith('departure'):\n",
    "        part_2 *= val\n",
    "part_2"
   ]
  },
  {
   "cell_type": "markdown",
   "metadata": {},
   "source": [
    "## post"
   ]
  },
  {
   "cell_type": "code",
   "execution_count": 114,
   "metadata": {},
   "outputs": [
    {
     "name": "stdout",
     "output_type": "stream",
     "text": [
      "CPU times: user 26.8 ms, sys: 0 ns, total: 26.8 ms\n",
      "Wall time: 26 ms\n"
     ]
    }
   ],
   "source": [
    "%%time\n",
    "\n",
    "import re\n",
    "\n",
    "with open(datafile) as fh:\n",
    "    data_txt = fh.read()\n",
    "fd_txt, yt_txt, nt_txt = data_txt.split('\\n\\n')\n",
    "\n",
    "my_ticket = [int(x) for x in yt_txt.split('\\n')[1].split(',')]\n",
    "\n",
    "nearby_tickets = []\n",
    "for line in nt_txt.strip().split('\\n')[1:]:\n",
    "    nearby_tickets.append([int(x) for x in line.split(',')])\n",
    "\n",
    "fields = []\n",
    "for line in fd_txt.strip().split('\\n'):\n",
    "    fieldname = line.split(':')[0]\n",
    "    a1, z1, a2, z2 = (int(x) for x in re.findall(r'\\d+', line))\n",
    "    fields.append((fieldname, a1, z1, a2, z2))\n",
    "\n",
    "\n",
    "def is_in_field(v, f):\n",
    "    return f[1] <= v <= f[2] or f[3] <= v <= f[4]\n",
    "\n",
    "\n",
    "error_rate = 0\n",
    "for nt in nearby_tickets:\n",
    "    for v in nt:\n",
    "        if not any(is_in_field(v, f) for f in fields):\n",
    "            error_rate += v\n",
    "            \n",
    "part_1 = error_rate\n",
    "\n",
    "\n",
    "def is_valid(ticket, fields=fields):\n",
    "    for v in ticket:\n",
    "        if not any(is_in_field(v, f) for f in fields):\n",
    "            return False\n",
    "    return True\n",
    "\n",
    "\n",
    "valid_tickets = [x for x in nearby_tickets if is_valid(x)]\n",
    "valid_tickets.append(my_ticket)\n",
    "\n",
    "nfields = len(fields)\n",
    "fieldsets = [set(range(nfields)) for _ in range(nfields)]\n",
    "for t in valid_tickets:\n",
    "    for i, v in enumerate(t):\n",
    "        for j, field in enumerate(fields):\n",
    "            if not is_in_field(v, field):\n",
    "                fieldsets[j].discard(i)\n",
    "\n",
    "visited = set()\n",
    "while True:\n",
    "    try:\n",
    "        single = next(y for y in (next(iter(x)) for x in fieldsets if len(x) == 1) if y not in visited)\n",
    "    except StopIteration:\n",
    "        break\n",
    "    visited.add(single)\n",
    "    for fieldset in fieldsets:\n",
    "        if len(fieldset) > 1:\n",
    "            fieldset.discard(single)\n",
    "\n",
    "field_indices = [x.pop() for x in fieldsets]\n",
    "sorted_fieldnames = [y for (x, y) in sorted(zip(field_indices, (x[0] for x in fields)))]\n",
    "\n",
    "my_fielded_ticket = list(zip(sorted_fieldnames, my_ticket))\n",
    "\n",
    "part_2 = 1\n",
    "for name, v in my_fielded_ticket:\n",
    "    if name.startswith('departure'):\n",
    "        part_2 *= v"
   ]
  },
  {
   "cell_type": "code",
   "execution_count": 113,
   "metadata": {},
   "outputs": [
    {
     "data": {
      "text/plain": [
       "(26026, 1305243193339)"
      ]
     },
     "execution_count": 113,
     "metadata": {},
     "output_type": "execute_result"
    }
   ],
   "source": [
    "part_1, part_2"
   ]
  }
 ],
 "metadata": {
  "kernelspec": {
   "display_name": "Python 3",
   "language": "python",
   "name": "python3"
  },
  "language_info": {
   "codemirror_mode": {
    "name": "ipython",
    "version": 3
   },
   "file_extension": ".py",
   "mimetype": "text/x-python",
   "name": "python",
   "nbconvert_exporter": "python",
   "pygments_lexer": "ipython3",
   "version": "3.8.5"
  }
 },
 "nbformat": 4,
 "nbformat_minor": 4
}
