{
 "cells": [
  {
   "metadata": {},
   "cell_type": "markdown",
   "source": "https://adventofcode.com/2024/day/11",
   "id": "ea5bd02246b21e2b"
  },
  {
   "metadata": {
    "ExecuteTime": {
     "end_time": "2024-12-11T12:40:08.956304Z",
     "start_time": "2024-12-11T12:40:08.953202Z"
    }
   },
   "cell_type": "code",
   "source": "from itertools import chain, pairwise",
   "id": "3c79924f3e34f2f5",
   "outputs": [],
   "execution_count": 44
  },
  {
   "metadata": {
    "ExecuteTime": {
     "end_time": "2024-12-11T11:29:56.226264Z",
     "start_time": "2024-12-11T11:29:56.220303Z"
    }
   },
   "cell_type": "code",
   "source": [
    "with open(\"data/11.txt\") as fh:\n",
    "    data = fh.read()"
   ],
   "id": "28c1ffe26bbadfea",
   "outputs": [],
   "execution_count": 1
  },
  {
   "metadata": {
    "ExecuteTime": {
     "end_time": "2024-12-11T11:30:38.652215Z",
     "start_time": "2024-12-11T11:30:38.646827Z"
    }
   },
   "cell_type": "code",
   "source": "testdata = \"125 17\"",
   "id": "a61d37888131ba70",
   "outputs": [],
   "execution_count": 2
  },
  {
   "metadata": {
    "ExecuteTime": {
     "end_time": "2024-12-11T11:52:52.740585Z",
     "start_time": "2024-12-11T11:52:52.737338Z"
    }
   },
   "cell_type": "code",
   "source": [
    "def xform(s):\n",
    "    if s == \"0\":\n",
    "        return [\"1\"]\n",
    "    slen = len(s)\n",
    "    if not slen % 2:\n",
    "        return [str(int(s[:slen//2])), str(int(s[slen//2:]))]\n",
    "    return [str(int(s) * 2024)]\n",
    "        "
   ],
   "id": "c26801594047f092",
   "outputs": [],
   "execution_count": 21
  },
  {
   "metadata": {
    "ExecuteTime": {
     "end_time": "2024-12-11T13:36:16.790654Z",
     "start_time": "2024-12-11T13:36:16.787005Z"
    }
   },
   "cell_type": "code",
   "source": [
    "L = testdata.split()\n",
    "L"
   ],
   "id": "4f498dcebadf15e9",
   "outputs": [
    {
     "data": {
      "text/plain": [
       "['125', '17']"
      ]
     },
     "execution_count": 58,
     "metadata": {},
     "output_type": "execute_result"
    }
   ],
   "execution_count": 58
  },
  {
   "metadata": {
    "ExecuteTime": {
     "end_time": "2024-12-11T13:36:45.399184Z",
     "start_time": "2024-12-11T13:36:45.393159Z"
    }
   },
   "cell_type": "code",
   "source": [
    "L = list(chain.from_iterable(xform(s) for s in L))\n",
    "L"
   ],
   "id": "1afe5e23566ab27e",
   "outputs": [
    {
     "data": {
      "text/plain": [
       "['512', '72', '2024', '2', '0', '2', '4', '2867', '6032']"
      ]
     },
     "execution_count": 62,
     "metadata": {},
     "output_type": "execute_result"
    }
   ],
   "execution_count": 62
  },
  {
   "metadata": {
    "ExecuteTime": {
     "end_time": "2024-12-11T12:13:38.152089Z",
     "start_time": "2024-12-11T12:13:37.996066Z"
    }
   },
   "cell_type": "code",
   "source": [
    "L = testdata.split()\n",
    "for _ in range(25):\n",
    "    L = chain.from_iterable(xform(s) for s in L)\n",
    "sum(1 for _ in L)"
   ],
   "id": "971f9a8dfc657d6f",
   "outputs": [
    {
     "data": {
      "text/plain": [
       "55312"
      ]
     },
     "execution_count": 30,
     "metadata": {},
     "output_type": "execute_result"
    }
   ],
   "execution_count": 30
  },
  {
   "metadata": {},
   "cell_type": "markdown",
   "source": "Part 1",
   "id": "8b222a52bb66f0d1"
  },
  {
   "metadata": {
    "ExecuteTime": {
     "end_time": "2024-12-11T12:14:10.215474Z",
     "start_time": "2024-12-11T12:14:09.700783Z"
    }
   },
   "cell_type": "code",
   "source": [
    "L = data.split()\n",
    "for _ in range(25):\n",
    "    L = chain.from_iterable(xform(s) for s in L)\n",
    "sum(1 for _ in L)"
   ],
   "id": "a89b81c5e9e963d1",
   "outputs": [
    {
     "data": {
      "text/plain": [
       "186424"
      ]
     },
     "execution_count": 31,
     "metadata": {},
     "output_type": "execute_result"
    }
   ],
   "execution_count": 31
  },
  {
   "metadata": {},
   "cell_type": "code",
   "outputs": [],
   "execution_count": null,
   "source": "",
   "id": "d8a103cdc3d3d4f4"
  },
  {
   "metadata": {
    "ExecuteTime": {
     "end_time": "2024-12-11T12:16:31.968069Z",
     "start_time": "2024-12-11T12:16:17.394583Z"
    }
   },
   "cell_type": "code",
   "source": [
    "L = data.split()\n",
    "for _ in range(35):\n",
    "    L = chain.from_iterable(xform(s) for s in L)\n",
    "sum(1 for _ in L)"
   ],
   "id": "381194a626564f6e",
   "outputs": [
    {
     "data": {
      "text/plain": [
       "12048295"
      ]
     },
     "execution_count": 33,
     "metadata": {},
     "output_type": "execute_result"
    }
   ],
   "execution_count": 33
  },
  {
   "metadata": {
    "ExecuteTime": {
     "end_time": "2024-12-11T12:19:23.589128Z",
     "start_time": "2024-12-11T12:19:02.399170Z"
    }
   },
   "cell_type": "code",
   "source": [
    "L = data.split()\n",
    "for _ in range(36):\n",
    "    L = chain.from_iterable(xform(s) for s in L)\n",
    "sum(1 for _ in L)"
   ],
   "id": "f2fd477eb5fab9ed",
   "outputs": [
    {
     "data": {
      "text/plain": [
       "18340446"
      ]
     },
     "execution_count": 34,
     "metadata": {},
     "output_type": "execute_result"
    }
   ],
   "execution_count": 34
  },
  {
   "metadata": {
    "ExecuteTime": {
     "end_time": "2024-12-11T12:20:12.643824Z",
     "start_time": "2024-12-11T12:19:41.081180Z"
    }
   },
   "cell_type": "code",
   "source": [
    "L = data.split()\n",
    "for _ in range(37):\n",
    "    L = chain.from_iterable(xform(s) for s in L)\n",
    "sum(1 for _ in L)"
   ],
   "id": "adf2ea5b161c2ee2",
   "outputs": [
    {
     "data": {
      "text/plain": [
       "27695558"
      ]
     },
     "execution_count": 35,
     "metadata": {},
     "output_type": "execute_result"
    }
   ],
   "execution_count": 35
  },
  {
   "metadata": {
    "ExecuteTime": {
     "end_time": "2024-12-11T12:30:16.084592Z",
     "start_time": "2024-12-11T12:30:16.081483Z"
    }
   },
   "cell_type": "code",
   "source": [
    "def len_cycles(L, n):\n",
    "    for _ in range(n):\n",
    "        L = list(chain.from_iterable(xform(s) for s in L))\n",
    "        yield len(L)"
   ],
   "id": "5758fa9f1f97e6f5",
   "outputs": [],
   "execution_count": 36
  },
  {
   "metadata": {
    "ExecuteTime": {
     "end_time": "2024-12-11T13:38:28.570809Z",
     "start_time": "2024-12-11T13:38:28.517074Z"
    }
   },
   "cell_type": "code",
   "source": [
    "# L = data.split()\n",
    "L = [\"0\"]\n",
    "lens = list(len_cycles(L, 25))"
   ],
   "id": "f295aee299a52144",
   "outputs": [],
   "execution_count": 64
  },
  {
   "metadata": {
    "ExecuteTime": {
     "end_time": "2024-12-11T13:38:31.812139Z",
     "start_time": "2024-12-11T13:38:31.803376Z"
    }
   },
   "cell_type": "code",
   "source": "lens",
   "id": "ce264bfbb0e7877a",
   "outputs": [
    {
     "data": {
      "text/plain": [
       "[1,\n",
       " 1,\n",
       " 2,\n",
       " 4,\n",
       " 4,\n",
       " 7,\n",
       " 14,\n",
       " 16,\n",
       " 20,\n",
       " 39,\n",
       " 62,\n",
       " 81,\n",
       " 110,\n",
       " 200,\n",
       " 328,\n",
       " 418,\n",
       " 667,\n",
       " 1059,\n",
       " 1546,\n",
       " 2377,\n",
       " 3572,\n",
       " 5602,\n",
       " 8268,\n",
       " 12343,\n",
       " 19778]"
      ]
     },
     "execution_count": 65,
     "metadata": {},
     "output_type": "execute_result"
    }
   ],
   "execution_count": 65
  },
  {
   "metadata": {
    "ExecuteTime": {
     "end_time": "2024-12-11T13:38:47.396264Z",
     "start_time": "2024-12-11T13:38:47.390260Z"
    }
   },
   "cell_type": "code",
   "source": [
    "def diffs(L):\n",
    "    return [(b-a) for (a,b) in pairwise(L)]"
   ],
   "id": "54b57365143e57a0",
   "outputs": [],
   "execution_count": 66
  },
  {
   "metadata": {
    "ExecuteTime": {
     "end_time": "2024-12-11T13:38:59.244622Z",
     "start_time": "2024-12-11T13:38:59.234782Z"
    }
   },
   "cell_type": "code",
   "source": [
    "lens = diffs(lens)\n",
    "lens"
   ],
   "id": "636de58e1108c4f7",
   "outputs": [
    {
     "data": {
      "text/plain": [
       "[0,\n",
       " 1,\n",
       " 2,\n",
       " 0,\n",
       " 3,\n",
       " 7,\n",
       " 2,\n",
       " 4,\n",
       " 19,\n",
       " 23,\n",
       " 19,\n",
       " 29,\n",
       " 90,\n",
       " 128,\n",
       " 90,\n",
       " 249,\n",
       " 392,\n",
       " 487,\n",
       " 831,\n",
       " 1195,\n",
       " 2030,\n",
       " 2666,\n",
       " 4075,\n",
       " 7435]"
      ]
     },
     "execution_count": 67,
     "metadata": {},
     "output_type": "execute_result"
    }
   ],
   "execution_count": 67
  },
  {
   "metadata": {
    "ExecuteTime": {
     "end_time": "2024-12-11T13:39:22.259754Z",
     "start_time": "2024-12-11T13:39:22.253995Z"
    }
   },
   "cell_type": "code",
   "source": [
    "lens = diffs(lens)\n",
    "lens"
   ],
   "id": "96989c611979e31c",
   "outputs": [
    {
     "data": {
      "text/plain": [
       "[1,\n",
       " 1,\n",
       " -2,\n",
       " 3,\n",
       " 4,\n",
       " -5,\n",
       " 2,\n",
       " 15,\n",
       " 4,\n",
       " -4,\n",
       " 10,\n",
       " 61,\n",
       " 38,\n",
       " -38,\n",
       " 159,\n",
       " 143,\n",
       " 95,\n",
       " 344,\n",
       " 364,\n",
       " 835,\n",
       " 636,\n",
       " 1409,\n",
       " 3360]"
      ]
     },
     "execution_count": 68,
     "metadata": {},
     "output_type": "execute_result"
    }
   ],
   "execution_count": 68
  },
  {
   "metadata": {
    "ExecuteTime": {
     "end_time": "2024-12-11T13:39:41.101586Z",
     "start_time": "2024-12-11T13:39:41.094970Z"
    }
   },
   "cell_type": "code",
   "source": [
    "lens = diffs(lens)\n",
    "lens"
   ],
   "id": "43f59cd1987a00db",
   "outputs": [
    {
     "data": {
      "text/plain": [
       "[0,\n",
       " -3,\n",
       " 5,\n",
       " 1,\n",
       " -9,\n",
       " 7,\n",
       " 13,\n",
       " -11,\n",
       " -8,\n",
       " 14,\n",
       " 51,\n",
       " -23,\n",
       " -76,\n",
       " 197,\n",
       " -16,\n",
       " -48,\n",
       " 249,\n",
       " 20,\n",
       " 471,\n",
       " -199,\n",
       " 773,\n",
       " 1951]"
      ]
     },
     "execution_count": 69,
     "metadata": {},
     "output_type": "execute_result"
    }
   ],
   "execution_count": 69
  }
 ],
 "metadata": {
  "kernelspec": {
   "display_name": "Python 3",
   "language": "python",
   "name": "python3"
  },
  "language_info": {
   "codemirror_mode": {
    "name": "ipython",
    "version": 2
   },
   "file_extension": ".py",
   "mimetype": "text/x-python",
   "name": "python",
   "nbconvert_exporter": "python",
   "pygments_lexer": "ipython2",
   "version": "2.7.6"
  }
 },
 "nbformat": 4,
 "nbformat_minor": 5
}
