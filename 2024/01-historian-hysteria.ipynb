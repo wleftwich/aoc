{
 "cells": [
  {
   "metadata": {},
   "cell_type": "markdown",
   "source": "https://adventofcode.com/2024/day/1",
   "id": "ffb670ca2540a356"
  },
  {
   "metadata": {
    "ExecuteTime": {
     "end_time": "2024-12-02T02:17:13.878288Z",
     "start_time": "2024-12-02T02:17:13.873522Z"
    }
   },
   "cell_type": "code",
   "source": "from collections import Counter",
   "id": "7be63d70847b125d",
   "outputs": [],
   "execution_count": 14
  },
  {
   "cell_type": "code",
   "id": "initial_id",
   "metadata": {
    "collapsed": true,
    "ExecuteTime": {
     "end_time": "2024-12-02T02:17:14.401548Z",
     "start_time": "2024-12-02T02:17:14.395862Z"
    }
   },
   "source": [
    "with open(\"data/01.txt\") as fh:\n",
    "    data = fh.read()"
   ],
   "outputs": [],
   "execution_count": 15
  },
  {
   "metadata": {
    "ExecuteTime": {
     "end_time": "2024-12-02T02:17:14.872214Z",
     "start_time": "2024-12-02T02:17:14.866187Z"
    }
   },
   "cell_type": "code",
   "source": [
    "xys = [int(s) for s in data.split()]\n",
    "xs = sorted(xys[::2])\n",
    "ys = sorted(xys[1::2])"
   ],
   "id": "11d78771f727ceb0",
   "outputs": [],
   "execution_count": 16
  },
  {
   "metadata": {},
   "cell_type": "markdown",
   "source": "Part 1",
   "id": "bfd6db8eface857a"
  },
  {
   "metadata": {
    "ExecuteTime": {
     "end_time": "2024-12-02T02:17:29.099320Z",
     "start_time": "2024-12-02T02:17:29.092888Z"
    }
   },
   "cell_type": "code",
   "source": "sum(abs(x - y) for (x, y) in zip(xs, ys))",
   "id": "c0edab86a36108d9",
   "outputs": [
    {
     "data": {
      "text/plain": [
       "1222801"
      ]
     },
     "execution_count": 18,
     "metadata": {},
     "output_type": "execute_result"
    }
   ],
   "execution_count": 18
  },
  {
   "metadata": {},
   "cell_type": "markdown",
   "source": "Part 2",
   "id": "5e814ff3c5b22616"
  },
  {
   "metadata": {
    "ExecuteTime": {
     "end_time": "2024-12-02T02:18:25.886183Z",
     "start_time": "2024-12-02T02:18:25.880656Z"
    }
   },
   "cell_type": "code",
   "source": [
    "ycounts = Counter(ys)\n",
    "sum(x * ycounts.get(x, 0) for x in xs)"
   ],
   "id": "2e86af189b8161b3",
   "outputs": [
    {
     "data": {
      "text/plain": [
       "22545250"
      ]
     },
     "execution_count": 19,
     "metadata": {},
     "output_type": "execute_result"
    }
   ],
   "execution_count": 19
  },
  {
   "metadata": {},
   "cell_type": "code",
   "outputs": [],
   "execution_count": null,
   "source": "",
   "id": "e7d67c6aaaee4c31"
  }
 ],
 "metadata": {
  "kernelspec": {
   "display_name": "Python 3",
   "language": "python",
   "name": "python3"
  },
  "language_info": {
   "codemirror_mode": {
    "name": "ipython",
    "version": 2
   },
   "file_extension": ".py",
   "mimetype": "text/x-python",
   "name": "python",
   "nbconvert_exporter": "python",
   "pygments_lexer": "ipython2",
   "version": "2.7.6"
  }
 },
 "nbformat": 4,
 "nbformat_minor": 5
}
