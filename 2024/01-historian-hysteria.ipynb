{
 "cells": [
  {
   "metadata": {},
   "cell_type": "markdown",
   "source": "https://adventofcode.com/2024/day/1",
   "id": "ffb670ca2540a356"
  },
  {
   "metadata": {
    "ExecuteTime": {
     "end_time": "2024-12-01T23:39:37.391791Z",
     "start_time": "2024-12-01T23:39:37.387765Z"
    }
   },
   "cell_type": "code",
   "source": "from collections import Counter",
   "id": "7be63d70847b125d",
   "outputs": [],
   "execution_count": 10
  },
  {
   "cell_type": "code",
   "id": "initial_id",
   "metadata": {
    "collapsed": true,
    "ExecuteTime": {
     "end_time": "2024-12-01T23:39:42.492585Z",
     "start_time": "2024-12-01T23:39:42.488162Z"
    }
   },
   "source": [
    "with open(\"data/01.txt\") as fh:\n",
    "    data = fh.read()"
   ],
   "outputs": [],
   "execution_count": 12
  },
  {
   "metadata": {
    "ExecuteTime": {
     "end_time": "2024-12-01T23:39:43.173950Z",
     "start_time": "2024-12-01T23:39:43.165717Z"
    }
   },
   "cell_type": "code",
   "source": [
    "pairs = [[int(y) for y in x.split()] for x in data.splitlines()]\n",
    "# slightly tricky inverse of zip\n",
    "xs, ys = (sorted(u) for u in zip(*pairs))"
   ],
   "id": "322dd99bb29f5a40",
   "outputs": [],
   "execution_count": 13
  },
  {
   "metadata": {},
   "cell_type": "markdown",
   "source": "Part 1",
   "id": "bfd6db8eface857a"
  },
  {
   "metadata": {
    "ExecuteTime": {
     "end_time": "2024-12-01T23:39:45.629757Z",
     "start_time": "2024-12-01T23:39:45.625518Z"
    }
   },
   "cell_type": "code",
   "source": "sum(abs(x - y) for (x, y) in zip(xs, ys))",
   "id": "c0edab86a36108d9",
   "outputs": [
    {
     "data": {
      "text/plain": [
       "1222801"
      ]
     },
     "execution_count": 14,
     "metadata": {},
     "output_type": "execute_result"
    }
   ],
   "execution_count": 14
  },
  {
   "metadata": {},
   "cell_type": "markdown",
   "source": "Part 2",
   "id": "5e814ff3c5b22616"
  },
  {
   "metadata": {
    "ExecuteTime": {
     "end_time": "2024-12-01T23:57:58.374266Z",
     "start_time": "2024-12-01T23:57:58.368537Z"
    }
   },
   "cell_type": "code",
   "source": [
    "xcounts = Counter(xs)\n",
    "ycounts = Counter(ys)\n",
    "common_keys = set(xcounts).intersection(ycounts)\n",
    "\n",
    "sum(key * xcounts[key] * ycounts[key] for key in common_keys)"
   ],
   "id": "2e86af189b8161b3",
   "outputs": [
    {
     "data": {
      "text/plain": [
       "22545250"
      ]
     },
     "execution_count": 24,
     "metadata": {},
     "output_type": "execute_result"
    }
   ],
   "execution_count": 24
  }
 ],
 "metadata": {
  "kernelspec": {
   "display_name": "Python 3",
   "language": "python",
   "name": "python3"
  },
  "language_info": {
   "codemirror_mode": {
    "name": "ipython",
    "version": 2
   },
   "file_extension": ".py",
   "mimetype": "text/x-python",
   "name": "python",
   "nbconvert_exporter": "python",
   "pygments_lexer": "ipython2",
   "version": "2.7.6"
  }
 },
 "nbformat": 4,
 "nbformat_minor": 5
}
