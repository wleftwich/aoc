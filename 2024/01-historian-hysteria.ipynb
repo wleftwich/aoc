{
 "cells": [
  {
   "metadata": {
    "ExecuteTime": {
     "end_time": "2024-12-01T12:36:57.545238Z",
     "start_time": "2024-12-01T12:36:57.542779Z"
    }
   },
   "cell_type": "code",
   "source": "from collections import Counter",
   "id": "7be63d70847b125d",
   "outputs": [],
   "execution_count": 20
  },
  {
   "cell_type": "code",
   "id": "initial_id",
   "metadata": {
    "collapsed": true,
    "ExecuteTime": {
     "end_time": "2024-12-01T12:23:13.443484Z",
     "start_time": "2024-12-01T12:23:13.440682Z"
    }
   },
   "source": [
    "with open(\"data/01.txt\") as fh:\n",
    "    data = fh.read()"
   ],
   "outputs": [],
   "execution_count": 5
  },
  {
   "metadata": {
    "ExecuteTime": {
     "end_time": "2024-12-01T12:30:25.939076Z",
     "start_time": "2024-12-01T12:30:25.933865Z"
    }
   },
   "cell_type": "code",
   "source": [
    "pairs = [tuple(int(y) for y in x.split()) for x in data.splitlines()]\n",
    "xs = sorted(x for (x, y) in pairs)\n",
    "ys = sorted(y for (x, y) in pairs)"
   ],
   "id": "322dd99bb29f5a40",
   "outputs": [],
   "execution_count": 16
  },
  {
   "metadata": {},
   "cell_type": "markdown",
   "source": "Part 1",
   "id": "bfd6db8eface857a"
  },
  {
   "metadata": {
    "ExecuteTime": {
     "end_time": "2024-12-01T12:33:43.937574Z",
     "start_time": "2024-12-01T12:33:43.933751Z"
    }
   },
   "cell_type": "code",
   "source": "sum(abs(x - y) for (x, y) in zip(xs, ys))",
   "id": "c0edab86a36108d9",
   "outputs": [
    {
     "data": {
      "text/plain": [
       "1222801"
      ]
     },
     "execution_count": 19,
     "metadata": {},
     "output_type": "execute_result"
    }
   ],
   "execution_count": 19
  },
  {
   "metadata": {
    "ExecuteTime": {
     "end_time": "2024-12-01T12:38:09.820031Z",
     "start_time": "2024-12-01T12:38:09.816933Z"
    }
   },
   "cell_type": "code",
   "source": "ycounts = Counter(ys)",
   "id": "8c50972c01128e14",
   "outputs": [],
   "execution_count": 21
  },
  {
   "metadata": {},
   "cell_type": "markdown",
   "source": "Part 2",
   "id": "5e814ff3c5b22616"
  },
  {
   "metadata": {
    "ExecuteTime": {
     "end_time": "2024-12-01T12:42:52.433738Z",
     "start_time": "2024-12-01T12:42:52.426108Z"
    }
   },
   "cell_type": "code",
   "source": "sum(x * ycounts.get(x, 0) for x in xs)",
   "id": "801cd8b179d59895",
   "outputs": [
    {
     "data": {
      "text/plain": [
       "22545250"
      ]
     },
     "execution_count": 25,
     "metadata": {},
     "output_type": "execute_result"
    }
   ],
   "execution_count": 25
  }
 ],
 "metadata": {
  "kernelspec": {
   "display_name": "Python 3",
   "language": "python",
   "name": "python3"
  },
  "language_info": {
   "codemirror_mode": {
    "name": "ipython",
    "version": 2
   },
   "file_extension": ".py",
   "mimetype": "text/x-python",
   "name": "python",
   "nbconvert_exporter": "python",
   "pygments_lexer": "ipython2",
   "version": "2.7.6"
  }
 },
 "nbformat": 4,
 "nbformat_minor": 5
}
