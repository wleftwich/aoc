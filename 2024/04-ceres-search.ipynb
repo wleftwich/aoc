{
 "cells": [
  {
   "metadata": {},
   "cell_type": "markdown",
   "source": "https://adventofcode.com/2024/day/4",
   "id": "c26deb5eec9fd4d5"
  },
  {
   "metadata": {
    "ExecuteTime": {
     "end_time": "2024-12-04T23:00:04.582842Z",
     "start_time": "2024-12-04T23:00:04.579920Z"
    }
   },
   "cell_type": "code",
   "source": [
    "with open(\"data/04.txt\") as fh:\n",
    "    data = fh.read()"
   ],
   "id": "6f6619417778953",
   "outputs": [],
   "execution_count": 10
  },
  {
   "metadata": {
    "ExecuteTime": {
     "end_time": "2024-12-04T23:00:04.699515Z",
     "start_time": "2024-12-04T23:00:04.684696Z"
    }
   },
   "cell_type": "code",
   "source": [
    "grid = {}\n",
    "for y, line in enumerate(data.splitlines()):\n",
    "    for x, c in enumerate(line):\n",
    "        grid[complex(x, y)] = c"
   ],
   "id": "7e0eec9d78124ac9",
   "outputs": [],
   "execution_count": 11
  },
  {
   "metadata": {
    "ExecuteTime": {
     "end_time": "2024-12-05T00:39:58.520013Z",
     "start_time": "2024-12-05T00:39:58.511733Z"
    }
   },
   "cell_type": "code",
   "source": [
    "def count_xmas(point, grid=grid):\n",
    "    if grid.get(point) != \"X\":\n",
    "        return 0\n",
    "    counter = 0\n",
    "    for drxn in [1 + 0j, 1 + 1j, 0 + 1j, -1 + 1j, -1 + 0j, -1 - 1j, 0 - 1j, 1 - 1j]:\n",
    "        steps = (point + n * drxn for n in [1, 2, 3])\n",
    "        if [grid.get(step) for step in steps] == [\"M\", \"A\", \"S\"]:\n",
    "            counter += 1\n",
    "    return counter"
   ],
   "id": "2791a2e63ca020a8",
   "outputs": [],
   "execution_count": 18
  },
  {
   "metadata": {},
   "cell_type": "markdown",
   "source": "Part 1",
   "id": "76a57588fdd72fa0"
  },
  {
   "metadata": {
    "ExecuteTime": {
     "end_time": "2024-12-05T00:40:01.932027Z",
     "start_time": "2024-12-05T00:40:01.897921Z"
    }
   },
   "cell_type": "code",
   "source": "sum(count_xmas(point) for point in grid)",
   "id": "46024617481d8122",
   "outputs": [
    {
     "data": {
      "text/plain": [
       "2599"
      ]
     },
     "execution_count": 19,
     "metadata": {},
     "output_type": "execute_result"
    }
   ],
   "execution_count": 19
  },
  {
   "metadata": {
    "ExecuteTime": {
     "end_time": "2024-12-05T02:45:26.245608Z",
     "start_time": "2024-12-05T02:45:26.237568Z"
    }
   },
   "cell_type": "code",
   "source": [
    "def is_masx(point, grid=grid):\n",
    "    if grid.get(point) != \"A\":\n",
    "        return False\n",
    "    a = {grid.get(point + drxn) for drxn in [1 + 1j, -1 - 1j]}\n",
    "    b = {grid.get(point + drxn) for drxn in [-1 + 1j, 1 - 1j]}\n",
    "    if a == b == {\"M\", \"S\"}:\n",
    "        return True\n",
    "    return False"
   ],
   "id": "8d223e06f9e3c64c",
   "outputs": [],
   "execution_count": 23
  },
  {
   "metadata": {},
   "cell_type": "markdown",
   "source": "Part 2",
   "id": "67401dd5abb31a5a"
  },
  {
   "metadata": {
    "ExecuteTime": {
     "end_time": "2024-12-05T02:45:04.491278Z",
     "start_time": "2024-12-05T02:45:04.470908Z"
    }
   },
   "cell_type": "code",
   "source": "sum(is_masx(point) for point in grid)",
   "id": "8191658e286601c",
   "outputs": [
    {
     "data": {
      "text/plain": [
       "1948"
      ]
     },
     "execution_count": 22,
     "metadata": {},
     "output_type": "execute_result"
    }
   ],
   "execution_count": 22
  },
  {
   "metadata": {
    "ExecuteTime": {
     "end_time": "2024-12-04T23:00:05.141407Z",
     "start_time": "2024-12-04T23:00:05.136990Z"
    }
   },
   "cell_type": "code",
   "source": "",
   "id": "93f565bb288d5849",
   "outputs": [],
   "execution_count": null
  }
 ],
 "metadata": {
  "kernelspec": {
   "display_name": "Python 3",
   "language": "python",
   "name": "python3"
  },
  "language_info": {
   "codemirror_mode": {
    "name": "ipython",
    "version": 2
   },
   "file_extension": ".py",
   "mimetype": "text/x-python",
   "name": "python",
   "nbconvert_exporter": "python",
   "pygments_lexer": "ipython2",
   "version": "2.7.6"
  }
 },
 "nbformat": 4,
 "nbformat_minor": 5
}
