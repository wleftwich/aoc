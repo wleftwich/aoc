{
 "cells": [
  {
   "metadata": {},
   "cell_type": "markdown",
   "source": "https://adventofcode.com/2024/day/6",
   "id": "af3a610aeb58d50c"
  },
  {
   "metadata": {
    "ExecuteTime": {
     "end_time": "2024-12-07T22:38:51.326435Z",
     "start_time": "2024-12-07T22:38:51.319956Z"
    }
   },
   "cell_type": "code",
   "source": [
    "with open(\"data/06.txt\") as fh:\n",
    "    data = fh.read()"
   ],
   "id": "62f1b80bc9a3126d",
   "outputs": [],
   "execution_count": 104
  },
  {
   "metadata": {
    "ExecuteTime": {
     "end_time": "2024-12-07T22:38:51.377367Z",
     "start_time": "2024-12-07T22:38:51.373402Z"
    }
   },
   "cell_type": "code",
   "source": [
    "def load_grid(data):\n",
    "    grid = {}\n",
    "    startpos = None\n",
    "    for y, line in enumerate(data.splitlines()):\n",
    "        for x, c in enumerate(line):\n",
    "            pos = complex(x, -y)\n",
    "            if c == \"^\":\n",
    "                startpos = pos\n",
    "            grid[pos] = c\n",
    "    return grid, startpos"
   ],
   "id": "657aad385480322e",
   "outputs": [],
   "execution_count": 105
  },
  {
   "metadata": {
    "ExecuteTime": {
     "end_time": "2024-12-07T22:38:51.539874Z",
     "start_time": "2024-12-07T22:38:51.536892Z"
    }
   },
   "cell_type": "code",
   "source": [
    "testdata = \"\"\"\\\n",
    "....#.....\n",
    ".........#\n",
    "..........\n",
    "..#.......\n",
    ".......#..\n",
    "..........\n",
    ".#..^.....\n",
    "........#.\n",
    "#.........\n",
    "......#...\n",
    "\"\"\""
   ],
   "id": "b5286960d7458341",
   "outputs": [],
   "execution_count": 107
  },
  {
   "metadata": {
    "ExecuteTime": {
     "end_time": "2024-12-07T22:38:51.586620Z",
     "start_time": "2024-12-07T22:38:51.582636Z"
    }
   },
   "cell_type": "code",
   "source": [
    "def count_positions_prior_to_exit(grid, pos):\n",
    "    distinct_positions = set()\n",
    "    drxn = 0 + 1j\n",
    "    while len(distinct_positions) < 10_000_000:\n",
    "        distinct_positions.add(pos)\n",
    "        while grid.get(pos + drxn) == \"#\":\n",
    "            drxn *= 0 - 1j\n",
    "        if grid.get(pos + drxn) is None:\n",
    "            return len(distinct_positions)\n",
    "        pos += drxn"
   ],
   "id": "1228b21f6ee8a4be",
   "outputs": [],
   "execution_count": 108
  },
  {
   "metadata": {
    "ExecuteTime": {
     "end_time": "2024-12-07T22:38:51.645091Z",
     "start_time": "2024-12-07T22:38:51.636209Z"
    }
   },
   "cell_type": "code",
   "source": "count_positions_prior_to_exit(*load_grid(testdata))",
   "id": "f4bbcb91552efdc",
   "outputs": [
    {
     "data": {
      "text/plain": [
       "41"
      ]
     },
     "execution_count": 109,
     "metadata": {},
     "output_type": "execute_result"
    }
   ],
   "execution_count": 109
  },
  {
   "metadata": {},
   "cell_type": "markdown",
   "source": "Part 1",
   "id": "6688be47033ff553"
  },
  {
   "metadata": {
    "ExecuteTime": {
     "end_time": "2024-12-07T22:38:51.714360Z",
     "start_time": "2024-12-07T22:38:51.699777Z"
    }
   },
   "cell_type": "code",
   "source": "count_positions_prior_to_exit(*load_grid(data))",
   "id": "bb50a9cd354fb8f5",
   "outputs": [
    {
     "data": {
      "text/plain": [
       "5067"
      ]
     },
     "execution_count": 110,
     "metadata": {},
     "output_type": "execute_result"
    }
   ],
   "execution_count": 110
  },
  {
   "metadata": {
    "ExecuteTime": {
     "end_time": "2024-12-08T01:33:17.070094Z",
     "start_time": "2024-12-08T01:33:17.064827Z"
    }
   },
   "cell_type": "code",
   "source": [
    "def count_loop_obstacles(grid, pos):\n",
    "    blockpoints = 0\n",
    "    drxn = 0 + 1j\n",
    "    blocklog = set()\n",
    "    pos_drxn_hist = set()\n",
    "    startpos = pos\n",
    "    while pos in grid:\n",
    "        while grid.get(pos + drxn) == \"#\":\n",
    "            drxn *= (0 - 1j)\n",
    "        if (\n",
    "            pos + drxn != startpos\n",
    "            and pos + drxn not in blocklog\n",
    "        ):\n",
    "            new_drxn = drxn * (0 - 1j)\n",
    "            gc = grid.copy()\n",
    "            gc[pos + drxn] = \"#\"\n",
    "            blocklog.add(pos + drxn)\n",
    "            if is_loop(gc, pos, new_drxn, pos_drxn_hist.copy()):\n",
    "                blockpoints += 1\n",
    "        pos_drxn_hist.add((pos, drxn))\n",
    "        pos += drxn\n",
    "    return blockpoints\n",
    "\n",
    "\n",
    "def is_loop(grid, pos, drxn, hist):\n",
    "    while pos in grid:\n",
    "        if (pos, drxn) in hist:\n",
    "            return True\n",
    "        hist.add((pos, drxn))\n",
    "        while grid.get(pos + drxn) == \"#\":\n",
    "            drxn *= (0 - 1j)\n",
    "        pos += drxn\n",
    "    return False"
   ],
   "id": "55f077402229d5e8",
   "outputs": [],
   "execution_count": 185
  },
  {
   "metadata": {
    "ExecuteTime": {
     "end_time": "2024-12-08T01:33:21.668782Z",
     "start_time": "2024-12-08T01:33:21.662020Z"
    }
   },
   "cell_type": "code",
   "source": "count_loop_obstacles(*load_grid(testdata))",
   "id": "39561f5c88b680ea",
   "outputs": [
    {
     "data": {
      "text/plain": [
       "6"
      ]
     },
     "execution_count": 186,
     "metadata": {},
     "output_type": "execute_result"
    }
   ],
   "execution_count": 186
  },
  {
   "metadata": {},
   "cell_type": "markdown",
   "source": "Part 2",
   "id": "5c4456440b8c67"
  },
  {
   "metadata": {
    "ExecuteTime": {
     "end_time": "2024-12-08T01:33:25.584702Z",
     "start_time": "2024-12-08T01:33:23.776280Z"
    }
   },
   "cell_type": "code",
   "source": [
    "%%time\n",
    "count_loop_obstacles(*load_grid(data))"
   ],
   "id": "8d6ea204a6503c55",
   "outputs": [
    {
     "name": "stdout",
     "output_type": "stream",
     "text": [
      "CPU times: user 1.8 s, sys: 4 ms, total: 1.8 s\n",
      "Wall time: 1.8 s\n"
     ]
    },
    {
     "data": {
      "text/plain": [
       "1793"
      ]
     },
     "execution_count": 187,
     "metadata": {},
     "output_type": "execute_result"
    }
   ],
   "execution_count": 187
  }
 ],
 "metadata": {
  "kernelspec": {
   "display_name": "Python 3",
   "language": "python",
   "name": "python3"
  },
  "language_info": {
   "codemirror_mode": {
    "name": "ipython",
    "version": 2
   },
   "file_extension": ".py",
   "mimetype": "text/x-python",
   "name": "python",
   "nbconvert_exporter": "python",
   "pygments_lexer": "ipython2",
   "version": "2.7.6"
  }
 },
 "nbformat": 4,
 "nbformat_minor": 5
}
