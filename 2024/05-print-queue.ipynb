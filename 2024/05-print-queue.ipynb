{
 "cells": [
  {
   "metadata": {},
   "cell_type": "markdown",
   "source": "https://adventofcode.com/2024/day/5",
   "id": "ddca0976902247e5"
  },
  {
   "metadata": {
    "ExecuteTime": {
     "end_time": "2024-12-05T22:12:45.312214Z",
     "start_time": "2024-12-05T22:12:45.309399Z"
    }
   },
   "cell_type": "code",
   "source": [
    "with open(\"data/05.txt\") as fh:\n",
    "    data = fh.read()"
   ],
   "id": "139f9d90dd5d1924",
   "outputs": [],
   "execution_count": 1
  },
  {
   "metadata": {
    "ExecuteTime": {
     "end_time": "2024-12-05T22:12:45.358188Z",
     "start_time": "2024-12-05T22:12:45.355519Z"
    }
   },
   "cell_type": "code",
   "source": "from collections import defaultdict",
   "id": "c9760001ed1c568",
   "outputs": [],
   "execution_count": 2
  },
  {
   "metadata": {
    "ExecuteTime": {
     "end_time": "2024-12-05T22:12:45.436177Z",
     "start_time": "2024-12-05T22:12:45.434054Z"
    }
   },
   "cell_type": "code",
   "source": [
    "testdata = \"\"\"\\\n",
    "47|53\n",
    "97|13\n",
    "97|61\n",
    "97|47\n",
    "75|29\n",
    "61|13\n",
    "75|53\n",
    "29|13\n",
    "97|29\n",
    "53|29\n",
    "61|53\n",
    "97|53\n",
    "61|29\n",
    "47|13\n",
    "75|47\n",
    "97|75\n",
    "47|61\n",
    "75|61\n",
    "47|29\n",
    "75|13\n",
    "53|13\n",
    "\n",
    "75,47,61,53,29\n",
    "97,61,53,29,13\n",
    "75,29,13\n",
    "75,97,47,61,53\n",
    "61,13,29\n",
    "97,13,75,29,47\n",
    "\"\"\""
   ],
   "id": "3d6fe34064aa9335",
   "outputs": [],
   "execution_count": 3
  },
  {
   "metadata": {
    "ExecuteTime": {
     "end_time": "2024-12-05T22:12:45.496697Z",
     "start_time": "2024-12-05T22:12:45.483851Z"
    }
   },
   "cell_type": "code",
   "source": [
    "rules_data, pages_data = data.split(\"\\n\\n\")\n",
    "rules = [tuple(int(y) for y in x.split(\"|\")) for x in rules_data.splitlines()]\n",
    "updates = [[int(p) for p in x.split(\",\")] for x in pages_data.splitlines()]\n",
    "\n",
    "rulesets = defaultdict(set)\n",
    "for a, b in rules:\n",
    "    rulesets[a].add(b)"
   ],
   "id": "9fcdc3048fe7d1df",
   "outputs": [],
   "execution_count": 4
  },
  {
   "metadata": {
    "ExecuteTime": {
     "end_time": "2024-12-05T22:12:45.551579Z",
     "start_time": "2024-12-05T22:12:45.547255Z"
    }
   },
   "cell_type": "code",
   "source": [
    "def median_if_sorted(update):\n",
    "    for i, page in enumerate(update):\n",
    "        if rulesets[page].intersection(update[:i]):\n",
    "            return 0\n",
    "    return update[len(update) // 2]"
   ],
   "id": "913c20b482ad7602",
   "outputs": [],
   "execution_count": 5
  },
  {
   "metadata": {},
   "cell_type": "markdown",
   "source": "Part 1",
   "id": "424b2f4fe6b863ad"
  },
  {
   "metadata": {
    "ExecuteTime": {
     "end_time": "2024-12-05T22:12:45.614727Z",
     "start_time": "2024-12-05T22:12:45.604064Z"
    }
   },
   "cell_type": "code",
   "source": "sum(median_if_sorted(ud) for ud in updates)",
   "id": "c5abd28a3b45d27b",
   "outputs": [
    {
     "data": {
      "text/plain": [
       "5129"
      ]
     },
     "execution_count": 6,
     "metadata": {},
     "output_type": "execute_result"
    }
   ],
   "execution_count": 6
  },
  {
   "metadata": {
    "ExecuteTime": {
     "end_time": "2024-12-05T22:12:45.733243Z",
     "start_time": "2024-12-05T22:12:45.727448Z"
    }
   },
   "cell_type": "code",
   "source": [
    "def sort_then_median(update):\n",
    "    sorted_update = sorted(update, key=lambda x: -len(rulesets[x].intersection(update)))\n",
    "    return sorted_update[len(sorted_update) // 2]"
   ],
   "id": "46064008788f17b3",
   "outputs": [],
   "execution_count": 7
  },
  {
   "metadata": {},
   "cell_type": "markdown",
   "source": "Part 2",
   "id": "1bf0f94ba3546f5f"
  },
  {
   "metadata": {
    "ExecuteTime": {
     "end_time": "2024-12-05T22:12:45.790972Z",
     "start_time": "2024-12-05T22:12:45.781143Z"
    }
   },
   "cell_type": "code",
   "source": [
    "badups = (x for x in updates if not median_if_sorted(x))\n",
    "sum(sort_then_median(badup) for badup in badups)"
   ],
   "id": "37f695c0a3cec568",
   "outputs": [
    {
     "data": {
      "text/plain": [
       "4077"
      ]
     },
     "execution_count": 8,
     "metadata": {},
     "output_type": "execute_result"
    }
   ],
   "execution_count": 8
  }
 ],
 "metadata": {
  "kernelspec": {
   "display_name": "Python 3",
   "language": "python",
   "name": "python3"
  },
  "language_info": {
   "codemirror_mode": {
    "name": "ipython",
    "version": 2
   },
   "file_extension": ".py",
   "mimetype": "text/x-python",
   "name": "python",
   "nbconvert_exporter": "python",
   "pygments_lexer": "ipython2",
   "version": "2.7.6"
  }
 },
 "nbformat": 4,
 "nbformat_minor": 5
}
