{
 "cells": [
  {
   "metadata": {},
   "cell_type": "markdown",
   "source": "https://adventofcode.com/2024/day/9",
   "id": "9407ed097e6254b5"
  },
  {
   "metadata": {
    "ExecuteTime": {
     "end_time": "2024-12-11T04:04:35.670983Z",
     "start_time": "2024-12-11T04:04:35.666768Z"
    }
   },
   "cell_type": "code",
   "source": [
    "from itertools import groupby\n",
    "from more_itertools import grouper\n",
    "\n",
    "import numpy as np"
   ],
   "id": "5df2506fc0ccb80a",
   "outputs": [],
   "execution_count": 57
  },
  {
   "metadata": {
    "ExecuteTime": {
     "end_time": "2024-12-11T03:11:12.468388Z",
     "start_time": "2024-12-11T03:11:12.460952Z"
    }
   },
   "cell_type": "code",
   "source": [
    "with open(\"data/09.txt\") as fh:\n",
    "    data = fh.read().strip()\n",
    "\n",
    "len(data)"
   ],
   "id": "2dfa48440ec3137a",
   "outputs": [
    {
     "data": {
      "text/plain": [
       "19999"
      ]
     },
     "execution_count": 2,
     "metadata": {},
     "output_type": "execute_result"
    }
   ],
   "execution_count": 2
  },
  {
   "metadata": {
    "ExecuteTime": {
     "end_time": "2024-12-11T03:11:12.593069Z",
     "start_time": "2024-12-11T03:11:12.589541Z"
    }
   },
   "cell_type": "code",
   "source": [
    "testdata = \"2333133121414131402\"\n",
    "\n",
    "len(testdata)"
   ],
   "id": "231fb009a9e24349",
   "outputs": [
    {
     "data": {
      "text/plain": [
       "19"
      ]
     },
     "execution_count": 3,
     "metadata": {},
     "output_type": "execute_result"
    }
   ],
   "execution_count": 3
  },
  {
   "metadata": {
    "ExecuteTime": {
     "end_time": "2024-12-11T03:11:12.659392Z",
     "start_time": "2024-12-11T03:11:12.656136Z"
    }
   },
   "cell_type": "code",
   "source": "puzzle = testdata",
   "id": "11cb483f1c469f62",
   "outputs": [],
   "execution_count": 4
  },
  {
   "metadata": {
    "ExecuteTime": {
     "end_time": "2024-12-11T03:11:12.711552Z",
     "start_time": "2024-12-11T03:11:12.706709Z"
    }
   },
   "cell_type": "code",
   "source": "list(grouper((int(x) for x in puzzle), 2, fillvalue=0))",
   "id": "ba7eab06788ef725",
   "outputs": [
    {
     "data": {
      "text/plain": [
       "[(2, 3),\n",
       " (3, 3),\n",
       " (1, 3),\n",
       " (3, 1),\n",
       " (2, 1),\n",
       " (4, 1),\n",
       " (4, 1),\n",
       " (3, 1),\n",
       " (4, 0),\n",
       " (2, 0)]"
      ]
     },
     "execution_count": 5,
     "metadata": {},
     "output_type": "execute_result"
    }
   ],
   "execution_count": 5
  },
  {
   "metadata": {
    "ExecuteTime": {
     "end_time": "2024-12-11T03:11:12.901763Z",
     "start_time": "2024-12-11T03:11:12.896567Z"
    }
   },
   "cell_type": "code",
   "source": "sum(int(x) for x in testdata)",
   "id": "c463a21627796768",
   "outputs": [
    {
     "data": {
      "text/plain": [
       "42"
      ]
     },
     "execution_count": 6,
     "metadata": {},
     "output_type": "execute_result"
    }
   ],
   "execution_count": 6
  },
  {
   "metadata": {
    "ExecuteTime": {
     "end_time": "2024-12-11T03:11:13.038017Z",
     "start_time": "2024-12-11T03:11:12.998366Z"
    }
   },
   "cell_type": "code",
   "source": [
    "ar = np.empty(sum(int(x)for x in data), dtype=int)\n",
    "ar[:] = 0\n",
    "\n",
    "n = 0\n",
    "wlen = 0\n",
    "flen = 0\n",
    "for (id, (a, b)) in enumerate(grouper((int(x) for x in data), 2, fillvalue=0)):\n",
    "    wlen += a\n",
    "    flen += b\n",
    "    ar[n : n+a] = id\n",
    "    n = n + a\n",
    "    ar[n : n+b] = -1\n",
    "    n = n + b    "
   ],
   "id": "3ad540bc38da92c4",
   "outputs": [],
   "execution_count": 7
  },
  {
   "metadata": {
    "ExecuteTime": {
     "end_time": "2024-12-11T03:11:13.075539Z",
     "start_time": "2024-12-11T03:11:13.054614Z"
    }
   },
   "cell_type": "code",
   "source": [
    "%%time\n",
    "backids = (x for x in ar[: -flen-1 : -1] if x != -1)\n",
    "for i in range(wlen):\n",
    "    if ar[i] == -1:\n",
    "        ar[i] = next(backids)"
   ],
   "id": "4c54a6c2c5316857",
   "outputs": [
    {
     "name": "stdout",
     "output_type": "stream",
     "text": [
      "CPU times: user 17.2 ms, sys: 0 ns, total: 17.2 ms\n",
      "Wall time: 17.3 ms\n"
     ]
    }
   ],
   "execution_count": 8
  },
  {
   "metadata": {},
   "cell_type": "markdown",
   "source": "Part 1",
   "id": "b0aa996ae527877e"
  },
  {
   "metadata": {
    "ExecuteTime": {
     "end_time": "2024-12-11T03:11:13.193473Z",
     "start_time": "2024-12-11T03:11:13.180847Z"
    }
   },
   "cell_type": "code",
   "source": "sum(i*x for (i, x) in enumerate(ar[:wlen]))",
   "id": "ce07c6c70567c321",
   "outputs": [
    {
     "data": {
      "text/plain": [
       "np.int64(6283170117911)"
      ]
     },
     "execution_count": 9,
     "metadata": {},
     "output_type": "execute_result"
    }
   ],
   "execution_count": 9
  },
  {
   "metadata": {},
   "cell_type": "code",
   "outputs": [],
   "execution_count": null,
   "source": "",
   "id": "25075c19825cdd75"
  },
  {
   "metadata": {
    "ExecuteTime": {
     "end_time": "2024-12-11T03:13:30.891464Z",
     "start_time": "2024-12-11T03:13:30.886044Z"
    }
   },
   "cell_type": "code",
   "source": [
    "ar = np.empty(sum(int(x)for x in testdata), dtype=int)\n",
    "ar[:] = 0\n",
    "\n",
    "n = 0\n",
    "wlen = 0\n",
    "flen = 0\n",
    "for (id, (a, b)) in enumerate(grouper((int(x) for x in testdata), 2, fillvalue=0)):\n",
    "    wlen += a\n",
    "    flen += b\n",
    "    ar[n : n+a] = id\n",
    "    n = n + a\n",
    "    ar[n : n+b] = -1\n",
    "    n = n + b    "
   ],
   "id": "c444f6cb92a5a541",
   "outputs": [],
   "execution_count": 13
  },
  {
   "metadata": {
    "ExecuteTime": {
     "end_time": "2024-12-11T03:13:40.343312Z",
     "start_time": "2024-12-11T03:13:40.339542Z"
    }
   },
   "cell_type": "code",
   "source": "ar",
   "id": "28039698805858df",
   "outputs": [
    {
     "data": {
      "text/plain": [
       "array([ 0,  0, -1, -1, -1,  1,  1,  1, -1, -1, -1,  2, -1, -1, -1,  3,  3,\n",
       "        3, -1,  4,  4, -1,  5,  5,  5,  5, -1,  6,  6,  6,  6, -1,  7,  7,\n",
       "        7, -1,  8,  8,  8,  8,  9,  9])"
      ]
     },
     "execution_count": 14,
     "metadata": {},
     "output_type": "execute_result"
    }
   ],
   "execution_count": 14
  },
  {
   "metadata": {
    "ExecuteTime": {
     "end_time": "2024-12-11T03:15:40.150446Z",
     "start_time": "2024-12-11T03:15:40.146983Z"
    }
   },
   "cell_type": "code",
   "source": [
    "freespace = (ar == -1)\n",
    "freespace"
   ],
   "id": "34b8874d105bf132",
   "outputs": [
    {
     "data": {
      "text/plain": [
       "array([False, False,  True,  True,  True, False, False, False,  True,\n",
       "        True,  True, False,  True,  True,  True, False, False, False,\n",
       "        True, False, False,  True, False, False, False, False,  True,\n",
       "       False, False, False, False,  True, False, False, False,  True,\n",
       "       False, False, False, False, False, False])"
      ]
     },
     "execution_count": 16,
     "metadata": {},
     "output_type": "execute_result"
    }
   ],
   "execution_count": 16
  },
  {
   "metadata": {
    "ExecuteTime": {
     "end_time": "2024-12-11T03:51:55.780662Z",
     "start_time": "2024-12-11T03:51:55.776871Z"
    }
   },
   "cell_type": "code",
   "source": [
    "def iter_free(disk):\n",
    "    fs = (disk == -1)\n",
    "    offset = 0\n",
    "    while True:\n",
    "        try:\n",
    "            a = fs[offset:].argmax()\n",
    "            start = offset + a\n",
    "            run = fs[start:].argmin()\n",
    "        except ValueError:\n",
    "            break\n",
    "        if run == 0 :\n",
    "            break\n",
    "        yield (start, run)\n",
    "        offset = start + run\n",
    "\n",
    "        \n",
    "            \n"
   ],
   "id": "478d98f4b788a729",
   "outputs": [],
   "execution_count": 49
  },
  {
   "metadata": {
    "ExecuteTime": {
     "end_time": "2024-12-11T03:51:58.995566Z",
     "start_time": "2024-12-11T03:51:58.990823Z"
    }
   },
   "cell_type": "code",
   "source": "list(iter_free(ar))",
   "id": "e6e4e94e9bcc4351",
   "outputs": [
    {
     "data": {
      "text/plain": [
       "[(np.int64(2), np.int64(3)),\n",
       " (np.int64(8), np.int64(3)),\n",
       " (np.int64(12), np.int64(3)),\n",
       " (np.int64(18), np.int64(1)),\n",
       " (np.int64(21), np.int64(1)),\n",
       " (np.int64(26), np.int64(1)),\n",
       " (np.int64(31), np.int64(1)),\n",
       " (np.int64(35), np.int64(1))]"
      ]
     },
     "execution_count": 50,
     "metadata": {},
     "output_type": "execute_result"
    }
   ],
   "execution_count": 50
  },
  {
   "metadata": {},
   "cell_type": "code",
   "outputs": [],
   "execution_count": null,
   "source": "",
   "id": "6ffa2503a23c2e04"
  },
  {
   "metadata": {
    "ExecuteTime": {
     "end_time": "2024-12-11T03:59:58.986484Z",
     "start_time": "2024-12-11T03:59:58.981293Z"
    }
   },
   "cell_type": "code",
   "source": [
    "def iter_files(disk):\n",
    "    fs = (disk != -1)\n",
    "    offset = 0\n",
    "    L = []\n",
    "    while True:\n",
    "        try:\n",
    "            a = fs[offset:].argmax()\n",
    "            start = offset + a\n",
    "            run = fs[start:].argmin()\n",
    "        except ValueError:\n",
    "            break\n",
    "        if run == 0 :\n",
    "            run = len(fs[start:])\n",
    "        L.append((start, run))\n",
    "        offset = start + run\n",
    "    return reversed(L)\n",
    "    "
   ],
   "id": "e6b0e97564bbdff6",
   "outputs": [],
   "execution_count": 54
  },
  {
   "metadata": {
    "ExecuteTime": {
     "end_time": "2024-12-11T04:00:02.001415Z",
     "start_time": "2024-12-11T04:00:01.997695Z"
    }
   },
   "cell_type": "code",
   "source": "list(iter_files(ar))",
   "id": "e1f1c34744de8a7c",
   "outputs": [
    {
     "data": {
      "text/plain": [
       "[(np.int64(36), 6),\n",
       " (np.int64(32), np.int64(3)),\n",
       " (np.int64(27), np.int64(4)),\n",
       " (np.int64(22), np.int64(4)),\n",
       " (np.int64(19), np.int64(2)),\n",
       " (np.int64(15), np.int64(3)),\n",
       " (np.int64(11), np.int64(1)),\n",
       " (np.int64(5), np.int64(3)),\n",
       " (np.int64(0), np.int64(2))]"
      ]
     },
     "execution_count": 55,
     "metadata": {},
     "output_type": "execute_result"
    }
   ],
   "execution_count": 55
  },
  {
   "metadata": {},
   "cell_type": "code",
   "outputs": [],
   "execution_count": null,
   "source": "",
   "id": "1a6962a276d9e5df"
  },
  {
   "metadata": {
    "ExecuteTime": {
     "end_time": "2024-12-11T03:43:34.546381Z",
     "start_time": "2024-12-11T03:43:34.543003Z"
    }
   },
   "cell_type": "code",
   "source": [
    "fs = (ar == -1)\n",
    "offset = 0\n",
    "a = fs[offset:].argmax()\n",
    "a"
   ],
   "id": "565bcb76d929c6eb",
   "outputs": [
    {
     "data": {
      "text/plain": [
       "np.int64(2)"
      ]
     },
     "execution_count": 39,
     "metadata": {},
     "output_type": "execute_result"
    }
   ],
   "execution_count": 39
  },
  {
   "metadata": {
    "ExecuteTime": {
     "end_time": "2024-12-11T03:44:18.672751Z",
     "start_time": "2024-12-11T03:44:18.669154Z"
    }
   },
   "cell_type": "code",
   "source": [
    "start = offset + a\n",
    "start"
   ],
   "id": "1b8253c9065ce36",
   "outputs": [
    {
     "data": {
      "text/plain": [
       "np.int64(2)"
      ]
     },
     "execution_count": 40,
     "metadata": {},
     "output_type": "execute_result"
    }
   ],
   "execution_count": 40
  },
  {
   "metadata": {
    "ExecuteTime": {
     "end_time": "2024-12-11T03:47:47.529834Z",
     "start_time": "2024-12-11T03:47:47.525342Z"
    }
   },
   "cell_type": "code",
   "source": [
    "finish = fs[start:].argmin() + start\n",
    "finish"
   ],
   "id": "2c14633f1cca3704",
   "outputs": [
    {
     "data": {
      "text/plain": [
       "np.int64(5)"
      ]
     },
     "execution_count": 44,
     "metadata": {},
     "output_type": "execute_result"
    }
   ],
   "execution_count": 44
  },
  {
   "metadata": {
    "ExecuteTime": {
     "end_time": "2024-12-11T04:09:34.816853Z",
     "start_time": "2024-12-11T04:09:34.812629Z"
    }
   },
   "cell_type": "code",
   "source": [
    "v, ns = next(groupby(enumerate(ar), lambda x: x[1]))\n",
    "list(ns)"
   ],
   "id": "9412a26697f8318",
   "outputs": [
    {
     "data": {
      "text/plain": [
       "[(0, np.int64(0)), (1, np.int64(0))]"
      ]
     },
     "execution_count": 60,
     "metadata": {},
     "output_type": "execute_result"
    }
   ],
   "execution_count": 60
  },
  {
   "metadata": {
    "ExecuteTime": {
     "end_time": "2024-12-11T04:20:53.984831Z",
     "start_time": "2024-12-11T04:20:53.980465Z"
    }
   },
   "cell_type": "code",
   "source": "v",
   "id": "caf5aadc9795f112",
   "outputs": [
    {
     "data": {
      "text/plain": [
       "np.int64(0)"
      ]
     },
     "execution_count": 61,
     "metadata": {},
     "output_type": "execute_result"
    }
   ],
   "execution_count": 61
  }
 ],
 "metadata": {
  "kernelspec": {
   "display_name": "Python 3",
   "language": "python",
   "name": "python3"
  },
  "language_info": {
   "codemirror_mode": {
    "name": "ipython",
    "version": 2
   },
   "file_extension": ".py",
   "mimetype": "text/x-python",
   "name": "python",
   "nbconvert_exporter": "python",
   "pygments_lexer": "ipython2",
   "version": "2.7.6"
  }
 },
 "nbformat": 4,
 "nbformat_minor": 5
}
