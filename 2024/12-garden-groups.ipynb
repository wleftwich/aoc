{
 "cells": [
  {
   "metadata": {},
   "cell_type": "markdown",
   "source": "https://adventofcode.com/2024/day/12",
   "id": "8db7b0b0f862fd6d"
  },
  {
   "metadata": {
    "ExecuteTime": {
     "end_time": "2024-12-12T13:27:06.347053Z",
     "start_time": "2024-12-12T13:27:06.341308Z"
    }
   },
   "cell_type": "code",
   "source": "import networkx as nx",
   "id": "9a98a80940e104c8",
   "outputs": [],
   "execution_count": 49
  },
  {
   "metadata": {
    "ExecuteTime": {
     "end_time": "2024-12-12T13:02:13.609036Z",
     "start_time": "2024-12-12T13:02:13.605071Z"
    }
   },
   "cell_type": "code",
   "source": [
    "with open(\"data/12.txt\") as fh:\n",
    "    data = fh.read()"
   ],
   "id": "7604c1c8c28c99c0",
   "outputs": [],
   "execution_count": 8
  },
  {
   "metadata": {
    "ExecuteTime": {
     "end_time": "2024-12-12T13:26:01.970622Z",
     "start_time": "2024-12-12T13:26:01.964757Z"
    }
   },
   "cell_type": "code",
   "source": [
    "def load_grid(data):\n",
    "    grid = {}\n",
    "    for y, line in enumerate(data.splitlines()):\n",
    "        for x, c in enumerate(line):\n",
    "            grid[complex(x, y)] = c\n",
    "    return grid"
   ],
   "id": "d7d7ba8d393f05d2",
   "outputs": [],
   "execution_count": 44
  },
  {
   "metadata": {
    "ExecuteTime": {
     "end_time": "2024-12-12T13:26:04.044256Z",
     "start_time": "2024-12-12T13:26:04.040016Z"
    }
   },
   "cell_type": "code",
   "source": [
    "def load_graph(grid):\n",
    "    G = nx.Graph()\n",
    "    for p, c in grid.items():\n",
    "        G.add_node(p)\n",
    "        for drxn in (1, 1j, -1, -1j):\n",
    "            nabe = p + drxn\n",
    "            if nabe in grid:\n",
    "                G.add_node(nabe)\n",
    "                if grid[nabe] == c:\n",
    "                    G.add_edge(p, nabe)\n",
    "    return G\n",
    "    "
   ],
   "id": "b102bc42ddd7b9e",
   "outputs": [],
   "execution_count": 45
  },
  {
   "metadata": {
    "ExecuteTime": {
     "end_time": "2024-12-12T13:28:17.378135Z",
     "start_time": "2024-12-12T13:28:17.374997Z"
    }
   },
   "cell_type": "code",
   "source": [
    "def calc_perim(region):\n",
    "    perim = 0\n",
    "    for plot in region:\n",
    "        for drxn in (1, 1j, -1, -1j):\n",
    "            if plot + drxn not in region:\n",
    "                perim += 1\n",
    "    return perim\n"
   ],
   "id": "2c2eae7684aa02c3",
   "outputs": [],
   "execution_count": 50
  },
  {
   "metadata": {
    "ExecuteTime": {
     "end_time": "2024-12-12T13:21:52.054544Z",
     "start_time": "2024-12-12T13:21:52.051535Z"
    }
   },
   "cell_type": "code",
   "source": [
    "testdata = \"\"\"\\\n",
    "RRRRIICCFF\n",
    "RRRRIICCCF\n",
    "VVRRRCCFFF\n",
    "VVRCCCJFFF\n",
    "VVVVCJJCFE\n",
    "VVIVCCJJEE\n",
    "VVIIICJJEE\n",
    "MIIIIIJJEE\n",
    "MIIISIJEEE\n",
    "MMMISSJEEE\n",
    "\"\"\""
   ],
   "id": "fc7f2c966044b861",
   "outputs": [],
   "execution_count": 38
  },
  {
   "metadata": {
    "ExecuteTime": {
     "end_time": "2024-12-12T13:36:56.598281Z",
     "start_time": "2024-12-12T13:36:56.422185Z"
    }
   },
   "cell_type": "code",
   "source": [
    "grid = load_grid(data)\n",
    "graph = load_graph(grid)\n",
    "\n",
    "total_cost = sum(len(region) * calc_perim(region) for region in nx.connected_components(graph))"
   ],
   "id": "2f782f6422bc09d4",
   "outputs": [],
   "execution_count": 53
  },
  {
   "metadata": {},
   "cell_type": "markdown",
   "source": "Part 1",
   "id": "ffc83ee5e65901f8"
  },
  {
   "metadata": {
    "ExecuteTime": {
     "end_time": "2024-12-12T13:36:58.969067Z",
     "start_time": "2024-12-12T13:36:58.965694Z"
    }
   },
   "cell_type": "code",
   "source": "total_cost",
   "id": "1cc719cccf9adf86",
   "outputs": [
    {
     "data": {
      "text/plain": [
       "1431440"
      ]
     },
     "execution_count": 54,
     "metadata": {},
     "output_type": "execute_result"
    }
   ],
   "execution_count": 54
  }
 ],
 "metadata": {
  "kernelspec": {
   "display_name": "Python 3",
   "language": "python",
   "name": "python3"
  },
  "language_info": {
   "codemirror_mode": {
    "name": "ipython",
    "version": 2
   },
   "file_extension": ".py",
   "mimetype": "text/x-python",
   "name": "python",
   "nbconvert_exporter": "python",
   "pygments_lexer": "ipython2",
   "version": "2.7.6"
  }
 },
 "nbformat": 4,
 "nbformat_minor": 5
}
