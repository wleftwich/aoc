{
 "cells": [
  {
   "metadata": {},
   "cell_type": "markdown",
   "source": "https://adventofcode.com/2024/day/7",
   "id": "5920bca993749407"
  },
  {
   "metadata": {
    "ExecuteTime": {
     "end_time": "2024-12-07T20:40:51.629367Z",
     "start_time": "2024-12-07T20:40:51.627202Z"
    }
   },
   "cell_type": "code",
   "source": [
    "with open(\"data/07.txt\") as fh:\n",
    "    data = fh.read()"
   ],
   "id": "76e48437d2403423",
   "outputs": [],
   "execution_count": 1
  },
  {
   "metadata": {
    "ExecuteTime": {
     "end_time": "2024-12-07T20:48:06.436120Z",
     "start_time": "2024-12-07T20:48:06.433876Z"
    }
   },
   "cell_type": "code",
   "source": "from collections import deque",
   "id": "ca43858ff2f0f1e4",
   "outputs": [],
   "execution_count": 6
  },
  {
   "metadata": {
    "ExecuteTime": {
     "end_time": "2024-12-07T21:20:58.291058Z",
     "start_time": "2024-12-07T21:20:58.284730Z"
    }
   },
   "cell_type": "code",
   "source": [
    "def can_calibrate(line):\n",
    "    ttl_str, rest = line.split(\":\")\n",
    "    ttl = int(ttl_str)\n",
    "    items = deque(int(x) for x in rest.split())\n",
    "    stack = [(items.popleft(), items.copy())]\n",
    "    while stack:\n",
    "        acc, nums = stack.pop()\n",
    "        if not nums:\n",
    "            if acc == ttl:\n",
    "                return ttl\n",
    "            continue\n",
    "        n = nums.popleft()\n",
    "        acc1 = acc * n\n",
    "        if acc1 <= ttl:\n",
    "            stack.append((acc1, nums.copy()))\n",
    "        acc2 = acc + n\n",
    "        if acc2 <= ttl:\n",
    "            stack.append((acc2, nums.copy()))\n",
    "    return 0"
   ],
   "id": "82dc0cec7b28f223",
   "outputs": [],
   "execution_count": 40
  },
  {
   "metadata": {},
   "cell_type": "markdown",
   "source": "Part 1",
   "id": "ad8efec981e34a08"
  },
  {
   "metadata": {
    "ExecuteTime": {
     "end_time": "2024-12-07T21:21:01.015035Z",
     "start_time": "2024-12-07T21:21:00.900615Z"
    }
   },
   "cell_type": "code",
   "source": "sum(can_calibrate(line) for line in data.splitlines())",
   "id": "4408ec2da5f0e843",
   "outputs": [
    {
     "data": {
      "text/plain": [
       "303766880536"
      ]
     },
     "execution_count": 41,
     "metadata": {},
     "output_type": "execute_result"
    }
   ],
   "execution_count": 41
  },
  {
   "metadata": {
    "ExecuteTime": {
     "end_time": "2024-12-07T21:23:33.141909Z",
     "start_time": "2024-12-07T21:23:33.135286Z"
    }
   },
   "cell_type": "code",
   "source": [
    "def can_calibrate_with_concat(line):\n",
    "    ttl_str, rest = line.split(\":\")\n",
    "    ttl = int(ttl_str)\n",
    "    items = deque(int(x) for x in rest.split())\n",
    "    stack = [(items.popleft(), items.copy())]\n",
    "    while stack:\n",
    "        acc, nums = stack.pop()\n",
    "        if not nums:\n",
    "            if acc == ttl:\n",
    "                return ttl\n",
    "            continue\n",
    "        n = nums.popleft()\n",
    "        acc1 = acc * n\n",
    "        if acc1 <= ttl:\n",
    "            stack.append((acc1, nums.copy()))\n",
    "        acc2 = acc + n\n",
    "        if acc2 <= ttl:\n",
    "            stack.append((acc2, nums.copy()))\n",
    "        acc3 = int(str(acc) + str(n))\n",
    "        if acc3 <= ttl:\n",
    "            stack.append((acc3, nums.copy()))\n",
    "    return 0"
   ],
   "id": "867ad8f9e7bd9f4f",
   "outputs": [],
   "execution_count": 49
  },
  {
   "metadata": {},
   "cell_type": "markdown",
   "source": "Part 2",
   "id": "1809a8f4667b9c21"
  },
  {
   "metadata": {
    "ExecuteTime": {
     "end_time": "2024-12-07T21:23:39.023078Z",
     "start_time": "2024-12-07T21:23:35.801963Z"
    }
   },
   "cell_type": "code",
   "source": "sum(can_calibrate_with_concat(line) for line in data.splitlines())",
   "id": "280ea1dd79ff8eb",
   "outputs": [
    {
     "data": {
      "text/plain": [
       "337041851384440"
      ]
     },
     "execution_count": 50,
     "metadata": {},
     "output_type": "execute_result"
    }
   ],
   "execution_count": 50
  }
 ],
 "metadata": {
  "kernelspec": {
   "display_name": "Python 3",
   "language": "python",
   "name": "python3"
  },
  "language_info": {
   "codemirror_mode": {
    "name": "ipython",
    "version": 2
   },
   "file_extension": ".py",
   "mimetype": "text/x-python",
   "name": "python",
   "nbconvert_exporter": "python",
   "pygments_lexer": "ipython2",
   "version": "2.7.6"
  }
 },
 "nbformat": 4,
 "nbformat_minor": 5
}
