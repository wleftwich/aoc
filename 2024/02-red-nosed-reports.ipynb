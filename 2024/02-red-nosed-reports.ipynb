{
 "cells": [
  {
   "metadata": {},
   "cell_type": "markdown",
   "source": "https://adventofcode.com/2024/day/2",
   "id": "433d6d95a0463e24"
  },
  {
   "metadata": {
    "ExecuteTime": {
     "end_time": "2024-12-02T12:49:11.037314Z",
     "start_time": "2024-12-02T12:49:11.034614Z"
    }
   },
   "cell_type": "code",
   "source": [
    "with open(\"data/02.txt\") as fh:\n",
    "    data = fh.read()"
   ],
   "id": "85ca6142508af6e4",
   "outputs": [],
   "execution_count": 1
  },
  {
   "metadata": {
    "ExecuteTime": {
     "end_time": "2024-12-02T14:37:23.629649Z",
     "start_time": "2024-12-02T14:37:23.621712Z"
    }
   },
   "cell_type": "code",
   "source": "reports = [[int(x) for x in line.split()] for line in data.splitlines()]",
   "id": "1e1beff47b679786",
   "outputs": [],
   "execution_count": 28
  },
  {
   "metadata": {
    "ExecuteTime": {
     "end_time": "2024-12-02T14:37:25.103928Z",
     "start_time": "2024-12-02T14:37:25.099516Z"
    }
   },
   "cell_type": "code",
   "source": "reports[:3]",
   "id": "d21f32f5e01ce36b",
   "outputs": [
    {
     "data": {
      "text/plain": [
       "[[42, 44, 47, 49, 51, 52, 54, 52],\n",
       " [24, 27, 30, 31, 32, 35, 36, 36],\n",
       " [80, 82, 85, 86, 87, 90, 94]]"
      ]
     },
     "execution_count": 29,
     "metadata": {},
     "output_type": "execute_result"
    }
   ],
   "execution_count": 29
  },
  {
   "metadata": {
    "ExecuteTime": {
     "end_time": "2024-12-02T12:59:10.034296Z",
     "start_time": "2024-12-02T12:59:10.027048Z"
    }
   },
   "cell_type": "code",
   "source": [
    "def is_safe(report):\n",
    "    diffs = [a - b for (a, b) in zip(report, report[1:])]\n",
    "    return all(1 <= d <= 3 for d in diffs) or all(-3 <= d <= -1 for d in diffs)"
   ],
   "id": "10389cc559c9c5a9",
   "outputs": [],
   "execution_count": 20
  },
  {
   "metadata": {},
   "cell_type": "markdown",
   "source": "Part 1",
   "id": "f7f61a3c7b3f3c43"
  },
  {
   "metadata": {
    "ExecuteTime": {
     "end_time": "2024-12-02T12:59:11.617870Z",
     "start_time": "2024-12-02T12:59:11.607649Z"
    }
   },
   "cell_type": "code",
   "source": "sum(is_safe(r) for r in reports)",
   "id": "6763d04d5bfbab81",
   "outputs": [
    {
     "data": {
      "text/plain": [
       "282"
      ]
     },
     "execution_count": 21,
     "metadata": {},
     "output_type": "execute_result"
    }
   ],
   "execution_count": 21
  },
  {
   "metadata": {},
   "cell_type": "markdown",
   "source": "Part 2",
   "id": "eb59afd271848dc0"
  },
  {
   "metadata": {
    "ExecuteTime": {
     "end_time": "2024-12-02T16:21:30.448521Z",
     "start_time": "2024-12-02T16:21:30.445836Z"
    }
   },
   "cell_type": "code",
   "source": [
    "def iter_edit_report(report):\n",
    "    yield report\n",
    "    for i in range(len(report)):\n",
    "        yield report[:i] + report[i+1:]"
   ],
   "id": "af7545c4ba7075c0",
   "outputs": [],
   "execution_count": 48
  },
  {
   "metadata": {
    "ExecuteTime": {
     "end_time": "2024-12-02T16:21:38.513879Z",
     "start_time": "2024-12-02T16:21:38.495188Z"
    }
   },
   "cell_type": "code",
   "source": "sum(any(is_safe(e) for e in iter_edit_report(r)) for r in reports)",
   "id": "1b21a7a40854cada",
   "outputs": [
    {
     "data": {
      "text/plain": [
       "349"
      ]
     },
     "execution_count": 49,
     "metadata": {},
     "output_type": "execute_result"
    }
   ],
   "execution_count": 49
  }
 ],
 "metadata": {
  "kernelspec": {
   "display_name": "Python 3",
   "language": "python",
   "name": "python3"
  },
  "language_info": {
   "codemirror_mode": {
    "name": "ipython",
    "version": 2
   },
   "file_extension": ".py",
   "mimetype": "text/x-python",
   "name": "python",
   "nbconvert_exporter": "python",
   "pygments_lexer": "ipython2",
   "version": "2.7.6"
  }
 },
 "nbformat": 4,
 "nbformat_minor": 5
}
