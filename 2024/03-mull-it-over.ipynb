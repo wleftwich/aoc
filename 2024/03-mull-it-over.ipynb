{
 "cells": [
  {
   "metadata": {},
   "cell_type": "markdown",
   "source": "https://adventofcode.com/2024/day/3",
   "id": "b8ec7aca4e905403"
  },
  {
   "metadata": {
    "ExecuteTime": {
     "end_time": "2024-12-03T13:50:29.620530Z",
     "start_time": "2024-12-03T13:50:29.617107Z"
    }
   },
   "cell_type": "code",
   "source": "import re",
   "id": "c90f5841de76f897",
   "outputs": [],
   "execution_count": 1
  },
  {
   "metadata": {
    "ExecuteTime": {
     "end_time": "2024-12-03T13:50:29.669874Z",
     "start_time": "2024-12-03T13:50:29.667491Z"
    }
   },
   "cell_type": "code",
   "source": [
    "with open(\"data/03.txt\") as fh:\n",
    "    data = fh.read()"
   ],
   "id": "726dee6e708a54d",
   "outputs": [],
   "execution_count": 2
  },
  {
   "metadata": {
    "ExecuteTime": {
     "end_time": "2024-12-03T13:50:29.740888Z",
     "start_time": "2024-12-03T13:50:29.736850Z"
    }
   },
   "cell_type": "code",
   "source": "len(data)",
   "id": "1a9936e380e9451c",
   "outputs": [
    {
     "data": {
      "text/plain": [
       "19308"
      ]
     },
     "execution_count": 3,
     "metadata": {},
     "output_type": "execute_result"
    }
   ],
   "execution_count": 3
  },
  {
   "metadata": {
    "ExecuteTime": {
     "end_time": "2024-12-03T13:50:29.796697Z",
     "start_time": "2024-12-03T13:50:29.792874Z"
    }
   },
   "cell_type": "code",
   "source": [
    "mulre = re.compile(r\"mul\\((\\d+),(\\d+)\\)\")\n",
    "\n",
    "def mulsum(s):\n",
    "    return sum(int(x) * int(y) for (x, y) in mulre.findall(s))"
   ],
   "id": "713615739c0c818e",
   "outputs": [],
   "execution_count": 4
  },
  {
   "metadata": {},
   "cell_type": "markdown",
   "source": "Part 1",
   "id": "f44e953db25d24fe"
  },
  {
   "metadata": {
    "ExecuteTime": {
     "end_time": "2024-12-03T13:50:29.855994Z",
     "start_time": "2024-12-03T13:50:29.851870Z"
    }
   },
   "cell_type": "code",
   "source": [
    "part1 = mulsum(data)\n",
    "\n",
    "part1"
   ],
   "id": "c5eab1cc2aac551f",
   "outputs": [
    {
     "data": {
      "text/plain": [
       "184122457"
      ]
     },
     "execution_count": 5,
     "metadata": {},
     "output_type": "execute_result"
    }
   ],
   "execution_count": 5
  },
  {
   "metadata": {},
   "cell_type": "markdown",
   "source": "Part 2",
   "id": "a6f82b07e8bb3f20"
  },
  {
   "metadata": {
    "ExecuteTime": {
     "end_time": "2024-12-03T13:50:29.915182Z",
     "start_time": "2024-12-03T13:50:29.912105Z"
    }
   },
   "cell_type": "code",
   "source": [
    "dore = re.compile(r\"do\\(\\)\")\n",
    "dontre = re.compile(r\"don't\\(\\)\")"
   ],
   "id": "ba71ea6048d0ca6f",
   "outputs": [],
   "execution_count": 6
  },
  {
   "metadata": {
    "ExecuteTime": {
     "end_time": "2024-12-03T13:50:29.963398Z",
     "start_time": "2024-12-03T13:50:29.961193Z"
    }
   },
   "cell_type": "code",
   "source": [
    "dos = list(m.span()[1] for m in dore.finditer(data))\n",
    "donts = list(m.span()[1] for m in dontre.finditer(data))"
   ],
   "id": "8671479afffdbd1c",
   "outputs": [],
   "execution_count": 7
  },
  {
   "metadata": {
    "ExecuteTime": {
     "end_time": "2024-12-03T13:50:30.016481Z",
     "start_time": "2024-12-03T13:50:30.012507Z"
    }
   },
   "cell_type": "code",
   "source": "dosndonts = sorted([(i, True) for i in dos] + [(j, False) for j in donts])",
   "id": "c61177cde16ea0ec",
   "outputs": [],
   "execution_count": 8
  },
  {
   "metadata": {
    "ExecuteTime": {
     "end_time": "2024-12-03T13:50:30.070689Z",
     "start_time": "2024-12-03T13:50:30.064764Z"
    }
   },
   "cell_type": "code",
   "source": [
    "spans = []\n",
    "start = 0\n",
    "for i, state in dosndonts:\n",
    "    if state:\n",
    "        if start is None:\n",
    "            start = i\n",
    "    elif start is not None:\n",
    "        spans.append((start, i))\n",
    "        start = None\n",
    "if start is not None:\n",
    "    spans.append((start, None))\n",
    "        "
   ],
   "id": "5732493bf8811921",
   "outputs": [],
   "execution_count": 9
  },
  {
   "metadata": {
    "ExecuteTime": {
     "end_time": "2024-12-03T13:50:30.129839Z",
     "start_time": "2024-12-03T13:50:30.123403Z"
    }
   },
   "cell_type": "code",
   "source": [
    "part2 = sum(mulsum(data[a:b]) for (a, b) in spans)\n",
    "\n",
    "part2"
   ],
   "id": "1d252db4c72df815",
   "outputs": [
    {
     "data": {
      "text/plain": [
       "107862689"
      ]
     },
     "execution_count": 10,
     "metadata": {},
     "output_type": "execute_result"
    }
   ],
   "execution_count": 10
  },
  {
   "metadata": {},
   "cell_type": "markdown",
   "source": "Nicer solution from a person on Reddit",
   "id": "2da52f811a5ec104"
  },
  {
   "metadata": {
    "ExecuteTime": {
     "end_time": "2024-12-03T14:34:04.068130Z",
     "start_time": "2024-12-03T14:34:04.060063Z"
    }
   },
   "cell_type": "code",
   "source": [
    "ttl = 0\n",
    "\n",
    "for part in data.split(\"do()\"):\n",
    "    ttl += mulsum(part.split(\"don't()\")[0])\n",
    "    \n",
    "ttl"
   ],
   "id": "ad0078ab07298430",
   "outputs": [
    {
     "data": {
      "text/plain": [
       "107862689"
      ]
     },
     "execution_count": 25,
     "metadata": {},
     "output_type": "execute_result"
    }
   ],
   "execution_count": 25
  }
 ],
 "metadata": {
  "kernelspec": {
   "display_name": "Python 3",
   "language": "python",
   "name": "python3"
  },
  "language_info": {
   "codemirror_mode": {
    "name": "ipython",
    "version": 2
   },
   "file_extension": ".py",
   "mimetype": "text/x-python",
   "name": "python",
   "nbconvert_exporter": "python",
   "pygments_lexer": "ipython2",
   "version": "2.7.6"
  }
 },
 "nbformat": 4,
 "nbformat_minor": 5
}
