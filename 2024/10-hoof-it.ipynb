{
 "cells": [
  {
   "metadata": {},
   "cell_type": "markdown",
   "source": "https://adventofcode.com/2024/day/10",
   "id": "c17b3a8adaab01c9"
  },
  {
   "metadata": {
    "ExecuteTime": {
     "end_time": "2024-12-10T13:26:30.677998Z",
     "start_time": "2024-12-10T13:26:30.675467Z"
    }
   },
   "cell_type": "code",
   "source": "from collections import deque",
   "id": "5e71f7c30b36701f",
   "outputs": [],
   "execution_count": 6
  },
  {
   "metadata": {
    "ExecuteTime": {
     "end_time": "2024-12-10T12:39:43.230968Z",
     "start_time": "2024-12-10T12:39:43.227070Z"
    }
   },
   "cell_type": "code",
   "source": [
    "with open(\"data/10.txt\") as fh:\n",
    "    data = fh.read()"
   ],
   "id": "d7daea8b3af2da19",
   "outputs": [],
   "execution_count": 1
  },
  {
   "metadata": {
    "ExecuteTime": {
     "end_time": "2024-12-10T12:40:29.365899Z",
     "start_time": "2024-12-10T12:40:29.363220Z"
    }
   },
   "cell_type": "code",
   "source": [
    "testdata = \"\"\"\\\n",
    "89010123\n",
    "78121874\n",
    "87430965\n",
    "96549874\n",
    "45678903\n",
    "32019012\n",
    "01329801\n",
    "10456732\n",
    "\"\"\""
   ],
   "id": "a790524ec3ab1833",
   "outputs": [],
   "execution_count": 2
  },
  {
   "metadata": {
    "ExecuteTime": {
     "end_time": "2024-12-10T13:33:22.797649Z",
     "start_time": "2024-12-10T13:33:22.794568Z"
    }
   },
   "cell_type": "code",
   "source": [
    "def load_grid(data):\n",
    "    grid = {}\n",
    "    ths = []\n",
    "    for y, line in enumerate(data.splitlines()):\n",
    "        for x, c in enumerate(line):\n",
    "            p = complex(x, y)\n",
    "            try:\n",
    "                n = int(c)\n",
    "            except ValueError:\n",
    "                continue\n",
    "            grid[p] = n\n",
    "            if n == 0:\n",
    "                ths.append(p)\n",
    "    return grid, ths                "
   ],
   "id": "4e52c36052cec80f",
   "outputs": [],
   "execution_count": 9
  },
  {
   "metadata": {
    "ExecuteTime": {
     "end_time": "2024-12-10T14:25:00.927830Z",
     "start_time": "2024-12-10T14:25:00.920978Z"
    }
   },
   "cell_type": "code",
   "source": [
    "def count9s(th, grid):\n",
    "    q = deque([th])\n",
    "    nines = set()\n",
    "    visited = set()\n",
    "    while q:\n",
    "        p = q.popleft()\n",
    "        if p in visited:\n",
    "            continue\n",
    "        visited.add(p)\n",
    "        n = grid.get(p)\n",
    "        if n == 9:\n",
    "            nines.add(p)\n",
    "            continue\n",
    "        for drxn in (1, 1j, -1, -1j):\n",
    "            nabe = p + drxn\n",
    "            if grid.get(nabe) == n+1:\n",
    "                q.append(nabe)\n",
    "    return len(nines)"
   ],
   "id": "9d63bfa77ac8bbc6",
   "outputs": [],
   "execution_count": 44
  },
  {
   "metadata": {
    "ExecuteTime": {
     "end_time": "2024-12-10T14:23:49.939847Z",
     "start_time": "2024-12-10T14:23:49.932944Z"
    }
   },
   "cell_type": "code",
   "source": [
    "grid, ths = load_grid(testdata)\n",
    "sum(count9s(th, grid) for th in ths)"
   ],
   "id": "d0e7f6cded8b8fe8",
   "outputs": [
    {
     "data": {
      "text/plain": [
       "36"
      ]
     },
     "execution_count": 42,
     "metadata": {},
     "output_type": "execute_result"
    }
   ],
   "execution_count": 42
  },
  {
   "metadata": {},
   "cell_type": "markdown",
   "source": "Part 1",
   "id": "61cbb118b7f10457"
  },
  {
   "metadata": {
    "ExecuteTime": {
     "end_time": "2024-12-10T14:23:59.411172Z",
     "start_time": "2024-12-10T14:23:59.397479Z"
    }
   },
   "cell_type": "code",
   "source": [
    "grid, ths = load_grid(data)\n",
    "sum(count9s(th, grid) for th in ths)"
   ],
   "id": "3d09da2756355495",
   "outputs": [
    {
     "data": {
      "text/plain": [
       "607"
      ]
     },
     "execution_count": 43,
     "metadata": {},
     "output_type": "execute_result"
    }
   ],
   "execution_count": 43
  },
  {
   "metadata": {},
   "cell_type": "code",
   "outputs": [],
   "execution_count": null,
   "source": "",
   "id": "c20861630f9a9910"
  },
  {
   "metadata": {
    "ExecuteTime": {
     "end_time": "2024-12-10T14:31:55.336811Z",
     "start_time": "2024-12-10T14:31:55.331976Z"
    }
   },
   "cell_type": "code",
   "source": [
    "def counttrails(th, grid):\n",
    "    q = deque([(th,)])\n",
    "    completed = 0\n",
    "    while q:\n",
    "        t = q.popleft()\n",
    "        p = t[-1]\n",
    "        n = grid.get(p)\n",
    "        if n == 9:\n",
    "            completed += 1\n",
    "            continue\n",
    "        for drxn in (1, 1j, -1, -1j):\n",
    "            nabe = p + drxn\n",
    "            if grid.get(nabe) == n+1:\n",
    "                q.append(t + (nabe,))\n",
    "    return completed"
   ],
   "id": "6402e0d1d885ccff",
   "outputs": [],
   "execution_count": 45
  },
  {
   "metadata": {
    "ExecuteTime": {
     "end_time": "2024-12-10T14:31:57.782739Z",
     "start_time": "2024-12-10T14:31:57.778168Z"
    }
   },
   "cell_type": "code",
   "source": [
    "grid, ths = load_grid(testdata)\n",
    "sum(counttrails(th, grid) for th in ths)"
   ],
   "id": "65e6873f9232803a",
   "outputs": [
    {
     "data": {
      "text/plain": [
       "81"
      ]
     },
     "execution_count": 46,
     "metadata": {},
     "output_type": "execute_result"
    }
   ],
   "execution_count": 46
  },
  {
   "metadata": {},
   "cell_type": "markdown",
   "source": "Part 2",
   "id": "f482c64de5ab180d"
  },
  {
   "metadata": {
    "ExecuteTime": {
     "end_time": "2024-12-10T14:31:59.482076Z",
     "start_time": "2024-12-10T14:31:59.470655Z"
    }
   },
   "cell_type": "code",
   "source": [
    "grid, ths = load_grid(data)\n",
    "sum(counttrails(th, grid) for th in ths)"
   ],
   "id": "730f9c4bcae14311",
   "outputs": [
    {
     "data": {
      "text/plain": [
       "1384"
      ]
     },
     "execution_count": 47,
     "metadata": {},
     "output_type": "execute_result"
    }
   ],
   "execution_count": 47
  }
 ],
 "metadata": {
  "kernelspec": {
   "display_name": "Python 3",
   "language": "python",
   "name": "python3"
  },
  "language_info": {
   "codemirror_mode": {
    "name": "ipython",
    "version": 2
   },
   "file_extension": ".py",
   "mimetype": "text/x-python",
   "name": "python",
   "nbconvert_exporter": "python",
   "pygments_lexer": "ipython2",
   "version": "2.7.6"
  }
 },
 "nbformat": 4,
 "nbformat_minor": 5
}
