{
 "cells": [
  {
   "metadata": {},
   "cell_type": "markdown",
   "source": "https://adventofcode.com/2024/day/13",
   "id": "35f099e231462525"
  },
  {
   "metadata": {
    "ExecuteTime": {
     "end_time": "2024-12-16T12:58:12.177251Z",
     "start_time": "2024-12-16T12:58:12.171445Z"
    }
   },
   "cell_type": "code",
   "source": [
    "import re\n",
    "\n",
    "import sympy.core\n",
    "from sympy import solve\n",
    "from sympy.abc import a, b"
   ],
   "id": "1c41a834868f7874",
   "outputs": [],
   "execution_count": 52
  },
  {
   "metadata": {
    "ExecuteTime": {
     "end_time": "2024-12-16T12:41:14.483387Z",
     "start_time": "2024-12-16T12:41:14.478017Z"
    }
   },
   "cell_type": "code",
   "source": [
    "with open(\"data/13.txt\") as fh:\n",
    "    data = fh.read()"
   ],
   "id": "5bdf3c1f2e832de6",
   "outputs": [],
   "execution_count": 31
  },
  {
   "metadata": {
    "ExecuteTime": {
     "end_time": "2024-12-16T12:54:09.260240Z",
     "start_time": "2024-12-16T12:54:09.257847Z"
    }
   },
   "cell_type": "code",
   "source": [
    "testdata = \"\"\"\\\n",
    "Button A: X+94, Y+34\n",
    "Button B: X+22, Y+67\n",
    "Prize: X=8400, Y=5400\n",
    "\n",
    "Button A: X+26, Y+66\n",
    "Button B: X+67, Y+21\n",
    "Prize: X=12748, Y=12176\n",
    "\n",
    "Button A: X+17, Y+86\n",
    "Button B: X+84, Y+37\n",
    "Prize: X=7870, Y=6450\n",
    "\n",
    "Button A: X+69, Y+23\n",
    "Button B: X+27, Y+71\n",
    "Prize: X=18641, Y=10279\n",
    "\"\"\""
   ],
   "id": "383d097061ccb374",
   "outputs": [],
   "execution_count": 49
  },
  {
   "metadata": {
    "ExecuteTime": {
     "end_time": "2024-12-16T12:58:39.762312Z",
     "start_time": "2024-12-16T12:58:39.758016Z"
    }
   },
   "cell_type": "code",
   "source": [
    "def parse_data(data):\n",
    "    L = []\n",
    "    blocks = data.split(\"\\n\\n\")\n",
    "    for block in blocks:\n",
    "        ns = [int(x) for x in re.findall(r\"\\d+\", block)]\n",
    "        L.append(((ns[0], ns[2], ns[4]), (ns[1], ns[3], ns[5])))\n",
    "    return L"
   ],
   "id": "2cd2b6f7010d915b",
   "outputs": [],
   "execution_count": 54
  },
  {
   "metadata": {
    "ExecuteTime": {
     "end_time": "2024-12-16T12:58:43.595371Z",
     "start_time": "2024-12-16T12:58:43.588347Z"
    }
   },
   "cell_type": "code",
   "source": "parse_data(testdata)",
   "id": "ca2e71cb4d0225e9",
   "outputs": [
    {
     "data": {
      "text/plain": [
       "[((94, 22, 8400), (34, 67, 5400)),\n",
       " ((26, 67, 12748), (66, 21, 12176)),\n",
       " ((17, 84, 7870), (86, 37, 6450)),\n",
       " ((69, 27, 18641), (23, 71, 10279))]"
      ]
     },
     "execution_count": 55,
     "metadata": {},
     "output_type": "execute_result"
    }
   ],
   "execution_count": 55
  },
  {
   "metadata": {
    "ExecuteTime": {
     "end_time": "2024-12-16T12:46:58.561998Z",
     "start_time": "2024-12-16T12:46:58.557748Z"
    }
   },
   "cell_type": "code",
   "source": [
    "def solve_ab(xs, ys):\n",
    "    x1, x2, xt = xs\n",
    "    y1, y2, yt = ys\n",
    "    return solve([\n",
    "        a * x1 + b * x2 - xt,\n",
    "        a * y1 + b * y2 - yt\n",
    "    ])\n",
    "\n",
    "def count_tokens(xs, ys):\n",
    "    soln = solve_ab(xs, ys)\n",
    "    aa, bb = soln[a], soln[b]\n",
    "    if type(aa) is sympy.core.Integer and type(bb) is sympy.core.Integer:\n",
    "        return 3 * int(aa) + int(bb)\n",
    "    else:\n",
    "        return 0\n"
   ],
   "id": "cef889c6733753ee",
   "outputs": [],
   "execution_count": 46
  },
  {
   "metadata": {
    "ExecuteTime": {
     "end_time": "2024-12-16T12:59:29.878273Z",
     "start_time": "2024-12-16T12:59:29.862029Z"
    }
   },
   "cell_type": "code",
   "source": "sum(count_tokens(xs, ys) for (xs, ys) in parse_data(testdata))",
   "id": "8a868001551e6b6b",
   "outputs": [
    {
     "data": {
      "text/plain": [
       "480"
      ]
     },
     "execution_count": 56,
     "metadata": {},
     "output_type": "execute_result"
    }
   ],
   "execution_count": 56
  },
  {
   "metadata": {},
   "cell_type": "markdown",
   "source": "Part1",
   "id": "5b64cd8dec8b100e"
  },
  {
   "metadata": {
    "ExecuteTime": {
     "end_time": "2024-12-16T12:59:47.714245Z",
     "start_time": "2024-12-16T12:59:46.451054Z"
    }
   },
   "cell_type": "code",
   "source": "sum(count_tokens(xs, ys) for (xs, ys) in parse_data(data))",
   "id": "e650ceb98794c7e2",
   "outputs": [
    {
     "data": {
      "text/plain": [
       "37686"
      ]
     },
     "execution_count": 57,
     "metadata": {},
     "output_type": "execute_result"
    }
   ],
   "execution_count": 57
  },
  {
   "metadata": {},
   "cell_type": "code",
   "outputs": [],
   "execution_count": null,
   "source": "",
   "id": "bf35cb34ad33b7a4"
  },
  {
   "metadata": {
    "ExecuteTime": {
     "end_time": "2024-12-16T13:06:37.708899Z",
     "start_time": "2024-12-16T13:06:37.704771Z"
    }
   },
   "cell_type": "code",
   "source": [
    "def scale_up(xs, ys):\n",
    "    delta = 10_000_000_000_000\n",
    "    return (\n",
    "        (xs[0], xs[1], xs[2] + delta),\n",
    "        (ys[0], ys[1], ys[2] + delta),\n",
    "    )\n",
    "    "
   ],
   "id": "6bcd06769f1be226",
   "outputs": [],
   "execution_count": 58
  },
  {
   "metadata": {
    "ExecuteTime": {
     "end_time": "2024-12-16T13:07:45.552562Z",
     "start_time": "2024-12-16T13:07:45.536936Z"
    }
   },
   "cell_type": "code",
   "source": "sum(count_tokens(*scale_up(xs, ys)) for (xs, ys) in parse_data(testdata))",
   "id": "8fba46a3e7a090e0",
   "outputs": [
    {
     "data": {
      "text/plain": [
       "875318608908"
      ]
     },
     "execution_count": 59,
     "metadata": {},
     "output_type": "execute_result"
    }
   ],
   "execution_count": 59
  },
  {
   "metadata": {},
   "cell_type": "markdown",
   "source": "Part 2",
   "id": "d2fee26c20c0faf7"
  },
  {
   "metadata": {
    "ExecuteTime": {
     "end_time": "2024-12-16T13:08:28.668909Z",
     "start_time": "2024-12-16T13:08:27.998310Z"
    }
   },
   "cell_type": "code",
   "source": "sum(count_tokens(*scale_up(xs, ys)) for (xs, ys) in parse_data(data))",
   "id": "1407647950466292",
   "outputs": [
    {
     "data": {
      "text/plain": [
       "77204516023437"
      ]
     },
     "execution_count": 60,
     "metadata": {},
     "output_type": "execute_result"
    }
   ],
   "execution_count": 60
  }
 ],
 "metadata": {
  "kernelspec": {
   "display_name": "Python 3",
   "language": "python",
   "name": "python3"
  },
  "language_info": {
   "codemirror_mode": {
    "name": "ipython",
    "version": 2
   },
   "file_extension": ".py",
   "mimetype": "text/x-python",
   "name": "python",
   "nbconvert_exporter": "python",
   "pygments_lexer": "ipython2",
   "version": "2.7.6"
  }
 },
 "nbformat": 4,
 "nbformat_minor": 5
}
