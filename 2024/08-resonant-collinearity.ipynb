{
 "cells": [
  {
   "metadata": {},
   "cell_type": "markdown",
   "source": "https://adventofcode.com/2024/day/8",
   "id": "62de943dda7b2147"
  },
  {
   "metadata": {
    "ExecuteTime": {
     "end_time": "2024-12-08T12:42:50.379374Z",
     "start_time": "2024-12-08T12:42:50.376787Z"
    }
   },
   "cell_type": "code",
   "source": [
    "with open(\"data/08.txt\") as fh:\n",
    "    data = fh.read()"
   ],
   "id": "acfe416f498ccf23",
   "outputs": [],
   "execution_count": 1
  },
  {
   "metadata": {
    "ExecuteTime": {
     "end_time": "2024-12-08T14:02:31.456203Z",
     "start_time": "2024-12-08T14:02:31.453151Z"
    }
   },
   "cell_type": "code",
   "source": [
    "from collections import defaultdict\n",
    "from itertools import combinations, count"
   ],
   "id": "f77701319c9695f9",
   "outputs": [],
   "execution_count": 27
  },
  {
   "metadata": {
    "ExecuteTime": {
     "end_time": "2024-12-08T12:46:00.083781Z",
     "start_time": "2024-12-08T12:46:00.076843Z"
    }
   },
   "cell_type": "code",
   "source": [
    "def load_data(data):\n",
    "    D = {}\n",
    "    for y, line in enumerate(data.splitlines()):\n",
    "        for x, c in enumerate(line):\n",
    "            D[complex(x, y)] = c\n",
    "    return D"
   ],
   "id": "906a3350ff75f5d1",
   "outputs": [],
   "execution_count": 2
  },
  {
   "metadata": {
    "ExecuteTime": {
     "end_time": "2024-12-08T12:46:48.725651Z",
     "start_time": "2024-12-08T12:46:48.722523Z"
    }
   },
   "cell_type": "code",
   "source": [
    "testdata = \"\"\"\\\n",
    "............\n",
    "........0...\n",
    ".....0......\n",
    ".......0....\n",
    "....0.......\n",
    "......A.....\n",
    "............\n",
    "............\n",
    "........A...\n",
    ".........A..\n",
    "............\n",
    "............\n",
    "\"\"\""
   ],
   "id": "4b7cdf38f9b70297",
   "outputs": [],
   "execution_count": 3
  },
  {
   "metadata": {
    "ExecuteTime": {
     "end_time": "2024-12-08T13:45:18.340443Z",
     "start_time": "2024-12-08T13:45:18.337504Z"
    }
   },
   "cell_type": "code",
   "source": [
    "def count_antinode_locations(grid):\n",
    "    freq_locations = defaultdict(list)\n",
    "    for p, freq in grid.items():\n",
    "        if freq != \".\":\n",
    "            freq_locations[freq].append(p)\n",
    "    antinodes = set()\n",
    "    for freq, locations in freq_locations.items():\n",
    "        for a, b in combinations(locations, 2):\n",
    "            delta = a - b\n",
    "            for anloc in (a + delta, b - delta):\n",
    "                if anloc in grid:\n",
    "                    antinodes.add(anloc)\n",
    "    return len(antinodes)\n"
   ],
   "id": "347336eda20812f9",
   "outputs": [],
   "execution_count": 23
  },
  {
   "metadata": {
    "ExecuteTime": {
     "end_time": "2024-12-08T13:02:32.143662Z",
     "start_time": "2024-12-08T13:02:32.135338Z"
    }
   },
   "cell_type": "code",
   "source": "count_antinode_locations(load_data(testdata))",
   "id": "a205e0069cf00b8a",
   "outputs": [
    {
     "data": {
      "text/plain": [
       "14"
      ]
     },
     "execution_count": 11,
     "metadata": {},
     "output_type": "execute_result"
    }
   ],
   "execution_count": 11
  },
  {
   "metadata": {},
   "cell_type": "markdown",
   "source": "Part 1",
   "id": "99151a264798143"
  },
  {
   "metadata": {
    "ExecuteTime": {
     "end_time": "2024-12-08T13:05:04.978424Z",
     "start_time": "2024-12-08T13:05:04.973072Z"
    }
   },
   "cell_type": "code",
   "source": "count_antinode_locations(load_data(data))",
   "id": "8335961f8cc4068f",
   "outputs": [
    {
     "data": {
      "text/plain": [
       "371"
      ]
     },
     "execution_count": 13,
     "metadata": {},
     "output_type": "execute_result"
    }
   ],
   "execution_count": 13
  },
  {
   "metadata": {
    "ExecuteTime": {
     "end_time": "2024-12-08T14:03:24.050766Z",
     "start_time": "2024-12-08T14:03:24.043964Z"
    }
   },
   "cell_type": "code",
   "source": [
    "def count_locations_with_harmonics(grid):\n",
    "    freq_locations = defaultdict(list)\n",
    "    for p, freq in grid.items():\n",
    "        if freq != \".\":\n",
    "            freq_locations[freq].append(p)\n",
    "    antinodes = set()\n",
    "    for locations in freq_locations.values():\n",
    "        antinodes.update(iter_antinodes_with_harmonics(locations, grid))\n",
    "    return len(antinodes)\n",
    "\n",
    "\n",
    "def iter_antinodes_with_harmonics(locations, grid):\n",
    "    for a, b in combinations(locations, 2):\n",
    "        delta = a - b\n",
    "        for n in count():\n",
    "            anloc = a + delta * n\n",
    "            if anloc in grid:\n",
    "                yield anloc\n",
    "            else:\n",
    "                break\n",
    "        for n in count():\n",
    "            anloc = b - delta * n\n",
    "            if anloc in grid:\n",
    "                yield anloc\n",
    "            else:\n",
    "                break\n",
    "        "
   ],
   "id": "cbb2fa9f4e5b222b",
   "outputs": [],
   "execution_count": 28
  },
  {
   "metadata": {
    "ExecuteTime": {
     "end_time": "2024-12-08T14:03:26.578327Z",
     "start_time": "2024-12-08T14:03:26.571872Z"
    }
   },
   "cell_type": "code",
   "source": "count_locations_with_harmonics(load_data(testdata))",
   "id": "cf3c9f4fb0ec9bb7",
   "outputs": [
    {
     "data": {
      "text/plain": [
       "34"
      ]
     },
     "execution_count": 29,
     "metadata": {},
     "output_type": "execute_result"
    }
   ],
   "execution_count": 29
  },
  {
   "metadata": {},
   "cell_type": "markdown",
   "source": "Part 2",
   "id": "8d61d7291721bb01"
  },
  {
   "metadata": {
    "ExecuteTime": {
     "end_time": "2024-12-08T14:03:28.885985Z",
     "start_time": "2024-12-08T14:03:28.881388Z"
    }
   },
   "cell_type": "code",
   "source": "count_locations_with_harmonics(load_data(data))",
   "id": "fa969c5d95e9fa1d",
   "outputs": [
    {
     "data": {
      "text/plain": [
       "1229"
      ]
     },
     "execution_count": 30,
     "metadata": {},
     "output_type": "execute_result"
    }
   ],
   "execution_count": 30
  },
  {
   "metadata": {},
   "cell_type": "code",
   "outputs": [],
   "execution_count": null,
   "source": "",
   "id": "7c78f900cb0fe042"
  }
 ],
 "metadata": {
  "kernelspec": {
   "display_name": "Python 3",
   "language": "python",
   "name": "python3"
  },
  "language_info": {
   "codemirror_mode": {
    "name": "ipython",
    "version": 2
   },
   "file_extension": ".py",
   "mimetype": "text/x-python",
   "name": "python",
   "nbconvert_exporter": "python",
   "pygments_lexer": "ipython2",
   "version": "2.7.6"
  }
 },
 "nbformat": 4,
 "nbformat_minor": 5
}
