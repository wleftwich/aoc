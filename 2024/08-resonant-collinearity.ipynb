{
 "cells": [
  {
   "metadata": {},
   "cell_type": "markdown",
   "source": "https://adventofcode.com/2024/day/8",
   "id": "62de943dda7b2147"
  },
  {
   "metadata": {
    "ExecuteTime": {
     "end_time": "2024-12-08T12:42:50.379374Z",
     "start_time": "2024-12-08T12:42:50.376787Z"
    }
   },
   "cell_type": "code",
   "source": [
    "with open(\"data/08.txt\") as fh:\n",
    "    data = fh.read()"
   ],
   "id": "acfe416f498ccf23",
   "outputs": [],
   "execution_count": 1
  },
  {
   "metadata": {
    "ExecuteTime": {
     "end_time": "2024-12-08T12:49:34.904695Z",
     "start_time": "2024-12-08T12:49:34.901488Z"
    }
   },
   "cell_type": "code",
   "source": [
    "from collections import defaultdict\n",
    "from itertools import combinations"
   ],
   "id": "f77701319c9695f9",
   "outputs": [],
   "execution_count": 5
  },
  {
   "metadata": {
    "ExecuteTime": {
     "end_time": "2024-12-08T12:46:00.083781Z",
     "start_time": "2024-12-08T12:46:00.076843Z"
    }
   },
   "cell_type": "code",
   "source": [
    "def load_data(data):\n",
    "    D = {}\n",
    "    for y, line in enumerate(data.splitlines()):\n",
    "        for x, c in enumerate(line):\n",
    "            D[complex(x, y)] = c\n",
    "    return D"
   ],
   "id": "906a3350ff75f5d1",
   "outputs": [],
   "execution_count": 2
  },
  {
   "metadata": {
    "ExecuteTime": {
     "end_time": "2024-12-08T12:46:48.725651Z",
     "start_time": "2024-12-08T12:46:48.722523Z"
    }
   },
   "cell_type": "code",
   "source": [
    "testdata = \"\"\"\\\n",
    "............\n",
    "........0...\n",
    ".....0......\n",
    ".......0....\n",
    "....0.......\n",
    "......A.....\n",
    "............\n",
    "............\n",
    "........A...\n",
    ".........A..\n",
    "............\n",
    "............\n",
    "\"\"\""
   ],
   "id": "4b7cdf38f9b70297",
   "outputs": [],
   "execution_count": 3
  },
  {
   "metadata": {
    "ExecuteTime": {
     "end_time": "2024-12-08T12:46:59.349212Z",
     "start_time": "2024-12-08T12:46:59.338204Z"
    }
   },
   "cell_type": "code",
   "source": "load_data(testdata)",
   "id": "17d54ac02914a48c",
   "outputs": [
    {
     "data": {
      "text/plain": [
       "{0j: '.',\n",
       " (1+0j): '.',\n",
       " (2+0j): '.',\n",
       " (3+0j): '.',\n",
       " (4+0j): '.',\n",
       " (5+0j): '.',\n",
       " (6+0j): '.',\n",
       " (7+0j): '.',\n",
       " (8+0j): '.',\n",
       " (9+0j): '.',\n",
       " (10+0j): '.',\n",
       " (11+0j): '.',\n",
       " 1j: '.',\n",
       " (1+1j): '.',\n",
       " (2+1j): '.',\n",
       " (3+1j): '.',\n",
       " (4+1j): '.',\n",
       " (5+1j): '.',\n",
       " (6+1j): '.',\n",
       " (7+1j): '.',\n",
       " (8+1j): '0',\n",
       " (9+1j): '.',\n",
       " (10+1j): '.',\n",
       " (11+1j): '.',\n",
       " 2j: '.',\n",
       " (1+2j): '.',\n",
       " (2+2j): '.',\n",
       " (3+2j): '.',\n",
       " (4+2j): '.',\n",
       " (5+2j): '0',\n",
       " (6+2j): '.',\n",
       " (7+2j): '.',\n",
       " (8+2j): '.',\n",
       " (9+2j): '.',\n",
       " (10+2j): '.',\n",
       " (11+2j): '.',\n",
       " 3j: '.',\n",
       " (1+3j): '.',\n",
       " (2+3j): '.',\n",
       " (3+3j): '.',\n",
       " (4+3j): '.',\n",
       " (5+3j): '.',\n",
       " (6+3j): '.',\n",
       " (7+3j): '0',\n",
       " (8+3j): '.',\n",
       " (9+3j): '.',\n",
       " (10+3j): '.',\n",
       " (11+3j): '.',\n",
       " 4j: '.',\n",
       " (1+4j): '.',\n",
       " (2+4j): '.',\n",
       " (3+4j): '.',\n",
       " (4+4j): '0',\n",
       " (5+4j): '.',\n",
       " (6+4j): '.',\n",
       " (7+4j): '.',\n",
       " (8+4j): '.',\n",
       " (9+4j): '.',\n",
       " (10+4j): '.',\n",
       " (11+4j): '.',\n",
       " 5j: '.',\n",
       " (1+5j): '.',\n",
       " (2+5j): '.',\n",
       " (3+5j): '.',\n",
       " (4+5j): '.',\n",
       " (5+5j): '.',\n",
       " (6+5j): 'A',\n",
       " (7+5j): '.',\n",
       " (8+5j): '.',\n",
       " (9+5j): '.',\n",
       " (10+5j): '.',\n",
       " (11+5j): '.',\n",
       " 6j: '.',\n",
       " (1+6j): '.',\n",
       " (2+6j): '.',\n",
       " (3+6j): '.',\n",
       " (4+6j): '.',\n",
       " (5+6j): '.',\n",
       " (6+6j): '.',\n",
       " (7+6j): '.',\n",
       " (8+6j): '.',\n",
       " (9+6j): '.',\n",
       " (10+6j): '.',\n",
       " (11+6j): '.',\n",
       " 7j: '.',\n",
       " (1+7j): '.',\n",
       " (2+7j): '.',\n",
       " (3+7j): '.',\n",
       " (4+7j): '.',\n",
       " (5+7j): '.',\n",
       " (6+7j): '.',\n",
       " (7+7j): '.',\n",
       " (8+7j): '.',\n",
       " (9+7j): '.',\n",
       " (10+7j): '.',\n",
       " (11+7j): '.',\n",
       " 8j: '.',\n",
       " (1+8j): '.',\n",
       " (2+8j): '.',\n",
       " (3+8j): '.',\n",
       " (4+8j): '.',\n",
       " (5+8j): '.',\n",
       " (6+8j): '.',\n",
       " (7+8j): '.',\n",
       " (8+8j): 'A',\n",
       " (9+8j): '.',\n",
       " (10+8j): '.',\n",
       " (11+8j): '.',\n",
       " 9j: '.',\n",
       " (1+9j): '.',\n",
       " (2+9j): '.',\n",
       " (3+9j): '.',\n",
       " (4+9j): '.',\n",
       " (5+9j): '.',\n",
       " (6+9j): '.',\n",
       " (7+9j): '.',\n",
       " (8+9j): '.',\n",
       " (9+9j): 'A',\n",
       " (10+9j): '.',\n",
       " (11+9j): '.',\n",
       " 10j: '.',\n",
       " (1+10j): '.',\n",
       " (2+10j): '.',\n",
       " (3+10j): '.',\n",
       " (4+10j): '.',\n",
       " (5+10j): '.',\n",
       " (6+10j): '.',\n",
       " (7+10j): '.',\n",
       " (8+10j): '.',\n",
       " (9+10j): '.',\n",
       " (10+10j): '.',\n",
       " (11+10j): '.',\n",
       " 11j: '.',\n",
       " (1+11j): '.',\n",
       " (2+11j): '.',\n",
       " (3+11j): '.',\n",
       " (4+11j): '.',\n",
       " (5+11j): '.',\n",
       " (6+11j): '.',\n",
       " (7+11j): '.',\n",
       " (8+11j): '.',\n",
       " (9+11j): '.',\n",
       " (10+11j): '.',\n",
       " (11+11j): '.'}"
      ]
     },
     "execution_count": 4,
     "metadata": {},
     "output_type": "execute_result"
    }
   ],
   "execution_count": 4
  },
  {
   "metadata": {
    "ExecuteTime": {
     "end_time": "2024-12-08T13:45:18.340443Z",
     "start_time": "2024-12-08T13:45:18.337504Z"
    }
   },
   "cell_type": "code",
   "source": [
    "def count_antinode_locations(grid):\n",
    "    freq_locations = defaultdict(list)\n",
    "    for p, freq in grid.items():\n",
    "        if freq != \".\":\n",
    "            freq_locations[freq].append(p)\n",
    "    antinodes = set()\n",
    "    for freq, locations in freq_locations.items():\n",
    "        for a, b in combinations(locations, 2):\n",
    "            delta = a - b\n",
    "            for anloc in (a + delta, b - delta):\n",
    "                if anloc in grid:\n",
    "                    antinodes.add(anloc)\n",
    "    return len(antinodes)\n"
   ],
   "id": "347336eda20812f9",
   "outputs": [],
   "execution_count": 23
  },
  {
   "metadata": {
    "ExecuteTime": {
     "end_time": "2024-12-08T13:02:32.143662Z",
     "start_time": "2024-12-08T13:02:32.135338Z"
    }
   },
   "cell_type": "code",
   "source": "count_antinode_locations(load_data(testdata))",
   "id": "a205e0069cf00b8a",
   "outputs": [
    {
     "data": {
      "text/plain": [
       "14"
      ]
     },
     "execution_count": 11,
     "metadata": {},
     "output_type": "execute_result"
    }
   ],
   "execution_count": 11
  },
  {
   "metadata": {},
   "cell_type": "markdown",
   "source": "Part 1",
   "id": "99151a264798143"
  },
  {
   "metadata": {
    "ExecuteTime": {
     "end_time": "2024-12-08T13:05:04.978424Z",
     "start_time": "2024-12-08T13:05:04.973072Z"
    }
   },
   "cell_type": "code",
   "source": "count_antinode_locations(load_data(data))",
   "id": "8335961f8cc4068f",
   "outputs": [
    {
     "data": {
      "text/plain": [
       "371"
      ]
     },
     "execution_count": 13,
     "metadata": {},
     "output_type": "execute_result"
    }
   ],
   "execution_count": 13
  },
  {
   "metadata": {
    "ExecuteTime": {
     "end_time": "2024-12-08T13:45:22.206662Z",
     "start_time": "2024-12-08T13:45:22.200027Z"
    }
   },
   "cell_type": "code",
   "source": [
    "def count_locations_with_harmonics(grid):\n",
    "    freq_locations = defaultdict(list)\n",
    "    for p, freq in grid.items():\n",
    "        if freq != \".\":\n",
    "            freq_locations[freq].append(p)\n",
    "    antinodes = set()\n",
    "    for locations in freq_locations.values():\n",
    "        antinodes.update(iter_antinodes_with_harmonics(locations, grid))\n",
    "    return len(antinodes)\n",
    "\n",
    "\n",
    "def iter_antinodes_with_harmonics(locations, grid):\n",
    "    for a, b in combinations(locations, 2):\n",
    "        delta = a - b\n",
    "        n = 0\n",
    "        while True:\n",
    "            anloc = a + delta * n\n",
    "            if anloc in grid:\n",
    "                yield anloc\n",
    "            else:\n",
    "                break\n",
    "            n += 1\n",
    "        n = 0\n",
    "        while True:\n",
    "            anloc = b - delta * n\n",
    "            if anloc in grid:\n",
    "                yield anloc\n",
    "            else:\n",
    "                break\n",
    "            n += 1\n",
    "        "
   ],
   "id": "cbb2fa9f4e5b222b",
   "outputs": [],
   "execution_count": 24
  },
  {
   "metadata": {
    "ExecuteTime": {
     "end_time": "2024-12-08T13:45:24.062880Z",
     "start_time": "2024-12-08T13:45:24.058668Z"
    }
   },
   "cell_type": "code",
   "source": "count_locations_with_harmonics(load_data(testdata))",
   "id": "cf3c9f4fb0ec9bb7",
   "outputs": [
    {
     "data": {
      "text/plain": [
       "34"
      ]
     },
     "execution_count": 25,
     "metadata": {},
     "output_type": "execute_result"
    }
   ],
   "execution_count": 25
  },
  {
   "metadata": {},
   "cell_type": "markdown",
   "source": "Part 2",
   "id": "8d61d7291721bb01"
  },
  {
   "metadata": {
    "ExecuteTime": {
     "end_time": "2024-12-08T13:45:25.974996Z",
     "start_time": "2024-12-08T13:45:25.967205Z"
    }
   },
   "cell_type": "code",
   "source": "count_locations_with_harmonics(load_data(data))",
   "id": "fa969c5d95e9fa1d",
   "outputs": [
    {
     "data": {
      "text/plain": [
       "1229"
      ]
     },
     "execution_count": 26,
     "metadata": {},
     "output_type": "execute_result"
    }
   ],
   "execution_count": 26
  },
  {
   "metadata": {},
   "cell_type": "code",
   "outputs": [],
   "execution_count": null,
   "source": "",
   "id": "7c78f900cb0fe042"
  }
 ],
 "metadata": {
  "kernelspec": {
   "display_name": "Python 3",
   "language": "python",
   "name": "python3"
  },
  "language_info": {
   "codemirror_mode": {
    "name": "ipython",
    "version": 2
   },
   "file_extension": ".py",
   "mimetype": "text/x-python",
   "name": "python",
   "nbconvert_exporter": "python",
   "pygments_lexer": "ipython2",
   "version": "2.7.6"
  }
 },
 "nbformat": 4,
 "nbformat_minor": 5
}
