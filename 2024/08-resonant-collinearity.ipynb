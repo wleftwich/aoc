{
 "cells": [
  {
   "metadata": {},
   "cell_type": "markdown",
   "source": "https://adventofcode.com/2024/day/8",
   "id": "62de943dda7b2147"
  },
  {
   "metadata": {
    "ExecuteTime": {
     "end_time": "2024-12-08T12:42:50.379374Z",
     "start_time": "2024-12-08T12:42:50.376787Z"
    }
   },
   "cell_type": "code",
   "source": [
    "with open(\"data/08.txt\") as fh:\n",
    "    data = fh.read()"
   ],
   "id": "acfe416f498ccf23",
   "outputs": [],
   "execution_count": 1
  },
  {
   "metadata": {
    "ExecuteTime": {
     "end_time": "2024-12-08T14:02:31.456203Z",
     "start_time": "2024-12-08T14:02:31.453151Z"
    }
   },
   "cell_type": "code",
   "source": [
    "from collections import defaultdict\n",
    "from itertools import combinations, count"
   ],
   "id": "f77701319c9695f9",
   "outputs": [],
   "execution_count": 27
  },
  {
   "metadata": {
    "ExecuteTime": {
     "end_time": "2024-12-08T12:46:00.083781Z",
     "start_time": "2024-12-08T12:46:00.076843Z"
    }
   },
   "cell_type": "code",
   "source": [
    "def load_data(data):\n",
    "    D = {}\n",
    "    for y, line in enumerate(data.splitlines()):\n",
    "        for x, c in enumerate(line):\n",
    "            D[complex(x, y)] = c\n",
    "    return D"
   ],
   "id": "906a3350ff75f5d1",
   "outputs": [],
   "execution_count": 2
  },
  {
   "metadata": {
    "ExecuteTime": {
     "end_time": "2024-12-08T12:46:48.725651Z",
     "start_time": "2024-12-08T12:46:48.722523Z"
    }
   },
   "cell_type": "code",
   "source": [
    "testdata = \"\"\"\\\n",
    "............\n",
    "........0...\n",
    ".....0......\n",
    ".......0....\n",
    "....0.......\n",
    "......A.....\n",
    "............\n",
    "............\n",
    "........A...\n",
    ".........A..\n",
    "............\n",
    "............\n",
    "\"\"\""
   ],
   "id": "4b7cdf38f9b70297",
   "outputs": [],
   "execution_count": 3
  },
  {
   "metadata": {
    "ExecuteTime": {
     "end_time": "2024-12-08T14:15:24.425136Z",
     "start_time": "2024-12-08T14:15:24.416629Z"
    }
   },
   "cell_type": "code",
   "source": [
    "def count_antinodes(grid):\n",
    "    freq_locations = defaultdict(list)\n",
    "    for p, freq in grid.items():\n",
    "        if freq != \".\":\n",
    "            freq_locations[freq].append(p)\n",
    "    antinodes = set()\n",
    "    for locations in freq_locations.values():\n",
    "        antinodes.update(iter_antinode_groups(locations, grid))\n",
    "    return len(antinodes)\n",
    "\n",
    "\n",
    "def iter_antinode_groups(locations, grid):\n",
    "    for a, b in combinations(locations, 2):\n",
    "        delta = a - b\n",
    "        for anloc in (a + delta, b - delta):\n",
    "            if anloc in grid:\n",
    "                yield anloc\n"
   ],
   "id": "347336eda20812f9",
   "outputs": [],
   "execution_count": 40
  },
  {
   "metadata": {
    "ExecuteTime": {
     "end_time": "2024-12-08T14:15:26.293609Z",
     "start_time": "2024-12-08T14:15:26.288337Z"
    }
   },
   "cell_type": "code",
   "source": "count_antinodes(load_data(testdata))",
   "id": "a205e0069cf00b8a",
   "outputs": [
    {
     "data": {
      "text/plain": [
       "14"
      ]
     },
     "execution_count": 41,
     "metadata": {},
     "output_type": "execute_result"
    }
   ],
   "execution_count": 41
  },
  {
   "metadata": {},
   "cell_type": "markdown",
   "source": "Part 1",
   "id": "99151a264798143"
  },
  {
   "metadata": {
    "ExecuteTime": {
     "end_time": "2024-12-08T14:15:28.439672Z",
     "start_time": "2024-12-08T14:15:28.432418Z"
    }
   },
   "cell_type": "code",
   "source": "count_antinodes(load_data(data))",
   "id": "8335961f8cc4068f",
   "outputs": [
    {
     "data": {
      "text/plain": [
       "371"
      ]
     },
     "execution_count": 42,
     "metadata": {},
     "output_type": "execute_result"
    }
   ],
   "execution_count": 42
  },
  {
   "metadata": {
    "ExecuteTime": {
     "end_time": "2024-12-08T14:16:05.778540Z",
     "start_time": "2024-12-08T14:16:05.771971Z"
    }
   },
   "cell_type": "code",
   "source": [
    "def count_antinodes_with_harmonics(grid):\n",
    "    freq_locations = defaultdict(list)\n",
    "    for p, freq in grid.items():\n",
    "        if freq != \".\":\n",
    "            freq_locations[freq].append(p)\n",
    "    antinodes = set()\n",
    "    for locations in freq_locations.values():\n",
    "        antinodes.update(iter_antinode_groups_with_harmonics(locations, grid))\n",
    "    return len(antinodes)\n",
    "\n",
    "\n",
    "def iter_antinode_groups_with_harmonics(locations, grid):\n",
    "    for a, b in combinations(locations, 2):\n",
    "        delta = a - b\n",
    "        for n in count():\n",
    "            anloc = a + delta * n\n",
    "            if anloc in grid:\n",
    "                yield anloc\n",
    "            else:\n",
    "                break\n",
    "        for n in count():\n",
    "            anloc = b - delta * n\n",
    "            if anloc in grid:\n",
    "                yield anloc\n",
    "            else:\n",
    "                break\n",
    "        "
   ],
   "id": "cbb2fa9f4e5b222b",
   "outputs": [],
   "execution_count": 43
  },
  {
   "metadata": {
    "ExecuteTime": {
     "end_time": "2024-12-08T14:16:09.044019Z",
     "start_time": "2024-12-08T14:16:09.038352Z"
    }
   },
   "cell_type": "code",
   "source": "count_antinodes_with_harmonics(load_data(testdata))",
   "id": "cf3c9f4fb0ec9bb7",
   "outputs": [
    {
     "data": {
      "text/plain": [
       "34"
      ]
     },
     "execution_count": 44,
     "metadata": {},
     "output_type": "execute_result"
    }
   ],
   "execution_count": 44
  },
  {
   "metadata": {},
   "cell_type": "markdown",
   "source": "Part 2",
   "id": "8d61d7291721bb01"
  },
  {
   "metadata": {
    "ExecuteTime": {
     "end_time": "2024-12-08T14:16:11.275429Z",
     "start_time": "2024-12-08T14:16:11.263953Z"
    }
   },
   "cell_type": "code",
   "source": "count_antinodes_with_harmonics(load_data(data))",
   "id": "fa969c5d95e9fa1d",
   "outputs": [
    {
     "data": {
      "text/plain": [
       "1229"
      ]
     },
     "execution_count": 45,
     "metadata": {},
     "output_type": "execute_result"
    }
   ],
   "execution_count": 45
  },
  {
   "metadata": {},
   "cell_type": "code",
   "outputs": [],
   "execution_count": null,
   "source": "",
   "id": "7c78f900cb0fe042"
  }
 ],
 "metadata": {
  "kernelspec": {
   "display_name": "Python 3",
   "language": "python",
   "name": "python3"
  },
  "language_info": {
   "codemirror_mode": {
    "name": "ipython",
    "version": 2
   },
   "file_extension": ".py",
   "mimetype": "text/x-python",
   "name": "python",
   "nbconvert_exporter": "python",
   "pygments_lexer": "ipython2",
   "version": "2.7.6"
  }
 },
 "nbformat": 4,
 "nbformat_minor": 5
}
