{
 "cells": [
  {
   "metadata": {},
   "cell_type": "markdown",
   "source": "https://adventofcode.com/2024/day/8",
   "id": "62de943dda7b2147"
  },
  {
   "metadata": {
    "ExecuteTime": {
     "end_time": "2024-12-09T00:10:04.488262Z",
     "start_time": "2024-12-09T00:10:04.484837Z"
    }
   },
   "cell_type": "code",
   "source": [
    "with open(\"data/08.txt\") as fh:\n",
    "    data = fh.read()"
   ],
   "id": "acfe416f498ccf23",
   "outputs": [],
   "execution_count": 11
  },
  {
   "metadata": {
    "ExecuteTime": {
     "end_time": "2024-12-09T00:10:04.507155Z",
     "start_time": "2024-12-09T00:10:04.493062Z"
    }
   },
   "cell_type": "code",
   "source": [
    "from collections import defaultdict\n",
    "from itertools import combinations"
   ],
   "id": "f77701319c9695f9",
   "outputs": [],
   "execution_count": 12
  },
  {
   "metadata": {
    "ExecuteTime": {
     "end_time": "2024-12-09T00:10:04.541012Z",
     "start_time": "2024-12-09T00:10:04.538658Z"
    }
   },
   "cell_type": "code",
   "source": [
    "def load_grid(data):\n",
    "    D = {}\n",
    "    for y, line in enumerate(data.splitlines()):\n",
    "        for x, c in enumerate(line):\n",
    "            D[complex(x, y)] = c\n",
    "    return D"
   ],
   "id": "906a3350ff75f5d1",
   "outputs": [],
   "execution_count": 13
  },
  {
   "metadata": {
    "ExecuteTime": {
     "end_time": "2024-12-09T00:10:04.606640Z",
     "start_time": "2024-12-09T00:10:04.604223Z"
    }
   },
   "cell_type": "code",
   "source": [
    "testdata = \"\"\"\\\n",
    "............\n",
    "........0...\n",
    ".....0......\n",
    ".......0....\n",
    "....0.......\n",
    "......A.....\n",
    "............\n",
    "............\n",
    "........A...\n",
    ".........A..\n",
    "............\n",
    "............\n",
    "\"\"\""
   ],
   "id": "4b7cdf38f9b70297",
   "outputs": [],
   "execution_count": 14
  },
  {
   "metadata": {
    "ExecuteTime": {
     "end_time": "2024-12-09T00:10:04.654254Z",
     "start_time": "2024-12-09T00:10:04.650782Z"
    }
   },
   "cell_type": "code",
   "source": [
    "def count_antinode_locations(grid):\n",
    "    freq_antennas = defaultdict(list)\n",
    "    for p, freq in grid.items():\n",
    "        if freq != \".\":\n",
    "            freq_antennas[freq].append(p)\n",
    "    antinodes = set()\n",
    "    for antennas in freq_antennas.values():\n",
    "        antinodes.update(iter_antinodes(antennas, grid))\n",
    "    return len(antinodes)\n",
    "\n",
    "\n",
    "def iter_antinodes(antennas, grid):\n",
    "    for a, b in combinations(antennas, 2):\n",
    "        delta = a - b\n",
    "        for loc in (a + delta, b - delta):\n",
    "            if loc in grid:\n",
    "                yield loc\n"
   ],
   "id": "347336eda20812f9",
   "outputs": [],
   "execution_count": 15
  },
  {
   "metadata": {
    "ExecuteTime": {
     "end_time": "2024-12-09T00:10:04.706521Z",
     "start_time": "2024-12-09T00:10:04.701754Z"
    }
   },
   "cell_type": "code",
   "source": "count_antinode_locations(load_grid(testdata))",
   "id": "a205e0069cf00b8a",
   "outputs": [
    {
     "data": {
      "text/plain": [
       "14"
      ]
     },
     "execution_count": 16,
     "metadata": {},
     "output_type": "execute_result"
    }
   ],
   "execution_count": 16
  },
  {
   "metadata": {},
   "cell_type": "markdown",
   "source": "Part 1",
   "id": "99151a264798143"
  },
  {
   "metadata": {
    "ExecuteTime": {
     "end_time": "2024-12-09T00:10:04.773075Z",
     "start_time": "2024-12-09T00:10:04.765845Z"
    }
   },
   "cell_type": "code",
   "source": "count_antinode_locations(load_grid(data))",
   "id": "8335961f8cc4068f",
   "outputs": [
    {
     "data": {
      "text/plain": [
       "371"
      ]
     },
     "execution_count": 17,
     "metadata": {},
     "output_type": "execute_result"
    }
   ],
   "execution_count": 17
  },
  {
   "metadata": {
    "ExecuteTime": {
     "end_time": "2024-12-09T00:10:04.835708Z",
     "start_time": "2024-12-09T00:10:04.828558Z"
    }
   },
   "cell_type": "code",
   "source": [
    "def count_antinode_locations_with_harmonics(grid):\n",
    "    freq_antennas = defaultdict(list)\n",
    "    for p, freq in grid.items():\n",
    "        if freq != \".\":\n",
    "            freq_antennas[freq].append(p)\n",
    "    antinodes = set()\n",
    "    for antennas in freq_antennas.values():\n",
    "        antinodes.update(iter_antinodes_with_harmonics(antennas, grid))\n",
    "    return len(antinodes)\n",
    "\n",
    "\n",
    "def iter_antinodes_with_harmonics(antennas, grid):\n",
    "    for a, b in combinations(antennas, 2):\n",
    "        delta = a - b\n",
    "        loc = a\n",
    "        while loc in grid:\n",
    "            yield loc\n",
    "            loc += delta\n",
    "        loc = b\n",
    "        while loc in grid:\n",
    "            yield loc\n",
    "            loc -= delta\n",
    "        "
   ],
   "id": "cbb2fa9f4e5b222b",
   "outputs": [],
   "execution_count": 18
  },
  {
   "metadata": {
    "ExecuteTime": {
     "end_time": "2024-12-09T00:10:04.891629Z",
     "start_time": "2024-12-09T00:10:04.884136Z"
    }
   },
   "cell_type": "code",
   "source": "count_antinode_locations_with_harmonics(load_grid(testdata))",
   "id": "cf3c9f4fb0ec9bb7",
   "outputs": [
    {
     "data": {
      "text/plain": [
       "34"
      ]
     },
     "execution_count": 19,
     "metadata": {},
     "output_type": "execute_result"
    }
   ],
   "execution_count": 19
  },
  {
   "metadata": {},
   "cell_type": "markdown",
   "source": "Part 2",
   "id": "8d61d7291721bb01"
  },
  {
   "metadata": {
    "ExecuteTime": {
     "end_time": "2024-12-09T00:10:04.954445Z",
     "start_time": "2024-12-09T00:10:04.945491Z"
    }
   },
   "cell_type": "code",
   "source": "count_antinode_locations_with_harmonics(load_grid(data))",
   "id": "fa969c5d95e9fa1d",
   "outputs": [
    {
     "data": {
      "text/plain": [
       "1229"
      ]
     },
     "execution_count": 20,
     "metadata": {},
     "output_type": "execute_result"
    }
   ],
   "execution_count": 20
  },
  {
   "metadata": {
    "ExecuteTime": {
     "end_time": "2024-12-09T00:10:05.009284Z",
     "start_time": "2024-12-09T00:10:05.006143Z"
    }
   },
   "cell_type": "code",
   "source": "",
   "id": "7c78f900cb0fe042",
   "outputs": [],
   "execution_count": null
  }
 ],
 "metadata": {
  "kernelspec": {
   "display_name": "Python 3",
   "language": "python",
   "name": "python3"
  },
  "language_info": {
   "codemirror_mode": {
    "name": "ipython",
    "version": 2
   },
   "file_extension": ".py",
   "mimetype": "text/x-python",
   "name": "python",
   "nbconvert_exporter": "python",
   "pygments_lexer": "ipython2",
   "version": "2.7.6"
  }
 },
 "nbformat": 4,
 "nbformat_minor": 5
}
