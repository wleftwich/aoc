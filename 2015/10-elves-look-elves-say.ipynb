{
 "cells": [
  {
   "cell_type": "markdown",
   "metadata": {},
   "source": [
    "https://adventofcode.com/2015/day/10"
   ]
  },
  {
   "cell_type": "code",
   "execution_count": 1,
   "metadata": {},
   "outputs": [],
   "source": [
    "puzzle_input = '1321131112'"
   ]
  },
  {
   "cell_type": "code",
   "execution_count": 20,
   "metadata": {},
   "outputs": [],
   "source": [
    "def next_las(s):\n",
    "    out = []\n",
    "    it = iter(s)\n",
    "    count = 1\n",
    "    last = next(it)\n",
    "    for c in it:\n",
    "        if c == last:\n",
    "            count += 1\n",
    "        else:\n",
    "            out.append(str(count))\n",
    "            out.append(last)\n",
    "            count = 1\n",
    "            last = c\n",
    "    out.append(str(count))\n",
    "    out.append(last)\n",
    "    return ''.join(out)"
   ]
  },
  {
   "cell_type": "code",
   "execution_count": 21,
   "metadata": {},
   "outputs": [
    {
     "name": "stdout",
     "output_type": "stream",
     "text": [
      "11\n",
      "21\n",
      "1211\n",
      "111221\n",
      "312211\n",
      "13112221\n",
      "1113213211\n",
      "31131211131221\n",
      "13211311123113112211\n",
      "11131221133112132113212221\n"
     ]
    }
   ],
   "source": [
    "las = '1'\n",
    "for _ in range(10):\n",
    "    las = next_las(las)\n",
    "    print(las)"
   ]
  },
  {
   "cell_type": "markdown",
   "metadata": {},
   "source": [
    "## part 1"
   ]
  },
  {
   "cell_type": "code",
   "execution_count": 22,
   "metadata": {},
   "outputs": [
    {
     "name": "stdout",
     "output_type": "stream",
     "text": [
      "492982\n"
     ]
    }
   ],
   "source": [
    "las = puzzle_input\n",
    "for _ in range(40):\n",
    "    las = next_las(las)\n",
    "print(len(las))"
   ]
  },
  {
   "cell_type": "markdown",
   "metadata": {},
   "source": [
    "## part 2"
   ]
  },
  {
   "cell_type": "code",
   "execution_count": 23,
   "metadata": {},
   "outputs": [
    {
     "name": "stdout",
     "output_type": "stream",
     "text": [
      "6989950\n",
      "CPU times: user 3.97 s, sys: 268 ms, total: 4.24 s\n",
      "Wall time: 4.24 s\n"
     ]
    }
   ],
   "source": [
    "%%time\n",
    "las = puzzle_input\n",
    "for _ in range(50):\n",
    "    las = next_las(las)\n",
    "print(len(las))"
   ]
  }
 ],
 "metadata": {
  "kernelspec": {
   "display_name": "Python 3",
   "language": "python",
   "name": "python3"
  },
  "language_info": {
   "codemirror_mode": {
    "name": "ipython",
    "version": 3
   },
   "file_extension": ".py",
   "mimetype": "text/x-python",
   "name": "python",
   "nbconvert_exporter": "python",
   "pygments_lexer": "ipython3",
   "version": "3.8.5"
  }
 },
 "nbformat": 4,
 "nbformat_minor": 4
}
