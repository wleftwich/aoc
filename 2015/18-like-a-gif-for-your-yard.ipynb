{
 "cells": [
  {
   "cell_type": "markdown",
   "metadata": {},
   "source": [
    "https://adventofcode.com/2015/day/18"
   ]
  },
  {
   "cell_type": "code",
   "execution_count": 16,
   "metadata": {},
   "outputs": [],
   "source": [
    "from collections import defaultdict"
   ]
  },
  {
   "cell_type": "code",
   "execution_count": 1,
   "metadata": {},
   "outputs": [],
   "source": [
    "datafile = 'data/18.txt'"
   ]
  },
  {
   "cell_type": "code",
   "execution_count": 2,
   "metadata": {},
   "outputs": [],
   "source": [
    "MINY, MAXY = 0, 99\n",
    "MINX, MAXX = 0, 99\n",
    "\n",
    "DRXNS = [0+1j, 1+1j, 1+0j, 1-1j, 0-1j, -1-1j, -1+0j, -1+1j]"
   ]
  },
  {
   "cell_type": "code",
   "execution_count": 5,
   "metadata": {},
   "outputs": [],
   "source": [
    "def inbounds(p):\n",
    "    return (MINX <= p.real <= MAXX) and (MINY <= p.imag <= MAXY)"
   ]
  },
  {
   "cell_type": "code",
   "execution_count": 8,
   "metadata": {},
   "outputs": [],
   "source": [
    "def neighbors(p):\n",
    "    return [nabe for nabe in (p + delta for delta in DRXNS) if inbounds(nabe)]"
   ]
  },
  {
   "cell_type": "code",
   "execution_count": 22,
   "metadata": {},
   "outputs": [],
   "source": [
    "grid = set()\n",
    "with open(datafile) as fh:\n",
    "    for y, line in enumerate(fh):\n",
    "        for x, c in enumerate(line.strip()):\n",
    "            if c == '#':\n",
    "                grid.add(complex(x, y))"
   ]
  },
  {
   "cell_type": "code",
   "execution_count": 33,
   "metadata": {},
   "outputs": [],
   "source": [
    "def cycle(grid):\n",
    "    newgrid = set()\n",
    "    offbulbs = defaultdict(int)\n",
    "    for onbulb in grid:\n",
    "        nabes_on = 0\n",
    "        for nabe in neighbors(onbulb):\n",
    "            if nabe in grid:\n",
    "                nabes_on += 1\n",
    "            else:\n",
    "                offbulbs[nabe] += 1\n",
    "        if nabes_on in (2, 3):\n",
    "            newgrid.add(onbulb)\n",
    "    newgrid.update(k for k, v in offbulbs.items() if v == 3)\n",
    "    return newgrid"
   ]
  },
  {
   "cell_type": "code",
   "execution_count": 34,
   "metadata": {},
   "outputs": [
    {
     "data": {
      "text/plain": [
       "821"
      ]
     },
     "execution_count": 34,
     "metadata": {},
     "output_type": "execute_result"
    }
   ],
   "source": [
    "gc = grid.copy()\n",
    "for _ in range(100):\n",
    "    gc = cycle(gc)\n",
    "len(gc)"
   ]
  },
  {
   "cell_type": "markdown",
   "metadata": {},
   "source": [
    "## part 2"
   ]
  },
  {
   "cell_type": "code",
   "execution_count": 35,
   "metadata": {},
   "outputs": [],
   "source": [
    "corners = {0+0j, 99+0j, 0+99j, 99+99j}"
   ]
  },
  {
   "cell_type": "code",
   "execution_count": 36,
   "metadata": {},
   "outputs": [
    {
     "data": {
      "text/plain": [
       "886"
      ]
     },
     "execution_count": 36,
     "metadata": {},
     "output_type": "execute_result"
    }
   ],
   "source": [
    "g2 = grid.copy()\n",
    "g2.update(corners)\n",
    "for _ in range(100):\n",
    "    g2 = cycle(g2)\n",
    "    g2.update(corners)\n",
    "len(g2)"
   ]
  }
 ],
 "metadata": {
  "kernelspec": {
   "display_name": "Python 3",
   "language": "python",
   "name": "python3"
  },
  "language_info": {
   "codemirror_mode": {
    "name": "ipython",
    "version": 3
   },
   "file_extension": ".py",
   "mimetype": "text/x-python",
   "name": "python",
   "nbconvert_exporter": "python",
   "pygments_lexer": "ipython3",
   "version": "3.8.5"
  }
 },
 "nbformat": 4,
 "nbformat_minor": 4
}
