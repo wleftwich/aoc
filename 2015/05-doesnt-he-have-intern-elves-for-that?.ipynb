{
 "cells": [
  {
   "cell_type": "markdown",
   "metadata": {},
   "source": [
    "https://adventofcode.com/2015/day/5"
   ]
  },
  {
   "cell_type": "code",
   "execution_count": 1,
   "metadata": {},
   "outputs": [],
   "source": [
    "import re"
   ]
  },
  {
   "cell_type": "code",
   "execution_count": 2,
   "metadata": {},
   "outputs": [],
   "source": [
    "datafile = 'data/05.txt'"
   ]
  },
  {
   "cell_type": "code",
   "execution_count": 3,
   "metadata": {},
   "outputs": [],
   "source": [
    "with open(datafile) as fh:\n",
    "    data = [x.strip() for x in fh]"
   ]
  },
  {
   "cell_type": "code",
   "execution_count": 4,
   "metadata": {},
   "outputs": [
    {
     "data": {
      "text/plain": [
       "(1000, ['zgsnvdmlfuplrubt', 'vlhagaovgqjmgvwq', 'ffumlmqwfcsyqpss'])"
      ]
     },
     "execution_count": 4,
     "metadata": {},
     "output_type": "execute_result"
    }
   ],
   "source": [
    "len(data), data[:3]"
   ]
  },
  {
   "cell_type": "markdown",
   "metadata": {},
   "source": [
    "## part 1"
   ]
  },
  {
   "cell_type": "code",
   "execution_count": 19,
   "metadata": {},
   "outputs": [],
   "source": [
    "vowel_re = re.compile(r'[aeiou]')\n",
    "def has_3_vowels(s):\n",
    "    return len(vowel_re.findall(s)) >= 3\n",
    "\n",
    "double_letter_re = re.compile(r'(.)\\1')\n",
    "def has_double_letter(s):\n",
    "    return double_letter_re.search(s) is not None\n",
    "\n",
    "bad_strings_re = re.compile(r'ab|cd|pq|xy')\n",
    "def no_bad_strings(s):\n",
    "    return bad_strings_re.search(s) is None\n",
    "\n",
    "def is_nice(s):\n",
    "    return has_3_vowels(s) and has_double_letter(s) and no_bad_strings(s)"
   ]
  },
  {
   "cell_type": "code",
   "execution_count": 21,
   "metadata": {},
   "outputs": [
    {
     "data": {
      "text/plain": [
       "238"
      ]
     },
     "execution_count": 21,
     "metadata": {},
     "output_type": "execute_result"
    }
   ],
   "source": [
    "sum(is_nice(s) for s in data)"
   ]
  },
  {
   "cell_type": "markdown",
   "metadata": {},
   "source": [
    "## part 2"
   ]
  },
  {
   "cell_type": "code",
   "execution_count": 22,
   "metadata": {},
   "outputs": [],
   "source": [
    "pair_twice_re = re.compile(r'(..).*\\1')\n",
    "def has_pair_twice(s):\n",
    "    return pair_twice_re.search(s) is not None\n",
    "\n",
    "skip_repeat_re = re.compile(r'(.).\\1')\n",
    "def has_skip_repeat(s):\n",
    "    return skip_repeat_re.search(s) is not None\n",
    "\n",
    "def is_nice_2(s):\n",
    "    return has_pair_twice(s) and has_skip_repeat(s)"
   ]
  },
  {
   "cell_type": "code",
   "execution_count": 23,
   "metadata": {},
   "outputs": [
    {
     "data": {
      "text/plain": [
       "69"
      ]
     },
     "execution_count": 23,
     "metadata": {},
     "output_type": "execute_result"
    }
   ],
   "source": [
    "sum(is_nice_2(s) for s in data)"
   ]
  }
 ],
 "metadata": {
  "kernelspec": {
   "display_name": "Python 3",
   "language": "python",
   "name": "python3"
  },
  "language_info": {
   "codemirror_mode": {
    "name": "ipython",
    "version": 3
   },
   "file_extension": ".py",
   "mimetype": "text/x-python",
   "name": "python",
   "nbconvert_exporter": "python",
   "pygments_lexer": "ipython3",
   "version": "3.8.5"
  }
 },
 "nbformat": 4,
 "nbformat_minor": 4
}
