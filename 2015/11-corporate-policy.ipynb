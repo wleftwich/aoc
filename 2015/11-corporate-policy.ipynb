{
 "cells": [
  {
   "cell_type": "markdown",
   "metadata": {},
   "source": [
    "https://adventofcode.com/2015/day/11"
   ]
  },
  {
   "cell_type": "code",
   "execution_count": 101,
   "metadata": {},
   "outputs": [],
   "source": [
    "from itertools import combinations"
   ]
  },
  {
   "cell_type": "code",
   "execution_count": 129,
   "metadata": {},
   "outputs": [],
   "source": [
    "puzzle_input = 'hepxcrrq'"
   ]
  },
  {
   "cell_type": "code",
   "execution_count": 1,
   "metadata": {},
   "outputs": [
    {
     "data": {
      "text/plain": [
       "97"
      ]
     },
     "execution_count": 1,
     "metadata": {},
     "output_type": "execute_result"
    }
   ],
   "source": [
    "ord('a')"
   ]
  },
  {
   "cell_type": "code",
   "execution_count": 2,
   "metadata": {},
   "outputs": [
    {
     "data": {
      "text/plain": [
       "98"
      ]
     },
     "execution_count": 2,
     "metadata": {},
     "output_type": "execute_result"
    }
   ],
   "source": [
    "ord('b')"
   ]
  },
  {
   "cell_type": "code",
   "execution_count": 3,
   "metadata": {},
   "outputs": [
    {
     "data": {
      "text/plain": [
       "122"
      ]
     },
     "execution_count": 3,
     "metadata": {},
     "output_type": "execute_result"
    }
   ],
   "source": [
    "ord('z')"
   ]
  },
  {
   "cell_type": "code",
   "execution_count": 66,
   "metadata": {},
   "outputs": [
    {
     "data": {
      "text/plain": [
       "(105, 111, 108)"
      ]
     },
     "execution_count": 66,
     "metadata": {},
     "output_type": "execute_result"
    }
   ],
   "source": [
    "ord('i'), ord('o'), ord('l')"
   ]
  },
  {
   "cell_type": "code",
   "execution_count": 123,
   "metadata": {},
   "outputs": [],
   "source": [
    "def pw2l(pw):\n",
    "    return [ord(c) for c in pw]\n",
    "\n",
    "def l2pw(l):\n",
    "    return ''.join(chr(x) for x in l)\n",
    "\n",
    "def next_l(l):\n",
    "    l = l.copy()\n",
    "    val = 97\n",
    "    ind = 0\n",
    "    while val == 97:\n",
    "        ind -= 1\n",
    "        val = l[ind]\n",
    "        val += 1\n",
    "        if val == 123:\n",
    "            val = 97\n",
    "        l[ind] = val\n",
    "    return l\n",
    "\n",
    "def no_iol(l):\n",
    "    return 105 not in l and 111 not in l and 108 not in l\n",
    "\n",
    "def has_straight(l):\n",
    "    for i in range(len(l) - 2):\n",
    "        if l[i+1] == l[i] + 1 and l[i+2] == l[i] + 2:\n",
    "            return True\n",
    "    return False\n",
    "\n",
    "def has_pairs(l):\n",
    "    adjacents = (zip(l, l[1:]))\n",
    "    doubles = {a for (a, b) in adjacents if a == b}\n",
    "    return len(doubles) > 1\n",
    "\n",
    "def next_pwd(pwd):\n",
    "    l = pw2l(pwd)\n",
    "    for i in range(100_000_000):\n",
    "        l = next_l(l)\n",
    "        if has_pairs(l) and has_straight(l) and no_iol(l):\n",
    "            print(i)\n",
    "            return l2pw(l)\n",
    "    print('nope')"
   ]
  },
  {
   "cell_type": "code",
   "execution_count": 126,
   "metadata": {},
   "outputs": [
    {
     "name": "stdout",
     "output_type": "stream",
     "text": [
      "17412\n",
      "CPU times: user 42.4 ms, sys: 0 ns, total: 42.4 ms\n",
      "Wall time: 41.2 ms\n"
     ]
    },
    {
     "data": {
      "text/plain": [
       "'abcdffaa'"
      ]
     },
     "execution_count": 126,
     "metadata": {},
     "output_type": "execute_result"
    }
   ],
   "source": [
    "%%time\n",
    "next_pwd('abcdefgh')"
   ]
  },
  {
   "cell_type": "code",
   "execution_count": 127,
   "metadata": {},
   "outputs": [
    {
     "name": "stdout",
     "output_type": "stream",
     "text": [
      "7585800\n",
      "CPU times: user 7.18 s, sys: 0 ns, total: 7.18 s\n",
      "Wall time: 7.18 s\n"
     ]
    },
    {
     "data": {
      "text/plain": [
       "'ghjaabcc'"
      ]
     },
     "execution_count": 127,
     "metadata": {},
     "output_type": "execute_result"
    }
   ],
   "source": [
    "%%time\n",
    "next_pwd('ghijklmn')"
   ]
  },
  {
   "cell_type": "code",
   "execution_count": 130,
   "metadata": {},
   "outputs": [
    {
     "data": {
      "text/plain": [
       "'hepxcrrq'"
      ]
     },
     "execution_count": 130,
     "metadata": {},
     "output_type": "execute_result"
    }
   ],
   "source": [
    "puzzle_input"
   ]
  },
  {
   "cell_type": "markdown",
   "metadata": {},
   "source": [
    "## part 1"
   ]
  },
  {
   "cell_type": "code",
   "execution_count": 131,
   "metadata": {},
   "outputs": [
    {
     "name": "stdout",
     "output_type": "stream",
     "text": [
      "374044\n",
      "CPU times: user 402 ms, sys: 0 ns, total: 402 ms\n",
      "Wall time: 400 ms\n"
     ]
    },
    {
     "data": {
      "text/plain": [
       "'hepxxyzz'"
      ]
     },
     "execution_count": 131,
     "metadata": {},
     "output_type": "execute_result"
    }
   ],
   "source": [
    "%%time\n",
    "next_pwd(puzzle_input)"
   ]
  },
  {
   "cell_type": "markdown",
   "metadata": {},
   "source": [
    "## part 2"
   ]
  },
  {
   "cell_type": "code",
   "execution_count": 132,
   "metadata": {},
   "outputs": [
    {
     "name": "stdout",
     "output_type": "stream",
     "text": [
      "374044\n",
      "950510\n",
      "CPU times: user 1.32 s, sys: 0 ns, total: 1.32 s\n",
      "Wall time: 1.32 s\n"
     ]
    },
    {
     "data": {
      "text/plain": [
       "'heqaabcc'"
      ]
     },
     "execution_count": 132,
     "metadata": {},
     "output_type": "execute_result"
    }
   ],
   "source": [
    "%%time\n",
    "next_pwd(next_pwd(puzzle_input))"
   ]
  },
  {
   "cell_type": "code",
   "execution_count": null,
   "metadata": {},
   "outputs": [],
   "source": []
  }
 ],
 "metadata": {
  "kernelspec": {
   "display_name": "Python 3",
   "language": "python",
   "name": "python3"
  },
  "language_info": {
   "codemirror_mode": {
    "name": "ipython",
    "version": 3
   },
   "file_extension": ".py",
   "mimetype": "text/x-python",
   "name": "python",
   "nbconvert_exporter": "python",
   "pygments_lexer": "ipython3",
   "version": "3.8.5"
  }
 },
 "nbformat": 4,
 "nbformat_minor": 4
}
