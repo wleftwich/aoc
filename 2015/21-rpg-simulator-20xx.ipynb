{
 "cells": [
  {
   "cell_type": "code",
   "execution_count": 39,
   "metadata": {},
   "outputs": [],
   "source": [
    "from itertools import product"
   ]
  },
  {
   "cell_type": "code",
   "execution_count": 40,
   "metadata": {},
   "outputs": [],
   "source": [
    "puzzle_input = \"\"\"\\\n",
    "Hit Points: 100\n",
    "Damage: 8\n",
    "Armor: 2\n",
    "\"\"\""
   ]
  },
  {
   "cell_type": "code",
   "execution_count": 41,
   "metadata": {},
   "outputs": [],
   "source": [
    "p2 = (100, 8, 2)"
   ]
  },
  {
   "cell_type": "code",
   "execution_count": 42,
   "metadata": {},
   "outputs": [],
   "source": [
    "weapons = [\n",
    "    (8, 4, 0),\n",
    "    (10, 5, 0),\n",
    "    (25, 6, 0),\n",
    "    (40, 7, 0),\n",
    "    (74, 8, 0),\n",
    "]\n",
    "\n",
    "armor = [\n",
    "    (0, 0, 0),\n",
    "    (13, 0, 1),\n",
    "    (31, 0, 2),\n",
    "    (53, 0, 3),\n",
    "    (75, 0, 4),\n",
    "    (102, 0, 5),\n",
    "]\n",
    "\n",
    "rings = [\n",
    "    (0, 0, 0),\n",
    "    (25, 1, 0),\n",
    "    (50, 2, 0),\n",
    "    (100, 3, 0),\n",
    "    (20, 0 ,1),\n",
    "    (40, 0, 2),\n",
    "    (80, 0, 3),\n",
    "]"
   ]
  },
  {
   "cell_type": "code",
   "execution_count": 54,
   "metadata": {},
   "outputs": [
    {
     "data": {
      "text/plain": [
       "1290"
      ]
     },
     "execution_count": 54,
     "metadata": {},
     "output_type": "execute_result"
    }
   ],
   "source": [
    "kits = product(weapons, armor, rings, rings)\n",
    "# only legal ring combinations\n",
    "kits = [x for x in kits if (x[2] == x[3] == (0, 0, 0)) or (x[2] != x[3])]\n",
    "len(kits)"
   ]
  },
  {
   "cell_type": "code",
   "execution_count": 46,
   "metadata": {},
   "outputs": [],
   "source": [
    "outfits = sorted({tuple(sum(x) for x in zip(*kit)) for kit in kits}, key = lambda y: y[0])"
   ]
  },
  {
   "cell_type": "code",
   "execution_count": 48,
   "metadata": {},
   "outputs": [
    {
     "data": {
      "text/plain": [
       "[(8, 4, 0),\n",
       " (10, 5, 0),\n",
       " (21, 4, 1),\n",
       " (23, 5, 1),\n",
       " (25, 6, 0),\n",
       " (28, 4, 1),\n",
       " (30, 5, 1),\n",
       " (33, 5, 0),\n",
       " (35, 6, 0),\n",
       " (38, 6, 1)]"
      ]
     },
     "execution_count": 48,
     "metadata": {},
     "output_type": "execute_result"
    }
   ],
   "source": [
    "outfits[:10]"
   ]
  },
  {
   "cell_type": "code",
   "execution_count": 50,
   "metadata": {},
   "outputs": [
    {
     "data": {
      "text/plain": [
       "[(299, 13, 4),\n",
       " (301, 12, 5),\n",
       " (306, 10, 8),\n",
       " (307, 11, 6),\n",
       " (307, 9, 8),\n",
       " (316, 11, 7),\n",
       " (322, 10, 8),\n",
       " (326, 13, 5),\n",
       " (329, 11, 7),\n",
       " (356, 11, 8)]"
      ]
     },
     "execution_count": 50,
     "metadata": {},
     "output_type": "execute_result"
    }
   ],
   "source": [
    "outfits[-10:]"
   ]
  },
  {
   "cell_type": "code",
   "execution_count": 51,
   "metadata": {},
   "outputs": [],
   "source": [
    "def battle(p1, p2):\n",
    "    DEBUG = False\n",
    "    p1h, p1d, p1a = p1\n",
    "    p2h, p2d, p2a = p2\n",
    "    while True:\n",
    "        p2h -= max(1, (p1d - p2a))\n",
    "        if DEBUG:\n",
    "            print('p2', p2h)\n",
    "        if p2h <= 0:\n",
    "            return 'p1'\n",
    "        p1h -= max(1, (p2d - p1a))\n",
    "        if DEBUG:\n",
    "            print('p1', p1h)\n",
    "        if p1h <= 0:\n",
    "            return 'p2'\n"
   ]
  },
  {
   "cell_type": "code",
   "execution_count": 52,
   "metadata": {},
   "outputs": [
    {
     "name": "stdout",
     "output_type": "stream",
     "text": [
      "91\n"
     ]
    }
   ],
   "source": [
    "for (cost, d, a) in outfits:\n",
    "    p1 = (100, d, a)\n",
    "    if battle(p1, p2) == 'p1':\n",
    "        print(cost)\n",
    "        break"
   ]
  },
  {
   "cell_type": "markdown",
   "metadata": {},
   "source": [
    "## part 2"
   ]
  },
  {
   "cell_type": "code",
   "execution_count": 53,
   "metadata": {},
   "outputs": [
    {
     "name": "stdout",
     "output_type": "stream",
     "text": [
      "158\n"
     ]
    }
   ],
   "source": [
    "for (cost, d, a) in reversed(outfits):\n",
    "    p1 = (100, d, a)\n",
    "    if battle(p1, p2) == 'p2':\n",
    "        print(cost)\n",
    "        break"
   ]
  },
  {
   "cell_type": "code",
   "execution_count": null,
   "metadata": {},
   "outputs": [],
   "source": []
  }
 ],
 "metadata": {
  "kernelspec": {
   "display_name": "Python 3",
   "language": "python",
   "name": "python3"
  },
  "language_info": {
   "codemirror_mode": {
    "name": "ipython",
    "version": 3
   },
   "file_extension": ".py",
   "mimetype": "text/x-python",
   "name": "python",
   "nbconvert_exporter": "python",
   "pygments_lexer": "ipython3",
   "version": "3.8.5"
  }
 },
 "nbformat": 4,
 "nbformat_minor": 4
}
