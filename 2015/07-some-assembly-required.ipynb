{
 "cells": [
  {
   "cell_type": "markdown",
   "metadata": {},
   "source": [
    "https://adventofcode.com/2015/day/7"
   ]
  },
  {
   "cell_type": "code",
   "execution_count": 19,
   "metadata": {},
   "outputs": [],
   "source": [
    "from collections import deque\n",
    "\n",
    "import networkx as nx"
   ]
  },
  {
   "cell_type": "code",
   "execution_count": 2,
   "metadata": {},
   "outputs": [],
   "source": [
    "datafile = 'data/07.txt'"
   ]
  },
  {
   "cell_type": "code",
   "execution_count": 3,
   "metadata": {},
   "outputs": [],
   "source": [
    "with open(datafile) as fh:\n",
    "    data = [y for y in (x.strip() for x in fh) if y]"
   ]
  },
  {
   "cell_type": "code",
   "execution_count": 4,
   "metadata": {},
   "outputs": [
    {
     "data": {
      "text/plain": [
       "(339, ['af AND ah -> ai', 'NOT lk -> ll', 'hz RSHIFT 1 -> is'])"
      ]
     },
     "execution_count": 4,
     "metadata": {},
     "output_type": "execute_result"
    }
   ],
   "source": [
    "len(data), data[:3]"
   ]
  },
  {
   "cell_type": "code",
   "execution_count": 91,
   "metadata": {},
   "outputs": [],
   "source": [
    "def parse_line(line):\n",
    "    expr, node = (x.strip() for x in line.split('->'))\n",
    "\n",
    "    if expr.startswith('NOT'):\n",
    "        op, arg = expr.split()\n",
    "    elif ' AND ' in expr or ' OR ' in expr:\n",
    "        arg1, op, arg2 = expr.split()\n",
    "        arg = [arg1, arg2]\n",
    "    elif 'SHIFT' in expr:\n",
    "        arg, op, arg2 = expr.split()\n",
    "        op = op + ' ' + arg2\n",
    "    else:\n",
    "        op = 'ASSIGN'\n",
    "        arg = expr\n",
    "    \n",
    "    return (op, arg, node)\n",
    "    "
   ]
  },
  {
   "cell_type": "code",
   "execution_count": 92,
   "metadata": {},
   "outputs": [
    {
     "data": {
      "text/plain": [
       "('AND', ['af', 'ah'], 'ai')"
      ]
     },
     "execution_count": 92,
     "metadata": {},
     "output_type": "execute_result"
    }
   ],
   "source": [
    "parse_line(data[0])"
   ]
  },
  {
   "cell_type": "code",
   "execution_count": 156,
   "metadata": {},
   "outputs": [],
   "source": [
    "def build_network(data):\n",
    "    g = nx.DiGraph()\n",
    "    for line in data:\n",
    "        op, arg, node = parse_line(line)\n",
    "        g.add_node(node)\n",
    "        D = g.nodes[node]\n",
    "        D['op'] = op\n",
    "        if op == 'ASSIGN':\n",
    "            if arg.isdigit():\n",
    "                D['val'] = int(arg)\n",
    "            else:\n",
    "                g.add_edge(arg, node)\n",
    "        elif op == 'NOT' or 'SHIFT' in op:\n",
    "            g.add_edge(arg, node)\n",
    "        elif op in ('AND', 'OR'):\n",
    "            for a in arg:\n",
    "                g.add_edge(a, node)\n",
    "        else:\n",
    "            raise ValueError(\"Unrecognized op: %s\", op)\n",
    "    \n",
    "    for node in g:\n",
    "        if node.isdigit():\n",
    "            g.nodes[node]['val'] = int(node)\n",
    "    \n",
    "    return g\n",
    "        "
   ]
  },
  {
   "cell_type": "code",
   "execution_count": 157,
   "metadata": {},
   "outputs": [],
   "source": [
    "g = build_network(data)"
   ]
  },
  {
   "cell_type": "code",
   "execution_count": 158,
   "metadata": {},
   "outputs": [
    {
     "data": {
      "text/plain": [
       "{'op': 'LSHIFT 15'}"
      ]
     },
     "execution_count": 158,
     "metadata": {},
     "output_type": "execute_result"
    }
   ],
   "source": [
    "g.nodes['le']"
   ]
  },
  {
   "cell_type": "code",
   "execution_count": 160,
   "metadata": {},
   "outputs": [
    {
     "data": {
      "text/plain": [
       "['la']"
      ]
     },
     "execution_count": 160,
     "metadata": {},
     "output_type": "execute_result"
    }
   ],
   "source": [
    "list(g.predecessors('le'))"
   ]
  },
  {
   "cell_type": "code",
   "execution_count": null,
   "metadata": {},
   "outputs": [],
   "source": []
  },
  {
   "cell_type": "code",
   "execution_count": 161,
   "metadata": {},
   "outputs": [],
   "source": [
    "def evaluate(node, g):\n",
    "    D = g.nodes[node]\n",
    "    if D.get('val') is not None:\n",
    "        return True\n",
    "    args = [g.nodes[x].get('val') for x in g.predecessors(node)]\n",
    "    if None in args:\n",
    "        return False\n",
    "    op = D['op']\n",
    "    if op == 'ASSIGN':\n",
    "        val = args[0]\n",
    "    elif op == 'NOT':\n",
    "        val = ~ args[0]\n",
    "    elif op == 'AND':\n",
    "        val = args[0] & args[1]\n",
    "    elif op == 'OR':\n",
    "        val = args[0] | args[1]\n",
    "    elif 'SHIFT' in op:\n",
    "        shift, n = op.split()\n",
    "        n = int(n)\n",
    "        if shift == 'LSHIFT':\n",
    "            val = args[0] << n\n",
    "        else:\n",
    "            val = args[0] >> n\n",
    "    else:\n",
    "        raise ValueError(\"Unknown command: %s\", op)\n",
    "    D['val'] = val\n",
    "    return True      "
   ]
  },
  {
   "cell_type": "code",
   "execution_count": 178,
   "metadata": {},
   "outputs": [],
   "source": [
    "g = build_network(data)\n",
    "\n",
    "predset = set()\n",
    "preds = ['a']\n",
    "while preds:\n",
    "    p = preds.pop()\n",
    "    if p in predset:\n",
    "        continue\n",
    "    predset.add(p)\n",
    "    preds.extend(g.predecessors(p))\n",
    "\n",
    "evaled = set()\n",
    "completed = set()\n",
    "q = deque(node for node in predset if g.nodes[node].get('val') is not None)"
   ]
  },
  {
   "cell_type": "code",
   "execution_count": 179,
   "metadata": {},
   "outputs": [
    {
     "name": "stdout",
     "output_type": "stream",
     "text": [
      "a = 956\n",
      "CPU times: user 11 ms, sys: 2 µs, total: 11 ms\n",
      "Wall time: 10.6 ms\n"
     ]
    }
   ],
   "source": [
    "%%time\n",
    "while q:\n",
    "    node = q.popleft()\n",
    "    if node in completed:\n",
    "        continue\n",
    "    succs = [x for x in g.successors(node) if x not in evaled and x in predset]\n",
    "    badsuccs = 0\n",
    "    for succ in succs:\n",
    "        if evaluate(succ, g):\n",
    "            evaled.add(succ)\n",
    "            q.append(succ)\n",
    "        else:\n",
    "            badsuccs += 1\n",
    "    if badsuccs:\n",
    "        q.append(node)\n",
    "    else:\n",
    "        completed.add(node)\n",
    "if 'a' in evaled:\n",
    "    print('a =', g.nodes[node]['val'])"
   ]
  },
  {
   "cell_type": "markdown",
   "metadata": {},
   "source": [
    "## part 2"
   ]
  },
  {
   "cell_type": "code",
   "execution_count": 180,
   "metadata": {},
   "outputs": [],
   "source": [
    "g = build_network(data)\n",
    "\n",
    "g.nodes['b']['val'] = 956\n",
    "\n",
    "predset = set()\n",
    "preds = ['a']\n",
    "while preds:\n",
    "    p = preds.pop()\n",
    "    if p in predset:\n",
    "        continue\n",
    "    predset.add(p)\n",
    "    preds.extend(g.predecessors(p))\n",
    "\n",
    "evaled = set()\n",
    "completed = set()\n",
    "q = deque(node for node in predset if g.nodes[node].get('val') is not None)"
   ]
  },
  {
   "cell_type": "code",
   "execution_count": 181,
   "metadata": {},
   "outputs": [
    {
     "name": "stdout",
     "output_type": "stream",
     "text": [
      "a = 40149\n",
      "CPU times: user 7.07 ms, sys: 2 µs, total: 7.08 ms\n",
      "Wall time: 6.64 ms\n"
     ]
    }
   ],
   "source": [
    "%%time\n",
    "while q:\n",
    "    node = q.popleft()\n",
    "    if node in completed:\n",
    "        continue\n",
    "    succs = [x for x in g.successors(node) if x not in evaled and x in predset]\n",
    "    badsuccs = 0\n",
    "    for succ in succs:\n",
    "        if evaluate(succ, g):\n",
    "            evaled.add(succ)\n",
    "            q.append(succ)\n",
    "        else:\n",
    "            badsuccs += 1\n",
    "    if badsuccs:\n",
    "        q.append(node)\n",
    "    else:\n",
    "        completed.add(node)\n",
    "if 'a' in evaled:\n",
    "    print('a =', g.nodes[node]['val'])"
   ]
  }
 ],
 "metadata": {
  "kernelspec": {
   "display_name": "Python 3",
   "language": "python",
   "name": "python3"
  },
  "language_info": {
   "codemirror_mode": {
    "name": "ipython",
    "version": 3
   },
   "file_extension": ".py",
   "mimetype": "text/x-python",
   "name": "python",
   "nbconvert_exporter": "python",
   "pygments_lexer": "ipython3",
   "version": "3.8.5"
  }
 },
 "nbformat": 4,
 "nbformat_minor": 4
}
