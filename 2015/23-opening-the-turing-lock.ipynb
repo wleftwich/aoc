{
 "cells": [
  {
   "cell_type": "markdown",
   "metadata": {},
   "source": [
    "https://adventofcode.com/2015/day/23"
   ]
  },
  {
   "cell_type": "code",
   "execution_count": 1,
   "metadata": {},
   "outputs": [],
   "source": [
    "datafile = 'data/23.txt'"
   ]
  },
  {
   "cell_type": "code",
   "execution_count": 7,
   "metadata": {},
   "outputs": [],
   "source": [
    "with open(datafile) as fh:\n",
    "    prg = [tuple(y.split(' ', 1)) for y in (x.strip() for x in fh) if y]"
   ]
  },
  {
   "cell_type": "code",
   "execution_count": 8,
   "metadata": {},
   "outputs": [
    {
     "data": {
      "text/plain": [
       "[('jio', 'a, +16'), ('inc', 'a'), ('inc', 'a')]"
      ]
     },
     "execution_count": 8,
     "metadata": {},
     "output_type": "execute_result"
    }
   ],
   "source": [
    "prg[:3]"
   ]
  },
  {
   "cell_type": "code",
   "execution_count": 14,
   "metadata": {},
   "outputs": [],
   "source": [
    "def hlf(r, ptr, regs=registers):\n",
    "    regs[r] = regs[r] // 2\n",
    "    return ptr + 1\n",
    "\n",
    "def tpl(r, ptr, regs=registers):\n",
    "    regs[r] *= 3\n",
    "    return ptr + 1\n",
    "\n",
    "def inc(r, ptr, regs=registers):\n",
    "    regs[r] += 1\n",
    "    return ptr + 1\n",
    "\n",
    "def jmp(offset, ptr, regs=registers):\n",
    "    offset = int(offset.replace('+', ''))\n",
    "    return ptr + offset\n",
    "\n",
    "def jie(arg, ptr, regs=registers):\n",
    "    r, offset = arg.split(', ')\n",
    "    offset = int(offset.replace('+', ''))\n",
    "    if not regs[r] % 2:\n",
    "        return ptr + offset\n",
    "    else:\n",
    "        return ptr + 1\n",
    "\n",
    "def jio(arg, ptr, regs=registers):\n",
    "    r, offset = arg.split(', ')\n",
    "    offset = int(offset.replace('+', ''))\n",
    "    if regs[r] == 1:\n",
    "        return ptr + offset\n",
    "    else:\n",
    "        return ptr + 1\n",
    "\n",
    "    \n",
    "instructions = {\n",
    "    'hlf': hlf,\n",
    "    'tpl': tpl,\n",
    "    'inc': inc,\n",
    "    'jmp': jmp,\n",
    "    'jie': jie,\n",
    "    'jio': jio,\n",
    "}"
   ]
  },
  {
   "cell_type": "code",
   "execution_count": 15,
   "metadata": {},
   "outputs": [
    {
     "name": "stdout",
     "output_type": "stream",
     "text": [
      "b = 170\n"
     ]
    }
   ],
   "source": [
    "registers = {'a': 0, 'b': 0}\n",
    "ptr = 0\n",
    "for _ in range(1_000_000):\n",
    "    try:\n",
    "        cmd, arg = prg[ptr]\n",
    "    except IndexError:\n",
    "        print('b =', registers['b'])\n",
    "        break\n",
    "    ptr = instructions[cmd](arg, ptr, registers)"
   ]
  },
  {
   "cell_type": "markdown",
   "metadata": {},
   "source": [
    "## part 2"
   ]
  },
  {
   "cell_type": "code",
   "execution_count": 16,
   "metadata": {},
   "outputs": [
    {
     "name": "stdout",
     "output_type": "stream",
     "text": [
      "b = 247\n"
     ]
    }
   ],
   "source": [
    "registers = {'a': 1, 'b': 0}\n",
    "ptr = 0\n",
    "for _ in range(1_000_000):\n",
    "    try:\n",
    "        cmd, arg = prg[ptr]\n",
    "    except IndexError:\n",
    "        print('b =', registers['b'])\n",
    "        break\n",
    "    ptr = instructions[cmd](arg, ptr, registers)"
   ]
  },
  {
   "cell_type": "code",
   "execution_count": null,
   "metadata": {},
   "outputs": [],
   "source": []
  }
 ],
 "metadata": {
  "kernelspec": {
   "display_name": "Python 3",
   "language": "python",
   "name": "python3"
  },
  "language_info": {
   "codemirror_mode": {
    "name": "ipython",
    "version": 3
   },
   "file_extension": ".py",
   "mimetype": "text/x-python",
   "name": "python",
   "nbconvert_exporter": "python",
   "pygments_lexer": "ipython3",
   "version": "3.8.5"
  }
 },
 "nbformat": 4,
 "nbformat_minor": 4
}
