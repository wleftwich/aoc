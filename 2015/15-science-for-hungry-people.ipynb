{
 "cells": [
  {
   "cell_type": "markdown",
   "metadata": {},
   "source": [
    "https://adventofcode.com/2015/day/15"
   ]
  },
  {
   "cell_type": "code",
   "execution_count": 1,
   "metadata": {},
   "outputs": [],
   "source": [
    "from itertools import product\n",
    "\n",
    "import numpy as np"
   ]
  },
  {
   "cell_type": "code",
   "execution_count": 2,
   "metadata": {},
   "outputs": [],
   "source": [
    "datafile = 'data/15.txt'"
   ]
  },
  {
   "cell_type": "code",
   "execution_count": 3,
   "metadata": {},
   "outputs": [
    {
     "name": "stdout",
     "output_type": "stream",
     "text": [
      "Sugar: capacity 3, durability 0, flavor 0, texture -3, calories 2\n",
      "Sprinkles: capacity -3, durability 3, flavor 0, texture 0, calories 9\n",
      "Candy: capacity -1, durability 0, flavor 4, texture 0, calories 1\n",
      "Chocolate: capacity 0, durability 0, flavor -2, texture 2, calories 8\n",
      "\n"
     ]
    }
   ],
   "source": [
    "with open(datafile) as fh:\n",
    "    print(fh.read())"
   ]
  },
  {
   "cell_type": "code",
   "execution_count": 4,
   "metadata": {},
   "outputs": [
    {
     "data": {
      "text/plain": [
       "array([[ 3, -3, -1,  0],\n",
       "       [ 0,  3,  0,  0],\n",
       "       [ 0,  0,  4, -2],\n",
       "       [-3,  0,  0,  2],\n",
       "       [ 2,  9,  1,  8]])"
      ]
     },
     "execution_count": 4,
     "metadata": {},
     "output_type": "execute_result"
    }
   ],
   "source": [
    "ingredients = np.array([\n",
    "    [3, 0, 0, -3, 2],\n",
    "    [-3, 3, 0, 0, 9],\n",
    "    [-1, 0, 4, 0, 1],\n",
    "    [0, 0, -2, 2, 8],\n",
    "]).T\n",
    "ingredients"
   ]
  },
  {
   "cell_type": "code",
   "execution_count": 5,
   "metadata": {},
   "outputs": [
    {
     "data": {
      "text/plain": [
       "(5, 4)"
      ]
     },
     "execution_count": 5,
     "metadata": {},
     "output_type": "execute_result"
    }
   ],
   "source": [
    "ingredients.shape"
   ]
  },
  {
   "cell_type": "markdown",
   "metadata": {},
   "source": [
    "## part 1"
   ]
  },
  {
   "cell_type": "code",
   "execution_count": 6,
   "metadata": {},
   "outputs": [
    {
     "name": "stdout",
     "output_type": "stream",
     "text": [
      "CPU times: user 7.22 s, sys: 384 ms, total: 7.6 s\n",
      "Wall time: 7.13 s\n"
     ]
    }
   ],
   "source": [
    "%%time\n",
    "best = 0\n",
    "\n",
    "weights = ([x] for x in range(100))\n",
    "for _ in range(ingredients.shape[1] - 1):\n",
    "    weights = (x + [y] for x in weights for y in range(100 - x[-1]))\n",
    "    \n",
    "for w in weights:\n",
    "    if sum(w) == 100:\n",
    "        cookie = ingredients @ w\n",
    "        quality = np.prod(cookie[:-1] * (cookie[:-1] > 0))\n",
    "        best = max(best, quality)"
   ]
  },
  {
   "cell_type": "code",
   "execution_count": 7,
   "metadata": {},
   "outputs": [
    {
     "data": {
      "text/plain": [
       "222870"
      ]
     },
     "execution_count": 7,
     "metadata": {},
     "output_type": "execute_result"
    }
   ],
   "source": [
    "best"
   ]
  },
  {
   "cell_type": "markdown",
   "metadata": {},
   "source": [
    "## part 2"
   ]
  },
  {
   "cell_type": "code",
   "execution_count": 8,
   "metadata": {},
   "outputs": [
    {
     "name": "stdout",
     "output_type": "stream",
     "text": [
      "CPU times: user 5.11 s, sys: 0 ns, total: 5.11 s\n",
      "Wall time: 5.1 s\n"
     ]
    }
   ],
   "source": [
    "%%time\n",
    "best2 = 0\n",
    "\n",
    "weights = ([x] for x in range(100))\n",
    "for _ in range(ingredients.shape[1] - 1):\n",
    "    weights = (x + [y] for x in weights for y in range(100 - x[-1]))\n",
    "\n",
    "for w in weights:\n",
    "    if sum(w) == 100:\n",
    "        cookie = ingredients @ w\n",
    "        if cookie[-1] == 500:\n",
    "            quality = np.prod(cookie[:-1] * (cookie[:-1] > 0))\n",
    "            best2 = max(best2, quality)"
   ]
  },
  {
   "cell_type": "code",
   "execution_count": 9,
   "metadata": {},
   "outputs": [
    {
     "data": {
      "text/plain": [
       "117936"
      ]
     },
     "execution_count": 9,
     "metadata": {},
     "output_type": "execute_result"
    }
   ],
   "source": [
    "best2"
   ]
  },
  {
   "cell_type": "markdown",
   "metadata": {},
   "source": [
    "Maybe simpler way of generating weights, but many more to discard:"
   ]
  },
  {
   "cell_type": "code",
   "execution_count": 10,
   "metadata": {},
   "outputs": [
    {
     "name": "stdout",
     "output_type": "stream",
     "text": [
      "CPU times: user 15.1 s, sys: 0 ns, total: 15.1 s\n",
      "Wall time: 15.1 s\n"
     ]
    }
   ],
   "source": [
    "%%time\n",
    "best2 = 0\n",
    "\n",
    "weights = product(*[range(100) for _ in range(ingredients.shape[1])])\n",
    "\n",
    "for w in weights:\n",
    "    if sum(w) == 100:\n",
    "        cookie = ingredients @ w\n",
    "        if cookie[-1] == 500:\n",
    "            quality = np.prod(cookie[:-1] * (cookie[:-1] > 0))\n",
    "            best2 = max(best2, quality)"
   ]
  },
  {
   "cell_type": "code",
   "execution_count": 11,
   "metadata": {},
   "outputs": [
    {
     "data": {
      "text/plain": [
       "117936"
      ]
     },
     "execution_count": 11,
     "metadata": {},
     "output_type": "execute_result"
    }
   ],
   "source": [
    "best2"
   ]
  },
  {
   "cell_type": "code",
   "execution_count": 13,
   "metadata": {},
   "outputs": [
    {
     "name": "stdout",
     "output_type": "stream",
     "text": [
      "CPU times: user 4.56 s, sys: 0 ns, total: 4.56 s\n",
      "Wall time: 4.57 s\n"
     ]
    },
    {
     "data": {
      "text/plain": [
       "100000000"
      ]
     },
     "execution_count": 13,
     "metadata": {},
     "output_type": "execute_result"
    }
   ],
   "source": [
    "%%time\n",
    "sum(1 for _ in product(*[range(100) for _ in range(ingredients.shape[1])]))"
   ]
  },
  {
   "cell_type": "code",
   "execution_count": 14,
   "metadata": {},
   "outputs": [
    {
     "name": "stdout",
     "output_type": "stream",
     "text": [
      "CPU times: user 2.29 s, sys: 0 ns, total: 2.29 s\n",
      "Wall time: 2.29 s\n"
     ]
    },
    {
     "data": {
      "text/plain": [
       "21252925"
      ]
     },
     "execution_count": 14,
     "metadata": {},
     "output_type": "execute_result"
    }
   ],
   "source": [
    "%%time\n",
    "weights = ([x] for x in range(100))\n",
    "for _ in range(ingredients.shape[1] - 1):\n",
    "    weights = (x + [y] for x in weights for y in range(100 - x[-1]))\n",
    "\n",
    "sum(1 for _ in weights)"
   ]
  }
 ],
 "metadata": {
  "kernelspec": {
   "display_name": "Python 3",
   "language": "python",
   "name": "python3"
  },
  "language_info": {
   "codemirror_mode": {
    "name": "ipython",
    "version": 3
   },
   "file_extension": ".py",
   "mimetype": "text/x-python",
   "name": "python",
   "nbconvert_exporter": "python",
   "pygments_lexer": "ipython3",
   "version": "3.8.5"
  }
 },
 "nbformat": 4,
 "nbformat_minor": 4
}
