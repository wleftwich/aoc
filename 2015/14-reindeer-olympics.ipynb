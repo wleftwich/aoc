{
 "cells": [
  {
   "cell_type": "markdown",
   "metadata": {},
   "source": [
    "https://adventofcode.com/2015/day/14"
   ]
  },
  {
   "cell_type": "code",
   "execution_count": 9,
   "metadata": {},
   "outputs": [],
   "source": [
    "from collections import defaultdict"
   ]
  },
  {
   "cell_type": "code",
   "execution_count": 3,
   "metadata": {},
   "outputs": [],
   "source": [
    "datafile = 'data/14.txt'"
   ]
  },
  {
   "cell_type": "code",
   "execution_count": 1,
   "metadata": {},
   "outputs": [],
   "source": [
    "def parse_line(line):\n",
    "    tokens = line.split()\n",
    "    return (tokens[0], int(tokens[3]), int(tokens[6]), int(tokens[-2]))"
   ]
  },
  {
   "cell_type": "code",
   "execution_count": 4,
   "metadata": {},
   "outputs": [],
   "source": [
    "with open(datafile) as fh:\n",
    "    data = [parse_line(y) for y in (x.strip() for x in fh) if y]"
   ]
  },
  {
   "cell_type": "code",
   "execution_count": 5,
   "metadata": {},
   "outputs": [
    {
     "data": {
      "text/plain": [
       "(9, [('Vixen', 19, 7, 124), ('Rudolph', 3, 15, 28), ('Donner', 19, 9, 164)])"
      ]
     },
     "execution_count": 5,
     "metadata": {},
     "output_type": "execute_result"
    }
   ],
   "source": [
    "len(data), data[:3]"
   ]
  },
  {
   "cell_type": "markdown",
   "metadata": {},
   "source": [
    "## part 1"
   ]
  },
  {
   "cell_type": "code",
   "execution_count": 6,
   "metadata": {},
   "outputs": [],
   "source": [
    "def distance_traveled(t, speed, flytime, resttime):\n",
    "    q, r = divmod(t, flytime+resttime)\n",
    "    rfly = min(r, flytime)\n",
    "    return q * speed * flytime + speed * rfly"
   ]
  },
  {
   "cell_type": "code",
   "execution_count": 10,
   "metadata": {},
   "outputs": [
    {
     "data": {
      "text/plain": [
       "2660"
      ]
     },
     "execution_count": 10,
     "metadata": {},
     "output_type": "execute_result"
    }
   ],
   "source": [
    "tt = 2503\n",
    "max(distance_traveled(tt, speed, flytime, resttime) for (reindeer, speed, flytime, resttime) in data)"
   ]
  },
  {
   "cell_type": "markdown",
   "metadata": {},
   "source": [
    "## part 2"
   ]
  },
  {
   "cell_type": "code",
   "execution_count": 13,
   "metadata": {},
   "outputs": [],
   "source": [
    "scores = defaultdict(int)\n",
    "tt = 2503\n",
    "for t in range(1, tt+1):\n",
    "    distances = [(reindeer, distance_traveled(t, speed, flytime, resttime))\n",
    "                    for (reindeer, speed, flytime, resttime) in data]\n",
    "    maxdist = max(dist for (reindeer, dist) in distances)\n",
    "    for reindeer, dist in distances:\n",
    "        if dist == maxdist:\n",
    "            scores[reindeer] += 1\n"
   ]
  },
  {
   "cell_type": "code",
   "execution_count": 14,
   "metadata": {},
   "outputs": [
    {
     "data": {
      "text/plain": [
       "[('Blitzen', 1256),\n",
       " ('Donner', 589),\n",
       " ('Prancer', 504),\n",
       " ('Vixen', 469),\n",
       " ('Cupid', 307),\n",
       " ('Rudolph', 188),\n",
       " ('Comet', 158),\n",
       " ('Dasher', 9)]"
      ]
     },
     "execution_count": 14,
     "metadata": {},
     "output_type": "execute_result"
    }
   ],
   "source": [
    "sorted(scores.items(), key = lambda x: -x[1])"
   ]
  }
 ],
 "metadata": {
  "kernelspec": {
   "display_name": "Python 3",
   "language": "python",
   "name": "python3"
  },
  "language_info": {
   "codemirror_mode": {
    "name": "ipython",
    "version": 3
   },
   "file_extension": ".py",
   "mimetype": "text/x-python",
   "name": "python",
   "nbconvert_exporter": "python",
   "pygments_lexer": "ipython3",
   "version": "3.8.5"
  }
 },
 "nbformat": 4,
 "nbformat_minor": 4
}
