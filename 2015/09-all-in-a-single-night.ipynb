{
 "cells": [
  {
   "cell_type": "markdown",
   "metadata": {},
   "source": [
    "https://adventofcode.com/2015/day/9"
   ]
  },
  {
   "cell_type": "code",
   "execution_count": 1,
   "metadata": {},
   "outputs": [],
   "source": [
    "from collections import deque\n",
    "\n",
    "import networkx as nx"
   ]
  },
  {
   "cell_type": "code",
   "execution_count": 20,
   "metadata": {},
   "outputs": [],
   "source": [
    "datafile = 'data/09.txt'"
   ]
  },
  {
   "cell_type": "code",
   "execution_count": 2,
   "metadata": {},
   "outputs": [],
   "source": [
    "testtxt = \"\"\"\\\n",
    "London to Dublin = 464\n",
    "London to Belfast = 518\n",
    "Dublin to Belfast = 141\n",
    "\"\"\""
   ]
  },
  {
   "cell_type": "code",
   "execution_count": 3,
   "metadata": {},
   "outputs": [
    {
     "data": {
      "text/plain": [
       "['London to Dublin = 464',\n",
       " 'London to Belfast = 518',\n",
       " 'Dublin to Belfast = 141']"
      ]
     },
     "execution_count": 3,
     "metadata": {},
     "output_type": "execute_result"
    }
   ],
   "source": [
    "testdata = [y for y in (x.strip() for x in testtxt.split('\\n')) if y]\n",
    "testdata"
   ]
  },
  {
   "cell_type": "code",
   "execution_count": 4,
   "metadata": {},
   "outputs": [],
   "source": [
    "def make_graph(data):\n",
    "    g = nx.Graph()\n",
    "    for line in data:\n",
    "        tokens = line.split()\n",
    "        g.add_edge(tokens[0], tokens[2], weight=int(tokens[4]))\n",
    "    return g\n",
    "\n",
    "def pathlength(g, pth):\n",
    "    ttl = 0\n",
    "    for (a, b) in zip(pth, pth[1:]):\n",
    "        ttl += g[a][b]['weight']\n",
    "    return ttl\n",
    "\n",
    "def tsp(g, node):\n",
    "    n = len(g)\n",
    "    shortest = None\n",
    "    frontier = deque([(node,)])\n",
    "    visited = set()\n",
    "    while frontier:\n",
    "        pth = frontier.popleft()\n",
    "        if len(pth) == n:\n",
    "            pl = pathlength(g, pth)\n",
    "            if shortest is None:\n",
    "                shortest = pl\n",
    "            else:\n",
    "                shortest = min(shortest, pl)\n",
    "            continue\n",
    "        if pth in visited:\n",
    "            continue\n",
    "        visited.add(pth)\n",
    "        for nabe in g[pth[-1]]:\n",
    "            if nabe in pth:\n",
    "                continue\n",
    "            newpath = pth + (nabe,)\n",
    "            if newpath not in visited:\n",
    "                frontier.append(newpath)\n",
    "    return shortest\n",
    "\n",
    "def shortest_route(g):\n",
    "    it = iter(g)\n",
    "    mindist = tsp(g, next(it))\n",
    "    for node in it:\n",
    "        mindist = min(mindist, tsp(g, node))\n",
    "    return mindist"
   ]
  },
  {
   "cell_type": "markdown",
   "metadata": {},
   "source": [
    "## part 1"
   ]
  },
  {
   "cell_type": "code",
   "execution_count": 25,
   "metadata": {},
   "outputs": [],
   "source": [
    "with open(datafile) as fh:\n",
    "    data = [y for y in (x.strip() for x in fh) if y]"
   ]
  },
  {
   "cell_type": "code",
   "execution_count": 26,
   "metadata": {},
   "outputs": [
    {
     "data": {
      "text/plain": [
       "251"
      ]
     },
     "execution_count": 26,
     "metadata": {},
     "output_type": "execute_result"
    }
   ],
   "source": [
    "g = make_graph(data)\n",
    "shortest_route(g)"
   ]
  },
  {
   "cell_type": "markdown",
   "metadata": {},
   "source": [
    "## part 2"
   ]
  },
  {
   "cell_type": "code",
   "execution_count": 29,
   "metadata": {},
   "outputs": [],
   "source": [
    "def tsp_worst(g, node):\n",
    "    n = len(g)\n",
    "    longest = 0\n",
    "    frontier = deque([(node,)])\n",
    "    visited = set()\n",
    "    while frontier:\n",
    "        pth = frontier.popleft()\n",
    "        if len(pth) == n:\n",
    "            pl = pathlength(g, pth)\n",
    "            longest = max(longest, pl)\n",
    "            continue\n",
    "        if pth in visited:\n",
    "            continue\n",
    "        visited.add(pth)\n",
    "        for nabe in g[pth[-1]]:\n",
    "            if nabe in pth:\n",
    "                continue\n",
    "            newpath = pth + (nabe,)\n",
    "            if newpath not in visited:\n",
    "                frontier.append(newpath)\n",
    "    return longest\n",
    "\n",
    "def longest_route(g):\n",
    "    maxdist = 0 \n",
    "    for node in g:\n",
    "        maxdist = max(maxdist, tsp_worst(g, node))\n",
    "    return maxdist"
   ]
  },
  {
   "cell_type": "code",
   "execution_count": 30,
   "metadata": {},
   "outputs": [
    {
     "data": {
      "text/plain": [
       "898"
      ]
     },
     "execution_count": 30,
     "metadata": {},
     "output_type": "execute_result"
    }
   ],
   "source": [
    "longest_route(g)"
   ]
  }
 ],
 "metadata": {
  "kernelspec": {
   "display_name": "Python 3",
   "language": "python",
   "name": "python3"
  },
  "language_info": {
   "codemirror_mode": {
    "name": "ipython",
    "version": 3
   },
   "file_extension": ".py",
   "mimetype": "text/x-python",
   "name": "python",
   "nbconvert_exporter": "python",
   "pygments_lexer": "ipython3",
   "version": "3.8.5"
  }
 },
 "nbformat": 4,
 "nbformat_minor": 4
}
