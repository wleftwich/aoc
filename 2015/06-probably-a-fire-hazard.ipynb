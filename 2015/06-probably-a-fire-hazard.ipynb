{
 "cells": [
  {
   "cell_type": "markdown",
   "metadata": {},
   "source": [
    "https://adventofcode.com/2015/day/6"
   ]
  },
  {
   "cell_type": "code",
   "execution_count": 30,
   "metadata": {},
   "outputs": [],
   "source": [
    "import re\n",
    "\n",
    "import numpy as np"
   ]
  },
  {
   "cell_type": "code",
   "execution_count": 24,
   "metadata": {},
   "outputs": [],
   "source": [
    "datafile = 'data/06.txt'"
   ]
  },
  {
   "cell_type": "code",
   "execution_count": 26,
   "metadata": {},
   "outputs": [
    {
     "name": "stdout",
     "output_type": "stream",
     "text": [
      "turn off 660,55 through 986,197\r\n",
      "turn off 341,304 through 638,850\r\n",
      "turn off 199,133 through 461,193\r\n",
      "toggle 322,558 through 977,958\r\n",
      "toggle 537,781 through 687,941\r\n",
      "turn on 226,196 through 599,390\r\n",
      "turn on 240,129 through 703,297\r\n",
      "turn on 317,329 through 451,798\r\n",
      "turn on 957,736 through 977,890\r\n",
      "turn on 263,530 through 559,664\r\n"
     ]
    }
   ],
   "source": [
    "! head $datafile"
   ]
  },
  {
   "cell_type": "code",
   "execution_count": 48,
   "metadata": {},
   "outputs": [],
   "source": [
    "def parse_line(line):\n",
    "    command = re.match(r'[^\\d]+', line).group().strip()\n",
    "    numbers = re.findall('\\d+', line)\n",
    "    y0, x0, y1, x1 = [int(n) for n in numbers]\n",
    "    x1, y1 = x1 + 1, y1 + 1\n",
    "    \n",
    "    return command, x0, x1, y0, y1"
   ]
  },
  {
   "cell_type": "code",
   "execution_count": 28,
   "metadata": {},
   "outputs": [],
   "source": [
    "line = 'turn off 660,55 through 986,197'"
   ]
  },
  {
   "cell_type": "code",
   "execution_count": 49,
   "metadata": {},
   "outputs": [
    {
     "data": {
      "text/plain": [
       "('turn off', 55, 198, 660, 987)"
      ]
     },
     "execution_count": 49,
     "metadata": {},
     "output_type": "execute_result"
    }
   ],
   "source": [
    "parse_line(line)"
   ]
  },
  {
   "cell_type": "code",
   "execution_count": 51,
   "metadata": {},
   "outputs": [],
   "source": [
    "with open(datafile) as fh:\n",
    "    data = [parse_line(line) for line in fh]"
   ]
  },
  {
   "cell_type": "code",
   "execution_count": 52,
   "metadata": {},
   "outputs": [
    {
     "data": {
      "text/plain": [
       "(300,\n",
       " [('turn off', 55, 198, 660, 987),\n",
       "  ('turn off', 304, 851, 341, 639),\n",
       "  ('turn off', 133, 194, 199, 462)])"
      ]
     },
     "execution_count": 52,
     "metadata": {},
     "output_type": "execute_result"
    }
   ],
   "source": [
    "len(data), data[:3]"
   ]
  },
  {
   "cell_type": "markdown",
   "metadata": {},
   "source": [
    "## part 1"
   ]
  },
  {
   "cell_type": "code",
   "execution_count": 59,
   "metadata": {},
   "outputs": [],
   "source": [
    "lights = np.zeros((1000, 1000), dtype=bool)"
   ]
  },
  {
   "cell_type": "code",
   "execution_count": 71,
   "metadata": {},
   "outputs": [],
   "source": [
    "def dispatch(command, lights):\n",
    "    cmd, coords = command[0], command[1:]\n",
    "    if cmd == 'turn on':\n",
    "        return turn_on(coords, lights)\n",
    "    elif cmd == 'turn off':\n",
    "        return turn_off(coords, lights)\n",
    "    elif cmd == 'toggle':\n",
    "        return toggle(coords, lights)\n",
    "    else:\n",
    "        raise ValueError(\"Bad command: %s\", cmd)\n",
    "    \n",
    "\n",
    "def turn_on(coords, lights):\n",
    "    x0, x1, y0, y1 = coords\n",
    "    lights[x0:x1, y0:y1] = True\n",
    "\n",
    "def turn_off(coords, lights):\n",
    "    x0, x1, y0, y1 = coords\n",
    "    lights[x0:x1, y0:y1] = False\n",
    "\n",
    "def toggle(coords, lights):\n",
    "    x0, x1, y0, y1 = coords\n",
    "    lights[x0:x1, y0:y1] = toggle_helper(lights[x0:x1, y0:y1])\n",
    "\n",
    "@np.vectorize\n",
    "def toggle_helper(light):\n",
    "    return (not light)"
   ]
  },
  {
   "cell_type": "code",
   "execution_count": 86,
   "metadata": {},
   "outputs": [],
   "source": [
    "for command in data:\n",
    "    dispatch(command, lights)"
   ]
  },
  {
   "cell_type": "code",
   "execution_count": 87,
   "metadata": {},
   "outputs": [
    {
     "data": {
      "text/plain": [
       "400410"
      ]
     },
     "execution_count": 87,
     "metadata": {},
     "output_type": "execute_result"
    }
   ],
   "source": [
    "lights.sum()"
   ]
  },
  {
   "cell_type": "markdown",
   "metadata": {},
   "source": [
    "## part 2"
   ]
  },
  {
   "cell_type": "code",
   "execution_count": 99,
   "metadata": {},
   "outputs": [],
   "source": [
    "def dispatch(command, lights):\n",
    "    cmd, coords = command[0], command[1:]\n",
    "    if cmd == 'turn on':\n",
    "        return turn_on(coords, lights)\n",
    "    elif cmd == 'turn off':\n",
    "        return turn_off(coords, lights)\n",
    "    elif cmd == 'toggle':\n",
    "        return toggle(coords, lights)\n",
    "    else:\n",
    "        raise ValueError(\"Bad command: %s\", cmd)\n",
    "   \n",
    "\n",
    "def turn_on(coords, lights):\n",
    "    x0, x1, y0, y1 = coords\n",
    "    lights[x0:x1, y0:y1] += 1\n",
    "\n",
    "def toggle(coords, lights):\n",
    "    x0, x1, y0, y1 = coords\n",
    "    lights[x0:x1, y0:y1] += 2\n",
    "\n",
    "def turn_off(coords, lights):\n",
    "    x0, x1, y0, y1 = coords\n",
    "    lights[x0:x1, y0:y1] = turn_off_helper(lights[x0:x1, y0:y1])\n",
    "\n",
    "@np.vectorize\n",
    "def turn_off_helper(light):\n",
    "    return max(light - 1, 0)"
   ]
  },
  {
   "cell_type": "code",
   "execution_count": 100,
   "metadata": {},
   "outputs": [
    {
     "data": {
      "text/plain": [
       "15343601"
      ]
     },
     "execution_count": 100,
     "metadata": {},
     "output_type": "execute_result"
    }
   ],
   "source": [
    "lights = np.zeros((1000, 1000), dtype=int)\n",
    "\n",
    "for command in data:\n",
    "    dispatch(command, lights)\n",
    "\n",
    "lights.sum()"
   ]
  }
 ],
 "metadata": {
  "kernelspec": {
   "display_name": "Python 3",
   "language": "python",
   "name": "python3"
  },
  "language_info": {
   "codemirror_mode": {
    "name": "ipython",
    "version": 3
   },
   "file_extension": ".py",
   "mimetype": "text/x-python",
   "name": "python",
   "nbconvert_exporter": "python",
   "pygments_lexer": "ipython3",
   "version": "3.8.5"
  }
 },
 "nbformat": 4,
 "nbformat_minor": 4
}
