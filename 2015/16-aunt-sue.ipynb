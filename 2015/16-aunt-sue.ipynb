{
 "cells": [
  {
   "cell_type": "markdown",
   "metadata": {},
   "source": [
    "https://adventofcode.com/2015/day/16"
   ]
  },
  {
   "cell_type": "code",
   "execution_count": 1,
   "metadata": {},
   "outputs": [],
   "source": [
    "import numpy as np"
   ]
  },
  {
   "cell_type": "code",
   "execution_count": 2,
   "metadata": {},
   "outputs": [],
   "source": [
    "datafile = 'data/16.txt'"
   ]
  },
  {
   "cell_type": "code",
   "execution_count": 3,
   "metadata": {},
   "outputs": [],
   "source": [
    "gift_txt = \"\"\"\\\n",
    "children: 3\n",
    "cats: 7\n",
    "samoyeds: 2\n",
    "pomeranians: 3\n",
    "akitas: 0\n",
    "vizslas: 0\n",
    "goldfish: 5\n",
    "trees: 3\n",
    "cars: 2\n",
    "perfumes: 1\n",
    "\"\"\""
   ]
  },
  {
   "cell_type": "code",
   "execution_count": 4,
   "metadata": {},
   "outputs": [
    {
     "data": {
      "text/plain": [
       "{('akitas', 0),\n",
       " ('cars', 2),\n",
       " ('cats', 7),\n",
       " ('children', 3),\n",
       " ('goldfish', 5),\n",
       " ('perfumes', 1),\n",
       " ('pomeranians', 3),\n",
       " ('samoyeds', 2),\n",
       " ('trees', 3),\n",
       " ('vizslas', 0)}"
      ]
     },
     "execution_count": 4,
     "metadata": {},
     "output_type": "execute_result"
    }
   ],
   "source": [
    "gift_strs = (y for y in (x.strip() for x in gift_txt.split('\\n')) if y)\n",
    "gift_set = {(x, int(y.strip())) for (x, y) in (z.split(':') for z in gift_strs)}\n",
    "gift_set"
   ]
  },
  {
   "cell_type": "code",
   "execution_count": 5,
   "metadata": {},
   "outputs": [],
   "source": [
    "def parse_line(line):\n",
    "    _, istr, rest = line.split(' ', 2)\n",
    "    i = int(istr[:-1])\n",
    "    compound_strs = (x.strip() for x in rest.split(','))\n",
    "    compound_set = {(x, int(y.strip())) for (x, y) in (z.split(':') for z in compound_strs)}\n",
    "    return i, compound_set"
   ]
  },
  {
   "cell_type": "code",
   "execution_count": 6,
   "metadata": {},
   "outputs": [
    {
     "data": {
      "text/plain": [
       "(1, {('akitas', 0), ('goldfish', 6), ('trees', 9)})"
      ]
     },
     "execution_count": 6,
     "metadata": {},
     "output_type": "execute_result"
    }
   ],
   "source": [
    "parse_line('Sue 1: goldfish: 6, trees: 9, akitas: 0')"
   ]
  },
  {
   "cell_type": "code",
   "execution_count": 7,
   "metadata": {},
   "outputs": [],
   "source": [
    "with open(datafile) as fh:\n",
    "    data = [parse_line(y) for y in (x.strip() for x in fh) if y]"
   ]
  },
  {
   "cell_type": "code",
   "execution_count": 8,
   "metadata": {},
   "outputs": [
    {
     "data": {
      "text/plain": [
       "(500,\n",
       " [(1, {('akitas', 0), ('goldfish', 6), ('trees', 9)}),\n",
       "  (2, {('akitas', 0), ('goldfish', 7), ('trees', 1)}),\n",
       "  (3, {('akitas', 6), ('cars', 10), ('perfumes', 7)})])"
      ]
     },
     "execution_count": 8,
     "metadata": {},
     "output_type": "execute_result"
    }
   ],
   "source": [
    "len(data), data[:3]"
   ]
  },
  {
   "cell_type": "markdown",
   "metadata": {},
   "source": [
    "## part 1"
   ]
  },
  {
   "cell_type": "code",
   "execution_count": 9,
   "metadata": {},
   "outputs": [],
   "source": [
    "sues `= np.empty(501, dtype=object)"
   ]
  },
  {
   "cell_type": "code",
   "execution_count": 10,
   "metadata": {},
   "outputs": [],
   "source": [
    "for i, compounds in data:\n",
    "    sues[i] = compounds"
   ]
  },
  {
   "cell_type": "code",
   "execution_count": 11,
   "metadata": {},
   "outputs": [],
   "source": [
    "intersects = np.zeros(501, dtype=int)"
   ]
  },
  {
   "cell_type": "code",
   "execution_count": 12,
   "metadata": {},
   "outputs": [],
   "source": [
    "for i in range(1, 501):\n",
    "    intersects[i] = len(gift_set.intersection(sues[i]))"
   ]
  },
  {
   "cell_type": "code",
   "execution_count": 13,
   "metadata": {},
   "outputs": [
    {
     "data": {
      "text/plain": [
       "103"
      ]
     },
     "execution_count": 13,
     "metadata": {},
     "output_type": "execute_result"
    }
   ],
   "source": [
    "np.argmax(intersects)"
   ]
  },
  {
   "cell_type": "markdown",
   "metadata": {},
   "source": [
    "## part 2"
   ]
  },
  {
   "cell_type": "code",
   "execution_count": 16,
   "metadata": {},
   "outputs": [
    {
     "data": {
      "text/plain": [
       "{('akitas', 0),\n",
       " ('cars', 2),\n",
       " ('cats', 7),\n",
       " ('children', 3),\n",
       " ('goldfish', 5),\n",
       " ('perfumes', 1),\n",
       " ('pomeranians', 3),\n",
       " ('samoyeds', 2),\n",
       " ('trees', 3),\n",
       " ('vizslas', 0)}"
      ]
     },
     "execution_count": 16,
     "metadata": {},
     "output_type": "execute_result"
    }
   ],
   "source": [
    "gift_set"
   ]
  },
  {
   "cell_type": "code",
   "execution_count": 15,
   "metadata": {},
   "outputs": [
    {
     "data": {
      "text/plain": [
       "{'akitas': 0,\n",
       " 'children': 3,\n",
       " 'trees': 3,\n",
       " 'perfumes': 1,\n",
       " 'vizslas': 0,\n",
       " 'cats': 7,\n",
       " 'cars': 2,\n",
       " 'samoyeds': 2,\n",
       " 'pomeranians': 3,\n",
       " 'goldfish': 5}"
      ]
     },
     "execution_count": 15,
     "metadata": {},
     "output_type": "execute_result"
    }
   ],
   "source": [
    "gift_dict = {k:v for (k,v) in gift_set}\n",
    "gift_dict"
   ]
  },
  {
   "cell_type": "code",
   "execution_count": 18,
   "metadata": {},
   "outputs": [],
   "source": [
    "def score_sue(sue):\n",
    "    score = 0\n",
    "    for k in ['cats', 'trees']:\n",
    "        if k in sue and sue[k] > gift_dict[k]:\n",
    "            score += 1\n",
    "    for k in ['pomeranians', 'goldfish']:\n",
    "        if k in sue and sue[k] < gift_dict[k]:\n",
    "            score += 1\n",
    "    for k in gift_dict:\n",
    "        if k in {'cats', 'trees', 'pomeranians', 'goldfish'}:\n",
    "            continue\n",
    "        if k in sue and sue[k] == gift_dict[k]:\n",
    "            score += 1\n",
    "    return score"
   ]
  },
  {
   "cell_type": "code",
   "execution_count": 21,
   "metadata": {},
   "outputs": [],
   "source": [
    "sues = np.empty(501, dtype=object)"
   ]
  },
  {
   "cell_type": "code",
   "execution_count": 22,
   "metadata": {},
   "outputs": [],
   "source": [
    "for i, compounds in data:\n",
    "    sues[i] = {k:v for (k,v) in compounds}"
   ]
  },
  {
   "cell_type": "code",
   "execution_count": 23,
   "metadata": {},
   "outputs": [],
   "source": [
    "scores = np.zeros(501, dtype=int)"
   ]
  },
  {
   "cell_type": "code",
   "execution_count": 24,
   "metadata": {},
   "outputs": [],
   "source": [
    "for i in range(1, 501):\n",
    "    scores[i] = score_sue(sues[i])"
   ]
  },
  {
   "cell_type": "code",
   "execution_count": 25,
   "metadata": {},
   "outputs": [
    {
     "data": {
      "text/plain": [
       "405"
      ]
     },
     "execution_count": 25,
     "metadata": {},
     "output_type": "execute_result"
    }
   ],
   "source": [
    "np.argmax(scores)"
   ]
  }
 ],
 "metadata": {
  "kernelspec": {
   "display_name": "Python 3",
   "language": "python",
   "name": "python3"
  },
  "language_info": {
   "codemirror_mode": {
    "name": "ipython",
    "version": 3
   },
   "file_extension": ".py",
   "mimetype": "text/x-python",
   "name": "python",
   "nbconvert_exporter": "python",
   "pygments_lexer": "ipython3",
   "version": "3.8.5"
  }
 },
 "nbformat": 4,
 "nbformat_minor": 4
}
