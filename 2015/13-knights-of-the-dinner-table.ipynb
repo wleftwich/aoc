{
 "cells": [
  {
   "cell_type": "markdown",
   "metadata": {},
   "source": [
    "https://adventofcode.com/2015/day/13"
   ]
  },
  {
   "cell_type": "code",
   "execution_count": 26,
   "metadata": {},
   "outputs": [],
   "source": [
    "from itertools import combinations\n",
    "from collections import deque\n",
    "import networkx as nx"
   ]
  },
  {
   "cell_type": "code",
   "execution_count": 1,
   "metadata": {},
   "outputs": [],
   "source": [
    "datafile = 'data/13.txt'"
   ]
  },
  {
   "cell_type": "code",
   "execution_count": 4,
   "metadata": {},
   "outputs": [],
   "source": [
    "def parse_line(line):\n",
    "    line = line.rstrip()[:-1]\n",
    "    tokens = line.split()\n",
    "    n1, wl, pts, n2 = tokens[0], tokens[2], tokens[3], tokens[-1]\n",
    "    return (n1, n2, (1 if wl == 'gain' else -1) * int(pts))"
   ]
  },
  {
   "cell_type": "code",
   "execution_count": 7,
   "metadata": {},
   "outputs": [],
   "source": [
    "with open(datafile) as fh:\n",
    "    data = [parse_line(y) for y in (x.strip() for x in fh) if y]"
   ]
  },
  {
   "cell_type": "code",
   "execution_count": 8,
   "metadata": {},
   "outputs": [
    {
     "data": {
      "text/plain": [
       "(56, [('Alice', 'Bob', -2), ('Alice', 'Carol', -62), ('Alice', 'David', 65)])"
      ]
     },
     "execution_count": 8,
     "metadata": {},
     "output_type": "execute_result"
    }
   ],
   "source": [
    "len(data), data[:3]"
   ]
  },
  {
   "cell_type": "code",
   "execution_count": 24,
   "metadata": {},
   "outputs": [],
   "source": [
    "def make_graph(data):\n",
    "    g = nx.DiGraph()\n",
    "    for (a, b, w) in data:\n",
    "        g.add_edge(a, b, weight=w)\n",
    "    for (a, b) in combinations(list(g), 2):\n",
    "        if b not in g.neighbors(a):\n",
    "            print(a, b)\n",
    "            g.add_edge(a, b, weight=0)\n",
    "        if a not in g.neighbors(b):\n",
    "            print(b, a)\n",
    "            g.add_edge(b, a, weight=0)\n",
    "    return g"
   ]
  },
  {
   "cell_type": "code",
   "execution_count": 32,
   "metadata": {},
   "outputs": [],
   "source": [
    "g = make_graph(data)"
   ]
  },
  {
   "cell_type": "markdown",
   "metadata": {},
   "source": [
    "## part 1"
   ]
  },
  {
   "cell_type": "code",
   "execution_count": 27,
   "metadata": {},
   "outputs": [],
   "source": [
    "def maximize_happiness(g, starter='Alice'):\n",
    "    n = len(g)\n",
    "    maxhap = None\n",
    "    visited = set()\n",
    "    frontier = deque([(starter,)])\n",
    "    while frontier:\n",
    "        diners = frontier.popleft()\n",
    "        if diners in visited:\n",
    "            continue\n",
    "        visited.add(diners)\n",
    "        if len(diners) == n:\n",
    "            diners = diners + (starter,)\n",
    "            happiness = calculate_happiness(g, diners)\n",
    "            if maxhap is None:\n",
    "                maxhap = happiness\n",
    "            else:\n",
    "                maxhap = max(maxhap, happiness)\n",
    "            continue\n",
    "        for nabe in g.neighbors(diners[-1]):\n",
    "            if nabe in diners:\n",
    "                continue\n",
    "            new_diners = diners + (nabe,)\n",
    "            if new_diners in visited:\n",
    "                continue\n",
    "            frontier.append(new_diners)\n",
    "    return maxhap\n",
    "        \n",
    "def calculate_happiness(g, diners):\n",
    "    happiness = 0\n",
    "    for (a, b) in zip(diners, diners[1:]):\n",
    "        happiness += g[a][b]['weight']\n",
    "        happiness += g[b][a]['weight']\n",
    "    return happiness\n",
    "    "
   ]
  },
  {
   "cell_type": "code",
   "execution_count": 28,
   "metadata": {},
   "outputs": [
    {
     "name": "stdout",
     "output_type": "stream",
     "text": [
      "CPU times: user 89.5 ms, sys: 0 ns, total: 89.5 ms\n",
      "Wall time: 89 ms\n"
     ]
    },
    {
     "data": {
      "text/plain": [
       "664"
      ]
     },
     "execution_count": 28,
     "metadata": {},
     "output_type": "execute_result"
    }
   ],
   "source": [
    "%%time\n",
    "maximize_happiness(g)"
   ]
  },
  {
   "cell_type": "markdown",
   "metadata": {},
   "source": [
    "## part 2"
   ]
  },
  {
   "cell_type": "code",
   "execution_count": 33,
   "metadata": {},
   "outputs": [
    {
     "data": {
      "text/plain": [
       "640"
      ]
     },
     "execution_count": 33,
     "metadata": {},
     "output_type": "execute_result"
    }
   ],
   "source": [
    "g2 = make_graph(data)\n",
    "for diner in list(g2):\n",
    "    g2.add_edge(diner, 'Me', weight=0)\n",
    "    g2.add_edge('Me', diner, weight=0)\n",
    "\n",
    "maximize_happiness(g2)"
   ]
  }
 ],
 "metadata": {
  "kernelspec": {
   "display_name": "Python 3",
   "language": "python",
   "name": "python3"
  },
  "language_info": {
   "codemirror_mode": {
    "name": "ipython",
    "version": 3
   },
   "file_extension": ".py",
   "mimetype": "text/x-python",
   "name": "python",
   "nbconvert_exporter": "python",
   "pygments_lexer": "ipython3",
   "version": "3.8.5"
  }
 },
 "nbformat": 4,
 "nbformat_minor": 4
}
