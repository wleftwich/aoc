{
 "cells": [
  {
   "cell_type": "markdown",
   "metadata": {},
   "source": [
    "https://adventofcode.com/2015/day/19"
   ]
  },
  {
   "cell_type": "code",
   "execution_count": 2,
   "metadata": {},
   "outputs": [],
   "source": [
    "from collections import Counter, deque"
   ]
  },
  {
   "cell_type": "code",
   "execution_count": 3,
   "metadata": {},
   "outputs": [],
   "source": [
    "datafile = 'data/19.txt'"
   ]
  },
  {
   "cell_type": "code",
   "execution_count": 4,
   "metadata": {},
   "outputs": [],
   "source": [
    "with open(datafile) as fh:\n",
    "    datatext = fh.read()"
   ]
  },
  {
   "cell_type": "code",
   "execution_count": 5,
   "metadata": {},
   "outputs": [],
   "source": [
    "xlatetxt, molecule = datatext.split('\\n\\n')"
   ]
  },
  {
   "cell_type": "code",
   "execution_count": 6,
   "metadata": {},
   "outputs": [],
   "source": [
    "xlates = []\n",
    "for line in xlatetxt.split('\\n'):\n",
    "    tokens = line.split()\n",
    "    xlates.append((tokens[0], tokens[2]))"
   ]
  },
  {
   "cell_type": "code",
   "execution_count": 7,
   "metadata": {},
   "outputs": [
    {
     "data": {
      "text/plain": [
       "'CRnSiRnCaPTiMgYCaPTiRnFArSiThFArCaSiThSiThPBCaCaSiRnSiRnTiTiMgArPBCaPMgYPTiRnFArFArCaSiRnBPMgArPRnCaPTiRnFArCaSiThCaCaFArPBCaCaPTiTiRnFArCaSiRnSiAlYSiThRnFArArCaSiRnBFArCaCaSiRnSiThCaCaCaFYCaPTiBCaSiThCaSiThPMgArSiRnCaPBFYCaCaFArCaCaCaCaSiThCaSiRnPRnFArPBSiThPRnFArSiRnMgArCaFYFArCaSiRnSiAlArTiTiTiTiTiTiTiRnPMgArPTiTiTiBSiRnSiAlArTiTiRnPMgArCaFYBPBPTiRnSiRnMgArSiThCaFArCaSiThFArPRnFArCaSiRnTiBSiThSiRnSiAlYCaFArPRnFArSiThCaFArCaCaSiThCaCaCaSiRnPRnCaFArFYPMgArCaPBCaPBSiRnFYPBCaFArCaSiAl'"
      ]
     },
     "execution_count": 7,
     "metadata": {},
     "output_type": "execute_result"
    }
   ],
   "source": [
    "molecule = molecule.strip()\n",
    "molecule"
   ]
  },
  {
   "cell_type": "code",
   "execution_count": 8,
   "metadata": {},
   "outputs": [],
   "source": [
    "def replace_in_turn(find, replace, s):\n",
    "    L = []\n",
    "    findlength = len(find)\n",
    "    i = 0\n",
    "    while True:\n",
    "        i = s.find(find, i)\n",
    "        if i == -1:\n",
    "            break\n",
    "        j = i + findlength\n",
    "        L.append(s[:i] + replace + s[j:])\n",
    "        i = j\n",
    "    return L  \n",
    "    "
   ]
  },
  {
   "cell_type": "code",
   "execution_count": 9,
   "metadata": {},
   "outputs": [],
   "source": [
    "variations = set()\n",
    "for (find, replace) in xlates:\n",
    "    variations.update(replace_in_turn(find, replace, molecule))"
   ]
  },
  {
   "cell_type": "code",
   "execution_count": 10,
   "metadata": {},
   "outputs": [
    {
     "data": {
      "text/plain": [
       "518"
      ]
     },
     "execution_count": 10,
     "metadata": {},
     "output_type": "execute_result"
    }
   ],
   "source": [
    "len(variations)"
   ]
  },
  {
   "cell_type": "markdown",
   "metadata": {},
   "source": [
    "## part 2"
   ]
  },
  {
   "cell_type": "markdown",
   "metadata": {},
   "source": [
    "For an intelligent solution see https://www.reddit.com/r/adventofcode/comments/3xflz8/day_19_solutions/"
   ]
  },
  {
   "cell_type": "code",
   "execution_count": 17,
   "metadata": {},
   "outputs": [],
   "source": [
    "rev_xlates = [(b[::-1], a[::-1]) for (a, b) in xlates]\n",
    "rev_xlates.sort(key = lambda x : -len(x[0]))"
   ]
  },
  {
   "cell_type": "code",
   "execution_count": 18,
   "metadata": {},
   "outputs": [
    {
     "data": {
      "text/plain": [
       "[('rAFYFYFnRC', 'H'),\n",
       " ('rAFYFnRiS', 'aC'),\n",
       " ('rAgMYFnRC', 'H'),\n",
       " ('rAFYgMnRC', 'H'),\n",
       " ('rAgMnRiS', 'aC'),\n",
       " ('rAFYFnRN', 'H'),\n",
       " ('rAFYFnRC', 'O'),\n",
       " ('rAFnRhT', 'lA'),\n",
       " ('rAFnRiT', 'B'),\n",
       " ('rAlAnRC', 'H'),\n",
       " ('rAgMnRN', 'H'),\n",
       " ('rAgMnRC', 'O'),\n",
       " ('rAFnRiS', 'P'),\n",
       " ('rAFnRP', 'aC'),\n",
       " ('rAFnRO', 'H'),\n",
       " ('rAFnRC', 'N'),\n",
       " ('rAFnRN', 'O'),\n",
       " ('aCaC', 'aC'),\n",
       " ('hTiS', 'aC'),\n",
       " ('lAiS', 'F'),\n",
       " ('gMiT', 'gM'),\n",
       " ('iSaC', 'iS'),\n",
       " ('aChT', 'hT'),\n",
       " ('iTiT', 'iT'),\n",
       " ('FhT', 'lA'),\n",
       " ('aCB', 'B'),\n",
       " ('BiT', 'B'),\n",
       " ('FaC', 'F'),\n",
       " ('gMP', 'F'),\n",
       " ('aCH', 'H'),\n",
       " ('hTN', 'H'),\n",
       " ('iSH', 'N'),\n",
       " ('iTO', 'O'),\n",
       " ('PaC', 'P'),\n",
       " ('iTP', 'P'),\n",
       " ('lAN', 'e'),\n",
       " ('gMO', 'e'),\n",
       " ('BP', 'aC'),\n",
       " ('BO', 'H'),\n",
       " ('FB', 'gM'),\n",
       " ('PH', 'O'),\n",
       " ('PB', 'iT'),\n",
       " ('FH', 'e')]"
      ]
     },
     "execution_count": 18,
     "metadata": {},
     "output_type": "execute_result"
    }
   ],
   "source": [
    "rev_xlates"
   ]
  },
  {
   "cell_type": "code",
   "execution_count": 22,
   "metadata": {},
   "outputs": [
    {
     "data": {
      "text/plain": [
       "'lAiSaCrAFaCBPYFnRiSBPaCBPaCrAgMPYFrAFaCnRPnRiSaCaCaChTiSaCaCrAFaChTiSrAFnRPrAFaCYlAiSnRiShTiSBiTnRiSaCrAFnRPrAFhTiSaCrAFaChTiSrAgMnRiSnRiTPBPBYFaCrAgMPnRiTiTrAlAiSnRiSBiTiTiTPrAgMPnRiTiTiTiTiTiTiTrAlAiSnRiSaCrAFYFaCrAgMnRiSrAFnRPhTiSBPrAFnRPnRiSaChTiSaCaCaCaCrAFaCaCYFBPaCnRiSrAgMPhTiSaChTiSaCBiTPaCYFaCaCaChTiSnRiSaCaCrAFBnRiSaCrArAFnRhTiSYlAiSnRiSaCrAFnRiTiTPaCaCBPrAFaCaChTiSaCrAFnRiTPaCnRPrAgMPBnRiSaCrAFrAFnRiTPYgMPaCBPrAgMiTiTnRiSnRiSaCaCBPhTiShTiSaCrAFhTiSrAFnRiTPaCYgMiTPaCnRiSnRC'"
      ]
     },
     "execution_count": 22,
     "metadata": {},
     "output_type": "execute_result"
    }
   ],
   "source": [
    "molecule[::-1]"
   ]
  },
  {
   "cell_type": "code",
   "execution_count": 20,
   "metadata": {},
   "outputs": [],
   "source": [
    "def find_replace(s, a, b):\n",
    "    p = s.find(a)\n",
    "    if p == -1:\n",
    "        return\n",
    "    q = p + len(a)\n",
    "    return s[:p] + b + s[q:]    "
   ]
  },
  {
   "cell_type": "code",
   "execution_count": 24,
   "metadata": {},
   "outputs": [
    {
     "name": "stdout",
     "output_type": "stream",
     "text": [
      "Eureka 200 e\n",
      "CPU times: user 4.3 ms, sys: 5 µs, total: 4.31 ms\n",
      "Wall time: 3.82 ms\n"
     ]
    }
   ],
   "source": [
    "%%time\n",
    "s = molecule[::-1]\n",
    "for i in range(10_000_000):\n",
    "    if len(s) == 1:\n",
    "        print('Eureka', i, s)\n",
    "        break\n",
    "    for a, b in rev_xlates:\n",
    "        news = find_replace(s, a, b)\n",
    "        if news:\n",
    "            s = news\n",
    "            break\n",
    "    else:\n",
    "        raise ValueError(\"no match: %s %s\", s, i)\n",
    "\n",
    "else:\n",
    "    print('nope', i, s, len(s))\n"
   ]
  }
 ],
 "metadata": {
  "kernelspec": {
   "display_name": "Python 3",
   "language": "python",
   "name": "python3"
  },
  "language_info": {
   "codemirror_mode": {
    "name": "ipython",
    "version": 3
   },
   "file_extension": ".py",
   "mimetype": "text/x-python",
   "name": "python",
   "nbconvert_exporter": "python",
   "pygments_lexer": "ipython3",
   "version": "3.8.5"
  }
 },
 "nbformat": 4,
 "nbformat_minor": 4
}
