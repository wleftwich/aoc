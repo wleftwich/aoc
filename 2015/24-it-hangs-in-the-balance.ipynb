{
 "cells": [
  {
   "cell_type": "markdown",
   "metadata": {},
   "source": [
    "https://adventofcode.com/2015/day/24"
   ]
  },
  {
   "cell_type": "code",
   "execution_count": 1,
   "metadata": {},
   "outputs": [],
   "source": [
    "from itertools import combinations, permutations\n",
    "\n",
    "from collections import deque"
   ]
  },
  {
   "cell_type": "code",
   "execution_count": 2,
   "metadata": {},
   "outputs": [],
   "source": [
    "datafile = 'data/24.txt'"
   ]
  },
  {
   "cell_type": "code",
   "execution_count": 3,
   "metadata": {},
   "outputs": [],
   "source": [
    "with open(datafile) as fh:\n",
    "    data = [int(y) for y in (x.strip() for x in fh) if y]"
   ]
  },
  {
   "cell_type": "code",
   "execution_count": 12,
   "metadata": {},
   "outputs": [
    {
     "data": {
      "text/plain": [
       "520"
      ]
     },
     "execution_count": 12,
     "metadata": {},
     "output_type": "execute_result"
    }
   ],
   "source": [
    "wpb = sum(data) // 3\n",
    "wpb"
   ]
  },
  {
   "cell_type": "code",
   "execution_count": 61,
   "metadata": {},
   "outputs": [],
   "source": [
    "def passenger_bundles(packages=data, nbundles=3, minlen=None):\n",
    "    packages = packages.copy()\n",
    "    packages.sort()\n",
    "    packages.reverse()\n",
    "    target = sum(packages) // nbundles\n",
    "    bundles = []\n",
    "    for i in range(len(packages)):\n",
    "        sublist = packages[i:]\n",
    "        if sum(sublist) < target:\n",
    "            break\n",
    "        for bundle in passenger_bundles_helper(sublist, target=target, minlen=minlen):\n",
    "            if minlen is None:\n",
    "                minlen = len(bundle)\n",
    "            else:\n",
    "                minlen = min(minlen, len(bundle))\n",
    "            bundles.append(bundle)\n",
    "    return [x for x in bundles if len(x) == minlen]\n",
    "\n",
    "def passenger_bundles_helper(packages, i=0, bundles=[], target=wpb, minlen=None):\n",
    "    pkg = packages[i]\n",
    "    newbundles = []\n",
    "    pkgttl = sum(packages[i:])\n",
    "    bundles.append([])\n",
    "    for b in bundles:\n",
    "        if sum(b) + pkgttl < target:\n",
    "            continue\n",
    "        bundle = b.copy()\n",
    "        bundle.append(pkg)\n",
    "        bweight = sum(bundle)\n",
    "        blen = len(bundle)\n",
    "        if bweight == target:\n",
    "            if minlen is None:\n",
    "                minlen = blen\n",
    "            else:\n",
    "                minlen = min(minlen, blen)\n",
    "            if blen == minlen:\n",
    "                yield(bundle)\n",
    "        elif bweight > target:\n",
    "            continue\n",
    "        elif minlen and blen >= minlen:\n",
    "            continue\n",
    "        else:  # bweight < target, blen < minlen\n",
    "            newbundles.append(bundle)\n",
    "    for j in range(i+1, len(packages)):\n",
    "        yield from passenger_bundles_helper(packages, j, newbundles, target, minlen)"
   ]
  },
  {
   "cell_type": "code",
   "execution_count": 47,
   "metadata": {},
   "outputs": [
    {
     "name": "stdout",
     "output_type": "stream",
     "text": [
      "CPU times: user 7min 28s, sys: 19.7 ms, total: 7min 28s\n",
      "Wall time: 7min 28s\n"
     ]
    }
   ],
   "source": [
    "%%time\n",
    "pb = passenger_bundles(data, minlen=6)"
   ]
  },
  {
   "cell_type": "code",
   "execution_count": 48,
   "metadata": {},
   "outputs": [
    {
     "data": {
      "text/plain": [
       "590"
      ]
     },
     "execution_count": 48,
     "metadata": {},
     "output_type": "execute_result"
    }
   ],
   "source": [
    "len(pb)"
   ]
  },
  {
   "cell_type": "code",
   "execution_count": 49,
   "metadata": {},
   "outputs": [
    {
     "data": {
      "text/plain": [
       "Counter({6: 590})"
      ]
     },
     "execution_count": 49,
     "metadata": {},
     "output_type": "execute_result"
    }
   ],
   "source": [
    "Counter(len(x) for x in pb)"
   ]
  },
  {
   "cell_type": "code",
   "execution_count": 50,
   "metadata": {},
   "outputs": [],
   "source": [
    "pbset = set(frozenset(x) for x in pb)"
   ]
  },
  {
   "cell_type": "code",
   "execution_count": 51,
   "metadata": {},
   "outputs": [
    {
     "data": {
      "text/plain": [
       "230"
      ]
     },
     "execution_count": 51,
     "metadata": {},
     "output_type": "execute_result"
    }
   ],
   "source": [
    "len(pbset)"
   ]
  },
  {
   "cell_type": "code",
   "execution_count": 59,
   "metadata": {},
   "outputs": [],
   "source": [
    "def qe(seq):\n",
    "    result = 1\n",
    "    for n in seq:\n",
    "        result *= n\n",
    "    return result"
   ]
  },
  {
   "cell_type": "code",
   "execution_count": 60,
   "metadata": {},
   "outputs": [
    {
     "data": {
      "text/plain": [
       "11846773891"
      ]
     },
     "execution_count": 60,
     "metadata": {},
     "output_type": "execute_result"
    }
   ],
   "source": [
    "min(qe(x) for x in pb)"
   ]
  },
  {
   "cell_type": "markdown",
   "metadata": {},
   "source": [
    "## part 2"
   ]
  },
  {
   "cell_type": "code",
   "execution_count": 62,
   "metadata": {},
   "outputs": [
    {
     "name": "stdout",
     "output_type": "stream",
     "text": [
      "CPU times: user 7min 21s, sys: 19.9 ms, total: 7min 21s\n",
      "Wall time: 7min 21s\n"
     ]
    }
   ],
   "source": [
    "%%time\n",
    "pb2 = passenger_bundles(packages=data, nbundles=4, minlen=6)"
   ]
  },
  {
   "cell_type": "code",
   "execution_count": 63,
   "metadata": {},
   "outputs": [
    {
     "data": {
      "text/plain": [
       "80393059"
      ]
     },
     "execution_count": 63,
     "metadata": {},
     "output_type": "execute_result"
    }
   ],
   "source": [
    "min(qe(x) for x in pb2)"
   ]
  }
 ],
 "metadata": {
  "kernelspec": {
   "display_name": "Python 3",
   "language": "python",
   "name": "python3"
  },
  "language_info": {
   "codemirror_mode": {
    "name": "ipython",
    "version": 3
   },
   "file_extension": ".py",
   "mimetype": "text/x-python",
   "name": "python",
   "nbconvert_exporter": "python",
   "pygments_lexer": "ipython3",
   "version": "3.8.5"
  }
 },
 "nbformat": 4,
 "nbformat_minor": 4
}
