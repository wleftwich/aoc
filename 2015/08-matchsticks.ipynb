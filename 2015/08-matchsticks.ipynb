{
 "cells": [
  {
   "cell_type": "markdown",
   "metadata": {},
   "source": [
    "https://adventofcode.com/2015/day/8"
   ]
  },
  {
   "cell_type": "code",
   "execution_count": 37,
   "metadata": {},
   "outputs": [],
   "source": [
    "datafile = 'data/08.txt'"
   ]
  },
  {
   "cell_type": "code",
   "execution_count": 38,
   "metadata": {},
   "outputs": [],
   "source": [
    "hexdigits = '0123456789abcdef'\n",
    "\n",
    "def countchars(s):\n",
    "    n = 0\n",
    "    state = ''\n",
    "    for c in s[1:-1]:\n",
    "        if state == '':\n",
    "            if c == '\\\\':\n",
    "                state = 'esc'\n",
    "            else:\n",
    "                n += 1\n",
    "        elif state == 'esc':\n",
    "            if c in ('\\\\', '\"'):\n",
    "                n += 1\n",
    "                state = ''\n",
    "            elif c == 'x':\n",
    "                state = 'escx'\n",
    "            else:\n",
    "                n += 1\n",
    "                state = ''\n",
    "        elif state == 'escx':\n",
    "            if c == '\\\\':\n",
    "                n += 1\n",
    "                state = 'esc'\n",
    "            elif c in hexdigits:\n",
    "                state = 'escxd'\n",
    "            else:\n",
    "                n += 2\n",
    "                state = ''\n",
    "        elif state == 'escxd':\n",
    "            if c == '\\\\':\n",
    "                n += 2\n",
    "                state = 'esc'\n",
    "            elif c in hexdigits:\n",
    "                n += 1\n",
    "                state = ''\n",
    "            else:\n",
    "                n += 2\n",
    "                state = ''\n",
    "        else:\n",
    "            raise ValueError('Unknown state: %s', state)\n",
    "    return n\n",
    "            "
   ]
  },
  {
   "cell_type": "code",
   "execution_count": 39,
   "metadata": {},
   "outputs": [],
   "source": [
    "with open(datafile) as fh:\n",
    "    data = [x.rstrip('\\n') for x in fh]"
   ]
  },
  {
   "cell_type": "markdown",
   "metadata": {},
   "source": [
    "## part 1"
   ]
  },
  {
   "cell_type": "code",
   "execution_count": 40,
   "metadata": {},
   "outputs": [
    {
     "data": {
      "text/plain": [
       "1371"
      ]
     },
     "execution_count": 40,
     "metadata": {},
     "output_type": "execute_result"
    }
   ],
   "source": [
    "# 1336 is too low, 1388 is too high, 1354 is wrong\n",
    "litcount = sum(len(x) for x in data)\n",
    "charcount =sum(countchars(x) for x in data)\n",
    "litcount - charcount"
   ]
  },
  {
   "cell_type": "markdown",
   "metadata": {},
   "source": [
    "## part 2"
   ]
  },
  {
   "cell_type": "code",
   "execution_count": 49,
   "metadata": {},
   "outputs": [
    {
     "data": {
      "text/plain": [
       "['\"\"', '\"abc\"', '\"aaa\\\\\"aaa\"', '\"\\\\x27\"']"
      ]
     },
     "execution_count": 49,
     "metadata": {},
     "output_type": "execute_result"
    }
   ],
   "source": [
    "with open('data/08_example.txt') as fh:\n",
    "    L = [x.strip('\\n') for x in fh]\n",
    "L"
   ]
  },
  {
   "cell_type": "code",
   "execution_count": 50,
   "metadata": {},
   "outputs": [
    {
     "data": {
      "text/plain": [
       "[2, 5, 10, 6]"
      ]
     },
     "execution_count": 50,
     "metadata": {},
     "output_type": "execute_result"
    }
   ],
   "source": [
    "[len(x) for x in L]"
   ]
  },
  {
   "cell_type": "code",
   "execution_count": 44,
   "metadata": {},
   "outputs": [
    {
     "name": "stdout",
     "output_type": "stream",
     "text": [
      "\"\n",
      "a\n",
      "a\n",
      "a\n",
      "\\\n",
      "\"\n",
      "a\n",
      "a\n",
      "a\n",
      "\"\n"
     ]
    }
   ],
   "source": [
    "for c in L[2]:\n",
    "    print(c)"
   ]
  },
  {
   "cell_type": "code",
   "execution_count": 52,
   "metadata": {},
   "outputs": [],
   "source": [
    "hexdigits = '0123456789abcdef'\n",
    "\n",
    "def countchars_esc(s):\n",
    "    n = 6\n",
    "    state = ''\n",
    "    for c in s[1:-1]:\n",
    "        if state == '':\n",
    "            if c == '\\\\':\n",
    "                state = 'esc'\n",
    "            else:\n",
    "                n += 1\n",
    "        elif state == 'esc':\n",
    "            if c in ('\\\\', '\"'):\n",
    "                n += 4\n",
    "                state = ''\n",
    "            elif c == 'x':\n",
    "                state = 'escx'\n",
    "            else:\n",
    "                n += 3\n",
    "                state = ''\n",
    "        elif state == 'escx':\n",
    "            if c == '\\\\':\n",
    "                n += 3\n",
    "                state = 'esc'\n",
    "            elif c in hexdigits:\n",
    "                state = 'escxd'\n",
    "            else:\n",
    "                n += 3\n",
    "                state = ''\n",
    "        elif state == 'escxd':\n",
    "            if c == '\\\\':\n",
    "                n += 4\n",
    "                state = 'esc'\n",
    "            elif c in hexdigits:\n",
    "                n += 5\n",
    "                state = ''\n",
    "            else:\n",
    "                n += 3\n",
    "                state = ''\n",
    "        else:\n",
    "            raise ValueError('Unknown state: %s', state)\n",
    "    return n\n",
    "            "
   ]
  },
  {
   "cell_type": "code",
   "execution_count": 53,
   "metadata": {},
   "outputs": [
    {
     "data": {
      "text/plain": [
       "[6, 9, 16, 11]"
      ]
     },
     "execution_count": 53,
     "metadata": {},
     "output_type": "execute_result"
    }
   ],
   "source": [
    "[countchars_esc(x) for x in L]"
   ]
  },
  {
   "cell_type": "code",
   "execution_count": 54,
   "metadata": {},
   "outputs": [
    {
     "data": {
      "text/plain": [
       "2117"
      ]
     },
     "execution_count": 54,
     "metadata": {},
     "output_type": "execute_result"
    }
   ],
   "source": [
    "# 1517 is too low\n",
    "litcount = sum(len(x) for x in data)\n",
    "charcount =sum(countchars_esc(x) for x in data)\n",
    "charcount - litcount"
   ]
  }
 ],
 "metadata": {
  "kernelspec": {
   "display_name": "Python 3",
   "language": "python",
   "name": "python3"
  },
  "language_info": {
   "codemirror_mode": {
    "name": "ipython",
    "version": 3
   },
   "file_extension": ".py",
   "mimetype": "text/x-python",
   "name": "python",
   "nbconvert_exporter": "python",
   "pygments_lexer": "ipython3",
   "version": "3.8.5"
  }
 },
 "nbformat": 4,
 "nbformat_minor": 4
}
