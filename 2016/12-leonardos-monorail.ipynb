{
 "cells": [
  {
   "cell_type": "markdown",
   "metadata": {},
   "source": [
    "https://adventofcode.com/2016/day/12"
   ]
  },
  {
   "cell_type": "code",
   "execution_count": 6,
   "metadata": {},
   "outputs": [],
   "source": [
    "datafile = 'data/12.txt'"
   ]
  },
  {
   "cell_type": "code",
   "execution_count": 7,
   "metadata": {},
   "outputs": [],
   "source": [
    "import math"
   ]
  },
  {
   "cell_type": "code",
   "execution_count": 15,
   "metadata": {},
   "outputs": [],
   "source": [
    "with open(datafile) as fh:\n",
    "    data = [y for y in (x.strip() for x in fh) if y]"
   ]
  },
  {
   "cell_type": "code",
   "execution_count": 9,
   "metadata": {},
   "outputs": [
    {
     "data": {
      "text/plain": [
       "14172"
      ]
     },
     "execution_count": 9,
     "metadata": {},
     "output_type": "execute_result"
    }
   ],
   "source": [
    "(96 * 95 + 12) + math.factorial(7)"
   ]
  },
  {
   "cell_type": "code",
   "execution_count": 16,
   "metadata": {},
   "outputs": [
    {
     "data": {
      "text/plain": [
       "(23, ['cpy 1 a', 'cpy 1 b', 'cpy 26 d'])"
      ]
     },
     "execution_count": 16,
     "metadata": {},
     "output_type": "execute_result"
    }
   ],
   "source": [
    "len(data), data[:3]"
   ]
  },
  {
   "cell_type": "code",
   "execution_count": 11,
   "metadata": {},
   "outputs": [],
   "source": [
    "class PasswordCheck:\n",
    "\n",
    "    def __init__(self, instructions):\n",
    "        self.instructions = instructions\n",
    "        self.reset()\n",
    "    \n",
    "    def reset(self):\n",
    "        self.regs = {\n",
    "            'a': 0,\n",
    "            'b': 0,\n",
    "            'c': 0,\n",
    "            'd': 0\n",
    "        }\n",
    "        self.ptr = 0\n",
    "    \n",
    "    def run(self):\n",
    "        while True:\n",
    "            try:\n",
    "                self.dispatch(self.instructions[self.ptr])\n",
    "            except IndexError:\n",
    "                break\n",
    "        print('done')\n",
    "\n",
    "    def dispatch(self, inst):\n",
    "        fun, argstr = inst.split(maxsplit=1)\n",
    "        return getattr(self, fun)(argstr)\n",
    "    \n",
    "    def cpy(self, argstr):\n",
    "        val, reg = argstr.split()\n",
    "        try:\n",
    "            val = int(val)\n",
    "        except ValueError:\n",
    "            val = self.regs[val]\n",
    "        self.regs[reg] = val\n",
    "        self.ptr += 1\n",
    "    \n",
    "    def inc(self, reg):\n",
    "        self.regs[reg] += 1\n",
    "        self.ptr += 1\n",
    "    \n",
    "    def dec(self, reg):\n",
    "        self.regs[reg] -= 1\n",
    "        self.ptr += 1\n",
    "    \n",
    "    def jnz(self, argstr):\n",
    "        x, y = argstr.split()\n",
    "        y = int(y)\n",
    "        try:\n",
    "            x = int(x)\n",
    "        except ValueError:\n",
    "            x = self.regs[x]\n",
    "        if x:\n",
    "            self.ptr += y\n",
    "        else:\n",
    "            self.ptr += 1    "
   ]
  },
  {
   "cell_type": "code",
   "execution_count": 17,
   "metadata": {},
   "outputs": [],
   "source": [
    "pc = PasswordCheck(data)"
   ]
  },
  {
   "cell_type": "code",
   "execution_count": 18,
   "metadata": {},
   "outputs": [
    {
     "name": "stdout",
     "output_type": "stream",
     "text": [
      "done\n"
     ]
    }
   ],
   "source": [
    "pc.run()"
   ]
  },
  {
   "cell_type": "code",
   "execution_count": 19,
   "metadata": {},
   "outputs": [
    {
     "data": {
      "text/plain": [
       "{'a': 318007, 'b': 196418, 'c': 0, 'd': 0}"
      ]
     },
     "execution_count": 19,
     "metadata": {},
     "output_type": "execute_result"
    }
   ],
   "source": [
    "pc.regs"
   ]
  },
  {
   "cell_type": "markdown",
   "metadata": {},
   "source": [
    "## part 2"
   ]
  },
  {
   "cell_type": "code",
   "execution_count": 15,
   "metadata": {},
   "outputs": [],
   "source": [
    "pc = PasswordCheck(data)"
   ]
  },
  {
   "cell_type": "code",
   "execution_count": 16,
   "metadata": {},
   "outputs": [],
   "source": [
    "pc.regs['c'] = 1"
   ]
  },
  {
   "cell_type": "code",
   "execution_count": 17,
   "metadata": {},
   "outputs": [
    {
     "name": "stdout",
     "output_type": "stream",
     "text": [
      "done\n"
     ]
    }
   ],
   "source": [
    "pc.run()"
   ]
  },
  {
   "cell_type": "code",
   "execution_count": 18,
   "metadata": {},
   "outputs": [
    {
     "data": {
      "text/plain": [
       "{'a': 9227661, 'b': 5702887, 'c': 0, 'd': 0}"
      ]
     },
     "execution_count": 18,
     "metadata": {},
     "output_type": "execute_result"
    }
   ],
   "source": [
    "pc.regs"
   ]
  }
 ],
 "metadata": {
  "kernelspec": {
   "display_name": "Python 3",
   "language": "python",
   "name": "python3"
  },
  "language_info": {
   "codemirror_mode": {
    "name": "ipython",
    "version": 3
   },
   "file_extension": ".py",
   "mimetype": "text/x-python",
   "name": "python",
   "nbconvert_exporter": "python",
   "pygments_lexer": "ipython3",
   "version": "3.8.5"
  }
 },
 "nbformat": 4,
 "nbformat_minor": 4
}
