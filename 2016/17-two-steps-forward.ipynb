{
 "cells": [
  {
   "cell_type": "markdown",
   "metadata": {},
   "source": [
    "https://adventofcode.com/2016/day/17"
   ]
  },
  {
   "cell_type": "code",
   "execution_count": 55,
   "metadata": {},
   "outputs": [],
   "source": [
    "import heapq\n",
    "from hashlib import md5\n",
    "from collections import defaultdict"
   ]
  },
  {
   "cell_type": "code",
   "execution_count": 1,
   "metadata": {},
   "outputs": [],
   "source": [
    "puzzle_input = 'yjjvjgan'"
   ]
  },
  {
   "cell_type": "code",
   "execution_count": 103,
   "metadata": {},
   "outputs": [],
   "source": [
    "def astar(start, goal, key, grid_dim=(4,4), limit=10_000):\n",
    "    frontier = [(manhattan_distance(start, goal), start, '')]\n",
    "    heapq.heapify(frontier)\n",
    "    \n",
    "    minx, miny = (0, 0)\n",
    "    maxx, maxy = grid_dim\n",
    "    \n",
    "    door2delta = {\n",
    "        'U': (0, -1),\n",
    "        'D': (0, 1),\n",
    "        'L': (-1, 0),\n",
    "        'R': (1, 0)\n",
    "    }\n",
    "    \n",
    "    while frontier:\n",
    "        tc, p, udlr = heapq.heappop(frontier)\n",
    "#         print(tc, p, udlr)\n",
    "        if p == goal:\n",
    "            return udlr\n",
    "        \n",
    "        if len(udlr) > limit:\n",
    "            raise ValueError(\"Ran too long\")\n",
    "        \n",
    "        x, y = p\n",
    "        doors = open_doors(udlr, key)\n",
    "        for door in doors:\n",
    "            dx, dy = door2delta[door]\n",
    "            x1, y1 = x+dx, y+dy\n",
    "            p1 = (x1, y1)\n",
    "            if minx <= x1 < maxx and miny <= y1 < maxy:\n",
    "                udlr1 = udlr + door\n",
    "                tc1 = len(udlr1) + manhattan_distance(p1, goal)\n",
    "                heapq.heappush(frontier, (tc1, p1, udlr1))\n",
    "\n",
    "                \n",
    "def manhattan_distance(a, b):\n",
    "        ax, ay = a\n",
    "        bx, by = b\n",
    "        return abs(ax - bx) + abs(ay - by)\n",
    "\n",
    "    \n",
    "def open_doors(udlr, key):\n",
    "    thehash = md5((key + udlr).encode('ascii')).hexdigest()\n",
    "    return [door for (door, val) in zip('UDLR', thehash) if val in 'bcdef']\n",
    "        \n",
    "\n"
   ]
  },
  {
   "cell_type": "code",
   "execution_count": 104,
   "metadata": {},
   "outputs": [
    {
     "data": {
      "text/plain": [
       "'DDRRRD'"
      ]
     },
     "execution_count": 104,
     "metadata": {},
     "output_type": "execute_result"
    }
   ],
   "source": [
    "astar((0,0), (3, 3), 'ihgpwlah', (4, 4))"
   ]
  },
  {
   "cell_type": "code",
   "execution_count": 105,
   "metadata": {},
   "outputs": [
    {
     "data": {
      "text/plain": [
       "'DDUDRLRRUDRD'"
      ]
     },
     "execution_count": 105,
     "metadata": {},
     "output_type": "execute_result"
    }
   ],
   "source": [
    "astar((0,0), (3, 3), 'kglvqrro', (4, 4))"
   ]
  },
  {
   "cell_type": "code",
   "execution_count": 106,
   "metadata": {},
   "outputs": [
    {
     "data": {
      "text/plain": [
       "'DRURDRUDDLLDLUURRDULRLDUUDDDRR'"
      ]
     },
     "execution_count": 106,
     "metadata": {},
     "output_type": "execute_result"
    }
   ],
   "source": [
    "astar((0,0), (3, 3), 'ulqzkmiv', (4, 4))"
   ]
  },
  {
   "cell_type": "code",
   "execution_count": 107,
   "metadata": {},
   "outputs": [
    {
     "data": {
      "text/plain": [
       "'RLDRUDRDDR'"
      ]
     },
     "execution_count": 107,
     "metadata": {},
     "output_type": "execute_result"
    }
   ],
   "source": [
    "astar((0,0), (3, 3), puzzle_input, (4, 4))"
   ]
  },
  {
   "cell_type": "markdown",
   "metadata": {},
   "source": [
    "## part 2\n"
   ]
  },
  {
   "cell_type": "code",
   "execution_count": 108,
   "metadata": {},
   "outputs": [],
   "source": [
    "def longest_path(start, goal, key, grid_dim=(4,4), limit=10_000):\n",
    "    frontier = [(manhattan_distance(start, goal), start, '')]\n",
    "    heapq.heapify(frontier)\n",
    "    \n",
    "    minx, miny = (0, 0)\n",
    "    maxx, maxy = grid_dim\n",
    "    \n",
    "    door2delta = {\n",
    "        'U': (0, -1),\n",
    "        'D': (0, 1),\n",
    "        'L': (-1, 0),\n",
    "        'R': (1, 0)\n",
    "    }\n",
    "    \n",
    "    longest_path = 0\n",
    "    \n",
    "    while frontier:\n",
    "        tc, p, udlr = heapq.heappop(frontier)\n",
    "\n",
    "        if p == goal:\n",
    "            longest_path = max(longest_path, len(udlr))\n",
    "            continue\n",
    "        \n",
    "        if len(udlr) > limit:\n",
    "            raise ValueError(\"Ran too long\")\n",
    "        \n",
    "        x, y = p\n",
    "        doors = open_doors(udlr, key)\n",
    "        for door in doors:\n",
    "            dx, dy = door2delta[door]\n",
    "            x1, y1 = x+dx, y+dy\n",
    "            p1 = (x1, y1)\n",
    "            if minx <= x1 < maxx and miny <= y1 < maxy:\n",
    "                udlr1 = udlr + door\n",
    "                tc1 = len(udlr1) + manhattan_distance(p1, goal)\n",
    "                heapq.heappush(frontier, (tc1, p1, udlr1))\n",
    "        \n",
    "    return longest_path\n",
    "\n",
    "                \n",
    "def manhattan_distance(a, b):\n",
    "        ax, ay = a\n",
    "        bx, by = b\n",
    "        return abs(ax - bx) + abs(ay - by)\n",
    "\n",
    "    \n",
    "def open_doors(udlr, key):\n",
    "    thehash = md5((key + udlr).encode('ascii')).hexdigest()\n",
    "    return [door for (door, val) in zip('UDLR', thehash) if val in 'bcdef']\n",
    "        \n",
    "\n"
   ]
  },
  {
   "cell_type": "code",
   "execution_count": 109,
   "metadata": {},
   "outputs": [
    {
     "name": "stdout",
     "output_type": "stream",
     "text": [
      "CPU times: user 107 ms, sys: 4.01 ms, total: 111 ms\n",
      "Wall time: 110 ms\n"
     ]
    },
    {
     "data": {
      "text/plain": [
       "370"
      ]
     },
     "execution_count": 109,
     "metadata": {},
     "output_type": "execute_result"
    }
   ],
   "source": [
    "%%time\n",
    "longest_path((0,0), (3, 3), 'ihgpwlah', (4, 4))"
   ]
  },
  {
   "cell_type": "code",
   "execution_count": 110,
   "metadata": {},
   "outputs": [
    {
     "data": {
      "text/plain": [
       "492"
      ]
     },
     "execution_count": 110,
     "metadata": {},
     "output_type": "execute_result"
    }
   ],
   "source": [
    "longest_path((0,0), (3, 3), 'kglvqrro', (4, 4))"
   ]
  },
  {
   "cell_type": "code",
   "execution_count": 111,
   "metadata": {},
   "outputs": [
    {
     "data": {
      "text/plain": [
       "830"
      ]
     },
     "execution_count": 111,
     "metadata": {},
     "output_type": "execute_result"
    }
   ],
   "source": [
    "longest_path((0,0), (3, 3), 'ulqzkmiv', (4, 4))"
   ]
  },
  {
   "cell_type": "code",
   "execution_count": 112,
   "metadata": {},
   "outputs": [
    {
     "data": {
      "text/plain": [
       "498"
      ]
     },
     "execution_count": 112,
     "metadata": {},
     "output_type": "execute_result"
    }
   ],
   "source": [
    "longest_path((0,0), (3, 3), puzzle_input, (4, 4))"
   ]
  },
  {
   "cell_type": "code",
   "execution_count": null,
   "metadata": {},
   "outputs": [],
   "source": []
  }
 ],
 "metadata": {
  "kernelspec": {
   "display_name": "Python 3",
   "language": "python",
   "name": "python3"
  },
  "language_info": {
   "codemirror_mode": {
    "name": "ipython",
    "version": 3
   },
   "file_extension": ".py",
   "mimetype": "text/x-python",
   "name": "python",
   "nbconvert_exporter": "python",
   "pygments_lexer": "ipython3",
   "version": "3.8.5"
  }
 },
 "nbformat": 4,
 "nbformat_minor": 4
}
