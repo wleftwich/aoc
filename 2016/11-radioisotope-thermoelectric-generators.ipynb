{
 "cells": [
  {
   "cell_type": "markdown",
   "metadata": {},
   "source": [
    "https://adventofcode.com/2016/day/11\n",
    "\n",
    "https://www.mathsisfun.com/chicken_crossing.html"
   ]
  },
  {
   "cell_type": "code",
   "execution_count": 36,
   "metadata": {},
   "outputs": [],
   "source": [
    "from itertools import combinations\n",
    "from collections import deque\n",
    "from toolz import concat\n",
    "\n",
    "fs = frozenset"
   ]
  },
  {
   "cell_type": "code",
   "execution_count": 69,
   "metadata": {},
   "outputs": [],
   "source": [
    "elements = ['Sr', 'Pu', 'Tm', 'Ru', 'Cm']"
   ]
  },
  {
   "cell_type": "code",
   "execution_count": 59,
   "metadata": {},
   "outputs": [],
   "source": [
    "def is_legal(floor, elements=elements):\n",
    "    for e in elements:\n",
    "        if e+'M' in floor and e+'G' not in floor and get_gens(floor):\n",
    "            return False\n",
    "    return True\n",
    "\n",
    "def get_gens(floor):\n",
    "    return [x for x in floor if x.endswith('G')]"
   ]
  },
  {
   "cell_type": "code",
   "execution_count": 4,
   "metadata": {},
   "outputs": [
    {
     "data": {
      "text/plain": [
       "(frozenset(),\n",
       " frozenset({'TmM'}),\n",
       " frozenset({'CmG', 'CmM', 'RuG', 'RuM', 'TmG'}),\n",
       " frozenset({'E', 'PuG', 'PuM', 'SrG', 'SrM'}))"
      ]
     },
     "execution_count": 4,
     "metadata": {},
     "output_type": "execute_result"
    }
   ],
   "source": [
    "initial_state = (\n",
    "    fs(),\n",
    "    fs(['TmM']),\n",
    "    fs(['TmG', 'RuG', 'RuM', 'CmG', 'CmM']),\n",
    "    fs(['E', 'SrG', 'SrM', 'PuG', 'PuM']),\n",
    ")\n",
    "initial_state"
   ]
  },
  {
   "cell_type": "code",
   "execution_count": 5,
   "metadata": {},
   "outputs": [
    {
     "data": {
      "text/plain": [
       "[True, True, True, True]"
      ]
     },
     "execution_count": 5,
     "metadata": {},
     "output_type": "execute_result"
    }
   ],
   "source": [
    "[is_legal(floor) for floor in initial_state]"
   ]
  },
  {
   "cell_type": "code",
   "execution_count": 6,
   "metadata": {},
   "outputs": [
    {
     "data": {
      "text/plain": [
       "True"
      ]
     },
     "execution_count": 6,
     "metadata": {},
     "output_type": "execute_result"
    }
   ],
   "source": [
    "all(is_legal(floor) for floor in initial_state)"
   ]
  },
  {
   "cell_type": "code",
   "execution_count": 63,
   "metadata": {},
   "outputs": [],
   "source": [
    "def iter_next_state(state, elements=elements):\n",
    "    floors = [(i, set(s)) for (i, s) in enumerate(state)]\n",
    "    source_index, source = next((i, f) for (i, f) in floors if 'E' in f)\n",
    "    targets = [(i, f) for (i, f) in floors if i != source_index]\n",
    "    source.remove('E')\n",
    "    \n",
    "    for combo in concat([combinations(source, 2), combinations(source, 1)]):\n",
    "        sc = source.copy()\n",
    "        for item in combo:\n",
    "            sc.discard(item)\n",
    "        if is_legal(sc, elements):\n",
    "            for (target_index, target) in targets:\n",
    "                if abs(target_index - source_index) > 1:\n",
    "                    continue\n",
    "                tc = target.copy()\n",
    "                for item in combo:\n",
    "                    tc.add(item)\n",
    "                tc.add('E')\n",
    "                if is_legal(tc, elements):\n",
    "                    L = sorted([(source_index, sc), (target_index, tc)]\n",
    "                                + [(i, f) for (i, f) in targets if i != target_index])\n",
    "                    yield tuple(fs(y) for (x, y) in L)"
   ]
  },
  {
   "cell_type": "code",
   "execution_count": 64,
   "metadata": {},
   "outputs": [],
   "source": [
    "it = iter_next_state(initial_state)"
   ]
  },
  {
   "cell_type": "code",
   "execution_count": 65,
   "metadata": {},
   "outputs": [
    {
     "data": {
      "text/plain": [
       "(frozenset(),\n",
       " frozenset({'TmM'}),\n",
       " frozenset({'CmG', 'CmM', 'E', 'PuG', 'RuG', 'RuM', 'SrG', 'TmG'}),\n",
       " frozenset({'PuM', 'SrM'}))"
      ]
     },
     "execution_count": 65,
     "metadata": {},
     "output_type": "execute_result"
    }
   ],
   "source": [
    "next(it)"
   ]
  },
  {
   "cell_type": "code",
   "execution_count": 66,
   "metadata": {},
   "outputs": [
    {
     "data": {
      "text/plain": [
       "False"
      ]
     },
     "execution_count": 66,
     "metadata": {},
     "output_type": "execute_result"
    }
   ],
   "source": [
    "is_legal(frozenset({'PuM', 'SrG', 'SrM'}))"
   ]
  },
  {
   "cell_type": "code",
   "execution_count": 67,
   "metadata": {},
   "outputs": [],
   "source": [
    "def bfs(initial_state, goal_test=None, elements=elements):\n",
    "    if goal_test is None:\n",
    "        goal_test = lambda state: not any(state[1:])\n",
    "    frontier = deque([(initial_state, 0)]) # deque of (state, steps)\n",
    "    visited = set()\n",
    "    while frontier:\n",
    "        state, count = frontier.popleft()\n",
    "        if goal_test(state):\n",
    "            print('All done: ', count)\n",
    "            return count\n",
    "        if state in visited:\n",
    "            continue\n",
    "        visited.add(state)\n",
    "        count += 1\n",
    "        for next_state in iter_next_state(state, elements=elements):\n",
    "            if next_state not in visited:\n",
    "                frontier.append((next_state, count))\n"
   ]
  },
  {
   "cell_type": "code",
   "execution_count": 68,
   "metadata": {},
   "outputs": [
    {
     "name": "stdout",
     "output_type": "stream",
     "text": [
      "All done:  37\n",
      "CPU times: user 6.72 s, sys: 55.8 ms, total: 6.77 s\n",
      "Wall time: 6.78 s\n"
     ]
    }
   ],
   "source": [
    "%%time\n",
    "initial_state = (\n",
    "    fs(),\n",
    "    fs(['TmM']),\n",
    "    fs(['TmG', 'RuG', 'RuM', 'CmG', 'CmM']),\n",
    "    fs(['E', 'SrG', 'SrM', 'PuG', 'PuM']),\n",
    ")\n",
    "out = bfs(initial_state)"
   ]
  },
  {
   "cell_type": "markdown",
   "metadata": {},
   "source": [
    "## part 2"
   ]
  },
  {
   "cell_type": "code",
   "execution_count": 70,
   "metadata": {},
   "outputs": [],
   "source": [
    "elements = ['Sr', 'Pu', 'Tm', 'Ru', 'Cm', 'El', 'Di']"
   ]
  },
  {
   "cell_type": "code",
   "execution_count": 71,
   "metadata": {},
   "outputs": [
    {
     "name": "stdout",
     "output_type": "stream",
     "text": [
      "All done:  61\n",
      "CPU times: user 9min 26s, sys: 3.64 s, total: 9min 30s\n",
      "Wall time: 9min 30s\n"
     ]
    }
   ],
   "source": [
    "%%time\n",
    "initial_state = (\n",
    "    fs(),\n",
    "    fs(['TmM']),\n",
    "    fs(['TmG', 'RuG', 'RuM', 'CmG', 'CmM']),\n",
    "    fs(['E', 'SrG', 'SrM', 'PuG', 'PuM', 'ElG', 'ElM', 'DiG', 'DiM']),\n",
    ")\n",
    "out = bfs(initial_state, elements=elements)"
   ]
  }
 ],
 "metadata": {
  "kernelspec": {
   "display_name": "Python 3",
   "language": "python",
   "name": "python3"
  },
  "language_info": {
   "codemirror_mode": {
    "name": "ipython",
    "version": 3
   },
   "file_extension": ".py",
   "mimetype": "text/x-python",
   "name": "python",
   "nbconvert_exporter": "python",
   "pygments_lexer": "ipython3",
   "version": "3.8.5"
  }
 },
 "nbformat": 4,
 "nbformat_minor": 4
}
