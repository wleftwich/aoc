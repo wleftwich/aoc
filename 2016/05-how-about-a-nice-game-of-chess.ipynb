{
 "cells": [
  {
   "cell_type": "code",
   "execution_count": 1,
   "metadata": {},
   "outputs": [],
   "source": [
    "from hashlib import md5"
   ]
  },
  {
   "cell_type": "code",
   "execution_count": 3,
   "metadata": {},
   "outputs": [
    {
     "data": {
      "text/plain": [
       "'7e33f73c16fe310cf86cee267ec60d43'"
      ]
     },
     "execution_count": 3,
     "metadata": {},
     "output_type": "execute_result"
    }
   ],
   "source": [
    "md5(b'cxdnnyjw').hexdigest()"
   ]
  },
  {
   "cell_type": "code",
   "execution_count": 4,
   "metadata": {},
   "outputs": [],
   "source": [
    "puzzle_input = 'cxdnnyjw'"
   ]
  },
  {
   "cell_type": "code",
   "execution_count": 28,
   "metadata": {},
   "outputs": [
    {
     "name": "stdout",
     "output_type": "stream",
     "text": [
      "f 7 7 a 0 e 6 e"
     ]
    }
   ],
   "source": [
    "pwdl = ['_'] * 8\n",
    "print(' '.join(pwdl), end='')\n",
    "i = 0\n",
    "j = 0\n",
    "while '_' in pwdl:\n",
    "    hashed = md5((puzzle_input + str(i)).encode('ascii')).hexdigest()\n",
    "    if hashed.startswith('00000'):\n",
    "        pwdl[j] = hashed[5]\n",
    "        j += 1\n",
    "        out = ' '.join(pwdl)\n",
    "        print(f'\\r{out}', end='')\n",
    "    i += 1"
   ]
  },
  {
   "cell_type": "markdown",
   "metadata": {},
   "source": [
    "## part 2"
   ]
  },
  {
   "cell_type": "code",
   "execution_count": 36,
   "metadata": {},
   "outputs": [
    {
     "name": "stdout",
     "output_type": "stream",
     "text": [
      "9 9 9 8 2 8 e c\n",
      "CPU times: user 25.7 s, sys: 0 ns, total: 25.7 s\n",
      "Wall time: 25.7 s\n"
     ]
    }
   ],
   "source": [
    "%%time\n",
    "pwdl = ['_'] * 8\n",
    "\n",
    "print(' '.join(pwdl), end='')\n",
    "i = 0\n",
    "while '_' in pwdl:\n",
    "    hashed = md5((puzzle_input + str(i)).encode('ascii')).hexdigest()\n",
    "    if hashed.startswith('00000'):\n",
    "        poss = hashed[5]\n",
    "        if poss.isdigit() and (pos := int(poss)) < 8 and pwdl[pos] == '_': # first time I've used walrus operator!\n",
    "            pwdl[pos] = hashed[6]\n",
    "            out = ' '.join(pwdl)\n",
    "            print(f'\\r{out}', end='')\n",
    "    i += 1\n",
    "print()"
   ]
  }
 ],
 "metadata": {
  "kernelspec": {
   "display_name": "Python 3",
   "language": "python",
   "name": "python3"
  },
  "language_info": {
   "codemirror_mode": {
    "name": "ipython",
    "version": 3
   },
   "file_extension": ".py",
   "mimetype": "text/x-python",
   "name": "python",
   "nbconvert_exporter": "python",
   "pygments_lexer": "ipython3",
   "version": "3.8.5"
  }
 },
 "nbformat": 4,
 "nbformat_minor": 4
}
