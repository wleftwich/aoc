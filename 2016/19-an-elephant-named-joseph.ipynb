{
 "cells": [
  {
   "cell_type": "markdown",
   "metadata": {},
   "source": [
    "https://adventofcode.com/2016/day/19#part2"
   ]
  },
  {
   "cell_type": "code",
   "execution_count": 13,
   "metadata": {},
   "outputs": [],
   "source": [
    "puzzle_input = 3014387"
   ]
  },
  {
   "cell_type": "code",
   "execution_count": 24,
   "metadata": {},
   "outputs": [
    {
     "name": "stdout",
     "output_type": "stream",
     "text": [
      "1834471\n",
      "CPU times: user 15.4 s, sys: 25.4 ms, total: 15.5 s\n",
      "Wall time: 15.5 s\n"
     ]
    }
   ],
   "source": [
    "%%time\n",
    "n = puzzle_input\n",
    "a = list(range(1, n+1))\n",
    "i = 0\n",
    "alldone = False\n",
    "while not alldone:\n",
    "    if a[i]:\n",
    "        for j in range(i+1, i+1+n):\n",
    "            k = j % n\n",
    "            if a[k]:\n",
    "                if k == i:\n",
    "                    print(a[i])\n",
    "                    alldone = True\n",
    "                    break\n",
    "                a[k] = 0\n",
    "                break\n",
    "                i = k\n",
    "    i += 1\n",
    "    i = i % n"
   ]
  },
  {
   "cell_type": "markdown",
   "metadata": {},
   "source": [
    "## part 2"
   ]
  },
  {
   "cell_type": "code",
   "execution_count": 23,
   "metadata": {},
   "outputs": [
    {
     "name": "stdout",
     "output_type": "stream",
     "text": [
      "Last elf standing 2\n",
      "CPU times: user 4 ms, sys: 3.63 ms, total: 7.63 ms\n",
      "Wall time: 7.4 ms\n"
     ]
    }
   ],
   "source": [
    "%%time\n",
    "n = 5\n",
    "players = n\n",
    "a = list(range(1, n+1))\n",
    "i = 0\n",
    "j = n // 2 if n % 2 else (n+1) // 2\n",
    "cij = j\n",
    "cji = n - j\n",
    "\n",
    "while players > 2:\n",
    "    a[j] = 0\n",
    "    players -= 1\n",
    "    cij -= 1\n",
    "    i = (i+1) % n\n",
    "    while not a[i]:\n",
    "        i = (i+1) % n\n",
    "    while not a[j]:\n",
    "        j = (j+1) % n\n",
    "    while cji - cij > 1:\n",
    "        j = (j+1) % n\n",
    "        while not a[j]:\n",
    "            j = (j+1) % n\n",
    "        cij += 1\n",
    "        cji -= 1\n",
    "\n",
    "print('Last elf standing', a[i])        "
   ]
  },
  {
   "cell_type": "code",
   "execution_count": 22,
   "metadata": {},
   "outputs": [
    {
     "name": "stdout",
     "output_type": "stream",
     "text": [
      "Last elf standing 1420064\n",
      "CPU times: user 10.6 s, sys: 25.2 ms, total: 10.6 s\n",
      "Wall time: 10.6 s\n"
     ]
    }
   ],
   "source": [
    "%%time\n",
    "n = puzzle_input\n",
    "players = n\n",
    "a = list(range(1, n+1))\n",
    "i = 0\n",
    "j = n // 2 if n % 2 else (n+1) // 2\n",
    "cij = j\n",
    "cji = n - j\n",
    "\n",
    "while players > 2:\n",
    "    a[j] = 0\n",
    "    players -= 1\n",
    "    cij -= 1\n",
    "    i = (i+1) % n\n",
    "    while not a[i]:\n",
    "        i = (i+1) % n\n",
    "    while not a[j]:\n",
    "        j = (j+1) % n\n",
    "    while cji - cij > 1:\n",
    "        j = (j+1) % n\n",
    "        while not a[j]:\n",
    "            j = (j+1) % n\n",
    "        cij += 1\n",
    "        cji -= 1\n",
    "\n",
    "print('Last elf standing', a[i])        "
   ]
  }
 ],
 "metadata": {
  "kernelspec": {
   "display_name": "Python 3",
   "language": "python",
   "name": "python3"
  },
  "language_info": {
   "codemirror_mode": {
    "name": "ipython",
    "version": 3
   },
   "file_extension": ".py",
   "mimetype": "text/x-python",
   "name": "python",
   "nbconvert_exporter": "python",
   "pygments_lexer": "ipython3",
   "version": "3.8.5"
  }
 },
 "nbformat": 4,
 "nbformat_minor": 4
}
