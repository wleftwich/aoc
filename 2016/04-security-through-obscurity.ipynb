{
 "cells": [
  {
   "cell_type": "markdown",
   "metadata": {},
   "source": [
    "https://adventofcode.com/2016/day/4"
   ]
  },
  {
   "cell_type": "code",
   "execution_count": 15,
   "metadata": {},
   "outputs": [],
   "source": [
    "import re\n",
    "from collections import Counter"
   ]
  },
  {
   "cell_type": "code",
   "execution_count": 19,
   "metadata": {},
   "outputs": [],
   "source": [
    "datafile = 'data/04.txt'"
   ]
  },
  {
   "cell_type": "code",
   "execution_count": 20,
   "metadata": {},
   "outputs": [],
   "source": [
    "def parse_line(line):\n",
    "    m = re.search(r'(?P<name>[a-z\\-]+)(?P<sectorid>\\d+)\\[(?P<checksum>[a-z]+)', line)\n",
    "    return m['name'], int(m['sectorid']), m['checksum'] "
   ]
  },
  {
   "cell_type": "code",
   "execution_count": 17,
   "metadata": {},
   "outputs": [],
   "source": [
    "line = 'hqcfqwydw-fbqijys-whqii-huiuqhsx-660[qhiwf]'"
   ]
  },
  {
   "cell_type": "code",
   "execution_count": 21,
   "metadata": {},
   "outputs": [
    {
     "data": {
      "text/plain": [
       "('hqcfqwydw-fbqijys-whqii-huiuqhsx-', 660, 'qhiwf')"
      ]
     },
     "execution_count": 21,
     "metadata": {},
     "output_type": "execute_result"
    }
   ],
   "source": [
    "parse_line(line)"
   ]
  },
  {
   "cell_type": "code",
   "execution_count": 22,
   "metadata": {},
   "outputs": [],
   "source": [
    "with open(datafile) as fh:\n",
    "    data = [parse_line(x) for x in fh]    "
   ]
  },
  {
   "cell_type": "code",
   "execution_count": 23,
   "metadata": {},
   "outputs": [
    {
     "data": {
      "text/plain": [
       "(953,\n",
       " [('hqcfqwydw-fbqijys-whqii-huiuqhsx-', 660, 'qhiwf'),\n",
       "  ('oxjmxdfkd-pzxsbkdbo-erkq-ixyloxqlov-', 913, 'xodkb'),\n",
       "  ('bpvctixr-eaphixr-vgphh-gthtpgrw-', 947, 'smrkl')])"
      ]
     },
     "execution_count": 23,
     "metadata": {},
     "output_type": "execute_result"
    }
   ],
   "source": [
    "len(data), data[:3]"
   ]
  },
  {
   "cell_type": "code",
   "execution_count": 47,
   "metadata": {},
   "outputs": [],
   "source": [
    "def real_sectorid(name, sectorid, checksum):\n",
    "    ctr = Counter(c for c in name if c != '-')\n",
    "    mc = ctr.most_common()\n",
    "    check = ''.join(x for (x, y) in sorted(mc, key = lambda x: (-x[1], x[0]))[:5])\n",
    "    if check == checksum:\n",
    "        return sectorid\n",
    "    else:\n",
    "        return 0"
   ]
  },
  {
   "cell_type": "code",
   "execution_count": 48,
   "metadata": {},
   "outputs": [
    {
     "data": {
      "text/plain": [
       "660"
      ]
     },
     "execution_count": 48,
     "metadata": {},
     "output_type": "execute_result"
    }
   ],
   "source": [
    "real_sectorid(*data[0])"
   ]
  },
  {
   "cell_type": "code",
   "execution_count": 49,
   "metadata": {},
   "outputs": [
    {
     "data": {
      "text/plain": [
       "245102"
      ]
     },
     "execution_count": 49,
     "metadata": {},
     "output_type": "execute_result"
    }
   ],
   "source": [
    "sum(real_sectorid(*x) for x in data)"
   ]
  },
  {
   "cell_type": "code",
   "execution_count": 50,
   "metadata": {},
   "outputs": [
    {
     "data": {
      "text/plain": [
       "449"
      ]
     },
     "execution_count": 50,
     "metadata": {},
     "output_type": "execute_result"
    }
   ],
   "source": [
    "sum(1 for x in data if real_sectorid(*x))"
   ]
  },
  {
   "cell_type": "markdown",
   "metadata": {},
   "source": [
    "## part 2"
   ]
  },
  {
   "cell_type": "code",
   "execution_count": 79,
   "metadata": {},
   "outputs": [],
   "source": [
    "def caesar(s, key):\n",
    "    minord = ord('a')\n",
    "    L = []\n",
    "    for c in s:\n",
    "        if c == '-':\n",
    "            L.append(' ')\n",
    "            continue\n",
    "        L.append(chr((((ord(c) - minord) + key) % 26) + minord))\n",
    "    return ''.join(L)"
   ]
  },
  {
   "cell_type": "code",
   "execution_count": 80,
   "metadata": {},
   "outputs": [
    {
     "data": {
      "text/plain": [
       "'very encrypted name'"
      ]
     },
     "execution_count": 80,
     "metadata": {},
     "output_type": "execute_result"
    }
   ],
   "source": [
    "caesar('qzmt-zixmtkozy-ivhz', 343)"
   ]
  },
  {
   "cell_type": "code",
   "execution_count": 82,
   "metadata": {},
   "outputs": [],
   "source": [
    "goodnames = [x for x in data if real_sectorid(*x)]"
   ]
  },
  {
   "cell_type": "code",
   "execution_count": 84,
   "metadata": {},
   "outputs": [
    {
     "name": "stdout",
     "output_type": "stream",
     "text": [
      "324 northpole object storage \n"
     ]
    }
   ],
   "source": [
    "for name, sectorid, checksum in goodnames:\n",
    "    decoded = caesar(name, sectorid)\n",
    "    if 'north' in decoded:\n",
    "        print(sectorid, decoded)"
   ]
  }
 ],
 "metadata": {
  "kernelspec": {
   "display_name": "Python 3",
   "language": "python",
   "name": "python3"
  },
  "language_info": {
   "codemirror_mode": {
    "name": "ipython",
    "version": 3
   },
   "file_extension": ".py",
   "mimetype": "text/x-python",
   "name": "python",
   "nbconvert_exporter": "python",
   "pygments_lexer": "ipython3",
   "version": "3.8.5"
  }
 },
 "nbformat": 4,
 "nbformat_minor": 4
}
