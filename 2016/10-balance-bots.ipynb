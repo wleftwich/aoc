{
 "cells": [
  {
   "cell_type": "markdown",
   "metadata": {},
   "source": [
    "https://adventofcode.com/2016/day/10"
   ]
  },
  {
   "cell_type": "code",
   "execution_count": 54,
   "metadata": {},
   "outputs": [],
   "source": [
    "import re\n",
    "from collections import defaultdict\n",
    "\n",
    "import networkx as nx"
   ]
  },
  {
   "cell_type": "code",
   "execution_count": 2,
   "metadata": {},
   "outputs": [],
   "source": [
    "datafile = 'data/10.txt'"
   ]
  },
  {
   "cell_type": "code",
   "execution_count": 3,
   "metadata": {},
   "outputs": [],
   "source": [
    "with open(datafile) as fh:\n",
    "    instructions = [y for y in (x.strip() for x in fh) if y]"
   ]
  },
  {
   "cell_type": "code",
   "execution_count": 72,
   "metadata": {},
   "outputs": [],
   "source": [
    "def make_graph(instructions):\n",
    "    g = nx.DiGraph()\n",
    "    for line in instructions:\n",
    "        args = re.findall(r'[^\\s]+ \\d+', line)\n",
    "        if args[0].startswith('value'):\n",
    "            chip = int(args[0].split()[1])\n",
    "            node = args[1]\n",
    "            g.add_node(node)\n",
    "            g.nodes[node].setdefault('chips', set()).add(chip)\n",
    "        else:\n",
    "            node, lo, hi = args\n",
    "            g.add_edge(node, lo, hilo='lo')\n",
    "            g.add_edge(node, hi, hilo='hi')\n",
    "    return g"
   ]
  },
  {
   "cell_type": "code",
   "execution_count": 73,
   "metadata": {},
   "outputs": [],
   "source": [
    "g = make_graph(instructions)"
   ]
  },
  {
   "cell_type": "code",
   "execution_count": 74,
   "metadata": {},
   "outputs": [],
   "source": [
    "def hilo_neighbors(g, node):\n",
    "    D = {}\n",
    "    for nabe in g.neighbors(node):\n",
    "        D[g[node][nabe]['hilo']] = nabe\n",
    "    return D"
   ]
  },
  {
   "cell_type": "code",
   "execution_count": 75,
   "metadata": {},
   "outputs": [
    {
     "name": "stdout",
     "output_type": "stream",
     "text": [
      "bot 13 {31, 47} {'lo': 'bot 171', 'hi': 'bot 17'}\n"
     ]
    }
   ],
   "source": [
    "for node in g:\n",
    "    chips = g.nodes[node].get('chips', set())\n",
    "    if len(chips) > 1:\n",
    "        print(node, chips, hilo_neighbors(g, node))"
   ]
  },
  {
   "cell_type": "code",
   "execution_count": 11,
   "metadata": {},
   "outputs": [],
   "source": [
    "def disburse(g, node):\n",
    "    chips = g.nodes[node].get('chips', set())\n",
    "    if len(chips) == 2:\n",
    "        lochip, hichip = sorted([chips.pop(), chips.pop()])\n",
    "        nabes = hilo_neighbors(g, node)\n",
    "        g.nodes[nabes['lo']].setdefault('chips', set()).add(lochip)\n",
    "        g.nodes[nabes['hi']].setdefault('chips', set()).add(hichip)\n",
    "        return True\n",
    "    else:\n",
    "        return False"
   ]
  },
  {
   "cell_type": "code",
   "execution_count": 13,
   "metadata": {},
   "outputs": [],
   "source": [
    "def cycle(g):\n",
    "    return sum(disburse(g, node) for node in g)"
   ]
  },
  {
   "cell_type": "code",
   "execution_count": 77,
   "metadata": {},
   "outputs": [
    {
     "data": {
      "text/plain": [
       "1"
      ]
     },
     "execution_count": 77,
     "metadata": {},
     "output_type": "execute_result"
    }
   ],
   "source": [
    "g = make_graph(instructions)\n",
    "\n",
    "sum(len(g.nodes[node].get('chips', [])) > 1 for node in g)"
   ]
  },
  {
   "cell_type": "code",
   "execution_count": 78,
   "metadata": {},
   "outputs": [
    {
     "name": "stdout",
     "output_type": "stream",
     "text": [
      "bot 86\n"
     ]
    }
   ],
   "source": [
    "g = make_graph(instructions)\n",
    "while sum(len(g.nodes[node].get('chips', set())) > 1 for node in g):\n",
    "    found = False\n",
    "    for node in g:\n",
    "        chips = g.nodes[node].get('chips', set())\n",
    "        if chips == {61, 17}:\n",
    "            print(node)\n",
    "            found = True\n",
    "            break\n",
    "        elif len(chips) == 2:\n",
    "            disburse(g, node)\n",
    "            break\n",
    "    if found:\n",
    "        break\n",
    "else:\n",
    "    print('nope')"
   ]
  },
  {
   "cell_type": "markdown",
   "metadata": {},
   "source": [
    "## part 2"
   ]
  },
  {
   "cell_type": "code",
   "execution_count": 79,
   "metadata": {},
   "outputs": [],
   "source": [
    "g = make_graph(instructions)\n",
    "while cycle(g):\n",
    "    pass"
   ]
  },
  {
   "cell_type": "code",
   "execution_count": 81,
   "metadata": {},
   "outputs": [
    {
     "data": {
      "text/plain": [
       "[{67}, {11}, {31}]"
      ]
     },
     "execution_count": 81,
     "metadata": {},
     "output_type": "execute_result"
    }
   ],
   "source": [
    "[g.nodes[x].get('chips') for x in ('output 0', 'output 1', 'output 2')]"
   ]
  },
  {
   "cell_type": "code",
   "execution_count": 82,
   "metadata": {},
   "outputs": [
    {
     "data": {
      "text/plain": [
       "22847"
      ]
     },
     "execution_count": 82,
     "metadata": {},
     "output_type": "execute_result"
    }
   ],
   "source": [
    "67 * 11 * 31"
   ]
  }
 ],
 "metadata": {
  "kernelspec": {
   "display_name": "Python 3",
   "language": "python",
   "name": "python3"
  },
  "language_info": {
   "codemirror_mode": {
    "name": "ipython",
    "version": 3
   },
   "file_extension": ".py",
   "mimetype": "text/x-python",
   "name": "python",
   "nbconvert_exporter": "python",
   "pygments_lexer": "ipython3",
   "version": "3.8.5"
  }
 },
 "nbformat": 4,
 "nbformat_minor": 4
}
