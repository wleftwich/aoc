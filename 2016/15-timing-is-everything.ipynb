{
 "cells": [
  {
   "cell_type": "markdown",
   "metadata": {},
   "source": [
    "https://adventofcode.com/2016/day/15"
   ]
  },
  {
   "cell_type": "code",
   "execution_count": 1,
   "metadata": {},
   "outputs": [],
   "source": [
    "puzzle_input = \"\"\"\\\n",
    "Disc #1 has 7 positions; at time=0, it is at position 0.\n",
    "Disc #2 has 13 positions; at time=0, it is at position 0.\n",
    "Disc #3 has 3 positions; at time=0, it is at position 2.\n",
    "Disc #4 has 5 positions; at time=0, it is at position 2.\n",
    "Disc #5 has 17 positions; at time=0, it is at position 0.\n",
    "Disc #6 has 19 positions; at time=0, it is at position 7.\n",
    "\"\"\""
   ]
  },
  {
   "cell_type": "code",
   "execution_count": 6,
   "metadata": {},
   "outputs": [
    {
     "name": "stdout",
     "output_type": "stream",
     "text": [
      "121834\n",
      "CPU times: user 13.6 ms, sys: 0 ns, total: 13.6 ms\n",
      "Wall time: 13.6 ms\n"
     ]
    }
   ],
   "source": [
    "%%time\n",
    "\n",
    "for i in range(7 * 13 * 3 * 5 * 17 * 19):\n",
    "    if (\n",
    "        i % 7 == 6 and\n",
    "        i % 13 == 11 and\n",
    "        i % 3 == 1 and\n",
    "        i % 5 == 4 and\n",
    "        i % 17 == 12 and\n",
    "        i % 19 == 6\n",
    "    ):\n",
    "        print(i)\n",
    "        break"
   ]
  },
  {
   "cell_type": "markdown",
   "metadata": {},
   "source": [
    "## part 2"
   ]
  },
  {
   "cell_type": "code",
   "execution_count": 8,
   "metadata": {},
   "outputs": [
    {
     "name": "stdout",
     "output_type": "stream",
     "text": [
      "3208099\n",
      "CPU times: user 280 ms, sys: 0 ns, total: 280 ms\n",
      "Wall time: 279 ms\n"
     ]
    }
   ],
   "source": [
    "%%time\n",
    "\n",
    "for i in range(7 * 13 * 3 * 5 * 17 * 19 * 11):\n",
    "    if (\n",
    "        i % 7 == 6 and\n",
    "        i % 13 == 11 and\n",
    "        i % 3 == 1 and\n",
    "        i % 5 == 4 and\n",
    "        i % 17 == 12 and\n",
    "        i % 19 == 6 and\n",
    "        i % 11 == 4\n",
    "    ):\n",
    "        print(i)\n",
    "        break"
   ]
  },
  {
   "cell_type": "code",
   "execution_count": null,
   "metadata": {},
   "outputs": [],
   "source": []
  }
 ],
 "metadata": {
  "kernelspec": {
   "display_name": "Python 3",
   "language": "python",
   "name": "python3"
  },
  "language_info": {
   "codemirror_mode": {
    "name": "ipython",
    "version": 3
   },
   "file_extension": ".py",
   "mimetype": "text/x-python",
   "name": "python",
   "nbconvert_exporter": "python",
   "pygments_lexer": "ipython3",
   "version": "3.8.5"
  }
 },
 "nbformat": 4,
 "nbformat_minor": 4
}
