{
 "cells": [
  {
   "cell_type": "markdown",
   "metadata": {},
   "source": [
    "https://adventofcode.com/2016/day/2"
   ]
  },
  {
   "cell_type": "code",
   "execution_count": 1,
   "metadata": {},
   "outputs": [],
   "source": [
    "datafile = 'data/02.txt'"
   ]
  },
  {
   "cell_type": "code",
   "execution_count": 2,
   "metadata": {},
   "outputs": [],
   "source": [
    "with open(datafile) as fh:\n",
    "    data = [y for y in (x.strip() for x in fh) if y]"
   ]
  },
  {
   "cell_type": "code",
   "execution_count": 3,
   "metadata": {},
   "outputs": [
    {
     "data": {
      "text/plain": [
       "5"
      ]
     },
     "execution_count": 3,
     "metadata": {},
     "output_type": "execute_result"
    }
   ],
   "source": [
    "len(data)"
   ]
  },
  {
   "cell_type": "code",
   "execution_count": 15,
   "metadata": {},
   "outputs": [],
   "source": [
    "button_map = {\n",
    "    0+0j: 5,\n",
    "    1+0j: 6,\n",
    "    1+1j: 3,\n",
    "    0+1j: 2,\n",
    "    -1+1j: 1,\n",
    "    -1+0j: 4,\n",
    "    -1-1j: 7,\n",
    "    0-1j: 8,\n",
    "    1-1j: 9\n",
    "}"
   ]
  },
  {
   "cell_type": "code",
   "execution_count": 16,
   "metadata": {},
   "outputs": [],
   "source": [
    "drxns = {\n",
    "    'U': 0+1j,\n",
    "    'D': 0-1j,\n",
    "    'L': -1+0j,\n",
    "    'R': 1+0j\n",
    "}"
   ]
  },
  {
   "cell_type": "code",
   "execution_count": 17,
   "metadata": {},
   "outputs": [],
   "source": [
    "def next_button(pos, deltas):\n",
    "    for delta in deltas:\n",
    "        nextpos = pos + drxns[delta]\n",
    "        if nextpos in button_map:\n",
    "            pos = nextpos\n",
    "    return pos"
   ]
  },
  {
   "cell_type": "code",
   "execution_count": 18,
   "metadata": {},
   "outputs": [
    {
     "name": "stdout",
     "output_type": "stream",
     "text": [
      "9\n",
      "2\n",
      "4\n",
      "3\n",
      "5\n"
     ]
    }
   ],
   "source": [
    "pos = 0+0j\n",
    "for deltas in data:\n",
    "    pos = next_button(pos, deltas)\n",
    "    print(button_map[pos])"
   ]
  },
  {
   "cell_type": "markdown",
   "metadata": {},
   "source": [
    "## part 2"
   ]
  },
  {
   "cell_type": "code",
   "execution_count": 19,
   "metadata": {},
   "outputs": [],
   "source": [
    "button_map = {\n",
    "    0+0j: '7',\n",
    "    1+0j: '8',\n",
    "    2+0j: '9',\n",
    "    1+1j: '4',\n",
    "    0+1j: '3',\n",
    "    0+2j: '1',\n",
    "    -1+1j: '2',\n",
    "    -1+0j: '6',\n",
    "    -2+0j: '5',\n",
    "    -1-1j: 'A',\n",
    "    0-1j: 'B',\n",
    "    0-2j: 'D',\n",
    "    1-1j: 'C'\n",
    "}"
   ]
  },
  {
   "cell_type": "code",
   "execution_count": 20,
   "metadata": {},
   "outputs": [
    {
     "name": "stdout",
     "output_type": "stream",
     "text": [
      "C\n",
      "1\n",
      "A\n",
      "8\n",
      "8\n"
     ]
    }
   ],
   "source": [
    "pos = 0+0j\n",
    "for deltas in data:\n",
    "    pos = next_button(pos, deltas)\n",
    "    print(button_map[pos])"
   ]
  },
  {
   "cell_type": "code",
   "execution_count": null,
   "metadata": {},
   "outputs": [],
   "source": []
  }
 ],
 "metadata": {
  "kernelspec": {
   "display_name": "Python 3",
   "language": "python",
   "name": "python3"
  },
  "language_info": {
   "codemirror_mode": {
    "name": "ipython",
    "version": 3
   },
   "file_extension": ".py",
   "mimetype": "text/x-python",
   "name": "python",
   "nbconvert_exporter": "python",
   "pygments_lexer": "ipython3",
   "version": "3.8.5"
  }
 },
 "nbformat": 4,
 "nbformat_minor": 4
}
