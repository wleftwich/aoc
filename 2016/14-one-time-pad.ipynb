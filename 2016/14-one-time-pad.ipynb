{
 "cells": [
  {
   "cell_type": "markdown",
   "metadata": {},
   "source": [
    "https://adventofcode.com/2016/day/14"
   ]
  },
  {
   "cell_type": "code",
   "execution_count": 1,
   "metadata": {},
   "outputs": [],
   "source": [
    "import re\n",
    "from collections import deque\n",
    "from hashlib import md5\n",
    "from itertools import count\n",
    "from toolz import take"
   ]
  },
  {
   "cell_type": "code",
   "execution_count": 2,
   "metadata": {},
   "outputs": [],
   "source": [
    "puzzle_input = b'zpqevtbw'"
   ]
  },
  {
   "cell_type": "code",
   "execution_count": 3,
   "metadata": {},
   "outputs": [
    {
     "data": {
      "text/plain": [
       "'900150983cd24fb0d6963f7d28e17f72'"
      ]
     },
     "execution_count": 3,
     "metadata": {},
     "output_type": "execute_result"
    }
   ],
   "source": [
    "md5(b'abc').hexdigest()"
   ]
  },
  {
   "cell_type": "code",
   "execution_count": 4,
   "metadata": {},
   "outputs": [],
   "source": [
    "triple_re = re.compile(r'(.)\\1\\1')\n",
    "quintuple_re = re.compile(r'(.)\\1\\1\\1\\1')"
   ]
  },
  {
   "cell_type": "code",
   "execution_count": 36,
   "metadata": {},
   "outputs": [],
   "source": [
    "def key_indices(saltbytes, n=64):\n",
    "    hashes = ((n, md5(saltbytes + str(n).encode('ascii')).hexdigest()) for n in count())\n",
    "    candidates = ((n, triple_re.search(h)) for (n, h) in hashes)\n",
    "    matches = ((n, m.group(1), quintuple_re.findall(m.string)) for (n, m) in candidates if m is not None)\n",
    "    indices = []\n",
    "    q = deque()\n",
    "    while True:\n",
    "        a, b, c = next(matches)\n",
    "        q.append((a, b, c))\n",
    "        if a > 1100:\n",
    "            break\n",
    "    while len(indices) < n:\n",
    "        i, triple, quintuple = q.popleft()\n",
    "        while q[-1][0] < i + 1100:\n",
    "            q.append(next(matches))\n",
    "        if any(((x < i + 1001) and z and (triple in z)) for (x,y,z) in q):\n",
    "            indices.append(i)\n",
    "    return indices\n",
    "        "
   ]
  },
  {
   "cell_type": "code",
   "execution_count": 40,
   "metadata": {},
   "outputs": [
    {
     "data": {
      "text/plain": [
       "22728"
      ]
     },
     "execution_count": 40,
     "metadata": {},
     "output_type": "execute_result"
    }
   ],
   "source": [
    "ki = key_indices(b'abc')\n",
    "ki[-1]"
   ]
  },
  {
   "cell_type": "code",
   "execution_count": 41,
   "metadata": {},
   "outputs": [
    {
     "data": {
      "text/plain": [
       "16106"
      ]
     },
     "execution_count": 41,
     "metadata": {},
     "output_type": "execute_result"
    }
   ],
   "source": [
    "ki = key_indices(b'zpqevtbw')\n",
    "ki[-1]"
   ]
  },
  {
   "cell_type": "markdown",
   "metadata": {},
   "source": [
    "## part 2"
   ]
  },
  {
   "cell_type": "code",
   "execution_count": 44,
   "metadata": {},
   "outputs": [],
   "source": [
    "def stretched_key_indices(saltbytes, n=64):\n",
    "    hashes = ((n, stretched_md5(saltbytes + str(n).encode('ascii'))) for n in count())\n",
    "    candidates = ((n, triple_re.search(h)) for (n, h) in hashes)\n",
    "    matches = ((n, m.group(1), quintuple_re.findall(m.string)) for (n, m) in candidates if m is not None)\n",
    "    indices = []\n",
    "    q = deque()\n",
    "    while True:\n",
    "        a, b, c = next(matches)\n",
    "        q.append((a, b, c))\n",
    "        if a > 1100:\n",
    "            break\n",
    "    while len(indices) < n:\n",
    "        i, triple, quintuple = q.popleft()\n",
    "        while q[-1][0] < i + 1100:\n",
    "            q.append(next(matches))\n",
    "        if any(((x < i + 1001) and z and (triple in z)) for (x,y,z) in q):\n",
    "            indices.append(i)\n",
    "    return indices\n",
    "\n",
    "def stretched_md5(s):\n",
    "    h = md5(s).hexdigest()\n",
    "    for _ in range(2016):\n",
    "        h = md5(h.encode('ascii')).hexdigest()\n",
    "    return h\n",
    "        "
   ]
  },
  {
   "cell_type": "code",
   "execution_count": 45,
   "metadata": {},
   "outputs": [
    {
     "name": "stdout",
     "output_type": "stream",
     "text": [
      "CPU times: user 27.5 s, sys: 0 ns, total: 27.5 s\n",
      "Wall time: 27.5 s\n"
     ]
    },
    {
     "data": {
      "text/plain": [
       "22551"
      ]
     },
     "execution_count": 45,
     "metadata": {},
     "output_type": "execute_result"
    }
   ],
   "source": [
    "%%time\n",
    "ki = stretched_key_indices(b'abc')\n",
    "ki[-1]"
   ]
  },
  {
   "cell_type": "code",
   "execution_count": 46,
   "metadata": {},
   "outputs": [
    {
     "name": "stdout",
     "output_type": "stream",
     "text": [
      "CPU times: user 27.4 s, sys: 0 ns, total: 27.4 s\n",
      "Wall time: 27.4 s\n"
     ]
    },
    {
     "data": {
      "text/plain": [
       "22423"
      ]
     },
     "execution_count": 46,
     "metadata": {},
     "output_type": "execute_result"
    }
   ],
   "source": [
    "%%time\n",
    "ki = stretched_key_indices(b'zpqevtbw')\n",
    "ki[-1]"
   ]
  },
  {
   "cell_type": "code",
   "execution_count": null,
   "metadata": {},
   "outputs": [],
   "source": []
  },
  {
   "cell_type": "code",
   "execution_count": null,
   "metadata": {},
   "outputs": [],
   "source": []
  }
 ],
 "metadata": {
  "kernelspec": {
   "display_name": "Python 3",
   "language": "python",
   "name": "python3"
  },
  "language_info": {
   "codemirror_mode": {
    "name": "ipython",
    "version": 3
   },
   "file_extension": ".py",
   "mimetype": "text/x-python",
   "name": "python",
   "nbconvert_exporter": "python",
   "pygments_lexer": "ipython3",
   "version": "3.8.5"
  }
 },
 "nbformat": 4,
 "nbformat_minor": 4
}
