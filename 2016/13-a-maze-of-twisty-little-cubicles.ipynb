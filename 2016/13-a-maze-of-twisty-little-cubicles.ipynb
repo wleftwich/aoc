{
 "cells": [
  {
   "cell_type": "markdown",
   "metadata": {},
   "source": [
    "https://adventofcode.com/2016/day/13"
   ]
  },
  {
   "cell_type": "code",
   "execution_count": 32,
   "metadata": {},
   "outputs": [],
   "source": [
    "from functools import lru_cache\n",
    "from collections import deque"
   ]
  },
  {
   "cell_type": "code",
   "execution_count": 33,
   "metadata": {},
   "outputs": [],
   "source": [
    "puzzle_input = 1362\n",
    "start = (1, 1)\n",
    "finish = (31, 39)"
   ]
  },
  {
   "cell_type": "code",
   "execution_count": 28,
   "metadata": {},
   "outputs": [],
   "source": [
    "@lru_cache\n",
    "def is_open(p, key=puzzle_input):\n",
    "    x, y = p\n",
    "    t = x * x + 3 * x + 2 * x * y + y + y * y + key\n",
    "    ones = sum(c == '1' for c in '{0:b}'.format(t))\n",
    "    return not (ones % 2)\n",
    "\n",
    "def nabes(p, target=None):\n",
    "    x, y = p\n",
    "    deltas = ((1, 0), (0, 1), (-1, 0), (0, -1))\n",
    "    uvs = [(x + xd, y + yd) for (xd, yd) in deltas]\n",
    "    if target is not None:\n",
    "        uvs.sort(key = lambda q: abs(q[0] - target[0]) + abs(q[1] - target[1]))\n",
    "    return [(u, v) for (u, v) in uvs if u >= 0 and v >= 0]"
   ]
  },
  {
   "cell_type": "code",
   "execution_count": 24,
   "metadata": {},
   "outputs": [
    {
     "data": {
      "text/plain": [
       "True"
      ]
     },
     "execution_count": 24,
     "metadata": {},
     "output_type": "execute_result"
    }
   ],
   "source": [
    "is_open((1,1))"
   ]
  },
  {
   "cell_type": "code",
   "execution_count": 30,
   "metadata": {},
   "outputs": [
    {
     "data": {
      "text/plain": [
       "[(6, 5), (5, 4), (5, 6), (4, 5)]"
      ]
     },
     "execution_count": 30,
     "metadata": {},
     "output_type": "execute_result"
    }
   ],
   "source": [
    "nabes((5, 5), (10, 1))"
   ]
  },
  {
   "cell_type": "code",
   "execution_count": 35,
   "metadata": {},
   "outputs": [],
   "source": [
    "def min_steps(start=start, finish=finish):\n",
    "    q = deque([(start, 0)])\n",
    "    visited = set()\n",
    "    while q:\n",
    "        p, steps = q.popleft()\n",
    "        if p == finish:\n",
    "            return steps\n",
    "        if p in visited:\n",
    "            continue\n",
    "        visited.add(p)\n",
    "        steps += 1\n",
    "        for nabe in nabes(p, finish):\n",
    "            if is_open(nabe) and nabe not in visited:\n",
    "                q.append((nabe, steps))"
   ]
  },
  {
   "cell_type": "code",
   "execution_count": 36,
   "metadata": {},
   "outputs": [
    {
     "data": {
      "text/plain": [
       "82"
      ]
     },
     "execution_count": 36,
     "metadata": {},
     "output_type": "execute_result"
    }
   ],
   "source": [
    "min_steps()"
   ]
  },
  {
   "cell_type": "markdown",
   "metadata": {},
   "source": [
    "## part 2"
   ]
  },
  {
   "cell_type": "code",
   "execution_count": 38,
   "metadata": {},
   "outputs": [],
   "source": [
    "def locs_in_n_steps(start=start, nsteps = 50):\n",
    "    q = deque([(start, 0)])\n",
    "    visited = set()\n",
    "    while q:\n",
    "        p, steps = q.popleft()\n",
    "        if steps > nsteps or p in visited:\n",
    "            continue\n",
    "        visited.add(p)\n",
    "        steps += 1\n",
    "        for nabe in nabes(p, finish):\n",
    "            if is_open(nabe) and nabe not in visited:\n",
    "                q.append((nabe, steps))\n",
    "    return len(visited)"
   ]
  },
  {
   "cell_type": "code",
   "execution_count": 39,
   "metadata": {},
   "outputs": [
    {
     "name": "stdout",
     "output_type": "stream",
     "text": [
      "CPU times: user 1.44 ms, sys: 0 ns, total: 1.44 ms\n",
      "Wall time: 1.45 ms\n"
     ]
    },
    {
     "data": {
      "text/plain": [
       "138"
      ]
     },
     "execution_count": 39,
     "metadata": {},
     "output_type": "execute_result"
    }
   ],
   "source": [
    "%%time\n",
    "locs_in_n_steps()"
   ]
  }
 ],
 "metadata": {
  "kernelspec": {
   "display_name": "Python 3",
   "language": "python",
   "name": "python3"
  },
  "language_info": {
   "codemirror_mode": {
    "name": "ipython",
    "version": 3
   },
   "file_extension": ".py",
   "mimetype": "text/x-python",
   "name": "python",
   "nbconvert_exporter": "python",
   "pygments_lexer": "ipython3",
   "version": "3.8.5"
  }
 },
 "nbformat": 4,
 "nbformat_minor": 4
}
