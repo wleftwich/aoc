{
 "cells": [
  {
   "cell_type": "markdown",
   "metadata": {},
   "source": [
    "https://adventofcode.com/2016/day/21"
   ]
  },
  {
   "cell_type": "code",
   "execution_count": 21,
   "metadata": {},
   "outputs": [],
   "source": [
    "datafile = 'data/21.txt'"
   ]
  },
  {
   "cell_type": "code",
   "execution_count": 22,
   "metadata": {},
   "outputs": [],
   "source": [
    "with open(datafile) as fh:\n",
    "    commands = [y for y in (x.strip() for x in fh) if y]"
   ]
  },
  {
   "cell_type": "code",
   "execution_count": 46,
   "metadata": {},
   "outputs": [],
   "source": [
    "def apply_cmd(cmd, L):\n",
    "    tokens = cmd.split()\n",
    "\n",
    "    if tokens[:2] == ['swap', 'position']:\n",
    "        i, j = int(tokens[2]), int(tokens[5])\n",
    "        L[i], L[j] = L[j], L[i]\n",
    "\n",
    "    elif tokens[:2] == ['swap', 'letter']:\n",
    "        a, b = tokens[2], tokens[5]\n",
    "        i, j = L.index(a), L.index(b)\n",
    "        L[i], L[j] = L[j], L[i]\n",
    "        \n",
    "    elif tokens[:2] == ['rotate', 'right']:\n",
    "        i = int(tokens[2])\n",
    "        L = L[-i:] + L[:-i]\n",
    "    \n",
    "    elif tokens[:2] == ['rotate', 'left']:\n",
    "        i = int(tokens[2])\n",
    "        L = L[i:] + L[:i]\n",
    "    \n",
    "    elif tokens[:2] == ['rotate', 'based']:\n",
    "        a = tokens[-1]\n",
    "        i = L.index(a)\n",
    "        L = L[-1:] + L[:-1]\n",
    "        L = L[-i:] + L[:-i]\n",
    "        if i > 3:\n",
    "            L = L[-1:] + L[:-1]\n",
    "    \n",
    "    elif tokens[0] == 'reverse':\n",
    "        i, j = int(tokens[2]), int(tokens[4])\n",
    "        j += 1\n",
    "        L[i:j] = reversed(L[i:j])\n",
    "    \n",
    "    elif tokens[0] == 'move':\n",
    "        i, j = int(tokens[2]), int(tokens[5])\n",
    "        a = L.pop(i)\n",
    "        L.insert(j, a)\n",
    "    \n",
    "    else:\n",
    "        raise ValueError(\"Unknown command: \" + cmd)\n",
    "\n",
    "    return L\n",
    "    \n"
   ]
  },
  {
   "cell_type": "code",
   "execution_count": 48,
   "metadata": {},
   "outputs": [
    {
     "name": "stdout",
     "output_type": "stream",
     "text": [
      "bgfacdeh\n",
      "CPU times: user 500 µs, sys: 55 µs, total: 555 µs\n",
      "Wall time: 663 µs\n"
     ]
    }
   ],
   "source": [
    "%%time\n",
    "L = list('abcdefgh')\n",
    "for cmd in commands:\n",
    "    try:\n",
    "        L = apply_cmd(cmd, L)\n",
    "    except:\n",
    "        print(cmd, L)\n",
    "        raise\n",
    "    if len(L) < 8:\n",
    "        print(cmd, L)\n",
    "        break\n",
    "print(''.join(L))"
   ]
  },
  {
   "cell_type": "code",
   "execution_count": 50,
   "metadata": {},
   "outputs": [
    {
     "data": {
      "text/plain": [
       "40320"
      ]
     },
     "execution_count": 50,
     "metadata": {},
     "output_type": "execute_result"
    }
   ],
   "source": [
    "8*7*6*5*4*3*2"
   ]
  },
  {
   "cell_type": "markdown",
   "metadata": {},
   "source": [
    "## part 2"
   ]
  },
  {
   "cell_type": "code",
   "execution_count": 57,
   "metadata": {},
   "outputs": [
    {
     "name": "stdout",
     "output_type": "stream",
     "text": [
      "('b', 'd', 'g', 'h', 'e', 'a', 'c', 'f')\n",
      "CPU times: user 1.03 s, sys: 0 ns, total: 1.03 s\n",
      "Wall time: 1.02 s\n"
     ]
    }
   ],
   "source": [
    "%%time\n",
    "for p in permutations('abcdefgh'):\n",
    "    L = list(p)\n",
    "    for cmd in commands:\n",
    "        L = apply_cmd(cmd, L)\n",
    "    if L == list('fbgdceah'):\n",
    "        print(p)\n",
    "        break"
   ]
  }
 ],
 "metadata": {
  "kernelspec": {
   "display_name": "Python 3",
   "language": "python",
   "name": "python3"
  },
  "language_info": {
   "codemirror_mode": {
    "name": "ipython",
    "version": 3
   },
   "file_extension": ".py",
   "mimetype": "text/x-python",
   "name": "python",
   "nbconvert_exporter": "python",
   "pygments_lexer": "ipython3",
   "version": "3.8.5"
  }
 },
 "nbformat": 4,
 "nbformat_minor": 4
}
