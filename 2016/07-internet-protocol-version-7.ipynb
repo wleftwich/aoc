{
 "cells": [
  {
   "cell_type": "markdown",
   "metadata": {},
   "source": [
    "https://adventofcode.com/2016/day/7"
   ]
  },
  {
   "cell_type": "code",
   "execution_count": 1,
   "metadata": {},
   "outputs": [],
   "source": [
    "datafile = 'data/07.txt'"
   ]
  },
  {
   "cell_type": "code",
   "execution_count": 2,
   "metadata": {},
   "outputs": [],
   "source": [
    "with open(datafile) as fh:\n",
    "    data = [y for y in (x.strip() for x in fh) if y]"
   ]
  },
  {
   "cell_type": "code",
   "execution_count": 3,
   "metadata": {},
   "outputs": [
    {
     "data": {
      "text/plain": [
       "(2000,\n",
       " ['xdsqxnovprgovwzkus[fmadbfsbqwzzrzrgdg]aeqornszgvbizdm',\n",
       "  'itgslvpxoqqakli[arktzcssgkxktejbno]wsgkbwwtbmfnddt[zblrboqsvezcgfmfvcz]iwyhyatqetsreeyhh',\n",
       "  'pyxuijrepsmyiacl[rskpebsqdfctoqg]hbwageeiufvcmuk[wfvdhxyzmfgmcphpfnc]aotmbcnntmdltjxuusn'])"
      ]
     },
     "execution_count": 3,
     "metadata": {},
     "output_type": "execute_result"
    }
   ],
   "source": [
    "len(data), data[:3]"
   ]
  },
  {
   "cell_type": "code",
   "execution_count": 7,
   "metadata": {},
   "outputs": [],
   "source": [
    "def is_abba(s):\n",
    "    return len(s) == 4 and s[0] == s[3] and s[1] == s[2] and s[0] != s[1]\n",
    "\n",
    "def supports_tls(s):\n",
    "    bracket_depth = 0\n",
    "    buffer = []\n",
    "    good_abba = False\n",
    "    for c in s:\n",
    "        if c == '[':\n",
    "            bracket_depth += 1\n",
    "            buffer = []\n",
    "            continue\n",
    "        if c == ']':\n",
    "            bracket_depth -= 1\n",
    "            buffer = []\n",
    "            if bracket_depth < 0:\n",
    "                raise ValueError('Too many right brackets in %s' % s)\n",
    "            continue\n",
    "        buffer.append(c)\n",
    "        if is_abba(buffer[-4:]):\n",
    "            if bracket_depth:\n",
    "                return False\n",
    "            good_abba = True\n",
    "            buffer = []\n",
    "    return good_abba"
   ]
  },
  {
   "cell_type": "code",
   "execution_count": 8,
   "metadata": {},
   "outputs": [
    {
     "data": {
      "text/plain": [
       "115"
      ]
     },
     "execution_count": 8,
     "metadata": {},
     "output_type": "execute_result"
    }
   ],
   "source": [
    "sum(supports_tls(ip) for ip in data)"
   ]
  },
  {
   "cell_type": "markdown",
   "metadata": {},
   "source": [
    "## part 2"
   ]
  },
  {
   "cell_type": "code",
   "execution_count": 17,
   "metadata": {},
   "outputs": [],
   "source": [
    "def get_aba(s):\n",
    "    if len(s) >= 3 and s[-1] == s[-3] and s[-1] != s[-2]:\n",
    "        return ''.join(s[-3:])\n",
    "    else:\n",
    "        return ''\n",
    "\n",
    "def supports_ssl(s):\n",
    "    bracket_depth = 0\n",
    "    buffer = []\n",
    "    abas = set()\n",
    "    babs = set()\n",
    "    for c in s:\n",
    "        if c == '[':\n",
    "            bracket_depth += 1\n",
    "            buffer = []\n",
    "            continue\n",
    "        if c == ']':\n",
    "            bracket_depth -= 1\n",
    "            buffer = []\n",
    "            if bracket_depth < 0:\n",
    "                raise ValueError('Too many right brackets in %s' % s)\n",
    "            continue\n",
    "        buffer.append(c)\n",
    "        aba = get_aba(buffer)\n",
    "        if not aba:\n",
    "            continue\n",
    "        if bracket_depth:\n",
    "            bab = aba[1] + aba[0] + aba[1]\n",
    "            if bab in abas:\n",
    "                return True\n",
    "            babs.add(bab)\n",
    "        else:\n",
    "            if aba in babs:\n",
    "                return True\n",
    "            abas.add(aba)\n",
    "    return False"
   ]
  },
  {
   "cell_type": "code",
   "execution_count": 18,
   "metadata": {},
   "outputs": [
    {
     "data": {
      "text/plain": [
       "231"
      ]
     },
     "execution_count": 18,
     "metadata": {},
     "output_type": "execute_result"
    }
   ],
   "source": [
    "sum(supports_ssl(ip) for ip in data)"
   ]
  }
 ],
 "metadata": {
  "kernelspec": {
   "display_name": "Python 3",
   "language": "python",
   "name": "python3"
  },
  "language_info": {
   "codemirror_mode": {
    "name": "ipython",
    "version": 3
   },
   "file_extension": ".py",
   "mimetype": "text/x-python",
   "name": "python",
   "nbconvert_exporter": "python",
   "pygments_lexer": "ipython3",
   "version": "3.8.5"
  }
 },
 "nbformat": 4,
 "nbformat_minor": 4
}
