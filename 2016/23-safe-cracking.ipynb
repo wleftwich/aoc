{
 "cells": [
  {
   "cell_type": "markdown",
   "metadata": {},
   "source": [
    "https://adventofcode.com/2016/day/23"
   ]
  },
  {
   "cell_type": "code",
   "execution_count": 126,
   "metadata": {},
   "outputs": [],
   "source": [
    "datafile = 'data/23.txt'"
   ]
  },
  {
   "cell_type": "code",
   "execution_count": 127,
   "metadata": {},
   "outputs": [],
   "source": [
    "with open(datafile) as fh:\n",
    "    data = [y for y in (x.strip() for x in fh) if y]"
   ]
  },
  {
   "cell_type": "code",
   "execution_count": 128,
   "metadata": {},
   "outputs": [
    {
     "data": {
      "text/plain": [
       "(26, ['cpy a b', 'dec b', 'cpy a d'])"
      ]
     },
     "execution_count": 128,
     "metadata": {},
     "output_type": "execute_result"
    }
   ],
   "source": [
    "len(data), data[:3]"
   ]
  },
  {
   "cell_type": "code",
   "execution_count": 129,
   "metadata": {},
   "outputs": [],
   "source": [
    "class SafeCracker:\n",
    "\n",
    "    def __init__(self, instructions):\n",
    "        self.instructions = instructions\n",
    "        self.reset()\n",
    "    \n",
    "    def reset(self):\n",
    "        self.regs = {\n",
    "            'a': 0,\n",
    "            'b': 0,\n",
    "            'c': 0,\n",
    "            'd': 0\n",
    "        }\n",
    "        self.ptr = 0\n",
    "    \n",
    "    def run(self):\n",
    "        while True:\n",
    "            if not 0 <= self.ptr < len(self.instructions):\n",
    "                break\n",
    "            self.step()\n",
    "        print('done')\n",
    "    \n",
    "    def step(self):\n",
    "        self.dispatch(self.instructions[self.ptr])\n",
    "\n",
    "    def dispatch(self, inst):\n",
    "        fun, argstr = inst.split(maxsplit=1)\n",
    "        return getattr(self, fun)(argstr)\n",
    "    \n",
    "    def cpy(self, argstr):\n",
    "        val, reg = argstr.split()\n",
    "        try:\n",
    "            val = int(val)\n",
    "        except ValueError:\n",
    "            val = self.regs[val]\n",
    "        self.regs[reg] = val\n",
    "        self.ptr += 1\n",
    "    \n",
    "    def inc(self, reg):\n",
    "        self.regs[reg] += 1\n",
    "        self.ptr += 1\n",
    "    \n",
    "    def dec(self, reg):\n",
    "        self.regs[reg] -= 1\n",
    "        self.ptr += 1\n",
    "    \n",
    "    def jnz(self, argstr):\n",
    "        x, y = argstr.split()\n",
    "        try:\n",
    "            y = int(y)\n",
    "        except ValueError:\n",
    "            y = self.regs[y]\n",
    "        try:\n",
    "            x = int(x)\n",
    "        except ValueError:\n",
    "            x = self.regs[x]\n",
    "        if x:\n",
    "            self.ptr += y\n",
    "        else:\n",
    "            self.ptr += 1\n",
    "    \n",
    "    def tgl(self, reg):\n",
    "        offset = self.regs[reg]\n",
    "        pos = self.ptr + offset\n",
    "        try:\n",
    "            inst = self.instructions[pos]\n",
    "        except IndexError:\n",
    "            self.ptr += 1\n",
    "            return\n",
    "        fun, argstr = inst.split(maxsplit=1)\n",
    "        if fun == 'inc':\n",
    "            newfun = 'dec'\n",
    "        elif fun in ['dec', 'tgl']:\n",
    "            newfun = 'inc'\n",
    "        elif fun == 'jnz':\n",
    "            newfun = 'cpy'\n",
    "        elif fun == 'cpy':\n",
    "            newfun = 'jnz'\n",
    "        else:\n",
    "            raise ValueError(\"Unknown command\", fun)\n",
    "        self.instructions[pos] = newfun + ' ' + argstr\n",
    "        self.ptr += 1"
   ]
  },
  {
   "cell_type": "code",
   "execution_count": 130,
   "metadata": {},
   "outputs": [],
   "source": [
    "testinst = [\n",
    "    'cpy 2 a',\n",
    "    'tgl a',\n",
    "    'tgl a',\n",
    "    'tgl a',\n",
    "    'cpy 1 a',\n",
    "    'dec a',\n",
    "    'dec a',\n",
    "]"
   ]
  },
  {
   "cell_type": "code",
   "execution_count": 131,
   "metadata": {},
   "outputs": [],
   "source": [
    "test_cracker = SafeCracker(testinst)"
   ]
  },
  {
   "cell_type": "code",
   "execution_count": 132,
   "metadata": {},
   "outputs": [
    {
     "name": "stdout",
     "output_type": "stream",
     "text": [
      "done\n"
     ]
    }
   ],
   "source": [
    "test_cracker.run()"
   ]
  },
  {
   "cell_type": "code",
   "execution_count": 133,
   "metadata": {},
   "outputs": [
    {
     "data": {
      "text/plain": [
       "{'a': 3, 'b': 0, 'c': 0, 'd': 0}"
      ]
     },
     "execution_count": 133,
     "metadata": {},
     "output_type": "execute_result"
    }
   ],
   "source": [
    "test_cracker.regs"
   ]
  },
  {
   "cell_type": "code",
   "execution_count": 134,
   "metadata": {},
   "outputs": [
    {
     "name": "stdout",
     "output_type": "stream",
     "text": [
      "done\n"
     ]
    },
    {
     "data": {
      "text/plain": [
       "{'a': 14160, 'b': 1, 'c': 0, 'd': 0}"
      ]
     },
     "execution_count": 134,
     "metadata": {},
     "output_type": "execute_result"
    }
   ],
   "source": [
    "cracker = SafeCracker(data.copy())\n",
    "cracker.regs['a'] = 7\n",
    "cracker.run()\n",
    "cracker.regs"
   ]
  },
  {
   "cell_type": "code",
   "execution_count": 136,
   "metadata": {},
   "outputs": [],
   "source": [
    "import math"
   ]
  },
  {
   "cell_type": "code",
   "execution_count": 137,
   "metadata": {},
   "outputs": [
    {
     "data": {
      "text/plain": [
       "14160"
      ]
     },
     "execution_count": 137,
     "metadata": {},
     "output_type": "execute_result"
    }
   ],
   "source": [
    "96 * 95 + math.factorial(7)"
   ]
  },
  {
   "cell_type": "markdown",
   "metadata": {},
   "source": [
    "## part 2"
   ]
  },
  {
   "cell_type": "code",
   "execution_count": 138,
   "metadata": {},
   "outputs": [
    {
     "data": {
      "text/plain": [
       "479010720"
      ]
     },
     "execution_count": 138,
     "metadata": {},
     "output_type": "execute_result"
    }
   ],
   "source": [
    "96 * 95 + math.factorial(12)"
   ]
  }
 ],
 "metadata": {
  "kernelspec": {
   "display_name": "Python 3",
   "language": "python",
   "name": "python3"
  },
  "language_info": {
   "codemirror_mode": {
    "name": "ipython",
    "version": 3
   },
   "file_extension": ".py",
   "mimetype": "text/x-python",
   "name": "python",
   "nbconvert_exporter": "python",
   "pygments_lexer": "ipython3",
   "version": "3.8.5"
  }
 },
 "nbformat": 4,
 "nbformat_minor": 4
}
