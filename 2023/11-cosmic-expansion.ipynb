{
 "cells": [
  {
   "cell_type": "markdown",
   "source": [
    "https://adventofcode.com/2023/day/11"
   ],
   "metadata": {
    "collapsed": false
   },
   "id": "6840fee1c235d70d"
  },
  {
   "cell_type": "code",
   "execution_count": 53,
   "outputs": [],
   "source": [
    "import itertools as it\n",
    "\n",
    "import numpy as np"
   ],
   "metadata": {
    "collapsed": false,
    "ExecuteTime": {
     "end_time": "2023-12-11T12:03:29.835518669Z",
     "start_time": "2023-12-11T12:03:29.829491311Z"
    }
   },
   "id": "2cfae210f8ae8077"
  },
  {
   "cell_type": "code",
   "execution_count": 109,
   "outputs": [],
   "source": [
    "with open(\"data/11.txt\") as fh:\n",
    "    data = fh.read()"
   ],
   "metadata": {
    "collapsed": false,
    "ExecuteTime": {
     "end_time": "2023-12-11T12:45:25.125929848Z",
     "start_time": "2023-12-11T12:45:25.082018673Z"
    }
   },
   "id": "50664af6504a7a63"
  },
  {
   "cell_type": "code",
   "execution_count": 3,
   "outputs": [],
   "source": [
    "testdata = \"\"\"\\\n",
    "...#......\n",
    ".......#..\n",
    "#.........\n",
    "..........\n",
    "......#...\n",
    ".#........\n",
    ".........#\n",
    "..........\n",
    ".......#..\n",
    "#...#.....\n",
    "\"\"\""
   ],
   "metadata": {
    "collapsed": false,
    "ExecuteTime": {
     "end_time": "2023-12-11T11:13:02.209885234Z",
     "start_time": "2023-12-11T11:13:02.166420258Z"
    }
   },
   "id": "a8ddca25cdd40a82"
  },
  {
   "cell_type": "code",
   "execution_count": 9,
   "outputs": [],
   "source": [
    "def parse_input(data):\n",
    "    return np.array(\n",
    "        [[1 if c == \"#\" else 0 for c in line] for line in data.splitlines()]\n",
    "    )\n",
    "\n",
    "\n",
    "def embiggen(image):\n",
    "    zh = np.zeros_like(image[0])\n",
    "    vblocks = np.vsplit(image, np.nonzero(image.sum(axis=1) == 0)[0])\n",
    "    taller = np.vstack(\n",
    "        list(it.chain.from_iterable(it.zip_longest(vblocks, [], fillvalue=zh)))[:-1]\n",
    "    )\n",
    "\n",
    "    zv = np.zeros_like(taller[:, :1])\n",
    "    hblocks = np.hsplit(taller, np.nonzero(taller.sum(axis=0) == 0)[0])\n",
    "    wider = np.hstack(\n",
    "        list(it.chain.from_iterable(it.zip_longest(hblocks, [], fillvalue=zv)))[:-1]\n",
    "    )\n",
    "    return wider\n",
    "\n",
    "\n",
    "def sum_shortest_paths(image):\n",
    "    points = zip(*np.nonzero(image))\n",
    "    combos = it.combinations(points, 2)\n",
    "    return sum(manhattan(a, b) for (a, b) in combos)\n",
    "\n",
    "\n",
    "def manhattan(a, b):\n",
    "    a1, a2 = a\n",
    "    b1, b2 = b\n",
    "    return abs(a1 - b1) + abs(a2 - b2)"
   ],
   "metadata": {
    "collapsed": false,
    "ExecuteTime": {
     "end_time": "2023-12-11T11:18:51.877931584Z",
     "start_time": "2023-12-11T11:18:51.833642639Z"
    }
   },
   "id": "cd3e2a88ed248e25"
  },
  {
   "cell_type": "code",
   "execution_count": 107,
   "outputs": [
    {
     "data": {
      "text/plain": "374"
     },
     "execution_count": 107,
     "metadata": {},
     "output_type": "execute_result"
    }
   ],
   "source": [
    "sum_shortest_paths(embiggen(parse_input(testdata)))"
   ],
   "metadata": {
    "collapsed": false,
    "ExecuteTime": {
     "end_time": "2023-12-11T12:44:12.648845606Z",
     "start_time": "2023-12-11T12:44:12.643794503Z"
    }
   },
   "id": "22df2663262b47e7"
  },
  {
   "cell_type": "code",
   "execution_count": 110,
   "outputs": [
    {
     "data": {
      "text/plain": "9947476"
     },
     "execution_count": 110,
     "metadata": {},
     "output_type": "execute_result"
    }
   ],
   "source": [
    "sum_shortest_paths(embiggen(parse_input(data)))"
   ],
   "metadata": {
    "collapsed": false,
    "ExecuteTime": {
     "end_time": "2023-12-11T12:45:33.530647141Z",
     "start_time": "2023-12-11T12:45:33.490675524Z"
    }
   },
   "id": "1ee212c1b941e4ed"
  },
  {
   "cell_type": "markdown",
   "source": [
    "### Part 2\n",
    "So much for numpy array manipulation."
   ],
   "metadata": {
    "collapsed": false
   },
   "id": "1641a02c51752a14"
  },
  {
   "cell_type": "code",
   "execution_count": 227,
   "outputs": [],
   "source": [
    "def parse_input_2(data):\n",
    "    return [\n",
    "        (r, c)\n",
    "        for r, line in enumerate(data.splitlines())\n",
    "        for c, char in enumerate(line)\n",
    "        if char == \"#\"\n",
    "    ]\n",
    "\n",
    "\n",
    "def contiguous_intervals(ar):\n",
    "    return [\n",
    "        (x[0], x[-1] + 1)\n",
    "        for x in np.split(ar, np.nonzero(np.append(np.array([0]), np.diff(ar)) > 1)[0])\n",
    "    ]\n",
    "\n",
    "\n",
    "def expand_cosmos(pts, factor=2):\n",
    "    rci = contiguous_intervals(sorted({r for (r, c) in pts}))\n",
    "    cci = contiguous_intervals(sorted({c for (r, c) in pts}))\n",
    "\n",
    "    for a, b in list(zip(rci[:-1], rci[1:]))[::-1]:\n",
    "        gap = b[0] - a[1]\n",
    "        offset = gap * (factor - 1)\n",
    "        pts = [\n",
    "            (r + offset if r >= b[0] else r, c) for r, c in pts\n",
    "        ]\n",
    "    \n",
    "    for a, b in list(zip(cci[:-1], cci[1:]))[::-1]:\n",
    "        gap = b[0] - a[1]\n",
    "        offset = gap * (factor - 1)\n",
    "        pts = [\n",
    "            (r, c + offset if c >= b[0] else c) for r, c in pts\n",
    "        ]\n",
    "\n",
    "    return pts\n",
    "\n",
    "\n",
    "def manhattan(a, b):\n",
    "    a1, a2 = a\n",
    "    b1, b2 = b\n",
    "    return abs(a1 - b1) + abs(a2 - b2)\n",
    "\n",
    "\n",
    "def sum_expanded_cosmos_distances(data, factor=2):\n",
    "    pts = parse_input_2(data)\n",
    "    expanded_pts = expand_cosmos(pts, factor=factor)\n",
    "    return sum(manhattan(a, b) for a, b in it.combinations(expanded_pts, 2))\n",
    "    "
   ],
   "metadata": {
    "collapsed": false,
    "ExecuteTime": {
     "end_time": "2023-12-11T17:17:32.644406678Z",
     "start_time": "2023-12-11T17:17:32.639594068Z"
    }
   },
   "id": "2961a77002ce3c46"
  },
  {
   "cell_type": "code",
   "execution_count": 228,
   "outputs": [
    {
     "data": {
      "text/plain": "374"
     },
     "execution_count": 228,
     "metadata": {},
     "output_type": "execute_result"
    }
   ],
   "source": [
    "sum_expanded_cosmos_distances(testdata, factor=2)"
   ],
   "metadata": {
    "collapsed": false,
    "ExecuteTime": {
     "end_time": "2023-12-11T17:17:35.724501049Z",
     "start_time": "2023-12-11T17:17:35.720202683Z"
    }
   },
   "id": "9cabed0b5c032697"
  },
  {
   "cell_type": "code",
   "execution_count": 229,
   "outputs": [
    {
     "data": {
      "text/plain": "9947476"
     },
     "execution_count": 229,
     "metadata": {},
     "output_type": "execute_result"
    }
   ],
   "source": [
    "sum_expanded_cosmos_distances(data, factor=2)"
   ],
   "metadata": {
    "collapsed": false,
    "ExecuteTime": {
     "end_time": "2023-12-11T17:17:37.007375673Z",
     "start_time": "2023-12-11T17:17:36.997844262Z"
    }
   },
   "id": "6bc378470fb49c88"
  },
  {
   "cell_type": "code",
   "execution_count": 230,
   "outputs": [
    {
     "data": {
      "text/plain": "1030"
     },
     "execution_count": 230,
     "metadata": {},
     "output_type": "execute_result"
    }
   ],
   "source": [
    "sum_expanded_cosmos_distances(testdata, factor=10)"
   ],
   "metadata": {
    "collapsed": false,
    "ExecuteTime": {
     "end_time": "2023-12-11T17:18:10.429608146Z",
     "start_time": "2023-12-11T17:18:10.419791215Z"
    }
   },
   "id": "9cf3241f3381e55d"
  },
  {
   "cell_type": "code",
   "execution_count": 231,
   "outputs": [
    {
     "data": {
      "text/plain": "8410"
     },
     "execution_count": 231,
     "metadata": {},
     "output_type": "execute_result"
    }
   ],
   "source": [
    "sum_expanded_cosmos_distances(testdata, factor=100)"
   ],
   "metadata": {
    "collapsed": false,
    "ExecuteTime": {
     "end_time": "2023-12-11T17:18:22.921572479Z",
     "start_time": "2023-12-11T17:18:22.911136530Z"
    }
   },
   "id": "579f99e2c46e4bcf"
  },
  {
   "cell_type": "code",
   "execution_count": 232,
   "outputs": [
    {
     "data": {
      "text/plain": "519939907614"
     },
     "execution_count": 232,
     "metadata": {},
     "output_type": "execute_result"
    }
   ],
   "source": [
    "sum_expanded_cosmos_distances(data, factor=1_000_000)"
   ],
   "metadata": {
    "collapsed": false,
    "ExecuteTime": {
     "end_time": "2023-12-11T17:19:16.676183679Z",
     "start_time": "2023-12-11T17:19:16.674220257Z"
    }
   },
   "id": "2f2ffbf97f77c5ee"
  }
 ],
 "metadata": {
  "kernelspec": {
   "display_name": "Python 3",
   "language": "python",
   "name": "python3"
  },
  "language_info": {
   "codemirror_mode": {
    "name": "ipython",
    "version": 2
   },
   "file_extension": ".py",
   "mimetype": "text/x-python",
   "name": "python",
   "nbconvert_exporter": "python",
   "pygments_lexer": "ipython2",
   "version": "2.7.6"
  }
 },
 "nbformat": 4,
 "nbformat_minor": 5
}
