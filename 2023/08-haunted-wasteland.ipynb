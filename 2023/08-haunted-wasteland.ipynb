{
 "cells": [
  {
   "cell_type": "markdown",
   "source": [
    "https://adventofcode.com/2023/day/8"
   ],
   "metadata": {
    "collapsed": false
   },
   "id": "b38c008c4c458f36"
  },
  {
   "cell_type": "code",
   "execution_count": 1,
   "outputs": [],
   "source": [
    "import re\n",
    "from itertools import cycle\n",
    "\n",
    "import numpy as np"
   ],
   "metadata": {
    "collapsed": false,
    "ExecuteTime": {
     "end_time": "2023-12-08T22:55:14.224837594Z",
     "start_time": "2023-12-08T22:55:14.088288815Z"
    }
   },
   "id": "bc7b6f551c948f2a"
  },
  {
   "cell_type": "code",
   "execution_count": 2,
   "outputs": [],
   "source": [
    "with open(\"data/08.txt\") as fh:\n",
    "    data = fh.read()"
   ],
   "metadata": {
    "collapsed": false,
    "ExecuteTime": {
     "end_time": "2023-12-08T22:55:14.225214515Z",
     "start_time": "2023-12-08T22:55:14.222146740Z"
    }
   },
   "id": "c839ffcf8b9b62c4"
  },
  {
   "cell_type": "code",
   "execution_count": 3,
   "outputs": [],
   "source": [
    "testdata1 = \"\"\"\\\n",
    "RL\n",
    "\n",
    "AAA = (BBB, CCC)\n",
    "BBB = (DDD, EEE)\n",
    "CCC = (ZZZ, GGG)\n",
    "DDD = (DDD, DDD)\n",
    "EEE = (EEE, EEE)\n",
    "GGG = (GGG, GGG)\n",
    "ZZZ = (ZZZ, ZZZ)\n",
    "\"\"\""
   ],
   "metadata": {
    "collapsed": false,
    "ExecuteTime": {
     "end_time": "2023-12-08T22:55:14.225466473Z",
     "start_time": "2023-12-08T22:55:14.222240407Z"
    }
   },
   "id": "93e47a02704575e4"
  },
  {
   "cell_type": "code",
   "execution_count": 4,
   "outputs": [],
   "source": [
    "testdata2 = \"\"\"\\\n",
    "LLR\n",
    "\n",
    "AAA = (BBB, BBB)\n",
    "BBB = (AAA, ZZZ)\n",
    "ZZZ = (ZZZ, ZZZ)\n",
    "\"\"\""
   ],
   "metadata": {
    "collapsed": false,
    "ExecuteTime": {
     "end_time": "2023-12-08T22:55:14.225687898Z",
     "start_time": "2023-12-08T22:55:14.222272363Z"
    }
   },
   "id": "45cb43150eca9206"
  },
  {
   "cell_type": "code",
   "execution_count": 5,
   "outputs": [],
   "source": [
    "def parse_input(txt):\n",
    "    stepstr, networkstr = txt.split(\"\\n\\n\")\n",
    "    steps = [int(x) for x in stepstr.replace(\"L\", \"0\").replace(\"R\", \"1\")]\n",
    "    network_map = {a: (b, c) for line in networkstr.splitlines() for a, b, c in [re.findall(r\"\\w+\", line)]}\n",
    "    return steps, network_map "
   ],
   "metadata": {
    "collapsed": false,
    "ExecuteTime": {
     "end_time": "2023-12-08T22:55:14.267719201Z",
     "start_time": "2023-12-08T22:55:14.222293262Z"
    }
   },
   "id": "a4a3119b80f83ffc"
  },
  {
   "cell_type": "code",
   "execution_count": 6,
   "outputs": [
    {
     "data": {
      "text/plain": "([0, 0, 1],\n {'AAA': ('BBB', 'BBB'), 'BBB': ('AAA', 'ZZZ'), 'ZZZ': ('ZZZ', 'ZZZ')})"
     },
     "execution_count": 6,
     "metadata": {},
     "output_type": "execute_result"
    }
   ],
   "source": [
    "parse_input(testdata2)"
   ],
   "metadata": {
    "collapsed": false,
    "ExecuteTime": {
     "end_time": "2023-12-08T22:55:14.268167067Z",
     "start_time": "2023-12-08T22:55:14.266126981Z"
    }
   },
   "id": "3e7d705cda7ec992"
  },
  {
   "cell_type": "code",
   "execution_count": 7,
   "outputs": [],
   "source": [
    "def aaa2zzz(data):\n",
    "    steps, network_map = parse_input(data)\n",
    "    key = \"AAA\"\n",
    "    for i, step in enumerate(cycle(steps), 1):\n",
    "        key = network_map[key][step]\n",
    "        if key == \"ZZZ\":\n",
    "            break\n",
    "    return i\n",
    "        "
   ],
   "metadata": {
    "collapsed": false,
    "ExecuteTime": {
     "end_time": "2023-12-08T22:55:14.268423314Z",
     "start_time": "2023-12-08T22:55:14.266233908Z"
    }
   },
   "id": "97f3ec4a0f48578a"
  },
  {
   "cell_type": "code",
   "execution_count": 8,
   "outputs": [
    {
     "data": {
      "text/plain": "2"
     },
     "execution_count": 8,
     "metadata": {},
     "output_type": "execute_result"
    }
   ],
   "source": [
    "aaa2zzz(testdata1)"
   ],
   "metadata": {
    "collapsed": false,
    "ExecuteTime": {
     "end_time": "2023-12-08T22:55:14.268684758Z",
     "start_time": "2023-12-08T22:55:14.266264062Z"
    }
   },
   "id": "53c67afe813e7e41"
  },
  {
   "cell_type": "code",
   "execution_count": 9,
   "outputs": [
    {
     "data": {
      "text/plain": "6"
     },
     "execution_count": 9,
     "metadata": {},
     "output_type": "execute_result"
    }
   ],
   "source": [
    "aaa2zzz(testdata2)"
   ],
   "metadata": {
    "collapsed": false,
    "ExecuteTime": {
     "end_time": "2023-12-08T22:55:14.321814392Z",
     "start_time": "2023-12-08T22:55:14.310148641Z"
    }
   },
   "id": "4461182f3dcd0474"
  },
  {
   "cell_type": "code",
   "execution_count": 10,
   "outputs": [
    {
     "data": {
      "text/plain": "20659"
     },
     "execution_count": 10,
     "metadata": {},
     "output_type": "execute_result"
    }
   ],
   "source": [
    "aaa2zzz(data)"
   ],
   "metadata": {
    "collapsed": false,
    "ExecuteTime": {
     "end_time": "2023-12-08T22:55:14.322192729Z",
     "start_time": "2023-12-08T22:55:14.310230196Z"
    }
   },
   "id": "a208f6a4680ee701"
  },
  {
   "cell_type": "markdown",
   "source": [
    "### Part 2"
   ],
   "metadata": {
    "collapsed": false
   },
   "id": "42e14a1048fc80f6"
  },
  {
   "cell_type": "code",
   "execution_count": 11,
   "outputs": [],
   "source": [
    "def star_a2z_will_take_forever(data):\n",
    "    steps, network_map = parse_input(data)\n",
    "    keys = {k for k in network_map.keys() if k.endswith(\"A\")}\n",
    "    for i, step in enumerate(cycle(steps), 1):\n",
    "        if not i % 1000:\n",
    "            print(i, len(keys))\n",
    "        if i > 10_000:\n",
    "            print(keys)\n",
    "        if i > 10_010:\n",
    "            break\n",
    "        keys = {network_map[k][step] for k in keys}\n",
    "        if sum(1 for k in keys if k.endswith(\"Z\")) == len(keys):\n",
    "            break\n",
    "    return i\n",
    "        "
   ],
   "metadata": {
    "collapsed": false,
    "ExecuteTime": {
     "end_time": "2023-12-08T22:55:14.322437033Z",
     "start_time": "2023-12-08T22:55:14.310262385Z"
    }
   },
   "id": "c994299dd8d1459"
  },
  {
   "cell_type": "code",
   "execution_count": 12,
   "outputs": [
    {
     "data": {
      "text/plain": "6"
     },
     "execution_count": 12,
     "metadata": {},
     "output_type": "execute_result"
    }
   ],
   "source": [
    "star_a2z_will_take_forever(testdata2)"
   ],
   "metadata": {
    "collapsed": false,
    "ExecuteTime": {
     "end_time": "2023-12-08T22:55:14.367167229Z",
     "start_time": "2023-12-08T22:55:14.310283197Z"
    }
   },
   "id": "d07b2da0e8d50917"
  },
  {
   "cell_type": "code",
   "execution_count": 13,
   "outputs": [
    {
     "name": "stdout",
     "output_type": "stream",
     "text": [
      "1000 6\n",
      "2000 6\n",
      "3000 6\n",
      "4000 6\n",
      "5000 6\n",
      "6000 6\n",
      "7000 6\n",
      "8000 6\n",
      "9000 6\n",
      "10000 6\n",
      "{'GDB', 'NDF', 'QQM', 'FTJ', 'CHD', 'QBB'}\n",
      "{'BKB', 'PFR', 'VMF', 'LLJ', 'LDR', 'GDN'}\n",
      "{'LGQ', 'SGR', 'QLD', 'SGX', 'NNK', 'KCG'}\n",
      "{'PJP', 'PXC', 'GKT', 'DPG', 'VRV', 'LKJ'}\n",
      "{'HVQ', 'JGP', 'RBF', 'TRR', 'XBB', 'DHS'}\n",
      "{'FCL', 'SXL', 'XPM', 'TSB', 'LCM', 'JBX'}\n",
      "{'SBR', 'HPV', 'PGN', 'RRG', 'JFT', 'JCH'}\n",
      "{'MBH', 'XDR', 'QKN', 'KHM', 'GCQ', 'JDS'}\n",
      "{'NQM', 'MVR', 'SJR', 'GPF', 'VPF', 'NSK'}\n",
      "{'GXN', 'HKL', 'FVB', 'PRL', 'QTJ', 'DXL'}\n",
      "{'TVK', 'XML', 'JSJ', 'LNK', 'RNH', 'FGT'}\n",
      "CPU times: user 14.9 ms, sys: 0 ns, total: 14.9 ms\n",
      "Wall time: 14.8 ms\n"
     ]
    },
    {
     "data": {
      "text/plain": "10011"
     },
     "execution_count": 13,
     "metadata": {},
     "output_type": "execute_result"
    }
   ],
   "source": [
    "%%time\n",
    "star_a2z_will_take_forever(data)"
   ],
   "metadata": {
    "collapsed": false,
    "ExecuteTime": {
     "end_time": "2023-12-08T22:55:14.367612983Z",
     "start_time": "2023-12-08T22:55:14.354098959Z"
    }
   },
   "id": "71e50168a9bb750"
  },
  {
   "cell_type": "code",
   "execution_count": 14,
   "outputs": [],
   "source": [
    "steps, nwmap = parse_input(data)"
   ],
   "metadata": {
    "collapsed": false,
    "ExecuteTime": {
     "end_time": "2023-12-08T22:55:14.367881685Z",
     "start_time": "2023-12-08T22:55:14.354181725Z"
    }
   },
   "id": "260c6f71ca63a6f6"
  },
  {
   "cell_type": "code",
   "execution_count": 16,
   "outputs": [],
   "source": [
    "def one_path_steps_to_starz(k, steps, nwmap):\n",
    "    for i, step in enumerate(cycle(steps), 1):\n",
    "        k = nwmap[k][step]\n",
    "        if k.endswith(\"Z\"):\n",
    "            break\n",
    "    return i, k"
   ],
   "metadata": {
    "collapsed": false,
    "ExecuteTime": {
     "end_time": "2023-12-08T22:55:14.416850544Z",
     "start_time": "2023-12-08T22:55:14.365005834Z"
    }
   },
   "id": "cba7277cecd11a69"
  },
  {
   "cell_type": "code",
   "execution_count": 32,
   "outputs": [
    {
     "name": "stdout",
     "output_type": "stream",
     "text": [
      "QKA QXZ 12169\n",
      "QXZ QXZ 12169\n",
      "\n",
      "VMA MTZ 20093\n",
      "MTZ MTZ 20093\n",
      "\n",
      "AAA ZZZ 20659\n",
      "ZZZ ZZZ 20659\n",
      "\n",
      "RKA NDZ 22357\n",
      "NDZ NDZ 22357\n",
      "\n",
      "LBA GPZ 13301\n",
      "GPZ GPZ 13301\n",
      "\n",
      "JMA VHZ 18961\n",
      "VHZ VHZ 18961\n"
     ]
    }
   ],
   "source": [
    "# see if lcm will work\n",
    "for start in nwmap.keys():\n",
    "    if start.endswith(\"A\"):\n",
    "        n, end = one_path_steps_to_starz(start, steps, nwmap)\n",
    "        print(start, end, n)\n",
    "        n2, end2 = one_path_steps_to_starz(end, steps, nwmap)\n",
    "        print(end, end2, n2)\n",
    "        print()"
   ],
   "metadata": {
    "collapsed": false,
    "ExecuteTime": {
     "end_time": "2023-12-09T00:41:41.803367106Z",
     "start_time": "2023-12-09T00:41:41.756184423Z"
    }
   },
   "id": "ac8aa79abd01aec5"
  },
  {
   "cell_type": "markdown",
   "source": [
    "No offsets, yay."
   ],
   "metadata": {
    "collapsed": false
   },
   "id": "949b96d112a7991c"
  },
  {
   "cell_type": "code",
   "execution_count": 21,
   "outputs": [],
   "source": [
    "def star_a2z_lcm(data):\n",
    "    steps, nwmap = parse_input(data)\n",
    "    ns = [one_path_steps_to_starz(k, steps, nwmap)[0] for k in nwmap.keys() if k.endswith(\"A\")]\n",
    "    return np.lcm.reduce(ns)"
   ],
   "metadata": {
    "collapsed": false,
    "ExecuteTime": {
     "end_time": "2023-12-08T22:55:14.474692585Z",
     "start_time": "2023-12-08T22:55:14.474193345Z"
    }
   },
   "id": "8d893a89a5dfe8b"
  },
  {
   "cell_type": "code",
   "execution_count": 22,
   "outputs": [
    {
     "name": "stdout",
     "output_type": "stream",
     "text": [
      "CPU times: user 11.2 ms, sys: 0 ns, total: 11.2 ms\n",
      "Wall time: 11.2 ms\n"
     ]
    },
    {
     "data": {
      "text/plain": "15690466351717"
     },
     "execution_count": 22,
     "metadata": {},
     "output_type": "execute_result"
    }
   ],
   "source": [
    "%%time\n",
    "star_a2z_lcm(data)"
   ],
   "metadata": {
    "collapsed": false,
    "ExecuteTime": {
     "end_time": "2023-12-08T22:55:14.483423539Z",
     "start_time": "2023-12-08T22:55:14.474260022Z"
    }
   },
   "id": "1081a2e11253a6c"
  },
  {
   "cell_type": "code",
   "execution_count": null,
   "outputs": [],
   "source": [],
   "metadata": {
    "collapsed": false
   },
   "id": "af0402cb865ece6"
  }
 ],
 "metadata": {
  "kernelspec": {
   "display_name": "Python 3",
   "language": "python",
   "name": "python3"
  },
  "language_info": {
   "codemirror_mode": {
    "name": "ipython",
    "version": 2
   },
   "file_extension": ".py",
   "mimetype": "text/x-python",
   "name": "python",
   "nbconvert_exporter": "python",
   "pygments_lexer": "ipython2",
   "version": "2.7.6"
  }
 },
 "nbformat": 4,
 "nbformat_minor": 5
}
