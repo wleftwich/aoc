{
 "cells": [
  {
   "cell_type": "markdown",
   "source": [
    "https://adventofcode.com/2023/day/8"
   ],
   "metadata": {
    "collapsed": false
   },
   "id": "b38c008c4c458f36"
  },
  {
   "cell_type": "code",
   "execution_count": 97,
   "outputs": [],
   "source": [
    "import re\n",
    "from itertools import cycle\n",
    "\n",
    "import numpy as np"
   ],
   "metadata": {
    "collapsed": false,
    "ExecuteTime": {
     "end_time": "2023-12-08T13:58:23.187767686Z",
     "start_time": "2023-12-08T13:58:23.084835242Z"
    }
   },
   "id": "bc7b6f551c948f2a"
  },
  {
   "cell_type": "code",
   "execution_count": 1,
   "outputs": [],
   "source": [
    "with open(\"data/08.txt\") as fh:\n",
    "    data = fh.read()"
   ],
   "metadata": {
    "collapsed": false,
    "ExecuteTime": {
     "end_time": "2023-12-08T11:16:53.095508083Z",
     "start_time": "2023-12-08T11:16:53.080898726Z"
    }
   },
   "id": "c839ffcf8b9b62c4"
  },
  {
   "cell_type": "code",
   "execution_count": 49,
   "outputs": [],
   "source": [
    "testdata1 = \"\"\"\\\n",
    "RL\n",
    "\n",
    "AAA = (BBB, CCC)\n",
    "BBB = (DDD, EEE)\n",
    "CCC = (ZZZ, GGG)\n",
    "DDD = (DDD, DDD)\n",
    "EEE = (EEE, EEE)\n",
    "GGG = (GGG, GGG)\n",
    "ZZZ = (ZZZ, ZZZ)\n",
    "\"\"\""
   ],
   "metadata": {
    "collapsed": false,
    "ExecuteTime": {
     "end_time": "2023-12-08T11:58:05.046701162Z",
     "start_time": "2023-12-08T11:58:05.002382622Z"
    }
   },
   "id": "93e47a02704575e4"
  },
  {
   "cell_type": "code",
   "execution_count": 50,
   "outputs": [],
   "source": [
    "testdata2 = \"\"\"\\\n",
    "LLR\n",
    "\n",
    "AAA = (BBB, BBB)\n",
    "BBB = (AAA, ZZZ)\n",
    "ZZZ = (ZZZ, ZZZ)\n",
    "\"\"\""
   ],
   "metadata": {
    "collapsed": false,
    "ExecuteTime": {
     "end_time": "2023-12-08T11:58:07.368448477Z",
     "start_time": "2023-12-08T11:58:07.362711334Z"
    }
   },
   "id": "45cb43150eca9206"
  },
  {
   "cell_type": "code",
   "execution_count": 39,
   "outputs": [],
   "source": [
    "def parse_input(txt):\n",
    "    stepstr, networkstr = txt.split(\"\\n\\n\")\n",
    "    steps = [int(x) for x in stepstr.replace(\"L\", \"0\").replace(\"R\", \"1\")]\n",
    "    network_map = {}\n",
    "    for line in networkstr.splitlines():\n",
    "        a, b, c = re.findall(r\"\\w+\", line)\n",
    "        network_map[a] = (b, c)\n",
    "    return steps, network_map "
   ],
   "metadata": {
    "collapsed": false,
    "ExecuteTime": {
     "end_time": "2023-12-08T11:35:23.662606646Z",
     "start_time": "2023-12-08T11:35:23.620884915Z"
    }
   },
   "id": "46bd23b14401e8e5"
  },
  {
   "cell_type": "code",
   "execution_count": 46,
   "outputs": [],
   "source": [
    "def aaa2zzz(data):\n",
    "    steps, network_map = parse_input(data)\n",
    "    key = \"AAA\"\n",
    "    for i, step in enumerate(cycle(steps), 1):\n",
    "        key = network_map[key][step]\n",
    "        if key == \"ZZZ\":\n",
    "            break\n",
    "    return i\n",
    "        "
   ],
   "metadata": {
    "collapsed": false,
    "ExecuteTime": {
     "end_time": "2023-12-08T11:44:18.236141076Z",
     "start_time": "2023-12-08T11:44:18.228899491Z"
    }
   },
   "id": "97f3ec4a0f48578a"
  },
  {
   "cell_type": "code",
   "execution_count": 59,
   "outputs": [
    {
     "data": {
      "text/plain": "2"
     },
     "execution_count": 59,
     "metadata": {},
     "output_type": "execute_result"
    }
   ],
   "source": [
    "aaa2zzz(testdata1)"
   ],
   "metadata": {
    "collapsed": false,
    "ExecuteTime": {
     "end_time": "2023-12-08T12:08:33.711164155Z",
     "start_time": "2023-12-08T12:08:33.666291252Z"
    }
   },
   "id": "53c67afe813e7e41"
  },
  {
   "cell_type": "code",
   "execution_count": 47,
   "outputs": [
    {
     "data": {
      "text/plain": "6"
     },
     "execution_count": 47,
     "metadata": {},
     "output_type": "execute_result"
    }
   ],
   "source": [
    "aaa2zzz(testdata2)"
   ],
   "metadata": {
    "collapsed": false
   },
   "id": "4461182f3dcd0474"
  },
  {
   "cell_type": "code",
   "execution_count": 48,
   "outputs": [
    {
     "data": {
      "text/plain": "20659"
     },
     "execution_count": 48,
     "metadata": {},
     "output_type": "execute_result"
    }
   ],
   "source": [
    "aaa2zzz(data)"
   ],
   "metadata": {
    "collapsed": false,
    "ExecuteTime": {
     "end_time": "2023-12-08T11:44:19.221924286Z",
     "start_time": "2023-12-08T11:44:19.218771142Z"
    }
   },
   "id": "a208f6a4680ee701"
  },
  {
   "cell_type": "markdown",
   "source": [
    "### Part 2"
   ],
   "metadata": {
    "collapsed": false
   },
   "id": "42e14a1048fc80f6"
  },
  {
   "cell_type": "code",
   "execution_count": 75,
   "outputs": [],
   "source": [
    "def star_a2z_will_take_forever(data):\n",
    "    steps, network_map = parse_input(data)\n",
    "    keys = {k for k in network_map.keys() if k.endswith(\"A\")}\n",
    "    for i, step in enumerate(cycle(steps), 1):\n",
    "        if not i % 1000:\n",
    "            print(i, len(keys))\n",
    "        if i > 10_000:\n",
    "            print(keys)\n",
    "        if i > 10_010:\n",
    "            break\n",
    "        keys = {network_map[k][step] for k in keys}\n",
    "        if sum(1 for k in keys if k.endswith(\"Z\")) == len(keys):\n",
    "            break\n",
    "    return i\n",
    "        "
   ],
   "metadata": {
    "collapsed": false,
    "ExecuteTime": {
     "end_time": "2023-12-08T13:31:12.524195178Z",
     "start_time": "2023-12-08T13:31:12.505241649Z"
    }
   },
   "id": "c994299dd8d1459"
  },
  {
   "cell_type": "code",
   "execution_count": 76,
   "outputs": [
    {
     "data": {
      "text/plain": "6"
     },
     "execution_count": 76,
     "metadata": {},
     "output_type": "execute_result"
    }
   ],
   "source": [
    "star_a2z_will_take_forever(testdata2)"
   ],
   "metadata": {
    "collapsed": false,
    "ExecuteTime": {
     "end_time": "2023-12-08T13:31:16.548608681Z",
     "start_time": "2023-12-08T13:31:16.543221659Z"
    }
   },
   "id": "d07b2da0e8d50917"
  },
  {
   "cell_type": "code",
   "execution_count": 77,
   "outputs": [
    {
     "name": "stdout",
     "output_type": "stream",
     "text": [
      "1000 6\n",
      "2000 6\n",
      "3000 6\n",
      "4000 6\n",
      "5000 6\n",
      "6000 6\n",
      "7000 6\n",
      "8000 6\n",
      "9000 6\n",
      "10000 6\n",
      "{'QBB', 'QQM', 'FTJ', 'CHD', 'GDB', 'NDF'}\n",
      "{'LLJ', 'GDN', 'LDR', 'VMF', 'BKB', 'PFR'}\n",
      "{'NNK', 'SGX', 'KCG', 'QLD', 'SGR', 'LGQ'}\n",
      "{'PXC', 'GKT', 'VRV', 'LKJ', 'DPG', 'PJP'}\n",
      "{'XBB', 'TRR', 'RBF', 'DHS', 'JGP', 'HVQ'}\n",
      "{'SXL', 'TSB', 'LCM', 'FCL', 'JBX', 'XPM'}\n",
      "{'PGN', 'SBR', 'RRG', 'JFT', 'HPV', 'JCH'}\n",
      "{'MBH', 'XDR', 'QKN', 'GCQ', 'KHM', 'JDS'}\n",
      "{'GPF', 'VPF', 'MVR', 'NQM', 'NSK', 'SJR'}\n",
      "{'DXL', 'PRL', 'FVB', 'HKL', 'GXN', 'QTJ'}\n",
      "{'RNH', 'LNK', 'JSJ', 'XML', 'TVK', 'FGT'}\n",
      "CPU times: user 32.2 ms, sys: 1 µs, total: 32.2 ms\n",
      "Wall time: 32.1 ms\n"
     ]
    },
    {
     "data": {
      "text/plain": "10011"
     },
     "execution_count": 77,
     "metadata": {},
     "output_type": "execute_result"
    }
   ],
   "source": [
    "%%time\n",
    "star_a2z_will_take_forever(data)"
   ],
   "metadata": {
    "collapsed": false,
    "ExecuteTime": {
     "end_time": "2023-12-08T13:31:17.602830836Z",
     "start_time": "2023-12-08T13:31:17.579590025Z"
    }
   },
   "id": "71e50168a9bb750"
  },
  {
   "cell_type": "code",
   "execution_count": 72,
   "outputs": [],
   "source": [
    "steps, nwmap = parse_input(data)"
   ],
   "metadata": {
    "collapsed": false,
    "ExecuteTime": {
     "end_time": "2023-12-08T13:30:16.219462701Z",
     "start_time": "2023-12-08T13:30:16.209937215Z"
    }
   },
   "id": "260c6f71ca63a6f6"
  },
  {
   "cell_type": "code",
   "execution_count": 80,
   "outputs": [
    {
     "data": {
      "text/plain": "['QKA', 'VMA', 'AAA', 'RKA', 'LBA', 'JMA']"
     },
     "execution_count": 80,
     "metadata": {},
     "output_type": "execute_result"
    }
   ],
   "source": [
    "[k for k in nwmap.keys() if k.endswith(\"A\")]"
   ],
   "metadata": {
    "collapsed": false,
    "ExecuteTime": {
     "end_time": "2023-12-08T13:35:49.149530172Z",
     "start_time": "2023-12-08T13:35:49.134890567Z"
    }
   },
   "id": "4e25135cd404a94f"
  },
  {
   "cell_type": "code",
   "execution_count": 84,
   "outputs": [],
   "source": [
    "def one_path_steps_to_starz(k, steps, nwmap):\n",
    "    for i, step in enumerate(cycle(steps), 1):\n",
    "        k = nwmap[k][step]\n",
    "        if k.endswith(\"Z\"):\n",
    "            break\n",
    "    return i, k"
   ],
   "metadata": {
    "collapsed": false,
    "ExecuteTime": {
     "end_time": "2023-12-08T13:41:04.091877753Z",
     "start_time": "2023-12-08T13:41:04.084183428Z"
    }
   },
   "id": "cba7277cecd11a69"
  },
  {
   "cell_type": "code",
   "execution_count": 85,
   "outputs": [
    {
     "data": {
      "text/plain": "(12169, 'QXZ')"
     },
     "execution_count": 85,
     "metadata": {},
     "output_type": "execute_result"
    }
   ],
   "source": [
    "one_path_steps_to_starz(\"QKA\", steps, nwmap)"
   ],
   "metadata": {
    "collapsed": false,
    "ExecuteTime": {
     "end_time": "2023-12-08T13:41:07.108031565Z",
     "start_time": "2023-12-08T13:41:07.101629010Z"
    }
   },
   "id": "44067045fa810c2c"
  },
  {
   "cell_type": "code",
   "execution_count": 87,
   "outputs": [
    {
     "data": {
      "text/plain": "(12169, 'QXZ')"
     },
     "execution_count": 87,
     "metadata": {},
     "output_type": "execute_result"
    }
   ],
   "source": [
    "one_path_steps_to_starz(\"QXZ\", steps, nwmap)"
   ],
   "metadata": {
    "collapsed": false,
    "ExecuteTime": {
     "end_time": "2023-12-08T13:41:47.678820795Z",
     "start_time": "2023-12-08T13:41:47.672642967Z"
    }
   },
   "id": "1108649a7da23e73"
  },
  {
   "cell_type": "code",
   "execution_count": 94,
   "outputs": [],
   "source": [
    "def two_cycles(k, steps, nwmap):\n",
    "    i, k = one_path_steps_to_starz(k, steps, nwmap)\n",
    "    j, k = one_path_steps_to_starz(k, steps, nwmap)\n",
    "    return i, j, k"
   ],
   "metadata": {
    "collapsed": false,
    "ExecuteTime": {
     "end_time": "2023-12-08T13:56:27.775873071Z",
     "start_time": "2023-12-08T13:56:27.716125480Z"
    }
   },
   "id": "d60a1b051225b969"
  },
  {
   "cell_type": "code",
   "execution_count": 96,
   "outputs": [
    {
     "name": "stdout",
     "output_type": "stream",
     "text": [
      "QKA (12169, 12169, 'QXZ')\n",
      "VMA (20093, 20093, 'MTZ')\n",
      "AAA (20659, 20659, 'ZZZ')\n",
      "RKA (22357, 22357, 'NDZ')\n",
      "LBA (13301, 13301, 'GPZ')\n",
      "JMA (18961, 18961, 'VHZ')\n"
     ]
    }
   ],
   "source": [
    "for k in nwmap.keys():\n",
    "    if k.endswith(\"A\"):\n",
    "        print(k, two_cycles(k, steps, nwmap))"
   ],
   "metadata": {
    "collapsed": false,
    "ExecuteTime": {
     "end_time": "2023-12-08T13:56:32.880253474Z",
     "start_time": "2023-12-08T13:56:32.837122353Z"
    }
   },
   "id": "ac8aa79abd01aec5"
  },
  {
   "cell_type": "markdown",
   "source": [
    "No offsets, yay."
   ],
   "metadata": {
    "collapsed": false
   },
   "id": "949b96d112a7991c"
  },
  {
   "cell_type": "code",
   "execution_count": 105,
   "outputs": [],
   "source": [
    "def star_a2z_lcm(data):\n",
    "    steps, nwmap = parse_input(data)\n",
    "    ns = [one_path_steps_to_starz(k, steps, nwmap)[0] for k in nwmap.keys() if k.endswith(\"A\")]\n",
    "    return np.lcm.reduce(ns)"
   ],
   "metadata": {
    "collapsed": false,
    "ExecuteTime": {
     "end_time": "2023-12-08T14:08:39.719504006Z",
     "start_time": "2023-12-08T14:08:39.675881229Z"
    }
   },
   "id": "8d893a89a5dfe8b"
  },
  {
   "cell_type": "code",
   "execution_count": 107,
   "outputs": [
    {
     "name": "stdout",
     "output_type": "stream",
     "text": [
      "CPU times: user 28.5 ms, sys: 0 ns, total: 28.5 ms\n",
      "Wall time: 27.8 ms\n"
     ]
    },
    {
     "data": {
      "text/plain": "15690466351717"
     },
     "execution_count": 107,
     "metadata": {},
     "output_type": "execute_result"
    }
   ],
   "source": [
    "%%time\n",
    "star_a2z_lcm(data)"
   ],
   "metadata": {
    "collapsed": false,
    "ExecuteTime": {
     "end_time": "2023-12-08T14:23:07.356615845Z",
     "start_time": "2023-12-08T14:23:07.329549361Z"
    }
   },
   "id": "1081a2e11253a6c"
  },
  {
   "cell_type": "code",
   "execution_count": null,
   "outputs": [],
   "source": [],
   "metadata": {
    "collapsed": false
   },
   "id": "ee95a09e9f8171f"
  }
 ],
 "metadata": {
  "kernelspec": {
   "display_name": "Python 3",
   "language": "python",
   "name": "python3"
  },
  "language_info": {
   "codemirror_mode": {
    "name": "ipython",
    "version": 2
   },
   "file_extension": ".py",
   "mimetype": "text/x-python",
   "name": "python",
   "nbconvert_exporter": "python",
   "pygments_lexer": "ipython2",
   "version": "2.7.6"
  }
 },
 "nbformat": 4,
 "nbformat_minor": 5
}
