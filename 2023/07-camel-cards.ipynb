{
 "cells": [
  {
   "cell_type": "markdown",
   "source": [
    "https://adventofcode.com/2023/day/7"
   ],
   "metadata": {
    "collapsed": false
   },
   "id": "185e8fbfa69ac041"
  },
  {
   "cell_type": "code",
   "execution_count": 13,
   "outputs": [],
   "source": [
    "from dataclasses import dataclass, field\n",
    "from collections import Counter"
   ],
   "metadata": {
    "collapsed": false,
    "ExecuteTime": {
     "end_time": "2023-12-07T12:05:19.441978501Z",
     "start_time": "2023-12-07T12:05:19.433131213Z"
    }
   },
   "id": "49272943dabcf23c"
  },
  {
   "cell_type": "code",
   "execution_count": 2,
   "outputs": [],
   "source": [
    "with open(\"data/07.txt\") as fh:\n",
    "    data = fh.read()"
   ],
   "metadata": {
    "collapsed": false,
    "ExecuteTime": {
     "end_time": "2023-12-07T11:29:50.995552002Z",
     "start_time": "2023-12-07T11:29:50.947613944Z"
    }
   },
   "id": "324ec5f6406c91aa"
  },
  {
   "cell_type": "code",
   "execution_count": 3,
   "outputs": [],
   "source": [
    "testdata = \"\"\"\\\n",
    "32T3K 765\n",
    "T55J5 684\n",
    "KK677 28\n",
    "KTJJT 220\n",
    "QQQJA 483\n",
    "\"\"\""
   ],
   "metadata": {
    "collapsed": false,
    "ExecuteTime": {
     "end_time": "2023-12-07T11:30:32.991700215Z",
     "start_time": "2023-12-07T11:30:32.950054628Z"
    }
   },
   "id": "c6531438aee46c5f"
  },
  {
   "cell_type": "code",
   "execution_count": 132,
   "outputs": [],
   "source": [
    "@dataclass(order=True)\n",
    "class Hand:\n",
    "    sort_index: tuple[int] = field(init=False, repr=False)\n",
    "    cards: str\n",
    "    type_: str = field(init=False)\n",
    "    type_ind: int = field(init=False, repr=False)\n",
    "    card_inds: tuple[int] = field(init=False, repr=False)\n",
    "\n",
    "    card_ind_lookup = {card: ind for (ind, card) in enumerate(\"23456789TJQKA\")}\n",
    "    type_ind_lookup = {\n",
    "        \"five_of_a_kind\": 6,\n",
    "        \"four_of_a_kind\": 5,\n",
    "        \"full_house\": 4,\n",
    "        \"three_of_a_kind\": 3,\n",
    "        \"two_pair\": 2,\n",
    "        \"one_pair\": 1,\n",
    "        \"high_card\": 0,\n",
    "    }\n",
    "    valcount_type_lookup = {\n",
    "        (5,): \"five_of_a_kind\",\n",
    "        (1, 4): \"four_of_a_kind\",\n",
    "        (2, 3): \"full_house\",\n",
    "        (1, 1, 3): \"three_of_a_kind\",\n",
    "        (1, 2, 2): \"two_pair\",\n",
    "        (1, 1, 1, 2): \"one_pair\",\n",
    "        (1, 1, 1, 1, 1): \"high_card\",\n",
    "    }\n",
    "\n",
    "    def __post_init__(self):\n",
    "        self.type_ = self.get_type()\n",
    "        self.type_ind = self.type_ind_lookup[self.type_]\n",
    "        self.card_inds = self.get_card_inds()\n",
    "        self.sort_index = (self.type_ind,) + self.card_inds\n",
    "\n",
    "    def get_type(self):\n",
    "        counts = Counter(self.cards)\n",
    "        valcount = tuple(sorted(counts.values()))\n",
    "        return self.valcount_type_lookup[valcount]\n",
    "\n",
    "    def get_card_inds(self):\n",
    "        return tuple(self.card_ind_lookup[c] for c in self.cards)"
   ],
   "metadata": {
    "collapsed": false,
    "ExecuteTime": {
     "end_time": "2023-12-07T14:40:46.215125983Z",
     "start_time": "2023-12-07T14:40:46.161954408Z"
    }
   },
   "id": "7379e268a1156959"
  },
  {
   "cell_type": "code",
   "execution_count": 133,
   "outputs": [],
   "source": [
    "def parse_input(txt):\n",
    "    return [\n",
    "        (Hand(handstr), int(bidstr))\n",
    "        for (handstr, bidstr) in (line.split() for line in txt.splitlines())\n",
    "    ]"
   ],
   "metadata": {
    "collapsed": false,
    "ExecuteTime": {
     "end_time": "2023-12-07T14:40:49.332735129Z",
     "start_time": "2023-12-07T14:40:49.326036006Z"
    }
   },
   "id": "9a256ebeab9e4d3d"
  },
  {
   "cell_type": "code",
   "execution_count": 134,
   "outputs": [
    {
     "data": {
      "text/plain": "[(Hand(cards='32T3K', type_='one_pair'), 765),\n (Hand(cards='T55J5', type_='three_of_a_kind'), 684),\n (Hand(cards='KK677', type_='two_pair'), 28),\n (Hand(cards='KTJJT', type_='two_pair'), 220),\n (Hand(cards='QQQJA', type_='three_of_a_kind'), 483)]"
     },
     "execution_count": 134,
     "metadata": {},
     "output_type": "execute_result"
    }
   ],
   "source": [
    "parse_input(testdata)"
   ],
   "metadata": {
    "collapsed": false,
    "ExecuteTime": {
     "end_time": "2023-12-07T14:40:49.788157275Z",
     "start_time": "2023-12-07T14:40:49.785208512Z"
    }
   },
   "id": "fc72dce5470e0e15"
  },
  {
   "cell_type": "code",
   "execution_count": 135,
   "outputs": [],
   "source": [
    "def total_winnings(txt):\n",
    "    return sum((rank * bid) for (rank, (hand, bid)) in enumerate(sorted(parse_input(txt)), start=1))"
   ],
   "metadata": {
    "collapsed": false,
    "ExecuteTime": {
     "end_time": "2023-12-07T14:40:50.260209351Z",
     "start_time": "2023-12-07T14:40:50.255438895Z"
    }
   },
   "id": "9619a11c3cb51b16"
  },
  {
   "cell_type": "code",
   "execution_count": 136,
   "outputs": [
    {
     "data": {
      "text/plain": "6440"
     },
     "execution_count": 136,
     "metadata": {},
     "output_type": "execute_result"
    }
   ],
   "source": [
    "total_winnings(testdata)"
   ],
   "metadata": {
    "collapsed": false,
    "ExecuteTime": {
     "end_time": "2023-12-07T14:40:50.735538124Z",
     "start_time": "2023-12-07T14:40:50.729995926Z"
    }
   },
   "id": "4057f8fbfbe643ea"
  },
  {
   "cell_type": "code",
   "execution_count": 137,
   "outputs": [
    {
     "data": {
      "text/plain": "250898830"
     },
     "execution_count": 137,
     "metadata": {},
     "output_type": "execute_result"
    }
   ],
   "source": [
    "total_winnings(data)"
   ],
   "metadata": {
    "collapsed": false,
    "ExecuteTime": {
     "end_time": "2023-12-07T14:40:51.138834434Z",
     "start_time": "2023-12-07T14:40:51.135981600Z"
    }
   },
   "id": "a61021f20bd73724"
  },
  {
   "cell_type": "markdown",
   "source": [
    "### Part 2"
   ],
   "metadata": {
    "collapsed": false
   },
   "id": "e257ff3b4080640d"
  },
  {
   "cell_type": "code",
   "execution_count": 138,
   "outputs": [],
   "source": [
    "@dataclass(order=True)\n",
    "class Hand2(Hand):\n",
    "    \n",
    "    card_ind_lookup = {card: ind for (ind, card) in enumerate(\"J23456789TQKA\")}\n",
    "    \n",
    "    def get_type(self):\n",
    "        jcount = sum(1 for c in self.cards if c == \"J\")\n",
    "        if jcount == 5:\n",
    "            return \"five_of_a_kind\"\n",
    "        counts = Counter(c for c in self.cards if c != \"J\")\n",
    "        valcountlist = list(sorted(counts.values()))\n",
    "        valcountlist[-1] += jcount\n",
    "        valcount = tuple(valcountlist)\n",
    "        return self.valcount_type_lookup[valcount]\n"
   ],
   "metadata": {
    "collapsed": false,
    "ExecuteTime": {
     "end_time": "2023-12-07T14:40:52.438428830Z",
     "start_time": "2023-12-07T14:40:52.433797818Z"
    }
   },
   "id": "1d80e2d0b53cc8e6"
  },
  {
   "cell_type": "code",
   "execution_count": 139,
   "outputs": [],
   "source": [
    "def parse_input_2(txt):\n",
    "    return [\n",
    "        (Hand2(handstr), int(bidstr))\n",
    "        for (handstr, bidstr) in (line.split() for line in txt.splitlines())\n",
    "    ]"
   ],
   "metadata": {
    "collapsed": false,
    "ExecuteTime": {
     "end_time": "2023-12-07T14:40:52.947701946Z",
     "start_time": "2023-12-07T14:40:52.936864872Z"
    }
   },
   "id": "3dc077beabe6a22b"
  },
  {
   "cell_type": "code",
   "execution_count": 140,
   "outputs": [],
   "source": [
    "def total_winnings_2(txt):\n",
    "    return sum((rank * bid) for (rank, (hand, bid)) in enumerate(sorted(parse_input_2(txt)), start=1))"
   ],
   "metadata": {
    "collapsed": false,
    "ExecuteTime": {
     "end_time": "2023-12-07T14:40:53.709459561Z",
     "start_time": "2023-12-07T14:40:53.706581097Z"
    }
   },
   "id": "eaa9cae08f35ea9"
  },
  {
   "cell_type": "code",
   "execution_count": 141,
   "outputs": [
    {
     "data": {
      "text/plain": "5905"
     },
     "execution_count": 141,
     "metadata": {},
     "output_type": "execute_result"
    }
   ],
   "source": [
    "total_winnings_2(testdata)"
   ],
   "metadata": {
    "collapsed": false,
    "ExecuteTime": {
     "end_time": "2023-12-07T14:40:54.165162147Z",
     "start_time": "2023-12-07T14:40:54.161472274Z"
    }
   },
   "id": "df98297a6ae6a183"
  },
  {
   "cell_type": "code",
   "execution_count": 142,
   "outputs": [
    {
     "data": {
      "text/plain": "252127335"
     },
     "execution_count": 142,
     "metadata": {},
     "output_type": "execute_result"
    }
   ],
   "source": [
    "total_winnings_2(data)"
   ],
   "metadata": {
    "collapsed": false,
    "ExecuteTime": {
     "end_time": "2023-12-07T14:40:54.867012073Z",
     "start_time": "2023-12-07T14:40:54.849489981Z"
    }
   },
   "id": "98c94b940708aa51"
  },
  {
   "cell_type": "code",
   "execution_count": null,
   "outputs": [],
   "source": [],
   "metadata": {
    "collapsed": false
   },
   "id": "62715aeeb4fc492e"
  }
 ],
 "metadata": {
  "kernelspec": {
   "display_name": "Python 3",
   "language": "python",
   "name": "python3"
  },
  "language_info": {
   "codemirror_mode": {
    "name": "ipython",
    "version": 2
   },
   "file_extension": ".py",
   "mimetype": "text/x-python",
   "name": "python",
   "nbconvert_exporter": "python",
   "pygments_lexer": "ipython2",
   "version": "2.7.6"
  }
 },
 "nbformat": 4,
 "nbformat_minor": 5
}
