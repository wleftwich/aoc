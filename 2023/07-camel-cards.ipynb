{
 "cells": [
  {
   "cell_type": "markdown",
   "source": [
    "https://adventofcode.com/2023/day/7"
   ],
   "metadata": {
    "collapsed": false
   },
   "id": "185e8fbfa69ac041"
  },
  {
   "cell_type": "code",
   "source": [
    "from dataclasses import dataclass, field\n",
    "from collections import Counter"
   ],
   "metadata": {
    "collapsed": false,
    "ExecuteTime": {
     "end_time": "2024-11-29T14:10:35.603994Z",
     "start_time": "2024-11-29T14:10:35.601459Z"
    }
   },
   "id": "49272943dabcf23c",
   "outputs": [],
   "execution_count": 1
  },
  {
   "cell_type": "code",
   "source": [
    "with open(\"data/07.txt\") as fh:\n",
    "    data = fh.read()"
   ],
   "metadata": {
    "collapsed": false,
    "ExecuteTime": {
     "end_time": "2024-11-29T14:10:35.670862Z",
     "start_time": "2024-11-29T14:10:35.667716Z"
    }
   },
   "id": "324ec5f6406c91aa",
   "outputs": [],
   "execution_count": 2
  },
  {
   "cell_type": "code",
   "source": [
    "testdata = \"\"\"\\\n",
    "32T3K 765\n",
    "T55J5 684\n",
    "KK677 28\n",
    "KTJJT 220\n",
    "QQQJA 483\n",
    "\"\"\""
   ],
   "metadata": {
    "collapsed": false,
    "ExecuteTime": {
     "end_time": "2024-11-29T14:10:35.758461Z",
     "start_time": "2024-11-29T14:10:35.756187Z"
    }
   },
   "id": "c6531438aee46c5f",
   "outputs": [],
   "execution_count": 3
  },
  {
   "cell_type": "code",
   "source": [
    "@dataclass(order=True)\n",
    "class Hand:\n",
    "    sort_index: tuple[int] = field(init=False, repr=False)\n",
    "    cards: str\n",
    "    type_: str = field(init=False)\n",
    "    type_ind: int = field(init=False, repr=False)\n",
    "    card_inds: tuple[int] = field(init=False, repr=False)\n",
    "\n",
    "    card_ind_lookup = {card: ind for (ind, card) in enumerate(\"23456789TJQKA\")}\n",
    "    type_ind_lookup = {\n",
    "        \"five_of_a_kind\": 6,\n",
    "        \"four_of_a_kind\": 5,\n",
    "        \"full_house\": 4,\n",
    "        \"three_of_a_kind\": 3,\n",
    "        \"two_pair\": 2,\n",
    "        \"one_pair\": 1,\n",
    "        \"high_card\": 0,\n",
    "    }\n",
    "    valcount_type_lookup = {\n",
    "        (5,): \"five_of_a_kind\",\n",
    "        (1, 4): \"four_of_a_kind\",\n",
    "        (2, 3): \"full_house\",\n",
    "        (1, 1, 3): \"three_of_a_kind\",\n",
    "        (1, 2, 2): \"two_pair\",\n",
    "        (1, 1, 1, 2): \"one_pair\",\n",
    "        (1, 1, 1, 1, 1): \"high_card\",\n",
    "    }\n",
    "\n",
    "    def __post_init__(self):\n",
    "        self.type_ = self.get_type()\n",
    "        self.type_ind = self.type_ind_lookup[self.type_]\n",
    "        self.card_inds = self.get_card_inds()\n",
    "        self.sort_index = (self.type_ind,) + self.card_inds\n",
    "\n",
    "    def get_type(self):\n",
    "        counts = Counter(self.cards)\n",
    "        valcount = tuple(sorted(counts.values()))\n",
    "        return self.valcount_type_lookup[valcount]\n",
    "\n",
    "    def get_card_inds(self):\n",
    "        return tuple(self.card_ind_lookup[c] for c in self.cards)"
   ],
   "metadata": {
    "collapsed": false,
    "ExecuteTime": {
     "end_time": "2024-11-29T14:10:35.812830Z",
     "start_time": "2024-11-29T14:10:35.805995Z"
    }
   },
   "id": "7379e268a1156959",
   "outputs": [],
   "execution_count": 4
  },
  {
   "cell_type": "code",
   "source": [
    "def parse_input(txt):\n",
    "    return [\n",
    "        (Hand(handstr), int(bidstr))\n",
    "        for (handstr, bidstr) in (line.split() for line in txt.splitlines())\n",
    "    ]"
   ],
   "metadata": {
    "collapsed": false,
    "ExecuteTime": {
     "end_time": "2024-11-29T14:10:35.870891Z",
     "start_time": "2024-11-29T14:10:35.866212Z"
    }
   },
   "id": "9a256ebeab9e4d3d",
   "outputs": [],
   "execution_count": 5
  },
  {
   "cell_type": "code",
   "source": [
    "parse_input(testdata)"
   ],
   "metadata": {
    "collapsed": false,
    "ExecuteTime": {
     "end_time": "2024-11-29T14:10:35.926748Z",
     "start_time": "2024-11-29T14:10:35.921406Z"
    }
   },
   "id": "fc72dce5470e0e15",
   "outputs": [
    {
     "data": {
      "text/plain": [
       "[(Hand(cards='32T3K', type_='one_pair'), 765),\n",
       " (Hand(cards='T55J5', type_='three_of_a_kind'), 684),\n",
       " (Hand(cards='KK677', type_='two_pair'), 28),\n",
       " (Hand(cards='KTJJT', type_='two_pair'), 220),\n",
       " (Hand(cards='QQQJA', type_='three_of_a_kind'), 483)]"
      ]
     },
     "execution_count": 6,
     "metadata": {},
     "output_type": "execute_result"
    }
   ],
   "execution_count": 6
  },
  {
   "cell_type": "code",
   "source": [
    "def total_winnings(txt):\n",
    "    return sum(\n",
    "        (rank * bid)\n",
    "        for (rank, (hand, bid)) in enumerate(sorted(parse_input(txt)), start=1)\n",
    "    )"
   ],
   "metadata": {
    "collapsed": false,
    "ExecuteTime": {
     "end_time": "2024-11-29T14:10:35.986962Z",
     "start_time": "2024-11-29T14:10:35.983078Z"
    }
   },
   "id": "9619a11c3cb51b16",
   "outputs": [],
   "execution_count": 7
  },
  {
   "cell_type": "code",
   "source": [
    "total_winnings(testdata)"
   ],
   "metadata": {
    "collapsed": false,
    "ExecuteTime": {
     "end_time": "2024-11-29T14:10:36.040336Z",
     "start_time": "2024-11-29T14:10:36.036524Z"
    }
   },
   "id": "4057f8fbfbe643ea",
   "outputs": [
    {
     "data": {
      "text/plain": [
       "6440"
      ]
     },
     "execution_count": 8,
     "metadata": {},
     "output_type": "execute_result"
    }
   ],
   "execution_count": 8
  },
  {
   "cell_type": "code",
   "source": [
    "total_winnings(data)"
   ],
   "metadata": {
    "collapsed": false,
    "ExecuteTime": {
     "end_time": "2024-11-29T14:10:36.107493Z",
     "start_time": "2024-11-29T14:10:36.092569Z"
    }
   },
   "id": "a61021f20bd73724",
   "outputs": [
    {
     "data": {
      "text/plain": [
       "250898830"
      ]
     },
     "execution_count": 9,
     "metadata": {},
     "output_type": "execute_result"
    }
   ],
   "execution_count": 9
  },
  {
   "cell_type": "markdown",
   "source": [
    "### Part 2"
   ],
   "metadata": {
    "collapsed": false
   },
   "id": "e257ff3b4080640d"
  },
  {
   "cell_type": "code",
   "source": [
    "@dataclass(order=True)\n",
    "class Hand2(Hand):\n",
    "    card_ind_lookup = {card: ind for (ind, card) in enumerate(\"J23456789TQKA\")}\n",
    "\n",
    "    def get_type(self):\n",
    "        jcount = sum(1 for c in self.cards if c == \"J\")\n",
    "        if jcount == 5:\n",
    "            return \"five_of_a_kind\"\n",
    "        counts = Counter(c for c in self.cards if c != \"J\")\n",
    "        valcountlist = list(sorted(counts.values()))\n",
    "        valcountlist[-1] += jcount\n",
    "        valcount = tuple(valcountlist)\n",
    "        return self.valcount_type_lookup[valcount]"
   ],
   "metadata": {
    "collapsed": false,
    "ExecuteTime": {
     "end_time": "2024-11-29T14:10:36.165246Z",
     "start_time": "2024-11-29T14:10:36.160036Z"
    }
   },
   "id": "1d80e2d0b53cc8e6",
   "outputs": [],
   "execution_count": 10
  },
  {
   "cell_type": "code",
   "source": [
    "def parse_input_2(txt):\n",
    "    return [\n",
    "        (Hand2(handstr), int(bidstr))\n",
    "        for (handstr, bidstr) in (line.split() for line in txt.splitlines())\n",
    "    ]"
   ],
   "metadata": {
    "collapsed": false,
    "ExecuteTime": {
     "end_time": "2024-11-29T14:10:36.217633Z",
     "start_time": "2024-11-29T14:10:36.214778Z"
    }
   },
   "id": "3dc077beabe6a22b",
   "outputs": [],
   "execution_count": 11
  },
  {
   "cell_type": "code",
   "source": [
    "parse_input_2(testdata)"
   ],
   "metadata": {
    "collapsed": false,
    "ExecuteTime": {
     "end_time": "2024-11-29T14:10:36.272897Z",
     "start_time": "2024-11-29T14:10:36.268170Z"
    }
   },
   "id": "5cb69b6558ff172b",
   "outputs": [
    {
     "data": {
      "text/plain": [
       "[(Hand2(cards='32T3K', type_='one_pair'), 765),\n",
       " (Hand2(cards='T55J5', type_='four_of_a_kind'), 684),\n",
       " (Hand2(cards='KK677', type_='two_pair'), 28),\n",
       " (Hand2(cards='KTJJT', type_='four_of_a_kind'), 220),\n",
       " (Hand2(cards='QQQJA', type_='four_of_a_kind'), 483)]"
      ]
     },
     "execution_count": 12,
     "metadata": {},
     "output_type": "execute_result"
    }
   ],
   "execution_count": 12
  },
  {
   "cell_type": "code",
   "source": [
    "def total_winnings_2(txt):\n",
    "    return sum(\n",
    "        (rank * bid)\n",
    "        for (rank, (hand, bid)) in enumerate(sorted(parse_input_2(txt)), start=1)\n",
    "    )"
   ],
   "metadata": {
    "collapsed": false,
    "ExecuteTime": {
     "end_time": "2024-11-29T14:10:36.325380Z",
     "start_time": "2024-11-29T14:10:36.321630Z"
    }
   },
   "id": "eaa9cae08f35ea9",
   "outputs": [],
   "execution_count": 13
  },
  {
   "cell_type": "code",
   "source": [
    "total_winnings_2(testdata)"
   ],
   "metadata": {
    "collapsed": false,
    "ExecuteTime": {
     "end_time": "2024-11-29T14:10:36.379250Z",
     "start_time": "2024-11-29T14:10:36.375260Z"
    }
   },
   "id": "df98297a6ae6a183",
   "outputs": [
    {
     "data": {
      "text/plain": [
       "5905"
      ]
     },
     "execution_count": 14,
     "metadata": {},
     "output_type": "execute_result"
    }
   ],
   "execution_count": 14
  },
  {
   "cell_type": "code",
   "source": [
    "total_winnings_2(data)"
   ],
   "metadata": {
    "collapsed": false,
    "ExecuteTime": {
     "end_time": "2024-11-29T14:10:36.446460Z",
     "start_time": "2024-11-29T14:10:36.431741Z"
    }
   },
   "id": "98c94b940708aa51",
   "outputs": [
    {
     "data": {
      "text/plain": [
       "252127335"
      ]
     },
     "execution_count": 15,
     "metadata": {},
     "output_type": "execute_result"
    }
   ],
   "execution_count": 15
  }
 ],
 "metadata": {
  "kernelspec": {
   "display_name": "Python 3",
   "language": "python",
   "name": "python3"
  },
  "language_info": {
   "codemirror_mode": {
    "name": "ipython",
    "version": 2
   },
   "file_extension": ".py",
   "mimetype": "text/x-python",
   "name": "python",
   "nbconvert_exporter": "python",
   "pygments_lexer": "ipython2",
   "version": "2.7.6"
  }
 },
 "nbformat": 4,
 "nbformat_minor": 5
}
