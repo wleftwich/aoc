{
 "cells": [
  {
   "cell_type": "markdown",
   "source": [
    "https://adventofcode.com/2023/day/14"
   ],
   "metadata": {
    "collapsed": false
   },
   "id": "45cc7e32e334f310"
  },
  {
   "cell_type": "code",
   "execution_count": 1,
   "outputs": [],
   "source": [
    "with open(\"data/14.txt\") as fh:\n",
    "    puzzle = fh.read()"
   ],
   "metadata": {
    "collapsed": false,
    "ExecuteTime": {
     "end_time": "2023-12-14T11:41:01.481677226Z",
     "start_time": "2023-12-14T11:41:01.474985748Z"
    }
   },
   "id": "c5cabd1f41322fcc"
  },
  {
   "cell_type": "code",
   "execution_count": 2,
   "outputs": [],
   "source": [
    "testdata = \"\"\"\\\n",
    "O....#....\n",
    "O.OO#....#\n",
    ".....##...\n",
    "OO.#O....O\n",
    ".O.....O#.\n",
    "O.#..O.#.#\n",
    "..O..#O..O\n",
    ".......O..\n",
    "#....###..\n",
    "#OO..#....\n",
    "\"\"\""
   ],
   "metadata": {
    "collapsed": false,
    "ExecuteTime": {
     "end_time": "2023-12-14T11:42:08.498841040Z",
     "start_time": "2023-12-14T11:42:08.454871594Z"
    }
   },
   "id": "4fb7c486418d7d1c"
  },
  {
   "cell_type": "code",
   "execution_count": 23,
   "outputs": [],
   "source": [
    "def parse_data(data):\n",
    "    rounds = set()\n",
    "    flats = set()\n",
    "    for r, line in enumerate(data.splitlines()):\n",
    "        for c, char in enumerate(line):\n",
    "            pos = c - r * 1j\n",
    "            if char == \"O\":\n",
    "                rounds.add(pos)\n",
    "            elif char == \"#\":\n",
    "                flats.add(pos)\n",
    "    return rounds, flats, r+1, c+1"
   ],
   "metadata": {
    "collapsed": false,
    "ExecuteTime": {
     "end_time": "2023-12-14T11:59:10.725473929Z",
     "start_time": "2023-12-14T11:59:10.681845275Z"
    }
   },
   "id": "9bbab01202652947"
  },
  {
   "cell_type": "code",
   "execution_count": 148,
   "outputs": [],
   "source": [
    "def platform_to_string(rounds, flats, height, width):\n",
    "    lines = []\n",
    "    for r in range(height):\n",
    "        line = []\n",
    "        for c in range(width):\n",
    "            pos = c - r * 1j\n",
    "            line.append(\"O\" if pos in rounds else \"#\" if pos in flats else \".\")\n",
    "        lines.append(\" \".join(line))\n",
    "    return \"\\n\".join(lines)"
   ],
   "metadata": {
    "collapsed": false,
    "ExecuteTime": {
     "end_time": "2023-12-14T15:38:38.346831711Z",
     "start_time": "2023-12-14T15:38:38.305102513Z"
    }
   },
   "id": "3298812df630e259"
  },
  {
   "cell_type": "code",
   "execution_count": 134,
   "outputs": [],
   "source": [
    "def tilt_north(rounds, flats, height, width):\n",
    "    for r in range(1, height):\n",
    "        for c in range(width):\n",
    "            pos = c - r * 1j\n",
    "            above = pos + 1j\n",
    "            if pos in rounds and above not in rounds and above not in flats:\n",
    "                while True:\n",
    "                    nextabove = above + 1j\n",
    "                    if nextabove in rounds or nextabove in flats or nextabove.imag > 0:\n",
    "                        break\n",
    "                    above = nextabove\n",
    "                rounds.remove(pos)\n",
    "                rounds.add(above)"
   ],
   "metadata": {
    "collapsed": false,
    "ExecuteTime": {
     "end_time": "2023-12-14T15:15:15.138540219Z",
     "start_time": "2023-12-14T15:15:15.096767709Z"
    }
   },
   "id": "369a3b3650860c9c"
  },
  {
   "cell_type": "code",
   "execution_count": 135,
   "outputs": [],
   "source": [
    "rounds, flats, height, width = parse_data(testdata)\n",
    "tilt_north(rounds, flats, height, width)"
   ],
   "metadata": {
    "collapsed": false,
    "ExecuteTime": {
     "end_time": "2023-12-14T15:15:20.771754493Z",
     "start_time": "2023-12-14T15:15:20.768037122Z"
    }
   },
   "id": "377e4c37a09dbfe8"
  },
  {
   "cell_type": "code",
   "execution_count": 149,
   "outputs": [
    {
     "name": "stdout",
     "output_type": "stream",
     "text": [
      "O . . . . # . . . .\n",
      "O . O O # . . . . #\n",
      ". . . . . # # . . .\n",
      "O O . # O . . . . O\n",
      ". O . . . . . O # .\n",
      "O . # . . O . # . #\n",
      ". . O . . # O . . O\n",
      ". . . . . . . O . .\n",
      "# . . . . # # # . .\n",
      "# O O . . # . . . .\n"
     ]
    }
   ],
   "source": [
    "print(platform_to_string(rounds, flats, height, width))"
   ],
   "metadata": {
    "collapsed": false,
    "ExecuteTime": {
     "end_time": "2023-12-14T15:38:42.533064783Z",
     "start_time": "2023-12-14T15:38:42.526622552Z"
    }
   },
   "id": "b83f155e7249862e"
  },
  {
   "cell_type": "code",
   "execution_count": 137,
   "outputs": [],
   "source": [
    "def sum_rockloads(rounds, height):\n",
    "    return sum(height + rock.imag for rock in rounds)"
   ],
   "metadata": {
    "collapsed": false,
    "ExecuteTime": {
     "end_time": "2023-12-14T15:15:25.578223851Z",
     "start_time": "2023-12-14T15:15:25.573548168Z"
    }
   },
   "id": "4afede91c3571fb4"
  },
  {
   "cell_type": "code",
   "execution_count": 138,
   "outputs": [
    {
     "data": {
      "text/plain": "136.0"
     },
     "execution_count": 138,
     "metadata": {},
     "output_type": "execute_result"
    }
   ],
   "source": [
    "sum_rockloads(rounds, height)"
   ],
   "metadata": {
    "collapsed": false,
    "ExecuteTime": {
     "end_time": "2023-12-14T15:15:39.723530901Z",
     "start_time": "2023-12-14T15:15:39.680137346Z"
    }
   },
   "id": "bd7b3250bd49103d"
  },
  {
   "cell_type": "code",
   "execution_count": 139,
   "outputs": [],
   "source": [
    "def total_load_on_north_support_beams(data):\n",
    "    rounds, flats, height, width = parse_data(data)\n",
    "    tilt_north(rounds, flats, height, width)\n",
    "    return sum_rockloads(rounds, height)"
   ],
   "metadata": {
    "collapsed": false,
    "ExecuteTime": {
     "end_time": "2023-12-14T15:15:53.945715058Z",
     "start_time": "2023-12-14T15:15:53.942252644Z"
    }
   },
   "id": "53d0f73ccbbd518e"
  },
  {
   "cell_type": "code",
   "execution_count": 140,
   "outputs": [
    {
     "data": {
      "text/plain": "136.0"
     },
     "execution_count": 140,
     "metadata": {},
     "output_type": "execute_result"
    }
   ],
   "source": [
    "total_load_on_north_support_beams(testdata)"
   ],
   "metadata": {
    "collapsed": false,
    "ExecuteTime": {
     "end_time": "2023-12-14T15:15:58.050627789Z",
     "start_time": "2023-12-14T15:15:58.045326897Z"
    }
   },
   "id": "bc76841666c23d86"
  },
  {
   "cell_type": "code",
   "execution_count": 141,
   "outputs": [
    {
     "data": {
      "text/plain": "108840.0"
     },
     "execution_count": 141,
     "metadata": {},
     "output_type": "execute_result"
    }
   ],
   "source": [
    "total_load_on_north_support_beams(puzzle)"
   ],
   "metadata": {
    "collapsed": false,
    "ExecuteTime": {
     "end_time": "2023-12-14T15:16:00.209614850Z",
     "start_time": "2023-12-14T15:16:00.204201282Z"
    }
   },
   "id": "5b4723c0db289e02"
  },
  {
   "cell_type": "markdown",
   "source": [
    "### Part 2\n",
    "Empirical, not very pretty\n"
   ],
   "metadata": {
    "collapsed": false
   },
   "id": "d6ba533d8afc2b21"
  },
  {
   "cell_type": "code",
   "execution_count": 203,
   "outputs": [],
   "source": [
    "def rotate_east(pts, height, width):\n",
    "    newpts = set()\n",
    "    for p in pts:\n",
    "        c, r = int(p.real), int(-p.imag)\n",
    "        r1 = c\n",
    "        c1 = height - 1 - r\n",
    "        newpts.add(c1 - r1*1j)\n",
    "    return newpts, width, height\n",
    "\n",
    "\n",
    "def spincycle(rounds, flats, height, width):\n",
    "    for _ in range(4):\n",
    "        tilt_north(rounds, flats, height, width)\n",
    "        rounds, _, _ = rotate_east(rounds, height, width)\n",
    "        flats, height, width = rotate_east(flats, height, width)\n",
    "    return rounds, flats, height, width"
   ],
   "metadata": {
    "collapsed": false,
    "ExecuteTime": {
     "end_time": "2023-12-14T19:01:55.942832997Z",
     "start_time": "2023-12-14T19:01:55.900689805Z"
    }
   },
   "id": "8fa0bfc8d2c8ee51"
  },
  {
   "cell_type": "code",
   "execution_count": 204,
   "outputs": [
    {
     "name": "stdout",
     "output_type": "stream",
     "text": [
      "CPU times: user 171 ms, sys: 0 ns, total: 171 ms\n",
      "Wall time: 171 ms\n"
     ]
    }
   ],
   "source": [
    "%%time\n",
    "rounds0, flats0, height, width = parse_data(testdata)\n",
    "rounds, flats, height, width = parse_data(testdata)\n",
    "L = []\n",
    "for i in range(1_000):\n",
    "    L.append(sum_rockloads(rounds, height))\n",
    "    rounds, flats, height, width = spincycle(rounds, flats, height, width)"
   ],
   "metadata": {
    "collapsed": false,
    "ExecuteTime": {
     "end_time": "2023-12-14T19:01:56.482671631Z",
     "start_time": "2023-12-14T19:01:56.321176141Z"
    }
   },
   "id": "c115ba1138d96ef1"
  },
  {
   "cell_type": "code",
   "execution_count": 201,
   "outputs": [
    {
     "data": {
      "text/plain": "64"
     },
     "execution_count": 201,
     "metadata": {},
     "output_type": "execute_result"
    }
   ],
   "source": [
    "startlen = 3\n",
    "repeater = [69, 69, 65, 64, 65, 63, 68]\n",
    "repeatlen = len(repeater)\n",
    "N = 1_000_000_000\n",
    "repeater[(N - startlen) % repeatlen]"
   ],
   "metadata": {
    "collapsed": false,
    "ExecuteTime": {
     "end_time": "2023-12-14T19:01:05.702300316Z",
     "start_time": "2023-12-14T19:01:05.697562905Z"
    }
   },
   "id": "57a16c1232a4c0f0"
  },
  {
   "cell_type": "code",
   "execution_count": 194,
   "outputs": [
    {
     "name": "stdout",
     "output_type": "stream",
     "text": [
      "CPU times: user 11.7 s, sys: 0 ns, total: 11.7 s\n",
      "Wall time: 11.7 s\n"
     ]
    }
   ],
   "source": [
    "%%time\n",
    "rounds, flats, height, width = parse_data(puzzle)\n",
    "L = []\n",
    "for i in range(1_000):\n",
    "    L.append(sum_rockloads(rounds, height))\n",
    "    rounds, flats, height, width = spincycle(rounds, flats, height, width)"
   ],
   "metadata": {
    "collapsed": false,
    "ExecuteTime": {
     "end_time": "2023-12-14T18:59:16.701592942Z",
     "start_time": "2023-12-14T18:59:04.996015549Z"
    }
   },
   "id": "d8653698cad1861a"
  },
  {
   "cell_type": "code",
   "execution_count": 195,
   "outputs": [
    {
     "data": {
      "text/plain": "103557.0"
     },
     "execution_count": 195,
     "metadata": {},
     "output_type": "execute_result"
    }
   ],
   "source": [
    "L[500]"
   ],
   "metadata": {
    "collapsed": false,
    "ExecuteTime": {
     "end_time": "2023-12-14T18:59:24.718376316Z",
     "start_time": "2023-12-14T18:59:24.701602594Z"
    }
   },
   "id": "9b1bafbe1cf118cf"
  },
  {
   "cell_type": "code",
   "execution_count": 196,
   "outputs": [
    {
     "data": {
      "text/plain": "559"
     },
     "execution_count": 196,
     "metadata": {},
     "output_type": "execute_result"
    }
   ],
   "source": [
    "L.index(103557, 501)"
   ],
   "metadata": {
    "collapsed": false,
    "ExecuteTime": {
     "end_time": "2023-12-14T18:59:28.620139946Z",
     "start_time": "2023-12-14T18:59:28.616943516Z"
    }
   },
   "id": "70c7214dcbed648a"
  },
  {
   "cell_type": "code",
   "execution_count": 197,
   "outputs": [
    {
     "data": {
      "text/plain": "618"
     },
     "execution_count": 197,
     "metadata": {},
     "output_type": "execute_result"
    }
   ],
   "source": [
    "L.index(103557, 560)"
   ],
   "metadata": {
    "collapsed": false,
    "ExecuteTime": {
     "end_time": "2023-12-14T18:59:32.738668593Z",
     "start_time": "2023-12-14T18:59:32.697592089Z"
    }
   },
   "id": "39faec7089a06f3f"
  },
  {
   "cell_type": "code",
   "execution_count": 198,
   "outputs": [
    {
     "data": {
      "text/plain": "True"
     },
     "execution_count": 198,
     "metadata": {},
     "output_type": "execute_result"
    }
   ],
   "source": [
    "L[500:559] == L[559:618]"
   ],
   "metadata": {
    "collapsed": false,
    "ExecuteTime": {
     "end_time": "2023-12-14T18:59:36.225540122Z",
     "start_time": "2023-12-14T18:59:36.219777075Z"
    }
   },
   "id": "dc69bf23b7e99cc2"
  },
  {
   "cell_type": "code",
   "execution_count": 199,
   "outputs": [
    {
     "data": {
      "text/plain": "103445.0"
     },
     "execution_count": 199,
     "metadata": {},
     "output_type": "execute_result"
    }
   ],
   "source": [
    "repeater = L[500:559]\n",
    "repeatlen = len(repeater)\n",
    "startlen = 500\n",
    "N = 1_000_000_000\n",
    "repeater[(N - startlen) % repeatlen]"
   ],
   "metadata": {
    "collapsed": false,
    "ExecuteTime": {
     "end_time": "2023-12-14T18:59:38.523925562Z",
     "start_time": "2023-12-14T18:59:38.520008837Z"
    }
   },
   "id": "a86451664b92dbd5"
  },
  {
   "cell_type": "code",
   "execution_count": null,
   "outputs": [],
   "source": [],
   "metadata": {
    "collapsed": false
   },
   "id": "c4499b1a7f4609dd"
  }
 ],
 "metadata": {
  "kernelspec": {
   "display_name": "Python 3",
   "language": "python",
   "name": "python3"
  },
  "language_info": {
   "codemirror_mode": {
    "name": "ipython",
    "version": 2
   },
   "file_extension": ".py",
   "mimetype": "text/x-python",
   "name": "python",
   "nbconvert_exporter": "python",
   "pygments_lexer": "ipython2",
   "version": "2.7.6"
  }
 },
 "nbformat": 4,
 "nbformat_minor": 5
}
