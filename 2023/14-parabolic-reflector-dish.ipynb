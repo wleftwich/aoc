{
 "cells": [
  {
   "cell_type": "markdown",
   "source": [
    "https://adventofcode.com/2023/day/14"
   ],
   "metadata": {
    "collapsed": false
   },
   "id": "45cc7e32e334f310"
  },
  {
   "cell_type": "code",
   "execution_count": 225,
   "outputs": [],
   "source": [
    "with open(\"data/14.txt\") as fh:\n",
    "    puzzle = fh.read()"
   ],
   "metadata": {
    "collapsed": false,
    "ExecuteTime": {
     "end_time": "2023-12-14T20:54:51.926606182Z",
     "start_time": "2023-12-14T20:54:51.922719974Z"
    }
   },
   "id": "c5cabd1f41322fcc"
  },
  {
   "cell_type": "code",
   "execution_count": 226,
   "outputs": [],
   "source": [
    "testdata = \"\"\"\\\n",
    "O....#....\n",
    "O.OO#....#\n",
    ".....##...\n",
    "OO.#O....O\n",
    ".O.....O#.\n",
    "O.#..O.#.#\n",
    "..O..#O..O\n",
    ".......O..\n",
    "#....###..\n",
    "#OO..#....\n",
    "\"\"\""
   ],
   "metadata": {
    "collapsed": false,
    "ExecuteTime": {
     "end_time": "2023-12-14T20:54:52.394793707Z",
     "start_time": "2023-12-14T20:54:52.388537692Z"
    }
   },
   "id": "4fb7c486418d7d1c"
  },
  {
   "cell_type": "code",
   "execution_count": 227,
   "outputs": [],
   "source": [
    "def parse_data(data):\n",
    "    rounds = set()\n",
    "    flats = set()\n",
    "    for r, line in enumerate(data.splitlines()):\n",
    "        for c, char in enumerate(line):\n",
    "            pos = c - r * 1j\n",
    "            if char == \"O\":\n",
    "                rounds.add(pos)\n",
    "            elif char == \"#\":\n",
    "                flats.add(pos)\n",
    "    return rounds, flats, r + 1, c + 1"
   ],
   "metadata": {
    "collapsed": false,
    "ExecuteTime": {
     "end_time": "2023-12-14T20:54:52.832755263Z",
     "start_time": "2023-12-14T20:54:52.825409063Z"
    }
   },
   "id": "9bbab01202652947"
  },
  {
   "cell_type": "code",
   "execution_count": 228,
   "outputs": [],
   "source": [
    "def platform_to_string(rounds, flats, height, width):\n",
    "    lines = []\n",
    "    for r in range(height):\n",
    "        line = []\n",
    "        for c in range(width):\n",
    "            pos = c - r * 1j\n",
    "            line.append(\"O\" if pos in rounds else \"#\" if pos in flats else \".\")\n",
    "        lines.append(\" \".join(line))\n",
    "    return \"\\n\".join(lines)"
   ],
   "metadata": {
    "collapsed": false,
    "ExecuteTime": {
     "end_time": "2023-12-14T20:54:53.370344886Z",
     "start_time": "2023-12-14T20:54:53.365055071Z"
    }
   },
   "id": "3298812df630e259"
  },
  {
   "cell_type": "code",
   "execution_count": 230,
   "outputs": [],
   "source": [
    "def tilt_north(rounds, flats, height, width):\n",
    "    for r, c in ((r, c) for r in range(1, height) for c in range(width)):\n",
    "        pos = c - r * 1j\n",
    "        above = pos + 1j\n",
    "        if pos in rounds and above not in rounds and above not in flats:\n",
    "            while True:\n",
    "                nextabove = above + 1j\n",
    "                if nextabove in rounds or nextabove in flats or nextabove.imag > 0:\n",
    "                    break\n",
    "                above = nextabove\n",
    "            rounds.remove(pos)\n",
    "            rounds.add(above)"
   ],
   "metadata": {
    "collapsed": false,
    "ExecuteTime": {
     "end_time": "2023-12-14T20:54:54.704071362Z",
     "start_time": "2023-12-14T20:54:54.699045407Z"
    }
   },
   "id": "de336e4e621a2cce"
  },
  {
   "cell_type": "code",
   "execution_count": 233,
   "outputs": [],
   "source": [
    "def sum_rockloads(rounds, height):\n",
    "    return sum(height + rock.imag for rock in rounds)"
   ],
   "metadata": {
    "collapsed": false,
    "ExecuteTime": {
     "end_time": "2023-12-14T20:55:05.606551150Z",
     "start_time": "2023-12-14T20:55:05.565269749Z"
    }
   },
   "id": "4afede91c3571fb4"
  },
  {
   "cell_type": "code",
   "execution_count": 235,
   "outputs": [],
   "source": [
    "def total_load_on_north_support_beams(data):\n",
    "    rounds, flats, height, width = parse_data(data)\n",
    "    tilt_north(rounds, flats, height, width)\n",
    "    return sum_rockloads(rounds, height)"
   ],
   "metadata": {
    "collapsed": false,
    "ExecuteTime": {
     "end_time": "2023-12-14T20:55:08.297633118Z",
     "start_time": "2023-12-14T20:55:08.292992926Z"
    }
   },
   "id": "53d0f73ccbbd518e"
  },
  {
   "cell_type": "code",
   "execution_count": 236,
   "outputs": [
    {
     "data": {
      "text/plain": "136.0"
     },
     "execution_count": 236,
     "metadata": {},
     "output_type": "execute_result"
    }
   ],
   "source": [
    "total_load_on_north_support_beams(testdata)"
   ],
   "metadata": {
    "collapsed": false,
    "ExecuteTime": {
     "end_time": "2023-12-14T20:55:08.655353131Z",
     "start_time": "2023-12-14T20:55:08.650979552Z"
    }
   },
   "id": "bc76841666c23d86"
  },
  {
   "cell_type": "code",
   "execution_count": 237,
   "outputs": [
    {
     "data": {
      "text/plain": "108840.0"
     },
     "execution_count": 237,
     "metadata": {},
     "output_type": "execute_result"
    }
   ],
   "source": [
    "total_load_on_north_support_beams(puzzle)"
   ],
   "metadata": {
    "collapsed": false,
    "ExecuteTime": {
     "end_time": "2023-12-14T20:55:10.822427153Z",
     "start_time": "2023-12-14T20:55:10.803035583Z"
    }
   },
   "id": "5b4723c0db289e02"
  },
  {
   "cell_type": "markdown",
   "source": [
    "### Part 2"
   ],
   "metadata": {
    "collapsed": false
   },
   "id": "d6ba533d8afc2b21"
  },
  {
   "cell_type": "code",
   "execution_count": 263,
   "outputs": [],
   "source": [
    "def rotate_east(pts, height, width):\n",
    "    newpts = set()\n",
    "    for p in pts:\n",
    "        c, r = int(p.real), -int(p.imag)\n",
    "        r1 = c\n",
    "        c1 = height - 1 - r\n",
    "        newpts.add(c1 - r1 * 1j)\n",
    "    return newpts, width, height\n",
    "\n",
    "\n",
    "def spincycle(rounds, flats, height, width):\n",
    "    for _ in range(4):\n",
    "        tilt_north(rounds, flats, height, width)\n",
    "        rounds, _, _ = rotate_east(rounds, height, width)\n",
    "        flats, height, width = rotate_east(flats, height, width)\n",
    "    return rounds, flats, height, width"
   ],
   "metadata": {
    "collapsed": false,
    "ExecuteTime": {
     "end_time": "2023-12-14T22:40:20.727138746Z",
     "start_time": "2023-12-14T22:40:20.724672255Z"
    }
   },
   "id": "8fa0bfc8d2c8ee51"
  },
  {
   "cell_type": "code",
   "execution_count": 264,
   "outputs": [],
   "source": [
    "def spincycle_cycle(rounds, flats, height, width):\n",
    "    D = {}\n",
    "    for i in range(1, 1_000):\n",
    "        rounds, flats, height, width = spincycle(rounds, flats, height, width)\n",
    "        frounds = frozenset(rounds)\n",
    "        i0 = D.get(frounds)\n",
    "        if i0 is not None:\n",
    "            return i - i0, i0\n",
    "        D[frounds] = i\n",
    "    print(\"No cycle detected\")\n",
    "        "
   ],
   "metadata": {
    "collapsed": false,
    "ExecuteTime": {
     "end_time": "2023-12-14T22:40:21.318423855Z",
     "start_time": "2023-12-14T22:40:21.315422280Z"
    }
   },
   "id": "39cbcac2b4a6ac5a"
  },
  {
   "cell_type": "code",
   "execution_count": 265,
   "outputs": [],
   "source": [
    "def extended_test(data, N):\n",
    "    rounds, flats, height, width = parse_data(data)\n",
    "    rounds0 = rounds.copy()\n",
    "    cycle_length, offset = spincycle_cycle(rounds, flats, height, width)\n",
    "    n = offset + (N - offset) % cycle_length\n",
    "    rounds = rounds0\n",
    "    for _ in range(n):\n",
    "        rounds, flats, height, width = spincycle(rounds, flats, height, width)\n",
    "    return sum_rockloads(rounds, height)\n",
    "    "
   ],
   "metadata": {
    "collapsed": false,
    "ExecuteTime": {
     "end_time": "2023-12-14T22:40:22.942946304Z",
     "start_time": "2023-12-14T22:40:22.938025021Z"
    }
   },
   "id": "7a08a4e9ce3f90fb"
  },
  {
   "cell_type": "code",
   "execution_count": 266,
   "outputs": [
    {
     "data": {
      "text/plain": "64.0"
     },
     "execution_count": 266,
     "metadata": {},
     "output_type": "execute_result"
    }
   ],
   "source": [
    "extended_test(testdata, 1_000_000_000)"
   ],
   "metadata": {
    "collapsed": false,
    "ExecuteTime": {
     "end_time": "2023-12-14T22:40:23.680684863Z",
     "start_time": "2023-12-14T22:40:23.668666568Z"
    }
   },
   "id": "f50d7bc952b5598d"
  },
  {
   "cell_type": "code",
   "execution_count": 267,
   "outputs": [
    {
     "data": {
      "text/plain": "103445.0"
     },
     "execution_count": 267,
     "metadata": {},
     "output_type": "execute_result"
    }
   ],
   "source": [
    "extended_test(puzzle, 1_000_000_000)"
   ],
   "metadata": {
    "collapsed": false,
    "ExecuteTime": {
     "end_time": "2023-12-14T22:40:30.227106709Z",
     "start_time": "2023-12-14T22:40:25.704316Z"
    }
   },
   "id": "7ebc6570d4eed097"
  },
  {
   "cell_type": "code",
   "execution_count": null,
   "outputs": [],
   "source": [],
   "metadata": {
    "collapsed": false
   },
   "id": "96e47a228d282c51"
  }
 ],
 "metadata": {
  "kernelspec": {
   "display_name": "Python 3",
   "language": "python",
   "name": "python3"
  },
  "language_info": {
   "codemirror_mode": {
    "name": "ipython",
    "version": 2
   },
   "file_extension": ".py",
   "mimetype": "text/x-python",
   "name": "python",
   "nbconvert_exporter": "python",
   "pygments_lexer": "ipython2",
   "version": "2.7.6"
  }
 },
 "nbformat": 4,
 "nbformat_minor": 5
}
