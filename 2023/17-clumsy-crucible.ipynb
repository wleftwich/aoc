{
 "cells": [
  {
   "cell_type": "markdown",
   "id": "cedcab373fc90fdb",
   "metadata": {
    "collapsed": false
   },
   "source": [
    "https://adventofcode.com/2023/day/17"
   ]
  },
  {
   "cell_type": "code",
   "execution_count": 10,
   "outputs": [],
   "source": [
    "from heapq import heappush, heappop"
   ],
   "metadata": {
    "collapsed": false,
    "ExecuteTime": {
     "end_time": "2023-12-18T11:40:09.227297888Z",
     "start_time": "2023-12-18T11:40:09.222593569Z"
    }
   },
   "id": "315fc40c84c31bda"
  },
  {
   "cell_type": "code",
   "execution_count": 1,
   "id": "ae3b7979e1a068fe",
   "metadata": {
    "collapsed": false,
    "ExecuteTime": {
     "end_time": "2023-12-18T11:24:09.303380595Z",
     "start_time": "2023-12-18T11:24:09.299615235Z"
    }
   },
   "outputs": [],
   "source": [
    "with open('data/17.txt') as fh:\n",
    "    puzzle = fh.read()"
   ]
  },
  {
   "cell_type": "code",
   "execution_count": 2,
   "id": "957f7c7023d9611e",
   "metadata": {
    "collapsed": false,
    "ExecuteTime": {
     "end_time": "2023-12-18T11:24:09.343586119Z",
     "start_time": "2023-12-18T11:24:09.301701881Z"
    }
   },
   "outputs": [],
   "source": [
    "testdata = \"\"\"\\\n",
    "2413432311323\n",
    "3215453535623\n",
    "3255245654254\n",
    "3446585845452\n",
    "4546657867536\n",
    "1438598798454\n",
    "4457876987766\n",
    "3637877979653\n",
    "4654967986887\n",
    "4564679986453\n",
    "1224686865563\n",
    "2546548887735\n",
    "4322674655533\n",
    "\"\"\""
   ]
  },
  {
   "cell_type": "code",
   "execution_count": 3,
   "id": "e1488d054055ba44",
   "metadata": {
    "collapsed": false,
    "ExecuteTime": {
     "end_time": "2023-12-18T11:24:09.344472304Z",
     "start_time": "2023-12-18T11:24:09.343346273Z"
    }
   },
   "outputs": [],
   "source": [
    "def parse_puzzle(data):\n",
    "    D = {}\n",
    "    for r, line in enumerate(data.splitlines()):\n",
    "        for c, char in enumerate(line):\n",
    "            p = c - r * 1j\n",
    "            D[p] = int(char)\n",
    "    return D, p"
   ]
  },
  {
   "cell_type": "code",
   "execution_count": 4,
   "id": "4e8cb003125b00a",
   "metadata": {
    "collapsed": false,
    "ExecuteTime": {
     "end_time": "2023-12-18T11:24:09.735602496Z",
     "start_time": "2023-12-18T11:24:09.728688440Z"
    }
   },
   "outputs": [],
   "source": [
    "grid, dest = parse_puzzle(testdata)"
   ]
  },
  {
   "cell_type": "code",
   "execution_count": 7,
   "id": "ff8f53f16b0e5ffd",
   "metadata": {
    "ExecuteTime": {
     "end_time": "2023-12-18T00:26:10.422260529Z",
     "start_time": "2023-12-18T00:26:10.417446314Z"
    },
    "collapsed": false
   },
   "outputs": [
    {
     "data": {
      "text/plain": [
       "(169, (12-12j), 3)"
      ]
     },
     "execution_count": 7,
     "metadata": {},
     "output_type": "execute_result"
    }
   ],
   "source": [
    "len(grid), dest, grid[dest]"
   ]
  },
  {
   "cell_type": "code",
   "execution_count": 67,
   "id": "c474ee6c9cbebaf6",
   "metadata": {
    "collapsed": false,
    "ExecuteTime": {
     "end_time": "2023-12-18T12:54:37.986493761Z",
     "start_time": "2023-12-18T12:54:37.982652212Z"
    }
   },
   "outputs": [],
   "source": [
    "def minimum_heat_loss(data):\n",
    "    grid, dest = parse_puzzle(data)\n",
    "    return astar(grid, dest)\n",
    "\n",
    "def astar(grid, dest):\n",
    "    pq = []\n",
    "    visited = {}\n",
    "    def h(pt):\n",
    "        return manhattan(pt, dest)\n",
    "    start = 0\n",
    "    startcost = 0\n",
    "    for startd in [1, 1j, -1, -1j]:    \n",
    "        heappush(pq, (h(start)+startcost, startcost, c2t(start), c2t(startd)))\n",
    "    while pq:\n",
    "        _, cost, pt, dt = heappop(pq)\n",
    "        p = t2c(pt)\n",
    "        d = t2c(dt)\n",
    "        if (p, d) in visited and visited[(p, d)] <= cost:\n",
    "            continue\n",
    "        if p == dest:\n",
    "            return cost\n",
    "        visited[(p, d)] = cost\n",
    "        for turn in (1j, -1j):\n",
    "            newd = d * turn\n",
    "            newp = p\n",
    "            newcost = cost\n",
    "            for _ in range(3):\n",
    "                newp = newp + newd\n",
    "                if newp not in grid:\n",
    "                    break\n",
    "                newcost = newcost + grid[newp]\n",
    "                heappush(pq, (h(newp) + newcost, newcost, c2t(newp), c2t(newd)))\n",
    "    return 0\n",
    "\n",
    "def c2t(c):\n",
    "    return int(c.real), int(c.imag)\n",
    "\n",
    "def t2c(t):\n",
    "    return complex(*t)\n",
    "\n",
    "def manhattan(a, b):\n",
    "    return abs(int(a.real) - int(b.real)) + abs(int(a.imag) - int(b.imag))\n"
   ]
  },
  {
   "cell_type": "code",
   "execution_count": 63,
   "outputs": [
    {
     "data": {
      "text/plain": "102"
     },
     "execution_count": 63,
     "metadata": {},
     "output_type": "execute_result"
    }
   ],
   "source": [
    "minimum_heat_loss(testdata)"
   ],
   "metadata": {
    "collapsed": false,
    "ExecuteTime": {
     "end_time": "2023-12-18T12:53:00.353278665Z",
     "start_time": "2023-12-18T12:53:00.345493902Z"
    }
   },
   "id": "b85720e56ca014dc"
  },
  {
   "cell_type": "code",
   "execution_count": 64,
   "outputs": [
    {
     "name": "stdout",
     "output_type": "stream",
     "text": [
      "CPU times: user 1.76 s, sys: 25 µs, total: 1.76 s\n",
      "Wall time: 1.76 s\n"
     ]
    },
    {
     "data": {
      "text/plain": "1260"
     },
     "execution_count": 64,
     "metadata": {},
     "output_type": "execute_result"
    }
   ],
   "source": [
    "%%time\n",
    "minimum_heat_loss(puzzle)"
   ],
   "metadata": {
    "collapsed": false,
    "ExecuteTime": {
     "end_time": "2023-12-18T12:53:04.577369508Z",
     "start_time": "2023-12-18T12:53:02.817105594Z"
    }
   },
   "id": "15615f7e94dafbb6"
  },
  {
   "cell_type": "markdown",
   "source": [
    "### Part 2"
   ],
   "metadata": {
    "collapsed": false
   },
   "id": "f804ad7895e6db77"
  },
  {
   "cell_type": "code",
   "execution_count": 71,
   "outputs": [],
   "source": [
    "def ultra_minimum_heat_loss(data, start=0):\n",
    "    grid, dest = parse_puzzle(data)\n",
    "    return ultra_astar(grid, dest)\n",
    "\n",
    "def ultra_astar(grid, dest):\n",
    "    pq = []\n",
    "    visited = {}\n",
    "    def h(pt):\n",
    "        return manhattan(pt, dest)\n",
    "    start = 0\n",
    "    startcost = 0\n",
    "    for startd in [1, 1j, -1, -1j]:    \n",
    "        heappush(pq, (h(start)+startcost, startcost, c2t(start), c2t(startd)))\n",
    "    while pq:\n",
    "        _, cost, pt, dt = heappop(pq)\n",
    "        p = t2c(pt)\n",
    "        d = t2c(dt)\n",
    "        if (p, d) in visited and visited[(p, d)] <= cost:\n",
    "            continue\n",
    "        if p == dest:\n",
    "            return cost\n",
    "        visited[(p, d)] = cost\n",
    "        for turn in (1j, -1j):\n",
    "            newd = d * turn\n",
    "            newp = p\n",
    "            newcost = cost\n",
    "            for i in range(1, 11):\n",
    "                newp = newp + newd\n",
    "                if newp not in grid:\n",
    "                    break\n",
    "                newcost = newcost + grid[newp]\n",
    "                if i > 3:\n",
    "                    heappush(pq, (h(newp) + newcost, newcost, c2t(newp), c2t(newd)))\n",
    "    return 0"
   ],
   "metadata": {
    "collapsed": false,
    "ExecuteTime": {
     "end_time": "2023-12-18T12:57:41.179648847Z",
     "start_time": "2023-12-18T12:57:41.138741872Z"
    }
   },
   "id": "a416307445611cad"
  },
  {
   "cell_type": "code",
   "execution_count": 72,
   "outputs": [
    {
     "data": {
      "text/plain": "94"
     },
     "execution_count": 72,
     "metadata": {},
     "output_type": "execute_result"
    }
   ],
   "source": [
    "ultra_minimum_heat_loss(testdata)"
   ],
   "metadata": {
    "collapsed": false,
    "ExecuteTime": {
     "end_time": "2023-12-18T12:57:42.433220781Z",
     "start_time": "2023-12-18T12:57:42.412307052Z"
    }
   },
   "id": "443bd5290f99e2ce"
  },
  {
   "cell_type": "code",
   "execution_count": 73,
   "outputs": [
    {
     "data": {
      "text/plain": "71"
     },
     "execution_count": 73,
     "metadata": {},
     "output_type": "execute_result"
    }
   ],
   "source": [
    "ultra_minimum_heat_loss(\"\"\"\\\n",
    "111111111111\n",
    "999999999991\n",
    "999999999991\n",
    "999999999991\n",
    "999999999991\"\"\")"
   ],
   "metadata": {
    "collapsed": false,
    "ExecuteTime": {
     "end_time": "2023-12-18T12:58:36.453769943Z",
     "start_time": "2023-12-18T12:58:36.374168094Z"
    }
   },
   "id": "f5c155622cbd85d6"
  },
  {
   "cell_type": "code",
   "execution_count": 74,
   "outputs": [
    {
     "name": "stdout",
     "output_type": "stream",
     "text": [
      "CPU times: user 2.87 s, sys: 0 ns, total: 2.87 s\n",
      "Wall time: 2.87 s\n"
     ]
    },
    {
     "data": {
      "text/plain": "1416"
     },
     "execution_count": 74,
     "metadata": {},
     "output_type": "execute_result"
    }
   ],
   "source": [
    "%%time\n",
    "ultra_minimum_heat_loss(puzzle)"
   ],
   "metadata": {
    "collapsed": false,
    "ExecuteTime": {
     "end_time": "2023-12-18T12:59:27.321494229Z",
     "start_time": "2023-12-18T12:59:24.452575623Z"
    }
   },
   "id": "73db9a177e57bd57"
  }
 ],
 "metadata": {
  "kernelspec": {
   "display_name": "Python 3 (ipykernel)",
   "language": "python",
   "name": "python3"
  },
  "language_info": {
   "codemirror_mode": {
    "name": "ipython",
    "version": 3
   },
   "file_extension": ".py",
   "mimetype": "text/x-python",
   "name": "python",
   "nbconvert_exporter": "python",
   "pygments_lexer": "ipython3",
   "version": "3.11.7"
  }
 },
 "nbformat": 4,
 "nbformat_minor": 5
}
