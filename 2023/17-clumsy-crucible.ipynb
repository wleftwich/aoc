{
 "cells": [
  {
   "cell_type": "markdown",
   "id": "cedcab373fc90fdb",
   "metadata": {
    "collapsed": false
   },
   "source": [
    "https://adventofcode.com/2023/day/17"
   ]
  },
  {
   "cell_type": "code",
   "execution_count": 1,
   "outputs": [],
   "source": [
    "from heapq import heappush, heappop"
   ],
   "metadata": {
    "collapsed": false,
    "ExecuteTime": {
     "end_time": "2023-12-18T14:59:58.455541072Z",
     "start_time": "2023-12-18T14:59:58.419999935Z"
    }
   },
   "id": "315fc40c84c31bda"
  },
  {
   "cell_type": "code",
   "execution_count": 2,
   "id": "ae3b7979e1a068fe",
   "metadata": {
    "collapsed": false,
    "ExecuteTime": {
     "end_time": "2023-12-18T14:59:58.480593973Z",
     "start_time": "2023-12-18T14:59:58.455730842Z"
    }
   },
   "outputs": [],
   "source": [
    "with open(\"data/17.txt\") as fh:\n",
    "    puzzle = fh.read()"
   ]
  },
  {
   "cell_type": "code",
   "execution_count": 3,
   "id": "957f7c7023d9611e",
   "metadata": {
    "collapsed": false,
    "ExecuteTime": {
     "end_time": "2023-12-18T14:59:58.511106177Z",
     "start_time": "2023-12-18T14:59:58.480598440Z"
    }
   },
   "outputs": [],
   "source": [
    "testdata = \"\"\"\\\n",
    "2413432311323\n",
    "3215453535623\n",
    "3255245654254\n",
    "3446585845452\n",
    "4546657867536\n",
    "1438598798454\n",
    "4457876987766\n",
    "3637877979653\n",
    "4654967986887\n",
    "4564679986453\n",
    "1224686865563\n",
    "2546548887735\n",
    "4322674655533\n",
    "\"\"\""
   ]
  },
  {
   "cell_type": "code",
   "execution_count": 4,
   "id": "e1488d054055ba44",
   "metadata": {
    "collapsed": false,
    "ExecuteTime": {
     "end_time": "2023-12-18T14:59:58.532184823Z",
     "start_time": "2023-12-18T14:59:58.484562750Z"
    }
   },
   "outputs": [],
   "source": [
    "def parse_puzzle(data):\n",
    "    D = {}\n",
    "    for r, line in enumerate(data.splitlines()):\n",
    "        for c, char in enumerate(line):\n",
    "            p = c - r * 1j\n",
    "            D[p] = int(char)\n",
    "    return D, p"
   ]
  },
  {
   "cell_type": "code",
   "execution_count": 5,
   "id": "4e8cb003125b00a",
   "metadata": {
    "collapsed": false,
    "ExecuteTime": {
     "end_time": "2023-12-18T14:59:58.532610480Z",
     "start_time": "2023-12-18T14:59:58.513237933Z"
    }
   },
   "outputs": [],
   "source": [
    "grid, dest = parse_puzzle(testdata)"
   ]
  },
  {
   "cell_type": "code",
   "execution_count": 6,
   "id": "ff8f53f16b0e5ffd",
   "metadata": {
    "collapsed": false,
    "ExecuteTime": {
     "end_time": "2023-12-18T14:59:58.534577563Z",
     "start_time": "2023-12-18T14:59:58.532646384Z"
    }
   },
   "outputs": [
    {
     "data": {
      "text/plain": "(169, (12-12j), 3)"
     },
     "execution_count": 6,
     "metadata": {},
     "output_type": "execute_result"
    }
   ],
   "source": [
    "len(grid), dest, grid[dest]"
   ]
  },
  {
   "cell_type": "code",
   "execution_count": 7,
   "id": "c474ee6c9cbebaf6",
   "metadata": {
    "collapsed": false,
    "ExecuteTime": {
     "end_time": "2023-12-18T14:59:58.557318358Z",
     "start_time": "2023-12-18T14:59:58.537809714Z"
    }
   },
   "outputs": [],
   "source": [
    "def minimum_heat_loss(data):\n",
    "    grid, dest = parse_puzzle(data)\n",
    "    return dijkstra(grid, dest)\n",
    "\n",
    "\n",
    "def dijkstra(grid, dest):\n",
    "    pq = []\n",
    "    visited = {}\n",
    "    start = 0\n",
    "    startcost = 0\n",
    "    for startd in [1, 1j, -1, -1j]:\n",
    "        heappush(pq, (startcost, c2t(start), c2t(startd)))\n",
    "    while pq:\n",
    "        cost, pt, dt = heappop(pq)\n",
    "        p = t2c(pt)\n",
    "        d = t2c(dt)\n",
    "        if (p, d) in visited and visited[(p, d)] <= cost:\n",
    "            continue\n",
    "        if p == dest:\n",
    "            return cost\n",
    "        visited[(p, d)] = cost\n",
    "        for turn in (1j, -1j):\n",
    "            newd = d * turn\n",
    "            newp = p\n",
    "            newcost = cost\n",
    "            for _ in range(3):\n",
    "                newp += newd\n",
    "                if newp not in grid:\n",
    "                    break\n",
    "                newcost += grid[newp]\n",
    "                heappush(pq, (newcost, c2t(newp), c2t(newd)))\n",
    "    raise ValueError(\"No solution found\")\n",
    "\n",
    "\n",
    "def c2t(c):\n",
    "    return int(c.real), int(c.imag)\n",
    "\n",
    "\n",
    "def t2c(t):\n",
    "    return complex(*t)"
   ]
  },
  {
   "cell_type": "code",
   "execution_count": 8,
   "outputs": [
    {
     "data": {
      "text/plain": "102"
     },
     "execution_count": 8,
     "metadata": {},
     "output_type": "execute_result"
    }
   ],
   "source": [
    "minimum_heat_loss(testdata)"
   ],
   "metadata": {
    "collapsed": false,
    "ExecuteTime": {
     "end_time": "2023-12-18T14:59:58.564705Z",
     "start_time": "2023-12-18T14:59:58.555552122Z"
    }
   },
   "id": "b85720e56ca014dc"
  },
  {
   "cell_type": "code",
   "execution_count": 9,
   "outputs": [
    {
     "name": "stdout",
     "output_type": "stream",
     "text": [
      "CPU times: user 883 ms, sys: 4.42 ms, total: 887 ms\n",
      "Wall time: 887 ms\n"
     ]
    },
    {
     "data": {
      "text/plain": "1260"
     },
     "execution_count": 9,
     "metadata": {},
     "output_type": "execute_result"
    }
   ],
   "source": [
    "%%time\n",
    "minimum_heat_loss(puzzle)"
   ],
   "metadata": {
    "collapsed": false,
    "ExecuteTime": {
     "end_time": "2023-12-18T14:59:59.495522811Z",
     "start_time": "2023-12-18T14:59:58.559338838Z"
    }
   },
   "id": "15615f7e94dafbb6"
  },
  {
   "cell_type": "markdown",
   "source": [
    "### Part 2"
   ],
   "metadata": {
    "collapsed": false
   },
   "id": "f804ad7895e6db77"
  },
  {
   "cell_type": "code",
   "execution_count": 10,
   "outputs": [],
   "source": [
    "def ultra_minimum_heat_loss(data):\n",
    "    grid, dest = parse_puzzle(data)\n",
    "    return ultra_dijkstra(grid, dest)\n",
    "\n",
    "\n",
    "def ultra_dijkstra(grid, dest):\n",
    "    pq = []\n",
    "    visited = {}\n",
    "    start = 0\n",
    "    startcost = 0\n",
    "    for startd in [1, 1j, -1, -1j]:\n",
    "        heappush(pq, (startcost, c2t(start), c2t(startd)))\n",
    "    while pq:\n",
    "        cost, pt, dt = heappop(pq)\n",
    "        p = t2c(pt)\n",
    "        d = t2c(dt)\n",
    "        if (p, d) in visited and visited[(p, d)] <= cost:\n",
    "            continue\n",
    "        if p == dest:\n",
    "            return cost\n",
    "        visited[(p, d)] = cost\n",
    "        for turn in (1j, -1j):\n",
    "            newd = d * turn\n",
    "            newp = p\n",
    "            newcost = cost\n",
    "            for i in range(1, 11):\n",
    "                newp += newd\n",
    "                if newp not in grid:\n",
    "                    break\n",
    "                newcost += grid[newp]\n",
    "                if i > 3:\n",
    "                    heappush(pq, (newcost, c2t(newp), c2t(newd)))\n",
    "    raise ValueError(\"No solution found\")"
   ],
   "metadata": {
    "collapsed": false,
    "ExecuteTime": {
     "end_time": "2023-12-18T14:59:59.496153774Z",
     "start_time": "2023-12-18T14:59:59.495270706Z"
    }
   },
   "id": "a416307445611cad"
  },
  {
   "cell_type": "code",
   "execution_count": 11,
   "outputs": [
    {
     "data": {
      "text/plain": "94"
     },
     "execution_count": 11,
     "metadata": {},
     "output_type": "execute_result"
    }
   ],
   "source": [
    "ultra_minimum_heat_loss(testdata)"
   ],
   "metadata": {
    "collapsed": false,
    "ExecuteTime": {
     "end_time": "2023-12-18T14:59:59.496508893Z",
     "start_time": "2023-12-18T14:59:59.495449229Z"
    }
   },
   "id": "443bd5290f99e2ce"
  },
  {
   "cell_type": "code",
   "execution_count": 12,
   "outputs": [
    {
     "data": {
      "text/plain": "71"
     },
     "execution_count": 12,
     "metadata": {},
     "output_type": "execute_result"
    }
   ],
   "source": [
    "ultra_minimum_heat_loss(\n",
    "    \"\"\"\\\n",
    "111111111111\n",
    "999999999991\n",
    "999999999991\n",
    "999999999991\n",
    "999999999991\"\"\"\n",
    ")"
   ],
   "metadata": {
    "collapsed": false,
    "ExecuteTime": {
     "end_time": "2023-12-18T14:59:59.504889371Z",
     "start_time": "2023-12-18T14:59:59.495563496Z"
    }
   },
   "id": "f5c155622cbd85d6"
  },
  {
   "cell_type": "code",
   "execution_count": 13,
   "outputs": [
    {
     "name": "stdout",
     "output_type": "stream",
     "text": [
      "CPU times: user 2.46 s, sys: 315 µs, total: 2.46 s\n",
      "Wall time: 2.46 s\n"
     ]
    },
    {
     "data": {
      "text/plain": "1416"
     },
     "execution_count": 13,
     "metadata": {},
     "output_type": "execute_result"
    }
   ],
   "source": [
    "%%time\n",
    "ultra_minimum_heat_loss(puzzle)"
   ],
   "metadata": {
    "collapsed": false,
    "ExecuteTime": {
     "end_time": "2023-12-18T15:00:01.972429567Z",
     "start_time": "2023-12-18T14:59:59.503567186Z"
    }
   },
   "id": "73db9a177e57bd57"
  }
 ],
 "metadata": {
  "kernelspec": {
   "display_name": "Python 3 (ipykernel)",
   "language": "python",
   "name": "python3"
  },
  "language_info": {
   "codemirror_mode": {
    "name": "ipython",
    "version": 3
   },
   "file_extension": ".py",
   "mimetype": "text/x-python",
   "name": "python",
   "nbconvert_exporter": "python",
   "pygments_lexer": "ipython3",
   "version": "3.11.7"
  }
 },
 "nbformat": 4,
 "nbformat_minor": 5
}
