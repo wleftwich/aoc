{
 "cells": [
  {
   "cell_type": "markdown",
   "source": [
    "https://adventofcode.com/2023/day/23"
   ],
   "metadata": {
    "collapsed": false
   },
   "id": "9354c5af165e0d75"
  },
  {
   "cell_type": "code",
   "outputs": [],
   "source": [
    "from collections import deque, defaultdict\n",
    "from functools import cache\n",
    "from heapq import heappush, heappop\n",
    "from itertools import pairwise\n",
    "\n",
    "import networkx as nx"
   ],
   "metadata": {
    "collapsed": false,
    "ExecuteTime": {
     "end_time": "2024-01-09T20:54:30.027163567Z",
     "start_time": "2024-01-09T20:54:29.967249078Z"
    }
   },
   "id": "e9c1c9c3e1d21b65",
   "execution_count": 111
  },
  {
   "cell_type": "code",
   "outputs": [],
   "source": [
    "with open(\"data/23.txt\") as fh:\n",
    "    data = fh.read()"
   ],
   "metadata": {
    "collapsed": false,
    "ExecuteTime": {
     "end_time": "2024-01-09T19:49:15.585099182Z",
     "start_time": "2024-01-09T19:49:15.571926372Z"
    }
   },
   "id": "8197462a1792d589",
   "execution_count": 2
  },
  {
   "cell_type": "code",
   "outputs": [],
   "source": [
    "testdata = \"\"\"\\\n",
    "#.#####################\n",
    "#.......#########...###\n",
    "#######.#########.#.###\n",
    "###.....#.>.>.###.#.###\n",
    "###v#####.#v#.###.#.###\n",
    "###.>...#.#.#.....#...#\n",
    "###v###.#.#.#########.#\n",
    "###...#.#.#.......#...#\n",
    "#####.#.#.#######.#.###\n",
    "#.....#.#.#.......#...#\n",
    "#.#####.#.#.#########v#\n",
    "#.#...#...#...###...>.#\n",
    "#.#.#v#######v###.###v#\n",
    "#...#.>.#...>.>.#.###.#\n",
    "#####v#.#.###v#.#.###.#\n",
    "#.....#...#...#.#.#...#\n",
    "#.#########.###.#.#.###\n",
    "#...###...#...#...#.###\n",
    "###.###.#.###v#####v###\n",
    "#...#...#.#.>.>.#.>.###\n",
    "#.###.###.#.###.#.#v###\n",
    "#.....###...###...#...#\n",
    "#####################.#\n",
    "\"\"\""
   ],
   "metadata": {
    "collapsed": false,
    "ExecuteTime": {
     "end_time": "2024-01-09T19:49:15.585931243Z",
     "start_time": "2024-01-09T19:49:15.572315840Z"
    }
   },
   "id": "76640a3fa06fb816",
   "execution_count": 3
  },
  {
   "cell_type": "code",
   "outputs": [],
   "source": [
    "def parse_puzzle(puzzle):\n",
    "    D = {}\n",
    "    for r, line in enumerate(puzzle.splitlines()):\n",
    "        for c, char in enumerate(line):\n",
    "            if char != \"#\":\n",
    "                D[c - r * 1j] = char\n",
    "    return D"
   ],
   "metadata": {
    "collapsed": false,
    "ExecuteTime": {
     "end_time": "2024-01-09T19:49:15.614532425Z",
     "start_time": "2024-01-09T19:49:15.572625058Z"
    }
   },
   "id": "8fd8902d86ac3065",
   "execution_count": 4
  },
  {
   "cell_type": "code",
   "outputs": [],
   "source": [
    "trailmap = parse_puzzle(testdata)"
   ],
   "metadata": {
    "collapsed": false,
    "ExecuteTime": {
     "end_time": "2024-01-09T19:49:15.616179355Z",
     "start_time": "2024-01-09T19:49:15.585059134Z"
    }
   },
   "id": "442f1e673cbf2c6c",
   "execution_count": 5
  },
  {
   "cell_type": "code",
   "outputs": [
    {
     "data": {
      "text/plain": "{(1+0j): '.',\n (1-1j): '.',\n (2-1j): '.',\n (3-1j): '.',\n (4-1j): '.',\n (5-1j): '.',\n (6-1j): '.',\n (7-1j): '.',\n (17-1j): '.',\n (18-1j): '.',\n (19-1j): '.',\n (7-2j): '.',\n (17-2j): '.',\n (19-2j): '.',\n (3-3j): '.',\n (4-3j): '.',\n (5-3j): '.',\n (6-3j): '.',\n (7-3j): '.',\n (9-3j): '.',\n (10-3j): '>',\n (11-3j): '.',\n (12-3j): '>',\n (13-3j): '.',\n (17-3j): '.',\n (19-3j): '.',\n (3-4j): 'v',\n (9-4j): '.',\n (11-4j): 'v',\n (13-4j): '.',\n (17-4j): '.',\n (19-4j): '.',\n (3-5j): '.',\n (4-5j): '>',\n (5-5j): '.',\n (6-5j): '.',\n (7-5j): '.',\n (9-5j): '.',\n (11-5j): '.',\n (13-5j): '.',\n (14-5j): '.',\n (15-5j): '.',\n (16-5j): '.',\n (17-5j): '.',\n (19-5j): '.',\n (20-5j): '.',\n (21-5j): '.',\n (3-6j): 'v',\n (7-6j): '.',\n (9-6j): '.',\n (11-6j): '.',\n (21-6j): '.',\n (3-7j): '.',\n (4-7j): '.',\n (5-7j): '.',\n (7-7j): '.',\n (9-7j): '.',\n (11-7j): '.',\n (12-7j): '.',\n (13-7j): '.',\n (14-7j): '.',\n (15-7j): '.',\n (16-7j): '.',\n (17-7j): '.',\n (19-7j): '.',\n (20-7j): '.',\n (21-7j): '.',\n (5-8j): '.',\n (7-8j): '.',\n (9-8j): '.',\n (17-8j): '.',\n (19-8j): '.',\n (1-9j): '.',\n (2-9j): '.',\n (3-9j): '.',\n (4-9j): '.',\n (5-9j): '.',\n (7-9j): '.',\n (9-9j): '.',\n (11-9j): '.',\n (12-9j): '.',\n (13-9j): '.',\n (14-9j): '.',\n (15-9j): '.',\n (16-9j): '.',\n (17-9j): '.',\n (19-9j): '.',\n (20-9j): '.',\n (21-9j): '.',\n (1-10j): '.',\n (7-10j): '.',\n (9-10j): '.',\n (11-10j): '.',\n (21-10j): 'v',\n (1-11j): '.',\n (3-11j): '.',\n (4-11j): '.',\n (5-11j): '.',\n (7-11j): '.',\n (8-11j): '.',\n (9-11j): '.',\n (11-11j): '.',\n (12-11j): '.',\n (13-11j): '.',\n (17-11j): '.',\n (18-11j): '.',\n (19-11j): '.',\n (20-11j): '>',\n (21-11j): '.',\n (1-12j): '.',\n (3-12j): '.',\n (5-12j): 'v',\n (13-12j): 'v',\n (17-12j): '.',\n (21-12j): 'v',\n (1-13j): '.',\n (2-13j): '.',\n (3-13j): '.',\n (5-13j): '.',\n (6-13j): '>',\n (7-13j): '.',\n (9-13j): '.',\n (10-13j): '.',\n (11-13j): '.',\n (12-13j): '>',\n (13-13j): '.',\n (14-13j): '>',\n (15-13j): '.',\n (17-13j): '.',\n (21-13j): '.',\n (5-14j): 'v',\n (7-14j): '.',\n (9-14j): '.',\n (13-14j): 'v',\n (15-14j): '.',\n (17-14j): '.',\n (21-14j): '.',\n (1-15j): '.',\n (2-15j): '.',\n (3-15j): '.',\n (4-15j): '.',\n (5-15j): '.',\n (7-15j): '.',\n (8-15j): '.',\n (9-15j): '.',\n (11-15j): '.',\n (12-15j): '.',\n (13-15j): '.',\n (15-15j): '.',\n (17-15j): '.',\n (19-15j): '.',\n (20-15j): '.',\n (21-15j): '.',\n (1-16j): '.',\n (11-16j): '.',\n (15-16j): '.',\n (17-16j): '.',\n (19-16j): '.',\n (1-17j): '.',\n (2-17j): '.',\n (3-17j): '.',\n (7-17j): '.',\n (8-17j): '.',\n (9-17j): '.',\n (11-17j): '.',\n (12-17j): '.',\n (13-17j): '.',\n (15-17j): '.',\n (16-17j): '.',\n (17-17j): '.',\n (19-17j): '.',\n (3-18j): '.',\n (7-18j): '.',\n (9-18j): '.',\n (13-18j): 'v',\n (19-18j): 'v',\n (1-19j): '.',\n (2-19j): '.',\n (3-19j): '.',\n (5-19j): '.',\n (6-19j): '.',\n (7-19j): '.',\n (9-19j): '.',\n (11-19j): '.',\n (12-19j): '>',\n (13-19j): '.',\n (14-19j): '>',\n (15-19j): '.',\n (17-19j): '.',\n (18-19j): '>',\n (19-19j): '.',\n (1-20j): '.',\n (5-20j): '.',\n (9-20j): '.',\n (11-20j): '.',\n (15-20j): '.',\n (17-20j): '.',\n (19-20j): 'v',\n (1-21j): '.',\n (2-21j): '.',\n (3-21j): '.',\n (4-21j): '.',\n (5-21j): '.',\n (9-21j): '.',\n (10-21j): '.',\n (11-21j): '.',\n (15-21j): '.',\n (16-21j): '.',\n (17-21j): '.',\n (19-21j): '.',\n (20-21j): '.',\n (21-21j): '.',\n (21-22j): '.'}"
     },
     "execution_count": 6,
     "metadata": {},
     "output_type": "execute_result"
    }
   ],
   "source": [
    "trailmap"
   ],
   "metadata": {
    "collapsed": false,
    "ExecuteTime": {
     "end_time": "2024-01-09T19:49:15.632864686Z",
     "start_time": "2024-01-09T19:49:15.616054067Z"
    }
   },
   "id": "bbb8b3576f999031",
   "execution_count": 6
  },
  {
   "cell_type": "code",
   "outputs": [],
   "source": [
    "def longest_walk_dfs(trailmap):\n",
    "    drxn_lookup = {\n",
    "        \">\": [1],\n",
    "        \"^\": [1j],\n",
    "        \"<\": [-1],\n",
    "        \"v\": [-1j],\n",
    "        \".\": [1, 1j, -1, -1j]\n",
    "    }\n",
    "    longest_walks = {}\n",
    "    start, finish = start_finish(trailmap)\n",
    "    stack = [(start, {start: 0})]\n",
    "    while stack:\n",
    "        pos, d = stack.pop()\n",
    "        steps_so_far = d[pos]\n",
    "        longest_walks[pos] = max(steps_so_far, longest_walks.get(pos, -1))\n",
    "        for drxn in drxn_lookup[trailmap[pos]]:\n",
    "            nabe = pos + drxn\n",
    "            if nabe not in trailmap or nabe in d:\n",
    "                continue\n",
    "            newpos = nabe\n",
    "            newd = d.copy()\n",
    "            newd[newpos] = steps_so_far + 1\n",
    "            stack.append((newpos, newd))\n",
    "    \n",
    "    return longest_walks[finish]\n",
    "\n",
    "\n",
    "def start_finish(trailmap):\n",
    "    ymax, ymin = -float(\"inf\"), float(\"inf\")\n",
    "    start = finish = None\n",
    "    for pos in trailmap:\n",
    "        y = pos.imag\n",
    "        if y > ymax:\n",
    "            ymax = y\n",
    "            start = pos\n",
    "        if y < ymin:\n",
    "            ymin = y\n",
    "            finish = pos\n",
    "    return start, finish    "
   ],
   "metadata": {
    "collapsed": false,
    "ExecuteTime": {
     "end_time": "2024-01-09T19:49:15.633749471Z",
     "start_time": "2024-01-09T19:49:15.616781513Z"
    }
   },
   "id": "aa8804423ccdefdc",
   "execution_count": 7
  },
  {
   "cell_type": "code",
   "outputs": [
    {
     "data": {
      "text/plain": "94"
     },
     "execution_count": 8,
     "metadata": {},
     "output_type": "execute_result"
    }
   ],
   "source": [
    "longest_walk_dfs(parse_puzzle(testdata))"
   ],
   "metadata": {
    "collapsed": false,
    "ExecuteTime": {
     "end_time": "2024-01-09T19:49:15.642542868Z",
     "start_time": "2024-01-09T19:49:15.617528737Z"
    }
   },
   "id": "d945c928dbaa0432",
   "execution_count": 8
  },
  {
   "cell_type": "code",
   "outputs": [
    {
     "name": "stdout",
     "output_type": "stream",
     "text": [
      "CPU times: user 791 ms, sys: 0 ns, total: 791 ms\n",
      "Wall time: 790 ms\n"
     ]
    },
    {
     "data": {
      "text/plain": "2230"
     },
     "execution_count": 9,
     "metadata": {},
     "output_type": "execute_result"
    }
   ],
   "source": [
    "%%time\n",
    "longest_walk_dfs(parse_puzzle(data))"
   ],
   "metadata": {
    "collapsed": false,
    "ExecuteTime": {
     "end_time": "2024-01-09T19:49:16.475749886Z",
     "start_time": "2024-01-09T19:49:15.632205686Z"
    }
   },
   "id": "3a1e032f82410fb7",
   "execution_count": 9
  },
  {
   "cell_type": "markdown",
   "source": [
    "## Part 2"
   ],
   "metadata": {
    "collapsed": false
   },
   "id": "34854f1041c3a0c"
  },
  {
   "cell_type": "markdown",
   "source": [
    "### Try contracting the graph"
   ],
   "metadata": {
    "collapsed": false
   },
   "id": "bfd7943296f17265"
  },
  {
   "cell_type": "code",
   "outputs": [],
   "source": [
    "def contract(G, node, nabe):\n",
    "    while G.degree(nabe) == 2:\n",
    "        nextalong = [x for x in G.neighbors(nabe) if x != node][0]\n",
    "        weightsum = G[node][nabe][\"weight\"] + G[nabe][nextalong][\"weight\"]\n",
    "        if nextalong in G.neighbors(node):\n",
    "            weightsum = max(weightsum, G[node][nextalong][\"weight\"])\n",
    "        G.remove_edge(node, nabe)\n",
    "        G.remove_edge(nabe, nextalong)\n",
    "        G.add_edge(node, nextalong, weight=weightsum)\n",
    "        nabe = nextalong\n",
    "        \n",
    "        \n",
    "def total_edge_weight(G, pth):\n",
    "    return sum(G[a][b][\"weight\"] for (a, b) in pairwise(pth))"
   ],
   "metadata": {
    "collapsed": false
   },
   "id": "bfb6cdcdb6183e42",
   "execution_count": 112
  },
  {
   "cell_type": "code",
   "outputs": [
    {
     "name": "stdout",
     "output_type": "stream",
     "text": [
      "CPU times: user 2.57 ms, sys: 0 ns, total: 2.57 ms\n",
      "Wall time: 2.58 ms\n"
     ]
    },
    {
     "data": {
      "text/plain": "154"
     },
     "execution_count": 124,
     "metadata": {},
     "output_type": "execute_result"
    }
   ],
   "source": [
    "%%time\n",
    "trailmap = parse_puzzle(testdata)\n",
    "start, finish = start_finish(trailmap)\n",
    "G = nx.Graph()\n",
    "G.add_nodes_from(trailmap)\n",
    "\n",
    "for node in G:\n",
    "    for drxn in [1, 1j, -1, -1j]:\n",
    "        nabe = node + drxn\n",
    "        if nabe in G:\n",
    "            G.add_edge(node, nabe, weight=1)\n",
    "\n",
    "junctions = {node for node in G if node in (start, finish) or G.degree(node) > 2}\n",
    "\n",
    "for j in junctions:\n",
    "    nabes = [x for x in G.neighbors(j) if G.degree(x) == 2]\n",
    "    for nabe in nabes:\n",
    "        try:\n",
    "            contract(G, j, nabe)\n",
    "        except KeyError:\n",
    "            pass\n",
    "\n",
    "maxsteps = 0\n",
    "for pth in nx.all_simple_paths(G, start, finish):\n",
    "    maxsteps = max(maxsteps, total_edge_weight(G, pth))\n",
    "maxsteps"
   ],
   "metadata": {
    "collapsed": false,
    "ExecuteTime": {
     "end_time": "2024-01-09T21:04:07.980031877Z",
     "start_time": "2024-01-09T21:04:07.933469241Z"
    }
   },
   "id": "f71e7f41ef509e26",
   "execution_count": 124
  },
  {
   "cell_type": "code",
   "outputs": [
    {
     "name": "stdout",
     "output_type": "stream",
     "text": [
      "CPU times: user 1min 7s, sys: 2.42 ms, total: 1min 7s\n",
      "Wall time: 1min 7s\n"
     ]
    },
    {
     "data": {
      "text/plain": "6542"
     },
     "execution_count": 125,
     "metadata": {},
     "output_type": "execute_result"
    }
   ],
   "source": [
    "%%time\n",
    "trailmap = parse_puzzle(data)\n",
    "start, finish = start_finish(trailmap)\n",
    "G = nx.Graph()\n",
    "G.add_nodes_from(trailmap)\n",
    "\n",
    "for node in G:\n",
    "    for drxn in [1, 1j, -1, -1j]:\n",
    "        nabe = node + drxn\n",
    "        if nabe in G:\n",
    "            G.add_edge(node, nabe, weight=1)\n",
    "\n",
    "junctions = {node for node in G if node in (start, finish) or G.degree(node) > 2}\n",
    "\n",
    "for j in junctions:\n",
    "    nabes = [x for x in G.neighbors(j) if G.degree(x) == 2]\n",
    "    for nabe in nabes:\n",
    "        try:\n",
    "            contract(G, j, nabe)\n",
    "        except KeyError:\n",
    "            pass\n",
    "\n",
    "maxsteps = 0\n",
    "for pth in nx.all_simple_paths(G, start, finish):\n",
    "    maxsteps = max(maxsteps, total_edge_weight(G, pth))\n",
    "maxsteps"
   ],
   "metadata": {
    "collapsed": false,
    "ExecuteTime": {
     "end_time": "2024-01-09T21:06:08.903754543Z",
     "start_time": "2024-01-09T21:05:01.275890581Z"
    }
   },
   "id": "c3861768db727af",
   "execution_count": 125
  }
 ],
 "metadata": {
  "kernelspec": {
   "display_name": "Python 3",
   "language": "python",
   "name": "python3"
  },
  "language_info": {
   "codemirror_mode": {
    "name": "ipython",
    "version": 2
   },
   "file_extension": ".py",
   "mimetype": "text/x-python",
   "name": "python",
   "nbconvert_exporter": "python",
   "pygments_lexer": "ipython2",
   "version": "2.7.6"
  }
 },
 "nbformat": 4,
 "nbformat_minor": 5
}
