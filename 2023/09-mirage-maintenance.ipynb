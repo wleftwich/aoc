{
 "cells": [
  {
   "cell_type": "markdown",
   "source": [
    "https://adventofcode.com/2023/day/9"
   ],
   "metadata": {
    "collapsed": false
   },
   "id": "764f4c07b55a6dfd"
  },
  {
   "cell_type": "code",
   "execution_count": 2,
   "outputs": [],
   "source": [
    "import numpy as np"
   ],
   "metadata": {
    "collapsed": false,
    "ExecuteTime": {
     "end_time": "2023-12-09T21:49:58.859649174Z",
     "start_time": "2023-12-09T21:49:58.845001141Z"
    }
   },
   "id": "c37b0cb934dac0cb"
  },
  {
   "cell_type": "code",
   "execution_count": 3,
   "outputs": [],
   "source": [
    "with open(\"data/09.txt\") as fh:\n",
    "    data = fh.read()"
   ],
   "metadata": {
    "collapsed": false,
    "ExecuteTime": {
     "end_time": "2023-12-09T21:49:58.860250035Z",
     "start_time": "2023-12-09T21:49:58.857836290Z"
    }
   },
   "id": "a7663ace47da3330"
  },
  {
   "cell_type": "code",
   "execution_count": 4,
   "outputs": [],
   "source": [
    "testdata = \"\"\"\\\n",
    "0 3 6 9 12 15\n",
    "1 3 6 10 15 21\n",
    "10 13 16 21 30 45\n",
    "\"\"\""
   ],
   "metadata": {
    "collapsed": false,
    "ExecuteTime": {
     "end_time": "2023-12-09T21:49:58.897334806Z",
     "start_time": "2023-12-09T21:49:58.860102216Z"
    }
   },
   "id": "7abbf095e589644a"
  },
  {
   "cell_type": "code",
   "execution_count": 5,
   "outputs": [],
   "source": [
    "def str2ar(s):\n",
    "    return np.array([int(x) for x in s.split()])"
   ],
   "metadata": {
    "collapsed": false,
    "ExecuteTime": {
     "end_time": "2023-12-09T21:49:58.936663718Z",
     "start_time": "2023-12-09T21:49:58.913729603Z"
    }
   },
   "id": "8c7d8b61848a53da"
  },
  {
   "cell_type": "code",
   "execution_count": 6,
   "outputs": [],
   "source": [
    "def extrapolate(a):\n",
    "    a = np.array(a)\n",
    "    ttl = a[-1]\n",
    "    while a.size > 1 and not (a == 0).all():\n",
    "        a = np.diff(a)\n",
    "        ttl += a[-1]\n",
    "    return ttl"
   ],
   "metadata": {
    "collapsed": false,
    "ExecuteTime": {
     "end_time": "2023-12-09T21:49:58.936895370Z",
     "start_time": "2023-12-09T21:49:58.913806648Z"
    }
   },
   "id": "12219d285c289fd7"
  },
  {
   "cell_type": "code",
   "execution_count": 7,
   "outputs": [],
   "source": [
    "def sum_extrapolated_values(data):\n",
    "    return sum(extrapolate(str2ar(line)) for line in data.splitlines())"
   ],
   "metadata": {
    "collapsed": false,
    "ExecuteTime": {
     "end_time": "2023-12-09T21:49:58.937019925Z",
     "start_time": "2023-12-09T21:49:58.913829526Z"
    }
   },
   "id": "91b17d86e03e94e8"
  },
  {
   "cell_type": "code",
   "execution_count": 8,
   "outputs": [
    {
     "data": {
      "text/plain": "114"
     },
     "execution_count": 8,
     "metadata": {},
     "output_type": "execute_result"
    }
   ],
   "source": [
    "sum_extrapolated_values(testdata)"
   ],
   "metadata": {
    "collapsed": false,
    "ExecuteTime": {
     "end_time": "2023-12-09T21:49:58.937247696Z",
     "start_time": "2023-12-09T21:49:58.913847834Z"
    }
   },
   "id": "70198c203b330dcb"
  },
  {
   "cell_type": "code",
   "execution_count": 9,
   "outputs": [
    {
     "data": {
      "text/plain": "1921197370"
     },
     "execution_count": 9,
     "metadata": {},
     "output_type": "execute_result"
    }
   ],
   "source": [
    "sum_extrapolated_values(data)"
   ],
   "metadata": {
    "collapsed": false,
    "ExecuteTime": {
     "end_time": "2023-12-09T21:49:59.001847486Z",
     "start_time": "2023-12-09T21:49:58.922333973Z"
    }
   },
   "id": "ca89ed2b0a9a4be3"
  },
  {
   "cell_type": "markdown",
   "source": [
    "### Part 2"
   ],
   "metadata": {
    "collapsed": false
   },
   "id": "cd91f08b550a5323"
  },
  {
   "cell_type": "code",
   "execution_count": 10,
   "outputs": [],
   "source": [
    "def sum_extrapolated_values_reversed(data):\n",
    "    return sum(extrapolate(str2ar(line)[::-1]) for line in data.splitlines())"
   ],
   "metadata": {
    "collapsed": false,
    "ExecuteTime": {
     "end_time": "2023-12-09T21:49:59.002094786Z",
     "start_time": "2023-12-09T21:49:58.981723741Z"
    }
   },
   "id": "1129ea0d2ea259ef"
  },
  {
   "cell_type": "code",
   "execution_count": 11,
   "outputs": [
    {
     "data": {
      "text/plain": "2"
     },
     "execution_count": 11,
     "metadata": {},
     "output_type": "execute_result"
    }
   ],
   "source": [
    "sum_extrapolated_values_reversed(testdata)"
   ],
   "metadata": {
    "collapsed": false,
    "ExecuteTime": {
     "end_time": "2023-12-09T21:49:59.002287623Z",
     "start_time": "2023-12-09T21:49:58.981793483Z"
    }
   },
   "id": "5aae73f68b6f3cd2"
  },
  {
   "cell_type": "code",
   "execution_count": 12,
   "outputs": [
    {
     "data": {
      "text/plain": "1124"
     },
     "execution_count": 12,
     "metadata": {},
     "output_type": "execute_result"
    }
   ],
   "source": [
    "sum_extrapolated_values_reversed(data)"
   ],
   "metadata": {
    "collapsed": false,
    "ExecuteTime": {
     "end_time": "2023-12-09T21:49:59.027551657Z",
     "start_time": "2023-12-09T21:49:58.981823859Z"
    }
   },
   "id": "4328c12fbb311912"
  }
 ],
 "metadata": {
  "kernelspec": {
   "display_name": "Python 3",
   "language": "python",
   "name": "python3"
  },
  "language_info": {
   "codemirror_mode": {
    "name": "ipython",
    "version": 2
   },
   "file_extension": ".py",
   "mimetype": "text/x-python",
   "name": "python",
   "nbconvert_exporter": "python",
   "pygments_lexer": "ipython2",
   "version": "2.7.6"
  }
 },
 "nbformat": 4,
 "nbformat_minor": 5
}
