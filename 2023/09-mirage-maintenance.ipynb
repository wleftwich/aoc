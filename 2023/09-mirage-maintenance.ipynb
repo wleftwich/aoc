{
 "cells": [
  {
   "cell_type": "markdown",
   "source": [
    "https://adventofcode.com/2023/day/9"
   ],
   "metadata": {
    "collapsed": false
   },
   "id": "764f4c07b55a6dfd"
  },
  {
   "cell_type": "code",
   "execution_count": 292,
   "outputs": [],
   "source": [
    "import numpy as np"
   ],
   "metadata": {
    "collapsed": false,
    "ExecuteTime": {
     "end_time": "2023-12-09T21:21:15.011189419Z",
     "start_time": "2023-12-09T21:21:14.992061297Z"
    }
   },
   "id": "c37b0cb934dac0cb"
  },
  {
   "cell_type": "code",
   "execution_count": 293,
   "outputs": [],
   "source": [
    "with open(\"data/09.txt\") as fh:\n",
    "    data = fh.read()"
   ],
   "metadata": {
    "collapsed": false,
    "ExecuteTime": {
     "end_time": "2023-12-09T21:21:15.059265824Z",
     "start_time": "2023-12-09T21:21:15.014778950Z"
    }
   },
   "id": "a7663ace47da3330"
  },
  {
   "cell_type": "code",
   "execution_count": 294,
   "outputs": [],
   "source": [
    "testdata = \"\"\"\\\n",
    "0 3 6 9 12 15\n",
    "1 3 6 10 15 21\n",
    "10 13 16 21 30 45\n",
    "\"\"\""
   ],
   "metadata": {
    "collapsed": false,
    "ExecuteTime": {
     "end_time": "2023-12-09T21:21:15.164579363Z",
     "start_time": "2023-12-09T21:21:15.060999213Z"
    }
   },
   "id": "7abbf095e589644a"
  },
  {
   "cell_type": "code",
   "execution_count": 295,
   "outputs": [],
   "source": [
    "def str2ar(s):\n",
    "    return np.array([int(x) for x in s.split()])"
   ],
   "metadata": {
    "collapsed": false,
    "ExecuteTime": {
     "end_time": "2023-12-09T21:21:15.165030930Z",
     "start_time": "2023-12-09T21:21:15.099053897Z"
    }
   },
   "id": "8c7d8b61848a53da"
  },
  {
   "cell_type": "code",
   "execution_count": 296,
   "outputs": [],
   "source": [
    "def extrapolate(a):\n",
    "    a = np.array(a)\n",
    "    ttl = a[-1]\n",
    "    while a.size > 1 and not (a == 0).all():\n",
    "        a = np.diff(a)\n",
    "        ttl += a[-1]\n",
    "    return ttl"
   ],
   "metadata": {
    "collapsed": false,
    "ExecuteTime": {
     "end_time": "2023-12-09T21:21:15.165347740Z",
     "start_time": "2023-12-09T21:21:15.099112489Z"
    }
   },
   "id": "12219d285c289fd7"
  },
  {
   "cell_type": "code",
   "execution_count": 297,
   "outputs": [],
   "source": [
    "def sum_extrapolated_values(data):\n",
    "    return sum(extrapolate(str2ar(line)) for line in data.splitlines())"
   ],
   "metadata": {
    "collapsed": false,
    "ExecuteTime": {
     "end_time": "2023-12-09T21:21:15.166551375Z",
     "start_time": "2023-12-09T21:21:15.141783543Z"
    }
   },
   "id": "91b17d86e03e94e8"
  },
  {
   "cell_type": "code",
   "execution_count": 298,
   "outputs": [
    {
     "data": {
      "text/plain": "114"
     },
     "execution_count": 298,
     "metadata": {},
     "output_type": "execute_result"
    }
   ],
   "source": [
    "sum_extrapolated_values(testdata)"
   ],
   "metadata": {
    "collapsed": false,
    "ExecuteTime": {
     "end_time": "2023-12-09T21:21:15.220949930Z",
     "start_time": "2023-12-09T21:21:15.168942677Z"
    }
   },
   "id": "70198c203b330dcb"
  },
  {
   "cell_type": "code",
   "execution_count": 299,
   "outputs": [
    {
     "data": {
      "text/plain": "1921197370"
     },
     "execution_count": 299,
     "metadata": {},
     "output_type": "execute_result"
    }
   ],
   "source": [
    "sum_extrapolated_values(data)"
   ],
   "metadata": {
    "collapsed": false,
    "ExecuteTime": {
     "end_time": "2023-12-09T21:21:15.274062320Z",
     "start_time": "2023-12-09T21:21:15.230062923Z"
    }
   },
   "id": "ca89ed2b0a9a4be3"
  },
  {
   "cell_type": "markdown",
   "source": [
    "### Part 2"
   ],
   "metadata": {
    "collapsed": false
   },
   "id": "cd91f08b550a5323"
  },
  {
   "cell_type": "code",
   "execution_count": 300,
   "outputs": [],
   "source": [
    "def sum_extrapolated_values_reversed(data):\n",
    "    return sum(extrapolate(str2ar(line)[::-1]) for line in data.splitlines())"
   ],
   "metadata": {
    "collapsed": false,
    "ExecuteTime": {
     "end_time": "2023-12-09T21:21:15.274457108Z",
     "start_time": "2023-12-09T21:21:15.273756859Z"
    }
   },
   "id": "1129ea0d2ea259ef"
  },
  {
   "cell_type": "code",
   "execution_count": 301,
   "outputs": [
    {
     "data": {
      "text/plain": "2"
     },
     "execution_count": 301,
     "metadata": {},
     "output_type": "execute_result"
    }
   ],
   "source": [
    "sum_extrapolated_values_reversed(testdata)"
   ],
   "metadata": {
    "collapsed": false,
    "ExecuteTime": {
     "end_time": "2023-12-09T21:21:15.274825929Z",
     "start_time": "2023-12-09T21:21:15.273831945Z"
    }
   },
   "id": "5aae73f68b6f3cd2"
  },
  {
   "cell_type": "code",
   "execution_count": 302,
   "outputs": [
    {
     "data": {
      "text/plain": "1124"
     },
     "execution_count": 302,
     "metadata": {},
     "output_type": "execute_result"
    }
   ],
   "source": [
    "sum_extrapolated_values_reversed(data)"
   ],
   "metadata": {
    "collapsed": false,
    "ExecuteTime": {
     "end_time": "2023-12-09T21:21:15.320371417Z",
     "start_time": "2023-12-09T21:21:15.273864676Z"
    }
   },
   "id": "4328c12fbb311912"
  }
 ],
 "metadata": {
  "kernelspec": {
   "display_name": "Python 3",
   "language": "python",
   "name": "python3"
  },
  "language_info": {
   "codemirror_mode": {
    "name": "ipython",
    "version": 2
   },
   "file_extension": ".py",
   "mimetype": "text/x-python",
   "name": "python",
   "nbconvert_exporter": "python",
   "pygments_lexer": "ipython2",
   "version": "2.7.6"
  }
 },
 "nbformat": 4,
 "nbformat_minor": 5
}
