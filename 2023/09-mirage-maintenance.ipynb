{
 "cells": [
  {
   "cell_type": "markdown",
   "source": [
    "https://adventofcode.com/2023/day/9"
   ],
   "metadata": {
    "collapsed": false
   },
   "id": "764f4c07b55a6dfd"
  },
  {
   "cell_type": "code",
   "execution_count": 253,
   "outputs": [],
   "source": [
    "import numpy as np"
   ],
   "metadata": {
    "collapsed": false,
    "ExecuteTime": {
     "end_time": "2023-12-09T16:38:17.521298713Z",
     "start_time": "2023-12-09T16:38:17.516892350Z"
    }
   },
   "id": "c37b0cb934dac0cb"
  },
  {
   "cell_type": "code",
   "execution_count": 254,
   "outputs": [],
   "source": [
    "with open(\"data/09.txt\") as fh:\n",
    "    data = fh.read()"
   ],
   "metadata": {
    "collapsed": false,
    "ExecuteTime": {
     "end_time": "2023-12-09T19:41:15.136350536Z",
     "start_time": "2023-12-09T19:41:15.131541630Z"
    }
   },
   "id": "a7663ace47da3330"
  },
  {
   "cell_type": "code",
   "execution_count": 255,
   "outputs": [],
   "source": [
    "testdata = \"\"\"\\\n",
    "0 3 6 9 12 15\n",
    "1 3 6 10 15 21\n",
    "10 13 16 21 30 45\n",
    "\"\"\""
   ],
   "metadata": {
    "collapsed": false,
    "ExecuteTime": {
     "end_time": "2023-12-09T19:41:15.607223736Z",
     "start_time": "2023-12-09T19:41:15.603885667Z"
    }
   },
   "id": "7abbf095e589644a"
  },
  {
   "cell_type": "code",
   "execution_count": 256,
   "outputs": [],
   "source": [
    "def str2ar(s):\n",
    "    return np.array([int(x) for x in s.split()])"
   ],
   "metadata": {
    "collapsed": false,
    "ExecuteTime": {
     "end_time": "2023-12-09T19:41:16.036853609Z",
     "start_time": "2023-12-09T19:41:16.030222083Z"
    }
   },
   "id": "8c7d8b61848a53da"
  },
  {
   "cell_type": "code",
   "execution_count": 257,
   "outputs": [
    {
     "name": "stdout",
     "output_type": "stream",
     "text": [
      "[10 13 16 21 30 45]\n",
      "[ 3  3  5  9 15]\n",
      "[0 2 4 6]\n",
      "[2 2 2]\n",
      "[0 0]\n",
      "68\n"
     ]
    }
   ],
   "source": [
    "a = str2ar(\"10  13  16  21  30  45\")\n",
    "ttl = a[-1]\n",
    "print(a)\n",
    "while a.size > 1:\n",
    "    b = np.append(np.array([0]), a[:-1])\n",
    "    a = (a - b)[1:]\n",
    "    print(a)\n",
    "    if np.all(a == 0):\n",
    "        break\n",
    "    ttl += a[-1]\n",
    "print(ttl)"
   ],
   "metadata": {
    "collapsed": false,
    "ExecuteTime": {
     "end_time": "2023-12-09T19:41:19.238512409Z",
     "start_time": "2023-12-09T19:41:19.234123005Z"
    }
   },
   "id": "ed646828e377b817"
  },
  {
   "cell_type": "code",
   "execution_count": 274,
   "outputs": [],
   "source": [
    "def extrapolate(a):\n",
    "    a = np.array(a)\n",
    "    ttl = a[-1]\n",
    "    while a.size > 1 and not (a == 0).all():\n",
    "        b = np.append(np.array([0]), a[:-1])\n",
    "        a = (a - b)[1:]\n",
    "        ttl += a[-1]\n",
    "    return ttl"
   ],
   "metadata": {
    "collapsed": false,
    "ExecuteTime": {
     "end_time": "2023-12-09T19:57:52.082274991Z",
     "start_time": "2023-12-09T19:57:52.037759415Z"
    }
   },
   "id": "dc9b58141cc32bcf"
  },
  {
   "cell_type": "code",
   "execution_count": 270,
   "outputs": [],
   "source": [
    "def sum_extrapolated_values(data):\n",
    "    return sum(extrapolate(str2ar(line)) for line in data.splitlines())"
   ],
   "metadata": {
    "collapsed": false,
    "ExecuteTime": {
     "end_time": "2023-12-09T19:56:03.877425223Z",
     "start_time": "2023-12-09T19:56:03.874824670Z"
    }
   },
   "id": "91b17d86e03e94e8"
  },
  {
   "cell_type": "code",
   "execution_count": 278,
   "outputs": [
    {
     "data": {
      "text/plain": "114"
     },
     "execution_count": 278,
     "metadata": {},
     "output_type": "execute_result"
    }
   ],
   "source": [
    "sum_extrapolated_values(testdata)"
   ],
   "metadata": {
    "collapsed": false,
    "ExecuteTime": {
     "end_time": "2023-12-09T19:59:02.014186295Z",
     "start_time": "2023-12-09T19:59:01.972493746Z"
    }
   },
   "id": "70198c203b330dcb"
  },
  {
   "cell_type": "code",
   "execution_count": 279,
   "outputs": [
    {
     "data": {
      "text/plain": "1921197370"
     },
     "execution_count": 279,
     "metadata": {},
     "output_type": "execute_result"
    }
   ],
   "source": [
    "sum_extrapolated_values(data)"
   ],
   "metadata": {
    "collapsed": false,
    "ExecuteTime": {
     "end_time": "2023-12-09T19:59:04.412283775Z",
     "start_time": "2023-12-09T19:59:04.392967006Z"
    }
   },
   "id": "ca89ed2b0a9a4be3"
  },
  {
   "cell_type": "markdown",
   "source": [
    "### Part 2"
   ],
   "metadata": {
    "collapsed": false
   },
   "id": "cd91f08b550a5323"
  },
  {
   "cell_type": "code",
   "execution_count": 280,
   "outputs": [],
   "source": [
    "def sum_extrapolated_values_reversed(data):\n",
    "    return sum(extrapolate(str2ar(line)[::-1]) for line in data.splitlines())"
   ],
   "metadata": {
    "collapsed": false,
    "ExecuteTime": {
     "end_time": "2023-12-09T19:59:06.645450054Z",
     "start_time": "2023-12-09T19:59:06.639856048Z"
    }
   },
   "id": "1129ea0d2ea259ef"
  },
  {
   "cell_type": "code",
   "execution_count": 281,
   "outputs": [
    {
     "data": {
      "text/plain": "2"
     },
     "execution_count": 281,
     "metadata": {},
     "output_type": "execute_result"
    }
   ],
   "source": [
    "sum_extrapolated_values_reversed(testdata)"
   ],
   "metadata": {
    "collapsed": false,
    "ExecuteTime": {
     "end_time": "2023-12-09T19:59:07.174903139Z",
     "start_time": "2023-12-09T19:59:07.165453029Z"
    }
   },
   "id": "5aae73f68b6f3cd2"
  },
  {
   "cell_type": "code",
   "execution_count": 282,
   "outputs": [
    {
     "data": {
      "text/plain": "1124"
     },
     "execution_count": 282,
     "metadata": {},
     "output_type": "execute_result"
    }
   ],
   "source": [
    "sum_extrapolated_values_reversed(data)"
   ],
   "metadata": {
    "collapsed": false,
    "ExecuteTime": {
     "end_time": "2023-12-09T19:59:07.679660905Z",
     "start_time": "2023-12-09T19:59:07.664045961Z"
    }
   },
   "id": "4328c12fbb311912"
  }
 ],
 "metadata": {
  "kernelspec": {
   "display_name": "Python 3",
   "language": "python",
   "name": "python3"
  },
  "language_info": {
   "codemirror_mode": {
    "name": "ipython",
    "version": 2
   },
   "file_extension": ".py",
   "mimetype": "text/x-python",
   "name": "python",
   "nbconvert_exporter": "python",
   "pygments_lexer": "ipython2",
   "version": "2.7.6"
  }
 },
 "nbformat": 4,
 "nbformat_minor": 5
}
