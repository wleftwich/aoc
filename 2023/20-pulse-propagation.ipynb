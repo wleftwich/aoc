{
 "cells": [
  {
   "cell_type": "markdown",
   "source": [
    "https://adventofcode.com/2023/day/20"
   ],
   "metadata": {
    "collapsed": false
   },
   "id": "f81745a5bb0076ba"
  },
  {
   "cell_type": "code",
   "execution_count": 1,
   "outputs": [],
   "source": [
    "import math\n",
    "from collections import defaultdict, deque, Counter\n",
    "from itertools import pairwise"
   ],
   "metadata": {
    "collapsed": false,
    "ExecuteTime": {
     "end_time": "2023-12-22T11:15:37.375818518Z",
     "start_time": "2023-12-22T11:15:37.361774593Z"
    }
   },
   "id": "a7842d059f41a522"
  },
  {
   "cell_type": "code",
   "execution_count": 2,
   "outputs": [],
   "source": [
    "with open(\"data/20.txt\") as f:\n",
    "    data = f.read()"
   ],
   "metadata": {
    "collapsed": false,
    "ExecuteTime": {
     "end_time": "2023-12-22T11:15:37.380908533Z",
     "start_time": "2023-12-22T11:15:37.364025368Z"
    }
   },
   "id": "d27352ab2954723f"
  },
  {
   "cell_type": "code",
   "execution_count": 3,
   "outputs": [],
   "source": [
    "testdata = \"\"\"\\\n",
    "broadcaster -> a\n",
    "%a -> inv, con\n",
    "&inv -> b\n",
    "%b -> con\n",
    "&con -> output\"\"\""
   ],
   "metadata": {
    "collapsed": false,
    "ExecuteTime": {
     "end_time": "2023-12-22T11:15:37.420900125Z",
     "start_time": "2023-12-22T11:15:37.374500888Z"
    }
   },
   "id": "f928aaed22f0587"
  },
  {
   "cell_type": "code",
   "execution_count": 4,
   "outputs": [],
   "source": [
    "class Broadcaster:\n",
    "    def __init__(self, modules, label, targetstr=\"\"):\n",
    "        self.label = label\n",
    "        self.modules = modules\n",
    "        self.targets = set(targetstr.split(\", \"))\n",
    "        self.pulses = defaultdict(int)\n",
    "\n",
    "    def add_targets(self, targetstr):\n",
    "        self.targets.update(targetstr.split(\", \"))\n",
    "\n",
    "    def receive(self, pulse):\n",
    "        def callback():\n",
    "            self.pulses[pulse] += 1\n",
    "            for t in self.targets:\n",
    "                yield self.modules[t].receive(self.label, pulse)\n",
    "\n",
    "        callback.label = self.label\n",
    "        callback.source = \"none\"\n",
    "        callback.pulse = pulse\n",
    "        return callback\n",
    "\n",
    "\n",
    "class Output:\n",
    "    def __init__(self):\n",
    "        self.pulses = defaultdict(int)\n",
    "\n",
    "    def receive(self, _, pulse):\n",
    "        self.pulses[pulse] += 1\n",
    "\n",
    "\n",
    "class FlipFlop:\n",
    "    def __init__(self, modules, label, targetstr=\"\"):\n",
    "        self.label = label\n",
    "        self.modules = modules\n",
    "        self.targets = set(targetstr.split(\", \"))\n",
    "        self.val = 0\n",
    "        self.pulses = defaultdict(int)\n",
    "\n",
    "    def add_targets(self, targetstr):\n",
    "        self.targets.update(targetstr.split(\", \"))\n",
    "\n",
    "    def receive(self, source, pulse):\n",
    "        def callback():\n",
    "            self.pulses[pulse] += 1\n",
    "            if not pulse:\n",
    "                self.val = 1 - self.val\n",
    "                for t in self.targets:\n",
    "                    yield self.modules[t].receive(self.label, self.val)\n",
    "\n",
    "        callback.label = self.label\n",
    "        callback.source = source\n",
    "        callback.pulse = pulse\n",
    "        return callback\n",
    "\n",
    "    def __repr__(self):\n",
    "        return f\"< FlipFlop {self.label} >\"\n",
    "\n",
    "\n",
    "class Conjunction:\n",
    "    def __init__(self, modules, label, targetstr=\"\"):\n",
    "        self.label = label\n",
    "        self.modules = modules\n",
    "        self.targets = set(targetstr.split(\", \"))\n",
    "        self.inputs = {}\n",
    "        self.pulses = defaultdict(int)\n",
    "\n",
    "    def add_targets(self, targetstr):\n",
    "        self.targets.update(targetstr.split(\", \"))\n",
    "\n",
    "    def add_input(self, input):\n",
    "        self.inputs[input] = 0\n",
    "\n",
    "    def receive(self, source, pulse):\n",
    "        def callback():\n",
    "            self.pulses[pulse] += 1\n",
    "            self.inputs[source] = pulse\n",
    "            if all(x == 1 for x in self.inputs.values()):\n",
    "                out = 0\n",
    "            else:\n",
    "                out = 1\n",
    "            for t in self.targets:\n",
    "                yield modules[t].receive(self.label, out)\n",
    "\n",
    "        callback.label = self.label\n",
    "        callback.source = source\n",
    "        callback.pulse = pulse\n",
    "        return callback\n",
    "\n",
    "    def __repr__(self):\n",
    "        return f\"< Conjunction {self.label} >\"\n",
    "\n",
    "\n",
    "def parse_puzzle(puzzle):\n",
    "    modules = defaultdict(Output)\n",
    "    pending_targets = defaultdict(list)\n",
    "    conjunctions = set()\n",
    "    for line in puzzle.splitlines():\n",
    "        modulestr, targetstr = line.split(\" -> \")\n",
    "        if modulestr == \"broadcaster\":\n",
    "            modules[\"broadcaster\"] = Broadcaster(modules, \"broadcaster\", targetstr)\n",
    "            continue\n",
    "        mtype, label = modulestr[0], modulestr[1:]\n",
    "        if mtype == \"%\":\n",
    "            modules[label] = FlipFlop(modules, label, targetstr)\n",
    "        elif mtype == \"&\":\n",
    "            modules[label] = Conjunction(modules, label, targetstr)\n",
    "            conjunctions.add(label)\n",
    "        for t in targetstr.split(\", \"):\n",
    "            pending_targets[t].append(label)\n",
    "    for conjlabel in conjunctions:\n",
    "        conj = modules[conjlabel]\n",
    "        for inp in pending_targets[conjlabel]:\n",
    "            conj.add_input(inp)\n",
    "    return modules\n",
    "\n",
    "\n",
    "def push_the_button(modules, times=1000):\n",
    "    q = deque([])\n",
    "    for _ in range(times):\n",
    "        q.append(modules[\"broadcaster\"].receive(0))\n",
    "        while q:\n",
    "            cb = q.popleft()\n",
    "            if cb is not None:\n",
    "                q.extend(cb())"
   ],
   "metadata": {
    "collapsed": false,
    "ExecuteTime": {
     "end_time": "2023-12-22T11:15:37.447978944Z",
     "start_time": "2023-12-22T11:15:37.385895029Z"
    }
   },
   "id": "726d26e02b359aca"
  },
  {
   "cell_type": "code",
   "execution_count": 5,
   "outputs": [
    {
     "name": "stdout",
     "output_type": "stream",
     "text": [
      "CPU times: user 3.95 ms, sys: 0 ns, total: 3.95 ms\n",
      "Wall time: 3.96 ms\n"
     ]
    },
    {
     "data": {
      "text/plain": "11687500"
     },
     "execution_count": 5,
     "metadata": {},
     "output_type": "execute_result"
    }
   ],
   "source": [
    "%%time\n",
    "modules = parse_puzzle(testdata)\n",
    "push_the_button(modules, 1000)\n",
    "sum(m.pulses[0] for m in modules.values()) * sum(m.pulses[1] for m in modules.values())"
   ],
   "metadata": {
    "collapsed": false,
    "ExecuteTime": {
     "end_time": "2023-12-22T11:15:37.457734562Z",
     "start_time": "2023-12-22T11:15:37.424370528Z"
    }
   },
   "id": "ef6cd9b3c3795aab"
  },
  {
   "cell_type": "code",
   "execution_count": 6,
   "outputs": [
    {
     "name": "stdout",
     "output_type": "stream",
     "text": [
      "CPU times: user 38.2 ms, sys: 0 ns, total: 38.2 ms\n",
      "Wall time: 37.7 ms\n"
     ]
    },
    {
     "data": {
      "text/plain": "886347020"
     },
     "execution_count": 6,
     "metadata": {},
     "output_type": "execute_result"
    }
   ],
   "source": [
    "%%time\n",
    "modules = parse_puzzle(data)\n",
    "push_the_button(modules, 1000)\n",
    "sum(m.pulses[0] for m in modules.values()) * sum(m.pulses[1] for m in modules.values())"
   ],
   "metadata": {
    "collapsed": false,
    "ExecuteTime": {
     "end_time": "2023-12-22T11:15:37.541907059Z",
     "start_time": "2023-12-22T11:15:37.425030626Z"
    }
   },
   "id": "2b1b0faeaade9189"
  },
  {
   "cell_type": "markdown",
   "source": [
    "### Part 2"
   ],
   "metadata": {
    "collapsed": false
   },
   "id": "150643cb317ce6d6"
  },
  {
   "cell_type": "code",
   "outputs": [
    {
     "name": "stdout",
     "output_type": "stream",
     "text": [
      "CPU times: user 7.91 s, sys: 0 ns, total: 7.91 s\n",
      "Wall time: 7.91 s\n"
     ]
    }
   ],
   "source": [
    "%%time\n",
    "modules = parse_puzzle(data)\n",
    "L = []\n",
    "for i in range(1, 100_000):\n",
    "    q = deque({})\n",
    "    q.append(modules[\"broadcaster\"].receive(0))\n",
    "    while q:\n",
    "        cb = q.popleft()\n",
    "        if cb is not None:\n",
    "            if cb.label == \"gf\" and cb.pulse == 1:\n",
    "                L.append((i, cb.source))\n",
    "            q.extend(cb())"
   ],
   "metadata": {
    "collapsed": false,
    "ExecuteTime": {
     "end_time": "2023-12-22T11:15:45.434413721Z",
     "start_time": "2023-12-22T11:15:37.502206822Z"
    }
   },
   "id": "f4c2e9cfb49fe64c",
   "execution_count": 7
  },
  {
   "cell_type": "code",
   "outputs": [
    {
     "data": {
      "text/plain": "100"
     },
     "execution_count": 8,
     "metadata": {},
     "output_type": "execute_result"
    }
   ],
   "source": [
    "len(L)"
   ],
   "metadata": {
    "collapsed": false,
    "ExecuteTime": {
     "end_time": "2023-12-22T11:15:45.435639676Z",
     "start_time": "2023-12-22T11:15:45.429001904Z"
    }
   },
   "id": "2a6aaadf9fe33068",
   "execution_count": 8
  },
  {
   "cell_type": "code",
   "outputs": [
    {
     "data": {
      "text/plain": "[(3761, 'pg'),\n (3907, 'sp'),\n (3919, 'sv'),\n (4051, 'qs'),\n (7522, 'pg'),\n (7814, 'sp'),\n (7838, 'sv'),\n (8102, 'qs'),\n (11283, 'pg'),\n (11721, 'sp'),\n (11757, 'sv'),\n (12153, 'qs')]"
     },
     "execution_count": 9,
     "metadata": {},
     "output_type": "execute_result"
    }
   ],
   "source": [
    "L[:12]"
   ],
   "metadata": {
    "collapsed": false,
    "ExecuteTime": {
     "end_time": "2023-12-22T11:15:45.436755898Z",
     "start_time": "2023-12-22T11:15:45.429383887Z"
    }
   },
   "id": "d53251fbbfe14cfd",
   "execution_count": 9
  },
  {
   "cell_type": "code",
   "outputs": [
    {
     "data": {
      "text/plain": "Counter({3761: 25})"
     },
     "execution_count": 10,
     "metadata": {},
     "output_type": "execute_result"
    }
   ],
   "source": [
    "Counter(b - a for a, b in pairwise(x for (x, y) in L if y == \"pg\"))"
   ],
   "metadata": {
    "collapsed": false,
    "ExecuteTime": {
     "end_time": "2023-12-22T11:15:45.437738029Z",
     "start_time": "2023-12-22T11:15:45.429676778Z"
    }
   },
   "id": "304b06824b32dc59",
   "execution_count": 10
  },
  {
   "cell_type": "code",
   "outputs": [
    {
     "data": {
      "text/plain": "Counter({3907: 24})"
     },
     "execution_count": 11,
     "metadata": {},
     "output_type": "execute_result"
    }
   ],
   "source": [
    "Counter(b - a for a, b in pairwise(x for (x, y) in L if y == \"sp\"))"
   ],
   "metadata": {
    "collapsed": false,
    "ExecuteTime": {
     "end_time": "2023-12-22T11:15:45.451160730Z",
     "start_time": "2023-12-22T11:15:45.432767691Z"
    }
   },
   "id": "d22237f4296ca1b0",
   "execution_count": 11
  },
  {
   "cell_type": "code",
   "outputs": [
    {
     "data": {
      "text/plain": "Counter({3919: 24})"
     },
     "execution_count": 12,
     "metadata": {},
     "output_type": "execute_result"
    }
   ],
   "source": [
    "Counter(b - a for a, b in pairwise(x for (x, y) in L if y == \"sv\"))"
   ],
   "metadata": {
    "collapsed": false,
    "ExecuteTime": {
     "end_time": "2023-12-22T11:15:45.523237347Z",
     "start_time": "2023-12-22T11:15:45.444898510Z"
    }
   },
   "id": "6e8c35e373435c26",
   "execution_count": 12
  },
  {
   "cell_type": "code",
   "outputs": [
    {
     "data": {
      "text/plain": "Counter({4051: 23})"
     },
     "execution_count": 13,
     "metadata": {},
     "output_type": "execute_result"
    }
   ],
   "source": [
    "Counter(b - a for a, b in pairwise(x for (x, y) in L if y == \"qs\"))"
   ],
   "metadata": {
    "collapsed": false,
    "ExecuteTime": {
     "end_time": "2023-12-22T11:15:45.525014597Z",
     "start_time": "2023-12-22T11:15:45.458733134Z"
    }
   },
   "id": "2f242fb1c39810cd",
   "execution_count": 13
  },
  {
   "cell_type": "code",
   "outputs": [
    {
     "data": {
      "text/plain": "233283622908263"
     },
     "execution_count": 14,
     "metadata": {},
     "output_type": "execute_result"
    }
   ],
   "source": [
    "math.lcm(3761, 3907, 3919, 4051)"
   ],
   "metadata": {
    "collapsed": false,
    "ExecuteTime": {
     "end_time": "2023-12-22T11:15:45.572260983Z",
     "start_time": "2023-12-22T11:15:45.470520139Z"
    }
   },
   "id": "5ac425cd07187ad8",
   "execution_count": 14
  },
  {
   "cell_type": "code",
   "outputs": [
    {
     "data": {
      "text/plain": "233283622908263"
     },
     "execution_count": 15,
     "metadata": {},
     "output_type": "execute_result"
    }
   ],
   "source": [
    "math.prod([3761, 3907, 3919, 4051])"
   ],
   "metadata": {
    "collapsed": false,
    "ExecuteTime": {
     "end_time": "2023-12-22T11:15:45.573390874Z",
     "start_time": "2023-12-22T11:15:45.512989481Z"
    }
   },
   "id": "256288e6636019da",
   "execution_count": 15
  },
  {
   "cell_type": "markdown",
   "source": [
    "Relatively prime"
   ],
   "metadata": {
    "collapsed": false
   },
   "id": "a1ade04a33f14e81"
  }
 ],
 "metadata": {
  "kernelspec": {
   "display_name": "Python 3",
   "language": "python",
   "name": "python3"
  },
  "language_info": {
   "codemirror_mode": {
    "name": "ipython",
    "version": 2
   },
   "file_extension": ".py",
   "mimetype": "text/x-python",
   "name": "python",
   "nbconvert_exporter": "python",
   "pygments_lexer": "ipython2",
   "version": "2.7.6"
  }
 },
 "nbformat": 4,
 "nbformat_minor": 5
}
