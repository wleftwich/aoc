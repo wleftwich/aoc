{
 "cells": [
  {
   "cell_type": "markdown",
   "source": [
    "https://adventofcode.com/2023/day/1"
   ],
   "metadata": {
    "collapsed": false
   },
   "id": "9ed8af935489cdb9"
  },
  {
   "cell_type": "code",
   "execution_count": 4,
   "outputs": [],
   "source": [
    "import re"
   ],
   "metadata": {
    "collapsed": false,
    "ExecuteTime": {
     "end_time": "2023-12-01T11:09:01.176364606Z",
     "start_time": "2023-12-01T11:09:01.173206926Z"
    }
   },
   "id": "d1b72f2b42558b0b"
  },
  {
   "cell_type": "code",
   "execution_count": 1,
   "outputs": [],
   "source": [
    "with open(\"data/01.txt\") as fh:\n",
    "    data = fh.read()"
   ],
   "metadata": {
    "collapsed": false,
    "ExecuteTime": {
     "end_time": "2023-12-01T11:05:09.850086628Z",
     "start_time": "2023-12-01T11:05:09.840831733Z"
    }
   },
   "id": "bdcc7906cbb3e8ff"
  },
  {
   "cell_type": "code",
   "execution_count": 67,
   "outputs": [],
   "source": [
    "def twodigits(s):\n",
    "    digits = re.findall(r\"\\d\", s)\n",
    "    return int(digits[0] + digits[-1])"
   ],
   "metadata": {
    "collapsed": false,
    "ExecuteTime": {
     "end_time": "2023-12-01T14:38:17.815344787Z",
     "start_time": "2023-12-01T14:38:17.774503738Z"
    }
   },
   "id": "4c179aa6087e054b"
  },
  {
   "cell_type": "code",
   "execution_count": 68,
   "outputs": [
    {
     "data": {
      "text/plain": "38"
     },
     "execution_count": 68,
     "metadata": {},
     "output_type": "execute_result"
    }
   ],
   "source": [
    "twodigits(\"pqr3stu8vwx\")"
   ],
   "metadata": {
    "collapsed": false,
    "ExecuteTime": {
     "end_time": "2023-12-01T14:38:20.157835855Z",
     "start_time": "2023-12-01T14:38:20.151364945Z"
    }
   },
   "id": "d5b78563d35726b7"
  },
  {
   "cell_type": "code",
   "execution_count": 69,
   "outputs": [
    {
     "data": {
      "text/plain": "54331"
     },
     "execution_count": 69,
     "metadata": {},
     "output_type": "execute_result"
    }
   ],
   "source": [
    "sum(twodigits(line) for line in data.splitlines())"
   ],
   "metadata": {
    "collapsed": false,
    "ExecuteTime": {
     "end_time": "2023-12-01T14:38:21.437518684Z",
     "start_time": "2023-12-01T14:38:21.434539438Z"
    }
   },
   "id": "1d7e74130129ca89"
  },
  {
   "cell_type": "markdown",
   "source": [
    "### Part 2"
   ],
   "metadata": {
    "collapsed": false
   },
   "id": "f1221db08c10ea7a"
  },
  {
   "cell_type": "code",
   "execution_count": 14,
   "outputs": [],
   "source": [
    "numbertext = \"one|two|three|four|five|six|seven|eight|nine\""
   ],
   "metadata": {
    "collapsed": false,
    "ExecuteTime": {
     "end_time": "2023-12-01T11:30:51.093886534Z",
     "start_time": "2023-12-01T11:30:51.032735689Z"
    }
   },
   "id": "4c73b5a947c061ec"
  },
  {
   "cell_type": "code",
   "execution_count": 17,
   "outputs": [
    {
     "data": {
      "text/plain": "{'one': '1',\n 'two': '2',\n 'three': '3',\n 'four': '4',\n 'five': '5',\n 'six': '6',\n 'seven': '7',\n 'eight': '8',\n 'nine': '9'}"
     },
     "execution_count": 17,
     "metadata": {},
     "output_type": "execute_result"
    }
   ],
   "source": [
    "number_lookup = {x:str(i) for (i, x) in enumerate(numbertext.split(\"|\"), 1)}\n",
    "number_lookup"
   ],
   "metadata": {
    "collapsed": false,
    "ExecuteTime": {
     "end_time": "2023-12-01T11:32:31.708590434Z",
     "start_time": "2023-12-01T11:32:31.700545022Z"
    }
   },
   "id": "cb9ebf2578455444"
  },
  {
   "cell_type": "code",
   "execution_count": 41,
   "outputs": [],
   "source": [
    "numbers_re = re.compile(r\"\\d|\" + numbertext)\n",
    "reverse_numbers_re = re.compile(r\"\\d|\" + numbertext[::-1])"
   ],
   "metadata": {
    "collapsed": false,
    "ExecuteTime": {
     "end_time": "2023-12-01T14:25:43.791192931Z",
     "start_time": "2023-12-01T14:25:43.743773284Z"
    }
   },
   "id": "94c7a69c52b956ab"
  },
  {
   "cell_type": "code",
   "execution_count": 49,
   "outputs": [],
   "source": [
    "s = \"nineight\""
   ],
   "metadata": {
    "collapsed": false,
    "ExecuteTime": {
     "end_time": "2023-12-01T14:28:23.186687231Z",
     "start_time": "2023-12-01T14:28:23.168921052Z"
    }
   },
   "id": "25d84264285b9a47"
  },
  {
   "cell_type": "code",
   "execution_count": 50,
   "outputs": [
    {
     "data": {
      "text/plain": "'nine'"
     },
     "execution_count": 50,
     "metadata": {},
     "output_type": "execute_result"
    }
   ],
   "source": [
    "numbers_re.search(s).group()"
   ],
   "metadata": {
    "collapsed": false,
    "ExecuteTime": {
     "end_time": "2023-12-01T14:28:26.673488581Z",
     "start_time": "2023-12-01T14:28:26.666780817Z"
    }
   },
   "id": "ca1062d1e2a73156"
  },
  {
   "cell_type": "code",
   "execution_count": 48,
   "outputs": [
    {
     "data": {
      "text/plain": "'eight'"
     },
     "execution_count": 48,
     "metadata": {},
     "output_type": "execute_result"
    }
   ],
   "source": [
    "reverse_numbers_re.search(s[::-1]).group()[::-1]"
   ],
   "metadata": {
    "collapsed": false,
    "ExecuteTime": {
     "end_time": "2023-12-01T14:28:20.131637815Z",
     "start_time": "2023-12-01T14:28:20.125370281Z"
    }
   },
   "id": "c4bccdacb813e769"
  },
  {
   "cell_type": "code",
   "execution_count": 64,
   "outputs": [],
   "source": [
    "def twodigits2(s):\n",
    "    a = numbers_re.search(s).group()\n",
    "    aa = number_lookup.get(a, a)\n",
    "    b = reverse_numbers_re.search(s[::-1]).group()[::-1]\n",
    "    bb = number_lookup.get(b, b)\n",
    "    return int(aa + bb)"
   ],
   "metadata": {
    "collapsed": false,
    "ExecuteTime": {
     "end_time": "2023-12-01T14:37:58.831375729Z",
     "start_time": "2023-12-01T14:37:58.789586031Z"
    }
   },
   "id": "6eb80cb82c5e08f9"
  },
  {
   "cell_type": "code",
   "execution_count": 65,
   "outputs": [
    {
     "data": {
      "text/plain": "98"
     },
     "execution_count": 65,
     "metadata": {},
     "output_type": "execute_result"
    }
   ],
   "source": [
    "twodigits2(s)"
   ],
   "metadata": {
    "collapsed": false,
    "ExecuteTime": {
     "end_time": "2023-12-01T14:38:01.300032107Z",
     "start_time": "2023-12-01T14:38:01.293922007Z"
    }
   },
   "id": "55b9f17265e1ec4d"
  },
  {
   "cell_type": "code",
   "execution_count": 60,
   "outputs": [],
   "source": [
    "testdata = \"\"\"\\\n",
    "two1nine\n",
    "eightwothree\n",
    "abcone2threexyz\n",
    "xtwone3four\n",
    "4nineeightseven2\n",
    "zoneight234\n",
    "7pqrstsixteen\"\"\""
   ],
   "metadata": {
    "collapsed": false,
    "ExecuteTime": {
     "end_time": "2023-12-01T14:34:44.143711555Z",
     "start_time": "2023-12-01T14:34:44.101977837Z"
    }
   },
   "id": "8300cf55ef2fd71e"
  },
  {
   "cell_type": "code",
   "execution_count": 66,
   "outputs": [
    {
     "data": {
      "text/plain": "[29, 83, 13, 24, 42, 14, 76]"
     },
     "execution_count": 66,
     "metadata": {},
     "output_type": "execute_result"
    }
   ],
   "source": [
    "[twodigits2(line) for line in testdata.splitlines()]"
   ],
   "metadata": {
    "collapsed": false,
    "ExecuteTime": {
     "end_time": "2023-12-01T14:38:03.236198718Z",
     "start_time": "2023-12-01T14:38:03.231771661Z"
    }
   },
   "id": "5c4330acd3403460"
  },
  {
   "cell_type": "code",
   "execution_count": 62,
   "outputs": [
    {
     "data": {
      "text/plain": "281"
     },
     "execution_count": 62,
     "metadata": {},
     "output_type": "execute_result"
    }
   ],
   "source": [
    "sum(twodigits2(line) for line in testdata.splitlines())"
   ],
   "metadata": {
    "collapsed": false,
    "ExecuteTime": {
     "end_time": "2023-12-01T14:35:24.900007419Z",
     "start_time": "2023-12-01T14:35:24.857972637Z"
    }
   },
   "id": "ea2762c13e46af2e"
  },
  {
   "cell_type": "code",
   "execution_count": 63,
   "outputs": [
    {
     "data": {
      "text/plain": "54518"
     },
     "execution_count": 63,
     "metadata": {},
     "output_type": "execute_result"
    }
   ],
   "source": [
    "sum(twodigits2(line) for line in data.splitlines())"
   ],
   "metadata": {
    "collapsed": false,
    "ExecuteTime": {
     "end_time": "2023-12-01T14:35:38.241313160Z",
     "start_time": "2023-12-01T14:35:38.235864445Z"
    }
   },
   "id": "8edeaa19c2bf4d07"
  },
  {
   "cell_type": "markdown",
   "source": [
    "### Part 2 using regex module"
   ],
   "metadata": {
    "collapsed": false
   },
   "id": "999e624a1f896c39"
  },
  {
   "cell_type": "code",
   "execution_count": null,
   "outputs": [],
   "source": [
    "import regex"
   ],
   "metadata": {
    "collapsed": false
   },
   "id": "c9dd032d77fcc9c3"
  },
  {
   "cell_type": "code",
   "execution_count": 72,
   "outputs": [],
   "source": [
    "numbers_regex = regex.compile(r\"\\d|\" + numbertext)"
   ],
   "metadata": {
    "collapsed": false,
    "ExecuteTime": {
     "end_time": "2023-12-01T14:51:16.627219435Z",
     "start_time": "2023-12-01T14:51:16.583572864Z"
    }
   },
   "id": "a48352d50c467d0a"
  },
  {
   "cell_type": "code",
   "execution_count": 75,
   "outputs": [],
   "source": [
    "def twodigits2_regex(s):\n",
    "    numbers = numbers_regex.findall(s, overlapped=True)\n",
    "    digits = [number_lookup.get(x, x) for x in numbers]\n",
    "    return int(digits[0] + digits[-1])"
   ],
   "metadata": {
    "collapsed": false,
    "ExecuteTime": {
     "end_time": "2023-12-01T14:55:30.476295321Z",
     "start_time": "2023-12-01T14:55:30.469564125Z"
    }
   },
   "id": "6159e07b0be427f7"
  },
  {
   "cell_type": "code",
   "execution_count": 76,
   "outputs": [
    {
     "data": {
      "text/plain": "54518"
     },
     "execution_count": 76,
     "metadata": {},
     "output_type": "execute_result"
    }
   ],
   "source": [
    "sum(twodigits2_regex(line) for line in data.splitlines())"
   ],
   "metadata": {
    "collapsed": false,
    "ExecuteTime": {
     "end_time": "2023-12-01T14:55:32.768523971Z",
     "start_time": "2023-12-01T14:55:32.756643755Z"
    }
   },
   "id": "c75b37e008573a49"
  },
  {
   "cell_type": "code",
   "execution_count": null,
   "outputs": [],
   "source": [],
   "metadata": {
    "collapsed": false
   },
   "id": "7705977f9a39b579"
  }
 ],
 "metadata": {
  "kernelspec": {
   "display_name": "Python 3",
   "language": "python",
   "name": "python3"
  },
  "language_info": {
   "codemirror_mode": {
    "name": "ipython",
    "version": 2
   },
   "file_extension": ".py",
   "mimetype": "text/x-python",
   "name": "python",
   "nbconvert_exporter": "python",
   "pygments_lexer": "ipython2",
   "version": "2.7.6"
  }
 },
 "nbformat": 4,
 "nbformat_minor": 5
}
