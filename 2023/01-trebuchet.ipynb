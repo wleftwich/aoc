{
 "cells": [
  {
   "cell_type": "markdown",
   "source": [
    "https://adventofcode.com/2023/day/1"
   ],
   "metadata": {
    "collapsed": false
   },
   "id": "9ed8af935489cdb9"
  },
  {
   "cell_type": "code",
   "execution_count": 1,
   "outputs": [],
   "source": [
    "import re"
   ],
   "metadata": {
    "collapsed": false,
    "ExecuteTime": {
     "end_time": "2023-12-01T16:28:39.690722215Z",
     "start_time": "2023-12-01T16:28:39.686862833Z"
    }
   },
   "id": "d1b72f2b42558b0b"
  },
  {
   "cell_type": "code",
   "execution_count": 2,
   "outputs": [],
   "source": [
    "with open(\"data/01.txt\") as fh:\n",
    "    data = fh.read()"
   ],
   "metadata": {
    "collapsed": false,
    "ExecuteTime": {
     "end_time": "2023-12-01T16:28:39.690928241Z",
     "start_time": "2023-12-01T16:28:39.686958382Z"
    }
   },
   "id": "bdcc7906cbb3e8ff"
  },
  {
   "cell_type": "code",
   "execution_count": 3,
   "outputs": [],
   "source": [
    "def twodigits(s):\n",
    "    digits = re.findall(r\"\\d\", s)\n",
    "    return int(digits[0] + digits[-1])"
   ],
   "metadata": {
    "collapsed": false,
    "ExecuteTime": {
     "end_time": "2023-12-01T16:28:39.690994565Z",
     "start_time": "2023-12-01T16:28:39.686993570Z"
    }
   },
   "id": "4c179aa6087e054b"
  },
  {
   "cell_type": "code",
   "execution_count": 4,
   "outputs": [
    {
     "data": {
      "text/plain": "38"
     },
     "execution_count": 4,
     "metadata": {},
     "output_type": "execute_result"
    }
   ],
   "source": [
    "twodigits(\"pqr3stu8vwx\")"
   ],
   "metadata": {
    "collapsed": false,
    "ExecuteTime": {
     "end_time": "2023-12-01T16:28:39.691132806Z",
     "start_time": "2023-12-01T16:28:39.687015844Z"
    }
   },
   "id": "d5b78563d35726b7"
  },
  {
   "cell_type": "code",
   "execution_count": 5,
   "outputs": [
    {
     "data": {
      "text/plain": "54331"
     },
     "execution_count": 5,
     "metadata": {},
     "output_type": "execute_result"
    }
   ],
   "source": [
    "sum(twodigits(line) for line in data.splitlines())"
   ],
   "metadata": {
    "collapsed": false,
    "ExecuteTime": {
     "end_time": "2023-12-01T16:28:39.740192710Z",
     "start_time": "2023-12-01T16:28:39.687057815Z"
    }
   },
   "id": "1d7e74130129ca89"
  },
  {
   "cell_type": "markdown",
   "source": [
    "### Part 2"
   ],
   "metadata": {
    "collapsed": false
   },
   "id": "f1221db08c10ea7a"
  },
  {
   "cell_type": "code",
   "execution_count": 6,
   "outputs": [],
   "source": [
    "numbertext = \"one|two|three|four|five|six|seven|eight|nine\""
   ],
   "metadata": {
    "collapsed": false,
    "ExecuteTime": {
     "end_time": "2023-12-01T16:28:39.740316124Z",
     "start_time": "2023-12-01T16:28:39.734878417Z"
    }
   },
   "id": "4c73b5a947c061ec"
  },
  {
   "cell_type": "code",
   "execution_count": 7,
   "outputs": [
    {
     "data": {
      "text/plain": "{'one': '1',\n 'two': '2',\n 'three': '3',\n 'four': '4',\n 'five': '5',\n 'six': '6',\n 'seven': '7',\n 'eight': '8',\n 'nine': '9'}"
     },
     "execution_count": 7,
     "metadata": {},
     "output_type": "execute_result"
    }
   ],
   "source": [
    "number_lookup = {x:str(i) for (i, x) in enumerate(numbertext.split(\"|\"), 1)}\n",
    "number_lookup"
   ],
   "metadata": {
    "collapsed": false,
    "ExecuteTime": {
     "end_time": "2023-12-01T16:28:39.740433597Z",
     "start_time": "2023-12-01T16:28:39.734997976Z"
    }
   },
   "id": "cb9ebf2578455444"
  },
  {
   "cell_type": "code",
   "execution_count": 8,
   "outputs": [],
   "source": [
    "numbers_re = re.compile(r\"\\d|\" + numbertext)\n",
    "reverse_numbers_re = re.compile(r\"\\d|\" + numbertext[::-1])"
   ],
   "metadata": {
    "collapsed": false,
    "ExecuteTime": {
     "end_time": "2023-12-01T16:28:39.763366459Z",
     "start_time": "2023-12-01T16:28:39.735538622Z"
    }
   },
   "id": "94c7a69c52b956ab"
  },
  {
   "cell_type": "code",
   "execution_count": 9,
   "outputs": [],
   "source": [
    "s = \"nineight\""
   ],
   "metadata": {
    "collapsed": false,
    "ExecuteTime": {
     "end_time": "2023-12-01T16:28:39.778356507Z",
     "start_time": "2023-12-01T16:28:39.745809814Z"
    }
   },
   "id": "25d84264285b9a47"
  },
  {
   "cell_type": "code",
   "execution_count": 10,
   "outputs": [
    {
     "data": {
      "text/plain": "'nine'"
     },
     "execution_count": 10,
     "metadata": {},
     "output_type": "execute_result"
    }
   ],
   "source": [
    "numbers_re.search(s).group()"
   ],
   "metadata": {
    "collapsed": false,
    "ExecuteTime": {
     "end_time": "2023-12-01T16:28:39.811129581Z",
     "start_time": "2023-12-01T16:28:39.766684397Z"
    }
   },
   "id": "ca1062d1e2a73156"
  },
  {
   "cell_type": "code",
   "execution_count": 11,
   "outputs": [
    {
     "data": {
      "text/plain": "'eight'"
     },
     "execution_count": 11,
     "metadata": {},
     "output_type": "execute_result"
    }
   ],
   "source": [
    "reverse_numbers_re.search(s[::-1]).group()[::-1]"
   ],
   "metadata": {
    "collapsed": false,
    "ExecuteTime": {
     "end_time": "2023-12-01T16:28:39.811300691Z",
     "start_time": "2023-12-01T16:28:39.810912833Z"
    }
   },
   "id": "c4bccdacb813e769"
  },
  {
   "cell_type": "code",
   "execution_count": 12,
   "outputs": [],
   "source": [
    "def twodigits2(s):\n",
    "    a = numbers_re.search(s).group()\n",
    "    aa = number_lookup.get(a, a)\n",
    "    b = reverse_numbers_re.search(s[::-1]).group()[::-1]\n",
    "    bb = number_lookup.get(b, b)\n",
    "    return int(aa + bb)"
   ],
   "metadata": {
    "collapsed": false,
    "ExecuteTime": {
     "end_time": "2023-12-01T16:28:39.855009840Z",
     "start_time": "2023-12-01T16:28:39.810988024Z"
    }
   },
   "id": "6eb80cb82c5e08f9"
  },
  {
   "cell_type": "code",
   "execution_count": 13,
   "outputs": [
    {
     "data": {
      "text/plain": "98"
     },
     "execution_count": 13,
     "metadata": {},
     "output_type": "execute_result"
    }
   ],
   "source": [
    "twodigits2(s)"
   ],
   "metadata": {
    "collapsed": false,
    "ExecuteTime": {
     "end_time": "2023-12-01T16:28:39.855258287Z",
     "start_time": "2023-12-01T16:28:39.854857824Z"
    }
   },
   "id": "55b9f17265e1ec4d"
  },
  {
   "cell_type": "code",
   "execution_count": 14,
   "outputs": [],
   "source": [
    "testdata = \"\"\"\\\n",
    "two1nine\n",
    "eightwothree\n",
    "abcone2threexyz\n",
    "xtwone3four\n",
    "4nineeightseven2\n",
    "zoneight234\n",
    "7pqrstsixteen\"\"\""
   ],
   "metadata": {
    "collapsed": false,
    "ExecuteTime": {
     "end_time": "2023-12-01T16:28:39.860851866Z",
     "start_time": "2023-12-01T16:28:39.854940991Z"
    }
   },
   "id": "8300cf55ef2fd71e"
  },
  {
   "cell_type": "code",
   "execution_count": 15,
   "outputs": [
    {
     "data": {
      "text/plain": "[29, 83, 13, 24, 42, 14, 76]"
     },
     "execution_count": 15,
     "metadata": {},
     "output_type": "execute_result"
    }
   ],
   "source": [
    "[twodigits2(line) for line in testdata.splitlines()]"
   ],
   "metadata": {
    "collapsed": false,
    "ExecuteTime": {
     "end_time": "2023-12-01T16:28:39.903194131Z",
     "start_time": "2023-12-01T16:28:39.861171630Z"
    }
   },
   "id": "5c4330acd3403460"
  },
  {
   "cell_type": "code",
   "execution_count": 16,
   "outputs": [
    {
     "data": {
      "text/plain": "281"
     },
     "execution_count": 16,
     "metadata": {},
     "output_type": "execute_result"
    }
   ],
   "source": [
    "sum(twodigits2(line) for line in testdata.splitlines())"
   ],
   "metadata": {
    "collapsed": false,
    "ExecuteTime": {
     "end_time": "2023-12-01T16:28:39.903382710Z",
     "start_time": "2023-12-01T16:28:39.902937156Z"
    }
   },
   "id": "ea2762c13e46af2e"
  },
  {
   "cell_type": "code",
   "execution_count": 17,
   "outputs": [
    {
     "data": {
      "text/plain": "54518"
     },
     "execution_count": 17,
     "metadata": {},
     "output_type": "execute_result"
    }
   ],
   "source": [
    "sum(twodigits2(line) for line in data.splitlines())"
   ],
   "metadata": {
    "collapsed": false,
    "ExecuteTime": {
     "end_time": "2023-12-01T16:28:39.951025839Z",
     "start_time": "2023-12-01T16:28:39.903051339Z"
    }
   },
   "id": "8edeaa19c2bf4d07"
  },
  {
   "cell_type": "markdown",
   "source": [
    "### Part 2 using regex module"
   ],
   "metadata": {
    "collapsed": false
   },
   "id": "999e624a1f896c39"
  },
  {
   "cell_type": "code",
   "execution_count": 18,
   "outputs": [],
   "source": [
    "import regex"
   ],
   "metadata": {
    "collapsed": false,
    "ExecuteTime": {
     "end_time": "2023-12-01T16:28:39.951198133Z",
     "start_time": "2023-12-01T16:28:39.950909052Z"
    }
   },
   "id": "c9dd032d77fcc9c3"
  },
  {
   "cell_type": "code",
   "execution_count": 19,
   "outputs": [],
   "source": [
    "numbers_regex = regex.compile(r\"\\d|\" + numbertext)"
   ],
   "metadata": {
    "collapsed": false,
    "ExecuteTime": {
     "end_time": "2023-12-01T16:28:39.951261909Z",
     "start_time": "2023-12-01T16:28:39.950984927Z"
    }
   },
   "id": "a48352d50c467d0a"
  },
  {
   "cell_type": "code",
   "execution_count": 20,
   "outputs": [],
   "source": [
    "def twodigits2_regex(s):\n",
    "    numbers = numbers_regex.findall(s, overlapped=True)\n",
    "    digits = [number_lookup.get(x, x) for x in numbers]\n",
    "    return int(digits[0] + digits[-1])"
   ],
   "metadata": {
    "collapsed": false,
    "ExecuteTime": {
     "end_time": "2023-12-01T16:28:39.951305297Z",
     "start_time": "2023-12-01T16:28:39.951010678Z"
    }
   },
   "id": "6159e07b0be427f7"
  },
  {
   "cell_type": "code",
   "execution_count": 21,
   "outputs": [
    {
     "data": {
      "text/plain": "54518"
     },
     "execution_count": 21,
     "metadata": {},
     "output_type": "execute_result"
    }
   ],
   "source": [
    "sum(twodigits2_regex(line) for line in data.splitlines())"
   ],
   "metadata": {
    "collapsed": false,
    "ExecuteTime": {
     "end_time": "2023-12-01T16:28:39.995212699Z",
     "start_time": "2023-12-01T16:28:39.951107610Z"
    }
   },
   "id": "c75b37e008573a49"
  },
  {
   "cell_type": "markdown",
   "source": [
    "### Part two using re lookahead trick for overlapping matches"
   ],
   "metadata": {
    "collapsed": false
   },
   "id": "e0d50a9d8d69afb5"
  },
  {
   "cell_type": "code",
   "execution_count": 27,
   "outputs": [],
   "source": [
    "numbers_re_lookahead = re.compile(r\"(?=(\\d|\" + numbertext + \"))\")"
   ],
   "metadata": {
    "collapsed": false,
    "ExecuteTime": {
     "end_time": "2023-12-01T16:32:54.758122522Z",
     "start_time": "2023-12-01T16:32:54.730932044Z"
    }
   },
   "id": "99b4b802e0000907"
  },
  {
   "cell_type": "code",
   "execution_count": 28,
   "outputs": [
    {
     "data": {
      "text/plain": "['nine', 'eight']"
     },
     "execution_count": 28,
     "metadata": {},
     "output_type": "execute_result"
    }
   ],
   "source": [
    "numbers_re_lookahead.findall(\"nineight\")"
   ],
   "metadata": {
    "collapsed": false,
    "ExecuteTime": {
     "end_time": "2023-12-01T16:32:56.397692989Z",
     "start_time": "2023-12-01T16:32:56.392928533Z"
    }
   },
   "id": "f66cf61cb5d45c59"
  },
  {
   "cell_type": "code",
   "execution_count": 31,
   "outputs": [],
   "source": [
    "def twodigits2_re_lookahead(s):\n",
    "    numbers = numbers_re_lookahead.findall(s)\n",
    "    digits = [number_lookup.get(x, x) for x in numbers]\n",
    "    return int(digits[0] + digits[-1])"
   ],
   "metadata": {
    "collapsed": false,
    "ExecuteTime": {
     "end_time": "2023-12-01T16:33:58.676236626Z",
     "start_time": "2023-12-01T16:33:58.667728415Z"
    }
   },
   "id": "de6f6d0c5f8e2b35"
  },
  {
   "cell_type": "code",
   "execution_count": 32,
   "outputs": [
    {
     "data": {
      "text/plain": "54518"
     },
     "execution_count": 32,
     "metadata": {},
     "output_type": "execute_result"
    }
   ],
   "source": [
    "sum(twodigits2_re_lookahead(line) for line in data.splitlines())"
   ],
   "metadata": {
    "collapsed": false,
    "ExecuteTime": {
     "end_time": "2023-12-01T16:34:00.915631555Z",
     "start_time": "2023-12-01T16:34:00.908663088Z"
    }
   },
   "id": "c19b2dfe4bc30438"
  },
  {
   "cell_type": "code",
   "execution_count": null,
   "outputs": [],
   "source": [],
   "metadata": {
    "collapsed": false
   },
   "id": "efb72e257ecb3f3f"
  }
 ],
 "metadata": {
  "kernelspec": {
   "display_name": "Python 3",
   "language": "python",
   "name": "python3"
  },
  "language_info": {
   "codemirror_mode": {
    "name": "ipython",
    "version": 2
   },
   "file_extension": ".py",
   "mimetype": "text/x-python",
   "name": "python",
   "nbconvert_exporter": "python",
   "pygments_lexer": "ipython2",
   "version": "2.7.6"
  }
 },
 "nbformat": 4,
 "nbformat_minor": 5
}
