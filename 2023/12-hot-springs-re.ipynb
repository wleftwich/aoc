{
 "cells": [
  {
   "cell_type": "markdown",
   "source": [
    "https://adventofcode.com/2023/day/12"
   ],
   "metadata": {
    "collapsed": false
   },
   "id": "f502a2152a07aee0"
  },
  {
   "cell_type": "code",
   "execution_count": 1,
   "outputs": [],
   "source": [
    "import re\n",
    "\n",
    "from collections import deque\n",
    "from functools import cache"
   ],
   "metadata": {
    "collapsed": false,
    "ExecuteTime": {
     "end_time": "2024-01-02T15:17:15.854017108Z",
     "start_time": "2024-01-02T15:17:15.838080050Z"
    }
   },
   "id": "846b58c49284fb56"
  },
  {
   "cell_type": "code",
   "execution_count": 2,
   "outputs": [],
   "source": [
    "with open(\"data/12.txt\") as fh:\n",
    "    data = fh.read()"
   ],
   "metadata": {
    "collapsed": false,
    "ExecuteTime": {
     "end_time": "2024-01-02T15:17:15.888647336Z",
     "start_time": "2024-01-02T15:17:15.852727411Z"
    }
   },
   "id": "6f770aa289184d2a"
  },
  {
   "cell_type": "code",
   "execution_count": 3,
   "outputs": [],
   "source": [
    "testdata = \"\"\"\\\n",
    "???.### 1,1,3\n",
    ".??..??...?##. 1,1,3\n",
    "?#?#?#?#?#?#?#? 1,3,1,6\n",
    "????.#...#... 4,1,1\n",
    "????.######..#####. 1,6,5\n",
    "?###???????? 3,2,1\"\"\""
   ],
   "metadata": {
    "collapsed": false,
    "ExecuteTime": {
     "end_time": "2024-01-02T15:17:15.909160828Z",
     "start_time": "2024-01-02T15:17:15.877856112Z"
    }
   },
   "id": "1ebcc4c5cf82eb4a"
  },
  {
   "cell_type": "code",
   "execution_count": 4,
   "outputs": [],
   "source": [
    "xlate = {ord(\"?\"): \"x\", ord(\".\"): \"g\", ord(\"#\"): \"b\"}"
   ],
   "metadata": {
    "collapsed": false,
    "ExecuteTime": {
     "end_time": "2024-01-02T15:17:15.924935947Z",
     "start_time": "2024-01-02T15:17:15.908777710Z"
    }
   },
   "id": "3c4003922ee00b06"
  },
  {
   "cell_type": "code",
   "execution_count": 5,
   "outputs": [],
   "source": [
    "def parse_input(data):\n",
    "    L = []\n",
    "    for line in data.splitlines():\n",
    "        s, countstr = line.split()\n",
    "        L.append(\n",
    "            (\n",
    "                s.translate(xlate),\n",
    "                tuple(int(x) for x in countstr.split(\",\")),\n",
    "            )\n",
    "        )\n",
    "    return L"
   ],
   "metadata": {
    "collapsed": false,
    "ExecuteTime": {
     "end_time": "2024-01-02T15:17:15.955617319Z",
     "start_time": "2024-01-02T15:17:15.949887427Z"
    }
   },
   "id": "777575b155cfdeba"
  },
  {
   "cell_type": "code",
   "execution_count": 6,
   "outputs": [
    {
     "data": {
      "text/plain": "[('xxxgbbb', (1, 1, 3)),\n ('gxxggxxgggxbbg', (1, 1, 3)),\n ('xbxbxbxbxbxbxbx', (1, 3, 1, 6)),\n ('xxxxgbgggbggg', (4, 1, 1)),\n ('xxxxgbbbbbbggbbbbbg', (1, 6, 5)),\n ('xbbbxxxxxxxx', (3, 2, 1))]"
     },
     "execution_count": 6,
     "metadata": {},
     "output_type": "execute_result"
    }
   ],
   "source": [
    "parse_input(testdata)"
   ],
   "metadata": {
    "collapsed": false,
    "ExecuteTime": {
     "end_time": "2024-01-02T15:17:16.226989485Z",
     "start_time": "2024-01-02T15:17:16.183428233Z"
    }
   },
   "id": "7f8785e72e04f192"
  },
  {
   "cell_type": "code",
   "execution_count": 7,
   "outputs": [],
   "source": [
    "@cache\n",
    "def make_res(bcounts):\n",
    "    pat = \"[^b]*\" + \"[^b]+\".join(f\"[bx]{{{n}}}\" for n in bcounts) + \"(?!=b)[^b]*$\"\n",
    "    return re.compile(pat)"
   ],
   "metadata": {
    "collapsed": false,
    "ExecuteTime": {
     "end_time": "2024-01-02T15:17:18.108885790Z",
     "start_time": "2024-01-02T15:17:18.097351373Z"
    }
   },
   "id": "c2ca79961318fe2a"
  },
  {
   "cell_type": "code",
   "execution_count": 8,
   "outputs": [],
   "source": [
    "# def make_res(bcounts):\n",
    "#     pat = \"[^b]*\" + \"[^b]+\".join(f\"(?<!b)[bx]{{{n}}}(?!=b)\" for n in bcounts) + \"[^b]*$\"\n",
    "#     return re.compile(pat)"
   ],
   "metadata": {
    "collapsed": false,
    "ExecuteTime": {
     "end_time": "2024-01-02T15:17:18.644869427Z",
     "start_time": "2024-01-02T15:17:18.640680923Z"
    }
   },
   "id": "37597a81280fcba"
  },
  {
   "cell_type": "code",
   "execution_count": 9,
   "outputs": [],
   "source": [
    "@cache\n",
    "def count_the_ways(s, bcounts, debug=False):\n",
    "    bsre = make_res(bcounts)\n",
    "    q = deque([s])\n",
    "    ways = 0\n",
    "    while q:\n",
    "        s = q.popleft()\n",
    "        if \"x\" not in s:\n",
    "            m = bsre.match(s)\n",
    "            if m:\n",
    "                ways += 1\n",
    "                if debug:\n",
    "                    print(m.group())\n",
    "            continue\n",
    "        if bsre.match(s):\n",
    "            q.append(s.replace(\"x\", \"g\", 1))\n",
    "            q.append(s.replace(\"x\", \"b\", 1))\n",
    "    return ways"
   ],
   "metadata": {
    "collapsed": false,
    "ExecuteTime": {
     "end_time": "2024-01-02T15:17:19.158925894Z",
     "start_time": "2024-01-02T15:17:19.148613308Z"
    }
   },
   "id": "368e2f969cd2ac6"
  },
  {
   "cell_type": "code",
   "outputs": [],
   "source": [
    "def normalize(s):\n",
    "    return re.sub(r\"g+\", \"g\", s)"
   ],
   "metadata": {
    "collapsed": false,
    "ExecuteTime": {
     "end_time": "2024-01-02T15:17:19.976107718Z",
     "start_time": "2024-01-02T15:17:19.961974171Z"
    }
   },
   "id": "469c90edea666779",
   "execution_count": 10
  },
  {
   "cell_type": "code",
   "outputs": [
    {
     "name": "stdout",
     "output_type": "stream",
     "text": [
      "ggbgbbbgbbb\n",
      "gbggbbbgbbb\n",
      "gbgbbbggbbb\n"
     ]
    },
    {
     "data": {
      "text/plain": "3"
     },
     "execution_count": 11,
     "metadata": {},
     "output_type": "execute_result"
    }
   ],
   "source": [
    "count_the_ways(\"gxxxxbxgxxx\", (1, 3, 3), debug=True)"
   ],
   "metadata": {
    "collapsed": false,
    "ExecuteTime": {
     "end_time": "2024-01-02T15:17:20.273967180Z",
     "start_time": "2024-01-02T15:17:20.260405511Z"
    }
   },
   "id": "18230ff774a714cb",
   "execution_count": 11
  },
  {
   "cell_type": "code",
   "execution_count": 12,
   "outputs": [
    {
     "name": "stdout",
     "output_type": "stream",
     "text": [
      "xxxgbbb (1, 1, 3) 1\n",
      "gxxggxxgggxbbg (1, 1, 3) 4\n",
      "xbxbxbxbxbxbxbx (1, 3, 1, 6) 1\n",
      "xxxxgbgggbggg (4, 1, 1) 1\n",
      "xxxxgbbbbbbggbbbbbg (1, 6, 5) 4\n",
      "xbbbxxxxxxxx (3, 2, 1) 10\n",
      "CPU times: user 553 µs, sys: 0 ns, total: 553 µs\n",
      "Wall time: 550 µs\n"
     ]
    }
   ],
   "source": [
    "%%time\n",
    "for s, bcounts in parse_input(testdata):\n",
    "    ways = count_the_ways(normalize(s), bcounts)\n",
    "    print(s, bcounts, ways)"
   ],
   "metadata": {
    "collapsed": false,
    "ExecuteTime": {
     "end_time": "2024-01-02T15:17:20.598731828Z",
     "start_time": "2024-01-02T15:17:20.585135300Z"
    }
   },
   "id": "f58dd03b7f78547a"
  },
  {
   "cell_type": "code",
   "outputs": [
    {
     "name": "stdout",
     "output_type": "stream",
     "text": [
      "CPU times: user 45 µs, sys: 4 µs, total: 49 µs\n",
      "Wall time: 52.9 µs\n"
     ]
    },
    {
     "data": {
      "text/plain": "21"
     },
     "execution_count": 13,
     "metadata": {},
     "output_type": "execute_result"
    }
   ],
   "source": [
    "%%time\n",
    "sum(count_the_ways(normalize(s), bcounts) for (s, bcounts) in parse_input(testdata))"
   ],
   "metadata": {
    "collapsed": false,
    "ExecuteTime": {
     "end_time": "2024-01-02T15:17:21.391955255Z",
     "start_time": "2024-01-02T15:17:21.379077820Z"
    }
   },
   "id": "d6856c6020235c28",
   "execution_count": 13
  },
  {
   "cell_type": "code",
   "outputs": [
    {
     "name": "stdout",
     "output_type": "stream",
     "text": [
      "CPU times: user 127 ms, sys: 0 ns, total: 127 ms\n",
      "Wall time: 126 ms\n"
     ]
    },
    {
     "data": {
      "text/plain": "7173"
     },
     "execution_count": 14,
     "metadata": {},
     "output_type": "execute_result"
    }
   ],
   "source": [
    "%%time\n",
    "sum(count_the_ways(normalize(s), bcounts) for (s, bcounts) in parse_input(data))"
   ],
   "metadata": {
    "collapsed": false,
    "ExecuteTime": {
     "end_time": "2024-01-02T15:17:22.296870732Z",
     "start_time": "2024-01-02T15:17:22.173269445Z"
    }
   },
   "id": "a855ff0be4caf47b",
   "execution_count": 14
  },
  {
   "cell_type": "code",
   "outputs": [],
   "source": [
    "# L = [(s, bcounts, count_the_ways(s, bcounts)) for (s, bcounts) in parse_input(data)]\n",
    "# len(L)"
   ],
   "metadata": {
    "collapsed": false,
    "ExecuteTime": {
     "end_time": "2024-01-02T15:17:22.533082991Z",
     "start_time": "2024-01-02T15:17:22.522649219Z"
    }
   },
   "id": "d765bd94e54cb055",
   "execution_count": 15
  },
  {
   "cell_type": "code",
   "outputs": [],
   "source": [
    "# import pickle\n",
    "# with open(\"goodhs.pickle\", \"wb\") as f:\n",
    "#     pickle.dump(L, f)"
   ],
   "metadata": {
    "collapsed": false,
    "ExecuteTime": {
     "end_time": "2024-01-02T15:17:22.965348163Z",
     "start_time": "2024-01-02T15:17:22.959552710Z"
    }
   },
   "id": "5710f0c70621b9d2",
   "execution_count": 16
  },
  {
   "cell_type": "markdown",
   "source": [
    "### Part 2"
   ],
   "metadata": {
    "collapsed": false
   },
   "id": "eba71cba98208dbe"
  },
  {
   "cell_type": "code",
   "execution_count": 17,
   "outputs": [],
   "source": [
    "def unfold(s, bcounts, folds=5):\n",
    "    return \"x\".join([s] * folds), bcounts * folds"
   ],
   "metadata": {
    "collapsed": false,
    "ExecuteTime": {
     "end_time": "2024-01-02T15:17:23.823852144Z",
     "start_time": "2024-01-02T15:17:23.817776085Z"
    }
   },
   "id": "d045a477e25ccb5a"
  },
  {
   "cell_type": "code",
   "execution_count": 18,
   "outputs": [
    {
     "data": {
      "text/plain": "('xxxgbbbxxxxgbbbxxxxgbbbxxxxgbbbxxxxgbbb',\n (1, 1, 3, 1, 1, 3, 1, 1, 3, 1, 1, 3, 1, 1, 3))"
     },
     "execution_count": 18,
     "metadata": {},
     "output_type": "execute_result"
    }
   ],
   "source": [
    "unfold(\"???.###\".translate(xlate), (1, 1, 3))"
   ],
   "metadata": {
    "collapsed": false,
    "ExecuteTime": {
     "end_time": "2024-01-02T15:17:24.520683408Z",
     "start_time": "2024-01-02T15:17:24.517003824Z"
    }
   },
   "id": "bf4749ad95268d22"
  },
  {
   "cell_type": "code",
   "execution_count": 19,
   "outputs": [
    {
     "name": "stdout",
     "output_type": "stream",
     "text": [
      "xxxgbbb (1, 1, 3) 1 1 1 1 1 \n",
      "gxxgxxgxbbg (1, 1, 3) 4 32 256 2048 16384 \n",
      "xbxbxbxbxbxbxbx (1, 3, 1, 6) 1 1 1 1 1 \n",
      "xxxxgbgbg (4, 1, 1) 1 2 4 8 16 \n",
      "xxxxgbbbbbbgbbbbbg (1, 6, 5) 4 20 100 500 2500 \n",
      "xbbbxxxxxxxx (3, 2, 1) 10 150 2250 33750 506250 \n",
      "CPU times: user 3.86 s, sys: 53.1 ms, total: 3.91 s\n",
      "Wall time: 3.91 s\n"
     ]
    }
   ],
   "source": [
    "%%time\n",
    "for s, bcounts in parse_input(testdata):\n",
    "    s = normalize(s)\n",
    "    print(s, bcounts, end=\" \")\n",
    "    for uf in range(1, 6):\n",
    "        ways = count_the_ways(*unfold(s, bcounts, uf))\n",
    "        print(ways, end=\" \")\n",
    "    print()"
   ],
   "metadata": {
    "collapsed": false,
    "ExecuteTime": {
     "end_time": "2024-01-02T15:17:29.176959584Z",
     "start_time": "2024-01-02T15:17:25.267911407Z"
    }
   },
   "id": "b8eece4c8f828cbd"
  },
  {
   "cell_type": "code",
   "outputs": [],
   "source": [
    "def fold5ways(f1, f2):\n",
    "    r = f2 / f1\n",
    "    d12 = f2 - f1*f1\n",
    "    f3 = f1 * f2 + r * d12\n",
    "    d23 = f3 - f1 * f2\n",
    "    f4 = f3 * f1 + r * d23\n",
    "    d34 = f4 - f3 * f1\n",
    "    f5 = f4 * f1 + r * d34\n",
    "    return f1, f2, f3, f4, f5\n"
   ],
   "metadata": {
    "collapsed": false,
    "ExecuteTime": {
     "end_time": "2024-01-02T18:33:18.094084348Z",
     "start_time": "2024-01-02T18:33:18.080774771Z"
    }
   },
   "id": "3d41f485aee43e6c",
   "execution_count": 83
  },
  {
   "cell_type": "code",
   "outputs": [],
   "source": [
    "# %%time\n",
    "# 3rd line of puzzle\n",
    "\n",
    "# for folds in range(1, 6):\n",
    "#     print(folds, count_the_ways(*unfold(\".???.??.??\".translate(xlate), (1,1,1), folds)))"
   ],
   "metadata": {
    "collapsed": false
   },
   "id": "8154c58ad97e58e1",
   "execution_count": 24
  },
  {
   "cell_type": "markdown",
   "source": [
    "1 16\n",
    "2 775\n",
    "3 44583\n",
    "4 2732882\n",
    "5 173257860\n",
    "CPU times: user 16min 56s, sys: 24 ms, total: 16min 56s\n",
    "Wall time: 16min 56s\n"
   ],
   "metadata": {
    "collapsed": false
   },
   "id": "19b3cfca78a78d91"
  },
  {
   "cell_type": "markdown",
   "source": [],
   "metadata": {
    "collapsed": false
   },
   "id": "1e626074e49ce3fb"
  },
  {
   "cell_type": "code",
   "outputs": [
    {
     "data": {
      "text/plain": "(16, 775, 37539.0625, 1818298.33984375, 88073825.83618164)"
     },
     "execution_count": 84,
     "metadata": {},
     "output_type": "execute_result"
    }
   ],
   "source": [
    "fold5ways(16, 775)"
   ],
   "metadata": {
    "collapsed": false,
    "ExecuteTime": {
     "end_time": "2024-01-02T18:35:49.166608037Z",
     "start_time": "2024-01-02T18:35:49.122993676Z"
    }
   },
   "id": "7ba60c345db428d5",
   "execution_count": 84
  },
  {
   "cell_type": "markdown",
   "source": [
    "Nope, no good"
   ],
   "metadata": {
    "collapsed": false
   },
   "id": "9b9ca01bf85a94db"
  },
  {
   "cell_type": "code",
   "outputs": [
    {
     "name": "stdout",
     "output_type": "stream",
     "text": [
      "1 16\n",
      "2 775\n",
      "3 44583\n",
      "4 2732882\n",
      "CPU times: user 16.3 s, sys: 104 ms, total: 16.4 s\n",
      "Wall time: 16.4 s\n"
     ]
    }
   ],
   "source": [
    "%%time\n",
    "# 3rd line of puzzle\n",
    "\n",
    "for folds in range(1, 5):\n",
    "    print(folds, count_the_ways(*unfold(\".???.??.??\".translate(xlate), (1,1,1), folds)))"
   ],
   "metadata": {
    "collapsed": false,
    "ExecuteTime": {
     "end_time": "2024-01-02T18:50:30.625766037Z",
     "start_time": "2024-01-02T18:50:14.151418603Z"
    }
   },
   "id": "c144bc167995dc5f",
   "execution_count": 87
  },
  {
   "cell_type": "code",
   "outputs": [],
   "source": [],
   "metadata": {
    "collapsed": false
   },
   "id": "260e74b73f2c3147"
  }
 ],
 "metadata": {
  "kernelspec": {
   "display_name": "Python 3",
   "language": "python",
   "name": "python3"
  },
  "language_info": {
   "codemirror_mode": {
    "name": "ipython",
    "version": 2
   },
   "file_extension": ".py",
   "mimetype": "text/x-python",
   "name": "python",
   "nbconvert_exporter": "python",
   "pygments_lexer": "ipython2",
   "version": "2.7.6"
  }
 },
 "nbformat": 4,
 "nbformat_minor": 5
}
