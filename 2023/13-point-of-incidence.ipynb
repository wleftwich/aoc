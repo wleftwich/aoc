{
 "cells": [
  {
   "cell_type": "markdown",
   "source": [
    "https://adventofcode.com/2023/day/13"
   ],
   "metadata": {
    "collapsed": false
   },
   "id": "6a3f2580f6cfe22f"
  },
  {
   "cell_type": "code",
   "execution_count": 1,
   "outputs": [],
   "source": [
    "from itertools import pairwise\n",
    "\n",
    "import numpy as np"
   ],
   "metadata": {
    "collapsed": false,
    "ExecuteTime": {
     "end_time": "2023-12-14T01:28:23.132646457Z",
     "start_time": "2023-12-14T01:28:23.007674834Z"
    }
   },
   "id": "c6efd5449e46c03e"
  },
  {
   "cell_type": "code",
   "execution_count": 2,
   "outputs": [],
   "source": [
    "with open(\"data/13.txt\") as f:\n",
    "    puzzle = f.read()"
   ],
   "metadata": {
    "collapsed": false,
    "ExecuteTime": {
     "end_time": "2023-12-14T01:28:23.132991456Z",
     "start_time": "2023-12-14T01:28:23.089731961Z"
    }
   },
   "id": "af0ea4b8de7d3c9b"
  },
  {
   "cell_type": "code",
   "execution_count": 3,
   "outputs": [],
   "source": [
    "testdata = \"\"\"\\\n",
    "#.##..##.\n",
    "..#.##.#.\n",
    "##......#\n",
    "##......#\n",
    "..#.##.#.\n",
    "..##..##.\n",
    "#.#.##.#.\n",
    "\n",
    "#...##..#\n",
    "#....#..#\n",
    "..##..###\n",
    "#####.##.\n",
    "#####.##.\n",
    "..##..###\n",
    "#....#..#\n",
    "\"\"\""
   ],
   "metadata": {
    "collapsed": false,
    "ExecuteTime": {
     "end_time": "2023-12-14T01:28:23.154813117Z",
     "start_time": "2023-12-14T01:28:23.135917688Z"
    }
   },
   "id": "6047c18f965d4d90"
  },
  {
   "cell_type": "code",
   "execution_count": 4,
   "outputs": [],
   "source": [
    "def parse_block(block):\n",
    "    L = []\n",
    "    for line in block.splitlines():\n",
    "        L.append([1 if c == \"#\" else 0 for c in line])\n",
    "    return np.array(L, dtype=int)\n",
    "\n",
    "def parse_data(data):\n",
    "    return [parse_block(block) for block in data.split(\"\\n\\n\")]"
   ],
   "metadata": {
    "collapsed": false,
    "ExecuteTime": {
     "end_time": "2023-12-14T01:28:23.175737473Z",
     "start_time": "2023-12-14T01:28:23.157480796Z"
    }
   },
   "id": "de3946161d799c6c"
  },
  {
   "cell_type": "code",
   "execution_count": 5,
   "outputs": [],
   "source": [
    "def v_reflection(ary):\n",
    "    h, w = ary.shape\n",
    "    def check_reflect(i, j):\n",
    "        # Odd way to check for array equality, will make sense in Part 2\n",
    "        if (ary[:, i] != ary[:, j]).sum() == 0:\n",
    "            left, right = ary[:, :j], ary[:, j:]\n",
    "            dw = left.shape[1] - right.shape[1]\n",
    "            left_trimmed = left[:, max(0, dw) :]\n",
    "            right_trimmed_flipped = np.fliplr(right[:, : dw if dw < 0 else None])\n",
    "            if (left_trimmed != right_trimmed_flipped).sum() == 0:\n",
    "                return j\n",
    "    for i, j in pairwise(range(w)):\n",
    "        y = check_reflect(i, j)\n",
    "        if y is not None:\n",
    "            return y\n",
    "    return 0\n",
    "\n",
    "def h_reflection(ary):\n",
    "    return v_reflection(np.rot90(ary))"
   ],
   "metadata": {
    "collapsed": false,
    "ExecuteTime": {
     "end_time": "2023-12-14T01:28:23.176077805Z",
     "start_time": "2023-12-14T01:28:23.174960343Z"
    }
   },
   "id": "cae67589c8e80e73"
  },
  {
   "cell_type": "code",
   "execution_count": 6,
   "outputs": [
    {
     "data": {
      "text/plain": "405"
     },
     "execution_count": 6,
     "metadata": {},
     "output_type": "execute_result"
    }
   ],
   "source": [
    "sum(v_reflection(ary) + (h_reflection(ary) * 100) for ary in parse_data(testdata))"
   ],
   "metadata": {
    "collapsed": false,
    "ExecuteTime": {
     "end_time": "2023-12-14T01:28:23.200973831Z",
     "start_time": "2023-12-14T01:28:23.175018583Z"
    }
   },
   "id": "484fbb955d3ca10"
  },
  {
   "cell_type": "code",
   "execution_count": 7,
   "outputs": [
    {
     "data": {
      "text/plain": "37561"
     },
     "execution_count": 7,
     "metadata": {},
     "output_type": "execute_result"
    }
   ],
   "source": [
    "sum(v_reflection(ary) + (h_reflection(ary) * 100) for ary in parse_data(puzzle))"
   ],
   "metadata": {
    "collapsed": false,
    "ExecuteTime": {
     "end_time": "2023-12-14T01:28:23.232413281Z",
     "start_time": "2023-12-14T01:28:23.225544263Z"
    }
   },
   "id": "67eab7fa2ecf9834"
  },
  {
   "cell_type": "markdown",
   "source": [
    "### Part 2"
   ],
   "metadata": {
    "collapsed": false
   },
   "id": "ef079219fc5c8797"
  },
  {
   "cell_type": "code",
   "execution_count": 8,
   "outputs": [],
   "source": [
    "def smudged_v_reflection(ary):\n",
    "    h, w = ary.shape\n",
    "    def check_reflect(i, j):\n",
    "        if (ary[:, i] != ary[:, j]).sum() in (0, 1):\n",
    "            left, right = ary[:, :j], ary[:, j:]\n",
    "            dw = left.shape[1] - right.shape[1]\n",
    "            left_trimmed = left[:, max(0, dw) :]\n",
    "            right_trimmed_flipped = np.fliplr(right[:, : dw if dw < 0 else None])\n",
    "            if (left_trimmed != right_trimmed_flipped).sum() == 1:\n",
    "                return j\n",
    "    for i, j in pairwise(range(w)):\n",
    "        y = check_reflect(i, j)\n",
    "        if y is not None:\n",
    "            return y\n",
    "    return 0\n",
    "\n",
    "def smudged_h_reflection(ary):\n",
    "    return smudged_v_reflection(np.rot90(ary))"
   ],
   "metadata": {
    "collapsed": false,
    "ExecuteTime": {
     "end_time": "2023-12-14T01:28:23.232775565Z",
     "start_time": "2023-12-14T01:28:23.225634785Z"
    }
   },
   "id": "72db024950ea1313"
  },
  {
   "cell_type": "code",
   "execution_count": 9,
   "outputs": [
    {
     "data": {
      "text/plain": "400"
     },
     "execution_count": 9,
     "metadata": {},
     "output_type": "execute_result"
    }
   ],
   "source": [
    "sum(smudged_v_reflection(ary) + (smudged_h_reflection(ary) * 100) for ary in parse_data(testdata))"
   ],
   "metadata": {
    "collapsed": false,
    "ExecuteTime": {
     "end_time": "2023-12-14T01:28:23.233156453Z",
     "start_time": "2023-12-14T01:28:23.225665736Z"
    }
   },
   "id": "abebc8b6596244c6"
  },
  {
   "cell_type": "code",
   "execution_count": 10,
   "outputs": [
    {
     "name": "stdout",
     "output_type": "stream",
     "text": [
      "CPU times: user 4.18 ms, sys: 429 µs, total: 4.61 ms\n",
      "Wall time: 4.62 ms\n"
     ]
    },
    {
     "data": {
      "text/plain": "31108"
     },
     "execution_count": 10,
     "metadata": {},
     "output_type": "execute_result"
    }
   ],
   "source": [
    "%%time\n",
    "sum(smudged_v_reflection(ary) + (smudged_h_reflection(ary) * 100) for ary in parse_data(puzzle))"
   ],
   "metadata": {
    "collapsed": false,
    "ExecuteTime": {
     "end_time": "2023-12-14T01:28:23.281875951Z",
     "start_time": "2023-12-14T01:28:23.269653153Z"
    }
   },
   "id": "a65926da751b99d7"
  }
 ],
 "metadata": {
  "kernelspec": {
   "display_name": "Python 3",
   "language": "python",
   "name": "python3"
  },
  "language_info": {
   "codemirror_mode": {
    "name": "ipython",
    "version": 2
   },
   "file_extension": ".py",
   "mimetype": "text/x-python",
   "name": "python",
   "nbconvert_exporter": "python",
   "pygments_lexer": "ipython2",
   "version": "2.7.6"
  }
 },
 "nbformat": 4,
 "nbformat_minor": 5
}
