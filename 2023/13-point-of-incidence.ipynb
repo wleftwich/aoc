{
 "cells": [
  {
   "cell_type": "markdown",
   "source": [
    "https://adventofcode.com/2023/day/13"
   ],
   "metadata": {
    "collapsed": false
   },
   "id": "6a3f2580f6cfe22f"
  },
  {
   "cell_type": "code",
   "execution_count": 1,
   "outputs": [],
   "source": [
    "from itertools import pairwise\n",
    "\n",
    "import numpy as np"
   ],
   "metadata": {
    "collapsed": false,
    "ExecuteTime": {
     "end_time": "2023-12-13T21:43:54.347332411Z",
     "start_time": "2023-12-13T21:43:54.293602824Z"
    }
   },
   "id": "c6efd5449e46c03e"
  },
  {
   "cell_type": "code",
   "execution_count": 2,
   "outputs": [],
   "source": [
    "with open(\"data/13.txt\") as f:\n",
    "    puzzle = f.read()"
   ],
   "metadata": {
    "collapsed": false,
    "ExecuteTime": {
     "end_time": "2023-12-13T21:43:54.384189349Z",
     "start_time": "2023-12-13T21:43:54.349256948Z"
    }
   },
   "id": "af0ea4b8de7d3c9b"
  },
  {
   "cell_type": "code",
   "execution_count": 3,
   "outputs": [],
   "source": [
    "testdata = \"\"\"\\\n",
    "#.##..##.\n",
    "..#.##.#.\n",
    "##......#\n",
    "##......#\n",
    "..#.##.#.\n",
    "..##..##.\n",
    "#.#.##.#.\n",
    "\n",
    "#...##..#\n",
    "#....#..#\n",
    "..##..###\n",
    "#####.##.\n",
    "#####.##.\n",
    "..##..###\n",
    "#....#..#\n",
    "\"\"\""
   ],
   "metadata": {
    "collapsed": false,
    "ExecuteTime": {
     "end_time": "2023-12-13T21:43:54.384571413Z",
     "start_time": "2023-12-13T21:43:54.381118016Z"
    }
   },
   "id": "6047c18f965d4d90"
  },
  {
   "cell_type": "code",
   "execution_count": 4,
   "outputs": [],
   "source": [
    "def parse_block(block):\n",
    "    L = []\n",
    "    for line in block.splitlines():\n",
    "        L.append([1 if c == \"#\" else 0 for c in line])\n",
    "    return np.array(L, dtype=int)\n",
    "\n",
    "\n",
    "def parse_data(data):\n",
    "    return [parse_block(block) for block in data.split(\"\\n\\n\")]"
   ],
   "metadata": {
    "collapsed": false,
    "ExecuteTime": {
     "end_time": "2023-12-13T21:43:54.387483780Z",
     "start_time": "2023-12-13T21:43:54.384759941Z"
    }
   },
   "id": "de3946161d799c6c"
  },
  {
   "cell_type": "code",
   "execution_count": 13,
   "outputs": [],
   "source": [
    "def v_reflection(ary):\n",
    "    h, w = ary.shape\n",
    "    def check_reflect(i, j):\n",
    "        # Odd way to check for array equality, will make sense in Part 2\n",
    "        if (ary[:, i] != ary[:, j]).sum() == 0:\n",
    "            left, right = ary[:, :j], ary[:, j:]\n",
    "            dw = left.shape[1] - right.shape[1]\n",
    "            if (left[:, max(0, dw) :] != np.fliplr(right[:, : dw if dw < 0 else None])).sum() == 0:\n",
    "                return j\n",
    "    for i, j in pairwise(range(w)):\n",
    "        y = check_reflect(i, j)\n",
    "        if y is not None:\n",
    "            return y\n",
    "    return 0\n",
    "\n",
    "def h_reflection(ary):\n",
    "    return v_reflection(np.rot90(ary))"
   ],
   "metadata": {
    "collapsed": false,
    "ExecuteTime": {
     "end_time": "2023-12-13T21:43:54.583607056Z",
     "start_time": "2023-12-13T21:43:54.493564703Z"
    }
   },
   "id": "cae67589c8e80e73"
  },
  {
   "cell_type": "code",
   "execution_count": 19,
   "outputs": [
    {
     "data": {
      "text/plain": "405"
     },
     "execution_count": 19,
     "metadata": {},
     "output_type": "execute_result"
    }
   ],
   "source": [
    "sum(v_reflection(ary) + (h_reflection(ary) * 100) for ary in parse_data(testdata))"
   ],
   "metadata": {
    "collapsed": false,
    "ExecuteTime": {
     "end_time": "2023-12-13T21:45:51.046122010Z",
     "start_time": "2023-12-13T21:45:51.002862507Z"
    }
   },
   "id": "484fbb955d3ca10"
  },
  {
   "cell_type": "code",
   "execution_count": 18,
   "outputs": [
    {
     "data": {
      "text/plain": "37561"
     },
     "execution_count": 18,
     "metadata": {},
     "output_type": "execute_result"
    }
   ],
   "source": [
    "sum(v_reflection(ary) + (h_reflection(ary) * 100) for ary in parse_data(puzzle))"
   ],
   "metadata": {
    "collapsed": false
   },
   "id": "67eab7fa2ecf9834"
  },
  {
   "cell_type": "markdown",
   "source": [
    "### Part 2"
   ],
   "metadata": {
    "collapsed": false
   },
   "id": "ef079219fc5c8797"
  },
  {
   "cell_type": "code",
   "execution_count": 23,
   "outputs": [],
   "source": [
    "def smudged_v_reflection(ary):\n",
    "    h, w = ary.shape\n",
    "    def check_reflect(i, j):\n",
    "        if (ary[:, i] != ary[:, j]).sum() in (0, 1):\n",
    "            left, right = ary[:, :j], ary[:, j:]\n",
    "            dw = left.shape[1] - right.shape[1]\n",
    "            if (left[:, max(0, dw) :] != np.fliplr(right[:, : dw if dw < 0 else None])).sum() == 1:\n",
    "                return j\n",
    "    for i, j in pairwise(range(w)):\n",
    "        y = check_reflect(i, j)\n",
    "        if y is not None:\n",
    "            return y\n",
    "    return 0\n",
    "\n",
    "def smudged_h_reflection(ary):\n",
    "    return smudged_v_reflection(np.rot90(ary))"
   ],
   "metadata": {
    "collapsed": false,
    "ExecuteTime": {
     "end_time": "2023-12-13T21:48:52.130019908Z",
     "start_time": "2023-12-13T21:48:52.124832333Z"
    }
   },
   "id": "72db024950ea1313"
  },
  {
   "cell_type": "code",
   "execution_count": 24,
   "outputs": [
    {
     "data": {
      "text/plain": "400"
     },
     "execution_count": 24,
     "metadata": {},
     "output_type": "execute_result"
    }
   ],
   "source": [
    "sum(smudged_v_reflection(ary) + (smudged_h_reflection(ary) * 100) for ary in parse_data(testdata))"
   ],
   "metadata": {
    "collapsed": false,
    "ExecuteTime": {
     "end_time": "2023-12-13T21:49:26.485748279Z",
     "start_time": "2023-12-13T21:49:26.382432139Z"
    }
   },
   "id": "abebc8b6596244c6"
  },
  {
   "cell_type": "code",
   "execution_count": 26,
   "outputs": [
    {
     "name": "stdout",
     "output_type": "stream",
     "text": [
      "CPU times: user 13 ms, sys: 0 ns, total: 13 ms\n",
      "Wall time: 12.8 ms\n"
     ]
    },
    {
     "data": {
      "text/plain": "31108"
     },
     "execution_count": 26,
     "metadata": {},
     "output_type": "execute_result"
    }
   ],
   "source": [
    "%%time\n",
    "sum(smudged_v_reflection(ary) + (smudged_h_reflection(ary) * 100) for ary in parse_data(puzzle))"
   ],
   "metadata": {
    "collapsed": false,
    "ExecuteTime": {
     "end_time": "2023-12-13T21:50:52.253536903Z",
     "start_time": "2023-12-13T21:50:52.178308312Z"
    }
   },
   "id": "a65926da751b99d7"
  }
 ],
 "metadata": {
  "kernelspec": {
   "display_name": "Python 3",
   "language": "python",
   "name": "python3"
  },
  "language_info": {
   "codemirror_mode": {
    "name": "ipython",
    "version": 2
   },
   "file_extension": ".py",
   "mimetype": "text/x-python",
   "name": "python",
   "nbconvert_exporter": "python",
   "pygments_lexer": "ipython2",
   "version": "2.7.6"
  }
 },
 "nbformat": 4,
 "nbformat_minor": 5
}
