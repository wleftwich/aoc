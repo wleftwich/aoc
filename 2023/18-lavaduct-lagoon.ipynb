{
 "cells": [
  {
   "cell_type": "markdown",
   "source": [
    "https://adventofcode.com/2023/day/18"
   ],
   "metadata": {
    "collapsed": false
   },
   "id": "8408971a5bec18c8"
  },
  {
   "cell_type": "code",
   "execution_count": 1,
   "outputs": [],
   "source": [
    "from collections import deque\n",
    "from itertools import pairwise\n",
    "\n",
    "import networkx as nx"
   ],
   "metadata": {
    "collapsed": false,
    "ExecuteTime": {
     "end_time": "2023-12-20T14:40:52.882768251Z",
     "start_time": "2023-12-20T14:40:52.836322602Z"
    }
   },
   "id": "80768404c2fc3929"
  },
  {
   "cell_type": "code",
   "execution_count": 2,
   "outputs": [],
   "source": [
    "with open(\"data/18.txt\") as fh:\n",
    "    data = fh.read()"
   ],
   "metadata": {
    "collapsed": false,
    "ExecuteTime": {
     "end_time": "2023-12-20T14:40:52.924602790Z",
     "start_time": "2023-12-20T14:40:52.924201597Z"
    }
   },
   "id": "96428b02c8976a90"
  },
  {
   "cell_type": "code",
   "execution_count": 3,
   "outputs": [],
   "source": [
    "testdata = \"\"\"\\\n",
    "R 6 (#70c710)\n",
    "D 5 (#0dc571)\n",
    "L 2 (#5713f0)\n",
    "D 2 (#d2c081)\n",
    "R 2 (#59c680)\n",
    "D 2 (#411b91)\n",
    "L 5 (#8ceee2)\n",
    "U 2 (#caa173)\n",
    "L 1 (#1b58a2)\n",
    "U 2 (#caa171)\n",
    "R 2 (#7807d2)\n",
    "U 3 (#a77fa3)\n",
    "L 2 (#015232)\n",
    "U 2 (#7a21e3)\n",
    "\"\"\""
   ],
   "metadata": {
    "collapsed": false,
    "ExecuteTime": {
     "end_time": "2023-12-20T14:40:52.924820463Z",
     "start_time": "2023-12-20T14:40:52.924303725Z"
    }
   },
   "id": "57551acb3407f32e"
  },
  {
   "cell_type": "code",
   "execution_count": 4,
   "outputs": [],
   "source": [
    "def parse_puzzle(puzzle):\n",
    "    G = nx.Graph()\n",
    "    start = a = 0j\n",
    "    for line in puzzle.splitlines():\n",
    "        drxn_str, steps_str, color_str = line.split()\n",
    "        drxn = {\"R\": 1 + 0j, \"U\": 0 + 1j, \"L\": -1 + 0j, \"D\": 0 - 1j}[drxn_str]\n",
    "        steps = int(steps_str)\n",
    "        color = int(color_str[2:-1], base=16)\n",
    "        for _ in range(steps):\n",
    "            b = a + drxn\n",
    "            G.add_node(b, color=color)\n",
    "            G.add_edge(a, b)\n",
    "            a = b\n",
    "    return G"
   ],
   "metadata": {
    "collapsed": false,
    "ExecuteTime": {
     "end_time": "2023-12-20T14:40:52.924979559Z",
     "start_time": "2023-12-20T14:40:52.924345511Z"
    }
   },
   "id": "b18bd59d9b29a6bd"
  },
  {
   "cell_type": "code",
   "execution_count": 5,
   "outputs": [],
   "source": [
    "def find_interior_point(G):\n",
    "    (xmin, xmax), (ymin, ymax) = find_extrema(G)\n",
    "\n",
    "    def findit():\n",
    "        for y in range(ymin + 1, ymax):\n",
    "            for x in range(xmin, xmax):\n",
    "                if x + y * 1j in G:\n",
    "                    if x + 1 + y * 1j in G:\n",
    "                        continue\n",
    "                    else:\n",
    "                        return x + 1 + y * 1j\n",
    "        raise ValueError(\"No interiot points found\")\n",
    "\n",
    "    return findit()\n",
    "\n",
    "\n",
    "def find_extrema(G):\n",
    "    xmax = ymax = -float(\"inf\")\n",
    "    xmin = ymin = float(\"inf\")\n",
    "    for node in G:\n",
    "        x, y = int(node.real), int(node.imag)\n",
    "        xmin = min(x, xmin)\n",
    "        xmax = max(x, xmax)\n",
    "        ymin = min(y, ymin)\n",
    "        ymax = max(y, ymax)\n",
    "    return (xmin, xmax), (ymin, ymax)\n",
    "\n",
    "\n",
    "def cubic_meters(puzzle):\n",
    "    G = parse_puzzle(puzzle)\n",
    "    p = find_interior_point(G)\n",
    "    q = deque([p])\n",
    "    visited = set()\n",
    "    (xmin, xmax), (ymin, ymax) = find_extrema(G)\n",
    "    while q:\n",
    "        p = q.popleft()\n",
    "        x, y = int(p.real), int(p.imag)\n",
    "        if not xmin <= x <= xmax and ymin <= y <= ymax:\n",
    "            raise ValueError(\"Escaped! : %s\" % p)\n",
    "        if p in visited:\n",
    "            continue\n",
    "        visited.add(p)\n",
    "        for d in [1, 1j, -1, -1j]:\n",
    "            nabe = p + d\n",
    "            if nabe not in visited and nabe not in G:\n",
    "                q.append(nabe)\n",
    "    return len(visited) + len(G)"
   ],
   "metadata": {
    "collapsed": false,
    "ExecuteTime": {
     "end_time": "2023-12-20T14:40:52.925109176Z",
     "start_time": "2023-12-20T14:40:52.924382986Z"
    }
   },
   "id": "d871d23b944e2f8"
  },
  {
   "cell_type": "code",
   "execution_count": 6,
   "outputs": [
    {
     "data": {
      "text/plain": "62"
     },
     "execution_count": 6,
     "metadata": {},
     "output_type": "execute_result"
    }
   ],
   "source": [
    "cubic_meters(testdata)"
   ],
   "metadata": {
    "collapsed": false,
    "ExecuteTime": {
     "end_time": "2023-12-20T14:40:52.938320520Z",
     "start_time": "2023-12-20T14:40:52.924454564Z"
    }
   },
   "id": "a6c59f7401157c03"
  },
  {
   "cell_type": "code",
   "execution_count": 7,
   "outputs": [
    {
     "name": "stdout",
     "output_type": "stream",
     "text": [
      "CPU times: user 50.9 ms, sys: 196 µs, total: 51.1 ms\n",
      "Wall time: 51.3 ms\n"
     ]
    },
    {
     "data": {
      "text/plain": "48652"
     },
     "execution_count": 7,
     "metadata": {},
     "output_type": "execute_result"
    }
   ],
   "source": [
    "%%time\n",
    "cubic_meters(data)"
   ],
   "metadata": {
    "collapsed": false,
    "ExecuteTime": {
     "end_time": "2023-12-20T14:40:53.001443657Z",
     "start_time": "2023-12-20T14:40:52.937302874Z"
    }
   },
   "id": "1cee5aedf63f4fc4"
  },
  {
   "cell_type": "markdown",
   "source": [
    "### Part 2\n",
    "Have to rethink"
   ],
   "metadata": {
    "collapsed": false
   },
   "id": "f0ac777320f0178d"
  },
  {
   "cell_type": "code",
   "execution_count": 8,
   "outputs": [],
   "source": [
    "def shoelace(vertices):\n",
    "    return shoelace_pairs(pairwise(vertices))\n",
    "    \n",
    "\n",
    "def shoelace_pairs(vertex_pairs):\n",
    "    return (\n",
    "        sum(\n",
    "            (x1 * y2 - y1 * x2)\n",
    "            for ((x1, y1), (x2, y2)) in vertex_pairs\n",
    "        )\n",
    "        / 2\n",
    "    )\n",
    "\n",
    "\n",
    "def c2xy(c):\n",
    "    return c.real, c.imag\n",
    "\n",
    "\n",
    "def parse_puzzle_1(puzzle):\n",
    "    G = nx.Graph()\n",
    "    a = 0j\n",
    "    for line in puzzle.splitlines():\n",
    "        drxn_str, steps_str, color_str = line.split()\n",
    "        drxn = {\"R\": 1 + 0j, \"U\": 0 + 1j, \"L\": -1 + 0j, \"D\": 0 - 1j}[drxn_str]\n",
    "        steps = int(steps_str)\n",
    "        b = a + steps * drxn\n",
    "        G.add_node(a, dout=drxn, steps=steps)\n",
    "        G.add_node(b, din=drxn)\n",
    "        G.add_edge(a, b)\n",
    "        a = b\n",
    "    return G"
   ],
   "metadata": {
    "collapsed": false,
    "ExecuteTime": {
     "end_time": "2023-12-20T14:40:53.040535301Z",
     "start_time": "2023-12-20T14:40:53.040171213Z"
    }
   },
   "id": "6338b8f9c698a269"
  },
  {
   "cell_type": "code",
   "execution_count": 9,
   "outputs": [],
   "source": [
    "def cubic_meters_the_right_way(G):\n",
    "    turn_corxns = {\n",
    "        (-1j, -1j): 1,\n",
    "        (-1j, 1j): 0,\n",
    "        (1j, 1j): -1,\n",
    "        (1j, -1j): 0\n",
    "    }\n",
    "    point = 0j\n",
    "    outer_vertices = [point]\n",
    "    for a, b in nx.find_cycle(G, point):\n",
    "        a = G.nodes[a]\n",
    "        b = G.nodes[b]\n",
    "        aturn = a[\"dout\"] / a[\"din\"]\n",
    "        bturn = b[\"dout\"] / b[\"din\"]\n",
    "        corxn = turn_corxns.get((aturn, bturn), 0)\n",
    "        drxn, steps = a[\"dout\"], a[\"steps\"] + corxn\n",
    "        point += drxn * steps\n",
    "        outer_vertices.append(point)\n",
    "    \n",
    "    return shoelace(c2xy(c) for c in outer_vertices)    "
   ],
   "metadata": {
    "collapsed": false,
    "ExecuteTime": {
     "end_time": "2023-12-20T14:40:53.040741521Z",
     "start_time": "2023-12-20T14:40:53.040272791Z"
    }
   },
   "id": "2aa729d86350771d"
  },
  {
   "cell_type": "code",
   "execution_count": 10,
   "outputs": [
    {
     "data": {
      "text/plain": "-62.0"
     },
     "execution_count": 10,
     "metadata": {},
     "output_type": "execute_result"
    }
   ],
   "source": [
    "cubic_meters_the_right_way(parse_puzzle_1(testdata))"
   ],
   "metadata": {
    "collapsed": false,
    "ExecuteTime": {
     "end_time": "2023-12-20T14:40:53.040980747Z",
     "start_time": "2023-12-20T14:40:53.040308066Z"
    }
   },
   "id": "fb6095a3d1c6b9e8"
  },
  {
   "cell_type": "code",
   "execution_count": 11,
   "outputs": [
    {
     "data": {
      "text/plain": "-48652.0"
     },
     "execution_count": 11,
     "metadata": {},
     "output_type": "execute_result"
    }
   ],
   "source": [
    "cubic_meters_the_right_way(parse_puzzle_1(data))"
   ],
   "metadata": {
    "collapsed": false,
    "ExecuteTime": {
     "end_time": "2023-12-20T14:40:53.084400275Z",
     "start_time": "2023-12-20T14:40:53.040337085Z"
    }
   },
   "id": "c16baacc8373bd82"
  },
  {
   "cell_type": "code",
   "execution_count": 14,
   "outputs": [],
   "source": [
    "def parse_puzzle_2(puzzle):\n",
    "    G = nx.Graph()\n",
    "    a = 0j\n",
    "    for line in puzzle.splitlines():\n",
    "        colorcode = line[-7:-1]\n",
    "        steps = int(colorcode[:5], base=16)\n",
    "        drxn = {\"0\": 1 + 0j, \"3\": 0 + 1j, \"2\": -1 + 0j, \"1\": 0 - 1j}[colorcode[5]]\n",
    "        b = a + steps * drxn\n",
    "        G.add_node(a, dout=drxn, steps=steps)\n",
    "        G.add_node(b, din=drxn)\n",
    "        G.add_edge(a, b)\n",
    "        a = b\n",
    "    return G"
   ],
   "metadata": {
    "collapsed": false,
    "ExecuteTime": {
     "end_time": "2023-12-20T14:50:41.188864747Z",
     "start_time": "2023-12-20T14:50:41.147830942Z"
    }
   },
   "id": "722677db4961ffc4"
  },
  {
   "cell_type": "code",
   "execution_count": 16,
   "outputs": [
    {
     "name": "stdout",
     "output_type": "stream",
     "text": [
      "CPU times: user 13.4 ms, sys: 0 ns, total: 13.4 ms\n",
      "Wall time: 13.5 ms\n"
     ]
    },
    {
     "data": {
      "text/plain": "-45757884535661.0"
     },
     "execution_count": 16,
     "metadata": {},
     "output_type": "execute_result"
    }
   ],
   "source": [
    "%%time\n",
    "cubic_meters_the_right_way(parse_puzzle_2(data))"
   ],
   "metadata": {
    "collapsed": false,
    "ExecuteTime": {
     "end_time": "2023-12-20T14:51:37.545337806Z",
     "start_time": "2023-12-20T14:51:37.503394848Z"
    }
   },
   "id": "cd3acc85cb6a7f52"
  }
 ],
 "metadata": {
  "kernelspec": {
   "display_name": "Python 3",
   "language": "python",
   "name": "python3"
  },
  "language_info": {
   "codemirror_mode": {
    "name": "ipython",
    "version": 2
   },
   "file_extension": ".py",
   "mimetype": "text/x-python",
   "name": "python",
   "nbconvert_exporter": "python",
   "pygments_lexer": "ipython2",
   "version": "2.7.6"
  }
 },
 "nbformat": 4,
 "nbformat_minor": 5
}
