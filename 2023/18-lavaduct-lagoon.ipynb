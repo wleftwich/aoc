{
 "cells": [
  {
   "cell_type": "markdown",
   "source": [
    "https://adventofcode.com/2023/day/18"
   ],
   "metadata": {
    "collapsed": false
   },
   "id": "8408971a5bec18c8"
  },
  {
   "cell_type": "code",
   "execution_count": 1,
   "outputs": [],
   "source": [
    "from collections import deque\n",
    "from itertools import pairwise\n",
    "\n",
    "import networkx as nx"
   ],
   "metadata": {
    "collapsed": false,
    "ExecuteTime": {
     "end_time": "2023-12-20T18:54:28.679642168Z",
     "start_time": "2023-12-20T18:54:28.607049891Z"
    }
   },
   "id": "80768404c2fc3929"
  },
  {
   "cell_type": "code",
   "execution_count": 2,
   "outputs": [],
   "source": [
    "with open(\"data/18.txt\") as fh:\n",
    "    data = fh.read()"
   ],
   "metadata": {
    "collapsed": false,
    "ExecuteTime": {
     "end_time": "2023-12-20T18:54:28.700672130Z",
     "start_time": "2023-12-20T18:54:28.696164913Z"
    }
   },
   "id": "96428b02c8976a90"
  },
  {
   "cell_type": "code",
   "execution_count": 3,
   "outputs": [],
   "source": [
    "testdata = \"\"\"\\\n",
    "R 6 (#70c710)\n",
    "D 5 (#0dc571)\n",
    "L 2 (#5713f0)\n",
    "D 2 (#d2c081)\n",
    "R 2 (#59c680)\n",
    "D 2 (#411b91)\n",
    "L 5 (#8ceee2)\n",
    "U 2 (#caa173)\n",
    "L 1 (#1b58a2)\n",
    "U 2 (#caa171)\n",
    "R 2 (#7807d2)\n",
    "U 3 (#a77fa3)\n",
    "L 2 (#015232)\n",
    "U 2 (#7a21e3)\n",
    "\"\"\""
   ],
   "metadata": {
    "collapsed": false,
    "ExecuteTime": {
     "end_time": "2023-12-20T18:54:28.700899631Z",
     "start_time": "2023-12-20T18:54:28.696239662Z"
    }
   },
   "id": "57551acb3407f32e"
  },
  {
   "cell_type": "code",
   "execution_count": 4,
   "outputs": [],
   "source": [
    "def parse_puzzle(puzzle):\n",
    "    G = nx.Graph()\n",
    "    a = 0j\n",
    "    for line in puzzle.splitlines():\n",
    "        drxn_str, steps_str, color_str = line.split()\n",
    "        drxn = {\"R\": 1 + 0j, \"U\": 0 + 1j, \"L\": -1 + 0j, \"D\": 0 - 1j}[drxn_str]\n",
    "        steps = int(steps_str)\n",
    "        color = int(color_str[2:-1], base=16)\n",
    "        for _ in range(steps):\n",
    "            b = a + drxn\n",
    "            G.add_node(b, color=color)\n",
    "            G.add_edge(a, b)\n",
    "            a = b\n",
    "    return G"
   ],
   "metadata": {
    "collapsed": false,
    "ExecuteTime": {
     "end_time": "2023-12-20T18:54:28.701035438Z",
     "start_time": "2023-12-20T18:54:28.696261936Z"
    }
   },
   "id": "b18bd59d9b29a6bd"
  },
  {
   "cell_type": "code",
   "execution_count": 5,
   "outputs": [],
   "source": [
    "def find_interior_point(G):\n",
    "    (xmin, xmax), (ymin, ymax) = find_extrema(G)\n",
    "\n",
    "    def findit():\n",
    "        for y in range(ymin + 1, ymax):\n",
    "            for x in range(xmin, xmax):\n",
    "                if x + y * 1j in G:\n",
    "                    if x + 1 + y * 1j in G:\n",
    "                        continue\n",
    "                    else:\n",
    "                        return x + 1 + y * 1j\n",
    "        raise ValueError(\"No interiot points found\")\n",
    "\n",
    "    return findit()\n",
    "\n",
    "\n",
    "def find_extrema(G):\n",
    "    xmax = ymax = -float(\"inf\")\n",
    "    xmin = ymin = float(\"inf\")\n",
    "    for node in G:\n",
    "        x, y = int(node.real), int(node.imag)\n",
    "        xmin = min(x, xmin)\n",
    "        xmax = max(x, xmax)\n",
    "        ymin = min(y, ymin)\n",
    "        ymax = max(y, ymax)\n",
    "    return (xmin, xmax), (ymin, ymax)\n",
    "\n",
    "\n",
    "def cubic_meters(puzzle):\n",
    "    G = parse_puzzle(puzzle)\n",
    "    p = find_interior_point(G)\n",
    "    q = deque([p])\n",
    "    visited = set()\n",
    "    (xmin, xmax), (ymin, ymax) = find_extrema(G)\n",
    "    while q:\n",
    "        p = q.popleft()\n",
    "        x, y = int(p.real), int(p.imag)\n",
    "        if not xmin <= x <= xmax and ymin <= y <= ymax:\n",
    "            raise ValueError(\"Escaped! : %s\" % p)\n",
    "        if p in visited:\n",
    "            continue\n",
    "        visited.add(p)\n",
    "        for d in [1, 1j, -1, -1j]:\n",
    "            nabe = p + d\n",
    "            if nabe not in visited and nabe not in G:\n",
    "                q.append(nabe)\n",
    "    return len(visited) + len(G)"
   ],
   "metadata": {
    "collapsed": false,
    "ExecuteTime": {
     "end_time": "2023-12-20T18:54:28.701155860Z",
     "start_time": "2023-12-20T18:54:28.696283678Z"
    }
   },
   "id": "d871d23b944e2f8"
  },
  {
   "cell_type": "code",
   "execution_count": 6,
   "outputs": [
    {
     "data": {
      "text/plain": "62"
     },
     "execution_count": 6,
     "metadata": {},
     "output_type": "execute_result"
    }
   ],
   "source": [
    "cubic_meters(testdata)"
   ],
   "metadata": {
    "collapsed": false,
    "ExecuteTime": {
     "end_time": "2023-12-20T18:54:28.728199929Z",
     "start_time": "2023-12-20T18:54:28.697672565Z"
    }
   },
   "id": "a6c59f7401157c03"
  },
  {
   "cell_type": "code",
   "execution_count": 7,
   "outputs": [
    {
     "name": "stdout",
     "output_type": "stream",
     "text": [
      "CPU times: user 50 ms, sys: 0 ns, total: 50 ms\n",
      "Wall time: 49.7 ms\n"
     ]
    },
    {
     "data": {
      "text/plain": "48652"
     },
     "execution_count": 7,
     "metadata": {},
     "output_type": "execute_result"
    }
   ],
   "source": [
    "%%time\n",
    "cubic_meters(data)"
   ],
   "metadata": {
    "collapsed": false,
    "ExecuteTime": {
     "end_time": "2023-12-20T18:54:28.814117968Z",
     "start_time": "2023-12-20T18:54:28.711935567Z"
    }
   },
   "id": "1cee5aedf63f4fc4"
  },
  {
   "cell_type": "markdown",
   "source": [
    "### Part 2\n",
    "Have to rethink"
   ],
   "metadata": {
    "collapsed": false
   },
   "id": "f0ac777320f0178d"
  },
  {
   "cell_type": "code",
   "execution_count": 8,
   "outputs": [],
   "source": [
    "def shoelace(vertices):\n",
    "    return shoelace_pairs(pairwise(vertices))\n",
    "\n",
    "\n",
    "def shoelace_pairs(vertex_pairs):\n",
    "    return sum((x1 * y2 - y1 * x2) for ((x1, y1), (x2, y2)) in vertex_pairs) / 2\n",
    "\n",
    "\n",
    "def c2xy(c):\n",
    "    return c.real, c.imag\n",
    "\n",
    "\n",
    "def parse_puzzle_1(puzzle):\n",
    "    G = nx.Graph()\n",
    "    a = 0j\n",
    "    for line in puzzle.splitlines():\n",
    "        drxn_str, steps_str, color_str = line.split()\n",
    "        drxn = {\"R\": 1 + 0j, \"U\": 0 + 1j, \"L\": -1 + 0j, \"D\": 0 - 1j}[drxn_str]\n",
    "        steps = int(steps_str)\n",
    "        b = a + steps * drxn\n",
    "        G.add_node(a, dout=drxn, steps=steps)\n",
    "        G.add_node(b, din=drxn)\n",
    "        G.add_edge(a, b)\n",
    "        a = b\n",
    "    return G\n",
    "\n",
    "\n",
    "def parse_puzzle_2(puzzle):\n",
    "    G = nx.Graph()\n",
    "    a = 0j\n",
    "    for line in puzzle.splitlines():\n",
    "        colorcode = line[-7:-1]\n",
    "        steps = int(colorcode[:5], base=16)\n",
    "        drxn = {\"0\": 1 + 0j, \"3\": 0 + 1j, \"2\": -1 + 0j, \"1\": 0 - 1j}[colorcode[5]]\n",
    "        b = a + steps * drxn\n",
    "        G.add_node(a, dout=drxn, steps=steps)\n",
    "        G.add_node(b, din=drxn)\n",
    "        G.add_edge(a, b)\n",
    "        a = b\n",
    "    return G\n",
    "\n",
    "\n",
    "def cubic_meters_the_right_way(G):\n",
    "    turn_corxns = {(-1j, -1j): 1, (-1j, 1j): 0, (1j, 1j): -1, (1j, -1j): 0}\n",
    "    point = 0j\n",
    "    outer_vertices = [point]\n",
    "    turn_total = sum(d[\"dout\"] / d[\"din\"] for (n, d) in G.nodes(data=True))\n",
    "    if turn_total == -4j:\n",
    "        clockwise = 1\n",
    "    elif turn_total == 4j:\n",
    "        clockwise = -1\n",
    "    else:\n",
    "        raise ValueError(\"Invalid turn total: {}\".format(turn_total))\n",
    "    for a, b in nx.find_cycle(G, point):\n",
    "        a = G.nodes[a]\n",
    "        b = G.nodes[b]\n",
    "        aturn = a[\"dout\"] / a[\"din\"] * clockwise\n",
    "        bturn = b[\"dout\"] / b[\"din\"] * clockwise\n",
    "        corxn = turn_corxns.get((aturn, bturn), 0)\n",
    "        drxn, steps = a[\"dout\"], a[\"steps\"] + corxn\n",
    "        point += drxn * steps\n",
    "        outer_vertices.append(point)\n",
    "\n",
    "    return shoelace(c2xy(c) for c in outer_vertices) * -clockwise"
   ],
   "metadata": {
    "collapsed": false,
    "ExecuteTime": {
     "end_time": "2023-12-20T18:54:28.814334830Z",
     "start_time": "2023-12-20T18:54:28.812178736Z"
    }
   },
   "id": "6338b8f9c698a269"
  },
  {
   "cell_type": "code",
   "execution_count": 9,
   "outputs": [
    {
     "data": {
      "text/plain": "62.0"
     },
     "execution_count": 9,
     "metadata": {},
     "output_type": "execute_result"
    }
   ],
   "source": [
    "cubic_meters_the_right_way(parse_puzzle_1(testdata))"
   ],
   "metadata": {
    "collapsed": false,
    "ExecuteTime": {
     "end_time": "2023-12-20T18:54:28.814528320Z",
     "start_time": "2023-12-20T18:54:28.812250436Z"
    }
   },
   "id": "fb6095a3d1c6b9e8"
  },
  {
   "cell_type": "code",
   "execution_count": 10,
   "outputs": [
    {
     "data": {
      "text/plain": "48652.0"
     },
     "execution_count": 10,
     "metadata": {},
     "output_type": "execute_result"
    }
   ],
   "source": [
    "cubic_meters_the_right_way(parse_puzzle_1(data))"
   ],
   "metadata": {
    "collapsed": false,
    "ExecuteTime": {
     "end_time": "2023-12-20T18:54:28.856504698Z",
     "start_time": "2023-12-20T18:54:28.812273968Z"
    }
   },
   "id": "c16baacc8373bd82"
  },
  {
   "cell_type": "code",
   "execution_count": 11,
   "outputs": [
    {
     "name": "stdout",
     "output_type": "stream",
     "text": [
      "CPU times: user 161 µs, sys: 0 ns, total: 161 µs\n",
      "Wall time: 163 µs\n"
     ]
    },
    {
     "data": {
      "text/plain": "952408144115.0"
     },
     "execution_count": 11,
     "metadata": {},
     "output_type": "execute_result"
    }
   ],
   "source": [
    "%%time\n",
    "cubic_meters_the_right_way(parse_puzzle_2(testdata))"
   ],
   "metadata": {
    "collapsed": false,
    "ExecuteTime": {
     "end_time": "2023-12-20T18:54:28.857466227Z",
     "start_time": "2023-12-20T18:54:28.856236808Z"
    }
   },
   "id": "cd3acc85cb6a7f52"
  },
  {
   "cell_type": "code",
   "execution_count": 12,
   "outputs": [
    {
     "name": "stdout",
     "output_type": "stream",
     "text": [
      "CPU times: user 6.48 ms, sys: 0 ns, total: 6.48 ms\n",
      "Wall time: 6.46 ms\n"
     ]
    },
    {
     "data": {
      "text/plain": "45757884535661.0"
     },
     "execution_count": 12,
     "metadata": {},
     "output_type": "execute_result"
    }
   ],
   "source": [
    "%%time\n",
    "cubic_meters_the_right_way(parse_puzzle_2(data))"
   ],
   "metadata": {
    "collapsed": false,
    "ExecuteTime": {
     "end_time": "2023-12-20T18:54:28.877355181Z",
     "start_time": "2023-12-20T18:54:28.856358400Z"
    }
   },
   "id": "1d73644b61256c9a"
  }
 ],
 "metadata": {
  "kernelspec": {
   "display_name": "Python 3",
   "language": "python",
   "name": "python3"
  },
  "language_info": {
   "codemirror_mode": {
    "name": "ipython",
    "version": 2
   },
   "file_extension": ".py",
   "mimetype": "text/x-python",
   "name": "python",
   "nbconvert_exporter": "python",
   "pygments_lexer": "ipython2",
   "version": "2.7.6"
  }
 },
 "nbformat": 4,
 "nbformat_minor": 5
}
