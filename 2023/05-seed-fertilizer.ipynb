{
 "cells": [
  {
   "cell_type": "markdown",
   "source": [
    "https://adventofcode.com/2023/day/5"
   ],
   "metadata": {
    "collapsed": false
   },
   "id": "68e8d4b5a25a2d36"
  },
  {
   "cell_type": "code",
   "execution_count": 138,
   "outputs": [],
   "source": [
    "import math\n",
    "from collections import deque"
   ],
   "metadata": {
    "collapsed": false,
    "ExecuteTime": {
     "end_time": "2023-12-06T21:16:40.630327095Z",
     "start_time": "2023-12-06T21:16:40.501877390Z"
    }
   },
   "id": "59f13dca1606d1d3"
  },
  {
   "cell_type": "code",
   "execution_count": 139,
   "outputs": [],
   "source": [
    "with open(\"data/05.txt\") as fh:\n",
    "    data = fh.read()"
   ],
   "metadata": {
    "collapsed": false,
    "ExecuteTime": {
     "end_time": "2023-12-06T21:16:40.632297694Z",
     "start_time": "2023-12-06T21:16:40.550091649Z"
    }
   },
   "id": "f0f0b3b1b96a3d8b"
  },
  {
   "cell_type": "code",
   "execution_count": 140,
   "outputs": [],
   "source": [
    "testdata = \"\"\"\\\n",
    "seeds: 79 14 55 13\n",
    "\n",
    "seed-to-soil map:\n",
    "50 98 2\n",
    "52 50 48\n",
    "\n",
    "soil-to-fertilizer map:\n",
    "0 15 37\n",
    "37 52 2\n",
    "39 0 15\n",
    "\n",
    "fertilizer-to-water map:\n",
    "49 53 8\n",
    "0 11 42\n",
    "42 0 7\n",
    "57 7 4\n",
    "\n",
    "water-to-light map:\n",
    "88 18 7\n",
    "18 25 70\n",
    "\n",
    "light-to-temperature map:\n",
    "45 77 23\n",
    "81 45 19\n",
    "68 64 13\n",
    "\n",
    "temperature-to-humidity map:\n",
    "0 69 1\n",
    "1 0 69\n",
    "\n",
    "humidity-to-location map:\n",
    "60 56 37\n",
    "56 93 4\n",
    "\"\"\""
   ],
   "metadata": {
    "collapsed": false,
    "ExecuteTime": {
     "end_time": "2023-12-06T21:16:40.632367870Z",
     "start_time": "2023-12-06T21:16:40.550162974Z"
    }
   },
   "id": "c4fae9894477157b"
  },
  {
   "cell_type": "code",
   "execution_count": 141,
   "outputs": [],
   "source": [
    "class GardenMap:\n",
    "    def __init__(self, data):\n",
    "        self.ranges = []\n",
    "        self.name = \"anon\"\n",
    "        for line in data.splitlines():\n",
    "            if line and line[0].isdigit():\n",
    "                self.ranges.append(tuple(int(x) for x in line.split()))\n",
    "            elif line and line[0].isalpha():\n",
    "                self.name = line.split()[0]\n",
    "\n",
    "    def find_range(self, s):\n",
    "        try:\n",
    "            r = max((x for x in self.ranges if x[1] <= s), key=lambda y: y[1])\n",
    "        except ValueError:\n",
    "            return\n",
    "        d0, s0, lim = r\n",
    "        if s0 + lim > s:\n",
    "            return r\n",
    "\n",
    "    def lookup(self, key):\n",
    "        r = self.find_range(key)\n",
    "        if r is None:\n",
    "            return key\n",
    "        d0, s0, lim = r\n",
    "        return key - s0 + d0\n",
    "\n",
    "    def __repr__(self):\n",
    "        return f\"<GardenMap {self.name}>\""
   ],
   "metadata": {
    "collapsed": false,
    "ExecuteTime": {
     "end_time": "2023-12-06T21:16:40.632401733Z",
     "start_time": "2023-12-06T21:16:40.550188544Z"
    }
   },
   "id": "8bd6d855aa76b5be"
  },
  {
   "cell_type": "code",
   "execution_count": 142,
   "outputs": [],
   "source": [
    "def parse_input(data):\n",
    "    seedstr, mapstr = data.split(\"\\n\\n\", 1)\n",
    "    seeds = [int(x) for x in seedstr.split()[1:]]\n",
    "    maps = [GardenMap(x) for x in mapstr.split(\"\\n\\n\")]\n",
    "    return seeds, maps"
   ],
   "metadata": {
    "collapsed": false,
    "ExecuteTime": {
     "end_time": "2023-12-06T21:16:40.632429860Z",
     "start_time": "2023-12-06T21:16:40.550217893Z"
    }
   },
   "id": "7d2111f2f8c93203"
  },
  {
   "cell_type": "code",
   "execution_count": 143,
   "outputs": [],
   "source": [
    "def min_location(data):\n",
    "    seeds, maps = parse_input(data)\n",
    "    minloc = math.inf\n",
    "    for s in seeds:\n",
    "        for map in maps:\n",
    "            s = map.lookup(s)\n",
    "        minloc = min(minloc, s)\n",
    "    return minloc"
   ],
   "metadata": {
    "collapsed": false,
    "ExecuteTime": {
     "end_time": "2023-12-06T21:16:40.633102197Z",
     "start_time": "2023-12-06T21:16:40.552633068Z"
    }
   },
   "id": "830241ac0535cb2c"
  },
  {
   "cell_type": "code",
   "execution_count": 144,
   "outputs": [
    {
     "data": {
      "text/plain": "35"
     },
     "execution_count": 144,
     "metadata": {},
     "output_type": "execute_result"
    }
   ],
   "source": [
    "min_location(testdata)"
   ],
   "metadata": {
    "collapsed": false,
    "ExecuteTime": {
     "end_time": "2023-12-06T21:16:40.633248016Z",
     "start_time": "2023-12-06T21:16:40.594162803Z"
    }
   },
   "id": "f3c7cb2f7a36c6a7"
  },
  {
   "cell_type": "code",
   "execution_count": 145,
   "outputs": [
    {
     "data": {
      "text/plain": "178159714"
     },
     "execution_count": 145,
     "metadata": {},
     "output_type": "execute_result"
    }
   ],
   "source": [
    "min_location(data)"
   ],
   "metadata": {
    "collapsed": false,
    "ExecuteTime": {
     "end_time": "2023-12-06T21:16:40.664861731Z",
     "start_time": "2023-12-06T21:16:40.594234946Z"
    }
   },
   "id": "b8ca8949fdc6b0a9"
  },
  {
   "cell_type": "markdown",
   "source": [
    "### Part 2"
   ],
   "metadata": {
    "collapsed": false
   },
   "id": "22caf434fc295b62"
  },
  {
   "cell_type": "code",
   "execution_count": 146,
   "outputs": [],
   "source": [
    "def gardenmap_2(data):\n",
    "    ranges = []\n",
    "    for line in data.splitlines():\n",
    "        if line and line[0].isdigit():\n",
    "            d0, s0, rl = (int(x) for x in line.split())\n",
    "            ranges.append({\"start\": s0, \"stop\": s0 + rl, \"offset\": d0 - s0})\n",
    "    return ranges"
   ],
   "metadata": {
    "collapsed": false,
    "ExecuteTime": {
     "end_time": "2023-12-06T21:16:40.665008131Z",
     "start_time": "2023-12-06T21:16:40.638061631Z"
    }
   },
   "id": "43e3aa90834082f7"
  },
  {
   "cell_type": "code",
   "execution_count": 147,
   "outputs": [],
   "source": [
    "def parse_input_2(data):\n",
    "    seedstr, mapstr = data.split(\"\\n\\n\", 1)\n",
    "    seeds = [int(x) for x in seedstr.split()[1:]]\n",
    "    maps = [gardenmap_2(x) for x in mapstr.split(\"\\n\\n\")]\n",
    "    return seeds, maps"
   ],
   "metadata": {
    "collapsed": false,
    "ExecuteTime": {
     "end_time": "2023-12-06T21:16:40.665048842Z",
     "start_time": "2023-12-06T21:16:40.638110670Z"
    }
   },
   "id": "4a05409d09b5d57c"
  },
  {
   "cell_type": "code",
   "execution_count": 148,
   "outputs": [],
   "source": [
    "def min_location_2(data):\n",
    "    # bfs\n",
    "    seeds, gmaps = parse_input_2(data)\n",
    "    q = deque([])\n",
    "    minloc = math.inf\n",
    "    for start, lim in zip(seeds[:-1:2], seeds[1::2]):\n",
    "        q.append({\"start\": start, \"stop\": start + lim, \"nextmap\": 0})\n",
    "    while q:\n",
    "        node = q.popleft()\n",
    "        try:\n",
    "            gmap = gmaps[node[\"nextmap\"]]\n",
    "        except IndexError:\n",
    "            # we have an interval on the \"location\" map\n",
    "            minloc = min(minloc, node[\"start\"])\n",
    "            continue\n",
    "        q.extend(reachable_ranges(node, gmap))\n",
    "    return minloc\n",
    "\n",
    "\n",
    "def reachable_ranges(node, gmap):\n",
    "    q = deque([node])\n",
    "    while q:\n",
    "        node = q.popleft()\n",
    "        if node[\"start\"] >= node[\"stop\"]:\n",
    "            continue\n",
    "        for target in gmap:\n",
    "            if is_overlap(node, target):\n",
    "                break\n",
    "        else:\n",
    "            yield {\n",
    "                \"start\": node[\"start\"],\n",
    "                \"stop\": node[\"stop\"],\n",
    "                \"nextmap\": node[\"nextmap\"] + 1,\n",
    "            }\n",
    "            continue\n",
    "        newstart = max(node[\"start\"], target[\"start\"])\n",
    "        newstop = min(node[\"stop\"], target[\"stop\"])\n",
    "        offset = target[\"offset\"]\n",
    "        yield {\n",
    "            \"start\": newstart + offset,\n",
    "            \"stop\": newstop + offset,\n",
    "            \"nextmap\": node[\"nextmap\"] + 1,\n",
    "        }\n",
    "        q.append({\"start\": node[\"start\"], \"stop\": newstart, \"nextmap\": node[\"nextmap\"]})\n",
    "        q.append({\"start\": newstop, \"stop\": node[\"stop\"], \"nextmap\": node[\"nextmap\"]})\n",
    "\n",
    "\n",
    "def is_overlap(a, b):\n",
    "    return not (a[\"stop\"] <= b[\"start\"] or b[\"stop\"] <= a[\"start\"])"
   ],
   "metadata": {
    "collapsed": false,
    "ExecuteTime": {
     "end_time": "2023-12-06T21:16:40.665077396Z",
     "start_time": "2023-12-06T21:16:40.638131827Z"
    }
   },
   "id": "7d8e287455076729"
  },
  {
   "cell_type": "code",
   "execution_count": 149,
   "outputs": [
    {
     "name": "stdout",
     "output_type": "stream",
     "text": [
      "CPU times: user 134 µs, sys: 11 µs, total: 145 µs\n",
      "Wall time: 147 µs\n"
     ]
    },
    {
     "data": {
      "text/plain": "46"
     },
     "execution_count": 149,
     "metadata": {},
     "output_type": "execute_result"
    }
   ],
   "source": [
    "%%time\n",
    "min_location_2(testdata)"
   ],
   "metadata": {
    "collapsed": false,
    "ExecuteTime": {
     "end_time": "2023-12-06T21:16:40.701221422Z",
     "start_time": "2023-12-06T21:16:40.638154153Z"
    }
   },
   "id": "6cf5c79314e233ea"
  },
  {
   "cell_type": "code",
   "execution_count": 150,
   "outputs": [
    {
     "name": "stdout",
     "output_type": "stream",
     "text": [
      "CPU times: user 8.85 ms, sys: 0 ns, total: 8.85 ms\n",
      "Wall time: 8.44 ms\n"
     ]
    },
    {
     "data": {
      "text/plain": "100165128"
     },
     "execution_count": 150,
     "metadata": {},
     "output_type": "execute_result"
    }
   ],
   "source": [
    "%%time\n",
    "min_location_2(data)"
   ],
   "metadata": {
    "collapsed": false,
    "ExecuteTime": {
     "end_time": "2023-12-06T21:16:42.718698183Z",
     "start_time": "2023-12-06T21:16:42.707447543Z"
    }
   },
   "id": "90150d42d7ef71b4"
  }
 ],
 "metadata": {
  "kernelspec": {
   "display_name": "Python 3",
   "language": "python",
   "name": "python3"
  },
  "language_info": {
   "codemirror_mode": {
    "name": "ipython",
    "version": 2
   },
   "file_extension": ".py",
   "mimetype": "text/x-python",
   "name": "python",
   "nbconvert_exporter": "python",
   "pygments_lexer": "ipython2",
   "version": "2.7.6"
  }
 },
 "nbformat": 4,
 "nbformat_minor": 5
}
