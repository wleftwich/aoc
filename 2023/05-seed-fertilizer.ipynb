{
 "cells": [
  {
   "cell_type": "markdown",
   "source": [
    "https://adventofcode.com/2023/day/5"
   ],
   "metadata": {
    "collapsed": false
   },
   "id": "68e8d4b5a25a2d36"
  },
  {
   "cell_type": "code",
   "execution_count": 1,
   "outputs": [],
   "source": [
    "import math\n",
    "from collections import deque"
   ],
   "metadata": {
    "collapsed": false,
    "ExecuteTime": {
     "end_time": "2023-12-06T03:34:30.524695252Z",
     "start_time": "2023-12-06T03:34:30.430816084Z"
    }
   },
   "id": "59f13dca1606d1d3"
  },
  {
   "cell_type": "code",
   "execution_count": 2,
   "outputs": [],
   "source": [
    "with open(\"data/05.txt\") as fh:\n",
    "    data = fh.read()"
   ],
   "metadata": {
    "collapsed": false,
    "ExecuteTime": {
     "end_time": "2023-12-06T03:34:30.524828971Z",
     "start_time": "2023-12-06T03:34:30.430896522Z"
    }
   },
   "id": "f0f0b3b1b96a3d8b"
  },
  {
   "cell_type": "code",
   "execution_count": 3,
   "outputs": [],
   "source": [
    "testdata = \"\"\"\\\n",
    "seeds: 79 14 55 13\n",
    "\n",
    "seed-to-soil map:\n",
    "50 98 2\n",
    "52 50 48\n",
    "\n",
    "soil-to-fertilizer map:\n",
    "0 15 37\n",
    "37 52 2\n",
    "39 0 15\n",
    "\n",
    "fertilizer-to-water map:\n",
    "49 53 8\n",
    "0 11 42\n",
    "42 0 7\n",
    "57 7 4\n",
    "\n",
    "water-to-light map:\n",
    "88 18 7\n",
    "18 25 70\n",
    "\n",
    "light-to-temperature map:\n",
    "45 77 23\n",
    "81 45 19\n",
    "68 64 13\n",
    "\n",
    "temperature-to-humidity map:\n",
    "0 69 1\n",
    "1 0 69\n",
    "\n",
    "humidity-to-location map:\n",
    "60 56 37\n",
    "56 93 4\n",
    "\"\"\""
   ],
   "metadata": {
    "collapsed": false,
    "ExecuteTime": {
     "end_time": "2023-12-06T03:34:30.524894657Z",
     "start_time": "2023-12-06T03:34:30.430928210Z"
    }
   },
   "id": "c4fae9894477157b"
  },
  {
   "cell_type": "code",
   "execution_count": 4,
   "outputs": [],
   "source": [
    "class GardenMap:\n",
    "    def __init__(self, data):\n",
    "        self.ranges = []\n",
    "        self.name = \"anon\"\n",
    "        for line in data.splitlines():\n",
    "            if line and line[0].isdigit():\n",
    "                self.ranges.append(tuple(int(x) for x in line.split()))\n",
    "            elif line and line[0].isalpha():\n",
    "                self.name = line.split()[0]\n",
    "\n",
    "    def find_range(self, s):\n",
    "        try:\n",
    "            r = max((x for x in self.ranges if x[1] <= s), key=lambda y: y[1])\n",
    "        except ValueError:\n",
    "            return\n",
    "        d0, s0, lim = r\n",
    "        if s0 + lim > s:\n",
    "            return r\n",
    "\n",
    "    def lookup(self, key):\n",
    "        r = self.find_range(key)\n",
    "        if r is None:\n",
    "            return key\n",
    "        d0, s0, lim = r\n",
    "        return key - s0 + d0\n",
    "\n",
    "    def __repr__(self):\n",
    "        return f\"<GardenMap {self.name}>\""
   ],
   "metadata": {
    "collapsed": false,
    "ExecuteTime": {
     "end_time": "2023-12-06T03:34:30.524946192Z",
     "start_time": "2023-12-06T03:34:30.430953955Z"
    }
   },
   "id": "8bd6d855aa76b5be"
  },
  {
   "cell_type": "code",
   "execution_count": 5,
   "outputs": [],
   "source": [
    "def parse_input(data):\n",
    "    seedstr, mapstr = data.split(\"\\n\\n\", 1)\n",
    "    seeds = [int(x) for x in seedstr.split()[1:]]\n",
    "    maps = [GardenMap(x) for x in mapstr.split(\"\\n\\n\")]\n",
    "    return seeds, maps"
   ],
   "metadata": {
    "collapsed": false,
    "ExecuteTime": {
     "end_time": "2023-12-06T03:34:30.524994366Z",
     "start_time": "2023-12-06T03:34:30.443774110Z"
    }
   },
   "id": "7d2111f2f8c93203"
  },
  {
   "cell_type": "code",
   "execution_count": 6,
   "outputs": [],
   "source": [
    "def min_location(data):\n",
    "    seeds, maps = parse_input(data)\n",
    "    minloc = math.inf\n",
    "    for s in seeds:\n",
    "        for map in maps:\n",
    "            s = map.lookup(s)\n",
    "        minloc = min(minloc, s)\n",
    "    return minloc"
   ],
   "metadata": {
    "collapsed": false,
    "ExecuteTime": {
     "end_time": "2023-12-06T03:34:30.525090828Z",
     "start_time": "2023-12-06T03:34:30.459059711Z"
    }
   },
   "id": "830241ac0535cb2c"
  },
  {
   "cell_type": "code",
   "execution_count": 7,
   "outputs": [
    {
     "data": {
      "text/plain": "35"
     },
     "execution_count": 7,
     "metadata": {},
     "output_type": "execute_result"
    }
   ],
   "source": [
    "min_location(testdata)"
   ],
   "metadata": {
    "collapsed": false,
    "ExecuteTime": {
     "end_time": "2023-12-06T03:34:30.525404670Z",
     "start_time": "2023-12-06T03:34:30.472029684Z"
    }
   },
   "id": "f3c7cb2f7a36c6a7"
  },
  {
   "cell_type": "code",
   "execution_count": 8,
   "outputs": [
    {
     "data": {
      "text/plain": "178159714"
     },
     "execution_count": 8,
     "metadata": {},
     "output_type": "execute_result"
    }
   ],
   "source": [
    "min_location(data)"
   ],
   "metadata": {
    "collapsed": false,
    "ExecuteTime": {
     "end_time": "2023-12-06T03:34:30.525492793Z",
     "start_time": "2023-12-06T03:34:30.518914414Z"
    }
   },
   "id": "b8ca8949fdc6b0a9"
  },
  {
   "cell_type": "markdown",
   "source": [
    "### Part 2"
   ],
   "metadata": {
    "collapsed": false
   },
   "id": "22caf434fc295b62"
  },
  {
   "cell_type": "code",
   "execution_count": 9,
   "outputs": [],
   "source": [
    "def gardenmap_2(data):\n",
    "    ranges = []\n",
    "    for line in data.splitlines():\n",
    "        if line and line[0].isdigit():\n",
    "            d0, s0, rl = (int(x) for x in line.split())\n",
    "            ranges.append({\"start\": s0, \"stop\": s0 + rl, \"offset\": d0 - s0})\n",
    "    ranges.sort(key=lambda x: x[\"start\"])\n",
    "    return ranges"
   ],
   "metadata": {
    "collapsed": false,
    "ExecuteTime": {
     "end_time": "2023-12-06T03:34:30.525537425Z",
     "start_time": "2023-12-06T03:34:30.518983801Z"
    }
   },
   "id": "43e3aa90834082f7"
  },
  {
   "cell_type": "code",
   "execution_count": 10,
   "outputs": [],
   "source": [
    "def parse_input_2(data):\n",
    "    seedstr, mapstr = data.split(\"\\n\\n\", 1)\n",
    "    seeds = [int(x) for x in seedstr.split()[1:]]\n",
    "    maps = [gardenmap_2(x) for x in mapstr.split(\"\\n\\n\")]\n",
    "    return seeds, maps"
   ],
   "metadata": {
    "collapsed": false,
    "ExecuteTime": {
     "end_time": "2023-12-06T03:34:30.587008970Z",
     "start_time": "2023-12-06T03:34:30.519006728Z"
    }
   },
   "id": "4a05409d09b5d57c"
  },
  {
   "cell_type": "code",
   "execution_count": 11,
   "outputs": [],
   "source": [
    "seeds, maps = parse_input_2(testdata)"
   ],
   "metadata": {
    "collapsed": false,
    "ExecuteTime": {
     "end_time": "2023-12-06T03:34:30.594009614Z",
     "start_time": "2023-12-06T03:34:30.562869932Z"
    }
   },
   "id": "2ee468e832053852"
  },
  {
   "cell_type": "code",
   "execution_count": 12,
   "outputs": [
    {
     "data": {
      "text/plain": "[79, 14, 55, 13]"
     },
     "execution_count": 12,
     "metadata": {},
     "output_type": "execute_result"
    }
   ],
   "source": [
    "seeds"
   ],
   "metadata": {
    "collapsed": false,
    "ExecuteTime": {
     "end_time": "2023-12-06T03:34:30.594380801Z",
     "start_time": "2023-12-06T03:34:30.562928800Z"
    }
   },
   "id": "4d673f05b17ec398"
  },
  {
   "cell_type": "code",
   "execution_count": 13,
   "outputs": [
    {
     "data": {
      "text/plain": "[79, 55]"
     },
     "execution_count": 13,
     "metadata": {},
     "output_type": "execute_result"
    }
   ],
   "source": [
    "seeds[:-1:2]"
   ],
   "metadata": {
    "collapsed": false,
    "ExecuteTime": {
     "end_time": "2023-12-06T03:34:30.594611928Z",
     "start_time": "2023-12-06T03:34:30.562957170Z"
    }
   },
   "id": "51229f1412d7fd94"
  },
  {
   "cell_type": "code",
   "execution_count": 14,
   "outputs": [
    {
     "data": {
      "text/plain": "[14, 13]"
     },
     "execution_count": 14,
     "metadata": {},
     "output_type": "execute_result"
    }
   ],
   "source": [
    "seeds[1::2]"
   ],
   "metadata": {
    "collapsed": false,
    "ExecuteTime": {
     "end_time": "2023-12-06T03:34:30.629538259Z",
     "start_time": "2023-12-06T03:34:30.572591957Z"
    }
   },
   "id": "8a22907c73885741"
  },
  {
   "cell_type": "code",
   "execution_count": 15,
   "outputs": [
    {
     "data": {
      "text/plain": "<zip at 0x7fa17b1783c0>"
     },
     "execution_count": 15,
     "metadata": {},
     "output_type": "execute_result"
    }
   ],
   "source": [
    "zip(seeds[:])"
   ],
   "metadata": {
    "collapsed": false,
    "ExecuteTime": {
     "end_time": "2023-12-06T03:34:30.629811520Z",
     "start_time": "2023-12-06T03:34:30.614841399Z"
    }
   },
   "id": "d02fe40aaf1e685a"
  },
  {
   "cell_type": "code",
   "execution_count": 16,
   "outputs": [
    {
     "data": {
      "text/plain": "[[{'start': 50, 'stop': 98, 'offset': 2},\n  {'start': 98, 'stop': 100, 'offset': -48}],\n [{'start': 0, 'stop': 15, 'offset': 39},\n  {'start': 15, 'stop': 52, 'offset': -15},\n  {'start': 52, 'stop': 54, 'offset': -15}],\n [{'start': 0, 'stop': 7, 'offset': 42},\n  {'start': 7, 'stop': 11, 'offset': 50},\n  {'start': 11, 'stop': 53, 'offset': -11},\n  {'start': 53, 'stop': 61, 'offset': -4}],\n [{'start': 18, 'stop': 25, 'offset': 70},\n  {'start': 25, 'stop': 95, 'offset': -7}],\n [{'start': 45, 'stop': 64, 'offset': 36},\n  {'start': 64, 'stop': 77, 'offset': 4},\n  {'start': 77, 'stop': 100, 'offset': -32}],\n [{'start': 0, 'stop': 69, 'offset': 1},\n  {'start': 69, 'stop': 70, 'offset': -69}],\n [{'start': 56, 'stop': 93, 'offset': 4},\n  {'start': 93, 'stop': 97, 'offset': -37}]]"
     },
     "execution_count": 16,
     "metadata": {},
     "output_type": "execute_result"
    }
   ],
   "source": [
    "maps"
   ],
   "metadata": {
    "collapsed": false,
    "ExecuteTime": {
     "end_time": "2023-12-06T03:34:30.630047267Z",
     "start_time": "2023-12-06T03:34:30.614903882Z"
    }
   },
   "id": "19f8cb2f5f64567e"
  },
  {
   "cell_type": "code",
   "execution_count": 31,
   "outputs": [],
   "source": [
    "def min_location_2(data):\n",
    "    seeds, gmaps = parse_input_2(data)\n",
    "    q = deque([])\n",
    "    minloc = math.inf\n",
    "    for start, lim in zip(seeds[:-1:2], seeds[1::2]):\n",
    "        q.append({\"start\": start, \"stop\": start + lim, \"nextmap\": 0})\n",
    "    while q:\n",
    "        r1 = q.popleft()\n",
    "        try:\n",
    "            gmap = gmaps[r1[\"nextmap\"]]\n",
    "        except ValueError:\n",
    "            minloc = min(minloc, r1[\"start\"])\n",
    "            continue\n",
    "        q.extend(reachable_ranges(r1, gmap))\n",
    "    return minloc\n",
    "\n",
    "\n",
    "def reachable_ranges(r, gmap):\n",
    "    q = deque([r])\n",
    "    while q:\n",
    "        r = q.popleft()\n",
    "        if r[\"start\"] >= r[\"stop\"]:\n",
    "            continue\n",
    "        for target in gmap:\n",
    "            if is_overlap(r, target):\n",
    "                break\n",
    "        else:\n",
    "            y = {\"start\": r[\"start\"], \"stop\": r[\"stop\"], \"nextmap\": r[\"nextmap\"] + 1}\n",
    "            print(y)\n",
    "            yield y\n",
    "            continue\n",
    "        newstart = max(r[\"start\"], target[\"start\"])\n",
    "        newstop = min(r[\"stop\"], target[\"stop\"])\n",
    "        offset = target[\"offset\"]\n",
    "        y = {\"start\": newstart + offset, \"stop\": newstop + offset, \"nextmap\": r[\"nextmap\"] + 1}\n",
    "        # print(y)\n",
    "        yield y\n",
    "        q.append({\"start\": r[\"start\"], \"stop\": newstart, \"nextmap\": r[\"nextmap\"]})\n",
    "        q.append({\"start\": newstop, \"stop\": r[\"stop\"], \"nextmap\": r[\"nextmap\"]})\n",
    "\n",
    "\n",
    "def is_overlap(a, b):\n",
    "    return not (\n",
    "        a[\"stop\"] < b[\"start\"]\n",
    "        or a[\"start\"] > b[\"stop\"]\n",
    "        or b[\"stop\"] < a[\"start\"]\n",
    "        or b[\"start\"] > a[\"stop\"]\n",
    "    )"
   ],
   "metadata": {
    "collapsed": false,
    "ExecuteTime": {
     "end_time": "2023-12-06T03:59:08.711529200Z",
     "start_time": "2023-12-06T03:59:08.669048868Z"
    }
   },
   "id": "7d8e287455076729"
  },
  {
   "cell_type": "code",
   "execution_count": 32,
   "outputs": [
    {
     "name": "stdout",
     "output_type": "stream",
     "text": [
      "{'start': 81, 'stop': 95, 'nextmap': 2}\n",
      "{'start': 57, 'stop': 70, 'nextmap': 2}\n",
      "{'start': 81, 'stop': 95, 'nextmap': 3}\n"
     ]
    },
    {
     "ename": "KeyboardInterrupt",
     "evalue": "",
     "output_type": "error",
     "traceback": [
      "\u001B[0;31m---------------------------------------------------------------------------\u001B[0m",
      "\u001B[0;31mKeyboardInterrupt\u001B[0m                         Traceback (most recent call last)",
      "Cell \u001B[0;32mIn[32], line 1\u001B[0m\n\u001B[0;32m----> 1\u001B[0m \u001B[43mmin_location_2\u001B[49m\u001B[43m(\u001B[49m\u001B[43mtestdata\u001B[49m\u001B[43m)\u001B[49m\n",
      "Cell \u001B[0;32mIn[31], line 14\u001B[0m, in \u001B[0;36mmin_location_2\u001B[0;34m(data)\u001B[0m\n\u001B[1;32m     12\u001B[0m         minloc \u001B[38;5;241m=\u001B[39m \u001B[38;5;28mmin\u001B[39m(minloc, r1[\u001B[38;5;124m\"\u001B[39m\u001B[38;5;124mstart\u001B[39m\u001B[38;5;124m\"\u001B[39m])\n\u001B[1;32m     13\u001B[0m         \u001B[38;5;28;01mcontinue\u001B[39;00m\n\u001B[0;32m---> 14\u001B[0m     \u001B[43mq\u001B[49m\u001B[38;5;241;43m.\u001B[39;49m\u001B[43mextend\u001B[49m\u001B[43m(\u001B[49m\u001B[43mreachable_ranges\u001B[49m\u001B[43m(\u001B[49m\u001B[43mr1\u001B[49m\u001B[43m,\u001B[49m\u001B[43m \u001B[49m\u001B[43mgmap\u001B[49m\u001B[43m)\u001B[49m\u001B[43m)\u001B[49m\n\u001B[1;32m     15\u001B[0m \u001B[38;5;28;01mreturn\u001B[39;00m minloc\n",
      "Cell \u001B[0;32mIn[31], line 22\u001B[0m, in \u001B[0;36mreachable_ranges\u001B[0;34m(r, gmap)\u001B[0m\n\u001B[1;32m     20\u001B[0m \u001B[38;5;28;01mwhile\u001B[39;00m q:\n\u001B[1;32m     21\u001B[0m     r \u001B[38;5;241m=\u001B[39m q\u001B[38;5;241m.\u001B[39mpopleft()\n\u001B[0;32m---> 22\u001B[0m     \u001B[38;5;28;01mif\u001B[39;00m r[\u001B[38;5;124m\"\u001B[39m\u001B[38;5;124mstart\u001B[39m\u001B[38;5;124m\"\u001B[39m] \u001B[38;5;241m>\u001B[39m\u001B[38;5;241m=\u001B[39m r[\u001B[38;5;124m\"\u001B[39m\u001B[38;5;124mstop\u001B[39m\u001B[38;5;124m\"\u001B[39m]:\n\u001B[1;32m     23\u001B[0m         \u001B[38;5;28;01mcontinue\u001B[39;00m\n\u001B[1;32m     24\u001B[0m     \u001B[38;5;28;01mfor\u001B[39;00m target \u001B[38;5;129;01min\u001B[39;00m gmap:\n",
      "\u001B[0;31mKeyboardInterrupt\u001B[0m: "
     ]
    }
   ],
   "source": [
    "min_location_2(testdata)"
   ],
   "metadata": {
    "collapsed": false,
    "ExecuteTime": {
     "end_time": "2023-12-06T03:59:23.583601214Z",
     "start_time": "2023-12-06T03:59:13.385182222Z"
    }
   },
   "id": "6cf5c79314e233ea"
  }
 ],
 "metadata": {
  "kernelspec": {
   "display_name": "Python 3",
   "language": "python",
   "name": "python3"
  },
  "language_info": {
   "codemirror_mode": {
    "name": "ipython",
    "version": 2
   },
   "file_extension": ".py",
   "mimetype": "text/x-python",
   "name": "python",
   "nbconvert_exporter": "python",
   "pygments_lexer": "ipython2",
   "version": "2.7.6"
  }
 },
 "nbformat": 4,
 "nbformat_minor": 5
}
