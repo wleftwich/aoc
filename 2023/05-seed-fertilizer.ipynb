{
 "cells": [
  {
   "cell_type": "markdown",
   "source": [
    "https://adventofcode.com/2023/day/5"
   ],
   "metadata": {
    "collapsed": false
   },
   "id": "68e8d4b5a25a2d36"
  },
  {
   "cell_type": "code",
   "execution_count": 59,
   "outputs": [],
   "source": [
    "import math\n",
    "from collections import deque"
   ],
   "metadata": {
    "collapsed": false,
    "ExecuteTime": {
     "end_time": "2023-12-06T18:44:57.513056776Z",
     "start_time": "2023-12-06T18:44:57.454276564Z"
    }
   },
   "id": "59f13dca1606d1d3"
  },
  {
   "cell_type": "code",
   "execution_count": 60,
   "outputs": [],
   "source": [
    "with open(\"data/05.txt\") as fh:\n",
    "    data = fh.read()"
   ],
   "metadata": {
    "collapsed": false,
    "ExecuteTime": {
     "end_time": "2023-12-06T18:44:57.517556571Z",
     "start_time": "2023-12-06T18:44:57.502184097Z"
    }
   },
   "id": "f0f0b3b1b96a3d8b"
  },
  {
   "cell_type": "code",
   "execution_count": 61,
   "outputs": [],
   "source": [
    "testdata = \"\"\"\\\n",
    "seeds: 79 14 55 13\n",
    "\n",
    "seed-to-soil map:\n",
    "50 98 2\n",
    "52 50 48\n",
    "\n",
    "soil-to-fertilizer map:\n",
    "0 15 37\n",
    "37 52 2\n",
    "39 0 15\n",
    "\n",
    "fertilizer-to-water map:\n",
    "49 53 8\n",
    "0 11 42\n",
    "42 0 7\n",
    "57 7 4\n",
    "\n",
    "water-to-light map:\n",
    "88 18 7\n",
    "18 25 70\n",
    "\n",
    "light-to-temperature map:\n",
    "45 77 23\n",
    "81 45 19\n",
    "68 64 13\n",
    "\n",
    "temperature-to-humidity map:\n",
    "0 69 1\n",
    "1 0 69\n",
    "\n",
    "humidity-to-location map:\n",
    "60 56 37\n",
    "56 93 4\n",
    "\"\"\""
   ],
   "metadata": {
    "collapsed": false,
    "ExecuteTime": {
     "end_time": "2023-12-06T18:44:57.517724233Z",
     "start_time": "2023-12-06T18:44:57.502245884Z"
    }
   },
   "id": "c4fae9894477157b"
  },
  {
   "cell_type": "code",
   "execution_count": 62,
   "outputs": [],
   "source": [
    "class GardenMap:\n",
    "    def __init__(self, data):\n",
    "        self.ranges = []\n",
    "        self.name = \"anon\"\n",
    "        for line in data.splitlines():\n",
    "            if line and line[0].isdigit():\n",
    "                self.ranges.append(tuple(int(x) for x in line.split()))\n",
    "            elif line and line[0].isalpha():\n",
    "                self.name = line.split()[0]\n",
    "\n",
    "    def find_range(self, s):\n",
    "        try:\n",
    "            r = max((x for x in self.ranges if x[1] <= s), key=lambda y: y[1])\n",
    "        except ValueError:\n",
    "            return\n",
    "        d0, s0, lim = r\n",
    "        if s0 + lim > s:\n",
    "            return r\n",
    "\n",
    "    def lookup(self, key):\n",
    "        r = self.find_range(key)\n",
    "        if r is None:\n",
    "            return key\n",
    "        d0, s0, lim = r\n",
    "        return key - s0 + d0\n",
    "\n",
    "    def __repr__(self):\n",
    "        return f\"<GardenMap {self.name}>\""
   ],
   "metadata": {
    "collapsed": false,
    "ExecuteTime": {
     "end_time": "2023-12-06T18:44:57.518204694Z",
     "start_time": "2023-12-06T18:44:57.502270599Z"
    }
   },
   "id": "8bd6d855aa76b5be"
  },
  {
   "cell_type": "code",
   "execution_count": 63,
   "outputs": [],
   "source": [
    "def parse_input(data):\n",
    "    seedstr, mapstr = data.split(\"\\n\\n\", 1)\n",
    "    seeds = [int(x) for x in seedstr.split()[1:]]\n",
    "    maps = [GardenMap(x) for x in mapstr.split(\"\\n\\n\")]\n",
    "    return seeds, maps"
   ],
   "metadata": {
    "collapsed": false,
    "ExecuteTime": {
     "end_time": "2023-12-06T18:44:57.523516524Z",
     "start_time": "2023-12-06T18:44:57.506963232Z"
    }
   },
   "id": "7d2111f2f8c93203"
  },
  {
   "cell_type": "code",
   "execution_count": 64,
   "outputs": [],
   "source": [
    "def min_location(data):\n",
    "    seeds, maps = parse_input(data)\n",
    "    minloc = math.inf\n",
    "    for s in seeds:\n",
    "        for map in maps:\n",
    "            s = map.lookup(s)\n",
    "        minloc = min(minloc, s)\n",
    "    return minloc"
   ],
   "metadata": {
    "collapsed": false,
    "ExecuteTime": {
     "end_time": "2023-12-06T18:44:57.566259759Z",
     "start_time": "2023-12-06T18:44:57.523876524Z"
    }
   },
   "id": "830241ac0535cb2c"
  },
  {
   "cell_type": "code",
   "execution_count": 65,
   "outputs": [
    {
     "data": {
      "text/plain": "35"
     },
     "execution_count": 65,
     "metadata": {},
     "output_type": "execute_result"
    }
   ],
   "source": [
    "min_location(testdata)"
   ],
   "metadata": {
    "collapsed": false,
    "ExecuteTime": {
     "end_time": "2023-12-06T18:44:57.566641123Z",
     "start_time": "2023-12-06T18:44:57.566072522Z"
    }
   },
   "id": "f3c7cb2f7a36c6a7"
  },
  {
   "cell_type": "code",
   "execution_count": 66,
   "outputs": [
    {
     "data": {
      "text/plain": "178159714"
     },
     "execution_count": 66,
     "metadata": {},
     "output_type": "execute_result"
    }
   ],
   "source": [
    "min_location(data)"
   ],
   "metadata": {
    "collapsed": false,
    "ExecuteTime": {
     "end_time": "2023-12-06T18:44:57.610454119Z",
     "start_time": "2023-12-06T18:44:57.566146431Z"
    }
   },
   "id": "b8ca8949fdc6b0a9"
  },
  {
   "cell_type": "markdown",
   "source": [
    "### Part 2"
   ],
   "metadata": {
    "collapsed": false
   },
   "id": "22caf434fc295b62"
  },
  {
   "cell_type": "code",
   "execution_count": 67,
   "outputs": [],
   "source": [
    "def gardenmap_2(data):\n",
    "    ranges = []\n",
    "    for line in data.splitlines():\n",
    "        if line and line[0].isdigit():\n",
    "            d0, s0, rl = (int(x) for x in line.split())\n",
    "            ranges.append({\"start\": s0, \"stop\": s0 + rl, \"offset\": d0 - s0})\n",
    "    ranges.sort(key=lambda x: x[\"start\"])\n",
    "    return ranges"
   ],
   "metadata": {
    "collapsed": false,
    "ExecuteTime": {
     "end_time": "2023-12-06T18:44:57.610646296Z",
     "start_time": "2023-12-06T18:44:57.610164900Z"
    }
   },
   "id": "43e3aa90834082f7"
  },
  {
   "cell_type": "code",
   "execution_count": 68,
   "outputs": [],
   "source": [
    "def parse_input_2(data):\n",
    "    seedstr, mapstr = data.split(\"\\n\\n\", 1)\n",
    "    seeds = [int(x) for x in seedstr.split()[1:]]\n",
    "    maps = [gardenmap_2(x) for x in mapstr.split(\"\\n\\n\")]\n",
    "    return seeds, maps"
   ],
   "metadata": {
    "collapsed": false,
    "ExecuteTime": {
     "end_time": "2023-12-06T18:44:57.610752545Z",
     "start_time": "2023-12-06T18:44:57.610246692Z"
    }
   },
   "id": "4a05409d09b5d57c"
  },
  {
   "cell_type": "code",
   "execution_count": 73,
   "outputs": [],
   "source": [
    "def min_location_2(data):\n",
    "    # bfs\n",
    "    seeds, gmaps = parse_input_2(data)\n",
    "    q = deque([])\n",
    "    minloc = math.inf\n",
    "    for start, lim in zip(seeds[:-1:2], seeds[1::2]):\n",
    "        q.append({\"start\": start, \"stop\": start + lim, \"nextmap\": 0})\n",
    "    while q:\n",
    "        r1 = q.popleft()\n",
    "        try:\n",
    "            gmap = gmaps[r1[\"nextmap\"]]\n",
    "        except IndexError:\n",
    "            minloc = min(minloc, r1[\"start\"])\n",
    "            continue\n",
    "        q.extend(reachable_ranges(r1, gmap))\n",
    "    return minloc\n",
    "\n",
    "\n",
    "def reachable_ranges(r, gmap):\n",
    "    q = deque([r])\n",
    "    while len(q):\n",
    "        r = q.popleft()\n",
    "        if r[\"start\"] >= r[\"stop\"]:\n",
    "            continue\n",
    "        for target in gmap:\n",
    "            if is_overlap(r, target):\n",
    "                break\n",
    "        else:\n",
    "            yield {\"start\": r[\"start\"], \"stop\": r[\"stop\"], \"nextmap\": r[\"nextmap\"] + 1}\n",
    "            continue\n",
    "        newstart = max(r[\"start\"], target[\"start\"])\n",
    "        newstop = min(r[\"stop\"], target[\"stop\"])\n",
    "        offset = target[\"offset\"]\n",
    "        yield {\"start\": newstart + offset, \"stop\": newstop + offset, \"nextmap\": r[\"nextmap\"] + 1}\n",
    "        q.append({\"start\": r[\"start\"], \"stop\": newstart, \"nextmap\": r[\"nextmap\"]})\n",
    "        q.append({\"start\": newstop, \"stop\": r[\"stop\"], \"nextmap\": r[\"nextmap\"]})\n",
    "\n",
    "\n",
    "def is_overlap(a, b):\n",
    "    return not (\n",
    "        a[\"stop\"] <= b[\"start\"]\n",
    "        or b[\"stop\"] <= a[\"start\"]\n",
    "    )\n",
    "    "
   ],
   "metadata": {
    "collapsed": false,
    "ExecuteTime": {
     "end_time": "2023-12-06T18:49:11.266327124Z",
     "start_time": "2023-12-06T18:49:11.263915986Z"
    }
   },
   "id": "7d8e287455076729"
  },
  {
   "cell_type": "code",
   "execution_count": 76,
   "outputs": [
    {
     "name": "stdout",
     "output_type": "stream",
     "text": [
      "CPU times: user 173 µs, sys: 12 µs, total: 185 µs\n",
      "Wall time: 189 µs\n"
     ]
    },
    {
     "data": {
      "text/plain": "46"
     },
     "execution_count": 76,
     "metadata": {},
     "output_type": "execute_result"
    }
   ],
   "source": [
    "%%time\n",
    "min_location_2(testdata)"
   ],
   "metadata": {
    "collapsed": false,
    "ExecuteTime": {
     "end_time": "2023-12-06T18:49:39.467635223Z",
     "start_time": "2023-12-06T18:49:39.422643301Z"
    }
   },
   "id": "6cf5c79314e233ea"
  },
  {
   "cell_type": "code",
   "execution_count": 77,
   "outputs": [
    {
     "name": "stdout",
     "output_type": "stream",
     "text": [
      "CPU times: user 1.87 ms, sys: 0 ns, total: 1.87 ms\n",
      "Wall time: 1.87 ms\n"
     ]
    },
    {
     "data": {
      "text/plain": "100165128"
     },
     "execution_count": 77,
     "metadata": {},
     "output_type": "execute_result"
    }
   ],
   "source": [
    "%%time\n",
    "min_location_2(data)"
   ],
   "metadata": {
    "collapsed": false,
    "ExecuteTime": {
     "end_time": "2023-12-06T18:49:41.029102007Z",
     "start_time": "2023-12-06T18:49:41.022388969Z"
    }
   },
   "id": "90150d42d7ef71b4"
  }
 ],
 "metadata": {
  "kernelspec": {
   "display_name": "Python 3",
   "language": "python",
   "name": "python3"
  },
  "language_info": {
   "codemirror_mode": {
    "name": "ipython",
    "version": 2
   },
   "file_extension": ".py",
   "mimetype": "text/x-python",
   "name": "python",
   "nbconvert_exporter": "python",
   "pygments_lexer": "ipython2",
   "version": "2.7.6"
  }
 },
 "nbformat": 4,
 "nbformat_minor": 5
}
