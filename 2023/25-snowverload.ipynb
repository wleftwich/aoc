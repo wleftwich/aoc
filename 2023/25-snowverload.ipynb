{
 "cells": [
  {
   "cell_type": "markdown",
   "source": [
    "https://adventofcode.com/2023/day/25"
   ],
   "metadata": {
    "collapsed": false
   },
   "id": "8b506b40f737a645"
  },
  {
   "cell_type": "code",
   "outputs": [],
   "source": [
    "from itertools import combinations, pairwise\n",
    "from functools import lru_cache\n",
    "import random\n",
    "from collections import Counter\n",
    "\n",
    "import networkx as nx"
   ],
   "metadata": {
    "collapsed": false,
    "ExecuteTime": {
     "end_time": "2023-12-28T11:53:45.194853365Z",
     "start_time": "2023-12-28T11:53:45.118858275Z"
    }
   },
   "id": "ca262d560b0783e8",
   "execution_count": 1
  },
  {
   "cell_type": "code",
   "outputs": [],
   "source": [
    "with open(\"data/25.txt\") as fh:\n",
    "    data = fh.read()"
   ],
   "metadata": {
    "collapsed": false,
    "ExecuteTime": {
     "end_time": "2023-12-28T11:53:45.235125696Z",
     "start_time": "2023-12-28T11:53:45.234623807Z"
    }
   },
   "id": "8cc008fe3fbd4eac",
   "execution_count": 2
  },
  {
   "cell_type": "code",
   "outputs": [],
   "source": [
    "testdata = \"\"\"\\\n",
    "jqt: rhn xhk nvd\n",
    "rsh: frs pzl lsr\n",
    "xhk: hfx\n",
    "cmg: qnr nvd lhk bvb\n",
    "rhn: xhk bvb hfx\n",
    "bvb: xhk hfx\n",
    "pzl: lsr hfx nvd\n",
    "qnr: nvd\n",
    "ntq: jqt hfx bvb xhk\n",
    "nvd: lhk\n",
    "lsr: lhk\n",
    "rzs: qnr cmg lsr rsh\n",
    "frs: qnr lhk lsr\n",
    "\"\"\""
   ],
   "metadata": {
    "collapsed": false,
    "ExecuteTime": {
     "end_time": "2023-12-28T11:53:45.235443799Z",
     "start_time": "2023-12-28T11:53:45.234823909Z"
    }
   },
   "id": "9dbf15b848ec0917",
   "execution_count": 3
  },
  {
   "cell_type": "code",
   "outputs": [],
   "source": [
    "def parse_puzzle(puzzle):\n",
    "    L = []\n",
    "    for line in puzzle.splitlines():\n",
    "        node, others = line.split(\": \")\n",
    "        L.append((node, others.split()))\n",
    "    return L\n",
    "\n",
    "\n",
    "def load_graph(puzzle):\n",
    "    G = nx.Graph()\n",
    "    for node, others in parse_puzzle(puzzle):\n",
    "        for other in others:\n",
    "            G.add_edge(node, other)\n",
    "    return G"
   ],
   "metadata": {
    "collapsed": false,
    "ExecuteTime": {
     "end_time": "2023-12-28T11:53:45.235746168Z",
     "start_time": "2023-12-28T11:53:45.234951124Z"
    }
   },
   "id": "44d25fcb4b5204c0",
   "execution_count": 4
  },
  {
   "cell_type": "code",
   "outputs": [],
   "source": [
    "G = load_graph(data)\n",
    "\n",
    "try:\n",
    "    del d1\n",
    "except NameError:\n",
    "    pass\n",
    "\n",
    "\n",
    "@lru_cache(maxsize=None)\n",
    "def d1(node):\n",
    "    return nx.descendants_at_distance(G, node, 1)"
   ],
   "metadata": {
    "collapsed": false,
    "ExecuteTime": {
     "end_time": "2023-12-28T11:53:45.243392291Z",
     "start_time": "2023-12-28T11:53:45.235056218Z"
    }
   },
   "id": "6d2c4c8fb53a360",
   "execution_count": 5
  },
  {
   "cell_type": "code",
   "outputs": [
    {
     "data": {
      "text/plain": "1440"
     },
     "execution_count": 6,
     "metadata": {},
     "output_type": "execute_result"
    }
   ],
   "source": [
    "nodes = list(G)\n",
    "len(nodes)"
   ],
   "metadata": {
    "collapsed": false,
    "ExecuteTime": {
     "end_time": "2023-12-28T11:53:45.254060791Z",
     "start_time": "2023-12-28T11:53:45.240061961Z"
    }
   },
   "id": "d228ae131477e89e",
   "execution_count": 6
  },
  {
   "cell_type": "code",
   "outputs": [
    {
     "data": {
      "text/plain": "3179"
     },
     "execution_count": 7,
     "metadata": {},
     "output_type": "execute_result"
    }
   ],
   "source": [
    "cut_candidates = {\n",
    "    frozenset((a, b)) for (a, b) in combinations(G, 2) if b in d1(a) and not (d1(a) & d1(b))\n",
    "}\n",
    "len(cut_candidates)"
   ],
   "metadata": {
    "collapsed": false,
    "ExecuteTime": {
     "end_time": "2023-12-28T11:53:45.351424647Z",
     "start_time": "2023-12-28T11:53:45.253219896Z"
    }
   },
   "id": "61e4d7f000880d3b",
   "execution_count": 7
  },
  {
   "cell_type": "code",
   "outputs": [
    {
     "data": {
      "text/plain": "['jck', 'sjl']"
     },
     "execution_count": 8,
     "metadata": {},
     "output_type": "execute_result"
    }
   ],
   "source": [
    "random.choices(nodes, k=2)"
   ],
   "metadata": {
    "collapsed": false,
    "ExecuteTime": {
     "end_time": "2023-12-28T11:53:45.391061081Z",
     "start_time": "2023-12-28T11:53:45.390436292Z"
    }
   },
   "id": "41c322196191fa31",
   "execution_count": 8
  },
  {
   "cell_type": "code",
   "outputs": [
    {
     "data": {
      "text/plain": "['cgg', 'hzj', 'gnx', 'rhs', 'lxc', 'jxd', 'bbz', 'brq', 'tnm', 'jgh', 'lzb']"
     },
     "execution_count": 9,
     "metadata": {},
     "output_type": "execute_result"
    }
   ],
   "source": [
    "nx.shortest_path(G, *random.choices(nodes, k=2))"
   ],
   "metadata": {
    "collapsed": false,
    "ExecuteTime": {
     "end_time": "2023-12-28T11:53:45.391535563Z",
     "start_time": "2023-12-28T11:53:45.390641220Z"
    }
   },
   "id": "80a4741dd6f9408c",
   "execution_count": 9
  },
  {
   "cell_type": "code",
   "outputs": [],
   "source": [
    "c = Counter()\n",
    "for _ in range(10_000):\n",
    "    for edge in pairwise(nx.shortest_path(G, *random.choices(nodes, k=2))):\n",
    "        edgefs = frozenset(edge)\n",
    "        if edgefs in cut_candidates:\n",
    "            c[edgefs] += 1"
   ],
   "metadata": {
    "collapsed": false,
    "ExecuteTime": {
     "end_time": "2023-12-28T11:53:46.504981807Z",
     "start_time": "2023-12-28T11:53:45.390762541Z"
    }
   },
   "id": "3a5591e24dc7ddb0",
   "execution_count": 10
  },
  {
   "cell_type": "code",
   "outputs": [
    {
     "data": {
      "text/plain": "[(frozenset({'brd', 'clb'}), 2483),\n (frozenset({'bbz', 'jxd'}), 1424),\n (frozenset({'glz', 'mxd'}), 1207),\n (frozenset({'clb', 'cqz'}), 678),\n (frozenset({'brd', 'qqb'}), 620),\n (frozenset({'jxd', 'vdr'}), 588),\n (frozenset({'clb', 'pfz'}), 574),\n (frozenset({'jxd', 'xht'}), 564),\n (frozenset({'kdm', 'mxd'}), 554),\n (frozenset({'bcr', 'brd'}), 533)]"
     },
     "execution_count": 11,
     "metadata": {},
     "output_type": "execute_result"
    }
   ],
   "source": [
    "c.most_common(10)"
   ],
   "metadata": {
    "collapsed": false,
    "ExecuteTime": {
     "end_time": "2023-12-28T11:53:46.510095566Z",
     "start_time": "2023-12-28T11:53:46.505966404Z"
    }
   },
   "id": "a3a03693398f153f",
   "execution_count": 11
  },
  {
   "cell_type": "code",
   "outputs": [
    {
     "data": {
      "text/plain": "[('brd', 'clb'), ('bbz', 'jxd'), ('mxd', 'glz')]"
     },
     "execution_count": 12,
     "metadata": {},
     "output_type": "execute_result"
    }
   ],
   "source": [
    "[tuple(edgefs) for (edgefs, count) in c.most_common(3)]"
   ],
   "metadata": {
    "collapsed": false,
    "ExecuteTime": {
     "end_time": "2023-12-28T11:53:46.542150638Z",
     "start_time": "2023-12-28T11:53:46.508242324Z"
    }
   },
   "id": "3319e536a41554ad",
   "execution_count": 12
  },
  {
   "cell_type": "code",
   "outputs": [
    {
     "name": "stdout",
     "output_type": "stream",
     "text": [
      "518391\n"
     ]
    }
   ],
   "source": [
    "G1 = G.copy()\n",
    "G1.remove_edges_from(tuple(edgefs) for (edgefs, count) in c.most_common(3))\n",
    "cc = list(nx.connected_components(G1))\n",
    "if len(cc) == 2:\n",
    "    print(len(cc[0]) * len(cc[1]))"
   ],
   "metadata": {
    "collapsed": false,
    "ExecuteTime": {
     "end_time": "2023-12-28T11:53:46.566815807Z",
     "start_time": "2023-12-28T11:53:46.530245876Z"
    }
   },
   "id": "2b9028006320f3f5",
   "execution_count": 13
  },
  {
   "cell_type": "markdown",
   "source": [
    "This works because the groups are of roughly equal size, and cut candidate edges are fairly evenly distributed."
   ],
   "metadata": {
    "collapsed": false
   },
   "id": "76ceff48fd4bc7ae"
  }
 ],
 "metadata": {
  "kernelspec": {
   "display_name": "Python 3",
   "language": "python",
   "name": "python3"
  },
  "language_info": {
   "codemirror_mode": {
    "name": "ipython",
    "version": 2
   },
   "file_extension": ".py",
   "mimetype": "text/x-python",
   "name": "python",
   "nbconvert_exporter": "python",
   "pygments_lexer": "ipython2",
   "version": "2.7.6"
  }
 },
 "nbformat": 4,
 "nbformat_minor": 5
}
