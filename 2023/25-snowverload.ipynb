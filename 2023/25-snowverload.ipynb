{
 "cells": [
  {
   "cell_type": "markdown",
   "source": [
    "https://adventofcode.com/2023/day/25"
   ],
   "metadata": {
    "collapsed": false
   },
   "id": "8b506b40f737a645"
  },
  {
   "cell_type": "code",
   "outputs": [],
   "source": [
    "from itertools import combinations, pairwise\n",
    "from functools import lru_cache\n",
    "import random\n",
    "from collections import Counter\n",
    "\n",
    "import networkx as nx"
   ],
   "metadata": {
    "collapsed": false,
    "ExecuteTime": {
     "end_time": "2023-12-28T12:15:47.910305817Z",
     "start_time": "2023-12-28T12:15:47.806075174Z"
    }
   },
   "id": "ca262d560b0783e8",
   "execution_count": 1
  },
  {
   "cell_type": "code",
   "outputs": [],
   "source": [
    "with open(\"data/25.txt\") as fh:\n",
    "    data = fh.read()"
   ],
   "metadata": {
    "collapsed": false,
    "ExecuteTime": {
     "end_time": "2023-12-28T12:15:47.910922442Z",
     "start_time": "2023-12-28T12:15:47.852696815Z"
    }
   },
   "id": "8cc008fe3fbd4eac",
   "execution_count": 2
  },
  {
   "cell_type": "code",
   "outputs": [],
   "source": [
    "testdata = \"\"\"\\\n",
    "jqt: rhn xhk nvd\n",
    "rsh: frs pzl lsr\n",
    "xhk: hfx\n",
    "cmg: qnr nvd lhk bvb\n",
    "rhn: xhk bvb hfx\n",
    "bvb: xhk hfx\n",
    "pzl: lsr hfx nvd\n",
    "qnr: nvd\n",
    "ntq: jqt hfx bvb xhk\n",
    "nvd: lhk\n",
    "lsr: lhk\n",
    "rzs: qnr cmg lsr rsh\n",
    "frs: qnr lhk lsr\n",
    "\"\"\""
   ],
   "metadata": {
    "collapsed": false,
    "ExecuteTime": {
     "end_time": "2023-12-28T12:15:47.983548677Z",
     "start_time": "2023-12-28T12:15:47.912565601Z"
    }
   },
   "id": "9dbf15b848ec0917",
   "execution_count": 3
  },
  {
   "cell_type": "code",
   "outputs": [],
   "source": [
    "def parse_puzzle(puzzle):\n",
    "    L = []\n",
    "    for line in puzzle.splitlines():\n",
    "        node, others = line.split(\": \")\n",
    "        L.append((node, others.split()))\n",
    "    return L\n",
    "\n",
    "\n",
    "def load_graph(puzzle):\n",
    "    G = nx.Graph()\n",
    "    for node, others in parse_puzzle(puzzle):\n",
    "        for other in others:\n",
    "            G.add_edge(node, other)\n",
    "    return G"
   ],
   "metadata": {
    "collapsed": false,
    "ExecuteTime": {
     "end_time": "2023-12-28T12:15:48.000867407Z",
     "start_time": "2023-12-28T12:15:47.986369058Z"
    }
   },
   "id": "44d25fcb4b5204c0",
   "execution_count": 4
  },
  {
   "cell_type": "code",
   "outputs": [],
   "source": [
    "G = load_graph(data)\n",
    "\n",
    "try:\n",
    "    del d1\n",
    "except NameError:\n",
    "    pass\n",
    "\n",
    "\n",
    "@lru_cache(maxsize=None)\n",
    "def d1(node):\n",
    "    return nx.descendants_at_distance(G, node, 1)"
   ],
   "metadata": {
    "collapsed": false,
    "ExecuteTime": {
     "end_time": "2023-12-28T12:15:48.005689801Z",
     "start_time": "2023-12-28T12:15:48.003852709Z"
    }
   },
   "id": "6d2c4c8fb53a360",
   "execution_count": 5
  },
  {
   "cell_type": "code",
   "outputs": [
    {
     "data": {
      "text/plain": "1440"
     },
     "execution_count": 6,
     "metadata": {},
     "output_type": "execute_result"
    }
   ],
   "source": [
    "nodes = list(G)\n",
    "len(nodes)"
   ],
   "metadata": {
    "collapsed": false,
    "ExecuteTime": {
     "end_time": "2023-12-28T12:15:48.046448712Z",
     "start_time": "2023-12-28T12:15:48.007180132Z"
    }
   },
   "id": "d228ae131477e89e",
   "execution_count": 6
  },
  {
   "cell_type": "code",
   "outputs": [
    {
     "data": {
      "text/plain": "3179"
     },
     "execution_count": 7,
     "metadata": {},
     "output_type": "execute_result"
    }
   ],
   "source": [
    "cut_candidates = {\n",
    "    frozenset((a, b)) for (a, b) in combinations(G, 2) if b in d1(a) and not (d1(a) & d1(b))\n",
    "}\n",
    "len(cut_candidates)"
   ],
   "metadata": {
    "collapsed": false,
    "ExecuteTime": {
     "end_time": "2023-12-28T12:15:48.158633228Z",
     "start_time": "2023-12-28T12:15:48.030147445Z"
    }
   },
   "id": "61e4d7f000880d3b",
   "execution_count": 7
  },
  {
   "cell_type": "code",
   "outputs": [
    {
     "data": {
      "text/plain": "['xsf', 'pdh']"
     },
     "execution_count": 8,
     "metadata": {},
     "output_type": "execute_result"
    }
   ],
   "source": [
    "random.choices(nodes, k=2)"
   ],
   "metadata": {
    "collapsed": false,
    "ExecuteTime": {
     "end_time": "2023-12-28T12:15:48.159426949Z",
     "start_time": "2023-12-28T12:15:48.138325936Z"
    }
   },
   "id": "41c322196191fa31",
   "execution_count": 8
  },
  {
   "cell_type": "code",
   "outputs": [
    {
     "data": {
      "text/plain": "['pgk',\n 'nxm',\n 'mtx',\n 'xrc',\n 'clb',\n 'brd',\n 'hnz',\n 'ddc',\n 'kjp',\n 'fkt',\n 'kgc',\n 'mvq']"
     },
     "execution_count": 9,
     "metadata": {},
     "output_type": "execute_result"
    }
   ],
   "source": [
    "nx.shortest_path(G, *random.choices(nodes, k=2))"
   ],
   "metadata": {
    "collapsed": false,
    "ExecuteTime": {
     "end_time": "2023-12-28T12:15:48.160082892Z",
     "start_time": "2023-12-28T12:15:48.138569284Z"
    }
   },
   "id": "80a4741dd6f9408c",
   "execution_count": 9
  },
  {
   "cell_type": "code",
   "outputs": [],
   "source": [
    "c = Counter()\n",
    "for _ in range(1000):\n",
    "    for edge in pairwise(nx.shortest_path(G, *random.choices(nodes, k=2))):\n",
    "        edgefs = frozenset(edge)\n",
    "        if edgefs in cut_candidates:\n",
    "            c[edgefs] += 1"
   ],
   "metadata": {
    "collapsed": false,
    "ExecuteTime": {
     "end_time": "2023-12-28T12:15:48.241566084Z",
     "start_time": "2023-12-28T12:15:48.138762484Z"
    }
   },
   "id": "3a5591e24dc7ddb0",
   "execution_count": 10
  },
  {
   "cell_type": "code",
   "outputs": [
    {
     "data": {
      "text/plain": "[(frozenset({'brd', 'clb'}), 267),\n (frozenset({'bbz', 'jxd'}), 132),\n (frozenset({'glz', 'mxd'}), 120),\n (frozenset({'clb', 'cqz'}), 78),\n (frozenset({'clb', 'pfz'}), 69),\n (frozenset({'brd', 'qqb'}), 66),\n (frozenset({'jxd', 'vdr'}), 65),\n (frozenset({'bcr', 'brd'}), 60),\n (frozenset({'clb', 'lqg'}), 54),\n (frozenset({'kdm', 'mxd'}), 54)]"
     },
     "execution_count": 11,
     "metadata": {},
     "output_type": "execute_result"
    }
   ],
   "source": [
    "c.most_common(10)"
   ],
   "metadata": {
    "collapsed": false,
    "ExecuteTime": {
     "end_time": "2023-12-28T12:15:48.287736422Z",
     "start_time": "2023-12-28T12:15:48.243660201Z"
    }
   },
   "id": "a3a03693398f153f",
   "execution_count": 11
  },
  {
   "cell_type": "code",
   "outputs": [
    {
     "data": {
      "text/plain": "[('clb', 'brd'), ('bbz', 'jxd'), ('glz', 'mxd')]"
     },
     "execution_count": 12,
     "metadata": {},
     "output_type": "execute_result"
    }
   ],
   "source": [
    "[tuple(edgefs) for (edgefs, count) in c.most_common(3)]"
   ],
   "metadata": {
    "collapsed": false,
    "ExecuteTime": {
     "end_time": "2023-12-28T12:15:48.289905571Z",
     "start_time": "2023-12-28T12:15:48.286980326Z"
    }
   },
   "id": "3319e536a41554ad",
   "execution_count": 12
  },
  {
   "cell_type": "code",
   "outputs": [
    {
     "name": "stdout",
     "output_type": "stream",
     "text": [
      "518391\n"
     ]
    }
   ],
   "source": [
    "G1 = G.copy()\n",
    "G1.remove_edges_from(tuple(edgefs) for (edgefs, count) in c.most_common(3))\n",
    "cc = list(nx.connected_components(G1))\n",
    "if len(cc) == 2:\n",
    "    print(len(cc[0]) * len(cc[1]))"
   ],
   "metadata": {
    "collapsed": false,
    "ExecuteTime": {
     "end_time": "2023-12-28T12:15:48.291655832Z",
     "start_time": "2023-12-28T12:15:48.287576407Z"
    }
   },
   "id": "2b9028006320f3f5",
   "execution_count": 13
  },
  {
   "cell_type": "markdown",
   "source": [
    "This works because the groups are of roughly equal size, and cut candidate edges are fairly evenly distributed."
   ],
   "metadata": {
    "collapsed": false
   },
   "id": "76ceff48fd4bc7ae"
  }
 ],
 "metadata": {
  "kernelspec": {
   "display_name": "Python 3",
   "language": "python",
   "name": "python3"
  },
  "language_info": {
   "codemirror_mode": {
    "name": "ipython",
    "version": 2
   },
   "file_extension": ".py",
   "mimetype": "text/x-python",
   "name": "python",
   "nbconvert_exporter": "python",
   "pygments_lexer": "ipython2",
   "version": "2.7.6"
  }
 },
 "nbformat": 4,
 "nbformat_minor": 5
}
