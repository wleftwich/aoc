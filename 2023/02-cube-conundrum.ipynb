{
 "cells": [
  {
   "cell_type": "markdown",
   "source": [
    "https://adventofcode.com/2023/day/2"
   ],
   "metadata": {
    "collapsed": false
   },
   "id": "d788ba5fc6d950a7"
  },
  {
   "cell_type": "code",
   "execution_count": 1,
   "outputs": [],
   "source": [
    "import math"
   ],
   "metadata": {
    "collapsed": false,
    "ExecuteTime": {
     "end_time": "2023-12-02T16:25:29.702462999Z",
     "start_time": "2023-12-02T16:25:29.682477746Z"
    }
   },
   "id": "13082e4d23799c17"
  },
  {
   "cell_type": "code",
   "execution_count": 2,
   "outputs": [],
   "source": [
    "with open(\"data/02.txt\") as fh:\n",
    "    data = fh.read()"
   ],
   "metadata": {
    "collapsed": false,
    "ExecuteTime": {
     "end_time": "2023-12-02T16:25:29.737960198Z",
     "start_time": "2023-12-02T16:25:29.685274255Z"
    }
   },
   "id": "3410a6371ab60089"
  },
  {
   "cell_type": "code",
   "execution_count": 3,
   "outputs": [
    {
     "name": "stdout",
     "output_type": "stream",
     "text": [
      "Game 1: 1 red, 5 blue, 10 green; 5 green, 6 blue, 12 red; 4 red, 10 blue, 4 green\n",
      "Game 2: 2 green, 1 blue; 1 red, 2 green; 3 red, 1 blue; 2 blue, 1 green, 8 red; 1 green, 10 red; 10 red\n",
      "Game 3: 14 red, 9 green, 5 blue; 2 green, 5 red, 7 blue; 1 blue, 14 green; 6 green, 2 red\n",
      "Game 4: 2 green, 3 blue, 9 red; 1 red, 1 green; 4 red, 4 blue; 1 blue, 19 red; 7 red\n",
      "Game 5: 1 green, 10 blue, 4 red; 15 green, 4 red, 5 blue; 14 blue, 14 green, 2 red; 15 green, 7 blue, 1 red; 2 red, 9 green, 17 blue\n",
      "Game 6: 2 red, 2 blue, 4 green; 3 red, 13 blue, 9 green; 1 red, 14 blue, 3 green; 9 green, 11 blue, 3 red; 6 blue, 2 green\n",
      "Game 7: 11 green, 6 blue, 6 red; 2 blue, 3 red, 9 green; 3 red, 5 blue, 5 green; 6 red, 5 green, 3 blue; 9 red, 6 blue\n",
      "Game 8: 11 blue, 3 red; 3 blue, 2 green, 13 red; 11 red, 7 blue, 1 green\n",
      "Game 9: 2 green, 1 blue, 3 red; 9 green, 4 red; 7 red, 5 green; 4 red, 1 blue; 11 green, 16 red; 2 red, 6 green\n",
      "Game 10: 1 red, 4 blue, 1 green; 7 green, 3 red, 1 blue; 5 blue, 7 red\n",
      "Game 11:\n"
     ]
    }
   ],
   "source": [
    "print(data[:1000])"
   ],
   "metadata": {
    "collapsed": false,
    "ExecuteTime": {
     "end_time": "2023-12-02T16:25:29.738232290Z",
     "start_time": "2023-12-02T16:25:29.730402056Z"
    }
   },
   "id": "94bb8953765585b0"
  },
  {
   "cell_type": "code",
   "execution_count": 4,
   "outputs": [
    {
     "data": {
      "text/plain": "[{'gid': 1, 'red': 1, 'blue': 5, 'green': 10},\n {'gid': 1, 'green': 5, 'blue': 6, 'red': 12},\n {'gid': 1, 'red': 4, 'blue': 10, 'green': 4}]"
     },
     "execution_count": 4,
     "metadata": {},
     "output_type": "execute_result"
    }
   ],
   "source": [
    "def line2game(line):\n",
    "    gamestr, handstr = [x.strip() for x in line.split(\":\")]\n",
    "    gameid = int(gamestr.split()[1])\n",
    "    hands = (x.strip() for x in handstr.split(\";\"))\n",
    "    L = []\n",
    "    for hand in hands:\n",
    "        cubes = (x.strip() for x in hand.split(\",\"))\n",
    "        D = {\"gid\": gameid}\n",
    "        for cube in cubes:\n",
    "            count, color = cube.split()\n",
    "            D[color] = int(count)\n",
    "        L.append(D)\n",
    "    return L\n",
    "\n",
    "line2game(\"Game 1: 1 red, 5 blue, 10 green; 5 green, 6 blue, 12 red; 4 red, 10 blue, 4 green\")"
   ],
   "metadata": {
    "collapsed": false,
    "ExecuteTime": {
     "end_time": "2023-12-02T16:25:29.738402413Z",
     "start_time": "2023-12-02T16:25:29.730569086Z"
    }
   },
   "id": "f8f2d2a5a6e95395"
  },
  {
   "cell_type": "code",
   "execution_count": 5,
   "outputs": [],
   "source": [
    "def iterhands(data):\n",
    "    for line in data.splitlines():\n",
    "        yield from line2game(line)"
   ],
   "metadata": {
    "collapsed": false,
    "ExecuteTime": {
     "end_time": "2023-12-02T16:25:29.755206579Z",
     "start_time": "2023-12-02T16:25:29.734430007Z"
    }
   },
   "id": "e1f255291cf523e9"
  },
  {
   "cell_type": "code",
   "execution_count": 6,
   "outputs": [],
   "source": [
    "testdata = \"\"\"\\\n",
    "Game 1: 3 blue, 4 red; 1 red, 2 green, 6 blue; 2 green\n",
    "Game 2: 1 blue, 2 green; 3 green, 4 blue, 1 red; 1 green, 1 blue\n",
    "Game 3: 8 green, 6 blue, 20 red; 5 blue, 4 red, 13 green; 5 green, 1 red\n",
    "Game 4: 1 green, 3 red, 6 blue; 3 green, 6 red; 3 green, 15 blue, 14 red\n",
    "Game 5: 6 red, 1 blue, 3 green; 2 blue, 1 red, 2 green\n",
    "\"\"\""
   ],
   "metadata": {
    "collapsed": false,
    "ExecuteTime": {
     "end_time": "2023-12-02T16:25:29.778431424Z",
     "start_time": "2023-12-02T16:25:29.756431130Z"
    }
   },
   "id": "fbc767ff3fff51c0"
  },
  {
   "cell_type": "code",
   "execution_count": 7,
   "outputs": [
    {
     "data": {
      "text/plain": "[{'gid': 1, 'blue': 3, 'red': 4},\n {'gid': 1, 'red': 1, 'green': 2, 'blue': 6},\n {'gid': 1, 'green': 2},\n {'gid': 2, 'blue': 1, 'green': 2},\n {'gid': 2, 'green': 3, 'blue': 4, 'red': 1},\n {'gid': 2, 'green': 1, 'blue': 1},\n {'gid': 3, 'green': 8, 'blue': 6, 'red': 20},\n {'gid': 3, 'blue': 5, 'red': 4, 'green': 13},\n {'gid': 3, 'green': 5, 'red': 1},\n {'gid': 4, 'green': 1, 'red': 3, 'blue': 6},\n {'gid': 4, 'green': 3, 'red': 6},\n {'gid': 4, 'green': 3, 'blue': 15, 'red': 14},\n {'gid': 5, 'red': 6, 'blue': 1, 'green': 3},\n {'gid': 5, 'blue': 2, 'red': 1, 'green': 2}]"
     },
     "execution_count": 7,
     "metadata": {},
     "output_type": "execute_result"
    }
   ],
   "source": [
    "list(iterhands(testdata))"
   ],
   "metadata": {
    "collapsed": false,
    "ExecuteTime": {
     "end_time": "2023-12-02T16:25:29.820025773Z",
     "start_time": "2023-12-02T16:25:29.768146593Z"
    }
   },
   "id": "9a31826bb66fe09a"
  },
  {
   "cell_type": "code",
   "execution_count": 8,
   "outputs": [
    {
     "data": {
      "text/plain": "2720"
     },
     "execution_count": 8,
     "metadata": {},
     "output_type": "execute_result"
    }
   ],
   "source": [
    "colormaxes = {\"red\": 12, \"green\": 13, \"blue\": 14}\n",
    "all_ids = set()\n",
    "impossible_ids = set()\n",
    "for hand in iterhands(data):\n",
    "    all_ids.add(hand[\"gid\"])\n",
    "    for color, colormax in colormaxes.items():\n",
    "        if hand.get(color, 0) > colormax:\n",
    "            impossible_ids.add(hand[\"gid\"])\n",
    "            \n",
    "sum(all_ids.difference(impossible_ids))"
   ],
   "metadata": {
    "collapsed": false,
    "ExecuteTime": {
     "end_time": "2023-12-02T16:25:29.820252669Z",
     "start_time": "2023-12-02T16:25:29.810480124Z"
    }
   },
   "id": "ddf2aa3fb6196859"
  },
  {
   "cell_type": "markdown",
   "source": [
    "### Part 2"
   ],
   "metadata": {
    "collapsed": false
   },
   "id": "1bc212dfe70a9b58"
  },
  {
   "cell_type": "code",
   "execution_count": 9,
   "outputs": [
    {
     "data": {
      "text/plain": "71535"
     },
     "execution_count": 9,
     "metadata": {},
     "output_type": "execute_result"
    }
   ],
   "source": [
    "bags = {}\n",
    "for hand in iterhands(data):\n",
    "    bag = bags.setdefault(hand[\"gid\"], {})\n",
    "    for color in (\"red\", \"green\", \"blue\"):\n",
    "        bag[color] = max(bag.get(color, 0), hand.get(color, 0))\n",
    "\n",
    "sum(math.prod(bag.values()) for bag in bags.values())"
   ],
   "metadata": {
    "collapsed": false,
    "ExecuteTime": {
     "end_time": "2023-12-02T16:25:29.854622197Z",
     "start_time": "2023-12-02T16:25:29.810636072Z"
    }
   },
   "id": "7127b54db003c457"
  }
 ],
 "metadata": {
  "kernelspec": {
   "display_name": "Python 3",
   "language": "python",
   "name": "python3"
  },
  "language_info": {
   "codemirror_mode": {
    "name": "ipython",
    "version": 2
   },
   "file_extension": ".py",
   "mimetype": "text/x-python",
   "name": "python",
   "nbconvert_exporter": "python",
   "pygments_lexer": "ipython2",
   "version": "2.7.6"
  }
 },
 "nbformat": 4,
 "nbformat_minor": 5
}
