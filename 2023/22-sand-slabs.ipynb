{
 "cells": [
  {
   "cell_type": "markdown",
   "source": [
    "https://adventofcode.com/2023/day/22"
   ],
   "metadata": {
    "collapsed": false
   },
   "id": "4b7a9ec35ae3203a"
  },
  {
   "cell_type": "code",
   "outputs": [],
   "source": [
    "from collections import deque\n",
    "import numpy as np"
   ],
   "metadata": {
    "collapsed": false,
    "ExecuteTime": {
     "end_time": "2023-12-24T13:10:58.037233314Z",
     "start_time": "2023-12-24T13:10:57.994120209Z"
    }
   },
   "id": "4438b9acf6b071f4",
   "execution_count": 68
  },
  {
   "cell_type": "code",
   "outputs": [],
   "source": [
    "with open(\"data/22.txt\") as fh:\n",
    "    data = fh.read()"
   ],
   "metadata": {
    "collapsed": false,
    "ExecuteTime": {
     "end_time": "2023-12-24T12:00:45.697482983Z",
     "start_time": "2023-12-24T12:00:45.690284466Z"
    }
   },
   "id": "d423d525194f4e5f",
   "execution_count": 2
  },
  {
   "cell_type": "code",
   "outputs": [],
   "source": [
    "testdata = \"\"\"\\\n",
    "1,0,1~1,2,1\n",
    "0,0,2~2,0,2\n",
    "0,2,3~2,2,3\n",
    "0,0,4~0,2,4\n",
    "2,0,5~2,2,5\n",
    "0,1,6~2,1,6\n",
    "1,1,8~1,1,9\n",
    "\"\"\""
   ],
   "metadata": {
    "collapsed": false,
    "ExecuteTime": {
     "end_time": "2023-12-24T12:00:45.708564266Z",
     "start_time": "2023-12-24T12:00:45.690431078Z"
    }
   },
   "id": "51a13d3c00d529f5",
   "execution_count": 3
  },
  {
   "cell_type": "code",
   "outputs": [],
   "source": [
    "def parse_puzzle(puzzle):\n",
    "    L = []\n",
    "    for line in puzzle.splitlines():\n",
    "        astr, bstr = line.split(\"~\")\n",
    "        L.append(\n",
    "            (\n",
    "                tuple(int(a) for a in astr.split(\",\")),\n",
    "                tuple(int(b) for b in bstr.split(\",\")),\n",
    "            )\n",
    "        )\n",
    "    return L"
   ],
   "metadata": {
    "collapsed": false,
    "ExecuteTime": {
     "end_time": "2023-12-24T12:00:45.727006259Z",
     "start_time": "2023-12-24T12:00:45.710849346Z"
    }
   },
   "id": "348d50f21cc51e34",
   "execution_count": 4
  },
  {
   "cell_type": "code",
   "outputs": [
    {
     "data": {
      "text/plain": "[]"
     },
     "execution_count": 5,
     "metadata": {},
     "output_type": "execute_result"
    }
   ],
   "source": [
    "[a for (a, b) in parse_puzzle(data) if a[0] > b[0] or a[1] > b[1] or a[2] > b[2]]"
   ],
   "metadata": {
    "collapsed": false,
    "ExecuteTime": {
     "end_time": "2023-12-24T12:00:45.736246242Z",
     "start_time": "2023-12-24T12:00:45.726183664Z"
    }
   },
   "id": "de36fef3b9cbfc35",
   "execution_count": 5
  },
  {
   "cell_type": "code",
   "outputs": [],
   "source": [
    "def load_array(bricks):\n",
    "    xmax = ymax = zmax = 0\n",
    "    for _, (x2, y2, z2) in bricks:\n",
    "        xmax = max(xmax, x2)\n",
    "        ymax = max(ymax, y2)\n",
    "        zmax = max(zmax, z2)\n",
    "    ar = np.zeros((xmax + 1, ymax + 1, zmax + 1), dtype=int)\n",
    "    for n, ((x1, y1, z1), (x2, y2, z2)) in enumerate(bricks, 1):\n",
    "        ar[x1 : x2 + 1, y1 : y2 + 1, z1 : z2 + 1] = n\n",
    "    return ar\n",
    "\n",
    "\n",
    "def get_indices_for_value(ar, n):\n",
    "    return list(zip(*np.nonzero(ar == n)))\n",
    "\n",
    "\n",
    "def set_indices_to_value(ar, indices, n):\n",
    "    for i in indices:\n",
    "        ar[i] = n\n",
    "\n",
    "\n",
    "def find_footprint(ar, n):\n",
    "    xs, ys, zs = np.nonzero(ar == n)\n",
    "    zmin = min(zs)\n",
    "    return zmin, set((x, y) for (x, y, z) in zip(xs, ys, zs) if z == zmin)\n",
    "\n",
    "\n",
    "def find_headprint(ar, n):\n",
    "    xs, ys, zs = np.nonzero(ar == n)\n",
    "    zmax = max(zs)\n",
    "    return zmax, set((x, y) for (x, y, z) in zip(xs, ys, zs) if z == zmax)\n",
    "\n",
    "\n",
    "def xys_for_z(ar, z):\n",
    "    xs, ys = np.nonzero(ar[:, :, z])\n",
    "    return set(zip(xs, ys))\n",
    "\n",
    "\n",
    "def settle_block(ar, n):\n",
    "    moves = 0\n",
    "    indices = get_indices_for_value(ar, n)\n",
    "    zmin = min(z for (x, y, z) in indices)\n",
    "    footprint = set((x, y) for (x, y, z) in indices if z == zmin)\n",
    "    while True:\n",
    "        if zmin == 1:\n",
    "            break\n",
    "        headprint = xys_for_z(ar, zmin - 1)\n",
    "        if footprint.intersection(headprint):\n",
    "            break\n",
    "        new_indices = [(x, y, z - 1) for (x, y, z) in indices]\n",
    "        set_indices_to_value(ar, indices, 0)\n",
    "        set_indices_to_value(ar, new_indices, n)\n",
    "        indices = new_indices\n",
    "        zmin -= 1\n",
    "        moves += 1\n",
    "    return moves\n",
    "\n",
    "\n",
    "def settle_all(ar):\n",
    "    moves = 1\n",
    "    nstop = ar.max() + 1\n",
    "    while moves:\n",
    "        moves = sum(settle_block(ar, n) for n in range(1, nstop))\n",
    "\n",
    "\n",
    "def supporting_blocks(ar, n):\n",
    "    z0, footprint = find_footprint(ar, n)\n",
    "    if z0 == 1:\n",
    "        return None\n",
    "    level_below = ar[:, :, z0 - 1]\n",
    "    blocks_below = set(level_below.ravel())\n",
    "    blocks_below.discard(0)\n",
    "    supports = []\n",
    "    for bb in blocks_below:\n",
    "        z1, headprint = find_headprint(ar, bb)\n",
    "        if z1 == z0 - 1 and headprint.intersection(footprint):\n",
    "            supports.append(bb)\n",
    "    return supports\n",
    "\n",
    "\n",
    "def dont_disintegrate(ar):\n",
    "    dd = set()\n",
    "    for n in range(1, ar.max() + 1):\n",
    "        sb = supporting_blocks(ar, n)\n",
    "        if sb is not None and len(sb) == 1:\n",
    "            dd.add(sb[0])\n",
    "    return dd\n",
    "\n",
    "\n",
    "def count_safe_to_disintegrate(puzzle):\n",
    "    bricks = parse_puzzle(puzzle)\n",
    "    ar = load_array(bricks)\n",
    "    settle_all(ar)\n",
    "    blockset = set(range(1, ar.max() + 1))\n",
    "    dd = dont_disintegrate(ar)\n",
    "    return len(blockset.difference(dd))"
   ],
   "metadata": {
    "collapsed": false,
    "ExecuteTime": {
     "end_time": "2023-12-24T12:00:45.767255462Z",
     "start_time": "2023-12-24T12:00:45.736163225Z"
    }
   },
   "id": "166d50b1e4ae40ec",
   "execution_count": 6
  },
  {
   "cell_type": "code",
   "outputs": [
    {
     "data": {
      "text/plain": "5"
     },
     "execution_count": 7,
     "metadata": {},
     "output_type": "execute_result"
    }
   ],
   "source": [
    "count_safe_to_disintegrate(testdata)"
   ],
   "metadata": {
    "collapsed": false,
    "ExecuteTime": {
     "end_time": "2023-12-24T12:00:45.792421022Z",
     "start_time": "2023-12-24T12:00:45.790321409Z"
    }
   },
   "id": "be71859b8f4214d1",
   "execution_count": 7
  },
  {
   "cell_type": "code",
   "outputs": [
    {
     "name": "stdout",
     "output_type": "stream",
     "text": [
      "CPU times: user 7.15 s, sys: 0 ns, total: 7.15 s\n",
      "Wall time: 7.15 s\n"
     ]
    },
    {
     "data": {
      "text/plain": "434"
     },
     "execution_count": 8,
     "metadata": {},
     "output_type": "execute_result"
    }
   ],
   "source": [
    "%%time\n",
    "count_safe_to_disintegrate(data)\n",
    "## Slow! Most of the time is in settle_all."
   ],
   "metadata": {
    "collapsed": false,
    "ExecuteTime": {
     "end_time": "2023-12-24T12:00:52.926004577Z",
     "start_time": "2023-12-24T12:00:45.790424470Z"
    }
   },
   "id": "9243fad2239b7df",
   "execution_count": 8
  },
  {
   "cell_type": "markdown",
   "source": [
    "### Part 2"
   ],
   "metadata": {
    "collapsed": false
   },
   "id": "fdc6d27c30b163ae"
  },
  {
   "cell_type": "code",
   "outputs": [],
   "source": [
    "import networkx as nx"
   ],
   "metadata": {
    "collapsed": false,
    "ExecuteTime": {
     "end_time": "2023-12-24T12:05:22.455279214Z",
     "start_time": "2023-12-24T12:05:22.409157667Z"
    }
   },
   "id": "f6bef76d618e382d",
   "execution_count": 23
  },
  {
   "cell_type": "code",
   "outputs": [],
   "source": [
    "blocks = parse_puzzle(data)\n",
    "ar = load_array(blocks)\n",
    "settle_all(ar)"
   ],
   "metadata": {
    "collapsed": false,
    "ExecuteTime": {
     "end_time": "2023-12-24T13:21:47.771673701Z",
     "start_time": "2023-12-24T13:21:41.357066222Z"
    }
   },
   "id": "32b2e521bdcfff99",
   "execution_count": 81
  },
  {
   "cell_type": "code",
   "outputs": [
    {
     "name": "stdout",
     "output_type": "stream",
     "text": [
      "CPU times: user 842 ms, sys: 0 ns, total: 842 ms\n",
      "Wall time: 841 ms\n"
     ]
    }
   ],
   "source": [
    "%%time\n",
    "G = nx.DiGraph()\n",
    "for n in range(1, ar.max() + 1):\n",
    "    sbs = supporting_blocks(ar, n)\n",
    "    if sbs is None:\n",
    "        continue\n",
    "    for sb in sbs:\n",
    "        G.add_edge(sb, n)"
   ],
   "metadata": {
    "collapsed": false,
    "ExecuteTime": {
     "end_time": "2023-12-24T13:21:49.545635047Z",
     "start_time": "2023-12-24T13:21:48.702439964Z"
    }
   },
   "id": "ed896111bfb5853d",
   "execution_count": 82
  },
  {
   "cell_type": "code",
   "outputs": [],
   "source": [
    "def chain_reaction(G, n):\n",
    "    keystones = {n}\n",
    "    q = deque([n])\n",
    "    while q:\n",
    "        node = q.popleft()\n",
    "        if keystones.issuperset(G.predecessors(node)):\n",
    "            keystones.add(node)\n",
    "        for successor in G.successors(node):\n",
    "            q.append(successor)\n",
    "    return len(keystones) - 1"
   ],
   "metadata": {
    "collapsed": false,
    "ExecuteTime": {
     "end_time": "2023-12-24T13:21:51.106184757Z",
     "start_time": "2023-12-24T13:21:51.087775885Z"
    }
   },
   "id": "e0c9559d01266d48",
   "execution_count": 83
  },
  {
   "cell_type": "code",
   "outputs": [
    {
     "data": {
      "text/plain": "61209"
     },
     "execution_count": 84,
     "metadata": {},
     "output_type": "execute_result"
    }
   ],
   "source": [
    "sum(chain_reaction(G, n) for n in G)"
   ],
   "metadata": {
    "collapsed": false,
    "ExecuteTime": {
     "end_time": "2023-12-24T13:21:55.295572071Z",
     "start_time": "2023-12-24T13:21:54.521247626Z"
    }
   },
   "id": "5b136ff7266a79ce",
   "execution_count": 84
  },
  {
   "cell_type": "code",
   "outputs": [
    {
     "data": {
      "text/plain": "61209"
     },
     "execution_count": 85,
     "metadata": {},
     "output_type": "execute_result"
    }
   ],
   "source": [
    "keystones = dont_disintegrate(ar)\n",
    "sum(chain_reaction(G, n) for n in keystones)"
   ],
   "metadata": {
    "collapsed": false,
    "ExecuteTime": {
     "end_time": "2023-12-24T13:22:20.467516161Z",
     "start_time": "2023-12-24T13:22:18.990827835Z"
    }
   },
   "id": "5ce1f3fec84d4da3",
   "execution_count": 85
  }
 ],
 "metadata": {
  "kernelspec": {
   "display_name": "Python 3",
   "language": "python",
   "name": "python3"
  },
  "language_info": {
   "codemirror_mode": {
    "name": "ipython",
    "version": 2
   },
   "file_extension": ".py",
   "mimetype": "text/x-python",
   "name": "python",
   "nbconvert_exporter": "python",
   "pygments_lexer": "ipython2",
   "version": "2.7.6"
  }
 },
 "nbformat": 4,
 "nbformat_minor": 5
}
