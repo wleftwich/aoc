{
 "cells": [
  {
   "cell_type": "markdown",
   "source": [
    "https://adventofcode.com/2023/day/15"
   ],
   "metadata": {
    "collapsed": false
   },
   "id": "e397711d25f3566a"
  },
  {
   "cell_type": "code",
   "execution_count": 18,
   "outputs": [],
   "source": [
    "with open(\"data/15.txt\") as fh:\n",
    "    puzzle = fh.read()"
   ],
   "metadata": {
    "collapsed": false,
    "ExecuteTime": {
     "end_time": "2023-12-15T14:33:09.862530704Z",
     "start_time": "2023-12-15T14:33:09.830351444Z"
    }
   },
   "id": "a424d794297e9118"
  },
  {
   "cell_type": "code",
   "execution_count": 19,
   "outputs": [],
   "source": [
    "testdata = \"rn=1,cm-,qp=3,cm=2,qp-,pc=4,ot=9,ab=5,pc-,pc=6,ot=7\""
   ],
   "metadata": {
    "collapsed": false,
    "ExecuteTime": {
     "end_time": "2023-12-15T14:33:09.863878778Z",
     "start_time": "2023-12-15T14:33:09.862998773Z"
    }
   },
   "id": "1f9b8f16f506bb28"
  },
  {
   "cell_type": "code",
   "execution_count": 20,
   "outputs": [],
   "source": [
    "def parse_input(data):\n",
    "    return data.strip().split(\",\")"
   ],
   "metadata": {
    "collapsed": false,
    "ExecuteTime": {
     "end_time": "2023-12-15T14:33:09.890649924Z",
     "start_time": "2023-12-15T14:33:09.866071494Z"
    }
   },
   "id": "1d2972b27b8d661e"
  },
  {
   "cell_type": "code",
   "execution_count": 21,
   "outputs": [],
   "source": [
    "def hash_char(c, v=0):\n",
    "    v = v + ord(c)\n",
    "    v = v * 17\n",
    "    return v % 256\n",
    "\n",
    "\n",
    "def hash_str(s, v=0):\n",
    "    for c in s:\n",
    "        v = hash_char(c, v)\n",
    "    return v"
   ],
   "metadata": {
    "collapsed": false,
    "ExecuteTime": {
     "end_time": "2023-12-15T14:33:09.890900407Z",
     "start_time": "2023-12-15T14:33:09.886373399Z"
    }
   },
   "id": "a91bb8d091f9df02"
  },
  {
   "cell_type": "code",
   "execution_count": 22,
   "outputs": [
    {
     "data": {
      "text/plain": "52"
     },
     "execution_count": 22,
     "metadata": {},
     "output_type": "execute_result"
    }
   ],
   "source": [
    "hash_str(\"HASH\")"
   ],
   "metadata": {
    "collapsed": false,
    "ExecuteTime": {
     "end_time": "2023-12-15T14:33:09.893041708Z",
     "start_time": "2023-12-15T14:33:09.886476172Z"
    }
   },
   "id": "36fbd5786f63392a"
  },
  {
   "cell_type": "code",
   "execution_count": 23,
   "outputs": [
    {
     "name": "stdout",
     "output_type": "stream",
     "text": [
      "rn=1 30\n",
      "cm- 253\n",
      "qp=3 97\n",
      "cm=2 47\n",
      "qp- 14\n",
      "pc=4 180\n",
      "ot=9 9\n",
      "ab=5 197\n",
      "pc- 48\n",
      "pc=6 214\n",
      "ot=7 231\n"
     ]
    }
   ],
   "source": [
    "for s in parse_input(testdata):\n",
    "    print(s, hash_str(s))"
   ],
   "metadata": {
    "collapsed": false,
    "ExecuteTime": {
     "end_time": "2023-12-15T14:33:09.914581361Z",
     "start_time": "2023-12-15T14:33:09.893272227Z"
    }
   },
   "id": "91f88f17338ad10a"
  },
  {
   "cell_type": "code",
   "execution_count": 24,
   "outputs": [],
   "source": [
    "def hash_total(data):\n",
    "    return sum(hash_str(s) for s in parse_input(data))"
   ],
   "metadata": {
    "collapsed": false,
    "ExecuteTime": {
     "end_time": "2023-12-15T14:33:09.944667576Z",
     "start_time": "2023-12-15T14:33:09.943777003Z"
    }
   },
   "id": "2f8dce0dba1ff8a3"
  },
  {
   "cell_type": "code",
   "execution_count": 25,
   "outputs": [
    {
     "data": {
      "text/plain": "1320"
     },
     "execution_count": 25,
     "metadata": {},
     "output_type": "execute_result"
    }
   ],
   "source": [
    "hash_total(testdata)"
   ],
   "metadata": {
    "collapsed": false,
    "ExecuteTime": {
     "end_time": "2023-12-15T14:33:09.945031955Z",
     "start_time": "2023-12-15T14:33:09.943918766Z"
    }
   },
   "id": "98e223dae466611b"
  },
  {
   "cell_type": "code",
   "execution_count": 26,
   "outputs": [
    {
     "name": "stdout",
     "output_type": "stream",
     "text": [
      "CPU times: user 1.45 ms, sys: 0 ns, total: 1.45 ms\n",
      "Wall time: 1.45 ms\n"
     ]
    },
    {
     "data": {
      "text/plain": "505427"
     },
     "execution_count": 26,
     "metadata": {},
     "output_type": "execute_result"
    }
   ],
   "source": [
    "%%time\n",
    "hash_total(puzzle)"
   ],
   "metadata": {
    "collapsed": false,
    "ExecuteTime": {
     "end_time": "2023-12-15T14:33:09.945398608Z",
     "start_time": "2023-12-15T14:33:09.944017598Z"
    }
   },
   "id": "f0cb336f761c80ab"
  },
  {
   "cell_type": "markdown",
   "source": [
    "### Part 2"
   ],
   "metadata": {
    "collapsed": false
   },
   "id": "d3532a026cffeb43"
  },
  {
   "cell_type": "code",
   "execution_count": 27,
   "outputs": [],
   "source": [
    "def split_instruction(s):\n",
    "    if \"=\" in s:\n",
    "        opr = \"=\"\n",
    "        label, flstr = s.split(\"=\")\n",
    "        fl = int(flstr)\n",
    "    elif \"-\" in s:\n",
    "        opr = \"-\"\n",
    "        label = s.split(\"-\")[0]\n",
    "        fl = None\n",
    "    else:\n",
    "        raise ValueError(\"Can't happen\")\n",
    "    return opr, label, fl\n",
    "    "
   ],
   "metadata": {
    "collapsed": false,
    "ExecuteTime": {
     "end_time": "2023-12-15T14:33:09.987986643Z",
     "start_time": "2023-12-15T14:33:09.944103845Z"
    }
   },
   "id": "5c3826026fe5175d"
  },
  {
   "cell_type": "code",
   "execution_count": 28,
   "outputs": [],
   "source": [
    "def handle_instruction(s, boxes):\n",
    "    opr, label, fl = split_instruction(s)\n",
    "    box_index = hash_str(label)\n",
    "    if opr == \"-\":\n",
    "        try:\n",
    "            boxes[box_index].pop(label)\n",
    "        except KeyError:\n",
    "            pass\n",
    "    else:\n",
    "        boxes[box_index][label] = fl"
   ],
   "metadata": {
    "collapsed": false,
    "ExecuteTime": {
     "end_time": "2023-12-15T14:33:09.988767606Z",
     "start_time": "2023-12-15T14:33:09.987951104Z"
    }
   },
   "id": "29066a12616c7519"
  },
  {
   "cell_type": "code",
   "execution_count": 29,
   "outputs": [],
   "source": [
    "def initialize(data):\n",
    "    boxes = [{} for _ in range(256)]\n",
    "    for s in parse_input(data):\n",
    "        handle_instruction(s, boxes)\n",
    "    return boxes"
   ],
   "metadata": {
    "collapsed": false,
    "ExecuteTime": {
     "end_time": "2023-12-15T14:33:09.989120581Z",
     "start_time": "2023-12-15T14:33:09.988081574Z"
    }
   },
   "id": "289f6e3b017a4e06"
  },
  {
   "cell_type": "code",
   "execution_count": 30,
   "outputs": [],
   "source": [
    "def total_focusing_power(data):\n",
    "    boxes = initialize(data)\n",
    "    total = 0\n",
    "    for boxnum, box in enumerate(boxes, 1):\n",
    "        for slot, fl in enumerate(box.values(), 1):\n",
    "            total += boxnum * slot * fl\n",
    "    return total"
   ],
   "metadata": {
    "collapsed": false,
    "ExecuteTime": {
     "end_time": "2023-12-15T14:33:09.989444161Z",
     "start_time": "2023-12-15T14:33:09.988152125Z"
    }
   },
   "id": "5695f7d7afacab27"
  },
  {
   "cell_type": "code",
   "execution_count": 31,
   "outputs": [
    {
     "data": {
      "text/plain": "145"
     },
     "execution_count": 31,
     "metadata": {},
     "output_type": "execute_result"
    }
   ],
   "source": [
    "total_focusing_power(testdata)"
   ],
   "metadata": {
    "collapsed": false,
    "ExecuteTime": {
     "end_time": "2023-12-15T14:33:09.997994091Z",
     "start_time": "2023-12-15T14:33:09.988214326Z"
    }
   },
   "id": "cbe7921ab95eeaa6"
  },
  {
   "cell_type": "code",
   "execution_count": 32,
   "outputs": [
    {
     "name": "stdout",
     "output_type": "stream",
     "text": [
      "CPU times: user 2.27 ms, sys: 300 µs, total: 2.57 ms\n",
      "Wall time: 2.57 ms\n"
     ]
    },
    {
     "data": {
      "text/plain": "243747"
     },
     "execution_count": 32,
     "metadata": {},
     "output_type": "execute_result"
    }
   ],
   "source": [
    "%%time\n",
    "total_focusing_power(puzzle)"
   ],
   "metadata": {
    "collapsed": false,
    "ExecuteTime": {
     "end_time": "2023-12-15T14:33:10.020154295Z",
     "start_time": "2023-12-15T14:33:09.996569444Z"
    }
   },
   "id": "6b889eee583d78d5"
  },
  {
   "cell_type": "code",
   "execution_count": 32,
   "outputs": [],
   "source": [],
   "metadata": {
    "collapsed": false,
    "ExecuteTime": {
     "end_time": "2023-12-15T14:33:10.052882385Z",
     "start_time": "2023-12-15T14:33:10.011370127Z"
    }
   },
   "id": "bdf2fd7621734a93"
  }
 ],
 "metadata": {
  "kernelspec": {
   "display_name": "Python 3",
   "language": "python",
   "name": "python3"
  },
  "language_info": {
   "codemirror_mode": {
    "name": "ipython",
    "version": 2
   },
   "file_extension": ".py",
   "mimetype": "text/x-python",
   "name": "python",
   "nbconvert_exporter": "python",
   "pygments_lexer": "ipython2",
   "version": "2.7.6"
  }
 },
 "nbformat": 4,
 "nbformat_minor": 5
}
