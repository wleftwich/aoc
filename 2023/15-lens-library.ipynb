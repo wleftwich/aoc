{
 "cells": [
  {
   "cell_type": "markdown",
   "source": [
    "https://adventofcode.com/2023/day/15"
   ],
   "metadata": {
    "collapsed": false
   },
   "id": "e397711d25f3566a"
  },
  {
   "cell_type": "code",
   "execution_count": 18,
   "outputs": [],
   "source": [
    "from collections import OrderedDict"
   ],
   "metadata": {
    "collapsed": false,
    "ExecuteTime": {
     "end_time": "2023-12-15T13:47:28.820789530Z",
     "start_time": "2023-12-15T13:47:28.814794574Z"
    }
   },
   "id": "1914a50967688463"
  },
  {
   "cell_type": "code",
   "execution_count": 1,
   "outputs": [],
   "source": [
    "with open(\"data/15.txt\") as fh:\n",
    "    puzzle = fh.read()"
   ],
   "metadata": {
    "collapsed": false,
    "ExecuteTime": {
     "end_time": "2023-12-15T11:12:07.910212854Z",
     "start_time": "2023-12-15T11:12:07.908314497Z"
    }
   },
   "id": "a424d794297e9118"
  },
  {
   "cell_type": "code",
   "execution_count": 2,
   "outputs": [],
   "source": [
    "testdata = \"rn=1,cm-,qp=3,cm=2,qp-,pc=4,ot=9,ab=5,pc-,pc=6,ot=7\""
   ],
   "metadata": {
    "collapsed": false,
    "ExecuteTime": {
     "end_time": "2023-12-15T11:13:02.652004020Z",
     "start_time": "2023-12-15T11:13:02.604643530Z"
    }
   },
   "id": "1f9b8f16f506bb28"
  },
  {
   "cell_type": "code",
   "execution_count": 7,
   "outputs": [],
   "source": [
    "def parse_input(data):\n",
    "    return data.strip().split(\",\")"
   ],
   "metadata": {
    "collapsed": false,
    "ExecuteTime": {
     "end_time": "2023-12-15T11:19:36.696512824Z",
     "start_time": "2023-12-15T11:19:36.690779969Z"
    }
   },
   "id": "1d2972b27b8d661e"
  },
  {
   "cell_type": "code",
   "execution_count": 5,
   "outputs": [],
   "source": [
    "def hash_char(c, v=0):\n",
    "    v = v + ord(c)\n",
    "    v = v * 17\n",
    "    return v % 256\n",
    "\n",
    "\n",
    "def hash_str(s, v=0):\n",
    "    for c in s:\n",
    "        v = hash_char(c, v)\n",
    "    return v"
   ],
   "metadata": {
    "collapsed": false,
    "ExecuteTime": {
     "end_time": "2023-12-15T11:18:12.136104192Z",
     "start_time": "2023-12-15T11:18:12.127256519Z"
    }
   },
   "id": "a91bb8d091f9df02"
  },
  {
   "cell_type": "code",
   "execution_count": 6,
   "outputs": [
    {
     "data": {
      "text/plain": "52"
     },
     "execution_count": 6,
     "metadata": {},
     "output_type": "execute_result"
    }
   ],
   "source": [
    "hash_str(\"HASH\")"
   ],
   "metadata": {
    "collapsed": false,
    "ExecuteTime": {
     "end_time": "2023-12-15T11:18:39.201157909Z",
     "start_time": "2023-12-15T11:18:39.158744130Z"
    }
   },
   "id": "36fbd5786f63392a"
  },
  {
   "cell_type": "code",
   "execution_count": 9,
   "outputs": [
    {
     "name": "stdout",
     "output_type": "stream",
     "text": [
      "rn=1 30\n",
      "cm- 253\n",
      "qp=3 97\n",
      "cm=2 47\n",
      "qp- 14\n",
      "pc=4 180\n",
      "ot=9 9\n",
      "ab=5 197\n",
      "pc- 48\n",
      "pc=6 214\n",
      "ot=7 231\n"
     ]
    }
   ],
   "source": [
    "for s in parse_input(testdata):\n",
    "    print(s, hash_str(s))"
   ],
   "metadata": {
    "collapsed": false,
    "ExecuteTime": {
     "end_time": "2023-12-15T11:21:24.293679251Z",
     "start_time": "2023-12-15T11:21:24.285495714Z"
    }
   },
   "id": "91f88f17338ad10a"
  },
  {
   "cell_type": "code",
   "execution_count": 10,
   "outputs": [],
   "source": [
    "def hash_total(data):\n",
    "    return sum(hash_str(s) for s in parse_input(data))"
   ],
   "metadata": {
    "collapsed": false,
    "ExecuteTime": {
     "end_time": "2023-12-15T11:22:54.108237275Z",
     "start_time": "2023-12-15T11:22:54.065433979Z"
    }
   },
   "id": "2f8dce0dba1ff8a3"
  },
  {
   "cell_type": "code",
   "execution_count": 11,
   "outputs": [
    {
     "data": {
      "text/plain": "1320"
     },
     "execution_count": 11,
     "metadata": {},
     "output_type": "execute_result"
    }
   ],
   "source": [
    "hash_total(testdata)"
   ],
   "metadata": {
    "collapsed": false,
    "ExecuteTime": {
     "end_time": "2023-12-15T11:23:03.018569225Z",
     "start_time": "2023-12-15T11:23:03.011970408Z"
    }
   },
   "id": "98e223dae466611b"
  },
  {
   "cell_type": "code",
   "execution_count": 12,
   "outputs": [
    {
     "name": "stdout",
     "output_type": "stream",
     "text": [
      "CPU times: user 3.38 ms, sys: 0 ns, total: 3.38 ms\n",
      "Wall time: 3.44 ms\n"
     ]
    },
    {
     "data": {
      "text/plain": "505427"
     },
     "execution_count": 12,
     "metadata": {},
     "output_type": "execute_result"
    }
   ],
   "source": [
    "%%time\n",
    "hash_total(puzzle)"
   ],
   "metadata": {
    "collapsed": false,
    "ExecuteTime": {
     "end_time": "2023-12-15T11:23:22.305178487Z",
     "start_time": "2023-12-15T11:23:22.300914842Z"
    }
   },
   "id": "f0cb336f761c80ab"
  },
  {
   "cell_type": "markdown",
   "source": [
    "### Part 2"
   ],
   "metadata": {
    "collapsed": false
   },
   "id": "d3532a026cffeb43"
  },
  {
   "cell_type": "code",
   "execution_count": 19,
   "outputs": [],
   "source": [
    "def split_instruction(s):\n",
    "    if \"=\" in s:\n",
    "        opr = \"=\"\n",
    "        label, flstr = s.split(\"=\")\n",
    "        fl = int(flstr)\n",
    "    elif \"-\" in s:\n",
    "        opr = \"-\"\n",
    "        label = s.split(\"-\")[0]\n",
    "        fl = None\n",
    "    else:\n",
    "        raise ValueError(\"Can't happen\")\n",
    "    return opr, label, fl\n",
    "    "
   ],
   "metadata": {
    "collapsed": false,
    "ExecuteTime": {
     "end_time": "2023-12-15T13:52:24.523978653Z",
     "start_time": "2023-12-15T13:52:24.503269219Z"
    }
   },
   "id": "5c3826026fe5175d"
  },
  {
   "cell_type": "code",
   "execution_count": 32,
   "outputs": [],
   "source": [
    "def handle_instruction(s, boxes):\n",
    "    opr, label, fl = split_instruction(s)\n",
    "    box_index = hash_str(label)\n",
    "    if opr == \"-\":\n",
    "        try:\n",
    "            boxes[box_index].pop(label)\n",
    "        except KeyError:\n",
    "            pass\n",
    "    else:\n",
    "        boxes[box_index][label] = fl"
   ],
   "metadata": {
    "collapsed": false,
    "ExecuteTime": {
     "end_time": "2023-12-15T14:00:16.728460883Z",
     "start_time": "2023-12-15T14:00:16.712562802Z"
    }
   },
   "id": "29066a12616c7519"
  },
  {
   "cell_type": "code",
   "execution_count": 33,
   "outputs": [],
   "source": [
    "def initialize(data):\n",
    "    boxes = [OrderedDict() for _ in range(256)]\n",
    "    for s in parse_input(data):\n",
    "        handle_instruction(s, boxes)\n",
    "    return boxes"
   ],
   "metadata": {
    "collapsed": false,
    "ExecuteTime": {
     "end_time": "2023-12-15T14:02:25.761530309Z",
     "start_time": "2023-12-15T14:02:25.751117365Z"
    }
   },
   "id": "289f6e3b017a4e06"
  },
  {
   "cell_type": "code",
   "execution_count": 49,
   "outputs": [],
   "source": [
    "def total_focusing_power(data):\n",
    "    boxes = initialize(data)\n",
    "    total = 0\n",
    "    for boxnum, box in enumerate(boxes, 1):\n",
    "        for slot, fl in enumerate(box.values(), 1):\n",
    "            total += boxnum * slot * fl\n",
    "    return total"
   ],
   "metadata": {
    "collapsed": false,
    "ExecuteTime": {
     "end_time": "2023-12-15T14:19:06.188090969Z",
     "start_time": "2023-12-15T14:19:06.178336054Z"
    }
   },
   "id": "5695f7d7afacab27"
  },
  {
   "cell_type": "code",
   "execution_count": 50,
   "outputs": [
    {
     "data": {
      "text/plain": "145"
     },
     "execution_count": 50,
     "metadata": {},
     "output_type": "execute_result"
    }
   ],
   "source": [
    "total_focusing_power(testdata)"
   ],
   "metadata": {
    "collapsed": false,
    "ExecuteTime": {
     "end_time": "2023-12-15T14:19:06.778145395Z",
     "start_time": "2023-12-15T14:19:06.773662833Z"
    }
   },
   "id": "cbe7921ab95eeaa6"
  },
  {
   "cell_type": "code",
   "execution_count": 51,
   "outputs": [
    {
     "name": "stdout",
     "output_type": "stream",
     "text": [
      "CPU times: user 14.5 ms, sys: 0 ns, total: 14.5 ms\n",
      "Wall time: 14.1 ms\n"
     ]
    },
    {
     "data": {
      "text/plain": "243747"
     },
     "execution_count": 51,
     "metadata": {},
     "output_type": "execute_result"
    }
   ],
   "source": [
    "%%time\n",
    "total_focusing_power(puzzle)"
   ],
   "metadata": {
    "collapsed": false,
    "ExecuteTime": {
     "end_time": "2023-12-15T14:20:00.016900955Z",
     "start_time": "2023-12-15T14:19:59.973021108Z"
    }
   },
   "id": "6b889eee583d78d5"
  },
  {
   "cell_type": "code",
   "execution_count": null,
   "outputs": [],
   "source": [],
   "metadata": {
    "collapsed": false
   },
   "id": "bdf2fd7621734a93"
  }
 ],
 "metadata": {
  "kernelspec": {
   "display_name": "Python 3",
   "language": "python",
   "name": "python3"
  },
  "language_info": {
   "codemirror_mode": {
    "name": "ipython",
    "version": 2
   },
   "file_extension": ".py",
   "mimetype": "text/x-python",
   "name": "python",
   "nbconvert_exporter": "python",
   "pygments_lexer": "ipython2",
   "version": "2.7.6"
  }
 },
 "nbformat": 4,
 "nbformat_minor": 5
}
