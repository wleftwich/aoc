{
 "cells": [
  {
   "cell_type": "markdown",
   "source": [
    "https://adventofcode.com/2023/day/19"
   ],
   "metadata": {
    "collapsed": false
   },
   "id": "40861d5ed7a7125f"
  },
  {
   "cell_type": "code",
   "outputs": [],
   "source": [
    "import re\n",
    "from collections import deque\n",
    "import math\n",
    "\n",
    "import numpy as np"
   ],
   "metadata": {
    "collapsed": false,
    "ExecuteTime": {
     "end_time": "2023-12-29T12:56:22.793991944Z",
     "start_time": "2023-12-29T12:56:22.717843909Z"
    }
   },
   "id": "7182f989c9af858d",
   "execution_count": 1
  },
  {
   "cell_type": "code",
   "outputs": [],
   "source": [
    "with open(\"data/19.txt\") as fh:\n",
    "    data = fh.read()"
   ],
   "metadata": {
    "collapsed": false,
    "ExecuteTime": {
     "end_time": "2023-12-29T12:56:22.828916224Z",
     "start_time": "2023-12-29T12:56:22.822689199Z"
    }
   },
   "id": "7955ecb1ca59c567",
   "execution_count": 2
  },
  {
   "cell_type": "code",
   "outputs": [],
   "source": [
    "testdata = \"\"\"\\\n",
    "px{a<2006:qkq,m>2090:A,rfg}\n",
    "pv{a>1716:R,A}\n",
    "lnx{m>1548:A,A}\n",
    "rfg{s<537:gd,x>2440:R,A}\n",
    "qs{s>3448:A,lnx}\n",
    "qkq{x<1416:A,crn}\n",
    "crn{x>2662:A,R}\n",
    "in{s<1351:px,qqz}\n",
    "qqz{s>2770:qs,m<1801:hdj,R}\n",
    "gd{a>3333:R,R}\n",
    "hdj{m>838:A,pv}\n",
    "\n",
    "{x=787,m=2655,a=1222,s=2876}\n",
    "{x=1679,m=44,a=2067,s=496}\n",
    "{x=2036,m=264,a=79,s=2244}\n",
    "{x=2461,m=1339,a=466,s=291}\n",
    "{x=2127,m=1623,a=2188,s=1013}\n",
    "\"\"\""
   ],
   "metadata": {
    "collapsed": false,
    "ExecuteTime": {
     "end_time": "2023-12-29T12:56:22.829471376Z",
     "start_time": "2023-12-29T12:56:22.823074573Z"
    }
   },
   "id": "a93d1d0877f3585c",
   "execution_count": 3
  },
  {
   "cell_type": "code",
   "outputs": [],
   "source": [
    "def parse_puzzle(puzzle):\n",
    "    workflows_str, parts_str = puzzle.split(\"\\n\\n\")\n",
    "\n",
    "    workflows = {}\n",
    "    for line in workflows_str.splitlines():\n",
    "        wfid, wf_str = line.replace(\"{\", \" \").replace(\"}\", \"\").split()\n",
    "        workflows[wfid] = wf_str.split(\",\")\n",
    "\n",
    "    parts = []\n",
    "    for line in parts_str.splitlines():\n",
    "        parts.append([int(x) for x in re.findall(r\"\\d+\", line)])\n",
    "\n",
    "    return (workflows, parts)"
   ],
   "metadata": {
    "collapsed": false,
    "ExecuteTime": {
     "end_time": "2023-12-29T12:56:22.829908403Z",
     "start_time": "2023-12-29T12:56:22.823352620Z"
    }
   },
   "id": "54e671e0bebdd3b9",
   "execution_count": 4
  },
  {
   "cell_type": "code",
   "outputs": [
    {
     "data": {
      "text/plain": "({'px': ['a<2006:qkq', 'm>2090:A', 'rfg'],\n  'pv': ['a>1716:R', 'A'],\n  'lnx': ['m>1548:A', 'A'],\n  'rfg': ['s<537:gd', 'x>2440:R', 'A'],\n  'qs': ['s>3448:A', 'lnx'],\n  'qkq': ['x<1416:A', 'crn'],\n  'crn': ['x>2662:A', 'R'],\n  'in': ['s<1351:px', 'qqz'],\n  'qqz': ['s>2770:qs', 'm<1801:hdj', 'R'],\n  'gd': ['a>3333:R', 'R'],\n  'hdj': ['m>838:A', 'pv']},\n [[787, 2655, 1222, 2876],\n  [1679, 44, 2067, 496],\n  [2036, 264, 79, 2244],\n  [2461, 1339, 466, 291],\n  [2127, 1623, 2188, 1013]])"
     },
     "execution_count": 5,
     "metadata": {},
     "output_type": "execute_result"
    }
   ],
   "source": [
    "parse_puzzle(testdata)"
   ],
   "metadata": {
    "collapsed": false,
    "ExecuteTime": {
     "end_time": "2023-12-29T12:56:22.830689087Z",
     "start_time": "2023-12-29T12:56:22.823570272Z"
    }
   },
   "id": "5ed158eaf51d00c1",
   "execution_count": 5
  },
  {
   "cell_type": "code",
   "outputs": [],
   "source": [
    "def qc(puzzle):\n",
    "    total = 0\n",
    "    workflows, parts = parse_puzzle(puzzle)\n",
    "    for part in parts:\n",
    "        result = process_part(part, workflows)\n",
    "        if result == \"A\":\n",
    "            total += sum(part)\n",
    "    return total\n",
    "\n",
    "\n",
    "def process_part(part, workflows):\n",
    "    stage = \"in\"\n",
    "    while stage not in (\"R\", \"A\"):\n",
    "        stage = wf_stage(part, workflows[stage])\n",
    "    return stage\n",
    "\n",
    "\n",
    "def wf_stage(part, stage):\n",
    "    x, m, a, s = part\n",
    "    for step in stage:\n",
    "        if \":\" not in step:\n",
    "            return step\n",
    "        cond, nextstage = step.split(\":\")\n",
    "        if eval(cond):\n",
    "            return nextstage"
   ],
   "metadata": {
    "collapsed": false,
    "ExecuteTime": {
     "end_time": "2023-12-29T12:56:22.842118215Z",
     "start_time": "2023-12-29T12:56:22.831959246Z"
    }
   },
   "id": "90e48b750f19a7de",
   "execution_count": 6
  },
  {
   "cell_type": "code",
   "outputs": [
    {
     "data": {
      "text/plain": "19114"
     },
     "execution_count": 7,
     "metadata": {},
     "output_type": "execute_result"
    }
   ],
   "source": [
    "qc(testdata)"
   ],
   "metadata": {
    "collapsed": false,
    "ExecuteTime": {
     "end_time": "2023-12-29T12:56:22.918141226Z",
     "start_time": "2023-12-29T12:56:22.839420455Z"
    }
   },
   "id": "65411eda0962a59a",
   "execution_count": 7
  },
  {
   "cell_type": "code",
   "outputs": [
    {
     "name": "stdout",
     "output_type": "stream",
     "text": [
      "CPU times: user 20.5 ms, sys: 1.37 ms, total: 21.9 ms\n",
      "Wall time: 21.6 ms\n"
     ]
    },
    {
     "data": {
      "text/plain": "489392"
     },
     "execution_count": 8,
     "metadata": {},
     "output_type": "execute_result"
    }
   ],
   "source": [
    "%%time\n",
    "qc(data)"
   ],
   "metadata": {
    "collapsed": false,
    "ExecuteTime": {
     "end_time": "2023-12-29T12:56:22.919309379Z",
     "start_time": "2023-12-29T12:56:22.890633785Z"
    }
   },
   "id": "f8dff150180c354d",
   "execution_count": 8
  },
  {
   "cell_type": "markdown",
   "source": [
    "### Part 2"
   ],
   "metadata": {
    "collapsed": false
   },
   "id": "45da4bf6d104793a"
  },
  {
   "cell_type": "code",
   "outputs": [],
   "source": [
    "def qc_ranges(puzzle):\n",
    "    workflows, _ = parse_puzzle(puzzle)\n",
    "    combos = 0\n",
    "    q = deque([(\"in\", [np.arange(1, 4001) for _ in range(4)])])\n",
    "    while q:\n",
    "        stage, ranges = q.popleft()\n",
    "        if stage == \"A\":\n",
    "            combos += math.prod(len(r) for r in ranges)\n",
    "        if stage in (\"A\", \"R\"):\n",
    "            continue\n",
    "        q.extend(wf_stage_ranges(workflows[stage], ranges))\n",
    "    return combos\n",
    "\n",
    "\n",
    "def wf_stage_ranges(stage, ranges):\n",
    "    ranges = [r.copy() for r in ranges]\n",
    "    indices = {\"x\": 0, \"m\": 1, \"a\": 2, \"s\": 3}\n",
    "    for step in stage:\n",
    "        if \":\" not in step:\n",
    "            yield (step, ranges)\n",
    "            continue\n",
    "        x, m, a, s = ranges\n",
    "        condstr, nextstage = step.split(\":\")\n",
    "        rname = condstr[0]\n",
    "        ycond = eval(condstr)\n",
    "        ncond = np.logical_not(ycond)\n",
    "        index = indices[rname]\n",
    "        r = ranges[index]\n",
    "        y = r[ycond]\n",
    "        n = r[ncond]\n",
    "        if len(y):\n",
    "            newranges = [r.copy() for r in ranges]\n",
    "            newranges[index] = y\n",
    "            yield (nextstage, newranges)\n",
    "        ranges[index] = n"
   ],
   "metadata": {
    "collapsed": false,
    "ExecuteTime": {
     "end_time": "2023-12-29T12:56:22.985017819Z",
     "start_time": "2023-12-29T12:56:22.891011219Z"
    }
   },
   "id": "514d518e3d8cd6f7",
   "execution_count": 9
  },
  {
   "cell_type": "code",
   "outputs": [
    {
     "data": {
      "text/plain": "167409079868000"
     },
     "execution_count": 10,
     "metadata": {},
     "output_type": "execute_result"
    }
   ],
   "source": [
    "qc_ranges(testdata)"
   ],
   "metadata": {
    "collapsed": false,
    "ExecuteTime": {
     "end_time": "2023-12-29T12:56:22.985892273Z",
     "start_time": "2023-12-29T12:56:22.934776738Z"
    }
   },
   "id": "b23c089f81b93a06",
   "execution_count": 10
  },
  {
   "cell_type": "code",
   "outputs": [
    {
     "name": "stdout",
     "output_type": "stream",
     "text": [
      "CPU times: user 40.1 ms, sys: 8.73 ms, total: 48.8 ms\n",
      "Wall time: 48.6 ms\n"
     ]
    },
    {
     "data": {
      "text/plain": "134370637448305"
     },
     "execution_count": 11,
     "metadata": {},
     "output_type": "execute_result"
    }
   ],
   "source": [
    "%%time\n",
    "qc_ranges(data)"
   ],
   "metadata": {
    "collapsed": false,
    "ExecuteTime": {
     "end_time": "2023-12-29T12:56:23.011710447Z",
     "start_time": "2023-12-29T12:56:22.935110593Z"
    }
   },
   "id": "a7f865cdfce4a752",
   "execution_count": 11
  }
 ],
 "metadata": {
  "kernelspec": {
   "display_name": "Python 3",
   "language": "python",
   "name": "python3"
  },
  "language_info": {
   "codemirror_mode": {
    "name": "ipython",
    "version": 2
   },
   "file_extension": ".py",
   "mimetype": "text/x-python",
   "name": "python",
   "nbconvert_exporter": "python",
   "pygments_lexer": "ipython2",
   "version": "2.7.6"
  }
 },
 "nbformat": 4,
 "nbformat_minor": 5
}
