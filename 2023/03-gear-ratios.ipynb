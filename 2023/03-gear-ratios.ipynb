{
 "cells": [
  {
   "cell_type": "markdown",
   "source": [
    "https://adventofcode.com/2023/day/3"
   ],
   "metadata": {
    "collapsed": false
   },
   "id": "5a934ee517fd4838"
  },
  {
   "cell_type": "code",
   "execution_count": 1,
   "outputs": [],
   "source": [
    "import math\n",
    "import re\n",
    "from collections import defaultdict"
   ],
   "metadata": {
    "collapsed": false,
    "ExecuteTime": {
     "end_time": "2023-12-03T13:56:52.508612586Z",
     "start_time": "2023-12-03T13:56:52.349305152Z"
    }
   },
   "id": "f4e75ee5b0331ae1"
  },
  {
   "cell_type": "code",
   "execution_count": 2,
   "outputs": [],
   "source": [
    "with open(\"data/03.txt\") as fh:\n",
    "    data = fh.read()"
   ],
   "metadata": {
    "collapsed": false,
    "ExecuteTime": {
     "end_time": "2023-12-03T13:56:52.508900817Z",
     "start_time": "2023-12-03T13:56:52.349384094Z"
    }
   },
   "id": "1dbcd49497a8eae0"
  },
  {
   "cell_type": "code",
   "execution_count": 3,
   "outputs": [],
   "source": [
    "testdata = \"\"\"\\\n",
    "467..114..\n",
    "...*......\n",
    "..35..633.\n",
    "......#...\n",
    "617*......\n",
    ".....+.58.\n",
    "..592.....\n",
    "......755.\n",
    "...$.*....\n",
    ".664.598..\n",
    "\"\"\""
   ],
   "metadata": {
    "collapsed": false,
    "ExecuteTime": {
     "end_time": "2023-12-03T13:56:52.509012484Z",
     "start_time": "2023-12-03T13:56:52.349448563Z"
    }
   },
   "id": "273aa631350b4200"
  },
  {
   "cell_type": "code",
   "execution_count": 4,
   "outputs": [],
   "source": [
    "def symbol_coords(data):\n",
    "    coords = set()\n",
    "    for r, line in enumerate(data.splitlines()):\n",
    "        for m in re.finditer(r\"[^\\d\\.]\", line):\n",
    "            coords.add((r, m.start()))\n",
    "    return coords"
   ],
   "metadata": {
    "collapsed": false,
    "ExecuteTime": {
     "end_time": "2023-12-03T13:56:52.509115254Z",
     "start_time": "2023-12-03T13:56:52.349475174Z"
    }
   },
   "id": "d95352e1ca3da5e"
  },
  {
   "cell_type": "code",
   "execution_count": 5,
   "outputs": [
    {
     "data": {
      "text/plain": "{(1, 3), (3, 6), (4, 3), (5, 5), (8, 3), (8, 5)}"
     },
     "execution_count": 5,
     "metadata": {},
     "output_type": "execute_result"
    }
   ],
   "source": [
    "symbol_coords(testdata)"
   ],
   "metadata": {
    "collapsed": false,
    "ExecuteTime": {
     "end_time": "2023-12-03T13:56:52.509386054Z",
     "start_time": "2023-12-03T13:56:52.349510948Z"
    }
   },
   "id": "68fe0e2e70b67c12"
  },
  {
   "cell_type": "code",
   "execution_count": 6,
   "outputs": [],
   "source": [
    "def iter_poss_partnums(data):\n",
    "    for r, line in enumerate(data.splitlines()):\n",
    "        for m in re.finditer(r\"\\d+\", line):\n",
    "            yield int(m.group()), [(r, c) for c in range(m.start(), m.end())]"
   ],
   "metadata": {
    "collapsed": false,
    "ExecuteTime": {
     "end_time": "2023-12-03T13:56:52.509530495Z",
     "start_time": "2023-12-03T13:56:52.363227805Z"
    }
   },
   "id": "cbb4e5ac2ed3e53a"
  },
  {
   "cell_type": "code",
   "execution_count": 7,
   "outputs": [
    {
     "data": {
      "text/plain": "[(467, [(0, 0), (0, 1), (0, 2)]),\n (114, [(0, 5), (0, 6), (0, 7)]),\n (35, [(2, 2), (2, 3)]),\n (633, [(2, 6), (2, 7), (2, 8)]),\n (617, [(4, 0), (4, 1), (4, 2)]),\n (58, [(5, 7), (5, 8)]),\n (592, [(6, 2), (6, 3), (6, 4)]),\n (755, [(7, 6), (7, 7), (7, 8)]),\n (664, [(9, 1), (9, 2), (9, 3)]),\n (598, [(9, 5), (9, 6), (9, 7)])]"
     },
     "execution_count": 7,
     "metadata": {},
     "output_type": "execute_result"
    }
   ],
   "source": [
    "list(iter_poss_partnums(testdata))"
   ],
   "metadata": {
    "collapsed": false,
    "ExecuteTime": {
     "end_time": "2023-12-03T13:56:52.509751611Z",
     "start_time": "2023-12-03T13:56:52.374559873Z"
    }
   },
   "id": "9f20d7a10f2f4cc3"
  },
  {
   "cell_type": "code",
   "execution_count": 8,
   "outputs": [],
   "source": [
    "def xyneighbors(xy):\n",
    "    x, y = xy\n",
    "    return [\n",
    "        (x + 1, y),\n",
    "        (x + 1, y + 1),\n",
    "        (x, y + 1),\n",
    "        (x - 1, y + 1),\n",
    "        (x - 1, y),\n",
    "        (x - 1, y - 1),\n",
    "        (x, y - 1),\n",
    "        (x + 1, y - 1),\n",
    "    ]"
   ],
   "metadata": {
    "collapsed": false,
    "ExecuteTime": {
     "end_time": "2023-12-03T13:56:52.510021574Z",
     "start_time": "2023-12-03T13:56:52.388103002Z"
    }
   },
   "id": "74c3cf9f0f78b63d"
  },
  {
   "cell_type": "code",
   "execution_count": 9,
   "outputs": [],
   "source": [
    "def partnum_sum(data):\n",
    "    total = 0\n",
    "    symset = symbol_coords(data)\n",
    "\n",
    "    def foundone(coordlist):\n",
    "        for rc in coordlist:\n",
    "            for nabe in xyneighbors(rc):\n",
    "                if nabe in symset:\n",
    "                    return True\n",
    "        return False\n",
    "\n",
    "    for partnum, coords in iter_poss_partnums(data):\n",
    "        if foundone(coords):\n",
    "            total += partnum\n",
    "    return total"
   ],
   "metadata": {
    "collapsed": false,
    "ExecuteTime": {
     "end_time": "2023-12-03T13:56:52.510117711Z",
     "start_time": "2023-12-03T13:56:52.429344759Z"
    }
   },
   "id": "3753b1f6327ebac3"
  },
  {
   "cell_type": "code",
   "execution_count": 10,
   "outputs": [
    {
     "data": {
      "text/plain": "4361"
     },
     "execution_count": 10,
     "metadata": {},
     "output_type": "execute_result"
    }
   ],
   "source": [
    "partnum_sum(testdata)"
   ],
   "metadata": {
    "collapsed": false,
    "ExecuteTime": {
     "end_time": "2023-12-03T13:56:52.510293007Z",
     "start_time": "2023-12-03T13:56:52.429390571Z"
    }
   },
   "id": "fdd8284993a851f6"
  },
  {
   "cell_type": "code",
   "execution_count": 11,
   "outputs": [
    {
     "data": {
      "text/plain": "532428"
     },
     "execution_count": 11,
     "metadata": {},
     "output_type": "execute_result"
    }
   ],
   "source": [
    "partnum_sum(data)"
   ],
   "metadata": {
    "collapsed": false,
    "ExecuteTime": {
     "end_time": "2023-12-03T13:56:52.510461973Z",
     "start_time": "2023-12-03T13:56:52.429424570Z"
    }
   },
   "id": "7ea9d9d6b3417c43"
  },
  {
   "cell_type": "markdown",
   "source": [
    "### Part 2"
   ],
   "metadata": {
    "collapsed": false
   },
   "id": "17e0bd6793728ada"
  },
  {
   "cell_type": "code",
   "execution_count": 26,
   "outputs": [],
   "source": [
    "def part_lookups(data):\n",
    "    rc0_partnum = {}\n",
    "    rc_rc0 = {}\n",
    "    for partnum, coords in iter_poss_partnums(data):\n",
    "        rc0 = coords[0]\n",
    "        rc0_partnum[rc0] = partnum\n",
    "        for rc in coords:\n",
    "            rc_rc0[rc] = rc0\n",
    "    return rc0_partnum, rc_rc0"
   ],
   "metadata": {
    "collapsed": false,
    "ExecuteTime": {
     "end_time": "2023-12-03T16:37:34.719108879Z",
     "start_time": "2023-12-03T16:37:34.717469885Z"
    }
   },
   "id": "d03654845bad884d"
  },
  {
   "cell_type": "code",
   "execution_count": 14,
   "outputs": [],
   "source": [
    "def iter_star_coords(data):\n",
    "    for r, line in enumerate(data.splitlines()):\n",
    "        for m in re.finditer(r\"\\*\", line):\n",
    "            yield r, m.start()"
   ],
   "metadata": {
    "collapsed": false,
    "ExecuteTime": {
     "end_time": "2023-12-03T13:56:52.561999189Z",
     "start_time": "2023-12-03T13:56:52.473815184Z"
    }
   },
   "id": "9d9b0f6c9228b679"
  },
  {
   "cell_type": "code",
   "execution_count": 27,
   "outputs": [],
   "source": [
    "def gear_ratio_sum(data):\n",
    "    rc0_partnum, rc_rc0 = part_lookups(data)\n",
    "    star_neighbors = defaultdict(set)\n",
    "    for star_rc in iter_star_coords(data):\n",
    "        for nabe in xyneighbors(star_rc):\n",
    "            rc0 = rc_rc0.get(nabe)\n",
    "            if rc0 is not None:\n",
    "                star_neighbors[star_rc].add(rc0)\n",
    "    return sum(\n",
    "        math.prod(rc0_partnum[x] for x in xs)\n",
    "        for xs in star_neighbors.values()\n",
    "        if len(xs) == 2\n",
    "    )"
   ],
   "metadata": {
    "collapsed": false,
    "ExecuteTime": {
     "end_time": "2023-12-03T16:37:43.867287875Z",
     "start_time": "2023-12-03T16:37:43.862770025Z"
    }
   },
   "id": "ee49ed3c217346b1"
  },
  {
   "cell_type": "code",
   "execution_count": 29,
   "outputs": [
    {
     "data": {
      "text/plain": "467835"
     },
     "execution_count": 29,
     "metadata": {},
     "output_type": "execute_result"
    }
   ],
   "source": [
    "gear_ratio_sum(testdata)"
   ],
   "metadata": {
    "collapsed": false,
    "ExecuteTime": {
     "end_time": "2023-12-03T16:37:50.545986655Z",
     "start_time": "2023-12-03T16:37:50.541063320Z"
    }
   },
   "id": "e908285d1dc534dc"
  },
  {
   "cell_type": "code",
   "execution_count": 28,
   "outputs": [
    {
     "data": {
      "text/plain": "84051670"
     },
     "execution_count": 28,
     "metadata": {},
     "output_type": "execute_result"
    }
   ],
   "source": [
    "gear_ratio_sum(data)"
   ],
   "metadata": {
    "collapsed": false,
    "ExecuteTime": {
     "end_time": "2023-12-03T16:37:47.574631414Z",
     "start_time": "2023-12-03T16:37:47.567671089Z"
    }
   },
   "id": "7d20826ed6b2ce13"
  }
 ],
 "metadata": {
  "kernelspec": {
   "display_name": "Python 3",
   "language": "python",
   "name": "python3"
  },
  "language_info": {
   "codemirror_mode": {
    "name": "ipython",
    "version": 2
   },
   "file_extension": ".py",
   "mimetype": "text/x-python",
   "name": "python",
   "nbconvert_exporter": "python",
   "pygments_lexer": "ipython2",
   "version": "2.7.6"
  }
 },
 "nbformat": 4,
 "nbformat_minor": 5
}
