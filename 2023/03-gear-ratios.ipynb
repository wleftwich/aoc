{
 "cells": [
  {
   "cell_type": "markdown",
   "source": [
    "https://adventofcode.com/2023/day/3"
   ],
   "metadata": {
    "collapsed": false
   },
   "id": "5a934ee517fd4838"
  },
  {
   "cell_type": "code",
   "execution_count": 73,
   "outputs": [],
   "source": [
    "import math\n",
    "import re\n",
    "from collections import defaultdict"
   ],
   "metadata": {
    "collapsed": false,
    "ExecuteTime": {
     "end_time": "2023-12-03T12:41:56.895747987Z",
     "start_time": "2023-12-03T12:41:56.885459493Z"
    }
   },
   "id": "f4e75ee5b0331ae1"
  },
  {
   "cell_type": "code",
   "execution_count": 1,
   "outputs": [],
   "source": [
    "with open(\"data/03.txt\") as fh:\n",
    "    data = fh.read()"
   ],
   "metadata": {
    "collapsed": false,
    "ExecuteTime": {
     "end_time": "2023-12-03T11:17:27.063925112Z",
     "start_time": "2023-12-03T11:17:27.061984896Z"
    }
   },
   "id": "1dbcd49497a8eae0"
  },
  {
   "cell_type": "code",
   "execution_count": 2,
   "outputs": [],
   "source": [
    "testdata = \"\"\"\\\n",
    "467..114..\n",
    "...*......\n",
    "..35..633.\n",
    "......#...\n",
    "617*......\n",
    ".....+.58.\n",
    "..592.....\n",
    "......755.\n",
    "...$.*....\n",
    ".664.598..\n",
    "\"\"\""
   ],
   "metadata": {
    "collapsed": false,
    "ExecuteTime": {
     "end_time": "2023-12-03T11:18:22.178115687Z",
     "start_time": "2023-12-03T11:18:22.133241413Z"
    }
   },
   "id": "273aa631350b4200"
  },
  {
   "cell_type": "code",
   "execution_count": 55,
   "outputs": [],
   "source": [
    "def xyneighbors(xy):\n",
    "    x, y = xy\n",
    "    return [\n",
    "        (x + 1, y),\n",
    "        (x + 1, y + 1),\n",
    "        (x, y + 1),\n",
    "        (x - 1, y + 1),\n",
    "        (x - 1, y),\n",
    "        (x - 1, y - 1),\n",
    "        (x, y - 1),\n",
    "        (x + 1, y - 1),\n",
    "    ]"
   ],
   "metadata": {
    "collapsed": false,
    "ExecuteTime": {
     "end_time": "2023-12-03T12:05:33.357743320Z",
     "start_time": "2023-12-03T12:05:33.315864753Z"
    }
   },
   "id": "e5aab04a88883fe0"
  },
  {
   "cell_type": "code",
   "execution_count": 56,
   "outputs": [],
   "source": [
    "def get_symbol_set(data):\n",
    "    syms = set()\n",
    "    for r, line in enumerate(data.splitlines()):\n",
    "        for m in re.finditer(r\"[^\\d\\.]\", line):\n",
    "            syms.add((r, m.start()))\n",
    "    return syms"
   ],
   "metadata": {
    "collapsed": false,
    "ExecuteTime": {
     "end_time": "2023-12-03T12:06:02.557898516Z",
     "start_time": "2023-12-03T12:06:02.514286549Z"
    }
   },
   "id": "d95352e1ca3da5e"
  },
  {
   "cell_type": "code",
   "execution_count": 57,
   "outputs": [
    {
     "data": {
      "text/plain": "{(1, 3), (3, 6), (4, 3), (5, 5), (8, 3), (8, 5)}"
     },
     "execution_count": 57,
     "metadata": {},
     "output_type": "execute_result"
    }
   ],
   "source": [
    "get_symbol_set(testdata)"
   ],
   "metadata": {
    "collapsed": false,
    "ExecuteTime": {
     "end_time": "2023-12-03T12:06:04.976296273Z",
     "start_time": "2023-12-03T12:06:04.968442776Z"
    }
   },
   "id": "68fe0e2e70b67c12"
  },
  {
   "cell_type": "code",
   "execution_count": 68,
   "outputs": [],
   "source": [
    "def iter_poss_partnums(data):\n",
    "    for r, line in enumerate(data.splitlines()):\n",
    "        for m in re.finditer(r\"\\d+\", line):\n",
    "            yield int(m.group()), [(r, c) for c in range(m.start(), m.end())]"
   ],
   "metadata": {
    "collapsed": false,
    "ExecuteTime": {
     "end_time": "2023-12-03T12:35:57.106037565Z",
     "start_time": "2023-12-03T12:35:57.062353265Z"
    }
   },
   "id": "cbb4e5ac2ed3e53a"
  },
  {
   "cell_type": "code",
   "execution_count": 59,
   "outputs": [
    {
     "data": {
      "text/plain": "[(467, [(0, 0), (0, 1), (0, 2)]),\n (114, [(0, 5), (0, 6), (0, 7)]),\n (35, [(2, 2), (2, 3)]),\n (633, [(2, 6), (2, 7), (2, 8)]),\n (617, [(4, 0), (4, 1), (4, 2)]),\n (58, [(5, 7), (5, 8)]),\n (592, [(6, 2), (6, 3), (6, 4)]),\n (755, [(7, 6), (7, 7), (7, 8)]),\n (664, [(9, 1), (9, 2), (9, 3)]),\n (598, [(9, 5), (9, 6), (9, 7)])]"
     },
     "execution_count": 59,
     "metadata": {},
     "output_type": "execute_result"
    }
   ],
   "source": [
    "list(iter_poss_partnums(testdata))"
   ],
   "metadata": {
    "collapsed": false,
    "ExecuteTime": {
     "end_time": "2023-12-03T12:06:34.338232315Z",
     "start_time": "2023-12-03T12:06:34.310873955Z"
    }
   },
   "id": "9f20d7a10f2f4cc3"
  },
  {
   "cell_type": "code",
   "execution_count": 62,
   "outputs": [],
   "source": [
    "def partnum_sum(data):\n",
    "    total = 0\n",
    "    symset = get_symbol_set(data)\n",
    "    def foundone(coordlist):\n",
    "        for rc in coordlist:\n",
    "            for nabe in xyneighbors(rc):\n",
    "                if nabe in symset:\n",
    "                    return True\n",
    "        return False\n",
    "    for partnum, coords in iter_poss_partnums(data):\n",
    "        if foundone(coords):\n",
    "            total += partnum\n",
    "    return total"
   ],
   "metadata": {
    "collapsed": false,
    "ExecuteTime": {
     "end_time": "2023-12-03T12:12:42.641899796Z",
     "start_time": "2023-12-03T12:12:42.598157614Z"
    }
   },
   "id": "3753b1f6327ebac3"
  },
  {
   "cell_type": "code",
   "execution_count": 70,
   "outputs": [
    {
     "data": {
      "text/plain": "4361"
     },
     "execution_count": 70,
     "metadata": {},
     "output_type": "execute_result"
    }
   ],
   "source": [
    "partnum_sum(testdata)"
   ],
   "metadata": {
    "collapsed": false,
    "ExecuteTime": {
     "end_time": "2023-12-03T12:37:03.370235916Z",
     "start_time": "2023-12-03T12:37:03.328212809Z"
    }
   },
   "id": "fdd8284993a851f6"
  },
  {
   "cell_type": "code",
   "execution_count": 64,
   "outputs": [
    {
     "data": {
      "text/plain": "532428"
     },
     "execution_count": 64,
     "metadata": {},
     "output_type": "execute_result"
    }
   ],
   "source": [
    "partnum_sum(data)"
   ],
   "metadata": {
    "collapsed": false,
    "ExecuteTime": {
     "end_time": "2023-12-03T12:13:01.469798508Z",
     "start_time": "2023-12-03T12:13:01.426843333Z"
    }
   },
   "id": "7ea9d9d6b3417c43"
  },
  {
   "cell_type": "markdown",
   "source": [
    "### Part 2"
   ],
   "metadata": {
    "collapsed": false
   },
   "id": "17e0bd6793728ada"
  },
  {
   "cell_type": "code",
   "execution_count": 65,
   "outputs": [],
   "source": [
    "def coord_partnum_dict(data):\n",
    "    D = {}\n",
    "    for partnum, coords in iter_poss_partnums(data):\n",
    "        for rc in coords:\n",
    "            D[rc] = partnum\n",
    "    return D"
   ],
   "metadata": {
    "collapsed": false,
    "ExecuteTime": {
     "end_time": "2023-12-03T12:30:55.557644092Z",
     "start_time": "2023-12-03T12:30:55.489239781Z"
    }
   },
   "id": "23a3b073153254c8"
  },
  {
   "cell_type": "code",
   "execution_count": 69,
   "outputs": [
    {
     "data": {
      "text/plain": "{(0, 0): 467,\n (0, 1): 467,\n (0, 2): 467,\n (0, 5): 114,\n (0, 6): 114,\n (0, 7): 114,\n (2, 2): 35,\n (2, 3): 35,\n (2, 6): 633,\n (2, 7): 633,\n (2, 8): 633,\n (4, 0): 617,\n (4, 1): 617,\n (4, 2): 617,\n (5, 7): 58,\n (5, 8): 58,\n (6, 2): 592,\n (6, 3): 592,\n (6, 4): 592,\n (7, 6): 755,\n (7, 7): 755,\n (7, 8): 755,\n (9, 1): 664,\n (9, 2): 664,\n (9, 3): 664,\n (9, 5): 598,\n (9, 6): 598,\n (9, 7): 598}"
     },
     "execution_count": 69,
     "metadata": {},
     "output_type": "execute_result"
    }
   ],
   "source": [
    "coord_partnum_dict(testdata)"
   ],
   "metadata": {
    "collapsed": false,
    "ExecuteTime": {
     "end_time": "2023-12-03T12:36:01.269829550Z",
     "start_time": "2023-12-03T12:36:01.266513509Z"
    }
   },
   "id": "a2ebfdf14ae21e4d"
  },
  {
   "cell_type": "code",
   "execution_count": 71,
   "outputs": [],
   "source": [
    "def iter_star_coords(data):\n",
    "    for r, line in enumerate(data.splitlines()):\n",
    "        for m in re.finditer(r\"\\*\", line):\n",
    "            yield r, m.start()            "
   ],
   "metadata": {
    "collapsed": false,
    "ExecuteTime": {
     "end_time": "2023-12-03T12:37:29.556694253Z",
     "start_time": "2023-12-03T12:37:29.504871803Z"
    }
   },
   "id": "9d9b0f6c9228b679"
  },
  {
   "cell_type": "code",
   "execution_count": 72,
   "outputs": [
    {
     "data": {
      "text/plain": "[(1, 3), (4, 3), (8, 5)]"
     },
     "execution_count": 72,
     "metadata": {},
     "output_type": "execute_result"
    }
   ],
   "source": [
    "list(iter_star_coords(testdata))"
   ],
   "metadata": {
    "collapsed": false,
    "ExecuteTime": {
     "end_time": "2023-12-03T12:37:41.994866521Z",
     "start_time": "2023-12-03T12:37:41.974097447Z"
    }
   },
   "id": "3307d38e79fe5f0f"
  },
  {
   "cell_type": "code",
   "execution_count": 84,
   "outputs": [],
   "source": [
    "def gear_ratio_sum(data):\n",
    "    cpd = coord_partnum_dict(data)\n",
    "    star_neighbors = defaultdict(set)\n",
    "    for rc in iter_star_coords(data):\n",
    "        for nabe in xyneighbors(rc):\n",
    "            partnum = cpd.get(nabe)\n",
    "            if partnum is not None:\n",
    "                star_neighbors[rc].add(partnum)\n",
    "    return sum(math.prod(xs) for xs in star_neighbors.values() if len(xs) == 2) "
   ],
   "metadata": {
    "collapsed": false,
    "ExecuteTime": {
     "end_time": "2023-12-03T12:51:24.921989718Z",
     "start_time": "2023-12-03T12:51:24.878596753Z"
    }
   },
   "id": "ee49ed3c217346b1"
  },
  {
   "cell_type": "code",
   "execution_count": 85,
   "outputs": [
    {
     "data": {
      "text/plain": "467835"
     },
     "execution_count": 85,
     "metadata": {},
     "output_type": "execute_result"
    }
   ],
   "source": [
    "gear_ratio_sum(testdata)"
   ],
   "metadata": {
    "collapsed": false,
    "ExecuteTime": {
     "end_time": "2023-12-03T12:51:25.897277872Z",
     "start_time": "2023-12-03T12:51:25.892176749Z"
    }
   },
   "id": "e908285d1dc534dc"
  },
  {
   "cell_type": "code",
   "execution_count": 82,
   "outputs": [
    {
     "data": {
      "text/plain": "84051670"
     },
     "execution_count": 82,
     "metadata": {},
     "output_type": "execute_result"
    }
   ],
   "source": [
    "gear_ratio_sum(data)"
   ],
   "metadata": {
    "collapsed": false,
    "ExecuteTime": {
     "end_time": "2023-12-03T12:49:23.149638711Z",
     "start_time": "2023-12-03T12:49:23.135423897Z"
    }
   },
   "id": "7d20826ed6b2ce13"
  }
 ],
 "metadata": {
  "kernelspec": {
   "display_name": "Python 3",
   "language": "python",
   "name": "python3"
  },
  "language_info": {
   "codemirror_mode": {
    "name": "ipython",
    "version": 2
   },
   "file_extension": ".py",
   "mimetype": "text/x-python",
   "name": "python",
   "nbconvert_exporter": "python",
   "pygments_lexer": "ipython2",
   "version": "2.7.6"
  }
 },
 "nbformat": 4,
 "nbformat_minor": 5
}
