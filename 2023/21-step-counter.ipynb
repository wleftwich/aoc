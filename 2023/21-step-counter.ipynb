{
 "cells": [
  {
   "cell_type": "markdown",
   "source": [
    "https://adventofcode.com/2023/day/21"
   ],
   "metadata": {
    "collapsed": false
   },
   "id": "7855fe92b0e9f653"
  },
  {
   "cell_type": "code",
   "outputs": [],
   "source": [
    "from collections import deque, defaultdict\n",
    "from itertools import pairwise\n",
    "\n",
    "import numpy as np\n",
    "import numpy.linalg as la"
   ],
   "metadata": {
    "collapsed": false,
    "ExecuteTime": {
     "end_time": "2024-01-07T12:03:18.844796992Z",
     "start_time": "2024-01-07T12:03:18.751952654Z"
    }
   },
   "id": "31a4a33826baa6e0",
   "execution_count": 1
  },
  {
   "cell_type": "code",
   "outputs": [],
   "source": [
    "with open(\"data/21.txt\") as fh:\n",
    "    data = fh.read()"
   ],
   "metadata": {
    "collapsed": false,
    "ExecuteTime": {
     "end_time": "2024-01-07T12:03:18.845514341Z",
     "start_time": "2024-01-07T12:03:18.815292195Z"
    }
   },
   "id": "71dd62aa5305cf",
   "execution_count": 2
  },
  {
   "cell_type": "code",
   "outputs": [],
   "source": [
    "testdata = \"\"\"\\\n",
    "...........\n",
    ".....###.#.\n",
    ".###.##..#.\n",
    "..#.#...#..\n",
    "....#.#....\n",
    ".##..S####.\n",
    ".##..#...#.\n",
    ".......##..\n",
    ".##.#.####.\n",
    ".##..##.##.\n",
    "...........\n",
    "\"\"\""
   ],
   "metadata": {
    "collapsed": false,
    "ExecuteTime": {
     "end_time": "2024-01-07T12:03:18.871380663Z",
     "start_time": "2024-01-07T12:03:18.825842436Z"
    }
   },
   "id": "41cd809c0e7e625e",
   "execution_count": 3
  },
  {
   "cell_type": "code",
   "outputs": [],
   "source": [
    "def parse_puzzle(puzzle):\n",
    "    paths = set()\n",
    "    start = None\n",
    "    for r, line in enumerate(puzzle.splitlines()):\n",
    "        for c, char in enumerate(line):\n",
    "            if char in \".S\":\n",
    "                pos = c - r * 1j\n",
    "                paths.add(pos)\n",
    "            if char == \"S\":\n",
    "                start = pos\n",
    "    return paths, start"
   ],
   "metadata": {
    "collapsed": false,
    "ExecuteTime": {
     "end_time": "2024-01-07T12:03:18.876082585Z",
     "start_time": "2024-01-07T12:03:18.845534427Z"
    }
   },
   "id": "1fad19c8a0447cca",
   "execution_count": 4
  },
  {
   "cell_type": "code",
   "outputs": [],
   "source": [
    "def take_steps(paths, start, n):\n",
    "    visited = {}\n",
    "    q = deque([(start, 0)])\n",
    "    while q:\n",
    "        pos, step = q.popleft()\n",
    "        if pos in visited:\n",
    "            continue\n",
    "        visited[pos] = step\n",
    "        if step == n:\n",
    "            continue\n",
    "        nextstep = step+1\n",
    "        for drxn in [1, 1j, -1, -1j]:\n",
    "            nabe = pos + drxn\n",
    "            if nabe in paths:\n",
    "                q.append((nabe, nextstep)) \n",
    "    return sum(1 for stepcount in visited.values() if stepcount % 2 == n % 2)"
   ],
   "metadata": {
    "collapsed": false,
    "ExecuteTime": {
     "end_time": "2024-01-07T12:03:18.934396129Z",
     "start_time": "2024-01-07T12:03:18.877007085Z"
    }
   },
   "id": "37f0da8fdf750cd",
   "execution_count": 5
  },
  {
   "cell_type": "code",
   "outputs": [
    {
     "data": {
      "text/plain": "16"
     },
     "execution_count": 6,
     "metadata": {},
     "output_type": "execute_result"
    }
   ],
   "source": [
    "paths, start = parse_puzzle(testdata)\n",
    "take_steps(paths, start, 6)"
   ],
   "metadata": {
    "collapsed": false,
    "ExecuteTime": {
     "end_time": "2024-01-07T12:03:18.935311844Z",
     "start_time": "2024-01-07T12:03:18.901227907Z"
    }
   },
   "id": "a4fa5e4a385e95c2",
   "execution_count": 6
  },
  {
   "cell_type": "code",
   "outputs": [
    {
     "name": "stdout",
     "output_type": "stream",
     "text": [
      "CPU times: user 7.18 ms, sys: 0 ns, total: 7.18 ms\n",
      "Wall time: 7.1 ms\n"
     ]
    },
    {
     "data": {
      "text/plain": "3737"
     },
     "execution_count": 7,
     "metadata": {},
     "output_type": "execute_result"
    }
   ],
   "source": [
    "%%time\n",
    "paths, start = parse_puzzle(data)\n",
    "take_steps(paths, start, 64)"
   ],
   "metadata": {
    "collapsed": false,
    "ExecuteTime": {
     "end_time": "2024-01-07T12:03:18.965736462Z",
     "start_time": "2024-01-07T12:03:18.934929511Z"
    }
   },
   "id": "5c1018f56213075a",
   "execution_count": 7
  },
  {
   "cell_type": "markdown",
   "source": [
    "### Part 2"
   ],
   "metadata": {
    "collapsed": false
   },
   "id": "4f6cafd86d0fa13c"
  },
  {
   "cell_type": "code",
   "outputs": [],
   "source": [
    "def parse_puzzle_2(puzzle):\n",
    "    paths = set()\n",
    "    start = None\n",
    "    for r, line in enumerate(puzzle.splitlines()):\n",
    "        for c, char in enumerate(line):\n",
    "            if char in \".S\":\n",
    "                pos = c - r * 1j\n",
    "                paths.add(pos)\n",
    "            if char == \"S\":\n",
    "                start = pos\n",
    "    return paths, start, r+1, c+1"
   ],
   "metadata": {
    "collapsed": false,
    "ExecuteTime": {
     "end_time": "2024-01-07T12:03:19.025246532Z",
     "start_time": "2024-01-07T12:03:18.938005643Z"
    }
   },
   "id": "981f5cd70105f40a",
   "execution_count": 8
  },
  {
   "cell_type": "code",
   "outputs": [],
   "source": [
    "def take_more_steps(paths, start, rows, cols, n):\n",
    "    visited = {}\n",
    "    q = deque([(start, 0)])\n",
    "    while q:\n",
    "        pos, step = q.popleft()\n",
    "        if pos in visited:\n",
    "            continue\n",
    "        visited[pos] = step\n",
    "        if step == n:\n",
    "            continue\n",
    "        nextstep = step+1\n",
    "        for drxn in [1, 1j, -1, -1j]:\n",
    "            nabe = pos + drxn\n",
    "            if cmod(nabe, rows, cols) in paths:\n",
    "                q.append((nabe, nextstep)) \n",
    "    return sum(1 for stepcount in visited.values() if stepcount % 2 == n % 2)\n",
    "\n",
    "\n",
    "def cmod(pos, rows, cols):\n",
    "    # Negative coordinates and modulo are not a good fit\n",
    "    x, y = int(pos.real), -int(pos.imag)\n",
    "    return x % cols - (y % rows) * 1j\n"
   ],
   "metadata": {
    "collapsed": false,
    "ExecuteTime": {
     "end_time": "2024-01-07T12:03:19.025927942Z",
     "start_time": "2024-01-07T12:03:18.968706334Z"
    }
   },
   "id": "5ce492ff9af9ff5b",
   "execution_count": 9
  },
  {
   "cell_type": "code",
   "outputs": [
    {
     "data": {
      "text/plain": "(131, 131)"
     },
     "execution_count": 10,
     "metadata": {},
     "output_type": "execute_result"
    }
   ],
   "source": [
    "paths, start, rows, cols = parse_puzzle_2(data)\n",
    "rows, cols"
   ],
   "metadata": {
    "collapsed": false,
    "ExecuteTime": {
     "end_time": "2024-01-07T12:03:19.028018032Z",
     "start_time": "2024-01-07T12:03:19.010269612Z"
    }
   },
   "id": "3e88ea1c353350d1",
   "execution_count": 10
  },
  {
   "cell_type": "code",
   "outputs": [
    {
     "name": "stdout",
     "output_type": "stream",
     "text": [
      "CPU times: user 27 s, sys: 267 ms, total: 27.3 s\n",
      "Wall time: 27.3 s\n"
     ]
    }
   ],
   "source": [
    "%%time\n",
    "L = []\n",
    "for steps in range(1, 131*10+1, 131):\n",
    "    L.append((steps, take_more_steps(paths, start, rows, cols, steps)))"
   ],
   "metadata": {
    "collapsed": false,
    "ExecuteTime": {
     "end_time": "2024-01-07T12:03:46.380937302Z",
     "start_time": "2024-01-07T12:03:19.033409592Z"
    }
   },
   "id": "2c5e28c7a7b633ad",
   "execution_count": 11
  },
  {
   "cell_type": "code",
   "outputs": [
    {
     "data": {
      "text/plain": "[(1, 4),\n (132, 15753),\n (263, 62064),\n (394, 138937),\n (525, 246372),\n (656, 384369),\n (787, 552928),\n (918, 752049),\n (1049, 981732),\n (1180, 1241977)]"
     },
     "execution_count": 12,
     "metadata": {},
     "output_type": "execute_result"
    }
   ],
   "source": [
    "L"
   ],
   "metadata": {
    "collapsed": false,
    "ExecuteTime": {
     "end_time": "2024-01-07T12:03:46.381721950Z",
     "start_time": "2024-01-07T12:03:46.378269426Z"
    }
   },
   "id": "316894591d5e2885",
   "execution_count": 12
  },
  {
   "cell_type": "code",
   "outputs": [
    {
     "data": {
      "text/plain": "[(1, 4, 15749),\n (132, 15753, 46311),\n (263, 62064, 76873),\n (394, 138937, 107435),\n (525, 246372, 137997),\n (656, 384369, 168559),\n (787, 552928, 199121),\n (918, 752049, 229683),\n (1049, 981732, 260245)]"
     },
     "execution_count": 13,
     "metadata": {},
     "output_type": "execute_result"
    }
   ],
   "source": [
    "d1 = [(a, b, d-b) for ((a, b), (c, d)) in zip(L, L[1:])]\n",
    "d1"
   ],
   "metadata": {
    "collapsed": false,
    "ExecuteTime": {
     "end_time": "2024-01-07T12:03:46.382331965Z",
     "start_time": "2024-01-07T12:03:46.378391772Z"
    }
   },
   "id": "f52d9ff752e5b5c6",
   "execution_count": 13
  },
  {
   "cell_type": "code",
   "outputs": [
    {
     "data": {
      "text/plain": "[(1, 132, 30562),\n (132, 263, 30562),\n (263, 394, 30562),\n (394, 525, 30562),\n (525, 656, 30562),\n (656, 787, 30562),\n (787, 918, 30562),\n (918, 1049, 30562)]"
     },
     "execution_count": 14,
     "metadata": {},
     "output_type": "execute_result"
    }
   ],
   "source": [
    "[(a, d, f-c) for ((a,b,c), (d,e,f)) in zip(d1, d1[1:])]"
   ],
   "metadata": {
    "collapsed": false,
    "ExecuteTime": {
     "end_time": "2024-01-07T12:03:46.382919580Z",
     "start_time": "2024-01-07T12:03:46.378453958Z"
    }
   },
   "id": "970df34dc6f19466",
   "execution_count": 14
  },
  {
   "cell_type": "code",
   "outputs": [],
   "source": [
    "steps_period = 131\n",
    "paths_period = 30562\n",
    "final_steps = 26501365 "
   ],
   "metadata": {
    "collapsed": false,
    "ExecuteTime": {
     "end_time": "2024-01-07T12:03:46.429523993Z",
     "start_time": "2024-01-07T12:03:46.380335599Z"
    }
   },
   "id": "e4ef87bc069aff76",
   "execution_count": 15
  },
  {
   "cell_type": "code",
   "outputs": [
    {
     "data": {
      "text/plain": "65"
     },
     "execution_count": 16,
     "metadata": {},
     "output_type": "execute_result"
    }
   ],
   "source": [
    "steps_offset = 26501365 % 131\n",
    "steps_offset"
   ],
   "metadata": {
    "collapsed": false,
    "ExecuteTime": {
     "end_time": "2024-01-07T12:03:46.430158552Z",
     "start_time": "2024-01-07T12:03:46.426298457Z"
    }
   },
   "id": "a7360c4f7cd12ed2",
   "execution_count": 16
  },
  {
   "cell_type": "code",
   "outputs": [
    {
     "data": {
      "text/plain": "3896"
     },
     "execution_count": 17,
     "metadata": {},
     "output_type": "execute_result"
    }
   ],
   "source": [
    "s1 = steps_offset\n",
    "s1p = take_more_steps(paths, start, rows, cols, s1)\n",
    "s1p"
   ],
   "metadata": {
    "collapsed": false,
    "ExecuteTime": {
     "end_time": "2024-01-07T12:03:46.474498993Z",
     "start_time": "2024-01-07T12:03:46.426410075Z"
    }
   },
   "id": "a1521c0b1d28966d",
   "execution_count": 17
  },
  {
   "cell_type": "code",
   "outputs": [
    {
     "data": {
      "text/plain": "34617"
     },
     "execution_count": 18,
     "metadata": {},
     "output_type": "execute_result"
    }
   ],
   "source": [
    "s2 = s1 + steps_period\n",
    "s2p = take_more_steps(paths, start, rows, cols, s2)\n",
    "s2p"
   ],
   "metadata": {
    "collapsed": false,
    "ExecuteTime": {
     "end_time": "2024-01-07T12:03:46.645460711Z",
     "start_time": "2024-01-07T12:03:46.474294311Z"
    }
   },
   "id": "5312f37d555586",
   "execution_count": 18
  },
  {
   "cell_type": "code",
   "outputs": [
    {
     "data": {
      "text/plain": "202299"
     },
     "execution_count": 22,
     "metadata": {},
     "output_type": "execute_result"
    }
   ],
   "source": [
    "n = (final_steps - s2) // steps_period\n",
    "n"
   ],
   "metadata": {
    "collapsed": false,
    "ExecuteTime": {
     "end_time": "2024-01-07T12:04:01.688048363Z",
     "start_time": "2024-01-07T12:04:01.627169544Z"
    }
   },
   "id": "42787a94a39dc283",
   "execution_count": 22
  },
  {
   "cell_type": "code",
   "outputs": [],
   "source": [
    "def triangle(n):\n",
    "    return n * (n + 1) // 2"
   ],
   "metadata": {
    "collapsed": false,
    "ExecuteTime": {
     "end_time": "2024-01-07T12:03:46.691331238Z",
     "start_time": "2024-01-07T12:03:46.690452833Z"
    }
   },
   "id": "f9b47f22b1ccadcb",
   "execution_count": 20
  },
  {
   "cell_type": "code",
   "outputs": [
    {
     "data": {
      "text/plain": "625382480005896"
     },
     "execution_count": 23,
     "metadata": {},
     "output_type": "execute_result"
    }
   ],
   "source": [
    "final_paths = s2p + (s2p - s1p) * n + paths_period * triangle(n)\n",
    "final_paths"
   ],
   "metadata": {
    "collapsed": false,
    "ExecuteTime": {
     "end_time": "2024-01-07T12:04:05.273516830Z",
     "start_time": "2024-01-07T12:04:05.270709573Z"
    }
   },
   "id": "a773ff71a3c942d7",
   "execution_count": 23
  },
  {
   "cell_type": "code",
   "outputs": [],
   "source": [],
   "metadata": {
    "collapsed": false,
    "ExecuteTime": {
     "end_time": "2024-01-07T12:03:46.692552451Z",
     "start_time": "2024-01-07T12:03:46.690645960Z"
    }
   },
   "id": "8cd0c68e4894e6e8",
   "execution_count": 21
  }
 ],
 "metadata": {
  "kernelspec": {
   "display_name": "Python 3",
   "language": "python",
   "name": "python3"
  },
  "language_info": {
   "codemirror_mode": {
    "name": "ipython",
    "version": 2
   },
   "file_extension": ".py",
   "mimetype": "text/x-python",
   "name": "python",
   "nbconvert_exporter": "python",
   "pygments_lexer": "ipython2",
   "version": "2.7.6"
  }
 },
 "nbformat": 4,
 "nbformat_minor": 5
}
