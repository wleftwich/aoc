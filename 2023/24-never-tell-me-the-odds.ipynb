{
 "cells": [
  {
   "cell_type": "markdown",
   "source": [
    "https://adventofcode.com/2023/day/24"
   ],
   "metadata": {
    "collapsed": false
   },
   "id": "87e67ae87f40d754"
  },
  {
   "cell_type": "code",
   "outputs": [],
   "source": [
    "import re\n",
    "from itertools import combinations\n",
    "\n",
    "import numpy as np\n",
    "import numpy.linalg as la"
   ],
   "metadata": {
    "collapsed": false,
    "ExecuteTime": {
     "end_time": "2024-01-21T20:53:42.875509887Z",
     "start_time": "2024-01-21T20:53:42.747331447Z"
    }
   },
   "id": "75f194364ccbbf9e",
   "execution_count": 1
  },
  {
   "cell_type": "code",
   "outputs": [],
   "source": [
    "with open(\"data/24.txt\") as fh:\n",
    "    data = fh.read()"
   ],
   "metadata": {
    "collapsed": false,
    "ExecuteTime": {
     "end_time": "2024-01-21T20:53:42.876499125Z",
     "start_time": "2024-01-21T20:53:42.874391117Z"
    }
   },
   "id": "850cd7e531c50d47",
   "execution_count": 2
  },
  {
   "cell_type": "code",
   "outputs": [],
   "source": [
    "testdata = \"\"\"\\\n",
    "19, 13, 30 @ -2,  1, -2\n",
    "18, 19, 22 @ -1, -1, -2\n",
    "20, 25, 34 @ -2, -2, -4\n",
    "12, 31, 28 @ -1, -2, -1\n",
    "20, 19, 15 @  1, -5, -3\n",
    "\"\"\""
   ],
   "metadata": {
    "collapsed": false,
    "ExecuteTime": {
     "end_time": "2024-01-21T20:53:42.877091279Z",
     "start_time": "2024-01-21T20:53:42.874582236Z"
    }
   },
   "id": "76215d7d18c26560",
   "execution_count": 3
  },
  {
   "cell_type": "code",
   "outputs": [],
   "source": [
    "def parse_puzzle(puzzle):\n",
    "    L = []\n",
    "    for line in puzzle.splitlines():\n",
    "        nstrs = (x for x in re.split(r\"\\s+|@|,\", line) if x)\n",
    "        L.append(tuple(int(x) for x in nstrs))\n",
    "    return L"
   ],
   "metadata": {
    "collapsed": false,
    "ExecuteTime": {
     "end_time": "2024-01-21T20:53:42.877656792Z",
     "start_time": "2024-01-21T20:53:42.874673983Z"
    }
   },
   "id": "537885b5a785f91a",
   "execution_count": 4
  },
  {
   "cell_type": "code",
   "outputs": [],
   "source": [
    "def to_standard_form(x, y, vx, vy):\n",
    "    m = vy / vx\n",
    "    return np.array([m, -1, y - m * x])\n",
    "\n",
    "\n",
    "def solve_sfs(*args):\n",
    "    stacked = np.vstack(args)\n",
    "    a = stacked[:, :-1]\n",
    "    b = stacked[:, -1] * -1\n",
    "    try:\n",
    "        return la.solve(a, b)\n",
    "    except la.LinAlgError as e:\n",
    "        if e.args[0] == \"Singular matrix\":\n",
    "            return None\n",
    "        else:\n",
    "            raise\n",
    "\n",
    "\n",
    "class Hailstone:\n",
    "    def __init__(self, pvs, minpos=200000000000000, maxpos=400000000000000):\n",
    "        px, py, pz, vx, vy, vz = pvs\n",
    "        self.ps = [px, py, pz]\n",
    "        self.vs = [vx, vy, vz]\n",
    "        self.point2d = (px, py)\n",
    "        self.minpos = minpos\n",
    "        self.maxpos = maxpos\n",
    "        self.xy_std_form = to_standard_form(px, py, vx, vy)\n",
    "\n",
    "    def intersection(self, other):\n",
    "        return solve_sfs(self.xy_std_form, other.xy_std_form)\n",
    "\n",
    "    def inbounds(self, point):\n",
    "        x, y = point\n",
    "        px, py = self.ps[:2]\n",
    "        vx, vy = self.vs[:2]\n",
    "        if not (self.minpos <= x <= self.maxpos and self.minpos <= y <= self.maxpos):\n",
    "            return False\n",
    "        if vx > 0 and x < px:\n",
    "            return False\n",
    "        if vx < 0 and x > px:\n",
    "            return False\n",
    "        if vy > 0 and y < py:\n",
    "            return False\n",
    "        if vy < 0 and y > py:\n",
    "            return False\n",
    "        return True\n",
    "\n",
    "    def legit_intersection(self, other):\n",
    "        point = self.intersection(other)\n",
    "        return point is not None and self.inbounds(point) and other.inbounds(point)\n",
    "\n",
    "    def __repr__(self):\n",
    "        return \"Hailstone((\" + \", \".join(str(x) for x in self.ps + self.vs) + \"))\""
   ],
   "metadata": {
    "collapsed": false,
    "ExecuteTime": {
     "end_time": "2024-01-21T20:53:42.878208906Z",
     "start_time": "2024-01-21T20:53:42.874751598Z"
    }
   },
   "id": "86599bd2a1740adc",
   "execution_count": 5
  },
  {
   "cell_type": "code",
   "outputs": [
    {
     "data": {
      "text/plain": "2"
     },
     "execution_count": 6,
     "metadata": {},
     "output_type": "execute_result"
    }
   ],
   "source": [
    "sum(\n",
    "    a.legit_intersection(b)\n",
    "    for a, b in combinations((Hailstone(x, 7, 27) for x in parse_puzzle(testdata)), 2)\n",
    ")"
   ],
   "metadata": {
    "collapsed": false,
    "ExecuteTime": {
     "end_time": "2024-01-21T20:53:42.893678293Z",
     "start_time": "2024-01-21T20:53:42.875204608Z"
    }
   },
   "id": "f4cc0ef68401964a",
   "execution_count": 6
  },
  {
   "cell_type": "code",
   "outputs": [
    {
     "name": "stdout",
     "output_type": "stream",
     "text": [
      "CPU times: user 344 ms, sys: 50.5 ms, total: 394 ms\n",
      "Wall time: 329 ms\n"
     ]
    },
    {
     "data": {
      "text/plain": "29142"
     },
     "execution_count": 7,
     "metadata": {},
     "output_type": "execute_result"
    }
   ],
   "source": [
    "%%time\n",
    "sum(\n",
    "    a.legit_intersection(b)\n",
    "    for a, b in combinations((Hailstone(x) for x in parse_puzzle(data)), 2)\n",
    ")"
   ],
   "metadata": {
    "collapsed": false,
    "ExecuteTime": {
     "end_time": "2024-01-21T20:53:43.234183074Z",
     "start_time": "2024-01-21T20:53:42.893768281Z"
    }
   },
   "id": "a76c4e113eeb2c9c",
   "execution_count": 7
  },
  {
   "cell_type": "markdown",
   "source": [
    "### Part 2\n",
    "Wow."
   ],
   "metadata": {
    "collapsed": false
   },
   "id": "7c6900a103cf7ca2"
  },
  {
   "cell_type": "code",
   "outputs": [
    {
     "data": {
      "text/plain": "[(19, 13, 30, -2, 1, -2),\n (18, 19, 22, -1, -1, -2),\n (20, 25, 34, -2, -2, -4),\n (12, 31, 28, -1, -2, -1),\n (20, 19, 15, 1, -5, -3)]"
     },
     "execution_count": 8,
     "metadata": {},
     "output_type": "execute_result"
    }
   ],
   "source": [
    "parse_puzzle(testdata)"
   ],
   "metadata": {
    "collapsed": false,
    "ExecuteTime": {
     "end_time": "2024-01-21T20:53:52.753468595Z",
     "start_time": "2024-01-21T20:53:52.745536383Z"
    }
   },
   "id": "3cc814d26ab4c961",
   "execution_count": 8
  },
  {
   "cell_type": "code",
   "outputs": [],
   "source": [
    "def throw_the_rock(puzzle):\n",
    "    px = [x[0] for x in puzzle[:5]]\n",
    "    py = [x[1] for x in puzzle[:5]]\n",
    "    pz = [x[2] for x in puzzle[:5]]\n",
    "    vx = [x[3] for x in puzzle[:5]]\n",
    "    vy = [x[4] for x in puzzle[:5]]\n",
    "    vz = [x[5] for x in puzzle[:5]]\n",
    "    A = np.zeros((4, 4), dtype=np.longlong)\n",
    "    b = np.zeros(4, dtype=np.longlong)\n",
    "    for (aind, i, j) in [(0, 0, 1), (1, 0, 2), (2, 0, 3), (3, 0, 4)]:\n",
    "        A[aind] = [vy[i] - vy[j], py[j] - py[i], vx[j] - vx[i], px[i] - px[j]]\n",
    "        b[aind] = px[i] * vy[i] - py[i] * vx[i] - px[j] * vy[j] + py[j] * vx[j]\n",
    "    rpx, rvx, rpy, rvy = np.round(la.solve(A, b)).astype(int)\n",
    "    i, j = 1, 2\n",
    "    ti = (px[i] - rpx) / (rvx - vx[i])\n",
    "    tj = (px[j] - rpx) / (rvx - vx[j])\n",
    "    C = np.array([\n",
    "        [1, ti],\n",
    "        [1, tj]\n",
    "    ], dtype=np.longlong)\n",
    "    d = np.array([pz[i] + vz[i] * ti, pz[j] + vz[j] * tj], dtype=np.longlong)\n",
    "    rpz, rvz = np.round(la.solve(C, d)).astype(int)\n",
    "    return rpx, rvx, rpy, rvy, rpz, rvz, i, j, ti, tj"
   ],
   "metadata": {
    "collapsed": false,
    "ExecuteTime": {
     "end_time": "2024-01-22T02:08:44.871336915Z",
     "start_time": "2024-01-22T02:08:44.858286393Z"
    }
   },
   "id": "f1c4407d4bde774c",
   "execution_count": 207
  },
  {
   "cell_type": "code",
   "outputs": [
    {
     "data": {
      "text/plain": "(24, -3, 13, 1, 10, 2, 1, 2, 3.0, 4.0)"
     },
     "execution_count": 177,
     "metadata": {},
     "output_type": "execute_result"
    }
   ],
   "source": [
    "throw_the_rock(parse_puzzle(testdata))"
   ],
   "metadata": {
    "collapsed": false,
    "ExecuteTime": {
     "end_time": "2024-01-22T01:55:18.806126349Z",
     "start_time": "2024-01-22T01:55:18.764512549Z"
    }
   },
   "id": "475ec4061e9f9fc9",
   "execution_count": 177
  },
  {
   "cell_type": "code",
   "outputs": [],
   "source": [
    "puzzle = parse_puzzle(data)"
   ],
   "metadata": {
    "collapsed": false,
    "ExecuteTime": {
     "end_time": "2024-01-22T01:58:23.309427418Z",
     "start_time": "2024-01-22T01:58:23.300377498Z"
    }
   },
   "id": "bf31c492d5d81ea",
   "execution_count": 194
  },
  {
   "cell_type": "code",
   "outputs": [
    {
     "data": {
      "text/plain": "(334948624416533,\n -86,\n 371647004954418,\n -143,\n 142351957892081,\n 289,\n 1,\n 2,\n 547833135830.0,\n 728788861354.0)"
     },
     "execution_count": 195,
     "metadata": {},
     "output_type": "execute_result"
    }
   ],
   "source": [
    "rpx, rvx, rpy, rvy, rpz, rvz, i, j, ti, tj = throw_the_rock(puzzle)\n",
    "rpx, rvx, rpy, rvy, rpz, rvz, i, j, ti, tj"
   ],
   "metadata": {
    "collapsed": false,
    "ExecuteTime": {
     "end_time": "2024-01-22T01:58:26.952262202Z",
     "start_time": "2024-01-22T01:58:26.946324316Z"
    }
   },
   "id": "7a8ed130f9be454",
   "execution_count": 195
  },
  {
   "cell_type": "markdown",
   "source": [
    "848947587263032 is too low."
   ],
   "metadata": {
    "collapsed": false
   },
   "id": "987f1751567fc441"
  },
  {
   "cell_type": "code",
   "outputs": [
    {
     "data": {
      "text/plain": "547833135830.0"
     },
     "execution_count": 196,
     "metadata": {},
     "output_type": "execute_result"
    }
   ],
   "source": [
    "ti"
   ],
   "metadata": {
    "collapsed": false,
    "ExecuteTime": {
     "end_time": "2024-01-22T01:58:28.209048060Z",
     "start_time": "2024-01-22T01:58:28.206425321Z"
    }
   },
   "id": "5e99975cdd4e3ef1",
   "execution_count": 196
  },
  {
   "cell_type": "code",
   "outputs": [
    {
     "data": {
      "text/plain": "(310843966440013, 307550528062309, 305058399233591, -42, -26, -8)"
     },
     "execution_count": 197,
     "metadata": {},
     "output_type": "execute_result"
    }
   ],
   "source": [
    "puzzle[i]"
   ],
   "metadata": {
    "collapsed": false,
    "ExecuteTime": {
     "end_time": "2024-01-22T01:58:30.627417049Z",
     "start_time": "2024-01-22T01:58:30.621628421Z"
    }
   },
   "id": "c92de56e95fe8fdf",
   "execution_count": 197
  },
  {
   "cell_type": "code",
   "outputs": [
    {
     "data": {
      "text/plain": "287834974735153.0"
     },
     "execution_count": 198,
     "metadata": {},
     "output_type": "execute_result"
    }
   ],
   "source": [
    "puzzle[i][0] + puzzle[i][3] * ti"
   ],
   "metadata": {
    "collapsed": false,
    "ExecuteTime": {
     "end_time": "2024-01-22T01:58:32.130332098Z",
     "start_time": "2024-01-22T01:58:32.127077921Z"
    }
   },
   "id": "307210cbb9ff9310",
   "execution_count": 198
  },
  {
   "cell_type": "code",
   "outputs": [
    {
     "data": {
      "text/plain": "287834974735153.0"
     },
     "execution_count": 199,
     "metadata": {},
     "output_type": "execute_result"
    }
   ],
   "source": [
    "rpx + rvx * ti"
   ],
   "metadata": {
    "collapsed": false,
    "ExecuteTime": {
     "end_time": "2024-01-22T01:58:33.579829176Z",
     "start_time": "2024-01-22T01:58:33.561393612Z"
    }
   },
   "id": "a8a44427eb4f619",
   "execution_count": 199
  },
  {
   "cell_type": "code",
   "outputs": [
    {
     "data": {
      "text/plain": "293306866530729.0"
     },
     "execution_count": 200,
     "metadata": {},
     "output_type": "execute_result"
    }
   ],
   "source": [
    "puzzle[i][1] + puzzle[i][4] * ti"
   ],
   "metadata": {
    "collapsed": false,
    "ExecuteTime": {
     "end_time": "2024-01-22T01:58:51.765828928Z",
     "start_time": "2024-01-22T01:58:51.759360362Z"
    }
   },
   "id": "ecb8029515ff1849",
   "execution_count": 200
  },
  {
   "cell_type": "code",
   "outputs": [
    {
     "data": {
      "text/plain": "293306866530729.0"
     },
     "execution_count": 202,
     "metadata": {},
     "output_type": "execute_result"
    }
   ],
   "source": [
    "(rpy+1) + rvy * ti"
   ],
   "metadata": {
    "collapsed": false,
    "ExecuteTime": {
     "end_time": "2024-01-22T01:59:34.486431661Z",
     "start_time": "2024-01-22T01:59:34.442631822Z"
    }
   },
   "id": "56d1863e859c94c8",
   "execution_count": 202
  },
  {
   "cell_type": "code",
   "outputs": [
    {
     "data": {
      "text/plain": "300675734146951.0"
     },
     "execution_count": 203,
     "metadata": {},
     "output_type": "execute_result"
    }
   ],
   "source": [
    "puzzle[i][2] + puzzle[i][5] * ti"
   ],
   "metadata": {
    "collapsed": false,
    "ExecuteTime": {
     "end_time": "2024-01-22T02:00:16.106428033Z",
     "start_time": "2024-01-22T02:00:16.060632470Z"
    }
   },
   "id": "f10c72c6635de35",
   "execution_count": 203
  },
  {
   "cell_type": "code",
   "outputs": [
    {
     "data": {
      "text/plain": "300675734146951.0"
     },
     "execution_count": 204,
     "metadata": {},
     "output_type": "execute_result"
    }
   ],
   "source": [
    "rpz + rvz * ti"
   ],
   "metadata": {
    "collapsed": false,
    "ExecuteTime": {
     "end_time": "2024-01-22T02:00:32.339072073Z",
     "start_time": "2024-01-22T02:00:32.327139595Z"
    }
   },
   "id": "406bfff2af0a73a4",
   "execution_count": 204
  },
  {
   "cell_type": "code",
   "outputs": [
    {
     "data": {
      "text/plain": "848947587263033"
     },
     "execution_count": 206,
     "metadata": {},
     "output_type": "execute_result"
    }
   ],
   "source": [
    "rpx + rpy + rpz + 1"
   ],
   "metadata": {
    "collapsed": false,
    "ExecuteTime": {
     "end_time": "2024-01-22T02:01:08.815951261Z",
     "start_time": "2024-01-22T02:01:08.806024658Z"
    }
   },
   "id": "b071c9787d42af98",
   "execution_count": 206
  },
  {
   "cell_type": "code",
   "outputs": [],
   "source": [],
   "metadata": {
    "collapsed": false
   },
   "id": "3e7afd2164d7858e"
  }
 ],
 "metadata": {
  "kernelspec": {
   "display_name": "Python 3",
   "language": "python",
   "name": "python3"
  },
  "language_info": {
   "codemirror_mode": {
    "name": "ipython",
    "version": 2
   },
   "file_extension": ".py",
   "mimetype": "text/x-python",
   "name": "python",
   "nbconvert_exporter": "python",
   "pygments_lexer": "ipython2",
   "version": "2.7.6"
  }
 },
 "nbformat": 4,
 "nbformat_minor": 5
}
