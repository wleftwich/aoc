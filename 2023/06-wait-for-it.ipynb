{
 "cells": [
  {
   "cell_type": "markdown",
   "source": [
    "https://adventofcode.com/2023/day/6"
   ],
   "metadata": {
    "collapsed": false
   },
   "id": "bb60a8b95c3bb291"
  },
  {
   "cell_type": "code",
   "execution_count": 33,
   "outputs": [],
   "source": [
    "import math"
   ],
   "metadata": {
    "collapsed": false,
    "ExecuteTime": {
     "end_time": "2023-12-06T12:15:16.174775382Z",
     "start_time": "2023-12-06T12:15:16.130575925Z"
    }
   },
   "id": "d83dd83e518cab15"
  },
  {
   "cell_type": "code",
   "execution_count": 1,
   "outputs": [
    {
     "name": "stdout",
     "output_type": "stream",
     "text": [
      "Time:        47     84     74     67\n",
      "Distance:   207   1394   1209   1014\n"
     ]
    }
   ],
   "source": [
    "with open(\"data/06.txt\") as fh:\n",
    "    data = fh.read()\n",
    "print(data)"
   ],
   "metadata": {
    "collapsed": false
   },
   "id": "53c4f8e58f40cdff"
  },
  {
   "cell_type": "code",
   "execution_count": 2,
   "outputs": [],
   "source": [
    "testdata = \"\"\"\\\n",
    "Time:      7  15   30\n",
    "Distance:  9  40  200\n",
    "\"\"\""
   ],
   "metadata": {
    "collapsed": false,
    "ExecuteTime": {
     "end_time": "2023-12-06T11:21:03.219264131Z",
     "start_time": "2023-12-06T11:21:03.202732848Z"
    }
   },
   "id": "5d490892b409fa01"
  },
  {
   "cell_type": "code",
   "execution_count": 5,
   "outputs": [],
   "source": [
    "def parse_input(txt):\n",
    "    lines = txt.splitlines()\n",
    "    durations = [int(x) for x in lines[0].split()[1:]]\n",
    "    records = [int(x) for x in lines[1].split()[1:]]\n",
    "    return list(zip(durations, records))"
   ],
   "metadata": {
    "collapsed": false,
    "ExecuteTime": {
     "end_time": "2023-12-06T11:27:21.519889919Z",
     "start_time": "2023-12-06T11:27:21.513888397Z"
    }
   },
   "id": "960da609ec0a7e18"
  },
  {
   "cell_type": "code",
   "execution_count": 6,
   "outputs": [
    {
     "data": {
      "text/plain": "[(7, 9), (15, 40), (30, 200)]"
     },
     "execution_count": 6,
     "metadata": {},
     "output_type": "execute_result"
    }
   ],
   "source": [
    "parse_input(testdata)"
   ],
   "metadata": {
    "collapsed": false,
    "ExecuteTime": {
     "end_time": "2023-12-06T11:27:23.610221772Z",
     "start_time": "2023-12-06T11:27:23.604044180Z"
    }
   },
   "id": "e126ab3e5b682f6f"
  },
  {
   "cell_type": "code",
   "execution_count": 23,
   "outputs": [],
   "source": [
    "def run_races(duration):\n",
    "    L = []\n",
    "    for t in range(duration + 1):\n",
    "        L.append(t * (duration - t))\n",
    "    return L"
   ],
   "metadata": {
    "collapsed": false,
    "ExecuteTime": {
     "end_time": "2023-12-06T12:01:47.584252091Z",
     "start_time": "2023-12-06T12:01:47.579653799Z"
    }
   },
   "id": "34a284ab05c45696"
  },
  {
   "cell_type": "code",
   "execution_count": 24,
   "outputs": [
    {
     "data": {
      "text/plain": "[0, 6, 10, 12, 12, 10, 6, 0]"
     },
     "execution_count": 24,
     "metadata": {},
     "output_type": "execute_result"
    }
   ],
   "source": [
    "run_races(7)"
   ],
   "metadata": {
    "collapsed": false,
    "ExecuteTime": {
     "end_time": "2023-12-06T12:01:50.096471974Z",
     "start_time": "2023-12-06T12:01:50.089551171Z"
    }
   },
   "id": "adf39d8a960ffe41"
  },
  {
   "cell_type": "code",
   "execution_count": 25,
   "outputs": [
    {
     "data": {
      "text/plain": "[0, 14, 26, 36, 44, 50, 54, 56, 56, 54, 50, 44, 36, 26, 14, 0]"
     },
     "execution_count": 25,
     "metadata": {},
     "output_type": "execute_result"
    }
   ],
   "source": [
    "run_races(15)"
   ],
   "metadata": {
    "collapsed": false,
    "ExecuteTime": {
     "end_time": "2023-12-06T12:01:51.596215908Z",
     "start_time": "2023-12-06T12:01:51.591588336Z"
    }
   },
   "id": "c3d525b009b86816"
  },
  {
   "cell_type": "code",
   "execution_count": 28,
   "outputs": [],
   "source": [
    "def ways_to_beat(txt):\n",
    "    races = parse_input(txt)\n",
    "    wtb = 1\n",
    "    for duration, record in races:\n",
    "        wtb *= sum(1 for d in run_races(duration) if d > record)\n",
    "    return wtb"
   ],
   "metadata": {
    "collapsed": false,
    "ExecuteTime": {
     "end_time": "2023-12-06T12:02:06.274574652Z",
     "start_time": "2023-12-06T12:02:06.231725739Z"
    }
   },
   "id": "3415c7b4b5f5d4da"
  },
  {
   "cell_type": "code",
   "execution_count": 29,
   "outputs": [
    {
     "data": {
      "text/plain": "288"
     },
     "execution_count": 29,
     "metadata": {},
     "output_type": "execute_result"
    }
   ],
   "source": [
    "ways_to_beat(testdata)"
   ],
   "metadata": {
    "collapsed": false,
    "ExecuteTime": {
     "end_time": "2023-12-06T12:02:06.847660633Z",
     "start_time": "2023-12-06T12:02:06.840442398Z"
    }
   },
   "id": "3c9384c6bf9174ea"
  },
  {
   "cell_type": "code",
   "execution_count": 30,
   "outputs": [
    {
     "data": {
      "text/plain": "741000"
     },
     "execution_count": 30,
     "metadata": {},
     "output_type": "execute_result"
    }
   ],
   "source": [
    "ways_to_beat(data)"
   ],
   "metadata": {
    "collapsed": false,
    "ExecuteTime": {
     "end_time": "2023-12-06T12:02:07.396212352Z",
     "start_time": "2023-12-06T12:02:07.390649985Z"
    }
   },
   "id": "cb3035963ac5bacd"
  },
  {
   "cell_type": "markdown",
   "source": [
    "### Part 2"
   ],
   "metadata": {
    "collapsed": false
   },
   "id": "7aa78b0220689b83"
  },
  {
   "cell_type": "code",
   "execution_count": 60,
   "outputs": [],
   "source": [
    "def solve_quadratic(a, b, c):\n",
    "    d = math.sqrt(b**2 - 4 * a * c)\n",
    "    return (-b + d) / (2 * a), (-b - d) / (2 * a)"
   ],
   "metadata": {
    "collapsed": false,
    "ExecuteTime": {
     "end_time": "2023-12-06T13:12:07.998579216Z",
     "start_time": "2023-12-06T13:12:07.958148781Z"
    }
   },
   "id": "2d9070283e693866"
  },
  {
   "cell_type": "code",
   "execution_count": 66,
   "outputs": [],
   "source": [
    "def ways_to_beat_2(duration, record):\n",
    "    lo, hi = sorted(solve_quadratic(1, -duration, record))\n",
    "    tmin = math.floor(lo)\n",
    "    tmax = math.ceil(hi)\n",
    "    return tmax - tmin - 1"
   ],
   "metadata": {
    "collapsed": false,
    "ExecuteTime": {
     "end_time": "2023-12-06T13:16:17.994190903Z",
     "start_time": "2023-12-06T13:16:17.988231405Z"
    }
   },
   "id": "cc012d9bb5db4dea"
  },
  {
   "cell_type": "code",
   "execution_count": 67,
   "outputs": [
    {
     "data": {
      "text/plain": "71503"
     },
     "execution_count": 67,
     "metadata": {},
     "output_type": "execute_result"
    }
   ],
   "source": [
    "ways_to_beat_2(71530, 940200)"
   ],
   "metadata": {
    "collapsed": false,
    "ExecuteTime": {
     "end_time": "2023-12-06T13:16:20.289257198Z",
     "start_time": "2023-12-06T13:16:20.282225586Z"
    }
   },
   "id": "a4bd6a2c9f42cffe"
  },
  {
   "cell_type": "code",
   "execution_count": 68,
   "outputs": [
    {
     "data": {
      "text/plain": "38220708"
     },
     "execution_count": 68,
     "metadata": {},
     "output_type": "execute_result"
    }
   ],
   "source": [
    "ways_to_beat_2(47847467, 207139412091014)"
   ],
   "metadata": {
    "collapsed": false,
    "ExecuteTime": {
     "end_time": "2023-12-06T13:16:26.591763494Z",
     "start_time": "2023-12-06T13:16:26.587597867Z"
    }
   },
   "id": "2e26ccc159541c2"
  },
  {
   "cell_type": "code",
   "execution_count": null,
   "outputs": [],
   "source": [],
   "metadata": {
    "collapsed": false
   },
   "id": "b09533467f78f59d"
  }
 ],
 "metadata": {
  "kernelspec": {
   "display_name": "Python 3",
   "language": "python",
   "name": "python3"
  },
  "language_info": {
   "codemirror_mode": {
    "name": "ipython",
    "version": 2
   },
   "file_extension": ".py",
   "mimetype": "text/x-python",
   "name": "python",
   "nbconvert_exporter": "python",
   "pygments_lexer": "ipython2",
   "version": "2.7.6"
  }
 },
 "nbformat": 4,
 "nbformat_minor": 5
}
