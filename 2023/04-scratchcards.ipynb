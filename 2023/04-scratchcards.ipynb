{
 "cells": [
  {
   "cell_type": "markdown",
   "source": [
    "https://adventofcode.com/2023/day/4"
   ],
   "metadata": {
    "collapsed": false
   },
   "id": "c33c22fe2129aa9f"
  },
  {
   "cell_type": "code",
   "execution_count": 40,
   "outputs": [],
   "source": [
    "import re\n",
    "import math\n",
    "import numpy as np"
   ],
   "metadata": {
    "collapsed": false,
    "ExecuteTime": {
     "end_time": "2023-12-04T12:05:30.301107733Z",
     "start_time": "2023-12-04T12:05:30.257574244Z"
    }
   },
   "id": "f34e93fbef3a96fa"
  },
  {
   "cell_type": "code",
   "execution_count": 1,
   "outputs": [],
   "source": [
    "with open(\"data/04.txt\") as fh:\n",
    "    data = fh.read()"
   ],
   "metadata": {
    "collapsed": false,
    "ExecuteTime": {
     "end_time": "2023-12-04T11:15:08.937341226Z",
     "start_time": "2023-12-04T11:15:08.923019898Z"
    }
   },
   "id": "3324b8afbbbd6ebf"
  },
  {
   "cell_type": "code",
   "execution_count": 2,
   "outputs": [],
   "source": [
    "testdata = \"\"\"\\\n",
    "Card 1: 41 48 83 86 17 | 83 86  6 31 17  9 48 53\n",
    "Card 2: 13 32 20 16 61 | 61 30 68 82 17 32 24 19\n",
    "Card 3:  1 21 53 59 44 | 69 82 63 72 16 21 14  1\n",
    "Card 4: 41 92 73 84 69 | 59 84 76 51 58  5 54 83\n",
    "Card 5: 87 83 26 28 32 | 88 30 70 12 93 22 82 36\n",
    "Card 6: 31 18 13 56 72 | 74 77 10 23 35 67 36 11\n",
    "\"\"\""
   ],
   "metadata": {
    "collapsed": false,
    "ExecuteTime": {
     "end_time": "2023-12-04T11:16:03.988389917Z",
     "start_time": "2023-12-04T11:16:03.936409583Z"
    }
   },
   "id": "1e3031fddf7bc987"
  },
  {
   "cell_type": "code",
   "execution_count": 19,
   "outputs": [],
   "source": [
    "def parse_card(line):\n",
    "    ids, wns, nyhs = re.split(r\"[:|]\", line)\n",
    "    return {\n",
    "        \"id\": int(ids.split()[1]),\n",
    "        \"wn\": [int(x) for x in wns.split()],\n",
    "        \"nyh\": [int(x) for x in nyhs.split()],\n",
    "    }\n",
    "\n",
    "\n",
    "def itercards(data):\n",
    "    return (parse_card(line) for line in data.splitlines())"
   ],
   "metadata": {
    "collapsed": false,
    "ExecuteTime": {
     "end_time": "2023-12-04T11:34:57.425349560Z",
     "start_time": "2023-12-04T11:34:57.384033554Z"
    }
   },
   "id": "9f6fe848dcf6b0ff"
  },
  {
   "cell_type": "code",
   "execution_count": 24,
   "outputs": [],
   "source": [
    "def score(card):\n",
    "    matches = len(set(card[\"wn\"]).intersection(card[\"nyh\"]))\n",
    "    if matches == 0:\n",
    "        return 0\n",
    "    return int(math.pow(2, matches - 1))"
   ],
   "metadata": {
    "collapsed": false,
    "ExecuteTime": {
     "end_time": "2023-12-04T11:36:17.757841282Z",
     "start_time": "2023-12-04T11:36:17.755415435Z"
    }
   },
   "id": "9ad18c9379e94501"
  },
  {
   "cell_type": "code",
   "execution_count": 25,
   "outputs": [
    {
     "data": {
      "text/plain": "13"
     },
     "execution_count": 25,
     "metadata": {},
     "output_type": "execute_result"
    }
   ],
   "source": [
    "sum(score(x) for x in itercards(testdata))"
   ],
   "metadata": {
    "collapsed": false,
    "ExecuteTime": {
     "end_time": "2023-12-04T11:36:22.881437760Z",
     "start_time": "2023-12-04T11:36:22.877030588Z"
    }
   },
   "id": "e1144972f3d0acb4"
  },
  {
   "cell_type": "code",
   "execution_count": 26,
   "outputs": [
    {
     "data": {
      "text/plain": "21959"
     },
     "execution_count": 26,
     "metadata": {},
     "output_type": "execute_result"
    }
   ],
   "source": [
    "sum(score(x) for x in itercards(data))"
   ],
   "metadata": {
    "collapsed": false,
    "ExecuteTime": {
     "end_time": "2023-12-04T11:36:23.366538102Z",
     "start_time": "2023-12-04T11:36:23.351733731Z"
    }
   },
   "id": "ce2c5d895d5c5c06"
  },
  {
   "cell_type": "markdown",
   "source": [
    "### Part 2"
   ],
   "metadata": {
    "collapsed": false
   },
   "id": "1ee16166a7339267"
  },
  {
   "cell_type": "code",
   "execution_count": 41,
   "outputs": [],
   "source": [
    "def win_more_cards(data):\n",
    "    cards = list(itercards(data))\n",
    "    counts = np.ones(len(cards), dtype=int)\n",
    "    for i, card in enumerate(cards):\n",
    "        cardcount = counts[i]\n",
    "        matchcount = len(set(card[\"wn\"]).intersection(card[\"nyh\"]))\n",
    "        start, stop = i + 1, i + 1 + matchcount\n",
    "        counts[start:stop] += cardcount\n",
    "    return counts.sum()"
   ],
   "metadata": {
    "collapsed": false,
    "ExecuteTime": {
     "end_time": "2023-12-04T12:09:51.297057862Z",
     "start_time": "2023-12-04T12:09:51.256108723Z"
    }
   },
   "id": "1331558093a377b6"
  },
  {
   "cell_type": "code",
   "execution_count": 42,
   "outputs": [
    {
     "data": {
      "text/plain": "30"
     },
     "execution_count": 42,
     "metadata": {},
     "output_type": "execute_result"
    }
   ],
   "source": [
    "win_more_cards(testdata)"
   ],
   "metadata": {
    "collapsed": false,
    "ExecuteTime": {
     "end_time": "2023-12-04T12:09:54.375605826Z",
     "start_time": "2023-12-04T12:09:54.371754361Z"
    }
   },
   "id": "24fcd36656cd5785"
  },
  {
   "cell_type": "code",
   "execution_count": 43,
   "outputs": [
    {
     "data": {
      "text/plain": "5132675"
     },
     "execution_count": 43,
     "metadata": {},
     "output_type": "execute_result"
    }
   ],
   "source": [
    "win_more_cards(data)"
   ],
   "metadata": {
    "collapsed": false,
    "ExecuteTime": {
     "end_time": "2023-12-04T12:09:54.816425970Z",
     "start_time": "2023-12-04T12:09:54.799071083Z"
    }
   },
   "id": "6cf0bfc088049ea7"
  },
  {
   "cell_type": "code",
   "execution_count": null,
   "outputs": [],
   "source": [],
   "metadata": {
    "collapsed": false
   },
   "id": "7ad83feb503dcbbf"
  }
 ],
 "metadata": {
  "kernelspec": {
   "display_name": "Python 3",
   "language": "python",
   "name": "python3"
  },
  "language_info": {
   "codemirror_mode": {
    "name": "ipython",
    "version": 2
   },
   "file_extension": ".py",
   "mimetype": "text/x-python",
   "name": "python",
   "nbconvert_exporter": "python",
   "pygments_lexer": "ipython2",
   "version": "2.7.6"
  }
 },
 "nbformat": 4,
 "nbformat_minor": 5
}
