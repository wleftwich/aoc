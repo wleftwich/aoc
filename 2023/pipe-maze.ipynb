{
 "cells": [
  {
   "cell_type": "markdown",
   "source": [
    "https://adventofcode.com/2023/day/10"
   ],
   "metadata": {
    "collapsed": false
   },
   "id": "f4a8896df7601108"
  },
  {
   "cell_type": "code",
   "execution_count": 1,
   "outputs": [],
   "source": [
    "import math\n",
    "\n",
    "import networkx as nx"
   ],
   "metadata": {
    "collapsed": false,
    "ExecuteTime": {
     "end_time": "2023-12-11T03:32:12.000464723Z",
     "start_time": "2023-12-11T03:32:11.953933541Z"
    }
   },
   "id": "5e7b50610c5dc093"
  },
  {
   "cell_type": "code",
   "execution_count": 2,
   "outputs": [],
   "source": [
    "with open(\"data/10.txt\") as fh:\n",
    "    data = fh.read()"
   ],
   "metadata": {
    "collapsed": false,
    "ExecuteTime": {
     "end_time": "2023-12-11T03:32:12.046407427Z",
     "start_time": "2023-12-11T03:32:12.046064583Z"
    }
   },
   "id": "e0a745955f95a8b2"
  },
  {
   "cell_type": "code",
   "execution_count": 3,
   "outputs": [],
   "source": [
    "testdata = \"\"\"\\\n",
    "..F7.\n",
    ".FJ|.\n",
    "SJ.L7\n",
    "|F--J\n",
    "LJ...\n",
    "\"\"\""
   ],
   "metadata": {
    "collapsed": false,
    "ExecuteTime": {
     "end_time": "2023-12-11T03:32:12.046752869Z",
     "start_time": "2023-12-11T03:32:12.046204145Z"
    }
   },
   "id": "7da65952a43e37ca"
  },
  {
   "cell_type": "code",
   "execution_count": 4,
   "outputs": [],
   "source": [
    "def parse_input(data):\n",
    "    G = nx.Graph()\n",
    "    spos = None\n",
    "    for row, line in enumerate(data.splitlines()):\n",
    "        for col, char in enumerate(line):\n",
    "            pos = complex(col, -row)\n",
    "            if char == \"S\":\n",
    "                spos = pos\n",
    "            else:\n",
    "                G.add_node(pos, t=char)\n",
    "    return G, spos"
   ],
   "metadata": {
    "collapsed": false,
    "ExecuteTime": {
     "end_time": "2023-12-11T03:32:12.046940023Z",
     "start_time": "2023-12-11T03:32:12.046260697Z"
    }
   },
   "id": "d01cf96c9add44f6"
  },
  {
   "cell_type": "code",
   "execution_count": 5,
   "outputs": [],
   "source": [
    "pipe_join_lookup = {\n",
    "    \"|\": {1j, -1j},\n",
    "    \"-\": {1, -1},\n",
    "    \"L\": {1j, 1},\n",
    "    \"J\": {1j, -1},\n",
    "    \"7\": {-1j, -1},\n",
    "    \"F\": {-1j, 1},\n",
    "    \"S\": {1, -1, 1j, -1j},\n",
    "    \".\": set(),\n",
    "}"
   ],
   "metadata": {
    "collapsed": false,
    "ExecuteTime": {
     "end_time": "2023-12-11T03:32:12.047110901Z",
     "start_time": "2023-12-11T03:32:12.046312929Z"
    }
   },
   "id": "235e06fd7fbff8e4"
  },
  {
   "cell_type": "code",
   "execution_count": 6,
   "outputs": [],
   "source": [
    "def join_pipe_segments(G, spos):\n",
    "    for pos, atts in G.nodes(data=True):\n",
    "        tdirs = pipe_join_lookup[atts[\"t\"]]\n",
    "        for tdir in tdirs:\n",
    "            pos_2 = pos + tdir\n",
    "            if pos_2 in G:\n",
    "                t_2 = G.nodes[pos_2][\"t\"]\n",
    "                tdirs_2 = pipe_join_lookup[t_2]\n",
    "                if -tdir in tdirs_2:\n",
    "                    G.add_edge(pos, pos_2)\n",
    "    G.add_node(spos, t=\"S\")\n",
    "    for drxn in [1, -1, 1j, -1j]:\n",
    "        pos_2 = spos + drxn\n",
    "        if pos_2 in G:\n",
    "            t_2 = G.nodes[pos_2][\"t\"]\n",
    "            tdirs_2 = pipe_join_lookup[t_2]\n",
    "            if -drxn in tdirs_2:\n",
    "                G.add_edge(spos, pos_2)"
   ],
   "metadata": {
    "collapsed": false,
    "ExecuteTime": {
     "end_time": "2023-12-11T03:32:12.064448806Z",
     "start_time": "2023-12-11T03:32:12.046357406Z"
    }
   },
   "id": "f7e511a5ab1102b2"
  },
  {
   "cell_type": "code",
   "execution_count": 7,
   "outputs": [],
   "source": [
    "def half_loop(data):\n",
    "    G, spos = parse_input(data)\n",
    "    join_pipe_segments(G, spos)\n",
    "    loop = nx.find_cycle(G, spos)\n",
    "    return len(loop) // 2"
   ],
   "metadata": {
    "collapsed": false,
    "ExecuteTime": {
     "end_time": "2023-12-11T03:32:12.064739038Z",
     "start_time": "2023-12-11T03:32:12.054296140Z"
    }
   },
   "id": "43725f57b16b707f"
  },
  {
   "cell_type": "code",
   "execution_count": 8,
   "outputs": [
    {
     "data": {
      "text/plain": "8"
     },
     "execution_count": 8,
     "metadata": {},
     "output_type": "execute_result"
    }
   ],
   "source": [
    "half_loop(testdata)"
   ],
   "metadata": {
    "collapsed": false,
    "ExecuteTime": {
     "end_time": "2023-12-11T03:32:12.110488324Z",
     "start_time": "2023-12-11T03:32:12.065615604Z"
    }
   },
   "id": "13e7e5b2f272ee09"
  },
  {
   "cell_type": "code",
   "execution_count": 9,
   "outputs": [
    {
     "data": {
      "text/plain": "6875"
     },
     "execution_count": 9,
     "metadata": {},
     "output_type": "execute_result"
    }
   ],
   "source": [
    "half_loop(data)"
   ],
   "metadata": {
    "collapsed": false,
    "ExecuteTime": {
     "end_time": "2023-12-11T03:32:12.255730340Z",
     "start_time": "2023-12-11T03:32:12.110236901Z"
    }
   },
   "id": "e9d98900ae99923d"
  },
  {
   "cell_type": "markdown",
   "source": [
    "### Part 2"
   ],
   "metadata": {
    "collapsed": false
   },
   "id": "57f3247d48797e2c"
  },
  {
   "cell_type": "code",
   "execution_count": 10,
   "outputs": [],
   "source": [
    "td1 = \"\"\"\\\n",
    "...........\n",
    ".S-------7.\n",
    ".|F-----7|.\n",
    ".||.....||.\n",
    ".||.....||.\n",
    ".|L-7.F-J|.\n",
    ".|..|.|..|.\n",
    ".L--J.L--J.\n",
    "...........\n",
    "\"\"\"\n",
    "\n",
    "td2 = \"\"\"\\\n",
    ".F----7F7F7F7F-7....\n",
    ".|F--7||||||||FJ....\n",
    ".||.FJ||||||||L7....\n",
    "FJL7L7LJLJ||LJ.L-7..\n",
    "L--J.L7...LJS7F-7L7.\n",
    "....F-J..F7FJ|L7L7L7\n",
    "....L7.F7||L7|.L7L7|\n",
    ".....|FJLJ|FJ|F7|.LJ\n",
    "....FJL-7.||.||||...\n",
    "....L---J.LJ.LJLJ...\n",
    "\"\"\"\n",
    "\n",
    "td3 = \"\"\"\\\n",
    "FF7FSF7F7F7F7F7F---7\n",
    "L|LJ||||||||||||F--J\n",
    "FL-7LJLJ||||||LJL-77\n",
    "F--JF--7||LJLJ7F7FJ-\n",
    "L---JF-JLJ.||-FJLJJ7\n",
    "|F|F-JF---7F7-L7L|7|\n",
    "|FFJF7L7F-JF7|JL---7\n",
    "7-L-JL7||F7|L7F-7F7|\n",
    "L.L7LFJ|||||FJL7||LJ\n",
    "L7JLJL-JLJLJL--JLJ.L\"\"\""
   ],
   "metadata": {
    "collapsed": false,
    "ExecuteTime": {
     "end_time": "2023-12-11T03:32:12.298389312Z",
     "start_time": "2023-12-11T03:32:12.256336870Z"
    }
   },
   "id": "ded05ad44b6b9f25"
  },
  {
   "cell_type": "code",
   "execution_count": 11,
   "outputs": [],
   "source": [
    "def count_inside_tiles(data):\n",
    "    G, spos = parse_input(data)\n",
    "    join_pipe_segments(G, spos)\n",
    "    loop = nx.find_cycle(G, spos)\n",
    "\n",
    "    node_next = {}\n",
    "    node_prev = {}\n",
    "    for a, b in loop:\n",
    "        node_next[a] = b\n",
    "        node_prev[b] = a\n",
    "\n",
    "    for node, nxt in node_next.items():\n",
    "        prv = node_prev[node]\n",
    "        set_directions(G, node, nxt, prv)\n",
    "    \n",
    "    inside_rotator = get_inside_rotator(G, node_next)\n",
    "    \n",
    "    for node in node_next:\n",
    "        mark_loop_node_neighbors(G, node, inside_rotator)\n",
    "    \n",
    "    connect_components(G)\n",
    "    inside_count = 0\n",
    "    for cc in nx.connected_components(G):\n",
    "        for node in cc:\n",
    "            if G.nodes[node].get(\"inside\"):\n",
    "                inside_count += len(cc)\n",
    "                break \n",
    "    return inside_count\n",
    "\n",
    "\n",
    "def connect_components(G):\n",
    "    # connect up all nodes without crossing loop\n",
    "    for node in G:\n",
    "        node_d = G.nodes.get(node)\n",
    "        if node is None:\n",
    "            continue\n",
    "        if node_d.get(\"onloop\"):\n",
    "            continue\n",
    "        for d in [1, 0 + 1j, -1, 0 - 1j]:\n",
    "            nabe = node + d\n",
    "            if nabe not in G:\n",
    "                continue\n",
    "            nabe_d = G.nodes[nabe]\n",
    "            if nabe_d.get(\"onloop\"):\n",
    "                continue\n",
    "            G.add_edge(node, nabe)\n",
    "\n",
    "\n",
    "def mark_loop_node_neighbors(G, node, inside_rotator):\n",
    "    node_d = G.nodes[node]\n",
    "    inside_drxns = {node_d[\"drxn\"] * inside_rotator, node_d[\"prev_drxn\"] * inside_rotator}\n",
    "    for d in [1, 0 + 1j, -1, 0 - 1j]:\n",
    "        nabe = node + d\n",
    "        if nabe not in G:\n",
    "            continue\n",
    "        nabe_d = G.nodes[nabe]\n",
    "        if nabe_d.get(\"onloop\"):\n",
    "            continue\n",
    "        if d in inside_drxns:\n",
    "            nabe_d[\"inside\"] = True\n",
    "            \n",
    "\n",
    "def get_inside_rotator(G, node_next):    \n",
    "    leftmost = math.inf + 0j\n",
    "    for node in node_next:\n",
    "            if node.real < leftmost.real:\n",
    "                leftmost = node\n",
    "    leftmost_d = G.nodes[leftmost]\n",
    "    leftmost_drxns = leftmost_d[\"drxn\"], leftmost_d[\"prev_drxn\"]\n",
    "    if 1j in leftmost_drxns:\n",
    "        inside_rotator = 0-1j\n",
    "    elif -1j in leftmost_drxns:\n",
    "        inside_rotator = 0+1j\n",
    "    else:\n",
    "        raise ValueError(\"Can't happen\")\n",
    "    return inside_rotator\n",
    "    \n",
    "\n",
    "def set_directions(G, node, nxt, prv):\n",
    "    D = G.nodes[node]\n",
    "    D[\"onloop\"] = True\n",
    "    D[\"drxn\"] = nxt - node\n",
    "    D[\"prev_drxn\"] = node - prv    "
   ],
   "metadata": {
    "collapsed": false,
    "ExecuteTime": {
     "end_time": "2023-12-11T03:32:12.298726847Z",
     "start_time": "2023-12-11T03:32:12.298187138Z"
    }
   },
   "id": "cf2f16982950db0f"
  },
  {
   "cell_type": "code",
   "execution_count": 12,
   "outputs": [
    {
     "data": {
      "text/plain": "4"
     },
     "execution_count": 12,
     "metadata": {},
     "output_type": "execute_result"
    }
   ],
   "source": [
    "count_inside_tiles(td1)"
   ],
   "metadata": {
    "collapsed": false,
    "ExecuteTime": {
     "end_time": "2023-12-11T03:32:12.342444389Z",
     "start_time": "2023-12-11T03:32:12.298313103Z"
    }
   },
   "id": "bb6439b7c9f5d88f"
  },
  {
   "cell_type": "code",
   "execution_count": 13,
   "outputs": [
    {
     "data": {
      "text/plain": "8"
     },
     "execution_count": 13,
     "metadata": {},
     "output_type": "execute_result"
    }
   ],
   "source": [
    "count_inside_tiles(td2)"
   ],
   "metadata": {
    "collapsed": false,
    "ExecuteTime": {
     "end_time": "2023-12-11T03:32:12.342843194Z",
     "start_time": "2023-12-11T03:32:12.342249900Z"
    }
   },
   "id": "b18e7c0c439123ea"
  },
  {
   "cell_type": "code",
   "execution_count": 14,
   "outputs": [
    {
     "data": {
      "text/plain": "10"
     },
     "execution_count": 14,
     "metadata": {},
     "output_type": "execute_result"
    }
   ],
   "source": [
    "count_inside_tiles(td3)"
   ],
   "metadata": {
    "collapsed": false,
    "ExecuteTime": {
     "end_time": "2023-12-11T03:32:12.343073245Z",
     "start_time": "2023-12-11T03:32:12.342371060Z"
    }
   },
   "id": "91a60318492fa9ef"
  },
  {
   "cell_type": "code",
   "execution_count": 15,
   "outputs": [
    {
     "data": {
      "text/plain": "471"
     },
     "execution_count": 15,
     "metadata": {},
     "output_type": "execute_result"
    }
   ],
   "source": [
    "count_inside_tiles(data)"
   ],
   "metadata": {
    "collapsed": false,
    "ExecuteTime": {
     "end_time": "2023-12-11T03:32:12.588887100Z",
     "start_time": "2023-12-11T03:32:12.342432459Z"
    }
   },
   "id": "b2100f3908932dad"
  },
  {
   "cell_type": "code",
   "execution_count": 15,
   "outputs": [],
   "source": [],
   "metadata": {
    "collapsed": false,
    "ExecuteTime": {
     "end_time": "2023-12-11T03:32:12.634635657Z",
     "start_time": "2023-12-11T03:32:12.590516227Z"
    }
   },
   "id": "586fdc64455e9f3e"
  }
 ],
 "metadata": {
  "kernelspec": {
   "display_name": "Python 3",
   "language": "python",
   "name": "python3"
  },
  "language_info": {
   "codemirror_mode": {
    "name": "ipython",
    "version": 2
   },
   "file_extension": ".py",
   "mimetype": "text/x-python",
   "name": "python",
   "nbconvert_exporter": "python",
   "pygments_lexer": "ipython2",
   "version": "2.7.6"
  }
 },
 "nbformat": 4,
 "nbformat_minor": 5
}
