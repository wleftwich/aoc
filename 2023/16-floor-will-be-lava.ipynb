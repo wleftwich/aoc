{
 "cells": [
  {
   "cell_type": "markdown",
   "source": [
    "https://adventofcode.com/2023/day/16"
   ],
   "metadata": {
    "collapsed": false
   },
   "id": "dd5c2967676ad832"
  },
  {
   "cell_type": "code",
   "execution_count": 1,
   "outputs": [],
   "source": [
    "with open(\"data/16.txt\") as fh:\n",
    "    data = fh.read()"
   ],
   "metadata": {
    "collapsed": false,
    "ExecuteTime": {
     "end_time": "2023-12-16T16:45:22.299254489Z",
     "start_time": "2023-12-16T16:45:22.295793346Z"
    }
   },
   "id": "f4025df5bcaf6ffe"
  },
  {
   "cell_type": "code",
   "execution_count": 2,
   "outputs": [],
   "source": [
    "testdata = r\"\"\".|...\\....\n",
    "|.-.\\.....\n",
    ".....|-...\n",
    "........|.\n",
    "..........\n",
    ".........\\\n",
    "..../.\\\\..\n",
    ".-.-/..|..\n",
    ".|....-|.\\\n",
    "..//.|....\n",
    "\"\"\""
   ],
   "metadata": {
    "collapsed": false,
    "ExecuteTime": {
     "end_time": "2023-12-16T16:45:22.327479589Z",
     "start_time": "2023-12-16T16:45:22.299158353Z"
    }
   },
   "id": "6e65bae0fe0f67d5"
  },
  {
   "cell_type": "code",
   "execution_count": 3,
   "outputs": [],
   "source": [
    "def parse_puzzle(puzzle):\n",
    "    D = {}\n",
    "    for r, line in enumerate(puzzle.splitlines()):\n",
    "        for c, char in enumerate(line):\n",
    "            D[c - r * 1j] = char\n",
    "    return D"
   ],
   "metadata": {
    "collapsed": false,
    "ExecuteTime": {
     "end_time": "2023-12-16T16:45:22.327691442Z",
     "start_time": "2023-12-16T16:45:22.326404822Z"
    }
   },
   "id": "cd95490224e2329c"
  },
  {
   "cell_type": "code",
   "execution_count": 4,
   "outputs": [],
   "source": [
    "class Beam:\n",
    "    def __init__(\n",
    "        self,\n",
    "        position: complex,\n",
    "        direction: complex,\n",
    "        grid: dict[complex],\n",
    "        energized: set[complex],\n",
    "        all_beams: list[complex],\n",
    "        visited: set[complex],\n",
    "    ) -> None:\n",
    "        self.position = position\n",
    "        self.direction = direction\n",
    "        self.grid = grid\n",
    "        self.energized = energized\n",
    "        self.all_beams = all_beams\n",
    "        self.visited = visited\n",
    "        self.onthegrid = True\n",
    "        self.cycled = False\n",
    "\n",
    "        self.all_beams.append(self)\n",
    "        self.land()\n",
    "\n",
    "    def step(self):\n",
    "        if not self.onthegrid:\n",
    "            return\n",
    "        self.position = self.position + self.direction\n",
    "        self.land()\n",
    "\n",
    "    def land(self):\n",
    "        if self.position not in self.grid:\n",
    "            self.onthegrid = False\n",
    "            return\n",
    "        mirror = self.grid[self.position]\n",
    "        drxn = self.direction\n",
    "        if mirror == \"/\":\n",
    "            self.direction = {1: 1j, 1j: 1, -1: -1j, -1j: -1}[drxn]\n",
    "        elif mirror == \"\\\\\":\n",
    "            self.direction = {1: -1j, 1j: -1, -1: 1j, -1j: 1}[drxn]\n",
    "        elif (mirror == \"|\" and drxn in (1, -1)) or (\n",
    "            mirror == \"-\" and drxn in (1j, -1j)\n",
    "        ):\n",
    "            _ = Beam(\n",
    "                position=self.position,\n",
    "                direction=self.direction * 1j,\n",
    "                grid=self.grid,\n",
    "                energized=self.energized,\n",
    "                all_beams=self.all_beams,\n",
    "                visited=self.visited,\n",
    "            )\n",
    "            self.direction = self.direction * -1j\n",
    "        if (self.position, self.direction) in self.visited:\n",
    "            self.cycled = True\n",
    "            self.onthegrid = False\n",
    "        self.energized.add(self.position)\n",
    "        self.visited.add((self.position, self.direction))\n",
    "\n",
    "    def __repr__(self):\n",
    "        return f\"Beam(position={self.position}, direction={self.direction})\""
   ],
   "metadata": {
    "collapsed": false,
    "ExecuteTime": {
     "end_time": "2023-12-16T16:45:22.401677314Z",
     "start_time": "2023-12-16T16:45:22.330478932Z"
    }
   },
   "id": "183e8d1d9b857834"
  },
  {
   "cell_type": "code",
   "execution_count": 5,
   "outputs": [],
   "source": [
    "def energize_tiles(data, max_steps=1000):\n",
    "    grid = parse_puzzle(data)\n",
    "    return energize_grid(grid, max_steps=max_steps)\n",
    "\n",
    "\n",
    "def energize_grid(grid, startpos=0, startdrxn=1, max_steps=1000):\n",
    "    energized = set()\n",
    "    all_beams = []\n",
    "    visited = set()\n",
    "    _ = Beam(\n",
    "        position=startpos,\n",
    "        direction=startdrxn,\n",
    "        grid=grid,\n",
    "        energized=energized,\n",
    "        all_beams=all_beams,\n",
    "        visited=visited,\n",
    "    )\n",
    "\n",
    "    for _ in range(max_steps):\n",
    "        if not all_beams:\n",
    "            break\n",
    "        for b in all_beams[:]:\n",
    "            b.step()\n",
    "            if not b.onthegrid:\n",
    "                all_beams.remove(b)\n",
    "    else:\n",
    "        raise ValueError(\"incomplete\")\n",
    "    return len(energized)"
   ],
   "metadata": {
    "collapsed": false,
    "ExecuteTime": {
     "end_time": "2023-12-16T16:45:22.407951068Z",
     "start_time": "2023-12-16T16:45:22.374621928Z"
    }
   },
   "id": "d31bb9e78401dfe7"
  },
  {
   "cell_type": "code",
   "execution_count": 6,
   "outputs": [
    {
     "name": "stdout",
     "output_type": "stream",
     "text": [
      "CPU times: user 71 µs, sys: 11 µs, total: 82 µs\n",
      "Wall time: 84.2 µs\n"
     ]
    },
    {
     "data": {
      "text/plain": "46"
     },
     "execution_count": 6,
     "metadata": {},
     "output_type": "execute_result"
    }
   ],
   "source": [
    "%time energize_tiles(testdata)"
   ],
   "metadata": {
    "collapsed": false,
    "ExecuteTime": {
     "end_time": "2023-12-16T16:45:22.408193899Z",
     "start_time": "2023-12-16T16:45:22.374671278Z"
    }
   },
   "id": "5d5f6c0015f35ef8"
  },
  {
   "cell_type": "code",
   "execution_count": 7,
   "outputs": [
    {
     "name": "stdout",
     "output_type": "stream",
     "text": [
      "CPU times: user 8.56 ms, sys: 105 µs, total: 8.67 ms\n",
      "Wall time: 8.63 ms\n"
     ]
    },
    {
     "data": {
      "text/plain": "7728"
     },
     "execution_count": 7,
     "metadata": {},
     "output_type": "execute_result"
    }
   ],
   "source": [
    "%time energize_tiles(data)"
   ],
   "metadata": {
    "collapsed": false,
    "ExecuteTime": {
     "end_time": "2023-12-16T16:45:22.408494529Z",
     "start_time": "2023-12-16T16:45:22.375951023Z"
    }
   },
   "id": "3f6a103c523688b2"
  },
  {
   "cell_type": "markdown",
   "source": [
    "### Part 2"
   ],
   "metadata": {
    "collapsed": false
   },
   "id": "8f320c596711ec55"
  },
  {
   "cell_type": "code",
   "execution_count": 8,
   "outputs": [],
   "source": [
    "def parse_puzzle_2(puzzle):\n",
    "    D = {}\n",
    "    for r, line in enumerate(puzzle.splitlines()):\n",
    "        for c, char in enumerate(line):\n",
    "            D[c - r * 1j] = char\n",
    "    return D, r + 1, c + 1"
   ],
   "metadata": {
    "collapsed": false,
    "ExecuteTime": {
     "end_time": "2023-12-16T16:45:22.411016374Z",
     "start_time": "2023-12-16T16:45:22.396965739Z"
    }
   },
   "id": "203cd379aa4661e7"
  },
  {
   "cell_type": "code",
   "execution_count": 9,
   "outputs": [],
   "source": [
    "def max_energize_tiles(puzzle):\n",
    "    grid, rowcount, colcount = parse_puzzle_2(puzzle)\n",
    "    max_energized = 0\n",
    "\n",
    "    maxrow = rowcount - 1\n",
    "    maxcol = colcount - 1\n",
    "\n",
    "    for r in range(rowcount):\n",
    "        startpos = 0 - 1j * r\n",
    "        startdrxn = 1\n",
    "        max_energized = max(\n",
    "            max_energized, energize_grid(grid, startpos=startpos, startdrxn=startdrxn)\n",
    "        )\n",
    "        startpos = maxcol - 1j * r\n",
    "        startdrxn = -1\n",
    "        max_energized = max(\n",
    "            max_energized, energize_grid(grid, startpos=startpos, startdrxn=startdrxn)\n",
    "        )\n",
    "\n",
    "    for c in range(colcount):\n",
    "        startpos = c\n",
    "        startdrxn = -1j\n",
    "        max_energized = max(\n",
    "            max_energized, energize_grid(grid, startpos=startpos, startdrxn=startdrxn)\n",
    "        )\n",
    "        startpos = c - maxrow * 1j\n",
    "        startdrxn = 1j\n",
    "        max_energized = max(\n",
    "            max_energized, energize_grid(grid, startpos=startpos, startdrxn=startdrxn)\n",
    "        )\n",
    "\n",
    "    return max_energized"
   ],
   "metadata": {
    "collapsed": false,
    "ExecuteTime": {
     "end_time": "2023-12-16T16:45:22.474894448Z",
     "start_time": "2023-12-16T16:45:22.409664537Z"
    }
   },
   "id": "8ce10b72bcd3e25e"
  },
  {
   "cell_type": "code",
   "execution_count": 10,
   "outputs": [
    {
     "name": "stdout",
     "output_type": "stream",
     "text": [
      "CPU times: user 921 µs, sys: 0 ns, total: 921 µs\n",
      "Wall time: 923 µs\n"
     ]
    },
    {
     "data": {
      "text/plain": "51"
     },
     "execution_count": 10,
     "metadata": {},
     "output_type": "execute_result"
    }
   ],
   "source": [
    "%time max_energize_tiles(testdata)"
   ],
   "metadata": {
    "collapsed": false,
    "ExecuteTime": {
     "end_time": "2023-12-16T16:45:22.475154400Z",
     "start_time": "2023-12-16T16:45:22.450785231Z"
    }
   },
   "id": "65eef551329efdf7"
  },
  {
   "cell_type": "code",
   "execution_count": 11,
   "outputs": [
    {
     "name": "stdout",
     "output_type": "stream",
     "text": [
      "CPU times: user 1.35 s, sys: 1.43 ms, total: 1.36 s\n",
      "Wall time: 1.35 s\n"
     ]
    },
    {
     "data": {
      "text/plain": "8061"
     },
     "execution_count": 11,
     "metadata": {},
     "output_type": "execute_result"
    }
   ],
   "source": [
    "%time max_energize_tiles(data)"
   ],
   "metadata": {
    "collapsed": false,
    "ExecuteTime": {
     "end_time": "2023-12-16T16:45:23.810730725Z",
     "start_time": "2023-12-16T16:45:22.450861237Z"
    }
   },
   "id": "7526616654744958"
  }
 ],
 "metadata": {
  "kernelspec": {
   "display_name": "Python 3",
   "language": "python",
   "name": "python3"
  },
  "language_info": {
   "codemirror_mode": {
    "name": "ipython",
    "version": 2
   },
   "file_extension": ".py",
   "mimetype": "text/x-python",
   "name": "python",
   "nbconvert_exporter": "python",
   "pygments_lexer": "ipython2",
   "version": "2.7.6"
  }
 },
 "nbformat": 4,
 "nbformat_minor": 5
}
