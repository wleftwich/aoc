{
 "cells": [
  {
   "cell_type": "markdown",
   "metadata": {},
   "source": [
    "https://adventofcode.com/2021/day/6"
   ]
  },
  {
   "cell_type": "code",
   "execution_count": 2,
   "metadata": {},
   "outputs": [
    {
     "name": "stdout",
     "output_type": "stream",
     "text": [
      "393019\n",
      "1757714216975\n",
      "CPU times: user 792 µs, sys: 125 µs, total: 917 µs\n",
      "Wall time: 586 µs\n"
     ]
    }
   ],
   "source": [
    "%%time\n",
    "\n",
    "with open('data/06.txt') as fh:\n",
    "    data = fh.read().strip()\n",
    "\n",
    "fish = [int(x) for x in data.split(',')]\n",
    "\n",
    "def daily(school):\n",
    "    spawn = school[0]\n",
    "    school[:8] = school[1:]\n",
    "    school[8] = spawn\n",
    "    school[6] += spawn\n",
    "\n",
    "school = [0] * 9\n",
    "for i in fish:\n",
    "    school[i] += 1\n",
    "for _ in range(80):\n",
    "    daily(school)\n",
    "part_1 = sum(school)\n",
    "print(part_1)\n",
    "\n",
    "school = [0] * 9\n",
    "for i in fish:\n",
    "    school[i] += 1\n",
    "for _ in range(256):\n",
    "    daily(school)\n",
    "part_2 = sum(school)\n",
    "print(part_2)"
   ]
  }
 ],
 "metadata": {
  "hide_input": false,
  "kernelspec": {
   "display_name": "Python 3",
   "language": "python",
   "name": "python3"
  },
  "language_info": {
   "codemirror_mode": {
    "name": "ipython",
    "version": 3
   },
   "file_extension": ".py",
   "mimetype": "text/x-python",
   "name": "python",
   "nbconvert_exporter": "python",
   "pygments_lexer": "ipython3",
   "version": "3.8.5"
  }
 },
 "nbformat": 4,
 "nbformat_minor": 4
}
