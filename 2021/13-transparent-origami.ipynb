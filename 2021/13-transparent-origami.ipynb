{
 "cells": [
  {
   "cell_type": "markdown",
   "metadata": {},
   "source": [
    "https://adventofcode.com/2021/day/13"
   ]
  },
  {
   "cell_type": "code",
   "execution_count": 37,
   "metadata": {},
   "outputs": [
    {
     "name": "stdout",
     "output_type": "stream",
     "text": [
      "810\n",
      "#  # #    ###  #  # ###   ##  #### ### \n",
      "#  # #    #  # #  # #  # #  # #    #  #\n",
      "#### #    ###  #  # ###  #    ###  #  #\n",
      "#  # #    #  # #  # #  # # ## #    ### \n",
      "#  # #    #  # #  # #  # #  # #    # # \n",
      "#  # #### ###   ##  ###   ### #    #  #\n"
     ]
    }
   ],
   "source": [
    "with open('data/13.txt') as fh:\n",
    "    data = fh.read()\n",
    "\n",
    "def load_data(data):\n",
    "    pt_str, inst_str = data.split('\\n\\n')\n",
    "    pts = [(int(x), int(y)) for (x, y) in (l.split(',') for l in pt_str.split())]\n",
    "    insts = [(a, int(v)) for (a, v) in (s.split('=') for s in inst_str.split() if '=' in s)]\n",
    "    return (pts, insts)\n",
    "\n",
    "points, instructions = load_data(data)\n",
    "\n",
    "def fold(points, instruction):\n",
    "    axisname, foldline = instruction\n",
    "    axis = 0 if axisname == 'x' else 1\n",
    "    S = set()\n",
    "    for p in points:\n",
    "        q = [None, None]\n",
    "        q[axis] = 2 * foldline - p[axis] if p[axis] > foldline else p[axis]\n",
    "        q[1-axis] = p[1-axis]\n",
    "        S.add(tuple(q))\n",
    "    return S\n",
    "\n",
    "# Part 1\n",
    "\n",
    "folded = fold(points, instructions[0])\n",
    "print(len(folded))\n",
    "\n",
    "# Part 2\n",
    "\n",
    "def printpoints(pts):\n",
    "    xmax = max(x for (x, y) in pts)\n",
    "    ymax = max(y for (x, y) in pts)\n",
    "    for y in range(ymax+1):\n",
    "        print(''.join('#' if (x, y) in pts else ' ' for x in range(xmax+1)))\n",
    "\n",
    "folded = points.copy()\n",
    "for inst in instructions:\n",
    "    folded = fold(folded, inst)\n",
    "\n",
    "printpoints(folded)"
   ]
  }
 ],
 "metadata": {
  "hide_input": false,
  "kernelspec": {
   "display_name": "Python 3",
   "language": "python",
   "name": "python3"
  },
  "language_info": {
   "codemirror_mode": {
    "name": "ipython",
    "version": 3
   },
   "file_extension": ".py",
   "mimetype": "text/x-python",
   "name": "python",
   "nbconvert_exporter": "python",
   "pygments_lexer": "ipython3",
   "version": "3.8.5"
  }
 },
 "nbformat": 4,
 "nbformat_minor": 4
}
