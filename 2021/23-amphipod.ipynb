{
 "cells": [
  {
   "cell_type": "markdown",
   "metadata": {},
   "source": [
    "https://adventofcode.com/2021/day/23"
   ]
  },
  {
   "cell_type": "markdown",
   "metadata": {},
   "source": [
    "Not very good. Should have tried just using a list of chars as data structure, forget about classes to model amphipods, halls, and rooms."
   ]
  },
  {
   "cell_type": "code",
   "execution_count": 1,
   "metadata": {},
   "outputs": [],
   "source": [
    "from dataclasses import dataclass\n",
    "from heapq import heappush, heappop\n",
    "from collections import deque\n",
    "\n",
    "from toolz import partition"
   ]
  },
  {
   "cell_type": "code",
   "execution_count": 2,
   "metadata": {},
   "outputs": [],
   "source": [
    "data = \"\"\"\\\n",
    "#############\n",
    "#...........#\n",
    "###D#B#A#C###\n",
    "  #C#A#D#B#\n",
    "  #########\n",
    "\"\"\"\n",
    "\n",
    "datastate = '.......DCBAADCB'\n"
   ]
  },
  {
   "cell_type": "code",
   "execution_count": 3,
   "metadata": {},
   "outputs": [],
   "source": [
    "testdata = \"\"\"\\\n",
    "#############\n",
    "#...........#\n",
    "###B#C#B#D###\n",
    "  #A#D#C#A#\n",
    "  #########\n",
    "\"\"\"\n",
    "\n",
    "teststate = '.......BACDBCDA'"
   ]
  },
  {
   "cell_type": "code",
   "execution_count": 4,
   "metadata": {},
   "outputs": [],
   "source": [
    "finalstate = '.......AABBCCDD'"
   ]
  },
  {
   "cell_type": "code",
   "execution_count": 17,
   "metadata": {},
   "outputs": [],
   "source": [
    "amphipod_energy = {'A': 1, 'B': 10, 'C': 100, 'D': 1000}\n",
    "\n",
    "class Amphipod:\n",
    "    def __init__(self, label, node=None):\n",
    "        self.label = label\n",
    "        self.energy = amphipod_energy[label]\n",
    "        self.node = node\n",
    "        \n",
    "    def __repr__(self):\n",
    "        return '<A ' + self.label + ' ' + str(self.node) + ' >'\n",
    "\n",
    "    def canstart(self, blockers=None):\n",
    "        blockers = blockers or set()\n",
    "        \n",
    "        if not any(x for x, _ in self.node.neighbors if x not in blockers and x.canreceive(self)):\n",
    "            return False\n",
    "        \n",
    "        if isinstance(self.node, Hall):\n",
    "            # Can't start without clear path to home\n",
    "            for node in self.node.iter_reachable():\n",
    "                if node.label == self.label:\n",
    "                    return node.canreceive(self)\n",
    "        \n",
    "        # node is a Room\n",
    "        return self.node.cangive() and self.node.stack[-1] is self\n",
    "        \n",
    "    \n",
    "    "
   ]
  },
  {
   "cell_type": "code",
   "execution_count": 77,
   "metadata": {},
   "outputs": [],
   "source": [
    "class Hall:\n",
    "    def __init__(self):\n",
    "        self.label = '.'\n",
    "        self.neighbors = [] \n",
    "        self.occupant = None\n",
    "        \n",
    "    def getstate(self):\n",
    "        return '.' if self.occupant is None else self.occupant.label\n",
    "    \n",
    "    def give(self):\n",
    "        occupant = self.occupant\n",
    "        if occupant is None:\n",
    "            raise IndexError('Hall node is unoccupied: %s' % self)\n",
    "        self.occupant = None\n",
    "        return (occupant, 0)\n",
    "\n",
    "    def receive(self, ap):\n",
    "        if self.occupant is not None:\n",
    "            raise IndexError('Hall node is already occupied: %s' % self)\n",
    "        self.occupant = ap\n",
    "        return 0\n",
    "    \n",
    "    def canreceive(self, ap):\n",
    "        return self.occupant is None\n",
    "\n",
    "    def iter_reachable(self, blockers=None, visited=None):\n",
    "        if visited is None:\n",
    "            visited = set()\n",
    "        if blockers is None:\n",
    "            blockers = set()\n",
    "        for nabe, weight in self.neighbors:\n",
    "            if nabe in visited:\n",
    "                continue\n",
    "            if nabe in blockers:\n",
    "                continue\n",
    "            visited.add(nabe)\n",
    "            yield nabe\n",
    "            yield from nabe.iter_reachable(blockers=blockers, visited=visited)\n",
    "    \n",
    "    def __repr__(self):\n",
    "        return '<H>'\n",
    "    \n",
    "    \n",
    "class Room:\n",
    "    def __init__(self, label, size=2):\n",
    "        self.label = label\n",
    "        self.size = size\n",
    "        self.stack = []\n",
    "        self.neighbors = []\n",
    "    \n",
    "    def getstate(self):\n",
    "        return ''.join(ap.label for ap in self.stack)[::-1].rjust(self.size, '.')\n",
    "    \n",
    "    def give(self):\n",
    "        if not self.stack:\n",
    "            raise IndexError('Room node has empty stack: %s' % self)\n",
    "        extrasteps = self.size - len(self.stack)\n",
    "        return self.stack.pop(), extrasteps\n",
    "    \n",
    "    def receive(self, ap):\n",
    "        if len(self.stack) == self.size:\n",
    "            raise IndexError('Room node has full stack: %s' % self)\n",
    "        self.stack.append(ap)\n",
    "        return self.size - len(self.stack)\n",
    "        \n",
    "    def cangive(self):\n",
    "        return any(x for x in self.stack if x.label != self.label)\n",
    "    \n",
    "    def canreceive(self, ap):\n",
    "        return (self.label == ap.label\n",
    "                and len(self.stack) < self.size\n",
    "                and not any(x for x in self.stack if x.label != self.label))\n",
    "    \n",
    "    def iter_reachable(self, *args, **kwargs):\n",
    "        return iter([])\n",
    "    \n",
    "    def __repr__(self):\n",
    "        return '<R ' + self.label + ' ' + str(self.stack) + '>'"
   ]
  },
  {
   "cell_type": "code",
   "execution_count": 7,
   "metadata": {},
   "outputs": [],
   "source": [
    "def construct_burrow(roomsize=2):\n",
    "    hallway = [Hall() for i in range(7)]\n",
    "    for (i1, i2) in [(0, 1), (5, 6)]:\n",
    "        hallway[i1].neighbors.append((hallway[i2], 1))\n",
    "        hallway[i2].neighbors.append((hallway[i1], 1))\n",
    "    for (i1, i2) in [(1, 2), (2, 3), (3, 4), (4, 5)]:\n",
    "        hallway[i1].neighbors.append((hallway[i2], 2))\n",
    "        hallway[i2].neighbors.append((hallway[i1], 2))\n",
    "    \n",
    "    rooms = []\n",
    "    for label, pos in [('A', 1), ('B', 2), ('C', 3), ('D', 4)]:\n",
    "        rs = Room(label=label, size=roomsize)\n",
    "        rooms.append(rs)\n",
    "        hallway[pos].neighbors.append((rs, 2))\n",
    "        rs.neighbors.append((hallway[pos], 2))\n",
    "        hallway[pos+1].neighbors.append((rs, 2))\n",
    "        rs.neighbors.append((hallway[pos+1], 2))\n",
    "    \n",
    "    return hallway + rooms"
   ]
  },
  {
   "cell_type": "code",
   "execution_count": 8,
   "metadata": {},
   "outputs": [],
   "source": [
    "def getstate(burrow):\n",
    "    return ''.join(x.getstate() for x in burrow)"
   ]
  },
  {
   "cell_type": "code",
   "execution_count": 69,
   "metadata": {},
   "outputs": [],
   "source": [
    "def setstate(burrow, state):\n",
    "    aps = []\n",
    "\n",
    "    for c, hall in zip(state[:7], burrow[:7]):\n",
    "        if c == '.':\n",
    "            hall.occupant = None\n",
    "        else:\n",
    "            ap = Amphipod(label=c, node=hall)\n",
    "            hall.occupant = ap\n",
    "            aps.append(ap)\n",
    "\n",
    "    roomstr = state[7:]\n",
    "    roomsize = len(roomstr) // 4\n",
    "    for s, room in zip((''.join(x) for x in partition(roomsize, roomstr)), burrow[7:]):\n",
    "        room.stack = []\n",
    "        for aplabel in s[::-1]:\n",
    "            if aplabel != '.':\n",
    "                ap = Amphipod(label=aplabel, node=room)\n",
    "                room.stack.append(ap)\n",
    "                aps.append(ap)\n",
    "\n",
    "        \n",
    "    return aps"
   ]
  },
  {
   "cell_type": "code",
   "execution_count": 42,
   "metadata": {},
   "outputs": [],
   "source": [
    "burrow = construct_burrow(roomsize=2)"
   ]
  },
  {
   "cell_type": "code",
   "execution_count": 43,
   "metadata": {},
   "outputs": [
    {
     "data": {
      "text/plain": [
       "[<H>, <H>, <H>, <H>, <H>, <H>, <H>, <R A []>, <R B []>, <R C []>, <R D []>]"
      ]
     },
     "execution_count": 43,
     "metadata": {},
     "output_type": "execute_result"
    }
   ],
   "source": [
    "burrow"
   ]
  },
  {
   "cell_type": "code",
   "execution_count": 44,
   "metadata": {},
   "outputs": [],
   "source": [
    "aps = setstate(burrow, teststate)"
   ]
  },
  {
   "cell_type": "code",
   "execution_count": 45,
   "metadata": {},
   "outputs": [
    {
     "data": {
      "text/plain": [
       "'.......BACDBCDA'"
      ]
     },
     "execution_count": 45,
     "metadata": {},
     "output_type": "execute_result"
    }
   ],
   "source": [
    "getstate(burrow)"
   ]
  },
  {
   "cell_type": "code",
   "execution_count": 46,
   "metadata": {},
   "outputs": [
    {
     "data": {
      "text/plain": [
       "[<H>,\n",
       " <H>,\n",
       " <H>,\n",
       " <H>,\n",
       " <H>,\n",
       " <H>,\n",
       " <H>,\n",
       " <R A [<A A <R A [...]> >, <A B <R A [...]> >]>,\n",
       " <R B [<A D <R B [...]> >, <A C <R B [...]> >]>,\n",
       " <R C [<A C <R C [...]> >, <A B <R C [...]> >]>,\n",
       " <R D [<A A <R D [...]> >, <A D <R D [...]> >]>]"
      ]
     },
     "execution_count": 46,
     "metadata": {},
     "output_type": "execute_result"
    }
   ],
   "source": [
    "burrow"
   ]
  },
  {
   "cell_type": "code",
   "execution_count": 47,
   "metadata": {},
   "outputs": [
    {
     "data": {
      "text/plain": [
       "[<A A <R D [<A A <R D [...]> >, <A D <R D [...]> >]> >,\n",
       " <A D <R D [<A A <R D [...]> >, <A D <R D [...]> >]> >]"
      ]
     },
     "execution_count": 47,
     "metadata": {},
     "output_type": "execute_result"
    }
   ],
   "source": [
    "burrow[-1].stack"
   ]
  },
  {
   "cell_type": "code",
   "execution_count": 50,
   "metadata": {},
   "outputs": [
    {
     "data": {
      "text/plain": [
       "(<A D <R D [<A A <R D [...]> >]> >, 0)"
      ]
     },
     "execution_count": 50,
     "metadata": {},
     "output_type": "execute_result"
    }
   ],
   "source": [
    "burrow[-1].give()"
   ]
  },
  {
   "cell_type": "code",
   "execution_count": 52,
   "metadata": {},
   "outputs": [
    {
     "data": {
      "text/plain": [
       "[<A A <R D [<A A <R D [...]> >]> >]"
      ]
     },
     "execution_count": 52,
     "metadata": {},
     "output_type": "execute_result"
    }
   ],
   "source": [
    "burrow[-1].stack"
   ]
  },
  {
   "cell_type": "code",
   "execution_count": 92,
   "metadata": {},
   "outputs": [],
   "source": [
    "def dijkstra(burrow, initialstate, finalstate):\n",
    "    frontier = []\n",
    "    visited = {}\n",
    "    heappush(frontier, (0, initialstate))\n",
    "    visited[initialstate] = 0\n",
    "    \n",
    "    while visited:\n",
    "        cost, state = heappop(frontier)\n",
    "        if state == finalstate:\n",
    "            return cost\n",
    "        aps = setstate(burrow, state)\n",
    "        for i in range(len(aps)):\n",
    "            ap = aps[i]\n",
    "            blockers = {x.node for x in aps if x is not ap and isinstance(x.node, Hall)}\n",
    "            if not ap.canstart(blockers):\n",
    "                continue\n",
    "            for subcost in subbfs(ap, blockers):\n",
    "                newcost = cost + subcost\n",
    "                newstate = getstate(burrow)\n",
    "                if newstate not in visited or visited[newstate] > newcost:\n",
    "                    heappush(frontier, (newcost, newstate))\n",
    "                    visited[newstate] = newcost\n",
    "            aps = setstate(burrow, state)\n",
    "            \n",
    "            \n",
    "def subbfs(ap, blockers):\n",
    "    q = deque([])\n",
    "    v = set()\n",
    "    energy = ap.energy\n",
    "    node = ap.node\n",
    "    ap, _ = node.give()\n",
    "\n",
    "#     print(ap)\n",
    "#     print(node)\n",
    "#     print()\n",
    "    \n",
    "    for nabe, steps in node.neighbors:\n",
    "        q.append((node, nabe, steps))\n",
    "#     print(q)\n",
    "#     print()\n",
    "    while q:\n",
    "        node, nabe, steps = q.popleft()\n",
    "        if (node, nabe) in v or nabe in blockers or not nabe.canreceive(ap):\n",
    "            continue\n",
    "        v.add((node, nabe))\n",
    "        ap.node = node\n",
    "        node.receive(ap)\n",
    "        ap, extra = node.give()\n",
    "        steps += extra\n",
    "        if not nabe.canreceive(ap):\n",
    "            print('!!')\n",
    "            print(ap)\n",
    "            print(nabe)\n",
    "            print()\n",
    "        try:\n",
    "            steps += nabe.receive(ap)\n",
    "        except:\n",
    "            print('!')\n",
    "            print(ap)\n",
    "            print(node)\n",
    "            print(nabe)\n",
    "            print(getattr(nabe, 'stack'))\n",
    "            raise\n",
    "        ap.node = nabe\n",
    "        yield steps * energy\n",
    "        if ap.label == nabe.label:\n",
    "            break\n",
    "        node = nabe.give()\n",
    "        for nabe2, steps2 in nabe.neighbors:\n",
    "            q.append((nabe, nabe2, steps+steps2))\n"
   ]
  },
  {
   "cell_type": "code",
   "execution_count": 93,
   "metadata": {},
   "outputs": [
    {
     "name": "stdout",
     "output_type": "stream",
     "text": [
      "CPU times: user 4.12 s, sys: 0 ns, total: 4.12 s\n",
      "Wall time: 4.12 s\n"
     ]
    },
    {
     "data": {
      "text/plain": [
       "12521"
      ]
     },
     "execution_count": 93,
     "metadata": {},
     "output_type": "execute_result"
    }
   ],
   "source": [
    "%%time\n",
    "burrow = construct_burrow(roomsize=2)\n",
    "dijkstra(burrow, teststate, finalstate)"
   ]
  },
  {
   "cell_type": "code",
   "execution_count": 94,
   "metadata": {},
   "outputs": [
    {
     "name": "stdout",
     "output_type": "stream",
     "text": [
      "CPU times: user 18 s, sys: 3.21 ms, total: 18 s\n",
      "Wall time: 18 s\n"
     ]
    },
    {
     "data": {
      "text/plain": [
       "15538"
      ]
     },
     "execution_count": 94,
     "metadata": {},
     "output_type": "execute_result"
    }
   ],
   "source": [
    "%%time\n",
    "burrow = construct_burrow(roomsize=2)\n",
    "dijkstra(burrow, datastate, finalstate)"
   ]
  },
  {
   "cell_type": "markdown",
   "metadata": {},
   "source": [
    "# Part 2"
   ]
  },
  {
   "cell_type": "code",
   "execution_count": 88,
   "metadata": {},
   "outputs": [
    {
     "data": {
      "text/plain": [
       "'.......DCBAADCB'"
      ]
     },
     "execution_count": 88,
     "metadata": {},
     "output_type": "execute_result"
    }
   ],
   "source": [
    "datastate"
   ]
  },
  {
   "cell_type": "code",
   "execution_count": 95,
   "metadata": {},
   "outputs": [],
   "source": [
    "teststate_2 = '.......BDDACCBDBBACDACA'\n",
    "datastate_2 = '.......DDDCBCBAABADCACB'\n",
    "finalstate_2 = '.......AAAABBBBCCCCDDDD'"
   ]
  },
  {
   "cell_type": "code",
   "execution_count": 96,
   "metadata": {},
   "outputs": [
    {
     "name": "stdout",
     "output_type": "stream",
     "text": [
      "CPU times: user 15 s, sys: 3.85 ms, total: 15 s\n",
      "Wall time: 15 s\n"
     ]
    },
    {
     "data": {
      "text/plain": [
       "43289"
      ]
     },
     "execution_count": 96,
     "metadata": {},
     "output_type": "execute_result"
    }
   ],
   "source": [
    "%%time\n",
    "# Should be 44169\n",
    "burrow_2 = construct_burrow(roomsize=4)\n",
    "dijkstra(burrow_2, teststate_2, finalstate_2)"
   ]
  },
  {
   "cell_type": "code",
   "execution_count": 98,
   "metadata": {},
   "outputs": [
    {
     "name": "stdout",
     "output_type": "stream",
     "text": [
      "CPU times: user 14 s, sys: 0 ns, total: 14 s\n",
      "Wall time: 14 s\n"
     ]
    },
    {
     "data": {
      "text/plain": [
       "47258"
      ]
     },
     "execution_count": 98,
     "metadata": {},
     "output_type": "execute_result"
    }
   ],
   "source": [
    "%%time\n",
    "# Should be 47258\n",
    "burrow_2 = construct_burrow(roomsize=4)\n",
    "dijkstra(burrow_2, datastate_2, finalstate_2)"
   ]
  },
  {
   "cell_type": "code",
   "execution_count": null,
   "metadata": {},
   "outputs": [],
   "source": []
  }
 ],
 "metadata": {
  "hide_input": false,
  "kernelspec": {
   "display_name": "Python 3",
   "language": "python",
   "name": "python3"
  },
  "language_info": {
   "codemirror_mode": {
    "name": "ipython",
    "version": 3
   },
   "file_extension": ".py",
   "mimetype": "text/x-python",
   "name": "python",
   "nbconvert_exporter": "python",
   "pygments_lexer": "ipython3",
   "version": "3.8.5"
  }
 },
 "nbformat": 4,
 "nbformat_minor": 4
}
