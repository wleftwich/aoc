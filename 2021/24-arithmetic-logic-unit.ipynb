{
 "cells": [
  {
   "cell_type": "markdown",
   "metadata": {},
   "source": [
    "https://adventofcode.com/2021/day/24"
   ]
  },
  {
   "cell_type": "code",
   "execution_count": 1,
   "metadata": {},
   "outputs": [],
   "source": [
    "from functools import lru_cache, partial\n",
    "from itertools import product, combinations\n",
    "from collections import defaultdict, Counter"
   ]
  },
  {
   "cell_type": "code",
   "execution_count": 2,
   "metadata": {},
   "outputs": [],
   "source": [
    "with open('data/24.txt') as fh:\n",
    "    data = fh.read()"
   ]
  },
  {
   "cell_type": "code",
   "execution_count": 3,
   "metadata": {},
   "outputs": [],
   "source": [
    "class ALU:\n",
    "    def __init__(self, prg='', vars=None):\n",
    "        if vars is None:\n",
    "            vars = {\n",
    "                'w': 0,\n",
    "                'x': 0,\n",
    "                'y': 0,\n",
    "                'z': 0,\n",
    "            }\n",
    "        self.v = vars\n",
    "        self.prg = [y for y in (x.strip() for x in prg.split('\\n')) if y]\n",
    "        \n",
    "    def ex(self, s, n=None):\n",
    "        tokens = s.strip().split()\n",
    "        fun, args = tokens[0], tokens[1:]\n",
    "        if fun == 'inp':\n",
    "            args.append(n)\n",
    "        self.dispatch[fun](self, *args)\n",
    "\n",
    "    def run(self, inp, wxyz=(0,0,0,0)):\n",
    "        self.v['w'], self.v['x'], self.v['y'], self.v['z'] = wxyz\n",
    "        it = iter(inp)\n",
    "        for line in self.prg:\n",
    "            if line.startswith('inp'):\n",
    "                try:\n",
    "                    nextit = next(it)\n",
    "                except StopIteration:\n",
    "                    return self.v['w'], self.v['x'], self.v['y'], self.v['z']\n",
    "                self.ex(line, int(nextit))\n",
    "            else:\n",
    "                self.ex(line)\n",
    "        return self.v['w'], self.v['x'], self.v['y'], self.v['z']\n",
    "        \n",
    "\n",
    "    def inp(self, a, n):\n",
    "        self.v[a] = n\n",
    "\n",
    "    def add(self, a, b):\n",
    "        try:\n",
    "            b = int(b)\n",
    "        except ValueError:\n",
    "            b = self.v[b]\n",
    "        self.v[a] = self.v[a] + b\n",
    "\n",
    "    def mul(self, a, b):\n",
    "        try:\n",
    "            b = int(b)\n",
    "        except ValueError:\n",
    "            b = self.v[b]\n",
    "        self.v[a] = self.v[a] * b\n",
    "\n",
    "    def div(self, a, b):\n",
    "        try:\n",
    "            b = int(b)\n",
    "        except ValueError:\n",
    "            b = self.v[b]\n",
    "        self.v[a] = self.v[a] // b\n",
    "\n",
    "    def mod(self, a, b):\n",
    "        try:\n",
    "            b = int(b)\n",
    "        except ValueError:\n",
    "            b = self.v[b]\n",
    "        self.v[a] = self.v[a] % b\n",
    "\n",
    "    def eql(self, a, b):\n",
    "        try:\n",
    "            b = int(b)\n",
    "        except ValueError:\n",
    "            b = self.v[b]\n",
    "        self.v[a] = int(self.v[a] == b)\n",
    "\n",
    "    dispatch = {\n",
    "        'inp': inp,\n",
    "        'add': add,\n",
    "        'mul': mul,\n",
    "        'div': div,\n",
    "        'mod': mod,\n",
    "        'eql': eql\n",
    "}"
   ]
  },
  {
   "cell_type": "code",
   "execution_count": 4,
   "metadata": {},
   "outputs": [],
   "source": [
    "data2 = data.replace('\\ninp', '\\nXX\\ninp')\n",
    "prgs = [x.strip() for x in data2.split('\\nXX\\n')]"
   ]
  },
  {
   "cell_type": "code",
   "execution_count": 5,
   "metadata": {},
   "outputs": [
    {
     "data": {
      "text/plain": [
       "14"
      ]
     },
     "execution_count": 5,
     "metadata": {},
     "output_type": "execute_result"
    }
   ],
   "source": [
    "len(prgs)"
   ]
  },
  {
   "cell_type": "code",
   "execution_count": 6,
   "metadata": {},
   "outputs": [
    {
     "name": "stdout",
     "output_type": "stream",
     "text": [
      "inp w\n",
      "mul x 0\n",
      "add x z\n",
      "mod x 26\n",
      "div z 1\n",
      "add x 15\n",
      "eql x w\n",
      "eql x 0\n",
      "mul y 0\n",
      "add y 25\n",
      "mul y x\n",
      "add y 1\n",
      "mul z y\n",
      "mul y 0\n",
      "add y w\n",
      "add y 15\n",
      "mul y x\n",
      "add z y\n"
     ]
    }
   ],
   "source": [
    "print(prgs[0])"
   ]
  },
  {
   "cell_type": "code",
   "execution_count": 7,
   "metadata": {},
   "outputs": [],
   "source": [
    "bigalu = ALU(data)"
   ]
  },
  {
   "cell_type": "code",
   "execution_count": 8,
   "metadata": {},
   "outputs": [
    {
     "data": {
      "text/plain": [
       "(9, 1, 10, 7587909014)"
      ]
     },
     "execution_count": 8,
     "metadata": {},
     "output_type": "execute_result"
    }
   ],
   "source": [
    "bigalu.run('99999999999999')"
   ]
  },
  {
   "cell_type": "code",
   "execution_count": 9,
   "metadata": {},
   "outputs": [],
   "source": [
    "def params_from_prg(prg):\n",
    "    prglines = [y for y in (x.strip() for x in prg.split('\\n')) if y]\n",
    "    return tuple(int(prglines[i].split()[-1]) for i in (4, 5, 15))"
   ]
  },
  {
   "cell_type": "code",
   "execution_count": 10,
   "metadata": {},
   "outputs": [],
   "source": [
    "params = [params_from_prg(prg) for prg in prgs]"
   ]
  },
  {
   "cell_type": "code",
   "execution_count": 11,
   "metadata": {},
   "outputs": [
    {
     "data": {
      "text/plain": [
       "[(0, (1, 15, 15)),\n",
       " (1, (1, 12, 5)),\n",
       " (2, (1, 13, 6)),\n",
       " (3, (26, -14, 7)),\n",
       " (4, (1, 15, 9)),\n",
       " (5, (26, -7, 6)),\n",
       " (6, (1, 14, 14)),\n",
       " (7, (1, 15, 3)),\n",
       " (8, (1, 15, 1)),\n",
       " (9, (26, -7, 3)),\n",
       " (10, (26, -8, 4)),\n",
       " (11, (26, -7, 6)),\n",
       " (12, (26, -5, 7)),\n",
       " (13, (26, -10, 1))]"
      ]
     },
     "execution_count": 11,
     "metadata": {},
     "output_type": "execute_result"
    }
   ],
   "source": [
    "list(enumerate(params))"
   ]
  },
  {
   "cell_type": "code",
   "execution_count": 12,
   "metadata": {},
   "outputs": [
    {
     "data": {
      "text/plain": [
       "[(3, (26, -14, 7)),\n",
       " (5, (26, -7, 6)),\n",
       " (9, (26, -7, 3)),\n",
       " (10, (26, -8, 4)),\n",
       " (11, (26, -7, 6)),\n",
       " (12, (26, -5, 7)),\n",
       " (13, (26, -10, 1))]"
      ]
     },
     "execution_count": 12,
     "metadata": {},
     "output_type": "execute_result"
    }
   ],
   "source": [
    "[(i, (d, a, b)) for (i, (d, a, b)) in enumerate(params) if a <= 9]"
   ]
  },
  {
   "cell_type": "code",
   "execution_count": 13,
   "metadata": {},
   "outputs": [
    {
     "data": {
      "text/plain": [
       "[(0, (1, 15, 15)),\n",
       " (1, (1, 12, 5)),\n",
       " (2, (1, 13, 6)),\n",
       " (4, (1, 15, 9)),\n",
       " (6, (1, 14, 14)),\n",
       " (7, (1, 15, 3)),\n",
       " (8, (1, 15, 1))]"
      ]
     },
     "execution_count": 13,
     "metadata": {},
     "output_type": "execute_result"
    }
   ],
   "source": [
    "[(i, (d, a, b)) for (i, (d, a, b)) in enumerate(params) if a > 9]"
   ]
  },
  {
   "cell_type": "code",
   "execution_count": 14,
   "metadata": {},
   "outputs": [
    {
     "data": {
      "text/plain": [
       "15"
      ]
     },
     "execution_count": 14,
     "metadata": {},
     "output_type": "execute_result"
    }
   ],
   "source": [
    "max(b for (d, a, b) in params)"
   ]
  },
  {
   "cell_type": "code",
   "execution_count": 15,
   "metadata": {},
   "outputs": [],
   "source": [
    "def fwd(w, z, d, a, b):\n",
    "    r = z % 26\n",
    "    z1 = z // d\n",
    "    if r == w - a:\n",
    "        return z1\n",
    "    return z1 * 26 + w + b"
   ]
  },
  {
   "cell_type": "code",
   "execution_count": 16,
   "metadata": {},
   "outputs": [],
   "source": [
    "def rev(w, z2, d, a, b):\n",
    "    if d == 1:\n",
    "        return [(z2 - w - b) // 26]\n",
    "    \n",
    "    z1 = z2 * 26\n",
    "    L = []\n",
    "    for r in range(26):\n",
    "        z = z1 + r\n",
    "        if fwd(w, z, d, a, b) == z2:\n",
    "            L.append(z)\n",
    "    \n",
    "    return L"
   ]
  },
  {
   "cell_type": "code",
   "execution_count": 17,
   "metadata": {},
   "outputs": [
    {
     "data": {
      "text/plain": [
       "7587909014"
      ]
     },
     "execution_count": 17,
     "metadata": {},
     "output_type": "execute_result"
    }
   ],
   "source": [
    "z = 0\n",
    "for p in params:\n",
    "    z = fwd(9, z, *p)\n",
    "z"
   ]
  },
  {
   "cell_type": "code",
   "execution_count": 18,
   "metadata": {},
   "outputs": [
    {
     "data": {
      "text/plain": [
       "[13]"
      ]
     },
     "execution_count": 18,
     "metadata": {},
     "output_type": "execute_result"
    }
   ],
   "source": [
    "rev(3, 0, *params[13])"
   ]
  },
  {
   "cell_type": "code",
   "execution_count": null,
   "metadata": {},
   "outputs": [],
   "source": []
  },
  {
   "cell_type": "code",
   "execution_count": 19,
   "metadata": {},
   "outputs": [],
   "source": [
    "funs = [partial(fwd, d=d, a=a, b=b) for (d, a, b) in params]"
   ]
  },
  {
   "cell_type": "code",
   "execution_count": 20,
   "metadata": {},
   "outputs": [],
   "source": [
    "z = 0\n",
    "zmaxs = [0]\n",
    "for fun in funs:\n",
    "    z = fun(9, z)\n",
    "    zmaxs.append(z)\n",
    "zmaxs = zmaxs[:-1]\n",
    "\n",
    "rzmaxs = list(reversed(zmaxs))"
   ]
  },
  {
   "cell_type": "code",
   "execution_count": 21,
   "metadata": {},
   "outputs": [],
   "source": [
    "rfuns = list(reversed(funs))"
   ]
  },
  {
   "cell_type": "code",
   "execution_count": 22,
   "metadata": {},
   "outputs": [],
   "source": [
    "rparams = list(reversed(params))"
   ]
  },
  {
   "cell_type": "code",
   "execution_count": 23,
   "metadata": {},
   "outputs": [],
   "source": [
    "# def r1(w, z2, d, a, b):\n",
    "#     z = (z2 - w - b) / 26\n",
    "#     return z"
   ]
  },
  {
   "cell_type": "code",
   "execution_count": 24,
   "metadata": {},
   "outputs": [
    {
     "name": "stdout",
     "output_type": "stream",
     "text": [
      "9\n",
      "81\n",
      "729\n",
      "6561\n",
      "59049\n",
      "CPU times: user 513 ms, sys: 10.9 ms, total: 524 ms\n",
      "Wall time: 523 ms\n"
     ]
    }
   ],
   "source": [
    "%%time\n",
    "zs = [(0, [])]\n",
    "for ((d, a, b), zmax) in zip(rparams[:5], rzmaxs):\n",
    "    newzs = []\n",
    "    for (z2, ws) in zs:\n",
    "        for w in range(1, 10):\n",
    "            for z in rev(w, z2, d, a, b):\n",
    "                if z < zmax + 26:\n",
    "                    newzs.append((z, ws + [w]))\n",
    "    if not newzs:\n",
    "        print('!')\n",
    "        break\n",
    "    zs = newzs\n",
    "    print(len(zs))"
   ]
  },
  {
   "cell_type": "markdown",
   "metadata": {},
   "source": [
    "9\n",
    "81\n",
    "729\n",
    "6561\n",
    "59049\n"
   ]
  },
  {
   "cell_type": "code",
   "execution_count": 25,
   "metadata": {},
   "outputs": [
    {
     "data": {
      "text/plain": [
       "((5137842, [1, 1, 1, 1, 1]), (8939882, [9, 9, 9, 9, 9]))"
      ]
     },
     "execution_count": 25,
     "metadata": {},
     "output_type": "execute_result"
    }
   ],
   "source": [
    "min(zs), max(zs)"
   ]
  },
  {
   "cell_type": "code",
   "execution_count": 26,
   "metadata": {},
   "outputs": [],
   "source": [
    "zs.sort(reverse=True)"
   ]
  },
  {
   "cell_type": "code",
   "execution_count": 27,
   "metadata": {},
   "outputs": [
    {
     "data": {
      "text/plain": [
       "[(8939882, [9, 9, 9, 9, 9]),\n",
       " (8939881, [9, 9, 9, 9, 8]),\n",
       " (8939880, [9, 9, 9, 9, 7]),\n",
       " (8939879, [9, 9, 9, 9, 6]),\n",
       " (8939878, [9, 9, 9, 9, 5]),\n",
       " (8939877, [9, 9, 9, 9, 4]),\n",
       " (8939876, [9, 9, 9, 9, 3]),\n",
       " (8939875, [9, 9, 9, 9, 2]),\n",
       " (8939874, [9, 9, 9, 9, 1]),\n",
       " (8939856, [9, 9, 9, 8, 9]),\n",
       " (8939855, [9, 9, 9, 8, 8]),\n",
       " (8939854, [9, 9, 9, 8, 7]),\n",
       " (8939853, [9, 9, 9, 8, 6]),\n",
       " (8939852, [9, 9, 9, 8, 5]),\n",
       " (8939851, [9, 9, 9, 8, 4]),\n",
       " (8939850, [9, 9, 9, 8, 3]),\n",
       " (8939849, [9, 9, 9, 8, 2]),\n",
       " (8939848, [9, 9, 9, 8, 1]),\n",
       " (8939830, [9, 9, 9, 7, 9]),\n",
       " (8939829, [9, 9, 9, 7, 8]),\n",
       " (8939828, [9, 9, 9, 7, 7]),\n",
       " (8939827, [9, 9, 9, 7, 6]),\n",
       " (8939826, [9, 9, 9, 7, 5]),\n",
       " (8939825, [9, 9, 9, 7, 4]),\n",
       " (8939824, [9, 9, 9, 7, 3]),\n",
       " (8939823, [9, 9, 9, 7, 2]),\n",
       " (8939822, [9, 9, 9, 7, 1])]"
      ]
     },
     "execution_count": 27,
     "metadata": {},
     "output_type": "execute_result"
    }
   ],
   "source": [
    "zs[:27]"
   ]
  },
  {
   "cell_type": "code",
   "execution_count": 28,
   "metadata": {},
   "outputs": [
    {
     "name": "stdout",
     "output_type": "stream",
     "text": [
      "ok\n"
     ]
    }
   ],
   "source": [
    "for z1, ws in zs:\n",
    "    z = z1\n",
    "    for w, p in zip(reversed(ws), params[-5:]):\n",
    "        z = fwd(w, z, *p)\n",
    "    if z!= 0:\n",
    "        print(z1, ws)\n",
    "        break\n",
    "else:\n",
    "    print('ok')"
   ]
  },
  {
   "cell_type": "code",
   "execution_count": 29,
   "metadata": {},
   "outputs": [
    {
     "data": {
      "text/plain": [
       "59049"
      ]
     },
     "execution_count": 29,
     "metadata": {},
     "output_type": "execute_result"
    }
   ],
   "source": [
    "len(zs)"
   ]
  },
  {
   "cell_type": "code",
   "execution_count": 30,
   "metadata": {},
   "outputs": [
    {
     "data": {
      "text/plain": [
       "59049"
      ]
     },
     "execution_count": 30,
     "metadata": {},
     "output_type": "execute_result"
    }
   ],
   "source": [
    "len(Counter(z for z, _ in zs))"
   ]
  },
  {
   "cell_type": "code",
   "execution_count": 31,
   "metadata": {},
   "outputs": [],
   "source": [
    "zend = {z: list(reversed(ws)) for z, ws in zs}"
   ]
  },
  {
   "cell_type": "code",
   "execution_count": 32,
   "metadata": {},
   "outputs": [],
   "source": [
    "def fwd(w, z, d, a, b):\n",
    "    r = z % 26\n",
    "    z1 = z // d\n",
    "    if r == w - a:\n",
    "        return z1\n",
    "    return z1 * 26 + w + b"
   ]
  },
  {
   "cell_type": "code",
   "execution_count": 75,
   "metadata": {},
   "outputs": [
    {
     "name": "stdout",
     "output_type": "stream",
     "text": [
      "CPU times: user 1.36 s, sys: 0 ns, total: 1.36 s\n",
      "Wall time: 1.36 s\n"
     ]
    }
   ],
   "source": [
    "%%time\n",
    "zbegin = []\n",
    "zprev = 0\n",
    "for ws in product(range(1, 10), repeat=6):\n",
    "    z = 0\n",
    "    for w, p in zip(ws, params):\n",
    "        z = fwd(w, z, *p)\n",
    "    if z < zprev:\n",
    "        zbegin.append((z, ws))\n",
    "    zprev = z"
   ]
  },
  {
   "cell_type": "code",
   "execution_count": 76,
   "metadata": {},
   "outputs": [
    {
     "data": {
      "text/plain": [
       "92502"
      ]
     },
     "execution_count": 76,
     "metadata": {},
     "output_type": "execute_result"
    }
   ],
   "source": [
    "len(zbegin)"
   ]
  },
  {
   "cell_type": "code",
   "execution_count": 77,
   "metadata": {},
   "outputs": [
    {
     "data": {
      "text/plain": [
       "[(10980, (1, 1, 1, 1, 1, 3)),\n",
       " (285487, (1, 1, 1, 1, 2, 1)),\n",
       " (10980, (1, 1, 1, 1, 2, 4)),\n",
       " (285487, (1, 1, 1, 1, 3, 1)),\n",
       " (10980, (1, 1, 1, 1, 3, 5)),\n",
       " (285487, (1, 1, 1, 1, 4, 1)),\n",
       " (10980, (1, 1, 1, 1, 4, 6)),\n",
       " (285487, (1, 1, 1, 1, 5, 1)),\n",
       " (10980, (1, 1, 1, 1, 5, 7)),\n",
       " (285487, (1, 1, 1, 1, 6, 1))]"
      ]
     },
     "execution_count": 77,
     "metadata": {},
     "output_type": "execute_result"
    }
   ],
   "source": [
    "zbegin[:10]"
   ]
  },
  {
   "cell_type": "code",
   "execution_count": 78,
   "metadata": {},
   "outputs": [
    {
     "data": {
      "text/plain": [
       "1620"
      ]
     },
     "execution_count": 78,
     "metadata": {},
     "output_type": "execute_result"
    }
   ],
   "source": [
    "len(Counter(z for (z, _) in zbegin))"
   ]
  },
  {
   "cell_type": "code",
   "execution_count": 82,
   "metadata": {},
   "outputs": [],
   "source": [
    "zbeginmaxs = {}\n",
    "for z, ws in zbegin:\n",
    "    zbeginmaxs[z] = max(ws, zbeginmaxs.get(z, (0,0,0,0,0,0)))"
   ]
  },
  {
   "cell_type": "code",
   "execution_count": 83,
   "metadata": {},
   "outputs": [],
   "source": [
    "zmids = []\n",
    "for b in zbeginmaxs:\n",
    "    for ws in product(range(1, 10), repeat=3):\n",
    "        z = b\n",
    "        for w, p in zip(ws, params[6:]):\n",
    "            z = fwd(w, z, *p)\n",
    "        if z in zend:\n",
    "            zmids.append(((b, z), ws))\n",
    "            \n",
    "            \n",
    "        \n",
    "        "
   ]
  },
  {
   "cell_type": "code",
   "execution_count": 84,
   "metadata": {},
   "outputs": [
    {
     "data": {
      "text/plain": [
       "864"
      ]
     },
     "execution_count": 84,
     "metadata": {},
     "output_type": "execute_result"
    }
   ],
   "source": [
    "len(zmids)"
   ]
  },
  {
   "cell_type": "code",
   "execution_count": 85,
   "metadata": {},
   "outputs": [
    {
     "data": {
      "text/plain": [
       "[((422, 7427454), (1, 6, 7)),\n",
       " ((422, 7427455), (1, 6, 8)),\n",
       " ((422, 7427456), (1, 6, 9)),\n",
       " ((422, 7427480), (1, 7, 7)),\n",
       " ((422, 7427481), (1, 7, 8)),\n",
       " ((422, 7427482), (1, 7, 9)),\n",
       " ((422, 7427506), (1, 8, 7)),\n",
       " ((422, 7427507), (1, 8, 8)),\n",
       " ((422, 7427508), (1, 8, 9)),\n",
       " ((422, 7427532), (1, 9, 7))]"
      ]
     },
     "execution_count": 85,
     "metadata": {},
     "output_type": "execute_result"
    }
   ],
   "source": [
    "zmids[:10]"
   ]
  },
  {
   "cell_type": "code",
   "execution_count": 86,
   "metadata": {},
   "outputs": [
    {
     "data": {
      "text/plain": [
       "864"
      ]
     },
     "execution_count": 86,
     "metadata": {},
     "output_type": "execute_result"
    }
   ],
   "source": [
    "len(Counter(x for (x, _) in zmids))"
   ]
  },
  {
   "cell_type": "code",
   "execution_count": 87,
   "metadata": {},
   "outputs": [],
   "source": [
    "zmidset = set(a for ((a, _), _) in zmids)"
   ]
  },
  {
   "cell_type": "code",
   "execution_count": 88,
   "metadata": {},
   "outputs": [
    {
     "data": {
      "text/plain": [
       "36"
      ]
     },
     "execution_count": 88,
     "metadata": {},
     "output_type": "execute_result"
    }
   ],
   "source": [
    "len(zmidset)"
   ]
  },
  {
   "cell_type": "code",
   "execution_count": 91,
   "metadata": {},
   "outputs": [],
   "source": [
    "maxb, maxws = (0, (0,0,0,0,0,0))\n",
    "for b, ws in zbegin:\n",
    "    if b in zmidset and ws > maxws:\n",
    "        maxb, maxws = b, ws"
   ]
  },
  {
   "cell_type": "code",
   "execution_count": 92,
   "metadata": {},
   "outputs": [
    {
     "data": {
      "text/plain": [
       "(508, (4, 9, 9, 1, 7, 9))"
      ]
     },
     "execution_count": 92,
     "metadata": {},
     "output_type": "execute_result"
    }
   ],
   "source": [
    "maxb, maxws"
   ]
  },
  {
   "cell_type": "code",
   "execution_count": 93,
   "metadata": {},
   "outputs": [],
   "source": [
    "goodbs = [((b, e), ws) for ((b, e), ws) in zmids if b == 508]"
   ]
  },
  {
   "cell_type": "code",
   "execution_count": 94,
   "metadata": {},
   "outputs": [
    {
     "data": {
      "text/plain": [
       "dict"
      ]
     },
     "execution_count": 94,
     "metadata": {},
     "output_type": "execute_result"
    }
   ],
   "source": [
    "type(zend)"
   ]
  },
  {
   "cell_type": "code",
   "execution_count": 46,
   "metadata": {},
   "outputs": [
    {
     "data": {
      "text/plain": [
       "[(8939882, [9, 9, 9, 9, 9]),\n",
       " (8939881, [8, 9, 9, 9, 9]),\n",
       " (8939880, [7, 9, 9, 9, 9])]"
      ]
     },
     "execution_count": 46,
     "metadata": {},
     "output_type": "execute_result"
    }
   ],
   "source": [
    "list(zend.items())[:3]"
   ]
  },
  {
   "cell_type": "code",
   "execution_count": 95,
   "metadata": {},
   "outputs": [
    {
     "name": "stdout",
     "output_type": "stream",
     "text": [
      "508 8938990 (1, 6, 7) [1, 1, 8, 9, 9]\n",
      "508 8938991 (1, 6, 8) [2, 1, 8, 9, 9]\n",
      "508 8938992 (1, 6, 9) [3, 1, 8, 9, 9]\n",
      "508 8939016 (1, 7, 7) [1, 2, 8, 9, 9]\n",
      "508 8939017 (1, 7, 8) [2, 2, 8, 9, 9]\n",
      "508 8939018 (1, 7, 9) [3, 2, 8, 9, 9]\n",
      "508 8939042 (1, 8, 7) [1, 3, 8, 9, 9]\n",
      "508 8939043 (1, 8, 8) [2, 3, 8, 9, 9]\n",
      "508 8939044 (1, 8, 9) [3, 3, 8, 9, 9]\n",
      "508 8939068 (1, 9, 7) [1, 4, 8, 9, 9]\n",
      "508 8939069 (1, 9, 8) [2, 4, 8, 9, 9]\n",
      "508 8939070 (1, 9, 9) [3, 4, 8, 9, 9]\n",
      "508 8939666 (2, 6, 7) [1, 1, 9, 9, 9]\n",
      "508 8939667 (2, 6, 8) [2, 1, 9, 9, 9]\n",
      "508 8939668 (2, 6, 9) [3, 1, 9, 9, 9]\n",
      "508 8939692 (2, 7, 7) [1, 2, 9, 9, 9]\n",
      "508 8939693 (2, 7, 8) [2, 2, 9, 9, 9]\n",
      "508 8939694 (2, 7, 9) [3, 2, 9, 9, 9]\n",
      "508 8939718 (2, 8, 7) [1, 3, 9, 9, 9]\n",
      "508 8939719 (2, 8, 8) [2, 3, 9, 9, 9]\n",
      "508 8939720 (2, 8, 9) [3, 3, 9, 9, 9]\n",
      "508 8939744 (2, 9, 7) [1, 4, 9, 9, 9]\n",
      "508 8939745 (2, 9, 8) [2, 4, 9, 9, 9]\n",
      "508 8939746 (2, 9, 9) [3, 4, 9, 9, 9]\n"
     ]
    }
   ],
   "source": [
    "for ((b, e), ws) in goodbs:\n",
    "    if e in zend:\n",
    "        print(b, e, ws, zend[e])"
   ]
  },
  {
   "cell_type": "code",
   "execution_count": 96,
   "metadata": {},
   "outputs": [],
   "source": [
    "attempt = [4, 9, 9, 1, 7, 9, 2, 9, 9, 3, 4, 9, 9, 9]"
   ]
  },
  {
   "cell_type": "code",
   "execution_count": 97,
   "metadata": {},
   "outputs": [
    {
     "data": {
      "text/plain": [
       "0"
      ]
     },
     "execution_count": 97,
     "metadata": {},
     "output_type": "execute_result"
    }
   ],
   "source": [
    "z = 0\n",
    "for w, p in zip(attempt, params):\n",
    "    z = fwd(w, z, *p)\n",
    "z"
   ]
  },
  {
   "cell_type": "code",
   "execution_count": 98,
   "metadata": {},
   "outputs": [
    {
     "name": "stdout",
     "output_type": "stream",
     "text": [
      "49917929934999\n"
     ]
    }
   ],
   "source": [
    "part1 = ''.join(str(x) for x in attempt)\n",
    "print(part1)"
   ]
  },
  {
   "cell_type": "markdown",
   "metadata": {},
   "source": [
    "## Part 2"
   ]
  },
  {
   "cell_type": "code",
   "execution_count": 103,
   "metadata": {},
   "outputs": [],
   "source": [
    "zbeginmins = {}\n",
    "for z, ws in zbegin:\n",
    "    zbeginmins[z] = min(ws, zbeginmins.get(z, (9,9,9,9,9,9)))"
   ]
  },
  {
   "cell_type": "code",
   "execution_count": 104,
   "metadata": {},
   "outputs": [],
   "source": [
    "minb, minws = maxb, maxws\n",
    "for b, ws in zbeginmins.items():\n",
    "    if b in zmidset and ws < minws:\n",
    "        minb, minws = b, ws"
   ]
  },
  {
   "cell_type": "code",
   "execution_count": 105,
   "metadata": {},
   "outputs": [
    {
     "data": {
      "text/plain": [
       "(422, (1, 1, 9, 1, 1, 3))"
      ]
     },
     "execution_count": 105,
     "metadata": {},
     "output_type": "execute_result"
    }
   ],
   "source": [
    "minb, minws"
   ]
  },
  {
   "cell_type": "code",
   "execution_count": 106,
   "metadata": {},
   "outputs": [],
   "source": [
    "minbs = [((b, e), ws) for ((b, e), ws) in zmids if b == minb]"
   ]
  },
  {
   "cell_type": "code",
   "execution_count": 107,
   "metadata": {},
   "outputs": [
    {
     "name": "stdout",
     "output_type": "stream",
     "text": [
      "422 7427454 (1, 6, 7) [1, 1, 8, 1, 6]\n",
      "422 7427455 (1, 6, 8) [2, 1, 8, 1, 6]\n",
      "422 7427456 (1, 6, 9) [3, 1, 8, 1, 6]\n",
      "422 7427480 (1, 7, 7) [1, 2, 8, 1, 6]\n",
      "422 7427481 (1, 7, 8) [2, 2, 8, 1, 6]\n",
      "422 7427482 (1, 7, 9) [3, 2, 8, 1, 6]\n",
      "422 7427506 (1, 8, 7) [1, 3, 8, 1, 6]\n",
      "422 7427507 (1, 8, 8) [2, 3, 8, 1, 6]\n",
      "422 7427508 (1, 8, 9) [3, 3, 8, 1, 6]\n",
      "422 7427532 (1, 9, 7) [1, 4, 8, 1, 6]\n",
      "422 7427533 (1, 9, 8) [2, 4, 8, 1, 6]\n",
      "422 7427534 (1, 9, 9) [3, 4, 8, 1, 6]\n",
      "422 7428130 (2, 6, 7) [1, 1, 9, 1, 6]\n",
      "422 7428131 (2, 6, 8) [2, 1, 9, 1, 6]\n",
      "422 7428132 (2, 6, 9) [3, 1, 9, 1, 6]\n",
      "422 7428156 (2, 7, 7) [1, 2, 9, 1, 6]\n",
      "422 7428157 (2, 7, 8) [2, 2, 9, 1, 6]\n",
      "422 7428158 (2, 7, 9) [3, 2, 9, 1, 6]\n",
      "422 7428182 (2, 8, 7) [1, 3, 9, 1, 6]\n",
      "422 7428183 (2, 8, 8) [2, 3, 9, 1, 6]\n",
      "422 7428184 (2, 8, 9) [3, 3, 9, 1, 6]\n",
      "422 7428208 (2, 9, 7) [1, 4, 9, 1, 6]\n",
      "422 7428209 (2, 9, 8) [2, 4, 9, 1, 6]\n",
      "422 7428210 (2, 9, 9) [3, 4, 9, 1, 6]\n"
     ]
    }
   ],
   "source": [
    "for ((b, e), ws) in minbs:\n",
    "    if e in zend:\n",
    "        print(b, e, ws, zend[e])"
   ]
  },
  {
   "cell_type": "code",
   "execution_count": 55,
   "metadata": {},
   "outputs": [],
   "source": [
    "part2 = '11911316711816'"
   ]
  }
 ],
 "metadata": {
  "hide_input": false,
  "kernelspec": {
   "display_name": "Python 3",
   "language": "python",
   "name": "python3"
  },
  "language_info": {
   "codemirror_mode": {
    "name": "ipython",
    "version": 3
   },
   "file_extension": ".py",
   "mimetype": "text/x-python",
   "name": "python",
   "nbconvert_exporter": "python",
   "pygments_lexer": "ipython3",
   "version": "3.8.5"
  }
 },
 "nbformat": 4,
 "nbformat_minor": 4
}
