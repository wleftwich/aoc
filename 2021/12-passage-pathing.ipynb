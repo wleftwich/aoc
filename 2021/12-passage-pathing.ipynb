{
 "cells": [
  {
   "cell_type": "markdown",
   "metadata": {},
   "source": [
    "https://adventofcode.com/2021/day/12"
   ]
  },
  {
   "cell_type": "code",
   "execution_count": 16,
   "metadata": {},
   "outputs": [
    {
     "name": "stdout",
     "output_type": "stream",
     "text": [
      "part_1 = 4754\n",
      "part_2 = 143562\n",
      "CPU times: user 2.23 s, sys: 7.99 ms, total: 2.24 s\n",
      "Wall time: 2.24 s\n"
     ]
    }
   ],
   "source": [
    "%%time\n",
    "from collections import deque, defaultdict\n",
    "\n",
    "with open('data/12.txt') as fh:\n",
    "    data = fh.read()\n",
    "\n",
    "\n",
    "def load_graph(data):\n",
    "    D = defaultdict(list)\n",
    "    for pair in data.split():\n",
    "        (a, b) = pair.split('-')\n",
    "        if b != 'start':\n",
    "            D[a].append(b)\n",
    "        if a != 'start':\n",
    "            D[b].append(a)\n",
    "    return D\n",
    "\n",
    "\n",
    "def no_small_caves_revisited(pth):\n",
    "    smallcaves = [x for x in pth if x.islower()]\n",
    "    return len(set(smallcaves)) == len(smallcaves)\n",
    "\n",
    "def at_most_one_small_cave_revisited(pth):\n",
    "    smallcaves = [x for x in pth if x.islower()]\n",
    "    return len(set(smallcaves)) >= len(smallcaves) - 1\n",
    "    \n",
    "def count_all_paths(graph, validate_path=no_small_caves_revisited):\n",
    "    q = deque([('start',)])\n",
    "    visited = {('start',)}\n",
    "    pathcount = 0\n",
    "    while q:\n",
    "        pth = q.popleft()\n",
    "        current = pth[-1]        \n",
    "        if current == 'end':\n",
    "            pathcount += 1\n",
    "            continue\n",
    "        for nabe in graph[current]:\n",
    "            newpth = pth + (nabe,)\n",
    "            if newpth in visited:\n",
    "                continue\n",
    "            visited.add(newpth)\n",
    "            if not validate_path(newpth):\n",
    "                continue\n",
    "            q.append(newpth)\n",
    "    return pathcount\n",
    "\n",
    "\n",
    "graph = load_graph(data)\n",
    "\n",
    "part_1 = count_all_paths(graph, no_small_caves_revisited)\n",
    "print('part_1 =', part_1)\n",
    "\n",
    "part_2 = count_all_paths(graph, at_most_one_small_cave_revisited)\n",
    "print('part_2 =', part_2)"
   ]
  },
  {
   "cell_type": "code",
   "execution_count": 2,
   "metadata": {},
   "outputs": [
    {
     "name": "stdout",
     "output_type": "stream",
     "text": [
      "part_1 = 4754\n",
      "part_2 = 143562\n",
      "CPU times: user 676 ms, sys: 3.11 ms, total: 679 ms\n",
      "Wall time: 677 ms\n"
     ]
    }
   ],
   "source": [
    "%%time\n",
    "\n",
    "from collections import defaultdict\n",
    "\n",
    "with open('data/12.txt') as fh:\n",
    "    data = fh.read()\n",
    "\n",
    "def load_graph(data):\n",
    "    D = defaultdict(list)\n",
    "    for pair in data.split():\n",
    "        (a, b) = pair.split('-')\n",
    "        if b != 'start':\n",
    "            D[a].append(b)\n",
    "        if a != 'start':\n",
    "            D[b].append(a)\n",
    "    return D\n",
    "\n",
    "def count_paths_recursive(node, graph, maxsmall=0, smallcount=0, smallvisited=None):\n",
    "    if smallvisited is None:\n",
    "        smallvisited = set()\n",
    "    if node == 'end':\n",
    "        return 1\n",
    "    if node.islower():\n",
    "        if node in smallvisited:\n",
    "            smallcount += 1\n",
    "            if smallcount > maxsmall:\n",
    "                return 0\n",
    "        smallvisited.add(node)\n",
    "    return sum(count_paths_recursive(nabe, graph, maxsmall, smallcount, smallvisited.copy()) for nabe in graph[node])\n",
    "\n",
    "graph = load_graph(data)\n",
    "print('part_1 =', count_paths_recursive('start', graph, maxsmall=0))\n",
    "print('part_2 =', count_paths_recursive('start', graph, maxsmall=1))"
   ]
  },
  {
   "cell_type": "code",
   "execution_count": null,
   "metadata": {},
   "outputs": [],
   "source": []
  }
 ],
 "metadata": {
  "hide_input": false,
  "kernelspec": {
   "display_name": "Python 3",
   "language": "python",
   "name": "python3"
  },
  "language_info": {
   "codemirror_mode": {
    "name": "ipython",
    "version": 3
   },
   "file_extension": ".py",
   "mimetype": "text/x-python",
   "name": "python",
   "nbconvert_exporter": "python",
   "pygments_lexer": "ipython3",
   "version": "3.8.5"
  }
 },
 "nbformat": 4,
 "nbformat_minor": 4
}
