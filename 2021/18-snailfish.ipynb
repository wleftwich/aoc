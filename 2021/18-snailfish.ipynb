{
 "cells": [
  {
   "cell_type": "markdown",
   "metadata": {},
   "source": [
    "https://adventofcode.com/2021/day/18"
   ]
  },
  {
   "cell_type": "code",
   "execution_count": 1,
   "metadata": {},
   "outputs": [
    {
     "name": "stdout",
     "output_type": "stream",
     "text": [
      "part_1 = 3793\n",
      "part_2 = 4695\n"
     ]
    }
   ],
   "source": [
    "#!/usr/bin/env python\n",
    "\n",
    "# https://adventofcode.com/2021/day/18\n",
    "\n",
    "import re\n",
    "from itertools import permutations\n",
    "\n",
    "with open('data/18.txt') as fh:\n",
    "    data = fh.read()\n",
    "\n",
    "    \n",
    "def find_exploder(s):\n",
    "    d = 0\n",
    "    for i, c in enumerate(s):\n",
    "        if c == '[':\n",
    "            d += 1\n",
    "        elif c == ']':\n",
    "            d -= 1\n",
    "            if d < 0:\n",
    "                raise ValueError(\"negative nesting depth\")\n",
    "        if d == 5:\n",
    "            m = re.match(r'\\[(\\d+),(\\d+)\\]', s[i:])\n",
    "            if m is not None:\n",
    "                return (i, m.end(), int(m.group(1)), int(m.group(2)))\n",
    "\n",
    "\n",
    "def explode(s):\n",
    "    exploder = find_exploder(s)\n",
    "    if exploder is None:\n",
    "        return s\n",
    "    i, delta, a, b = exploder\n",
    "    left, right = s[:i], s[i+delta:]\n",
    "\n",
    "    # Add `a` to rightmost number on the left\n",
    "    def leftsub(m):\n",
    "        return str(int(m.group()) + a)\n",
    "    left = re.sub(r'\\d+(?!.*\\d)', leftsub, left)\n",
    "    \n",
    "    # Add `b` to leftmost number on the right\n",
    "    def rightsub(m):\n",
    "        return str(int(m.group()) + b)\n",
    "    right = re.sub(r'\\d+', rightsub, right, count=1)\n",
    "\n",
    "    return left + '0' + right\n",
    "\n",
    "\n",
    "def split(s):\n",
    "    def subfun(m):\n",
    "        q, r = divmod(int(m.group()), 2)\n",
    "        return '[' + str(q) + ',' + str(q + r) + ']'\n",
    "    return re.sub(r'\\d\\d', subfun, s, count=1)\n",
    "\n",
    "\n",
    "def reduce(s):\n",
    "    t = explode(s)\n",
    "    while t != s:\n",
    "        s = t\n",
    "        t = explode(s)\n",
    "    t = split(s)\n",
    "    if t == s:\n",
    "        return t\n",
    "    else:\n",
    "        return reduce(t)\n",
    "\n",
    "    \n",
    "def add(a, b):\n",
    "    s = '[' + a + ',' + b + ']'\n",
    "    return reduce(s)\n",
    "\n",
    "\n",
    "def magnitude(s):\n",
    "    def subfun(m):\n",
    "        return str(int(m.group(1)) * 3 + int(m.group(2)) * 2)\n",
    "    while '[' in s:\n",
    "        s = re.sub(r'\\[(\\d+),(\\d+)\\]', subfun, s)\n",
    "    return int(s)\n",
    "\n",
    "\n",
    "it = iter(data.split())\n",
    "ttl = next(it)\n",
    "for n in it:\n",
    "    ttl = add(ttl, n)\n",
    "part_1 = magnitude(ttl)\n",
    "print('part_1 =', part_1)\n",
    "\n",
    "\n",
    "part_2 = max(magnitude(add(a, b)) for (a, b) in permutations(data.split(), 2))\n",
    "print('part_2 =', part_2)"
   ]
  }
 ],
 "metadata": {
  "hide_input": false,
  "kernelspec": {
   "display_name": "Python 3",
   "language": "python",
   "name": "python3"
  },
  "language_info": {
   "codemirror_mode": {
    "name": "ipython",
    "version": 3
   },
   "file_extension": ".py",
   "mimetype": "text/x-python",
   "name": "python",
   "nbconvert_exporter": "python",
   "pygments_lexer": "ipython3",
   "version": "3.8.5"
  }
 },
 "nbformat": 4,
 "nbformat_minor": 4
}
