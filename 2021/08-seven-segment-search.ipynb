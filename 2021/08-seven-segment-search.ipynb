{
 "cells": [
  {
   "cell_type": "markdown",
   "metadata": {},
   "source": [
    "https://adventofcode.com/2021/day/8"
   ]
  },
  {
   "cell_type": "code",
   "execution_count": 1,
   "metadata": {},
   "outputs": [],
   "source": [
    "from itertools import combinations\n",
    "from collections import defaultdict, Counter\n",
    "\n",
    "from toolz import concat"
   ]
  },
  {
   "cell_type": "code",
   "execution_count": 2,
   "metadata": {},
   "outputs": [],
   "source": [
    "with open('data/08.txt') as fh:\n",
    "    data = [x.strip() for x in fh]"
   ]
  },
  {
   "cell_type": "code",
   "execution_count": 3,
   "metadata": {},
   "outputs": [],
   "source": [
    "def getdisplay(line):\n",
    "    return line.strip().split('|')[1].split()"
   ]
  },
  {
   "cell_type": "code",
   "execution_count": 4,
   "metadata": {},
   "outputs": [],
   "source": [
    "def count1478(line):\n",
    "    return sum(len(x) in {2, 4, 3, 7} for x in getdisplay(line))"
   ]
  },
  {
   "cell_type": "code",
   "execution_count": 5,
   "metadata": {},
   "outputs": [
    {
     "data": {
      "text/plain": [
       "247"
      ]
     },
     "execution_count": 5,
     "metadata": {},
     "output_type": "execute_result"
    }
   ],
   "source": [
    "sum(count1478(line) for line in data)"
   ]
  },
  {
   "cell_type": "code",
   "execution_count": 6,
   "metadata": {},
   "outputs": [],
   "source": [
    "def parseline(line):\n",
    "    digits_str, display_str = line.strip().split('|')\n",
    "    digits = [set(x) for x in digits_str.split()]\n",
    "    display = [set(x) for x in display_str.split()]\n",
    "    return (digits, display)"
   ]
  },
  {
   "cell_type": "code",
   "execution_count": 7,
   "metadata": {},
   "outputs": [],
   "source": [
    "refdigits = [set(x) for x in ['abcefg', 'cf', 'acdeg', 'acdfg', 'bcdf', 'abdfg', 'abdefg', 'acf', 'abcdefg', 'abcdfg']]"
   ]
  },
  {
   "cell_type": "code",
   "execution_count": 8,
   "metadata": {},
   "outputs": [],
   "source": [
    "refdigitlookup = {frozenset(x): str(i) for (i, x) in enumerate(refdigits)}"
   ]
  },
  {
   "cell_type": "code",
   "execution_count": 9,
   "metadata": {},
   "outputs": [
    {
     "data": {
      "text/plain": [
       "{frozenset({'a', 'b', 'c', 'e', 'f', 'g'}): '0',\n",
       " frozenset({'c', 'f'}): '1',\n",
       " frozenset({'a', 'c', 'd', 'e', 'g'}): '2',\n",
       " frozenset({'a', 'c', 'd', 'f', 'g'}): '3',\n",
       " frozenset({'b', 'c', 'd', 'f'}): '4',\n",
       " frozenset({'a', 'b', 'd', 'f', 'g'}): '5',\n",
       " frozenset({'a', 'b', 'd', 'e', 'f', 'g'}): '6',\n",
       " frozenset({'a', 'c', 'f'}): '7',\n",
       " frozenset({'a', 'b', 'c', 'd', 'e', 'f', 'g'}): '8',\n",
       " frozenset({'a', 'b', 'c', 'd', 'f', 'g'}): '9'}"
      ]
     },
     "execution_count": 9,
     "metadata": {},
     "output_type": "execute_result"
    }
   ],
   "source": [
    "refdigitlookup"
   ]
  },
  {
   "cell_type": "code",
   "execution_count": 18,
   "metadata": {},
   "outputs": [],
   "source": [
    "def getlengthlookup(digits):\n",
    "    D = {}\n",
    "    for digit in digits:\n",
    "        D.setdefault(len(digit), []).append(digit)\n",
    "    return D      "
   ]
  },
  {
   "cell_type": "code",
   "execution_count": 19,
   "metadata": {},
   "outputs": [
    {
     "data": {
      "text/plain": [
       "{6: [{'a', 'b', 'c', 'e', 'f', 'g'},\n",
       "  {'a', 'b', 'd', 'e', 'f', 'g'},\n",
       "  {'a', 'b', 'c', 'd', 'f', 'g'}],\n",
       " 2: [{'c', 'f'}],\n",
       " 5: [{'a', 'c', 'd', 'e', 'g'},\n",
       "  {'a', 'c', 'd', 'f', 'g'},\n",
       "  {'a', 'b', 'd', 'f', 'g'}],\n",
       " 4: [{'b', 'c', 'd', 'f'}],\n",
       " 3: [{'a', 'c', 'f'}],\n",
       " 7: [{'a', 'b', 'c', 'd', 'e', 'f', 'g'}]}"
      ]
     },
     "execution_count": 19,
     "metadata": {},
     "output_type": "execute_result"
    }
   ],
   "source": [
    "reflengthlookup = getlengthlookup(refdigits)\n",
    "\n",
    "reflengthlookup"
   ]
  },
  {
   "cell_type": "code",
   "execution_count": 20,
   "metadata": {},
   "outputs": [],
   "source": [
    "def getsegfreqlookup(digits):\n",
    "    segfreqs = Counter(concat(digits))\n",
    "    freqlookup = {}\n",
    "    for seg, freq in segfreqs.items():\n",
    "        freqlookup.setdefault(freq, set()).add(seg)\n",
    "    return freqlookup"
   ]
  },
  {
   "cell_type": "code",
   "execution_count": 21,
   "metadata": {},
   "outputs": [
    {
     "data": {
      "text/plain": [
       "{8: {'a', 'c'}, 7: {'d', 'g'}, 9: {'f'}, 4: {'e'}, 6: {'b'}}"
      ]
     },
     "execution_count": 21,
     "metadata": {},
     "output_type": "execute_result"
    }
   ],
   "source": [
    "reffreqlookup = getsegfreqlookup(refdigits)\n",
    "reffreqlookup"
   ]
  },
  {
   "cell_type": "code",
   "execution_count": 14,
   "metadata": {},
   "outputs": [],
   "source": [
    "def makesetpairs(digits):\n",
    "    pairs = []\n",
    "    segfreqs = getsegfreqlookup(digits)\n",
    "    for freq, refs in reffreqlookup.items():\n",
    "        pairs.append((refs, segfreqs[freq]))\n",
    "    return pairs"
   ]
  },
  {
   "cell_type": "code",
   "execution_count": 15,
   "metadata": {},
   "outputs": [],
   "source": [
    "def decode(digits):\n",
    "    pairs = makesetpairs(digits)\n",
    "    lengthlookup = getlengthlookup(digits)\n",
    "    seglookup = {}\n",
    "    still_unknown = {}\n",
    "    for x, y in pairs:\n",
    "        if len(x) == 1:\n",
    "            seglookup[next(iter(x))] = next(iter(y))\n",
    "        else:\n",
    "            for x1 in x:\n",
    "                still_unknown[x1] = y.copy()\n",
    "    seglookup['c'] = lengthlookup[2][0].copy().difference({seglookup['f']}).pop()\n",
    "    seglookup['a'] = still_unknown['a'].copy().difference({seglookup['c']}).pop()    \n",
    "    seglookup['d'] = lengthlookup[4][0].copy().difference({seglookup['b'], seglookup['c'], seglookup['f']}).pop()\n",
    "    seglookup['g'] = still_unknown['g'].copy().difference({seglookup['d']}).pop()\n",
    "    return {v:k for (k, v) in seglookup.items()}"
   ]
  },
  {
   "cell_type": "code",
   "execution_count": 16,
   "metadata": {},
   "outputs": [],
   "source": [
    "def decode_display(digits, display):\n",
    "    decoded = decode(digits)\n",
    "    numbers = []\n",
    "    for digit in display:\n",
    "        decoded_digit = frozenset(decoded[x] for x in digit)\n",
    "        numbers.append(refdigitlookup[decoded_digit])\n",
    "    return int(''.join(numbers))\n",
    "        "
   ]
  },
  {
   "cell_type": "code",
   "execution_count": 17,
   "metadata": {},
   "outputs": [
    {
     "data": {
      "text/plain": [
       "933305"
      ]
     },
     "execution_count": 17,
     "metadata": {},
     "output_type": "execute_result"
    }
   ],
   "source": [
    "sum(decode_display(*parseline(line)) for line in data)"
   ]
  }
 ],
 "metadata": {
  "hide_input": false,
  "kernelspec": {
   "display_name": "Python 3",
   "language": "python",
   "name": "python3"
  },
  "language_info": {
   "codemirror_mode": {
    "name": "ipython",
    "version": 3
   },
   "file_extension": ".py",
   "mimetype": "text/x-python",
   "name": "python",
   "nbconvert_exporter": "python",
   "pygments_lexer": "ipython3",
   "version": "3.8.5"
  }
 },
 "nbformat": 4,
 "nbformat_minor": 4
}
