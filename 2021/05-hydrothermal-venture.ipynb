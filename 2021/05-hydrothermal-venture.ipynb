{
 "cells": [
  {
   "cell_type": "markdown",
   "metadata": {},
   "source": [
    "https://adventofcode.com/2021/day/5"
   ]
  },
  {
   "cell_type": "code",
   "execution_count": 62,
   "metadata": {},
   "outputs": [
    {
     "name": "stdout",
     "output_type": "stream",
     "text": [
      "part_1 = 5084\n",
      "part_2 = 17882\n",
      "CPU times: user 84 ms, sys: 1.64 ms, total: 85.7 ms\n",
      "Wall time: 84.2 ms\n"
     ]
    }
   ],
   "source": [
    "%%time\n",
    "\n",
    "import re\n",
    "from collections import Counter\n",
    "from itertools import repeat\n",
    "\n",
    "with open('data/05.txt') as fh:\n",
    "    data = [x.strip() for x in fh]\n",
    "\n",
    "endpoints = [tuple(int(y) for y in re.split(r'[^\\d]+', x) if y) for x in data]\n",
    "\n",
    "def iter_closed_interval(a, b):\n",
    "    step = -1 if b < a else 1\n",
    "    return range(a, b + step, step)\n",
    "\n",
    "pointcounts = Counter()\n",
    "for (x1, y1, x2, y2) in endpoints:\n",
    "    dx = abs(x2 - x1)\n",
    "    dy = abs(y2 - y1)\n",
    "    if not dx:\n",
    "        pointcounts.update(zip(repeat(x1), iter_closed_interval(y1, y2)))\n",
    "    elif not dy:\n",
    "        pointcounts.update(zip(iter_closed_interval(x1, x2), repeat(y1)))\n",
    "\n",
    "part_1 = sum(v > 1 for v in pointcounts.values())\n",
    "print(\"part_1 =\", part_1)\n",
    "\n",
    "\n",
    "pointcounts = Counter()\n",
    "for (x1, y1, x2, y2) in endpoints:\n",
    "    dx = abs(x2 - x1)\n",
    "    dy = abs(y2 - y1)\n",
    "    if not dx:\n",
    "        pointcounts.update(zip(repeat(x1), iter_closed_interval(y1, y2)))\n",
    "    elif not dy:\n",
    "        pointcounts.update(zip(iter_closed_interval(x1, x2), repeat(y1)))\n",
    "    elif dx == dy:\n",
    "        pointcounts.update(zip(iter_closed_interval(x1, x2), iter_closed_interval(y1, y2)))\n",
    "        \n",
    "part_2 = sum(v > 1 for v in pointcounts.values())\n",
    "print(\"part_2 =\", part_2)"
   ]
  }
 ],
 "metadata": {
  "hide_input": false,
  "kernelspec": {
   "display_name": "Python 3",
   "language": "python",
   "name": "python3"
  },
  "language_info": {
   "codemirror_mode": {
    "name": "ipython",
    "version": 3
   },
   "file_extension": ".py",
   "mimetype": "text/x-python",
   "name": "python",
   "nbconvert_exporter": "python",
   "pygments_lexer": "ipython3",
   "version": "3.8.5"
  }
 },
 "nbformat": 4,
 "nbformat_minor": 4
}
