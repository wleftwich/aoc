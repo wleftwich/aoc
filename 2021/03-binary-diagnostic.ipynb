{
 "cells": [
  {
   "cell_type": "markdown",
   "metadata": {},
   "source": [
    "https://adventofcode.com/2021/day/3"
   ]
  },
  {
   "cell_type": "code",
   "execution_count": 1,
   "metadata": {},
   "outputs": [],
   "source": [
    "from collections import Counter\n",
    "\n",
    "import numpy as np"
   ]
  },
  {
   "cell_type": "code",
   "execution_count": 2,
   "metadata": {},
   "outputs": [],
   "source": [
    "with open('data/03.txt') as fh:\n",
    "    data = [y for y in (x.strip() for x in fh) if y]"
   ]
  },
  {
   "cell_type": "code",
   "execution_count": 3,
   "metadata": {},
   "outputs": [
    {
     "data": {
      "text/plain": "(1000,\n ['000111111001', '111011110110', '101111111000'],\n ['100100110000', '110011001010', '011001110101'])"
     },
     "execution_count": 3,
     "metadata": {},
     "output_type": "execute_result"
    }
   ],
   "source": [
    "len(data), data[:3], data[-3:]"
   ]
  },
  {
   "cell_type": "code",
   "execution_count": 67,
   "metadata": {},
   "outputs": [
    {
     "data": {
      "text/plain": [
       "array([501, 508, 485, 509, 502, 514, 494, 499, 501, 476, 496, 509])"
      ]
     },
     "execution_count": 67,
     "metadata": {},
     "output_type": "execute_result"
    }
   ],
   "source": [
    "ctr = np.array([0] * len(data[0]))\n",
    "\n",
    "for item in data:\n",
    "    ctr += [c == '1' for c in item]\n",
    "\n",
    "ctr"
   ]
  },
  {
   "cell_type": "code",
   "execution_count": 42,
   "metadata": {},
   "outputs": [
    {
     "data": {
      "text/plain": [
       "array([1, 1, 0, 1, 1, 1, 0, 0, 1, 0, 0, 1])"
      ]
     },
     "execution_count": 42,
     "metadata": {},
     "output_type": "execute_result"
    }
   ],
   "source": [
    "most_commons = (ctr >= 500).astype(int)\n",
    "most_commons"
   ]
  },
  {
   "cell_type": "code",
   "execution_count": 43,
   "metadata": {},
   "outputs": [
    {
     "data": {
      "text/plain": [
       "3529"
      ]
     },
     "execution_count": 43,
     "metadata": {},
     "output_type": "execute_result"
    }
   ],
   "source": [
    "gamma = int(''.join(str(x) for x in most_commons), 2)\n",
    "gamma"
   ]
  },
  {
   "cell_type": "code",
   "execution_count": 38,
   "metadata": {},
   "outputs": [
    {
     "data": {
      "text/plain": [
       "566"
      ]
     },
     "execution_count": 38,
     "metadata": {},
     "output_type": "execute_result"
    }
   ],
   "source": [
    "epsilon = int(''.join(str(1-x) for x in most_commons), 2)\n",
    "epsilon"
   ]
  },
  {
   "cell_type": "code",
   "execution_count": 46,
   "metadata": {},
   "outputs": [
    {
     "data": {
      "text/plain": [
       "1997414"
      ]
     },
     "execution_count": 46,
     "metadata": {},
     "output_type": "execute_result"
    }
   ],
   "source": [
    "gamma * epsilon"
   ]
  },
  {
   "cell_type": "code",
   "execution_count": 62,
   "metadata": {},
   "outputs": [],
   "source": [
    "def most_common_bit(L, pos):\n",
    "    ctr = Counter(x[pos] for x in L)\n",
    "    if ctr['0'] > ctr['1']:\n",
    "        return '0'\n",
    "    else:\n",
    "        return '1'\n",
    "\n",
    "def least_common_bit(L, pos):\n",
    "    ctr = Counter(x[pos] for x in L)\n",
    "    if ctr['1'] < ctr['0']:\n",
    "        return '1'\n",
    "    else:\n",
    "        return '0'    \n",
    "\n",
    "def step(L, pos, pred):\n",
    "    checkbit = pred(L, pos)\n",
    "    return [x for x in L if x[pos] == checkbit]"
   ]
  },
  {
   "cell_type": "code",
   "execution_count": 72,
   "metadata": {},
   "outputs": [
    {
     "name": "stdout",
     "output_type": "stream",
     "text": [
      "11\n",
      "110111110101\n",
      "3573\n"
     ]
    }
   ],
   "source": [
    "pred = most_common_bit\n",
    "L = data.copy()\n",
    "for pos in range(len(L[0])):\n",
    "    L = step(L, pos, pred)\n",
    "    if len(L) == 1:\n",
    "        print(pos)\n",
    "        print(L[0])\n",
    "        break\n",
    "else:\n",
    "    raise Exception(\"Fell off end of loop\")\n",
    "\n",
    "o2 = int(L[0], 2)\n",
    "print(o2)"
   ]
  },
  {
   "cell_type": "code",
   "execution_count": 73,
   "metadata": {},
   "outputs": [
    {
     "name": "stdout",
     "output_type": "stream",
     "text": [
      "8\n",
      "000100100001\n",
      "289\n"
     ]
    }
   ],
   "source": [
    "pred = least_common_bit\n",
    "L = data.copy()\n",
    "for pos in range(len(L[0])):\n",
    "    L = step(L, pos, pred)\n",
    "    if len(L) == 1:\n",
    "        print(pos)\n",
    "        print(L[0])\n",
    "        break\n",
    "else:\n",
    "    raise Exception(\"Fell off end of loop\")\n",
    "        \n",
    "co2 = int(L[0], 2)\n",
    "print(co2)"
   ]
  },
  {
   "cell_type": "code",
   "execution_count": 71,
   "metadata": {},
   "outputs": [
    {
     "data": {
      "text/plain": [
       "1032597"
      ]
     },
     "execution_count": 71,
     "metadata": {},
     "output_type": "execute_result"
    }
   ],
   "source": [
    "o2 * co2"
   ]
  }
 ],
 "metadata": {
  "hide_input": false,
  "kernelspec": {
   "display_name": "Python 3",
   "language": "python",
   "name": "python3"
  },
  "language_info": {
   "codemirror_mode": {
    "name": "ipython",
    "version": 3
   },
   "file_extension": ".py",
   "mimetype": "text/x-python",
   "name": "python",
   "nbconvert_exporter": "python",
   "pygments_lexer": "ipython3",
   "version": "3.8.5"
  }
 },
 "nbformat": 4,
 "nbformat_minor": 4
}
