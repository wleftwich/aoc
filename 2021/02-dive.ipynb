{
 "cells": [
  {
   "cell_type": "markdown",
   "metadata": {},
   "source": [
    "https://adventofcode.com/2021/day/2"
   ]
  },
  {
   "cell_type": "code",
   "execution_count": 1,
   "metadata": {},
   "outputs": [],
   "source": [
    "with open('data/02.txt') as fh:\n",
    "    data = fh.readlines()"
   ]
  },
  {
   "cell_type": "code",
   "execution_count": 2,
   "metadata": {},
   "outputs": [],
   "source": [
    "x = y = 0\n",
    "for line in data:\n",
    "    cmd, argstr = line.strip().split()\n",
    "    arg = int(argstr)\n",
    "    if cmd == 'forward':\n",
    "        x += arg\n",
    "    elif cmd == 'down':\n",
    "        y += arg\n",
    "    elif cmd == 'up':\n",
    "        y -= arg\n",
    "    else:\n",
    "        raise ValueError(\"Unrecognized command: %s\" % cmd)"
   ]
  },
  {
   "cell_type": "code",
   "execution_count": 3,
   "metadata": {},
   "outputs": [
    {
     "data": {
      "text/plain": [
       "1670340"
      ]
     },
     "execution_count": 3,
     "metadata": {},
     "output_type": "execute_result"
    }
   ],
   "source": [
    "x * y"
   ]
  },
  {
   "cell_type": "code",
   "execution_count": 4,
   "metadata": {},
   "outputs": [],
   "source": [
    "x = y = aim = 0\n",
    "for line in data:\n",
    "    cmd, argstr = line.strip().split()\n",
    "    arg = int(argstr)\n",
    "    if cmd == 'forward':\n",
    "        x += arg\n",
    "        y += arg * aim\n",
    "    elif cmd == 'down':\n",
    "        aim += arg\n",
    "    elif cmd == 'up':\n",
    "        aim -= arg\n",
    "    else:\n",
    "        raise ValueError(\"Unrecognized command: %s\" % cmd)"
   ]
  },
  {
   "cell_type": "code",
   "execution_count": 5,
   "metadata": {},
   "outputs": [
    {
     "data": {
      "text/plain": [
       "1954293920"
      ]
     },
     "execution_count": 5,
     "metadata": {},
     "output_type": "execute_result"
    }
   ],
   "source": [
    "x * y"
   ]
  }
 ],
 "metadata": {
  "hide_input": false,
  "kernelspec": {
   "display_name": "Python 3",
   "language": "python",
   "name": "python3"
  },
  "language_info": {
   "codemirror_mode": {
    "name": "ipython",
    "version": 3
   },
   "file_extension": ".py",
   "mimetype": "text/x-python",
   "name": "python",
   "nbconvert_exporter": "python",
   "pygments_lexer": "ipython3",
   "version": "3.8.5"
  }
 },
 "nbformat": 4,
 "nbformat_minor": 4
}
