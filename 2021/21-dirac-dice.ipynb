{
 "cells": [
  {
   "cell_type": "markdown",
   "metadata": {},
   "source": [
    "https://adventofcode.com/2021/day/21"
   ]
  },
  {
   "cell_type": "code",
   "execution_count": 3,
   "metadata": {},
   "outputs": [
    {
     "name": "stdout",
     "output_type": "stream",
     "text": [
      "part_1 = 556206\n",
      "part_2 = 630797200227453\n"
     ]
    }
   ],
   "source": [
    "from itertools import cycle, product\n",
    "from collections import Counter, defaultdict\n",
    "\n",
    "data = \"\"\"\\\n",
    "Player 1 starting position: 7\n",
    "Player 2 starting position: 8\n",
    "\"\"\"\n",
    "\n",
    "def wrap10(n):\n",
    "    return n % 10 or 10\n",
    "\n",
    "def practice(p1, p2, goal=1000, rolls=3):\n",
    "    dd = cycle(range(1, 101))\n",
    "    s1 = s2 = 0\n",
    "    rollcount = 0\n",
    "    while True:\n",
    "        p1 = wrap10(p1 + sum(next(dd) for _ in range(rolls)))\n",
    "        s1 += p1\n",
    "        rollcount += 3\n",
    "        if s1 >= goal:\n",
    "            break\n",
    "        p2 = wrap10(p2 + sum(next(dd) for _ in range(rolls)))\n",
    "        s2 += p2\n",
    "        rollcount += 3\n",
    "        if s2 >= goal:\n",
    "            break\n",
    "    return min(s1, s2) * rollcount\n",
    "\n",
    "\n",
    "part_1 = practice(7, 8)\n",
    "print('part_1 =', part_1)\n",
    "\n",
    "## Part 2\n",
    "\n",
    "possible_moves = [sum(x) for x in product((1, 2, 3), repeat=3)]\n",
    "move_counts = sorted(Counter(possible_moves).items())\n",
    "\n",
    "def move_a(verse):\n",
    "    nextverse = defaultdict(int)\n",
    "    for ((ascore, apos, bscore, bpos), vcount), (move, movecount) in product(verse.items(), move_counts):\n",
    "        apos = wrap10(apos + move)\n",
    "        ascore += apos\n",
    "        nextverse[(ascore, apos, bscore, bpos)] += vcount * movecount\n",
    "    return nextverse\n",
    "\n",
    "def move_b(verse):\n",
    "    nextverse = defaultdict(int)\n",
    "    for ((ascore, apos, bscore, bpos), vcount), (move, movecount) in product(verse.items(), move_counts):\n",
    "        bpos = wrap10(bpos + move)\n",
    "        bscore += bpos\n",
    "        nextverse[(ascore, apos, bscore, bpos)] += vcount * movecount\n",
    "    return nextverse\n",
    "\n",
    "def cull_winners(verse, completed):\n",
    "    for k in list(verse):\n",
    "        (ascore, apos, bscore, bpos) = k\n",
    "        if ascore >= 21 or bscore >= 21:\n",
    "            completed.append((ascore, bscore, verse[k]))\n",
    "            del verse[k]\n",
    "\n",
    "\n",
    "verse = {(0, 7, 0, 8): 1}\n",
    "completed = []\n",
    "while verse:\n",
    "    verse = move_a(verse)\n",
    "    cull_winners(verse, completed)\n",
    "    verse = move_b(verse)\n",
    "    cull_winners(verse, completed)\n",
    "\n",
    "part_2  = max(sum(c for (a, b, c) in completed if a >= 21),\n",
    "              sum(c for (a, b, c) in completed if b >= 21))\n",
    "\n",
    "print('part_2 =', part_2)"
   ]
  }
 ],
 "metadata": {
  "hide_input": false,
  "kernelspec": {
   "display_name": "Python 3",
   "language": "python",
   "name": "python3"
  },
  "language_info": {
   "codemirror_mode": {
    "name": "ipython",
    "version": 3
   },
   "file_extension": ".py",
   "mimetype": "text/x-python",
   "name": "python",
   "nbconvert_exporter": "python",
   "pygments_lexer": "ipython3",
   "version": "3.8.5"
  }
 },
 "nbformat": 4,
 "nbformat_minor": 4
}
