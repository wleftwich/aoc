{
 "cells": [
  {
   "cell_type": "markdown",
   "metadata": {},
   "source": [
    "https://adventofcode.com/2021/day/17"
   ]
  },
  {
   "cell_type": "code",
   "execution_count": 1,
   "metadata": {},
   "outputs": [],
   "source": [
    "from collections import Counter, defaultdict\n",
    "from itertools import product"
   ]
  },
  {
   "cell_type": "markdown",
   "metadata": {},
   "source": [
    "data:\n",
    "target area: x=244..303, y=-91..-54"
   ]
  },
  {
   "cell_type": "code",
   "execution_count": 2,
   "metadata": {},
   "outputs": [],
   "source": [
    "xmin = 244\n",
    "xmax = 303\n",
    "ymin = -91\n",
    "ymax = -54"
   ]
  },
  {
   "cell_type": "markdown",
   "metadata": {},
   "source": [
    "testdata: target area: x=20..30, y=-10..-5"
   ]
  },
  {
   "cell_type": "code",
   "execution_count": 3,
   "metadata": {},
   "outputs": [],
   "source": [
    "# xmin = 20\n",
    "# xmax = 30\n",
    "# ymin = -10\n",
    "# ymax = -5"
   ]
  },
  {
   "cell_type": "code",
   "execution_count": 4,
   "metadata": {},
   "outputs": [],
   "source": [
    "def check_trajectory(vx, vy):\n",
    "    t, x, y = 0, 0, 0\n",
    "    while x <= xmax and y >= ymin:\n",
    "        t += 1\n",
    "        x += vx\n",
    "        y += vy\n",
    "        if xmin <= x <= xmax and ymin <= y <= ymax:\n",
    "            return True\n",
    "        vx = max(0, vx - 1)\n",
    "        vy -= 1\n",
    "    return False\n",
    "        "
   ]
  },
  {
   "cell_type": "code",
   "execution_count": 5,
   "metadata": {},
   "outputs": [
    {
     "data": {
      "text/plain": [
       "90"
      ]
     },
     "execution_count": 5,
     "metadata": {},
     "output_type": "execute_result"
    }
   ],
   "source": [
    "# Go to bottom of target in 1 hop\n",
    "min_vy = ymin \n",
    "\n",
    "# When falling from max height, vy at y == 0 will be -vy0 - 1\n",
    "# So max_vy is -ymin -1\n",
    "max_vy = -ymin - 1\n",
    "max_vy"
   ]
  },
  {
   "cell_type": "code",
   "execution_count": 6,
   "metadata": {},
   "outputs": [
    {
     "data": {
      "text/plain": [
       "True"
      ]
     },
     "execution_count": 6,
     "metadata": {},
     "output_type": "execute_result"
    }
   ],
   "source": [
    "# Verify that there is a vx that will land us on target with this vy\n",
    "any(check_trajectory(vx, max_vy) for vx in range(xmax + 1))"
   ]
  },
  {
   "cell_type": "code",
   "execution_count": 25,
   "metadata": {},
   "outputs": [
    {
     "name": "stdout",
     "output_type": "stream",
     "text": [
      "part_1 = 4095\n"
     ]
    }
   ],
   "source": [
    "max_height = sum(range(1, max_vy+1))\n",
    "part_1 = max_height\n",
    "print('part_1 =', part_1)"
   ]
  },
  {
   "cell_type": "markdown",
   "metadata": {},
   "source": [
    "# Part 2"
   ]
  },
  {
   "cell_type": "code",
   "execution_count": 9,
   "metadata": {},
   "outputs": [
    {
     "data": {
      "text/plain": [
       "4095"
      ]
     },
     "execution_count": 9,
     "metadata": {},
     "output_type": "execute_result"
    }
   ],
   "source": [
    "max_height = part_1\n",
    "max_height"
   ]
  },
  {
   "cell_type": "code",
   "execution_count": 20,
   "metadata": {},
   "outputs": [],
   "source": [
    "# for each possible vy, populate a dict of {ticks: set([vys])} for hitting target y range\n",
    "ytv = defaultdict(set)\n",
    "\n",
    "for vy in range(max_vy, min_vy-1, -1):\n",
    "    t = 1\n",
    "    d = 0\n",
    "    vy1 = vy\n",
    "    while True:\n",
    "        d += vy1\n",
    "        if ymin <= d <= ymax:\n",
    "            ytv[t].add(vy)\n",
    "        if d < ymin:\n",
    "            break\n",
    "        vy1 -=1\n",
    "        t += 1\n",
    "\n"
   ]
  },
  {
   "cell_type": "code",
   "execution_count": 26,
   "metadata": {},
   "outputs": [],
   "source": [
    "S = {1, 2, 3}"
   ]
  },
  {
   "cell_type": "code",
   "execution_count": null,
   "metadata": {},
   "outputs": [],
   "source": []
  },
  {
   "cell_type": "code",
   "execution_count": 28,
   "metadata": {},
   "outputs": [],
   "source": [
    "# for each possible vx, populate a dict of {ticks: set([vxs])} for hitting target x range\n",
    "xtv = defaultdict(set)\n",
    "\n",
    "# Initial vx's that result in x stopping in target zone.\n",
    "x_stops = set()\n",
    "        \n",
    "for vx in range(xmax+1):\n",
    "    t = 1\n",
    "    d = 0\n",
    "    vx1 = vx\n",
    "    while True:\n",
    "        d += vx1\n",
    "        if t in ytv and xmin <= d <= xmax:\n",
    "            xtv[t].add(vx)\n",
    "            if vx1 == 0:\n",
    "                x_stops.add(vx)\n",
    "        if vx1 == 0:\n",
    "            break\n",
    "        if d > xmax:\n",
    "            break\n",
    "        vx1 = max(0, vx1 - 1)\n",
    "        t += 1\n",
    "\n",
    "for t in ytv:\n",
    "    for x_stop in x_stops:\n",
    "        if t >= x_stop:\n",
    "            xtv[t].add(x_stop)\n"
   ]
  },
  {
   "cell_type": "code",
   "execution_count": 29,
   "metadata": {},
   "outputs": [],
   "source": [
    "S = set()\n",
    "for t in set(xtv).intersection(ytv):\n",
    "    S.update(product(xtv[t], ytv[t]))"
   ]
  },
  {
   "cell_type": "code",
   "execution_count": 30,
   "metadata": {},
   "outputs": [
    {
     "name": "stdout",
     "output_type": "stream",
     "text": [
      "part_2 = 3773\n"
     ]
    }
   ],
   "source": [
    "part_2 = len(S)\n",
    "print('part_2 =', part_2)"
   ]
  },
  {
   "cell_type": "code",
   "execution_count": 15,
   "metadata": {},
   "outputs": [],
   "source": [
    "testresult_text = \"\"\"\\\n",
    "23,-10  25,-9   27,-5   29,-6   22,-6   21,-7   9,0     27,-7   24,-5\n",
    "25,-7   26,-6   25,-5   6,8     11,-2   20,-5   29,-10  6,3     28,-7\n",
    "8,0     30,-6   29,-8   20,-10  6,7     6,4     6,1     14,-4   21,-6\n",
    "26,-10  7,-1    7,7     8,-1    21,-9   6,2     20,-7   30,-10  14,-3\n",
    "20,-8   13,-2   7,3     28,-8   29,-9   15,-3   22,-5   26,-8   25,-8\n",
    "25,-6   15,-4   9,-2    15,-2   12,-2   28,-9   12,-3   24,-6   23,-7\n",
    "25,-10  7,8     11,-3   26,-7   7,1     23,-9   6,0     22,-10  27,-6\n",
    "8,1     22,-8   13,-4   7,6     28,-6   11,-4   12,-4   26,-9   7,4\n",
    "24,-10  23,-8   30,-8   7,0     9,-1    10,-1   26,-5   22,-9   6,5\n",
    "7,5     23,-6   28,-10  10,-2   11,-1   20,-9   14,-2   29,-7   13,-3\n",
    "23,-5   24,-8   27,-9   30,-7   28,-5   21,-10  7,9     6,6     21,-5\n",
    "27,-10  7,2     30,-9   21,-8   22,-7   24,-9   20,-6   6,9     29,-5\n",
    "8,-2    27,-8   30,-5   24,-7\"\"\""
   ]
  },
  {
   "cell_type": "code",
   "execution_count": 16,
   "metadata": {},
   "outputs": [],
   "source": [
    "pairs = testresult_text.split()\n",
    "testset = set()\n",
    "for pair in pairs:\n",
    "    xstr, ystr = pair.split(',')\n",
    "    testset.add((int(xstr), int(ystr)))"
   ]
  }
 ],
 "metadata": {
  "hide_input": false,
  "kernelspec": {
   "display_name": "Python 3",
   "language": "python",
   "name": "python3"
  },
  "language_info": {
   "codemirror_mode": {
    "name": "ipython",
    "version": 3
   },
   "file_extension": ".py",
   "mimetype": "text/x-python",
   "name": "python",
   "nbconvert_exporter": "python",
   "pygments_lexer": "ipython3",
   "version": "3.8.5"
  }
 },
 "nbformat": 4,
 "nbformat_minor": 5
}
