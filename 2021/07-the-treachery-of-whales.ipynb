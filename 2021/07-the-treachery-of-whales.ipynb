{
 "cells": [
  {
   "cell_type": "markdown",
   "metadata": {},
   "source": [
    "https://adventofcode.com/2021/day/7"
   ]
  },
  {
   "cell_type": "code",
   "execution_count": 13,
   "metadata": {},
   "outputs": [
    {
     "name": "stdout",
     "output_type": "stream",
     "text": [
      "356179\n",
      "99788435\n",
      "CPU times: user 615 ms, sys: 0 ns, total: 615 ms\n",
      "Wall time: 613 ms\n"
     ]
    }
   ],
   "source": [
    "%%time\n",
    "\n",
    "with open('data/07.txt') as fh:\n",
    "    data = fh.read().strip()\n",
    "\n",
    "crabs = [int(x) for x in data.split(',')]\n",
    "\n",
    "def distance(a, b):\n",
    "    return abs(a - b)\n",
    "\n",
    "def triangle(a, b):\n",
    "    n = abs(a - b)\n",
    "    return n * (n + 1) // 2\n",
    "\n",
    "part_1 = min(sum(distance(c, p) for c in crabs) for p in range(min(crabs), max(crabs)+1))\n",
    "print(part_1)\n",
    "\n",
    "part_2 = min(sum(triangle(c, p) for c in crabs) for p in range(min(crabs), max(crabs)+1))\n",
    "print(part_2)"
   ]
  }
 ],
 "metadata": {
  "hide_input": false,
  "kernelspec": {
   "display_name": "Python 3",
   "language": "python",
   "name": "python3"
  },
  "language_info": {
   "codemirror_mode": {
    "name": "ipython",
    "version": 3
   },
   "file_extension": ".py",
   "mimetype": "text/x-python",
   "name": "python",
   "nbconvert_exporter": "python",
   "pygments_lexer": "ipython3",
   "version": "3.8.5"
  }
 },
 "nbformat": 4,
 "nbformat_minor": 4
}
