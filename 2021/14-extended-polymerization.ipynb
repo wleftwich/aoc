{
 "cells": [
  {
   "cell_type": "markdown",
   "metadata": {},
   "source": [
    "https://adventofcode.com/2021/day/14"
   ]
  },
  {
   "cell_type": "code",
   "execution_count": 1,
   "metadata": {},
   "outputs": [
    {
     "name": "stdout",
     "output_type": "stream",
     "text": [
      "part_1 = 2509\n",
      "part_2 =  2827627697643\n"
     ]
    }
   ],
   "source": [
    "#!/usr/bin/env python3\n",
    "\n",
    "from collections import Counter\n",
    "\n",
    "with open('data/14.txt') as fh:\n",
    "    data = fh.read()\n",
    "\n",
    "def load_data(data):\n",
    "    template_str, rules_str = data.split('\\n\\n')\n",
    "    template = template_str.strip()\n",
    "    rules = {k: v for (k, _, v) in (x.split() for x in rules_str.strip().split('\\n'))}\n",
    "    return template, rules\n",
    "\n",
    "def polymerize(molecule, rules):\n",
    "    result = ''\n",
    "    for i in range(len(molecule) - 1):\n",
    "        result += molecule[i] + rules[molecule[i:i+2]]\n",
    "    result += molecule[-1]\n",
    "    return result\n",
    "\n",
    "template, rules = load_data(data)\n",
    "\n",
    "molecule = template\n",
    "for _ in range(10):\n",
    "    molecule = polymerize(molecule, rules)\n",
    "\n",
    "counts = Counter(molecule).values()\n",
    "part_1 = max(counts) - min(counts)\n",
    "print('part_1 =', part_1)\n",
    "\n",
    "\"\"\"\n",
    "Part 2\n",
    "\n",
    "Let's not build a string trillions long.\n",
    "Instead, count frequencies of shingled monomer pairs.\n",
    "\"\"\"\n",
    "\n",
    "def make_shingle_freqs(molecule):\n",
    "    return Counter(''.join(pair) for pair in zip(molecule, molecule[1:]))\n",
    "\n",
    "def make_shingle_rules(insertionrules):\n",
    "    return {k: (k[0] + v, v + k[1]) for k, v in insertionrules.items()}\n",
    "\n",
    "def shingle_step(shingle_freqs, shingle_rules):\n",
    "    c = Counter()\n",
    "    for s, f in shingle_freqs.items():\n",
    "        for snew in shingle_rules[s]:\n",
    "            c[snew] += f\n",
    "    return c\n",
    "\n",
    "def shingle_monomer_freqs(shingle_freqs):\n",
    "    monomer_counts = Counter()\n",
    "    for k, v in shingle_freqs.items():\n",
    "        for monomer in k:\n",
    "            monomer_counts[monomer] += v\n",
    "    return {k: sum(divmod(v, 2)) for k, v in monomer_counts.items()}\n",
    "\n",
    "shingle_freqs = make_shingle_freqs(template)\n",
    "shingle_rules = make_shingle_rules(rules)\n",
    "\n",
    "for _ in range(40):\n",
    "    shingle_freqs = shingle_step(shingle_freqs, shingle_rules)\n",
    "\n",
    "monomer_freqs = shingle_monomer_freqs(shingle_freqs)\n",
    "counts = monomer_freqs.values()\n",
    "part_2 = max(counts) - min(counts)\n",
    "print('part_2 = ', part_2)"
   ]
  }
 ],
 "metadata": {
  "hide_input": false,
  "kernelspec": {
   "display_name": "Python 3",
   "language": "python",
   "name": "python3"
  },
  "language_info": {
   "codemirror_mode": {
    "name": "ipython",
    "version": 3
   },
   "file_extension": ".py",
   "mimetype": "text/x-python",
   "name": "python",
   "nbconvert_exporter": "python",
   "pygments_lexer": "ipython3",
   "version": "3.8.5"
  }
 },
 "nbformat": 4,
 "nbformat_minor": 4
}
