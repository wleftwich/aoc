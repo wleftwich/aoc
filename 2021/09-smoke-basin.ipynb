{
 "cells": [
  {
   "cell_type": "markdown",
   "metadata": {},
   "source": [
    "https://adventofcode.com/2021/day/9"
   ]
  },
  {
   "cell_type": "code",
   "execution_count": 142,
   "metadata": {},
   "outputs": [
    {
     "name": "stdout",
     "output_type": "stream",
     "text": [
      "part_1 = 532\n",
      "part_2 = 1110780\n",
      "CPU times: user 28 ms, sys: 0 ns, total: 28 ms\n",
      "Wall time: 26.9 ms\n"
     ]
    }
   ],
   "source": [
    "%%time\n",
    "\n",
    "from collections import deque\n",
    "\n",
    "with open('data/09.txt') as fh:\n",
    "    data = fh.read()\n",
    "\n",
    "grid = {}\n",
    "for y, line in enumerate(data.split()):\n",
    "    for x, c in enumerate(line):\n",
    "        grid[complex(x, -y)] = int(c)\n",
    "\n",
    "def iter_neighbors(coord, grid=grid):\n",
    "    for delta in [1, 0+1j, -1, 0-1j]:\n",
    "        p = grid.get(coord + delta)\n",
    "        if p is not None:\n",
    "            yield p\n",
    "\n",
    "# part 1\n",
    "\n",
    "total_risk = 0\n",
    "for (coord, p) in grid.items():\n",
    "    if p < min(iter_neighbors(coord)):\n",
    "        total_risk += p + 1\n",
    "part_1 = total_risk\n",
    "print('part_1 =', part_1)\n",
    "\n",
    "\n",
    "# part 2\n",
    "\n",
    "def bfs(p, space):\n",
    "    q = deque([p])\n",
    "    visited = {p}\n",
    "    while q:\n",
    "        c = q.popleft()\n",
    "        for delta in [1, 0+1j, -1, 0-1j]:\n",
    "            n = c + delta\n",
    "            if n in visited:\n",
    "                continue\n",
    "            try:\n",
    "                space.remove(n)\n",
    "            except KeyError:\n",
    "                continue\n",
    "            visited.add(n)\n",
    "            q.append(n)\n",
    "    return len(visited)\n",
    "\n",
    "\n",
    "space = {k for k, v in grid.items() if v != 9}\n",
    "basins = []\n",
    "while space:\n",
    "    p = space.pop()\n",
    "    basins.append(bfs(p, space))\n",
    "\n",
    "part_2 = 1\n",
    "for x in sorted(basins)[-3:]:\n",
    "    part_2 *= x\n",
    "print('part_2 =', part_2)"
   ]
  }
 ],
 "metadata": {
  "hide_input": false,
  "kernelspec": {
   "display_name": "Python 3",
   "language": "python",
   "name": "python3"
  },
  "language_info": {
   "codemirror_mode": {
    "name": "ipython",
    "version": 3
   },
   "file_extension": ".py",
   "mimetype": "text/x-python",
   "name": "python",
   "nbconvert_exporter": "python",
   "pygments_lexer": "ipython3",
   "version": "3.8.5"
  }
 },
 "nbformat": 4,
 "nbformat_minor": 4
}
