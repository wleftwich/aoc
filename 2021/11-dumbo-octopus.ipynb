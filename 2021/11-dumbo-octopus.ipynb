{
 "cells": [
  {
   "cell_type": "markdown",
   "metadata": {},
   "source": [
    "https://adventofcode.com/2021/day/11"
   ]
  },
  {
   "cell_type": "code",
   "execution_count": 94,
   "metadata": {},
   "outputs": [
    {
     "name": "stdout",
     "output_type": "stream",
     "text": [
      "part_1 = 1705\n",
      "part_2 = 265\n",
      "CPU times: user 25.3 ms, sys: 3.59 ms, total: 28.9 ms\n",
      "Wall time: 28.4 ms\n"
     ]
    }
   ],
   "source": [
    "%%time\n",
    "with open('data/11.txt') as fh:\n",
    "    data = fh.read()\n",
    "\n",
    "def load_grid(data):\n",
    "    D = {}\n",
    "    for y, line in enumerate(data.split()):\n",
    "        for x, c in enumerate(line):\n",
    "            D[complex(x, -y)] = int(c)\n",
    "    return D\n",
    "\n",
    "def tick(grid):\n",
    "    for k in grid:\n",
    "        grid[k] += 1\n",
    "    flashed = set()\n",
    "    toflash = {k for k, v in grid.items() if v > 9}\n",
    "    while toflash:\n",
    "        flashed.update(toflash)\n",
    "        for k in toflash:\n",
    "            for delta in [1, 1+1j, 0+1j, -1+1j, -1, -1-1j, 0-1j, 1-1j]:\n",
    "                try:\n",
    "                    grid[k+delta] += 1\n",
    "                except KeyError:\n",
    "                    pass\n",
    "        toflash = {k for k, v in grid.items() if v > 9 and k not in flashed}\n",
    "    grid.update((k, 0) for k in flashed)\n",
    "    return len(flashed)\n",
    "\n",
    "grid = load_grid(data)\n",
    "flashes = sum(tick(grid) for _ in range(100))\n",
    "print('part_1 =', flashes)\n",
    "\n",
    "grid = load_grid(data)\n",
    "i = 1\n",
    "while tick(grid) < 100:\n",
    "    i += 1\n",
    "print('part_2 =', i)"
   ]
  }
 ],
 "metadata": {
  "hide_input": false,
  "kernelspec": {
   "display_name": "Python 3",
   "language": "python",
   "name": "python3"
  },
  "language_info": {
   "codemirror_mode": {
    "name": "ipython",
    "version": 3
   },
   "file_extension": ".py",
   "mimetype": "text/x-python",
   "name": "python",
   "nbconvert_exporter": "python",
   "pygments_lexer": "ipython3",
   "version": "3.8.5"
  }
 },
 "nbformat": 4,
 "nbformat_minor": 4
}
