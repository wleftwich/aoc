{
 "cells": [
  {
   "cell_type": "markdown",
   "metadata": {},
   "source": [
    "https://adventofcode.com/2021/day/10"
   ]
  },
  {
   "cell_type": "code",
   "execution_count": 78,
   "metadata": {},
   "outputs": [
    {
     "name": "stdout",
     "output_type": "stream",
     "text": [
      "part_1 = 323613\n",
      "part_1 = 3103006161\n",
      "CPU times: user 2.88 ms, sys: 0 ns, total: 2.88 ms\n",
      "Wall time: 2.27 ms\n"
     ]
    }
   ],
   "source": [
    "%%time\n",
    "\n",
    "from statistics import median\n",
    "\n",
    "with open('data/10.txt') as fh:\n",
    "    data = [x.strip() for x in fh]\n",
    "\n",
    "begins = {'(', '[', '{', '<'}\n",
    "ends = {')':'(', ']': '[', '}': '{', '>': '<'}\n",
    "\n",
    "score_lookup = {\n",
    "    ')': 3,\n",
    "    ']': 57,\n",
    "    '}': 1197,\n",
    "    '>': 25137\n",
    "}\n",
    "\n",
    "score = 0\n",
    "uncorrupted = []\n",
    "for line in data:\n",
    "    stack = []\n",
    "    for c in line:\n",
    "        if c in begins:\n",
    "            stack.append(c)\n",
    "        elif stack.pop() != ends[c]:\n",
    "            score += score_lookup[c]\n",
    "            break\n",
    "    else:\n",
    "        uncorrupted.append(line)       \n",
    "\n",
    "part_1 = score\n",
    "print('part_1 =', part_1)\n",
    "\n",
    "\n",
    "def completion_score(line):\n",
    "    \"\"\"Assume open & close tags are balanced\"\"\"\n",
    "    begin_score = {'(': 1, '[': 2, '{': 3, '<': 4}\n",
    "    stack = []\n",
    "    for c in line:\n",
    "        if c in begin_score:\n",
    "            stack.append(c)\n",
    "        else:\n",
    "            stack.pop()\n",
    "    score = 0\n",
    "    for c in reversed(stack):\n",
    "        score = score * 5 + begin_score[c]\n",
    "    return score   \n",
    "\n",
    "scores = [completion_score(line) for line in uncorrupted]\n",
    "\n",
    "part_2 = median(scores)\n",
    "print('part_1 =', part_2)"
   ]
  },
  {
   "cell_type": "code",
   "execution_count": null,
   "metadata": {},
   "outputs": [],
   "source": []
  }
 ],
 "metadata": {
  "hide_input": false,
  "kernelspec": {
   "display_name": "Python 3",
   "language": "python",
   "name": "python3"
  },
  "language_info": {
   "codemirror_mode": {
    "name": "ipython",
    "version": 3
   },
   "file_extension": ".py",
   "mimetype": "text/x-python",
   "name": "python",
   "nbconvert_exporter": "python",
   "pygments_lexer": "ipython3",
   "version": "3.8.5"
  }
 },
 "nbformat": 4,
 "nbformat_minor": 4
}
