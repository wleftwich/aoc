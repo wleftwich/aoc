{
 "cells": [
  {
   "cell_type": "markdown",
   "metadata": {},
   "source": [
    "https://adventofcode.com/2021/day/20"
   ]
  },
  {
   "cell_type": "code",
   "execution_count": 5,
   "metadata": {},
   "outputs": [
    {
     "name": "stdout",
     "output_type": "stream",
     "text": [
      "part_2 = 5619\n",
      "part_2 = 20122\n"
     ]
    }
   ],
   "source": [
    "#!/usr/bin/env python3\n",
    "\n",
    "import numpy as np\n",
    "\n",
    "from bitstring import BitArray\n",
    "\n",
    "with open('data/20.txt') as fh:\n",
    "    data = fh.read()\n",
    "\n",
    "def load_data(data):\n",
    "    alg_s, pic_s = [x.strip() for x in data.split('\\n\\n')]\n",
    "    \n",
    "    alg_s = ''.join(alg_s.split())\n",
    "    alg = np.zeros(len(alg_s), dtype=np.bool8)\n",
    "    for i, c in enumerate(alg_s):\n",
    "        alg[i] = (c == '#')\n",
    "    \n",
    "    piclines = pic_s.split()\n",
    "    h = len(piclines)\n",
    "    w = len(piclines[0])\n",
    "    \n",
    "    pic = np.zeros((h, w), dtype=np.bool8)\n",
    "    for i, line in enumerate(piclines):\n",
    "        for j, c in enumerate(line):\n",
    "            pic[i, j] = (c == '#')\n",
    "    \n",
    "    return pic, alg\n",
    "\n",
    "def printpic(pic):\n",
    "    for row in pic:\n",
    "        print(''.join('#' if b else '.' for b in row))\n",
    "\n",
    "\n",
    "def resolve(pic, alg, infinite_light=False):\n",
    "    h0, w0 = pic.shape\n",
    "    h, w = h0 + 4, w0 + 4\n",
    "    if alg[0] and infinite_light:\n",
    "        pic1 = np.ones((h, w), dtype=np.bool8)\n",
    "        pic2 = np.ones((h, w), dtype=np.bool8)\n",
    "    else:\n",
    "        pic1 = np.zeros((h, w), dtype=np.bool8)\n",
    "        pic2 = np.zeros((h, w), dtype=np.bool8)\n",
    "    pic1[2:-2, 2:-2] = pic\n",
    "    for i in range(1, h-1):\n",
    "        for j in range(1, w-1):\n",
    "            subpic = pic1[i-1:i+2, j-1:j+2]\n",
    "            n = BitArray(subpic.ravel()).uint\n",
    "            pic2[i, j] = alg[n]\n",
    "    return pic2[1:-1, 1:-1], not infinite_light\n",
    "\n",
    "\n",
    "pic1, alg = load_data(data)\n",
    "infinite_light = False\n",
    "for _ in range(2):\n",
    "    pic1, infinite_light = resolve(pic1, alg, infinite_light)\n",
    "print('part_2 =', pic1.sum())\n",
    "\n",
    "# Part 2\n",
    "\n",
    "pic2, alg = load_data(data)\n",
    "infinite_light = False\n",
    "for _ in range(50):\n",
    "    pic2, infinite_light = resolve(pic2, alg, infinite_light)\n",
    "print('part_2 =', pic2.sum())"
   ]
  }
 ],
 "metadata": {
  "hide_input": false,
  "kernelspec": {
   "display_name": "Python 3",
   "language": "python",
   "name": "python3"
  },
  "language_info": {
   "codemirror_mode": {
    "name": "ipython",
    "version": 3
   },
   "file_extension": ".py",
   "mimetype": "text/x-python",
   "name": "python",
   "nbconvert_exporter": "python",
   "pygments_lexer": "ipython3",
   "version": "3.8.5"
  }
 },
 "nbformat": 4,
 "nbformat_minor": 4
}
