{
 "cells": [
  {
   "cell_type": "markdown",
   "metadata": {},
   "source": [
    "https://adventofcode.com/2021/day/4"
   ]
  },
  {
   "cell_type": "code",
   "execution_count": 1,
   "metadata": {},
   "outputs": [],
   "source": [
    "import numpy as np"
   ]
  },
  {
   "cell_type": "code",
   "execution_count": 2,
   "outputs": [],
   "source": [
    "with open('data/04.txt') as fh:\n",
    "    data = fh.read()"
   ],
   "metadata": {
    "collapsed": false
   }
  },
  {
   "cell_type": "code",
   "execution_count": 3,
   "outputs": [],
   "source": [
    "balls_str, cards_str = data.split('\\n\\n', maxsplit=1)\n",
    "balls = [int(x) for x in balls_str.split(',')]\n",
    "cards = np.array([int(x) for x in cards_str.split()], dtype=np.int8).reshape(-1, 5, 5)"
   ],
   "metadata": {
    "collapsed": false
   }
  },
  {
   "cell_type": "code",
   "execution_count": 4,
   "outputs": [
    {
     "data": {
      "text/plain": "(100, 5, 5)"
     },
     "execution_count": 4,
     "metadata": {},
     "output_type": "execute_result"
    }
   ],
   "source": [
    "cards.shape"
   ],
   "metadata": {
    "collapsed": false
   }
  },
  {
   "cell_type": "code",
   "execution_count": 5,
   "outputs": [
    {
     "data": {
      "text/plain": "array([[22, 59,  7, 10,  6],\n       [33, 36, 96, 55, 23],\n       [13, 85, 18, 29, 28],\n       [75, 46, 83, 73, 58],\n       [34, 40, 87, 56, 98]], dtype=int8)"
     },
     "execution_count": 5,
     "metadata": {},
     "output_type": "execute_result"
    }
   ],
   "source": [
    "cards[0]"
   ],
   "metadata": {
    "collapsed": false
   }
  },
  {
   "cell_type": "code",
   "execution_count": 26,
   "outputs": [],
   "source": [
    "masks = np.zeros_like(cards)\n",
    "winners = []\n",
    "already_won = set()\n",
    "for ball in balls:\n",
    "    masks += (cards == ball)\n",
    "    winning_indices = np.where((masks.sum(axis=1) == 5) | (masks.sum(axis=2) == 5))[0]\n",
    "    for idx in winning_indices:\n",
    "        if idx not in already_won:\n",
    "            winners.append((idx, ball, masks[idx].copy()))\n",
    "            already_won.add(idx)"
   ],
   "metadata": {
    "collapsed": false
   }
  },
  {
   "cell_type": "code",
   "execution_count": 27,
   "outputs": [
    {
     "name": "stdout",
     "output_type": "stream",
     "text": [
      "part_1 = 71708\n",
      "part_2 = 34726\n"
     ]
    }
   ],
   "source": [
    "idx, ball, mask = winners[0]\n",
    "part_1 = (cards[idx] * (1 - mask)).sum() * ball\n",
    "print(\"part_1 =\", part_1)\n",
    "\n",
    "idx, ball, mask = winners[-1]\n",
    "part_2 = (cards[idx] * (1 - mask)).sum() * ball\n",
    "print(\"part_2 =\", part_2)"
   ],
   "metadata": {
    "collapsed": false
   }
  }
 ],
 "metadata": {
  "hide_input": false,
  "kernelspec": {
   "display_name": "Python 3",
   "language": "python",
   "name": "python3"
  },
  "language_info": {
   "codemirror_mode": {
    "name": "ipython",
    "version": 3
   },
   "file_extension": ".py",
   "mimetype": "text/x-python",
   "name": "python",
   "nbconvert_exporter": "python",
   "pygments_lexer": "ipython3",
   "version": "3.8.5"
  }
 },
 "nbformat": 4,
 "nbformat_minor": 4
}
