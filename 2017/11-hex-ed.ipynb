{
 "cells": [
  {
   "cell_type": "markdown",
   "source": [
    "https://adventofcode.com/2017/day/11"
   ],
   "metadata": {
    "collapsed": false
   }
  },
  {
   "cell_type": "code",
   "execution_count": 41,
   "outputs": [],
   "source": [
    "from collections import Counter"
   ],
   "metadata": {
    "collapsed": false
   }
  },
  {
   "cell_type": "code",
   "execution_count": 16,
   "outputs": [],
   "source": [
    "with open(\"data/11.txt\") as fh:\n",
    "    txt = fh.read().strip()\n",
    "    data = txt.split(\",\")"
   ],
   "metadata": {
    "collapsed": false
   }
  },
  {
   "cell_type": "code",
   "execution_count": 17,
   "outputs": [
    {
     "data": {
      "text/plain": "8223"
     },
     "execution_count": 17,
     "metadata": {},
     "output_type": "execute_result"
    }
   ],
   "source": [
    "len(data)"
   ],
   "metadata": {
    "collapsed": false
   }
  },
  {
   "cell_type": "code",
   "execution_count": 38,
   "outputs": [],
   "source": [
    "def reduce_steps(D):\n",
    "    combos = [\n",
    "        (\"n\", \"s\", \"\"),\n",
    "        (\"ne\", \"sw\", \"\"),\n",
    "        (\"nw\", \"se\", \"\"),\n",
    "        (\"n\", \"se\", \"ne\"),\n",
    "        (\"n\", \"sw\", \"nw\"),\n",
    "        (\"ne\", \"nw\", \"n\"),\n",
    "        (\"ne\", \"s\", \"se\"),\n",
    "        (\"se\", \"sw\", \"s\"),\n",
    "        (\"nw\", \"s\", \"sw\"),\n",
    "    ]\n",
    "    for a, b, c in combos:\n",
    "        if not (D[a] and D[b]):\n",
    "            continue\n",
    "        if D[b] > D[a]:\n",
    "            a, b = b, a\n",
    "        if c:\n",
    "            D[c] += D[b]\n",
    "        D[a] -= D[b]\n",
    "        D[b] = 0\n"
   ],
   "metadata": {
    "collapsed": false
   }
  },
  {
   "cell_type": "code",
   "execution_count": 43,
   "outputs": [],
   "source": [
    "def minimize_path(data):\n",
    "    return minimize_step_counter(Counter(data))\n",
    "\n",
    "def minimize_step_counter(D):\n",
    "    stepcount = sum(D.values())\n",
    "    while True:\n",
    "        reduce_steps(D)\n",
    "        new_stepcount = sum(D.values())\n",
    "        if new_stepcount == stepcount:\n",
    "            return stepcount\n",
    "        stepcount = new_stepcount"
   ],
   "metadata": {
    "collapsed": false
   }
  },
  {
   "cell_type": "code",
   "execution_count": 44,
   "outputs": [
    {
     "data": {
      "text/plain": "810"
     },
     "execution_count": 44,
     "metadata": {},
     "output_type": "execute_result"
    }
   ],
   "source": [
    "minimize_path(data)"
   ],
   "metadata": {
    "collapsed": false
   }
  },
  {
   "cell_type": "code",
   "execution_count": 45,
   "outputs": [],
   "source": [
    "def farthest_steps(data):\n",
    "    minsteps = minimize_path(data)\n",
    "    D = Counter(data[:minsteps])\n",
    "    maxsteps = minsteps\n",
    "    for step in data[minsteps:]:\n",
    "        D[step] += 1\n",
    "        maxsteps = max(maxsteps, minimize_step_counter(D))\n",
    "    return maxsteps"
   ],
   "metadata": {
    "collapsed": false
   }
  },
  {
   "cell_type": "code",
   "execution_count": 46,
   "outputs": [
    {
     "data": {
      "text/plain": "1567"
     },
     "execution_count": 46,
     "metadata": {},
     "output_type": "execute_result"
    }
   ],
   "source": [
    "farthest_steps(data)"
   ],
   "metadata": {
    "collapsed": false
   }
  }
 ],
 "metadata": {
  "kernelspec": {
   "display_name": "Python 3",
   "language": "python",
   "name": "python3"
  },
  "language_info": {
   "codemirror_mode": {
    "name": "ipython",
    "version": 2
   },
   "file_extension": ".py",
   "mimetype": "text/x-python",
   "name": "python",
   "nbconvert_exporter": "python",
   "pygments_lexer": "ipython2",
   "version": "2.7.6"
  }
 },
 "nbformat": 4,
 "nbformat_minor": 0
}
