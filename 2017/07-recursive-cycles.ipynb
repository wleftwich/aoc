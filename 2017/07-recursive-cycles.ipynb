{
 "cells": [
  {
   "cell_type": "code",
   "execution_count": 9,
   "metadata": {
    "collapsed": true
   },
   "outputs": [],
   "source": [
    "import re\n",
    "\n",
    "import networkx as nx"
   ]
  },
  {
   "cell_type": "code",
   "execution_count": 55,
   "outputs": [],
   "source": [
    "with open(\"data/07.txt\") as fh:\n",
    "    data = fh.read()"
   ],
   "metadata": {
    "collapsed": false
   }
  },
  {
   "cell_type": "code",
   "execution_count": 3,
   "outputs": [],
   "source": [
    "testdata = \"\"\"\\\n",
    "pbga (66)\n",
    "xhth (57)\n",
    "ebii (61)\n",
    "havc (66)\n",
    "ktlj (57)\n",
    "fwft (72) -> ktlj, cntj, xhth\n",
    "qoyq (66)\n",
    "padx (45) -> pbga, havc, qoyq\n",
    "tknk (41) -> ugml, padx, fwft\n",
    "jptl (61)\n",
    "ugml (68) -> gyxo, ebii, jptl\n",
    "gyxo (61)\n",
    "cntj (57)\n",
    "\"\"\""
   ],
   "metadata": {
    "collapsed": false
   }
  },
  {
   "cell_type": "code",
   "execution_count": 37,
   "outputs": [],
   "source": [
    "def build_directed_graph(data):\n",
    "    G = nx.DiGraph()\n",
    "    for line in data.split(\"\\n\"):\n",
    "        line = line.strip()\n",
    "        if not line:\n",
    "            continue\n",
    "        node, weight, children = parse_line(line)\n",
    "        G.add_node(node, weight=weight)\n",
    "        for child in children:\n",
    "            G.add_edge(node, child)\n",
    "    return G\n",
    "\n",
    "def parse_line(line):\n",
    "    m0 = re.match(r\"[^\\s]+\", line)\n",
    "    node = m0.group()\n",
    "    m1 = re.search(r\"\\d+\", line)\n",
    "    weight = int(m1.group())\n",
    "    m2 = re.search(r\"(?<=-> ).+\", line)\n",
    "    if m2 is not None:\n",
    "        children = [x.rstrip(\",\") for x in m2.group().split()]\n",
    "    else:\n",
    "        children = []\n",
    "    return (node, weight, children)"
   ],
   "metadata": {
    "collapsed": false
   }
  },
  {
   "cell_type": "code",
   "execution_count": 53,
   "outputs": [],
   "source": [
    "Gtest = build_directed_graph(testdata)"
   ],
   "metadata": {
    "collapsed": false
   }
  },
  {
   "cell_type": "code",
   "execution_count": 60,
   "outputs": [
    {
     "data": {
      "text/plain": "['tknk']"
     },
     "execution_count": 60,
     "metadata": {},
     "output_type": "execute_result"
    }
   ],
   "source": [
    "[node for node in Gtest if not Gtest.in_degree(node)]"
   ],
   "metadata": {
    "collapsed": false
   }
  },
  {
   "cell_type": "markdown",
   "source": [
    "Part 1"
   ],
   "metadata": {
    "collapsed": false
   }
  },
  {
   "cell_type": "code",
   "execution_count": 112,
   "outputs": [
    {
     "data": {
      "text/plain": "['cyrupz']"
     },
     "execution_count": 112,
     "metadata": {},
     "output_type": "execute_result"
    }
   ],
   "source": [
    "G = build_directed_graph(data)\n",
    "[node for node in G if not G.in_degree(node)]"
   ],
   "metadata": {
    "collapsed": false
   }
  },
  {
   "cell_type": "markdown",
   "source": [
    "Part 2"
   ],
   "metadata": {
    "collapsed": false
   }
  },
  {
   "cell_type": "code",
   "execution_count": 111,
   "outputs": [
    {
     "name": "stdout",
     "output_type": "stream",
     "text": [
      "[{'weight': 1023, 'subtree_weight': 1123}, {'weight': 877, 'subtree_weight': 1123}, {'weight': 171, 'subtree_weight': 1123}, {'weight': 397, 'subtree_weight': 1123}, {'weight': 201, 'subtree_weight': 1131}, {'weight': 27, 'subtree_weight': 1123}, {'weight': 46, 'subtree_weight': 1123}]\n"
     ]
    }
   ],
   "source": [
    "G = build_directed_graph(data)\n",
    "for nodename in nx.dfs_postorder_nodes(G, source=\"cyrupzb\"):\n",
    "    if G.out_degree(nodename):\n",
    "        successor_nodes = [G.nodes[x] for x in G.successors(nodename)]\n",
    "        successor_tree_weights = [G.nodes[succname][\"subtree_weight\"] for succname in G.successors(nodename)]\n",
    "        if len(set(successor_tree_weights)) > 1:\n",
    "            print(successor_nodes)\n",
    "            break\n",
    "    node = G.nodes[nodename]\n",
    "    node[\"subtree_weight\"] = node.get(\"subtree_weight\", node[\"weight\"])\n",
    "    for predname in G.predecessors(nodename):\n",
    "        pred = G.nodes[predname]\n",
    "        pred[\"subtree_weight\"] = pred.get(\"subtree_weight\", pred[\"weight\"]) + node[\"subtree_weight\"]"
   ],
   "metadata": {
    "collapsed": false
   }
  },
  {
   "cell_type": "markdown",
   "source": [
    "By inspection, answer to part 2 is 193."
   ],
   "metadata": {
    "collapsed": false
   }
  },
  {
   "cell_type": "code",
   "execution_count": null,
   "outputs": [],
   "source": [],
   "metadata": {
    "collapsed": false
   }
  }
 ],
 "metadata": {
  "kernelspec": {
   "display_name": "Python 3",
   "language": "python",
   "name": "python3"
  },
  "language_info": {
   "codemirror_mode": {
    "name": "ipython",
    "version": 2
   },
   "file_extension": ".py",
   "mimetype": "text/x-python",
   "name": "python",
   "nbconvert_exporter": "python",
   "pygments_lexer": "ipython2",
   "version": "2.7.6"
  }
 },
 "nbformat": 4,
 "nbformat_minor": 0
}
