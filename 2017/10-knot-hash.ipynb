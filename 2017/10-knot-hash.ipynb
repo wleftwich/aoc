{
 "cells": [
  {
   "cell_type": "markdown",
   "source": [
    "https://adventofcode.com/2017/day/10"
   ],
   "metadata": {
    "collapsed": false
   }
  },
  {
   "cell_type": "code",
   "execution_count": 188,
   "outputs": [
    {
     "data": {
      "text/plain": "[187, 254, 0, 81, 169, 219, 1, 190, 19, 102, 255, 56, 46, 32, 2, 216]"
     },
     "execution_count": 188,
     "metadata": {},
     "output_type": "execute_result"
    }
   ],
   "source": [
    "data = \"187,254,0,81,169,219,1,190,19,102,255,56,46,32,2,216\"\n",
    "puzzle_input = [int(x) for x in data.split(\",\")]\n",
    "puzzle_input"
   ],
   "metadata": {
    "collapsed": false
   }
  },
  {
   "cell_type": "code",
   "execution_count": 201,
   "metadata": {
    "collapsed": true
   },
   "outputs": [],
   "source": [
    "import operator\n",
    "import toolz"
   ]
  },
  {
   "cell_type": "code",
   "execution_count": 211,
   "outputs": [],
   "source": [
    "class CircularList(list):\n",
    "    \"\"\"Thanks to https://stackoverflow.com/a/47606550/203629\n",
    "\n",
    "    N.B. Negative indices may produce unexpected results.\n",
    "    \"\"\"\n",
    "\n",
    "    def __getitem__(self, key):\n",
    "        if isinstance(key, slice):\n",
    "            return [self[x] for x in self._rangeify(key)]\n",
    "\n",
    "        key = operator.index(key)\n",
    "        if key < 0:\n",
    "            raise IndexError(\"Negative indices not defined for CircularList\")\n",
    "        try:\n",
    "            return super().__getitem__(key % len(self))\n",
    "        except ZeroDivisionError:\n",
    "            raise IndexError(\"Can't get an item from an empty CircularList\")\n",
    "\n",
    "    def __setitem__(self, key, value):\n",
    "        if isinstance(key, slice):\n",
    "            for k, v in zip(self._rangeify(key), value):\n",
    "                self[k] = v\n",
    "            return\n",
    "\n",
    "        key = operator.index(key)\n",
    "        if key < 0:\n",
    "            raise IndexError(\"Negative indices not defined for CircularList\")\n",
    "        super().__setitem__(key % len(self), value)\n",
    "\n",
    "    def _rangeify(self, slice_):\n",
    "        start, stop, step = slice_.start, slice_.stop, slice_.step\n",
    "        if start is None:\n",
    "            start = 0\n",
    "        if stop is None:\n",
    "            stop = start + len(self)\n",
    "        if step is None:\n",
    "            step = 1\n",
    "        if start < 0 or stop < 0:\n",
    "            raise IndexError(\"Negative indices not defined for CircularList\")\n",
    "        return range(start, stop, step)\n"
   ],
   "metadata": {
    "collapsed": false
   }
  },
  {
   "cell_type": "code",
   "execution_count": 212,
   "outputs": [],
   "source": [
    "class Knotter:\n",
    "    def __init__(self, lengths=puzzle_input):\n",
    "        self.lengths = lengths\n",
    "        self.pos = 0\n",
    "        self.skip = 0\n",
    "        self.cl = CircularList(range(256))\n",
    "        self.size = len(self.cl)\n",
    "\n",
    "    def knot(self, length):\n",
    "        cl = self.cl\n",
    "        pos = self.pos\n",
    "        cl[pos:pos+length] = cl[pos:pos+length][::-1]\n",
    "        self.pos = (pos + length + self.skip) % self.size\n",
    "        self.skip += 1\n",
    "\n",
    "    def round(self):\n",
    "        for length in self.lengths:\n",
    "            self.knot(length)\n",
    "\n"
   ],
   "metadata": {
    "collapsed": false
   }
  },
  {
   "cell_type": "code",
   "execution_count": 213,
   "outputs": [
    {
     "name": "stdout",
     "output_type": "stream",
     "text": [
      "CPU times: user 8 µs, sys: 1e+03 ns, total: 9 µs\n",
      "Wall time: 20 µs\n"
     ]
    }
   ],
   "source": [
    "%time\n",
    "kr = Knotter()\n",
    "kr.round()"
   ],
   "metadata": {
    "collapsed": false
   }
  },
  {
   "cell_type": "markdown",
   "source": [
    "Part 1"
   ],
   "metadata": {
    "collapsed": false
   }
  },
  {
   "cell_type": "code",
   "execution_count": 214,
   "outputs": [
    {
     "data": {
      "text/plain": "1980"
     },
     "execution_count": 214,
     "metadata": {},
     "output_type": "execute_result"
    }
   ],
   "source": [
    "kr.cl[0] * kr.cl[1]"
   ],
   "metadata": {
    "collapsed": false
   }
  },
  {
   "cell_type": "markdown",
   "source": [
    "Part 2"
   ],
   "metadata": {
    "collapsed": false
   }
  },
  {
   "cell_type": "code",
   "execution_count": 192,
   "outputs": [],
   "source": [
    "class Knotter2(Knotter):\n",
    "    def run(self):\n",
    "        for _ in range(64):\n",
    "            self.round()"
   ],
   "metadata": {
    "collapsed": false
   }
  },
  {
   "cell_type": "code",
   "execution_count": 190,
   "outputs": [],
   "source": [
    "input_2 = [ord(c) for c in data] + [17, 31, 73, 47, 23]"
   ],
   "metadata": {
    "collapsed": false
   }
  },
  {
   "cell_type": "code",
   "execution_count": 193,
   "outputs": [
    {
     "name": "stdout",
     "output_type": "stream",
     "text": [
      "CPU times: user 191 ms, sys: 0 ns, total: 191 ms\n",
      "Wall time: 188 ms\n"
     ]
    }
   ],
   "source": [
    "%%time\n",
    "kr2 = Knotter2(input_2)\n",
    "kr2.run()"
   ],
   "metadata": {
    "collapsed": false
   }
  },
  {
   "cell_type": "code",
   "execution_count": 196,
   "outputs": [
    {
     "data": {
      "text/plain": "'93 3 82 45 157 35 27 216 64 200 44 60 58 158 208 57 150 65 155 180 131 56 253 237 238 246 130 168 189 135 241 59 171 199 117 164 124 226 84 201 227 69 207 254 178 230 213 140 101 196 218 9 86 172 163 176 243 162 29 142 81 147 96 33 245 50 221 55 211 255 203 161 215 210 170 175 240 71 119 105 127 22 134 25 83 113 92 102 154 152 139 98 118 222 185 4 77 153 156 247 146 160 202 54 114 91 67 205 110 239 250 191 85 31 34 229 167 15 179 11 192 235 242 87 1 115 244 126 38 32 198 26 107 129 80 78 138 145 70 177 48 6 251 204 97 39 12 214 194 173 249 120 151 103 187 95 149 148 75 2 41 193 17 225 137 37 14 53 63 252 89 136 143 51 184 182 159 181 188 133 197 228 112 125 195 128 99 7 13 108 36 16 30 21 141 169 165 116 183 42 5 62 61 76 79 47 74 18 66 43 104 72 106 212 8 90 144 223 190 186 219 209 233 231 28 73 123 68 52 10 46 0 23 248 94 88 121 122 111 19 206 24 132 217 109 224 20 174 220 234 236 40 49 232 100 166'"
     },
     "execution_count": 196,
     "metadata": {},
     "output_type": "execute_result"
    }
   ],
   "source": [
    "' '.join(str(x) for x in kr2.cl)"
   ],
   "metadata": {
    "collapsed": false
   }
  },
  {
   "cell_type": "code",
   "execution_count": 205,
   "outputs": [
    {
     "data": {
      "text/plain": "[137, 145, 36, 218, 194, 16, 18, 235, 195, 46, 47, 77, 17, 234, 236, 85]"
     },
     "execution_count": 205,
     "metadata": {},
     "output_type": "execute_result"
    }
   ],
   "source": [
    "dense_hash = [toolz.reduce(operator.xor, x) for x in toolz.partition_all(16, kr2.cl)]\n",
    "dense_hash"
   ],
   "metadata": {
    "collapsed": false
   }
  },
  {
   "cell_type": "code",
   "execution_count": 210,
   "outputs": [
    {
     "data": {
      "text/plain": "'899124dac21012ebc32e2f4d11eaec55'"
     },
     "execution_count": 210,
     "metadata": {},
     "output_type": "execute_result"
    }
   ],
   "source": [
    "\"\".join([f\"{i:0>2x}\" for i in dense_hash])"
   ],
   "metadata": {
    "collapsed": false
   }
  }
 ],
 "metadata": {
  "kernelspec": {
   "display_name": "Python 3",
   "language": "python",
   "name": "python3"
  },
  "language_info": {
   "codemirror_mode": {
    "name": "ipython",
    "version": 2
   },
   "file_extension": ".py",
   "mimetype": "text/x-python",
   "name": "python",
   "nbconvert_exporter": "python",
   "pygments_lexer": "ipython2",
   "version": "2.7.6"
  }
 },
 "nbformat": 4,
 "nbformat_minor": 0
}
