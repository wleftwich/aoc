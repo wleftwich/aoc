{
 "cells": [
  {
   "cell_type": "markdown",
   "source": [
    "https://adventofcode.com/2017/day/20"
   ],
   "metadata": {
    "collapsed": false
   }
  },
  {
   "cell_type": "code",
   "execution_count": 106,
   "outputs": [],
   "source": [
    "import re\n",
    "from collections import defaultdict\n",
    "\n",
    "import numpy as np"
   ],
   "metadata": {
    "collapsed": false
   }
  },
  {
   "cell_type": "code",
   "execution_count": 1,
   "outputs": [],
   "source": [
    "with open(\"data/20.txt\") as fh:\n",
    "    data = fh.read()"
   ],
   "metadata": {
    "collapsed": false
   }
  },
  {
   "cell_type": "code",
   "execution_count": 110,
   "outputs": [],
   "source": [
    "class Particle:\n",
    "    def __init__(self, id, params):\n",
    "        self.id = id\n",
    "        self.pos = np.array(params[:3])\n",
    "        self.vel = np.array(params[3:6])\n",
    "        self.acc = np.array(params[6:])\n",
    "\n",
    "    @property\n",
    "    def manhattan_accel(self):\n",
    "        return sum(abs(x) for x in self.acc)\n",
    "\n",
    "    def tick(self):\n",
    "        self.vel += self.acc\n",
    "        self.pos += self.vel\n",
    "\n",
    "    def __repr__(self):\n",
    "        return \"<Particle %s (%s)>\" % (self.id, self.pos)"
   ],
   "metadata": {
    "collapsed": false
   }
  },
  {
   "cell_type": "code",
   "execution_count": 109,
   "outputs": [],
   "source": [
    "def load_particles(data):\n",
    "    return [Particle(i, [int(x) for x in re.findall(r\"-?\\d+\", line)]) for i, line in enumerate(data.strip(\"\\n\").splitlines())]"
   ],
   "metadata": {
    "collapsed": false
   }
  },
  {
   "cell_type": "code",
   "execution_count": 111,
   "outputs": [
    {
     "data": {
      "text/plain": "(1000,\n [<Particle 0 ([1609 -863 -779])>,\n  <Particle 1 ([-391 1353 -387])>,\n  <Particle 2 ([3329 -143  333])>],\n [<Particle 997 ([ -130 -2872  -500])>,\n  <Particle 998 ([ 887  551 2127])>,\n  <Particle 999 ([ 283  101 2902])>])"
     },
     "execution_count": 111,
     "metadata": {},
     "output_type": "execute_result"
    }
   ],
   "source": [
    "particles = load_particles(data)\n",
    "len(particles), particles[:3], particles[-3:]"
   ],
   "metadata": {
    "collapsed": false
   }
  },
  {
   "cell_type": "markdown",
   "source": [
    "Part 1"
   ],
   "metadata": {
    "collapsed": false
   }
  },
  {
   "cell_type": "code",
   "execution_count": 122,
   "outputs": [
    {
     "name": "stdout",
     "output_type": "stream",
     "text": [
      "CPU times: user 23.6 ms, sys: 4 ms, total: 27.6 ms\n",
      "Wall time: 25.4 ms\n"
     ]
    },
    {
     "data": {
      "text/plain": "<Particle 91 ([-6575  4365  1363])>"
     },
     "execution_count": 122,
     "metadata": {},
     "output_type": "execute_result"
    }
   ],
   "source": [
    "%%time\n",
    "particles = load_particles(data)\n",
    "min(particles, key=lambda x: x.manhattan_accel)"
   ],
   "metadata": {
    "collapsed": false
   }
  },
  {
   "cell_type": "markdown",
   "source": [
    "Part 2"
   ],
   "metadata": {
    "collapsed": false
   }
  },
  {
   "cell_type": "code",
   "execution_count": 140,
   "outputs": [
    {
     "name": "stdout",
     "output_type": "stream",
     "text": [
      "CPU times: user 1.41 s, sys: 0 ns, total: 1.41 s\n",
      "Wall time: 1.41 s\n"
     ]
    },
    {
     "data": {
      "text/plain": "567"
     },
     "execution_count": 140,
     "metadata": {},
     "output_type": "execute_result"
    }
   ],
   "source": [
    "%%time\n",
    "D = {x.id:x for x in load_particles(data)}\n",
    "for _ in range(1_000):\n",
    "    poses = defaultdict(list)\n",
    "    for p in D.values():\n",
    "        p.tick()\n",
    "        poses[tuple(p.pos)].append(p.id)\n",
    "    for v in poses.values():\n",
    "        if len(v) > 1:\n",
    "            for i in v:\n",
    "                del D[i]\n",
    "len(D)"
   ],
   "metadata": {
    "collapsed": false
   }
  }
 ],
 "metadata": {
  "kernelspec": {
   "display_name": "Python 3",
   "language": "python",
   "name": "python3"
  },
  "language_info": {
   "codemirror_mode": {
    "name": "ipython",
    "version": 2
   },
   "file_extension": ".py",
   "mimetype": "text/x-python",
   "name": "python",
   "nbconvert_exporter": "python",
   "pygments_lexer": "ipython2",
   "version": "2.7.6"
  }
 },
 "nbformat": 4,
 "nbformat_minor": 0
}
