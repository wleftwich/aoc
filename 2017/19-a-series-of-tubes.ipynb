{
 "cells": [
  {
   "cell_type": "markdown",
   "source": [
    "https://adventofcode.com/2017/day/19"
   ],
   "metadata": {
    "collapsed": false
   }
  },
  {
   "cell_type": "code",
   "execution_count": 1,
   "outputs": [],
   "source": [
    "with open(\"data/19.txt\") as fh:\n",
    "    data = fh.read()"
   ],
   "metadata": {
    "collapsed": false
   }
  },
  {
   "cell_type": "code",
   "execution_count": 2,
   "outputs": [],
   "source": [
    "def load_grid(data):\n",
    "    g = {}\n",
    "    for j, l in enumerate(data.strip(\"\\n\").splitlines()):\n",
    "        for i, c in enumerate(l):\n",
    "            if c != \" \":\n",
    "                g[complex(i, j)] = c\n",
    "    return g"
   ],
   "metadata": {
    "collapsed": false
   }
  },
  {
   "cell_type": "code",
   "execution_count": 3,
   "outputs": [],
   "source": [
    "testdata = \"\"\"\\\n",
    "     |\n",
    "     |  +--+\n",
    "     A  |  C\n",
    " F---|----E|--+\n",
    "     |  |  |  D\n",
    "     +B-+  +--+\n",
    "\"\"\""
   ],
   "metadata": {
    "collapsed": false
   }
  },
  {
   "cell_type": "code",
   "execution_count": 13,
   "outputs": [
    {
     "name": "stdout",
     "output_type": "stream",
     "text": [
      "(163+0j) |\n",
      "UICRNSDOK 16064\n",
      "CPU times: user 56.1 ms, sys: 7.92 ms, total: 64 ms\n",
      "Wall time: 62 ms\n"
     ]
    }
   ],
   "source": [
    "%%time\n",
    "g = load_grid(data)\n",
    "drxns = (1, -1, 1j, -1j)\n",
    "letters = []\n",
    "steps = 1\n",
    "d = 1j\n",
    "for p, c in g.items():\n",
    "    if p.imag == 0:\n",
    "        print(p, c)\n",
    "        break\n",
    "while True:\n",
    "    ds = {x for x in drxns if x != -d and (p + x) in g}\n",
    "    if d in ds:\n",
    "        pass\n",
    "    else:\n",
    "        try:\n",
    "            d = ds.pop()\n",
    "        except KeyError:\n",
    "            break\n",
    "    p += d\n",
    "    steps += 1\n",
    "    c = g[p]\n",
    "    if c not in {\"-\", \"|\", \"+\"}:\n",
    "        letters.append(c)\n",
    "print(\"\".join(letters), steps)"
   ],
   "metadata": {
    "collapsed": false
   }
  }
 ],
 "metadata": {
  "kernelspec": {
   "display_name": "Python 3",
   "language": "python",
   "name": "python3"
  },
  "language_info": {
   "codemirror_mode": {
    "name": "ipython",
    "version": 2
   },
   "file_extension": ".py",
   "mimetype": "text/x-python",
   "name": "python",
   "nbconvert_exporter": "python",
   "pygments_lexer": "ipython2",
   "version": "2.7.6"
  }
 },
 "nbformat": 4,
 "nbformat_minor": 0
}
