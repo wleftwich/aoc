{
 "cells": [
  {
   "cell_type": "markdown",
   "source": [
    "https://adventofcode.com/2017/day/18"
   ],
   "metadata": {
    "collapsed": false
   }
  },
  {
   "cell_type": "code",
   "execution_count": 1,
   "outputs": [],
   "source": [
    "from collections import defaultdict, deque"
   ],
   "metadata": {
    "collapsed": false
   }
  },
  {
   "cell_type": "code",
   "execution_count": 2,
   "outputs": [],
   "source": [
    "with open(\"data/18.txt\") as fh:\n",
    "    data = fh.read()"
   ],
   "metadata": {
    "collapsed": false
   }
  },
  {
   "cell_type": "code",
   "execution_count": 3,
   "outputs": [],
   "source": [
    "def load_instructions(data):\n",
    "    L = []\n",
    "    for line in data.splitlines():\n",
    "        inst = line.split()\n",
    "        if len(inst) == 2:\n",
    "            inst.append(\"\")\n",
    "        a, b, c = inst\n",
    "        try:\n",
    "            b = int(b)\n",
    "        except ValueError:\n",
    "            pass\n",
    "        try:\n",
    "            c = int(c)\n",
    "        except ValueError:\n",
    "            pass\n",
    "        L.append((a, b, c))\n",
    "    return L"
   ],
   "metadata": {
    "collapsed": false
   }
  },
  {
   "cell_type": "code",
   "execution_count": 4,
   "outputs": [
    {
     "data": {
      "text/plain": "[('set', 'i', 31),\n ('set', 'a', 1),\n ('mul', 'p', 17),\n ('jgz', 'p', 'p'),\n ('mul', 'a', 2),\n ('add', 'i', -1),\n ('jgz', 'i', -2),\n ('add', 'a', -1),\n ('set', 'i', 127),\n ('set', 'p', 952),\n ('mul', 'p', 8505),\n ('mod', 'p', 'a'),\n ('mul', 'p', 129749),\n ('add', 'p', 12345),\n ('mod', 'p', 'a'),\n ('set', 'b', 'p'),\n ('mod', 'b', 10000),\n ('snd', 'b', ''),\n ('add', 'i', -1),\n ('jgz', 'i', -9),\n ('jgz', 'a', 3),\n ('rcv', 'b', ''),\n ('jgz', 'b', -1),\n ('set', 'f', 0),\n ('set', 'i', 126),\n ('rcv', 'a', ''),\n ('rcv', 'b', ''),\n ('set', 'p', 'a'),\n ('mul', 'p', -1),\n ('add', 'p', 'b'),\n ('jgz', 'p', 4),\n ('snd', 'a', ''),\n ('set', 'a', 'b'),\n ('jgz', 1, 3),\n ('snd', 'b', ''),\n ('set', 'f', 1),\n ('add', 'i', -1),\n ('jgz', 'i', -11),\n ('snd', 'a', ''),\n ('jgz', 'f', -16),\n ('jgz', 'a', -19)]"
     },
     "execution_count": 4,
     "metadata": {},
     "output_type": "execute_result"
    }
   ],
   "source": [
    "instructions = load_instructions(data)\n",
    "instructions"
   ],
   "metadata": {
    "collapsed": false
   }
  },
  {
   "cell_type": "code",
   "execution_count": 58,
   "outputs": [],
   "source": [
    "class Duet:\n",
    "    def __init__(self, instructions):\n",
    "        self.instructions = instructions\n",
    "        self.registers = defaultdict(int)\n",
    "        self.pos = 0\n",
    "        self.last_sound_played = None\n",
    "        self.funs = {\n",
    "            \"snd\": self.snd,\n",
    "            \"set\": self.set,\n",
    "            \"add\": self.add,\n",
    "            \"mul\": self.mul,\n",
    "            \"mod\": self.mod,\n",
    "            \"rcv\": self.rcv,\n",
    "            \"jgz\": self.jgz\n",
    "        }\n",
    "\n",
    "    def run(self):\n",
    "        while True:\n",
    "            f, a, b = self.instructions[self.pos]\n",
    "            try:\n",
    "                self.funs[f]((f, a, b))\n",
    "            except (IndexError, StopIteration):\n",
    "                print(\"end\")\n",
    "                break\n",
    "\n",
    "    def snd(self, args):\n",
    "        _, a, _ = args\n",
    "        self.last_sound_played = self.registers[a]\n",
    "        self.pos += 1\n",
    "\n",
    "    def set(self, args):\n",
    "        _, a, b = args\n",
    "        if isinstance(b, str):\n",
    "            b = self.registers[b]\n",
    "        self.registers[a] = b\n",
    "        self.pos += 1\n",
    "\n",
    "    def add(self, args):\n",
    "        _, a, b = args\n",
    "        if isinstance(b, str):\n",
    "            b = self.registers[b]\n",
    "        self.registers[a] += b\n",
    "        self.pos += 1\n",
    "\n",
    "    def mul(self, args):\n",
    "        _, a, b = args\n",
    "        if isinstance(b, str):\n",
    "            b = self.registers[b]\n",
    "        self.registers[a] *= b\n",
    "        self.pos += 1\n",
    "\n",
    "    def mod(self, args):\n",
    "        _, a, b = args\n",
    "        if isinstance(b, str):\n",
    "            b = self.registers[b]\n",
    "        self.registers[a] = self.registers[a] % b\n",
    "        self.pos += 1\n",
    "\n",
    "    def rcv(self, args):\n",
    "        _, a, _ = args\n",
    "        if self.registers[a]:\n",
    "            print(\"Last sound played:\", self.last_sound_played)\n",
    "            raise StopIteration\n",
    "        self.pos += 1\n",
    "\n",
    "    def jgz(self, args):\n",
    "        _, a, b = args\n",
    "        if isinstance(a, str):\n",
    "            a = self.registers[a]\n",
    "        if isinstance(b, str):\n",
    "            b = self.registers[b]\n",
    "        if a > 0:\n",
    "            self.pos += b\n",
    "        else:\n",
    "            self.pos += 1\n"
   ],
   "metadata": {
    "collapsed": false
   }
  },
  {
   "cell_type": "code",
   "execution_count": 59,
   "outputs": [],
   "source": [
    "test_instructions_txt = \"\"\"\\\n",
    "set a 1\n",
    "add a 2\n",
    "mul a a\n",
    "mod a 5\n",
    "snd a\n",
    "set a 0\n",
    "rcv a\n",
    "jgz a -1\n",
    "set a 1\n",
    "jgz a -2\n",
    "\"\"\"\n",
    "test_instructions = load_instructions(test_instructions_txt)"
   ],
   "metadata": {
    "collapsed": false
   }
  },
  {
   "cell_type": "code",
   "execution_count": 60,
   "outputs": [
    {
     "name": "stdout",
     "output_type": "stream",
     "text": [
      "Last sound played: 4\n",
      "end\n"
     ]
    }
   ],
   "source": [
    "testduet = Duet(test_instructions)\n",
    "testduet.run()"
   ],
   "metadata": {
    "collapsed": false
   }
  },
  {
   "cell_type": "code",
   "execution_count": 62,
   "outputs": [
    {
     "name": "stdout",
     "output_type": "stream",
     "text": [
      "Last sound played: 4601\n",
      "end\n"
     ]
    }
   ],
   "source": [
    "duet = Duet(instructions)\n",
    "duet.run()"
   ],
   "metadata": {
    "collapsed": false
   }
  },
  {
   "cell_type": "code",
   "execution_count": 8,
   "outputs": [],
   "source": [],
   "metadata": {
    "collapsed": false
   }
  },
  {
   "cell_type": "code",
   "execution_count": 69,
   "outputs": [],
   "source": [
    "class Duet2:\n",
    "    def __init__(self, instructions):\n",
    "        self.instructions = instructions\n",
    "        self.registers = defaultdict(int)\n",
    "        self.pos = 0\n",
    "        self.other = None\n",
    "        self.id = None\n",
    "        self.queue = deque([])\n",
    "        self.finished = False\n",
    "        self.sends = 0\n",
    "        self.funs = {\n",
    "            \"snd\": self.snd,\n",
    "            \"set\": self.set,\n",
    "            \"add\": self.add,\n",
    "            \"mul\": self.mul,\n",
    "            \"mod\": self.mod,\n",
    "            \"rcv\": self.rcv,\n",
    "            \"jgz\": self.jgz\n",
    "        }\n",
    "\n",
    "    def run(self):\n",
    "        if self.finished:\n",
    "            print(\"finished\", self.id)\n",
    "            return\n",
    "        try:\n",
    "            while not self.finished:\n",
    "                f, a, b = self.instructions[self.pos]\n",
    "                self.funs[f]((f, a, b))\n",
    "        except StopIteration:\n",
    "            self.other.run()\n",
    "        except IndexError:\n",
    "            print(\"end\", self.id)\n",
    "            self.finished = True\n",
    "\n",
    "\n",
    "    def snd(self, args):\n",
    "        _, a, _ = args\n",
    "        self.other.queue.append(self.registers[a])\n",
    "        self.sends += 1\n",
    "        self.pos += 1\n",
    "\n",
    "    def rcv(self, args):\n",
    "        _, a, _ = args\n",
    "        if self.queue:\n",
    "            self.registers[a] = self.queue.popleft()\n",
    "            self.pos += 1\n",
    "        else:\n",
    "            if (not self.other.queue) and self.other.instructions[self.other.pos][0] == \"rcv\":\n",
    "                print(\"deadlock\", self.id)\n",
    "                self.finished = True\n",
    "                self.other.finished = True\n",
    "                raise IndexError(\"deadlock\")\n",
    "            else:\n",
    "                raise StopIteration\n",
    "\n",
    "    def set(self, args):\n",
    "        _, a, b = args\n",
    "        if isinstance(b, str):\n",
    "            b = self.registers[b]\n",
    "        self.registers[a] = b\n",
    "        self.pos += 1\n",
    "\n",
    "    def add(self, args):\n",
    "        _, a, b = args\n",
    "        if isinstance(b, str):\n",
    "            b = self.registers[b]\n",
    "        self.registers[a] += b\n",
    "        self.pos += 1\n",
    "\n",
    "    def mul(self, args):\n",
    "        _, a, b = args\n",
    "        if isinstance(b, str):\n",
    "            b = self.registers[b]\n",
    "        self.registers[a] *= b\n",
    "        self.pos += 1\n",
    "\n",
    "    def mod(self, args):\n",
    "        _, a, b = args\n",
    "        if isinstance(b, str):\n",
    "            b = self.registers[b]\n",
    "        self.registers[a] = self.registers[a] % b\n",
    "        self.pos += 1\n",
    "\n",
    "    def jgz(self, args):\n",
    "        _, a, b = args\n",
    "        if isinstance(a, str):\n",
    "            a = self.registers[a]\n",
    "        if isinstance(b, str):\n",
    "            b = self.registers[b]\n",
    "        if a > 0:\n",
    "            self.pos += b\n",
    "        else:\n",
    "            self.pos += 1\n"
   ],
   "metadata": {
    "collapsed": false
   }
  },
  {
   "cell_type": "code",
   "execution_count": 70,
   "outputs": [
    {
     "name": "stdout",
     "output_type": "stream",
     "text": [
      "deadlock 1\n",
      "end 1\n"
     ]
    }
   ],
   "source": [
    "instructions = load_instructions(data)\n",
    "d0 = Duet2(instructions)\n",
    "d0.id = 0\n",
    "d0.registers[\"p\"] = 0\n",
    "\n",
    "d1 = Duet2(instructions)\n",
    "d1.id = 1\n",
    "d1.registers[\"p\"] = 1\n",
    "\n",
    "d0.other = d1\n",
    "d1.other = d0\n",
    "\n",
    "d0.run()"
   ],
   "metadata": {
    "collapsed": false
   }
  },
  {
   "cell_type": "code",
   "execution_count": 68,
   "outputs": [
    {
     "data": {
      "text/plain": "6858"
     },
     "execution_count": 68,
     "metadata": {},
     "output_type": "execute_result"
    }
   ],
   "source": [
    "d1.sends"
   ],
   "metadata": {
    "collapsed": false
   }
  }
 ],
 "metadata": {
  "kernelspec": {
   "display_name": "Python 3",
   "language": "python",
   "name": "python3"
  },
  "language_info": {
   "codemirror_mode": {
    "name": "ipython",
    "version": 2
   },
   "file_extension": ".py",
   "mimetype": "text/x-python",
   "name": "python",
   "nbconvert_exporter": "python",
   "pygments_lexer": "ipython2",
   "version": "2.7.6"
  }
 },
 "nbformat": 4,
 "nbformat_minor": 0
}
