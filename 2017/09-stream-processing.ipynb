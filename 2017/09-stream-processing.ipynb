{
 "cells": [
  {
   "cell_type": "markdown",
   "source": [
    "https://adventofcode.com/2017/day/9"
   ],
   "metadata": {
    "collapsed": false
   }
  },
  {
   "cell_type": "code",
   "execution_count": 57,
   "outputs": [],
   "source": [
    "import transitions"
   ],
   "metadata": {
    "collapsed": false
   }
  },
  {
   "cell_type": "code",
   "execution_count": 2,
   "outputs": [],
   "source": [
    "with open(\"data/09.txt\") as fh:\n",
    "    data = fh.read()"
   ],
   "metadata": {
    "collapsed": false
   }
  },
  {
   "cell_type": "code",
   "execution_count": 61,
   "outputs": [],
   "source": [
    "class StreamProcessor(transitions.Machine):\n",
    "    def __init__(self):\n",
    "        states = [\"good\", \"garbage\", \"cancel\"]\n",
    "        super().__init__(self, states=states, initial=\"good\")\n",
    "\n",
    "        self.add_transition(\"left_curly\", \"good\", \"=\", after=\"begin_group\")\n",
    "        self.add_transition(\"left_curly\", \"garbage\", \"=\", after=\"incr_garbage_count\")\n",
    "        self.add_transition(\"left_curly\", \"cancel\", \"garbage\")\n",
    "\n",
    "        self.add_transition(\"right_curly\", \"good\", \"=\", after=\"end_group\")\n",
    "        self.add_transition(\"right_curly\", \"garbage\", \"=\", after=\"incr_garbage_count\")\n",
    "        self.add_transition(\"right_curly\", \"cancel\", \"garbage\")\n",
    "\n",
    "        self.add_transition(\"lt\", \"good\", \"garbage\")\n",
    "        self.add_transition(\"lt\", \"garbage\", \"=\", after=\"incr_garbage_count\")\n",
    "        self.add_transition(\"lt\", \"cancel\", \"garbage\")\n",
    "\n",
    "        self.add_transition(\"gt\", \"good\", \"=\")\n",
    "        self.add_transition(\"gt\", \"garbage\", \"good\")\n",
    "        self.add_transition(\"gt\", \"cancel\", \"garbage\")\n",
    "\n",
    "        self.add_transition(\"bang\", \"good\", \"=\")\n",
    "        self.add_transition(\"bang\", \"garbage\", \"cancel\")\n",
    "        self.add_transition(\"bang\", \"cancel\", \"garbage\")\n",
    "\n",
    "        self.add_transition(\"other\", \"good\", \"=\")\n",
    "        self.add_transition(\"other\", \"garbage\", \"=\", after=\"incr_garbage_count\")\n",
    "        self.add_transition(\"other\", \"cancel\", \"garbage\")\n",
    "\n",
    "        self.group_level = 0\n",
    "        self.group_score = 0\n",
    "        self.garbage_count = 0\n",
    "\n",
    "    def begin_group(self):\n",
    "        self.group_level += 1\n",
    "\n",
    "    def end_group(self):\n",
    "        self.group_score += self.group_level\n",
    "        self.group_level -= 1\n",
    "        if self.group_level < 0:\n",
    "            raise ValueError(\"Negative group level can't happen\")\n",
    "\n",
    "    def incr_garbage_count(self):\n",
    "        self.garbage_count += 1\n",
    "\n",
    "    def step(self, c):\n",
    "        triggers = {\n",
    "            \"!\": \"bang\",\n",
    "            \"<\": \"lt\",\n",
    "            \">\": \"gt\",\n",
    "            \"{\": \"left_curly\",\n",
    "            \"}\": \"right_curly\",\n",
    "        }\n",
    "        trig = triggers.get(c, \"other\")\n",
    "        self.trigger(trig)\n",
    "\n",
    "    def run(self, data):\n",
    "        for c in data:\n",
    "            self.step(c)"
   ],
   "metadata": {
    "collapsed": false
   }
  },
  {
   "cell_type": "code",
   "execution_count": 62,
   "outputs": [],
   "source": [
    "sp = StreamProcessor()\n",
    "sp.run(data)"
   ],
   "metadata": {
    "collapsed": false
   }
  },
  {
   "cell_type": "markdown",
   "source": [
    "Part 1"
   ],
   "metadata": {
    "collapsed": false
   }
  },
  {
   "cell_type": "code",
   "execution_count": 63,
   "outputs": [
    {
     "data": {
      "text/plain": "7640"
     },
     "execution_count": 63,
     "metadata": {},
     "output_type": "execute_result"
    }
   ],
   "source": [
    "sp.group_score"
   ],
   "metadata": {
    "collapsed": false
   }
  },
  {
   "cell_type": "markdown",
   "source": [
    "Part 2"
   ],
   "metadata": {
    "collapsed": false
   }
  },
  {
   "cell_type": "code",
   "execution_count": 64,
   "outputs": [
    {
     "data": {
      "text/plain": "4368"
     },
     "execution_count": 64,
     "metadata": {},
     "output_type": "execute_result"
    }
   ],
   "source": [
    "sp.garbage_count"
   ],
   "metadata": {
    "collapsed": false
   }
  },
  {
   "cell_type": "code",
   "execution_count": 55,
   "outputs": [],
   "source": [],
   "metadata": {
    "collapsed": false
   }
  },
  {
   "cell_type": "code",
   "execution_count": null,
   "outputs": [],
   "source": [],
   "metadata": {
    "collapsed": false
   }
  }
 ],
 "metadata": {
  "kernelspec": {
   "display_name": "Python 3",
   "language": "python",
   "name": "python3"
  },
  "language_info": {
   "codemirror_mode": {
    "name": "ipython",
    "version": 2
   },
   "file_extension": ".py",
   "mimetype": "text/x-python",
   "name": "python",
   "nbconvert_exporter": "python",
   "pygments_lexer": "ipython2",
   "version": "2.7.6"
  }
 },
 "nbformat": 4,
 "nbformat_minor": 0
}
