{
 "cells": [
  {
   "cell_type": "markdown",
   "source": [
    "https://adventofcode.com/2017/day/3"
   ],
   "metadata": {
    "collapsed": false
   }
  },
  {
   "cell_type": "code",
   "execution_count": 7,
   "outputs": [],
   "source": [
    "import itertools"
   ],
   "metadata": {
    "collapsed": false
   }
  },
  {
   "cell_type": "code",
   "execution_count": 8,
   "outputs": [],
   "source": [
    "puzzle_input = 289326"
   ],
   "metadata": {
    "collapsed": false
   }
  },
  {
   "cell_type": "code",
   "execution_count": 9,
   "outputs": [],
   "source": [
    "next_step_lookup = {\n",
    "    (): 1,\n",
    "    (-1,): +1j,\n",
    "    (-1j,): -1,\n",
    "    (1, -1j): -1,\n",
    "    (1,): -1j,\n",
    "    (1, +1j): -1j,\n",
    "    (+1j,): 1,\n",
    "    (+1j, -1): 1,\n",
    "    (-1, -1j): +1j\n",
    "}\n",
    "\n",
    "drxns = [1, +1j, -1, -1j]"
   ],
   "metadata": {
    "collapsed": false
   }
  },
  {
   "cell_type": "code",
   "execution_count": 11,
   "outputs": [
    {
     "name": "stdout",
     "output_type": "stream",
     "text": [
      "289326 (-150+269j)\n"
     ]
    }
   ],
   "source": [
    "grid = {0: 1}\n",
    "pos = 0\n",
    "for i in range(2, puzzle_input+1):\n",
    "    nabes = tuple(d for d in drxns if pos + d in grid)\n",
    "    pos += next_step_lookup[nabes]\n",
    "    grid[pos] = i\n",
    "print(i, pos)"
   ],
   "metadata": {
    "collapsed": false
   }
  },
  {
   "cell_type": "markdown",
   "source": [
    "Manhattan distance from pos to grid[0]"
   ],
   "metadata": {
    "collapsed": false
   }
  },
  {
   "cell_type": "code",
   "execution_count": 12,
   "outputs": [
    {
     "data": {
      "text/plain": "419.0"
     },
     "execution_count": 12,
     "metadata": {},
     "output_type": "execute_result"
    }
   ],
   "source": [
    "abs(pos.real) + abs(pos.imag)"
   ],
   "metadata": {
    "collapsed": false
   }
  },
  {
   "cell_type": "code",
   "execution_count": 16,
   "outputs": [
    {
     "data": {
      "text/plain": "[(1+1j), (1+0j), (1-1j), 1j, -1j, (-1+1j), (-1+0j), (-1-1j)]"
     },
     "execution_count": 16,
     "metadata": {},
     "output_type": "execute_result"
    }
   ],
   "source": [
    "all_drxns = [complex(a, b) for (a, b) in itertools.product([1, 0, -1], repeat=2) if (a, b) != (0, 0)]\n",
    "all_drxns"
   ],
   "metadata": {
    "collapsed": false
   }
  },
  {
   "cell_type": "markdown",
   "source": [
    "Each pos in spiral gets sum of neighbors as it is placed in grid."
   ],
   "metadata": {
    "collapsed": false
   }
  },
  {
   "cell_type": "code",
   "execution_count": 17,
   "outputs": [
    {
     "name": "stdout",
     "output_type": "stream",
     "text": [
      "295229 (1+4j)\n"
     ]
    }
   ],
   "source": [
    "grid = {0:1}\n",
    "pos = 0\n",
    "for _ in range(1000):\n",
    "    nabes = tuple(d for d in drxns if pos + d in grid)\n",
    "    pos += next_step_lookup[nabes]\n",
    "    n = sum(grid.get(pos + ad, 0) for ad in all_drxns)\n",
    "    grid[pos] = n\n",
    "    if n > puzzle_input:\n",
    "        print(n, pos)\n",
    "        break"
   ],
   "metadata": {
    "collapsed": false
   }
  },
  {
   "cell_type": "code",
   "execution_count": null,
   "outputs": [],
   "source": [],
   "metadata": {
    "collapsed": false
   }
  }
 ],
 "metadata": {
  "kernelspec": {
   "display_name": "Python 3",
   "language": "python",
   "name": "python3"
  },
  "language_info": {
   "codemirror_mode": {
    "name": "ipython",
    "version": 2
   },
   "file_extension": ".py",
   "mimetype": "text/x-python",
   "name": "python",
   "nbconvert_exporter": "python",
   "pygments_lexer": "ipython2",
   "version": "2.7.6"
  }
 },
 "nbformat": 4,
 "nbformat_minor": 0
}
