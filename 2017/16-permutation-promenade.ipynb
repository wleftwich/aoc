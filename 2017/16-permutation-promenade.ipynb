{
 "cells": [
  {
   "cell_type": "markdown",
   "source": [
    "https://adventofcode.com/2017/day/16"
   ],
   "metadata": {
    "collapsed": false
   }
  },
  {
   "cell_type": "code",
   "execution_count": 1,
   "outputs": [],
   "source": [
    "with open(\"data/16.txt\") as fh:\n",
    "    data = fh.read()"
   ],
   "metadata": {
    "collapsed": false
   }
  },
  {
   "cell_type": "code",
   "execution_count": 10,
   "outputs": [],
   "source": [
    "stepstrs = data.strip().split(\",\")"
   ],
   "metadata": {
    "collapsed": false
   }
  },
  {
   "cell_type": "code",
   "execution_count": 11,
   "outputs": [
    {
     "data": {
      "text/plain": "10000"
     },
     "execution_count": 11,
     "metadata": {},
     "output_type": "execute_result"
    }
   ],
   "source": [
    "len(stepstrs)"
   ],
   "metadata": {
    "collapsed": false
   }
  },
  {
   "cell_type": "code",
   "execution_count": 12,
   "outputs": [
    {
     "data": {
      "text/plain": "['s2',\n 'x15/10',\n 's4',\n 'x13/0',\n 'pe/j',\n 'x11/15',\n 'pa/g',\n 'x13/2',\n 's10',\n 'x12/11']"
     },
     "execution_count": 12,
     "metadata": {},
     "output_type": "execute_result"
    }
   ],
   "source": [
    "stepstrs[:10]"
   ],
   "metadata": {
    "collapsed": false
   }
  },
  {
   "cell_type": "code",
   "execution_count": 26,
   "outputs": [],
   "source": [
    "L = [c for c in \"abcdefghijklmnop\"]"
   ],
   "metadata": {
    "collapsed": false
   }
  },
  {
   "cell_type": "code",
   "execution_count": 7,
   "outputs": [],
   "source": [
    "def parse_step(step):\n",
    "    if step.startswith(\"s\"):\n",
    "        return (\"s\", int(step[1:]))\n",
    "    elif step.startswith(\"x\"):\n",
    "        return (\"x\", tuple(int(s) for s in step[1:].split(\"/\")))\n",
    "    elif step.startswith(\"p\"):\n",
    "        return (\"p\", tuple(step[1:].split(\"/\")))"
   ],
   "metadata": {
    "collapsed": false
   }
  },
  {
   "cell_type": "code",
   "execution_count": 13,
   "outputs": [],
   "source": [
    "steps = [parse_step(x) for x in stepstrs]"
   ],
   "metadata": {
    "collapsed": false
   }
  },
  {
   "cell_type": "code",
   "execution_count": 14,
   "outputs": [
    {
     "data": {
      "text/plain": "[('s', 2),\n ('x', (15, 10)),\n ('s', 4),\n ('x', (13, 0)),\n ('p', ('e', 'j')),\n ('x', (11, 15)),\n ('p', ('a', 'g')),\n ('x', (13, 2)),\n ('s', 10),\n ('x', (12, 11))]"
     },
     "execution_count": 14,
     "metadata": {},
     "output_type": "execute_result"
    }
   ],
   "source": [
    "steps[:10]"
   ],
   "metadata": {
    "collapsed": false
   }
  },
  {
   "cell_type": "code",
   "execution_count": 41,
   "outputs": [],
   "source": [
    "def spin(pos, L):\n",
    "    L[:] = L[-pos:] + L[:-pos]\n",
    "\n",
    "def xchange(args, L):\n",
    "    p1, p2 = args\n",
    "    L[p1], L[p2] = L[p2], L[p1]\n",
    "\n",
    "def partner(args, L):\n",
    "    c1, c2 = args\n",
    "    p1, p2 = L.index(c1), L.index(c2)\n",
    "    L[p1], L[p2] = L[p2], L[p1]\n",
    "\n",
    "funcs = {\n",
    "    \"s\": spin,\n",
    "    \"x\": xchange,\n",
    "    \"p\": partner\n",
    "}"
   ],
   "metadata": {
    "collapsed": false
   }
  },
  {
   "cell_type": "code",
   "execution_count": 44,
   "outputs": [
    {
     "name": "stdout",
     "output_type": "stream",
     "text": [
      "CPU times: user 16.3 ms, sys: 0 ns, total: 16.3 ms\n",
      "Wall time: 14.9 ms\n"
     ]
    },
    {
     "data": {
      "text/plain": "'doeaimlbnpjchfkg'"
     },
     "execution_count": 44,
     "metadata": {},
     "output_type": "execute_result"
    }
   ],
   "source": [
    "%%time\n",
    "L = [c for c in \"abcdefghijklmnop\"]\n",
    "for f, args in steps:\n",
    "    funcs[f](args, L)\n",
    "\"\".join(L)"
   ],
   "metadata": {
    "collapsed": false
   }
  },
  {
   "cell_type": "code",
   "execution_count": 42,
   "outputs": [],
   "source": [
    "test = [\"a\", \"b\", \"c\", \"d\", \"e\"]"
   ],
   "metadata": {
    "collapsed": false
   }
  },
  {
   "cell_type": "code",
   "execution_count": 43,
   "outputs": [
    {
     "data": {
      "text/plain": "['e', 'a', 'b', 'c', 'd']"
     },
     "execution_count": 43,
     "metadata": {},
     "output_type": "execute_result"
    }
   ],
   "source": [
    "spin(1, test)\n",
    "test"
   ],
   "metadata": {
    "collapsed": false
   }
  }
 ],
 "metadata": {
  "kernelspec": {
   "display_name": "Python 3",
   "language": "python",
   "name": "python3"
  },
  "language_info": {
   "codemirror_mode": {
    "name": "ipython",
    "version": 2
   },
   "file_extension": ".py",
   "mimetype": "text/x-python",
   "name": "python",
   "nbconvert_exporter": "python",
   "pygments_lexer": "ipython2",
   "version": "2.7.6"
  }
 },
 "nbformat": 4,
 "nbformat_minor": 0
}
