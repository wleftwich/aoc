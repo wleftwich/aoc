{
 "cells": [
  {
   "cell_type": "markdown",
   "source": [
    "https://adventofcode.com/2017/day/16"
   ],
   "metadata": {
    "collapsed": false
   }
  },
  {
   "cell_type": "code",
   "execution_count": 13,
   "outputs": [],
   "source": [
    "from collections import defaultdict"
   ],
   "metadata": {
    "collapsed": false
   }
  },
  {
   "cell_type": "code",
   "execution_count": 1,
   "outputs": [],
   "source": [
    "with open(\"data/16.txt\") as fh:\n",
    "    data = fh.read()"
   ],
   "metadata": {
    "collapsed": false
   }
  },
  {
   "cell_type": "code",
   "execution_count": 2,
   "outputs": [],
   "source": [
    "stepstrs = data.strip().split(\",\")"
   ],
   "metadata": {
    "collapsed": false
   }
  },
  {
   "cell_type": "code",
   "execution_count": 3,
   "outputs": [
    {
     "data": {
      "text/plain": "10000"
     },
     "execution_count": 3,
     "metadata": {},
     "output_type": "execute_result"
    }
   ],
   "source": [
    "len(stepstrs)"
   ],
   "metadata": {
    "collapsed": false
   }
  },
  {
   "cell_type": "code",
   "execution_count": 4,
   "outputs": [
    {
     "data": {
      "text/plain": "['s2',\n 'x15/10',\n 's4',\n 'x13/0',\n 'pe/j',\n 'x11/15',\n 'pa/g',\n 'x13/2',\n 's10',\n 'x12/11']"
     },
     "execution_count": 4,
     "metadata": {},
     "output_type": "execute_result"
    }
   ],
   "source": [
    "stepstrs[:10]"
   ],
   "metadata": {
    "collapsed": false
   }
  },
  {
   "cell_type": "code",
   "execution_count": 5,
   "outputs": [],
   "source": [
    "L = [c for c in \"abcdefghijklmnop\"]"
   ],
   "metadata": {
    "collapsed": false
   }
  },
  {
   "cell_type": "code",
   "execution_count": 6,
   "outputs": [],
   "source": [
    "def parse_step(step):\n",
    "    if step.startswith(\"s\"):\n",
    "        return (\"s\", int(step[1:]))\n",
    "    elif step.startswith(\"x\"):\n",
    "        return (\"x\", tuple(int(s) for s in step[1:].split(\"/\")))\n",
    "    elif step.startswith(\"p\"):\n",
    "        return (\"p\", tuple(step[1:].split(\"/\")))"
   ],
   "metadata": {
    "collapsed": false
   }
  },
  {
   "cell_type": "code",
   "execution_count": 7,
   "outputs": [],
   "source": [
    "steps = [parse_step(x) for x in stepstrs]"
   ],
   "metadata": {
    "collapsed": false
   }
  },
  {
   "cell_type": "code",
   "execution_count": 8,
   "outputs": [
    {
     "data": {
      "text/plain": "[('s', 2),\n ('x', (15, 10)),\n ('s', 4),\n ('x', (13, 0)),\n ('p', ('e', 'j')),\n ('x', (11, 15)),\n ('p', ('a', 'g')),\n ('x', (13, 2)),\n ('s', 10),\n ('x', (12, 11))]"
     },
     "execution_count": 8,
     "metadata": {},
     "output_type": "execute_result"
    }
   ],
   "source": [
    "steps[:10]"
   ],
   "metadata": {
    "collapsed": false
   }
  },
  {
   "cell_type": "code",
   "execution_count": 9,
   "outputs": [],
   "source": [
    "def spin(pos, L):\n",
    "    L[:] = L[-pos:] + L[:-pos]\n",
    "\n",
    "def xchange(args, L):\n",
    "    p1, p2 = args\n",
    "    L[p1], L[p2] = L[p2], L[p1]\n",
    "\n",
    "def partner(args, L):\n",
    "    c1, c2 = args\n",
    "    p1, p2 = L.index(c1), L.index(c2)\n",
    "    L[p1], L[p2] = L[p2], L[p1]\n",
    "\n",
    "funcs = {\n",
    "    \"s\": spin,\n",
    "    \"x\": xchange,\n",
    "    \"p\": partner\n",
    "}"
   ],
   "metadata": {
    "collapsed": false
   }
  },
  {
   "cell_type": "code",
   "execution_count": 10,
   "outputs": [
    {
     "name": "stdout",
     "output_type": "stream",
     "text": [
      "CPU times: user 11 ms, sys: 0 ns, total: 11 ms\n",
      "Wall time: 10.8 ms\n"
     ]
    },
    {
     "data": {
      "text/plain": "'doeaimlbnpjchfkg'"
     },
     "execution_count": 10,
     "metadata": {},
     "output_type": "execute_result"
    }
   ],
   "source": [
    "%%time\n",
    "L = [c for c in \"abcdefghijklmnop\"]\n",
    "for f, args in steps:\n",
    "    funcs[f](args, L)\n",
    "\"\".join(L)"
   ],
   "metadata": {
    "collapsed": false
   }
  },
  {
   "cell_type": "code",
   "execution_count": 14,
   "outputs": [
    {
     "name": "stdout",
     "output_type": "stream",
     "text": [
      "abcdefghijklmnop 0 30\n",
      "CPU times: user 152 ms, sys: 0 ns, total: 152 ms\n",
      "Wall time: 150 ms\n"
     ]
    }
   ],
   "source": [
    "%%time\n",
    "L = [c for c in \"abcdefghijklmnop\"]\n",
    "D = {}\n",
    "for i in range(1_000_000):\n",
    "    s = \"\".join(L)\n",
    "    if s in D:\n",
    "        print(s, D[s], i)\n",
    "        break\n",
    "    D[s] = i\n",
    "    for f, args in steps:\n",
    "        funcs[f](args, L)"
   ],
   "metadata": {
    "collapsed": false
   }
  },
  {
   "cell_type": "code",
   "execution_count": 17,
   "outputs": [
    {
     "data": {
      "text/plain": "10"
     },
     "execution_count": 17,
     "metadata": {},
     "output_type": "execute_result"
    }
   ],
   "source": [
    "n = 1_000_000_000 % 30\n",
    "n"
   ],
   "metadata": {
    "collapsed": false
   }
  },
  {
   "cell_type": "code",
   "execution_count": 18,
   "outputs": [
    {
     "data": {
      "text/plain": "[('agndefjhibklmocp', 10)]"
     },
     "execution_count": 18,
     "metadata": {},
     "output_type": "execute_result"
    }
   ],
   "source": [
    "[(x, y) for (x, y) in D.items() if y == 10]"
   ],
   "metadata": {
    "collapsed": false
   }
  }
 ],
 "metadata": {
  "kernelspec": {
   "display_name": "Python 3",
   "language": "python",
   "name": "python3"
  },
  "language_info": {
   "codemirror_mode": {
    "name": "ipython",
    "version": 2
   },
   "file_extension": ".py",
   "mimetype": "text/x-python",
   "name": "python",
   "nbconvert_exporter": "python",
   "pygments_lexer": "ipython2",
   "version": "2.7.6"
  }
 },
 "nbformat": 4,
 "nbformat_minor": 0
}
