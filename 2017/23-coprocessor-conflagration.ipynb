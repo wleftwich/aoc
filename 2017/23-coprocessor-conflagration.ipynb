{
 "cells": [
  {
   "cell_type": "markdown",
   "source": [
    "https://adventofcode.com/2017/day/23"
   ],
   "metadata": {
    "collapsed": false
   }
  },
  {
   "cell_type": "code",
   "execution_count": 7,
   "outputs": [],
   "source": [
    "from collections import defaultdict\n",
    "import math"
   ],
   "metadata": {
    "collapsed": false
   }
  },
  {
   "cell_type": "code",
   "execution_count": 8,
   "outputs": [],
   "source": [
    "with open(\"data/23.txt\") as fh:\n",
    "    data = fh.read()"
   ],
   "metadata": {
    "collapsed": false
   }
  },
  {
   "cell_type": "code",
   "execution_count": 10,
   "outputs": [],
   "source": [
    "class Coprocessor:\n",
    "    def __init__(self, instructions, maxcalls=999):\n",
    "        self.instructions = instructions\n",
    "        self.registers = defaultdict(int)\n",
    "        self.pos = 0\n",
    "        self.funcounts = defaultdict(int)\n",
    "        self.maxcalls = maxcalls\n",
    "\n",
    "    def dispatch(self, instruction):\n",
    "        funstr, *argstr = instruction.split()\n",
    "        self.funcounts[funstr] += 1\n",
    "        args = []\n",
    "        for x in argstr:\n",
    "            try:\n",
    "                x = int(x)\n",
    "            except ValueError:\n",
    "                pass\n",
    "            args.append(x)\n",
    "        fun = {\"set\": self.set, \"sub\": self.sub, \"mul\": self.mul, \"jnz\": self.jnz}[funstr]\n",
    "        fun(*args)\n",
    "\n",
    "    def set(self, x, y):\n",
    "        if isinstance(y, str):\n",
    "            y = self.registers[y]\n",
    "        self.registers[x] = y\n",
    "        self.pos += 1\n",
    "\n",
    "    def sub(self, x, y):\n",
    "        if isinstance(y, str):\n",
    "            y = self.registers[y]\n",
    "        self.registers[x] -= y\n",
    "        self.pos += 1\n",
    "\n",
    "    def mul(self, x, y):\n",
    "        if isinstance(y, str):\n",
    "            y = self.registers[y]\n",
    "        self.registers[x] *= y\n",
    "        self.pos += 1\n",
    "\n",
    "    def jnz(self, x, y):\n",
    "        if isinstance(x, str):\n",
    "            x = self.registers[x]\n",
    "        if isinstance(y, str):\n",
    "            y = self.registers[y]\n",
    "        if x != 0:\n",
    "            self.pos += y\n",
    "        else:\n",
    "            self.pos += 1\n",
    "\n",
    "    def run(self):\n",
    "        for _ in range(self.maxcalls):\n",
    "            try:\n",
    "                self.dispatch(self.instructions[self.pos])\n",
    "            except IndexError:\n",
    "                print(\"all done\")\n",
    "                break\n",
    "        else:\n",
    "            print(\"timeout\")\n"
   ],
   "metadata": {
    "collapsed": false
   }
  },
  {
   "cell_type": "code",
   "execution_count": 11,
   "outputs": [
    {
     "name": "stdout",
     "output_type": "stream",
     "text": [
      "all done\n"
     ]
    },
    {
     "data": {
      "text/plain": "defaultdict(int, {'set': 12648, 'jnz': 12566, 'mul': 6241, 'sub': 18883})"
     },
     "execution_count": 11,
     "metadata": {},
     "output_type": "execute_result"
    }
   ],
   "source": [
    "instructions = data.strip().splitlines()\n",
    "cop = Coprocessor(instructions, 100_000)\n",
    "cop.run()\n",
    "cop.funcounts"
   ],
   "metadata": {
    "collapsed": false
   }
  },
  {
   "cell_type": "code",
   "execution_count": 12,
   "outputs": [
    {
     "data": {
      "text/plain": "defaultdict(int,\n            {'b': 81,\n             'c': 81,\n             'a': 0,\n             'f': 0,\n             'd': 81,\n             'e': 81,\n             'g': 0,\n             'h': 1})"
     },
     "execution_count": 12,
     "metadata": {},
     "output_type": "execute_result"
    }
   ],
   "source": [
    "cop.registers"
   ],
   "metadata": {
    "collapsed": false
   }
  },
  {
   "cell_type": "markdown",
   "source": [
    "Part 2"
   ],
   "metadata": {
    "collapsed": false
   }
  },
  {
   "cell_type": "code",
   "execution_count": 13,
   "outputs": [
    {
     "name": "stdout",
     "output_type": "stream",
     "text": [
      "timeout\n",
      "CPU times: user 59.4 s, sys: 0 ns, total: 59.4 s\n",
      "Wall time: 59.4 s\n"
     ]
    },
    {
     "data": {
      "text/plain": "defaultdict(int,\n            {'set': 5000026, 'jnz': 4999991, 'mul': 2499985, 'sub': 7499998})"
     },
     "execution_count": 13,
     "metadata": {},
     "output_type": "execute_result"
    }
   ],
   "source": [
    "%%time\n",
    "cop2 = Coprocessor(instructions, 20_000_000)\n",
    "cop2.registers[\"a\"] = 1\n",
    "cop2.run()\n",
    "cop2.funcounts"
   ],
   "metadata": {
    "collapsed": false
   }
  },
  {
   "cell_type": "code",
   "execution_count": 14,
   "outputs": [
    {
     "data": {
      "text/plain": "defaultdict(int,\n            {'a': 1,\n             'b': 108100,\n             'c': 125100,\n             'f': 0,\n             'd': 25,\n             'e': 13731,\n             'g': 235175})"
     },
     "execution_count": 14,
     "metadata": {},
     "output_type": "execute_result"
    }
   ],
   "source": [
    "cop2.registers"
   ],
   "metadata": {
    "collapsed": false
   }
  },
  {
   "cell_type": "markdown",
   "source": [],
   "metadata": {
    "collapsed": false
   }
  },
  {
   "cell_type": "code",
   "execution_count": 17,
   "outputs": [
    {
     "data": {
      "text/plain": "11664000000"
     },
     "execution_count": 17,
     "metadata": {},
     "output_type": "execute_result"
    }
   ],
   "source": [
    "108_000**2"
   ],
   "metadata": {
    "collapsed": false
   }
  },
  {
   "cell_type": "markdown",
   "source": [
    "Coprocessor code counts number of non-primes in 999 numbers starting with 108,000 in increments of 17."
   ],
   "metadata": {
    "collapsed": false
   }
  },
  {
   "cell_type": "code",
   "execution_count": 15,
   "outputs": [],
   "source": [
    "def isprime(n):\n",
    "    for i in range(2, int(math.sqrt(n))+1):\n",
    "        if not n % i:\n",
    "            return False\n",
    "    return True"
   ],
   "metadata": {
    "collapsed": false
   }
  },
  {
   "cell_type": "code",
   "execution_count": 16,
   "outputs": [
    {
     "name": "stdout",
     "output_type": "stream",
     "text": [
      "CPU times: user 2.03 ms, sys: 0 ns, total: 2.03 ms\n",
      "Wall time: 2.03 ms\n"
     ]
    },
    {
     "data": {
      "text/plain": "909"
     },
     "execution_count": 16,
     "metadata": {},
     "output_type": "execute_result"
    }
   ],
   "source": [
    "%%time\n",
    "sum(not isprime(108_000 + 17 * i) for i in range(999))"
   ],
   "metadata": {
    "collapsed": false
   }
  }
 ],
 "metadata": {
  "kernelspec": {
   "display_name": "Python 3",
   "language": "python",
   "name": "python3"
  },
  "language_info": {
   "codemirror_mode": {
    "name": "ipython",
    "version": 2
   },
   "file_extension": ".py",
   "mimetype": "text/x-python",
   "name": "python",
   "nbconvert_exporter": "python",
   "pygments_lexer": "ipython2",
   "version": "2.7.6"
  }
 },
 "nbformat": 4,
 "nbformat_minor": 0
}
