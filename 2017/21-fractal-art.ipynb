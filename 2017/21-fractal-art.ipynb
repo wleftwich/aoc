{
 "cells": [
  {
   "cell_type": "markdown",
   "source": [
    "https://adventofcode.com/2017/day/21"
   ],
   "metadata": {
    "collapsed": false
   }
  },
  {
   "cell_type": "code",
   "execution_count": 1,
   "outputs": [],
   "source": [
    "import numpy as np"
   ],
   "metadata": {
    "collapsed": false
   }
  },
  {
   "cell_type": "code",
   "execution_count": 2,
   "outputs": [],
   "source": [
    "with open(\"data/21.txt\") as fh:\n",
    "    data = fh.read()"
   ],
   "metadata": {
    "collapsed": false
   }
  },
  {
   "cell_type": "code",
   "execution_count": 3,
   "outputs": [],
   "source": [
    "def s2ar(s):\n",
    "    return np.array([[1 if c == '#' else 0 for c in l] for l in s.split(\"/\")])\n",
    "\n",
    "def ar2tup(ar):\n",
    "    return tuple(ar.ravel())\n",
    "\n",
    "def fliprottups(ar):\n",
    "    return [ar2tup(x) for x in [\n",
    "        ar,\n",
    "        np.fliplr(ar),\n",
    "        np.flipud(ar),\n",
    "        np.rot90(ar),\n",
    "        np.rot90(np.rot90(ar)),\n",
    "        np.rot90(np.rot90(np.rot90(ar))),\n",
    "        ar.T,\n",
    "        np.fliplr(ar.T),\n",
    "        np.flipud(ar.T),\n",
    "        np.rot90(ar.T),\n",
    "        np.rot90(np.rot90(ar.T)),\n",
    "        np.rot90(np.rot90(np.rot90(ar.T))),\n",
    "    ]]\n",
    "\n",
    "def load_patterns(data):\n",
    "    D = {}\n",
    "    for line in data.splitlines():\n",
    "        line = line.strip()\n",
    "        if not line:\n",
    "            continue\n",
    "        k, v = (s2ar(x) for x in line.split(\" => \"))\n",
    "        for tup in fliprottups(k):\n",
    "            D[tup] = v\n",
    "    return D\n",
    "\n",
    "def enhance(ar):\n",
    "    n = ar.shape[0]\n",
    "    d = 2 if not n % 2 else 3\n",
    "    s = n // d\n",
    "    rows = np.vsplit(ar, s)\n",
    "    newrows = []\n",
    "    for row in rows:\n",
    "        cells = np.hsplit(row, s)\n",
    "        newcells = [patterns[ar2tup(x)] for x in cells]\n",
    "        newrows.append(np.hstack(newcells))\n",
    "    return np.vstack(newrows)"
   ],
   "metadata": {
    "collapsed": false
   }
  },
  {
   "cell_type": "code",
   "execution_count": 4,
   "outputs": [
    {
     "data": {
      "text/plain": "528"
     },
     "execution_count": 4,
     "metadata": {},
     "output_type": "execute_result"
    }
   ],
   "source": [
    "patterns = load_patterns(data)\n",
    "len(patterns)"
   ],
   "metadata": {
    "collapsed": false
   }
  },
  {
   "cell_type": "code",
   "execution_count": 5,
   "outputs": [
    {
     "data": {
      "text/plain": "array([[0, 1, 0],\n       [0, 0, 1],\n       [1, 1, 1]])"
     },
     "execution_count": 5,
     "metadata": {},
     "output_type": "execute_result"
    }
   ],
   "source": [
    "grid = s2ar(\".#./..#/###\")\n",
    "grid"
   ],
   "metadata": {
    "collapsed": false
   }
  },
  {
   "cell_type": "markdown",
   "source": [
    "Part 1"
   ],
   "metadata": {
    "collapsed": false
   }
  },
  {
   "cell_type": "code",
   "execution_count": 9,
   "outputs": [
    {
     "data": {
      "text/plain": "194"
     },
     "execution_count": 9,
     "metadata": {},
     "output_type": "execute_result"
    }
   ],
   "source": [
    "grid = s2ar(\".#./..#/###\")\n",
    "\n",
    "for _ in range(5):\n",
    "    grid = enhance(grid)\n",
    "grid.sum()"
   ],
   "metadata": {
    "collapsed": false
   }
  },
  {
   "cell_type": "code",
   "execution_count": 10,
   "outputs": [
    {
     "name": "stdout",
     "output_type": "stream",
     "text": [
      "[[1 1 1 1 1 1 1 1 0 0 0 0 1 1 1 1 1 1]\n",
      " [1 0 1 0 1 1 0 1 1 1 0 0 1 0 1 0 1 1]\n",
      " [0 1 0 1 1 0 1 0 0 1 0 0 0 1 0 1 1 0]\n",
      " [1 1 1 1 1 1 1 1 1 1 1 0 1 1 1 1 1 1]\n",
      " [0 1 1 1 0 1 1 0 1 0 1 1 0 1 1 1 0 1]\n",
      " [1 1 0 0 1 0 0 1 0 1 0 0 1 1 0 0 1 0]\n",
      " [1 1 0 0 0 0 1 1 0 0 0 0 1 1 1 1 1 1]\n",
      " [0 1 1 1 0 0 0 1 1 1 0 0 1 0 1 0 1 1]\n",
      " [1 0 0 1 0 0 1 0 0 1 0 0 0 1 0 1 1 0]\n",
      " [1 1 1 1 1 0 1 1 1 1 1 0 1 1 1 1 1 1]\n",
      " [1 0 1 0 1 1 1 0 1 0 1 1 0 1 1 1 0 1]\n",
      " [0 1 0 1 0 0 0 1 0 1 0 0 1 1 0 0 1 0]\n",
      " [1 1 1 1 1 1 1 1 0 0 0 0 1 1 0 0 0 0]\n",
      " [1 0 1 0 1 1 0 1 1 1 0 0 0 1 1 1 0 0]\n",
      " [0 1 0 1 1 0 1 0 0 1 0 0 1 0 0 1 0 0]\n",
      " [1 1 1 1 1 1 1 1 1 1 1 0 1 1 1 1 1 0]\n",
      " [0 1 1 1 0 1 1 0 1 0 1 1 1 0 1 0 1 1]\n",
      " [1 1 0 0 1 0 0 1 0 1 0 0 0 1 0 1 0 0]]\n"
     ]
    }
   ],
   "source": [
    "print(grid)"
   ],
   "metadata": {
    "collapsed": false
   }
  },
  {
   "cell_type": "markdown",
   "source": [
    "Part 2"
   ],
   "metadata": {
    "collapsed": false
   }
  },
  {
   "cell_type": "code",
   "execution_count": 11,
   "outputs": [
    {
     "name": "stdout",
     "output_type": "stream",
     "text": [
      "CPU times: user 3.36 s, sys: 22.3 ms, total: 3.38 s\n",
      "Wall time: 3.38 s\n"
     ]
    },
    {
     "data": {
      "text/plain": "2536879"
     },
     "execution_count": 11,
     "metadata": {},
     "output_type": "execute_result"
    }
   ],
   "source": [
    "%%time\n",
    "grid = s2ar(\".#./..#/###\")\n",
    "\n",
    "for _ in range(18):\n",
    "    grid = enhance(grid)\n",
    "grid.sum()"
   ],
   "metadata": {
    "collapsed": false
   }
  }
 ],
 "metadata": {
  "kernelspec": {
   "display_name": "Python 3",
   "language": "python",
   "name": "python3"
  },
  "language_info": {
   "codemirror_mode": {
    "name": "ipython",
    "version": 2
   },
   "file_extension": ".py",
   "mimetype": "text/x-python",
   "name": "python",
   "nbconvert_exporter": "python",
   "pygments_lexer": "ipython2",
   "version": "2.7.6"
  }
 },
 "nbformat": 4,
 "nbformat_minor": 0
}
