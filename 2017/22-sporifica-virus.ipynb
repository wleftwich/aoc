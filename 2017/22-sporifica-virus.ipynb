{
 "cells": [
  {
   "cell_type": "markdown",
   "source": [
    "https://adventofcode.com/2017/day/22"
   ],
   "metadata": {
    "collapsed": false
   }
  },
  {
   "cell_type": "code",
   "execution_count": 3,
   "outputs": [],
   "source": [
    "with open(\"data/22.txt\") as fh:\n",
    "    data = fh.read()"
   ],
   "metadata": {
    "collapsed": false
   }
  },
  {
   "cell_type": "code",
   "execution_count": 4,
   "outputs": [],
   "source": [
    "def load_grid(data):\n",
    "    L = data.strip().splitlines()\n",
    "    h = len(L)\n",
    "    w = len(L[0])\n",
    "    if not (h % 2 and w % 2):\n",
    "        raise ValueError(\"grid must have odd rows and cols\")\n",
    "    hmid = (h // 2)\n",
    "    wmid = (w // 2)\n",
    "    grid = set()\n",
    "    for y, line in enumerate(L):\n",
    "        for x, c in enumerate(line):\n",
    "            if c == \"#\":\n",
    "                grid.add(complex(x-wmid, hmid-y))\n",
    "    return grid"
   ],
   "metadata": {
    "collapsed": false
   }
  },
  {
   "cell_type": "code",
   "execution_count": 5,
   "outputs": [],
   "source": [
    "testdata = \"\"\"\\\n",
    "..#\n",
    "#..\n",
    "...\n",
    "\"\"\""
   ],
   "metadata": {
    "collapsed": false
   }
  },
  {
   "cell_type": "code",
   "execution_count": 8,
   "outputs": [
    {
     "data": {
      "text/plain": "{(-1+0j), (1+1j)}"
     },
     "execution_count": 8,
     "metadata": {},
     "output_type": "execute_result"
    }
   ],
   "source": [
    "testgrid = load_grid(testdata)\n",
    "testgrid"
   ],
   "metadata": {
    "collapsed": false
   }
  },
  {
   "cell_type": "markdown",
   "source": [
    "Part 1"
   ],
   "metadata": {
    "collapsed": false
   }
  },
  {
   "cell_type": "code",
   "execution_count": 11,
   "outputs": [
    {
     "name": "stdout",
     "output_type": "stream",
     "text": [
      "CPU times: user 5.81 ms, sys: 228 µs, total: 6.04 ms\n",
      "Wall time: 5.77 ms\n"
     ]
    },
    {
     "data": {
      "text/plain": "5196"
     },
     "execution_count": 11,
     "metadata": {},
     "output_type": "execute_result"
    }
   ],
   "source": [
    "%%time\n",
    "grid = load_grid(data)\n",
    "drxn = +1j\n",
    "pos = 0\n",
    "infections = 0\n",
    "for _ in range(10_000):\n",
    "    if pos in grid:\n",
    "        drxn *= -1j\n",
    "        grid.remove(pos)\n",
    "    else:\n",
    "        drxn *= +1j\n",
    "        grid.add(pos)\n",
    "        infections += 1\n",
    "    pos += drxn\n",
    "infections"
   ],
   "metadata": {
    "collapsed": false
   }
  },
  {
   "cell_type": "markdown",
   "source": [
    "Part 2"
   ],
   "metadata": {
    "collapsed": false
   }
  },
  {
   "cell_type": "code",
   "execution_count": 14,
   "outputs": [
    {
     "name": "stdout",
     "output_type": "stream",
     "text": [
      "CPU times: user 4.7 s, sys: 0 ns, total: 4.7 s\n",
      "Wall time: 4.7 s\n"
     ]
    },
    {
     "data": {
      "text/plain": "2511633"
     },
     "execution_count": 14,
     "metadata": {},
     "output_type": "execute_result"
    }
   ],
   "source": [
    "%%time\n",
    "grid = {p: \"i\" for p in load_grid(data)}\n",
    "drxn = +1j\n",
    "pos = 0\n",
    "infections = 0\n",
    "for _ in range(10_000_000):\n",
    "    v = grid.get(pos)\n",
    "    if v is None:\n",
    "        drxn *= +1j\n",
    "        grid[pos] = \"w\"\n",
    "    elif v == \"w\":\n",
    "        grid[pos] = \"i\"\n",
    "        infections += 1\n",
    "    elif v == \"i\":\n",
    "        drxn *= -1j\n",
    "        grid[pos] = \"f\"\n",
    "    elif v == \"f\":\n",
    "        drxn *= -1\n",
    "        del grid[pos]\n",
    "    else:\n",
    "        raise ValueError(f\"Can't happen: {v}\")\n",
    "    pos += drxn\n",
    "\n",
    "infections"
   ],
   "metadata": {
    "collapsed": false
   }
  },
  {
   "cell_type": "code",
   "execution_count": 15,
   "outputs": [
    {
     "data": {
      "text/plain": "72582"
     },
     "execution_count": 15,
     "metadata": {},
     "output_type": "execute_result"
    }
   ],
   "source": [
    "len(grid)"
   ],
   "metadata": {
    "collapsed": false
   }
  }
 ],
 "metadata": {
  "kernelspec": {
   "display_name": "Python 3",
   "language": "python",
   "name": "python3"
  },
  "language_info": {
   "codemirror_mode": {
    "name": "ipython",
    "version": 2
   },
   "file_extension": ".py",
   "mimetype": "text/x-python",
   "name": "python",
   "nbconvert_exporter": "python",
   "pygments_lexer": "ipython2",
   "version": "2.7.6"
  }
 },
 "nbformat": 4,
 "nbformat_minor": 0
}
