{
 "cells": [
  {
   "cell_type": "markdown",
   "metadata": {},
   "source": [
    "https://adventofcode.com/2019/day/21"
   ]
  },
  {
   "cell_type": "code",
   "execution_count": 1,
   "metadata": {},
   "outputs": [],
   "source": [
    "import io\n",
    "\n",
    "from intcode_computer import Intcode"
   ]
  },
  {
   "cell_type": "code",
   "execution_count": 2,
   "metadata": {},
   "outputs": [],
   "source": [
    "with open('data/21.txt') as fh:\n",
    "    data = fh.read().strip()\n",
    "program = [int(x) for x in data.split(',') if x]"
   ]
  },
  {
   "cell_type": "code",
   "execution_count": 3,
   "metadata": {},
   "outputs": [],
   "source": [
    "def runic(ic):\n",
    "    L = []\n",
    "    while True:\n",
    "        try:\n",
    "            resp = ic.step()\n",
    "        except StopIteration:\n",
    "            break\n",
    "        if resp is None:\n",
    "            break\n",
    "        L.append(resp)\n",
    "    return L"
   ]
  },
  {
   "cell_type": "code",
   "execution_count": 4,
   "metadata": {},
   "outputs": [],
   "source": [
    "ic = Intcode(program.copy())"
   ]
  },
  {
   "cell_type": "code",
   "execution_count": 5,
   "metadata": {},
   "outputs": [],
   "source": [
    "L = runic(ic)"
   ]
  },
  {
   "cell_type": "code",
   "execution_count": 6,
   "metadata": {},
   "outputs": [
    {
     "name": "stdout",
     "output_type": "stream",
     "text": [
      "[73, 110, 112, 117, 116, 32, 105, 110, 115, 116, 114, 117, 99, 116, 105, 111, 110, 115, 58, 10]\n"
     ]
    }
   ],
   "source": [
    "print(L)"
   ]
  },
  {
   "cell_type": "code",
   "execution_count": 7,
   "metadata": {},
   "outputs": [
    {
     "name": "stdout",
     "output_type": "stream",
     "text": [
      "Input instructions:\n"
     ]
    }
   ],
   "source": [
    "for x in L:\n",
    "    print(chr(x), end='')"
   ]
  },
  {
   "cell_type": "code",
   "execution_count": 8,
   "metadata": {},
   "outputs": [],
   "source": [
    "def runic(ic):\n",
    "    while not ic.awaiting_input:\n",
    "        try:\n",
    "            resp = ic.step()\n",
    "        except StopIteration:\n",
    "            break\n",
    "        if resp is None:\n",
    "            break\n",
    "        try:\n",
    "            print(chr(resp), end = '')\n",
    "        except ValueError:\n",
    "            print(resp)\n",
    "            break"
   ]
  },
  {
   "cell_type": "code",
   "execution_count": 9,
   "metadata": {},
   "outputs": [],
   "source": [
    "def sendic(ic, cmd):\n",
    "    for c in cmd:\n",
    "        r = ic.step(ord(c))\n",
    "        if r is not None:\n",
    "            print(chr(r))"
   ]
  },
  {
   "cell_type": "code",
   "execution_count": 10,
   "metadata": {},
   "outputs": [
    {
     "name": "stdout",
     "output_type": "stream",
     "text": [
      "Input instructions:\n"
     ]
    }
   ],
   "source": [
    "ic = Intcode(program.copy())\n",
    "runic(ic)"
   ]
  },
  {
   "cell_type": "code",
   "execution_count": 11,
   "metadata": {},
   "outputs": [
    {
     "name": "stdout",
     "output_type": "stream",
     "text": [
      "Input instructions:\n",
      "\n",
      "\n",
      "Walking...\n",
      "\n",
      "19350258\n"
     ]
    }
   ],
   "source": [
    "# cmd = \"\"\"\\\n",
    "# NOT C T\n",
    "# AND D T\n",
    "# OR T J\n",
    "# NOT A T\n",
    "# OR T J\n",
    "# WALK\n",
    "# \"\"\"\n",
    "cmd = \"\"\"\\\n",
    "NOT C J\n",
    "AND D J\n",
    "NOT A T\n",
    "OR T J\n",
    "WALK\n",
    "\"\"\"\n",
    "ic = Intcode(program.copy())\n",
    "runic(ic)\n",
    "sendic(ic, cmd)\n",
    "runic(ic)"
   ]
  },
  {
   "cell_type": "markdown",
   "metadata": {},
   "source": [
    "## Part 2"
   ]
  },
  {
   "cell_type": "code",
   "execution_count": 21,
   "metadata": {},
   "outputs": [
    {
     "name": "stdout",
     "output_type": "stream",
     "text": [
      "Input instructions:\n",
      "\n",
      "\n",
      "Running...\n",
      "\n",
      "1142627861\n"
     ]
    }
   ],
   "source": [
    "# cmd = \"\"\"\\\n",
    "# NOT C J\n",
    "# AND D J\n",
    "# AND H J\n",
    "# AND I J\n",
    "# NOT A T\n",
    "# OR T J\n",
    "# RUN\n",
    "# \"\"\"\n",
    "cmd = \"\"\"\\\n",
    "NOT C J\n",
    "AND H J\n",
    "NOT B T\n",
    "OR T J\n",
    "NOT A T\n",
    "OR T J\n",
    "AND D J\n",
    "RUN\n",
    "\"\"\"\n",
    "\n",
    "ic = Intcode(program.copy())\n",
    "runic(ic)\n",
    "sendic(ic, cmd)\n",
    "runic(ic)"
   ]
  }
 ],
 "metadata": {
  "kernelspec": {
   "display_name": "Python 3",
   "language": "python",
   "name": "python3"
  },
  "language_info": {
   "codemirror_mode": {
    "name": "ipython",
    "version": 3
   },
   "file_extension": ".py",
   "mimetype": "text/x-python",
   "name": "python",
   "nbconvert_exporter": "python",
   "pygments_lexer": "ipython3",
   "version": "3.7.3"
  }
 },
 "nbformat": 4,
 "nbformat_minor": 2
}
