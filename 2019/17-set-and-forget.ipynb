{
 "cells": [
  {
   "cell_type": "markdown",
   "metadata": {},
   "source": [
    "https://adventofcode.com/2019/day/17"
   ]
  },
  {
   "cell_type": "code",
   "execution_count": 1,
   "metadata": {},
   "outputs": [],
   "source": [
    "import io\n",
    "import networkx as nx\n",
    "from intcode_computer import Intcode"
   ]
  },
  {
   "cell_type": "code",
   "execution_count": 2,
   "metadata": {},
   "outputs": [],
   "source": [
    "with open('data/17.txt') as fh:\n",
    "    data = fh.read().strip()\n",
    "inp = [int(x) for x in data.split(',')]"
   ]
  },
  {
   "cell_type": "code",
   "execution_count": 3,
   "metadata": {},
   "outputs": [
    {
     "name": "stdout",
     "output_type": "stream",
     "text": [
      "Program has halted\n"
     ]
    }
   ],
   "source": [
    "ic = Intcode(inp.copy())\n",
    "asc = []\n",
    "while True:\n",
    "    try:\n",
    "        asc.append(ic.step())\n",
    "    except StopIteration as e:\n",
    "        print(e)\n",
    "        break"
   ]
  },
  {
   "cell_type": "code",
   "execution_count": 4,
   "metadata": {},
   "outputs": [
    {
     "data": {
      "text/plain": [
       "2060"
      ]
     },
     "execution_count": 4,
     "metadata": {},
     "output_type": "execute_result"
    }
   ],
   "source": [
    "len(asc)"
   ]
  },
  {
   "cell_type": "code",
   "execution_count": 5,
   "metadata": {},
   "outputs": [],
   "source": [
    "stream = io.StringIO(''.join(chr(x) for x in asc if x is not None))\n",
    "stream.seek(0)\n",
    "txt = stream.read()"
   ]
  },
  {
   "cell_type": "code",
   "execution_count": 6,
   "metadata": {},
   "outputs": [
    {
     "name": "stdout",
     "output_type": "stream",
     "text": [
      "#######..................................\n",
      "#.....#..................................\n",
      "#.....#..................................\n",
      "#.....#..................................\n",
      "#.....#..................................\n",
      "#.....#..................................\n",
      "#.....#.......................#####......\n",
      "#.....#.......................#...#......\n",
      "#.....#.......................#...#......\n",
      "#.....#.......................#...#......\n",
      "###########.................###########..\n",
      "......#...#.................#.#...#...#..\n",
      "......#######...........#######...#...#..\n",
      "..........#.#...........#...#.....#...#..\n",
      "..........#.#...........#...#.....#...#..\n",
      "..........#.#...........#...#.....#...#..\n",
      "..........#######.......#.#############..\n",
      "............#...#.......#.#.#.....#......\n",
      "............#############.#.#.....######^\n",
      "................#.........#.#............\n",
      "................#.....#######............\n",
      "................#.....#...#..............\n",
      "................#...#######..............\n",
      "................#...#.#..................\n",
      "................#...#.#..................\n",
      "................#...#.#..................\n",
      "..........#############..................\n",
      "..........#.....#...#....................\n",
      "..........#.....#####....................\n",
      "..........#..............................\n",
      "..........#######........................\n",
      "................#........................\n",
      "................#.#......................\n",
      "................#.#......................\n",
      "................#.#......................\n",
      "................#.#......................\n",
      "................#######..................\n",
      "..................#...#..................\n",
      "..................###########............\n",
      "......................#.....#............\n",
      "......................#.....#............\n",
      "......................#.....#............\n",
      "......................#.....#............\n",
      "......................#.....#............\n",
      "......................#.....#............\n",
      "......................#.....#............\n",
      "......................#.....#............\n",
      "......................#.....#............\n",
      "......................#######............\n",
      "\n",
      "\n"
     ]
    }
   ],
   "source": [
    "print(txt)"
   ]
  },
  {
   "cell_type": "code",
   "execution_count": 7,
   "metadata": {},
   "outputs": [],
   "source": [
    "scaffold = {}\n",
    "for y, line in enumerate(txt.split('\\n')):\n",
    "    line = line.strip()\n",
    "    for x, c in enumerate(line):\n",
    "        if c in '#^v<>':\n",
    "            scaffold[(x, y)] = c"
   ]
  },
  {
   "cell_type": "code",
   "execution_count": 8,
   "metadata": {},
   "outputs": [
    {
     "data": {
      "text/plain": [
       "262"
      ]
     },
     "execution_count": 8,
     "metadata": {},
     "output_type": "execute_result"
    }
   ],
   "source": [
    "len(scaffold)"
   ]
  },
  {
   "cell_type": "code",
   "execution_count": 9,
   "metadata": {},
   "outputs": [],
   "source": [
    "def listnabes(pos):\n",
    "    x, y = pos\n",
    "    return [(x, y+1), (x+1, y), (x, y-1), (x-1, y)]"
   ]
  },
  {
   "cell_type": "code",
   "execution_count": 10,
   "metadata": {},
   "outputs": [],
   "source": [
    "G = nx.Graph()"
   ]
  },
  {
   "cell_type": "code",
   "execution_count": 11,
   "metadata": {},
   "outputs": [],
   "source": [
    "for pos, c in scaffold.items():\n",
    "    G.add_node(pos, c=c)\n",
    "    for nabe in listnabes(pos):\n",
    "        if nabe in scaffold:\n",
    "            G.add_node(nabe, c=scaffold[nabe])\n",
    "            G.add_edge(pos, nabe)"
   ]
  },
  {
   "cell_type": "code",
   "execution_count": 12,
   "metadata": {},
   "outputs": [
    {
     "data": {
      "text/plain": [
       "262"
      ]
     },
     "execution_count": 12,
     "metadata": {},
     "output_type": "execute_result"
    }
   ],
   "source": [
    "len(G)"
   ]
  },
  {
   "cell_type": "code",
   "execution_count": 13,
   "metadata": {},
   "outputs": [
    {
     "name": "stdout",
     "output_type": "stream",
     "text": [
      "(6, 10) [(6, 9), (5, 10), (6, 11), (7, 10)]\n",
      "(30, 10) [(30, 9), (29, 10), (30, 11), (31, 10)]\n",
      "(34, 10) [(34, 9), (33, 10), (34, 11), (35, 10)]\n",
      "(10, 12) [(10, 11), (9, 12), (10, 13), (11, 12)]\n",
      "(28, 12) [(28, 11), (27, 12), (28, 13), (29, 12)]\n",
      "(12, 16) [(12, 15), (11, 16), (12, 17), (13, 16)]\n",
      "(28, 16) [(28, 15), (27, 16), (28, 17), (29, 16)]\n",
      "(34, 16) [(34, 15), (33, 16), (34, 17), (35, 16)]\n",
      "(16, 18) [(16, 17), (15, 18), (16, 19), (17, 18)]\n",
      "(26, 20) [(26, 19), (25, 20), (26, 21), (27, 20)]\n",
      "(22, 22) [(22, 21), (21, 22), (22, 23), (23, 22)]\n",
      "(16, 26) [(16, 25), (15, 26), (16, 27), (17, 26)]\n",
      "(20, 26) [(20, 25), (19, 26), (20, 27), (21, 26)]\n",
      "(18, 36) [(18, 35), (17, 36), (18, 37), (19, 36)]\n",
      "(22, 38) [(22, 37), (21, 38), (22, 39), (23, 38)]\n"
     ]
    }
   ],
   "source": [
    "for node in G.nodes:\n",
    "    nabes = list(nx.neighbors(G, node))\n",
    "    if len(nabes) == 4:\n",
    "        print(node, nabes)"
   ]
  },
  {
   "cell_type": "code",
   "execution_count": 14,
   "metadata": {},
   "outputs": [],
   "source": [
    "for node in G.nodes:\n",
    "    nabes = list(nx.neighbors(G, node))\n",
    "    if len(nabes) == 3:\n",
    "        print(node, nabes)"
   ]
  },
  {
   "cell_type": "code",
   "execution_count": 15,
   "metadata": {},
   "outputs": [
    {
     "name": "stdout",
     "output_type": "stream",
     "text": [
      "(40, 18) [(39, 18)]\n",
      "(18, 32) [(18, 33)]\n"
     ]
    }
   ],
   "source": [
    "for node in G.nodes:\n",
    "    nabes = list(nx.neighbors(G, node))\n",
    "    if len(nabes) == 1:\n",
    "        print(node, nabes)"
   ]
  },
  {
   "cell_type": "code",
   "execution_count": 16,
   "metadata": {},
   "outputs": [
    {
     "name": "stdout",
     "output_type": "stream",
     "text": [
      "6052\n"
     ]
    }
   ],
   "source": [
    "param_sum = 0\n",
    "for node in G.nodes:\n",
    "    nabes = list(nx.neighbors(G, node))\n",
    "    if len(nabes) == 4:\n",
    "        x, y = node\n",
    "        param_sum += (x * y)\n",
    "print(param_sum)"
   ]
  },
  {
   "cell_type": "markdown",
   "metadata": {},
   "source": [
    "## Part 2"
   ]
  },
  {
   "cell_type": "markdown",
   "metadata": {},
   "source": [
    "DFS starting at robot."
   ]
  },
  {
   "cell_type": "code",
   "execution_count": 17,
   "metadata": {},
   "outputs": [
    {
     "data": {
      "text/plain": [
       "(tuple, (0, 0))"
      ]
     },
     "execution_count": 17,
     "metadata": {},
     "output_type": "execute_result"
    }
   ],
   "source": [
    "n = next(iter(G.nodes))\n",
    "type(n), n"
   ]
  },
  {
   "cell_type": "code",
   "execution_count": 18,
   "metadata": {},
   "outputs": [
    {
     "data": {
      "text/plain": [
       "{'c': '#'}"
      ]
     },
     "execution_count": 18,
     "metadata": {},
     "output_type": "execute_result"
    }
   ],
   "source": [
    "G.nodes[(0,0)]"
   ]
  },
  {
   "cell_type": "code",
   "execution_count": 19,
   "metadata": {},
   "outputs": [
    {
     "name": "stdout",
     "output_type": "stream",
     "text": [
      "(40, 18) ^\n"
     ]
    }
   ],
   "source": [
    "for n in G.nodes:\n",
    "    if G.nodes[n]['c'] in '^v<>':\n",
    "        startnode = n\n",
    "        drxn = G.nodes[n]['c']\n",
    "        print(n, drxn)"
   ]
  },
  {
   "cell_type": "markdown",
   "metadata": {},
   "source": [
    "### DFS-DG (depth first search with delayed gratification)"
   ]
  },
  {
   "cell_type": "code",
   "execution_count": 25,
   "metadata": {},
   "outputs": [],
   "source": [
    "firstnode = (40,18)\n",
    "lastnode = (18,32)\n",
    "\n",
    "frontier = [firstnode] # stack\n",
    "visited = {firstnode}\n",
    "log = []\n",
    "\n",
    "intersections = set()\n",
    "prev = firstnode\n",
    "\n",
    "\n",
    "while frontier:\n",
    "    node = frontier.pop()\n",
    "    log.append(node)\n",
    "    \n",
    "    nabes = [x for x in nx.neighbors(G, node) if x != prev and (x not in visited or x in intersections)]\n",
    "    if len(nabes) > 2:\n",
    "        # this is an intersection\n",
    "        intersections.add(node)\n",
    "        nabes.sort(key = lambda x: len(list(nx.shortest_path(G, x, lastnode))))\n",
    "    for nabe in nabes:\n",
    "        frontier.append(nabe)\n",
    "        visited.add(nabe)\n",
    "    prev = node"
   ]
  },
  {
   "cell_type": "code",
   "execution_count": 26,
   "metadata": {},
   "outputs": [
    {
     "data": {
      "text/plain": [
       "(262, 262)"
      ]
     },
     "execution_count": 26,
     "metadata": {},
     "output_type": "execute_result"
    }
   ],
   "source": [
    "len(visited), len(G)"
   ]
  },
  {
   "cell_type": "code",
   "execution_count": 27,
   "metadata": {},
   "outputs": [
    {
     "data": {
      "text/plain": [
       "280"
      ]
     },
     "execution_count": 27,
     "metadata": {},
     "output_type": "execute_result"
    }
   ],
   "source": [
    "len(log)"
   ]
  },
  {
   "cell_type": "code",
   "execution_count": 28,
   "metadata": {},
   "outputs": [
    {
     "data": {
      "text/plain": [
       "[(29, 10),\n",
       " (34, 11),\n",
       " (34, 12),\n",
       " (34, 13),\n",
       " (34, 14),\n",
       " (34, 10),\n",
       " (33, 10),\n",
       " (34, 15),\n",
       " (34, 16),\n",
       " (33, 16)]"
      ]
     },
     "execution_count": 28,
     "metadata": {},
     "output_type": "execute_result"
    }
   ],
   "source": [
    "log[-10:]"
   ]
  },
  {
   "cell_type": "markdown",
   "metadata": {},
   "source": [
    "Are there any jumps in the log?"
   ]
  },
  {
   "cell_type": "code",
   "execution_count": 29,
   "metadata": {},
   "outputs": [
    {
     "name": "stdout",
     "output_type": "stream",
     "text": [
      "37 jump (32, 10) (30, 11)\n",
      "43 jump (28, 10) (28, 13)\n",
      "51 jump (32, 16) (28, 17)\n",
      "61 jump (26, 16) (26, 21)\n",
      "71 jump (24, 20) (22, 23)\n",
      "87 jump (18, 26) (16, 25)\n",
      "89 jump (16, 26) (16, 24)\n",
      "112 jump (26, 12) (15, 18)\n",
      "114 jump (16, 18) (14, 18)\n",
      "181 jump (16, 18) (15, 26)\n",
      "183 jump (16, 26) (14, 26)\n",
      "254 jump (18, 32) (20, 25)\n",
      "256 jump (20, 26) (20, 24)\n",
      "259 jump (20, 22) (19, 26)\n",
      "261 jump (20, 26) (22, 22)\n",
      "263 jump (21, 22) (26, 20)\n",
      "265 jump (25, 20) (28, 16)\n",
      "267 jump (27, 16) (28, 12)\n",
      "269 jump (27, 12) (30, 10)\n",
      "271 jump (29, 10) (34, 11)\n",
      "275 jump (34, 14) (34, 10)\n",
      "277 jump (33, 10) (34, 15)\n",
      "22 jumps\n"
     ]
    }
   ],
   "source": [
    "it = iter(log)\n",
    "a = next(it)\n",
    "c = 0\n",
    "for i, b in enumerate(it, 1):\n",
    "    if b not in list(nx.neighbors(G, a)):\n",
    "        c += 1\n",
    "        print(i, 'jump', a, b)\n",
    "    a = b\n",
    "print(f\"{c} jumps\")"
   ]
  },
  {
   "cell_type": "code",
   "execution_count": 88,
   "metadata": {},
   "outputs": [
    {
     "data": {
      "text/plain": [
       "{(6, 10),\n",
       " (10, 12),\n",
       " (12, 16),\n",
       " (16, 18),\n",
       " (16, 26),\n",
       " (18, 36),\n",
       " (20, 26),\n",
       " (22, 22),\n",
       " (22, 38),\n",
       " (26, 20),\n",
       " (28, 12),\n",
       " (28, 16),\n",
       " (30, 10),\n",
       " (34, 10),\n",
       " (34, 16)}"
      ]
     },
     "execution_count": 88,
     "metadata": {},
     "output_type": "execute_result"
    }
   ],
   "source": [
    "intersections"
   ]
  },
  {
   "cell_type": "code",
   "execution_count": 143,
   "metadata": {},
   "outputs": [
    {
     "data": {
      "text/plain": [
       "[(36, 10),\n",
       " (35, 10),\n",
       " (34, 10),\n",
       " (34, 11),\n",
       " (34, 12),\n",
       " (34, 13),\n",
       " (34, 14),\n",
       " (34, 9),\n",
       " (34, 10),\n",
       " (34, 8),\n",
       " (34, 7),\n",
       " (34, 6)]"
      ]
     },
     "execution_count": 143,
     "metadata": {},
     "output_type": "execute_result"
    }
   ],
   "source": [
    "log[20:32]"
   ]
  },
  {
   "cell_type": "markdown",
   "metadata": {},
   "source": [
    "Now fill in the jumps in the log."
   ]
  },
  {
   "cell_type": "code",
   "execution_count": 152,
   "metadata": {},
   "outputs": [
    {
     "data": {
      "text/plain": [
       "[(40, 18)]"
      ]
     },
     "execution_count": 152,
     "metadata": {},
     "output_type": "execute_result"
    }
   ],
   "source": [
    "rlog = list(reversed(log))\n",
    "\n",
    "track = [rlog.pop()]\n",
    "track"
   ]
  },
  {
   "cell_type": "code",
   "execution_count": 153,
   "metadata": {},
   "outputs": [],
   "source": [
    "while rlog:\n",
    "    prev = track[-1]\n",
    "    node = rlog.pop()\n",
    "    if node in list(nx.neighbors(G, prev)):\n",
    "        track.append(node)\n",
    "    else:\n",
    "        track.extend(nx.shortest_path(G, prev, node)[1:])"
   ]
  },
  {
   "cell_type": "code",
   "execution_count": 154,
   "metadata": {},
   "outputs": [
    {
     "data": {
      "text/plain": [
       "374"
      ]
     },
     "execution_count": 154,
     "metadata": {},
     "output_type": "execute_result"
    }
   ],
   "source": [
    "len(track)"
   ]
  },
  {
   "cell_type": "code",
   "execution_count": 155,
   "metadata": {},
   "outputs": [
    {
     "data": {
      "text/plain": [
       "[(30, 8),\n",
       " (30, 7),\n",
       " (30, 6),\n",
       " (31, 6),\n",
       " (32, 6),\n",
       " (33, 6),\n",
       " (34, 6),\n",
       " (34, 7),\n",
       " (34, 8),\n",
       " (34, 9),\n",
       " (34, 10),\n",
       " (34, 11),\n",
       " (34, 12),\n",
       " (34, 13),\n",
       " (34, 14),\n",
       " (34, 15),\n",
       " (34, 16),\n",
       " (33, 16),\n",
       " (34, 16),\n",
       " (34, 15)]"
      ]
     },
     "execution_count": 155,
     "metadata": {},
     "output_type": "execute_result"
    }
   ],
   "source": [
    "track[-20:]"
   ]
  },
  {
   "cell_type": "code",
   "execution_count": 156,
   "metadata": {},
   "outputs": [],
   "source": [
    "class BotTape:\n",
    "    def __init__(self, track=track, drxn=drxn):\n",
    "        self.trackit = iter(track)\n",
    "        self.drxn = drxn\n",
    "        self.tape = []\n",
    "        self.pos = next(self.trackit)\n",
    "        self.counter = 0\n",
    "    \n",
    "    def run(self):\n",
    "        for newpos in self.trackit:\n",
    "            self.move(newpos)\n",
    "        if self.counter:\n",
    "            self.tape.append(str(self.counter))\n",
    "        \n",
    "    def move(self, newpos):\n",
    "        if newpos == self.pos:\n",
    "            raise BotTapeError(f\"Track repeated {newpos}\")\n",
    "        drxn, drcmds = self.getdrxn(newpos)\n",
    "        self.drxn = drxn\n",
    "        if drcmds:\n",
    "            if self.counter:\n",
    "                self.tape.append(str(self.counter))\n",
    "                self.counter = 0\n",
    "            self.tape.extend(drcmds)\n",
    "        self.counter += 1\n",
    "        self.pos = newpos\n",
    "    \n",
    "    def getdrxn(self, newpos):\n",
    "        (x1, y1) = self.pos\n",
    "        (x2, y2) = newpos\n",
    "        \n",
    "        if x2 > x1:\n",
    "            drxn = '>'\n",
    "        elif x2 < x1:\n",
    "            drxn = '<'\n",
    "        elif y2 > y1:\n",
    "            drxn = 'v'\n",
    "        elif y2 < y1:\n",
    "            drxn = '^'\n",
    "        else:\n",
    "            raise BotTapeError(\"Can't happen\")\n",
    "        \n",
    "        if drxn == self.drxn:\n",
    "            return (drxn, [])\n",
    "        \n",
    "        turns = {\n",
    "            ('^', '>'): ['R'],\n",
    "            ('^', 'v'): ['R', '0', 'R'],\n",
    "            ('^', '<'): ['L'],\n",
    "            ('>', 'v'): ['R'],\n",
    "            ('>', '<'): ['R', '0', 'R'],\n",
    "            ('>', '^'): ['L'],\n",
    "            ('v', '<'): ['R'],\n",
    "            ('v', '^'): ['R', '0', 'R'],\n",
    "            ('v', '>'): ['L'],\n",
    "            ('<', '^'): ['R'],\n",
    "            ('<', '>'): ['R', '0', 'R'],\n",
    "            ('<', 'v'): ['L']\n",
    "        }\n",
    "        return (drxn, turns[self.drxn, drxn])\n",
    "\n",
    "class BotTapeError(Exception):\n",
    "    pass  "
   ]
  },
  {
   "cell_type": "code",
   "execution_count": 157,
   "metadata": {},
   "outputs": [],
   "source": [
    "bt = BotTape()\n",
    "bt.run()"
   ]
  },
  {
   "cell_type": "code",
   "execution_count": 158,
   "metadata": {},
   "outputs": [
    {
     "name": "stdout",
     "output_type": "stream",
     "text": [
      "L6R2R4L6L4L4R0R4L4L2R2L4L4R0R4L4R2L2R4L4R2L2R4R2R2R0R8L4L6R6L6R2L6R10R6R10L4R6R0R4R2R6L6R4R6L8R8L6R2R0R2L6R12R2R4R0R6R4R2R2R0R2L6R2R4R0R10R10R6R10L4R2L2R4L4R10L4L4R2L2R4L4R2L4L1R0R1L2R2L4R4R10R1R0R1L1\n"
     ]
    }
   ],
   "source": [
    "print(''.join(bt.tape))"
   ]
  },
  {
   "cell_type": "code",
   "execution_count": 159,
   "metadata": {},
   "outputs": [
    {
     "data": {
      "text/plain": [
       "192"
      ]
     },
     "execution_count": 159,
     "metadata": {},
     "output_type": "execute_result"
    }
   ],
   "source": [
    "len(bt.tape)"
   ]
  },
  {
   "cell_type": "code",
   "execution_count": 160,
   "metadata": {},
   "outputs": [
    {
     "data": {
      "text/plain": [
       "'R8R8R4R4R8L6L2R4R4R8R8R8L6L2'"
      ]
     },
     "execution_count": 160,
     "metadata": {},
     "output_type": "execute_result"
    }
   ],
   "source": [
    "s = 'R,8,R,8,R,4,R,4,R,8,L,6,L,2,R,4,R,4,R,8,R,8,R,8,L,6,L,2'.replace(',', '')\n",
    "s"
   ]
  },
  {
   "cell_type": "code",
   "execution_count": 161,
   "metadata": {},
   "outputs": [],
   "source": [
    "def repeated_prefixes(s, minlen, maxlen, stride):\n",
    "    L = []\n",
    "    slen = len(s)\n",
    "    for i in range(minlen, maxlen+1, stride):\n",
    "        prefix, remainder = s[:i], s[i:]\n",
    "        while prefix in remainder:\n",
    "            remainder = remainder.replace(prefix, '', 1)\n",
    "        if len(prefix) + len(remainder) < slen:\n",
    "            L.append((prefix, remainder))\n",
    "    L.sort(key = lambda x: x[1])\n",
    "    return L"
   ]
  },
  {
   "cell_type": "code",
   "execution_count": 162,
   "metadata": {},
   "outputs": [
    {
     "data": {
      "text/plain": [
       "[('R8R8', 'R4R4R8L6L2R4R4R8L6L2')]"
      ]
     },
     "execution_count": 162,
     "metadata": {},
     "output_type": "execute_result"
    }
   ],
   "source": [
    "L = repeated_prefixes(s, 4, 7, 2)\n",
    "L"
   ]
  },
  {
   "cell_type": "code",
   "execution_count": 163,
   "metadata": {},
   "outputs": [
    {
     "data": {
      "text/plain": [
       "[('R4R4R8', 'L6L2L6L2'), ('R4R4', 'R8L6L2R8L6L2')]"
      ]
     },
     "execution_count": 163,
     "metadata": {},
     "output_type": "execute_result"
    }
   ],
   "source": [
    "t = L[0][1]\n",
    "M = repeated_prefixes(t, 4, 7, 2)\n",
    "M"
   ]
  },
  {
   "cell_type": "code",
   "execution_count": 164,
   "metadata": {},
   "outputs": [
    {
     "data": {
      "text/plain": [
       "[('L6L2', '')]"
      ]
     },
     "execution_count": 164,
     "metadata": {},
     "output_type": "execute_result"
    }
   ],
   "source": [
    "u = M[0][1]\n",
    "N = repeated_prefixes(u, 4, 7, 2)\n",
    "N"
   ]
  },
  {
   "cell_type": "code",
   "execution_count": 165,
   "metadata": {},
   "outputs": [
    {
     "name": "stdout",
     "output_type": "stream",
     "text": [
      "R8R8 R4R4R8 L6L2\n",
      "R8R8 R4R4 R8L6L2\n"
     ]
    }
   ],
   "source": [
    "for (A, rA) in repeated_prefixes(s, 4, 7, 2):\n",
    "    for (B, rB) in repeated_prefixes(rA, 4, 7, 2):\n",
    "        for (C, rC) in repeated_prefixes(rB, 4, 7, 2):\n",
    "            if not rC:\n",
    "                print(A, B, C)"
   ]
  },
  {
   "cell_type": "code",
   "execution_count": 166,
   "metadata": {},
   "outputs": [
    {
     "name": "stdout",
     "output_type": "stream",
     "text": [
      "L6R2R4L6L4L4R0R4L4L2R2L4L4R0R4L4R2L2R4L4R2L2R4R2R2R0R8L4L6R6L6R2L6R10R6R10L4R6R0R4R2R6L6R4R6L8R8L6R2R0R2L6R12R2R4R0R6R4R2R2R0R2L6R2R4R0R10R10R6R10L4R2L2R4L4R10L4L4R2L2R4L4R2L4L1R0R1L2R2L4R4R10R1R0R1L1\n"
     ]
    }
   ],
   "source": [
    "thetape = ''.join(bt.tape)\n",
    "print(thetape)"
   ]
  },
  {
   "cell_type": "code",
   "execution_count": 171,
   "metadata": {},
   "outputs": [],
   "source": [
    "for (A, rA) in repeated_prefixes(thetape, 4, 15, 2):\n",
    "    for (B, rB) in repeated_prefixes(rA, 4, 15, 2):\n",
    "        for (C, rC) in repeated_prefixes(rB, 4, 15, 2):\n",
    "            if not rC:\n",
    "                print(A, B, C)"
   ]
  },
  {
   "cell_type": "code",
   "execution_count": 172,
   "metadata": {},
   "outputs": [
    {
     "data": {
      "text/plain": [
       "[('L6R2R4',\n",
       "  'L6L4L4R0R4L4L2R2L4L4R0R4L4R2L2R4L4R2L2R4R2R2R0R8L4L6R6L6R2L6R10R6R10L4R6R0R4R2R6L6R4R6L8R8L6R2R0R2L6R12R2R4R0R6R4R2R2R0R2R0R10R10R6R10L4R2L2R4L4R10L4L4R2L2R4L4R2L4L1R0R1L2R2L4R4R10R1R0R1L1'),\n",
       " ('L6R2',\n",
       "  'R4L6L4L4R0R4L4L2R2L4L4R0R4L4R2L2R4L4R2L2R4R2R2R0R8L4L6R6L6R10R6R10L4R6R0R4R2R6L6R4R6L8R8R0R2L6R12R2R4R0R6R4R2R2R0R2R4R0R10R10R6R10L4R2L2R4L4R10L4L4R2L2R4L4R2L4L1R0R1L2R2L4R4R10R1R0R1L1')]"
      ]
     },
     "execution_count": 172,
     "metadata": {},
     "output_type": "execute_result"
    }
   ],
   "source": [
    "repeated_prefixes(thetape, 4, 15, 2)"
   ]
  },
  {
   "cell_type": "code",
   "execution_count": null,
   "metadata": {},
   "outputs": [],
   "source": []
  },
  {
   "cell_type": "code",
   "execution_count": null,
   "metadata": {},
   "outputs": [],
   "source": []
  }
 ],
 "metadata": {
  "kernelspec": {
   "display_name": "Python 3",
   "language": "python",
   "name": "python3"
  },
  "language_info": {
   "codemirror_mode": {
    "name": "ipython",
    "version": 3
   },
   "file_extension": ".py",
   "mimetype": "text/x-python",
   "name": "python",
   "nbconvert_exporter": "python",
   "pygments_lexer": "ipython3",
   "version": "3.7.3"
  }
 },
 "nbformat": 4,
 "nbformat_minor": 2
}
