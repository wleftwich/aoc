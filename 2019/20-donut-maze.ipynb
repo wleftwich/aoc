{
 "cells": [
  {
   "cell_type": "markdown",
   "metadata": {},
   "source": [
    "https://adventofcode.com/2019/day/20"
   ]
  },
  {
   "cell_type": "code",
   "execution_count": 27,
   "metadata": {},
   "outputs": [],
   "source": [
    "import collections\n",
    "import heapq\n",
    "import networkx as nx"
   ]
  },
  {
   "cell_type": "code",
   "execution_count": 95,
   "metadata": {},
   "outputs": [],
   "source": [
    "with open('data/20.txt') as fh:\n",
    "    data = fh.read().rstrip('\\n')"
   ]
  },
  {
   "cell_type": "code",
   "execution_count": 100,
   "metadata": {},
   "outputs": [],
   "source": [
    "def load_points(data):\n",
    "    D = {}\n",
    "    for y, line in enumerate(data.split('\\n')):\n",
    "        for x, c in enumerate(line):\n",
    "            if c == '.' or c.isalpha():\n",
    "                D[(x, y)] = c\n",
    "    return D"
   ]
  },
  {
   "cell_type": "code",
   "execution_count": 4,
   "metadata": {},
   "outputs": [],
   "source": [
    "d1 = \"\"\"\\\n",
    "         A           \n",
    "         A           \n",
    "  #######.#########  \n",
    "  #######.........#  \n",
    "  #######.#######.#  \n",
    "  #######.#######.#  \n",
    "  #######.#######.#  \n",
    "  #####  B    ###.#  \n",
    "BC...##  C    ###.#  \n",
    "  ##.##       ###.#  \n",
    "  ##...DE  F  ###.#  \n",
    "  #####    G  ###.#  \n",
    "  #########.#####.#  \n",
    "DE..#######...###.#  \n",
    "  #.#########.###.#  \n",
    "FG..#########.....#  \n",
    "  ###########.#####  \n",
    "             Z       \n",
    "             Z       \n",
    "\"\"\""
   ]
  },
  {
   "cell_type": "code",
   "execution_count": 5,
   "metadata": {},
   "outputs": [],
   "source": [
    "p1 = load_points(d1)"
   ]
  },
  {
   "cell_type": "code",
   "execution_count": 6,
   "metadata": {},
   "outputs": [],
   "source": [
    "def nsew(pt):\n",
    "    x,y = pt\n",
    "    return [(x, y-1), (x, y+1), (x+1, y), (x-1, y)]"
   ]
  },
  {
   "cell_type": "code",
   "execution_count": 7,
   "metadata": {},
   "outputs": [],
   "source": [
    "def find_label(pt, D):\n",
    "    if D[pt] != '.':\n",
    "        return\n",
    "    x, y = pt\n",
    "    n = D.get((x, y-2), '9') + D.get((x, y-1), '9')\n",
    "    if n.isalpha():\n",
    "        return n\n",
    "    s = D.get((x, y+1), '9') + D.get((x, y+2), '9')\n",
    "    if s.isalpha():\n",
    "        return s\n",
    "    e = D.get((x+1, y), '9') + D.get((x+2, y), '9')\n",
    "    if e.isalpha():\n",
    "        return e\n",
    "    w = D.get((x-2, y), '9') + D.get((x-1, y), '9')\n",
    "    if w.isalpha():\n",
    "        return w                          "
   ]
  },
  {
   "cell_type": "code",
   "execution_count": 8,
   "metadata": {},
   "outputs": [],
   "source": [
    "def label_points(D):\n",
    "    E = {}\n",
    "    for pt, c in D.items():\n",
    "        label = find_label(pt, D)\n",
    "        if label:\n",
    "            c = label\n",
    "        E[pt] = c\n",
    "    F = {}\n",
    "    for pt, c in E.items():\n",
    "        if c.isalpha() and len(c) == 1:\n",
    "            pass\n",
    "        else:\n",
    "            F[pt] = c\n",
    "    return F"
   ]
  },
  {
   "cell_type": "code",
   "execution_count": 9,
   "metadata": {},
   "outputs": [],
   "source": [
    "p2 = label_points(p1)"
   ]
  },
  {
   "cell_type": "code",
   "execution_count": 44,
   "metadata": {
    "scrolled": true
   },
   "outputs": [
    {
     "data": {
      "text/plain": [
       "{(9, 2): 'AA',\n",
       " (9, 3): '.',\n",
       " (10, 3): '.',\n",
       " (11, 3): '.',\n",
       " (12, 3): '.',\n",
       " (13, 3): '.',\n",
       " (14, 3): '.',\n",
       " (15, 3): '.',\n",
       " (16, 3): '.',\n",
       " (17, 3): '.',\n",
       " (9, 4): '.',\n",
       " (17, 4): '.',\n",
       " (9, 5): '.',\n",
       " (17, 5): '.',\n",
       " (9, 6): 'BC',\n",
       " (17, 6): '.',\n",
       " (17, 7): '.',\n",
       " (2, 8): 'BC',\n",
       " (3, 8): '.',\n",
       " (4, 8): '.',\n",
       " (17, 8): '.',\n",
       " (4, 9): '.',\n",
       " (17, 9): '.',\n",
       " (4, 10): '.',\n",
       " (5, 10): '.',\n",
       " (6, 10): 'DE',\n",
       " (17, 10): '.',\n",
       " (17, 11): '.',\n",
       " (11, 12): 'FG',\n",
       " (17, 12): '.',\n",
       " (2, 13): 'DE',\n",
       " (3, 13): '.',\n",
       " (11, 13): '.',\n",
       " (12, 13): '.',\n",
       " (13, 13): '.',\n",
       " (17, 13): '.',\n",
       " (3, 14): '.',\n",
       " (13, 14): '.',\n",
       " (17, 14): '.',\n",
       " (2, 15): 'FG',\n",
       " (3, 15): '.',\n",
       " (13, 15): '.',\n",
       " (14, 15): '.',\n",
       " (15, 15): '.',\n",
       " (16, 15): '.',\n",
       " (17, 15): '.',\n",
       " (13, 16): 'ZZ'}"
      ]
     },
     "execution_count": 44,
     "metadata": {},
     "output_type": "execute_result"
    }
   ],
   "source": [
    "p2"
   ]
  },
  {
   "cell_type": "code",
   "execution_count": 33,
   "metadata": {},
   "outputs": [],
   "source": [
    "def points2graph(points):\n",
    "    G = nx.Graph()\n",
    "    portals = collections.defaultdict(list)\n",
    "    for pt, c in points.items():\n",
    "        if c.isalpha():\n",
    "            portals[c].append(pt)\n",
    "        G.add_node(pt, c=c)\n",
    "        for nabe in nsew(pt):\n",
    "            if nabe in points:\n",
    "                G.add_node(nabe, c=points[nabe])\n",
    "                G.add_edge(pt, nabe)\n",
    "    for c, pts in portals.items():\n",
    "        if len(pts) == 2:\n",
    "            G.add_edge(*pts)\n",
    "    return G    "
   ]
  },
  {
   "cell_type": "code",
   "execution_count": 34,
   "metadata": {},
   "outputs": [],
   "source": [
    "g2 = points2graph(p2)"
   ]
  },
  {
   "cell_type": "code",
   "execution_count": 35,
   "metadata": {},
   "outputs": [
    {
     "data": {
      "text/plain": [
       "47"
      ]
     },
     "execution_count": 35,
     "metadata": {},
     "output_type": "execute_result"
    }
   ],
   "source": [
    "len(g2)"
   ]
  },
  {
   "cell_type": "code",
   "execution_count": 41,
   "metadata": {},
   "outputs": [
    {
     "name": "stdout",
     "output_type": "stream",
     "text": [
      "(9, 5) .\n",
      "(2, 8) BC\n"
     ]
    }
   ],
   "source": [
    "for nabe in g2.neighbors((9, 6)):\n",
    "    print(nabe, g2.nodes[nabe]['c'])"
   ]
  },
  {
   "cell_type": "code",
   "execution_count": 43,
   "metadata": {},
   "outputs": [],
   "source": [
    "def run_maze(G):\n",
    "    start = next(n for n in G if G.nodes[n]['c'] == 'AA')\n",
    "    finish = next(n for n in G if G.nodes[n]['c'] == 'ZZ')\n",
    "    return nx.shortest_path_length(G, start, finish)\n",
    "    "
   ]
  },
  {
   "cell_type": "code",
   "execution_count": 44,
   "metadata": {},
   "outputs": [
    {
     "data": {
      "text/plain": [
       "23"
      ]
     },
     "execution_count": 44,
     "metadata": {},
     "output_type": "execute_result"
    }
   ],
   "source": [
    "run_maze(g2)"
   ]
  },
  {
   "cell_type": "code",
   "execution_count": 62,
   "metadata": {},
   "outputs": [],
   "source": [
    "def bfs(G):\n",
    "    start = next(n for n in G if G.nodes[n]['c'] == 'AA')\n",
    "    finish = next(n for n in G if G.nodes[n]['c'] == 'ZZ')\n",
    "    frontier = collections.deque() # Queue\n",
    "    explored = set()\n",
    "    frontier.append((0, start))\n",
    "    explored.add(start)\n",
    "    while frontier:\n",
    "        pl, node = frontier.popleft()\n",
    "        if node == finish:\n",
    "            return pl\n",
    "        for nabe in G.neighbors(node):\n",
    "            if nabe not in explored:\n",
    "                explored.add(nabe)\n",
    "                frontier.append((pl+1, nabe))        "
   ]
  },
  {
   "cell_type": "code",
   "execution_count": 63,
   "metadata": {},
   "outputs": [
    {
     "name": "stdout",
     "output_type": "stream",
     "text": [
      "CPU times: user 134 µs, sys: 3 µs, total: 137 µs\n",
      "Wall time: 140 µs\n"
     ]
    },
    {
     "data": {
      "text/plain": [
       "23"
      ]
     },
     "execution_count": 63,
     "metadata": {},
     "output_type": "execute_result"
    }
   ],
   "source": [
    "%%time\n",
    "bfs(g2)"
   ]
  },
  {
   "cell_type": "code",
   "execution_count": 64,
   "metadata": {},
   "outputs": [],
   "source": [
    "def dijkstra(G):\n",
    "    start = next(n for n in G if G.nodes[n]['c'] == 'AA')\n",
    "    finish = next(n for n in G if G.nodes[n]['c'] == 'ZZ')\n",
    "    frontier = [] # heap\n",
    "    explored = set()\n",
    "    heapq.heappush(frontier, (0, start))\n",
    "    explored.add(start)\n",
    "    while frontier:\n",
    "        pl, node = heapq.heappop(frontier)\n",
    "        if node == finish:\n",
    "            return pl\n",
    "        for nabe in G.neighbors(node):\n",
    "            if nabe not in explored:\n",
    "                explored.add(nabe)\n",
    "                heapq.heappush(frontier, (pl+1, nabe))\n",
    "        "
   ]
  },
  {
   "cell_type": "code",
   "execution_count": 65,
   "metadata": {},
   "outputs": [
    {
     "name": "stdout",
     "output_type": "stream",
     "text": [
      "CPU times: user 113 µs, sys: 3 µs, total: 116 µs\n",
      "Wall time: 119 µs\n"
     ]
    },
    {
     "data": {
      "text/plain": [
       "23"
      ]
     },
     "execution_count": 65,
     "metadata": {},
     "output_type": "execute_result"
    }
   ],
   "source": [
    "%%time\n",
    "dijkstra(g2)"
   ]
  },
  {
   "cell_type": "code",
   "execution_count": null,
   "metadata": {},
   "outputs": [],
   "source": []
  },
  {
   "cell_type": "code",
   "execution_count": 59,
   "metadata": {},
   "outputs": [],
   "source": [
    "def make_graph(data):\n",
    "    points = label_points(load_points(data))\n",
    "    return points2graph(points)"
   ]
  },
  {
   "cell_type": "code",
   "execution_count": 60,
   "metadata": {},
   "outputs": [
    {
     "data": {
      "text/plain": [
       "23"
      ]
     },
     "execution_count": 60,
     "metadata": {},
     "output_type": "execute_result"
    }
   ],
   "source": [
    "run_maze(make_graph(d1))"
   ]
  },
  {
   "cell_type": "code",
   "execution_count": 61,
   "metadata": {},
   "outputs": [
    {
     "name": "stdout",
     "output_type": "stream",
     "text": [
      "CPU times: user 79.4 ms, sys: 0 ns, total: 79.4 ms\n",
      "Wall time: 78.4 ms\n"
     ]
    },
    {
     "data": {
      "text/plain": [
       "484"
      ]
     },
     "execution_count": 61,
     "metadata": {},
     "output_type": "execute_result"
    }
   ],
   "source": [
    "%%time\n",
    "run_maze(make_graph(data))"
   ]
  },
  {
   "cell_type": "markdown",
   "metadata": {},
   "source": [
    "## Part 2"
   ]
  },
  {
   "cell_type": "code",
   "execution_count": 82,
   "metadata": {},
   "outputs": [],
   "source": [
    "def points2rgraph(points):\n",
    "    G = nx.Graph()\n",
    "    for pt, c in points.items():\n",
    "        G.add_node(pt, c=c)\n",
    "        for nabe in nsew(pt):\n",
    "            if nabe in points:\n",
    "                G.add_node(nabe, c=points[nabe])\n",
    "                G.add_edge(pt, nabe)\n",
    "    return G    "
   ]
  },
  {
   "cell_type": "code",
   "execution_count": 89,
   "metadata": {},
   "outputs": [],
   "source": [
    "def rdijksra(G):\n",
    "    start = next(n for n in G if G.nodes[n]['c'] == 'AA')\n",
    "    finish = next(n for n in G if G.nodes[n]['c'] == 'ZZ')\n",
    "    xmin = min(x for (x,y) in G)\n",
    "    xmax = max(x for (x,y) in G)\n",
    "    ymin = min(y for (x,y) in G)\n",
    "    ymax = max(y for (x,y) in G)\n",
    "\n",
    "    portals = collections.defaultdict(list)\n",
    "    for n in G:\n",
    "        c = G.nodes[n]['c']\n",
    "        if c.isalpha() and c not in ('AA', 'ZZ'):\n",
    "            portals[c].append(n)\n",
    "    for (a, b) in portals.values():\n",
    "        ax, ay = a\n",
    "        dl = 1 if ax in {xmin, xmax} or ay in {ymin, ymax} else -1\n",
    "        G.nodes[a]['dl'] = dl\n",
    "        G.nodes[a]['p'] = b\n",
    "        bx, by = b\n",
    "        dl = 1 if bx in {xmin, xmax} or by in {ymin, ymax} else -1\n",
    "        G.nodes[b]['dl'] = dl\n",
    "        G.nodes[b]['p'] = a\n",
    "    \n",
    "    frontier = [] # heap\n",
    "    explored = set()\n",
    "    heapq.heappush(frontier, (0, 0, start))\n",
    "    explored.add((start, 0))\n",
    "    \n",
    "    while frontier:\n",
    "        level, steps, node = heapq.heappop(frontier)\n",
    "        if node == finish and level == 0:\n",
    "            return steps\n",
    "        for nabe in G.neighbors(node):\n",
    "            if (nabe, level) not in explored:\n",
    "                explored.add((nabe, level))\n",
    "                heapq.heappush(frontier, (level, steps+1, nabe))\n",
    "        if 'p' in G.nodes[node]:\n",
    "            portal = G.nodes[node]['p']\n",
    "            dl = G.nodes[portal]['dl']\n",
    "            nextlevel = level + dl\n",
    "            if nextlevel >= 0 and (portal, nextlevel) not in explored:\n",
    "                explored.add((portal, nextlevel))\n",
    "                heapq.heappush(frontier, (nextlevel, steps+1, portal))"
   ]
  },
  {
   "cell_type": "code",
   "execution_count": 79,
   "metadata": {},
   "outputs": [],
   "source": [
    "d1 = \"\"\"\\\n",
    "         A           \n",
    "         A           \n",
    "  #######.#########  \n",
    "  #######.........#  \n",
    "  #######.#######.#  \n",
    "  #######.#######.#  \n",
    "  #######.#######.#  \n",
    "  #####  B    ###.#  \n",
    "BC...##  C    ###.#  \n",
    "  ##.##       ###.#  \n",
    "  ##...DE  F  ###.#  \n",
    "  #####    G  ###.#  \n",
    "  #########.#####.#  \n",
    "DE..#######...###.#  \n",
    "  #.#########.###.#  \n",
    "FG..#########.....#  \n",
    "  ###########.#####  \n",
    "             Z       \n",
    "             Z       \n",
    "\"\"\""
   ]
  },
  {
   "cell_type": "code",
   "execution_count": 80,
   "metadata": {},
   "outputs": [],
   "source": [
    "points = label_points(load_points(d1))"
   ]
  },
  {
   "cell_type": "code",
   "execution_count": 83,
   "metadata": {},
   "outputs": [],
   "source": [
    "rg1 = points2rgraph(points)"
   ]
  },
  {
   "cell_type": "code",
   "execution_count": 90,
   "metadata": {},
   "outputs": [
    {
     "data": {
      "text/plain": [
       "26"
      ]
     },
     "execution_count": 90,
     "metadata": {},
     "output_type": "execute_result"
    }
   ],
   "source": [
    "rdijksra(rg1)"
   ]
  },
  {
   "cell_type": "code",
   "execution_count": 91,
   "metadata": {},
   "outputs": [],
   "source": [
    "d2 = \"\"\"\\\n",
    "             Z L X W       C                 \n",
    "             Z P Q B       K                 \n",
    "  ###########.#.#.#.#######.###############  \n",
    "  #...#.......#.#.......#.#.......#.#.#...#  \n",
    "  ###.#.#.#.#.#.#.#.###.#.#.#######.#.#.###  \n",
    "  #.#...#.#.#...#.#.#...#...#...#.#.......#  \n",
    "  #.###.#######.###.###.#.###.###.#.#######  \n",
    "  #...#.......#.#...#...#.............#...#  \n",
    "  #.#########.#######.#.#######.#######.###  \n",
    "  #...#.#    F       R I       Z    #.#.#.#  \n",
    "  #.###.#    D       E C       H    #.#.#.#  \n",
    "  #.#...#                           #...#.#  \n",
    "  #.###.#                           #.###.#  \n",
    "  #.#....OA                       WB..#.#..ZH\n",
    "  #.###.#                           #.#.#.#  \n",
    "CJ......#                           #.....#  \n",
    "  #######                           #######  \n",
    "  #.#....CK                         #......IC\n",
    "  #.###.#                           #.###.#  \n",
    "  #.....#                           #...#.#  \n",
    "  ###.###                           #.#.#.#  \n",
    "XF....#.#                         RF..#.#.#  \n",
    "  #####.#                           #######  \n",
    "  #......CJ                       NM..#...#  \n",
    "  ###.#.#                           #.###.#  \n",
    "RE....#.#                           #......RF\n",
    "  ###.###        X   X       L      #.#.#.#  \n",
    "  #.....#        F   Q       P      #.#.#.#  \n",
    "  ###.###########.###.#######.#########.###  \n",
    "  #.....#...#.....#.......#...#.....#.#...#  \n",
    "  #####.#.###.#######.#######.###.###.#.#.#  \n",
    "  #.......#.......#.#.#.#.#...#...#...#.#.#  \n",
    "  #####.###.#####.#.#.#.#.###.###.#.###.###  \n",
    "  #.......#.....#.#...#...............#...#  \n",
    "  #############.#.#.###.###################  \n",
    "               A O F   N                     \n",
    "               A A D   M                     \n",
    "\"\"\""
   ]
  },
  {
   "cell_type": "code",
   "execution_count": 92,
   "metadata": {},
   "outputs": [],
   "source": [
    "points = label_points(load_points(d2))"
   ]
  },
  {
   "cell_type": "code",
   "execution_count": 93,
   "metadata": {},
   "outputs": [],
   "source": [
    "rg2 = points2rgraph(points)"
   ]
  },
  {
   "cell_type": "code",
   "execution_count": 94,
   "metadata": {},
   "outputs": [
    {
     "name": "stdout",
     "output_type": "stream",
     "text": [
      "CPU times: user 3.37 ms, sys: 0 ns, total: 3.37 ms\n",
      "Wall time: 3.4 ms\n"
     ]
    },
    {
     "data": {
      "text/plain": [
       "396"
      ]
     },
     "execution_count": 94,
     "metadata": {},
     "output_type": "execute_result"
    }
   ],
   "source": [
    "%%time\n",
    "rdijksra(rg2)"
   ]
  },
  {
   "cell_type": "code",
   "execution_count": 96,
   "metadata": {},
   "outputs": [],
   "source": [
    "d3 = data"
   ]
  },
  {
   "cell_type": "code",
   "execution_count": 97,
   "metadata": {},
   "outputs": [],
   "source": [
    "points = label_points(load_points(d3))"
   ]
  },
  {
   "cell_type": "code",
   "execution_count": 98,
   "metadata": {},
   "outputs": [],
   "source": [
    "rg3 = points2rgraph(points)"
   ]
  },
  {
   "cell_type": "code",
   "execution_count": 99,
   "metadata": {},
   "outputs": [
    {
     "name": "stdout",
     "output_type": "stream",
     "text": [
      "CPU times: user 202 ms, sys: 0 ns, total: 202 ms\n",
      "Wall time: 200 ms\n"
     ]
    },
    {
     "data": {
      "text/plain": [
       "5754"
      ]
     },
     "execution_count": 99,
     "metadata": {},
     "output_type": "execute_result"
    }
   ],
   "source": [
    "%%time\n",
    "rdijksra(rg3)"
   ]
  }
 ],
 "metadata": {
  "kernelspec": {
   "display_name": "Python 3",
   "language": "python",
   "name": "python3"
  },
  "language_info": {
   "codemirror_mode": {
    "name": "ipython",
    "version": 3
   },
   "file_extension": ".py",
   "mimetype": "text/x-python",
   "name": "python",
   "nbconvert_exporter": "python",
   "pygments_lexer": "ipython3",
   "version": "3.7.3"
  }
 },
 "nbformat": 4,
 "nbformat_minor": 2
}
