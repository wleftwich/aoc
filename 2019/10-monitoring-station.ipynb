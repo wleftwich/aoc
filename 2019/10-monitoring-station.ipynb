{
 "cells": [
  {
   "cell_type": "code",
   "execution_count": 1,
   "metadata": {},
   "outputs": [],
   "source": [
    "url = 'https://adventofcode.com/2019/day/10'"
   ]
  },
  {
   "cell_type": "code",
   "execution_count": 2,
   "metadata": {},
   "outputs": [],
   "source": [
    "import numpy as np\n",
    "from itertools import combinations\n",
    "from collections import Counter\n",
    "\n",
    "det = np.linalg.det\n",
    "norm = np.linalg.norm"
   ]
  },
  {
   "cell_type": "code",
   "execution_count": 3,
   "metadata": {},
   "outputs": [],
   "source": [
    "def pic2array(pic):\n",
    "    L = []\n",
    "    for j, line in enumerate(pic.split('\\n')):\n",
    "        for i, c in enumerate(line):\n",
    "            if c == '#':\n",
    "                L.append([i, j])\n",
    "    return np.array(L)"
   ]
  },
  {
   "cell_type": "code",
   "execution_count": 4,
   "metadata": {},
   "outputs": [],
   "source": [
    "def pic2points(pic):\n",
    "    L = []\n",
    "    for j, line in enumerate(pic.split('\\n')):\n",
    "        for i, c in enumerate(line):\n",
    "            if c == '#':\n",
    "                L.append((i, j))\n",
    "    return L"
   ]
  },
  {
   "cell_type": "code",
   "execution_count": 5,
   "metadata": {},
   "outputs": [],
   "source": [
    "pic = \"\"\"\\\n",
    ".#..#\n",
    ".....\n",
    "#####\n",
    "....#\n",
    "...##\n",
    "\"\"\""
   ]
  },
  {
   "cell_type": "code",
   "execution_count": 6,
   "metadata": {},
   "outputs": [
    {
     "data": {
      "text/plain": [
       "[(1, 0),\n",
       " (4, 0),\n",
       " (0, 2),\n",
       " (1, 2),\n",
       " (2, 2),\n",
       " (3, 2),\n",
       " (4, 2),\n",
       " (4, 3),\n",
       " (3, 4),\n",
       " (4, 4)]"
      ]
     },
     "execution_count": 6,
     "metadata": {},
     "output_type": "execute_result"
    }
   ],
   "source": [
    "pic2points(pic)"
   ]
  },
  {
   "cell_type": "code",
   "execution_count": 7,
   "metadata": {},
   "outputs": [
    {
     "name": "stdout",
     "output_type": "stream",
     "text": [
      "[[1 0]\n",
      " [4 0]\n",
      " [0 2]\n",
      " [1 2]\n",
      " [2 2]\n",
      " [3 2]\n",
      " [4 2]\n",
      " [4 3]\n",
      " [3 4]\n",
      " [4 4]]\n"
     ]
    }
   ],
   "source": [
    "a = pic2array(pic)\n",
    "print(a)"
   ]
  },
  {
   "cell_type": "code",
   "execution_count": 8,
   "metadata": {},
   "outputs": [
    {
     "name": "stdout",
     "output_type": "stream",
     "text": [
      "[(1, 2), (3, 4), (5, 6)]\n"
     ]
    }
   ],
   "source": [
    "t = [(1,2), (3,4), (5,6)]\n",
    "print(t)"
   ]
  },
  {
   "cell_type": "code",
   "execution_count": 9,
   "metadata": {},
   "outputs": [],
   "source": [
    "def is_collinear(triple):\n",
    "    a = np.hstack((np.array(triple), np.array([[1,1,1]]).T))\n",
    "    return abs(det(a)) < 0.000001"
   ]
  },
  {
   "cell_type": "code",
   "execution_count": 10,
   "metadata": {},
   "outputs": [
    {
     "data": {
      "text/plain": [
       "True"
      ]
     },
     "execution_count": 10,
     "metadata": {},
     "output_type": "execute_result"
    }
   ],
   "source": [
    "is_collinear(t)"
   ]
  },
  {
   "cell_type": "code",
   "execution_count": 11,
   "metadata": {},
   "outputs": [
    {
     "data": {
      "text/plain": [
       "True"
      ]
     },
     "execution_count": 11,
     "metadata": {},
     "output_type": "execute_result"
    }
   ],
   "source": [
    "is_collinear(a[[1,6,9]])"
   ]
  },
  {
   "cell_type": "code",
   "execution_count": 12,
   "metadata": {},
   "outputs": [],
   "source": [
    "b = a[[1,6,9]]"
   ]
  },
  {
   "cell_type": "code",
   "execution_count": 13,
   "metadata": {},
   "outputs": [
    {
     "name": "stdout",
     "output_type": "stream",
     "text": [
      "[[4 0]\n",
      " [4 2]\n",
      " [4 4]]\n"
     ]
    }
   ],
   "source": [
    "print(b)"
   ]
  },
  {
   "cell_type": "code",
   "execution_count": 14,
   "metadata": {},
   "outputs": [],
   "source": [
    "def triple2blockedpair(triple):\n",
    "    if not is_collinear(triple):\n",
    "        return\n",
    "    pairs = [np.array([x,y]) for (x,y) in combinations(triple, 2)]\n",
    "    blockedpair = pairs[np.argmax([norm(x-y) for (x,y) in pairs])]\n",
    "    return tuple(tuple(x) for x in blockedpair)"
   ]
  },
  {
   "cell_type": "code",
   "execution_count": 15,
   "metadata": {},
   "outputs": [
    {
     "data": {
      "text/plain": [
       "((1, 2), (5, 6))"
      ]
     },
     "execution_count": 15,
     "metadata": {},
     "output_type": "execute_result"
    }
   ],
   "source": [
    "triple2blockedpair(t)"
   ]
  },
  {
   "cell_type": "code",
   "execution_count": 16,
   "metadata": {},
   "outputs": [
    {
     "name": "stdout",
     "output_type": "stream",
     "text": [
      "CPU times: user 1min 8s, sys: 72.2 ms, total: 1min 8s\n",
      "Wall time: 1min 8s\n"
     ]
    },
    {
     "data": {
      "text/plain": [
       "[((11, 13), 210),\n",
       " ((8, 13), 208),\n",
       " ((5, 17), 208),\n",
       " ((5, 5), 205),\n",
       " ((5, 7), 205),\n",
       " ((2, 9), 205),\n",
       " ((11, 17), 205),\n",
       " ((5, 13), 204),\n",
       " ((2, 5), 203),\n",
       " ((11, 5), 203)]"
      ]
     },
     "execution_count": 16,
     "metadata": {},
     "output_type": "execute_result"
    }
   ],
   "source": [
    "%%time\n",
    "pic = \"\"\"\\\n",
    ".#..##.###...#######\n",
    "##.############..##.\n",
    ".#.######.########.#\n",
    ".###.#######.####.#.\n",
    "#####.##.#.##.###.##\n",
    "..#####..#.#########\n",
    "####################\n",
    "#.####....###.#.#.##\n",
    "##.#################\n",
    "#####.##.###..####..\n",
    "..######..##.#######\n",
    "####.##.####...##..#\n",
    ".#####..#.######.###\n",
    "##...#.##########...\n",
    "#.##########.#######\n",
    ".####.#.###.###.#.##\n",
    "....##.##.###..#####\n",
    ".#.#.###########.###\n",
    "#.#.#.#####.####.###\n",
    "###.##.####.##.#..##\n",
    "\"\"\"\n",
    "\n",
    "points = pic2points(pic)\n",
    "N = len(points)\n",
    "point_blockers = {x:set() for x in points}\n",
    "for triple in combinations(points, 3):\n",
    "    bp = triple2blockedpair(triple)\n",
    "    if bp is not None:\n",
    "        a, b = bp\n",
    "        point_blockers[a].add(b)\n",
    "        point_blockers[b].add(a)\n",
    "\n",
    "point_blocker_counts = [(k, len(v)) for (k,v) in point_blockers.items()]\n",
    "\n",
    "point_cansee = [(x, N - 1 - y) for (x, y) in point_blocker_counts]\n",
    "point_cansee.sort(key = lambda x: -x[1])\n",
    "point_cansee[:10]"
   ]
  },
  {
   "cell_type": "markdown",
   "metadata": {},
   "source": [
    "## Part 1"
   ]
  },
  {
   "cell_type": "code",
   "execution_count": 17,
   "metadata": {},
   "outputs": [
    {
     "name": "stdout",
     "output_type": "stream",
     "text": [
      "CPU times: user 1min 37s, sys: 96 ms, total: 1min 37s\n",
      "Wall time: 1min 37s\n"
     ]
    },
    {
     "data": {
      "text/plain": [
       "[((20, 21), 247),\n",
       " ((4, 19), 246),\n",
       " ((10, 20), 243),\n",
       " ((14, 6), 241),\n",
       " ((14, 13), 241),\n",
       " ((14, 15), 241),\n",
       " ((16, 5), 240),\n",
       " ((4, 17), 240),\n",
       " ((18, 0), 239),\n",
       " ((14, 9), 239)]"
      ]
     },
     "execution_count": 17,
     "metadata": {},
     "output_type": "execute_result"
    }
   ],
   "source": [
    "%%time\n",
    "input_pic = \"\"\"\\\n",
    "#..#.#.###.#...##.##....\n",
    ".#.#####.#.#.##.....##.#\n",
    "##..#.###..###..#####..#\n",
    "####.#.#..#....#..##.##.\n",
    ".#######.#####...#.###..\n",
    ".##...#.#.###..###.#.#.#\n",
    ".######.....#.###..#....\n",
    ".##..##.#..#####...###.#\n",
    "#######.#..#####..#.#.#.\n",
    ".###.###...##.##....##.#\n",
    "##.###.##.#.#..####.....\n",
    "#.#..##..#..#.#..#####.#\n",
    "#####.##.#.#.#.#.#.#..##\n",
    "#...##.##.###.##.#.###..\n",
    "####.##.#.#.####.#####.#\n",
    ".#..##...##..##..#.#.##.\n",
    "###...####.###.#.###.#.#\n",
    "..####.#####..#####.#.##\n",
    "..###..###..#..##...#.#.\n",
    "##.####...##....####.##.\n",
    "####..#..##.#.#....#..#.\n",
    ".#..........#..#.#.####.\n",
    "###..###.###.#.#.#....##\n",
    "########.#######.#.##.##\n",
    "\"\"\"\n",
    "\n",
    "points = pic2points(input_pic)\n",
    "N = len(points)\n",
    "point_blockers = {x:set() for x in points}\n",
    "for triple in combinations(points, 3):\n",
    "    bp = triple2blockedpair(triple)\n",
    "    if bp is not None:\n",
    "        a, b = bp\n",
    "        point_blockers[a].add(b)\n",
    "        point_blockers[b].add(a)\n",
    "\n",
    "point_blocker_counts = [(k, len(v)) for (k,v) in point_blockers.items()]\n",
    "\n",
    "point_cansee = [(x, N - 1 - y) for (x, y) in point_blocker_counts]\n",
    "point_cansee.sort(key = lambda x: -x[1])\n",
    "point_cansee[:10]"
   ]
  },
  {
   "cell_type": "markdown",
   "metadata": {},
   "source": [
    "## Part 2"
   ]
  },
  {
   "cell_type": "code",
   "execution_count": 18,
   "metadata": {},
   "outputs": [],
   "source": [
    "pic = \"\"\"\\\n",
    ".#....#####...#..\n",
    "##...##.#####..##\n",
    "##...#...#.#####.\n",
    "..#.....X...###..\n",
    "..#.#.....#....##\n",
    "\"\"\"\n",
    "points = set(pic2points(pic))\n",
    "N = len(points)"
   ]
  },
  {
   "cell_type": "code",
   "execution_count": 19,
   "metadata": {},
   "outputs": [],
   "source": [
    "laser = (8, 3)"
   ]
  },
  {
   "cell_type": "code",
   "execution_count": 20,
   "metadata": {},
   "outputs": [],
   "source": [
    "blocked = set()\n",
    "\n",
    "for (a, b) in combinations(points, 2):\n",
    "    bp = triple2blockedpair((a, b, laser))\n",
    "    if bp is not None and laser in bp:\n",
    "        blocked.add(bp[0])\n",
    "        blocked.add(bp[1])\n",
    "try:\n",
    "    blocked.remove(laser)\n",
    "except KeyError:\n",
    "    pass"
   ]
  },
  {
   "cell_type": "code",
   "execution_count": 21,
   "metadata": {},
   "outputs": [
    {
     "data": {
      "text/plain": [
       "{(8, 0), (10, 1), (13, 3), (14, 0), (14, 3), (16, 1)}"
      ]
     },
     "execution_count": 21,
     "metadata": {},
     "output_type": "execute_result"
    }
   ],
   "source": [
    "blocked"
   ]
  },
  {
   "cell_type": "code",
   "execution_count": 22,
   "metadata": {},
   "outputs": [
    {
     "data": {
      "text/plain": [
       "[(0, 1),\n",
       " (0, 2),\n",
       " (1, 0),\n",
       " (1, 1),\n",
       " (1, 2),\n",
       " (2, 3),\n",
       " (2, 4),\n",
       " (4, 4),\n",
       " (5, 1),\n",
       " (5, 2),\n",
       " (6, 0),\n",
       " (6, 1),\n",
       " (7, 0),\n",
       " (8, 1),\n",
       " (9, 0),\n",
       " (9, 1),\n",
       " (9, 2),\n",
       " (10, 0),\n",
       " (10, 4),\n",
       " (11, 1),\n",
       " (11, 2),\n",
       " (12, 1),\n",
       " (12, 2),\n",
       " (12, 3),\n",
       " (13, 2),\n",
       " (14, 2),\n",
       " (15, 1),\n",
       " (15, 2),\n",
       " (15, 4),\n",
       " (16, 4)]"
      ]
     },
     "execution_count": 22,
     "metadata": {},
     "output_type": "execute_result"
    }
   ],
   "source": [
    "visible = sorted(points - blocked)\n",
    "visible"
   ]
  },
  {
   "cell_type": "code",
   "execution_count": 28,
   "metadata": {},
   "outputs": [],
   "source": [
    "offsets = [(x - 8, y - 3) for (x, y) in visible]\n",
    "offsets = [(y, x) for (x, y) in offsets]"
   ]
  },
  {
   "cell_type": "code",
   "execution_count": 29,
   "metadata": {},
   "outputs": [
    {
     "data": {
      "text/plain": [
       "[(-2, -8),\n",
       " (-1, -8),\n",
       " (-3, -7),\n",
       " (-2, -7),\n",
       " (-1, -7),\n",
       " (0, -6),\n",
       " (1, -6),\n",
       " (1, -4),\n",
       " (-2, -3),\n",
       " (-1, -3),\n",
       " (-3, -2),\n",
       " (-2, -2),\n",
       " (-3, -1),\n",
       " (-2, 0),\n",
       " (-3, 1),\n",
       " (-2, 1),\n",
       " (-1, 1),\n",
       " (-3, 2),\n",
       " (1, 2),\n",
       " (-2, 3),\n",
       " (-1, 3),\n",
       " (-2, 4),\n",
       " (-1, 4),\n",
       " (0, 4),\n",
       " (-1, 5),\n",
       " (-1, 6),\n",
       " (-2, 7),\n",
       " (-1, 7),\n",
       " (1, 7),\n",
       " (1, 8)]"
      ]
     },
     "execution_count": 29,
     "metadata": {},
     "output_type": "execute_result"
    }
   ],
   "source": [
    "offsets"
   ]
  },
  {
   "cell_type": "code",
   "execution_count": 30,
   "metadata": {},
   "outputs": [],
   "source": [
    "#complexes = [y + x * 1j for (x, y) in offsets]\n",
    "complexes = [x + y * 1j for (x, y) in offsets]"
   ]
  },
  {
   "cell_type": "code",
   "execution_count": 31,
   "metadata": {},
   "outputs": [
    {
     "data": {
      "text/plain": [
       "[(-2-8j),\n",
       " (-1-8j),\n",
       " (-3-7j),\n",
       " (-2-7j),\n",
       " (-1-7j),\n",
       " -6j,\n",
       " (1-6j),\n",
       " (1-4j),\n",
       " (-2-3j),\n",
       " (-1-3j),\n",
       " (-3-2j),\n",
       " (-2-2j),\n",
       " (-3-1j),\n",
       " (-2+0j),\n",
       " (-3+1j),\n",
       " (-2+1j),\n",
       " (-1+1j),\n",
       " (-3+2j),\n",
       " (1+2j),\n",
       " (-2+3j),\n",
       " (-1+3j),\n",
       " (-2+4j),\n",
       " (-1+4j),\n",
       " 4j,\n",
       " (-1+5j),\n",
       " (-1+6j),\n",
       " (-2+7j),\n",
       " (-1+7j),\n",
       " (1+7j),\n",
       " (1+8j)]"
      ]
     },
     "execution_count": 31,
     "metadata": {},
     "output_type": "execute_result"
    }
   ],
   "source": [
    "complexes"
   ]
  },
  {
   "cell_type": "code",
   "execution_count": 32,
   "metadata": {},
   "outputs": [],
   "source": [
    "angles = [np.angle(x) for x in complexes]"
   ]
  },
  {
   "cell_type": "code",
   "execution_count": 33,
   "metadata": {},
   "outputs": [
    {
     "data": {
      "text/plain": [
       "[-1.8157749899217608,\n",
       " -1.695151321341658,\n",
       " -1.97568811307998,\n",
       " -1.849095985800008,\n",
       " -1.7126933813990606,\n",
       " -1.5707963267948966,\n",
       " -1.4056476493802699,\n",
       " -1.3258176636680326,\n",
       " -2.158798930342464,\n",
       " -1.892546881191539,\n",
       " -2.5535900500422257,\n",
       " -2.356194490192345,\n",
       " -2.819842099193151,\n",
       " 3.141592653589793,\n",
       " 2.819842099193151,\n",
       " 2.677945044588987,\n",
       " 2.356194490192345,\n",
       " 2.5535900500422257,\n",
       " 1.1071487177940904,\n",
       " 2.158798930342464,\n",
       " 1.892546881191539,\n",
       " 2.0344439357957027,\n",
       " 1.8157749899217608,\n",
       " 1.5707963267948966,\n",
       " 1.7681918866447774,\n",
       " 1.7359450042095235,\n",
       " 1.849095985800008,\n",
       " 1.7126933813990606,\n",
       " 1.4288992721907328,\n",
       " 1.446441332248135]"
      ]
     },
     "execution_count": 33,
     "metadata": {},
     "output_type": "execute_result"
    }
   ],
   "source": [
    "angles"
   ]
  },
  {
   "cell_type": "code",
   "execution_count": 34,
   "metadata": {},
   "outputs": [],
   "source": [
    "L = list(zip(visible, offsets, angles))"
   ]
  },
  {
   "cell_type": "code",
   "execution_count": 35,
   "metadata": {},
   "outputs": [],
   "source": [
    "L.sort(key = lambda x: -x[-1])"
   ]
  },
  {
   "cell_type": "code",
   "execution_count": 36,
   "metadata": {},
   "outputs": [
    {
     "data": {
      "text/plain": [
       "[((8, 1), (-2, 0), 3.141592653589793),\n",
       " ((9, 0), (-3, 1), 2.819842099193151),\n",
       " ((9, 1), (-2, 1), 2.677945044588987),\n",
       " ((10, 0), (-3, 2), 2.5535900500422257),\n",
       " ((9, 2), (-1, 1), 2.356194490192345),\n",
       " ((11, 1), (-2, 3), 2.158798930342464),\n",
       " ((12, 1), (-2, 4), 2.0344439357957027),\n",
       " ((11, 2), (-1, 3), 1.892546881191539),\n",
       " ((15, 1), (-2, 7), 1.849095985800008),\n",
       " ((12, 2), (-1, 4), 1.8157749899217608),\n",
       " ((13, 2), (-1, 5), 1.7681918866447774),\n",
       " ((14, 2), (-1, 6), 1.7359450042095235),\n",
       " ((15, 2), (-1, 7), 1.7126933813990606),\n",
       " ((12, 3), (0, 4), 1.5707963267948966),\n",
       " ((16, 4), (1, 8), 1.446441332248135),\n",
       " ((15, 4), (1, 7), 1.4288992721907328),\n",
       " ((10, 4), (1, 2), 1.1071487177940904),\n",
       " ((4, 4), (1, -4), -1.3258176636680326),\n",
       " ((2, 4), (1, -6), -1.4056476493802699),\n",
       " ((2, 3), (0, -6), -1.5707963267948966),\n",
       " ((0, 2), (-1, -8), -1.695151321341658),\n",
       " ((1, 2), (-1, -7), -1.7126933813990606),\n",
       " ((0, 1), (-2, -8), -1.8157749899217608),\n",
       " ((1, 1), (-2, -7), -1.849095985800008),\n",
       " ((5, 2), (-1, -3), -1.892546881191539),\n",
       " ((1, 0), (-3, -7), -1.97568811307998),\n",
       " ((5, 1), (-2, -3), -2.158798930342464),\n",
       " ((6, 1), (-2, -2), -2.356194490192345),\n",
       " ((6, 0), (-3, -2), -2.5535900500422257),\n",
       " ((7, 0), (-3, -1), -2.819842099193151)]"
      ]
     },
     "execution_count": 36,
     "metadata": {},
     "output_type": "execute_result"
    }
   ],
   "source": [
    "L"
   ]
  },
  {
   "cell_type": "code",
   "execution_count": 40,
   "metadata": {},
   "outputs": [],
   "source": [
    "def sort_clockwise(points, center):\n",
    "    points = list(points)\n",
    "    centered = ((x - center[0], y - center[1]) for (x, y) in points)\n",
    "    transposed = ((y, x) for (x, y) in centered)\n",
    "    cs = ((x + y * 1j) for (x, y) in transposed)\n",
    "    angles = (np.angle(c) for c in cs)\n",
    "    L = list(zip(points, angles))\n",
    "    L.sort(key = lambda x: -x[-1])\n",
    "    return [x for (x, y) in L]\n",
    "    "
   ]
  },
  {
   "cell_type": "code",
   "execution_count": 42,
   "metadata": {
    "collapsed": true
   },
   "outputs": [
    {
     "data": {
      "text/plain": [
       "[(8, 1),\n",
       " (9, 0),\n",
       " (9, 1),\n",
       " (10, 0),\n",
       " (9, 2),\n",
       " (11, 1),\n",
       " (12, 1),\n",
       " (11, 2),\n",
       " (15, 1),\n",
       " (12, 2),\n",
       " (13, 2),\n",
       " (14, 2),\n",
       " (15, 2),\n",
       " (12, 3),\n",
       " (16, 4),\n",
       " (15, 4),\n",
       " (10, 4),\n",
       " (4, 4),\n",
       " (2, 4),\n",
       " (2, 3),\n",
       " (0, 2),\n",
       " (1, 2),\n",
       " (0, 1),\n",
       " (1, 1),\n",
       " (5, 2),\n",
       " (1, 0),\n",
       " (5, 1),\n",
       " (6, 1),\n",
       " (6, 0),\n",
       " (7, 0)]"
      ]
     },
     "execution_count": 42,
     "metadata": {},
     "output_type": "execute_result"
    }
   ],
   "source": [
    "sort_clockwise(visible, center=(8,3))"
   ]
  },
  {
   "cell_type": "code",
   "execution_count": 61,
   "metadata": {},
   "outputs": [],
   "source": [
    "def vaporiziter(asteroids, laser):\n",
    "    asteroids = set(asteroids)\n",
    "    asteroids.discard(laser)\n",
    "    \n",
    "    while True:\n",
    "        if not asteroids:\n",
    "            break\n",
    "        visible = get_visible(asteroids, laser)\n",
    "        for asteroid in sort_clockwise(visible, laser):\n",
    "            asteroids.remove(asteroid)\n",
    "            yield asteroid\n",
    "   \n",
    "    \n",
    "def get_visible(asteroids, laser):\n",
    "    asteroids = set(asteroids)\n",
    "    asteroids.discard(laser)\n",
    "    blocked = set()\n",
    "    for (a, b) in combinations(asteroids, 2):\n",
    "        bp = triple2blockedpair((a, b, laser))\n",
    "        if bp is not None and laser in bp:\n",
    "            blocked.add(bp[0])\n",
    "            blocked.add(bp[1])\n",
    "    blocked.discard(laser)\n",
    "    return asteroids - blocked\n"
   ]
  },
  {
   "cell_type": "code",
   "execution_count": 75,
   "metadata": {},
   "outputs": [],
   "source": [
    "pic = \"\"\"\\\n",
    ".#..##.###...#######\n",
    "##.############..##.\n",
    ".#.######.########.#\n",
    ".###.#######.####.#.\n",
    "#####.##.#.##.###.##\n",
    "..#####..#.#########\n",
    "####################\n",
    "#.####....###.#.#.##\n",
    "##.#################\n",
    "#####.##.###..####..\n",
    "..######..##.#######\n",
    "####.##.####...##..#\n",
    ".#####..#.######.###\n",
    "##...#.##########...\n",
    "#.##########.#######\n",
    ".####.#.###.###.#.##\n",
    "....##.##.###..#####\n",
    ".#.#.###########.###\n",
    "#.#.#.#####.####.###\n",
    "###.##.####.##.#..##\n",
    "\"\"\"\n",
    "asteroids = pic2points(pic)\n",
    "laser = (11, 13)\n",
    "\n",
    "it = vaporiziter(asteroids, laser)"
   ]
  },
  {
   "cell_type": "code",
   "execution_count": 76,
   "metadata": {},
   "outputs": [],
   "source": [
    "checkis = {1,2,3,10,20,50,100,199,200,201,298,299,300}"
   ]
  },
  {
   "cell_type": "code",
   "execution_count": 77,
   "metadata": {},
   "outputs": [
    {
     "name": "stdout",
     "output_type": "stream",
     "text": [
      "1 (11, 12)\n",
      "2 (12, 1)\n",
      "3 (12, 2)\n",
      "10 (12, 8)\n",
      "20 (16, 0)\n",
      "50 (16, 9)\n",
      "100 (10, 16)\n",
      "199 (9, 6)\n",
      "200 (8, 2)\n",
      "201 (10, 9)\n",
      "298 (11, 2)\n",
      "299 (11, 1)\n"
     ]
    }
   ],
   "source": [
    "for i, asteroid in enumerate(it, start=1):\n",
    "    if i in checkis:\n",
    "        print(i, asteroid)"
   ]
  },
  {
   "cell_type": "code",
   "execution_count": 82,
   "metadata": {},
   "outputs": [
    {
     "name": "stdout",
     "output_type": "stream",
     "text": [
      "1 (20, 18)\n",
      "2 (21, 1)\n",
      "3 (21, 3)\n",
      "10 (21, 13)\n",
      "20 (23, 9)\n",
      "50 (11, 22)\n",
      "100 (9, 16)\n",
      "199 (9, 0)\n",
      "200 (19, 19)\n",
      "201 (11, 2)\n",
      "298 (17, 15)\n",
      "299 (11, 0)\n",
      "300 (20, 13)\n"
     ]
    }
   ],
   "source": [
    "asteroids = pic2points(input_pic)\n",
    "laser = (20, 21)\n",
    "\n",
    "checkis = {1,2,3,10,20,50,100,199,200,201,298,299,300}\n",
    "\n",
    "for i, asteroid in enumerate(vaporiziter(asteroids, laser), start=1):\n",
    "    if i in checkis:\n",
    "        print(i, asteroid)"
   ]
  }
 ],
 "metadata": {
  "kernelspec": {
   "display_name": "Python 3",
   "language": "python",
   "name": "python3"
  },
  "language_info": {
   "codemirror_mode": {
    "name": "ipython",
    "version": 3
   },
   "file_extension": ".py",
   "mimetype": "text/x-python",
   "name": "python",
   "nbconvert_exporter": "python",
   "pygments_lexer": "ipython3",
   "version": "3.7.3"
  }
 },
 "nbformat": 4,
 "nbformat_minor": 2
}
