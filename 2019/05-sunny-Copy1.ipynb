{
 "cells": [
  {
   "cell_type": "code",
   "execution_count": 1,
   "metadata": {},
   "outputs": [],
   "source": [
    "url = 'https://adventofcode.com/2019/day/5'"
   ]
  },
  {
   "cell_type": "code",
   "execution_count": 2,
   "metadata": {},
   "outputs": [],
   "source": [
    "with open('data/05.txt') as fh:\n",
    "    data = fh.read().strip()\n",
    "program = [int(x) for x in data.split(',')]"
   ]
  },
  {
   "cell_type": "code",
   "execution_count": 3,
   "metadata": {},
   "outputs": [],
   "source": [
    "class Intcode:\n",
    "    def __init__(self, program=None):\n",
    "        self.program = program\n",
    "        self.input = None\n",
    "        self.output = None\n",
    "        \n",
    "    def run(self, input=None, pos=0):\n",
    "        self.input = input\n",
    "        self.output = None\n",
    "        while pos is not None:\n",
    "            pos = self.apply_fun(pos)\n",
    "        return self.output\n",
    "    \n",
    "    def apply_fun(self, pos):\n",
    "        opcode, param_modes = self.parse_opcode(self.program[pos])\n",
    "        try:\n",
    "            return self.functions[opcode](self, pos, param_modes)\n",
    "        except KeyError:\n",
    "            print(pos, self.program[pos])\n",
    "            raise\n",
    "    \n",
    "    def parse_opcode(self, n):\n",
    "        quotient, opcode = divmod(n, 100)\n",
    "        L = []\n",
    "        while quotient > 0:\n",
    "            quotient, remainder = divmod(quotient, 10)\n",
    "            L.append(remainder)\n",
    "        return opcode, dict(enumerate(L))\n",
    "\n",
    "    \n",
    "    def f99(self, pos, param_modes=None):\n",
    "        \"\"\"Halt\"\"\"\n",
    "        return\n",
    "    \n",
    "    def f1(self, pos, param_modes=None):\n",
    "        \"\"\"Add\"\"\"\n",
    "#         print('f1', pos)\n",
    "        param_modes = param_modes or {}\n",
    "        params = self.program[pos+1:pos+4]\n",
    "#         print(params)\n",
    "        for i, param in enumerate(params[:2]):\n",
    "            params[i] = param if param_modes.get(i) else self.program[param]\n",
    "#         print(params)\n",
    "        self.program[params[2]] = params[0] + params[1]\n",
    "        return pos + 4\n",
    "    \n",
    "    def f2(self, pos, param_modes=None):\n",
    "        \"\"\"Multiply\"\"\"\n",
    "#         print('f2', pos)\n",
    "        param_modes = param_modes or {}\n",
    "        params = self.program[pos+1:pos+4]\n",
    "        for i, param in enumerate(params[:2]):\n",
    "            params[i] = param if param_modes.get(i) else self.program[param]\n",
    "        self.program[params[2]] = params[0] * params[1]\n",
    "        return pos + 4\n",
    "    \n",
    "    def f3(self, pos, param_modes=None):\n",
    "        \"\"\"Input\"\"\"\n",
    "        self.program[self.program[pos+1]] = self.input\n",
    "        return pos + 2\n",
    "    \n",
    "    def f4(self, pos, param_modes=None):\n",
    "        \"\"\"Output\"\"\"\n",
    "        param_modes = param_modes or {}\n",
    "#         print('param_modes', param_modes)\n",
    "        param = pos+1 if param_modes.get(0) else self.program[pos+1]\n",
    "#         print('param', param)\n",
    "        self.output = self.program[param]\n",
    "        print(pos, self.program[param])\n",
    "        return pos + 2\n",
    "    \n",
    "    def f5(self, pos, param_modes=None):\n",
    "        \"\"\"Jump if true\"\"\"\n",
    "        param_modes = param_modes or {}\n",
    "        params = self.program[pos+1:pos+3]\n",
    "        for i, param in enumerate(params):\n",
    "            params[i] = param if param_modes.get(i) else self.program[param]\n",
    "        if params[0] != 0:\n",
    "            return params[1]\n",
    "        else:\n",
    "            return pos + 3\n",
    "\n",
    "    def f6(self, pos, param_modes=None):\n",
    "        \"\"\"Jump if false\"\"\"\n",
    "        param_modes = param_modes or {}\n",
    "        params = self.program[pos+1:pos+3]\n",
    "        for i, param in enumerate(params):\n",
    "            params[i] = param if param_modes.get(i) else self.program[param]\n",
    "        if params[0] == 0:\n",
    "            return params[1]\n",
    "        else:\n",
    "            return pos + 3\n",
    "\n",
    "    def f7(self, pos, param_modes=None):\n",
    "        \"\"\"Less than\"\"\"\n",
    "        param_modes = param_modes or {}\n",
    "        params = self.program[pos+1:pos+4]\n",
    "        for i, param in enumerate(params[:2]):\n",
    "            params[i] = param if param_modes.get(i) else self.program[param]\n",
    "        self.program[params[2]] = 1 if params[0] < params[1] else 0\n",
    "        return pos + 4\n",
    "\n",
    "    def f8(self, pos, param_modes=None):\n",
    "        \"\"\"Equals\"\"\"\n",
    "        param_modes = param_modes or {}\n",
    "        params = self.program[pos+1:pos+4]\n",
    "        for i, param in enumerate(params[:2]):\n",
    "            params[i] = param if param_modes.get(i) else self.program[param]\n",
    "        self.program[params[2]] = 1 if params[0] == params[1] else 0\n",
    "        return pos + 4\n",
    "\n",
    "    \n",
    "    functions = {\n",
    "        99: f99,\n",
    "        1: f1,\n",
    "        2: f2,\n",
    "        3: f3,\n",
    "        4: f4,\n",
    "        5: f5,\n",
    "        6: f6,\n",
    "        7: f7,\n",
    "        8: f8,\n",
    "    }\n",
    "       "
   ]
  },
  {
   "cell_type": "code",
   "execution_count": 138,
   "metadata": {},
   "outputs": [
    {
     "name": "stdout",
     "output_type": "stream",
     "text": [
      "10 0\n",
      "20 0\n",
      "42 0\n",
      "64 0\n",
      "90 0\n",
      "112 0\n",
      "134 0\n",
      "172 0\n",
      "202 0\n",
      "220 11193703\n"
     ]
    },
    {
     "data": {
      "text/plain": [
       "11193703"
      ]
     },
     "execution_count": 138,
     "metadata": {},
     "output_type": "execute_result"
    }
   ],
   "source": [
    "ic = Intcode(program.copy())\n",
    "\n",
    "ic.run(1)"
   ]
  },
  {
   "cell_type": "code",
   "execution_count": 142,
   "metadata": {},
   "outputs": [
    {
     "name": "stdout",
     "output_type": "stream",
     "text": [
      "6 1\n"
     ]
    },
    {
     "data": {
      "text/plain": [
       "1"
      ]
     },
     "execution_count": 142,
     "metadata": {},
     "output_type": "execute_result"
    }
   ],
   "source": [
    "# input == 8, position mode\n",
    "ic = Intcode([3,9,8,9,10,9,4,9,99,-1,8])\n",
    "ic.run(8)"
   ]
  },
  {
   "cell_type": "code",
   "execution_count": 146,
   "metadata": {},
   "outputs": [
    {
     "name": "stdout",
     "output_type": "stream",
     "text": [
      "6 1\n"
     ]
    },
    {
     "data": {
      "text/plain": [
       "1"
      ]
     },
     "execution_count": 146,
     "metadata": {},
     "output_type": "execute_result"
    }
   ],
   "source": [
    "# input < 8, position mode\n",
    "ic = Intcode([3,9,7,9,10,9,4,9,99,-1,8])\n",
    "ic.run(7)"
   ]
  },
  {
   "cell_type": "code",
   "execution_count": 149,
   "metadata": {},
   "outputs": [
    {
     "name": "stdout",
     "output_type": "stream",
     "text": [
      "6 1\n"
     ]
    },
    {
     "data": {
      "text/plain": [
       "1"
      ]
     },
     "execution_count": 149,
     "metadata": {},
     "output_type": "execute_result"
    }
   ],
   "source": [
    "# input == 8, immediate mode\n",
    "ic = Intcode([3,3,1108,-1,8,3,4,3,99])\n",
    "ic.run(8)"
   ]
  },
  {
   "cell_type": "code",
   "execution_count": null,
   "metadata": {},
   "outputs": [],
   "source": []
  },
  {
   "cell_type": "code",
   "execution_count": 150,
   "metadata": {},
   "outputs": [
    {
     "name": "stdout",
     "output_type": "stream",
     "text": [
      "674 12410607\n"
     ]
    },
    {
     "data": {
      "text/plain": [
       "12410607"
      ]
     },
     "execution_count": 150,
     "metadata": {},
     "output_type": "execute_result"
    }
   ],
   "source": [
    "ic = Intcode(program.copy())\n",
    "\n",
    "ic.run(5)"
   ]
  }
 ],
 "metadata": {
  "kernelspec": {
   "display_name": "Python 3",
   "language": "python",
   "name": "python3"
  },
  "language_info": {
   "codemirror_mode": {
    "name": "ipython",
    "version": 3
   },
   "file_extension": ".py",
   "mimetype": "text/x-python",
   "name": "python",
   "nbconvert_exporter": "python",
   "pygments_lexer": "ipython3",
   "version": "3.7.3"
  }
 },
 "nbformat": 4,
 "nbformat_minor": 2
}
