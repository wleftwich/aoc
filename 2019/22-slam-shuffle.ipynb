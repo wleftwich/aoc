{
 "cells": [
  {
   "cell_type": "markdown",
   "metadata": {},
   "source": [
    "https://adventofcode.com/2019/day/22"
   ]
  },
  {
   "cell_type": "code",
   "execution_count": 54,
   "metadata": {},
   "outputs": [],
   "source": [
    "import math\n",
    "from functools import partial\n",
    "import random\n",
    "from collections import Counter, defaultdict\n",
    "\n",
    "import pandas as pd\n",
    "import numpy as np"
   ]
  },
  {
   "cell_type": "code",
   "execution_count": 2,
   "metadata": {},
   "outputs": [],
   "source": [
    "with open('data/22.txt') as fh:\n",
    "    data = fh.read()"
   ]
  },
  {
   "cell_type": "code",
   "execution_count": 3,
   "metadata": {},
   "outputs": [
    {
     "name": "stdout",
     "output_type": "stream",
     "text": [
      "deal with increment 15\n",
      "cut 2234\n",
      "deal with increment 30\n",
      "cut -1865\n",
      "deal with increment 26\n",
      "cut -5396\n",
      "deal with increment 69\n",
      "deal into new stack\n",
      "deal with increment 64\n",
      "cut -5111\n",
      "deal with increment 23\n",
      "dea\n"
     ]
    }
   ],
   "source": [
    "print(data[:200])"
   ]
  },
  {
   "cell_type": "code",
   "execution_count": 4,
   "metadata": {},
   "outputs": [],
   "source": [
    "def cut(d, n):\n",
    "    return np.concatenate((d[n:], d[:n]))\n",
    "\n",
    "def deal(d, n):\n",
    "    dl = len(d)\n",
    "    e = np.empty_like(d, dtype=int)\n",
    "    for i, c in enumerate(d):\n",
    "        e[(i * n) % dl] = c\n",
    "    return e\n",
    "\n",
    "def newstack(d):\n",
    "    return d[: : -1]"
   ]
  },
  {
   "cell_type": "code",
   "execution_count": 5,
   "metadata": {},
   "outputs": [],
   "source": [
    "def parsecmd(cmd):\n",
    "    cmd = cmd.strip()\n",
    "    if cmd.startswith('cut'):\n",
    "        n = int(cmd.split(' ')[-1])\n",
    "        return partial(cut, n=n)\n",
    "    elif cmd.startswith('deal with'):\n",
    "        n = int(cmd.split(' ')[-1])\n",
    "        return partial(deal, n=n)\n",
    "    elif cmd.startswith('deal into'):\n",
    "        return newstack\n",
    "    else:\n",
    "        raise ValueError(\"Can't happen: \" + str(cmd))"
   ]
  },
  {
   "cell_type": "code",
   "execution_count": 6,
   "metadata": {},
   "outputs": [],
   "source": [
    "def applycmds(cmds, deck):\n",
    "    deck = deck.copy()\n",
    "    for cmd in cmds.split('\\n'):\n",
    "        cmd = cmd.strip()\n",
    "        if not cmd:\n",
    "            continue\n",
    "        deck = parsecmd(cmd)(deck)\n",
    "    return deck"
   ]
  },
  {
   "cell_type": "code",
   "execution_count": 7,
   "metadata": {},
   "outputs": [
    {
     "data": {
      "text/plain": [
       "array([9, 2, 5, 8, 1, 4, 7, 0, 3, 6])"
      ]
     },
     "execution_count": 7,
     "metadata": {},
     "output_type": "execute_result"
    }
   ],
   "source": [
    "deck = np.arange(10, dtype=int)\n",
    "cmds = \"\"\"\\\n",
    "deal into new stack\n",
    "cut -2\n",
    "deal with increment 7\n",
    "cut 8\n",
    "cut -4\n",
    "deal with increment 7\n",
    "cut 3\n",
    "deal with increment 9\n",
    "deal with increment 3\n",
    "cut -1\n",
    "\"\"\"\n",
    "applycmds(cmds, deck)"
   ]
  },
  {
   "cell_type": "code",
   "execution_count": 8,
   "metadata": {},
   "outputs": [
    {
     "name": "stdout",
     "output_type": "stream",
     "text": [
      "CPU times: user 90.7 ms, sys: 694 µs, total: 91.4 ms\n",
      "Wall time: 90.2 ms\n"
     ]
    },
    {
     "data": {
      "text/plain": [
       "array([9497, 5065,  633, ..., 2779, 8354, 3922])"
      ]
     },
     "execution_count": 8,
     "metadata": {},
     "output_type": "execute_result"
    }
   ],
   "source": [
    "%%time\n",
    "deck = applycmds(data, np.arange(10007, dtype=int))\n",
    "deck"
   ]
  },
  {
   "cell_type": "code",
   "execution_count": 9,
   "metadata": {},
   "outputs": [
    {
     "data": {
      "text/plain": [
       "7096"
      ]
     },
     "execution_count": 9,
     "metadata": {},
     "output_type": "execute_result"
    }
   ],
   "source": [
    "(deck == 2019).argmax()"
   ]
  },
  {
   "cell_type": "markdown",
   "metadata": {},
   "source": [
    "## Part 2"
   ]
  },
  {
   "cell_type": "code",
   "execution_count": 21,
   "metadata": {},
   "outputs": [
    {
     "name": "stdout",
     "output_type": "stream",
     "text": [
      "Unable to allocate array with shape (119315717514047,) and data type int64\n"
     ]
    }
   ],
   "source": [
    "try:\n",
    "    deck = np.arange(119315717514047, dtype=int)\n",
    "except Exception as e:\n",
    "    print(e)"
   ]
  },
  {
   "cell_type": "markdown",
   "metadata": {},
   "source": [
    "Tried and failed.\n",
    "\n",
    "Wrote functions to track a position through sequential commands. This worked on deck_size = 10_007, but would have taken forever with the huge deck and gazillion iterations. Fruitlessly explored periodicity.\n",
    "\n",
    "Finally checked https://www.reddit.com/r/adventofcode/comments/ee0rqi/2019_day_22_solutions/ and\n",
    "found that the key idea is to make transformations into linear polynomials, compose into a single polynomial, then use \"modpow\" (pow(a,b,c) where c is modulus) to quickly apply it many many times.\n",
    "\n",
    "See https://github.com/metalim/metalim.adventofcode.2019.python/blob/master/22_cards_shuffle.ipynb"
   ]
  },
  {
   "cell_type": "code",
   "execution_count": 76,
   "metadata": {},
   "outputs": [
    {
     "data": {
      "text/plain": [
       "array([ 0,  1,  2,  3,  4,  5,  6,  7,  8,  9, 10])"
      ]
     },
     "execution_count": 76,
     "metadata": {},
     "output_type": "execute_result"
    }
   ],
   "source": [
    "deck11 = np.arange(11, dtype=int)\n",
    "deck11"
   ]
  },
  {
   "cell_type": "code",
   "execution_count": 77,
   "metadata": {},
   "outputs": [
    {
     "data": {
      "text/plain": [
       "array([ 1,  4,  7, 10,  2,  5,  8,  0,  3,  6,  9])"
      ]
     },
     "execution_count": 77,
     "metadata": {},
     "output_type": "execute_result"
    }
   ],
   "source": [
    "cmds = \"\"\"\\\n",
    "deal into new stack\n",
    "cut -2\n",
    "deal with increment 7\n",
    "\"\"\"\n",
    "applycmds(cmds, deck11)"
   ]
  },
  {
   "cell_type": "code",
   "execution_count": 80,
   "metadata": {},
   "outputs": [],
   "source": [
    "def linear(x, a, b):\n",
    "    return a * x + b"
   ]
  },
  {
   "cell_type": "code",
   "execution_count": 78,
   "metadata": {},
   "outputs": [
    {
     "data": {
      "text/plain": [
       "array([10,  9,  8,  7,  6,  5,  4,  3,  2,  1,  0])"
      ]
     },
     "execution_count": 78,
     "metadata": {},
     "output_type": "execute_result"
    }
   ],
   "source": [
    "applycmds(\"deal into new stack\", deck11)"
   ]
  },
  {
   "cell_type": "code",
   "execution_count": 81,
   "metadata": {},
   "outputs": [
    {
     "data": {
      "text/plain": [
       "(-1, 10)"
      ]
     },
     "execution_count": 81,
     "metadata": {},
     "output_type": "execute_result"
    }
   ],
   "source": [
    "# deal into new stack \n",
    "L = 11\n",
    "a, b = 1, 0\n",
    "a = -a\n",
    "b = L - b - 1\n",
    "a, b"
   ]
  },
  {
   "cell_type": "code",
   "execution_count": 82,
   "metadata": {},
   "outputs": [
    {
     "data": {
      "text/plain": [
       "7"
      ]
     },
     "execution_count": 82,
     "metadata": {},
     "output_type": "execute_result"
    }
   ],
   "source": [
    "linear(3, a, b)"
   ]
  },
  {
   "cell_type": "code",
   "execution_count": 83,
   "metadata": {},
   "outputs": [
    {
     "data": {
      "text/plain": [
       "array([ 9, 10,  0,  1,  2,  3,  4,  5,  6,  7,  8])"
      ]
     },
     "execution_count": 83,
     "metadata": {},
     "output_type": "execute_result"
    }
   ],
   "source": [
    "applycmds(\"cut -2\", deck11)"
   ]
  },
  {
   "cell_type": "code",
   "execution_count": 99,
   "metadata": {},
   "outputs": [
    {
     "data": {
      "text/plain": [
       "(1, 9)"
      ]
     },
     "execution_count": 99,
     "metadata": {},
     "output_type": "execute_result"
    }
   ],
   "source": [
    "# cut\n",
    "L = 11\n",
    "a, b = 1, 0\n",
    "n = -2\n",
    "b = (b + n) % L\n",
    "a, b"
   ]
  },
  {
   "cell_type": "code",
   "execution_count": 100,
   "metadata": {},
   "outputs": [
    {
     "data": {
      "text/plain": [
       "12"
      ]
     },
     "execution_count": 100,
     "metadata": {},
     "output_type": "execute_result"
    }
   ],
   "source": [
    "linear(3, a, b)"
   ]
  },
  {
   "cell_type": "code",
   "execution_count": 101,
   "metadata": {},
   "outputs": [
    {
     "data": {
      "text/plain": [
       "1"
      ]
     },
     "execution_count": 101,
     "metadata": {},
     "output_type": "execute_result"
    }
   ],
   "source": [
    "linear(3, a, b) % L"
   ]
  },
  {
   "cell_type": "code",
   "execution_count": 98,
   "metadata": {},
   "outputs": [
    {
     "data": {
      "text/plain": [
       "array([ 2,  3,  4,  5,  6,  7,  8,  9, 10,  0,  1])"
      ]
     },
     "execution_count": 98,
     "metadata": {},
     "output_type": "execute_result"
    }
   ],
   "source": [
    "applycmds(\"cut 2\", deck11)"
   ]
  },
  {
   "cell_type": "code",
   "execution_count": 96,
   "metadata": {},
   "outputs": [
    {
     "data": {
      "text/plain": [
       "(1, 2)"
      ]
     },
     "execution_count": 96,
     "metadata": {},
     "output_type": "execute_result"
    }
   ],
   "source": [
    "# cut\n",
    "L = 11\n",
    "a, b = 1, 0\n",
    "n = 2\n",
    "b = (b + n) % L\n",
    "a, b"
   ]
  },
  {
   "cell_type": "code",
   "execution_count": 97,
   "metadata": {},
   "outputs": [
    {
     "data": {
      "text/plain": [
       "5"
      ]
     },
     "execution_count": 97,
     "metadata": {},
     "output_type": "execute_result"
    }
   ],
   "source": [
    "linear(3, a, b) % L"
   ]
  }
 ],
 "metadata": {
  "kernelspec": {
   "display_name": "Python 3",
   "language": "python",
   "name": "python3"
  },
  "language_info": {
   "codemirror_mode": {
    "name": "ipython",
    "version": 3
   },
   "file_extension": ".py",
   "mimetype": "text/x-python",
   "name": "python",
   "nbconvert_exporter": "python",
   "pygments_lexer": "ipython3",
   "version": "3.7.3"
  }
 },
 "nbformat": 4,
 "nbformat_minor": 2
}
