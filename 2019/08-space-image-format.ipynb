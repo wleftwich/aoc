{
 "cells": [
  {
   "cell_type": "code",
   "execution_count": 1,
   "metadata": {},
   "outputs": [],
   "source": [
    "url = 'https://adventofcode.com/2019/day/8'"
   ]
  },
  {
   "cell_type": "code",
   "execution_count": 2,
   "metadata": {},
   "outputs": [],
   "source": [
    "import numpy as np"
   ]
  },
  {
   "cell_type": "code",
   "execution_count": 3,
   "metadata": {},
   "outputs": [],
   "source": [
    "with open('data/08.txt') as fh:\n",
    "    data = fh.read().strip()"
   ]
  },
  {
   "cell_type": "code",
   "execution_count": 4,
   "metadata": {},
   "outputs": [],
   "source": [
    "L = [int(x) for x in data]"
   ]
  },
  {
   "cell_type": "code",
   "execution_count": 5,
   "metadata": {},
   "outputs": [
    {
     "data": {
      "text/plain": [
       "[2, 2, 2, 2, 2, 2, 2, 2, 2, 2, 2, 2, 2, 1, 2, 2, 2, 2, 2, 2]"
      ]
     },
     "execution_count": 5,
     "metadata": {},
     "output_type": "execute_result"
    }
   ],
   "source": [
    "L[:20]"
   ]
  },
  {
   "cell_type": "code",
   "execution_count": 6,
   "metadata": {},
   "outputs": [
    {
     "data": {
      "text/plain": [
       "15000"
      ]
     },
     "execution_count": 6,
     "metadata": {},
     "output_type": "execute_result"
    }
   ],
   "source": [
    "len(L)"
   ]
  },
  {
   "cell_type": "code",
   "execution_count": 7,
   "metadata": {},
   "outputs": [],
   "source": [
    "a = np.array(L).reshape((-1, 6, 25))"
   ]
  },
  {
   "cell_type": "code",
   "execution_count": 8,
   "metadata": {},
   "outputs": [
    {
     "data": {
      "text/plain": [
       "(100, 6, 25)"
      ]
     },
     "execution_count": 8,
     "metadata": {},
     "output_type": "execute_result"
    }
   ],
   "source": [
    "a.shape"
   ]
  },
  {
   "cell_type": "code",
   "execution_count": 9,
   "metadata": {},
   "outputs": [
    {
     "data": {
      "text/plain": [
       "13"
      ]
     },
     "execution_count": 9,
     "metadata": {},
     "output_type": "execute_result"
    }
   ],
   "source": [
    "np.argmin([(x == 0).sum() for x in a])"
   ]
  },
  {
   "cell_type": "code",
   "execution_count": 10,
   "metadata": {},
   "outputs": [
    {
     "name": "stdout",
     "output_type": "stream",
     "text": [
      "[[2 2 2 2 2 2 2 1 2 2 2 2 2 1 2 2 2 1 2 2 2 2 2 2 2]\n",
      " [2 2 1 2 2 2 2 2 2 2 2 1 2 2 2 2 2 2 2 2 2 2 2 2 1]\n",
      " [2 2 2 2 2 2 2 2 2 2 1 2 2 2 2 2 2 2 2 2 2 2 2 2 2]\n",
      " [2 2 2 2 1 2 1 2 2 0 2 2 2 2 1 2 2 2 2 2 1 2 2 2 0]\n",
      " [2 2 2 2 2 1 1 2 1 1 2 2 2 2 2 2 2 2 0 2 2 2 2 2 2]\n",
      " [2 2 2 2 2 2 2 2 1 2 2 2 2 2 2 2 2 2 1 2 2 2 2 2 2]]\n"
     ]
    }
   ],
   "source": [
    "print(a[13])"
   ]
  },
  {
   "cell_type": "code",
   "execution_count": 11,
   "metadata": {},
   "outputs": [
    {
     "data": {
      "text/plain": [
       "3"
      ]
     },
     "execution_count": 11,
     "metadata": {},
     "output_type": "execute_result"
    }
   ],
   "source": [
    "(a[13] == 0).sum()"
   ]
  },
  {
   "cell_type": "code",
   "execution_count": 12,
   "metadata": {},
   "outputs": [
    {
     "data": {
      "text/plain": [
       "17"
      ]
     },
     "execution_count": 12,
     "metadata": {},
     "output_type": "execute_result"
    }
   ],
   "source": [
    "(a[13] == 1).sum()"
   ]
  },
  {
   "cell_type": "code",
   "execution_count": 13,
   "metadata": {},
   "outputs": [
    {
     "data": {
      "text/plain": [
       "130"
      ]
     },
     "execution_count": 13,
     "metadata": {},
     "output_type": "execute_result"
    }
   ],
   "source": [
    "(a[13] == 2).sum()"
   ]
  },
  {
   "cell_type": "code",
   "execution_count": 14,
   "metadata": {},
   "outputs": [
    {
     "data": {
      "text/plain": [
       "2210"
      ]
     },
     "execution_count": 14,
     "metadata": {},
     "output_type": "execute_result"
    }
   ],
   "source": [
    "17 * 130"
   ]
  },
  {
   "cell_type": "code",
   "execution_count": 15,
   "metadata": {},
   "outputs": [],
   "source": [
    "b = np.array([0,2,2,2, 1,1,2,2, 2,2,1,2, 0,0,0,0]).reshape((-1,2,2))"
   ]
  },
  {
   "cell_type": "code",
   "execution_count": 16,
   "metadata": {},
   "outputs": [
    {
     "name": "stdout",
     "output_type": "stream",
     "text": [
      "[[[0 2]\n",
      "  [2 2]]\n",
      "\n",
      " [[1 1]\n",
      "  [2 2]]\n",
      "\n",
      " [[2 2]\n",
      "  [1 2]]\n",
      "\n",
      " [[0 0]\n",
      "  [0 0]]]\n"
     ]
    }
   ],
   "source": [
    "print(b)"
   ]
  },
  {
   "cell_type": "code",
   "execution_count": 17,
   "metadata": {},
   "outputs": [
    {
     "name": "stdout",
     "output_type": "stream",
     "text": [
      "[[[ True False]\n",
      "  [False False]]\n",
      "\n",
      " [[ True  True]\n",
      "  [False False]]\n",
      "\n",
      " [[False False]\n",
      "  [ True False]]\n",
      "\n",
      " [[ True  True]\n",
      "  [ True  True]]]\n"
     ]
    }
   ],
   "source": [
    "print(b < 2)"
   ]
  },
  {
   "cell_type": "code",
   "execution_count": 18,
   "metadata": {},
   "outputs": [
    {
     "name": "stdout",
     "output_type": "stream",
     "text": [
      "[[0 1]\n",
      " [2 3]]\n"
     ]
    }
   ],
   "source": [
    "ams = (b < 2).argmax(axis=0)\n",
    "print(ams)"
   ]
  },
  {
   "cell_type": "code",
   "execution_count": 19,
   "metadata": {},
   "outputs": [],
   "source": [
    "out = np.empty_like(ams)"
   ]
  },
  {
   "cell_type": "code",
   "execution_count": 20,
   "metadata": {},
   "outputs": [],
   "source": [
    "for i in range(ams.shape[0]):\n",
    "    for j in range(ams.shape[1]):\n",
    "        out[i,j] = b[ams[i,j], i, j]"
   ]
  },
  {
   "cell_type": "code",
   "execution_count": 21,
   "metadata": {},
   "outputs": [
    {
     "name": "stdout",
     "output_type": "stream",
     "text": [
      "[[0 1]\n",
      " [1 0]]\n"
     ]
    }
   ],
   "source": [
    "print(out)"
   ]
  },
  {
   "cell_type": "code",
   "execution_count": 22,
   "metadata": {},
   "outputs": [],
   "source": [
    "def decode(a):\n",
    "    ams = (a != 2).argmax(axis=0)\n",
    "    out = np.empty_like(ams)\n",
    "    for i in range(ams.shape[0]):\n",
    "        for j in range(ams.shape[1]):\n",
    "            out[i,j] = a[ams[i,j], i, j]\n",
    "    return out"
   ]
  },
  {
   "cell_type": "code",
   "execution_count": 23,
   "metadata": {},
   "outputs": [
    {
     "name": "stdout",
     "output_type": "stream",
     "text": [
      "[[0 1 1 0 0 0 1 1 0 0 1 1 1 1 0 0 1 1 0 0 1 1 1 1 0]\n",
      " [1 0 0 1 0 1 0 0 1 0 1 0 0 0 0 1 0 0 1 0 1 0 0 0 0]\n",
      " [1 0 0 0 0 1 0 0 0 0 1 1 1 0 0 1 0 0 0 0 1 1 1 0 0]\n",
      " [1 0 0 0 0 1 0 1 1 0 1 0 0 0 0 1 0 1 1 0 1 0 0 0 0]\n",
      " [1 0 0 1 0 1 0 0 1 0 1 0 0 0 0 1 0 0 1 0 1 0 0 0 0]\n",
      " [0 1 1 0 0 0 1 1 1 0 1 1 1 1 0 0 1 1 1 0 1 1 1 1 0]]\n"
     ]
    }
   ],
   "source": [
    "message = decode(a)\n",
    "print(message)"
   ]
  },
  {
   "cell_type": "code",
   "execution_count": 33,
   "metadata": {},
   "outputs": [],
   "source": [
    "def decode1(a):\n",
    "    ams = (a != 2).argmax(axis=0)\n",
    "    out = np.empty_like(ams)\n",
    "    for (i,j) in np.ndindex(*ams.shape):\n",
    "        out[i,j] = a[ams[i,j], i, j]            \n",
    "    return out"
   ]
  },
  {
   "cell_type": "code",
   "execution_count": 36,
   "metadata": {},
   "outputs": [
    {
     "name": "stdout",
     "output_type": "stream",
     "text": [
      "[[0 1 1 0 0 0 1 1 0 0 1 1 1 1 0 0 1 1 0 0 1 1 1 1 0]\n",
      " [1 0 0 1 0 1 0 0 1 0 1 0 0 0 0 1 0 0 1 0 1 0 0 0 0]\n",
      " [1 0 0 0 0 1 0 0 0 0 1 1 1 0 0 1 0 0 0 0 1 1 1 0 0]\n",
      " [1 0 0 0 0 1 0 1 1 0 1 0 0 0 0 1 0 1 1 0 1 0 0 0 0]\n",
      " [1 0 0 1 0 1 0 0 1 0 1 0 0 0 0 1 0 0 1 0 1 0 0 0 0]\n",
      " [0 1 1 0 0 0 1 1 1 0 1 1 1 1 0 0 1 1 1 0 1 1 1 1 0]]\n"
     ]
    }
   ],
   "source": [
    "message1 = decode1(a)\n",
    "print(message1)"
   ]
  },
  {
   "cell_type": "code",
   "execution_count": 24,
   "metadata": {},
   "outputs": [
    {
     "name": "stdout",
     "output_type": "stream",
     "text": [
      " ##   ##  ####  ##  #### \n",
      "#  # #  # #    #  # #    \n",
      "#    #    ###  #    ###  \n",
      "#    # ## #    # ## #    \n",
      "#  # #  # #    #  # #    \n",
      " ##   ### ####  ### #### \n"
     ]
    }
   ],
   "source": [
    "for row in message:\n",
    "    for x in row:\n",
    "        print('#' if x else ' ', end='')\n",
    "    print()"
   ]
  },
  {
   "cell_type": "code",
   "execution_count": 25,
   "metadata": {},
   "outputs": [],
   "source": [
    "def decode2(a):\n",
    "    def first_non_transparent(x):\n",
    "        return x[(x != 2).argmax()]\n",
    "    return np.apply_along_axis(first_non_transparent, 0, a)"
   ]
  },
  {
   "cell_type": "code",
   "execution_count": 27,
   "metadata": {},
   "outputs": [
    {
     "name": "stdout",
     "output_type": "stream",
     "text": [
      "[[0 1 1 0 0 0 1 1 0 0 1 1 1 1 0 0 1 1 0 0 1 1 1 1 0]\n",
      " [1 0 0 1 0 1 0 0 1 0 1 0 0 0 0 1 0 0 1 0 1 0 0 0 0]\n",
      " [1 0 0 0 0 1 0 0 0 0 1 1 1 0 0 1 0 0 0 0 1 1 1 0 0]\n",
      " [1 0 0 0 0 1 0 1 1 0 1 0 0 0 0 1 0 1 1 0 1 0 0 0 0]\n",
      " [1 0 0 1 0 1 0 0 1 0 1 0 0 0 0 1 0 0 1 0 1 0 0 0 0]\n",
      " [0 1 1 0 0 0 1 1 1 0 1 1 1 1 0 0 1 1 1 0 1 1 1 1 0]]\n"
     ]
    }
   ],
   "source": [
    "message2 = decode2(a)\n",
    "print(message2)"
   ]
  },
  {
   "cell_type": "code",
   "execution_count": 32,
   "metadata": {},
   "outputs": [
    {
     "name": "stdout",
     "output_type": "stream",
     "text": [
      " 00   00  0000  00  0000 \n",
      "0  0 0  0 0    0  0 0    \n",
      "0    0    000  0    000  \n",
      "0    0 00 0    0 00 0    \n",
      "0  0 0  0 0    0  0 0    \n",
      " 00   000 0000  000 0000 \n"
     ]
    }
   ],
   "source": [
    "for row in message2:\n",
    "    for x in row:\n",
    "        print('0' if x else ' ', end='')\n",
    "    print()"
   ]
  },
  {
   "cell_type": "code",
   "execution_count": 38,
   "metadata": {},
   "outputs": [],
   "source": [
    "def decode3(a):\n",
    "    def first_non_transparent(x):\n",
    "        try:\n",
    "            return x[x != 2][0]\n",
    "        except IndexError:\n",
    "            return 0\n",
    "    return np.apply_along_axis(first_non_transparent, 0, a)"
   ]
  },
  {
   "cell_type": "code",
   "execution_count": 39,
   "metadata": {},
   "outputs": [
    {
     "name": "stdout",
     "output_type": "stream",
     "text": [
      "[[0 1 1 0 0 0 1 1 0 0 1 1 1 1 0 0 1 1 0 0 1 1 1 1 0]\n",
      " [1 0 0 1 0 1 0 0 1 0 1 0 0 0 0 1 0 0 1 0 1 0 0 0 0]\n",
      " [1 0 0 0 0 1 0 0 0 0 1 1 1 0 0 1 0 0 0 0 1 1 1 0 0]\n",
      " [1 0 0 0 0 1 0 1 1 0 1 0 0 0 0 1 0 1 1 0 1 0 0 0 0]\n",
      " [1 0 0 1 0 1 0 0 1 0 1 0 0 0 0 1 0 0 1 0 1 0 0 0 0]\n",
      " [0 1 1 0 0 0 1 1 1 0 1 1 1 1 0 0 1 1 1 0 1 1 1 1 0]]\n"
     ]
    }
   ],
   "source": [
    "message3 = decode3(a)\n",
    "print(message3)"
   ]
  }
 ],
 "metadata": {
  "kernelspec": {
   "display_name": "Python 3",
   "language": "python",
   "name": "python3"
  },
  "language_info": {
   "codemirror_mode": {
    "name": "ipython",
    "version": 3
   },
   "file_extension": ".py",
   "mimetype": "text/x-python",
   "name": "python",
   "nbconvert_exporter": "python",
   "pygments_lexer": "ipython3",
   "version": "3.7.3"
  }
 },
 "nbformat": 4,
 "nbformat_minor": 2
}
