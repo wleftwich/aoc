{
 "cells": [
  {
   "cell_type": "markdown",
   "metadata": {},
   "source": [
    "https://adventofcode.com/2019/day/12"
   ]
  },
  {
   "cell_type": "code",
   "execution_count": 14,
   "metadata": {},
   "outputs": [],
   "source": [
    "import re\n",
    "import math\n",
    "from collections import defaultdict\n",
    "from itertools import combinations\n",
    "from functools import reduce"
   ]
  },
  {
   "cell_type": "code",
   "execution_count": 15,
   "metadata": {},
   "outputs": [],
   "source": [
    "sample_input = \"\"\"\\\n",
    "<x=-1, y=0, z=2>\n",
    "<x=2, y=-10, z=-7>\n",
    "<x=4, y=-8, z=8>\n",
    "<x=3, y=5, z=-1>\n",
    "\"\"\""
   ]
  },
  {
   "cell_type": "code",
   "execution_count": 16,
   "metadata": {},
   "outputs": [],
   "source": [
    "def read_moons(input):\n",
    "    kvre = re.compile(r'([xyz])=(-?\\d+)')\n",
    "    moons = []\n",
    "    for line in input.split('\\n'):\n",
    "        found = kvre.findall(line)\n",
    "        if found:\n",
    "            moons.append({'v':defaultdict(int), 'p':{k:int(v) for (k,v) in found}})\n",
    "    return moons\n",
    "    "
   ]
  },
  {
   "cell_type": "code",
   "execution_count": 17,
   "metadata": {},
   "outputs": [],
   "source": [
    "moons = read_moons(sample_input)"
   ]
  },
  {
   "cell_type": "code",
   "execution_count": 18,
   "metadata": {},
   "outputs": [],
   "source": [
    "def print_moons(moons):\n",
    "    for m in moons:\n",
    "        print(f\"pos=<x={m['p']['x']}, y={m['p']['y']}, z={m['p']['z']}>, vel=<x={m['v']['x']}, y={m['v']['y']}, z={m['v']['z']}>\")"
   ]
  },
  {
   "cell_type": "code",
   "execution_count": 19,
   "metadata": {},
   "outputs": [
    {
     "name": "stdout",
     "output_type": "stream",
     "text": [
      "pos=<x=-1, y=0, z=2>, vel=<x=0, y=0, z=0>\n",
      "pos=<x=2, y=-10, z=-7>, vel=<x=0, y=0, z=0>\n",
      "pos=<x=4, y=-8, z=8>, vel=<x=0, y=0, z=0>\n",
      "pos=<x=3, y=5, z=-1>, vel=<x=0, y=0, z=0>\n"
     ]
    }
   ],
   "source": [
    "print_moons(moons)"
   ]
  },
  {
   "cell_type": "code",
   "execution_count": 20,
   "metadata": {},
   "outputs": [],
   "source": [
    "def step(moons):\n",
    "    for a, b in combinations(moons, 2):\n",
    "        for k in ['x', 'y', 'z']:\n",
    "            if a['p'][k] < b['p'][k]:\n",
    "                a['v'][k] += 1\n",
    "                b['v'][k] -= 1\n",
    "            elif a['p'][k] > b['p'][k]:\n",
    "                a['v'][k] -= 1\n",
    "                b['v'][k] += 1\n",
    "    for moon in moons:\n",
    "        for k in ['x', 'y', 'z']:\n",
    "            moon['p'][k] += moon['v'][k]\n",
    "            \n",
    "                "
   ]
  },
  {
   "cell_type": "code",
   "execution_count": 21,
   "metadata": {},
   "outputs": [
    {
     "name": "stdout",
     "output_type": "stream",
     "text": [
      "pos=<x=2, y=1, z=-3>, vel=<x=-3, y=-2, z=1>\n",
      "pos=<x=1, y=-8, z=0>, vel=<x=-1, y=1, z=3>\n",
      "pos=<x=3, y=-6, z=1>, vel=<x=3, y=2, z=-3>\n",
      "pos=<x=2, y=0, z=4>, vel=<x=1, y=-1, z=-1>\n"
     ]
    }
   ],
   "source": [
    "moons = read_moons(sample_input)\n",
    "for _ in range(10):\n",
    "    step(moons)\n",
    "print_moons(moons)"
   ]
  },
  {
   "cell_type": "code",
   "execution_count": 22,
   "metadata": {},
   "outputs": [],
   "source": [
    "def moon_energy(moon):\n",
    "    return sum(abs(moon['p'][k]) for k in 'xyz') * sum(abs(moon['v'][k]) for k in 'xyz')"
   ]
  },
  {
   "cell_type": "code",
   "execution_count": 23,
   "metadata": {},
   "outputs": [],
   "source": [
    "def moons_energy(moons):\n",
    "    return sum(moon_energy(moon) for moon in moons)"
   ]
  },
  {
   "cell_type": "code",
   "execution_count": 24,
   "metadata": {},
   "outputs": [
    {
     "data": {
      "text/plain": [
       "36"
      ]
     },
     "execution_count": 24,
     "metadata": {},
     "output_type": "execute_result"
    }
   ],
   "source": [
    "moon_energy(moons[0])"
   ]
  },
  {
   "cell_type": "code",
   "execution_count": 25,
   "metadata": {},
   "outputs": [
    {
     "data": {
      "text/plain": [
       "179"
      ]
     },
     "execution_count": 25,
     "metadata": {},
     "output_type": "execute_result"
    }
   ],
   "source": [
    "moons_energy(moons)"
   ]
  },
  {
   "cell_type": "markdown",
   "metadata": {},
   "source": [
    "## Part 1"
   ]
  },
  {
   "cell_type": "code",
   "execution_count": 26,
   "metadata": {},
   "outputs": [],
   "source": [
    "input = \"\"\"\\\n",
    "<x=-8, y=-18, z=6>\n",
    "<x=-11, y=-14, z=4>\n",
    "<x=8, y=-3, z=-10>\n",
    "<x=-2, y=-16, z=1>\n",
    "\"\"\"\n",
    "moons = read_moons(input)"
   ]
  },
  {
   "cell_type": "code",
   "execution_count": 27,
   "metadata": {},
   "outputs": [
    {
     "data": {
      "text/plain": [
       "9743"
      ]
     },
     "execution_count": 27,
     "metadata": {},
     "output_type": "execute_result"
    }
   ],
   "source": [
    "for _ in range(1000):\n",
    "    step(moons)\n",
    "moons_energy(moons)"
   ]
  },
  {
   "cell_type": "markdown",
   "metadata": {},
   "source": [
    "## Part 2"
   ]
  },
  {
   "cell_type": "code",
   "execution_count": 28,
   "metadata": {},
   "outputs": [],
   "source": [
    "def getstate(moons):\n",
    "    L = []\n",
    "    for ax in ['x', 'y', 'z']:\n",
    "        for param in ['p', 'v']:\n",
    "            for moon in moons:\n",
    "                L.append(moon[param][ax])\n",
    "    return tuple(L)"
   ]
  },
  {
   "cell_type": "code",
   "execution_count": 29,
   "metadata": {},
   "outputs": [],
   "source": [
    "def getstate_by_axis(moons, axis):\n",
    "    L = []\n",
    "    for param in ['p', 'v']:\n",
    "        for moon in moons:\n",
    "            L.append(moon[param][axis])\n",
    "    return tuple(L)    "
   ]
  },
  {
   "cell_type": "code",
   "execution_count": 30,
   "metadata": {},
   "outputs": [
    {
     "name": "stdout",
     "output_type": "stream",
     "text": [
      "2772\n",
      "pos=<x=2, y=-1, z=1>, vel=<x=3, y=-1, z=-1>\n",
      "pos=<x=3, y=-7, z=-4>, vel=<x=1, y=3, z=3>\n",
      "pos=<x=1, y=-7, z=5>, vel=<x=-3, y=1, z=-3>\n",
      "pos=<x=2, y=2, z=0>, vel=<x=-1, y=-3, z=1>\n"
     ]
    }
   ],
   "source": [
    "moons = read_moons(sample_input)\n",
    "states = set()\n",
    "for i in range(3000):\n",
    "    step(moons)\n",
    "    state = getstate(moons)\n",
    "    if state in states:\n",
    "        print(i)\n",
    "        print_moons(moons)\n",
    "        break\n",
    "    states.add(state)"
   ]
  },
  {
   "cell_type": "code",
   "execution_count": 31,
   "metadata": {},
   "outputs": [
    {
     "name": "stdout",
     "output_type": "stream",
     "text": [
      "(2, 3, 1, 2, 3, 1, -3, -1, -1, -7, -7, 2, -1, 3, 1, -3, 1, -4, 5, 0, -1, 3, -3, 1)\n"
     ]
    }
   ],
   "source": [
    "repeated_state = state\n",
    "print(repeated_state)"
   ]
  },
  {
   "cell_type": "code",
   "execution_count": 32,
   "metadata": {},
   "outputs": [
    {
     "name": "stdout",
     "output_type": "stream",
     "text": [
      "0\n",
      "(2, 3, 1, 2, 3, 1, -3, -1, -1, -7, -7, 2, -1, 3, 1, -3, 1, -4, 5, 0, -1, 3, -3, 1)\n"
     ]
    }
   ],
   "source": [
    "moons = read_moons(sample_input)\n",
    "for i in range(3000):\n",
    "    step(moons)\n",
    "    state = getstate(moons)\n",
    "    if state == repeated_state:\n",
    "        print(i)\n",
    "        print(state)\n",
    "        break"
   ]
  },
  {
   "cell_type": "code",
   "execution_count": 33,
   "metadata": {},
   "outputs": [
    {
     "name": "stdout",
     "output_type": "stream",
     "text": [
      "0 (2, 3, 1, 2, 3, 1, -3, -1, -1, -7, -7, 2, -1, 3, 1, -3, 1, -4, 5, 0, -1, 3, -3, 1)\n",
      "1 (5, 1, 1, 1, 3, -2, 0, -1, -3, -2, -4, -4, -2, 5, 3, -6, -1, 2, -1, 2, -2, 6, -6, 2)\n",
      "2 (5, 0, 2, 1, 0, -1, 1, 0, -6, 0, 1, -8, -3, 2, 5, -4, -1, 6, -5, 2, 0, 4, -4, 0)\n"
     ]
    }
   ],
   "source": [
    "moons = read_moons(sample_input)\n",
    "for i in range(3):\n",
    "    step(moons)\n",
    "    print(i, getstate(moons))"
   ]
  },
  {
   "cell_type": "code",
   "execution_count": 34,
   "metadata": {},
   "outputs": [
    {
     "name": "stdout",
     "output_type": "stream",
     "text": [
      "(2, 2, 2, 2, -3, 2, 0, 1, -8, 1, 3, -9, -2, 1, 2, -1, 0, 7, -6, 1, 1, 1, -1, -1)\n"
     ]
    }
   ],
   "source": [
    "step(moons)\n",
    "print(getstate(moons))"
   ]
  },
  {
   "cell_type": "code",
   "execution_count": 35,
   "metadata": {},
   "outputs": [
    {
     "name": "stdout",
     "output_type": "stream",
     "text": [
      "2770 (-1, 2, 4, 3, -3, -1, 3, 1, 0, -10, -8, 5, 1, -3, -1, 3, 2, -7, 8, -1, 1, -3, 3, -1)\n",
      "2771 (-1, 2, 4, 3, 0, 0, 0, 0, 0, -10, -8, 5, 0, 0, 0, 0, 2, -7, 8, -1, 0, 0, 0, 0)\n",
      "2772 (2, 3, 1, 2, 3, 1, -3, -1, -1, -7, -7, 2, -1, 3, 1, -3, 1, -4, 5, 0, -1, 3, -3, 1)\n",
      "2773 (5, 1, 1, 1, 3, -2, 0, -1, -3, -2, -4, -4, -2, 5, 3, -6, -1, 2, -1, 2, -2, 6, -6, 2)\n",
      "2774 (5, 0, 2, 1, 0, -1, 1, 0, -6, 0, 1, -8, -3, 2, 5, -4, -1, 6, -5, 2, 0, 4, -4, 0)\n"
     ]
    }
   ],
   "source": [
    "moons = read_moons(sample_input)\n",
    "for i in range(2770):\n",
    "    step(moons)\n",
    "for j in range(1, 6):\n",
    "    step(moons)\n",
    "    print(i+j, getstate(moons))"
   ]
  },
  {
   "cell_type": "code",
   "execution_count": 36,
   "metadata": {},
   "outputs": [],
   "source": [
    "def lcm(m, n):\n",
    "    return (m // math.gcd(m, n)) * n"
   ]
  },
  {
   "cell_type": "code",
   "execution_count": 37,
   "metadata": {},
   "outputs": [
    {
     "data": {
      "text/plain": [
       "2772"
      ]
     },
     "execution_count": 37,
     "metadata": {},
     "output_type": "execute_result"
    }
   ],
   "source": [
    "reduce(lcm, [18, 28, 44])"
   ]
  },
  {
   "cell_type": "code",
   "execution_count": null,
   "metadata": {},
   "outputs": [],
   "source": []
  },
  {
   "cell_type": "code",
   "execution_count": 38,
   "metadata": {},
   "outputs": [],
   "source": [
    "input = \"\"\"\\\n",
    "<x=-8, y=-18, z=6>\n",
    "<x=-11, y=-14, z=4>\n",
    "<x=8, y=-3, z=-10>\n",
    "<x=-2, y=-16, z=1>\n",
    "\"\"\""
   ]
  },
  {
   "cell_type": "code",
   "execution_count": 48,
   "metadata": {},
   "outputs": [
    {
     "name": "stdout",
     "output_type": "stream",
     "text": [
      "CPU times: user 1min 24s, sys: 3.86 ms, total: 1min 24s\n",
      "Wall time: 1min 24s\n"
     ]
    }
   ],
   "source": [
    "%%time\n",
    "moons = read_moons(input)\n",
    "\n",
    "xs = set()\n",
    "ys = set()\n",
    "zs = set()\n",
    "\n",
    "for _ in range(10_000_000): # Plenty of time to stabilize\n",
    "    step(moons)\n",
    "for i in range(2_000_000):\n",
    "    step(moons)\n",
    "    xs.add(getstate_by_axis(moons, 'x'))\n",
    "    ys.add(getstate_by_axis(moons, 'y'))\n",
    "    zs.add(getstate_by_axis(moons, 'z'))"
   ]
  },
  {
   "cell_type": "code",
   "execution_count": 49,
   "metadata": {},
   "outputs": [
    {
     "data": {
      "text/plain": [
       "(286332, 167624, 96236)"
      ]
     },
     "execution_count": 49,
     "metadata": {},
     "output_type": "execute_result"
    }
   ],
   "source": [
    "# If not all less than 1_000_000, go bigger\n",
    "len(xs), len(ys), len(zs)"
   ]
  },
  {
   "cell_type": "code",
   "execution_count": 50,
   "metadata": {},
   "outputs": [
    {
     "data": {
      "text/plain": [
       "550192"
      ]
     },
     "execution_count": 50,
     "metadata": {},
     "output_type": "execute_result"
    }
   ],
   "source": [
    "len(xs) + len(ys) + len(zs)"
   ]
  },
  {
   "cell_type": "code",
   "execution_count": 45,
   "metadata": {},
   "outputs": [
    {
     "name": "stdout",
     "output_type": "stream",
     "text": [
      "CPU times: user 22 µs, sys: 0 ns, total: 22 µs\n",
      "Wall time: 24.8 µs\n"
     ]
    },
    {
     "data": {
      "text/plain": [
       "288684633706728"
      ]
     },
     "execution_count": 45,
     "metadata": {},
     "output_type": "execute_result"
    }
   ],
   "source": [
    "%%time\n",
    "period = reduce(lcm, [len(xs), len(ys), len(zs)])\n",
    "period"
   ]
  },
  {
   "cell_type": "code",
   "execution_count": 46,
   "metadata": {},
   "outputs": [
    {
     "name": "stdout",
     "output_type": "stream",
     "text": [
      "0\n"
     ]
    }
   ],
   "source": [
    "moons = read_moons(input)\n",
    "for i in range(1_000_000):\n",
    "    if (getstate_by_axis(moons, 'x') in xs\n",
    "            and getstate_by_axis(moons, 'y') in ys\n",
    "            and getstate_by_axis(moons, 'z') in zs):\n",
    "        print(i)\n",
    "        break"
   ]
  }
 ],
 "metadata": {
  "kernelspec": {
   "display_name": "Python 3",
   "language": "python",
   "name": "python3"
  },
  "language_info": {
   "codemirror_mode": {
    "name": "ipython",
    "version": 3
   },
   "file_extension": ".py",
   "mimetype": "text/x-python",
   "name": "python",
   "nbconvert_exporter": "python",
   "pygments_lexer": "ipython3",
   "version": "3.7.3"
  }
 },
 "nbformat": 4,
 "nbformat_minor": 2
}
