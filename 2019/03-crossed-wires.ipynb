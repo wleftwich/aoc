{
 "cells": [
  {
   "cell_type": "code",
   "execution_count": 80,
   "metadata": {},
   "outputs": [],
   "source": [
    "url = 'https://adventofcode.com/2019/day/3'"
   ]
  },
  {
   "cell_type": "code",
   "execution_count": 81,
   "metadata": {},
   "outputs": [],
   "source": [
    "with open('data/03.txt') as fh:\n",
    "    lines = fh.readlines()"
   ]
  },
  {
   "cell_type": "code",
   "execution_count": 82,
   "metadata": {},
   "outputs": [],
   "source": [
    "wires = [x.strip().split(',') for x in lines]"
   ]
  },
  {
   "cell_type": "code",
   "execution_count": 83,
   "metadata": {},
   "outputs": [
    {
     "data": {
      "text/plain": [
       "[301, 301]"
      ]
     },
     "execution_count": 83,
     "metadata": {},
     "output_type": "execute_result"
    }
   ],
   "source": [
    "[len(x) for x in wires]"
   ]
  },
  {
   "cell_type": "code",
   "execution_count": 84,
   "metadata": {},
   "outputs": [],
   "source": [
    "def to_offset(move):\n",
    "    dirxn = move[0]\n",
    "    val = int(move[1:])\n",
    "    if dirxn == 'R':\n",
    "        offset = (val, 0)\n",
    "    elif dirxn == 'L':\n",
    "        offset = (-val, 0)\n",
    "    elif dirxn == 'U':\n",
    "        offset = (0, val)\n",
    "    elif dirxn == 'D':\n",
    "        offset = (0, -val)\n",
    "    else:\n",
    "        raise Exception(\"bad direction: %s\" % dirxn)\n",
    "    return offset"
   ]
  },
  {
   "cell_type": "code",
   "execution_count": 85,
   "metadata": {},
   "outputs": [],
   "source": [
    "def steps_to_coord(coord):\n",
    "    if coord == 0:\n",
    "        return [0]\n",
    "    elif coord > 1:\n",
    "        return list(range(1, coord + 1))\n",
    "    else:\n",
    "        return list(reversed(range(coord, 0)))\n",
    "        "
   ]
  },
  {
   "cell_type": "code",
   "execution_count": 86,
   "metadata": {},
   "outputs": [
    {
     "data": {
      "text/plain": [
       "[1, 2, 3]"
      ]
     },
     "execution_count": 86,
     "metadata": {},
     "output_type": "execute_result"
    }
   ],
   "source": [
    "steps_to_coord(3)"
   ]
  },
  {
   "cell_type": "code",
   "execution_count": 87,
   "metadata": {},
   "outputs": [
    {
     "data": {
      "text/plain": [
       "[-1]"
      ]
     },
     "execution_count": 87,
     "metadata": {},
     "output_type": "execute_result"
    }
   ],
   "source": [
    "steps_to_coord(-1)"
   ]
  },
  {
   "cell_type": "code",
   "execution_count": null,
   "metadata": {},
   "outputs": [],
   "source": []
  },
  {
   "cell_type": "code",
   "execution_count": 88,
   "metadata": {},
   "outputs": [],
   "source": [
    "def offset_path(offset):\n",
    "    x, y = offset\n",
    "    L = []\n",
    "    for x1 in steps_to_coord(x):\n",
    "        for y1 in steps_to_coord(y):\n",
    "            L.append((x1, y1))\n",
    "    return L"
   ]
  },
  {
   "cell_type": "code",
   "execution_count": 89,
   "metadata": {},
   "outputs": [
    {
     "data": {
      "text/plain": [
       "[(-1, 0), (-2, 0), (-3, 0), (-4, 0)]"
      ]
     },
     "execution_count": 89,
     "metadata": {},
     "output_type": "execute_result"
    }
   ],
   "source": [
    "offset_path((-4, 0))"
   ]
  },
  {
   "cell_type": "code",
   "execution_count": 90,
   "metadata": {},
   "outputs": [],
   "source": [
    "def add_points(a, b):\n",
    "    return (a[0] + b[0], a[1] + b[1])"
   ]
  },
  {
   "cell_type": "code",
   "execution_count": 91,
   "metadata": {},
   "outputs": [],
   "source": [
    "def manhattan(point):\n",
    "    return abs(point[0]) + abs(point[1])"
   ]
  },
  {
   "cell_type": "code",
   "execution_count": 92,
   "metadata": {},
   "outputs": [],
   "source": [
    "def wire_to_points(wire):\n",
    "    L = []\n",
    "    point = (0, 0)\n",
    "    for move in wire:\n",
    "        offset = to_offset(move)\n",
    "        for step in offset_path(offset):\n",
    "            L.append(add_points(point, step))\n",
    "        point = add_points(point, offset)\n",
    "    return L"
   ]
  },
  {
   "cell_type": "code",
   "execution_count": 93,
   "metadata": {},
   "outputs": [],
   "source": [
    "def closest_cross(w1, w2):\n",
    "    pts1 = set(wire_to_points(w1))\n",
    "    pts2 = set(wire_to_points(w2))\n",
    "    crosses = pts1.intersection(pts2)\n",
    "    return min(manhattan(x) for x in crosses)"
   ]
  },
  {
   "cell_type": "code",
   "execution_count": 94,
   "metadata": {},
   "outputs": [
    {
     "data": {
      "text/plain": [
       "6"
      ]
     },
     "execution_count": 94,
     "metadata": {},
     "output_type": "execute_result"
    }
   ],
   "source": [
    "w1 = ['R8','U5','L5','D3']\n",
    "w2 = ['U7','R6','D4','L4']\n",
    "closest_cross(w1, w2)"
   ]
  },
  {
   "cell_type": "code",
   "execution_count": 95,
   "metadata": {},
   "outputs": [
    {
     "data": {
      "text/plain": [
       "159"
      ]
     },
     "execution_count": 95,
     "metadata": {},
     "output_type": "execute_result"
    }
   ],
   "source": [
    "w1 = ['R75','D30','R83','U83','L12','D49','R71','U7','L72']\n",
    "w2 = ['U62','R66','U55','R34','D71','R55','D58','R83']\n",
    "closest_cross(w1, w2)"
   ]
  },
  {
   "cell_type": "code",
   "execution_count": 96,
   "metadata": {},
   "outputs": [
    {
     "data": {
      "text/plain": [
       "135"
      ]
     },
     "execution_count": 96,
     "metadata": {},
     "output_type": "execute_result"
    }
   ],
   "source": [
    "w1 = ['R98','U47','R26','D63','R33','U87','L62','D20','R33','U53','R51']\n",
    "w2 = ['U98','R91','D20','R16','D67','R40','U7','R15','U6','R7']\n",
    "closest_cross(w1, w2)"
   ]
  },
  {
   "cell_type": "code",
   "execution_count": 97,
   "metadata": {},
   "outputs": [
    {
     "data": {
      "text/plain": [
       "1337"
      ]
     },
     "execution_count": 97,
     "metadata": {},
     "output_type": "execute_result"
    }
   ],
   "source": [
    "closest_cross(wires[0], wires[1])"
   ]
  },
  {
   "cell_type": "code",
   "execution_count": 98,
   "metadata": {},
   "outputs": [],
   "source": [
    "def wire_to_point_cost_dict(wire):\n",
    "    D = {}\n",
    "    for i, pt in enumerate(wire_to_points(wire), start=1):\n",
    "        if pt not in D:\n",
    "            D[pt] = i\n",
    "    return D"
   ]
  },
  {
   "cell_type": "code",
   "execution_count": 99,
   "metadata": {},
   "outputs": [],
   "source": [
    "def min_cost_intersection(D1, D2):\n",
    "    E = {}\n",
    "    for k, v in D1.items():\n",
    "        if k in D2:\n",
    "            E[k] = v + D2[k]\n",
    "    return min(E.values())            "
   ]
  },
  {
   "cell_type": "code",
   "execution_count": 100,
   "metadata": {},
   "outputs": [],
   "source": [
    "def quickest_cross(w1, w2):\n",
    "    return min_cost_intersection(wire_to_point_cost_dict(w1), wire_to_point_cost_dict(w2))"
   ]
  },
  {
   "cell_type": "code",
   "execution_count": 101,
   "metadata": {},
   "outputs": [
    {
     "data": {
      "text/plain": [
       "30"
      ]
     },
     "execution_count": 101,
     "metadata": {},
     "output_type": "execute_result"
    }
   ],
   "source": [
    "w1 = ['R8','U5','L5','D3']\n",
    "w2 = ['U7','R6','D4','L4']\n",
    "quickest_cross(w1, w2)"
   ]
  },
  {
   "cell_type": "code",
   "execution_count": 102,
   "metadata": {},
   "outputs": [
    {
     "data": {
      "text/plain": [
       "610"
      ]
     },
     "execution_count": 102,
     "metadata": {},
     "output_type": "execute_result"
    }
   ],
   "source": [
    "w1 = ['R75','D30','R83','U83','L12','D49','R71','U7','L72']\n",
    "w2 = ['U62','R66','U55','R34','D71','R55','D58','R83']\n",
    "quickest_cross(w1, w2)"
   ]
  },
  {
   "cell_type": "code",
   "execution_count": 103,
   "metadata": {},
   "outputs": [
    {
     "data": {
      "text/plain": [
       "410"
      ]
     },
     "execution_count": 103,
     "metadata": {},
     "output_type": "execute_result"
    }
   ],
   "source": [
    "w1 = ['R98','U47','R26','D63','R33','U87','L62','D20','R33','U53','R51']\n",
    "w2 = ['U98','R91','D20','R16','D67','R40','U7','R15','U6','R7']\n",
    "quickest_cross(w1, w2)"
   ]
  },
  {
   "cell_type": "code",
   "execution_count": 104,
   "metadata": {},
   "outputs": [
    {
     "data": {
      "text/plain": [
       "65356"
      ]
     },
     "execution_count": 104,
     "metadata": {},
     "output_type": "execute_result"
    }
   ],
   "source": [
    "quickest_cross(wires[0], wires[1])"
   ]
  }
 ],
 "metadata": {
  "kernelspec": {
   "display_name": "Python 3",
   "language": "python",
   "name": "python3"
  },
  "language_info": {
   "codemirror_mode": {
    "name": "ipython",
    "version": 3
   },
   "file_extension": ".py",
   "mimetype": "text/x-python",
   "name": "python",
   "nbconvert_exporter": "python",
   "pygments_lexer": "ipython3",
   "version": "3.7.3"
  }
 },
 "nbformat": 4,
 "nbformat_minor": 2
}
