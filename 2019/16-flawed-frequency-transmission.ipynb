{
 "cells": [
  {
   "cell_type": "code",
   "execution_count": 1,
   "metadata": {},
   "outputs": [],
   "source": [
    "import numpy as np\n",
    "from toolz import concat, take\n",
    "from itertools import repeat, cycle\n",
    "from collections import Counter"
   ]
  },
  {
   "cell_type": "code",
   "execution_count": 2,
   "metadata": {},
   "outputs": [],
   "source": [
    "with open('data/16.txt') as fh:\n",
    "    data = fh.read().strip()"
   ]
  },
  {
   "cell_type": "markdown",
   "metadata": {},
   "source": [
    "## Part 1"
   ]
  },
  {
   "cell_type": "code",
   "execution_count": 3,
   "metadata": {},
   "outputs": [
    {
     "name": "stdout",
     "output_type": "stream",
     "text": [
      "[[ 1  0 -1  0  1  0 -1  0]\n",
      " [ 0  1  1  0  0 -1 -1  0]\n",
      " [ 0  0  1  1  1  0  0  0]\n",
      " [ 0  0  0  1  1  1  1  0]\n",
      " [ 0  0  0  0  1  1  1  1]\n",
      " [ 0  0  0  0  0  1  1  1]\n",
      " [ 0  0  0  0  0  0  1  1]\n",
      " [ 0  0  0  0  0  0  0  1]]\n"
     ]
    }
   ],
   "source": [
    "def makemat(n):\n",
    "    A = np.empty((n, n), dtype=int)\n",
    "    for i in range(n):\n",
    "        unit = concat((repeat(0, i+1), repeat(1, i+1), repeat(0, i+1), repeat(-1, i+1)))\n",
    "        it = cycle(unit)\n",
    "        _ = next(it)\n",
    "        A[i] = list(take(n, it))\n",
    "    return A    \n",
    "    \n",
    "print(makemat(8))"
   ]
  },
  {
   "cell_type": "code",
   "execution_count": 4,
   "metadata": {},
   "outputs": [],
   "source": [
    "def sp(A, x):\n",
    "    y = A @ x\n",
    "    return abs(y) % 10"
   ]
  },
  {
   "cell_type": "code",
   "execution_count": 5,
   "metadata": {},
   "outputs": [],
   "source": [
    "x = [1,2,3,4,5,6,7,8]\n",
    "A = makemat(len(x))"
   ]
  },
  {
   "cell_type": "code",
   "execution_count": 6,
   "metadata": {},
   "outputs": [
    {
     "data": {
      "text/plain": [
       "array([4, 8, 2, 2, 6, 1, 5, 8])"
      ]
     },
     "execution_count": 6,
     "metadata": {},
     "output_type": "execute_result"
    }
   ],
   "source": [
    "sp(A, x)"
   ]
  },
  {
   "cell_type": "code",
   "execution_count": 7,
   "metadata": {},
   "outputs": [
    {
     "data": {
      "text/plain": [
       "array([2, 4, 1, 7, 6, 1, 7, 6])"
      ]
     },
     "execution_count": 7,
     "metadata": {},
     "output_type": "execute_result"
    }
   ],
   "source": [
    "x = np.array([int(a) for a in '80871224585914546619083218645595'])\n",
    "\n",
    "A = makemat(len(x))\n",
    "\n",
    "for _ in range(100):\n",
    "    x = sp(A, x)\n",
    "\n",
    "x[:8]"
   ]
  },
  {
   "cell_type": "code",
   "execution_count": 8,
   "metadata": {},
   "outputs": [
    {
     "name": "stdout",
     "output_type": "stream",
     "text": [
      "CPU times: user 77.7 ms, sys: 1.1 ms, total: 78.8 ms\n",
      "Wall time: 77.7 ms\n"
     ]
    },
    {
     "data": {
      "text/plain": [
       "array([8, 4, 9, 7, 0, 7, 2, 6])"
      ]
     },
     "execution_count": 8,
     "metadata": {},
     "output_type": "execute_result"
    }
   ],
   "source": [
    "%%time\n",
    "x = np.array([int(a) for a in data])\n",
    "\n",
    "A = makemat(len(x))\n",
    "\n",
    "for _ in range(100):\n",
    "    x = sp(A, x)\n",
    "\n",
    "x[:8]"
   ]
  },
  {
   "cell_type": "markdown",
   "metadata": {},
   "source": [
    "## Part 2"
   ]
  },
  {
   "cell_type": "code",
   "execution_count": 82,
   "metadata": {},
   "outputs": [],
   "source": [
    "def phase(x):\n",
    "    return abs(np.cumsum(x[::-1])[::-1]) % 10 "
   ]
  },
  {
   "cell_type": "code",
   "execution_count": null,
   "metadata": {},
   "outputs": [],
   "source": []
  },
  {
   "cell_type": "code",
   "execution_count": 83,
   "metadata": {},
   "outputs": [],
   "source": [
    "data = '03081770884921959731165446850517'\n",
    "dlen = len(data)\n",
    "offset = int(data[:7])\n",
    "repeat = 10_000\n",
    "assert offset > (dlen * repeat) // 2"
   ]
  },
  {
   "cell_type": "code",
   "execution_count": 84,
   "metadata": {},
   "outputs": [],
   "source": [
    "inp = np.array([int(c) for c in data])"
   ]
  },
  {
   "cell_type": "code",
   "execution_count": 85,
   "metadata": {},
   "outputs": [
    {
     "name": "stdout",
     "output_type": "stream",
     "text": [
      "CPU times: user 578 µs, sys: 32 µs, total: 610 µs\n",
      "Wall time: 382 µs\n"
     ]
    }
   ],
   "source": [
    "%%time\n",
    "xlen = dlen * repeat - offset\n",
    "n, b = divmod(xlen, dlen)\n",
    "x = np.empty(xlen, dtype=int)\n",
    "x[:b] = inp[-b:]\n",
    "for i in range(n):\n",
    "    p = b + dlen * i\n",
    "    q = p + dlen\n",
    "    x[p : q] = inp"
   ]
  },
  {
   "cell_type": "code",
   "execution_count": 86,
   "metadata": {},
   "outputs": [
    {
     "name": "stdout",
     "output_type": "stream",
     "text": [
      "CPU times: user 21.7 ms, sys: 92 µs, total: 21.8 ms\n",
      "Wall time: 20.9 ms\n"
     ]
    }
   ],
   "source": [
    "%%time\n",
    "for _ in range(100):\n",
    "    x = phase(x)"
   ]
  },
  {
   "cell_type": "code",
   "execution_count": 87,
   "metadata": {},
   "outputs": [
    {
     "data": {
      "text/plain": [
       "array([5, 3, 5, 5, 3, 7, 3, 1])"
      ]
     },
     "execution_count": 87,
     "metadata": {},
     "output_type": "execute_result"
    }
   ],
   "source": [
    "x[:8]"
   ]
  },
  {
   "cell_type": "code",
   "execution_count": null,
   "metadata": {},
   "outputs": [],
   "source": []
  },
  {
   "cell_type": "code",
   "execution_count": 88,
   "metadata": {},
   "outputs": [],
   "source": [
    "with open('data/16.txt') as fh:\n",
    "    data = fh.read().strip()\n",
    "dlen = len(data)\n",
    "offset = int(data[:7])\n",
    "repeat = 10_000\n",
    "assert offset > (dlen * repeat) // 2"
   ]
  },
  {
   "cell_type": "code",
   "execution_count": 89,
   "metadata": {},
   "outputs": [
    {
     "data": {
      "text/plain": [
       "array([5, 9, 7, 7, 3, 5, 9, 0])"
      ]
     },
     "execution_count": 89,
     "metadata": {},
     "output_type": "execute_result"
    }
   ],
   "source": [
    "inp = np.array([int(c) for c in data])\n",
    "inp[:8]"
   ]
  },
  {
   "cell_type": "code",
   "execution_count": 90,
   "metadata": {},
   "outputs": [
    {
     "name": "stdout",
     "output_type": "stream",
     "text": [
      "CPU times: user 4.09 ms, sys: 4 µs, total: 4.1 ms\n",
      "Wall time: 3.35 ms\n"
     ]
    }
   ],
   "source": [
    "%%time\n",
    "xlen = dlen * repeat - offset\n",
    "n, b = divmod(xlen, dlen)\n",
    "x = np.empty(xlen, dtype=int)\n",
    "x[:b] = inp[-b:]\n",
    "for i in range(n):\n",
    "    p = b + dlen * i\n",
    "    q = p + dlen\n",
    "    x[p : q] = inp"
   ]
  },
  {
   "cell_type": "code",
   "execution_count": 91,
   "metadata": {},
   "outputs": [
    {
     "name": "stdout",
     "output_type": "stream",
     "text": [
      "CPU times: user 617 ms, sys: 116 ms, total: 734 ms\n",
      "Wall time: 733 ms\n"
     ]
    }
   ],
   "source": [
    "%%time\n",
    "for _ in range(100):\n",
    "    x = phase(x)"
   ]
  },
  {
   "cell_type": "code",
   "execution_count": 92,
   "metadata": {},
   "outputs": [
    {
     "data": {
      "text/plain": [
       "array([4, 7, 6, 6, 4, 4, 6, 9])"
      ]
     },
     "execution_count": 92,
     "metadata": {},
     "output_type": "execute_result"
    }
   ],
   "source": [
    "x[:8]"
   ]
  }
 ],
 "metadata": {
  "kernelspec": {
   "display_name": "Python 3",
   "language": "python",
   "name": "python3"
  },
  "language_info": {
   "codemirror_mode": {
    "name": "ipython",
    "version": 3
   },
   "file_extension": ".py",
   "mimetype": "text/x-python",
   "name": "python",
   "nbconvert_exporter": "python",
   "pygments_lexer": "ipython3",
   "version": "3.7.3"
  }
 },
 "nbformat": 4,
 "nbformat_minor": 2
}
