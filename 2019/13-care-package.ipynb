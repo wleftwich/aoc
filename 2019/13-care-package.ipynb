{
 "cells": [
  {
   "cell_type": "markdown",
   "metadata": {},
   "source": [
    "https://adventofcode.com/2019/day/13"
   ]
  },
  {
   "cell_type": "code",
   "execution_count": 1,
   "metadata": {},
   "outputs": [],
   "source": [
    "import time\n",
    "import numpy as np\n",
    "\n",
    "from IPython.display import clear_output\n",
    "\n",
    "from intcode_computer import Intcode"
   ]
  },
  {
   "cell_type": "code",
   "execution_count": 2,
   "metadata": {},
   "outputs": [],
   "source": [
    "with open('data/13.txt') as fh:\n",
    "    data = fh.read().strip()\n",
    "program = [int(x) for x in data.split(',')]"
   ]
  },
  {
   "cell_type": "code",
   "execution_count": 3,
   "metadata": {},
   "outputs": [
    {
     "data": {
      "text/plain": [
       "2640"
      ]
     },
     "execution_count": 3,
     "metadata": {},
     "output_type": "execute_result"
    }
   ],
   "source": [
    "len(program)"
   ]
  },
  {
   "cell_type": "code",
   "execution_count": 4,
   "metadata": {},
   "outputs": [
    {
     "name": "stdout",
     "output_type": "stream",
     "text": [
      "[1, 380, 379, 385, 1008, 2639, 310356, 381, 1005, 381]\n"
     ]
    }
   ],
   "source": [
    "print(program[:10])"
   ]
  },
  {
   "cell_type": "code",
   "execution_count": 5,
   "metadata": {},
   "outputs": [
    {
     "name": "stdout",
     "output_type": "stream",
     "text": [
      "Game Over\n"
     ]
    }
   ],
   "source": [
    "game = []\n",
    "ic = Intcode(program)\n",
    "# x = ic.step(2)\n",
    "# y = ic.step()\n",
    "# p = ic.step()\n",
    "# game.append((x,y,p))\n",
    "# print('start', game)\n",
    "\n",
    "while True:\n",
    "    try:\n",
    "        x = ic.step()\n",
    "        y = ic.step()\n",
    "        p = ic.step()\n",
    "    except StopIteration:\n",
    "        print(\"Game Over\")\n",
    "        break\n",
    "    game.append((x, y, p))"
   ]
  },
  {
   "cell_type": "code",
   "execution_count": 6,
   "metadata": {},
   "outputs": [
    {
     "data": {
      "text/plain": [
       "1000"
      ]
     },
     "execution_count": 6,
     "metadata": {},
     "output_type": "execute_result"
    }
   ],
   "source": [
    "len(game)"
   ]
  },
  {
   "cell_type": "code",
   "execution_count": 7,
   "metadata": {},
   "outputs": [
    {
     "name": "stdout",
     "output_type": "stream",
     "text": [
      "[(0, 0, 1), (1, 0, 1), (2, 0, 1), (3, 0, 1), (4, 0, 1), (5, 0, 1), (6, 0, 1), (7, 0, 1), (8, 0, 1), (9, 0, 1)]\n"
     ]
    }
   ],
   "source": [
    "print(game[:10])"
   ]
  },
  {
   "cell_type": "code",
   "execution_count": 8,
   "metadata": {},
   "outputs": [],
   "source": [
    "blocks = set()\n",
    "for (x, y, p) in game:\n",
    "    if p == 2:\n",
    "        blocks.add((x, y))\n",
    "    elif p == 4:\n",
    "        blocks.discard((x, y))"
   ]
  },
  {
   "cell_type": "code",
   "execution_count": 9,
   "metadata": {},
   "outputs": [
    {
     "data": {
      "text/plain": [
       "348"
      ]
     },
     "execution_count": 9,
     "metadata": {},
     "output_type": "execute_result"
    }
   ],
   "source": [
    "len(blocks)"
   ]
  },
  {
   "cell_type": "markdown",
   "metadata": {},
   "source": [
    "## Part 2"
   ]
  },
  {
   "cell_type": "code",
   "execution_count": 10,
   "metadata": {},
   "outputs": [],
   "source": [
    "with open('data/13.txt') as fh:\n",
    "    data = fh.read().strip()\n",
    "program = [int(x) for x in data.split(',')]"
   ]
  },
  {
   "cell_type": "code",
   "execution_count": 11,
   "metadata": {},
   "outputs": [],
   "source": [
    "startup = program.copy()\n",
    "freeplay = program.copy()\n",
    "freeplay[0] = 2"
   ]
  },
  {
   "cell_type": "code",
   "execution_count": 12,
   "metadata": {},
   "outputs": [
    {
     "name": "stdout",
     "output_type": "stream",
     "text": [
      "Game Over\n"
     ]
    }
   ],
   "source": [
    "game = []\n",
    "ic = Intcode(startup.copy())\n",
    "while True:\n",
    "    try:\n",
    "        x = ic.step()\n",
    "        y = ic.step()\n",
    "        p = ic.step()\n",
    "    except StopIteration:\n",
    "        print(\"Game Over\")\n",
    "        break\n",
    "    game.append((x, y, p))"
   ]
  },
  {
   "cell_type": "code",
   "execution_count": 13,
   "metadata": {},
   "outputs": [
    {
     "data": {
      "text/plain": [
       "1000"
      ]
     },
     "execution_count": 13,
     "metadata": {},
     "output_type": "execute_result"
    }
   ],
   "source": [
    "len(game)"
   ]
  },
  {
   "cell_type": "code",
   "execution_count": 14,
   "metadata": {},
   "outputs": [
    {
     "data": {
      "text/plain": [
       "[(0, 0, 1), (1, 0, 1), (2, 0, 1), (3, 0, 1), (4, 0, 1)]"
      ]
     },
     "execution_count": 14,
     "metadata": {},
     "output_type": "execute_result"
    }
   ],
   "source": [
    "game[:5]"
   ]
  },
  {
   "cell_type": "code",
   "execution_count": 15,
   "metadata": {},
   "outputs": [
    {
     "data": {
      "text/plain": [
       "1000"
      ]
     },
     "execution_count": 15,
     "metadata": {},
     "output_type": "execute_result"
    }
   ],
   "source": [
    "len(set((x,y) for (x,y,p) in game))"
   ]
  },
  {
   "cell_type": "code",
   "execution_count": 16,
   "metadata": {},
   "outputs": [
    {
     "data": {
      "text/plain": [
       "39"
      ]
     },
     "execution_count": 16,
     "metadata": {},
     "output_type": "execute_result"
    }
   ],
   "source": [
    "max(x for (x,y,p) in game)"
   ]
  },
  {
   "cell_type": "code",
   "execution_count": 17,
   "metadata": {},
   "outputs": [
    {
     "data": {
      "text/plain": [
       "24"
      ]
     },
     "execution_count": 17,
     "metadata": {},
     "output_type": "execute_result"
    }
   ],
   "source": [
    "max(y for (x,y,p) in game)"
   ]
  },
  {
   "cell_type": "code",
   "execution_count": 18,
   "metadata": {},
   "outputs": [],
   "source": [
    "def game2grid(game, rows=25, cols=40):\n",
    "    grid = np.zeros((rows, cols), dtype=int)\n",
    "    for (x, y, p) in game:\n",
    "        if x == -1:\n",
    "            pass\n",
    "#             print('score', p)\n",
    "        else:\n",
    "            grid[y, x] = p\n",
    "    return grid\n",
    "    "
   ]
  },
  {
   "cell_type": "code",
   "execution_count": null,
   "metadata": {},
   "outputs": [],
   "source": []
  },
  {
   "cell_type": "code",
   "execution_count": 19,
   "metadata": {},
   "outputs": [],
   "source": [
    "grid = game2grid(game)"
   ]
  },
  {
   "cell_type": "code",
   "execution_count": 20,
   "metadata": {},
   "outputs": [],
   "source": [
    "symbols = [' ', '.', 'X', '#', '@']\n",
    "def printgrid(grid):\n",
    "    for row in grid:\n",
    "        for p in row:\n",
    "            print(symbols[p], end='')\n",
    "        print()"
   ]
  },
  {
   "cell_type": "code",
   "execution_count": 21,
   "metadata": {},
   "outputs": [
    {
     "name": "stdout",
     "output_type": "stream",
     "text": [
      "........................................\n",
      ".                                      .\n",
      ".    X XXX   X  X XXX  X  X XXXX XXX   .\n",
      ".   XX XXXX X XXXXX X   XXXXXX   X XX  .\n",
      ".  XX X  XX XXX X    XXXX XX X    XXXX .\n",
      ". XX    XXX XXX X  XXXX XXX X XX   XXX .\n",
      ". XXXXXXX X X  X X X X XX X   XX XXX   .\n",
      ".   X  X X  X   XX X     XX X XXX X  X .\n",
      ". X XXX  XX X X   XXXX        X X   XX .\n",
      ".  XXX  XXXX  X  XXXXXX X   XX XXXX X  .\n",
      ".  XX  XX XX  XXX    XX X X X       XX .\n",
      ".  X XXXXXX  XXX  XXXXX  X  X X XX   X .\n",
      ". X X X XXX    X X X XXXXXXXXXXXXX XXX .\n",
      ". XXX XXXXX  XXX     X X XX X    XXXX  .\n",
      ". XXX X X    X  X  XXXXX X X XXX  X  X .\n",
      ".  XXXX XXXX X XX X XX  XXXXX XXXXX XX .\n",
      ". X XXX  X XX XX X  XX XX XX XX XXX X  .\n",
      ". X  XX    X  X XXX XX XXX X X X  XX   .\n",
      ". XXXXXX XX XXX XXXXX X X  XXXXXX   X  .\n",
      ".                                      .\n",
      ".                 @                    .\n",
      ".                                      .\n",
      ".                                      .\n",
      ".                   #                  .\n",
      ".                                      .\n"
     ]
    }
   ],
   "source": [
    "printgrid(grid)"
   ]
  },
  {
   "cell_type": "code",
   "execution_count": null,
   "metadata": {},
   "outputs": [],
   "source": []
  },
  {
   "cell_type": "code",
   "execution_count": 44,
   "metadata": {},
   "outputs": [],
   "source": [
    "ic = Intcode(freeplay.copy())\n",
    "game = []\n",
    "\n",
    "def play(cmd=0, display=False):\n",
    "    x = ic.step(cmd)\n",
    "    y = ic.step()\n",
    "    p = ic.step()\n",
    "    game.append((x, y, p))\n",
    "    if display:\n",
    "        printgrid(game2grid(game))\n",
    "\n",
    "def joystick():\n",
    "    for (x, y, p) in game[: : -1]:\n",
    "        if p == 4:\n",
    "            ballx = x\n",
    "            break\n",
    "    else:\n",
    "        return 0\n",
    "    for (x, y, p) in game[: : -1]:\n",
    "        if p == 3:\n",
    "            paddlex = x\n",
    "            break\n",
    "    else:\n",
    "        return 0\n",
    "    if paddlex < ballx:\n",
    "        return 1\n",
    "    elif paddlex > ballx:\n",
    "        return -1\n",
    "    else:\n",
    "        return 0"
   ]
  },
  {
   "cell_type": "code",
   "execution_count": 148,
   "metadata": {},
   "outputs": [
    {
     "ename": "StopIteration",
     "evalue": "Program has halted",
     "output_type": "error",
     "traceback": [
      "\u001b[0;31m---------------------------------------------------------------------------\u001b[0m",
      "\u001b[0;31mStopIteration\u001b[0m                             Traceback (most recent call last)",
      "\u001b[0;32m<ipython-input-148-e3cd8141e6f1>\u001b[0m in \u001b[0;36m<module>\u001b[0;34m\u001b[0m\n\u001b[1;32m      1\u001b[0m \u001b[0;32mfor\u001b[0m \u001b[0m_\u001b[0m \u001b[0;32min\u001b[0m \u001b[0mrange\u001b[0m\u001b[0;34m(\u001b[0m\u001b[0;36m999\u001b[0m\u001b[0;34m)\u001b[0m\u001b[0;34m:\u001b[0m\u001b[0;34m\u001b[0m\u001b[0;34m\u001b[0m\u001b[0m\n\u001b[0;32m----> 2\u001b[0;31m     \u001b[0mplay\u001b[0m\u001b[0;34m(\u001b[0m\u001b[0mjoystick\u001b[0m\u001b[0;34m(\u001b[0m\u001b[0;34m)\u001b[0m\u001b[0;34m)\u001b[0m\u001b[0;34m\u001b[0m\u001b[0;34m\u001b[0m\u001b[0m\n\u001b[0m\u001b[1;32m      3\u001b[0m \u001b[0mprintgrid\u001b[0m\u001b[0;34m(\u001b[0m\u001b[0mgame2grid\u001b[0m\u001b[0;34m(\u001b[0m\u001b[0mgame\u001b[0m\u001b[0;34m)\u001b[0m\u001b[0;34m)\u001b[0m\u001b[0;34m\u001b[0m\u001b[0;34m\u001b[0m\u001b[0m\n",
      "\u001b[0;32m<ipython-input-44-5745159ffc44>\u001b[0m in \u001b[0;36mplay\u001b[0;34m(cmd, display)\u001b[0m\n\u001b[1;32m      4\u001b[0m \u001b[0;32mdef\u001b[0m \u001b[0mplay\u001b[0m\u001b[0;34m(\u001b[0m\u001b[0mcmd\u001b[0m\u001b[0;34m=\u001b[0m\u001b[0;36m0\u001b[0m\u001b[0;34m,\u001b[0m \u001b[0mdisplay\u001b[0m\u001b[0;34m=\u001b[0m\u001b[0;32mFalse\u001b[0m\u001b[0;34m)\u001b[0m\u001b[0;34m:\u001b[0m\u001b[0;34m\u001b[0m\u001b[0;34m\u001b[0m\u001b[0m\n\u001b[1;32m      5\u001b[0m     \u001b[0mx\u001b[0m \u001b[0;34m=\u001b[0m \u001b[0mic\u001b[0m\u001b[0;34m.\u001b[0m\u001b[0mstep\u001b[0m\u001b[0;34m(\u001b[0m\u001b[0mcmd\u001b[0m\u001b[0;34m)\u001b[0m\u001b[0;34m\u001b[0m\u001b[0;34m\u001b[0m\u001b[0m\n\u001b[0;32m----> 6\u001b[0;31m     \u001b[0my\u001b[0m \u001b[0;34m=\u001b[0m \u001b[0mic\u001b[0m\u001b[0;34m.\u001b[0m\u001b[0mstep\u001b[0m\u001b[0;34m(\u001b[0m\u001b[0;34m)\u001b[0m\u001b[0;34m\u001b[0m\u001b[0;34m\u001b[0m\u001b[0m\n\u001b[0m\u001b[1;32m      7\u001b[0m     \u001b[0mp\u001b[0m \u001b[0;34m=\u001b[0m \u001b[0mic\u001b[0m\u001b[0;34m.\u001b[0m\u001b[0mstep\u001b[0m\u001b[0;34m(\u001b[0m\u001b[0;34m)\u001b[0m\u001b[0;34m\u001b[0m\u001b[0;34m\u001b[0m\u001b[0m\n\u001b[1;32m      8\u001b[0m     \u001b[0mgame\u001b[0m\u001b[0;34m.\u001b[0m\u001b[0mappend\u001b[0m\u001b[0;34m(\u001b[0m\u001b[0;34m(\u001b[0m\u001b[0mx\u001b[0m\u001b[0;34m,\u001b[0m \u001b[0my\u001b[0m\u001b[0;34m,\u001b[0m \u001b[0mp\u001b[0m\u001b[0;34m)\u001b[0m\u001b[0;34m)\u001b[0m\u001b[0;34m\u001b[0m\u001b[0;34m\u001b[0m\u001b[0m\n",
      "\u001b[0;32m~/aoc2019/intcode_computer.py\u001b[0m in \u001b[0;36mstep\u001b[0;34m(self, inp)\u001b[0m\n\u001b[1;32m     29\u001b[0m     \u001b[0;32mdef\u001b[0m \u001b[0mstep\u001b[0m\u001b[0;34m(\u001b[0m\u001b[0mself\u001b[0m\u001b[0;34m,\u001b[0m \u001b[0minp\u001b[0m\u001b[0;34m=\u001b[0m\u001b[0;32mNone\u001b[0m\u001b[0;34m)\u001b[0m\u001b[0;34m:\u001b[0m\u001b[0;34m\u001b[0m\u001b[0;34m\u001b[0m\u001b[0m\n\u001b[1;32m     30\u001b[0m         \u001b[0;32mif\u001b[0m \u001b[0mself\u001b[0m\u001b[0;34m.\u001b[0m\u001b[0mhalted\u001b[0m\u001b[0;34m:\u001b[0m\u001b[0;34m\u001b[0m\u001b[0;34m\u001b[0m\u001b[0m\n\u001b[0;32m---> 31\u001b[0;31m             \u001b[0;32mraise\u001b[0m \u001b[0mStopIteration\u001b[0m\u001b[0;34m(\u001b[0m\u001b[0;34m\"Program has halted\"\u001b[0m\u001b[0;34m)\u001b[0m\u001b[0;34m\u001b[0m\u001b[0;34m\u001b[0m\u001b[0m\n\u001b[0m\u001b[1;32m     32\u001b[0m         \u001b[0;32mif\u001b[0m \u001b[0mself\u001b[0m\u001b[0;34m.\u001b[0m\u001b[0mpos\u001b[0m \u001b[0;32mis\u001b[0m \u001b[0;32mNone\u001b[0m\u001b[0;34m:\u001b[0m\u001b[0;34m\u001b[0m\u001b[0;34m\u001b[0m\u001b[0m\n\u001b[1;32m     33\u001b[0m             \u001b[0;32mreturn\u001b[0m \u001b[0mself\u001b[0m\u001b[0;34m.\u001b[0m\u001b[0moutput\u001b[0m\u001b[0;34m\u001b[0m\u001b[0;34m\u001b[0m\u001b[0m\n",
      "\u001b[0;31mStopIteration\u001b[0m: Program has halted"
     ]
    }
   ],
   "source": [
    "for _ in range(999):\n",
    "    play(joystick())\n",
    "printgrid(game2grid(game))"
   ]
  },
  {
   "cell_type": "code",
   "execution_count": 24,
   "metadata": {},
   "outputs": [
    {
     "name": "stdout",
     "output_type": "stream",
     "text": [
      "........................................\n",
      ".                                      .\n",
      ".    X XXX   X  X XXX  X  X XXXX XXX   .\n",
      ".   XX XXXX X XXXXX X   XXXXXX   X XX  .\n",
      ".  XX X  XX XXX X    XXXX XX X    XXXX .\n",
      ". XX    XXX XXX X  XXXX XXX X XX   XXX .\n",
      ". XXXXXXX X X  X X X X XX X   XX XXX   .\n",
      ".   X  X X  X   XX X     XX X XXX X  X .\n",
      ". X XXX  XX X X   XXXX        X X   XX .\n",
      ".  XXX  XXXX  X  XXXXXX X   XX XXXX X  .\n",
      ".  XX  XX XX  XXX    XX X X X       XX .\n",
      ".  X XXXXXX  XXX  XXXXX  X  X X XX   X .\n",
      ". X X X XXX    X X X XXXXXXXXXXXXX XXX .\n",
      ". XXX XXXXX  XXX     X X XX X    XXXX  .\n",
      ". XXX X X    X  X  XXXXX X X XXX  X  X .\n",
      ".  XXXX XXXX X XX X XX  XXXXX XXXXX XX .\n",
      ". X XXX  X XX XX X  XX XX XX XX XXX X  .\n",
      ". X  XX    X  X XXX XX XXX X X X  XX   .\n",
      ". XXXXXX XX XXX XXXXX X X  XXXXXX   X  .\n",
      ".                                      .\n",
      ".                 @                    .\n",
      ".                                      .\n",
      ".                                      .\n",
      ".                   #                  .\n",
      ".                                      .\n"
     ]
    }
   ],
   "source": [
    "printgrid(game2grid(game))"
   ]
  },
  {
   "cell_type": "code",
   "execution_count": 149,
   "metadata": {},
   "outputs": [
    {
     "data": {
      "text/plain": [
       "[(-1, 0, 16746),\n",
       " (-1, 0, 16748),\n",
       " (-1, 0, 16844),\n",
       " (-1, 0, 16934),\n",
       " (-1, 0, 16999)]"
      ]
     },
     "execution_count": 149,
     "metadata": {},
     "output_type": "execute_result"
    }
   ],
   "source": [
    "[(x,y,p) for (x,y,p) in game[-1000:] if x == -1]"
   ]
  }
 ],
 "metadata": {
  "kernelspec": {
   "display_name": "Python 3",
   "language": "python",
   "name": "python3"
  },
  "language_info": {
   "codemirror_mode": {
    "name": "ipython",
    "version": 3
   },
   "file_extension": ".py",
   "mimetype": "text/x-python",
   "name": "python",
   "nbconvert_exporter": "python",
   "pygments_lexer": "ipython3",
   "version": "3.7.3"
  }
 },
 "nbformat": 4,
 "nbformat_minor": 2
}
