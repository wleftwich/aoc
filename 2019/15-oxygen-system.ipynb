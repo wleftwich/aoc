{
 "cells": [
  {
   "cell_type": "markdown",
   "metadata": {},
   "source": [
    "https://adventofcode.com/2019/day/15"
   ]
  },
  {
   "cell_type": "code",
   "execution_count": 1,
   "metadata": {},
   "outputs": [],
   "source": [
    "import networkx as nx\n",
    "from intcode_computer import Intcode"
   ]
  },
  {
   "cell_type": "code",
   "execution_count": 2,
   "metadata": {},
   "outputs": [],
   "source": [
    "with open('data/15.txt') as fh:\n",
    "    data = fh.read().strip()"
   ]
  },
  {
   "cell_type": "code",
   "execution_count": 131,
   "metadata": {},
   "outputs": [],
   "source": [
    "class Droid:\n",
    "    def __init__(self, data=data):\n",
    "        self.ic = Intcode([int(x) for x in data.split(',')])\n",
    "    \n",
    "    def pos2move(self, oldpos, newpos):\n",
    "       \n",
    "        if oldpos == newpos:\n",
    "            return\n",
    "        \n",
    "        x1, y1 = oldpos\n",
    "        x2, y2 = newpos\n",
    "        \n",
    "        if abs(x2 - x1) + abs(y2 - y1) > 1:\n",
    "            raise TooFarError(f\"Move not possible: {oldpos} to {newpos}\")\n",
    "        \n",
    "        if y2 - y1 == 1:\n",
    "            m = 1\n",
    "        elif y1 - y2 == 1:\n",
    "            m = 2\n",
    "        elif x2 - x1 == 1:\n",
    "            m = 3\n",
    "        elif x1 - x2 == 1:\n",
    "            m = 4\n",
    "        else:\n",
    "            raise IndexError(\"pos2move can't happen\")\n",
    "        return m    \n",
    "        \n",
    "        \n",
    "    def move(self, oldpos, newpos):\n",
    "        if oldpos == newpos:\n",
    "            print(f\"Staying at {oldpos}\")\n",
    "            return\n",
    "        return self.ic.step(self.pos2move(oldpos, newpos))\n",
    "     \n",
    "\n",
    "class DroidError(Exception):\n",
    "    pass\n",
    "\n",
    "class TooFarError(Exception):\n",
    "    pass"
   ]
  },
  {
   "cell_type": "code",
   "execution_count": null,
   "metadata": {},
   "outputs": [],
   "source": []
  },
  {
   "cell_type": "markdown",
   "metadata": {},
   "source": [
    "## DFS"
   ]
  },
  {
   "cell_type": "code",
   "execution_count": null,
   "metadata": {},
   "outputs": [],
   "source": []
  },
  {
   "cell_type": "code",
   "execution_count": 91,
   "metadata": {},
   "outputs": [],
   "source": [
    "def listnabes(pos):\n",
    "    x, y = pos\n",
    "    return [(x, y+1), (x+1, y), (x, y-1), (x-1, y)]"
   ]
  },
  {
   "cell_type": "code",
   "execution_count": 193,
   "metadata": {},
   "outputs": [
    {
     "name": "stdout",
     "output_type": "stream",
     "text": [
      "Staying at (0, 0)\n",
      "200\n",
      "400\n",
      "600\n",
      "600\n",
      "700\n",
      "900\n",
      "1100\n",
      "1400\n",
      "1500\n"
     ]
    }
   ],
   "source": [
    "dd = Droid()\n",
    "frontier = [(0,0)]\n",
    "visited = {(0,0): 1}\n",
    "G = nx.Graph()\n",
    "G.add_node((0,0), r=1)\n",
    "\n",
    "oldpos = (0, 0)\n",
    "while frontier:\n",
    "    pos = frontier.pop()\n",
    "    try:\n",
    "        dd.move(oldpos, pos)\n",
    "    except TooFarError:\n",
    "#         print(\"Too far, looking for shortest path now\")\n",
    "        a = oldpos\n",
    "        b = pos\n",
    "        sp = nx.shortest_path(G, oldpos, pos)\n",
    "#         print(\"shortest path\", sp)\n",
    "        for n in sp[1:]:\n",
    "#             print(n)\n",
    "            dd.move(a, n)\n",
    "            a = n\n",
    "    for nabe in listnabes(pos):\n",
    "        if nabe in visited:\n",
    "            continue\n",
    "        r = dd.move(pos, nabe)\n",
    "        if r is None:\n",
    "            print(\"droid's ic says 99\")\n",
    "            break\n",
    "        visited[nabe] = r\n",
    "        if r == 2:\n",
    "            O2 = nabe\n",
    "        if r != 0:\n",
    "            G.add_node(nabe, r=r)\n",
    "            G.add_edge(pos, nabe)\n",
    "            dd.move(nabe, pos)\n",
    "            frontier.append(nabe)\n",
    "    oldpos = pos\n",
    "    if len(visited) % 100 == 0:\n",
    "        print(len(visited))"
   ]
  },
  {
   "cell_type": "code",
   "execution_count": 194,
   "metadata": {},
   "outputs": [
    {
     "name": "stdout",
     "output_type": "stream",
     "text": [
      "#...#...........#...#.............#.....\n",
      " ##.#.###.#####.#.#.#######.#####.#####.\n",
      "#...#.#.#.#.......#.........#.....#...#.\n",
      "#.###.#.#.###.###############.#####.#.#.\n",
      "#.....#.#...#...#.......#.#.........#...\n",
      "#.#####.###.###.#.#####.#.#.#######.####\n",
      "#.....#...#.#.#.#.#.....#.#.#.....#.#...\n",
      " ####.#.#.#.#.#.#.#.#####.#.#.###.###.#.\n",
      "#.......#.#.#...#.#.#.....#.#.#.#.....#.\n",
      "#.#########.#####.#.#.#.###.#.#.#######.\n",
      "#.#.......#.#.....#.#.#.....#.#.#...#...\n",
      "#.#.#####.#.#.#####.#####.###.#.#.#.#.#.\n",
      "#.#.#...#.#.......#.....#...#...#.#...#.\n",
      "#.#.#.#.#.#######.#####.#######.#.######\n",
      "#.#.#.#.#...#...#.....#.......#.#...#...\n",
      "#.#.###.###.#.#.#######.###.###.###.#.#.\n",
      "#.#.....#.#...#...#...#...#...#...#...#.\n",
      " ######.#.#### ##.#.#.#####.#.###.#####.\n",
      "#.....#.#.....#.#...#.#...#.#.#...#.....\n",
      "#.###.#.#.###.#.#####.#.#.###.#.###.###.\n",
      "#.#.#...#.#.#.#.#...#.#.#.....#...#.#...\n",
      "#.#.#####.#.#.#.#.###.#.#########.#.#.##\n",
      "#.....#...#.#...#.....#.#.........#.#...\n",
      " ####.#.###.###.#######.#.#########.###.\n",
      "#.....#.#.....#.....#.............#.#.#.\n",
      "#.#####.#.#.#######.#######.#######.#.#.\n",
      "#.#.....#.#.....#...#.....#.#.......#...\n",
      "#.#####.#####.#.#.###.###.###.#######.##\n",
      "#.......#.....#.#...#.#.#...#.#.......#.\n",
      " ########.#.#######.#.#.###.#.#.#######.\n",
      "#.....#...#.#.....#...#.....#.#.........\n",
      "#.###.###.#.#.###.#####.#####.#########.\n",
      "#.#@#.....#.#.#.#.......#...#.........#.\n",
      "#.#.#######.#.#.#########.#.#.#######.##\n",
      "#.#.........#...#.........#.#...#...#...\n",
      "#.#######.#####.#########.#.###.###.###.\n",
      "#.......#.....#.#...#...#.#...........#.\n",
      "#.#####.#######.#.#.#.#.###############.\n",
      "#.....#...........#...#.................\n",
      " ##### ########### ### #################\n"
     ]
    }
   ],
   "source": [
    "printmaze(visited)"
   ]
  },
  {
   "cell_type": "code",
   "execution_count": 195,
   "metadata": {},
   "outputs": [
    {
     "data": {
      "text/plain": [
       "1659"
      ]
     },
     "execution_count": 195,
     "metadata": {},
     "output_type": "execute_result"
    }
   ],
   "source": [
    "len(visited)"
   ]
  },
  {
   "cell_type": "code",
   "execution_count": 196,
   "metadata": {},
   "outputs": [
    {
     "data": {
      "text/plain": [
       "(-16, -12)"
      ]
     },
     "execution_count": 196,
     "metadata": {},
     "output_type": "execute_result"
    }
   ],
   "source": [
    "O2"
   ]
  },
  {
   "cell_type": "code",
   "execution_count": 197,
   "metadata": {},
   "outputs": [
    {
     "data": {
      "text/plain": [
       "228"
      ]
     },
     "execution_count": 197,
     "metadata": {},
     "output_type": "execute_result"
    }
   ],
   "source": [
    "len(nx.shortest_path(G, (0,0), O2)) - 1"
   ]
  },
  {
   "cell_type": "code",
   "execution_count": 198,
   "metadata": {},
   "outputs": [
    {
     "data": {
      "text/plain": [
       "799"
      ]
     },
     "execution_count": 198,
     "metadata": {},
     "output_type": "execute_result"
    }
   ],
   "source": [
    "len(G)"
   ]
  },
  {
   "cell_type": "code",
   "execution_count": 109,
   "metadata": {},
   "outputs": [],
   "source": [
    "def printmaze(D):\n",
    "    points = list(D.keys())\n",
    "    ymax = max(y for (x,y) in points)\n",
    "    ymin = min(y for (x, y) in points)\n",
    "    xmax = max(x for (x,y) in points)\n",
    "    xmin = min(x for (x, y) in points)\n",
    "    \n",
    "    for y in reversed(range(ymin, ymax)):\n",
    "        for x in range(xmin, xmax):\n",
    "            v = D.get((x, y))\n",
    "            if v is None:\n",
    "                pt = ' '\n",
    "            elif v == 0:\n",
    "                pt = '#'\n",
    "            elif v == 1:\n",
    "                pt = '.'\n",
    "            elif v == 2:\n",
    "                pt = '@'\n",
    "            else:\n",
    "                raise IndexError(\"Bad point val\")\n",
    "            print(pt, end='')\n",
    "        print()"
   ]
  },
  {
   "cell_type": "markdown",
   "metadata": {},
   "source": [
    "## Part 2"
   ]
  },
  {
   "cell_type": "code",
   "execution_count": 199,
   "metadata": {},
   "outputs": [
    {
     "data": {
      "text/plain": [
       "[(-16, -13)]"
      ]
     },
     "execution_count": 199,
     "metadata": {},
     "output_type": "execute_result"
    }
   ],
   "source": [
    "list(nx.neighbors(G, O2))"
   ]
  },
  {
   "cell_type": "code",
   "execution_count": 205,
   "metadata": {},
   "outputs": [
    {
     "data": {
      "text/plain": [
       "[(-16, -14), (-16, -12)]"
      ]
     },
     "execution_count": 205,
     "metadata": {},
     "output_type": "execute_result"
    }
   ],
   "source": [
    "list(nx.neighbors(G, (-16,-13)))"
   ]
  },
  {
   "cell_type": "code",
   "execution_count": 206,
   "metadata": {},
   "outputs": [],
   "source": [
    "breathable = {O2}\n",
    "i = 0\n",
    "spaces = len(G)\n",
    "while len(breathable) < spaces:\n",
    "    for node in list(breathable):\n",
    "        for nabe in nx.neighbors(G, node):\n",
    "            breathable.add(nabe)\n",
    "    i += 1"
   ]
  },
  {
   "cell_type": "code",
   "execution_count": 207,
   "metadata": {},
   "outputs": [
    {
     "data": {
      "text/plain": [
       "348"
      ]
     },
     "execution_count": 207,
     "metadata": {},
     "output_type": "execute_result"
    }
   ],
   "source": [
    "i"
   ]
  }
 ],
 "metadata": {
  "kernelspec": {
   "display_name": "Python 3",
   "language": "python",
   "name": "python3"
  },
  "language_info": {
   "codemirror_mode": {
    "name": "ipython",
    "version": 3
   },
   "file_extension": ".py",
   "mimetype": "text/x-python",
   "name": "python",
   "nbconvert_exporter": "python",
   "pygments_lexer": "ipython3",
   "version": "3.7.3"
  }
 },
 "nbformat": 4,
 "nbformat_minor": 2
}
