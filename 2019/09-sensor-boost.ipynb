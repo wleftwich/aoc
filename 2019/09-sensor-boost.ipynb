{
 "cells": [
  {
   "cell_type": "code",
   "execution_count": 1,
   "metadata": {},
   "outputs": [],
   "source": [
    "url = 'https://adventofcode.com/2019/day/9'"
   ]
  },
  {
   "cell_type": "code",
   "execution_count": 2,
   "metadata": {},
   "outputs": [],
   "source": [
    "from intcode_computer import Intcode"
   ]
  },
  {
   "cell_type": "code",
   "execution_count": 3,
   "metadata": {},
   "outputs": [],
   "source": [
    "with open('data/09.txt') as fh:\n",
    "    data = fh.read().strip() "
   ]
  },
  {
   "cell_type": "code",
   "execution_count": 4,
   "metadata": {},
   "outputs": [],
   "source": [
    "program = [int(x) for x in data.split(',')]"
   ]
  },
  {
   "cell_type": "code",
   "execution_count": 5,
   "metadata": {},
   "outputs": [
    {
     "name": "stdout",
     "output_type": "stream",
     "text": [
      "Output 2 109\n",
      "Output 2 1\n",
      "Output 2 204\n",
      "Output 2 -1\n",
      "Output 2 1001\n",
      "Output 2 100\n",
      "Output 2 1\n",
      "Output 2 100\n",
      "Output 2 1008\n",
      "Output 2 100\n",
      "Output 2 16\n",
      "Output 2 101\n",
      "Output 2 1006\n",
      "Output 2 101\n",
      "Output 2 0\n",
      "Output 2 99\n"
     ]
    },
    {
     "data": {
      "text/plain": [
       "99"
      ]
     },
     "execution_count": 5,
     "metadata": {},
     "output_type": "execute_result"
    }
   ],
   "source": [
    "ic = Intcode([109,1,204,-1,1001,100,1,100,1008,100,16,101,1006,101,0,99], verbose=True)\n",
    "ic.run()"
   ]
  },
  {
   "cell_type": "code",
   "execution_count": 6,
   "metadata": {},
   "outputs": [
    {
     "name": "stdout",
     "output_type": "stream",
     "text": [
      "Output 4 1219070632396864\n"
     ]
    },
    {
     "data": {
      "text/plain": [
       "1219070632396864"
      ]
     },
     "execution_count": 6,
     "metadata": {},
     "output_type": "execute_result"
    }
   ],
   "source": [
    "ic = Intcode([1102,34915192,34915192,7,4,7,99,0], verbose=True)\n",
    "ic.run()"
   ]
  },
  {
   "cell_type": "code",
   "execution_count": 7,
   "metadata": {},
   "outputs": [
    {
     "name": "stdout",
     "output_type": "stream",
     "text": [
      "Output 0 1125899906842624\n"
     ]
    },
    {
     "data": {
      "text/plain": [
       "1125899906842624"
      ]
     },
     "execution_count": 7,
     "metadata": {},
     "output_type": "execute_result"
    }
   ],
   "source": [
    "ic = Intcode([104,1125899906842624,99], verbose=True)\n",
    "ic.run()"
   ]
  },
  {
   "cell_type": "code",
   "execution_count": 8,
   "metadata": {},
   "outputs": [
    {
     "name": "stdout",
     "output_type": "stream",
     "text": [
      "Output 899 4288078517\n"
     ]
    },
    {
     "data": {
      "text/plain": [
       "4288078517"
      ]
     },
     "execution_count": 8,
     "metadata": {},
     "output_type": "execute_result"
    }
   ],
   "source": [
    "ic = Intcode(program.copy(), verbose=True)\n",
    "ic.run(1)"
   ]
  },
  {
   "cell_type": "code",
   "execution_count": 9,
   "metadata": {},
   "outputs": [
    {
     "name": "stdout",
     "output_type": "stream",
     "text": [
      "Output 917 69256\n",
      "CPU times: user 1.07 s, sys: 0 ns, total: 1.07 s\n",
      "Wall time: 1.07 s\n"
     ]
    },
    {
     "data": {
      "text/plain": [
       "69256"
      ]
     },
     "execution_count": 9,
     "metadata": {},
     "output_type": "execute_result"
    }
   ],
   "source": [
    "%%time\n",
    "ic = Intcode(program.copy(), verbose=True)\n",
    "ic.run(2)"
   ]
  }
 ],
 "metadata": {
  "kernelspec": {
   "display_name": "Python 3",
   "language": "python",
   "name": "python3"
  },
  "language_info": {
   "codemirror_mode": {
    "name": "ipython",
    "version": 3
   },
   "file_extension": ".py",
   "mimetype": "text/x-python",
   "name": "python",
   "nbconvert_exporter": "python",
   "pygments_lexer": "ipython3",
   "version": "3.7.3"
  }
 },
 "nbformat": 4,
 "nbformat_minor": 2
}
