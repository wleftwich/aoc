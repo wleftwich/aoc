{
 "cells": [
  {
   "cell_type": "markdown",
   "metadata": {},
   "source": [
    "https://adventofcode.com/2018/day/15"
   ]
  },
  {
   "cell_type": "code",
   "execution_count": 1,
   "metadata": {},
   "outputs": [],
   "source": [
    "from dataclasses import dataclass\n",
    "\n",
    "import networkx as nx\n",
    "from toolz import concat"
   ]
  },
  {
   "cell_type": "code",
   "execution_count": 2,
   "metadata": {},
   "outputs": [],
   "source": [
    "with open('data/15-1.txt') as fh:\n",
    "    data = fh.read()"
   ]
  },
  {
   "cell_type": "code",
   "execution_count": 3,
   "metadata": {},
   "outputs": [
    {
     "name": "stdout",
     "output_type": "stream",
     "text": [
      "################################\n",
      "#####################...########\n",
      "###################....G########\n",
      "###################....#########\n",
      "#######.##########......########\n",
      "#######G#########........#######\n",
      "#######G#######.G.........######\n",
      "#######.######..G.........######\n",
      "#######.......##.G...G.G..######\n",
      "########..##..#....G......G#####\n",
      "############...#.....G.....#####\n",
      "#...#######..........G.#...#####\n",
      "#...#######...#####G......######\n",
      "##...######..#######G.....#.##.#\n",
      "###.G.#####.#########G.........#\n",
      "###G..#####.#########.......#.E#\n",
      "###..######.#########..........#\n",
      "###.......#.#########.....E..E.#\n",
      "#####G...#..#########.......#..#\n",
      "####.G.#.#...#######.....G.....#\n",
      "########......#####...........##\n",
      "###########..................###\n",
      "##########.................#####\n",
      "##########.................#####\n",
      "############..E.........E.....##\n",
      "############.........E........##\n",
      "###############.#............E##\n",
      "##################...E..E..##.##\n",
      "####################.#E..####.##\n",
      "################.....######...##\n",
      "#################.#..###########\n",
      "################################\n",
      "\n"
     ]
    }
   ],
   "source": [
    "print(data)"
   ]
  },
  {
   "cell_type": "code",
   "execution_count": 4,
   "metadata": {},
   "outputs": [],
   "source": [
    "@dataclass(repr=True, order=True, frozen=True)\n",
    "class Pt:\n",
    "    row: int\n",
    "    col: int\n",
    "\n",
    "    @property\n",
    "    def neighbors(self):\n",
    "        \"\"\"Sorted neighbor coords\"\"\"\n",
    "        return [\n",
    "            Pt(self.row - 1, self.col),\n",
    "            Pt(self.row, self.col - 1),\n",
    "            Pt(self.row, self.col + 1),\n",
    "            Pt(self.row + 1, self.col)\n",
    "        ]\n",
    "\n",
    "\n",
    "@dataclass(repr=True)\n",
    "class Fighter:\n",
    "    team: str\n",
    "    hp: int = 200\n",
    "    ap: int = 3\n",
    "    alive: bool = True\n",
    "    \n",
    "    \n",
    "class GameOver(Exception):\n",
    "    pass"
   ]
  },
  {
   "cell_type": "code",
   "execution_count": 5,
   "metadata": {},
   "outputs": [],
   "source": [
    "def load_data(data):\n",
    "    cave = nx.Graph()\n",
    "    fighters = {}\n",
    "    for i, line in enumerate(data.split('\\n')):\n",
    "        for j, c in enumerate(line):\n",
    "            if c in ('.', 'G', 'E'):\n",
    "                pt = Pt(i, j)\n",
    "                cave.add_node(pt)\n",
    "                if c in ('G', 'E'):\n",
    "                    fighters[pt] = Fighter(c)\n",
    "    \n",
    "    for pt in cave:\n",
    "        for nabe in pt.neighbors:\n",
    "            if nabe in cave:\n",
    "                cave.add_edge(pt, nabe)\n",
    "    \n",
    "    return cave, fighters\n"
   ]
  },
  {
   "cell_type": "code",
   "execution_count": 6,
   "metadata": {},
   "outputs": [],
   "source": [
    "cave, fighters = load_data(data)"
   ]
  },
  {
   "cell_type": "code",
   "execution_count": 12,
   "metadata": {},
   "outputs": [],
   "source": [
    "def turn(mypt, cave, fighters):\n",
    "    try:\n",
    "        me = fighters[mypt]\n",
    "    except KeyError:\n",
    "#         print(mypt, \"can't move, is already dead\")\n",
    "        return\n",
    "    enemy_team = 'G' if me.team == 'E' else 'E'\n",
    "    enemies = {k:v for k, v in fighters.items() if v.team == enemy_team}\n",
    "    if not enemies:\n",
    "        raise GameOver\n",
    "\n",
    "    def attack(attackerpt, defenderpt):\n",
    "        attacker, defender = fighters[attackerpt], fighters[defenderpt]\n",
    "        defender.hp -= attacker.ap\n",
    "        if defender.hp <= 0:\n",
    "            defender.alive = False\n",
    "            del fighters[defenderpt]\n",
    "            del enemies[defenderpt]\n",
    "\n",
    "    attackable = [(enemies[nabe].hp, nabe) for nabe in mypt.neighbors if nabe in enemies and nabe in cave]        \n",
    "    if attackable:\n",
    "        _, defenderpt = min(attackable)\n",
    "        attack(mypt, defenderpt)\n",
    "        return\n",
    "        \n",
    "    other_fighters = {k for k in fighters if k != mypt}\n",
    "    attack_pts = set(ap for ap in set(concat(e.neighbors for e in enemies))\n",
    "                    if ap in cave and ap not in other_fighters)\n",
    "    if not attack_pts:\n",
    "        return\n",
    "\n",
    "    cavecopy = cave.copy()\n",
    "    cavecopy.remove_nodes_from(other_fighters)\n",
    "        \n",
    "    attack_pt_distances = []\n",
    "    for ap in attack_pts:\n",
    "        try:\n",
    "            d = nx.shortest_path_length(cavecopy, mypt, ap)\n",
    "        except nx.NetworkXNoPath:\n",
    "            continue\n",
    "        attack_pt_distances.append((d, ap))\n",
    "    if not attack_pt_distances:\n",
    "        return\n",
    "    attack_pt_distances.sort()\n",
    "    _, attack_pt = min(attack_pt_distances)\n",
    "\n",
    "    nabe_attack_pt_distances = []\n",
    "    for nabe in mypt.neighbors:\n",
    "        if nabe not in cavecopy:\n",
    "            continue\n",
    "        try:\n",
    "            d = nx.shortest_path_length(cavecopy, nabe, attack_pt)\n",
    "        except nx.NetworkXNoPath:\n",
    "            continue\n",
    "        nabe_attack_pt_distances.append((d, nabe))\n",
    "    _, moveto = min(nabe_attack_pt_distances)\n",
    "    \n",
    "    fighters[moveto] = fighters[mypt]\n",
    "    del fighters[mypt]\n",
    "    mypt = moveto\n",
    "\n",
    "    attackable = [(enemies[nabe].hp, nabe) for nabe in mypt.neighbors if nabe in enemies and nabe in cave]        \n",
    "    if attackable:\n",
    "        _, defenderpt = min(attackable)\n",
    "        attack(mypt, defenderpt)\n"
   ]
  },
  {
   "cell_type": "code",
   "execution_count": 8,
   "metadata": {},
   "outputs": [],
   "source": [
    "def round(cave, fighters):\n",
    "    for pt in sorted(fighters.keys()):\n",
    "        turn(pt, cave, fighters)"
   ]
  },
  {
   "cell_type": "code",
   "execution_count": 9,
   "metadata": {},
   "outputs": [
    {
     "data": {
      "text/plain": [
       "[Pt(row=2, col=23),\n",
       " Pt(row=5, col=7),\n",
       " Pt(row=6, col=7),\n",
       " Pt(row=6, col=16),\n",
       " Pt(row=7, col=16),\n",
       " Pt(row=8, col=17),\n",
       " Pt(row=8, col=21),\n",
       " Pt(row=8, col=23),\n",
       " Pt(row=9, col=19),\n",
       " Pt(row=9, col=26),\n",
       " Pt(row=10, col=21),\n",
       " Pt(row=11, col=21),\n",
       " Pt(row=12, col=19),\n",
       " Pt(row=13, col=20),\n",
       " Pt(row=14, col=4),\n",
       " Pt(row=14, col=21),\n",
       " Pt(row=15, col=3),\n",
       " Pt(row=15, col=30),\n",
       " Pt(row=17, col=26),\n",
       " Pt(row=17, col=29),\n",
       " Pt(row=18, col=5),\n",
       " Pt(row=19, col=5),\n",
       " Pt(row=19, col=25),\n",
       " Pt(row=24, col=14),\n",
       " Pt(row=24, col=24),\n",
       " Pt(row=25, col=21),\n",
       " Pt(row=26, col=29),\n",
       " Pt(row=27, col=21),\n",
       " Pt(row=27, col=24),\n",
       " Pt(row=28, col=22)]"
      ]
     },
     "execution_count": 9,
     "metadata": {},
     "output_type": "execute_result"
    }
   ],
   "source": [
    "sorted(fighters.keys())"
   ]
  },
  {
   "cell_type": "code",
   "execution_count": 10,
   "metadata": {},
   "outputs": [],
   "source": [
    "testdata = \"\"\"\\\n",
    "#######\n",
    "#G......#\n",
    "#.E.#...#\n",
    "#..##..G#\n",
    "#...##..#\n",
    "#...#...#\n",
    "#.G...G.#\n",
    "#.....G.#\n",
    "#######\"\"\""
   ]
  },
  {
   "cell_type": "code",
   "execution_count": 13,
   "metadata": {},
   "outputs": [
    {
     "name": "stdout",
     "output_type": "stream",
     "text": [
      "82 2459 201638\n"
     ]
    }
   ],
   "source": [
    "(cave, fighters) = load_data(data)\n",
    "\n",
    "for i in range(1_000_000):\n",
    "    try:\n",
    "        round(cave, fighters)\n",
    "    except GameOver:\n",
    "        hps = sum(v.hp for v in fighters.values() if v.alive)\n",
    "        print(i, hps, i * hps)\n",
    "        break\n",
    "else:\n",
    "    print(i)"
   ]
  },
  {
   "cell_type": "markdown",
   "metadata": {},
   "source": [
    "195975 is too high"
   ]
  }
 ],
 "metadata": {
  "hide_input": false,
  "kernelspec": {
   "display_name": "Python 3",
   "language": "python",
   "name": "python3"
  },
  "language_info": {
   "codemirror_mode": {
    "name": "ipython",
    "version": 3
   },
   "file_extension": ".py",
   "mimetype": "text/x-python",
   "name": "python",
   "nbconvert_exporter": "python",
   "pygments_lexer": "ipython3",
   "version": "3.8.5"
  }
 },
 "nbformat": 4,
 "nbformat_minor": 4
}
