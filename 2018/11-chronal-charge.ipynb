{
 "cells": [
  {
   "cell_type": "markdown",
   "metadata": {},
   "source": [
    "https://adventofcode.com/2018/day/11"
   ]
  },
  {
   "cell_type": "markdown",
   "metadata": {},
   "source": [
    "Puzzle input: 1133"
   ]
  },
  {
   "cell_type": "code",
   "execution_count": 88,
   "metadata": {},
   "outputs": [],
   "source": [
    "import numpy as np"
   ]
  },
  {
   "cell_type": "code",
   "execution_count": 89,
   "metadata": {},
   "outputs": [],
   "source": [
    "grid = np.empty((301, 301), dtype=np.int)"
   ]
  },
  {
   "cell_type": "code",
   "execution_count": 90,
   "metadata": {},
   "outputs": [],
   "source": [
    "serial = 1133"
   ]
  },
  {
   "cell_type": "code",
   "execution_count": 91,
   "metadata": {},
   "outputs": [],
   "source": [
    "def getpowerlevel(x, y, serial=serial):\n",
    "    rackid = x + 10\n",
    "    pl1 = ((rackid * y) + serial) * rackid\n",
    "    if pl1 < 100:\n",
    "        pl2 = 0\n",
    "    else:\n",
    "        pl2 = int(str(pl1)[-3])\n",
    "    return pl2 - 5"
   ]
  },
  {
   "cell_type": "code",
   "execution_count": 92,
   "metadata": {},
   "outputs": [],
   "source": [
    "def makegrid(serial=1133, xdim=300, ydim=300):\n",
    "    grid = np.empty((ydim+1, xdim+1), dtype=np.int)\n",
    "    for y in range(1, ydim+1):\n",
    "        for x in range(1, xdim+1):\n",
    "            grid[y, x] = getpowerlevel(x, y, serial)\n",
    "    return grid"
   ]
  },
  {
   "cell_type": "code",
   "execution_count": 93,
   "metadata": {},
   "outputs": [],
   "source": [
    "grid = makegrid(18)"
   ]
  },
  {
   "cell_type": "code",
   "execution_count": 85,
   "metadata": {},
   "outputs": [
    {
     "name": "stdout",
     "output_type": "stream",
     "text": [
      "[[-2 -4  4  4  4]\n",
      " [-4  4  4  4 -5]\n",
      " [ 4  3  3  4 -4]\n",
      " [ 1  1  2  4 -3]\n",
      " [-1  0  2 -5 -2]]\n"
     ]
    }
   ],
   "source": [
    "print(grid[44:49, 32:37])"
   ]
  },
  {
   "cell_type": "code",
   "execution_count": 95,
   "metadata": {},
   "outputs": [
    {
     "data": {
      "text/plain": [
       "29"
      ]
     },
     "execution_count": 95,
     "metadata": {},
     "output_type": "execute_result"
    }
   ],
   "source": [
    "grid[45:48, 33:36].sum()"
   ]
  },
  {
   "cell_type": "code",
   "execution_count": 98,
   "metadata": {},
   "outputs": [],
   "source": [
    "def max_fc_3by3_xy(grid, xdim=300, ydim=300):\n",
    "    max_ttl = 0\n",
    "    max_xy = (0, 0)\n",
    "    for y in range(1, ydim-2):\n",
    "        for x in range(1, xdim-2):\n",
    "            ttl = grid[y:y+3, x:x+3].sum()\n",
    "            if ttl > max_ttl:\n",
    "                max_ttl = ttl\n",
    "                max_xy = (x, y)\n",
    "    return max_xy\n",
    "            "
   ]
  },
  {
   "cell_type": "code",
   "execution_count": 99,
   "metadata": {},
   "outputs": [
    {
     "data": {
      "text/plain": [
       "(33, 45)"
      ]
     },
     "execution_count": 99,
     "metadata": {},
     "output_type": "execute_result"
    }
   ],
   "source": [
    "max_fc_3by3_xy(makegrid(18))"
   ]
  },
  {
   "cell_type": "code",
   "execution_count": 100,
   "metadata": {},
   "outputs": [
    {
     "data": {
      "text/plain": [
       "(21, 61)"
      ]
     },
     "execution_count": 100,
     "metadata": {},
     "output_type": "execute_result"
    }
   ],
   "source": [
    "max_fc_3by3_xy(makegrid(42))"
   ]
  },
  {
   "cell_type": "code",
   "execution_count": 101,
   "metadata": {},
   "outputs": [
    {
     "data": {
      "text/plain": [
       "(235, 14)"
      ]
     },
     "execution_count": 101,
     "metadata": {},
     "output_type": "execute_result"
    }
   ],
   "source": [
    "max_fc_3by3_xy(makegrid(1133))"
   ]
  },
  {
   "cell_type": "code",
   "execution_count": 118,
   "metadata": {},
   "outputs": [],
   "source": [
    "def max_fc_anysize_xy(grid):\n",
    "    max_ttl = 0\n",
    "    max_xys = (0, 0, 0)\n",
    "    smaxsofar = 0\n",
    "    for s in range(1, 301):\n",
    "        smax = 0\n",
    "        for y in range(1, 302-s):\n",
    "            for x in range(1, 302-s):\n",
    "                ttl = grid[y:y+s, x:x+s].sum()\n",
    "                if ttl > smax:\n",
    "                    smax = ttl\n",
    "                if ttl > max_ttl:\n",
    "                    max_ttl = ttl\n",
    "                    max_xys = (x, y, s)\n",
    "        print(s, smax)\n",
    "#         if smax < smaxsofar:\n",
    "#             break\n",
    "        smaxsofar = smax\n",
    "    return max_xys\n",
    "            "
   ]
  },
  {
   "cell_type": "code",
   "execution_count": 115,
   "metadata": {},
   "outputs": [
    {
     "name": "stdout",
     "output_type": "stream",
     "text": [
      "CPU times: user 3.49 s, sys: 0 ns, total: 3.49 s\n",
      "Wall time: 3.49 s\n"
     ]
    },
    {
     "data": {
      "text/plain": [
       "(90, 269, 16)"
      ]
     },
     "execution_count": 115,
     "metadata": {},
     "output_type": "execute_result"
    }
   ],
   "source": [
    "%%time\n",
    "max_fc_anysize_xy(makegrid(18))"
   ]
  },
  {
   "cell_type": "code",
   "execution_count": 116,
   "metadata": {},
   "outputs": [
    {
     "name": "stdout",
     "output_type": "stream",
     "text": [
      "CPU times: user 2.68 s, sys: 0 ns, total: 2.68 s\n",
      "Wall time: 2.68 s\n"
     ]
    },
    {
     "data": {
      "text/plain": [
       "(232, 251, 12)"
      ]
     },
     "execution_count": 116,
     "metadata": {},
     "output_type": "execute_result"
    }
   ],
   "source": [
    "%%time\n",
    "max_fc_anysize_xy(makegrid(42))"
   ]
  },
  {
   "cell_type": "code",
   "execution_count": 119,
   "metadata": {},
   "outputs": [
    {
     "name": "stdout",
     "output_type": "stream",
     "text": [
      "1 4\n",
      "2 16\n",
      "3 31\n",
      "4 42\n",
      "5 61\n",
      "6 70\n",
      "7 76\n",
      "8 80\n",
      "9 80\n",
      "10 96\n",
      "11 96\n",
      "12 105\n",
      "13 95\n",
      "14 108\n",
      "15 104\n",
      "16 99\n",
      "17 85\n",
      "18 69\n",
      "19 54\n",
      "20 43\n",
      "21 23\n",
      "22 26\n",
      "23 9\n",
      "24 3\n",
      "25 0\n",
      "26 0\n",
      "27 0\n",
      "28 0\n",
      "29 0\n",
      "30 0\n",
      "31 0\n",
      "32 0\n",
      "33 0\n",
      "34 0\n",
      "35 0\n",
      "36 0\n",
      "37 0\n",
      "38 0\n",
      "39 0\n",
      "40 0\n",
      "41 0\n",
      "42 0\n",
      "43 0\n",
      "44 0\n",
      "45 0\n",
      "46 0\n",
      "47 0\n",
      "48 0\n",
      "49 0\n",
      "50 0\n",
      "51 0\n",
      "52 0\n",
      "53 0\n",
      "54 0\n",
      "55 0\n",
      "56 0\n",
      "57 0\n",
      "58 0\n",
      "59 0\n",
      "60 0\n",
      "61 0\n",
      "62 0\n",
      "63 0\n",
      "64 0\n",
      "65 0\n",
      "66 0\n",
      "67 0\n",
      "68 0\n",
      "69 0\n",
      "70 0\n",
      "71 0\n",
      "72 0\n",
      "73 0\n",
      "74 0\n",
      "75 0\n",
      "76 0\n",
      "77 0\n",
      "78 0\n",
      "79 0\n",
      "80 0\n",
      "81 0\n",
      "82 0\n",
      "83 0\n",
      "84 0\n",
      "85 0\n",
      "86 0\n",
      "87 0\n",
      "88 0\n",
      "89 0\n",
      "90 0\n",
      "91 0\n",
      "92 0\n",
      "93 0\n",
      "94 0\n",
      "95 0\n",
      "96 0\n",
      "97 0\n",
      "98 0\n",
      "99 0\n",
      "100 0\n",
      "101 0\n",
      "102 0\n",
      "103 0\n",
      "104 0\n",
      "105 0\n",
      "106 0\n",
      "107 0\n",
      "108 0\n",
      "109 0\n",
      "110 0\n",
      "111 0\n",
      "112 0\n",
      "113 0\n",
      "114 0\n",
      "115 0\n",
      "116 0\n",
      "117 0\n",
      "118 0\n",
      "119 0\n",
      "120 0\n",
      "121 0\n",
      "122 0\n",
      "123 0\n",
      "124 0\n",
      "125 0\n",
      "126 0\n",
      "127 0\n",
      "128 0\n",
      "129 0\n",
      "130 0\n",
      "131 0\n",
      "132 0\n",
      "133 0\n",
      "134 0\n",
      "135 0\n",
      "136 0\n",
      "137 0\n",
      "138 0\n",
      "139 0\n",
      "140 0\n",
      "141 0\n",
      "142 0\n",
      "143 0\n",
      "144 0\n",
      "145 0\n",
      "146 0\n",
      "147 0\n",
      "148 0\n",
      "149 0\n",
      "150 0\n",
      "151 0\n",
      "152 0\n",
      "153 0\n",
      "154 0\n",
      "155 0\n",
      "156 0\n",
      "157 0\n",
      "158 0\n",
      "159 0\n",
      "160 0\n",
      "161 0\n",
      "162 0\n",
      "163 0\n",
      "164 0\n",
      "165 0\n",
      "166 0\n",
      "167 0\n",
      "168 0\n",
      "169 0\n",
      "170 0\n",
      "171 0\n",
      "172 0\n",
      "173 0\n",
      "174 0\n",
      "175 0\n",
      "176 0\n",
      "177 0\n",
      "178 0\n",
      "179 0\n",
      "180 0\n",
      "181 0\n",
      "182 0\n",
      "183 0\n",
      "184 0\n",
      "185 0\n",
      "186 0\n",
      "187 0\n",
      "188 0\n",
      "189 0\n",
      "190 0\n",
      "191 0\n",
      "192 0\n",
      "193 0\n",
      "194 0\n",
      "195 0\n",
      "196 0\n",
      "197 0\n",
      "198 0\n",
      "199 0\n",
      "200 0\n",
      "201 0\n",
      "202 0\n",
      "203 0\n",
      "204 0\n",
      "205 0\n",
      "206 0\n",
      "207 0\n",
      "208 0\n",
      "209 0\n",
      "210 0\n",
      "211 0\n",
      "212 0\n",
      "213 0\n",
      "214 0\n",
      "215 0\n",
      "216 0\n",
      "217 0\n",
      "218 0\n",
      "219 0\n",
      "220 0\n",
      "221 0\n",
      "222 0\n",
      "223 0\n",
      "224 0\n",
      "225 0\n",
      "226 0\n",
      "227 0\n",
      "228 0\n",
      "229 0\n",
      "230 0\n",
      "231 0\n",
      "232 0\n",
      "233 0\n",
      "234 0\n",
      "235 0\n",
      "236 0\n",
      "237 0\n",
      "238 0\n",
      "239 0\n",
      "240 0\n",
      "241 0\n",
      "242 0\n",
      "243 0\n",
      "244 0\n",
      "245 0\n",
      "246 0\n",
      "247 0\n",
      "248 0\n",
      "249 0\n",
      "250 0\n",
      "251 0\n",
      "252 0\n",
      "253 0\n",
      "254 0\n",
      "255 0\n",
      "256 0\n",
      "257 0\n",
      "258 0\n",
      "259 0\n",
      "260 0\n",
      "261 0\n",
      "262 0\n",
      "263 0\n",
      "264 0\n",
      "265 0\n",
      "266 0\n",
      "267 0\n",
      "268 0\n",
      "269 0\n",
      "270 0\n",
      "271 0\n",
      "272 0\n",
      "273 0\n",
      "274 0\n",
      "275 0\n",
      "276 0\n",
      "277 0\n",
      "278 0\n",
      "279 0\n",
      "280 0\n",
      "281 0\n",
      "282 0\n",
      "283 0\n",
      "284 0\n",
      "285 0\n",
      "286 0\n",
      "287 0\n",
      "288 0\n",
      "289 0\n",
      "290 0\n",
      "291 0\n",
      "292 0\n",
      "293 0\n",
      "294 0\n",
      "295 0\n",
      "296 0\n",
      "297 0\n",
      "298 0\n",
      "299 0\n",
      "300 0\n",
      "CPU times: user 1min 31s, sys: 401 ms, total: 1min 32s\n",
      "Wall time: 1min 31s\n"
     ]
    },
    {
     "data": {
      "text/plain": [
       "(237, 227, 14)"
      ]
     },
     "execution_count": 119,
     "metadata": {},
     "output_type": "execute_result"
    }
   ],
   "source": [
    "%%time\n",
    "max_fc_anysize_xy(makegrid(1133))"
   ]
  }
 ],
 "metadata": {
  "hide_input": false,
  "kernelspec": {
   "display_name": "Python 3",
   "language": "python",
   "name": "python3"
  },
  "language_info": {
   "codemirror_mode": {
    "name": "ipython",
    "version": 3
   },
   "file_extension": ".py",
   "mimetype": "text/x-python",
   "name": "python",
   "nbconvert_exporter": "python",
   "pygments_lexer": "ipython3",
   "version": "3.8.5"
  }
 },
 "nbformat": 4,
 "nbformat_minor": 4
}
