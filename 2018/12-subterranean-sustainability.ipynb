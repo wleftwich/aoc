{
 "cells": [
  {
   "cell_type": "markdown",
   "metadata": {},
   "source": [
    "https://adventofcode.com/2018/day/12"
   ]
  },
  {
   "cell_type": "code",
   "execution_count": 3,
   "metadata": {},
   "outputs": [],
   "source": [
    "initial_state_str = '##.#############........##.##.####..#.#..#.##...###.##......#.#..#####....##..#####..#.#.##.#.##'\n",
    "\n",
    "rules_str = \"\"\"\\\n",
    "###.# => #\n",
    ".#### => #\n",
    "#.### => .\n",
    ".##.. => .\n",
    "##... => #\n",
    "##.## => #\n",
    ".#.## => #\n",
    "#.#.. => #\n",
    "#...# => .\n",
    "...## => #\n",
    "####. => #\n",
    "#..## => .\n",
    "#.... => .\n",
    ".###. => .\n",
    "..#.# => .\n",
    "..### => .\n",
    "#.#.# => #\n",
    "..... => .\n",
    "..##. => .\n",
    "##.#. => #\n",
    ".#... => #\n",
    "##### => .\n",
    "###.. => #\n",
    "..#.. => .\n",
    "##..# => #\n",
    "#..#. => #\n",
    "#.##. => .\n",
    "....# => .\n",
    ".#..# => #\n",
    ".#.#. => #\n",
    ".##.# => .\n",
    "...#. => .\\\n",
    "\"\"\""
   ]
  },
  {
   "cell_type": "code",
   "execution_count": 29,
   "metadata": {},
   "outputs": [],
   "source": [
    "state = {i for (i, c) in enumerate(initial_state_str) if c == '#'}"
   ]
  },
  {
   "cell_type": "code",
   "execution_count": 8,
   "metadata": {},
   "outputs": [],
   "source": [
    "def positive_rule(s):\n",
    "    pots, result = s.split(' => ')\n",
    "    if result == '#':\n",
    "        return tuple(True if x == '#' else False for x in pots)\n",
    "    "
   ]
  },
  {
   "cell_type": "code",
   "execution_count": 9,
   "metadata": {},
   "outputs": [
    {
     "data": {
      "text/plain": [
       "(True, True, False, False, True)"
      ]
     },
     "execution_count": 9,
     "metadata": {},
     "output_type": "execute_result"
    }
   ],
   "source": [
    "positive_rule('##..# => #')"
   ]
  },
  {
   "cell_type": "code",
   "execution_count": 11,
   "metadata": {},
   "outputs": [
    {
     "data": {
      "text/plain": [
       "True"
      ]
     },
     "execution_count": 11,
     "metadata": {},
     "output_type": "execute_result"
    }
   ],
   "source": [
    "positive_rule('#.##. => .') is None"
   ]
  },
  {
   "cell_type": "code",
   "execution_count": 12,
   "metadata": {},
   "outputs": [],
   "source": [
    "rules = {y for y in (positive_rule(x) for x in rules_str.split('\\n')) if y}"
   ]
  },
  {
   "cell_type": "code",
   "execution_count": 13,
   "metadata": {},
   "outputs": [
    {
     "data": {
      "text/plain": [
       "{(False, False, False, True, True),\n",
       " (False, True, False, False, False),\n",
       " (False, True, False, False, True),\n",
       " (False, True, False, True, False),\n",
       " (False, True, False, True, True),\n",
       " (False, True, True, True, True),\n",
       " (True, False, False, True, False),\n",
       " (True, False, True, False, False),\n",
       " (True, False, True, False, True),\n",
       " (True, True, False, False, False),\n",
       " (True, True, False, False, True),\n",
       " (True, True, False, True, False),\n",
       " (True, True, False, True, True),\n",
       " (True, True, True, False, False),\n",
       " (True, True, True, False, True),\n",
       " (True, True, True, True, False)}"
      ]
     },
     "execution_count": 13,
     "metadata": {},
     "output_type": "execute_result"
    }
   ],
   "source": [
    "rules"
   ]
  },
  {
   "cell_type": "code",
   "execution_count": 20,
   "metadata": {},
   "outputs": [
    {
     "data": {
      "text/plain": [
       "[0, 1, 2, 3, 4]"
      ]
     },
     "execution_count": 20,
     "metadata": {},
     "output_type": "execute_result"
    }
   ],
   "source": [
    "L = [0,1,2,3,4]\n",
    "L[2-2 : 2+3]"
   ]
  },
  {
   "cell_type": "code",
   "execution_count": 21,
   "metadata": {},
   "outputs": [],
   "source": [
    "def neighbors(i, state):\n",
    "    return tuple(j in state for j in range(i-2, i+3))"
   ]
  },
  {
   "cell_type": "code",
   "execution_count": 24,
   "metadata": {},
   "outputs": [
    {
     "data": {
      "text/plain": [
       "(False, False, False, True, True)"
      ]
     },
     "execution_count": 24,
     "metadata": {},
     "output_type": "execute_result"
    }
   ],
   "source": [
    "neighbors(-1, state)"
   ]
  },
  {
   "cell_type": "code",
   "execution_count": 48,
   "metadata": {},
   "outputs": [],
   "source": [
    "def nextstate(state):\n",
    "    nextstate = set()\n",
    "    leftend = min(state) - 3\n",
    "    rightend = max(state) + 3\n",
    "    for i in range(leftend, rightend):\n",
    "        nabes = neighbors(i, state)\n",
    "        if nabes in rules:\n",
    "            nextstate.add(i)\n",
    "    return frozenset(nextstate)\n",
    "    "
   ]
  },
  {
   "cell_type": "code",
   "execution_count": 30,
   "metadata": {},
   "outputs": [
    {
     "data": {
      "text/plain": [
       "4110"
      ]
     },
     "execution_count": 30,
     "metadata": {},
     "output_type": "execute_result"
    }
   ],
   "source": [
    "for _ in range(20):\n",
    "    state = nextstate(state)\n",
    "sum(state)"
   ]
  },
  {
   "cell_type": "markdown",
   "metadata": {},
   "source": [
    "## Part 2\n",
    "50_000_000_000 generations\n",
    "\n",
    "Eventually, it's a glider."
   ]
  },
  {
   "cell_type": "code",
   "execution_count": 70,
   "metadata": {},
   "outputs": [],
   "source": [
    "state = frozenset({i for (i, c) in enumerate(initial_state_str) if c == '#'})"
   ]
  },
  {
   "cell_type": "code",
   "execution_count": 66,
   "metadata": {},
   "outputs": [],
   "source": [
    "initial_state = state.copy()"
   ]
  },
  {
   "cell_type": "code",
   "execution_count": 100,
   "metadata": {},
   "outputs": [],
   "source": [
    "state = frozenset(i for (i, c) in enumerate(initial_state_str) if c == '#')"
   ]
  },
  {
   "cell_type": "code",
   "execution_count": 101,
   "metadata": {},
   "outputs": [],
   "source": [
    "for _ in range(1000):\n",
    "    state = nextstate(state)"
   ]
  },
  {
   "cell_type": "code",
   "execution_count": 102,
   "metadata": {},
   "outputs": [
    {
     "data": {
      "text/plain": [
       "53466"
      ]
     },
     "execution_count": 102,
     "metadata": {},
     "output_type": "execute_result"
    }
   ],
   "source": [
    "sum(state)"
   ]
  },
  {
   "cell_type": "code",
   "execution_count": 103,
   "metadata": {
    "collapsed": true
   },
   "outputs": [
    {
     "name": "stdout",
     "output_type": "stream",
     "text": [
      "53 53519 53\n",
      "53 53572 53\n",
      "53 53625 53\n",
      "53 53678 53\n",
      "53 53731 53\n",
      "53 53784 53\n",
      "53 53837 53\n",
      "53 53890 53\n",
      "53 53943 53\n",
      "53 53996 53\n",
      "53 54049 53\n",
      "53 54102 53\n",
      "53 54155 53\n",
      "53 54208 53\n",
      "53 54261 53\n",
      "53 54314 53\n",
      "53 54367 53\n",
      "53 54420 53\n",
      "53 54473 53\n",
      "53 54526 53\n",
      "53 54579 53\n",
      "53 54632 53\n",
      "53 54685 53\n",
      "53 54738 53\n",
      "53 54791 53\n",
      "53 54844 53\n",
      "53 54897 53\n",
      "53 54950 53\n",
      "53 55003 53\n",
      "53 55056 53\n",
      "53 55109 53\n",
      "53 55162 53\n",
      "53 55215 53\n",
      "53 55268 53\n",
      "53 55321 53\n",
      "53 55374 53\n",
      "53 55427 53\n",
      "53 55480 53\n",
      "53 55533 53\n",
      "53 55586 53\n",
      "53 55639 53\n",
      "53 55692 53\n",
      "53 55745 53\n",
      "53 55798 53\n",
      "53 55851 53\n",
      "53 55904 53\n",
      "53 55957 53\n",
      "53 56010 53\n",
      "53 56063 53\n",
      "53 56116 53\n",
      "53 56169 53\n",
      "53 56222 53\n",
      "53 56275 53\n",
      "53 56328 53\n",
      "53 56381 53\n",
      "53 56434 53\n",
      "53 56487 53\n",
      "53 56540 53\n",
      "53 56593 53\n",
      "53 56646 53\n",
      "53 56699 53\n",
      "53 56752 53\n",
      "53 56805 53\n",
      "53 56858 53\n",
      "53 56911 53\n",
      "53 56964 53\n",
      "53 57017 53\n",
      "53 57070 53\n",
      "53 57123 53\n",
      "53 57176 53\n",
      "53 57229 53\n",
      "53 57282 53\n",
      "53 57335 53\n",
      "53 57388 53\n",
      "53 57441 53\n",
      "53 57494 53\n",
      "53 57547 53\n",
      "53 57600 53\n",
      "53 57653 53\n",
      "53 57706 53\n",
      "53 57759 53\n",
      "53 57812 53\n",
      "53 57865 53\n",
      "53 57918 53\n",
      "53 57971 53\n",
      "53 58024 53\n",
      "53 58077 53\n",
      "53 58130 53\n",
      "53 58183 53\n",
      "53 58236 53\n",
      "53 58289 53\n",
      "53 58342 53\n",
      "53 58395 53\n",
      "53 58448 53\n",
      "53 58501 53\n",
      "53 58554 53\n",
      "53 58607 53\n",
      "53 58660 53\n",
      "53 58713 53\n",
      "53 58766 53\n"
     ]
    }
   ],
   "source": [
    "prevsum = 53466\n",
    "for _ in range(100):\n",
    "    state = nextstate(state)\n",
    "    print(len(state), sum(state), sum(state) - prevsum)\n",
    "    prevsum = sum(state)"
   ]
  },
  {
   "cell_type": "code",
   "execution_count": 104,
   "metadata": {},
   "outputs": [
    {
     "data": {
      "text/plain": [
       "2650000000466"
      ]
     },
     "execution_count": 104,
     "metadata": {},
     "output_type": "execute_result"
    }
   ],
   "source": [
    "53466 + (50_000_000_000 - 1_000) * 53"
   ]
  }
 ],
 "metadata": {
  "hide_input": false,
  "kernelspec": {
   "display_name": "Python 3",
   "language": "python",
   "name": "python3"
  },
  "language_info": {
   "codemirror_mode": {
    "name": "ipython",
    "version": 3
   },
   "file_extension": ".py",
   "mimetype": "text/x-python",
   "name": "python",
   "nbconvert_exporter": "python",
   "pygments_lexer": "ipython3",
   "version": "3.8.5"
  }
 },
 "nbformat": 4,
 "nbformat_minor": 4
}
