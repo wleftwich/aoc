{
 "cells": [
  {
   "cell_type": "markdown",
   "metadata": {},
   "source": [
    "https://adventofcode.com/2018/day/4"
   ]
  },
  {
   "cell_type": "code",
   "execution_count": 69,
   "metadata": {},
   "outputs": [],
   "source": [
    "import re\n",
    "from collections import defaultdict"
   ]
  },
  {
   "cell_type": "code",
   "execution_count": 2,
   "metadata": {},
   "outputs": [],
   "source": [
    "with open('data/04-01.txt') as fh:\n",
    "    lines = fh.readlines()"
   ]
  },
  {
   "cell_type": "code",
   "execution_count": 3,
   "metadata": {},
   "outputs": [
    {
     "data": {
      "text/plain": [
       "(['[1518-03-25 00:01] Guard #743 begins shift\\n',\n",
       "  '[1518-09-15 00:34] falls asleep\\n',\n",
       "  '[1518-10-11 00:27] wakes up\\n'],\n",
       " ['[1518-06-13 00:45] falls asleep\\n',\n",
       "  '[1518-10-06 23:56] Guard #151 begins shift\\n',\n",
       "  '[1518-03-02 00:02] Guard #743 begins shift\\n'])"
      ]
     },
     "execution_count": 3,
     "metadata": {},
     "output_type": "execute_result"
    }
   ],
   "source": [
    "lines[:3], lines[-3:]"
   ]
  },
  {
   "cell_type": "code",
   "execution_count": 4,
   "metadata": {},
   "outputs": [],
   "source": [
    "lines.sort()"
   ]
  },
  {
   "cell_type": "code",
   "execution_count": 6,
   "metadata": {},
   "outputs": [
    {
     "data": {
      "text/plain": [
       "(['[1518-02-21 00:00] Guard #1439 begins shift\\n',\n",
       "  '[1518-02-21 00:26] falls asleep\\n',\n",
       "  '[1518-02-21 00:27] wakes up\\n',\n",
       "  '[1518-02-22 00:03] Guard #3517 begins shift\\n',\n",
       "  '[1518-02-22 00:25] falls asleep\\n',\n",
       "  '[1518-02-22 00:48] wakes up\\n',\n",
       "  '[1518-02-23 00:01] Guard #463 begins shift\\n',\n",
       "  '[1518-02-23 00:42] falls asleep\\n',\n",
       "  '[1518-02-23 00:58] wakes up\\n',\n",
       "  '[1518-02-24 00:00] Guard #1297 begins shift\\n'],\n",
       " ['[1518-11-20 00:50] wakes up\\n',\n",
       "  '[1518-11-21 00:02] Guard #3041 begins shift\\n',\n",
       "  '[1518-11-21 23:58] Guard #509 begins shift\\n',\n",
       "  '[1518-11-22 00:21] falls asleep\\n',\n",
       "  '[1518-11-22 00:44] wakes up\\n',\n",
       "  '[1518-11-22 00:50] falls asleep\\n',\n",
       "  '[1518-11-22 00:55] wakes up\\n',\n",
       "  '[1518-11-22 23:46] Guard #1297 begins shift\\n',\n",
       "  '[1518-11-23 00:05] falls asleep\\n',\n",
       "  '[1518-11-23 00:46] wakes up\\n'])"
      ]
     },
     "execution_count": 6,
     "metadata": {},
     "output_type": "execute_result"
    }
   ],
   "source": [
    "lines[:10], lines[-10:]"
   ]
  },
  {
   "cell_type": "code",
   "execution_count": 63,
   "metadata": {},
   "outputs": [],
   "source": [
    "def parseline(line):\n",
    "    event = {'minute': int(line[15:17])}\n",
    "    if 'Guard' in line:\n",
    "        event['ev'] = 'guard'\n",
    "        event['guardid'] = int(re.search(r'#([\\d]+)', line).group(1))\n",
    "    elif 'falls' in line:\n",
    "        event['ev'] = 'sleep'\n",
    "    elif 'wakes' in line:\n",
    "        event['ev'] = 'wake'\n",
    "    else:\n",
    "        raise ValueError(\"Can't happen\")\n",
    "    return event"
   ]
  },
  {
   "cell_type": "code",
   "execution_count": 64,
   "metadata": {},
   "outputs": [
    {
     "data": {
      "text/plain": [
       "{'minute': 0, 'ev': 'guard', 'guardid': 1439}"
      ]
     },
     "execution_count": 64,
     "metadata": {},
     "output_type": "execute_result"
    }
   ],
   "source": [
    "parseline(lines[0])"
   ]
  },
  {
   "cell_type": "code",
   "execution_count": 65,
   "metadata": {},
   "outputs": [],
   "source": [
    "def guardsleepmins(lines):\n",
    "    guard = None\n",
    "    sleep = None\n",
    "    wake = None\n",
    "    for line in lines:\n",
    "        D = parseline(line)\n",
    "        if D['ev'] == 'guard':\n",
    "            if guard is not None and sleep is not None:\n",
    "                for m in range(sleep, 60):\n",
    "                    yield (guard, m)\n",
    "                sleep = None\n",
    "            guard = D['guardid']\n",
    "        elif D['ev'] == 'sleep':\n",
    "            sleep = D['minute']\n",
    "        elif D['ev'] == 'wake':\n",
    "            wake = D['minute']\n",
    "            for m in range(sleep, wake):\n",
    "                yield (guard, m)\n",
    "            sleep = None\n",
    "            wake = None\n",
    "        else:\n",
    "            raise ValueError(\"Can't happen\")\n",
    "    if sleep is not None:\n",
    "        wakemin = wake or 60\n",
    "        for m in range(sleep, wakemin):\n",
    "            yield(guard, m)      "
   ]
  },
  {
   "cell_type": "code",
   "execution_count": 67,
   "metadata": {},
   "outputs": [],
   "source": [
    "guards = defaultdict(lambda: defaultdict(int))"
   ]
  },
  {
   "cell_type": "code",
   "execution_count": 68,
   "metadata": {},
   "outputs": [],
   "source": [
    "for guardid, minute in guardsleepmins(lines):\n",
    "    guards[guardid][minute] += 1"
   ]
  },
  {
   "cell_type": "code",
   "execution_count": 71,
   "metadata": {},
   "outputs": [],
   "source": [
    "maxguard = None\n",
    "maxmins = 0\n",
    "for guard, mincounter in guards.items():\n",
    "    mintotal = sum(mincounter.values())\n",
    "    if mintotal > maxmins:\n",
    "        maxmins = mintotal\n",
    "        maxguard = guard"
   ]
  },
  {
   "cell_type": "code",
   "execution_count": 72,
   "metadata": {},
   "outputs": [
    {
     "data": {
      "text/plain": [
       "(1439, 464)"
      ]
     },
     "execution_count": 72,
     "metadata": {},
     "output_type": "execute_result"
    }
   ],
   "source": [
    "maxguard, maxmins"
   ]
  },
  {
   "cell_type": "code",
   "execution_count": 78,
   "metadata": {},
   "outputs": [
    {
     "data": {
      "text/plain": [
       "42"
      ]
     },
     "execution_count": 78,
     "metadata": {},
     "output_type": "execute_result"
    }
   ],
   "source": [
    "sleepymin = sorted(guards[maxguard].items(), key=lambda x: -x[1])[0][0]\n",
    "sleepymin"
   ]
  },
  {
   "cell_type": "code",
   "execution_count": 79,
   "metadata": {},
   "outputs": [
    {
     "data": {
      "text/plain": [
       "60438"
      ]
     },
     "execution_count": 79,
     "metadata": {},
     "output_type": "execute_result"
    }
   ],
   "source": [
    "part_1 = maxguard * sleepymin\n",
    "part_1"
   ]
  },
  {
   "cell_type": "code",
   "execution_count": 81,
   "metadata": {},
   "outputs": [],
   "source": [
    "maxguard_2 = None\n",
    "maxmin = None\n",
    "maxmincount = 0\n",
    "for g, mins in guards.items():\n",
    "    m, mc = sorted(mins.items(), key=lambda x: -x[1])[0]\n",
    "    if mc > maxmincount:\n",
    "        maxguard_2 = g\n",
    "        maxmin = m\n",
    "        maxmincount = mc"
   ]
  },
  {
   "cell_type": "code",
   "execution_count": 83,
   "metadata": {},
   "outputs": [
    {
     "data": {
      "text/plain": [
       "(1297, 37, 19)"
      ]
     },
     "execution_count": 83,
     "metadata": {},
     "output_type": "execute_result"
    }
   ],
   "source": [
    "maxguard_2, maxmin, maxmincount"
   ]
  },
  {
   "cell_type": "code",
   "execution_count": 85,
   "metadata": {},
   "outputs": [
    {
     "data": {
      "text/plain": [
       "47989"
      ]
     },
     "execution_count": 85,
     "metadata": {},
     "output_type": "execute_result"
    }
   ],
   "source": [
    "part_2 = maxguard_2 * maxmin\n",
    "part_2"
   ]
  }
 ],
 "metadata": {
  "hide_input": false,
  "kernelspec": {
   "display_name": "Python 3",
   "language": "python",
   "name": "python3"
  },
  "language_info": {
   "codemirror_mode": {
    "name": "ipython",
    "version": 3
   },
   "file_extension": ".py",
   "mimetype": "text/x-python",
   "name": "python",
   "nbconvert_exporter": "python",
   "pygments_lexer": "ipython3",
   "version": "3.8.5"
  }
 },
 "nbformat": 4,
 "nbformat_minor": 4
}
