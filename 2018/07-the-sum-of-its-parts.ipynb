{
 "cells": [
  {
   "cell_type": "markdown",
   "metadata": {},
   "source": [
    "https://adventofcode.com/2018/day/7"
   ]
  },
  {
   "cell_type": "code",
   "execution_count": 2,
   "metadata": {},
   "outputs": [],
   "source": [
    "from collections import defaultdict\n",
    "from heapq import heapify, heappush, heappop"
   ]
  },
  {
   "cell_type": "code",
   "execution_count": 3,
   "metadata": {},
   "outputs": [],
   "source": [
    "with open('data/07-1.txt') as fh:\n",
    "    data = fh.readlines()"
   ]
  },
  {
   "cell_type": "code",
   "execution_count": 4,
   "metadata": {},
   "outputs": [
    {
     "data": {
      "text/plain": [
       "[(0, 'Step'),\n",
       " (1, 'G'),\n",
       " (2, 'must'),\n",
       " (3, 'be'),\n",
       " (4, 'finished'),\n",
       " (5, 'before'),\n",
       " (6, 'step'),\n",
       " (7, 'M'),\n",
       " (8, 'can'),\n",
       " (9, 'begin.')]"
      ]
     },
     "execution_count": 4,
     "metadata": {},
     "output_type": "execute_result"
    }
   ],
   "source": [
    "list(enumerate(data[0].split()))"
   ]
  },
  {
   "cell_type": "code",
   "execution_count": 5,
   "metadata": {},
   "outputs": [],
   "source": [
    "def parseline(line):\n",
    "    tokens = line.split()\n",
    "    return(tokens[1], tokens[7])"
   ]
  },
  {
   "cell_type": "code",
   "execution_count": 6,
   "metadata": {},
   "outputs": [
    {
     "data": {
      "text/plain": [
       "[('G', 'M'), ('T', 'E'), ('P', 'M')]"
      ]
     },
     "execution_count": 6,
     "metadata": {},
     "output_type": "execute_result"
    }
   ],
   "source": [
    "[parseline(x) for x in data[:3]]"
   ]
  },
  {
   "cell_type": "code",
   "execution_count": 7,
   "metadata": {},
   "outputs": [],
   "source": [
    "pairs = [parseline(x) for x in data]"
   ]
  },
  {
   "cell_type": "code",
   "execution_count": 8,
   "metadata": {},
   "outputs": [],
   "source": [
    "before_after = defaultdict(set)\n",
    "after_before = defaultdict(set)\n",
    "\n",
    "for before, after in pairs:\n",
    "    before_after[before].add(after)\n",
    "    after_before[after].add(before)"
   ]
  },
  {
   "cell_type": "code",
   "execution_count": 9,
   "metadata": {},
   "outputs": [],
   "source": [
    "befores = set(before_after.keys())\n",
    "afters = set(after_before.keys())"
   ]
  },
  {
   "cell_type": "code",
   "execution_count": 10,
   "metadata": {},
   "outputs": [
    {
     "data": {
      "text/plain": [
       "(25, 22)"
      ]
     },
     "execution_count": 10,
     "metadata": {},
     "output_type": "execute_result"
    }
   ],
   "source": [
    "len(befores), len(afters)"
   ]
  },
  {
   "cell_type": "code",
   "execution_count": 11,
   "metadata": {},
   "outputs": [
    {
     "data": {
      "text/plain": [
       "['V', 'T', 'K', 'G']"
      ]
     },
     "execution_count": 11,
     "metadata": {},
     "output_type": "execute_result"
    }
   ],
   "source": [
    "available = sorted(befores.difference(afters), reverse=True)\n",
    "available"
   ]
  },
  {
   "cell_type": "code",
   "execution_count": 12,
   "metadata": {},
   "outputs": [
    {
     "name": "stdout",
     "output_type": "stream",
     "text": [
      "['K', 'N', 'V', 'T', 'P']\n",
      "['C', 'N', 'V', 'T', 'P']\n",
      "['N', 'P', 'V', 'T']\n",
      "['P', 'T', 'V']\n",
      "['T', 'V']\n",
      "['V']\n",
      "['H', 'Y', 'R']\n",
      "['I', 'Y', 'R']\n",
      "['R', 'Y']\n",
      "['Y']\n",
      "['D']\n",
      "['U']\n",
      "['J']\n",
      "['M']\n",
      "['S']\n",
      "['X']\n",
      "['F']\n",
      "['B']\n",
      "['Q']\n",
      "['L']\n",
      "['O']\n",
      "['A']\n",
      "['E']\n",
      "['W']\n",
      "['Z']\n",
      "[]\n"
     ]
    }
   ],
   "source": [
    "heapify(available)\n",
    "\n",
    "ordered_steps = []\n",
    "while available:\n",
    "    step = heappop(available)\n",
    "    ordered_steps.append(step)\n",
    "    for after in before_after.get(step, set()):\n",
    "        abset = after_before.get(after, set())\n",
    "        abset.discard(step)\n",
    "        if not abset:\n",
    "            heappush(available, after)\n",
    "    print(available)\n",
    "        "
   ]
  },
  {
   "cell_type": "code",
   "execution_count": 13,
   "metadata": {},
   "outputs": [
    {
     "data": {
      "text/plain": [
       "'GKCNPTVHIRYDUJMSXFBQLOAEWZ'"
      ]
     },
     "execution_count": 13,
     "metadata": {},
     "output_type": "execute_result"
    }
   ],
   "source": [
    "part_1 = ''.join(ordered_steps)\n",
    "part_1"
   ]
  },
  {
   "cell_type": "code",
   "execution_count": 14,
   "metadata": {},
   "outputs": [],
   "source": [
    "steptimes = {c: i+60 for i, c in enumerate('ABCDEFGHIJKLMNOPQRSTUVWXYZ', 1)}"
   ]
  },
  {
   "cell_type": "code",
   "execution_count": 15,
   "metadata": {},
   "outputs": [
    {
     "name": "stdout",
     "output_type": "stream",
     "text": [
      "[(67, 'G'), (71, 'K'), (80, 'T'), (82, 'V')]\n",
      "[(71, 'K'), (82, 'V'), (80, 'T'), (141, 'N'), (143, 'P')]\n",
      "[(80, 'T'), (82, 'V'), (143, 'P'), (141, 'N'), (134, 'C')]\n",
      "[(82, 'V'), (134, 'C'), (143, 'P'), (141, 'N')]\n",
      "[(134, 'C'), (141, 'N'), (143, 'P'), (167, 'Y')]\n",
      "[(141, 'N'), (167, 'Y'), (143, 'P'), (212, 'R')]\n",
      "[(143, 'P'), (167, 'Y'), (212, 'R')]\n",
      "[(167, 'Y'), (212, 'R'), (211, 'H')]\n",
      "[(211, 'H'), (212, 'R'), (231, 'D')]\n",
      "[(212, 'R'), (231, 'D'), (280, 'I')]\n",
      "[(231, 'D'), (280, 'I')]\n",
      "[(280, 'I'), (312, 'U')]\n",
      "[(312, 'U')]\n",
      "[(382, 'J')]\n",
      "[(455, 'M')]\n",
      "[(534, 'S')]\n",
      "[(618, 'X')]\n",
      "[(684, 'F')]\n",
      "[(746, 'B')]\n",
      "[(823, 'Q')]\n",
      "[(895, 'L')]\n",
      "[(970, 'O')]\n",
      "[(1031, 'A')]\n",
      "[(1096, 'E')]\n",
      "[(1179, 'W')]\n",
      "[(1265, 'Z')]\n"
     ]
    }
   ],
   "source": [
    "before_after = defaultdict(set)\n",
    "after_before = defaultdict(set)\n",
    "\n",
    "for before, after in pairs:\n",
    "    before_after[before].add(after)\n",
    "    after_before[after].add(before)\n",
    "\n",
    "befores = set(before_after.keys())\n",
    "afters = set(after_before.keys())\n",
    "\n",
    "available = list(befores.difference(afters))\n",
    "heapify(available)\n",
    "\n",
    "ticks = 0\n",
    "workerpool = 5\n",
    "jobs = []\n",
    "\n",
    "while available or jobs:\n",
    "    while available and workerpool:\n",
    "        step = heappop(available)\n",
    "        workerpool -= 1\n",
    "        stoptime = ticks + steptimes[step]\n",
    "        heappush(jobs, (stoptime, step))\n",
    "    print(jobs)\n",
    "    stoptime, step = heappop(jobs)\n",
    "    for possible_next in before_after[step]:\n",
    "        blockers = after_before[possible_next]\n",
    "        blockers.discard(step)\n",
    "        if not blockers:\n",
    "            heappush(available, possible_next)\n",
    "    ticks = stoptime\n",
    "    workerpool += 1\n",
    "        "
   ]
  },
  {
   "cell_type": "code",
   "execution_count": 16,
   "metadata": {},
   "outputs": [
    {
     "data": {
      "text/plain": [
       "1265"
      ]
     },
     "execution_count": 16,
     "metadata": {},
     "output_type": "execute_result"
    }
   ],
   "source": [
    "part_2 = ticks\n",
    "part_2"
   ]
  }
 ],
 "metadata": {
  "hide_input": false,
  "kernelspec": {
   "display_name": "Python 3",
   "language": "python",
   "name": "python3"
  },
  "language_info": {
   "codemirror_mode": {
    "name": "ipython",
    "version": 3
   },
   "file_extension": ".py",
   "mimetype": "text/x-python",
   "name": "python",
   "nbconvert_exporter": "python",
   "pygments_lexer": "ipython3",
   "version": "3.8.5"
  }
 },
 "nbformat": 4,
 "nbformat_minor": 4
}
