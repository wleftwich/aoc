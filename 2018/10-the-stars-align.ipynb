{
 "cells": [
  {
   "cell_type": "markdown",
   "metadata": {},
   "source": [
    "https://adventofcode.com/2018/day/10"
   ]
  },
  {
   "cell_type": "code",
   "execution_count": 2,
   "metadata": {},
   "outputs": [],
   "source": [
    "import re"
   ]
  },
  {
   "cell_type": "code",
   "execution_count": 3,
   "metadata": {},
   "outputs": [],
   "source": [
    "with open('data/10-1.txt') as fh:\n",
    "    data = fh.readlines()"
   ]
  },
  {
   "cell_type": "code",
   "execution_count": 4,
   "metadata": {},
   "outputs": [],
   "source": [
    "testdata = \"\"\"\\\n",
    "position=< 9,  1> velocity=< 0,  2>\n",
    "position=< 7,  0> velocity=<-1,  0>\n",
    "position=< 3, -2> velocity=<-1,  1>\n",
    "position=< 6, 10> velocity=<-2, -1>\n",
    "position=< 2, -4> velocity=< 2,  2>\n",
    "position=<-6, 10> velocity=< 2, -2>\n",
    "position=< 1,  8> velocity=< 1, -1>\n",
    "position=< 1,  7> velocity=< 1,  0>\n",
    "position=<-3, 11> velocity=< 1, -2>\n",
    "position=< 7,  6> velocity=<-1, -1>\n",
    "position=<-2,  3> velocity=< 1,  0>\n",
    "position=<-4,  3> velocity=< 2,  0>\n",
    "position=<10, -3> velocity=<-1,  1>\n",
    "position=< 5, 11> velocity=< 1, -2>\n",
    "position=< 4,  7> velocity=< 0, -1>\n",
    "position=< 8, -2> velocity=< 0,  1>\n",
    "position=<15,  0> velocity=<-2,  0>\n",
    "position=< 1,  6> velocity=< 1,  0>\n",
    "position=< 8,  9> velocity=< 0, -1>\n",
    "position=< 3,  3> velocity=<-1,  1>\n",
    "position=< 0,  5> velocity=< 0, -1>\n",
    "position=<-2,  2> velocity=< 2,  0>\n",
    "position=< 5, -2> velocity=< 1,  2>\n",
    "position=< 1,  4> velocity=< 2,  1>\n",
    "position=<-2,  7> velocity=< 2, -2>\n",
    "position=< 3,  6> velocity=<-1, -1>\n",
    "position=< 5,  0> velocity=< 1,  0>\n",
    "position=<-6,  0> velocity=< 2,  0>\n",
    "position=< 5,  9> velocity=< 1, -2>\n",
    "position=<14,  7> velocity=<-2,  0>\n",
    "position=<-3,  6> velocity=< 2, -1>\"\"\".split('\\n')"
   ]
  },
  {
   "cell_type": "code",
   "execution_count": 5,
   "metadata": {},
   "outputs": [
    {
     "data": {
      "text/plain": [
       "(['position=< 9,  1> velocity=< 0,  2>',\n",
       "  'position=< 7,  0> velocity=<-1,  0>'],\n",
       " ['position=<14,  7> velocity=<-2,  0>',\n",
       "  'position=<-3,  6> velocity=< 2, -1>'])"
      ]
     },
     "execution_count": 5,
     "metadata": {},
     "output_type": "execute_result"
    }
   ],
   "source": [
    "testdata[:2], testdata[-2:]"
   ]
  },
  {
   "cell_type": "code",
   "execution_count": 6,
   "metadata": {},
   "outputs": [],
   "source": [
    "def parseline(line):\n",
    "    nums = [int(x) for x in re.split(r'[^\\d-]+', line) if x]\n",
    "    return tuple(nums[:2]), tuple(nums[2:])"
   ]
  },
  {
   "cell_type": "code",
   "execution_count": 7,
   "metadata": {},
   "outputs": [
    {
     "data": {
      "text/plain": [
       "((7, 0), (-1, 0))"
      ]
     },
     "execution_count": 7,
     "metadata": {},
     "output_type": "execute_result"
    }
   ],
   "source": [
    "parseline(testdata[1])"
   ]
  },
  {
   "cell_type": "code",
   "execution_count": 8,
   "metadata": {},
   "outputs": [],
   "source": [
    "testpvs = [parseline(x) for x in testdata]"
   ]
  },
  {
   "cell_type": "code",
   "execution_count": 9,
   "metadata": {},
   "outputs": [
    {
     "data": {
      "text/plain": [
       "([((9, 1), (0, 2)), ((7, 0), (-1, 0)), ((3, -2), (-1, 1))],\n",
       " [((5, 9), (1, -2)), ((14, 7), (-2, 0)), ((-3, 6), (2, -1))])"
      ]
     },
     "execution_count": 9,
     "metadata": {},
     "output_type": "execute_result"
    }
   ],
   "source": [
    "testpvs[:3], testpvs[-3:]"
   ]
  },
  {
   "cell_type": "code",
   "execution_count": 10,
   "metadata": {},
   "outputs": [],
   "source": [
    "def getpointset(pvs):\n",
    "    return {p for (p, v) in pvs}"
   ]
  },
  {
   "cell_type": "code",
   "execution_count": 11,
   "metadata": {},
   "outputs": [],
   "source": [
    "def getedges(points):\n",
    "    return {\n",
    "        'xmin': min(x for (x, y) in points),\n",
    "        'xmax': max(x for (x, y) in points),\n",
    "        'ymin': min(y for (x, y) in points),\n",
    "        'ymax': max(y for (x, y) in points),\n",
    "    }"
   ]
  },
  {
   "cell_type": "code",
   "execution_count": 12,
   "metadata": {},
   "outputs": [
    {
     "data": {
      "text/plain": [
       "{'xmin': -6, 'xmax': 15, 'ymin': -4, 'ymax': 11}"
      ]
     },
     "execution_count": 12,
     "metadata": {},
     "output_type": "execute_result"
    }
   ],
   "source": [
    "getedges({p for (p, v) in testpvs})"
   ]
  },
  {
   "cell_type": "code",
   "execution_count": 13,
   "metadata": {},
   "outputs": [],
   "source": [
    "def printpointset(pointset, edges=None):\n",
    "    if edges is None:\n",
    "        edges = getedges(pointset)\n",
    "    lines = []\n",
    "    for y in range(edges['ymin'], edges['ymax'] + 1):\n",
    "        xs = [('#' if (x, y) in pointset else '.') for x in range(edges['xmin'], edges['xmax'] + 1)]\n",
    "        lines.append(''.join(xs))\n",
    "    print('\\n'.join(lines))\n",
    "    "
   ]
  },
  {
   "cell_type": "code",
   "execution_count": 14,
   "metadata": {},
   "outputs": [
    {
     "name": "stdout",
     "output_type": "stream",
     "text": [
      "........#.............\n",
      "................#.....\n",
      ".........#.#..#.......\n",
      "......................\n",
      "#..........#.#.......#\n",
      "...............#......\n",
      "....#.................\n",
      "..#.#....#............\n",
      ".......#..............\n",
      "......#...............\n",
      "...#...#.#...#........\n",
      "....#..#..#.........#.\n",
      ".......#..............\n",
      "...........#..#.......\n",
      "#...........#.........\n",
      "...#.......#..........\n"
     ]
    }
   ],
   "source": [
    "printpointset(getpointset(testpvs))"
   ]
  },
  {
   "cell_type": "code",
   "execution_count": 15,
   "metadata": {},
   "outputs": [],
   "source": [
    "def tick(pvs):\n",
    "    newpvs = []\n",
    "    for p, v in pvs:\n",
    "        px, py = p\n",
    "        vx, vy = v\n",
    "        newpvs.append(((px+vx, py+vy), v))\n",
    "    return newpvs"
   ]
  },
  {
   "cell_type": "code",
   "execution_count": 16,
   "metadata": {},
   "outputs": [],
   "source": [
    "newpvs = tick(testpvs)"
   ]
  },
  {
   "cell_type": "code",
   "execution_count": 17,
   "metadata": {},
   "outputs": [
    {
     "name": "stdout",
     "output_type": "stream",
     "text": [
      "..........#...\n",
      "#..#...####..#\n",
      "..............\n",
      "....#....#....\n",
      "..#.#.........\n",
      "...#...#......\n",
      "...#..#..#.#..\n",
      "#....#.#......\n",
      ".#...#...##.#.\n",
      "....#.........\n"
     ]
    }
   ],
   "source": [
    "newpvs = tick(newpvs)\n",
    "printpointset(getpointset(newpvs))"
   ]
  },
  {
   "cell_type": "code",
   "execution_count": 18,
   "metadata": {},
   "outputs": [],
   "source": [
    "pvs = [parseline(x) for x in data]"
   ]
  },
  {
   "cell_type": "code",
   "execution_count": 19,
   "metadata": {},
   "outputs": [
    {
     "data": {
      "text/plain": [
       "304"
      ]
     },
     "execution_count": 19,
     "metadata": {},
     "output_type": "execute_result"
    }
   ],
   "source": [
    "len(pvs)"
   ]
  },
  {
   "cell_type": "code",
   "execution_count": 20,
   "metadata": {},
   "outputs": [
    {
     "data": {
      "text/plain": [
       "{'xmin': -50601, 'xmax': 50900, 'ymin': -50580, 'ymax': 50869}"
      ]
     },
     "execution_count": 20,
     "metadata": {},
     "output_type": "execute_result"
    }
   ],
   "source": [
    "getedges(getpointset(pvs))"
   ]
  },
  {
   "cell_type": "code",
   "execution_count": 21,
   "metadata": {},
   "outputs": [],
   "source": [
    "def getwidth(pvs):\n",
    "    edges = getedges(getpointset(pvs))\n",
    "    return edges['xmax'] - edges['xmin']"
   ]
  },
  {
   "cell_type": "code",
   "execution_count": 22,
   "metadata": {},
   "outputs": [
    {
     "data": {
      "text/plain": [
       "101501"
      ]
     },
     "execution_count": 22,
     "metadata": {},
     "output_type": "execute_result"
    }
   ],
   "source": [
    "width = getwidth(pvs)\n",
    "width"
   ]
  },
  {
   "cell_type": "code",
   "execution_count": 42,
   "metadata": {},
   "outputs": [
    {
     "name": "stdout",
     "output_type": "stream",
     "text": [
      "Min width is 61 at tickcount 10144\n"
     ]
    }
   ],
   "source": [
    "pvs = [parseline(x) for x in data]\n",
    "width = getwidth(pvs) + 1\n",
    "tickcount = 0\n",
    "while True:\n",
    "    pvs = tick(pvs)\n",
    "    newwidth = getwidth(pvs)\n",
    "    tickcount += 1\n",
    "    if newwidth > width:\n",
    "        legibletickcount = tickcount -1\n",
    "        print('Min width is', width, 'at tickcount', legibletickcount)\n",
    "        break\n",
    "    width = newwidth"
   ]
  },
  {
   "cell_type": "code",
   "execution_count": 44,
   "metadata": {},
   "outputs": [
    {
     "name": "stdout",
     "output_type": "stream",
     "text": [
      ".####....####...#.......######..#.......#....#...####...######\n",
      "#....#..#....#..#............#..#.......#....#..#....#..#.....\n",
      "#.......#.......#............#..#.......#....#..#.......#.....\n",
      "#.......#.......#...........#...#.......#....#..#.......#.....\n",
      "#.......#.......#..........#....#.......######..#.......#####.\n",
      "#..###..#..###..#.........#.....#.......#....#..#.......#.....\n",
      "#....#..#....#..#........#......#.......#....#..#.......#.....\n",
      "#....#..#....#..#.......#.......#.......#....#..#.......#.....\n",
      "#...##..#...##..#.......#.......#.......#....#..#....#..#.....\n",
      ".###.#...###.#..######..######..######..#....#...####...######\n"
     ]
    }
   ],
   "source": [
    "pvs = [parseline(x) for x in data]\n",
    "tickcount = 0\n",
    "while True:\n",
    "    pvs = tick(pvs)\n",
    "    tickcount += 1\n",
    "    if tickcount == legibletickcount:\n",
    "        printpointset(getpointset(pvs))\n",
    "        break"
   ]
  }
 ],
 "metadata": {
  "hide_input": false,
  "kernelspec": {
   "display_name": "Python 3",
   "language": "python",
   "name": "python3"
  },
  "language_info": {
   "codemirror_mode": {
    "name": "ipython",
    "version": 3
   },
   "file_extension": ".py",
   "mimetype": "text/x-python",
   "name": "python",
   "nbconvert_exporter": "python",
   "pygments_lexer": "ipython3",
   "version": "3.8.5"
  }
 },
 "nbformat": 4,
 "nbformat_minor": 4
}
