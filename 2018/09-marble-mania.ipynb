{
 "cells": [
  {
   "cell_type": "markdown",
   "metadata": {},
   "source": [
    "https://adventofcode.com/2018/day/9"
   ]
  },
  {
   "cell_type": "code",
   "execution_count": 1,
   "metadata": {},
   "outputs": [],
   "source": [
    "data = {'nplayers': 413, 'maxmarble': 71082}"
   ]
  },
  {
   "cell_type": "code",
   "execution_count": 2,
   "metadata": {},
   "outputs": [],
   "source": [
    "import numpy as np"
   ]
  },
  {
   "cell_type": "code",
   "execution_count": 3,
   "metadata": {},
   "outputs": [],
   "source": [
    "nplayers = 413\n",
    "maxmarble = 71082 * 100\n",
    "score_modulus = 23\n",
    "backup = 7"
   ]
  },
  {
   "cell_type": "code",
   "execution_count": 10,
   "metadata": {},
   "outputs": [
    {
     "name": "stdout",
     "output_type": "stream",
     "text": [
      "CPU times: user 5.72 s, sys: 3.57 ms, total: 5.72 s\n",
      "Wall time: 5.72 s\n"
     ]
    },
    {
     "data": {
      "text/plain": [
       "3498287922"
      ]
     },
     "execution_count": 10,
     "metadata": {},
     "output_type": "execute_result"
    }
   ],
   "source": [
    "%%time\n",
    "\n",
    "# Pretty fast circular double linked list \n",
    "# Array indices are marble values, array values are pointers\n",
    "\n",
    "nexts = np.empty(maxmarble+2, dtype=np.int)\n",
    "nexts[0] = 0\n",
    "\n",
    "prevs = np.empty(maxmarble+2, dtype=np.int)\n",
    "prevs[0] = 0\n",
    "\n",
    "players = np.zeros(nplayers, dtype=np.int)\n",
    "\n",
    "current = 0\n",
    "\n",
    "def insert(marble, predecessor):\n",
    "    oldnext = nexts[predecessor]\n",
    "    nexts[predecessor] = marble\n",
    "    nexts[marble] = oldnext\n",
    "    prevs[marble] = predecessor\n",
    "    prevs[oldnext] = marble\n",
    "\n",
    "def remove(marble):\n",
    "    oldnext = nexts[marble]\n",
    "    oldprev = prevs[marble]\n",
    "    nexts[oldprev] = oldnext\n",
    "    prevs[oldnext] = oldprev\n",
    "\n",
    "    \n",
    "for marble in range(1, maxmarble+1):\n",
    "    if marble % score_modulus:\n",
    "        insert(marble, nexts[current])\n",
    "        current = marble\n",
    "    else:\n",
    "        player = marble % nplayers\n",
    "        players[player] += marble\n",
    "        for _ in range(backup - 1):\n",
    "            current = prevs[current]\n",
    "        topop = prevs[current]\n",
    "        remove(topop)\n",
    "        players[player] += topop\n",
    "        \n",
    "max(players)"
   ]
  }
 ],
 "metadata": {
  "hide_input": false,
  "kernelspec": {
   "display_name": "Python 3",
   "language": "python",
   "name": "python3"
  },
  "language_info": {
   "codemirror_mode": {
    "name": "ipython",
    "version": 3
   },
   "file_extension": ".py",
   "mimetype": "text/x-python",
   "name": "python",
   "nbconvert_exporter": "python",
   "pygments_lexer": "ipython3",
   "version": "3.8.5"
  }
 },
 "nbformat": 4,
 "nbformat_minor": 4
}
