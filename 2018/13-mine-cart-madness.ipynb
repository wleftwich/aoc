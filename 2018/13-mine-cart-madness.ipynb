{
 "cells": [
  {
   "cell_type": "markdown",
   "metadata": {},
   "source": [
    "https://adventofcode.com/2018/day/13"
   ]
  },
  {
   "cell_type": "code",
   "execution_count": 62,
   "metadata": {},
   "outputs": [],
   "source": [
    "with open('data/13-1.txt') as fh:\n",
    "    data = fh.read()"
   ]
  },
  {
   "cell_type": "code",
   "execution_count": 78,
   "metadata": {},
   "outputs": [],
   "source": [
    "from collections import Counter"
   ]
  },
  {
   "cell_type": "code",
   "execution_count": 65,
   "metadata": {},
   "outputs": [],
   "source": [
    "drxnlookup = {\n",
    "    '>': 1,\n",
    "    '^': 0+1j,\n",
    "    '<': -1,\n",
    "    'v': 0-1j\n",
    "}\n",
    "\n",
    "turnlookup = {\n",
    "    (1, '/'): 0+1j,\n",
    "    (0+1j, '/'): 1,\n",
    "    (-1, '/'): 0-1j,    \n",
    "    (0-1j, '/'): -1,\n",
    "\n",
    "    (1, '\\\\'): 0-1j,\n",
    "    (0-1j, '\\\\'): 1,\n",
    "    (-1, '\\\\'): 0+1j,\n",
    "    (0+1j, '\\\\'): -1\n",
    "}"
   ]
  },
  {
   "cell_type": "code",
   "execution_count": 66,
   "metadata": {},
   "outputs": [],
   "source": [
    "class Cart:\n",
    "    def __init__(self, track, pos, drxnstr):\n",
    "        self.track = track\n",
    "        self.pos = self.original_pos = pos\n",
    "        self.drxn = drxnlookup[drxnstr]\n",
    "        \n",
    "        self.intersections = 0\n",
    "        self.dead = False\n",
    "        \n",
    "    def tick(self):\n",
    "        self.pos = self.pos + self.drxn\n",
    "        symbol = self.track.get(self.pos)\n",
    "        if symbol == '+':\n",
    "            self.drxn = self.drxn * [0+1j, 1, 0-1j][self.intersections % 3]\n",
    "            self.intersections += 1\n",
    "        elif symbol in ('/', '\\\\'):\n",
    "            self.drxn = turnlookup[(self.drxn, symbol)]\n",
    "\n",
    "    def __repr__(self):\n",
    "        return '<Cart at %s headed %s>' % (self.pos, self.drxn)\n"
   ]
  },
  {
   "cell_type": "code",
   "execution_count": 67,
   "metadata": {},
   "outputs": [],
   "source": [
    "def initialize(data=data):\n",
    "    track = {}\n",
    "    carts = []\n",
    "    for (y, line) in enumerate(data.split('\\n')):\n",
    "        for (x, c) in enumerate(line.rstrip()):\n",
    "            if c in ('+', '/', '\\\\'):\n",
    "                track[complex(x, -y)] = c\n",
    "            elif c in ('>', '^', '<', 'v'):\n",
    "                cart = Cart(track, complex(x, -y), c)\n",
    "                carts.append(cart)\n",
    "    for cart in carts:\n",
    "        cart.track = track\n",
    "    return track, carts"
   ]
  },
  {
   "cell_type": "code",
   "execution_count": 68,
   "metadata": {},
   "outputs": [],
   "source": [
    "def tick(carts):\n",
    "    for cart in sorted(carts, key=lambda x: (-x.pos.imag, x.pos.real)):\n",
    "        cart.tick()\n",
    "        ctr = Counter(c.pos for c in carts)\n",
    "        if len(ctr) != len(carts):\n",
    "            raise Exception(\"Collision %s\" % ctr.most_common())"
   ]
  },
  {
   "cell_type": "code",
   "execution_count": 69,
   "metadata": {},
   "outputs": [],
   "source": [
    "testdata = (\n",
    "r\"\"\"/->-\\        \n",
    "|   |  /----\\\n",
    "| /-+--+-\\  |\n",
    "| | |  | v  |\n",
    "\\-+-/  \\-+--/\n",
    "  \\------/   \n",
    "\"\"\")"
   ]
  },
  {
   "cell_type": "code",
   "execution_count": 70,
   "metadata": {},
   "outputs": [],
   "source": [
    "track, carts = initialize(testdata)"
   ]
  },
  {
   "cell_type": "code",
   "execution_count": 71,
   "metadata": {
    "scrolled": true
   },
   "outputs": [
    {
     "name": "stdout",
     "output_type": "stream",
     "text": [
      "/ > \\           \n",
      "       /    \\   \n",
      "  / +  + \\      \n",
      "         v      \n",
      "\\ + /  \\ +  /   \n",
      "  \\      /      \n",
      "                \n",
      "                \n"
     ]
    }
   ],
   "source": [
    "turn_symbol_lookup = {v: k for (k, v) in drxnlookup.items()}\n",
    "cart_symbols = {c.pos: turn_symbol_lookup[c.drxn] for c in carts}\n",
    "\n",
    "t1 = track.copy()\n",
    "t1.update(cart_symbols)\n",
    "for y in range(8):\n",
    "    line = [t1.get(complex(x, -y), ' ') for x in range(16)]\n",
    "    print(''.join(line))\n",
    "\n",
    "for cart in carts:\n",
    "    cart.tick()    "
   ]
  },
  {
   "cell_type": "code",
   "execution_count": 72,
   "metadata": {},
   "outputs": [
    {
     "ename": "Exception",
     "evalue": "Collision [((7-3j), 2)]",
     "output_type": "error",
     "traceback": [
      "\u001b[0;31m---------------------------------------------------------------------------\u001b[0m",
      "\u001b[0;31mException\u001b[0m                                 Traceback (most recent call last)",
      "\u001b[0;32m<ipython-input-72-dfdbd6aeb3e4>\u001b[0m in \u001b[0;36m<module>\u001b[0;34m\u001b[0m\n\u001b[1;32m      1\u001b[0m \u001b[0;32mfor\u001b[0m \u001b[0m_\u001b[0m \u001b[0;32min\u001b[0m \u001b[0mrange\u001b[0m\u001b[0;34m(\u001b[0m\u001b[0;36m1_000_000\u001b[0m\u001b[0;34m)\u001b[0m\u001b[0;34m:\u001b[0m\u001b[0;34m\u001b[0m\u001b[0;34m\u001b[0m\u001b[0m\n\u001b[0;32m----> 2\u001b[0;31m     \u001b[0mtick\u001b[0m\u001b[0;34m(\u001b[0m\u001b[0mcarts\u001b[0m\u001b[0;34m)\u001b[0m\u001b[0;34m\u001b[0m\u001b[0;34m\u001b[0m\u001b[0m\n\u001b[0m",
      "\u001b[0;32m<ipython-input-68-0d23a24c40d0>\u001b[0m in \u001b[0;36mtick\u001b[0;34m(carts)\u001b[0m\n\u001b[1;32m      4\u001b[0m         \u001b[0mctr\u001b[0m \u001b[0;34m=\u001b[0m \u001b[0mCounter\u001b[0m\u001b[0;34m(\u001b[0m\u001b[0mc\u001b[0m\u001b[0;34m.\u001b[0m\u001b[0mpos\u001b[0m \u001b[0;32mfor\u001b[0m \u001b[0mc\u001b[0m \u001b[0;32min\u001b[0m \u001b[0mcarts\u001b[0m\u001b[0;34m)\u001b[0m\u001b[0;34m\u001b[0m\u001b[0;34m\u001b[0m\u001b[0m\n\u001b[1;32m      5\u001b[0m         \u001b[0;32mif\u001b[0m \u001b[0mlen\u001b[0m\u001b[0;34m(\u001b[0m\u001b[0mctr\u001b[0m\u001b[0;34m)\u001b[0m \u001b[0;34m!=\u001b[0m \u001b[0mlen\u001b[0m\u001b[0;34m(\u001b[0m\u001b[0mcarts\u001b[0m\u001b[0;34m)\u001b[0m\u001b[0;34m:\u001b[0m\u001b[0;34m\u001b[0m\u001b[0;34m\u001b[0m\u001b[0m\n\u001b[0;32m----> 6\u001b[0;31m             \u001b[0;32mraise\u001b[0m \u001b[0mException\u001b[0m\u001b[0;34m(\u001b[0m\u001b[0;34m\"Collision %s\"\u001b[0m \u001b[0;34m%\u001b[0m \u001b[0mctr\u001b[0m\u001b[0;34m.\u001b[0m\u001b[0mmost_common\u001b[0m\u001b[0;34m(\u001b[0m\u001b[0;34m)\u001b[0m\u001b[0;34m)\u001b[0m\u001b[0;34m\u001b[0m\u001b[0;34m\u001b[0m\u001b[0m\n\u001b[0m",
      "\u001b[0;31mException\u001b[0m: Collision [((7-3j), 2)]"
     ]
    }
   ],
   "source": [
    "for _ in range(1_000_000):\n",
    "    tick(carts)\n"
   ]
  },
  {
   "cell_type": "code",
   "execution_count": 73,
   "metadata": {},
   "outputs": [],
   "source": [
    "track, carts = initialize(data)"
   ]
  },
  {
   "cell_type": "code",
   "execution_count": 74,
   "metadata": {},
   "outputs": [
    {
     "ename": "Exception",
     "evalue": "Collision [((39-52j), 2), ((108-28j), 1), ((93-116j), 1), ((31-82j), 1), ((62-64j), 1), ((3-58j), 1), ((47-99j), 1), ((58-49j), 1), ((89-83j), 1), ((90-114j), 1), ((21-55j), 1), ((122-98j), 1), ((22-109j), 1), ((73-120j), 1), ((119-124j), 1), ((53-120j), 1)]",
     "output_type": "error",
     "traceback": [
      "\u001b[0;31m---------------------------------------------------------------------------\u001b[0m",
      "\u001b[0;31mException\u001b[0m                                 Traceback (most recent call last)",
      "\u001b[0;32m<ipython-input-74-dfdbd6aeb3e4>\u001b[0m in \u001b[0;36m<module>\u001b[0;34m\u001b[0m\n\u001b[1;32m      1\u001b[0m \u001b[0;32mfor\u001b[0m \u001b[0m_\u001b[0m \u001b[0;32min\u001b[0m \u001b[0mrange\u001b[0m\u001b[0;34m(\u001b[0m\u001b[0;36m1_000_000\u001b[0m\u001b[0;34m)\u001b[0m\u001b[0;34m:\u001b[0m\u001b[0;34m\u001b[0m\u001b[0;34m\u001b[0m\u001b[0m\n\u001b[0;32m----> 2\u001b[0;31m     \u001b[0mtick\u001b[0m\u001b[0;34m(\u001b[0m\u001b[0mcarts\u001b[0m\u001b[0;34m)\u001b[0m\u001b[0;34m\u001b[0m\u001b[0;34m\u001b[0m\u001b[0m\n\u001b[0m",
      "\u001b[0;32m<ipython-input-68-0d23a24c40d0>\u001b[0m in \u001b[0;36mtick\u001b[0;34m(carts)\u001b[0m\n\u001b[1;32m      4\u001b[0m         \u001b[0mctr\u001b[0m \u001b[0;34m=\u001b[0m \u001b[0mCounter\u001b[0m\u001b[0;34m(\u001b[0m\u001b[0mc\u001b[0m\u001b[0;34m.\u001b[0m\u001b[0mpos\u001b[0m \u001b[0;32mfor\u001b[0m \u001b[0mc\u001b[0m \u001b[0;32min\u001b[0m \u001b[0mcarts\u001b[0m\u001b[0;34m)\u001b[0m\u001b[0;34m\u001b[0m\u001b[0;34m\u001b[0m\u001b[0m\n\u001b[1;32m      5\u001b[0m         \u001b[0;32mif\u001b[0m \u001b[0mlen\u001b[0m\u001b[0;34m(\u001b[0m\u001b[0mctr\u001b[0m\u001b[0;34m)\u001b[0m \u001b[0;34m!=\u001b[0m \u001b[0mlen\u001b[0m\u001b[0;34m(\u001b[0m\u001b[0mcarts\u001b[0m\u001b[0;34m)\u001b[0m\u001b[0;34m:\u001b[0m\u001b[0;34m\u001b[0m\u001b[0;34m\u001b[0m\u001b[0m\n\u001b[0;32m----> 6\u001b[0;31m             \u001b[0;32mraise\u001b[0m \u001b[0mException\u001b[0m\u001b[0;34m(\u001b[0m\u001b[0;34m\"Collision %s\"\u001b[0m \u001b[0;34m%\u001b[0m \u001b[0mctr\u001b[0m\u001b[0;34m.\u001b[0m\u001b[0mmost_common\u001b[0m\u001b[0;34m(\u001b[0m\u001b[0;34m)\u001b[0m\u001b[0;34m)\u001b[0m\u001b[0;34m\u001b[0m\u001b[0;34m\u001b[0m\u001b[0m\n\u001b[0m",
      "\u001b[0;31mException\u001b[0m: Collision [((39-52j), 2), ((108-28j), 1), ((93-116j), 1), ((31-82j), 1), ((62-64j), 1), ((3-58j), 1), ((47-99j), 1), ((58-49j), 1), ((89-83j), 1), ((90-114j), 1), ((21-55j), 1), ((122-98j), 1), ((22-109j), 1), ((73-120j), 1), ((119-124j), 1), ((53-120j), 1)]"
     ]
    }
   ],
   "source": [
    "for _ in range(1_000_000):\n",
    "    tick(carts)"
   ]
  },
  {
   "cell_type": "code",
   "execution_count": 75,
   "metadata": {},
   "outputs": [],
   "source": [
    "def tick2(carts):\n",
    "    carts.sort(key=lambda x: (-x.pos.imag, x.pos.real))\n",
    "    for cart in carts:\n",
    "        if cart.dead:\n",
    "            continue\n",
    "        cart.tick()\n",
    "        ctr = Counter(cart.pos for cart in carts if not cart.dead)\n",
    "        for pos, ct in ctr.most_common():\n",
    "            if ct == 1:\n",
    "                break\n",
    "            for cart in carts:\n",
    "                if cart.pos == pos:\n",
    "                    cart.dead = True\n",
    "    return [cart for cart in carts if not cart.dead]\n",
    "    "
   ]
  },
  {
   "cell_type": "code",
   "execution_count": 76,
   "metadata": {},
   "outputs": [],
   "source": [
    "track, carts = initialize(data)"
   ]
  },
  {
   "cell_type": "code",
   "execution_count": 77,
   "metadata": {},
   "outputs": [
    {
     "name": "stdout",
     "output_type": "stream",
     "text": [
      "[<Cart at (133-146j) headed (1+0j)>]\n"
     ]
    }
   ],
   "source": [
    "for _ in range(1_000_000):\n",
    "    carts = tick2(carts)\n",
    "    if len(carts) == 1:\n",
    "        break\n",
    "print(carts)        "
   ]
  }
 ],
 "metadata": {
  "hide_input": false,
  "kernelspec": {
   "display_name": "Python 3",
   "language": "python",
   "name": "python3"
  },
  "language_info": {
   "codemirror_mode": {
    "name": "ipython",
    "version": 3
   },
   "file_extension": ".py",
   "mimetype": "text/x-python",
   "name": "python",
   "nbconvert_exporter": "python",
   "pygments_lexer": "ipython3",
   "version": "3.8.5"
  }
 },
 "nbformat": 4,
 "nbformat_minor": 4
}
