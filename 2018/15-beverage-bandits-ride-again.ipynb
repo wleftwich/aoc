{
 "cells": [
  {
   "cell_type": "markdown",
   "metadata": {},
   "source": [
    "https://adventofcode.com/2018/day/15"
   ]
  },
  {
   "cell_type": "code",
   "execution_count": 36,
   "metadata": {},
   "outputs": [],
   "source": [
    "from dataclasses import dataclass\n",
    "from collections import deque\n",
    "from toolz import concat"
   ]
  },
  {
   "cell_type": "code",
   "execution_count": 4,
   "metadata": {},
   "outputs": [],
   "source": [
    "with open('data/15-1.txt') as fh:\n",
    "    data = fh.read()"
   ]
  },
  {
   "cell_type": "code",
   "execution_count": 5,
   "metadata": {},
   "outputs": [
    {
     "name": "stdout",
     "output_type": "stream",
     "text": [
      "################################\n",
      "#####################...########\n",
      "###################....G########\n",
      "###################....#########\n",
      "#######.##########......########\n",
      "#######G#########........#######\n",
      "#######G#######.G.........######\n",
      "#######.######..G.........######\n",
      "#######.......##.G...G.G..######\n",
      "########..##..#....G......G#####\n",
      "############...#.....G.....#####\n",
      "#...#######..........G.#...#####\n",
      "#...#######...#####G......######\n",
      "##...######..#######G.....#.##.#\n",
      "###.G.#####.#########G.........#\n",
      "###G..#####.#########.......#.E#\n",
      "###..######.#########..........#\n",
      "###.......#.#########.....E..E.#\n",
      "#####G...#..#########.......#..#\n",
      "####.G.#.#...#######.....G.....#\n",
      "########......#####...........##\n",
      "###########..................###\n",
      "##########.................#####\n",
      "##########.................#####\n",
      "############..E.........E.....##\n",
      "############.........E........##\n",
      "###############.#............E##\n",
      "##################...E..E..##.##\n",
      "####################.#E..####.##\n",
      "################.....######...##\n",
      "#################.#..###########\n",
      "################################\n",
      "\n"
     ]
    }
   ],
   "source": [
    "print(data)"
   ]
  },
  {
   "cell_type": "code",
   "execution_count": 6,
   "metadata": {},
   "outputs": [],
   "source": [
    "@dataclass(repr=True, order=True, frozen=True)\n",
    "class Pt:\n",
    "    row: int\n",
    "    col: int\n",
    "\n",
    "    @property\n",
    "    def neighbors(self):\n",
    "        \"\"\"Sorted neighbor coords\"\"\"\n",
    "        return [\n",
    "            Pt(self.row - 1, self.col),\n",
    "            Pt(self.row, self.col - 1),\n",
    "            Pt(self.row, self.col + 1),\n",
    "            Pt(self.row + 1, self.col)\n",
    "        ]\n",
    "\n",
    "\n",
    "@dataclass(repr=True)\n",
    "class Fighter:\n",
    "    team: str\n",
    "    hp: int = 200\n",
    "    ap: int = 3\n",
    "    alive: bool = True\n",
    "    \n",
    "    \n",
    "class GameOver(Exception):\n",
    "    pass"
   ]
  },
  {
   "cell_type": "code",
   "execution_count": 8,
   "metadata": {},
   "outputs": [],
   "source": [
    "def load_data(data):\n",
    "    cave = set()\n",
    "    fighters = {}\n",
    "    for i, line in enumerate(data.split('\\n')):\n",
    "        for j, c in enumerate(line):\n",
    "            if c in ('.', 'G', 'E'):\n",
    "                pt = Pt(i, j)\n",
    "                cave.add(pt)\n",
    "                if c in ('G', 'E'):\n",
    "                    fighters[pt] = Fighter(c)\n",
    "   \n",
    "    return cave, fighters\n"
   ]
  },
  {
   "cell_type": "code",
   "execution_count": 9,
   "metadata": {},
   "outputs": [],
   "source": [
    "cave, fighters = load_data(data)"
   ]
  },
  {
   "cell_type": "code",
   "execution_count": 33,
   "metadata": {},
   "outputs": [],
   "source": [
    "def shortest_path(node, goal, cave, fighters):\n",
    "    q = deque([(node,)])\n",
    "    visited = set()\n",
    "    while q:\n",
    "        pth = q.popleft()\n",
    "        node = pth[-1]\n",
    "        if node in visited:\n",
    "            continue\n",
    "        for nabe in node.neighbors:\n",
    "            if nabe == goal:\n",
    "                return pth + (nabe,)\n",
    "            if nabe not in cave or nabe in fighters:\n",
    "                continue\n",
    "            q.append(pth + (nabe,))\n",
    "        visited.add(node)"
   ]
  },
  {
   "cell_type": "code",
   "execution_count": 48,
   "metadata": {},
   "outputs": [],
   "source": [
    "def turn(mypt, cave, fighters):\n",
    "    print('.', end='')\n",
    "    try:\n",
    "        me = fighters[mypt]\n",
    "    except KeyError: # already dead\n",
    "        return\n",
    "\n",
    "    enemy_team = 'G' if me.team == 'E' else 'E'\n",
    "    enemies = {k:v for k, v in fighters.items() if v.team == enemy_team}\n",
    "    if not enemies:\n",
    "        raise GameOver\n",
    "    \n",
    "    def attack(foept):\n",
    "        foe = fighters[foept]\n",
    "        foe.hp -= me.ap\n",
    "        if foe.hp <= 0:\n",
    "            foe.alive = False\n",
    "            del fighters[foept]\n",
    "            del enemies[foept]\n",
    "\n",
    "    attackable = [(enemies[nabe].hp, nabe) for nabe in mypt.neighbors if nabe in enemies and nabe in cave]        \n",
    "    if attackable:\n",
    "        _, foept = min(attackable)\n",
    "        attack(foept)\n",
    "        return\n",
    "    \n",
    "    targets = [x for x in set(concat(e.neighbors for e in enemies)) if x in cave and x not in fighters]\n",
    "    startingpts = [x for x in mypt.neighbors if x in cave and x not in fighters]\n",
    "    attack_paths = []\n",
    "    for sp in startingpts:\n",
    "        for tgt in targets:\n",
    "            pth = shortest_path(sp, tgt, cave, fighters)\n",
    "            if pth:\n",
    "                attack_paths.append((len(pth), pth[-1], pth[0]))\n",
    "    if not attack_paths:\n",
    "        return\n",
    "    \n",
    "    _, _, moveto = min(attack_paths)\n",
    "    \n",
    "    del fighters[mypt]\n",
    "    fighters[moveto] = me\n",
    "    mypt = moveto\n",
    "\n",
    "    attackable = [(enemies[nabe].hp, nabe) for nabe in mypt.neighbors if nabe in enemies and nabe in cave]        \n",
    "    if attackable:\n",
    "        _, foept = min(attackable)\n",
    "        attack(foept)\n"
   ]
  },
  {
   "cell_type": "code",
   "execution_count": 39,
   "metadata": {},
   "outputs": [],
   "source": [
    "def round(cave, fighters):\n",
    "    for pt in sorted(fighters.keys()):\n",
    "        turn(pt, cave, fighters)"
   ]
  },
  {
   "cell_type": "code",
   "execution_count": null,
   "metadata": {},
   "outputs": [
    {
     "name": "stdout",
     "output_type": "stream",
     "text": [
      "......................................................................................................................................................................................................................................................................................................................................................................................................................................................................................................................................................................................................................................................................................................................................................................"
     ]
    }
   ],
   "source": [
    "(cave, fighters) = load_data(data)\n",
    "\n",
    "for i in range(1_000_000):\n",
    "    try:\n",
    "        round(cave, fighters)\n",
    "    except GameOver:\n",
    "        hps = sum(v.hp for v in fighters.values() if v.alive)\n",
    "        print(i, hps, i * hps)\n",
    "        break\n",
    "else:\n",
    "    print(i)"
   ]
  }
 ],
 "metadata": {
  "hide_input": false,
  "kernelspec": {
   "display_name": "Python 3",
   "language": "python",
   "name": "python3"
  },
  "language_info": {
   "codemirror_mode": {
    "name": "ipython",
    "version": 3
   },
   "file_extension": ".py",
   "mimetype": "text/x-python",
   "name": "python",
   "nbconvert_exporter": "python",
   "pygments_lexer": "ipython3",
   "version": "3.8.5"
  }
 },
 "nbformat": 4,
 "nbformat_minor": 4
}
